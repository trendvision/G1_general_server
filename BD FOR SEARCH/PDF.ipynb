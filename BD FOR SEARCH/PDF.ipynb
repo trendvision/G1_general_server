{
 "cells": [
  {
   "cell_type": "code",
   "execution_count": 11,
   "metadata": {},
   "outputs": [],
   "source": [
    "import re"
   ]
  },
  {
   "cell_type": "code",
   "execution_count": 12,
   "metadata": {},
   "outputs": [],
   "source": [
    "import pandas as pd\n",
    "import bson\n",
    "import pymongo\n",
    "from tqdm import tqdm\n",
    "tqdm.pandas()\n",
    "username = \"tagger-admin\"\n",
    "password = \"tvaiadmin\"\n",
    "db_client = pymongo.MongoClient('104.198.62.226', username=username,\n",
    "                                password=password,\n",
    "                                authSource='tags',\n",
    "                                authMechanism='SCRAM-SHA-256', port=27017).tags"
   ]
  },
  {
   "cell_type": "code",
   "execution_count": 13,
   "metadata": {},
   "outputs": [],
   "source": [
    "from tqdm import tqdm\n",
    "import urllib.request\n",
    "from PIL import Image"
   ]
  },
  {
   "cell_type": "code",
   "execution_count": 14,
   "metadata": {},
   "outputs": [],
   "source": [
    "def get_tags(_id):\n",
    "    info = db_client[\"tweets_pipeline_v2\"].find_one({\"_id\":bson.ObjectId(_id)})\n",
    "    tags = list(set(info[\"bert_tags\"] + info[\"entity_prepared\"]))\n",
    "    shifts = info[\"shifts_from_bert\"]\n",
    "    industries = info[\"industries_from_bert\"]\n",
    "    \n",
    "    return tags, shifts, industries"
   ]
  },
  {
   "cell_type": "code",
   "execution_count": 15,
   "metadata": {
    "scrolled": true
   },
   "outputs": [
    {
     "data": {
      "text/plain": [
       "''"
      ]
     },
     "execution_count": 15,
     "metadata": {},
     "output_type": "execute_result"
    }
   ],
   "source": [
    "# Import FPDF class\n",
    "from fpdf import FPDF\n",
    " \n",
    "# Import glob module to find all the files matching a pattern\n",
    "import glob\n",
    " \n",
    "# Image extensions\n",
    "# image_extensions = (\"*.png\", \"*.jpg\", \"*.gif\")\n",
    " \n",
    "image_extensions = (\"daily-shot/*.png\", \"daily-shot/*.jpg\", \"daily-shot/*.gif\")    \n",
    "# This list will hold the images file names\n",
    "# images = [\"more-landing-page-examples.jpg\",\n",
    "#           \"Everyday-Examples-of-Artificial-Intelligence-and-Machine-Learning-950x540.jpg\"]\n",
    "images = []\n",
    " \n",
    "# Build the image list by merging the glob results (a list of files)\n",
    "# for each extension. We are taking images from current folder.\n",
    "for extension in image_extensions:\n",
    "    images.extend(glob.glob(extension))\n",
    "    \n",
    "# Create instance of FPDF class\n",
    "pdf=FPDF('P','in','letter')\n",
    "# Add new page. Without this you cannot create the document.\n",
    "pdf.add_page()\n",
    "# Set font to Arial, 'B'old, 16 pts\n",
    "pdf.set_font('Arial','B',16.0)\n",
    " \n",
    "# Page header\n",
    "pdf.cell(4.0,1.0,'Images in this folder')\n",
    "pdf.ln(0.25)\n",
    " \n",
    "# Smaller font for image captions\n",
    "pdf.set_font('Arial','',10.0)\n",
    " \n",
    "# Loop through the image list and position\n",
    "# them with their caption one below the other\n",
    "\n",
    "\n",
    "for image in images[:100]:\n",
    "    \n",
    "    _id = re.sub(\"daily-shot/\", \"\", image)\n",
    "    _id = re.sub(\".png|.jpg\", \"\", _id)\n",
    "    tags, shifts, industries = get_tags(_id)\n",
    "\n",
    "    # Setting image width to half the page and\n",
    "    # height to 1/4th of the page\n",
    "    cover = Image.open(image)\n",
    "    width, height = cover.size\n",
    "    ratio = width/height\n",
    "    \n",
    "    imageH = pdf.h/4.0\n",
    "    imageW = imageH * ratio\n",
    "    \n",
    "    \n",
    "#     pdf.cell(3.0, 0.0, image)\n",
    "#     pdf.ln(0.15)\n",
    "    \n",
    "    pdf.image(image, w=imageW, h=imageH)\n",
    "    pdf.ln(0.25)\n",
    " \n",
    "    # Image caption\n",
    "    pdf.cell(3.0, 0.0, \"ID: \" + _id)\n",
    "    pdf.ln(0.35)\n",
    "    \n",
    "    \n",
    "    pdf.cell(3.0, 0.0, \"TAGS: \" + str(tags))\n",
    "    pdf.ln(0.35)\n",
    "    \n",
    "    pdf.cell(3.0, 0.0, \"SHIFTS: \"+ str(shifts))\n",
    "    pdf.ln(0.35)\n",
    "    \n",
    "    pdf.cell(3.0, 0.0, \"INDUSTRIES: \"+ str(industries))\n",
    "    pdf.ln(0.35)\n",
    "    \n",
    "    pdf.cell(3.0, 0.0, \"\")\n",
    "    pdf.ln(0.35)\n",
    "    \n",
    "# output content into a file ('F')\n",
    "pdf.output('daily-shot.pdf','F')"
   ]
  },
  {
   "cell_type": "code",
   "execution_count": null,
   "metadata": {},
   "outputs": [],
   "source": []
  },
  {
   "cell_type": "code",
   "execution_count": 107,
   "metadata": {},
   "outputs": [],
   "source": []
  },
  {
   "cell_type": "code",
   "execution_count": 114,
   "metadata": {},
   "outputs": [],
   "source": []
  },
  {
   "cell_type": "code",
   "execution_count": null,
   "metadata": {},
   "outputs": [],
   "source": []
  },
  {
   "cell_type": "code",
   "execution_count": null,
   "metadata": {},
   "outputs": [],
   "source": []
  },
  {
   "cell_type": "code",
   "execution_count": null,
   "metadata": {},
   "outputs": [],
   "source": []
  },
  {
   "cell_type": "code",
   "execution_count": null,
   "metadata": {},
   "outputs": [],
   "source": []
  },
  {
   "cell_type": "code",
   "execution_count": null,
   "metadata": {},
   "outputs": [],
   "source": []
  },
  {
   "cell_type": "code",
   "execution_count": null,
   "metadata": {},
   "outputs": [],
   "source": []
  },
  {
   "cell_type": "code",
   "execution_count": null,
   "metadata": {},
   "outputs": [],
   "source": []
  },
  {
   "cell_type": "code",
   "execution_count": null,
   "metadata": {},
   "outputs": [],
   "source": []
  },
  {
   "cell_type": "code",
   "execution_count": null,
   "metadata": {},
   "outputs": [],
   "source": []
  },
  {
   "cell_type": "code",
   "execution_count": null,
   "metadata": {},
   "outputs": [],
   "source": []
  },
  {
   "cell_type": "code",
   "execution_count": null,
   "metadata": {},
   "outputs": [],
   "source": []
  }
 ],
 "metadata": {
  "kernelspec": {
   "display_name": "Python 3",
   "language": "python",
   "name": "python3"
  },
  "language_info": {
   "codemirror_mode": {
    "name": "ipython",
    "version": 3
   },
   "file_extension": ".py",
   "mimetype": "text/x-python",
   "name": "python",
   "nbconvert_exporter": "python",
   "pygments_lexer": "ipython3",
   "version": "3.7.3"
  }
 },
 "nbformat": 4,
 "nbformat_minor": 4
}
