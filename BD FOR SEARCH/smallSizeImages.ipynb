{
 "cells": [
  {
   "cell_type": "code",
   "execution_count": 1,
   "metadata": {},
   "outputs": [],
   "source": [
    "from CheckGraphic import CheckGraphicID\n",
    "\n",
    "import warnings\n",
    "warnings.filterwarnings(\"ignore\")\n",
    "from collections import Counter\n",
    "import pandas as pd\n",
    "from sklearn.model_selection import train_test_split\n",
    "from sklearn.preprocessing import MultiLabelBinarizer\n",
    "import pymongo\n",
    "import bson\n",
    "import matplotlib.pyplot as plt\n",
    "import matplotlib\n",
    "import random\n",
    "from itertools import permutations\n",
    "from IPython.display import Image \n",
    "from IPython.core.display import Image, display\n",
    "username = \"tagger-admin\"\n",
    "password = \"tvaiadmin\"\n",
    "db_client = pymongo.MongoClient('104.198.62.226', username=username,\n",
    "                                password=password,\n",
    "                                authSource='tags',\n",
    "                                authMechanism='SCRAM-SHA-256', port=27017).tags"
   ]
  },
  {
   "cell_type": "code",
   "execution_count": 2,
   "metadata": {
    "scrolled": true
   },
   "outputs": [],
   "source": [
    "# for i in db_client[\"tweets_pipeline_v2\"].find({\"$or\": [{\"status\":\"pipelined\"},\n",
    "# #                                                            {\"status\":\"graphicone_feed\"}\n",
    "#                                                       ],\n",
    "#                                                        'source': 'sec',\n",
    "# #                                                    'approved_timestamp': {'$gte': end_date, '$lte': start_date},\n",
    "#                                                    }):\n",
    "#     print(i['_id'])\n",
    "#     print(i['entity_prepared']+i[\"bert_tags\"])    \n",
    "#     CheckGraphicID(i['_id'])\n",
    "\n"
   ]
  },
  {
   "cell_type": "code",
   "execution_count": 3,
   "metadata": {},
   "outputs": [],
   "source": [
    "import urllib.request\n",
    "from PIL import Image\n",
    "# url = 'http://www.example.com/my_image_is_not_your_image.png'\n",
    "# image = Image.open(urllib.request.urlopen(url))"
   ]
  },
  {
   "cell_type": "code",
   "execution_count": 4,
   "metadata": {},
   "outputs": [],
   "source": [
    "def sizeFilter(size):\n",
    "    width, height = image.size\n",
    "    if width < 350 or height < 350:\n",
    "        return False\n",
    "    else:\n",
    "        return True"
   ]
  },
  {
   "cell_type": "code",
   "execution_count": 5,
   "metadata": {},
   "outputs": [],
   "source": [
    "def small_size(_id):\n",
    "    db_client[\"tweets_pipeline_v2\"].update_one({\"_id\":bson.ObjectId(_id)},\n",
    "                                               {\"$set\":{\n",
    "                                                   'status': \"small_size\",\n",
    "                                                       }})      "
   ]
  },
  {
   "cell_type": "code",
   "execution_count": 7,
   "metadata": {},
   "outputs": [
    {
     "data": {
      "text/plain": [
       "9664"
      ]
     },
     "execution_count": 7,
     "metadata": {},
     "output_type": "execute_result"
    }
   ],
   "source": [
    "db = db_client[\"tweets_pipeline_v2\"].find(\n",
    "                                           {\"status\":\"pipelined\",\n",
    "#                                            \"source\":\"def\"\n",
    "                                           },\n",
    "    no_cursor_timeout=True)\n",
    "\n",
    "db.count()"
   ]
  },
  {
   "cell_type": "code",
   "execution_count": 8,
   "metadata": {},
   "outputs": [],
   "source": [
    "from tqdm import tqdm"
   ]
  },
  {
   "cell_type": "code",
   "execution_count": 9,
   "metadata": {
    "scrolled": false
   },
   "outputs": [
    {
     "name": "stderr",
     "output_type": "stream",
     "text": [
      " 98%|█████████▊| 9442/9664 [52:37<01:14,  2.99it/s]   \n"
     ]
    },
    {
     "data": {
      "text/plain": [
       "1329"
      ]
     },
     "execution_count": 9,
     "metadata": {},
     "output_type": "execute_result"
    }
   ],
   "source": [
    "counter = 0\n",
    "for i in tqdm(db, total = db.count()):\n",
    "    try:\n",
    "        image = Image.open(urllib.request.urlopen(i['img_urls']))\n",
    "        if not sizeFilter(image.size):\n",
    "            try:\n",
    "                small_size(str(i['_id']))\n",
    "                counter += 1\n",
    "    #             CheckGraphicID(i['_id'])\n",
    "            except Exception as err:\n",
    "                pass\n",
    "    except Exception as err:\n",
    "        pass\n",
    "\n",
    "             \n",
    "    \n",
    "#     try:\n",
    "#         image = Image.open(urllib.request.urlopen(i['img_urls']))\n",
    "#         if not sizeFilter(image.size):\n",
    "#             print(image.size)\n",
    "#             print(i['_id'])\n",
    "#             print(i[\"bert_tags\"])\n",
    "#     #         print(i['entity_prepared']+i[\"bert_tags\"])    \n",
    "#             CheckGraphicID(i['_id'])\n",
    "#     except Exception as err:\n",
    "#         pass\n",
    "# #     break\n",
    "counter"
   ]
  },
  {
   "cell_type": "code",
   "execution_count": 18,
   "metadata": {},
   "outputs": [
    {
     "data": {
      "text/plain": [
       "2281"
      ]
     },
     "execution_count": 18,
     "metadata": {},
     "output_type": "execute_result"
    }
   ],
   "source": [
    "db_client[\"tweets_pipeline_v2\"].find({'status': \"small_size\"}, no_cursor_timeout=True).count()"
   ]
  },
  {
   "cell_type": "code",
   "execution_count": null,
   "metadata": {},
   "outputs": [],
   "source": [
    "\"5f43ae49bb7913fc1676789a\""
   ]
  },
  {
   "cell_type": "code",
   "execution_count": null,
   "metadata": {},
   "outputs": [],
   "source": []
  },
  {
   "cell_type": "code",
   "execution_count": null,
   "metadata": {},
   "outputs": [],
   "source": []
  },
  {
   "cell_type": "code",
   "execution_count": null,
   "metadata": {},
   "outputs": [],
   "source": [
    "a = db_client[\"tweets_pipeline_v2\"].find_one({\"_id\":bson.ObjectId(str(\"5f1385be3e25deec88b6287e\"))})\n",
    "Image.open(urllib.request.urlopen(a['img_urls'])).size"
   ]
  },
  {
   "cell_type": "code",
   "execution_count": null,
   "metadata": {},
   "outputs": [],
   "source": [
    "# for i in db_client[\"tweets_pipeline_v2\"].find({\"$or\": [{\"status\":\"trasher\"},\n",
    "# #                                                            {\"status\":\"graphicone_feed\"}\n",
    "#                                                       ],\n",
    "#                                                        'source': 'sec',\n",
    "# #                                                    'approved_timestamp': {'$gte': end_date, '$lte': start_date},\n",
    "#                                                    }):\n",
    "    \n",
    "\n",
    "#     i['img_urls']"
   ]
  },
  {
   "cell_type": "code",
   "execution_count": null,
   "metadata": {},
   "outputs": [],
   "source": []
  },
  {
   "cell_type": "code",
   "execution_count": 114,
   "metadata": {},
   "outputs": [],
   "source": [
    "db = db_client[\"tweets_pipeline_v2\"].find(\n",
    "                                           {\"status\":\"pipelined\",\n",
    "                                           \"source\":\"def\"},\n",
    "    no_cursor_timeout=True)\n",
    "\n",
    "db.count()\n",
    "\n",
    "\n",
    "tagsCollector = []\n",
    "for i in db:\n",
    "    tags = i[\"entity_prepared\"]+i[\"bert_tags\"]\n",
    "    tags = list(set(tags))\n",
    "    tagsCollector += tags"
   ]
  },
  {
   "cell_type": "code",
   "execution_count": 115,
   "metadata": {},
   "outputs": [],
   "source": [
    "pd.DataFrame.from_dict(dict(Counter(tagsCollector).most_common()), orient='index').to_excel(\"bd_search_graphs.xlsx\")"
   ]
  },
  {
   "cell_type": "code",
   "execution_count": 112,
   "metadata": {},
   "outputs": [],
   "source": [
    "db = db_client[\"tweets_pipeline_v2\"].find(\n",
    "                                        {\n",
    "        \"$or\": [{\"status\":\"graphicone_search\"}, {\"status\":\"graphicone_feed\"}],\n",
    "                                        },\n",
    "    no_cursor_timeout=True)\n",
    "\n",
    "db.count()\n",
    "\n",
    "\n",
    "tagsCollector = []\n",
    "for i in db:\n",
    "    tagsCollector += i[\"grafeed_confirmed\"]"
   ]
  },
  {
   "cell_type": "code",
   "execution_count": 113,
   "metadata": {},
   "outputs": [],
   "source": [
    "pd.DataFrame.from_dict(dict(Counter(tagsCollector).most_common()), orient='index').to_excel(\"all_graphs.xlsx\")"
   ]
  },
  {
   "cell_type": "code",
   "execution_count": null,
   "metadata": {},
   "outputs": [],
   "source": []
  },
  {
   "cell_type": "code",
   "execution_count": 10,
   "metadata": {},
   "outputs": [
    {
     "data": {
      "text/plain": [
       "{'employment', 'labor'}"
      ]
     },
     "execution_count": 10,
     "metadata": {},
     "output_type": "execute_result"
    }
   ],
   "source": [
    "a = set([\"employment\", \"labor\"])\n",
    "a"
   ]
  },
  {
   "cell_type": "code",
   "execution_count": 14,
   "metadata": {},
   "outputs": [],
   "source": [
    "b = set([\"employment\", \"aasdsad\", \"asdasdsa\"])"
   ]
  },
  {
   "cell_type": "code",
   "execution_count": 15,
   "metadata": {},
   "outputs": [
    {
     "data": {
      "text/plain": [
       "False"
      ]
     },
     "execution_count": 15,
     "metadata": {},
     "output_type": "execute_result"
    }
   ],
   "source": [
    "a.issubset(b)"
   ]
  },
  {
   "cell_type": "code",
   "execution_count": 9,
   "metadata": {},
   "outputs": [
    {
     "ename": "TimeoutError",
     "evalue": "(9, 'Client timeout: socket=30000 total=1000 iterations=1 lastNode=35.228.136.58:3000', 'src/main/client/get.c', 113, False)",
     "output_type": "error",
     "traceback": [
      "\u001b[0;31m---------------------------------------------------------------------------\u001b[0m",
      "\u001b[0;31mTimeoutError\u001b[0m                              Traceback (most recent call last)",
      "\u001b[0;32m<ipython-input-9-92e13b43290c>\u001b[0m in \u001b[0;36m<module>\u001b[0;34m\u001b[0m\n\u001b[1;32m      6\u001b[0m \u001b[0mdata_as_key\u001b[0m \u001b[0;34m=\u001b[0m \u001b[0;34m(\u001b[0m\u001b[0;34m\"ids_to_validate\"\u001b[0m\u001b[0;34m,\u001b[0m \u001b[0;34m\"data\"\u001b[0m\u001b[0;34m,\u001b[0m \u001b[0;34m\"data\"\u001b[0m\u001b[0;34m)\u001b[0m\u001b[0;34m\u001b[0m\u001b[0;34m\u001b[0m\u001b[0m\n\u001b[1;32m      7\u001b[0m \u001b[0;34m\u001b[0m\u001b[0m\n\u001b[0;32m----> 8\u001b[0;31m \u001b[0mtags_by_tag_old\u001b[0m \u001b[0;34m=\u001b[0m \u001b[0mclient\u001b[0m\u001b[0;34m.\u001b[0m\u001b[0mget\u001b[0m\u001b[0;34m(\u001b[0m\u001b[0mdata_as_key\u001b[0m\u001b[0;34m)\u001b[0m\u001b[0;34m[\u001b[0m\u001b[0;34m-\u001b[0m\u001b[0;36m1\u001b[0m\u001b[0;34m]\u001b[0m\u001b[0;34m[\u001b[0m\u001b[0;34m'tags'\u001b[0m\u001b[0;34m]\u001b[0m\u001b[0;34m\u001b[0m\u001b[0;34m\u001b[0m\u001b[0m\n\u001b[0m",
      "\u001b[0;31mTimeoutError\u001b[0m: (9, 'Client timeout: socket=30000 total=1000 iterations=1 lastNode=35.228.136.58:3000', 'src/main/client/get.c', 113, False)"
     ]
    }
   ],
   "source": [
    "import aerospike\n",
    "config = {\n",
    "    'hosts': [('35.228.136.58', 3000)]\n",
    "}\n",
    "client = aerospike.client(config).connect()\n",
    "data_as_key = (\"ids_to_validate\", \"data\", \"data\")\n",
    "\n",
    "tags_by_tag_old = client.get(data_as_key)[-1]['tags']"
   ]
  },
  {
   "cell_type": "code",
   "execution_count": null,
   "metadata": {},
   "outputs": [],
   "source": [
    "def dictImplementation(tagsList):\n",
    "    result = []\n",
    "    for tag in tagsList:\n",
    "        if tag.lower() in tags_by_tag_old and tags_by_tag_old[tag.lower()] != [0]:\n",
    "            result += tags_by_tag_old[tag.lower()]\n",
    "        if tag.lower() not in tags_by_tag_old:\n",
    "            result.append(tag.lower())\n",
    "    return list(set(result))"
   ]
  },
  {
   "cell_type": "code",
   "execution_count": null,
   "metadata": {},
   "outputs": [],
   "source": [
    "collector = []\n",
    "collector_sub = []\n",
    "for i in db_client[\"tweets_pipeline_v2\"].find({\"$or\": [{\"status\":\"graphicone_search\"},\n",
    "                                                       {\"status\":\"graphicone_feed\"}],\n",
    "                                               }):\n",
    "    if \"grafeed_confirmed\" in i:\n",
    "        analyst = set(i[\"grafeed_confirmed\"])\n",
    "        collector += dictImplementation(analyst)\n",
    "#         if set([\"employment\", \"labor\"]).issubset(analyst):\n",
    "#             collector_sub += analyst\n",
    "\n",
    "\n"
   ]
  },
  {
   "cell_type": "code",
   "execution_count": null,
   "metadata": {},
   "outputs": [],
   "source": [
    "from collections import Counter"
   ]
  },
  {
   "cell_type": "code",
   "execution_count": 10,
   "metadata": {},
   "outputs": [],
   "source": [
    "pd.DataFrame.from_dict(dict(Counter(collector)), orient=\"index\").to_excel(\"anzelika_total.xlsx\")"
   ]
  },
  {
   "cell_type": "code",
   "execution_count": 3,
   "metadata": {},
   "outputs": [],
   "source": [
    "# pd.DataFrame.from_dict(dict(Counter(collector_sub)), orient=\"index\").to_excel(\"anzelika_subset.xlsx\")"
   ]
  },
  {
   "cell_type": "code",
   "execution_count": null,
   "metadata": {},
   "outputs": [],
   "source": []
  },
  {
   "cell_type": "code",
   "execution_count": null,
   "metadata": {},
   "outputs": [],
   "source": []
  },
  {
   "cell_type": "code",
   "execution_count": null,
   "metadata": {},
   "outputs": [],
   "source": [
    "cities = pd.read_csv(\"worldcities.csv\")\n",
    "cities = cities[(cities[\"population\"]/1000000)>=1][\"city_ascii\"]\n",
    "cities_set = set([city.lower() for city in cities.values])\n",
    "\n",
    "tags_dictionary_set_without_cities = tags_dictionary_set_without_countries - cities_set\n",
    "len(tags_dictionary_set_without_cities)\n",
    "\n",
    "# cities\n",
    "# countries_set = \n",
    "# print(len(countries_set))"
   ]
  },
  {
   "cell_type": "code",
   "execution_count": null,
   "metadata": {},
   "outputs": [],
   "source": [
    "countries = pd.read_csv(\"countries-data.csv\")[\"Name\"]\n",
    "countries_set = set([country.lower() for country in countries.values])\n",
    "print(len(countries_set))\n",
    "\n",
    "tags_dictionary_set_without_countries = tags_dictionary_set_without_securities - countries_set\n",
    "len(tags_dictionary_set_without_countries)"
   ]
  }
 ],
 "metadata": {
  "kernelspec": {
   "display_name": "Python 3",
   "language": "python",
   "name": "python3"
  },
  "language_info": {
   "codemirror_mode": {
    "name": "ipython",
    "version": 3
   },
   "file_extension": ".py",
   "mimetype": "text/x-python",
   "name": "python",
   "nbconvert_exporter": "python",
   "pygments_lexer": "ipython3",
   "version": "3.7.3"
  }
 },
 "nbformat": 4,
 "nbformat_minor": 2
}
