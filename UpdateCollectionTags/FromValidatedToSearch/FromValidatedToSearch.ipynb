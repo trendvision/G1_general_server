{
 "cells": [
  {
   "cell_type": "code",
   "execution_count": 19,
   "metadata": {},
   "outputs": [],
   "source": [
    "import warnings\n",
    "warnings.filterwarnings(\"ignore\")\n",
    "\n",
    "\n",
    "import pandas as pd\n",
    "from datetime import datetime\n",
    "from collections import Counter\n",
    "from itertools import permutations\n",
    "\n",
    "from tqdm import tqdm\n",
    "\n",
    "\n",
    "import pymongo\n",
    "import bson\n",
    "username = \"tagger-admin\"\n",
    "password = \"tvaiadmin\"\n",
    "db_client = pymongo.MongoClient('104.198.62.226', username=username,\n",
    "                                password=password,\n",
    "                                authSource='tags',\n",
    "                                authMechanism='SCRAM-SHA-256', port=27017).tags"
   ]
  },
  {
   "cell_type": "code",
   "execution_count": 2,
   "metadata": {},
   "outputs": [],
   "source": [
    "import aerospike\n",
    "config = {\n",
    "    'hosts': [('35.228.136.58', 3000)]\n",
    "}\n",
    "client = aerospike.client(config).connect()\n",
    "data_as_key = (\"ids_to_validate\", \"data\", \"data\")\n",
    "\n",
    "tags_by_tag_old = client.get(data_as_key)[-1]['tags']"
   ]
  },
  {
   "cell_type": "code",
   "execution_count": 3,
   "metadata": {},
   "outputs": [],
   "source": [
    "# tags_by_tag_old[\"cloud\"]"
   ]
  },
  {
   "cell_type": "code",
   "execution_count": 4,
   "metadata": {},
   "outputs": [
    {
     "name": "stdout",
     "output_type": "stream",
     "text": [
      "/graphic.one/Conveoyr/ValidatedToSearch 1934\n"
     ]
    }
   ],
   "source": [
    "import dropbox\n",
    "\n",
    "def getImages(folder):\n",
    "    processedData = []\n",
    "    for image in folder:\n",
    "        processedData.append(image.name)\n",
    "    return processedData\n",
    "\n",
    "def getMoreThanCan(folder, dbx):\n",
    "    images = getImages(folder.entries)\n",
    "    while True:\n",
    "        folder = dbx.files_list_folder_continue(folder.cursor)\n",
    "        images += getImages(folder.entries)\n",
    "        if not folder.has_more:\n",
    "            break\n",
    "    return images\n",
    "\n",
    "def getFilesLists(categories, dbx):\n",
    "    files = []\n",
    "    folder = dbx.files_list_folder(path=categories)\n",
    "    if folder.has_more:\n",
    "        data = getMoreThanCan(folder, dbx)\n",
    "        files += data\n",
    "        print(categories, len(data))\n",
    "    else:\n",
    "        data = getImages(folder.entries)\n",
    "        files += data\n",
    "        print(categories, len(data))\n",
    "    return files\n",
    "\n",
    "\n",
    "def get1dList(data): return list(itertools.chain.from_iterable(data))\n",
    "    \n",
    "\n",
    "def getProccessedData():\n",
    "    \n",
    "    access_token = '7wYL8EDqrSAAAAAAAAAjFKIa8fjneyf3Z6xIHPeK6N09ZyGZrVjY4RZGQPSajNY-'\n",
    "    timeout = 10.0\n",
    "    \n",
    "    dbx = dropbox.Dropbox(access_token, timeout=timeout)\n",
    "    \n",
    "    foldersPaths = {\n",
    "        \"ALYONA\" : \"/graphic.one/Conveoyr/ValidatedToSearch\"\n",
    "    }\n",
    "    \n",
    "    Files = getFilesLists(foldersPaths[\"ALYONA\"], dbx)\n",
    "    FilesID = [i[:-4] for i in Files]\n",
    "        \n",
    "    return FilesID\n",
    "\n",
    "data = getProccessedData()"
   ]
  },
  {
   "cell_type": "code",
   "execution_count": 5,
   "metadata": {},
   "outputs": [
    {
     "data": {
      "text/plain": [
       "['5e2b58faefe3ebd08830c54e',\n",
       " '5e22864c258fc8e36e1dc39b',\n",
       " '5e1aff12e2bf297569fef60b',\n",
       " '5e2eb2da468372f5bf76fc1f',\n",
       " '5e2e657b5d65351045695ce8',\n",
       " '5e02825ca3c1a6a8474027e5',\n",
       " '5e414f82cf0291b2f06d5e50',\n",
       " '5e41617a7f6d48194fdfc217',\n",
       " '5e236712f35e093e3c0bd131',\n",
       " '5e2c47a9f38279f0579bdece',\n",
       " '5e03e086915d872d72f10703',\n",
       " '5e28fa50eee9bbeb941dac3f',\n",
       " '5e065588e3935fbdc9ecc996',\n",
       " '5e1a3dc7f358e886f6d1af35',\n",
       " '5e05d242e04c8c1bf8d2308b',\n",
       " '5e01fa1b37871d70d55c9651',\n",
       " '5e19c74a9d7d158ea4de4ca2',\n",
       " '5e2237ef8950e520a11668bb',\n",
       " '5e067dc6878fa1320ca7cb25',\n",
       " '5e1ce4f023bf3bc02c10f5f8',\n",
       " '5e1b6f5e20eace546b9e5804',\n",
       " '5dfba6baeefb05db161d5ec3',\n",
       " '5e414d52236cd951f58c1096',\n",
       " '5e202788b9332cbf51771b56',\n",
       " '5e253cb5b0cd4551aa3ce1ab',\n",
       " '5e024bf6a3c1a6a8474021dc',\n",
       " '5e2bda9ede1de11f269abfdf',\n",
       " '5e17f2419507e2c2963286bb',\n",
       " '5e03ba725c4421afdcf57a83',\n",
       " '5e05ef07756d6435eb6422da',\n",
       " '5e41613d0fd23bd8df46cd57',\n",
       " '5e245d60e19e8e2333fa1baa',\n",
       " '5e2f63c9a8c22f1e674c150d',\n",
       " '5dfc888a51e9d21cd70f117d',\n",
       " '5e415e2321233b84f9cec9b6',\n",
       " '5e02fddd7c419d1a3d8be15c',\n",
       " '5dfbabd0e75f75b47f6004e5',\n",
       " '5dfb67e8a1a70d622e2195a5',\n",
       " '5e2b3a35fe9ee7851c854141',\n",
       " '5e20565426439564caf81eb3',\n",
       " '5e414f86ccf3f921ae0e5480',\n",
       " '5e0463ec169a51e1754f4915',\n",
       " '5e2c080783242988c1a84497',\n",
       " '5dfc15df6e02145be62743f8',\n",
       " '5e03958e0742bb7579f82126',\n",
       " '5e413bea22e4430f53ef1b1f',\n",
       " '5e16e759efc33110fcb74942',\n",
       " '5e20059740d7e0c151f1630d',\n",
       " '5e20746fe1b73efb425aa03e',\n",
       " '5e0313037f75a4c94dbf422a',\n",
       " '5e1743d965f4fb924b9208ca',\n",
       " '5e236711f35e093e3c0bd126',\n",
       " '5e03aa5d5b41d65afecfca43',\n",
       " '5e2e72b85d65351045695d5c',\n",
       " '5dfb974b90b37c797d48290f',\n",
       " '5e037c2fb0646dbaae2ab851',\n",
       " '5dfb8803aaa9751df222286f',\n",
       " '5e067dc6878fa1320ca7cb26',\n",
       " '5e2bb702bb02e1b5faf8a0b9',\n",
       " '5e2cc2ec1abe05c281927745',\n",
       " '5e2b1c795f66122d063da305',\n",
       " '5e02748ef9cdacd1ddcd4c03',\n",
       " '5e415d46b3ffba0acaf7c043',\n",
       " '5e02034a9ac2235ce37d8d7c',\n",
       " '5e415d3f788464fd507f4738',\n",
       " '5e2daf5beb2895ec116b478f',\n",
       " '5e2d4f4e9be33df97ec7c67a',\n",
       " '5e2bb6186aaf40e2fdc113a5',\n",
       " '5e413c5d7a607a7cea895131',\n",
       " '5dfbdf5d9f007b135dc29dad',\n",
       " '5e022c7bd7cadb7e1a7eb06b',\n",
       " '5e032cdf3ce244232de84ce6',\n",
       " '5e1c140981108571c56e68dd',\n",
       " '5dfc10b9890c58587407f706',\n",
       " '5e2b034e6e8db59dae44db85',\n",
       " '5e0207bc37871d70d55c991b',\n",
       " '5e2c4c786d522f72c512e88c',\n",
       " '5e02abae8f7111d26dd3b425',\n",
       " '5dfc1f8ca70263da31b27087',\n",
       " '5e4141cd97c38359a402473a',\n",
       " '5e19e88259b76c616d00e0f1',\n",
       " '5dfc7fcdedfb487f94b267b7',\n",
       " '5e17703a4212d48146711a3c',\n",
       " '5e064bb81d9672b9e003cd53',\n",
       " '5e2b14a0cdc181e83295cef9',\n",
       " '5e16dde1ed8b9d1c32e20eb9',\n",
       " '5e02e500a980f0d393261a95',\n",
       " '5e033079e3c2e46ccc711f60',\n",
       " '5e2ff09b6caa2a48f1e4682c',\n",
       " '5e06546ccd11e3894ee1bfec',\n",
       " '5e026e88d98eab58fb064004',\n",
       " '5e19c6b38085721d04d62bc3',\n",
       " '5e1c7e4e992f8b0386bed217',\n",
       " '5e03958e0742bb7579f8212a',\n",
       " '5e19c784939be61c0fe877c5',\n",
       " '5e192abc59b76c616d00ddac',\n",
       " '5dfbaf93e8570b19e80b58ca',\n",
       " '5e2d9f525815c15aeb651854',\n",
       " '5e23e9f5c6b63ec781ec79b4',\n",
       " '5e41400617924e76e58edbd8',\n",
       " '5e413effbe4f4a40043d9c4a',\n",
       " '5e294575bfbbbec3b5f2c943',\n",
       " '5e0203147267f881f0aea740',\n",
       " '5e0341b1db8e970511eabc69',\n",
       " '5e06236b1bf5248e8b485bbc',\n",
       " '5e03c4c8893e9849d6f91ccc',\n",
       " '5e020f2e69ee4e1dce8f3470',\n",
       " '5e236712f35e093e3c0bd12e',\n",
       " '5e412c524b0830a7e55af959',\n",
       " '5e2b053e24cca9a4f2f83c20',\n",
       " '5e2299889bda202ead61fde7',\n",
       " '5e41465d22e4430f53ef1b46',\n",
       " '5e415dff6a2f233f5eb864da',\n",
       " '5dfc4f7c549d26153cd6af55',\n",
       " '5e03fd48de11ad1fef882116',\n",
       " '5e173f55889ff03117c59bea',\n",
       " '5e2ee051c75c313ecca12597',\n",
       " '5e2937286aa4f636b582190d',\n",
       " '5df0bc4c9bf94c6da08b43e1',\n",
       " '5e413bb332c8048801097498',\n",
       " '5e2d4c6eacaf59fa917fb7cd',\n",
       " '5e052f05b78dec48356f7517',\n",
       " '5e2d4af99be33df97ec7c646',\n",
       " '5dfb73fb521d05797e7f5bd6',\n",
       " '5ddc13a42c13a93c09a9bcff',\n",
       " '5e039504895cde87c98bd21f',\n",
       " '5e4136a3d8a97424dda3e68c',\n",
       " '5e23ba179d621e02957def9c',\n",
       " '5e41526e99e55831b02ce5e6',\n",
       " '5e22be91b5313199d508e21b',\n",
       " '5e2e5c094c744de41b4bb27f',\n",
       " '5dfbf125d5b8219a13e7c6df',\n",
       " '5de51e88f6b77606f742a9d4',\n",
       " '5e41346fcf0291b2f06d5e1f',\n",
       " '5e413a63e88c54dbe67f774e',\n",
       " '5dfc3317cd6add290761c27a',\n",
       " '5e029bb30725f638f832719f',\n",
       " '5e2f9c7fd29da1713efd2004',\n",
       " '5e41592b99e323ea07a2d6e0',\n",
       " '5e2e9c7b781339affa3236d7',\n",
       " '5e06faa5dc86b4cb119a2877',\n",
       " '5e1aee6a67469922821cb897',\n",
       " '5dfc222992fa9127f9c47d9f',\n",
       " '5e2bc82e4e98a41e99a65411',\n",
       " '5e05c45b1f1bd8e45372a80d',\n",
       " '5e414962bd3651614360be92',\n",
       " '5e2e2ac8e20a99fdf925ed12',\n",
       " '5e1902b6d10e3068f9680a45',\n",
       " '5e0556086382f00253451130',\n",
       " '5e415d384b0830a7e55af97f',\n",
       " '5e3eb9041e9e6f0931ea3005',\n",
       " '5e02825ca3c1a6a8474027de',\n",
       " '5e2c72355ea46592509e73ab',\n",
       " '5e01f94a5bdcefce37188015',\n",
       " '5e0255b19ac2235ce37d96d9',\n",
       " '5e029f847267f881f0aeba1f',\n",
       " '5dfbcac251e9d21cd70ee200',\n",
       " '5e233c5687f22dd73b010322',\n",
       " '5e2fc40fd82132d1be604bae',\n",
       " '5de4ded23fdcf40ab86724a5',\n",
       " '5e025afbbecbd4a19d35be6c',\n",
       " '5e234c01223ba329831a301e',\n",
       " '5e2b4e96104501b05c52c750',\n",
       " '5e0333ea7e559b5fdfd99c7c',\n",
       " '5e4146a3236cd951f58c1090',\n",
       " '5e0422f81010d8bea1e68cb0',\n",
       " '5e02ca22e170dad5a301a388',\n",
       " '5e0263aeecd005afdaf914f7',\n",
       " '5e03c4c7893e9849d6f91cc7',\n",
       " '5e2131359254a5066f85de66',\n",
       " '5e02a8c585dcc9f5e4cc5243',\n",
       " '5e24d1e65cc7926999a06a64',\n",
       " '5e05261ee0182881f3ec06ae',\n",
       " '5e2c976565c835ec93c3ce4e',\n",
       " '5e034b4d895cde87c98bcfc5',\n",
       " '5e1a67ef1191e2c9baa56f7a',\n",
       " '5e4158db8bf3847546250205',\n",
       " '5ddc63998f433ec8481872e1',\n",
       " '5e03133ca3c1a6a8474036da',\n",
       " '5e240ce495339bc060160531',\n",
       " '5e415ee89884ef77881c9310',\n",
       " '5e04c5778f5d9d201e78b9c6',\n",
       " '5e2d0de8b1d8cc604752aed2',\n",
       " '5e41466b17924e76e58edbe0',\n",
       " '5dfb7416e37cc217ac91e294',\n",
       " '5e2e7bebf8aaf86795a16f23',\n",
       " '5e04ba8a809a75ffebd22425',\n",
       " '5e028261a3c1a6a847402819',\n",
       " '5e03aa7f0b6e71900cfd55bc',\n",
       " '5dfc93d57ce0ff01df13f33a',\n",
       " '5e053421a9f45f03d05f8657',\n",
       " '5e2f54d0c6ffac2d7deff6b8',\n",
       " '5e224bde1d8204140180b097',\n",
       " '5dfc02f6513ea04cb581a667',\n",
       " '5e2b54714e6ee19a72dd008f',\n",
       " '5e032f07ee8ccf677b378e2f',\n",
       " '5e0219040046dfbf0228a678',\n",
       " '5e0351656c552c5b47103cf7',\n",
       " '5e2321eef5671f07784d4e52',\n",
       " '5e02aa4b7c419d1a3d8bdab3',\n",
       " '5e031facbdc0cfdae6511f47',\n",
       " '5e02d89e7dec2c26b25fd1e1',\n",
       " '5e23e80e807e6d5410a6c042',\n",
       " '5e1aa537b22feeac1e9abaaa',\n",
       " '5e41660d3b1a37b27bb5adbe',\n",
       " '5ddb97b2ed18622ca1f2f6ed',\n",
       " '5e0207a99a4a601708614a0d',\n",
       " '5e2af43b15f27276f0436d4e',\n",
       " '5e414726b518bd8eb23692f6',\n",
       " '5e045568ab431aaaeaaab927',\n",
       " '5e067dc8878fa1320ca7cb2b',\n",
       " '5e06c170c26373f083b3552b',\n",
       " '5dfbf9f0bd9d69169e7dd11c',\n",
       " '5e1c4793b72e36aab5528171',\n",
       " '5e02d9c1ea78a8959508677a',\n",
       " '5dfb9098eefb05db161d5832',\n",
       " '5e2d4af99be33df97ec7c645',\n",
       " '5dfc8848890c5858740813d2',\n",
       " '5e220256bb682a649a43f5a4',\n",
       " '5e2923dca4cbb84a41da3ee6',\n",
       " '5e2d0eb3ad88078712976049',\n",
       " '5e2d1599150763b25f3c186b',\n",
       " '5e19a517277f1130969d4eba',\n",
       " '5e414c7705098cd33b2e921b',\n",
       " '5e2afc39e3e4f38ae682bc25',\n",
       " '5e0255ba9ac2235ce37d9731',\n",
       " '5e2ee051c75c313ecca12594',\n",
       " '5e4148a0e340eda2f77d5609',\n",
       " '5e1b05fe6853cde0ba22e58f',\n",
       " '5e2c42b9825f527379e18529',\n",
       " '5e027f178f7111d26dd3ae8e',\n",
       " '5e415d3e6a2f233f5eb864d8',\n",
       " '5e250def0a00c223c911ea56',\n",
       " '5e0312bd53d8049a4a960562',\n",
       " '5e2e96a88af856851ece08c1',\n",
       " '5e413db199e323ea07a2d6be',\n",
       " '5dfbc77731f3fbd32886abe3',\n",
       " '5dfc5c97513ea04cb581be2b',\n",
       " '5e1a993ab1548eea67ddcf8f',\n",
       " '5e05a45f3368c8ac73ed083f',\n",
       " '5e2ff2bb7a417acc597f9a58',\n",
       " '5e254af26ccf37f07e13a05b',\n",
       " '5e3050fb88cb400a56b37eb6',\n",
       " '5e41688273731b82c3bc8f9a',\n",
       " '5e2178af3d11ba32ea9fda2f',\n",
       " '5e067dbc878fa1320ca7cb07',\n",
       " '5e2ffb99d82132d1be604ce7',\n",
       " '5e2cee14695cf0962be986f3',\n",
       " '5e23d2519e94cba737967c3f',\n",
       " '5e2b26762a0da29596d4f2a4',\n",
       " '5e03054e597262b5f1bdb351',\n",
       " '5e1ffce760f7c1036cb0450d',\n",
       " '5e04760657fef25f2d1cad56',\n",
       " '5e2f09e73126261df0d01686',\n",
       " '5e0207207f75a4c94dbf25d4',\n",
       " '5e027333a48a19baff44cfe7',\n",
       " '5e1c6b3dc8a231dd404d5fe6',\n",
       " '5e23c454fb6a47ab4d396c74',\n",
       " '5e0264610725f638f8326cb0',\n",
       " '5e03924a43fd4ce35d03a79c',\n",
       " '5e2bc4f0a655bb04e0be67a5',\n",
       " '5e02054b1d2c59b3cc3c3768',\n",
       " '5e025b3df9cdacd1ddcd48f7',\n",
       " '5e22236ffdc920dff3671b4b',\n",
       " '5e41336197c38359a4024728',\n",
       " '5e414344197eeb0287dad528',\n",
       " '5e062a741f1bd8e45372ace8',\n",
       " '5e2ba6204e98a41e99a653c5',\n",
       " '5e0203197267f881f0aea77c',\n",
       " '5e04dcd4e7e8172012241bad',\n",
       " '5e203402040ade4c827f25d0',\n",
       " '5de4d9c2d27444227eea883f',\n",
       " '5e020a3f6991b8506da081d4',\n",
       " '5e1949f35eb50b5dd1bcac19',\n",
       " '5e02f6deea78a895950869d1',\n",
       " '5dfb71cce8875662eea8031f',\n",
       " '5e03bd4cebc02109584dc3f6',\n",
       " '5e1b1bc751e2db92b5b90e5c',\n",
       " '5dfc2e3e7931d329d8fef969',\n",
       " '5e1b8c09d3927f6f913ed695',\n",
       " '5e414663aeadbea3f397c051',\n",
       " '5e223b9782e731d2993edf42',\n",
       " '5e2c334ca743f080f8fcb1bf',\n",
       " '5e2b455abab99c652fa09b29',\n",
       " '5e2bda9fde1de11f269abfe1',\n",
       " '5e057aecb78dec48356f7812',\n",
       " '5e0255af9ac2235ce37d96c7',\n",
       " '5e0255b49ac2235ce37d96f7',\n",
       " '5e412c4cb581df01d0d605b3',\n",
       " '5e1a2f08a0b916ebcc5799a3',\n",
       " '5dfba7b431f3fbd32886a230',\n",
       " '5e04d5343588d8756a3b47f8',\n",
       " '5e20ce5880e6097a06fa7283',\n",
       " '5dfbeb77e75f75b47f6015ca',\n",
       " '5e2c21f58492c13aaec9da6e',\n",
       " '5e0349130c4c0468ce6c668c',\n",
       " '5e2e621c6842d729025e5c25',\n",
       " '5e2e2ac5e20a99fdf925ecf9',\n",
       " '5dfb73eb521d05797e7f5b8e',\n",
       " '5e23323e87f22dd73b0102d4',\n",
       " '5e2b8016e0beed5854440174',\n",
       " '5e02825fa3c1a6a847402809',\n",
       " '5e02b6e47f75a4c94dbf38ed',\n",
       " '5dfc11576a59b16da3554890',\n",
       " '5e02034a9ac2235ce37d8d80',\n",
       " '5e2dcacb4c744de41b4bb0e7',\n",
       " '5e24fc3dbf98f1a75ea48725',\n",
       " '5e1ade82098758916a511b86',\n",
       " '5e2d9f555815c15aeb651874',\n",
       " '5e4159e8aece36af6b6a19aa',\n",
       " '5e253b05258d9fbc9820949c',\n",
       " '5e1fbc4267352fa383e25b7a',\n",
       " '5e06641e3c82ea67aaf913b3',\n",
       " '5e2901d73622106165a8991f',\n",
       " '5e41670dce3eb687f260ecfc',\n",
       " '5e24279f95a7cd9ef73958e0',\n",
       " '5e17b3cb2268c33af76a786c',\n",
       " '5e2c468003cfe19b58430316',\n",
       " '5e2ccc9bce9bc883c88a7a66',\n",
       " '5e035b86ed98641788e0d036',\n",
       " '5e416185cf0291b2f06d5e6c',\n",
       " '5ddb8d4ba2de3b015252fdcd',\n",
       " '5e05ce8eb4813eba5d2a2e6e',\n",
       " '5e227c60d77af73527914a42',\n",
       " '5e028261a3c1a6a84740281b',\n",
       " '5e2548e6ce58f51bc81d507c',\n",
       " '5e4167eff8a018d22b22cd37',\n",
       " '5e2b1b06a24ac13a12564210',\n",
       " '5e41393a16abbe1257f04552',\n",
       " '5e414315514f1535fc414306',\n",
       " '5dfbec577ce0ff01df13c6fd',\n",
       " '5ddca670bd6f7b1fda25f9d9',\n",
       " '5e028260a3c1a6a84740280b',\n",
       " '5dfbf5c373157c57b827cbba',\n",
       " '5e058febc8cef14aba787765',\n",
       " '5e23de483985a1655a0e4435',\n",
       " '5e2bbe00e0beed5854440292',\n",
       " '5e0450849b3da5fd9ec795e2',\n",
       " '5e028b5fbbdbb53c75517521',\n",
       " '5e0661d5334159fab694a795',\n",
       " '5e1b1d03cdd7418896ea5bb8',\n",
       " '5dfb64cc53a0ab58e3d86037',\n",
       " '5dfc87b2c68b4dfe7d1f2d45',\n",
       " '5e20fc2b0c127b5c816a948b',\n",
       " '5e045a2ee4224dd0e1d2a05c',\n",
       " '5e172a1f60e45ea40fa26a68',\n",
       " '5e0407baf508fd0c16f2000c',\n",
       " '5e2e7c183f2e8373a8f12e15',\n",
       " '5e03ccd8de11ad1fef881eec',\n",
       " '5e23708986a4b26852d24d05',\n",
       " '5e230fc60824aa0da86ccb25',\n",
       " '5e1d16a05c2a19de95d77e66',\n",
       " '5e02f6e2becbd4a19d35cbb3',\n",
       " '5e18d853264f445762602e4b',\n",
       " '5e41336316abbe1257f04548',\n",
       " '5e2e3956f9f64bcdf4f6499a',\n",
       " '5e2f7af19d3b76b0b12f667b',\n",
       " '5e1ffce660f7c1036cb04508',\n",
       " '5e23ce10f40132f1c7c4de36',\n",
       " '5e23ff5bc6b63ec781ec7a7a',\n",
       " '5e02431bbdc0cfdae6510b28',\n",
       " '5e2eb5a9a5638d02783df750',\n",
       " '5e2c21fb8492c13aaec9dab5',\n",
       " '5e0420733598ec378ea49ecd',\n",
       " '5e0372c06958f95286239aa4',\n",
       " '5e24ae5d4531456983998e1b',\n",
       " '5e4136bcbd3651614360be63',\n",
       " '5e2d2271e2c721a704bab1ea',\n",
       " '5e0207217f75a4c94dbf25d6',\n",
       " '5e209c698294401399429dd7',\n",
       " '5e2b15d2bb02e1b5faf89dd0',\n",
       " '5e2b0e9d61dc65ee3a355185',\n",
       " '5e245814e1196ec4277f9913',\n",
       " '5e2afdb8050f233839674e04',\n",
       " '5ddb0c507a79eaad374d4aaa',\n",
       " '5dda08ea56421e7378e51a8c',\n",
       " '5e03d402c9367884324ac3f8',\n",
       " '5e4159d0d8a97424dda3e6ae',\n",
       " '5df0137d3f025a00413a4cbf',\n",
       " '5e2d9dfbe4fa8eb8ecd99081',\n",
       " '5e2db1a6e0493cdab28a4d44',\n",
       " '5e415d49d2b218c6ee94d514',\n",
       " '5e02c23a5ce6ff0dca1a8ab6',\n",
       " '5e2594c0bf98f1a75ea488f5',\n",
       " '5e035a9c897f8f461b3de202',\n",
       " '5dfc4f79549d26153cd6af38',\n",
       " '5dfc6599890c585874080ac0',\n",
       " '5e2fb984619679a8e84a96a6',\n",
       " '5e02d1d879c4ece63bce8bbf',\n",
       " '5e173876c6c6159c2a77dccd',\n",
       " '5e23606ef5671f07784d503a',\n",
       " '5e305b3f9aabe321311183b1',\n",
       " '5dfbd5a331f3fbd32886b01c',\n",
       " '5e20cb4c061b0ab59f44802e',\n",
       " '5e1a459a098758916a51163f',\n",
       " '5e03e2613062aa0d2f88086a',\n",
       " '5e0255ad9ac2235ce37d96b0',\n",
       " '5e41466e2ee5dee139a3991f',\n",
       " '5e1800e5f42166dd2f50772b',\n",
       " '5e2383457cde8da1d8916260',\n",
       " '5e21671dd6481a12644b99d6',\n",
       " '5e17b4ade7fe5ff9336800c9',\n",
       " '5e206836facd35697ec2f0d8',\n",
       " '5e224c664ce327c0961f58c3',\n",
       " '5e042f0813db9cc8f53611ac',\n",
       " '5e2368021931bf771d3ca4b3',\n",
       " '5e02deb1d483815cfe523b2c',\n",
       " '5dfbd66b26b6c18e8998a408',\n",
       " '5e04caf684d74f5b5cae71e6',\n",
       " '5e0255ad9ac2235ce37d96b2',\n",
       " '5e2244250d8df4eb51ff55db',\n",
       " '5e172bb288ed0fc75118ad6d',\n",
       " '5dfc79f226b6c18e8998cf8d',\n",
       " '5e0203117267f881f0aea723',\n",
       " '5e20565426439564caf81eb2',\n",
       " '5e2f08fb314c55056984d629',\n",
       " '5e412dd9e712a66b81719515',\n",
       " '5e2bbf4ede1de11f269abfa0',\n",
       " '5e21abbab5313199d508df65',\n",
       " '5e2c1c054e98a41e99a655a0',\n",
       " '5e17f41c3a3af4aa7fe0c9e9',\n",
       " '5de5054aeaa6d9fa7f8c5244',\n",
       " '5e24d0c909f05aceb38720ff',\n",
       " '5e1f21a700b9465a80458a75',\n",
       " '5e2384e0da58ff8ebd940452',\n",
       " '5e2ae5249bc176cd9e8f5b95',\n",
       " '5dfc7779bf2e0b3cf6aeeae7',\n",
       " '5dfc8e71aceae34e2c6f6ede',\n",
       " '5e2afdb8050f233839674e05',\n",
       " '5e06558ae3935fbdc9ecc9a2',\n",
       " '5e2b71cb2fe1d9556b59223a',\n",
       " '5e412f426ac499509110e4ce',\n",
       " '5e01fa1d37871d70d55c9663',\n",
       " '5e17a16eb0241b31cff10ddd',\n",
       " '5e19df72939be61c0fe878ee',\n",
       " '5e1ffa9cd6d1fe0a0766aff7',\n",
       " '5e2b1ace01dde0760eea42f1',\n",
       " '5e292346b5548e4b9c5d6986',\n",
       " '5dfc1d2392fa9127f9c47c4e',\n",
       " '5e1b770864e94310bc0dce72',\n",
       " '5e05d242e04c8c1bf8d2308e',\n",
       " '5e062a721f1bd8e45372acde',\n",
       " '5e2495b01d8f95b372169dcf',\n",
       " '5e20380a8ab790fbaba8bf73',\n",
       " '5e0404216c57e0457cf7023c',\n",
       " '5e30254759531e1a4c8cc44e',\n",
       " '5e2fff2616b6ba9b5cb3c298',\n",
       " '5e4160267f6d48194fdfc214',\n",
       " '5dfbcbaae75f75b47f600ef0',\n",
       " '5e4133249c46392036296add',\n",
       " '5e1705c6fdcc764070eee7c6',\n",
       " '5e1a781eef62e10b466a04fb',\n",
       " '5e042de99b3da5fd9ec79450',\n",
       " '5e02825da3c1a6a8474027e9',\n",
       " '5e2c01b7412a3bcb28105bf2',\n",
       " '5e2bda1d82eca6a863a18ac9',\n",
       " '5e2b574814de1aee8a4c5022',\n",
       " '5e4157b4d869508f1a03e4df',\n",
       " '5e2fd3506cdc70ca92987084',\n",
       " '5dfc4e1a549d26153cd6ae97',\n",
       " '5dfc7dc3db818e4cd3869d15',\n",
       " '5e2594c0bf98f1a75ea488f3',\n",
       " '5e4167eab3ffba0acaf7c050',\n",
       " '5e2bf2ec6a2f7cc1a68364d6',\n",
       " '5e2e81cf893ce11c99577c25',\n",
       " '5e2c24842fe1d9556b592538',\n",
       " '5dfc0f84bd9d69169e7dd6fc',\n",
       " '5e252725a38e7b3c07e38cbc',\n",
       " '5e056219492d3df3ed5c9c19',\n",
       " '5dfc54b5a70263da31b27e9d',\n",
       " '5e2cab90ef8afa29222d17cf',\n",
       " '5e036ea1b8a4f909bcb266f4',\n",
       " '5e223e6183aeda71f51982ce',\n",
       " '5e0255b29ac2235ce37d96df',\n",
       " '5e2c21fc8492c13aaec9daba',\n",
       " '5e2157c207bf40d5f4ceb7eb',\n",
       " '5e03f5be13db9cc8f5360d46',\n",
       " '5e41311a17924e76e58edbca',\n",
       " '5e035742fb4a974a8b0061a3',\n",
       " '5dfc8e14a70263da31b28bee',\n",
       " '5e025dce82025fabebe3b4cc',\n",
       " '5e4167b46064d43615ef966a',\n",
       " '5e1b58e176ae9f5c7e98217c',\n",
       " '5e1fd2fe51b9d224e2dce416',\n",
       " '5e23613386a4b26852d24c90',\n",
       " '5e06b467de5db79623931d07',\n",
       " '5e230de90824aa0da86ccb1c',\n",
       " '5e2d5365bc3f957ac672c6c9',\n",
       " '5dda36f9ecf2eeb7be924258',\n",
       " '5e0216c7f9cdacd1ddcd40d0',\n",
       " '5e026ec50725f638f8326dc9',\n",
       " '5e1fbc3f67352fa383e25b5a',\n",
       " '5e16df8983775cffcfdc6e74',\n",
       " '5e4152e622e4430f53ef1b53',\n",
       " '5e2fde683dd56c0cf93ac918',\n",
       " '5e1ae2d0c37e9f2ffa6af980',\n",
       " '5dfbb8ae7ce0ff01df13b973',\n",
       " '5dfbc408521d05797e7f73a6',\n",
       " '5e2553b7ad9e9cd8d3715d0f',\n",
       " '5e029f00a48a19baff44d330',\n",
       " '5e02ccd9d9d28ecba71148d0',\n",
       " '5e027719649688e71d5655d5',\n",
       " '5e2b4f59a24ac13a125642b4',\n",
       " '5e049adaa5497eadc06005b6',\n",
       " '5e2b71cb2fe1d9556b592239',\n",
       " '5e416872bd3651614360bea8',\n",
       " '5e1a57d245ac1ec793977417',\n",
       " '5e2e3958f9f64bcdf4f649a3',\n",
       " '5e1a63c99e0d5ed7e24033aa',\n",
       " '5e0205a2e170dad5a3018b44',\n",
       " '5e02073e96887f334cf97e2d',\n",
       " '5e2b73b835d97c11cd3a5d34',\n",
       " '5e23f38fcca47230babf76f3',\n",
       " '5e02a3018e38314b10234538',\n",
       " '5dfbaf65521d05797e7f6c2e',\n",
       " '5e0312bb53d8049a4a960553',\n",
       " '5dfc929d73157c57b827f230',\n",
       " '5e2cae55660be5a1e21361a1',\n",
       " '5e03c3046958f95286239e4e',\n",
       " '5e06b46da304695cc8164c09',\n",
       " '5e2bd8ad83242988c1a843c9',\n",
       " '5e24b84609bb88be0dfebf12',\n",
       " '5e02315f5bdcefce37188702',\n",
       " '5e0258f4143863a19c1c12a6',\n",
       " '5e2b0e9e61dc65ee3a35518a',\n",
       " '5e04883bbc1d8277dc79c6d6',\n",
       " '5e2ed6779b8b0b9cca743a39',\n",
       " '5e2f18ed314c55056984d673',\n",
       " '5e17200a9507e2c296328182',\n",
       " '5e41681c3b1a37b27bb5adc3',\n",
       " '5e062ccdf929b4d94a4ab137',\n",
       " '5e046da3895cde87c98bddec',\n",
       " '5e2346351fe551ad05e53bcc',\n",
       " '5dfc0e99bf2e0b3cf6aecfa9',\n",
       " '5e415121236cd951f58c1098',\n",
       " '5e2d8f73b3103181921b1c99',\n",
       " '5e052039b7cb59130793f79f',\n",
       " '5e4141ce514f1535fc414305',\n",
       " '5df0136c3f025a00413a4c86',\n",
       " '5dfc1c936a59b16da3554aee',\n",
       " '5e056219492d3df3ed5c9c18',\n",
       " '5e2cc2fd9be33df97ec7c3c2',\n",
       " '5e41659a7a607a7cea89515e',\n",
       " '5e068ef5334159fab694a98f',\n",
       " '5e02331e0046dfbf0228a9d3',\n",
       " '5e024205597262b5f1bd9d12',\n",
       " '5e04c6ef53c0947c4be83271',\n",
       " '5e05faf0e04c8c1bf8d2326b',\n",
       " '5e2195d4bd0539a2ffc12d16',\n",
       " '5dfc72c6c68b4dfe7d1f278a',\n",
       " '5e2cef2264ad9f1b4fb02371',\n",
       " '5e2b455abab99c652fa09b2a',\n",
       " '5e2d6a9fa645d5854b31f603',\n",
       " '5de4f16df6b77606f7429a15',\n",
       " '5dfc92a473157c57b827f272',\n",
       " '5e2b13163ca1ab0479687299',\n",
       " '5e02034c9ac2235ce37d8d8a',\n",
       " '5e2afd4115f27276f0436d7e',\n",
       " '5e046fc3ddce4382842812d6',\n",
       " '5e4141c366377924c8dd9f0e',\n",
       " '5e0203137267f881f0aea73a',\n",
       " '5e2d9f565815c15aeb65187b',\n",
       " '5e4165a968cb301a62dcef83',\n",
       " '5e205bda040ade4c827f2634',\n",
       " '5e2c0f9ce0beed5854440458',\n",
       " '5e219d0606577d5304a063f0',\n",
       " '5e1ae5b39cabbc6997e8819b',\n",
       " '5e053aadb4072c35aaef785e',\n",
       " '5e2b2346b6fcf6a3206fb81c',\n",
       " '5e4167aa32c80488010974bf',\n",
       " '5dfbd7252c7ba0b8a0d4200d',\n",
       " '5e02f83d2f931749e65a5358',\n",
       " '5e05b6e0b4813eba5d2a2cdd',\n",
       " '5e22583dea8aab961dcfdbe7',\n",
       " '5dfbaa07b1fdc496a209c32f',\n",
       " '5e2f3c33b3f9596a81c0c896',\n",
       " '5e41348beb8f57d996223f45',\n",
       " '5e2f6852f9e82170e5c00d42',\n",
       " '5e2c9dd4d0803e4021c45f8d',\n",
       " '5e2ed7b3aa4b85516cae831b',\n",
       " '5e41671399e55831b02ce5f7',\n",
       " '5e4167e7d31aac3fbe137d8e',\n",
       " '5e41613232c80488010974b6',\n",
       " '5e223eaab5313199d508e118',\n",
       " '5e03310ed62d531f7d524fb6',\n",
       " '5e0205b4d695155b6fb422a5',\n",
       " '5e2d9f565815c15aeb651877',\n",
       " '5e2413528ffd2b1df5fff423',\n",
       " '5e028260a3c1a6a847402814',\n",
       " '5e2dcaca4c744de41b4bb0e5',\n",
       " '5dfc6f3b73157c57b827e9f9',\n",
       " '5dfc929f73157c57b827f24a',\n",
       " '5dfb671fa1a70d622e219523',\n",
       " '5e2bf5ad4851350228512a91',\n",
       " '5e4154d222e4430f53ef1b55',\n",
       " '5e41596d7a607a7cea895152',\n",
       " '5e4143e8197eeb0287dad529',\n",
       " '5e225851ea8aab961dcfdc47',\n",
       " '5dfbf45c31f3fbd32886b816',\n",
       " '5deffba75d385228ff8597e7',\n",
       " '5e4168e4794c0d03899ac205',\n",
       " '5e02b5585ce6ff0dca1a8966',\n",
       " '5e414d4c2ee5dee139a39929',\n",
       " '5e027eb56991b8506da0902d',\n",
       " '5e1feff75b29cb455a58046d',\n",
       " '5dfc7a81d5b8219a13e7eb39',\n",
       " '5e2420b87287eef16048c45c',\n",
       " '5e2d0eb4ad88078712976056',\n",
       " '5e415a69cf0291b2f06d5e60',\n",
       " '5e225832ea8aab961dcfdbc3',\n",
       " '5e21a208a1b5a55cdd41e66c',\n",
       " '5e2b8b9096d22b32169f22d8',\n",
       " '5e06c66e878fa1320ca7cf2d',\n",
       " '5de4ec0282607ee2ef4ad667',\n",
       " '5e1735d8e8a444c2ef733c86',\n",
       " '5e21809f8e20153e3b846a28',\n",
       " '5e1a9d3149d3a1ba029664ac',\n",
       " '5e2e33e8b7d16d0b4cb11528',\n",
       " '5e4164c1c69a292b20023d34',\n",
       " '5e03b3b16c57e0457cf6fcb5',\n",
       " '5e172ca8f05efdc386e94964',\n",
       " '5e045b751010d8bea1e6904a',\n",
       " '5e413ba529aa06f51424e2ff',\n",
       " '5e25490ce56ea598794a1022',\n",
       " '5e025c8937871d70d55ca07f',\n",
       " '5e2b10ab4dd639024e5b5dc7',\n",
       " '5e1a63445800463d2cbf44e8',\n",
       " '5dfbff20521d05797e7f82f0',\n",
       " '5dfb71c1bbbce6c379d4e668',\n",
       " '5e41355499e323ea07a2d6b8',\n",
       " '5e414665b518bd8eb23692f5',\n",
       " '5e2131359254a5066f85de65',\n",
       " '5e205bda147d03b9188af187',\n",
       " '5e24d65884ba7bc9e945a002',\n",
       " '5e213cff0a846ed2284e96a3',\n",
       " '5e4141c7d869508f1a03e4cf',\n",
       " '5e2f215ad82132d1be60468f',\n",
       " '5e0606d589a3f6ad4292a5ae',\n",
       " '5e039dce42d5e38bb6727b17',\n",
       " '5e28f12dbfbbbec3b5f2c808',\n",
       " '5e0247f379c4ece63bce7ad1',\n",
       " '5e045b731010d8bea1e69038',\n",
       " '5dfc9afc2e744897c1e67b39',\n",
       " '5e2013cb99437fa5469b6fd7',\n",
       " '5e230652c86195d27036e90c',\n",
       " '5e2fbf36d29da1713efd20f2',\n",
       " '5e1ff03ab1d4ab9af241272b',\n",
       " '5dfc204c31f3fbd32886c546',\n",
       " '5dfc58e631f3fbd32886d3e9',\n",
       " '5e240ce495339bc06016052f',\n",
       " '5e1c21b88543e9ac03a266f1',\n",
       " '5dfbd762549d26153cd68ed8',\n",
       " '5e184d225a0b6291f50859c7',\n",
       " '5e2daf5beb2895ec116b478e',\n",
       " '5e04573f0b6e71900cfd6091',\n",
       " '5e02116ebbdbb53c75516861',\n",
       " '5e22d6f4d83a3e8f0a272a89',\n",
       " '5dfbec577ce0ff01df13c6fe',\n",
       " '5e21e6ea06ba005a68c9857f',\n",
       " '5e2ecf125d65351045695ee8',\n",
       " '5e4130c77f6d48194fdfc1e7',\n",
       " '5e2b377d71ffaa8e2c22e6c5',\n",
       " '5dfc02f6513ea04cb581a66b',\n",
       " '5dd3d11d3e616f8117162c11',\n",
       " '5e1800e0f42166dd2f50770d',\n",
       " '5e2ef226b7d16d0b4cb11983',\n",
       " '5e05fabbccd0cedeae30a910',\n",
       " '5e4146706ac499509110e4ed',\n",
       " '5dfc659b890c585874080ad4',\n",
       " '5e4157be16abbe1257f04566',\n",
       " '5e2101d1eff386735cddc73b',\n",
       " '5e2e20b046035ca40d95dd62',\n",
       " '5e2bd2edc78862be22fa4ed1',\n",
       " '5e1a595e17cf444a1f297265',\n",
       " '5e412f2040b4b12b0b7d3fc3',\n",
       " '5dda9021878dddefe2d565e2',\n",
       " '5e2c5155150763b25f3c1645',\n",
       " '5e2ece883126261df0d0151f',\n",
       " '5e033140e12fd0cea232cfaf',\n",
       " '5ddbba9bed18622ca1f302b7',\n",
       " '5e0576c8d9872b4ae546a3fd',\n",
       " '5e027e7d649688e71d565670',\n",
       " '5e22231eb198fba2f0b1ff8b',\n",
       " '5e2ff7369aabe32131118276',\n",
       " '5e4139828d98474fbe95397c',\n",
       " '5e21c992bd0539a2ffc12d8a',\n",
       " '5e414d471ce524ba77e17bb8',\n",
       " '5e1a849f4376c2fe813a112e',\n",
       " '5e031167d9d28ecba7114ff9',\n",
       " '5e2c04503ca1ab04796875c6',\n",
       " '5dfc1c916a59b16da3554ae3',\n",
       " '5dfc92aa73157c57b827f29f',\n",
       " '5dfc8e133ddc87421667bdf0',\n",
       " '5e2fab391420c84454e6e5cb',\n",
       " '5e0513be809a75ffebd22afb',\n",
       " '5e1b6f5e20eace546b9e5801',\n",
       " '5e415ada8d98474fbe9539c7',\n",
       " '5dfbf91ee75f75b47f60198a',\n",
       " '5dfc69f0bf2e0b3cf6aee7f5',\n",
       " '5e062d596f6784395081a2fe',\n",
       " '5dfc5f4d73157c57b827e63d',\n",
       " '5e0344650b6e71900cfd5054',\n",
       " '5dfb91e73ddc874216677bee',\n",
       " '5e05560f6382f0025345117d',\n",
       " '5e1cf4f873e14ca39bbee25e',\n",
       " '5e1800e1f42166dd2f507716',\n",
       " '5e031167d9d28ecba7114ff8',\n",
       " '5e2fdfecfbeaf82869f48efc',\n",
       " '5dfc66b4eeece5cb78ecec55',\n",
       " '5e2bed5d71ffaa8e2c22eb88',\n",
       " '5e4146a46064d43615ef964d',\n",
       " '5e2569246ccf37f07e13a0b8',\n",
       " '5de51e7df6b77606f742a9c5',\n",
       " '5e026390143863a19c1c14e2',\n",
       " '5e2cde90872db06e5c73db75',\n",
       " '5dfb7404e37cc217ac91e267',\n",
       " '5e1a6c48f28abacb4612391b',\n",
       " '5e039e79a21ff204f6d5a919',\n",
       " '5e0219ce1d2c59b3cc3c3a6c',\n",
       " '5e2b933e8e28b0901e7f0a3a',\n",
       " '5e2b5c9b10b6006e74c8d2c7',\n",
       " '5e2b950f8e28b0901e7f0a4c',\n",
       " '5e029a8a5ce6ff0dca1a85ae',\n",
       " '5e063c60f6df1b8e6622d6ca',\n",
       " '5e2b6ac091b8292f5971a3f1',\n",
       " '5e292cea4560cb29b7ee15b9',\n",
       " '5dfbdb87b601c13c48eef1ab',\n",
       " '5dfc9a673299e003822b82f2',\n",
       " '5e2b6967d39ce020381fdcd9',\n",
       " '5e197b9e60486a96563ec6e7',\n",
       " '5e2509899cf0ddf338a13674',\n",
       " '5e01fd6930ac50bea26df796',\n",
       " '5e2dc7a273171414a6e44b67',\n",
       " '5e2558acd2fe615955d1a6b2',\n",
       " '5e2f09e83126261df0d01690',\n",
       " '5e030dcc37871d70d55caee3',\n",
       " '5dfc71026e02145be627582a',\n",
       " '5dfc929e73157c57b827f242',\n",
       " '5e234cce3616f7dc845e32cd',\n",
       " '5e1c951f3cd54b066a4d3ae9',\n",
       " '5e172b6d0670a47e02ee555f',\n",
       " '5e413839eb8f57d996223f5a',\n",
       " '5e2594c0bf98f1a75ea488f7',\n",
       " '5dfb9ab0b1fdc496a209bf14',\n",
       " '5dfc09d6549d26153cd69be7',\n",
       " '5e415876d31aac3fbe137d75',\n",
       " '5e241948413f214aef5f1e3d',\n",
       " '5e02f37c5bdcefce37189a66',\n",
       " '5e03afdac929f6f278e5c92d',\n",
       " '5e02c067a3c1a6a847402e71',\n",
       " '5e252c2fa948c51c6f53092b',\n",
       " '5dfc22dbdb818e4cd386875b',\n",
       " '5dfc5ca551e9d21cd70f081c',\n",
       " '5e03c46867f28c56a510314b',\n",
       " '5e41659db3ffba0acaf7c04c',\n",
       " '5e226a9f9e41d99e7c461e59',\n",
       " '5e2bbacac650dd0695e4dc4e',\n",
       " '5e2f278468da78083bf0742d',\n",
       " '5e0607da89a3f6ad4292a5bf',\n",
       " '5e293c74db5a9b4f6bd84c63',\n",
       " '5e414d54c69a292b20023d1b',\n",
       " '5e04c2eaa5497eadc060082a',\n",
       " '5e0203187267f881f0aea777',\n",
       " '5e02cbb4143863a19c1c225d',\n",
       " '5dfc957ddb818e4cd386a2bb',\n",
       " '5e03558eef974b6aafe3e732',\n",
       " '5e2e3954f9f64bcdf4f6498b',\n",
       " '5dfbff3826b6c18e8998afae',\n",
       " '5dfbcac251e9d21cd70ee1ff',\n",
       " '5e2d313a150763b25f3c1932',\n",
       " '5e032b7d96916d76b9f29196',\n",
       " '5e2e4a9e2b2504a6726cac9a',\n",
       " '5e22995f06ba005a68c9879c',\n",
       " '5e4129ee9884ef77881c92e0',\n",
       " '5dfb776ebf2e0b3cf6aea443',\n",
       " '5e0392e773a22d8fef56c6ba',\n",
       " '5e2b034e6e8db59dae44db84',\n",
       " '5e413275716f57f812a3d0a7',\n",
       " '5e02872a85dcc9f5e4cc4f35',\n",
       " '5dfbe36631f3fbd32886b3a0',\n",
       " '5dfbfc3c7931d329d8feece9',\n",
       " '5e19ce9d119349b265fb9e7c',\n",
       " '5e1c4793b72e36aab5528172',\n",
       " '5e1c627cbcf287a7de293184',\n",
       " '5e2900c67aac96bdd8f49d68',\n",
       " '5dfc07d2549d26153cd69b19',\n",
       " '5e415d44e712a66b8171955f',\n",
       " '5e2551db3538b0645e55f007',\n",
       " '5e0515af191f3a78ef96f0c7',\n",
       " '5e04773e1010d8bea1e691d7',\n",
       " '5e0227eb606f1ebb7cc50265',\n",
       " '5e0331b670240b1410869eed',\n",
       " '5e2ecf115d65351045695ed9',\n",
       " '5dfc7642db818e4cd3869bba',\n",
       " '5e2e0bfbc3d7392a45b1cf38',\n",
       " '5e1941de6a057863a61ab323',\n",
       " '5e1c951f3cd54b066a4d3ae8',\n",
       " '5e028796606f1ebb7cc50d6b',\n",
       " '5e03ffab1010d8bea1e689d1',\n",
       " '5dfc074927e154cdda6e0312',\n",
       " '5e23171ea5dc30fdb13d90a3',\n",
       " '5e01f94a5bdcefce3718800e',\n",
       " '5e0221a896887f334cf981d8',\n",
       " '5e04a65f3d0ca2aa8b297196',\n",
       " '5e222ade223ba329831a2c7a',\n",
       " '5e02ee03d483815cfe523c3c',\n",
       " '5e2b73fa8492c13aaec9d810',\n",
       " '5e41466b16abbe1257f04560',\n",
       " '5dfbf163890c58587407edc8',\n",
       " '5e2583929d71396980a20673',\n",
       " '5e24d45f84ba7bc9e9459ff2',\n",
       " '5e2556066a456bfd34702123',\n",
       " '5e17be26d617366d3cfaa78b',\n",
       " '5e2e4dc32b6a7ab9f0c5b30a',\n",
       " '5e304a3ce07c558bdffd7c37',\n",
       " '5e01fee5606f1ebb7cc4fe52',\n",
       " '5e2b936a6aaf40e2fdc11268',\n",
       " '5dda3ea81d1484b8f03e44cd',\n",
       " '5e4141b49884ef77881c92f1',\n",
       " '5e02693e65c864d5a780532c',\n",
       " '5e0630ab878fa1320ca7c794',\n",
       " '5e23326e223ba329831a2fcc',\n",
       " '5dfb8389e8875662eea808e1',\n",
       " '5dfc50a0513ea04cb581bb63',\n",
       " '5e4167e69c46392036296b11',\n",
       " '5e1a4a01543d373693700e13',\n",
       " '5dfb6d7f6c1655c6f3d5008b',\n",
       " '5e2afd4115f27276f0436d80',\n",
       " '5e04790db0646dbaae2ac4ea',\n",
       " '5e026687b2e3bf3a4ea75942',\n",
       " '5e1ffa9cd6d1fe0a0766aff6',\n",
       " '5e029d3f8a10368c20cdceb9',\n",
       " '5e0204e4d695155b6fb4229c',\n",
       " '5e2d9f505815c15aeb65183f',\n",
       " '5e029c4e0046dfbf0228b5c7',\n",
       " '5e21265ba4d7ea5ea8ce154a',\n",
       " '5e025c8a37871d70d55ca087',\n",
       " '5e2b0dd7a90940f401e0bd13',\n",
       " '5e022454a980f0d393260576',\n",
       " '5e0514e6d9872b4ae546a0d0',\n",
       " '5e04118dab59a575650073d8',\n",
       " '5e23613486a4b26852d24c9a',\n",
       " '5e0370140b6e71900cfd5269',\n",
       " '5dfb73eb521d05797e7f5b95',\n",
       " '5dfc1cea9f007b135dc2aea9',\n",
       " '5e2294b7f22c0d07c8d9748d',\n",
       " '5e413dad78f4be3478ab874e',\n",
       " '5e2495ae1d8f95b372169dc5',\n",
       " '5e04a65e3d0ca2aa8b297194',\n",
       " '5e054ac5a5497eadc06010a2',\n",
       " '5e025536d695155b6fb42c7d',\n",
       " '5e02a3785bdcefce37189383',\n",
       " '5e064bb81d9672b9e003cd5c',\n",
       " '5e4140bec69a292b20023d0a',\n",
       " '5dfc82e3edfb487f94b2685a',\n",
       " '5e41476e788464fd507f4721',\n",
       " '5e035742fb4a974a8b0061a4',\n",
       " '5e029d6585dcc9f5e4cc5109',\n",
       " '5e41686b97c38359a402476b',\n",
       " '5de516b8d63ffa0f574027a5',\n",
       " '5e0255f60725f638f8326a4e',\n",
       " '5e2e5c0a4c744de41b4bb286',\n",
       " '5e04752293eef01521fe8b29',\n",
       " '5e03f5be13db9cc8f5360d45',\n",
       " '5e2bb859de1de11f269abf82',\n",
       " '5e046fc3ddce4382842812d4',\n",
       " '5e1f8ef9c71a15127b521477',\n",
       " '5dfc80e9cd6add290761d3ba',\n",
       " '5e24d460bb657edb9d74e12e',\n",
       " '5e248e4a4531456983998db0',\n",
       " '5e0450aad9c860524a2c3b4f',\n",
       " '5e02a992ce3bb8be4ca804db',\n",
       " '5e412ec9cf0291b2f06d5e1a',\n",
       " '5e17522a3a3af4aa7fe0c4f6',\n",
       " '5e412c3e236cd951f58c1064',\n",
       " '5e2ee051c75c313ecca12595',\n",
       " '5e2da882e20a99fdf925eac8',\n",
       " '5e06f06c1298d320538f6288',\n",
       " '5e18e8939b4b433e300a578e',\n",
       " '5e0255b09ac2235ce37d96ce',\n",
       " '5e24cefa882a9762235b4fc5',\n",
       " '5e25676170fe4a438914e5dd',\n",
       " '5e415d45236cd951f58c10a3',\n",
       " '5dfb70abb1fdc496a209afeb',\n",
       " '5e19c7499d7d158ea4de4c9a',\n",
       " '5e23613486a4b26852d24c99',\n",
       " '5e2277bd281e5c72fb648291',\n",
       " '5e217123b198fba2f0b1fdcd',\n",
       " '5e03cc35ddce4382842809b2',\n",
       " '5dfc5a8ea2a676bfe2c4e71e',\n",
       " '5e05cf3f6b931e47c78cb3eb',\n",
       " '5e2d2b02c654aad49a48ea0e',\n",
       " '5e4154d0788464fd507f4731',\n",
       " '5dfb73f4e37cc217ac91e233',\n",
       " '5e209c698294401399429dd6',\n",
       " '5e028d606eb4cb61d782a3bf',\n",
       " '5e41659eccf3f921ae0e5498',\n",
       " '5dfc93dd73157c57b827f2aa',\n",
       " '5e052c6fe7e8172012242127',\n",
       " '5e069fe0a6da9a7ebc018a76',\n",
       " '5e02d29a53d8049a4a9600d2',\n",
       " '5de4ec866965f1632be41cb3',\n",
       " '5dfc394eaaa9751df2225b67',\n",
       " '5e1800e0f42166dd2f50770e',\n",
       " '5e1a544e352fac589f040222',\n",
       " '5e02dc8a597262b5f1bdb030',\n",
       " '5e2fdfc84696656c26eb06ae',\n",
       " '5e04a2770ee7e1ea473939eb',\n",
       " '5dfb9b3d6c1655c6f3d5107c',\n",
       " '5e0282bcbdc0cfdae651124b',\n",
       " '5e41466c8d98474fbe9539b6',\n",
       " '5e20ce5880e6097a06fa7281',\n",
       " '5e2dd30118d3132c40e48764',\n",
       " '5e1800e0f42166dd2f50770f',\n",
       " '5e415db2236cd951f58c10a4',\n",
       " '5e2f5fb3b3f9596a81c0c9fa',\n",
       " '5e04c3bdb78dec48356f6dc2',\n",
       " '5e414666bc8f8b0d73d97f1b',\n",
       " '5e415f28cf0291b2f06d5e69',\n",
       " '5e062ccef929b4d94a4ab138',\n",
       " '5dfc6f61890c585874080dea',\n",
       " '5e4159f7f8a018d22b22cd29',\n",
       " '5e4146702b706163f5c1fef8',\n",
       " '5e03f79e493743b85c1edfda',\n",
       " '5e2d59c9ee63d0fbe956e640',\n",
       " '5e2bba4183242988c1a84347',\n",
       " '5e41671340b4b12b0b7d3ffc',\n",
       " '5e053f7cfeee0fbc388ae878',\n",
       " '5e0203147267f881f0aea741',\n",
       " '5e0203177267f881f0aea76a',\n",
       " '5e0212e79a4a601708614b93',\n",
       " '5e1be71c2bfd1409c7bab5c9',\n",
       " '5e4167127f6d48194fdfc21b',\n",
       " '5e02aa497c419d1a3d8bda99',\n",
       " '5e0231fd05e10908b7ae6137',\n",
       " '5e16f970e8a444c2ef733b55',\n",
       " '5e02031b7267f881f0aea792',\n",
       " '5e257ccd09bb88be0dfec13f',\n",
       " '5e2c04297f204816bfb57c33',\n",
       " '5e0368ae5b41d65afecfc758',\n",
       " '5e1fd2e59c6d51cc7dedaf82',\n",
       " '5e41394f236cd951f58c1076',\n",
       " '5e02b0810046dfbf0228b885',\n",
       " '5e1979fbeaffecb8a2373334',\n",
       " '5e4146edccf3f921ae0e5475',\n",
       " '5e2bb4fd71ffaa8e2c22ea7a',\n",
       " '5dfc772251e9d21cd70f0db9',\n",
       " '5dfc8abe890c585874081471',\n",
       " '5e05ef1ac5530f17ed01107d',\n",
       " '5e2cd3fdbc3f957ac672c538',\n",
       " '5e302ea67b6175ba6683508b',\n",
       " '5e413e496ac499509110e4de',\n",
       " '5e23e4eff40132f1c7c4de6f',\n",
       " '5e28d79d602dda979ddb378c',\n",
       " '5e2b7ac16e976c0dd1f8ab05',\n",
       " '5e172549721658904464fe01',\n",
       " '5e2febdcab8ced735d289d66',\n",
       " '5e044762484257f22990c08a',\n",
       " '5e4146909884ef77881c92f8',\n",
       " '5e0312bc53d8049a4a960560',\n",
       " '5dfb7dad31f3fbd3288694a6',\n",
       " '5e035ed8ed98641788e0d05c',\n",
       " '5e415436d8a97424dda3e6a7',\n",
       " '5e021657a3c1a6a847401cd3',\n",
       " '5e2d0d8210c43d5ed05496d4',\n",
       " '5e2b6cbe6eea5a479be54e26',\n",
       " '5e0447d71010d8bea1e68e5a',\n",
       " '5e2d77b0840e57f9da51ec06',\n",
       " '5e065fcda6da9a7ebc0186ba',\n",
       " '5e2583989d71396980a206a1',\n",
       " '5dfc68b2d5b8219a13e7e701',\n",
       " '5e06e3e06fc9fddca7ff9db6',\n",
       " '5e25799dd2fe615955d1a6f1',\n",
       " '5e2e5c094c744de41b4bb27e',\n",
       " '5dfc11f2c68b4dfe7d1f0eab',\n",
       " '5dfc63d67931d329d8ff069c',\n",
       " '5e221ff93e6a5e39d358fc09',\n",
       " '5e415d422ee5dee139a39937',\n",
       " '5e021afc1dec0efca9d289ed',\n",
       " '5e202259850c498df87064de',\n",
       " '5e2b6c944aa14f056e47561f',\n",
       " '5e068f572d4b00df94377c77',\n",
       " '5e02825ea3c1a6a8474027f8',\n",
       " '5e414d4e97c38359a4024750',\n",
       " '5e2ea58596998d025b4b4ce7',\n",
       " '5e2495b11d8f95b372169ddc',\n",
       " '5e24d45cca2118ef7f923f11',\n",
       " '5e191590693ff4a3c4b6ef19',\n",
       " '5e19ffc61d0732b79b7a309b',\n",
       " '5e415d398c81ee1b0ea8bb8e',\n",
       " '5e020ed7606f1ebb7cc50070',\n",
       " '5e2fff2616b6ba9b5cb3c29a',\n",
       " '5e293c74db5a9b4f6bd84c68',\n",
       " '5e197ca544e569d6d6f55638',\n",
       " '5dfbab72fd1ff25d9a8f6767',\n",
       " '5dfc73f1513ea04cb581c3a8',\n",
       " '5e25a67f498ca6c016122c88',\n",
       " '5e17070b37a9441cf51d4beb',\n",
       " '5dda5b47ecf2eeb7be925255',\n",
       " '5e0260946ec8191638591080',\n",
       " ...]"
      ]
     },
     "execution_count": 5,
     "metadata": {},
     "output_type": "execute_result"
    }
   ],
   "source": [
    "data"
   ]
  },
  {
   "cell_type": "code",
   "execution_count": 6,
   "metadata": {},
   "outputs": [],
   "source": [
    "def dictImplementation(tagsList):\n",
    "    result = []\n",
    "    for tag in tagsList:\n",
    "        if tag.lower() in tags_by_tag_old and tags_by_tag_old[tag.lower()] != [0]:\n",
    "            result += tags_by_tag_old[tag.lower()]\n",
    "        if tag.lower() not in tags_by_tag_old:\n",
    "            result.append(tag.lower())\n",
    "            print(tag.lower())\n",
    "    return list(set(result))"
   ]
  },
  {
   "cell_type": "code",
   "execution_count": null,
   "metadata": {},
   "outputs": [],
   "source": []
  },
  {
   "cell_type": "code",
   "execution_count": 52,
   "metadata": {},
   "outputs": [
    {
     "name": "stderr",
     "output_type": "stream",
     "text": [
      "\n",
      "\n",
      "\n",
      "\n",
      "\n",
      "\n",
      "  4%|▍         | 102/2651 [00:20<04:54,  8.64it/s]\u001b[A\u001b[A\u001b[A\u001b[A\u001b[A\u001b[A"
     ]
    }
   ],
   "source": [
    "def updateAPP(bson_id, new_list):\n",
    "    before = db_client[\"tweets_pipeline_v2\"].find_one({\"_id\":bson.ObjectId(bson_id)})\n",
    "#     print(bson_id)\n",
    "    print(\"BEFORE:\", before[\"status\"])\n",
    "    date = datetime.now()\n",
    "    ########################## CHANGES ######################\n",
    "    status = \"graphicone_search\"\n",
    "#     print()\n",
    "#     print(\"status\", status)\n",
    "#     print(\"approved_timestamp\", [date])\n",
    "#     print(\"grafeed_confirmed\", new_list)\n",
    "#     print(\"additional_info\", \"moderator passed\")\n",
    "#     print(\"grafeed_approver\", \"VasiliiUshakov\")\n",
    "#     print()\n",
    "    \n",
    "    \n",
    "    \n",
    "    db_client[\"tweets_pipeline_v2\"].update_one({\"_id\":bson.ObjectId(bson_id)},\n",
    "                                    {\"$set\":{\"status\": status,\n",
    "                                             \"approved_timestamp\": date,\n",
    "                                             \"grafeed_confirmed\": new_list,\n",
    "                                             \"additional_info\": \"moderator tool passed\",\n",
    "                                             \"grafeed_approver\": \"VasiliiUshakov\",\n",
    "                                            }})\n",
    "    \n",
    "    \n",
    "\n",
    "    after = db_client[\"tweets_pipeline_v2\"].find_one({\"_id\":bson.ObjectId(bson_id)})\n",
    "    print(\"AFTER:\", after[\"status\"], after[\"approved_timestamp\"], after[\"grafeed_confirmed\"], after[\"additional_info\"], after[\"grafeed_approver\"])\n",
    "#     print(\"AFTER:\", new_list)\n",
    "#     print()     "
   ]
  },
  {
   "cell_type": "code",
   "execution_count": 53,
   "metadata": {
    "scrolled": true
   },
   "outputs": [
    {
     "name": "stderr",
     "output_type": "stream",
     "text": [
      "\n",
      "\n",
      "\n",
      "\n",
      "\n",
      "\n",
      "\n",
      "  0%|          | 0/2650 [00:00<?, ?it/s]\u001b[A\u001b[A\u001b[A\u001b[A\u001b[A\u001b[A\u001b[A\n",
      "\n",
      "\n",
      "\n",
      "\n",
      "\n",
      "\n",
      "  0%|          | 1/2650 [00:00<07:25,  5.94it/s]\u001b[A\u001b[A\u001b[A\u001b[A\u001b[A\u001b[A\u001b[A\n",
      "\n",
      "\n",
      "\n",
      "\n",
      "\n",
      "\n",
      "  4%|▍         | 102/2650 [00:00<05:02,  8.42it/s]\u001b[A\u001b[A\u001b[A\u001b[A\u001b[A\u001b[A\u001b[A\n",
      "\n",
      "\n",
      "\n",
      "\n",
      "\n",
      "\n",
      " 39%|███▉      | 1028/2650 [00:00<02:14, 12.03it/s]\u001b[A\u001b[A\u001b[A\u001b[A\u001b[A\u001b[A\u001b[A"
     ]
    },
    {
     "name": "stdout",
     "output_type": "stream",
     "text": [
      "BEFORE: validated\n",
      "AFTER: graphicone_search 2020-02-18 14:34:05.752000 ['macro', 'sentiment', 'gdp', 'uk'] moderator tool passed VasiliiUshakov\n",
      "BEFORE: validated\n",
      "AFTER: graphicone_search 2020-02-18 14:34:05.837000 ['us', 'banking', 'loan', 'etf', 'index', 'construction & engineering'] moderator tool passed VasiliiUshakov\n",
      "BEFORE: validated\n",
      "AFTER: graphicone_search 2020-02-18 14:34:05.921000 ['macro', 'japan', 'index'] moderator tool passed VasiliiUshakov\n",
      "BEFORE: validated\n",
      "AFTER: graphicone_search 2020-02-18 14:34:06.004000 ['sentiment', 'bull market'] moderator tool passed VasiliiUshakov\n",
      "BEFORE: validated\n",
      "AFTER: graphicone_search 2020-02-18 14:34:06.088000 ['macro', 'uk', 'bank of england', 'interest rates', 'monetary policy'] moderator tool passed VasiliiUshakov\n",
      "BEFORE: validated\n",
      "AFTER: graphicone_search 2020-02-18 14:34:06.172000 ['macro', 'gdp', 'government bonds', 'germany', 'interest rates', 'bonds'] moderator tool passed VasiliiUshakov\n",
      "BEFORE: validated\n",
      "AFTER: graphicone_search 2020-02-18 14:34:06.255000 ['commodities', 'export', 'soybean', 'trade', 'retail'] moderator tool passed VasiliiUshakov\n",
      "BEFORE: validated\n",
      "AFTER: graphicone_search 2020-02-18 14:34:06.339000 ['us', 'credit', 'interest rates', 'banking'] moderator tool passed VasiliiUshakov\n",
      "BEFORE: validated\n",
      "AFTER: graphicone_search 2020-02-18 14:34:06.423000 ['climate change', 'vehicles', 'environment', 'emissions'] moderator tool passed VasiliiUshakov\n",
      "BEFORE: validated\n",
      "AFTER: graphicone_search 2020-02-18 14:34:06.507000 ['us', 'index', 's&p', 'fed'] moderator tool passed VasiliiUshakov\n",
      "BEFORE: validated\n",
      "AFTER: graphicone_search 2020-02-18 14:34:06.590000 ['middle east', 'eu', 'asia', 'africa', 'latin america', 'global', 'transportation', 'north america'] moderator tool passed VasiliiUshakov\n",
      "BEFORE: validated\n",
      "AFTER: graphicone_search 2020-02-18 14:34:06.674000 ['wealth', 'generation x', 'generations', 'us', 'millennials', 'boomers'] moderator tool passed VasiliiUshakov\n",
      "BEFORE: validated\n",
      "AFTER: graphicone_search 2020-02-18 14:34:06.758000 ['volatility', 'index', 'global'] moderator tool passed VasiliiUshakov\n",
      "BEFORE: validated\n",
      "AFTER: graphicone_search 2020-02-18 14:34:06.841000 ['middle east', 'democracy', 'eu', 'asia', 'africa', 'latin america', 'politics', 'north america', 'index'] moderator tool passed VasiliiUshakov\n",
      "BEFORE: validated\n",
      "AFTER: graphicone_search 2020-02-18 14:34:06.925000 ['france', 'japan', 'canada', 'uk', 'germany', 'india', 'italy', 'china', 'us', 'south korea', 'politics', 'turkey', 'australia', 'russia', 'brazil', 'saudi arabia', 'military'] moderator tool passed VasiliiUshakov\n",
      "BEFORE: validated\n",
      "AFTER: graphicone_search 2020-02-18 14:34:07.009000 ['us', 'politics', 'democracy'] moderator tool passed VasiliiUshakov\n",
      "BEFORE: validated\n",
      "AFTER: graphicone_search 2020-02-18 14:34:07.092000 ['information technology', 'manufacturing', 'global', 'iot'] moderator tool passed VasiliiUshakov\n",
      "BEFORE: validated\n",
      "AFTER: graphicone_search 2020-02-18 14:34:07.176000 ['student loan', 'us'] moderator tool passed VasiliiUshakov\n",
      "BEFORE: validated\n",
      "AFTER: graphicone_search 2020-02-18 14:34:07.259000 ['disasters', 'emissions', 'australia', 'climate change', 'ecology'] moderator tool passed VasiliiUshakov\n",
      "BEFORE: validated\n",
      "AFTER: graphicone_search 2020-02-18 14:34:07.343000 ['large caps', 'index', 's&p'] moderator tool passed VasiliiUshakov\n",
      "BEFORE: validated\n",
      "AFTER: graphicone_search 2020-02-18 14:34:07.427000 ['labor', 'employment', 'nonfarm payrolls'] moderator tool passed VasiliiUshakov\n",
      "BEFORE: validated\n",
      "AFTER: graphicone_search 2020-02-18 14:34:07.510000 ['electricity', 'clean energy', 'germany', 'commodities', 'solar energy', 'gas', 'energy'] moderator tool passed VasiliiUshakov\n",
      "BEFORE: validated\n",
      "AFTER: graphicone_search 2020-02-18 14:34:07.594000 ['us', 'credit', 'interest rates', 'banking'] moderator tool passed VasiliiUshakov\n",
      "BEFORE: validated\n",
      "AFTER: graphicone_search 2020-02-18 14:34:07.677000 ['wealth', 'oecd', 'taxes'] moderator tool passed VasiliiUshakov\n",
      "BEFORE: validated\n",
      "AFTER: graphicone_search 2020-02-18 14:34:07.761000 ['manufacturing', 'sentiment', 'ism', 'index'] moderator tool passed VasiliiUshakov\n",
      "BEFORE: validated\n",
      "AFTER: graphicone_search 2020-02-18 14:34:07.844000 ['employment', 'labor', 'nonfarm payrolls'] moderator tool passed VasiliiUshakov\n",
      "BEFORE: validated\n",
      "AFTER: graphicone_search 2020-02-18 14:34:07.928000 ['meat', 'germany', 'china', 'commodities', 'us', 'russia', 'brazil', 'agriculture', 'retail'] moderator tool passed VasiliiUshakov\n",
      "BEFORE: validated\n",
      "AFTER: graphicone_search 2020-02-18 14:34:08.011000 ['macro', 'trade war', 'imports', 'china', 'trade', 'export'] moderator tool passed VasiliiUshakov\n",
      "BEFORE: validated\n",
      "AFTER: graphicone_search 2020-02-18 14:34:08.095000 ['japan', 'south africa', 'mexico', 'indonesia', 'colombia', 'venezuela', 'canada', 'eu', 'india', 'china', 'turkey', 'iran', 'environment', 'ukraine', 'us', 'emissions', 'climate change', 'turkmenistan', 'spain', 'uk', 'south korea', 'russia', 'uae'] moderator tool passed VasiliiUshakov\n",
      "BEFORE: validated\n",
      "AFTER: graphicone_search 2020-02-18 14:34:08.179000 ['social', 'us'] moderator tool passed VasiliiUshakov\n",
      "BEFORE: validated\n",
      "AFTER: graphicone_search 2020-02-18 14:34:08.262000 ['asia', 'oil', 'commodities', 'trade', 'us', 'energy'] moderator tool passed VasiliiUshakov\n",
      "BEFORE: validated\n",
      "AFTER: graphicone_search 2020-02-18 14:34:08.346000 ['macro', 'china', 'trade'] moderator tool passed VasiliiUshakov\n",
      "BEFORE: validated\n",
      "AFTER: graphicone_search 2020-02-18 14:34:08.430000 ['japan', 'germany', 'mexico', 'ftse', 'materials', 'france', 'brazil', 'communications', 'industrials', 'real estate', 'china', 'bovespa', 'health', 'energy', 'global', 'nikkei', 's&p', 'utilities', 'hang seng index', 'consumer staples', 'hong kong', 'us', 'consumer discretionary', 'chile', 'financials', 'dax', 'uk', 'nasdaq composite', 'information technology', 'index'] moderator tool passed VasiliiUshakov\n",
      "BEFORE: validated\n",
      "AFTER: graphicone_search 2020-02-18 14:34:08.514000 ['real estate', 'vancouver', 'canada'] moderator tool passed VasiliiUshakov\n",
      "BEFORE: validated\n",
      "AFTER: graphicone_search 2020-02-18 14:34:08.597000 ['us', 'real estate', 'construction & engineering'] moderator tool passed VasiliiUshakov\n",
      "BEFORE: validated\n",
      "AFTER: graphicone_search 2020-02-18 14:34:08.681000 ['macro', 'nigeria', 'inflation', 'interest rates', 'monetary policy'] moderator tool passed VasiliiUshakov\n",
      "BEFORE: validated\n",
      "AFTER: graphicone_search 2020-02-18 14:34:08.765000 ['japan', 'vietnam', 'trade war', 'canada', 'korea', 'imports', 'china', 'trade', 'mexico', 'us'] moderator tool passed VasiliiUshakov\n",
      "BEFORE: validated\n",
      "AFTER: graphicone_search 2020-02-18 14:34:08.848000 ['germany', 'energy', 'fuel', 'coal'] moderator tool passed VasiliiUshakov\n",
      "BEFORE: validated\n",
      "AFTER: graphicone_search 2020-02-18 14:34:08.932000 ['angola', 'senegal', 'south africa', 'uganda', 'africa', 'nigeria', 'rwanda', 'global', 'niger', 'mozambique'] moderator tool passed VasiliiUshakov\n",
      "BEFORE: validated\n",
      "AFTER: graphicone_search 2020-02-18 14:34:09.016000 ['germany', 'macro', 'gdp'] moderator tool passed VasiliiUshakov\n",
      "BEFORE: validated\n",
      "AFTER: graphicone_search 2020-02-18 14:34:09.100000 ['real estate', 'construction & engineering', 'australia'] moderator tool passed VasiliiUshakov\n",
      "BEFORE: validated\n",
      "AFTER: graphicone_search 2020-02-18 14:34:09.183000 ['macro', 'consumer', 'gdp'] moderator tool passed VasiliiUshakov\n",
      "BEFORE: validated\n",
      "AFTER: graphicone_search 2020-02-18 14:34:09.267000 ['electricity', 'wind power', 'clean energy', 'china', 'solar energy', 'energy', 'nuclear power'] moderator tool passed VasiliiUshakov\n",
      "BEFORE: validated\n",
      "AFTER: graphicone_search 2020-02-18 14:34:09.351000 ['cpi', 'inflation', 'index', 'uk'] moderator tool passed VasiliiUshakov\n",
      "BEFORE: validated\n",
      "AFTER: graphicone_search 2020-02-18 14:34:09.435000 ['ppi', 'inflation', 'uk'] moderator tool passed VasiliiUshakov\n",
      "BEFORE: validated\n",
      "AFTER: graphicone_search 2020-02-18 14:34:09.519000 ['eu', 'bonds', 'us', 'uk'] moderator tool passed VasiliiUshakov\n",
      "BEFORE: validated\n",
      "AFTER: graphicone_search 2020-02-18 14:34:09.602000 ['lithuania', 'population'] moderator tool passed VasiliiUshakov\n",
      "BEFORE: validated\n",
      "AFTER: graphicone_search 2020-02-18 14:34:09.686000 ['employment', 'index', 'labor'] moderator tool passed VasiliiUshakov\n",
      "BEFORE: validated\n",
      "AFTER: graphicone_search 2020-02-18 14:34:09.770000 ['macro', 'uk', 'inflation', 'cpi', 'index'] moderator tool passed VasiliiUshakov\n",
      "BEFORE: validated\n",
      "AFTER: graphicone_search 2020-02-18 14:34:09.853000 ['iphone', 'global'] moderator tool passed VasiliiUshakov\n",
      "BEFORE: validated\n"
     ]
    },
    {
     "name": "stdout",
     "output_type": "stream",
     "text": [
      "AFTER: graphicone_search 2020-02-18 14:34:09.937000 ['gdp', 'nigeria', 'egypt'] moderator tool passed VasiliiUshakov\n",
      "BEFORE: validated\n",
      "AFTER: graphicone_search 2020-02-18 14:34:10.021000 ['climate change', 'commodities', 'oil', 'canada'] moderator tool passed VasiliiUshakov\n",
      "BEFORE: validated\n",
      "AFTER: graphicone_search 2020-02-18 14:34:10.104000 ['france', 'japan', 'uk', 'sweden', 'eu', 'germany', 'automotive', 'china', 'italy', 'us', 'south korea', 'global', 'education'] moderator tool passed VasiliiUshakov\n",
      "BEFORE: validated\n",
      "AFTER: graphicone_search 2020-02-18 14:34:10.188000 ['emerging markets', 'etf', 'volatility', 'index', 'msci'] moderator tool passed VasiliiUshakov\n",
      "BEFORE: validated\n",
      "AFTER: graphicone_search 2020-02-18 14:34:10.271000 ['cpi', 'inflation', 'index', 'uk'] moderator tool passed VasiliiUshakov\n",
      "BEFORE: validated\n",
      "AFTER: graphicone_search 2020-02-18 14:34:10.355000 ['government bonds', 'eu', 'bonds', 'interest rates'] moderator tool passed VasiliiUshakov\n",
      "BEFORE: validated\n",
      "AFTER: graphicone_search 2020-02-18 14:34:10.439000 ['us', 'index', 's&p'] moderator tool passed VasiliiUshakov\n",
      "BEFORE: validated\n",
      "AFTER: graphicone_search 2020-02-18 14:34:10.522000 ['euro', 'chf', 'us', 'currency'] moderator tool passed VasiliiUshakov\n",
      "BEFORE: validated\n",
      "AFTER: graphicone_search 2020-02-18 14:34:10.606000 ['environment', 'eu', 'india', 'china', 'us', 'emissions'] moderator tool passed VasiliiUshakov\n",
      "BEFORE: validated\n",
      "AFTER: graphicone_search 2020-02-18 14:34:10.690000 ['children', 'sweden', 'woman', 'population', 'ireland'] moderator tool passed VasiliiUshakov\n",
      "BEFORE: validated\n",
      "AFTER: graphicone_search 2020-02-18 14:34:10.774000 ['payments', 'banking', 'north america', 'consumer', 'retail'] moderator tool passed VasiliiUshakov\n",
      "BEFORE: validated\n",
      "AFTER: graphicone_search 2020-02-18 14:34:10.858000 ['gdp', 'us', 'interest rates', 'fed', 'debt'] moderator tool passed VasiliiUshakov\n",
      "BEFORE: validated\n",
      "AFTER: graphicone_search 2020-02-18 14:34:10.941000 ['ceo', 'index', 's&p'] moderator tool passed VasiliiUshakov\n",
      "BEFORE: validated\n",
      "AFTER: graphicone_search 2020-02-18 14:34:11.025000 ['medicine', 'children'] moderator tool passed VasiliiUshakov\n",
      "BEFORE: validated\n",
      "AFTER: graphicone_search 2020-02-18 14:34:11.109000 ['italy', 'gdp', 'spain'] moderator tool passed VasiliiUshakov\n",
      "BEFORE: validated\n",
      "AFTER: graphicone_search 2020-02-18 14:34:11.192000 ['us', 'oil', 'commodities', 'fuel'] moderator tool passed VasiliiUshakov\n",
      "BEFORE: validated\n",
      "AFTER: graphicone_search 2020-02-18 14:34:11.276000 ['gasoline', 'us', 'commodities'] moderator tool passed VasiliiUshakov\n",
      "BEFORE: validated\n",
      "AFTER: graphicone_search 2020-02-18 14:34:11.359000 ['employment', 'labor', 'clinton', 'us', 'trump'] moderator tool passed VasiliiUshakov\n",
      "BEFORE: validated\n",
      "AFTER: graphicone_search 2020-02-18 14:34:11.443000 ['manufacturing', 'brazil', 'retail'] moderator tool passed VasiliiUshakov\n",
      "BEFORE: validated\n",
      "AFTER: graphicone_search 2020-02-18 14:34:11.527000 ['macro', 'gdp', 'global'] moderator tool passed VasiliiUshakov\n",
      "BEFORE: validated\n",
      "AFTER: graphicone_search 2020-02-18 14:34:11.610000 ['trade', 'macro', 'gdp', 'global'] moderator tool passed VasiliiUshakov\n",
      "BEFORE: validated\n",
      "AFTER: graphicone_search 2020-02-18 14:34:11.694000 ['gdp', 'eu', 'germany', 'italy', 'portugal', 'france', 'netherlands', 'spain'] moderator tool passed VasiliiUshakov\n",
      "BEFORE: validated\n",
      "AFTER: graphicone_search 2020-02-18 14:34:11.777000 ['electricity', 'industrials', 'us', 'energy', 'transportation', 'consumer'] moderator tool passed VasiliiUshakov\n",
      "BEFORE: validated\n",
      "AFTER: graphicone_search 2020-02-18 14:34:11.862000 ['us', 'oil', 'commodities'] moderator tool passed VasiliiUshakov\n",
      "BEFORE: validated\n",
      "AFTER: graphicone_search 2020-02-18 14:34:11.945000 ['e-commerce', 'japan', 'new zealand', 'singapore', 'china', 'us', 'south korea', 'australia', 'internet', 'retail'] moderator tool passed VasiliiUshakov\n",
      "BEFORE: validated\n",
      "AFTER: graphicone_search 2020-02-18 14:34:12.029000 ['gender', 'population', 'demography', 'woman'] moderator tool passed VasiliiUshakov\n",
      "BEFORE: validated\n",
      "AFTER: graphicone_search 2020-02-18 14:34:12.113000 ['meat', 'diseases', 'china', 'commodities', 'pork', 'retail'] moderator tool passed VasiliiUshakov\n",
      "BEFORE: validated\n",
      "AFTER: graphicone_search 2020-02-18 14:34:12.196000 ['gdp', 'canada', 'government'] moderator tool passed VasiliiUshakov\n",
      "BEFORE: validated\n",
      "AFTER: graphicone_search 2020-02-18 14:34:12.280000 ['us', 'real estate'] moderator tool passed VasiliiUshakov\n",
      "BEFORE: validated\n",
      "AFTER: graphicone_search 2020-02-18 14:34:12.364000 ['oil', 'commodities', 'solar energy', 'gas', 'us', 'energy', 'coal'] moderator tool passed VasiliiUshakov\n",
      "BEFORE: validated\n",
      "AFTER: graphicone_search 2020-02-18 14:34:12.447000 ['hang seng index', 'hong kong', 'banking', 'financials', 'index'] moderator tool passed VasiliiUshakov\n",
      "BEFORE: validated\n",
      "AFTER: graphicone_search 2020-02-18 14:34:12.531000 ['us', 'music', 'digital'] moderator tool passed VasiliiUshakov\n",
      "BEFORE: validated\n",
      "AFTER: graphicone_search 2020-02-18 14:34:12.615000 ['tiktok', 'vietnam', 'egypt', 'india', 'china', 'indonesia', 'us', 'russia', 'turkey', 'global', 'pakistan'] moderator tool passed VasiliiUshakov\n",
      "BEFORE: validated\n",
      "AFTER: graphicone_search 2020-02-18 14:34:12.698000 ['czech republic', 'poland', 'beer', 'germany', 'alcohol', 'romania', 'austria', 'retail'] moderator tool passed VasiliiUshakov\n",
      "BEFORE: validated\n",
      "AFTER: graphicone_search 2020-02-18 14:34:12.782000 ['fuel', 'imports', 'oil', 'china', 'export', 'trade', 'commodities'] moderator tool passed VasiliiUshakov\n",
      "BEFORE: validated\n",
      "AFTER: graphicone_search 2020-02-18 14:34:12.866000 ['unicorns', 'startups'] moderator tool passed VasiliiUshakov\n",
      "BEFORE: validated\n",
      "AFTER: graphicone_search 2020-02-18 14:34:12.949000 ['korea', 'philippines', 'india', 'thailand', 'china', 'currency', 'singapore', 'indonesia', 'malaysia', 'taiwan'] moderator tool passed VasiliiUshakov\n",
      "BEFORE: validated\n",
      "AFTER: graphicone_search 2020-02-18 14:34:13.033000 ['high yield', 'bonds', 'energy', 'index'] moderator tool passed VasiliiUshakov\n",
      "BEFORE: validated\n",
      "AFTER: graphicone_search 2020-02-18 14:34:13.117000 ['bubble', 'wilshire index', 'us', 'fed', 'index'] moderator tool passed VasiliiUshakov\n",
      "BEFORE: validated\n",
      "AFTER: graphicone_search 2020-02-18 14:34:13.201000 ['china', 'beijing', 'us', 'manufacturing', 'energy', 'agriculture', 'retail'] moderator tool passed VasiliiUshakov\n",
      "BEFORE: validated\n",
      "AFTER: graphicone_search 2020-02-18 14:34:13.285000 ['us', 'vehicles', 'automotive'] moderator tool passed VasiliiUshakov\n",
      "BEFORE: validated\n",
      "AFTER: graphicone_search 2020-02-18 14:34:13.368000 ['metals & mining', 'commodities', 'banking', 'russia', 'gold'] moderator tool passed VasiliiUshakov\n",
      "BEFORE: validated\n",
      "AFTER: graphicone_search 2020-02-18 14:34:13.452000 ['retail', 'imports', 'export', 'trade'] moderator tool passed VasiliiUshakov\n",
      "BEFORE: validated\n",
      "AFTER: graphicone_search 2020-02-18 14:34:13.536000 ['sentiment', 'government bonds', 'eu', 'germany', 'inflation', 'bonds'] moderator tool passed VasiliiUshakov\n",
      "BEFORE: validated\n",
      "AFTER: graphicone_search 2020-02-18 14:34:13.620000 ['eu', 'real estate'] moderator tool passed VasiliiUshakov\n",
      "BEFORE: validated\n",
      "AFTER: graphicone_search 2020-02-18 14:34:13.704000 ['gdp', 'oecd', 'macro', 'china'] moderator tool passed VasiliiUshakov\n",
      "BEFORE: validated\n",
      "AFTER: graphicone_search 2020-02-18 14:34:13.788000 ['retail', 'uk', 'restaurants'] moderator tool passed VasiliiUshakov\n",
      "BEFORE: validated\n",
      "AFTER: graphicone_search 2020-02-18 14:34:13.871000 ['brexit', 'france', 'poland', 'bulgaria', 'uk', 'hungary', 'eu', 'italy', 'latvia', 'romania', 'portugal', 'politics', 'legal', 'lithuania', 'spain'] moderator tool passed VasiliiUshakov\n",
      "BEFORE: validated\n",
      "AFTER: graphicone_search 2020-02-18 14:34:13.955000 ['eu', 'real estate'] moderator tool passed VasiliiUshakov\n",
      "BEFORE: validated\n",
      "AFTER: graphicone_search 2020-02-18 14:34:14.039000 ['imports', 'oil', 'china', 'commodities', 'export', 'trade'] moderator tool passed VasiliiUshakov\n",
      "BEFORE: validated\n",
      "AFTER: graphicone_search 2020-02-18 14:34:14.122000 ['ipo', 'us'] moderator tool passed VasiliiUshakov\n",
      "BEFORE: validated\n",
      "AFTER: graphicone_search 2020-02-18 14:34:14.206000 ['copper', 'metals & mining', 'commodities', 'aluminium'] moderator tool passed VasiliiUshakov\n",
      "BEFORE: validated\n",
      "AFTER: graphicone_search 2020-02-18 14:34:14.290000 ['us', 'manufacturing', 'macro', 'index'] moderator tool passed VasiliiUshakov\n",
      "BEFORE: validated\n",
      "AFTER: graphicone_search 2020-02-18 14:34:14.373000 ['wind power', 'geothermal', 'hydro', 'solar energy', 'renewables', 'us', 'marine', 'energy', 'biomass', 'waste', 'biofuel'] moderator tool passed VasiliiUshakov\n",
      "BEFORE: validated\n"
     ]
    },
    {
     "name": "stdout",
     "output_type": "stream",
     "text": [
      "AFTER: graphicone_search 2020-02-18 14:34:14.457000 ['funds', 'repo'] moderator tool passed VasiliiUshakov\n",
      "BEFORE: validated\n",
      "AFTER: graphicone_search 2020-02-18 14:34:14.540000 ['hardware', 'software', 'data', 'global'] moderator tool passed VasiliiUshakov\n",
      "BEFORE: validated\n",
      "AFTER: graphicone_search 2020-02-18 14:34:14.624000 ['japan', 'vietnam', 'eu', 'thailand', 'china', 'trade', 'export', 'us', 'malaysia', 'taiwan'] moderator tool passed VasiliiUshakov\n",
      "BEFORE: validated\n",
      "AFTER: graphicone_search 2020-02-18 14:34:14.708000 ['smartphone', 'smart device', 'us', 'digital media', 'mobile'] moderator tool passed VasiliiUshakov\n",
      "BEFORE: validated\n",
      "AFTER: graphicone_search 2020-02-18 14:34:14.792000 ['government bonds', 'nomura', 'hedge funds', 'futures', 'bonds'] moderator tool passed VasiliiUshakov\n",
      "BEFORE: validated\n",
      "AFTER: graphicone_search 2020-02-18 14:34:14.876000 ['employment', 'macro', 'utilities', 'labor', 'education', 'manufacturing', 'health', 'transportation', 'leisure', 'financials', 'retail', 'construction & engineering'] moderator tool passed VasiliiUshakov\n",
      "BEFORE: validated\n",
      "AFTER: graphicone_search 2020-02-18 14:34:14.959000 ['ecology', 'vietnam', 'environment', 'philippines', 'egypt', 'thailand', 'china', 'nigeria', 'sri lanka', 'indonesia', 'us', 'malaysia', 'emissions', 'brazil', 'bangladesh'] moderator tool passed VasiliiUshakov\n",
      "BEFORE: validated\n",
      "AFTER: graphicone_search 2020-02-18 14:34:15.043000 ['employment', 'jobless claims', 'labor'] moderator tool passed VasiliiUshakov\n",
      "BEFORE: validated\n",
      "AFTER: graphicone_search 2020-02-18 14:34:15.127000 ['france', 'bonds', 'interest rates', 'government bonds'] moderator tool passed VasiliiUshakov\n",
      "BEFORE: validated\n",
      "AFTER: graphicone_search 2020-02-18 14:34:15.211000 ['loan', 'banking'] moderator tool passed VasiliiUshakov\n",
      "BEFORE: validated\n",
      "AFTER: graphicone_search 2020-02-18 14:34:15.295000 ['mortgage', 'us', 'interest rates'] moderator tool passed VasiliiUshakov\n",
      "BEFORE: validated\n",
      "AFTER: graphicone_search 2020-02-18 14:34:15.379000 ['consumer', 'retail'] moderator tool passed VasiliiUshakov\n",
      "BEFORE: validated\n",
      "AFTER: graphicone_search 2020-02-18 14:34:15.463000 ['developed markets', 'usd', 'volatility', 'index'] moderator tool passed VasiliiUshakov\n",
      "BEFORE: validated\n",
      "AFTER: graphicone_search 2020-02-18 14:34:15.547000 ['employment', 'labor', 'eu'] moderator tool passed VasiliiUshakov\n",
      "BEFORE: validated\n",
      "AFTER: graphicone_search 2020-02-18 14:34:15.630000 ['us', 'real estate', 'ism', 'index'] moderator tool passed VasiliiUshakov\n",
      "BEFORE: validated\n",
      "AFTER: graphicone_search 2020-02-18 14:34:15.714000 ['retail'] moderator tool passed VasiliiUshakov\n",
      "BEFORE: validated\n",
      "AFTER: graphicone_search 2020-02-18 14:34:15.798000 ['japan', 'china', 'us', 'health', 'toys', 'electronics', 'consumer', 'apparel', 'retail', 'gaming'] moderator tool passed VasiliiUshakov\n",
      "BEFORE: validated\n",
      "AFTER: graphicone_search 2020-02-18 14:34:15.882000 ['electricity', 'hydro', 'oil', 'commodities', 'gas', 'south korea', 'energy', 'nuclear power', 'coal'] moderator tool passed VasiliiUshakov\n",
      "BEFORE: validated\n",
      "AFTER: graphicone_search 2020-02-18 14:34:15.965000 ['macro', 'us', 'inflation', 'cpi', 'index'] moderator tool passed VasiliiUshakov\n",
      "BEFORE: validated\n",
      "AFTER: graphicone_search 2020-02-18 14:34:16.049000 ['electricity', 'wind power', 'commodities', 'solar energy', 'gas', 'us', 'energy'] moderator tool passed VasiliiUshakov\n",
      "BEFORE: validated\n",
      "AFTER: graphicone_search 2020-02-18 14:34:16.133000 ['crimes'] moderator tool passed VasiliiUshakov\n",
      "BEFORE: validated\n",
      "AFTER: graphicone_search 2020-02-18 14:34:16.217000 ['us', 'retail'] moderator tool passed VasiliiUshakov\n",
      "BEFORE: validated\n",
      "AFTER: graphicone_search 2020-02-18 14:34:16.301000 ['gdp', 'global'] moderator tool passed VasiliiUshakov\n",
      "BEFORE: validated\n",
      "AFTER: graphicone_search 2020-02-18 14:34:16.385000 ['software', 'index', 's&p'] moderator tool passed VasiliiUshakov\n",
      "BEFORE: validated\n"
     ]
    },
    {
     "name": "stderr",
     "output_type": "stream",
     "text": [
      "\n",
      "\n",
      "\n",
      "\n",
      "\n",
      "\n",
      "\n",
      " 39%|███▉      | 1028/2650 [00:11<02:14, 12.03it/s]\u001b[A\u001b[A\u001b[A\u001b[A\u001b[A\u001b[A\u001b[A\n",
      "\n",
      "\n",
      "\n",
      "\n",
      "\n",
      "\n",
      " 44%|████▍     | 1162/2650 [00:11<02:02, 12.14it/s]\u001b[A\u001b[A\u001b[A\u001b[A\u001b[A\u001b[A\u001b[A"
     ]
    },
    {
     "name": "stdout",
     "output_type": "stream",
     "text": [
      "AFTER: graphicone_search 2020-02-18 14:34:16.469000 ['loan', 'gdp', 'debt'] moderator tool passed VasiliiUshakov\n",
      "BEFORE: validated\n",
      "AFTER: graphicone_search 2020-02-18 14:34:16.552000 ['waste', 'environment', 'manufacturing', 'energy', 'transportation', 'loan', 'climate change', 'bonds', 'water', 'agriculture', 'technology', 'construction & engineering'] moderator tool passed VasiliiUshakov\n",
      "BEFORE: validated\n",
      "AFTER: graphicone_search 2020-02-18 14:34:16.637000 ['cash', 'metals & mining', 'commodities', 'trade', 'gold'] moderator tool passed VasiliiUshakov\n",
      "BEFORE: validated\n"
     ]
    },
    {
     "name": "stderr",
     "output_type": "stream",
     "text": [
      "\n",
      "\n",
      "\n",
      "\n",
      "\n",
      "\n",
      "\n",
      " 44%|████▍     | 1164/2650 [00:11<02:03, 12.05it/s]\u001b[A\u001b[A\u001b[A\u001b[A\u001b[A\u001b[A\u001b[A\n",
      "\n",
      "\n",
      "\n",
      "\n",
      "\n",
      "\n",
      " 44%|████▍     | 1166/2650 [00:11<02:03, 12.00it/s]\u001b[A\u001b[A\u001b[A\u001b[A\u001b[A\u001b[A\u001b[A"
     ]
    },
    {
     "name": "stdout",
     "output_type": "stream",
     "text": [
      "AFTER: graphicone_search 2020-02-18 14:34:16.721000 ['imports', 'china', 'export', 'trade', 'us', 'retail'] moderator tool passed VasiliiUshakov\n",
      "BEFORE: validated\n",
      "AFTER: graphicone_search 2020-02-18 14:34:16.806000 ['wind power', 'geothermal', 'hydro', 'solar energy', 'us', 'energy', 'nuclear power'] moderator tool passed VasiliiUshakov\n",
      "BEFORE: validated\n",
      "AFTER: graphicone_search 2020-02-18 14:34:16.889000 ['index', 's&p'] moderator tool passed VasiliiUshakov\n",
      "BEFORE: validated\n"
     ]
    },
    {
     "name": "stderr",
     "output_type": "stream",
     "text": [
      "\n",
      "\n",
      "\n",
      "\n",
      "\n",
      "\n",
      "\n",
      " 44%|████▍     | 1168/2650 [00:11<02:03, 11.97it/s]\u001b[A\u001b[A\u001b[A\u001b[A\u001b[A\u001b[A\u001b[A"
     ]
    },
    {
     "name": "stdout",
     "output_type": "stream",
     "text": [
      "AFTER: graphicone_search 2020-02-18 14:34:16.974000 ['employment', 'us', 'labor'] moderator tool passed VasiliiUshakov\n",
      "BEFORE: validated\n",
      "AFTER: graphicone_search 2020-02-18 14:34:17.057000 ['employment', 'boston', 'labor', 'innovation', 'san francisco', 'chicago', 'cities', 'us', 'washington', 'seattle', 'dallas', 'los angeles', 'philadelphia'] moderator tool passed VasiliiUshakov\n",
      "BEFORE: validated\n",
      "AFTER: graphicone_search 2020-02-18 14:34:17.142000 ['export', 'trade'] moderator tool passed VasiliiUshakov\n",
      "BEFORE: validated\n"
     ]
    },
    {
     "name": "stderr",
     "output_type": "stream",
     "text": [
      "\n",
      "\n",
      "\n",
      "\n",
      "\n",
      "\n",
      "\n",
      " 44%|████▍     | 1170/2650 [00:12<02:03, 11.95it/s]\u001b[A\u001b[A\u001b[A\u001b[A\u001b[A\u001b[A\u001b[A\n",
      "\n",
      "\n",
      "\n",
      "\n",
      "\n",
      "\n",
      " 44%|████▍     | 1172/2650 [00:12<02:04, 11.92it/s]\u001b[A\u001b[A\u001b[A\u001b[A\u001b[A\u001b[A\u001b[A"
     ]
    },
    {
     "name": "stdout",
     "output_type": "stream",
     "text": [
      "AFTER: graphicone_search 2020-02-18 14:34:17.226000 ['us', 'tobacco'] moderator tool passed VasiliiUshakov\n",
      "BEFORE: validated\n",
      "AFTER: graphicone_search 2020-02-18 14:34:17.311000 ['travel', 'iron', 'metals & mining', 'export', 'trade', 'commodities', 'gas', 'australia', 'coal'] moderator tool passed VasiliiUshakov\n",
      "BEFORE: validated\n",
      "AFTER: graphicone_search 2020-02-18 14:34:17.394000 ['crisis', 'employment', 'uk', 'labor'] moderator tool passed VasiliiUshakov\n",
      "BEFORE: validated\n"
     ]
    },
    {
     "name": "stderr",
     "output_type": "stream",
     "text": [
      "\n",
      "\n",
      "\n",
      "\n",
      "\n",
      "\n",
      "\n",
      " 44%|████▍     | 1174/2650 [00:12<02:03, 11.90it/s]\u001b[A\u001b[A\u001b[A\u001b[A\u001b[A\u001b[A\u001b[A"
     ]
    },
    {
     "name": "stdout",
     "output_type": "stream",
     "text": [
      "AFTER: graphicone_search 2020-02-18 14:34:17.479000 ['iran', 'oil', 'commodities', 'export', 'trade', 'gas'] moderator tool passed VasiliiUshakov\n",
      "BEFORE: validated\n",
      "AFTER: graphicone_search 2020-02-18 14:34:17.563000 ['real estate', 'greece'] moderator tool passed VasiliiUshakov\n",
      "BEFORE: validated\n",
      "AFTER: graphicone_search 2020-02-18 14:34:17.648000 ['gdp', 'china'] moderator tool passed VasiliiUshakov\n",
      "BEFORE: validated\n"
     ]
    },
    {
     "name": "stderr",
     "output_type": "stream",
     "text": [
      "\n",
      "\n",
      "\n",
      "\n",
      "\n",
      "\n",
      "\n",
      " 44%|████▍     | 1176/2650 [00:12<02:03, 11.90it/s]\u001b[A\u001b[A\u001b[A\u001b[A\u001b[A\u001b[A\u001b[A\n",
      "\n",
      "\n",
      "\n",
      "\n",
      "\n",
      "\n",
      " 44%|████▍     | 1178/2650 [00:12<02:03, 11.88it/s]\u001b[A\u001b[A\u001b[A\u001b[A\u001b[A\u001b[A\u001b[A"
     ]
    },
    {
     "name": "stdout",
     "output_type": "stream",
     "text": [
      "AFTER: graphicone_search 2020-02-18 14:34:17.731000 ['environment', 'eu', 'india', 'china', 'us', 'emissions'] moderator tool passed VasiliiUshakov\n",
      "BEFORE: validated\n",
      "AFTER: graphicone_search 2020-02-18 14:34:17.816000 ['uk', 'fuel', 'automotive', 'shopping', 'retail'] moderator tool passed VasiliiUshakov\n",
      "BEFORE: validated\n",
      "AFTER: graphicone_search 2020-02-18 14:34:17.900000 ['luxembourg', 'czech republic', 'germany', 'belgium', 'romania', 'portugal', 'cyprus', 'inflation', 'austria', 'france', 'lithuania', 'greece', 'denmark', 'macro', 'poland', 'slovenia', 'eu', 'finland', 'bulgaria', 'sweden', 'hungary', 'slovakia', 'latvia', 'malta', 'spain', 'uk', 'estonia', 'croatia', 'italy', 'netherlands', 'ireland'] moderator tool passed VasiliiUshakov\n",
      "BEFORE: validated\n"
     ]
    },
    {
     "name": "stderr",
     "output_type": "stream",
     "text": [
      "\n",
      "\n",
      "\n",
      "\n",
      "\n",
      "\n",
      "\n",
      " 45%|████▍     | 1180/2650 [00:12<02:03, 11.88it/s]\u001b[A\u001b[A\u001b[A\u001b[A\u001b[A\u001b[A\u001b[A"
     ]
    },
    {
     "name": "stdout",
     "output_type": "stream",
     "text": [
      "AFTER: graphicone_search 2020-02-18 14:34:17.985000 ['labor', 'eu'] moderator tool passed VasiliiUshakov\n",
      "BEFORE: validated\n",
      "AFTER: graphicone_search 2020-02-18 14:34:18.068000 ['ageing', 'eu', 'italy', 'global', 'population'] moderator tool passed VasiliiUshakov\n",
      "BEFORE: validated\n",
      "AFTER: graphicone_search 2020-02-18 14:34:18.153000 ['retail', 'gdp', 'industrials'] moderator tool passed VasiliiUshakov\n",
      "BEFORE: validated\n"
     ]
    },
    {
     "name": "stderr",
     "output_type": "stream",
     "text": [
      "\n",
      "\n",
      "\n",
      "\n",
      "\n",
      "\n",
      "\n",
      " 45%|████▍     | 1182/2650 [00:13<02:03, 11.88it/s]\u001b[A\u001b[A\u001b[A\u001b[A\u001b[A\u001b[A\u001b[A\n",
      "\n",
      "\n",
      "\n",
      "\n",
      "\n",
      "\n",
      " 45%|████▍     | 1184/2650 [00:13<02:03, 11.86it/s]\u001b[A\u001b[A\u001b[A\u001b[A\u001b[A\u001b[A\u001b[A"
     ]
    },
    {
     "name": "stdout",
     "output_type": "stream",
     "text": [
      "AFTER: graphicone_search 2020-02-18 14:34:18.237000 ['steel', 'china', 'metals & mining', 'commodities'] moderator tool passed VasiliiUshakov\n",
      "BEFORE: validated\n",
      "AFTER: graphicone_search 2020-02-18 14:34:18.322000 ['us', 'funds'] moderator tool passed VasiliiUshakov\n",
      "BEFORE: validated\n",
      "AFTER: graphicone_search 2020-02-18 14:34:18.406000 ['real estate', 'greece', 'construction & engineering'] moderator tool passed VasiliiUshakov\n",
      "BEFORE: validated\n"
     ]
    },
    {
     "name": "stderr",
     "output_type": "stream",
     "text": [
      "\n",
      "\n",
      "\n",
      "\n",
      "\n",
      "\n",
      "\n",
      " 45%|████▍     | 1187/2650 [00:13<01:52, 13.05it/s]\u001b[A\u001b[A\u001b[A\u001b[A\u001b[A\u001b[A\u001b[A"
     ]
    },
    {
     "name": "stdout",
     "output_type": "stream",
     "text": [
      "AFTER: graphicone_search 2020-02-18 14:34:18.491000 ['recession', 'us'] moderator tool passed VasiliiUshakov\n",
      "BEFORE: validated\n",
      "AFTER: graphicone_search 2020-02-18 14:34:18.575000 ['government bonds', 'high yield', 'us', 'bonds', 'index'] moderator tool passed VasiliiUshakov\n",
      "BEFORE: validated\n",
      "AFTER: graphicone_search 2020-02-18 14:34:18.667000 ['climate change', 'environment', 'global'] moderator tool passed VasiliiUshakov\n"
     ]
    },
    {
     "name": "stderr",
     "output_type": "stream",
     "text": [
      "\n",
      "\n",
      "\n",
      "\n",
      "\n",
      "\n",
      "\n",
      " 45%|████▍     | 1189/2650 [00:13<01:55, 12.68it/s]\u001b[A\u001b[A\u001b[A\u001b[A\u001b[A\u001b[A\u001b[A"
     ]
    },
    {
     "name": "stdout",
     "output_type": "stream",
     "text": [
      "BEFORE: validated\n",
      "AFTER: graphicone_search 2020-02-18 14:34:18.750000 ['renewables', 'global', 'fuel'] moderator tool passed VasiliiUshakov\n",
      "BEFORE: validated\n",
      "AFTER: graphicone_search 2020-02-18 14:34:18.835000 ['meat', 'macro', 'africa', 'china', 'commodities', 'pork', 'retail'] moderator tool passed VasiliiUshakov\n",
      "BEFORE: validated\n"
     ]
    },
    {
     "name": "stderr",
     "output_type": "stream",
     "text": [
      "\n",
      "\n",
      "\n",
      "\n",
      "\n",
      "\n",
      "\n",
      " 45%|████▍     | 1191/2650 [00:13<01:57, 12.43it/s]\u001b[A\u001b[A\u001b[A\u001b[A\u001b[A\u001b[A\u001b[A\n",
      "\n",
      "\n",
      "\n",
      "\n",
      "\n",
      "\n",
      " 45%|████▌     | 1193/2650 [00:13<01:58, 12.26it/s]\u001b[A\u001b[A\u001b[A\u001b[A\u001b[A\u001b[A\u001b[A"
     ]
    },
    {
     "name": "stdout",
     "output_type": "stream",
     "text": [
      "AFTER: graphicone_search 2020-02-18 14:34:18.918000 [\"people's bank of china\", 'bank of england', 'ecb', 'bank of japan', 'banking', 'fed', 'monetary policy'] moderator tool passed VasiliiUshakov\n",
      "BEFORE: validated\n",
      "AFTER: graphicone_search 2020-02-18 14:34:19.003000 ['electricity', 'wood', 'germany', 'real estate', 'oil', 'commodities', 'gas', 'energy'] moderator tool passed VasiliiUshakov\n",
      "BEFORE: validated\n",
      "AFTER: graphicone_search 2020-02-18 14:34:19.087000 ['metals & mining', 'rhodium', 'commodities', 'platinum', 'palladium', 'gold'] moderator tool passed VasiliiUshakov\n",
      "BEFORE: validated\n"
     ]
    },
    {
     "name": "stderr",
     "output_type": "stream",
     "text": [
      "\n",
      "\n",
      "\n",
      "\n",
      "\n",
      "\n",
      "\n",
      " 45%|████▌     | 1195/2650 [00:14<01:59, 12.15it/s]\u001b[A\u001b[A\u001b[A\u001b[A\u001b[A\u001b[A\u001b[A"
     ]
    },
    {
     "name": "stdout",
     "output_type": "stream",
     "text": [
      "AFTER: graphicone_search 2020-02-18 14:34:19.171000 ['us', 'music', 'streaming', 'entertainment'] moderator tool passed VasiliiUshakov\n",
      "BEFORE: validated\n",
      "AFTER: graphicone_search 2020-02-18 14:34:19.255000 ['climate change', 'environment', 'global'] moderator tool passed VasiliiUshakov\n",
      "BEFORE: validated\n",
      "AFTER: graphicone_search 2020-02-18 14:34:19.339000 ['germany', 'italy', 'manufacturing', 'austria', 'france'] moderator tool passed VasiliiUshakov\n",
      "BEFORE: validated\n"
     ]
    },
    {
     "name": "stderr",
     "output_type": "stream",
     "text": [
      "\n",
      "\n",
      "\n",
      "\n",
      "\n",
      "\n",
      "\n",
      " 45%|████▌     | 1197/2650 [00:14<02:00, 12.07it/s]\u001b[A\u001b[A\u001b[A\u001b[A\u001b[A\u001b[A\u001b[A\n",
      "\n",
      "\n",
      "\n",
      "\n",
      "\n",
      "\n",
      " 45%|████▌     | 1199/2650 [00:14<02:00, 12.01it/s]\u001b[A\u001b[A\u001b[A\u001b[A\u001b[A\u001b[A\u001b[A"
     ]
    },
    {
     "name": "stdout",
     "output_type": "stream",
     "text": [
      "AFTER: graphicone_search 2020-02-18 14:34:19.423000 ['palladium', 'metals & mining', 'commodities'] moderator tool passed VasiliiUshakov\n",
      "BEFORE: validated\n",
      "AFTER: graphicone_search 2020-02-18 14:34:19.508000 ['electricity', 'hydro', 'commodities', 'gas', 'renewables', 'us', 'energy', 'nuclear power', 'coal'] moderator tool passed VasiliiUshakov\n",
      "BEFORE: validated\n",
      "AFTER: graphicone_search 2020-02-18 14:34:19.591000 ['us', 'energy', 'commodities', 'coal'] moderator tool passed VasiliiUshakov\n",
      "BEFORE: validated\n"
     ]
    },
    {
     "name": "stderr",
     "output_type": "stream",
     "text": [
      "\n",
      "\n",
      "\n",
      "\n",
      "\n",
      "\n",
      "\n",
      " 45%|████▌     | 1201/2650 [00:14<02:01, 11.97it/s]\u001b[A\u001b[A\u001b[A\u001b[A\u001b[A\u001b[A\u001b[A"
     ]
    },
    {
     "name": "stdout",
     "output_type": "stream",
     "text": [
      "AFTER: graphicone_search 2020-02-18 14:34:19.676000 ['index', 's&p'] moderator tool passed VasiliiUshakov\n",
      "BEFORE: validated\n",
      "AFTER: graphicone_search 2020-02-18 14:34:19.760000 ['us', 'commodities', 'oil', 'wti'] moderator tool passed VasiliiUshakov\n",
      "BEFORE: validated\n",
      "AFTER: graphicone_search 2020-02-18 14:34:19.845000 ['metals & mining', 'commodities', 'zinc'] moderator tool passed VasiliiUshakov\n",
      "BEFORE: validated\n"
     ]
    },
    {
     "name": "stderr",
     "output_type": "stream",
     "text": [
      "\n",
      "\n",
      "\n",
      "\n",
      "\n",
      "\n",
      "\n",
      " 45%|████▌     | 1203/2650 [00:14<02:01, 11.94it/s]\u001b[A\u001b[A\u001b[A\u001b[A\u001b[A\u001b[A\u001b[A\n",
      "\n",
      "\n",
      "\n",
      "\n",
      "\n",
      "\n",
      " 45%|████▌     | 1205/2650 [00:14<02:01, 11.93it/s]\u001b[A\u001b[A\u001b[A\u001b[A\u001b[A\u001b[A\u001b[A"
     ]
    },
    {
     "name": "stdout",
     "output_type": "stream",
     "text": [
      "AFTER: graphicone_search 2020-02-18 14:34:19.928000 ['us', 'consumer', 'wine', 'alcohol'] moderator tool passed VasiliiUshakov\n",
      "BEFORE: validated\n",
      "AFTER: graphicone_search 2020-02-18 14:34:20.013000 ['employment', 'metro', 'us', 'labor'] moderator tool passed VasiliiUshakov\n",
      "BEFORE: validated\n",
      "AFTER: graphicone_search 2020-02-18 14:34:20.096000 ['us', 'funds'] moderator tool passed VasiliiUshakov\n",
      "BEFORE: validated\n"
     ]
    },
    {
     "name": "stderr",
     "output_type": "stream",
     "text": [
      "\n",
      "\n",
      "\n",
      "\n",
      "\n",
      "\n",
      "\n",
      " 46%|████▌     | 1207/2650 [00:15<02:01, 11.91it/s]\u001b[A\u001b[A\u001b[A\u001b[A\u001b[A\u001b[A\u001b[A"
     ]
    },
    {
     "name": "stdout",
     "output_type": "stream",
     "text": [
      "AFTER: graphicone_search 2020-02-18 14:34:20.181000 ['labor', 'metals & mining', 'commodities', 'us', 'coal'] moderator tool passed VasiliiUshakov\n",
      "BEFORE: validated\n",
      "AFTER: graphicone_search 2020-02-18 14:34:20.265000 ['m&a', 'global'] moderator tool passed VasiliiUshakov\n",
      "BEFORE: validated\n",
      "AFTER: graphicone_search 2020-02-18 14:34:20.350000 ['us', 'oil', 'energy', 'commodities'] moderator tool passed VasiliiUshakov\n",
      "BEFORE: validated\n"
     ]
    },
    {
     "name": "stderr",
     "output_type": "stream",
     "text": [
      "\n",
      "\n",
      "\n",
      "\n",
      "\n",
      "\n",
      "\n",
      " 46%|████▌     | 1209/2650 [00:15<02:01, 11.89it/s]\u001b[A\u001b[A\u001b[A\u001b[A\u001b[A\u001b[A\u001b[A\n",
      "\n",
      "\n",
      "\n",
      "\n",
      "\n",
      "\n",
      " 46%|████▌     | 1211/2650 [00:15<02:01, 11.88it/s]\u001b[A\u001b[A\u001b[A\u001b[A\u001b[A\u001b[A\u001b[A"
     ]
    },
    {
     "name": "stdout",
     "output_type": "stream",
     "text": [
      "AFTER: graphicone_search 2020-02-18 14:34:20.434000 ['index'] moderator tool passed VasiliiUshakov\n",
      "BEFORE: validated\n",
      "AFTER: graphicone_search 2020-02-18 14:34:20.519000 ['ipo', 'us', 'm&a'] moderator tool passed VasiliiUshakov\n",
      "BEFORE: validated\n",
      "AFTER: graphicone_search 2020-02-18 14:34:20.602000 ['electricity', 'us', 'energy', 'coal'] moderator tool passed VasiliiUshakov\n",
      "BEFORE: validated\n"
     ]
    },
    {
     "name": "stderr",
     "output_type": "stream",
     "text": [
      "\n",
      "\n",
      "\n",
      "\n",
      "\n",
      "\n",
      "\n",
      " 46%|████▌     | 1213/2650 [00:15<02:00, 11.89it/s]\u001b[A\u001b[A\u001b[A\u001b[A\u001b[A\u001b[A\u001b[A"
     ]
    },
    {
     "name": "stdout",
     "output_type": "stream",
     "text": [
      "AFTER: graphicone_search 2020-02-18 14:34:20.687000 ['vehicles', 'canada'] moderator tool passed VasiliiUshakov\n",
      "BEFORE: validated\n",
      "AFTER: graphicone_search 2020-02-18 14:34:20.770000 ['us', 'real estate'] moderator tool passed VasiliiUshakov\n",
      "BEFORE: validated\n",
      "AFTER: graphicone_search 2020-02-18 14:34:20.855000 ['m&a', 'ai'] moderator tool passed VasiliiUshakov\n",
      "BEFORE: validated\n"
     ]
    },
    {
     "name": "stderr",
     "output_type": "stream",
     "text": [
      "\n",
      "\n",
      "\n",
      "\n",
      "\n",
      "\n",
      "\n",
      " 46%|████▌     | 1215/2650 [00:15<02:00, 11.88it/s]\u001b[A\u001b[A\u001b[A\u001b[A\u001b[A\u001b[A\u001b[A\n",
      "\n",
      "\n",
      "\n",
      "\n",
      "\n",
      "\n",
      " 46%|████▌     | 1217/2650 [00:15<02:00, 11.88it/s]\u001b[A\u001b[A\u001b[A\u001b[A\u001b[A\u001b[A\u001b[A"
     ]
    },
    {
     "name": "stdout",
     "output_type": "stream",
     "text": [
      "AFTER: graphicone_search 2020-02-18 14:34:20.939000 ['industrials', 'canada', 'metals & mining', 'energy', 'toronto stock exchange', 'financials'] moderator tool passed VasiliiUshakov\n",
      "BEFORE: validated\n",
      "AFTER: graphicone_search 2020-02-18 14:34:21.023000 ['electricity', 'utilities', 'eu', 'metals & mining', 'commodities', 'gas', 'manufacturing'] moderator tool passed VasiliiUshakov\n",
      "BEFORE: validated\n",
      "AFTER: graphicone_search 2020-02-18 14:34:21.107000 ['bitcoin', 'cryptocurrency'] moderator tool passed VasiliiUshakov\n",
      "BEFORE: validated\n"
     ]
    },
    {
     "name": "stderr",
     "output_type": "stream",
     "text": [
      "\n",
      "\n",
      "\n",
      "\n",
      "\n",
      "\n",
      "\n",
      " 46%|████▌     | 1219/2650 [00:16<02:00, 11.88it/s]\u001b[A\u001b[A\u001b[A\u001b[A\u001b[A\u001b[A\u001b[A"
     ]
    },
    {
     "name": "stdout",
     "output_type": "stream",
     "text": [
      "AFTER: graphicone_search 2020-02-18 14:34:21.192000 ['japan', 'population', 'canada', 'uk', 'germany', 'india', 'labor', 'italy', 'china', 'us', 'demography', 'france', 'brazil'] moderator tool passed VasiliiUshakov\n",
      "BEFORE: validated\n",
      "AFTER: graphicone_search 2020-02-18 14:34:21.276000 ['employment', 'uk', 'eu', 'labor', 'retirement', 'construction & engineering'] moderator tool passed VasiliiUshakov\n",
      "BEFORE: validated\n",
      "AFTER: graphicone_search 2020-02-18 14:34:21.361000 ['luxembourg', 'czech republic', 'labor', 'belgium', 'germany', 'portugal', 'macedonia', 'cyprus', 'austria', 'france', 'lithuania', 'greece', 'denmark', 'poland', 'slovenia', 'finland', 'bulgaria', 'sweden', 'hungary', 'norway', 'slovakia', 'latvia', 'switzerland', 'malta', 'spain', 'uk', 'estonia', 'croatia', 'italy', 'iceland', 'serbia', 'netherlands', 'ireland'] moderator tool passed VasiliiUshakov\n",
      "BEFORE: validated\n"
     ]
    },
    {
     "name": "stderr",
     "output_type": "stream",
     "text": [
      "\n",
      "\n",
      "\n",
      "\n",
      "\n",
      "\n",
      "\n",
      " 46%|████▌     | 1221/2650 [00:16<02:00, 11.86it/s]\u001b[A\u001b[A\u001b[A\u001b[A\u001b[A\u001b[A\u001b[A\n",
      "\n",
      "\n",
      "\n",
      "\n",
      "\n",
      "\n",
      " 46%|████▌     | 1223/2650 [00:16<02:00, 11.86it/s]\u001b[A\u001b[A\u001b[A\u001b[A\u001b[A\u001b[A\u001b[A"
     ]
    },
    {
     "name": "stdout",
     "output_type": "stream",
     "text": [
      "AFTER: graphicone_search 2020-02-18 14:34:21.445000 ['crowdfunding', 'india', 'politics'] moderator tool passed VasiliiUshakov\n",
      "BEFORE: validated\n",
      "AFTER: graphicone_search 2020-02-18 14:34:21.530000 ['uk', 'eu', 'real estate', 'germany', 'us', 'france'] moderator tool passed VasiliiUshakov\n",
      "BEFORE: validated\n",
      "AFTER: graphicone_search 2020-02-18 14:34:21.614000 ['netherlands', 'cloud', 'uk', 'sweden', 'eu', 'norway', 'germany', 'italy', 'belgium', 'finland', 'portugal', 'france', 'information technology', 'spain', 'denmark', 'ireland'] moderator tool passed VasiliiUshakov\n",
      "BEFORE: validated\n"
     ]
    },
    {
     "name": "stderr",
     "output_type": "stream",
     "text": [
      "\n",
      "\n",
      "\n",
      "\n",
      "\n",
      "\n",
      "\n",
      " 46%|████▌     | 1225/2650 [00:16<02:00, 11.87it/s]\u001b[A\u001b[A\u001b[A\u001b[A\u001b[A\u001b[A\u001b[A"
     ]
    },
    {
     "name": "stdout",
     "output_type": "stream",
     "text": [
      "AFTER: graphicone_search 2020-02-18 14:34:21.698000 ['wealth', 'labor', 'us', 'politics', 'trump', 'index', 's&p'] moderator tool passed VasiliiUshakov\n",
      "BEFORE: validated\n",
      "AFTER: graphicone_search 2020-02-18 14:34:21.782000 ['vietnam', 'philippines', 'labor', 'thailand', 'singapore', 'indonesia', 'malaysia'] moderator tool passed VasiliiUshakov\n",
      "BEFORE: validated\n",
      "AFTER: graphicone_search 2020-02-18 14:34:21.867000 ['education', 'labor', 'us', 'china'] moderator tool passed VasiliiUshakov\n",
      "BEFORE: validated\n"
     ]
    },
    {
     "name": "stderr",
     "output_type": "stream",
     "text": [
      "\n",
      "\n",
      "\n",
      "\n",
      "\n",
      "\n",
      "\n",
      " 46%|████▋     | 1227/2650 [00:16<01:59, 11.87it/s]\u001b[A\u001b[A\u001b[A\u001b[A\u001b[A\u001b[A\u001b[A\n",
      "\n",
      "\n",
      "\n",
      "\n",
      "\n",
      "\n",
      " 46%|████▋     | 1229/2650 [00:16<01:59, 11.88it/s]\u001b[A\u001b[A\u001b[A\u001b[A\u001b[A\u001b[A\u001b[A"
     ]
    },
    {
     "name": "stdout",
     "output_type": "stream",
     "text": [
      "AFTER: graphicone_search 2020-02-18 14:34:21.950000 ['gdp', 'china'] moderator tool passed VasiliiUshakov\n",
      "BEFORE: validated\n",
      "AFTER: graphicone_search 2020-02-18 14:34:22.035000 ['employment', 'woman', 'uk', 'labor', 'gender'] moderator tool passed VasiliiUshakov\n",
      "BEFORE: validated\n",
      "AFTER: graphicone_search 2020-02-18 14:34:22.118000 ['interest rates', 'index', 's&p', 'fed'] moderator tool passed VasiliiUshakov\n",
      "BEFORE: validated\n"
     ]
    },
    {
     "name": "stderr",
     "output_type": "stream",
     "text": [
      "\n",
      "\n",
      "\n",
      "\n",
      "\n",
      "\n",
      "\n",
      " 46%|████▋     | 1231/2650 [00:17<01:59, 11.89it/s]\u001b[A\u001b[A\u001b[A\u001b[A\u001b[A\u001b[A\u001b[A"
     ]
    },
    {
     "name": "stdout",
     "output_type": "stream",
     "text": [
      "AFTER: graphicone_search 2020-02-18 14:34:22.203000 ['wind power', 'hydro', 'oil', 'commodities', 'solar energy', 'renewables', 'gas', 'energy', 'global', 'consumer', 'nuclear power', 'biofuel', 'coal'] moderator tool passed VasiliiUshakov\n",
      "BEFORE: validated\n",
      "AFTER: graphicone_search 2020-02-18 14:34:22.286000 ['wealth', 'new york', 'real estate', 'san francisco', 'us', 'seattle', 'population', 'los angeles'] moderator tool passed VasiliiUshakov\n",
      "BEFORE: validated\n",
      "AFTER: graphicone_search 2020-02-18 14:34:22.371000 ['crisis', 'real estate', 'us', 'loan', 'agriculture', 'debt'] moderator tool passed VasiliiUshakov\n",
      "BEFORE: validated\n"
     ]
    },
    {
     "name": "stderr",
     "output_type": "stream",
     "text": [
      "\n",
      "\n",
      "\n",
      "\n",
      "\n",
      "\n",
      "\n",
      " 47%|████▋     | 1233/2650 [00:17<01:59, 11.88it/s]\u001b[A\u001b[A\u001b[A\u001b[A\u001b[A\u001b[A\u001b[A\n",
      "\n",
      "\n",
      "\n",
      "\n",
      "\n",
      "\n",
      " 47%|████▋     | 1235/2650 [00:17<01:59, 11.88it/s]\u001b[A\u001b[A\u001b[A\u001b[A\u001b[A\u001b[A\u001b[A"
     ]
    },
    {
     "name": "stdout",
     "output_type": "stream",
     "text": [
      "AFTER: graphicone_search 2020-02-18 14:34:22.455000 ['wind power', 'geothermal', 'fuel', 'solar energy', 'renewables', 'marine', 'energy', 'global', 'biomass'] moderator tool passed VasiliiUshakov\n",
      "BEFORE: validated\n",
      "AFTER: graphicone_search 2020-02-18 14:34:22.540000 ['egypt', 'germany', 'india', 'china', 'venture', 'nigeria', 'hong kong', 'switzerland', 'malaysia', 'us', 'indonesia', 'france', 'funds'] moderator tool passed VasiliiUshakov\n",
      "BEFORE: validated\n",
      "AFTER: graphicone_search 2020-02-18 14:34:22.623000 ['pmi', 'ism', 'export', 'trade', 'manufacturing', 'global', 'index'] moderator tool passed VasiliiUshakov\n",
      "BEFORE: validated\n"
     ]
    },
    {
     "name": "stderr",
     "output_type": "stream",
     "text": [
      "\n",
      "\n",
      "\n",
      "\n",
      "\n",
      "\n",
      "\n",
      " 47%|████▋     | 1237/2650 [00:17<01:58, 11.89it/s]\u001b[A\u001b[A\u001b[A\u001b[A\u001b[A\u001b[A\u001b[A"
     ]
    },
    {
     "name": "stdout",
     "output_type": "stream",
     "text": [
      "AFTER: graphicone_search 2020-02-18 14:34:22.708000 ['real estate', 'construction & engineering'] moderator tool passed VasiliiUshakov\n",
      "BEFORE: validated\n",
      "AFTER: graphicone_search 2020-02-18 14:34:22.791000 ['recession', 'us'] moderator tool passed VasiliiUshakov\n",
      "BEFORE: validated\n",
      "AFTER: graphicone_search 2020-02-18 14:34:22.876000 ['real estate', 'sweden'] moderator tool passed VasiliiUshakov\n",
      "BEFORE: validated\n"
     ]
    },
    {
     "name": "stderr",
     "output_type": "stream",
     "text": [
      "\n",
      "\n",
      "\n",
      "\n",
      "\n",
      "\n",
      "\n",
      " 47%|████▋     | 1239/2650 [00:17<01:58, 11.89it/s]\u001b[A\u001b[A\u001b[A\u001b[A\u001b[A\u001b[A\u001b[A\n",
      "\n",
      "\n",
      "\n",
      "\n",
      "\n",
      "\n",
      " 47%|████▋     | 1241/2650 [00:17<01:58, 11.88it/s]\u001b[A\u001b[A\u001b[A\u001b[A\u001b[A\u001b[A\u001b[A"
     ]
    },
    {
     "name": "stdout",
     "output_type": "stream",
     "text": [
      "AFTER: graphicone_search 2020-02-18 14:34:22.959000 ['environment', 'iraq', 'egypt', 'ghana', 'india', 'emissions', 'ecology', 'saudi arabia'] moderator tool passed VasiliiUshakov\n",
      "BEFORE: validated\n",
      "AFTER: graphicone_search 2020-02-18 14:34:23.044000 ['cash', 'government'] moderator tool passed VasiliiUshakov\n",
      "BEFORE: validated\n",
      "AFTER: graphicone_search 2020-02-18 14:34:23.128000 ['household', 'financials', 'index', 'uk'] moderator tool passed VasiliiUshakov\n",
      "BEFORE: validated\n"
     ]
    },
    {
     "name": "stderr",
     "output_type": "stream",
     "text": [
      "\n",
      "\n",
      "\n",
      "\n",
      "\n",
      "\n",
      "\n",
      " 47%|████▋     | 1243/2650 [00:18<01:58, 11.87it/s]\u001b[A\u001b[A\u001b[A\u001b[A\u001b[A\u001b[A\u001b[A"
     ]
    },
    {
     "name": "stdout",
     "output_type": "stream",
     "text": [
      "AFTER: graphicone_search 2020-02-18 14:34:23.213000 ['us', 'population', 'china'] moderator tool passed VasiliiUshakov\n",
      "BEFORE: validated\n",
      "AFTER: graphicone_search 2020-02-18 14:34:23.296000 ['france', 'uk', 'eu', 'oecd', 'germany', 'italy', 'us', 'education', 'spain'] moderator tool passed VasiliiUshakov\n",
      "BEFORE: validated\n",
      "AFTER: graphicone_search 2020-02-18 14:34:23.381000 ['utilities', 'consumer products', 'industrials', 'telecom', 'services', 'oil', 'commodities', 'gas', 'us', 'health', 'materials', 'technology'] moderator tool passed VasiliiUshakov\n",
      "BEFORE: validated\n"
     ]
    },
    {
     "name": "stderr",
     "output_type": "stream",
     "text": [
      "\n",
      "\n",
      "\n",
      "\n",
      "\n",
      "\n",
      "\n",
      " 47%|████▋     | 1245/2650 [00:18<01:58, 11.86it/s]\u001b[A\u001b[A\u001b[A\u001b[A\u001b[A\u001b[A\u001b[A\n",
      "\n",
      "\n",
      "\n",
      "\n",
      "\n",
      "\n",
      " 47%|████▋     | 1247/2650 [00:18<01:58, 11.87it/s]\u001b[A\u001b[A\u001b[A\u001b[A\u001b[A\u001b[A\u001b[A"
     ]
    },
    {
     "name": "stdout",
     "output_type": "stream",
     "text": [
      "AFTER: graphicone_search 2020-02-18 14:34:23.465000 ['drugs', 'manufacturing', 'global'] moderator tool passed VasiliiUshakov\n",
      "BEFORE: validated\n",
      "AFTER: graphicone_search 2020-02-18 14:34:23.550000 ['metals & mining', 'commodities', 'platinum', 'palladium', 'funds'] moderator tool passed VasiliiUshakov\n",
      "BEFORE: validated\n",
      "AFTER: graphicone_search 2020-02-18 14:34:23.634000 ['household', 'wealth', 'us', 'index'] moderator tool passed VasiliiUshakov\n",
      "BEFORE: validated\n"
     ]
    },
    {
     "name": "stderr",
     "output_type": "stream",
     "text": [
      "\n",
      "\n",
      "\n",
      "\n",
      "\n",
      "\n",
      "\n",
      " 47%|████▋     | 1249/2650 [00:18<01:57, 11.87it/s]\u001b[A\u001b[A\u001b[A\u001b[A\u001b[A\u001b[A\u001b[A"
     ]
    },
    {
     "name": "stdout",
     "output_type": "stream",
     "text": [
      "AFTER: graphicone_search 2020-02-18 14:34:23.719000 ['us', 'real estate', 'construction & engineering'] moderator tool passed VasiliiUshakov\n",
      "BEFORE: validated\n",
      "AFTER: graphicone_search 2020-02-18 14:34:23.802000 ['asia', 'india', 'ceo', 'global'] moderator tool passed VasiliiUshakov\n",
      "BEFORE: validated\n",
      "AFTER: graphicone_search 2020-02-18 14:34:23.887000 ['equality', 'social justice', 'wealth'] moderator tool passed VasiliiUshakov\n",
      "BEFORE: validated\n"
     ]
    },
    {
     "name": "stderr",
     "output_type": "stream",
     "text": [
      "\n",
      "\n",
      "\n",
      "\n",
      "\n",
      "\n",
      "\n",
      " 47%|████▋     | 1251/2650 [00:18<01:57, 11.88it/s]\u001b[A\u001b[A\u001b[A\u001b[A\u001b[A\u001b[A\u001b[A\n",
      "\n",
      "\n",
      "\n",
      "\n",
      "\n",
      "\n",
      " 47%|████▋     | 1253/2650 [00:18<01:57, 11.87it/s]\u001b[A\u001b[A\u001b[A\u001b[A\u001b[A\u001b[A\u001b[A"
     ]
    },
    {
     "name": "stdout",
     "output_type": "stream",
     "text": [
      "AFTER: graphicone_search 2020-02-18 14:34:23.971000 ['children', 'health', 'medicine'] moderator tool passed VasiliiUshakov\n",
      "BEFORE: validated\n",
      "AFTER: graphicone_search 2020-02-18 14:34:24.055000 ['employment', 'utilities', 'korea', 'labor', 'singapore', 'china', 'metals & mining', 'manufacturing', 'government', 'global', 'transportation', 'financials', 'agriculture', 'denmark', 'construction & engineering'] moderator tool passed VasiliiUshakov\n",
      "BEFORE: validated\n",
      "AFTER: graphicone_search 2020-02-18 14:34:24.139000 ['hyundai', 'opel', 'bmw', 'mercedes benz', 'kia', 'ev', 'smart', 'renault', 'audi', 'volkswagen', 'nissan', 'jaguar', 'netherlands', 'tesla'] moderator tool passed VasiliiUshakov\n",
      "BEFORE: validated\n"
     ]
    },
    {
     "name": "stderr",
     "output_type": "stream",
     "text": [
      "\n",
      "\n",
      "\n",
      "\n",
      "\n",
      "\n",
      "\n",
      " 47%|████▋     | 1255/2650 [00:19<01:57, 11.88it/s]\u001b[A\u001b[A\u001b[A\u001b[A\u001b[A\u001b[A\u001b[A"
     ]
    },
    {
     "name": "stdout",
     "output_type": "stream",
     "text": [
      "AFTER: graphicone_search 2020-02-18 14:34:24.224000 ['employment', 'utilities', 'woman', 'labor', 'gender', 'trade', 'education', 'health', 'transportation', 'leisure', 'financials'] moderator tool passed VasiliiUshakov\n",
      "BEFORE: validated\n",
      "AFTER: graphicone_search 2020-02-18 14:34:24.307000 ['index', 'china', 'trade', 'debt'] moderator tool passed VasiliiUshakov\n",
      "BEFORE: validated\n",
      "AFTER: graphicone_search 2020-02-18 14:34:24.392000 ['climate change', 'environment', 'global', 'emissions'] moderator tool passed VasiliiUshakov\n",
      "BEFORE: validated\n"
     ]
    },
    {
     "name": "stderr",
     "output_type": "stream",
     "text": [
      "\n",
      "\n",
      "\n",
      "\n",
      "\n",
      "\n",
      "\n",
      " 47%|████▋     | 1257/2650 [00:19<01:57, 11.88it/s]\u001b[A\u001b[A\u001b[A\u001b[A\u001b[A\u001b[A\u001b[A\n",
      "\n",
      "\n",
      "\n",
      "\n",
      "\n",
      "\n",
      " 48%|████▊     | 1259/2650 [00:19<01:57, 11.88it/s]\u001b[A\u001b[A\u001b[A\u001b[A\u001b[A\u001b[A\u001b[A"
     ]
    },
    {
     "name": "stdout",
     "output_type": "stream",
     "text": [
      "AFTER: graphicone_search 2020-02-18 14:34:24.476000 ['labor'] moderator tool passed VasiliiUshakov\n",
      "BEFORE: validated\n",
      "AFTER: graphicone_search 2020-02-18 14:34:24.560000 ['euro', 'usd', 'currency'] moderator tool passed VasiliiUshakov\n",
      "BEFORE: validated\n",
      "AFTER: graphicone_search 2020-02-18 14:34:24.644000 ['employment', 'woman', 'uk', 'labor', 'gender'] moderator tool passed VasiliiUshakov\n",
      "BEFORE: validated\n"
     ]
    },
    {
     "name": "stderr",
     "output_type": "stream",
     "text": [
      "\n",
      "\n",
      "\n",
      "\n",
      "\n",
      "\n",
      "\n",
      " 48%|████▊     | 1261/2650 [00:19<01:56, 11.88it/s]\u001b[A\u001b[A\u001b[A\u001b[A\u001b[A\u001b[A\u001b[A"
     ]
    },
    {
     "name": "stdout",
     "output_type": "stream",
     "text": [
      "AFTER: graphicone_search 2020-02-18 14:34:24.729000 ['medicine', 'consumer', 'retail', 'health'] moderator tool passed VasiliiUshakov\n",
      "BEFORE: validated\n",
      "AFTER: graphicone_search 2020-02-18 14:34:24.812000 ['e-commerce', 'digital', 'mobile payments', 'payments', 'cashless', 'global'] moderator tool passed VasiliiUshakov\n",
      "BEFORE: validated\n",
      "AFTER: graphicone_search 2020-02-18 14:34:24.897000 ['japan', 'eu', 'imports', 'china', 'trade', 'us'] moderator tool passed VasiliiUshakov\n",
      "BEFORE: validated\n"
     ]
    },
    {
     "name": "stderr",
     "output_type": "stream",
     "text": [
      "\n",
      "\n",
      "\n",
      "\n",
      "\n",
      "\n",
      "\n",
      " 48%|████▊     | 1263/2650 [00:19<01:56, 11.88it/s]\u001b[A\u001b[A\u001b[A\u001b[A\u001b[A\u001b[A\u001b[A\n",
      "\n",
      "\n",
      "\n",
      "\n",
      "\n",
      "\n",
      " 48%|████▊     | 1265/2650 [00:20<01:56, 11.87it/s]\u001b[A\u001b[A\u001b[A\u001b[A\u001b[A\u001b[A\u001b[A"
     ]
    },
    {
     "name": "stdout",
     "output_type": "stream",
     "text": [
      "AFTER: graphicone_search 2020-02-18 14:34:24.981000 ['trade', 'south korea', 'export'] moderator tool passed VasiliiUshakov\n",
      "BEFORE: validated\n",
      "AFTER: graphicone_search 2020-02-18 14:34:25.066000 ['startups', 'venture', 'technology'] moderator tool passed VasiliiUshakov\n",
      "BEFORE: validated\n",
      "AFTER: graphicone_search 2020-02-18 14:34:25.149000 ['us', 'manufacturing', 'macro'] moderator tool passed VasiliiUshakov\n",
      "BEFORE: validated\n"
     ]
    },
    {
     "name": "stderr",
     "output_type": "stream",
     "text": [
      "\n",
      "\n",
      "\n",
      "\n",
      "\n",
      "\n",
      "\n",
      " 48%|████▊     | 1267/2650 [00:20<01:56, 11.88it/s]\u001b[A\u001b[A\u001b[A\u001b[A\u001b[A\u001b[A\u001b[A"
     ]
    },
    {
     "name": "stdout",
     "output_type": "stream",
     "text": [
      "AFTER: graphicone_search 2020-02-18 14:34:25.234000 ['canada', 'labor', 'real estate', 'insurance', 'government', 'financials', 'construction & engineering'] moderator tool passed VasiliiUshakov\n",
      "BEFORE: validated\n",
      "AFTER: graphicone_search 2020-02-18 14:34:25.318000 ['fuel', 'eu', 'asia', 'commodities', 'us', 'coal'] moderator tool passed VasiliiUshakov\n",
      "BEFORE: validated\n",
      "AFTER: graphicone_search 2020-02-18 14:34:25.402000 ['lebanon', 'government bonds', 'crisis', 'default', 'politics', 'bonds'] moderator tool passed VasiliiUshakov\n",
      "BEFORE: validated\n"
     ]
    },
    {
     "name": "stderr",
     "output_type": "stream",
     "text": [
      "\n",
      "\n",
      "\n",
      "\n",
      "\n",
      "\n",
      "\n",
      " 48%|████▊     | 1269/2650 [00:20<01:56, 11.88it/s]\u001b[A\u001b[A\u001b[A\u001b[A\u001b[A\u001b[A\u001b[A\n",
      "\n",
      "\n",
      "\n",
      "\n",
      "\n",
      "\n",
      " 48%|████▊     | 1271/2650 [00:20<01:56, 11.87it/s]\u001b[A\u001b[A\u001b[A\u001b[A\u001b[A\u001b[A\u001b[A"
     ]
    },
    {
     "name": "stdout",
     "output_type": "stream",
     "text": [
      "AFTER: graphicone_search 2020-02-18 14:34:25.486000 ['export', 'trade', 'taiwan', 'electronics', 'index', 'msci'] moderator tool passed VasiliiUshakov\n",
      "BEFORE: validated\n",
      "AFTER: graphicone_search 2020-02-18 14:34:25.571000 ['japan', 'gdp', 'canada', 'uk', 'eu', 'government debt', 'china', 'us', 'south korea', 'global', 'australia', 'emerging markets', 'debt'] moderator tool passed VasiliiUshakov\n",
      "BEFORE: validated\n",
      "AFTER: graphicone_search 2020-02-18 14:34:25.655000 ['aviation', 'pmi', 'trade', 'export', 'manufacturing', 'global', 'transportation', 'index'] moderator tool passed VasiliiUshakov\n",
      "BEFORE: validated\n"
     ]
    },
    {
     "name": "stderr",
     "output_type": "stream",
     "text": [
      "\n",
      "\n",
      "\n",
      "\n",
      "\n",
      "\n",
      "\n",
      " 48%|████▊     | 1273/2650 [00:20<01:56, 11.86it/s]\u001b[A\u001b[A\u001b[A\u001b[A\u001b[A\u001b[A\u001b[A"
     ]
    },
    {
     "name": "stdout",
     "output_type": "stream",
     "text": [
      "AFTER: graphicone_search 2020-02-18 14:34:25.740000 ['real estate', 'construction & engineering'] moderator tool passed VasiliiUshakov\n",
      "BEFORE: validated\n",
      "AFTER: graphicone_search 2020-02-18 14:34:25.823000 ['politics', 'uk'] moderator tool passed VasiliiUshakov\n",
      "BEFORE: validated\n",
      "AFTER: graphicone_search 2020-02-18 14:34:25.908000 ['gasoline', 'chemical', 'fuel', 'oecd', 'oil', 'diesel', 'commodities', 'energy', 'transportation'] moderator tool passed VasiliiUshakov\n",
      "BEFORE: validated\n"
     ]
    },
    {
     "name": "stderr",
     "output_type": "stream",
     "text": [
      "\n",
      "\n",
      "\n",
      "\n",
      "\n",
      "\n",
      "\n",
      " 48%|████▊     | 1275/2650 [00:20<01:55, 11.86it/s]\u001b[A\u001b[A\u001b[A\u001b[A\u001b[A\u001b[A\u001b[A\n",
      "\n",
      "\n",
      "\n",
      "\n",
      "\n",
      "\n",
      " 48%|████▊     | 1277/2650 [00:21<01:55, 11.85it/s]\u001b[A\u001b[A\u001b[A\u001b[A\u001b[A\u001b[A\u001b[A"
     ]
    },
    {
     "name": "stdout",
     "output_type": "stream",
     "text": [
      "AFTER: graphicone_search 2020-02-18 14:34:25.992000 ['geopolitics', 'environment', 'disasters', 'social', 'climate change', 'technology'] moderator tool passed VasiliiUshakov\n",
      "BEFORE: validated\n",
      "AFTER: graphicone_search 2020-02-18 14:34:26.077000 ['didi', 'hyundai', 'yidao', 'car sharing', 'ucar group', 'gett', 'ola cabs', 'grab', 'pony.ai', 'lyft', 'caocao zhuanche', 'uber', 'yandex', 'aptiv', 'go-jek', 'cruise automation', 'cabify'] moderator tool passed VasiliiUshakov\n",
      "BEFORE: validated\n",
      "AFTER: graphicone_search 2020-02-18 14:34:26.161000 ['drone', 'retail', 'delivery', 'global'] moderator tool passed VasiliiUshakov\n",
      "BEFORE: validated\n"
     ]
    },
    {
     "name": "stderr",
     "output_type": "stream",
     "text": [
      "\n",
      "\n",
      "\n",
      "\n",
      "\n",
      "\n",
      "\n",
      " 48%|████▊     | 1279/2650 [00:21<01:55, 11.85it/s]\u001b[A\u001b[A\u001b[A\u001b[A\u001b[A\u001b[A\u001b[A"
     ]
    },
    {
     "name": "stdout",
     "output_type": "stream",
     "text": [
      "AFTER: graphicone_search 2020-02-18 14:34:26.246000 ['index', 's&p'] moderator tool passed VasiliiUshakov\n",
      "BEFORE: validated\n",
      "AFTER: graphicone_search 2020-02-18 14:34:26.330000 ['macro', 'gdp', 'latin america', 'mexico', 'chile', 'peru', 'brazil', 'argentina'] moderator tool passed VasiliiUshakov\n",
      "BEFORE: validated\n",
      "AFTER: graphicone_search 2020-02-18 14:34:26.415000 ['batteries', 'commodities', 'energy', 'gas'] moderator tool passed VasiliiUshakov\n",
      "BEFORE: validated\n"
     ]
    },
    {
     "name": "stderr",
     "output_type": "stream",
     "text": [
      "\n",
      "\n",
      "\n",
      "\n",
      "\n",
      "\n",
      "\n",
      " 48%|████▊     | 1281/2650 [00:21<01:55, 11.85it/s]\u001b[A\u001b[A\u001b[A\u001b[A\u001b[A\u001b[A\u001b[A\n",
      "\n",
      "\n",
      "\n",
      "\n",
      "\n",
      "\n",
      " 48%|████▊     | 1283/2650 [00:21<01:55, 11.85it/s]\u001b[A\u001b[A\u001b[A\u001b[A\u001b[A\u001b[A\u001b[A"
     ]
    },
    {
     "name": "stdout",
     "output_type": "stream",
     "text": [
      "AFTER: graphicone_search 2020-02-18 14:34:26.499000 ['japan', 'korea', 'eu', 'asia', 'india', 'china', 'hong kong', 'taiwan', 'north america', 'consumer'] moderator tool passed VasiliiUshakov\n",
      "BEFORE: validated\n",
      "AFTER: graphicone_search 2020-02-18 14:34:26.584000 ['funds', 'sustainability'] moderator tool passed VasiliiUshakov\n",
      "BEFORE: validated\n",
      "AFTER: graphicone_search 2020-02-18 14:34:26.668000 ['us', 'macro', 'gdp'] moderator tool passed VasiliiUshakov\n",
      "BEFORE: validated\n"
     ]
    },
    {
     "name": "stderr",
     "output_type": "stream",
     "text": [
      "\n",
      "\n",
      "\n",
      "\n",
      "\n",
      "\n",
      "\n",
      " 48%|████▊     | 1285/2650 [00:21<01:55, 11.85it/s]\u001b[A\u001b[A\u001b[A\u001b[A\u001b[A\u001b[A\u001b[A"
     ]
    },
    {
     "name": "stdout",
     "output_type": "stream",
     "text": [
      "AFTER: graphicone_search 2020-02-18 14:34:26.753000 ['fixed income', 'commodities', 'etf', 'us', 'funds', 'index', 'bonds'] moderator tool passed VasiliiUshakov\n",
      "BEFORE: validated\n",
      "AFTER: graphicone_search 2020-02-18 14:34:26.836000 ['wealth', 'us'] moderator tool passed VasiliiUshakov\n",
      "BEFORE: validated\n",
      "AFTER: graphicone_search 2020-02-18 14:34:26.921000 ['labor', 'technology', 'personal finance', 'us', 'manufacturing', 'leisure', 'financials', 'retail'] moderator tool passed VasiliiUshakov\n",
      "BEFORE: validated\n"
     ]
    },
    {
     "name": "stderr",
     "output_type": "stream",
     "text": [
      "\n",
      "\n",
      "\n",
      "\n",
      "\n",
      "\n",
      "\n",
      " 49%|████▊     | 1288/2650 [00:21<01:43, 13.17it/s]\u001b[A\u001b[A\u001b[A\u001b[A\u001b[A\u001b[A\u001b[A\n",
      "\n",
      "\n",
      "\n",
      "\n",
      "\n",
      "\n",
      " 49%|████▊     | 1290/2650 [00:22<01:46, 12.75it/s]\u001b[A\u001b[A\u001b[A\u001b[A\u001b[A\u001b[A\u001b[A"
     ]
    },
    {
     "name": "stdout",
     "output_type": "stream",
     "text": [
      "AFTER: graphicone_search 2020-02-18 14:34:27.005000 ['debt'] moderator tool passed VasiliiUshakov\n",
      "BEFORE: validated\n",
      "AFTER: graphicone_search 2020-02-18 14:34:27.090000 ['real estate', 'consumer'] moderator tool passed VasiliiUshakov\n",
      "BEFORE: validated\n",
      "AFTER: graphicone_search 2020-02-18 14:34:27.173000 ['employment', 'macro', 'gdp', 'labor'] moderator tool passed VasiliiUshakov\n",
      "BEFORE: validated\n"
     ]
    },
    {
     "name": "stderr",
     "output_type": "stream",
     "text": [
      "\n",
      "\n",
      "\n",
      "\n",
      "\n",
      "\n",
      "\n",
      " 49%|████▉     | 1292/2650 [00:22<01:48, 12.47it/s]\u001b[A\u001b[A\u001b[A\u001b[A\u001b[A\u001b[A\u001b[A"
     ]
    },
    {
     "name": "stdout",
     "output_type": "stream",
     "text": [
      "AFTER: graphicone_search 2020-02-18 14:34:27.258000 ['diseases', 'sentiment', 'china', 'etf', 'large caps', 'index'] moderator tool passed VasiliiUshakov\n",
      "BEFORE: validated\n",
      "AFTER: graphicone_search 2020-02-18 14:34:27.342000 ['household', 'consumer', 'personal finance'] moderator tool passed VasiliiUshakov\n",
      "BEFORE: validated\n",
      "AFTER: graphicone_search 2020-02-18 14:34:27.427000 ['employment', 'us', 'labor'] moderator tool passed VasiliiUshakov\n",
      "BEFORE: validated\n"
     ]
    },
    {
     "name": "stderr",
     "output_type": "stream",
     "text": [
      "\n",
      "\n",
      "\n",
      "\n",
      "\n",
      "\n",
      "\n",
      " 49%|████▉     | 1294/2650 [00:22<01:50, 12.29it/s]\u001b[A\u001b[A\u001b[A\u001b[A\u001b[A\u001b[A\u001b[A\n",
      "\n",
      "\n",
      "\n",
      "\n",
      "\n",
      "\n",
      " 49%|████▉     | 1296/2650 [00:22<01:51, 12.16it/s]\u001b[A\u001b[A\u001b[A\u001b[A\u001b[A\u001b[A\u001b[A"
     ]
    },
    {
     "name": "stdout",
     "output_type": "stream",
     "text": [
      "AFTER: graphicone_search 2020-02-18 14:34:27.511000 ['employment', 'real estate', 'labor'] moderator tool passed VasiliiUshakov\n",
      "BEFORE: validated\n",
      "AFTER: graphicone_search 2020-02-18 14:34:27.595000 ['macro', 'gdp', 'manufacturing', 'construction & engineering', 'spain'] moderator tool passed VasiliiUshakov\n",
      "BEFORE: validated\n",
      "AFTER: graphicone_search 2020-02-18 14:34:27.679000 ['manufacturing', 'uk'] moderator tool passed VasiliiUshakov\n",
      "BEFORE: validated\n"
     ]
    },
    {
     "name": "stderr",
     "output_type": "stream",
     "text": [
      "\n",
      "\n",
      "\n",
      "\n",
      "\n",
      "\n",
      "\n",
      " 49%|████▉     | 1298/2650 [00:22<01:51, 12.08it/s]\u001b[A\u001b[A\u001b[A\u001b[A\u001b[A\u001b[A\u001b[A"
     ]
    },
    {
     "name": "stdout",
     "output_type": "stream",
     "text": [
      "AFTER: graphicone_search 2020-02-18 14:34:27.764000 ['taxes', 'fed'] moderator tool passed VasiliiUshakov\n",
      "BEFORE: validated\n",
      "AFTER: graphicone_search 2020-02-18 14:34:27.847000 ['barclays', 'bonds', 'global', 'msci'] moderator tool passed VasiliiUshakov\n",
      "BEFORE: validated\n",
      "AFTER: graphicone_search 2020-02-18 14:34:27.932000 ['sports', 'gender', 'us', 'demography', 'australia', 'france'] moderator tool passed VasiliiUshakov\n",
      "BEFORE: validated\n"
     ]
    },
    {
     "name": "stderr",
     "output_type": "stream",
     "text": [
      "\n",
      "\n",
      "\n",
      "\n",
      "\n",
      "\n",
      "\n",
      " 49%|████▉     | 1300/2650 [00:22<01:52, 12.02it/s]\u001b[A\u001b[A\u001b[A\u001b[A\u001b[A\u001b[A\u001b[A\n",
      "\n",
      "\n",
      "\n",
      "\n",
      "\n",
      "\n",
      " 49%|████▉     | 1302/2650 [00:23<01:52, 11.97it/s]\u001b[A\u001b[A\u001b[A\u001b[A\u001b[A\u001b[A\u001b[A"
     ]
    },
    {
     "name": "stdout",
     "output_type": "stream",
     "text": [
      "AFTER: graphicone_search 2020-02-18 14:34:28.016000 ['fed', 'index', 'chicago'] moderator tool passed VasiliiUshakov\n",
      "BEFORE: validated\n",
      "AFTER: graphicone_search 2020-02-18 14:34:28.100000 ['diseases', 'health', 'index', 's&p'] moderator tool passed VasiliiUshakov\n",
      "BEFORE: validated\n",
      "AFTER: graphicone_search 2020-02-18 14:34:28.184000 ['electricity', 'wind power', 'hydro', 'fuel', 'commodities', 'solar energy', 'renewables', 'gas', 'energy', 'global', 'nuclear power', 'coal'] moderator tool passed VasiliiUshakov\n",
      "BEFORE: validated\n"
     ]
    },
    {
     "name": "stderr",
     "output_type": "stream",
     "text": [
      "\n",
      "\n",
      "\n",
      "\n",
      "\n",
      "\n",
      "\n",
      " 49%|████▉     | 1304/2650 [00:23<01:52, 11.94it/s]\u001b[A\u001b[A\u001b[A\u001b[A\u001b[A\u001b[A\u001b[A"
     ]
    },
    {
     "name": "stdout",
     "output_type": "stream",
     "text": [
      "AFTER: graphicone_search 2020-02-18 14:34:28.269000 ['applovin', 'infor', 'bytedance', 'marketing', 'technology'] moderator tool passed VasiliiUshakov\n",
      "BEFORE: validated\n",
      "AFTER: graphicone_search 2020-02-18 14:34:28.352000 ['household', 'us', 'population', 'children'] moderator tool passed VasiliiUshakov\n",
      "BEFORE: validated\n",
      "AFTER: graphicone_search 2020-02-18 14:34:28.437000 ['uk', 'pmi', 'index', 'bank of england'] moderator tool passed VasiliiUshakov\n",
      "BEFORE: validated\n"
     ]
    },
    {
     "name": "stderr",
     "output_type": "stream",
     "text": [
      "\n",
      "\n",
      "\n",
      "\n",
      "\n",
      "\n",
      "\n",
      " 49%|████▉     | 1306/2650 [00:23<01:52, 11.92it/s]\u001b[A\u001b[A\u001b[A\u001b[A\u001b[A\u001b[A\u001b[A\n",
      "\n",
      "\n",
      "\n",
      "\n",
      "\n",
      "\n",
      " 49%|████▉     | 1308/2650 [00:23<01:52, 11.90it/s]\u001b[A\u001b[A\u001b[A\u001b[A\u001b[A\u001b[A\u001b[A"
     ]
    },
    {
     "name": "stdout",
     "output_type": "stream",
     "text": [
      "AFTER: graphicone_search 2020-02-18 14:34:28.521000 ['eu', 'etf', 'index'] moderator tool passed VasiliiUshakov\n",
      "BEFORE: validated\n",
      "AFTER: graphicone_search 2020-02-18 14:34:28.606000 ['employment', 'us', 'labor'] moderator tool passed VasiliiUshakov\n",
      "BEFORE: validated\n",
      "AFTER: graphicone_search 2020-02-18 14:34:28.689000 ['mortgage'] moderator tool passed VasiliiUshakov\n",
      "BEFORE: validated\n"
     ]
    },
    {
     "name": "stderr",
     "output_type": "stream",
     "text": [
      "\n",
      "\n",
      "\n",
      "\n",
      "\n",
      "\n",
      "\n",
      " 49%|████▉     | 1310/2650 [00:23<01:52, 11.90it/s]\u001b[A\u001b[A\u001b[A\u001b[A\u001b[A\u001b[A\u001b[A"
     ]
    },
    {
     "name": "stdout",
     "output_type": "stream",
     "text": [
      "AFTER: graphicone_search 2020-02-18 14:34:28.774000 ['industrials', 'india', 'pmi', 'automotive', 'vehicles', 'index'] moderator tool passed VasiliiUshakov\n",
      "BEFORE: validated\n",
      "AFTER: graphicone_search 2020-02-18 14:34:28.858000 ['eu', 'index', 'citigroup'] moderator tool passed VasiliiUshakov\n",
      "BEFORE: validated\n",
      "AFTER: graphicone_search 2020-02-18 14:34:28.943000 ['funds', 'hedge funds'] moderator tool passed VasiliiUshakov\n",
      "BEFORE: validated\n"
     ]
    },
    {
     "name": "stderr",
     "output_type": "stream",
     "text": [
      "\n",
      "\n",
      "\n",
      "\n",
      "\n",
      "\n",
      "\n",
      " 50%|████▉     | 1312/2650 [00:23<01:52, 11.90it/s]\u001b[A\u001b[A\u001b[A\u001b[A\u001b[A\u001b[A\u001b[A\n",
      "\n",
      "\n",
      "\n",
      "\n",
      "\n",
      "\n",
      " 50%|████▉     | 1314/2650 [00:24<01:52, 11.89it/s]\u001b[A\u001b[A\u001b[A\u001b[A\u001b[A\u001b[A\u001b[A"
     ]
    },
    {
     "name": "stdout",
     "output_type": "stream",
     "text": [
      "AFTER: graphicone_search 2020-02-18 14:34:29.026000 ['banking'] moderator tool passed VasiliiUshakov\n",
      "BEFORE: validated\n",
      "AFTER: graphicone_search 2020-02-18 14:34:29.111000 ['recession', 'us'] moderator tool passed VasiliiUshakov\n",
      "BEFORE: validated\n",
      "AFTER: graphicone_search 2020-02-18 14:34:29.194000 ['metals & mining', 'commodities', 'rhodium', 'global', 'emissions'] moderator tool passed VasiliiUshakov\n",
      "BEFORE: validated\n"
     ]
    },
    {
     "name": "stderr",
     "output_type": "stream",
     "text": [
      "\n",
      "\n",
      "\n",
      "\n",
      "\n",
      "\n",
      "\n",
      " 50%|████▉     | 1317/2650 [00:24<01:41, 13.19it/s]\u001b[A\u001b[A\u001b[A\u001b[A\u001b[A\u001b[A\u001b[A"
     ]
    },
    {
     "name": "stdout",
     "output_type": "stream",
     "text": [
      "AFTER: graphicone_search 2020-02-18 14:34:29.280000 ['brexit', 'gdp', 'government bonds', 'eu', 'asia', 'crisis', 'bear market', 'savings', 'inflation', 'interest rates', 'politics', 'cpi', 'index', 's&p', 'bonds'] moderator tool passed VasiliiUshakov\n",
      "BEFORE: validated\n",
      "AFTER: graphicone_search 2020-02-18 14:34:29.364000 ['government bonds', 'currency', 'us', 'bonds', 'jpy'] moderator tool passed VasiliiUshakov\n",
      "BEFORE: validated\n",
      "AFTER: graphicone_search 2020-02-18 14:34:29.449000 ['us', 'sentiment', 'bull market', 'bear market'] moderator tool passed VasiliiUshakov\n",
      "BEFORE: validated\n"
     ]
    },
    {
     "name": "stderr",
     "output_type": "stream",
     "text": [
      "\n",
      "\n",
      "\n",
      "\n",
      "\n",
      "\n",
      "\n",
      " 50%|████▉     | 1319/2650 [00:24<01:44, 12.76it/s]\u001b[A\u001b[A\u001b[A\u001b[A\u001b[A\u001b[A\u001b[A\n",
      "\n",
      "\n",
      "\n",
      "\n",
      "\n",
      "\n",
      " 50%|████▉     | 1321/2650 [00:24<01:46, 12.47it/s]\u001b[A\u001b[A\u001b[A\u001b[A\u001b[A\u001b[A\u001b[A"
     ]
    },
    {
     "name": "stdout",
     "output_type": "stream",
     "text": [
      "AFTER: graphicone_search 2020-02-18 14:34:29.533000 ['trade war', 'north korea', 'asia', 'china', 'us', 'interest rates', 'fed'] moderator tool passed VasiliiUshakov\n",
      "BEFORE: validated\n",
      "AFTER: graphicone_search 2020-02-18 14:34:29.618000 ['japan', 'canada', 'uk', 'south africa', 'germany', 'imports', 'metals & mining', 'trade', 'mexico', 'hong kong', 'commodities', 'us', 'switzerland', 'turkey', 'australia', 'spain', 'brazil', 'gold'] moderator tool passed VasiliiUshakov\n",
      "BEFORE: validated\n",
      "AFTER: graphicone_search 2020-02-18 14:34:29.701000 ['cpi', 'inflation', 'index', 'new zealand'] moderator tool passed VasiliiUshakov\n",
      "BEFORE: validated\n"
     ]
    },
    {
     "name": "stderr",
     "output_type": "stream",
     "text": [
      "\n",
      "\n",
      "\n",
      "\n",
      "\n",
      "\n",
      "\n",
      " 50%|████▉     | 1323/2650 [00:24<01:47, 12.29it/s]\u001b[A\u001b[A\u001b[A\u001b[A\u001b[A\u001b[A\u001b[A"
     ]
    },
    {
     "name": "stdout",
     "output_type": "stream",
     "text": [
      "AFTER: graphicone_search 2020-02-18 14:34:29.786000 ['luxembourg', 'wealth', 'japan', 'czech republic', 'labor', 'belgium', 'germany', 'mexico', 'portugal', 'austria', 'france', 'lithuania', 'greece', 'denmark', 'poland', 'canada', 'korea', 'slovenia', 'new zealand', 'turkey', 'finland', 'sweden', 'hungary', 'norway', 'slovakia', 'latvia', 'switzerland', 'us', 'chile', 'australia', 'spain', 'employment', 'gdp', 'uk', 'estonia', 'oecd', 'italy', 'iceland', 'israel', 'netherlands', 'ireland'] moderator tool passed VasiliiUshakov\n",
      "BEFORE: validated\n",
      "AFTER: graphicone_search 2020-02-18 14:34:29.870000 ['us', 'index', 's&p', 'fed'] moderator tool passed VasiliiUshakov\n",
      "BEFORE: validated\n",
      "AFTER: graphicone_search 2020-02-18 14:34:29.955000 ['eu', 'ecb', 'gdp'] moderator tool passed VasiliiUshakov\n",
      "BEFORE: validated\n"
     ]
    },
    {
     "name": "stderr",
     "output_type": "stream",
     "text": [
      "\n",
      "\n",
      "\n",
      "\n",
      "\n",
      "\n",
      "\n",
      " 50%|█████     | 1326/2650 [00:24<01:37, 13.56it/s]\u001b[A\u001b[A\u001b[A\u001b[A\u001b[A\u001b[A\u001b[A\n",
      "\n",
      "\n",
      "\n",
      "\n",
      "\n",
      "\n",
      " 50%|█████     | 1328/2650 [00:25<01:41, 13.00it/s]\u001b[A\u001b[A\u001b[A\u001b[A\u001b[A\u001b[A\u001b[A"
     ]
    },
    {
     "name": "stdout",
     "output_type": "stream",
     "text": [
      "AFTER: graphicone_search 2020-02-18 14:34:30.038000 ['employment', 'eu', 'germany', 'labor', 'pmi', 'france', 'index'] moderator tool passed VasiliiUshakov\n",
      "BEFORE: validated\n",
      "AFTER: graphicone_search 2020-02-18 14:34:30.123000 ['germany', 'manufacturing', 'vehicles', 'china'] moderator tool passed VasiliiUshakov\n",
      "BEFORE: validated\n",
      "AFTER: graphicone_search 2020-02-18 14:34:30.206000 ['ilf', 'middle east', 'japan', 'eu', 'asia', 'africa', 'latin america', 'china', 'etf', 'us', 'russia', 'global', 'vanguard', 'vt', 'funds', 'index', 's&p', 'msci'] moderator tool passed VasiliiUshakov\n",
      "BEFORE: validated\n"
     ]
    },
    {
     "name": "stderr",
     "output_type": "stream",
     "text": [
      "\n",
      "\n",
      "\n",
      "\n",
      "\n",
      "\n",
      "\n",
      " 50%|█████     | 1330/2650 [00:25<01:44, 12.62it/s]\u001b[A\u001b[A\u001b[A\u001b[A\u001b[A\u001b[A\u001b[A"
     ]
    },
    {
     "name": "stdout",
     "output_type": "stream",
     "text": [
      "AFTER: graphicone_search 2020-02-18 14:34:30.291000 ['smartphone', 'beer', 'asia', 'imports', 'automotive', 'china', 'trade', 'alcohol', 'cosmetics', 'phone', 'semiconductors', 'retail', 'mobile'] moderator tool passed VasiliiUshakov\n",
      "BEFORE: validated\n",
      "AFTER: graphicone_search 2020-02-18 14:34:30.375000 ['eu', 'consumer', 'sentiment'] moderator tool passed VasiliiUshakov\n",
      "BEFORE: validated\n",
      "AFTER: graphicone_search 2020-02-18 14:34:30.461000 ['manufacturing', 'global'] moderator tool passed VasiliiUshakov\n",
      "BEFORE: validated\n"
     ]
    },
    {
     "name": "stderr",
     "output_type": "stream",
     "text": [
      "\n",
      "\n",
      "\n",
      "\n",
      "\n",
      "\n",
      "\n",
      " 50%|█████     | 1332/2650 [00:25<01:46, 12.37it/s]\u001b[A\u001b[A\u001b[A\u001b[A\u001b[A\u001b[A\u001b[A\n",
      "\n",
      "\n",
      "\n",
      "\n",
      "\n",
      "\n",
      " 50%|█████     | 1334/2650 [00:25<01:47, 12.21it/s]\u001b[A\u001b[A\u001b[A\u001b[A\u001b[A\u001b[A\u001b[A"
     ]
    },
    {
     "name": "stdout",
     "output_type": "stream",
     "text": [
      "AFTER: graphicone_search 2020-02-18 14:34:30.545000 ['funds', 'technology'] moderator tool passed VasiliiUshakov\n",
      "BEFORE: validated\n",
      "AFTER: graphicone_search 2020-02-18 14:34:30.630000 ['intel'] moderator tool passed VasiliiUshakov\n",
      "BEFORE: validated\n",
      "AFTER: graphicone_search 2020-02-18 14:34:30.713000 ['real estate', 'manufacturing'] moderator tool passed VasiliiUshakov\n",
      "BEFORE: validated\n"
     ]
    },
    {
     "name": "stderr",
     "output_type": "stream",
     "text": [
      "\n",
      "\n",
      "\n",
      "\n",
      "\n",
      "\n",
      "\n",
      " 50%|█████     | 1336/2650 [00:25<01:48, 12.10it/s]\u001b[A\u001b[A\u001b[A\u001b[A\u001b[A\u001b[A\u001b[A"
     ]
    },
    {
     "name": "stdout",
     "output_type": "stream",
     "text": [
      "AFTER: graphicone_search 2020-02-18 14:34:30.799000 ['us', 'health', 'medicine', 'woman'] moderator tool passed VasiliiUshakov\n",
      "BEFORE: validated\n",
      "AFTER: graphicone_search 2020-02-18 14:34:30.882000 ['commodities', 'imports', 'oil', 'trade'] moderator tool passed VasiliiUshakov\n",
      "BEFORE: validated\n",
      "AFTER: graphicone_search 2020-02-18 14:34:30.967000 ['global', 'ev'] moderator tool passed VasiliiUshakov\n",
      "BEFORE: validated\n"
     ]
    },
    {
     "name": "stderr",
     "output_type": "stream",
     "text": [
      "\n",
      "\n",
      "\n",
      "\n",
      "\n",
      "\n",
      "\n",
      " 50%|█████     | 1338/2650 [00:25<01:49, 12.03it/s]\u001b[A\u001b[A\u001b[A\u001b[A\u001b[A\u001b[A\u001b[A\n",
      "\n",
      "\n",
      "\n",
      "\n",
      "\n",
      "\n",
      " 51%|█████     | 1340/2650 [00:26<01:49, 11.98it/s]\u001b[A\u001b[A\u001b[A\u001b[A\u001b[A\u001b[A\u001b[A"
     ]
    },
    {
     "name": "stdout",
     "output_type": "stream",
     "text": [
      "AFTER: graphicone_search 2020-02-18 14:34:31.051000 ['samsung', 'jpmorgan', 'exxon', 'alphabet', 'saudi aramco', 'global', 'apple', 'shell'] moderator tool passed VasiliiUshakov\n",
      "BEFORE: validated\n",
      "AFTER: graphicone_search 2020-02-18 14:34:31.135000 ['deutsche bank', 'jpmorgan', 'currency', 'nomura', 'volatility', 'index'] moderator tool passed VasiliiUshakov\n",
      "BEFORE: validated\n",
      "AFTER: graphicone_search 2020-02-18 14:34:31.219000 ['bitcoin', 'cryptocurrency', 'bill gates', 'metals & mining', 'commodities', 'usd', 'amazon', 'global', 'apple', 'jeff bezos', 'gold'] moderator tool passed VasiliiUshakov\n",
      "BEFORE: validated\n"
     ]
    },
    {
     "name": "stderr",
     "output_type": "stream",
     "text": [
      "\n",
      "\n",
      "\n",
      "\n",
      "\n",
      "\n",
      "\n",
      " 51%|█████     | 1342/2650 [00:26<01:49, 11.95it/s]\u001b[A\u001b[A\u001b[A\u001b[A\u001b[A\u001b[A\u001b[A"
     ]
    },
    {
     "name": "stdout",
     "output_type": "stream",
     "text": [
      "AFTER: graphicone_search 2020-02-18 14:34:31.304000 ['google', 'app', 'apple'] moderator tool passed VasiliiUshakov\n",
      "BEFORE: validated\n",
      "AFTER: graphicone_search 2020-02-18 14:34:31.388000 ['baidu', 'alibaba', 'facebook', 'jd.com', 'tencent', 'microsoft', 'china', 'alphabet', 'us', 'amazon', 'apple', 'huawei', 'technology'] moderator tool passed VasiliiUshakov\n",
      "BEFORE: validated\n",
      "AFTER: graphicone_search 2020-02-18 14:34:31.473000 ['volvo', 'porsche', 'bmw', 'mercedes benz', 'kia', 'chrysler', 'ford', 'automotive', 'toyota', 'us', 'fiat', 'audi', 'volkswagen', 'chevrolet', 'nissan', 'tesla', 'honda'] moderator tool passed VasiliiUshakov\n",
      "BEFORE: validated\n"
     ]
    },
    {
     "name": "stderr",
     "output_type": "stream",
     "text": [
      "\n",
      "\n",
      "\n",
      "\n",
      "\n",
      "\n",
      "\n",
      " 51%|█████     | 1344/2650 [00:26<01:49, 11.91it/s]\u001b[A\u001b[A\u001b[A\u001b[A\u001b[A\u001b[A\u001b[A\n",
      "\n",
      "\n",
      "\n",
      "\n",
      "\n",
      "\n",
      " 51%|█████     | 1346/2650 [00:26<01:49, 11.90it/s]\u001b[A\u001b[A\u001b[A\u001b[A\u001b[A\u001b[A\u001b[A"
     ]
    },
    {
     "name": "stdout",
     "output_type": "stream",
     "text": [
      "AFTER: graphicone_search 2020-02-18 14:34:31.557000 ['volvo', 'hyundai', 'kia', 'ev', 'eu', 'automotive', 'smart', 'renault', 'land rover', 'audi', 'volkswagen', 'nissan', 'jaguar', 'tesla', 'bmw', 'vehicles', 'mitsubishi'] moderator tool passed VasiliiUshakov\n",
      "BEFORE: validated\n",
      "AFTER: graphicone_search 2020-02-18 14:34:31.642000 ['google', 'facebook', 'samsung', 'technology', 'microsoft', 'amazon', 'health', 'apple', 'internet', 'data', 'ibm'] moderator tool passed VasiliiUshakov\n",
      "BEFORE: validated\n",
      "AFTER: graphicone_search 2020-02-18 14:34:31.725000 ['cpi', 'inflation', 'energy', 'index'] moderator tool passed VasiliiUshakov\n",
      "BEFORE: validated\n"
     ]
    },
    {
     "name": "stderr",
     "output_type": "stream",
     "text": [
      "\n",
      "\n",
      "\n",
      "\n",
      "\n",
      "\n",
      "\n",
      " 51%|█████     | 1348/2650 [00:26<01:49, 11.90it/s]\u001b[A\u001b[A\u001b[A\u001b[A\u001b[A\u001b[A\u001b[A"
     ]
    },
    {
     "name": "stdout",
     "output_type": "stream",
     "text": [
      "AFTER: graphicone_search 2020-02-18 14:34:31.810000 ['japan', 'germany', 'france', 'facebook', 'russell index', 'canada', 'india', 'china', 'global', 'apple', 'switzerland', 'hong kong', 'us', 'australia', 'google', 'uk', 'microsoft', 'south korea', 'amazon', 'netflix', 'index'] moderator tool passed VasiliiUshakov\n",
      "BEFORE: validated\n",
      "AFTER: graphicone_search 2020-02-18 14:34:31.893000 ['bitcoin', 'nasa', 'billionaires', 'retail', 'alibaba', 'cryptocurrency', 'adidas', 'apple', 'film industry', 'nike', 'africa', 'us', \"mcdonald's\", 'coca-cola', 'smartphone', 'google', 'gdp', 'general motors', 'netherlands'] moderator tool passed VasiliiUshakov\n",
      "BEFORE: validated\n",
      "AFTER: graphicone_search 2020-02-18 14:34:31.978000 ['ev', 'ford', 'us', 'chevrolet', 'nissan', 'mitsubishi'] moderator tool passed VasiliiUshakov\n",
      "BEFORE: validated\n"
     ]
    },
    {
     "name": "stderr",
     "output_type": "stream",
     "text": [
      "\n",
      "\n",
      "\n",
      "\n",
      "\n",
      "\n",
      "\n",
      " 51%|█████     | 1350/2650 [00:26<01:49, 11.90it/s]\u001b[A\u001b[A\u001b[A\u001b[A\u001b[A\u001b[A\u001b[A\n",
      "\n",
      "\n",
      "\n",
      "\n",
      "\n",
      "\n",
      " 51%|█████     | 1352/2650 [00:27<01:49, 11.89it/s]\u001b[A\u001b[A\u001b[A\u001b[A\u001b[A\u001b[A\u001b[A"
     ]
    },
    {
     "name": "stdout",
     "output_type": "stream",
     "text": [
      "AFTER: graphicone_search 2020-02-18 14:34:32.061000 ['goldman sachs', 'deutsche bank', 'credit suisse', 'merrill lynch', 'jpmorgan', 'eu', 'morgan stanley', 'us', 'bank of america', 'banking', 'ubs', 'citigroup'] moderator tool passed VasiliiUshakov\n",
      "BEFORE: validated\n",
      "AFTER: graphicone_search 2020-02-18 14:34:32.146000 ['nike', 'eu', 'asia', 'latin america', 'china', 'taxes', 'mea', 'north america', 'apparel', 'marketing', 'converse'] moderator tool passed VasiliiUshakov\n",
      "BEFORE: validated\n",
      "AFTER: graphicone_search 2020-02-18 14:34:32.230000 ['amazon'] moderator tool passed VasiliiUshakov\n",
      "BEFORE: validated\n"
     ]
    },
    {
     "name": "stderr",
     "output_type": "stream",
     "text": [
      "\n",
      "\n",
      "\n",
      "\n",
      "\n",
      "\n",
      "\n",
      " 51%|█████     | 1355/2650 [00:27<01:38, 13.21it/s]\u001b[A\u001b[A\u001b[A\u001b[A\u001b[A\u001b[A\u001b[A"
     ]
    },
    {
     "name": "stdout",
     "output_type": "stream",
     "text": [
      "AFTER: graphicone_search 2020-02-18 14:34:32.315000 ['ipo', 'eu', 'aston martin', 'automotive'] moderator tool passed VasiliiUshakov\n",
      "BEFORE: validated\n",
      "AFTER: graphicone_search 2020-02-18 14:34:32.398000 ['instagram', 'facebook', 'twitter', 'pinterest', 'youtube', 'us', 'snap', 'social media'] moderator tool passed VasiliiUshakov\n",
      "BEFORE: validated\n",
      "AFTER: graphicone_search 2020-02-18 14:34:32.483000 ['netease', 'baidu', 'internet', 'china'] moderator tool passed VasiliiUshakov\n",
      "BEFORE: validated\n"
     ]
    },
    {
     "name": "stderr",
     "output_type": "stream",
     "text": [
      "\n",
      "\n",
      "\n",
      "\n",
      "\n",
      "\n",
      "\n",
      " 51%|█████     | 1357/2650 [00:27<01:41, 12.77it/s]\u001b[A\u001b[A\u001b[A\u001b[A\u001b[A\u001b[A\u001b[A\n",
      "\n",
      "\n",
      "\n",
      "\n",
      "\n",
      "\n",
      " 51%|█████▏    | 1360/2650 [00:27<01:32, 13.96it/s]\u001b[A\u001b[A\u001b[A\u001b[A\u001b[A\u001b[A\u001b[A"
     ]
    },
    {
     "name": "stdout",
     "output_type": "stream",
     "text": [
      "AFTER: graphicone_search 2020-02-18 14:34:32.567000 ['google', 'cloud', 'alibaba', 'tencent', 'microsoft', 'salesforce', 'rackspace', 'amazon', 'ibm', 'oracle'] moderator tool passed VasiliiUshakov\n",
      "BEFORE: validated\n",
      "AFTER: graphicone_search 2020-02-18 14:34:32.652000 ['tesla', 'norway', 'ev'] moderator tool passed VasiliiUshakov\n",
      "BEFORE: validated\n",
      "AFTER: graphicone_search 2020-02-18 14:34:32.735000 ['google', 'facebook', 'alibaba', 'tencent', 'bytedance', 'microsoft', 'app', 'amazon', 'global', 'apple', 'activision'] moderator tool passed VasiliiUshakov\n",
      "BEFORE: validated\n"
     ]
    },
    {
     "name": "stderr",
     "output_type": "stream",
     "text": [
      "\n",
      "\n",
      "\n",
      "\n",
      "\n",
      "\n",
      "\n",
      " 51%|█████▏    | 1363/2650 [00:27<01:26, 14.93it/s]\u001b[A\u001b[A\u001b[A\u001b[A\u001b[A\u001b[A\u001b[A"
     ]
    },
    {
     "name": "stdout",
     "output_type": "stream",
     "text": [
      "AFTER: graphicone_search 2020-02-18 14:34:32.820000 ['bubble', 'bitcoin', 'cryptocurrency', 'usd', 'amazon'] moderator tool passed VasiliiUshakov\n",
      "BEFORE: validated\n",
      "AFTER: graphicone_search 2020-02-18 14:34:32.903000 ['smartphone', 'global', 'technology'] moderator tool passed VasiliiUshakov\n",
      "BEFORE: validated\n",
      "AFTER: graphicone_search 2020-02-18 14:34:32.988000 ['medicine', 'drugs', 'canopy growth', 'cannabis', 'north america'] moderator tool passed VasiliiUshakov\n",
      "BEFORE: validated\n"
     ]
    },
    {
     "name": "stderr",
     "output_type": "stream",
     "text": [
      "\n",
      "\n",
      "\n",
      "\n",
      "\n",
      "\n",
      "\n",
      " 52%|█████▏    | 1365/2650 [00:27<01:32, 13.87it/s]\u001b[A\u001b[A\u001b[A\u001b[A\u001b[A\u001b[A\u001b[A\n",
      "\n",
      "\n",
      "\n",
      "\n",
      "\n",
      "\n",
      " 52%|█████▏    | 1367/2650 [00:28<01:37, 13.20it/s]\u001b[A\u001b[A\u001b[A\u001b[A\u001b[A\u001b[A\u001b[A"
     ]
    },
    {
     "name": "stdout",
     "output_type": "stream",
     "text": [
      "AFTER: graphicone_search 2020-02-18 14:34:33.072000 ['google', 'blackberry', 'microsoft', 'app', 'amazon', 'apple'] moderator tool passed VasiliiUshakov\n",
      "BEFORE: validated\n",
      "AFTER: graphicone_search 2020-02-18 14:34:33.156000 ['gasoline', 'eu', 'metals & mining', 'commodities', 'diesel', 'palladium'] moderator tool passed VasiliiUshakov\n",
      "BEFORE: validated\n",
      "AFTER: graphicone_search 2020-02-18 14:34:33.240000 ['lyft', 'automotive', 'uber'] moderator tool passed VasiliiUshakov\n",
      "BEFORE: validated\n"
     ]
    },
    {
     "name": "stderr",
     "output_type": "stream",
     "text": [
      "\n",
      "\n",
      "\n",
      "\n",
      "\n",
      "\n",
      "\n",
      " 52%|█████▏    | 1369/2650 [00:28<01:40, 12.77it/s]\u001b[A\u001b[A\u001b[A\u001b[A\u001b[A\u001b[A\u001b[A"
     ]
    },
    {
     "name": "stdout",
     "output_type": "stream",
     "text": [
      "AFTER: graphicone_search 2020-02-18 14:34:33.325000 ['netflix', 'comcast'] moderator tool passed VasiliiUshakov\n",
      "BEFORE: validated\n",
      "AFTER: graphicone_search 2020-02-18 14:34:33.409000 ['iphone', 'wall street'] moderator tool passed VasiliiUshakov\n",
      "BEFORE: validated\n",
      "AFTER: graphicone_search 2020-02-18 14:34:33.493000 ['instagram', 'facebook', 'wechat', 'viber', 'qq', 'whatsapp', 'kakaotalk', 'twitter', 'qzone', 'line', 'pinterest', 'app', 'linkedin', 'global', 'snap', 'social media'] moderator tool passed VasiliiUshakov\n",
      "BEFORE: validated\n"
     ]
    },
    {
     "name": "stderr",
     "output_type": "stream",
     "text": [
      "\n",
      "\n",
      "\n",
      "\n",
      "\n",
      "\n",
      "\n",
      " 52%|█████▏    | 1371/2650 [00:28<01:42, 12.48it/s]\u001b[A\u001b[A\u001b[A\u001b[A\u001b[A\u001b[A\u001b[A\n",
      "\n",
      "\n",
      "\n",
      "\n",
      "\n",
      "\n",
      " 52%|█████▏    | 1373/2650 [00:28<01:43, 12.29it/s]\u001b[A\u001b[A\u001b[A\u001b[A\u001b[A\u001b[A\u001b[A"
     ]
    },
    {
     "name": "stdout",
     "output_type": "stream",
     "text": [
      "AFTER: graphicone_search 2020-02-18 14:34:33.577000 ['ripple', 'cryptocurrency', 'bitcoin', 'ethereum'] moderator tool passed VasiliiUshakov\n",
      "BEFORE: validated\n",
      "AFTER: graphicone_search 2020-02-18 14:34:33.662000 ['youtube', 'amazon', 'netflix', 'consumer', 'hulu', 'technology'] moderator tool passed VasiliiUshakov\n",
      "BEFORE: validated\n",
      "AFTER: graphicone_search 2020-02-18 14:34:33.746000 ['google', 'smartphone', 'facebook', 'transportation', 'mobile'] moderator tool passed VasiliiUshakov\n",
      "BEFORE: validated\n"
     ]
    },
    {
     "name": "stderr",
     "output_type": "stream",
     "text": [
      "\n",
      "\n",
      "\n",
      "\n",
      "\n",
      "\n",
      "\n",
      " 52%|█████▏    | 1375/2650 [00:28<01:45, 12.13it/s]\u001b[A\u001b[A\u001b[A\u001b[A\u001b[A\u001b[A\u001b[A"
     ]
    },
    {
     "name": "stdout",
     "output_type": "stream",
     "text": [
      "AFTER: graphicone_search 2020-02-18 14:34:33.832000 ['us'] moderator tool passed VasiliiUshakov\n",
      "BEFORE: validated\n",
      "AFTER: graphicone_search 2020-02-18 14:34:33.916000 ['cash', 'index', 's&p'] moderator tool passed VasiliiUshakov\n",
      "BEFORE: validated\n",
      "AFTER: graphicone_search 2020-02-18 14:34:34 ['foreign investment', 'sentiment', 'saudi stock exchange'] moderator tool passed VasiliiUshakov\n",
      "BEFORE: validated\n"
     ]
    },
    {
     "name": "stderr",
     "output_type": "stream",
     "text": [
      "\n",
      "\n",
      "\n",
      "\n",
      "\n",
      "\n",
      "\n",
      " 52%|█████▏    | 1377/2650 [00:28<01:45, 12.06it/s]\u001b[A\u001b[A\u001b[A\u001b[A\u001b[A\u001b[A\u001b[A\n",
      "\n",
      "\n",
      "\n",
      "\n",
      "\n",
      "\n",
      " 52%|█████▏    | 1379/2650 [00:29<01:45, 12.01it/s]\u001b[A\u001b[A\u001b[A\u001b[A\u001b[A\u001b[A\u001b[A"
     ]
    },
    {
     "name": "stdout",
     "output_type": "stream",
     "text": [
      "AFTER: graphicone_search 2020-02-18 14:34:34.084000 ['chevron', 'oil', 'exxon', 'commodities', 'us'] moderator tool passed VasiliiUshakov\n",
      "BEFORE: validated\n",
      "AFTER: graphicone_search 2020-02-18 14:34:34.168000 ['labor', 'global'] moderator tool passed VasiliiUshakov\n",
      "BEFORE: validated\n",
      "AFTER: graphicone_search 2020-02-18 14:34:34.252000 ['google', 'facebook', 'kimberly-clark', 't-mobile', 'microsoft', 'general motors', 'ab inbev', 'renewables', 'alcoa', 'energy', 'apple', 'norsk hydro'] moderator tool passed VasiliiUshakov\n",
      "BEFORE: validated\n"
     ]
    },
    {
     "name": "stderr",
     "output_type": "stream",
     "text": [
      "\n",
      "\n",
      "\n",
      "\n",
      "\n",
      "\n",
      "\n",
      " 52%|█████▏    | 1381/2650 [00:29<01:45, 11.97it/s]\u001b[A\u001b[A\u001b[A\u001b[A\u001b[A\u001b[A\u001b[A"
     ]
    },
    {
     "name": "stdout",
     "output_type": "stream",
     "text": [
      "AFTER: graphicone_search 2020-02-18 14:34:34.336000 ['facebook', 'twitter', 'technology', 'intel', 'microsoft', 'alphabet', 'us', 'amazon', 'ibm', 'politics', 'apple', 'trump', 'oracle'] moderator tool passed VasiliiUshakov\n",
      "BEFORE: validated\n",
      "AFTER: graphicone_search 2020-02-18 14:34:34.420000 ['cisco', 'supermicro', 'innovation', 'lenovo', 'inspur', 'software', 'quanta computer', 'huawei', 'hewlett packard enterprise', 'dell'] moderator tool passed VasiliiUshakov\n",
      "BEFORE: validated\n",
      "AFTER: graphicone_search 2020-02-18 14:34:34.505000 ['paypal', 'payments', 'cashless'] moderator tool passed VasiliiUshakov\n",
      "BEFORE: validated\n"
     ]
    },
    {
     "name": "stderr",
     "output_type": "stream",
     "text": [
      "\n",
      "\n",
      "\n",
      "\n",
      "\n",
      "\n",
      "\n",
      " 52%|█████▏    | 1384/2650 [00:29<01:35, 13.27it/s]\u001b[A\u001b[A\u001b[A\u001b[A\u001b[A\u001b[A\u001b[A\n",
      "\n",
      "\n",
      "\n",
      "\n",
      "\n",
      "\n",
      " 52%|█████▏    | 1386/2650 [00:29<01:38, 12.81it/s]\u001b[A\u001b[A\u001b[A\u001b[A\u001b[A\u001b[A\u001b[A"
     ]
    },
    {
     "name": "stdout",
     "output_type": "stream",
     "text": [
      "AFTER: graphicone_search 2020-02-18 14:34:34.589000 ['buyback', 'apple'] moderator tool passed VasiliiUshakov\n",
      "BEFORE: validated\n",
      "AFTER: graphicone_search 2020-02-18 14:34:34.674000 ['ak steel', 'boeing', 'caterpillar', 'china', 'us steel', 'trade', 'us', 'trump', 'deere'] moderator tool passed VasiliiUshakov\n",
      "BEFORE: validated\n",
      "AFTER: graphicone_search 2020-02-18 14:34:34.757000 ['germany', 'mexico', 'france', 'greece', 'brazil', 'facebook', 'poland', 'alibaba', 'eu', 'tencent', 'alphabet', 'apple', 'africa', 'switzerland', 'technology', 'stoxx', 'gdp', 'uk', 'dax', 'italy', 'microsoft', 'amazon', 'russia', 'netflix', 'topix', 'index'] moderator tool passed VasiliiUshakov\n",
      "BEFORE: validated\n"
     ]
    },
    {
     "name": "stderr",
     "output_type": "stream",
     "text": [
      "\n",
      "\n",
      "\n",
      "\n",
      "\n",
      "\n",
      "\n",
      " 52%|█████▏    | 1388/2650 [00:29<01:40, 12.52it/s]\u001b[A\u001b[A\u001b[A\u001b[A\u001b[A\u001b[A\u001b[A"
     ]
    },
    {
     "name": "stdout",
     "output_type": "stream",
     "text": [
      "AFTER: graphicone_search 2020-02-18 14:34:34.842000 ['bubble', 'e-commerce', 'japan', 'real estate', 'thailand', 'metals & mining', 'china', 'commodities', 'us', 'biotech', 'nikkei', 'index', 'technology', 'gold'] moderator tool passed VasiliiUshakov\n",
      "BEFORE: validated\n",
      "AFTER: graphicone_search 2020-02-18 14:34:34.926000 ['e-commerce', 'japan', 'uk', 'germany', 'india', 'china', 'us', 'russia', 'consumer', 'internet', 'brazil'] moderator tool passed VasiliiUshakov\n",
      "BEFORE: validated\n",
      "AFTER: graphicone_search 2020-02-18 14:34:35.011000 ['equality', 'geopolitics', 'poverty', 'terrorism', 'crisis', 'germany', 'china', 'trade', 'us', 'inflation', 'wto', 'nafta'] moderator tool passed VasiliiUshakov\n",
      "BEFORE: validated\n"
     ]
    },
    {
     "name": "stderr",
     "output_type": "stream",
     "text": [
      "\n",
      "\n",
      "\n",
      "\n",
      "\n",
      "\n",
      "\n",
      " 52%|█████▏    | 1390/2650 [00:29<01:42, 12.32it/s]\u001b[A\u001b[A\u001b[A\u001b[A\u001b[A\u001b[A\u001b[A\n",
      "\n",
      "\n",
      "\n",
      "\n",
      "\n",
      "\n",
      " 53%|█████▎    | 1392/2650 [00:30<01:43, 12.18it/s]\u001b[A\u001b[A\u001b[A\u001b[A\u001b[A\u001b[A\u001b[A"
     ]
    },
    {
     "name": "stdout",
     "output_type": "stream",
     "text": [
      "AFTER: graphicone_search 2020-02-18 14:34:35.094000 ['e-commerce', 'jd.com', 'amazon', 'internet', 'shopping', 'retail'] moderator tool passed VasiliiUshakov\n",
      "BEFORE: validated\n",
      "AFTER: graphicone_search 2020-02-18 14:34:35.179000 ['facebook', 'etf', 'index', 'funds', 'data', 'technology'] moderator tool passed VasiliiUshakov\n",
      "BEFORE: validated\n",
      "AFTER: graphicone_search 2020-02-18 14:34:35.263000 ['facebook', 'microsoft', 'alphabet', 'amazon', 'apple', 'technology'] moderator tool passed VasiliiUshakov\n",
      "BEFORE: validated\n"
     ]
    },
    {
     "name": "stderr",
     "output_type": "stream",
     "text": [
      "\n",
      "\n",
      "\n",
      "\n",
      "\n",
      "\n",
      "\n",
      " 53%|█████▎    | 1394/2650 [00:30<01:43, 12.09it/s]\u001b[A\u001b[A\u001b[A\u001b[A\u001b[A\u001b[A\u001b[A"
     ]
    },
    {
     "name": "stdout",
     "output_type": "stream",
     "text": [
      "AFTER: graphicone_search 2020-02-18 14:34:35.348000 ['smartphone', 'xiaomi', 'oppo', 'samsung', 'apple', 'electronics', 'huawei'] moderator tool passed VasiliiUshakov\n",
      "BEFORE: validated\n",
      "AFTER: graphicone_search 2020-02-18 14:34:35.431000 ['japan', 'jpmorgan', 'uk', 'eu', 'asia', 'pmi', 'china', 'trade', 'export', 'us', 'manufacturing', 'global', 'index'] moderator tool passed VasiliiUshakov\n",
      "BEFORE: validated\n",
      "AFTER: graphicone_search 2020-02-18 14:34:35.516000 ['government bonds', 'eu', 'oil', 'metals & mining', 'commodities', 'currency', 'brent', 'us', 'emerging markets', 'usd', 'italy', 'global', 'bonds', 'index', 'gold'] moderator tool passed VasiliiUshakov\n",
      "BEFORE: validated\n"
     ]
    },
    {
     "name": "stderr",
     "output_type": "stream",
     "text": [
      "\n",
      "\n",
      "\n",
      "\n",
      "\n",
      "\n",
      "\n",
      " 53%|█████▎    | 1396/2650 [00:30<01:44, 12.02it/s]\u001b[A\u001b[A\u001b[A\u001b[A\u001b[A\u001b[A\u001b[A\n",
      "\n",
      "\n",
      "\n",
      "\n",
      "\n",
      "\n",
      " 53%|█████▎    | 1398/2650 [00:30<01:44, 11.97it/s]\u001b[A\u001b[A\u001b[A\u001b[A\u001b[A\u001b[A\u001b[A"
     ]
    },
    {
     "name": "stdout",
     "output_type": "stream",
     "text": [
      "AFTER: graphicone_search 2020-02-18 14:34:35.600000 ['google', 'alibaba', 'smart device', 'smart speaker', 'amazon', 'global', 'apple', 'virtual assistant', 'gadgets'] moderator tool passed VasiliiUshakov\n",
      "BEFORE: validated\n",
      "AFTER: graphicone_search 2020-02-18 14:34:35.684000 ['sqm', 'ganfeng lithium', 'albemarle', 'tianqi lithium corp', 'metals & mining', 'commodities', 'fmc', 'lithium'] moderator tool passed VasiliiUshakov\n",
      "BEFORE: validated\n",
      "AFTER: graphicone_search 2020-02-18 14:34:35.768000 ['ford', 'automotive', 'general motors', 'fca', 'chevrolet'] moderator tool passed VasiliiUshakov\n",
      "BEFORE: validated\n"
     ]
    },
    {
     "name": "stderr",
     "output_type": "stream",
     "text": [
      "\n",
      "\n",
      "\n",
      "\n",
      "\n",
      "\n",
      "\n",
      " 53%|█████▎    | 1400/2650 [00:30<01:44, 11.94it/s]\u001b[A\u001b[A\u001b[A\u001b[A\u001b[A\u001b[A\u001b[A"
     ]
    },
    {
     "name": "stdout",
     "output_type": "stream",
     "text": [
      "AFTER: graphicone_search 2020-02-18 14:34:35.853000 ['loan', 'tesla', 'bonds', 'debt'] moderator tool passed VasiliiUshakov\n",
      "BEFORE: validated\n",
      "AFTER: graphicone_search 2020-02-18 14:34:35.937000 ['e-commerce', 'shopping', 'alibaba'] moderator tool passed VasiliiUshakov\n",
      "BEFORE: validated\n",
      "AFTER: graphicone_search 2020-02-18 14:34:36.021000 ['sentiment', 'bear market'] moderator tool passed VasiliiUshakov\n",
      "BEFORE: validated\n"
     ]
    },
    {
     "name": "stderr",
     "output_type": "stream",
     "text": [
      "\n",
      "\n",
      "\n",
      "\n",
      "\n",
      "\n",
      "\n",
      " 53%|█████▎    | 1402/2650 [00:30<01:44, 11.93it/s]\u001b[A\u001b[A\u001b[A\u001b[A\u001b[A\u001b[A\u001b[A\n",
      "\n",
      "\n",
      "\n",
      "\n",
      "\n",
      "\n",
      " 53%|█████▎    | 1405/2650 [00:31<01:34, 13.23it/s]\u001b[A\u001b[A\u001b[A\u001b[A\u001b[A\u001b[A\u001b[A"
     ]
    },
    {
     "name": "stdout",
     "output_type": "stream",
     "text": [
      "AFTER: graphicone_search 2020-02-18 14:34:36.105000 ['gdp', 'eu', 'india', 'china', 'us', 'global', 'population'] moderator tool passed VasiliiUshakov\n",
      "BEFORE: validated\n",
      "AFTER: graphicone_search 2020-02-18 14:34:36.190000 ['jpmorgan', 'etf', 'global', 'funds', 'index'] moderator tool passed VasiliiUshakov\n",
      "BEFORE: validated\n",
      "AFTER: graphicone_search 2020-02-18 14:34:36.274000 ['amazon', 'cloud', 'microsoft', 'technology'] moderator tool passed VasiliiUshakov\n",
      "BEFORE: validated\n"
     ]
    },
    {
     "name": "stderr",
     "output_type": "stream",
     "text": [
      "\n",
      "\n",
      "\n",
      "\n",
      "\n",
      "\n",
      "\n",
      " 53%|█████▎    | 1408/2650 [00:31<01:26, 14.33it/s]\u001b[A\u001b[A\u001b[A\u001b[A\u001b[A\u001b[A\u001b[A"
     ]
    },
    {
     "name": "stdout",
     "output_type": "stream",
     "text": [
      "AFTER: graphicone_search 2020-02-18 14:34:36.359000 ['ev', 'eu', 'automotive', 'china', 'north america'] moderator tool passed VasiliiUshakov\n",
      "BEFORE: validated\n",
      "AFTER: graphicone_search 2020-02-18 14:34:36.442000 ['m&a', 'manufacturing', 'chemical', 'leisure', 'credit card', 'hardware', 'social media', 'retail', 'entertainment', 'paper', 'banking', 'transportation', 'tobacco', 'credit', 'consumer', 'technology', 'meat', 'smartphone', 'drugs', 'aviation', 'advertising', 'automotive', 'cashless', 'commodities', 'agriculture', 'mobile'] moderator tool passed VasiliiUshakov\n",
      "BEFORE: validated\n",
      "AFTER: graphicone_search 2020-02-18 14:34:36.527000 ['us', 'walmart', 'retail'] moderator tool passed VasiliiUshakov\n",
      "BEFORE: validated\n"
     ]
    },
    {
     "name": "stderr",
     "output_type": "stream",
     "text": [
      "\n",
      "\n",
      "\n",
      "\n",
      "\n",
      "\n",
      "\n",
      " 53%|█████▎    | 1410/2650 [00:31<01:31, 13.49it/s]\u001b[A\u001b[A\u001b[A\u001b[A\u001b[A\u001b[A\u001b[A\n",
      "\n",
      "\n",
      "\n",
      "\n",
      "\n",
      "\n",
      " 53%|█████▎    | 1412/2650 [00:31<01:35, 12.97it/s]\u001b[A\u001b[A\u001b[A\u001b[A\u001b[A\u001b[A\u001b[A"
     ]
    },
    {
     "name": "stdout",
     "output_type": "stream",
     "text": [
      "AFTER: graphicone_search 2020-02-18 14:34:36.611000 ['google', 'facebook', 'advertising', 'amazon', 'internet'] moderator tool passed VasiliiUshakov\n",
      "BEFORE: validated\n",
      "AFTER: graphicone_search 2020-02-18 14:34:36.696000 ['entertainment', 'tv', 'digital', 'telecom', 'global', 'internet'] moderator tool passed VasiliiUshakov\n",
      "BEFORE: validated\n",
      "AFTER: graphicone_search 2020-02-18 14:34:36.779000 ['smartphone', 'xiaomi', 'coolpad', 'blackberry', 'samsung', 'oppo', 'gionee', 'lenovo', 'china', 'hisense', 'nokia', 'hk', 'zte', 'apple', 'global', 'vivo', 'huawei', 'k-touch'] moderator tool passed VasiliiUshakov\n",
      "BEFORE: validated\n"
     ]
    },
    {
     "name": "stderr",
     "output_type": "stream",
     "text": [
      "\n",
      "\n",
      "\n",
      "\n",
      "\n",
      "\n",
      "\n",
      " 53%|█████▎    | 1414/2650 [00:31<01:37, 12.63it/s]\u001b[A\u001b[A\u001b[A\u001b[A\u001b[A\u001b[A\u001b[A"
     ]
    },
    {
     "name": "stdout",
     "output_type": "stream",
     "text": [
      "AFTER: graphicone_search 2020-02-18 14:34:36.864000 ['sharing economy', 'real estate', 'san francisco', 'us', 'lyft', 'uber', 'car sharing'] moderator tool passed VasiliiUshakov\n",
      "BEFORE: validated\n",
      "AFTER: graphicone_search 2020-02-18 14:34:36.947000 ['bitcoin', 'cryptocurrency', 'futures', 'cme group'] moderator tool passed VasiliiUshakov\n",
      "BEFORE: validated\n",
      "AFTER: graphicone_search 2020-02-18 14:34:37.032000 ['middle east', 'eu', 'asia', 'africa', 'latin america', 'lyft', 'americas', 'global', 'transportation', 'north america'] moderator tool passed VasiliiUshakov\n",
      "BEFORE: validated\n"
     ]
    },
    {
     "name": "stderr",
     "output_type": "stream",
     "text": [
      "\n",
      "\n",
      "\n",
      "\n",
      "\n",
      "\n",
      "\n",
      " 53%|█████▎    | 1416/2650 [00:31<01:39, 12.40it/s]\u001b[A\u001b[A\u001b[A\u001b[A\u001b[A\u001b[A\u001b[A\n",
      "\n",
      "\n",
      "\n",
      "\n",
      "\n",
      "\n",
      " 54%|█████▎    | 1418/2650 [00:32<01:40, 12.23it/s]\u001b[A\u001b[A\u001b[A\u001b[A\u001b[A\u001b[A\u001b[A"
     ]
    },
    {
     "name": "stdout",
     "output_type": "stream",
     "text": [
      "AFTER: graphicone_search 2020-02-18 14:34:37.115000 ['japan', 'nintendo', 'eu', 'electronics', 'north america', 'gaming'] moderator tool passed VasiliiUshakov\n",
      "BEFORE: validated\n",
      "AFTER: graphicone_search 2020-02-18 14:34:37.200000 ['sycamore networks', 'unicorns', 'transmeta', 'vonage', 'fairchild semiconductor', 'facebook', 'twitter', 'on semiconductor', 'navteq', 'uber', 'snap', 'freescale semiconductor', 'lyft', 'dropbox', 'us', 'zoom', 'slack', 'technology', 'google', 'lending club', 'zayo group', 'salesforce', 'juniper networks', 'ipo', 'workday inc.'] moderator tool passed VasiliiUshakov\n",
      "BEFORE: validated\n",
      "AFTER: graphicone_search 2020-02-18 14:34:37.284000 ['google', 'facebook', 'microsoft', 'alphabet', 'amazon', 'apple', 'technology'] moderator tool passed VasiliiUshakov\n",
      "BEFORE: validated\n"
     ]
    },
    {
     "name": "stderr",
     "output_type": "stream",
     "text": [
      "\n",
      "\n",
      "\n",
      "\n",
      "\n",
      "\n",
      "\n",
      " 54%|█████▎    | 1420/2650 [00:32<01:41, 12.12it/s]\u001b[A\u001b[A\u001b[A\u001b[A\u001b[A\u001b[A\u001b[A"
     ]
    },
    {
     "name": "stdout",
     "output_type": "stream",
     "text": [
      "AFTER: graphicone_search 2020-02-18 14:34:37.369000 ['jpmorgan', 'eu', 'grupo santander', 'venture', 'bank of america', 'banking', 'wells fargo', 'fintech', 'technology', 'citigroup'] moderator tool passed VasiliiUshakov\n",
      "BEFORE: validated\n",
      "AFTER: graphicone_search 2020-02-18 14:34:37.453000 ['e-commerce', 'alibaba', 'jd.com', 'china', 'amazon', 'suning commerce group', 'consumer'] moderator tool passed VasiliiUshakov\n",
      "BEFORE: validated\n",
      "AFTER: graphicone_search 2020-02-18 14:34:37.538000 ['telenor', 'first data', 'china life insurance', 'facebook', 'mastercard', 'alibaba', 'china petroleum & chemical', 'vmware', 'metlife', 'uber', 'petrochina', 'spirit aerosystems', 'assurant', 'prudential financial', 'sun life financial', 'infineon technologies', 'zoetis', 'lyft', 'grupo aeroportuario del pacifico', 'google', 'hca holdings', 'zto express', 'american water', 'hyatt hotels corporation', 'ipo', 'visa'] moderator tool passed VasiliiUshakov\n",
      "BEFORE: validated\n"
     ]
    },
    {
     "name": "stderr",
     "output_type": "stream",
     "text": [
      "\n",
      "\n",
      "\n",
      "\n",
      "\n",
      "\n",
      "\n",
      " 54%|█████▎    | 1423/2650 [00:32<01:31, 13.40it/s]\u001b[A\u001b[A\u001b[A\u001b[A\u001b[A\u001b[A\u001b[A\n",
      "\n",
      "\n",
      "\n",
      "\n",
      "\n",
      "\n",
      " 54%|█████▍    | 1425/2650 [00:32<01:34, 12.90it/s]\u001b[A\u001b[A\u001b[A\u001b[A\u001b[A\u001b[A\u001b[A"
     ]
    },
    {
     "name": "stdout",
     "output_type": "stream",
     "text": [
      "AFTER: graphicone_search 2020-02-18 14:34:37.621000 ['esg', 'index', 'msci'] moderator tool passed VasiliiUshakov\n",
      "BEFORE: validated\n",
      "AFTER: graphicone_search 2020-02-18 14:34:37.706000 ['household', 'eu', 'credit', 'ecb'] moderator tool passed VasiliiUshakov\n",
      "BEFORE: validated\n",
      "AFTER: graphicone_search 2020-02-18 14:34:37.790000 ['music', 'streaming', 'digital entertainment'] moderator tool passed VasiliiUshakov\n",
      "BEFORE: validated\n"
     ]
    },
    {
     "name": "stderr",
     "output_type": "stream",
     "text": [
      "\n",
      "\n",
      "\n",
      "\n",
      "\n",
      "\n",
      "\n",
      " 54%|█████▍    | 1428/2650 [00:32<01:26, 14.06it/s]\u001b[A\u001b[A\u001b[A\u001b[A\u001b[A\u001b[A\u001b[A"
     ]
    },
    {
     "name": "stdout",
     "output_type": "stream",
     "text": [
      "AFTER: graphicone_search 2020-02-18 14:34:37.875000 ['us', 'government debt', 'politics', 'government'] moderator tool passed VasiliiUshakov\n",
      "BEFORE: validated\n",
      "AFTER: graphicone_search 2020-02-18 14:34:37.959000 ['funds', 'etf', 'bank of japan', 'index'] moderator tool passed VasiliiUshakov\n",
      "BEFORE: validated\n",
      "AFTER: graphicone_search 2020-02-18 14:34:38.043000 ['uk', 'politics', 'democracy'] moderator tool passed VasiliiUshakov\n",
      "BEFORE: validated\n"
     ]
    },
    {
     "name": "stderr",
     "output_type": "stream",
     "text": [
      "\n",
      "\n",
      "\n",
      "\n",
      "\n",
      "\n",
      "\n",
      " 54%|█████▍    | 1431/2650 [00:32<01:21, 15.01it/s]\u001b[A\u001b[A\u001b[A\u001b[A\u001b[A\u001b[A\u001b[A\n",
      "\n",
      "\n",
      "\n",
      "\n",
      "\n",
      "\n",
      " 54%|█████▍    | 1433/2650 [00:33<01:27, 13.91it/s]\u001b[A\u001b[A\u001b[A\u001b[A\u001b[A\u001b[A\u001b[A"
     ]
    },
    {
     "name": "stdout",
     "output_type": "stream",
     "text": [
      "AFTER: graphicone_search 2020-02-18 14:34:38.127000 ['luxembourg', 'labor', 'belgium', 'germany', 'portugal', 'austria', 'france', 'greece', 'denmark', 'slovenia', 'eu', 'turkey', 'finland', 'sweden', 'hungary', 'norway', 'switzerland', 'us', 'australia', 'spain', 'employment', 'uk', 'oecd', 'italy', 'israel', 'ireland'] moderator tool passed VasiliiUshakov\n",
      "BEFORE: validated\n",
      "AFTER: graphicone_search 2020-02-18 14:34:38.212000 ['manufacturing', 'automotive', 'canada'] moderator tool passed VasiliiUshakov\n",
      "BEFORE: validated\n",
      "AFTER: graphicone_search 2020-02-18 14:34:38.295000 ['google', 'facebook', 'deutsche telekom', 'telecom', 'eu', 'telefonica', 'orange', 'vodafone', 'large caps', 'technology'] moderator tool passed VasiliiUshakov\n",
      "BEFORE: validated\n"
     ]
    },
    {
     "name": "stderr",
     "output_type": "stream",
     "text": [
      "\n",
      "\n",
      "\n",
      "\n",
      "\n",
      "\n",
      "\n",
      " 54%|█████▍    | 1435/2650 [00:33<01:31, 13.24it/s]\u001b[A\u001b[A\u001b[A\u001b[A\u001b[A\u001b[A\u001b[A"
     ]
    },
    {
     "name": "stdout",
     "output_type": "stream",
     "text": [
      "AFTER: graphicone_search 2020-02-18 14:34:38.380000 ['horton works', 'calient technologies', 'hangzhou kuaidi technology', 'pinterest', 'lazada group', 'twitter', 'square', 'uber', 'snap', 'tinder', 'groupon', 'instacart', 'zynga', 'yello mobile', 'slack', 'startups', 'better place', 'xiaomi', 'wework', 'webvan', 'akamai', 'unicorns'] moderator tool passed VasiliiUshakov\n",
      "BEFORE: validated\n",
      "AFTER: graphicone_search 2020-02-18 14:34:38.463000 ['media', 'tv', 'disney'] moderator tool passed VasiliiUshakov\n",
      "BEFORE: validated\n",
      "AFTER: graphicone_search 2020-02-18 14:34:38.548000 ['leisure', 'home depot', 'retail'] moderator tool passed VasiliiUshakov\n",
      "BEFORE: validated\n"
     ]
    },
    {
     "name": "stderr",
     "output_type": "stream",
     "text": [
      "\n",
      "\n",
      "\n",
      "\n",
      "\n",
      "\n",
      "\n",
      " 54%|█████▍    | 1437/2650 [00:33<01:34, 12.80it/s]\u001b[A\u001b[A\u001b[A\u001b[A\u001b[A\u001b[A\u001b[A\n",
      "\n",
      "\n",
      "\n",
      "\n",
      "\n",
      "\n",
      " 54%|█████▍    | 1439/2650 [00:33<01:36, 12.51it/s]\u001b[A\u001b[A\u001b[A\u001b[A\u001b[A\u001b[A\u001b[A"
     ]
    },
    {
     "name": "stdout",
     "output_type": "stream",
     "text": [
      "AFTER: graphicone_search 2020-02-18 14:34:38.631000 ['uk', 'london', 'real estate', 'cities', 'us', 'taxes', 'new york'] moderator tool passed VasiliiUshakov\n",
      "BEFORE: validated\n",
      "AFTER: graphicone_search 2020-02-18 14:34:38.716000 ['smartphone', 'imports', 'trade', 'iphone', 'us', 'mobile'] moderator tool passed VasiliiUshakov\n",
      "BEFORE: validated\n",
      "AFTER: graphicone_search 2020-02-18 14:34:38.800000 ['smartphone', 'android', 'computers', 'ios', 'electronics'] moderator tool passed VasiliiUshakov\n",
      "BEFORE: validated\n"
     ]
    },
    {
     "name": "stderr",
     "output_type": "stream",
     "text": [
      "\n",
      "\n",
      "\n",
      "\n",
      "\n",
      "\n",
      "\n",
      " 54%|█████▍    | 1441/2650 [00:33<01:38, 12.32it/s]\u001b[A\u001b[A\u001b[A\u001b[A\u001b[A\u001b[A\u001b[A"
     ]
    },
    {
     "name": "stdout",
     "output_type": "stream",
     "text": [
      "AFTER: graphicone_search 2020-02-18 14:34:38.884000 ['india', 'personal finance', 'software', 'banking', 'uber'] moderator tool passed VasiliiUshakov\n",
      "BEFORE: validated\n",
      "AFTER: graphicone_search 2020-02-18 14:34:38.968000 ['industrials', 'china', 'health', 'materials', 'energy', 'information technology', 'consumer'] moderator tool passed VasiliiUshakov\n",
      "BEFORE: validated\n",
      "AFTER: graphicone_search 2020-02-18 14:34:39.053000 ['jpy', 'currency'] moderator tool passed VasiliiUshakov\n",
      "BEFORE: validated\n"
     ]
    },
    {
     "name": "stderr",
     "output_type": "stream",
     "text": [
      "\n",
      "\n",
      "\n",
      "\n",
      "\n",
      "\n",
      "\n",
      " 54%|█████▍    | 1443/2650 [00:33<01:39, 12.18it/s]\u001b[A\u001b[A\u001b[A\u001b[A\u001b[A\u001b[A\u001b[A\n",
      "\n",
      "\n",
      "\n",
      "\n",
      "\n",
      "\n",
      " 55%|█████▍    | 1445/2650 [00:34<01:39, 12.08it/s]\u001b[A\u001b[A\u001b[A\u001b[A\u001b[A\u001b[A\u001b[A"
     ]
    },
    {
     "name": "stdout",
     "output_type": "stream",
     "text": [
      "AFTER: graphicone_search 2020-02-18 14:34:39.136000 ['e-commerce', 'amazon', 'us', 'retail'] moderator tool passed VasiliiUshakov\n",
      "BEFORE: validated\n",
      "AFTER: graphicone_search 2020-02-18 14:34:39.221000 ['uae', 'vietnam', 'brazil', 'digital entertainment', 'india', 'thailand', 'youtube', 'indonesia', 'malaysia', 'taiwan', 'netflix', 'apple', 'turkey', 'global', 'internet', 'saudi arabia'] moderator tool passed VasiliiUshakov\n",
      "BEFORE: validated\n",
      "AFTER: graphicone_search 2020-02-18 14:34:39.305000 ['chevron', 'environment', 'canada', 'bp', 'marathon oil corporation', 'oil', 'exxon', 'conocophillips', 'commodities', 'energy', 'statoil', 'emissions', 'china national offshore oil corporation', 'shell'] moderator tool passed VasiliiUshakov\n",
      "BEFORE: validated\n"
     ]
    },
    {
     "name": "stderr",
     "output_type": "stream",
     "text": [
      "\n",
      "\n",
      "\n",
      "\n",
      "\n",
      "\n",
      "\n",
      " 55%|█████▍    | 1447/2650 [00:34<01:40, 12.02it/s]\u001b[A\u001b[A\u001b[A\u001b[A\u001b[A\u001b[A\u001b[A"
     ]
    },
    {
     "name": "stdout",
     "output_type": "stream",
     "text": [
      "AFTER: graphicone_search 2020-02-18 14:34:39.390000 ['us', 'startups', 'venture'] moderator tool passed VasiliiUshakov\n",
      "BEFORE: validated\n",
      "AFTER: graphicone_search 2020-02-18 14:34:39.473000 ['carrefour', 'walmart', 'us', 'education', 'brazil', 'retail'] moderator tool passed VasiliiUshakov\n",
      "BEFORE: validated\n",
      "AFTER: graphicone_search 2020-02-18 14:34:39.558000 ['airbnb', 'sharing economy', 'labor', 'taskrabbit', 'us', 'ebay', 'uber', 'internet'] moderator tool passed VasiliiUshakov\n",
      "BEFORE: validated\n"
     ]
    },
    {
     "name": "stderr",
     "output_type": "stream",
     "text": [
      "\n",
      "\n",
      "\n",
      "\n",
      "\n",
      "\n",
      "\n",
      " 55%|█████▍    | 1449/2650 [00:34<01:40, 11.97it/s]\u001b[A\u001b[A\u001b[A\u001b[A\u001b[A\u001b[A\u001b[A\n",
      "\n",
      "\n",
      "\n",
      "\n",
      "\n",
      "\n",
      " 55%|█████▍    | 1451/2650 [00:34<01:40, 11.95it/s]\u001b[A\u001b[A\u001b[A\u001b[A\u001b[A\u001b[A\u001b[A"
     ]
    },
    {
     "name": "stdout",
     "output_type": "stream",
     "text": [
      "AFTER: graphicone_search 2020-02-18 14:34:39.642000 ['kuwait', 'palestine', 'uk', 'egypt', 'twitter', 'iraq', 'lebanon', 'terrorism', 'syria', 'us', 'turkey', 'saudi arabia', 'tunisia'] moderator tool passed VasiliiUshakov\n",
      "BEFORE: validated\n",
      "AFTER: graphicone_search 2020-02-18 14:34:39.727000 ['mobile payments', 'payments', 'cashless', 'apple'] moderator tool passed VasiliiUshakov\n",
      "BEFORE: validated\n",
      "AFTER: graphicone_search 2020-02-18 14:34:39.810000 ['iphone', 'smartphone', 'technology', 'apple'] moderator tool passed VasiliiUshakov\n",
      "BEFORE: validated\n"
     ]
    },
    {
     "name": "stderr",
     "output_type": "stream",
     "text": [
      "\n",
      "\n",
      "\n",
      "\n",
      "\n",
      "\n",
      "\n",
      " 55%|█████▍    | 1453/2650 [00:34<01:40, 11.93it/s]\u001b[A\u001b[A\u001b[A\u001b[A\u001b[A\u001b[A\u001b[A"
     ]
    },
    {
     "name": "stdout",
     "output_type": "stream",
     "text": [
      "AFTER: graphicone_search 2020-02-18 14:34:39.895000 ['equality', 'employment', 'poverty', 'uk', 'eu', 'real estate', 'crimes', 'social', 'health', 'politics', 'education', 'migration', 'military'] moderator tool passed VasiliiUshakov\n",
      "BEFORE: validated\n",
      "AFTER: graphicone_search 2020-02-18 14:34:39.978000 ['developed markets', 'japan', 'gdp', 'uk', 'germany', 'government debt', 'us', 'france'] moderator tool passed VasiliiUshakov\n",
      "BEFORE: validated\n",
      "AFTER: graphicone_search 2020-02-18 14:34:40.063000 ['lyft', 'travel', 'car sharing', 'uber'] moderator tool passed VasiliiUshakov\n",
      "BEFORE: validated\n"
     ]
    },
    {
     "name": "stderr",
     "output_type": "stream",
     "text": [
      "\n",
      "\n",
      "\n",
      "\n",
      "\n",
      "\n",
      "\n",
      " 55%|█████▍    | 1455/2650 [00:35<01:40, 11.93it/s]\u001b[A\u001b[A\u001b[A\u001b[A\u001b[A\u001b[A\u001b[A\n",
      "\n",
      "\n",
      "\n",
      "\n",
      "\n",
      "\n",
      " 55%|█████▍    | 1457/2650 [00:35<01:40, 11.90it/s]\u001b[A\u001b[A\u001b[A\u001b[A\u001b[A\u001b[A\u001b[A"
     ]
    },
    {
     "name": "stdout",
     "output_type": "stream",
     "text": [
      "AFTER: graphicone_search 2020-02-18 14:34:40.146000 ['loan', 'credit'] moderator tool passed VasiliiUshakov\n",
      "BEFORE: validated\n",
      "AFTER: graphicone_search 2020-02-18 14:34:40.231000 ['japan', 'germany', 'ftse', 'msci', 'vietnam', 'eu', 'oil', 'energy', 'global', 's&p', 'bubble', 'goldman sachs', 'iraq', 'default', 'us', 'technology', 'dax', 'uk', 'crisis', 'government debt', 'commodities', 'russia', 'topix', 'emerging markets', 'index', 'military'] moderator tool passed VasiliiUshakov\n",
      "BEFORE: validated\n",
      "AFTER: graphicone_search 2020-02-18 14:34:40.315000 ['gun', 'us', \"mcdonald's\", 'starbucks', 'retail', 'restaurants'] moderator tool passed VasiliiUshakov\n",
      "BEFORE: validated\n"
     ]
    },
    {
     "name": "stderr",
     "output_type": "stream",
     "text": [
      "\n",
      "\n",
      "\n",
      "\n",
      "\n",
      "\n",
      "\n",
      " 55%|█████▌    | 1459/2650 [00:35<01:40, 11.89it/s]\u001b[A\u001b[A\u001b[A\u001b[A\u001b[A\u001b[A\u001b[A"
     ]
    },
    {
     "name": "stdout",
     "output_type": "stream",
     "text": [
      "AFTER: graphicone_search 2020-02-18 14:34:40.400000 ['huffington post', 'tastemade', 'facebook', 'new york times', 'mashable', 'hearst corporation', 'vox media', 'cnn', 'social media', 'vice media', 'media', 'internet', 'streaming', 'buzzfeed'] moderator tool passed VasiliiUshakov\n",
      "BEFORE: validated\n",
      "AFTER: graphicone_search 2020-02-18 14:34:40.483000 ['uk', 'eu', 'germany', 'italy', 'politics', 'france', 'spain'] moderator tool passed VasiliiUshakov\n",
      "BEFORE: validated\n",
      "AFTER: graphicone_search 2020-02-18 14:34:40.568000 ['wealth', 'global'] moderator tool passed VasiliiUshakov\n",
      "BEFORE: validated\n"
     ]
    },
    {
     "name": "stderr",
     "output_type": "stream",
     "text": [
      "\n",
      "\n",
      "\n",
      "\n",
      "\n",
      "\n",
      "\n",
      " 55%|█████▌    | 1461/2650 [00:35<01:40, 11.88it/s]\u001b[A\u001b[A\u001b[A\u001b[A\u001b[A\u001b[A\u001b[A\n",
      "\n",
      "\n",
      "\n",
      "\n",
      "\n",
      "\n",
      " 55%|█████▌    | 1463/2650 [00:35<01:40, 11.87it/s]\u001b[A\u001b[A\u001b[A\u001b[A\u001b[A\u001b[A\u001b[A"
     ]
    },
    {
     "name": "stdout",
     "output_type": "stream",
     "text": [
      "AFTER: graphicone_search 2020-02-18 14:34:40.652000 ['advertising', 'eu'] moderator tool passed VasiliiUshakov\n",
      "BEFORE: validated\n",
      "AFTER: graphicone_search 2020-02-18 14:34:40.737000 ['facebook', 'cisco', 's&p', 'utilities', 'technology', 'dividends', 'alphabet', 'dow jones', 'hp', 'index', 'ibm'] moderator tool passed VasiliiUshakov\n",
      "BEFORE: validated\n",
      "AFTER: graphicone_search 2020-02-18 14:34:40.821000 ['google', 'smartphone', 'wireless', 'android', 'music', 'spotify', 'app', 'radio', 'deezer', 'streaming'] moderator tool passed VasiliiUshakov\n",
      "BEFORE: validated\n"
     ]
    },
    {
     "name": "stderr",
     "output_type": "stream",
     "text": [
      "\n",
      "\n",
      "\n",
      "\n",
      "\n",
      "\n",
      "\n",
      " 55%|█████▌    | 1465/2650 [00:35<01:39, 11.87it/s]\u001b[A\u001b[A\u001b[A\u001b[A\u001b[A\u001b[A\u001b[A"
     ]
    },
    {
     "name": "stdout",
     "output_type": "stream",
     "text": [
      "AFTER: graphicone_search 2020-02-18 14:34:40.906000 ['smartphone', 'telecom', 'wireless', '5g', 'phone', 'internet', 'mobile'] moderator tool passed VasiliiUshakov\n",
      "BEFORE: validated\n",
      "AFTER: graphicone_search 2020-02-18 14:34:40.990000 ['advertising', 'google', 'internet', 'facebook'] moderator tool passed VasiliiUshakov\n",
      "BEFORE: validated\n",
      "AFTER: graphicone_search 2020-02-18 14:34:41.074000 ['smartphone', 'blackberry', 'android', 'microsoft', 'software', 'ios', 'technology'] moderator tool passed VasiliiUshakov\n",
      "BEFORE: validated\n"
     ]
    },
    {
     "name": "stderr",
     "output_type": "stream",
     "text": [
      "\n",
      "\n",
      "\n",
      "\n",
      "\n",
      "\n",
      "\n",
      " 55%|█████▌    | 1467/2650 [00:36<01:39, 11.88it/s]\u001b[A\u001b[A\u001b[A\u001b[A\u001b[A\u001b[A\u001b[A\n",
      "\n",
      "\n",
      "\n",
      "\n",
      "\n",
      "\n",
      " 55%|█████▌    | 1469/2650 [00:36<01:39, 11.87it/s]\u001b[A\u001b[A\u001b[A\u001b[A\u001b[A\u001b[A\u001b[A"
     ]
    },
    {
     "name": "stdout",
     "output_type": "stream",
     "text": [
      "AFTER: graphicone_search 2020-02-18 14:34:41.158000 ['chevron', 'bp', 'oil', 'exxon', 'commodities', 'energy', 'shell'] moderator tool passed VasiliiUshakov\n",
      "BEFORE: validated\n",
      "AFTER: graphicone_search 2020-02-18 14:34:41.243000 ['telecom', 'smartphone', 'hardware', 'huawei'] moderator tool passed VasiliiUshakov\n",
      "BEFORE: validated\n",
      "AFTER: graphicone_search 2020-02-18 14:34:41.326000 ['yang ming marine transport corporation', 'oocl', 'hanjin shipping', 'evergeen line', 'apm-maersk', 'costco', 'hamburg sud', 'marine', 'cma cgm', 'transportation', 'logistics', 'hapag-lloyd'] moderator tool passed VasiliiUshakov\n",
      "BEFORE: validated\n"
     ]
    },
    {
     "name": "stderr",
     "output_type": "stream",
     "text": [
      "\n",
      "\n",
      "\n",
      "\n",
      "\n",
      "\n",
      "\n",
      " 56%|█████▌    | 1471/2650 [00:36<01:39, 11.87it/s]\u001b[A\u001b[A\u001b[A\u001b[A\u001b[A\u001b[A\u001b[A"
     ]
    },
    {
     "name": "stdout",
     "output_type": "stream",
     "text": [
      "AFTER: graphicone_search 2020-02-18 14:34:41.411000 ['smartphone', 'samsung', 'wireless', 'ericsson', 'lucent technologies', 'alcatel', 'nokia', 'zte', 'huawei', 'technology', 'mobile'] moderator tool passed VasiliiUshakov\n",
      "BEFORE: validated\n",
      "AFTER: graphicone_search 2020-02-18 14:34:41.495000 ['iphone', 'smartphone', 'apple'] moderator tool passed VasiliiUshakov\n",
      "BEFORE: validated\n",
      "AFTER: graphicone_search 2020-02-18 14:34:41.580000 ['facebook', 'bp', 'industrials', 'shell', 'microsoft', 'exxon', 'alphabet', 'oil', 'commodities', 'amazon', 'energy', 'general electric', 'apple', 'financials', 'large caps', 'technology', 'citigroup'] moderator tool passed VasiliiUshakov\n",
      "BEFORE: validated\n"
     ]
    },
    {
     "name": "stderr",
     "output_type": "stream",
     "text": [
      "\n",
      "\n",
      "\n",
      "\n",
      "\n",
      "\n",
      "\n",
      " 56%|█████▌    | 1473/2650 [00:36<01:39, 11.85it/s]\u001b[A\u001b[A\u001b[A\u001b[A\u001b[A\u001b[A\u001b[A\n",
      "\n",
      "\n",
      "\n",
      "\n",
      "\n",
      "\n",
      " 56%|█████▌    | 1475/2650 [00:36<01:39, 11.86it/s]\u001b[A\u001b[A\u001b[A\u001b[A\u001b[A\u001b[A\u001b[A"
     ]
    },
    {
     "name": "stdout",
     "output_type": "stream",
     "text": [
      "AFTER: graphicone_search 2020-02-18 14:34:41.664000 ['starz', 'lionsgate', 'warner', 'nbc', 'at&t', 'viacomcbs', 'cbs', 'charter', 'm&a', 'comcast', 'disney', 'verizon', 'media', '21st century fox'] moderator tool passed VasiliiUshakov\n",
      "BEFORE: validated\n",
      "AFTER: graphicone_search 2020-02-18 14:34:41.749000 ['new enterprise associates', 'google ventures', 'khosla ventures', 'ai', 'softbank', 'lightspeed venture partners', 'y combinator', 'bessemer venture partners', 'madrona venture group', 'first round capital', 'two sigma', 'wayra', 'sv angel', 'crv', 'ame cloud ventures', 'horizon ventures', 'techstars', 'general electric', 'rev', 'goldman sachs', 'founders fund', 'felics ventures', 'sequoia capital', 'accel', 'plug and play', 'technology', 'data collective', 'intel', 'venture', 'draper fisher jurvetson'] moderator tool passed VasiliiUshakov\n",
      "BEFORE: validated\n",
      "AFTER: graphicone_search 2020-02-18 14:34:41.833000 ['equality', 'wealth', 'uk', 'germany', 'belgium', 'italy', 'finland', 'portugal', 'us', 'taxes', 'austria', 'france', 'netherlands', 'greece', 'spain', 'ireland'] moderator tool passed VasiliiUshakov\n",
      "BEFORE: validated\n"
     ]
    },
    {
     "name": "stderr",
     "output_type": "stream",
     "text": [
      "\n",
      "\n",
      "\n",
      "\n",
      "\n",
      "\n",
      "\n",
      " 56%|█████▌    | 1478/2650 [00:36<01:28, 13.17it/s]\u001b[A\u001b[A\u001b[A\u001b[A\u001b[A\u001b[A\u001b[A"
     ]
    },
    {
     "name": "stdout",
     "output_type": "stream",
     "text": [
      "AFTER: graphicone_search 2020-02-18 14:34:41.918000 ['bitcoin', 'cryptocurrency'] moderator tool passed VasiliiUshakov\n",
      "BEFORE: validated\n",
      "AFTER: graphicone_search 2020-02-18 14:34:42.001000 ['government', 'manufacturing', 'index', 'obama'] moderator tool passed VasiliiUshakov\n",
      "BEFORE: validated\n",
      "AFTER: graphicone_search 2020-02-18 14:34:42.086000 ['government', 'government debt', 'politics', 'obama'] moderator tool passed VasiliiUshakov\n",
      "BEFORE: validated\n"
     ]
    },
    {
     "name": "stderr",
     "output_type": "stream",
     "text": [
      "\n",
      "\n",
      "\n",
      "\n",
      "\n",
      "\n",
      "\n",
      " 56%|█████▌    | 1480/2650 [00:37<01:31, 12.75it/s]\u001b[A\u001b[A\u001b[A\u001b[A\u001b[A\u001b[A\u001b[A\n",
      "\n",
      "\n",
      "\n",
      "\n",
      "\n",
      "\n",
      " 56%|█████▌    | 1482/2650 [00:37<01:33, 12.47it/s]\u001b[A\u001b[A\u001b[A\u001b[A\u001b[A\u001b[A\u001b[A"
     ]
    },
    {
     "name": "stdout",
     "output_type": "stream",
     "text": [
      "AFTER: graphicone_search 2020-02-18 14:34:42.170000 ['wealth', 'government', 'personal finance', 'obama'] moderator tool passed VasiliiUshakov\n",
      "BEFORE: validated\n",
      "AFTER: graphicone_search 2020-02-18 14:34:42.255000 ['obama', 'export', 'trade', 'government'] moderator tool passed VasiliiUshakov\n",
      "BEFORE: validated\n",
      "AFTER: graphicone_search 2020-02-18 14:34:42.339000 ['ford', 'automotive', 'general motors', 'toyota', 'fiat', 'volkswagen', 'nissan', 'tesla', 'bmw'] moderator tool passed VasiliiUshakov\n",
      "BEFORE: validated\n"
     ]
    },
    {
     "name": "stderr",
     "output_type": "stream",
     "text": [
      "\n",
      "\n",
      "\n",
      "\n",
      "\n",
      "\n",
      "\n",
      " 56%|█████▌    | 1484/2650 [00:37<01:34, 12.29it/s]\u001b[A\u001b[A\u001b[A\u001b[A\u001b[A\u001b[A\u001b[A"
     ]
    },
    {
     "name": "stdout",
     "output_type": "stream",
     "text": [
      "AFTER: graphicone_search 2020-02-18 14:34:42.423000 ['software', 'google', 'microsoft'] moderator tool passed VasiliiUshakov\n",
      "BEFORE: validated\n",
      "AFTER: graphicone_search 2020-02-18 14:34:42.507000 ['e-commerce', 'us', 'retail'] moderator tool passed VasiliiUshakov\n",
      "BEFORE: validated\n",
      "AFTER: graphicone_search 2020-02-18 14:34:42.592000 ['google', 'facebook', 'spotify', 'ebay', 'information technology', 'data'] moderator tool passed VasiliiUshakov\n",
      "BEFORE: validated\n"
     ]
    },
    {
     "name": "stderr",
     "output_type": "stream",
     "text": [
      "\n",
      "\n",
      "\n",
      "\n",
      "\n",
      "\n",
      "\n",
      " 56%|█████▌    | 1486/2650 [00:37<01:35, 12.16it/s]\u001b[A\u001b[A\u001b[A\u001b[A\u001b[A\u001b[A\u001b[A\n",
      "\n",
      "\n",
      "\n",
      "\n",
      "\n",
      "\n",
      " 56%|█████▌    | 1488/2650 [00:37<01:36, 12.08it/s]\u001b[A\u001b[A\u001b[A\u001b[A\u001b[A\u001b[A\u001b[A"
     ]
    },
    {
     "name": "stdout",
     "output_type": "stream",
     "text": [
      "AFTER: graphicone_search 2020-02-18 14:34:42.675000 ['instagram', 'facebook', 'us', 'snap', 'social media'] moderator tool passed VasiliiUshakov\n",
      "BEFORE: validated\n",
      "AFTER: graphicone_search 2020-02-18 14:34:42.760000 ['exxon', 'shell', 'facebook', 'gazprom', 'china mobile', 'industrials', 'alphabet', 'health', 'energy', 'general electric', 'apple', 'petrochina', 'berkshire hathaway', 'bp', 'bank of america', 'financials', 'johnson & johnson', 'citigroup', 'telecom', 'microsoft', 'amazon', 'information technology', 'hsbc'] moderator tool passed VasiliiUshakov\n",
      "BEFORE: validated\n",
      "AFTER: graphicone_search 2020-02-18 14:34:42.844000 ['wealth', 'chevron', 'altria', 'walmart', 'exxon', 'at&t', 'microsoft', 'general motors', 'us', 'amazon', 'general electric', 'apple', 'procter&gamble', 'johnson & johnson', 'ibm', 'coca-cola'] moderator tool passed VasiliiUshakov\n",
      "BEFORE: validated\n"
     ]
    },
    {
     "name": "stderr",
     "output_type": "stream",
     "text": [
      "\n",
      "\n",
      "\n",
      "\n",
      "\n",
      "\n",
      "\n",
      " 56%|█████▌    | 1490/2650 [00:37<01:36, 12.03it/s]\u001b[A\u001b[A\u001b[A\u001b[A\u001b[A\u001b[A\u001b[A"
     ]
    },
    {
     "name": "stdout",
     "output_type": "stream",
     "text": [
      "AFTER: graphicone_search 2020-02-18 14:34:42.928000 ['vine', 'instagram', 'facebook', 'twitter', 'pinterest', 'youtube', 'us', 'snap', 'social media'] moderator tool passed VasiliiUshakov\n",
      "BEFORE: validated\n",
      "AFTER: graphicone_search 2020-02-18 14:34:43.011000 ['auto loan'] moderator tool passed VasiliiUshakov\n",
      "BEFORE: validated\n",
      "AFTER: graphicone_search 2020-02-18 14:34:43.096000 ['facebook', 'baidu', 'fox', 'disney', 'alphabet', 'cbs', 'viacomcbs', 'news corporation', 'comcast', 'global', 'bertelsmann', 'media', '21st century fox'] moderator tool passed VasiliiUshakov\n",
      "BEFORE: validated\n"
     ]
    },
    {
     "name": "stderr",
     "output_type": "stream",
     "text": [
      "\n",
      "\n",
      "\n",
      "\n",
      "\n",
      "\n",
      "\n",
      " 56%|█████▋    | 1492/2650 [00:38<01:36, 11.98it/s]\u001b[A\u001b[A\u001b[A\u001b[A\u001b[A\u001b[A\u001b[A\n",
      "\n",
      "\n",
      "\n",
      "\n",
      "\n",
      "\n",
      " 56%|█████▋    | 1494/2650 [00:38<01:36, 11.95it/s]\u001b[A\u001b[A\u001b[A\u001b[A\u001b[A\u001b[A\u001b[A"
     ]
    },
    {
     "name": "stdout",
     "output_type": "stream",
     "text": [
      "AFTER: graphicone_search 2020-02-18 14:34:43.180000 ['jpmorgan', 'us', 'banking', 'loan', 'wells fargo', 'citigroup'] moderator tool passed VasiliiUshakov\n",
      "BEFORE: validated\n",
      "AFTER: graphicone_search 2020-02-18 14:34:43.265000 ['financials', 'greensky', 'north america', 'oscar health', 'sofi', 'gusto', 'kabbage', 'stripe', 'unicorns', 'credit karma', 'mozido', 'avant', 'zenefits', 'robinhood', 'fintech', 'technology', 'prosper'] moderator tool passed VasiliiUshakov\n",
      "BEFORE: validated\n",
      "AFTER: graphicone_search 2020-02-18 14:34:43.348000 ['cloud', 'microsoft'] moderator tool passed VasiliiUshakov\n",
      "BEFORE: validated\n"
     ]
    },
    {
     "name": "stderr",
     "output_type": "stream",
     "text": [
      "\n",
      "\n",
      "\n",
      "\n",
      "\n",
      "\n",
      "\n",
      " 56%|█████▋    | 1496/2650 [00:38<01:36, 11.93it/s]\u001b[A\u001b[A\u001b[A\u001b[A\u001b[A\u001b[A\u001b[A"
     ]
    },
    {
     "name": "stdout",
     "output_type": "stream",
     "text": [
      "AFTER: graphicone_search 2020-02-18 14:34:43.433000 ['j.c. penney', 'amazon', \"macy's\", 'sears', 'retail'] moderator tool passed VasiliiUshakov\n",
      "BEFORE: validated\n",
      "AFTER: graphicone_search 2020-02-18 14:34:43.516000 ['juno', 'via transportation', 'gett', 'automotive', 'us', 'lyft', 'transportation', 'vehicles', 'new york'] moderator tool passed VasiliiUshakov\n",
      "BEFORE: validated\n",
      "AFTER: graphicone_search 2020-02-18 14:34:43.601000 ['medicine', 'pharmaceutical industry', 'roche', 'astrazeneca', 'cancer', 'bristol-myers squibb', 'merck'] moderator tool passed VasiliiUshakov\n",
      "BEFORE: validated\n"
     ]
    },
    {
     "name": "stderr",
     "output_type": "stream",
     "text": [
      "\n",
      "\n",
      "\n",
      "\n",
      "\n",
      "\n",
      "\n",
      " 57%|█████▋    | 1498/2650 [00:38<01:36, 11.91it/s]\u001b[A\u001b[A\u001b[A\u001b[A\u001b[A\u001b[A\u001b[A\n",
      "\n",
      "\n",
      "\n",
      "\n",
      "\n",
      "\n",
      " 57%|█████▋    | 1500/2650 [00:38<01:36, 11.90it/s]\u001b[A\u001b[A\u001b[A\u001b[A\u001b[A\u001b[A\u001b[A"
     ]
    },
    {
     "name": "stdout",
     "output_type": "stream",
     "text": [
      "AFTER: graphicone_search 2020-02-18 14:34:43.685000 ['employment', 'travel', 'facebook', 'sports', 'industrials', 'advertising', 'labor', 'real estate', 'insurance', 'automotive', 'technology', 'health', 'education', 'financials', 'apparel', 'retail'] moderator tool passed VasiliiUshakov\n",
      "BEFORE: validated\n",
      "AFTER: graphicone_search 2020-02-18 14:34:43.770000 ['us', 'index', 's&p', 'citigroup'] moderator tool passed VasiliiUshakov\n",
      "BEFORE: validated\n",
      "AFTER: graphicone_search 2020-02-18 14:34:43.853000 ['smartphone', 'banking', 'digital', 'mobile'] moderator tool passed VasiliiUshakov\n",
      "BEFORE: validated\n"
     ]
    },
    {
     "name": "stderr",
     "output_type": "stream",
     "text": [
      "\n",
      "\n",
      "\n",
      "\n",
      "\n",
      "\n",
      "\n",
      " 57%|█████▋    | 1502/2650 [00:38<01:36, 11.87it/s]\u001b[A\u001b[A\u001b[A\u001b[A\u001b[A\u001b[A\u001b[A"
     ]
    },
    {
     "name": "stdout",
     "output_type": "stream",
     "text": [
      "AFTER: graphicone_search 2020-02-18 14:34:43.939000 ['amazon', 'retail', 'walmart', 'technology'] moderator tool passed VasiliiUshakov\n",
      "BEFORE: validated\n",
      "AFTER: graphicone_search 2020-02-18 14:34:44.023000 ['financials', 'banking', 'jpmorgan'] moderator tool passed VasiliiUshakov\n",
      "BEFORE: validated\n",
      "AFTER: graphicone_search 2020-02-18 14:34:44.108000 ['iphone', 'technology', 'apple'] moderator tool passed VasiliiUshakov\n",
      "BEFORE: validated\n"
     ]
    },
    {
     "name": "stderr",
     "output_type": "stream",
     "text": [
      "\n",
      "\n",
      "\n",
      "\n",
      "\n",
      "\n",
      "\n",
      " 57%|█████▋    | 1504/2650 [00:39<01:36, 11.87it/s]\u001b[A\u001b[A\u001b[A\u001b[A\u001b[A\u001b[A\u001b[A\n",
      "\n",
      "\n",
      "\n",
      "\n",
      "\n",
      "\n",
      " 57%|█████▋    | 1506/2650 [00:39<01:36, 11.86it/s]\u001b[A\u001b[A\u001b[A\u001b[A\u001b[A\u001b[A\u001b[A"
     ]
    },
    {
     "name": "stdout",
     "output_type": "stream",
     "text": [
      "AFTER: graphicone_search 2020-02-18 14:34:44.191000 ['google', 'facebook', 'tencent', 'microsoft', 'at&t', 'amazon', \"mcdonald's\", 'global', 'apple', 'visa', 'ibm'] moderator tool passed VasiliiUshakov\n",
      "BEFORE: validated\n",
      "AFTER: graphicone_search 2020-02-18 14:34:44.276000 ['sentiment', 'utilities', 'industrials', 'consumer staples', 'twitter', 'health', 'materials', 'consumer discretionary', 'energy', 'financials', 'etf', 'index', 'technology'] moderator tool passed VasiliiUshakov\n",
      "BEFORE: validated\n",
      "AFTER: graphicone_search 2020-02-18 14:34:44.360000 ['google', 'roku', 'tv', 'us', 'amazon', 'apple'] moderator tool passed VasiliiUshakov\n",
      "BEFORE: validated\n"
     ]
    },
    {
     "name": "stderr",
     "output_type": "stream",
     "text": [
      "\n",
      "\n",
      "\n",
      "\n",
      "\n",
      "\n",
      "\n",
      " 57%|█████▋    | 1508/2650 [00:39<01:36, 11.86it/s]\u001b[A\u001b[A\u001b[A\u001b[A\u001b[A\u001b[A\u001b[A"
     ]
    },
    {
     "name": "stdout",
     "output_type": "stream",
     "text": [
      "AFTER: graphicone_search 2020-02-18 14:34:44.445000 ['instagram', 'snap'] moderator tool passed VasiliiUshakov\n",
      "BEFORE: validated\n",
      "AFTER: graphicone_search 2020-02-18 14:34:44.529000 ['japan', 'uk', 'ev', 'sweden', 'germany', 'norway', 'italy', 'china', 'us', 'france', 'tesla', 'denmark'] moderator tool passed VasiliiUshakov\n",
      "BEFORE: validated\n",
      "AFTER: graphicone_search 2020-02-18 14:34:44.614000 ['cloud', 'microsoft'] moderator tool passed VasiliiUshakov\n",
      "BEFORE: validated\n"
     ]
    },
    {
     "name": "stderr",
     "output_type": "stream",
     "text": [
      "\n",
      "\n",
      "\n",
      "\n",
      "\n",
      "\n",
      "\n",
      " 57%|█████▋    | 1510/2650 [00:39<01:36, 11.86it/s]\u001b[A\u001b[A\u001b[A\u001b[A\u001b[A\u001b[A\u001b[A\n",
      "\n",
      "\n",
      "\n",
      "\n",
      "\n",
      "\n",
      " 57%|█████▋    | 1512/2650 [00:39<01:35, 11.87it/s]\u001b[A\u001b[A\u001b[A\u001b[A\u001b[A\u001b[A\u001b[A"
     ]
    },
    {
     "name": "stdout",
     "output_type": "stream",
     "text": [
      "AFTER: graphicone_search 2020-02-18 14:34:44.697000 ['google', 'facebook', 'baidu', 'alibaba', 'digital', 'advertising', 'tencent'] moderator tool passed VasiliiUshakov\n",
      "BEFORE: validated\n",
      "AFTER: graphicone_search 2020-02-18 14:34:44.782000 ['alibaba', 'tenpay', 'tencent', 'mobile payments', 'china', 'cashless', 'alipay', 'apple'] moderator tool passed VasiliiUshakov\n",
      "BEFORE: validated\n",
      "AFTER: graphicone_search 2020-02-18 14:34:44.866000 ['consumer products', 'nintendo', 'toyota', 'iphone', 'sony', 'global', 'apple', 'playstation', 'gaming'] moderator tool passed VasiliiUshakov\n",
      "BEFORE: validated\n"
     ]
    },
    {
     "name": "stderr",
     "output_type": "stream",
     "text": [
      "\n",
      "\n",
      "\n",
      "\n",
      "\n",
      "\n",
      "\n",
      " 57%|█████▋    | 1514/2650 [00:39<01:35, 11.88it/s]\u001b[A\u001b[A\u001b[A\u001b[A\u001b[A\u001b[A\u001b[A"
     ]
    },
    {
     "name": "stdout",
     "output_type": "stream",
     "text": [
      "AFTER: graphicone_search 2020-02-18 14:34:44.951000 ['smartphone', 'samsung', 'tv', 'lg', 'technology'] moderator tool passed VasiliiUshakov\n",
      "BEFORE: validated\n",
      "AFTER: graphicone_search 2020-02-18 14:34:45.034000 ['instagram', 'wechat', 'facebook', 'whatsapp', 'tencent', 'social media'] moderator tool passed VasiliiUshakov\n",
      "BEFORE: validated\n",
      "AFTER: graphicone_search 2020-02-18 14:34:45.119000 ['hbo', 'fox', 'tv', 'art', 'nbc', 'cbs', 'amazon', 'netflix', 'abc', 'media', 'film industry', 'hulu'] moderator tool passed VasiliiUshakov\n",
      "BEFORE: validated\n"
     ]
    },
    {
     "name": "stderr",
     "output_type": "stream",
     "text": [
      "\n",
      "\n",
      "\n",
      "\n",
      "\n",
      "\n",
      "\n",
      " 57%|█████▋    | 1516/2650 [00:40<01:35, 11.88it/s]\u001b[A\u001b[A\u001b[A\u001b[A\u001b[A\u001b[A\u001b[A\n",
      "\n",
      "\n",
      "\n",
      "\n",
      "\n",
      "\n",
      " 57%|█████▋    | 1518/2650 [00:40<01:35, 11.88it/s]\u001b[A\u001b[A\u001b[A\u001b[A\u001b[A\u001b[A\u001b[A"
     ]
    },
    {
     "name": "stdout",
     "output_type": "stream",
     "text": [
      "AFTER: graphicone_search 2020-02-18 14:34:45.202000 ['digital media', 'roku', 'streaming'] moderator tool passed VasiliiUshakov\n",
      "BEFORE: validated\n",
      "AFTER: graphicone_search 2020-02-18 14:34:45.287000 ['us', 'lyft', 'uber', 'media', 'car sharing'] moderator tool passed VasiliiUshakov\n",
      "BEFORE: validated\n",
      "AFTER: graphicone_search 2020-02-18 14:34:45.370000 ['paypal', 'large caps', 'american express'] moderator tool passed VasiliiUshakov\n",
      "BEFORE: validated\n"
     ]
    },
    {
     "name": "stderr",
     "output_type": "stream",
     "text": [
      "\n",
      "\n",
      "\n",
      "\n",
      "\n",
      "\n",
      "\n",
      " 57%|█████▋    | 1520/2650 [00:40<01:35, 11.89it/s]\u001b[A\u001b[A\u001b[A\u001b[A\u001b[A\u001b[A\u001b[A"
     ]
    },
    {
     "name": "stdout",
     "output_type": "stream",
     "text": [
      "AFTER: graphicone_search 2020-02-18 14:34:45.455000 ['information technology', 'amazon', 'cloud', 'internet'] moderator tool passed VasiliiUshakov\n",
      "BEFORE: validated\n",
      "AFTER: graphicone_search 2020-02-18 14:34:45.538000 ['e-commerce', 'us', 'alibaba', 'shopping'] moderator tool passed VasiliiUshakov\n",
      "BEFORE: validated\n",
      "AFTER: graphicone_search 2020-02-18 14:34:45.623000 ['e-commerce', 'wish', 'craigslist', 'houzz', 'stitch fix', 'groupon', 'amazon', 'ebay', 'letgo', 'consumer'] moderator tool passed VasiliiUshakov\n",
      "BEFORE: validated\n"
     ]
    },
    {
     "name": "stderr",
     "output_type": "stream",
     "text": [
      "\n",
      "\n",
      "\n",
      "\n",
      "\n",
      "\n",
      "\n",
      " 57%|█████▋    | 1522/2650 [00:40<01:34, 11.88it/s]\u001b[A\u001b[A\u001b[A\u001b[A\u001b[A\u001b[A\u001b[A\n",
      "\n",
      "\n",
      "\n",
      "\n",
      "\n",
      "\n",
      " 58%|█████▊    | 1524/2650 [00:40<01:34, 11.88it/s]\u001b[A\u001b[A\u001b[A\u001b[A\u001b[A\u001b[A\u001b[A"
     ]
    },
    {
     "name": "stdout",
     "output_type": "stream",
     "text": [
      "AFTER: graphicone_search 2020-02-18 14:34:45.707000 ['facebook', 'internet', 'social media'] moderator tool passed VasiliiUshakov\n",
      "BEFORE: validated\n",
      "AFTER: graphicone_search 2020-02-18 14:34:45.792000 ['j.c. penney', 'foot locker', 'urban outfitters', 'dillards', 'nordstrom', 'gap', 'abercrombie & fitch', 'us', 'amazon', \"macy's\", \"kohl's\", 'american eagle', 'large caps', 'retail'] moderator tool passed VasiliiUshakov\n",
      "BEFORE: validated\n",
      "AFTER: graphicone_search 2020-02-18 14:34:45.875000 ['us', 'metals & mining', 'commodities', 'cobalt'] moderator tool passed VasiliiUshakov\n",
      "BEFORE: validated\n"
     ]
    },
    {
     "name": "stderr",
     "output_type": "stream",
     "text": [
      "\n",
      "\n",
      "\n",
      "\n",
      "\n",
      "\n",
      "\n",
      " 58%|█████▊    | 1526/2650 [00:40<01:34, 11.89it/s]\u001b[A\u001b[A\u001b[A\u001b[A\u001b[A\u001b[A\u001b[A"
     ]
    },
    {
     "name": "stdout",
     "output_type": "stream",
     "text": [
      "AFTER: graphicone_search 2020-02-18 14:34:45.960000 ['invesco', 'blackrock', 'financials', 'index', 's&p'] moderator tool passed VasiliiUshakov\n",
      "BEFORE: validated\n",
      "AFTER: graphicone_search 2020-02-18 14:34:46.043000 ['entertainment', 'tv', 'telecom', 'us', 'netflix', 'streaming'] moderator tool passed VasiliiUshakov\n",
      "BEFORE: validated\n",
      "AFTER: graphicone_search 2020-02-18 14:34:46.128000 ['ceo', 'intel', 'technology', 'insider activity'] moderator tool passed VasiliiUshakov\n",
      "BEFORE: validated\n"
     ]
    },
    {
     "name": "stderr",
     "output_type": "stream",
     "text": [
      "\n",
      "\n",
      "\n",
      "\n",
      "\n",
      "\n",
      "\n",
      " 58%|█████▊    | 1528/2650 [00:41<01:34, 11.89it/s]\u001b[A\u001b[A\u001b[A\u001b[A\u001b[A\u001b[A\u001b[A\n",
      "\n",
      "\n",
      "\n",
      "\n",
      "\n",
      "\n",
      " 58%|█████▊    | 1530/2650 [00:41<01:34, 11.89it/s]\u001b[A\u001b[A\u001b[A\u001b[A\u001b[A\u001b[A\u001b[A"
     ]
    },
    {
     "name": "stdout",
     "output_type": "stream",
     "text": [
      "AFTER: graphicone_search 2020-02-18 14:34:46.211000 ['fox', 'tv', 'scripps', 'media', 'streaming'] moderator tool passed VasiliiUshakov\n",
      "BEFORE: validated\n",
      "AFTER: graphicone_search 2020-02-18 14:34:46.296000 ['vine', 'google', 'instagram', 'facebook', 'twitter', 'pinterest', 'linkedin', 'snap', 'tumblr', 'social media'] moderator tool passed VasiliiUshakov\n",
      "BEFORE: validated\n",
      "AFTER: graphicone_search 2020-02-18 14:34:46.380000 ['airbus', 'boeing', 'industrials'] moderator tool passed VasiliiUshakov\n",
      "BEFORE: validated\n"
     ]
    },
    {
     "name": "stderr",
     "output_type": "stream",
     "text": [
      "\n",
      "\n",
      "\n",
      "\n",
      "\n",
      "\n",
      "\n",
      " 58%|█████▊    | 1532/2650 [00:41<01:34, 11.88it/s]\u001b[A\u001b[A\u001b[A\u001b[A\u001b[A\u001b[A\u001b[A"
     ]
    },
    {
     "name": "stdout",
     "output_type": "stream",
     "text": [
      "AFTER: graphicone_search 2020-02-18 14:34:46.465000 ['large caps', 'index', 's&p'] moderator tool passed VasiliiUshakov\n",
      "BEFORE: validated\n",
      "AFTER: graphicone_search 2020-02-18 14:34:46.548000 ['paypal', 'mobile payments', 'cashless'] moderator tool passed VasiliiUshakov\n",
      "BEFORE: validated\n",
      "AFTER: graphicone_search 2020-02-18 14:34:46.633000 ['stoxx', 'eu', 'automotive', 'index', 'technology'] moderator tool passed VasiliiUshakov\n",
      "BEFORE: validated\n"
     ]
    },
    {
     "name": "stderr",
     "output_type": "stream",
     "text": [
      "\n",
      "\n",
      "\n",
      "\n",
      "\n",
      "\n",
      "\n",
      " 58%|█████▊    | 1534/2650 [00:41<01:34, 11.87it/s]\u001b[A\u001b[A\u001b[A\u001b[A\u001b[A\u001b[A\u001b[A\n",
      "\n",
      "\n",
      "\n",
      "\n",
      "\n",
      "\n",
      " 58%|█████▊    | 1536/2650 [00:41<01:33, 11.85it/s]\u001b[A\u001b[A\u001b[A\u001b[A\u001b[A\u001b[A\u001b[A"
     ]
    },
    {
     "name": "stdout",
     "output_type": "stream",
     "text": [
      "AFTER: graphicone_search 2020-02-18 14:34:46.717000 ['technology', 'amazon', 'virtual assistant'] moderator tool passed VasiliiUshakov\n",
      "BEFORE: validated\n",
      "AFTER: graphicone_search 2020-02-18 14:34:46.802000 ['juno', 'via transportation', 'new york', 'us', 'lyft', 'uber', 'consumer', 'car sharing'] moderator tool passed VasiliiUshakov\n",
      "BEFORE: validated\n",
      "AFTER: graphicone_search 2020-02-18 14:34:46.886000 ['google', 'amazon', 'facebook'] moderator tool passed VasiliiUshakov\n",
      "BEFORE: validated\n"
     ]
    },
    {
     "name": "stderr",
     "output_type": "stream",
     "text": [
      "\n",
      "\n",
      "\n",
      "\n",
      "\n",
      "\n",
      "\n",
      " 58%|█████▊    | 1538/2650 [00:41<01:33, 11.87it/s]\u001b[A\u001b[A\u001b[A\u001b[A\u001b[A\u001b[A\u001b[A"
     ]
    },
    {
     "name": "stdout",
     "output_type": "stream",
     "text": [
      "AFTER: graphicone_search 2020-02-18 14:34:46.971000 ['berkshire hathaway', 'index', 's&p'] moderator tool passed VasiliiUshakov\n",
      "BEFORE: validated\n",
      "AFTER: graphicone_search 2020-02-18 14:34:47.054000 ['google', 'baidu', 'facebook', 'microsoft', 'amazon', 'ibm'] moderator tool passed VasiliiUshakov\n",
      "BEFORE: validated\n",
      "AFTER: graphicone_search 2020-02-18 14:34:47.139000 ['alibaba', 'samsung', 'berkshire hathaway', 'jpmorgan', 'microsoft', 'exxon', 'alphabet', 'saudi aramco', 'volkswagen', 'global', 'apple', 'shell'] moderator tool passed VasiliiUshakov\n",
      "BEFORE: validated\n"
     ]
    },
    {
     "name": "stderr",
     "output_type": "stream",
     "text": [
      "\n",
      "\n",
      "\n",
      "\n",
      "\n",
      "\n",
      "\n",
      " 58%|█████▊    | 1540/2650 [00:42<01:33, 11.87it/s]\u001b[A\u001b[A\u001b[A\u001b[A\u001b[A\u001b[A\u001b[A\n",
      "\n",
      "\n",
      "\n",
      "\n",
      "\n",
      "\n",
      " 58%|█████▊    | 1542/2650 [00:42<01:33, 11.87it/s]\u001b[A\u001b[A\u001b[A\u001b[A\u001b[A\u001b[A\u001b[A"
     ]
    },
    {
     "name": "stdout",
     "output_type": "stream",
     "text": [
      "AFTER: graphicone_search 2020-02-18 14:34:47.223000 ['eu', 'index', 'citigroup'] moderator tool passed VasiliiUshakov\n",
      "BEFORE: validated\n",
      "AFTER: graphicone_search 2020-02-18 14:34:47.307000 ['didi', 'xiaomi', 'tencent', 'china', 'meituan', 'unicorns', 'technology', 'ant financial'] moderator tool passed VasiliiUshakov\n",
      "BEFORE: validated\n",
      "AFTER: graphicone_search 2020-02-18 14:34:47.391000 ['entertainment', 'lionsgate', 'universal', 'warner', 'paramount', 'amazon', 'sony', 'netflix', 'disney', 'film industry', '21st century fox'] moderator tool passed VasiliiUshakov\n",
      "BEFORE: validated\n"
     ]
    },
    {
     "name": "stderr",
     "output_type": "stream",
     "text": [
      "\n",
      "\n",
      "\n",
      "\n",
      "\n",
      "\n",
      "\n",
      " 58%|█████▊    | 1544/2650 [00:42<01:33, 11.87it/s]\u001b[A\u001b[A\u001b[A\u001b[A\u001b[A\u001b[A\u001b[A"
     ]
    },
    {
     "name": "stdout",
     "output_type": "stream",
     "text": [
      "AFTER: graphicone_search 2020-02-18 14:34:47.476000 ['tencent', 'wechat'] moderator tool passed VasiliiUshakov\n",
      "BEFORE: validated\n",
      "AFTER: graphicone_search 2020-02-18 14:34:47.560000 ['netmarble', 'digital entertainment', 'digital', 'tencent', 'ubisoft', 'gameloft', 'mobile gaming', 'app', 'electronic arts', 'iphone', 'naver', 'glu mobile', 'global', 'bandai namco entertainment', 'disney', 'gamevil'] moderator tool passed VasiliiUshakov\n",
      "BEFORE: validated\n",
      "AFTER: graphicone_search 2020-02-18 14:34:47.644000 ['household', 'us', 'social'] moderator tool passed VasiliiUshakov\n",
      "BEFORE: validated\n"
     ]
    },
    {
     "name": "stderr",
     "output_type": "stream",
     "text": [
      "\n",
      "\n",
      "\n",
      "\n",
      "\n",
      "\n",
      "\n",
      " 58%|█████▊    | 1546/2650 [00:42<01:32, 11.87it/s]\u001b[A\u001b[A\u001b[A\u001b[A\u001b[A\u001b[A\u001b[A\n",
      "\n",
      "\n",
      "\n",
      "\n",
      "\n",
      "\n",
      " 58%|█████▊    | 1548/2650 [00:42<01:32, 11.88it/s]\u001b[A\u001b[A\u001b[A\u001b[A\u001b[A\u001b[A\u001b[A"
     ]
    },
    {
     "name": "stdout",
     "output_type": "stream",
     "text": [
      "AFTER: graphicone_search 2020-02-18 14:34:47.728000 ['advertising', 'facebook'] moderator tool passed VasiliiUshakov\n",
      "BEFORE: validated\n",
      "AFTER: graphicone_search 2020-02-18 14:34:47.813000 ['instagram', 'facebook', 'global'] moderator tool passed VasiliiUshakov\n",
      "BEFORE: validated\n",
      "AFTER: graphicone_search 2020-02-18 14:34:47.896000 ['instagram', 'facebook'] moderator tool passed VasiliiUshakov\n",
      "BEFORE: validated\n"
     ]
    },
    {
     "name": "stderr",
     "output_type": "stream",
     "text": [
      "\n",
      "\n",
      "\n",
      "\n",
      "\n",
      "\n",
      "\n",
      " 58%|█████▊    | 1550/2650 [00:42<01:32, 11.87it/s]\u001b[A\u001b[A\u001b[A\u001b[A\u001b[A\u001b[A\u001b[A"
     ]
    },
    {
     "name": "stdout",
     "output_type": "stream",
     "text": [
      "AFTER: graphicone_search 2020-02-18 14:34:47.981000 ['e-commerce', 'wayfair', 'costco', 'walmart', 'home depot', 'best buy', 'us', 'amazon', \"macy's\", 'ebay', 'apple', 'qvc group', 'retail'] moderator tool passed VasiliiUshakov\n",
      "BEFORE: validated\n",
      "AFTER: graphicone_search 2020-02-18 14:34:48.065000 ['e-commerce', 'wayfair', 'costco', 'walmart', 'home depot', 'best buy', 'us', 'amazon', \"macy's\", 'ebay', 'apple', 'qvc group', 'retail'] moderator tool passed VasiliiUshakov\n",
      "BEFORE: validated\n",
      "AFTER: graphicone_search 2020-02-18 14:34:48.150000 ['ipo', 'amazon'] moderator tool passed VasiliiUshakov\n",
      "BEFORE: validated\n"
     ]
    },
    {
     "name": "stderr",
     "output_type": "stream",
     "text": [
      "\n",
      "\n",
      "\n",
      "\n",
      "\n",
      "\n",
      "\n",
      " 59%|█████▊    | 1552/2650 [00:43<01:32, 11.87it/s]\u001b[A\u001b[A\u001b[A\u001b[A\u001b[A\u001b[A\u001b[A\n",
      "\n",
      "\n",
      "\n",
      "\n",
      "\n",
      "\n",
      " 59%|█████▊    | 1555/2650 [00:43<01:23, 13.18it/s]\u001b[A\u001b[A\u001b[A\u001b[A\u001b[A\u001b[A\u001b[A"
     ]
    },
    {
     "name": "stdout",
     "output_type": "stream",
     "text": [
      "AFTER: graphicone_search 2020-02-18 14:34:48.233000 ['buyback', 'index', 's&p', 'apple'] moderator tool passed VasiliiUshakov\n",
      "BEFORE: validated\n",
      "AFTER: graphicone_search 2020-02-18 14:34:48.319000 ['microsoft', 'alphabet', 'amazon', 'apple', 'large caps', 'technology'] moderator tool passed VasiliiUshakov\n",
      "BEFORE: validated\n",
      "AFTER: graphicone_search 2020-02-18 14:34:48.402000 ['berkshire hathaway', 'cash'] moderator tool passed VasiliiUshakov\n",
      "BEFORE: validated\n"
     ]
    },
    {
     "name": "stderr",
     "output_type": "stream",
     "text": [
      "\n",
      "\n",
      "\n",
      "\n",
      "\n",
      "\n",
      "\n",
      " 59%|█████▉    | 1557/2650 [00:43<01:25, 12.75it/s]\u001b[A\u001b[A\u001b[A\u001b[A\u001b[A\u001b[A\u001b[A"
     ]
    },
    {
     "name": "stdout",
     "output_type": "stream",
     "text": [
      "AFTER: graphicone_search 2020-02-18 14:34:48.487000 ['equality', 'employment', 'culture', 'us'] moderator tool passed VasiliiUshakov\n",
      "BEFORE: validated\n",
      "AFTER: graphicone_search 2020-02-18 14:34:48.571000 ['index', 'emerging markets', 'jpmorgan', 'currency'] moderator tool passed VasiliiUshakov\n",
      "BEFORE: validated\n",
      "AFTER: graphicone_search 2020-02-18 14:34:48.656000 ['government bonds', 'bonds', 'government debt', 'italy'] moderator tool passed VasiliiUshakov\n",
      "BEFORE: validated\n"
     ]
    },
    {
     "name": "stderr",
     "output_type": "stream",
     "text": [
      "\n",
      "\n",
      "\n",
      "\n",
      "\n",
      "\n",
      "\n",
      " 59%|█████▉    | 1559/2650 [00:43<01:27, 12.48it/s]\u001b[A\u001b[A\u001b[A\u001b[A\u001b[A\u001b[A\u001b[A\n",
      "\n",
      "\n",
      "\n",
      "\n",
      "\n",
      "\n",
      " 59%|█████▉    | 1561/2650 [00:43<01:28, 12.30it/s]\u001b[A\u001b[A\u001b[A\u001b[A\u001b[A\u001b[A\u001b[A"
     ]
    },
    {
     "name": "stdout",
     "output_type": "stream",
     "text": [
      "AFTER: graphicone_search 2020-02-18 14:34:48.739000 ['macro', 'bank of england', 'swiss national bank', 'ecb', 'bank of japan', 'banking', 'global', 'fed'] moderator tool passed VasiliiUshakov\n",
      "BEFORE: validated\n",
      "AFTER: graphicone_search 2020-02-18 14:34:48.824000 ['pfizer', 'exxon', 'm&a', 'comcast', 'aetna', 'at&t', 'shire plc', 'warner-lambert', 'gte', '21st century fox', 'takeda pharmaceutical', 'warner', 'aol', 'cigna', 'bellsouth', 'charter', 'disney', 'cvs health', 'citigroup', 'ameritech', 'bell atlantic', 'the travelers companies', 'mobil', 'sbc', 'verizon', 'express scripts'] moderator tool passed VasiliiUshakov\n",
      "BEFORE: validated\n",
      "AFTER: graphicone_search 2020-02-18 14:34:48.908000 ['e-commerce', 'digital', 'papa johns', 'postmates', 'pizza hut', 'eat24', \"jimmy john's\", 'delivery', 'uber eats', 'seamless', 'delivery.com', \"domino's\", 'grubhub', 'caviar', 'doordash'] moderator tool passed VasiliiUshakov\n",
      "BEFORE: validated\n"
     ]
    },
    {
     "name": "stderr",
     "output_type": "stream",
     "text": [
      "\n",
      "\n",
      "\n",
      "\n",
      "\n",
      "\n",
      "\n",
      " 59%|█████▉    | 1565/2650 [00:43<01:15, 14.38it/s]\u001b[A\u001b[A\u001b[A\u001b[A\u001b[A\u001b[A\u001b[A"
     ]
    },
    {
     "name": "stdout",
     "output_type": "stream",
     "text": [
      "AFTER: graphicone_search 2020-02-18 14:34:48.992000 ['kia', 'geely', 'ford', 'suzuki', 'subaru', 'mazda', 'volkswagen', 'tesla', 'honda', 'mitsubishi', 'tata', 'toyota', 'peugeot', 'ev', 'renault', 'fca', 'nissan', 'hyundai', 'automotive', 'general motors', 'daimler', 'saic', 'bmw'] moderator tool passed VasiliiUshakov\n",
      "BEFORE: validated\n",
      "AFTER: graphicone_search 2020-02-18 14:34:49.076000 ['medicine', 'takeda pharmaceutical', 'eli lilly', 'pharmaceutical industry', 'boehringer ingelheim', 'novo nordisk', 'sanofi', 'astrazeneca', 'global', 'diabetes', 'novartis', 'johnson & johnson', 'merck'] moderator tool passed VasiliiUshakov\n",
      "BEFORE: validated\n",
      "AFTER: graphicone_search 2020-02-18 14:34:49.161000 ['smartphone', 'blackberry', 'android', 'microsoft', 'ios', 'apple', 'technology'] moderator tool passed VasiliiUshakov\n",
      "BEFORE: validated\n"
     ]
    },
    {
     "name": "stderr",
     "output_type": "stream",
     "text": [
      "\n",
      "\n",
      "\n",
      "\n",
      "\n",
      "\n",
      "\n",
      " 59%|█████▉    | 1567/2650 [00:44<01:20, 13.51it/s]\u001b[A\u001b[A\u001b[A\u001b[A\u001b[A\u001b[A\u001b[A\n",
      "\n",
      "\n",
      "\n",
      "\n",
      "\n",
      "\n",
      " 59%|█████▉    | 1569/2650 [00:44<01:23, 12.97it/s]\u001b[A\u001b[A\u001b[A\u001b[A\u001b[A\u001b[A\u001b[A"
     ]
    },
    {
     "name": "stdout",
     "output_type": "stream",
     "text": [
      "AFTER: graphicone_search 2020-02-18 14:34:49.245000 ['digital entertainment', 'music', 'spotify', 'global', 'apple', 'consumer', 'streaming'] moderator tool passed VasiliiUshakov\n",
      "BEFORE: validated\n",
      "AFTER: graphicone_search 2020-02-18 14:34:49.330000 ['google', 'advertising', 'alphabet', 'nest', 'internet', 'technology'] moderator tool passed VasiliiUshakov\n",
      "BEFORE: validated\n",
      "AFTER: graphicone_search 2020-02-18 14:34:49.413000 ['e-commerce', 'tv', 'batteries', 'amazon', 'tablet', 'consumer', 'whole foods', 'shopping', 'apparel', 'gadgets'] moderator tool passed VasiliiUshakov\n",
      "BEFORE: validated\n"
     ]
    },
    {
     "name": "stderr",
     "output_type": "stream",
     "text": [
      "\n",
      "\n",
      "\n",
      "\n",
      "\n",
      "\n",
      "\n",
      " 59%|█████▉    | 1571/2650 [00:44<01:25, 12.62it/s]\u001b[A\u001b[A\u001b[A\u001b[A\u001b[A\u001b[A\u001b[A"
     ]
    },
    {
     "name": "stdout",
     "output_type": "stream",
     "text": [
      "AFTER: graphicone_search 2020-02-18 14:34:49.498000 ['startups'] moderator tool passed VasiliiUshakov\n",
      "BEFORE: validated\n",
      "AFTER: graphicone_search 2020-02-18 14:34:49.582000 ['google', 'cloud', 'alibaba', 'microsoft', 'amazon', 'global', 'information technology', 'ibm'] moderator tool passed VasiliiUshakov\n",
      "BEFORE: validated\n",
      "AFTER: graphicone_search 2020-02-18 14:34:49.667000 ['e-commerce', 'google', 'android', 'microsoft', 'ios', 'apple'] moderator tool passed VasiliiUshakov\n",
      "BEFORE: validated\n"
     ]
    },
    {
     "name": "stderr",
     "output_type": "stream",
     "text": [
      "\n",
      "\n",
      "\n",
      "\n",
      "\n",
      "\n",
      "\n",
      " 59%|█████▉    | 1574/2650 [00:44<01:17, 13.83it/s]\u001b[A\u001b[A\u001b[A\u001b[A\u001b[A\u001b[A\u001b[A\n",
      "\n",
      "\n",
      "\n",
      "\n",
      "\n",
      "\n",
      " 59%|█████▉    | 1576/2650 [00:44<01:21, 13.16it/s]\u001b[A\u001b[A\u001b[A\u001b[A\u001b[A\u001b[A\u001b[A"
     ]
    },
    {
     "name": "stdout",
     "output_type": "stream",
     "text": [
      "AFTER: graphicone_search 2020-02-18 14:34:49.750000 ['tesla', 'automotive', 'ev'] moderator tool passed VasiliiUshakov\n",
      "BEFORE: validated\n",
      "AFTER: graphicone_search 2020-02-18 14:34:49.835000 ['avast', 'germany', 'spotify', 'yoox net-a-porter group', 'france', 'izettle', 'eu', 'funding circle', 'suse', 'mulesoft', 'qualtrics', 'github', 'farfetch', 'sweden', 'adyen', 'us', 'dropbox', 'startups', 'zoopla', 'elastic nv', 'uk', 'arris', 'italy', 'venture', 'netherlands'] moderator tool passed VasiliiUshakov\n",
      "BEFORE: validated\n",
      "AFTER: graphicone_search 2020-02-18 14:34:49.919000 ['facebook', 'jpmorgan', 'telecom', 'walmart', 'at&t', 'alphabet', 'microsoft', 'bank of america', 'amazon', 'software', 'information technology', 'wells fargo', 'hardware', 'citigroup'] moderator tool passed VasiliiUshakov\n",
      "BEFORE: validated\n"
     ]
    },
    {
     "name": "stderr",
     "output_type": "stream",
     "text": [
      "\n",
      "\n",
      "\n",
      "\n",
      "\n",
      "\n",
      "\n",
      " 60%|█████▉    | 1578/2650 [00:44<01:24, 12.74it/s]\u001b[A\u001b[A\u001b[A\u001b[A\u001b[A\u001b[A\u001b[A"
     ]
    },
    {
     "name": "stdout",
     "output_type": "stream",
     "text": [
      "AFTER: graphicone_search 2020-02-18 14:34:50.004000 ['lg chem', 'metals & mining', 'commodities', 'batteries', 'catl', 'manufacturing', 'lithium', 'tesla'] moderator tool passed VasiliiUshakov\n",
      "BEFORE: validated\n",
      "AFTER: graphicone_search 2020-02-18 14:34:50.088000 ['boeing', 'china', 'industrials'] moderator tool passed VasiliiUshakov\n",
      "BEFORE: validated\n",
      "AFTER: graphicone_search 2020-02-18 14:34:50.173000 ['instagram', 'facebook', 'twitter', 'advertising', 'pinterest', 'youtube', 'linkedin', 'snap', 'internet', 'marketing', 'social media'] moderator tool passed VasiliiUshakov\n",
      "BEFORE: validated\n"
     ]
    },
    {
     "name": "stderr",
     "output_type": "stream",
     "text": [
      "\n",
      "\n",
      "\n",
      "\n",
      "\n",
      "\n",
      "\n",
      " 60%|█████▉    | 1580/2650 [00:45<01:25, 12.47it/s]\u001b[A\u001b[A\u001b[A\u001b[A\u001b[A\u001b[A\u001b[A\n",
      "\n",
      "\n",
      "\n",
      "\n",
      "\n",
      "\n",
      " 60%|█████▉    | 1583/2650 [00:45<01:17, 13.69it/s]\u001b[A\u001b[A\u001b[A\u001b[A\u001b[A\u001b[A\u001b[A"
     ]
    },
    {
     "name": "stdout",
     "output_type": "stream",
     "text": [
      "AFTER: graphicone_search 2020-02-18 14:34:50.257000 ['byd', 'bmw', 'ev', 'baic group', 'eu', 'automotive', 'china', 'global', 'nissan', 'north america', 'tesla', 'index', 'msci'] moderator tool passed VasiliiUshakov\n",
      "BEFORE: validated\n",
      "AFTER: graphicone_search 2020-02-18 14:34:50.341000 ['delta airlines', 'american airlines', 'aviation', 'united airlines', 'us'] moderator tool passed VasiliiUshakov\n",
      "BEFORE: validated\n",
      "AFTER: graphicone_search 2020-02-18 14:34:50.425000 ['us', 'tesla', 'ev'] moderator tool passed VasiliiUshakov\n",
      "BEFORE: validated\n"
     ]
    },
    {
     "name": "stderr",
     "output_type": "stream",
     "text": [
      "\n",
      "\n",
      "\n",
      "\n",
      "\n",
      "\n",
      "\n",
      " 60%|█████▉    | 1585/2650 [00:45<01:21, 13.10it/s]\u001b[A\u001b[A\u001b[A\u001b[A\u001b[A\u001b[A\u001b[A"
     ]
    },
    {
     "name": "stdout",
     "output_type": "stream",
     "text": [
      "AFTER: graphicone_search 2020-02-18 14:34:50.510000 ['j.c. penney', 'victorias secret', 'walmart', 'gap', 'best buy', \"macy's\", \"kohl's\", 'target', 'retail'] moderator tool passed VasiliiUshakov\n",
      "BEFORE: validated\n",
      "AFTER: graphicone_search 2020-02-18 14:34:50.593000 ['developed markets', 'pmi', 'manufacturing', 'emerging markets', 'index'] moderator tool passed VasiliiUshakov\n",
      "BEFORE: validated\n",
      "AFTER: graphicone_search 2020-02-18 14:34:50.678000 ['postmates', 'delivery', 'uber eats', 'consumer', 'grubhub', 'retail', 'doordash'] moderator tool passed VasiliiUshakov\n",
      "BEFORE: validated\n"
     ]
    },
    {
     "name": "stderr",
     "output_type": "stream",
     "text": [
      "\n",
      "\n",
      "\n",
      "\n",
      "\n",
      "\n",
      "\n",
      " 60%|█████▉    | 1588/2650 [00:45<01:14, 14.23it/s]\u001b[A\u001b[A\u001b[A\u001b[A\u001b[A\u001b[A\u001b[A\n",
      "\n",
      "\n",
      "\n",
      "\n",
      "\n",
      "\n",
      " 60%|██████    | 1591/2650 [00:45<01:09, 15.14it/s]\u001b[A\u001b[A\u001b[A\u001b[A\u001b[A\u001b[A\u001b[A"
     ]
    },
    {
     "name": "stdout",
     "output_type": "stream",
     "text": [
      "AFTER: graphicone_search 2020-02-18 14:34:50.762000 ['google', 'instagram', 'e-commerce', 'facebook', 'whatsapp', 'twitter', 'music', 'app', 'youtube', 'twitch', 'amazon', 'smart speaker', 'netflix', 'snap', 'internet', 'streaming', 'virtual assistant', 'tinder'] moderator tool passed VasiliiUshakov\n",
      "BEFORE: validated\n",
      "AFTER: graphicone_search 2020-02-18 14:34:50.847000 ['merrill lynch', 'bank of america', 'buyback', 'index', 's&p'] moderator tool passed VasiliiUshakov\n",
      "BEFORE: validated\n",
      "AFTER: graphicone_search 2020-02-18 14:34:50.930000 ['smartphone', 'instagram', 'facebook', 'twitter', 'music', 'youtube', 'generations', 'millennials', 'snap', 'internet', 'lifestyle'] moderator tool passed VasiliiUshakov\n",
      "BEFORE: validated\n"
     ]
    },
    {
     "name": "stderr",
     "output_type": "stream",
     "text": [
      "\n",
      "\n",
      "\n",
      "\n",
      "\n",
      "\n",
      "\n",
      " 60%|██████    | 1593/2650 [00:45<01:15, 13.99it/s]\u001b[A\u001b[A\u001b[A\u001b[A\u001b[A\u001b[A\u001b[A"
     ]
    },
    {
     "name": "stdout",
     "output_type": "stream",
     "text": [
      "AFTER: graphicone_search 2020-02-18 14:34:51.015000 ['france', 'germany', 'startups', 'uk'] moderator tool passed VasiliiUshakov\n",
      "BEFORE: validated\n",
      "AFTER: graphicone_search 2020-02-18 14:34:51.098000 ['verizon', 'smartphone', 'mobile'] moderator tool passed VasiliiUshakov\n",
      "BEFORE: validated\n",
      "AFTER: graphicone_search 2020-02-18 14:34:51.183000 ['uk', 'south africa', 'germany', 'india', 'labor', 'us', 'russia', 'uber', 'australia', 'brazil'] moderator tool passed VasiliiUshakov\n",
      "BEFORE: validated\n"
     ]
    },
    {
     "name": "stderr",
     "output_type": "stream",
     "text": [
      "\n",
      "\n",
      "\n",
      "\n",
      "\n",
      "\n",
      "\n",
      " 60%|██████    | 1595/2650 [00:46<01:19, 13.28it/s]\u001b[A\u001b[A\u001b[A\u001b[A\u001b[A\u001b[A\u001b[A\n",
      "\n",
      "\n",
      "\n",
      "\n",
      "\n",
      "\n",
      " 60%|██████    | 1597/2650 [00:46<01:22, 12.82it/s]\u001b[A\u001b[A\u001b[A\u001b[A\u001b[A\u001b[A\u001b[A"
     ]
    },
    {
     "name": "stdout",
     "output_type": "stream",
     "text": [
      "AFTER: graphicone_search 2020-02-18 14:34:51.267000 ['google', 'facebook', 'amazon', 'netflix', 'apple'] moderator tool passed VasiliiUshakov\n",
      "BEFORE: validated\n",
      "AFTER: graphicone_search 2020-02-18 14:34:51.352000 ['pfizer', 'apple', 'ceo', 'facebook', 'jpmorgan', 'walmart', 'at&t', 'axon', 'general motors', 'amazon', 'disney', 'coca-cola'] moderator tool passed VasiliiUshakov\n",
      "BEFORE: validated\n",
      "AFTER: graphicone_search 2020-02-18 14:34:51.436000 ['warren buffett', 'berkshire hathaway', 'index', 's&p'] moderator tool passed VasiliiUshakov\n",
      "BEFORE: validated\n"
     ]
    },
    {
     "name": "stderr",
     "output_type": "stream",
     "text": [
      "\n",
      "\n",
      "\n",
      "\n",
      "\n",
      "\n",
      "\n",
      " 60%|██████    | 1599/2650 [00:46<01:23, 12.52it/s]\u001b[A\u001b[A\u001b[A\u001b[A\u001b[A\u001b[A\u001b[A"
     ]
    },
    {
     "name": "stdout",
     "output_type": "stream",
     "text": [
      "AFTER: graphicone_search 2020-02-18 14:34:51.520000 ['facebook', 'alibaba', 'deutsche telekom', 'general motors', 'at&t', 'france telecom', 'us', 'enel', 'uber', 'ipo', 'visa'] moderator tool passed VasiliiUshakov\n",
      "BEFORE: validated\n",
      "AFTER: graphicone_search 2020-02-18 14:34:51.604000 ['uber', 'transportation'] moderator tool passed VasiliiUshakov\n",
      "BEFORE: validated\n",
      "AFTER: graphicone_search 2020-02-18 14:34:51.689000 ['india', 'gdp', 'index'] moderator tool passed VasiliiUshakov\n",
      "BEFORE: validated\n"
     ]
    },
    {
     "name": "stderr",
     "output_type": "stream",
     "text": [
      "\n",
      "\n",
      "\n",
      "\n",
      "\n",
      "\n",
      "\n",
      " 60%|██████    | 1602/2650 [00:46<01:16, 13.74it/s]\u001b[A\u001b[A\u001b[A\u001b[A\u001b[A\u001b[A\u001b[A\n",
      "\n",
      "\n",
      "\n",
      "\n",
      "\n",
      "\n",
      " 61%|██████    | 1605/2650 [00:46<01:10, 14.75it/s]\u001b[A\u001b[A\u001b[A\u001b[A\u001b[A\u001b[A\u001b[A"
     ]
    },
    {
     "name": "stdout",
     "output_type": "stream",
     "text": [
      "AFTER: graphicone_search 2020-02-18 14:34:51.773000 ['brazil', 'environment'] moderator tool passed VasiliiUshakov\n",
      "BEFORE: validated\n",
      "AFTER: graphicone_search 2020-02-18 14:34:51.857000 ['us', 'emerging markets', 'large caps', 'index', 's&p', 'msci'] moderator tool passed VasiliiUshakov\n",
      "BEFORE: validated\n",
      "AFTER: graphicone_search 2020-02-18 14:34:51.941000 ['usps', 'ups', 'amazon', 'fedex', 'delivery', 'transportation', 'logistics'] moderator tool passed VasiliiUshakov\n",
      "BEFORE: validated\n"
     ]
    },
    {
     "name": "stderr",
     "output_type": "stream",
     "text": [
      "\n",
      "\n",
      "\n",
      "\n",
      "\n",
      "\n",
      "\n",
      " 61%|██████    | 1607/2650 [00:46<01:15, 13.76it/s]\u001b[A\u001b[A\u001b[A\u001b[A\u001b[A\u001b[A\u001b[A"
     ]
    },
    {
     "name": "stdout",
     "output_type": "stream",
     "text": [
      "AFTER: graphicone_search 2020-02-18 14:34:52.026000 ['e-commerce', 'vipshop', 'taobao', 'jd.com', 'pinduoduo', 'china', 'suning commerce group', 'shopping'] moderator tool passed VasiliiUshakov\n",
      "BEFORE: validated\n",
      "AFTER: graphicone_search 2020-02-18 14:34:52.110000 ['capital one', 'bb&t', 'm&t', 'us', 'm&a', 'banking', 'suntrust banks', 'trump'] moderator tool passed VasiliiUshakov\n",
      "BEFORE: validated\n",
      "AFTER: graphicone_search 2020-02-18 14:34:52.194000 ['eu', 'politics'] moderator tool passed VasiliiUshakov\n",
      "BEFORE: validated\n"
     ]
    },
    {
     "name": "stderr",
     "output_type": "stream",
     "text": [
      "\n",
      "\n",
      "\n",
      "\n",
      "\n",
      "\n",
      "\n",
      " 61%|██████    | 1609/2650 [00:47<01:19, 13.13it/s]\u001b[A\u001b[A\u001b[A\u001b[A\u001b[A\u001b[A\u001b[A\n",
      "\n",
      "\n",
      "\n",
      "\n",
      "\n",
      "\n",
      " 61%|██████    | 1611/2650 [00:47<01:21, 12.72it/s]\u001b[A\u001b[A\u001b[A\u001b[A\u001b[A\u001b[A\u001b[A"
     ]
    },
    {
     "name": "stdout",
     "output_type": "stream",
     "text": [
      "AFTER: graphicone_search 2020-02-18 14:34:52.278000 ['macro', 'energy', 'gdp', 'global'] moderator tool passed VasiliiUshakov\n",
      "BEFORE: validated\n",
      "AFTER: graphicone_search 2020-02-18 14:34:52.363000 ['google', 'smart device', 'technology', 'app', 'smart speaker', 'amazon', 'apple', 'virtual assistant'] moderator tool passed VasiliiUshakov\n",
      "BEFORE: validated\n",
      "AFTER: graphicone_search 2020-02-18 14:34:52.447000 ['digital entertainment', 'us', 'global', 'netflix', 'consumer', 'streaming'] moderator tool passed VasiliiUshakov\n",
      "BEFORE: validated\n"
     ]
    },
    {
     "name": "stderr",
     "output_type": "stream",
     "text": [
      "\n",
      "\n",
      "\n",
      "\n",
      "\n",
      "\n",
      "\n",
      " 61%|██████    | 1614/2650 [00:47<01:14, 13.91it/s]\u001b[A\u001b[A\u001b[A\u001b[A\u001b[A\u001b[A\u001b[A"
     ]
    },
    {
     "name": "stdout",
     "output_type": "stream",
     "text": [
      "AFTER: graphicone_search 2020-02-18 14:34:52.532000 ['e-commerce', 'amazon', 'health', 'toys', 'electronics', 'consumer', 'hardware', 'shopping', 'apparel', 'retail', 'gaming'] moderator tool passed VasiliiUshakov\n",
      "BEFORE: validated\n",
      "AFTER: graphicone_search 2020-02-18 14:34:52.615000 ['sedal', 'seda', 'indomie', 'colgate-palmolive', 'global', 'consumer', 'nescafe', 'fmcg', 'coca-cola'] moderator tool passed VasiliiUshakov\n",
      "BEFORE: validated\n",
      "AFTER: graphicone_search 2020-02-18 14:34:52.700000 ['metals & mining', 'commodities', 'batteries', 'energy', 'lithium'] moderator tool passed VasiliiUshakov\n",
      "BEFORE: validated\n"
     ]
    },
    {
     "name": "stderr",
     "output_type": "stream",
     "text": [
      "\n",
      "\n",
      "\n",
      "\n",
      "\n",
      "\n",
      "\n",
      " 61%|██████    | 1616/2650 [00:47<01:18, 13.23it/s]\u001b[A\u001b[A\u001b[A\u001b[A\u001b[A\u001b[A\u001b[A\n",
      "\n",
      "\n",
      "\n",
      "\n",
      "\n",
      "\n",
      " 61%|██████    | 1618/2650 [00:47<01:20, 12.78it/s]\u001b[A\u001b[A\u001b[A\u001b[A\u001b[A\u001b[A\u001b[A"
     ]
    },
    {
     "name": "stdout",
     "output_type": "stream",
     "text": [
      "AFTER: graphicone_search 2020-02-18 14:34:52.784000 ['smartphone', 'augmented reality', 'virtual reality', 'technology', 'gadgets'] moderator tool passed VasiliiUshakov\n",
      "BEFORE: validated\n",
      "AFTER: graphicone_search 2020-02-18 14:34:52.869000 ['wall street', 'sentiment', 'cboe', 'vix', 'volatility', 'index'] moderator tool passed VasiliiUshakov\n",
      "BEFORE: validated\n",
      "AFTER: graphicone_search 2020-02-18 14:34:52.952000 [\"moody's\", 'kroll', 'dbrs', 'credit', 'fitch', 'financials', 'bonds', 'index', 's&p', 'debt'] moderator tool passed VasiliiUshakov\n",
      "BEFORE: validated\n"
     ]
    },
    {
     "name": "stderr",
     "output_type": "stream",
     "text": [
      "\n",
      "\n",
      "\n",
      "\n",
      "\n",
      "\n",
      "\n",
      " 61%|██████    | 1620/2650 [00:47<01:22, 12.51it/s]\u001b[A\u001b[A\u001b[A\u001b[A\u001b[A\u001b[A\u001b[A"
     ]
    },
    {
     "name": "stdout",
     "output_type": "stream",
     "text": [
      "AFTER: graphicone_search 2020-02-18 14:34:53.037000 ['chile', 'uk', 'south africa', 'germany', 'india', 'belgium', 'mexico', 'switzerland', 'social', 'us', 'australia', 'russia', 'global', 'turkey', 'france', 'internet', 'brazil'] moderator tool passed VasiliiUshakov\n",
      "BEFORE: validated\n",
      "AFTER: graphicone_search 2020-02-18 14:34:53.121000 ['ipo', 'lyft'] moderator tool passed VasiliiUshakov\n",
      "BEFORE: validated\n",
      "AFTER: graphicone_search 2020-02-18 14:34:53.205000 ['environment', 'disasters', 'culture', 'france', 'media'] moderator tool passed VasiliiUshakov\n",
      "BEFORE: validated\n"
     ]
    },
    {
     "name": "stderr",
     "output_type": "stream",
     "text": [
      "\n",
      "\n",
      "\n",
      "\n",
      "\n",
      "\n",
      "\n",
      " 61%|██████    | 1622/2650 [00:48<01:23, 12.31it/s]\u001b[A\u001b[A\u001b[A\u001b[A\u001b[A\u001b[A\u001b[A\n",
      "\n",
      "\n",
      "\n",
      "\n",
      "\n",
      "\n",
      " 61%|██████▏   | 1624/2650 [00:48<01:24, 12.17it/s]\u001b[A\u001b[A\u001b[A\u001b[A\u001b[A\u001b[A\u001b[A"
     ]
    },
    {
     "name": "stdout",
     "output_type": "stream",
     "text": [
      "AFTER: graphicone_search 2020-02-18 14:34:53.289000 ['logistics', 'us', 'amazon', 'delivery', 'whole foods'] moderator tool passed VasiliiUshakov\n",
      "BEFORE: validated\n",
      "AFTER: graphicone_search 2020-02-18 14:34:53.374000 ['bitcoin', 'cryptocurrency', 'futures', 'cme group'] moderator tool passed VasiliiUshakov\n",
      "BEFORE: validated\n",
      "AFTER: graphicone_search 2020-02-18 14:34:53.457000 ['germany', 'automotive', 'pharmaceutical industry', 'manufacturing', 'chemical'] moderator tool passed VasiliiUshakov\n",
      "BEFORE: validated\n"
     ]
    },
    {
     "name": "stderr",
     "output_type": "stream",
     "text": [
      "\n",
      "\n",
      "\n",
      "\n",
      "\n",
      "\n",
      "\n",
      " 61%|██████▏   | 1626/2650 [00:48<01:24, 12.08it/s]\u001b[A\u001b[A\u001b[A\u001b[A\u001b[A\u001b[A\u001b[A"
     ]
    },
    {
     "name": "stdout",
     "output_type": "stream",
     "text": [
      "AFTER: graphicone_search 2020-02-18 14:34:53.542000 ['stitch fix', 'internet', 'retail'] moderator tool passed VasiliiUshakov\n",
      "BEFORE: validated\n",
      "AFTER: graphicone_search 2020-02-18 14:34:53.626000 ['consumer', 'sentiment', 'us', 'politics'] moderator tool passed VasiliiUshakov\n",
      "BEFORE: validated\n",
      "AFTER: graphicone_search 2020-02-18 14:34:53.711000 ['streaming', 'digital entertainment', 'netflix'] moderator tool passed VasiliiUshakov\n",
      "BEFORE: validated\n"
     ]
    },
    {
     "name": "stderr",
     "output_type": "stream",
     "text": [
      "\n",
      "\n",
      "\n",
      "\n",
      "\n",
      "\n",
      "\n",
      " 61%|██████▏   | 1628/2650 [00:48<01:25, 12.01it/s]\u001b[A\u001b[A\u001b[A\u001b[A\u001b[A\u001b[A\u001b[A\n",
      "\n",
      "\n",
      "\n",
      "\n",
      "\n",
      "\n",
      " 62%|██████▏   | 1630/2650 [00:48<01:25, 11.96it/s]\u001b[A\u001b[A\u001b[A\u001b[A\u001b[A\u001b[A\u001b[A"
     ]
    },
    {
     "name": "stdout",
     "output_type": "stream",
     "text": [
      "AFTER: graphicone_search 2020-02-18 14:34:53.795000 ['usd', 'interest rates', 'fixed income'] moderator tool passed VasiliiUshakov\n",
      "BEFORE: validated\n",
      "AFTER: graphicone_search 2020-02-18 14:34:53.879000 ['tsmc', 'alibaba', 'china construction bank', 'housing development finance corporation', 'samsung', 'china mobile', 'tencent', 'index', 'naspers', 'emerging markets', 'ping an insurance', 'reliance industries', 'msci'] moderator tool passed VasiliiUshakov\n",
      "BEFORE: validated\n",
      "AFTER: graphicone_search 2020-02-18 14:34:53.963000 ['digital', 'android', 'microsoft', 'cyber security', 'app', 'adobe', 'internet'] moderator tool passed VasiliiUshakov\n",
      "BEFORE: validated\n"
     ]
    },
    {
     "name": "stderr",
     "output_type": "stream",
     "text": [
      "\n",
      "\n",
      "\n",
      "\n",
      "\n",
      "\n",
      "\n",
      " 62%|██████▏   | 1632/2650 [00:48<01:25, 11.93it/s]\u001b[A\u001b[A\u001b[A\u001b[A\u001b[A\u001b[A\u001b[A"
     ]
    },
    {
     "name": "stdout",
     "output_type": "stream",
     "text": [
      "AFTER: graphicone_search 2020-02-18 14:34:54.048000 ['equality', 'yahoo', 'ceo', 'hp', 'woman', 'mattel', 'gender', 'demography', 'ebay', 'golden west financial', 'springs industries', 'large caps', 'index', 's&p', 'autodesk'] moderator tool passed VasiliiUshakov\n",
      "BEFORE: validated\n",
      "AFTER: graphicone_search 2020-02-18 14:34:54.132000 ['smartphone', 'us'] moderator tool passed VasiliiUshakov\n",
      "BEFORE: validated\n",
      "AFTER: graphicone_search 2020-02-18 14:34:54.217000 ['smartphone', 'microsoft', 'computers', 'tablet', 'electronics'] moderator tool passed VasiliiUshakov\n",
      "BEFORE: validated\n"
     ]
    },
    {
     "name": "stderr",
     "output_type": "stream",
     "text": [
      "\n",
      "\n",
      "\n",
      "\n",
      "\n",
      "\n",
      "\n",
      " 62%|██████▏   | 1634/2650 [00:49<01:25, 11.92it/s]\u001b[A\u001b[A\u001b[A\u001b[A\u001b[A\u001b[A\u001b[A\n",
      "\n",
      "\n",
      "\n",
      "\n",
      "\n",
      "\n",
      " 62%|██████▏   | 1637/2650 [00:49<01:16, 13.22it/s]\u001b[A\u001b[A\u001b[A\u001b[A\u001b[A\u001b[A\u001b[A"
     ]
    },
    {
     "name": "stdout",
     "output_type": "stream",
     "text": [
      "AFTER: graphicone_search 2020-02-18 14:34:54.300000 ['tv', 'digital', 'advertising', 'wireless', 'radio', 'media', 'internet', '3d printing'] moderator tool passed VasiliiUshakov\n",
      "BEFORE: validated\n",
      "AFTER: graphicone_search 2020-02-18 14:34:54.385000 ['spotify', 'pinterest', 'yelp', 'ebay', 'amc', 'facebook', 'fox', 'twitter', 'iac', 'global', 'snap', 'liveramp', 'cision', 'nielsen', 'disney', 'marketing', 'google', 'viacomcbs', 'cbs', 'omnicom group', 'wpp', 'amazon', 'interpublic group'] moderator tool passed VasiliiUshakov\n",
      "BEFORE: validated\n",
      "AFTER: graphicone_search 2020-02-18 14:34:54.470000 ['hyundai', 'opel', 'bmw', 'kia', 'ev', 'renault', 'audi', 'volkswagen', 'nissan', 'jaguar', 'netherlands', 'tesla'] moderator tool passed VasiliiUshakov\n",
      "BEFORE: validated\n"
     ]
    },
    {
     "name": "stderr",
     "output_type": "stream",
     "text": [
      "\n",
      "\n",
      "\n",
      "\n",
      "\n",
      "\n",
      "\n",
      " 62%|██████▏   | 1639/2650 [00:49<01:19, 12.78it/s]\u001b[A\u001b[A\u001b[A\u001b[A\u001b[A\u001b[A\u001b[A"
     ]
    },
    {
     "name": "stdout",
     "output_type": "stream",
     "text": [
      "AFTER: graphicone_search 2020-02-18 14:34:54.555000 ['equality', 'google', 'apple', 'employment', 'facebook', 'airbnb', 'pinterest', 'microsoft', 'lyft', 'amazon', 'slack', 'uber', 'netflix', 'technology', 'silicon valley'] moderator tool passed VasiliiUshakov\n",
      "BEFORE: validated\n",
      "AFTER: graphicone_search 2020-02-18 14:34:54.638000 ['machine learning', 'employment'] moderator tool passed VasiliiUshakov\n",
      "BEFORE: validated\n",
      "AFTER: graphicone_search 2020-02-18 14:34:54.723000 ['automotive', 'ev'] moderator tool passed VasiliiUshakov\n",
      "BEFORE: validated\n"
     ]
    },
    {
     "name": "stderr",
     "output_type": "stream",
     "text": [
      "\n",
      "\n",
      "\n",
      "\n",
      "\n",
      "\n",
      "\n",
      " 62%|██████▏   | 1641/2650 [00:49<01:20, 12.49it/s]\u001b[A\u001b[A\u001b[A\u001b[A\u001b[A\u001b[A\u001b[A\n",
      "\n",
      "\n",
      "\n",
      "\n",
      "\n",
      "\n",
      " 62%|██████▏   | 1643/2650 [00:49<01:21, 12.30it/s]\u001b[A\u001b[A\u001b[A\u001b[A\u001b[A\u001b[A\u001b[A"
     ]
    },
    {
     "name": "stdout",
     "output_type": "stream",
     "text": [
      "AFTER: graphicone_search 2020-02-18 14:34:54.807000 ['cloud', 'vortex', 'nvidia', 'us', 'playstation', 'gaming'] moderator tool passed VasiliiUshakov\n",
      "BEFORE: validated\n",
      "AFTER: graphicone_search 2020-02-18 14:34:54.892000 ['music', 'spotify', 'apple'] moderator tool passed VasiliiUshakov\n",
      "BEFORE: validated\n",
      "AFTER: graphicone_search 2020-02-18 14:34:54.975000 ['employment', 'facebook', 'florida', 'alphabet', 'us', 'amazon', 'apple', 'california', 'new york', 'retirement'] moderator tool passed VasiliiUshakov\n",
      "BEFORE: validated\n"
     ]
    },
    {
     "name": "stderr",
     "output_type": "stream",
     "text": [
      "\n",
      "\n",
      "\n",
      "\n",
      "\n",
      "\n",
      "\n",
      " 62%|██████▏   | 1646/2650 [00:50<01:14, 13.56it/s]\u001b[A\u001b[A\u001b[A\u001b[A\u001b[A\u001b[A\u001b[A"
     ]
    },
    {
     "name": "stdout",
     "output_type": "stream",
     "text": [
      "AFTER: graphicone_search 2020-02-18 14:34:55.060000 ['us', 'streaming', 'netflix'] moderator tool passed VasiliiUshakov\n",
      "BEFORE: validated\n",
      "AFTER: graphicone_search 2020-02-18 14:34:55.144000 ['urban outfitters', 'fashion', 'inditex', 'nordstrom', 'gap', 'h&m', 'us', \"macy's\", 'neiman marcus'] moderator tool passed VasiliiUshakov\n",
      "BEFORE: validated\n",
      "AFTER: graphicone_search 2020-02-18 14:34:55.228000 ['hong kong', 'hong kong stock exchange'] moderator tool passed VasiliiUshakov\n",
      "BEFORE: validated\n"
     ]
    },
    {
     "name": "stderr",
     "output_type": "stream",
     "text": [
      "\n",
      "\n",
      "\n",
      "\n",
      "\n",
      "\n",
      "\n",
      " 62%|██████▏   | 1648/2650 [00:50<01:17, 13.00it/s]\u001b[A\u001b[A\u001b[A\u001b[A\u001b[A\u001b[A\u001b[A\n",
      "\n",
      "\n",
      "\n",
      "\n",
      "\n",
      "\n",
      " 62%|██████▏   | 1650/2650 [00:50<01:19, 12.64it/s]\u001b[A\u001b[A\u001b[A\u001b[A\u001b[A\u001b[A\u001b[A"
     ]
    },
    {
     "name": "stdout",
     "output_type": "stream",
     "text": [
      "AFTER: graphicone_search 2020-02-18 14:34:55.312000 ['digital entertainment', 'us', 'global', 'netflix', 'streaming'] moderator tool passed VasiliiUshakov\n",
      "BEFORE: validated\n",
      "AFTER: graphicone_search 2020-02-18 14:34:55.397000 ['paypal', 'facebook', 'mastercard', 'booking', 'unitedhealth', 'alphabet', 'salesforce', 'adobe', 'visa', 'funds', 'index', 's&p'] moderator tool passed VasiliiUshakov\n",
      "BEFORE: validated\n",
      "AFTER: graphicone_search 2020-02-18 14:34:55.481000 ['bonds', 'fixed income', 'global'] moderator tool passed VasiliiUshakov\n",
      "BEFORE: validated\n"
     ]
    },
    {
     "name": "stderr",
     "output_type": "stream",
     "text": [
      "\n",
      "\n",
      "\n",
      "\n",
      "\n",
      "\n",
      "\n",
      " 62%|██████▏   | 1652/2650 [00:50<01:20, 12.40it/s]\u001b[A\u001b[A\u001b[A\u001b[A\u001b[A\u001b[A\u001b[A"
     ]
    },
    {
     "name": "stdout",
     "output_type": "stream",
     "text": [
      "AFTER: graphicone_search 2020-02-18 14:34:55.565000 ['facebook', 'microsoft', 'amazon', 'apple', 'index', 's&p'] moderator tool passed VasiliiUshakov\n",
      "BEFORE: validated\n",
      "AFTER: graphicone_search 2020-02-18 14:34:55.649000 ['pfizer', 'facebook', 'cisco', 'mastercard', 'berkshire hathaway', 'abbvie', 'microsoft', 'visa', 'alphabet', 'amazon', 'apple', 'index', 's&p'] moderator tool passed VasiliiUshakov\n",
      "BEFORE: validated\n",
      "AFTER: graphicone_search 2020-02-18 14:34:55.734000 ['google', 'facebook', 'tv', 'wireless', 'radio', 'australia', 'media'] moderator tool passed VasiliiUshakov\n",
      "BEFORE: validated\n"
     ]
    },
    {
     "name": "stderr",
     "output_type": "stream",
     "text": [
      "\n",
      "\n",
      "\n",
      "\n",
      "\n",
      "\n",
      "\n",
      " 62%|██████▏   | 1654/2650 [00:50<01:21, 12.23it/s]\u001b[A\u001b[A\u001b[A\u001b[A\u001b[A\u001b[A\u001b[A\n",
      "\n",
      "\n",
      "\n",
      "\n",
      "\n",
      "\n",
      " 62%|██████▏   | 1656/2650 [00:50<01:22, 12.12it/s]\u001b[A\u001b[A\u001b[A\u001b[A\u001b[A\u001b[A\u001b[A"
     ]
    },
    {
     "name": "stdout",
     "output_type": "stream",
     "text": [
      "AFTER: graphicone_search 2020-02-18 14:34:55.818000 ['smartphone', 'xiaomi', 'oppo', 'china', 'apple', 'vivo', 'huawei'] moderator tool passed VasiliiUshakov\n",
      "BEFORE: validated\n",
      "AFTER: graphicone_search 2020-02-18 14:34:55.903000 ['google', 'facebook', 'advertising', 'australia', 'internet'] moderator tool passed VasiliiUshakov\n",
      "BEFORE: validated\n",
      "AFTER: graphicone_search 2020-02-18 14:34:55.986000 ['us', 'taxes', 'buyback', 'index', 's&p'] moderator tool passed VasiliiUshakov\n",
      "BEFORE: validated\n"
     ]
    },
    {
     "name": "stderr",
     "output_type": "stream",
     "text": [
      "\n",
      "\n",
      "\n",
      "\n",
      "\n",
      "\n",
      "\n",
      " 63%|██████▎   | 1658/2650 [00:51<01:22, 12.05it/s]\u001b[A\u001b[A\u001b[A\u001b[A\u001b[A\u001b[A\u001b[A"
     ]
    },
    {
     "name": "stdout",
     "output_type": "stream",
     "text": [
      "AFTER: graphicone_search 2020-02-18 14:34:56.071000 ['gun', 'us', 'death', 'crimes'] moderator tool passed VasiliiUshakov\n",
      "BEFORE: validated\n",
      "AFTER: graphicone_search 2020-02-18 14:34:56.154000 ['goldman sachs', 'buyback', 'index', 's&p'] moderator tool passed VasiliiUshakov\n",
      "BEFORE: validated\n",
      "AFTER: graphicone_search 2020-02-18 14:34:56.239000 ['real estate'] moderator tool passed VasiliiUshakov\n",
      "BEFORE: validated\n"
     ]
    },
    {
     "name": "stderr",
     "output_type": "stream",
     "text": [
      "\n",
      "\n",
      "\n",
      "\n",
      "\n",
      "\n",
      "\n",
      " 63%|██████▎   | 1661/2650 [00:51<01:14, 13.35it/s]\u001b[A\u001b[A\u001b[A\u001b[A\u001b[A\u001b[A\u001b[A\n",
      "\n",
      "\n",
      "\n",
      "\n",
      "\n",
      "\n",
      " 63%|██████▎   | 1663/2650 [00:51<01:16, 12.86it/s]\u001b[A\u001b[A\u001b[A\u001b[A\u001b[A\u001b[A\u001b[A"
     ]
    },
    {
     "name": "stdout",
     "output_type": "stream",
     "text": [
      "AFTER: graphicone_search 2020-02-18 14:34:56.323000 ['ipo', 'uber'] moderator tool passed VasiliiUshakov\n",
      "BEFORE: validated\n",
      "AFTER: graphicone_search 2020-02-18 14:34:56.407000 ['jaguar', 'tesla', 'audi', 'ev'] moderator tool passed VasiliiUshakov\n",
      "BEFORE: validated\n",
      "AFTER: graphicone_search 2020-02-18 14:34:56.491000 ['brazil', 'environment'] moderator tool passed VasiliiUshakov\n",
      "BEFORE: validated\n"
     ]
    },
    {
     "name": "stderr",
     "output_type": "stream",
     "text": [
      "\n",
      "\n",
      "\n",
      "\n",
      "\n",
      "\n",
      "\n",
      " 63%|██████▎   | 1665/2650 [00:51<01:18, 12.55it/s]\u001b[A\u001b[A\u001b[A\u001b[A\u001b[A\u001b[A\u001b[A"
     ]
    },
    {
     "name": "stdout",
     "output_type": "stream",
     "text": [
      "AFTER: graphicone_search 2020-02-18 14:34:56.576000 ['merrill lynch', 'cboe', 'vix', 'bank of america', 'volatility', 'index'] moderator tool passed VasiliiUshakov\n",
      "BEFORE: validated\n",
      "AFTER: graphicone_search 2020-02-18 14:34:56.660000 ['government bonds', 'cboe', 'vix', 'bonds', 'volatility', 'index'] moderator tool passed VasiliiUshakov\n",
      "BEFORE: validated\n",
      "AFTER: graphicone_search 2020-02-18 14:34:56.745000 ['dentsu', 'accenture', 'alibaba', 'constellation software', 'walmart', 'keywords studios', 'alphabet', 'microsoft', 'siemens', 'wisetech global', 'wpp', 'hexagon', 'j2 global', 'deloitte'] moderator tool passed VasiliiUshakov\n",
      "BEFORE: validated\n"
     ]
    },
    {
     "name": "stderr",
     "output_type": "stream",
     "text": [
      "\n",
      "\n",
      "\n",
      "\n",
      "\n",
      "\n",
      "\n",
      " 63%|██████▎   | 1667/2650 [00:51<01:19, 12.34it/s]\u001b[A\u001b[A\u001b[A\u001b[A\u001b[A\u001b[A\u001b[A\n",
      "\n",
      "\n",
      "\n",
      "\n",
      "\n",
      "\n",
      " 63%|██████▎   | 1669/2650 [00:51<01:20, 12.18it/s]\u001b[A\u001b[A\u001b[A\u001b[A\u001b[A\u001b[A\u001b[A"
     ]
    },
    {
     "name": "stdout",
     "output_type": "stream",
     "text": [
      "AFTER: graphicone_search 2020-02-18 14:34:56.828000 ['macro', 'gdp', 'export', 'trade', 'government'] moderator tool passed VasiliiUshakov\n",
      "BEFORE: validated\n",
      "AFTER: graphicone_search 2020-02-18 14:34:56.913000 ['digital media', 'media', 'new york times', 'digital'] moderator tool passed VasiliiUshakov\n",
      "BEFORE: validated\n",
      "AFTER: graphicone_search 2020-02-18 14:34:56.997000 ['gdp', 'real estate', 'us', 'interest rates', 'mortgage'] moderator tool passed VasiliiUshakov\n",
      "BEFORE: validated\n"
     ]
    },
    {
     "name": "stderr",
     "output_type": "stream",
     "text": [
      "\n",
      "\n",
      "\n",
      "\n",
      "\n",
      "\n",
      "\n",
      " 63%|██████▎   | 1671/2650 [00:52<01:20, 12.09it/s]\u001b[A\u001b[A\u001b[A\u001b[A\u001b[A\u001b[A\u001b[A"
     ]
    },
    {
     "name": "stdout",
     "output_type": "stream",
     "text": [
      "AFTER: graphicone_search 2020-02-18 14:34:57.082000 ['equality', 'woman', 'uk', 'gender', 'social', 'politics'] moderator tool passed VasiliiUshakov\n",
      "BEFORE: validated\n",
      "AFTER: graphicone_search 2020-02-18 14:34:57.166000 ['electricity', 'commodities', 'gas', 'renewables', 'energy', 'nuclear power', 'coal'] moderator tool passed VasiliiUshakov\n",
      "BEFORE: validated\n",
      "AFTER: graphicone_search 2020-02-18 14:34:57.250000 ['northrop grumman', 'boeing', 'lockheed martin', 'intel', 'microsoft', 'alphabet', 'raytheon', 'us', 'amazon', 'apple', 'united technologies', 'technology', 'military'] moderator tool passed VasiliiUshakov\n",
      "BEFORE: validated\n"
     ]
    },
    {
     "name": "stderr",
     "output_type": "stream",
     "text": [
      "\n",
      "\n",
      "\n",
      "\n",
      "\n",
      "\n",
      "\n",
      " 63%|██████▎   | 1673/2650 [00:52<01:21, 12.02it/s]\u001b[A\u001b[A\u001b[A\u001b[A\u001b[A\u001b[A\u001b[A\n",
      "\n",
      "\n",
      "\n",
      "\n",
      "\n",
      "\n",
      " 63%|██████▎   | 1675/2650 [00:52<01:21, 11.98it/s]\u001b[A\u001b[A\u001b[A\u001b[A\u001b[A\u001b[A\u001b[A"
     ]
    },
    {
     "name": "stdout",
     "output_type": "stream",
     "text": [
      "AFTER: graphicone_search 2020-02-18 14:34:57.334000 ['environment', 'new york times', 'us', 'climate change', 'media'] moderator tool passed VasiliiUshakov\n",
      "BEFORE: validated\n",
      "AFTER: graphicone_search 2020-02-18 14:34:57.419000 ['japan', 'germany', 'france', 'hardware', '3d printing', 'canada', 'india', 'oil', 'china', 'global', 'finland', 'consumer', 'semiconductors', 'medicine', 'robotics', 'sweden', 'switzerland', 'intellectual property', 'us', 'internet', 'technology', 'aviation', 'telecom', 'automotive', 'pharmaceutical industry', 'commodities', 'south korea', 'software', 'electronics', 'netherlands', 'agriculture', 'ireland'] moderator tool passed VasiliiUshakov\n",
      "BEFORE: validated\n",
      "AFTER: graphicone_search 2020-02-18 14:34:57.502000 ['sentiment', 'trump', 'us', 'politics', 'consumer'] moderator tool passed VasiliiUshakov\n",
      "BEFORE: validated\n"
     ]
    },
    {
     "name": "stderr",
     "output_type": "stream",
     "text": [
      "\n",
      "\n",
      "\n",
      "\n",
      "\n",
      "\n",
      "\n",
      " 63%|██████▎   | 1677/2650 [00:52<01:21, 11.94it/s]\u001b[A\u001b[A\u001b[A\u001b[A\u001b[A\u001b[A\u001b[A"
     ]
    },
    {
     "name": "stdout",
     "output_type": "stream",
     "text": [
      "AFTER: graphicone_search 2020-02-18 14:34:57.587000 ['employment', 'carter', 'labor', 'bush', 'us', 'kennedy', 'ronald reagan', 'politics', 'obama', 'clinton', 'richard nixon'] moderator tool passed VasiliiUshakov\n",
      "BEFORE: validated\n",
      "AFTER: graphicone_search 2020-02-18 14:34:57.671000 ['morgan stanley', 'oil', 'dividends', 'commodities', 'gas', 'energy', 'russia'] moderator tool passed VasiliiUshakov\n",
      "BEFORE: validated\n",
      "AFTER: graphicone_search 2020-02-18 14:34:57.756000 ['smartphone', 'weibo', 'twitter', 'advertising', 'china', 'internet', 'social media', 'mobile'] moderator tool passed VasiliiUshakov\n",
      "BEFORE: validated\n"
     ]
    },
    {
     "name": "stderr",
     "output_type": "stream",
     "text": [
      "\n",
      "\n",
      "\n",
      "\n",
      "\n",
      "\n",
      "\n",
      " 63%|██████▎   | 1679/2650 [00:52<01:21, 11.91it/s]\u001b[A\u001b[A\u001b[A\u001b[A\u001b[A\u001b[A\u001b[A\n",
      "\n",
      "\n",
      "\n",
      "\n",
      "\n",
      "\n",
      " 63%|██████▎   | 1681/2650 [00:52<01:21, 11.87it/s]\u001b[A\u001b[A\u001b[A\u001b[A\u001b[A\u001b[A\u001b[A"
     ]
    },
    {
     "name": "stdout",
     "output_type": "stream",
     "text": [
      "AFTER: graphicone_search 2020-02-18 14:34:57.840000 ['smartphone', 'south korea', 'uber', 'kakao taxi', 'car sharing', 'mobile'] moderator tool passed VasiliiUshakov\n",
      "BEFORE: validated\n",
      "AFTER: graphicone_search 2020-02-18 14:34:57.925000 ['delphi', 'hyundai', 'tata', 'ford', 'automotive', 'general motors', 'toyota', 'renault', 'subaru', 'nissan', 'fca', 'volkswagen', 'uber', 'daimler', 'tesla', 'bmw', 'honda', 'large caps'] moderator tool passed VasiliiUshakov\n",
      "BEFORE: validated\n",
      "AFTER: graphicone_search 2020-02-18 14:34:58.009000 ['smartphone', 'ola cabs', 'india', 'uber', 'consumer', 'car sharing', 'mobile'] moderator tool passed VasiliiUshakov\n",
      "BEFORE: validated\n"
     ]
    },
    {
     "name": "stderr",
     "output_type": "stream",
     "text": [
      "\n",
      "\n",
      "\n",
      "\n",
      "\n",
      "\n",
      "\n",
      " 64%|██████▎   | 1683/2650 [00:53<01:21, 11.85it/s]\u001b[A\u001b[A\u001b[A\u001b[A\u001b[A\u001b[A\u001b[A"
     ]
    },
    {
     "name": "stdout",
     "output_type": "stream",
     "text": [
      "AFTER: graphicone_search 2020-02-18 14:34:58.095000 ['funds', 'goldman sachs', 'brics'] moderator tool passed VasiliiUshakov\n",
      "BEFORE: validated\n",
      "AFTER: graphicone_search 2020-02-18 14:34:58.179000 ['pandora', 'digital entertainment', 'music', 'rdio', 'spotify', 'us', 'soundcloud', 'internet', 'streaming', 'musify'] moderator tool passed VasiliiUshakov\n",
      "BEFORE: validated\n",
      "AFTER: graphicone_search 2020-02-18 14:34:58.264000 ['tv', 'twitter', 'advertising', 'wireless', 'radio', 'media', 'internet', 'marketing'] moderator tool passed VasiliiUshakov\n",
      "BEFORE: validated\n"
     ]
    },
    {
     "name": "stderr",
     "output_type": "stream",
     "text": [
      "\n",
      "\n",
      "\n",
      "\n",
      "\n",
      "\n",
      "\n",
      " 64%|██████▎   | 1686/2650 [00:53<01:13, 13.17it/s]\u001b[A\u001b[A\u001b[A\u001b[A\u001b[A\u001b[A\u001b[A\n",
      "\n",
      "\n",
      "\n",
      "\n",
      "\n",
      "\n",
      " 64%|██████▎   | 1688/2650 [00:53<01:15, 12.75it/s]\u001b[A\u001b[A\u001b[A\u001b[A\u001b[A\u001b[A\u001b[A"
     ]
    },
    {
     "name": "stdout",
     "output_type": "stream",
     "text": [
      "AFTER: graphicone_search 2020-02-18 14:34:58.348000 ['pfizer', 'google', 'cisco', 'cash', 'microsoft', 'exxon', 'us', 'general electric', 'apple', 'johnson & johnson', 'ibm', 'merck'] moderator tool passed VasiliiUshakov\n",
      "BEFORE: validated\n",
      "AFTER: graphicone_search 2020-02-18 14:34:58.433000 ['theranos', 'employment', 'airbnb', 'palantir', 'wework', 'square', 'pinterest', 'spacex', 'startups', 'us', 'dropbox', 'uber', 'snap', 'unicorns', 'funds', 'internet', 'silicon valley'] moderator tool passed VasiliiUshakov\n",
      "BEFORE: validated\n",
      "AFTER: graphicone_search 2020-02-18 14:34:58.517000 ['smartphone', 'cloud', 'airbnb', 'sharing economy', 'advertising', 'iot', 'social', 'us', 'health', 'digital health', 'uber', 'digital media', 'data', 'technology', 'mobile'] moderator tool passed VasiliiUshakov\n",
      "BEFORE: validated\n"
     ]
    },
    {
     "name": "stderr",
     "output_type": "stream",
     "text": [
      "\n",
      "\n",
      "\n",
      "\n",
      "\n",
      "\n",
      "\n",
      " 64%|██████▍   | 1690/2650 [00:53<01:16, 12.47it/s]\u001b[A\u001b[A\u001b[A\u001b[A\u001b[A\u001b[A\u001b[A"
     ]
    },
    {
     "name": "stdout",
     "output_type": "stream",
     "text": [
      "AFTER: graphicone_search 2020-02-18 14:34:58.602000 ['facebook', 'internet', 'social media'] moderator tool passed VasiliiUshakov\n",
      "BEFORE: validated\n",
      "AFTER: graphicone_search 2020-02-18 14:34:58.685000 ['vine', 'digital entertainment', 'app', 'us', 'snap'] moderator tool passed VasiliiUshakov\n",
      "BEFORE: validated\n",
      "AFTER: graphicone_search 2020-02-18 14:34:58.770000 ['gannett company', 'new york times', 'vox media', 'buzzfeed', 'vice media', 'media', 'tribune publishing'] moderator tool passed VasiliiUshakov\n",
      "BEFORE: validated\n"
     ]
    },
    {
     "name": "stderr",
     "output_type": "stream",
     "text": [
      "\n",
      "\n",
      "\n",
      "\n",
      "\n",
      "\n",
      "\n",
      " 64%|██████▍   | 1692/2650 [00:53<01:17, 12.29it/s]\u001b[A\u001b[A\u001b[A\u001b[A\u001b[A\u001b[A\u001b[A\n",
      "\n",
      "\n",
      "\n",
      "\n",
      "\n",
      "\n",
      " 64%|██████▍   | 1694/2650 [00:53<01:18, 12.15it/s]\u001b[A\u001b[A\u001b[A\u001b[A\u001b[A\u001b[A\u001b[A"
     ]
    },
    {
     "name": "stdout",
     "output_type": "stream",
     "text": [
      "AFTER: graphicone_search 2020-02-18 14:34:58.853000 ['funds', 'e-commerce', 'india', 'hedge funds'] moderator tool passed VasiliiUshakov\n",
      "BEFORE: validated\n",
      "AFTER: graphicone_search 2020-02-18 14:34:58.938000 ['larry page', 'google', 'ceo', 'wealth', 'larry ellison', 'facebook', 'technology', 'microsoft', 'billionaires', 'mark zuckerberg', 'amazon', 'jeff bezos', 'oracle'] moderator tool passed VasiliiUshakov\n",
      "BEFORE: validated\n",
      "AFTER: graphicone_search 2020-02-18 14:34:59.022000 ['smartphone', 'iphone', 'apple', 'electronics', 'consumer'] moderator tool passed VasiliiUshakov\n",
      "BEFORE: validated\n"
     ]
    },
    {
     "name": "stderr",
     "output_type": "stream",
     "text": [
      "\n",
      "\n",
      "\n",
      "\n",
      "\n",
      "\n",
      "\n",
      " 64%|██████▍   | 1696/2650 [00:54<01:19, 12.07it/s]\u001b[A\u001b[A\u001b[A\u001b[A\u001b[A\u001b[A\u001b[A"
     ]
    },
    {
     "name": "stdout",
     "output_type": "stream",
     "text": [
      "AFTER: graphicone_search 2020-02-18 14:34:59.107000 ['sentiment', 'ukraine', 'russia', 'bonds', 'index', 'military'] moderator tool passed VasiliiUshakov\n",
      "BEFORE: validated\n",
      "AFTER: graphicone_search 2020-02-18 14:34:59.190000 ['japan', 'bank of china', 'singapore', 'china', 'trade', 'hong kong', 'banking', 'loan', 'standard chartered', 'hsbc', 'citigroup'] moderator tool passed VasiliiUshakov\n",
      "BEFORE: validated\n",
      "AFTER: graphicone_search 2020-02-18 14:34:59.275000 ['quicken loans', 'jpmorgan', 'dividends', 'us', 'bank of america', 'wells fargo', 'banking', 'mortgage', 'icbc', 'citigroup'] moderator tool passed VasiliiUshakov\n",
      "BEFORE: validated\n"
     ]
    },
    {
     "name": "stderr",
     "output_type": "stream",
     "text": [
      "\n",
      "\n",
      "\n",
      "\n",
      "\n",
      "\n",
      "\n",
      " 64%|██████▍   | 1698/2650 [00:54<01:19, 12.02it/s]\u001b[A\u001b[A\u001b[A\u001b[A\u001b[A\u001b[A\u001b[A\n",
      "\n",
      "\n",
      "\n",
      "\n",
      "\n",
      "\n",
      " 64%|██████▍   | 1701/2650 [00:54<01:11, 13.31it/s]\u001b[A\u001b[A\u001b[A\u001b[A\u001b[A\u001b[A\u001b[A"
     ]
    },
    {
     "name": "stdout",
     "output_type": "stream",
     "text": [
      "AFTER: graphicone_search 2020-02-18 14:34:59.359000 ['loan', 'mortgage', 'uk'] moderator tool passed VasiliiUshakov\n",
      "BEFORE: validated\n",
      "AFTER: graphicone_search 2020-02-18 14:34:59.444000 ['employment', 'labor', 'default', 'us', 'bankruptcy', 'loan', 'wells fargo', 'credit', 'consumer'] moderator tool passed VasiliiUshakov\n",
      "BEFORE: validated\n",
      "AFTER: graphicone_search 2020-02-18 14:34:59.527000 ['smartphone', 'xiaomi', 'samsung', 'philippines', 'india', 'lenovo', 'singapore', 'china', 'lg', 'hong kong', 'beijing', 'malaysia', 'indonesia', 'global', 'apple', 'taiwan', 'huawei'] moderator tool passed VasiliiUshakov\n",
      "BEFORE: validated\n"
     ]
    },
    {
     "name": "stderr",
     "output_type": "stream",
     "text": [
      "\n",
      "\n",
      "\n",
      "\n",
      "\n",
      "\n",
      "\n",
      " 64%|██████▍   | 1703/2650 [00:54<01:13, 12.83it/s]\u001b[A\u001b[A\u001b[A\u001b[A\u001b[A\u001b[A\u001b[A"
     ]
    },
    {
     "name": "stdout",
     "output_type": "stream",
     "text": [
      "AFTER: graphicone_search 2020-02-18 14:34:59.612000 ['uk', 'politics', 'democracy', 'government'] moderator tool passed VasiliiUshakov\n",
      "BEFORE: validated\n",
      "AFTER: graphicone_search 2020-02-18 14:34:59.696000 ['financials', 'jpmorgan', 'bank of america', 'metlife', 'wells fargo', 'citigroup'] moderator tool passed VasiliiUshakov\n",
      "BEFORE: validated\n",
      "AFTER: graphicone_search 2020-02-18 14:34:59.781000 ['us', 'retail'] moderator tool passed VasiliiUshakov\n",
      "BEFORE: validated\n"
     ]
    },
    {
     "name": "stderr",
     "output_type": "stream",
     "text": [
      "\n",
      "\n",
      "\n",
      "\n",
      "\n",
      "\n",
      "\n",
      " 64%|██████▍   | 1707/2650 [00:54<01:03, 14.88it/s]\u001b[A\u001b[A\u001b[A\u001b[A\u001b[A\u001b[A\u001b[A\n",
      "\n",
      "\n",
      "\n",
      "\n",
      "\n",
      "\n",
      " 64%|██████▍   | 1709/2650 [00:54<01:07, 13.84it/s]\u001b[A\u001b[A\u001b[A\u001b[A\u001b[A\u001b[A\u001b[A"
     ]
    },
    {
     "name": "stdout",
     "output_type": "stream",
     "text": [
      "AFTER: graphicone_search 2020-02-18 14:34:59.865000 ['north america', 'retail', 'coca-cola'] moderator tool passed VasiliiUshakov\n",
      "BEFORE: validated\n",
      "AFTER: graphicone_search 2020-02-18 14:34:59.950000 ['wiley', 'elsevier', 'macmillan publishers', 'taylor & francis', 'science', 'm&a', 'global', '3d printing'] moderator tool passed VasiliiUshakov\n",
      "BEFORE: validated\n",
      "AFTER: graphicone_search 2020-02-18 14:35:00.033000 ['smartphone', 'digital entertainment', 'gaming', 'mobile gaming', 'app', 'mobile'] moderator tool passed VasiliiUshakov\n",
      "BEFORE: validated\n"
     ]
    },
    {
     "name": "stderr",
     "output_type": "stream",
     "text": [
      "\n",
      "\n",
      "\n",
      "\n",
      "\n",
      "\n",
      "\n",
      " 65%|██████▍   | 1712/2650 [00:55<01:03, 14.83it/s]\u001b[A\u001b[A\u001b[A\u001b[A\u001b[A\u001b[A\u001b[A"
     ]
    },
    {
     "name": "stdout",
     "output_type": "stream",
     "text": [
      "AFTER: graphicone_search 2020-02-18 14:35:00.118000 ['smartphone', 'oppo', 'samsung', 'nokia', 'apple', 'huawei'] moderator tool passed VasiliiUshakov\n",
      "BEFORE: validated\n",
      "AFTER: graphicone_search 2020-02-18 14:35:00.201000 ['google', 'cloud', 'microsoft', 'salesforce', 'amazon', 'internet', 'ibm'] moderator tool passed VasiliiUshakov\n",
      "BEFORE: validated\n",
      "AFTER: graphicone_search 2020-02-18 14:35:00.286000 ['goldman sachs', 'jpmorgan', 'merrill lynch', 'morgan stanley', 'commodities', 'gas', 'us', 'bank of america', 'banking', 'citigroup'] moderator tool passed VasiliiUshakov\n",
      "BEFORE: validated\n"
     ]
    },
    {
     "name": "stderr",
     "output_type": "stream",
     "text": [
      "\n",
      "\n",
      "\n",
      "\n",
      "\n",
      "\n",
      "\n",
      " 65%|██████▍   | 1714/2650 [00:55<01:07, 13.80it/s]\u001b[A\u001b[A\u001b[A\u001b[A\u001b[A\u001b[A\u001b[A\n",
      "\n",
      "\n",
      "\n",
      "\n",
      "\n",
      "\n",
      " 65%|██████▍   | 1717/2650 [00:55<01:03, 14.79it/s]\u001b[A\u001b[A\u001b[A\u001b[A\u001b[A\u001b[A\u001b[A"
     ]
    },
    {
     "name": "stdout",
     "output_type": "stream",
     "text": [
      "AFTER: graphicone_search 2020-02-18 14:35:00.370000 ['japan', 'canada', 'uk', 'sweden', 'technology', 'wireless', 'norway', 'switzerland', 'us', 'australia', 'internet', 'denmark'] moderator tool passed VasiliiUshakov\n",
      "BEFORE: validated\n",
      "AFTER: graphicone_search 2020-02-18 14:35:00.455000 ['startups', 'fintech', 'global'] moderator tool passed VasiliiUshakov\n",
      "BEFORE: validated\n",
      "AFTER: graphicone_search 2020-02-18 14:35:00.539000 ['government bonds', 'default', 'bonds', 'puerto rico'] moderator tool passed VasiliiUshakov\n",
      "BEFORE: validated\n"
     ]
    },
    {
     "name": "stderr",
     "output_type": "stream",
     "text": [
      "\n",
      "\n",
      "\n",
      "\n",
      "\n",
      "\n",
      "\n",
      " 65%|██████▍   | 1721/2650 [00:55<00:55, 16.67it/s]\u001b[A\u001b[A\u001b[A\u001b[A\u001b[A\u001b[A\u001b[A"
     ]
    },
    {
     "name": "stdout",
     "output_type": "stream",
     "text": [
      "AFTER: graphicone_search 2020-02-18 14:35:00.624000 ['smartphone', 'digital entertainment', 'android', 'mobile gaming', 'app', 'global', 'gaming'] moderator tool passed VasiliiUshakov\n",
      "BEFORE: validated\n",
      "AFTER: graphicone_search 2020-02-18 14:35:00.708000 ['e-commerce', 'smartphone', 'digital', 'internet', 'marketing', 'social media', 'mobile'] moderator tool passed VasiliiUshakov\n",
      "BEFORE: validated\n",
      "AFTER: graphicone_search 2020-02-18 14:35:00.792000 ['asia', 'lg', 'zte', 'middle east', 'samsung', 'eu', 'htc', 'global', 'apple', 'motorola', 'africa', 'lenovo', 'sony', 'north america', 'data', 'smartphone', 'xiaomi', 'telecom', 'microsoft', 'nokia', 'huawei', 'mobile'] moderator tool passed VasiliiUshakov\n",
      "BEFORE: validated\n"
     ]
    },
    {
     "name": "stderr",
     "output_type": "stream",
     "text": [
      "\n",
      "\n",
      "\n",
      "\n",
      "\n",
      "\n",
      "\n",
      " 65%|██████▌   | 1723/2650 [00:55<01:02, 14.86it/s]\u001b[A\u001b[A\u001b[A\u001b[A\u001b[A\u001b[A\u001b[A\n",
      "\n",
      "\n",
      "\n",
      "\n",
      "\n",
      "\n",
      " 65%|██████▌   | 1725/2650 [00:55<01:07, 13.80it/s]\u001b[A\u001b[A\u001b[A\u001b[A\u001b[A\u001b[A\u001b[A"
     ]
    },
    {
     "name": "stdout",
     "output_type": "stream",
     "text": [
      "AFTER: graphicone_search 2020-02-18 14:35:00.876000 ['e-commerce', 'brazil'] moderator tool passed VasiliiUshakov\n",
      "BEFORE: validated\n",
      "AFTER: graphicone_search 2020-02-18 14:35:00.961000 ['smartphone', 'baidu', 'alibaba', 'youku', 'advertising', 'tencent', 'sohu', 'china', 'internet', 'mobile'] moderator tool passed VasiliiUshakov\n",
      "BEFORE: validated\n",
      "AFTER: graphicone_search 2020-02-18 14:35:01.045000 ['private equity', 'russell index', 'venture', 'north america', 'index'] moderator tool passed VasiliiUshakov\n",
      "BEFORE: validated\n"
     ]
    },
    {
     "name": "stderr",
     "output_type": "stream",
     "text": [
      "\n",
      "\n",
      "\n",
      "\n",
      "\n",
      "\n",
      "\n",
      " 65%|██████▌   | 1727/2650 [00:56<01:10, 13.15it/s]\u001b[A\u001b[A\u001b[A\u001b[A\u001b[A\u001b[A\u001b[A"
     ]
    },
    {
     "name": "stdout",
     "output_type": "stream",
     "text": [
      "AFTER: graphicone_search 2020-02-18 14:35:01.130000 ['ftse', 'funds', 'vanguard', 'etf', 'bonds', 'developed markets', 'facebook', 'vti', 'personal finance', 'at&t', 'general electric', 'apple', 'us', 'johnson & johnson', 'google', 'intel', 'microsoft', 'verizon', 'emerging markets', 'index'] moderator tool passed VasiliiUshakov\n",
      "BEFORE: validated\n",
      "AFTER: graphicone_search 2020-02-18 14:35:01.214000 ['us', 'new york', 'venture'] moderator tool passed VasiliiUshakov\n",
      "BEFORE: validated\n",
      "AFTER: graphicone_search 2020-02-18 14:35:01.299000 ['insurance', 'venture'] moderator tool passed VasiliiUshakov\n",
      "BEFORE: validated\n"
     ]
    },
    {
     "name": "stderr",
     "output_type": "stream",
     "text": [
      "\n",
      "\n",
      "\n",
      "\n",
      "\n",
      "\n",
      "\n",
      " 65%|██████▌   | 1729/2650 [00:56<01:12, 12.74it/s]\u001b[A\u001b[A\u001b[A\u001b[A\u001b[A\u001b[A\u001b[A\n",
      "\n",
      "\n",
      "\n",
      "\n",
      "\n",
      "\n",
      " 65%|██████▌   | 1731/2650 [00:56<01:13, 12.47it/s]\u001b[A\u001b[A\u001b[A\u001b[A\u001b[A\u001b[A\u001b[A"
     ]
    },
    {
     "name": "stdout",
     "output_type": "stream",
     "text": [
      "AFTER: graphicone_search 2020-02-18 14:35:01.383000 ['hbo', 'facebook', 'twitter', 'advertising', 'youtube', 'netflix', 'internet'] moderator tool passed VasiliiUshakov\n",
      "BEFORE: validated\n",
      "AFTER: graphicone_search 2020-02-18 14:35:01.467000 ['gateway', 'asus', 'samsung', 'lenovo', 'microsoft', 'computers', 'acer', 'toshiba', 'apple', 'hp', 'dell'] moderator tool passed VasiliiUshakov\n",
      "BEFORE: validated\n",
      "AFTER: graphicone_search 2020-02-18 14:35:01.551000 ['financials', 'google', 'paypal', 'jpmorgan', 'us', 'bank of america', 'amazon', 'banking', 'apple', 'wells fargo', 'technology', 'citigroup'] moderator tool passed VasiliiUshakov\n",
      "BEFORE: validated\n"
     ]
    },
    {
     "name": "stderr",
     "output_type": "stream",
     "text": [
      "\n",
      "\n",
      "\n",
      "\n",
      "\n",
      "\n",
      "\n",
      " 65%|██████▌   | 1733/2650 [00:56<01:14, 12.28it/s]\u001b[A\u001b[A\u001b[A\u001b[A\u001b[A\u001b[A\u001b[A"
     ]
    },
    {
     "name": "stdout",
     "output_type": "stream",
     "text": [
      "AFTER: graphicone_search 2020-02-18 14:35:01.636000 ['japan', 'germany', 'austria', 'france', 'denmark', 'canada', 'personal finance', 'global', 'finland', 'e-commerce', 'sweden', 'norway', 'switzerland', 'hong kong', 'us', 'australia', 'internet', 'spain', 'uk', 'singapore', 'israel', 'south korea', 'netherlands', 'ireland'] moderator tool passed VasiliiUshakov\n",
      "BEFORE: validated\n",
      "AFTER: graphicone_search 2020-02-18 14:35:01.720000 ['foreign investment', 'goldman sachs', 'india', 'china', 'emerging markets', 'russia', 'funds', 'brazil'] moderator tool passed VasiliiUshakov\n",
      "BEFORE: validated\n",
      "AFTER: graphicone_search 2020-02-18 14:35:01.805000 ['google', 'paypal', 'smartphone', 'cash', 'digital', 'mobile payments', 'payments', 'cashless', 'app', 'clearxchange', 'popmoney', 'western union', 'apple', 'credit card', 'mobile'] moderator tool passed VasiliiUshakov\n",
      "BEFORE: validated\n"
     ]
    },
    {
     "name": "stderr",
     "output_type": "stream",
     "text": [
      "\n",
      "\n",
      "\n",
      "\n",
      "\n",
      "\n",
      "\n",
      " 65%|██████▌   | 1735/2650 [00:56<01:15, 12.15it/s]\u001b[A\u001b[A\u001b[A\u001b[A\u001b[A\u001b[A\u001b[A\n",
      "\n",
      "\n",
      "\n",
      "\n",
      "\n",
      "\n",
      " 66%|██████▌   | 1737/2650 [00:56<01:15, 12.05it/s]\u001b[A\u001b[A\u001b[A\u001b[A\u001b[A\u001b[A\u001b[A"
     ]
    },
    {
     "name": "stdout",
     "output_type": "stream",
     "text": [
      "AFTER: graphicone_search 2020-02-18 14:35:01.888000 ['advertising', 'us', 'financials', 'digital'] moderator tool passed VasiliiUshakov\n",
      "BEFORE: validated\n",
      "AFTER: graphicone_search 2020-02-18 14:35:01.973000 ['electricity', 'google', 'kaiser', 'wind power', 'facebook', 'sprint', 'clean energy', 'walmart', 'microsoft', 'solar energy', 'renewables', 'amazon', 'energy', 'apple', 'target', 'mars'] moderator tool passed VasiliiUshakov\n",
      "BEFORE: validated\n",
      "AFTER: graphicone_search 2020-02-18 14:35:02.057000 ['automotive', 'environment', 'volkswagen', 'emissions'] moderator tool passed VasiliiUshakov\n",
      "BEFORE: validated\n"
     ]
    },
    {
     "name": "stderr",
     "output_type": "stream",
     "text": [
      "\n",
      "\n",
      "\n",
      "\n",
      "\n",
      "\n",
      "\n",
      " 66%|██████▌   | 1739/2650 [00:57<01:15, 11.99it/s]\u001b[A\u001b[A\u001b[A\u001b[A\u001b[A\u001b[A\u001b[A"
     ]
    },
    {
     "name": "stdout",
     "output_type": "stream",
     "text": [
      "AFTER: graphicone_search 2020-02-18 14:35:02.142000 ['czech republic', 'south africa', 'asia', 'mexico', 'taiwan', 'brazil', 'middle east', 'poland', 'eu', 'india', 'latin america', 'china', 'turkey', 'hungary', 'africa', 'thailand', 'export', 'chile', 'philippines', 'trade', 'commodities', 'israel', 'malaysia', 'south korea', 'russia', 'emerging markets'] moderator tool passed VasiliiUshakov\n",
      "BEFORE: validated\n",
      "AFTER: graphicone_search 2020-02-18 14:35:02.226000 ['opel', 'mercedes benz', 'citroen', 'ford', 'automotive', 'renault', 'diesel', 'fiat', 'audi', 'volkswagen', 'peugeot', 'bmw'] moderator tool passed VasiliiUshakov\n",
      "BEFORE: validated\n",
      "AFTER: graphicone_search 2020-02-18 14:35:02.311000 ['eu', 'uk', 'billionaires', 'wealth'] moderator tool passed VasiliiUshakov\n",
      "BEFORE: validated\n"
     ]
    },
    {
     "name": "stderr",
     "output_type": "stream",
     "text": [
      "\n",
      "\n",
      "\n",
      "\n",
      "\n",
      "\n",
      "\n",
      " 66%|██████▌   | 1741/2650 [00:57<01:16, 11.95it/s]\u001b[A\u001b[A\u001b[A\u001b[A\u001b[A\u001b[A\u001b[A\n",
      "\n",
      "\n",
      "\n",
      "\n",
      "\n",
      "\n",
      " 66%|██████▌   | 1743/2650 [00:57<01:16, 11.92it/s]\u001b[A\u001b[A\u001b[A\u001b[A\u001b[A\u001b[A\u001b[A"
     ]
    },
    {
     "name": "stdout",
     "output_type": "stream",
     "text": [
      "AFTER: graphicone_search 2020-02-18 14:35:02.395000 ['e-commerce', 'snapdeal', 'india', 'flipkart', 'amazon', 'ebay', 'internet', 'jabong'] moderator tool passed VasiliiUshakov\n",
      "BEFORE: validated\n",
      "AFTER: graphicone_search 2020-02-18 14:35:02.480000 ['facebook', 'twitter', 'us', 'internet', 'social media'] moderator tool passed VasiliiUshakov\n",
      "BEFORE: validated\n",
      "AFTER: graphicone_search 2020-02-18 14:35:02.564000 ['google', 'instagram', 'facebook', 'teens', 'twitter', 'pinterest', 'us', 'snap', 'internet', 'tumblr', 'social media'] moderator tool passed VasiliiUshakov\n",
      "BEFORE: validated\n"
     ]
    },
    {
     "name": "stderr",
     "output_type": "stream",
     "text": [
      "\n",
      "\n",
      "\n",
      "\n",
      "\n",
      "\n",
      "\n",
      " 66%|██████▌   | 1745/2650 [00:57<01:15, 11.91it/s]\u001b[A\u001b[A\u001b[A\u001b[A\u001b[A\u001b[A\u001b[A"
     ]
    },
    {
     "name": "stdout",
     "output_type": "stream",
     "text": [
      "AFTER: graphicone_search 2020-02-18 14:35:02.648000 ['telecom', 'tv', 'comcast'] moderator tool passed VasiliiUshakov\n",
      "BEFORE: validated\n",
      "AFTER: graphicone_search 2020-02-18 14:35:02.732000 ['smartphone', 'china', 'computers', 'iphone', 'americas', 'apple', 'technology'] moderator tool passed VasiliiUshakov\n",
      "BEFORE: validated\n",
      "AFTER: graphicone_search 2020-02-18 14:35:02.817000 ['technology', 'apple'] moderator tool passed VasiliiUshakov\n",
      "BEFORE: validated\n"
     ]
    },
    {
     "name": "stderr",
     "output_type": "stream",
     "text": [
      "\n",
      "\n",
      "\n",
      "\n",
      "\n",
      "\n",
      "\n",
      " 66%|██████▌   | 1747/2650 [00:57<01:15, 11.91it/s]\u001b[A\u001b[A\u001b[A\u001b[A\u001b[A\u001b[A\u001b[A\n",
      "\n",
      "\n",
      "\n",
      "\n",
      "\n",
      "\n",
      " 66%|██████▌   | 1750/2650 [00:57<01:08, 13.21it/s]\u001b[A\u001b[A\u001b[A\u001b[A\u001b[A\u001b[A\u001b[A"
     ]
    },
    {
     "name": "stdout",
     "output_type": "stream",
     "text": [
      "AFTER: graphicone_search 2020-02-18 14:35:02.900000 ['starbucks', 'smartphone', 'chipotle mexican grill', 'coffee', 'retail', 'chick-fil-a', 'commodities', 'app', 'restaurants', \"mcdonald's\", 'subway', 'taco bell', 'dunkin donuts', 'mobile'] moderator tool passed VasiliiUshakov\n",
      "BEFORE: validated\n",
      "AFTER: graphicone_search 2020-02-18 14:35:02.985000 ['e-commerce', 'japan', 'uk', 'germany', 'china', 'us', 'france'] moderator tool passed VasiliiUshakov\n",
      "BEFORE: validated\n",
      "AFTER: graphicone_search 2020-02-18 14:35:03.069000 ['surveymonkey', 'cloud', 'pluralsight', 'good technology', 'atlassian', 'docusign', 'domo', 'pure storage', 'cloudera', 'mulesoft', 'qualtrics', 'evernote', 'actifio', 'lookout', 'insidesales.com', 'nutanix', 'appdynamics', 'cloudflare', 'marklogic', 'jasper', 'appnexus', 'twilio', 'stripe', 'dropbox', 'eventbrite', 'slack', 'sprinklr', 'zenefits', 'internet', 'technology'] moderator tool passed VasiliiUshakov\n",
      "BEFORE: validated\n"
     ]
    },
    {
     "name": "stderr",
     "output_type": "stream",
     "text": [
      "\n",
      "\n",
      "\n",
      "\n",
      "\n",
      "\n",
      "\n",
      " 66%|██████▌   | 1752/2650 [00:58<01:10, 12.78it/s]\u001b[A\u001b[A\u001b[A\u001b[A\u001b[A\u001b[A\u001b[A"
     ]
    },
    {
     "name": "stdout",
     "output_type": "stream",
     "text": [
      "AFTER: graphicone_search 2020-02-18 14:35:03.154000 ['pinterest', 'tumblr', 'social media', 'facebook', 'viber', 'twitter', 'snap', 'vine', 'instagram', 'us', 'internet', 'google', 'reddit', 'teens', 'whatsapp', 'uk', 'app', 'youtube', 'ello'] moderator tool passed VasiliiUshakov\n",
      "BEFORE: validated\n",
      "AFTER: graphicone_search 2020-02-18 14:35:03.237000 ['starbucks', 'us', 'mobile payments', 'cashless'] moderator tool passed VasiliiUshakov\n",
      "BEFORE: validated\n",
      "AFTER: graphicone_search 2020-02-18 14:35:03.322000 ['microsoft', 'us', 'ibm', 'apple', 'technology'] moderator tool passed VasiliiUshakov\n",
      "BEFORE: validated\n"
     ]
    },
    {
     "name": "stderr",
     "output_type": "stream",
     "text": [
      "\n",
      "\n",
      "\n",
      "\n",
      "\n",
      "\n",
      "\n",
      " 66%|██████▌   | 1754/2650 [00:58<01:11, 12.50it/s]\u001b[A\u001b[A\u001b[A\u001b[A\u001b[A\u001b[A\u001b[A\n",
      "\n",
      "\n",
      "\n",
      "\n",
      "\n",
      "\n",
      " 66%|██████▋   | 1756/2650 [00:58<01:12, 12.30it/s]\u001b[A\u001b[A\u001b[A\u001b[A\u001b[A\u001b[A\u001b[A"
     ]
    },
    {
     "name": "stdout",
     "output_type": "stream",
     "text": [
      "AFTER: graphicone_search 2020-02-18 14:35:03.406000 ['google', 'cash', 'twitter', 'intel', 'venture', 'qualcomm', 'technology'] moderator tool passed VasiliiUshakov\n",
      "BEFORE: validated\n",
      "AFTER: graphicone_search 2020-02-18 14:35:03.491000 ['deutsche bank', 'jpmorgan', 'bnp paribas', 'banking', 'global', 'standard chartered', 'hsbc', 'citigroup'] moderator tool passed VasiliiUshakov\n",
      "BEFORE: validated\n",
      "AFTER: graphicone_search 2020-02-18 14:35:03.574000 ['mercedes benz', 'ev', 'ford', 'cadillac', 'automotive', 'us', 'fiat', 'chevrolet', 'volkswagen', 'nissan', 'tesla', 'bmw', 'consumer'] moderator tool passed VasiliiUshakov\n",
      "BEFORE: validated\n"
     ]
    },
    {
     "name": "stderr",
     "output_type": "stream",
     "text": [
      "\n",
      "\n",
      "\n",
      "\n",
      "\n",
      "\n",
      "\n",
      " 66%|██████▋   | 1758/2650 [00:58<01:13, 12.18it/s]\u001b[A\u001b[A\u001b[A\u001b[A\u001b[A\u001b[A\u001b[A"
     ]
    },
    {
     "name": "stdout",
     "output_type": "stream",
     "text": [
      "AFTER: graphicone_search 2020-02-18 14:35:03.659000 ['smartwatch', 'smartphone', 'tv', 'smart device', 'computers', 'tablet', 'consumer', 'gadgets', 'gaming'] moderator tool passed VasiliiUshakov\n",
      "BEFORE: validated\n",
      "AFTER: graphicone_search 2020-02-18 14:35:03.742000 ['morrisons', 'aldi', 'asda', 'waltrose', 'uk', 'consumer staples', 'lidl', 'tesco', 'the co-operative group', \"sainsbury's\", 'retail'] moderator tool passed VasiliiUshakov\n",
      "BEFORE: validated\n",
      "AFTER: graphicone_search 2020-02-18 14:35:03.827000 ['jpmorgan', 'uk', 'rbs', 'currency', 'switzerland', 'us', 'bank of america', 'banking', 'legal', 'hsbc', 'ubs', 'citigroup'] moderator tool passed VasiliiUshakov\n",
      "BEFORE: validated\n"
     ]
    },
    {
     "name": "stderr",
     "output_type": "stream",
     "text": [
      "\n",
      "\n",
      "\n",
      "\n",
      "\n",
      "\n",
      "\n",
      " 66%|██████▋   | 1760/2650 [00:58<01:13, 12.06it/s]\u001b[A\u001b[A\u001b[A\u001b[A\u001b[A\u001b[A\u001b[A\n",
      "\n",
      "\n",
      "\n",
      "\n",
      "\n",
      "\n",
      " 66%|██████▋   | 1762/2650 [00:58<01:14, 12.00it/s]\u001b[A\u001b[A\u001b[A\u001b[A\u001b[A\u001b[A\u001b[A"
     ]
    },
    {
     "name": "stdout",
     "output_type": "stream",
     "text": [
      "AFTER: graphicone_search 2020-02-18 14:35:03.911000 ['employment', 'goldman sachs', 'banking', 'education', 'financials'] moderator tool passed VasiliiUshakov\n",
      "BEFORE: validated\n",
      "AFTER: graphicone_search 2020-02-18 14:35:03.997000 ['oil', 'energy', 'commodities'] moderator tool passed VasiliiUshakov\n",
      "BEFORE: validated\n",
      "AFTER: graphicone_search 2020-02-18 14:35:04.080000 ['iphone', 'consumer', 'smartphone', 'apple'] moderator tool passed VasiliiUshakov\n",
      "BEFORE: validated\n"
     ]
    },
    {
     "name": "stderr",
     "output_type": "stream",
     "text": [
      "\n",
      "\n",
      "\n",
      "\n",
      "\n",
      "\n",
      "\n",
      " 67%|██████▋   | 1764/2650 [00:59<01:14, 11.96it/s]\u001b[A\u001b[A\u001b[A\u001b[A\u001b[A\u001b[A\u001b[A"
     ]
    },
    {
     "name": "stdout",
     "output_type": "stream",
     "text": [
      "AFTER: graphicone_search 2020-02-18 14:35:04.165000 ['smartphone', 'iphone', 'us', 'apple', 'consumer'] moderator tool passed VasiliiUshakov\n",
      "BEFORE: validated\n",
      "AFTER: graphicone_search 2020-02-18 14:35:04.249000 ['generations', 'cyber security', 'internet'] moderator tool passed VasiliiUshakov\n",
      "BEFORE: validated\n",
      "AFTER: graphicone_search 2020-02-18 14:35:04.334000 ['facebook', 'alibaba', 'deutsche telekom', 'kraft foods', 'us', 'ipo'] moderator tool passed VasiliiUshakov\n",
      "BEFORE: validated\n"
     ]
    },
    {
     "name": "stderr",
     "output_type": "stream",
     "text": [
      "\n",
      "\n",
      "\n",
      "\n",
      "\n",
      "\n",
      "\n",
      " 67%|██████▋   | 1767/2650 [00:59<01:06, 13.27it/s]\u001b[A\u001b[A\u001b[A\u001b[A\u001b[A\u001b[A\u001b[A\n",
      "\n",
      "\n",
      "\n",
      "\n",
      "\n",
      "\n",
      " 67%|██████▋   | 1769/2650 [00:59<01:08, 12.82it/s]\u001b[A\u001b[A\u001b[A\u001b[A\u001b[A\u001b[A\u001b[A"
     ]
    },
    {
     "name": "stdout",
     "output_type": "stream",
     "text": [
      "AFTER: graphicone_search 2020-02-18 14:35:04.417000 ['samsung', 'smart device', 'lg', 'nokia', 'manufacturing', 'sony', 'apple'] moderator tool passed VasiliiUshakov\n",
      "BEFORE: validated\n",
      "AFTER: graphicone_search 2020-02-18 14:35:04.502000 ['airbnb', 'square', 'pinterest', 'dropbox', 'uber', 'startups'] moderator tool passed VasiliiUshakov\n",
      "BEFORE: validated\n",
      "AFTER: graphicone_search 2020-02-18 14:35:04.586000 ['barclays', 'goldman sachs', 'deutsche bank', 'credit suisse', 'jpmorgan', 'morgan stanley', 'lazard', 'bank of america', 'm&a', 'banking', 'ubs', 'citigroup'] moderator tool passed VasiliiUshakov\n",
      "BEFORE: validated\n"
     ]
    },
    {
     "name": "stderr",
     "output_type": "stream",
     "text": [
      "\n",
      "\n",
      "\n",
      "\n",
      "\n",
      "\n",
      "\n",
      " 67%|██████▋   | 1771/2650 [00:59<01:10, 12.52it/s]\u001b[A\u001b[A\u001b[A\u001b[A\u001b[A\u001b[A\u001b[A"
     ]
    },
    {
     "name": "stdout",
     "output_type": "stream",
     "text": [
      "AFTER: graphicone_search 2020-02-18 14:35:04.671000 ['google', 'chevron', 'alibaba', 'china', 'us', 'general electric', 'apple', 'ipo', 'wells fargo', 'johnson & johnson'] moderator tool passed VasiliiUshakov\n",
      "BEFORE: validated\n",
      "AFTER: graphicone_search 2020-02-18 14:35:04.754000 ['google', 'facebook', 'amazon', 'linkedin', 'ebay', 'ipo', 'yahoo'] moderator tool passed VasiliiUshakov\n",
      "BEFORE: validated\n",
      "AFTER: graphicone_search 2020-02-18 14:35:04.839000 ['smartphone', 'facebook', 'advertising', 'payments', 'mobile'] moderator tool passed VasiliiUshakov\n",
      "BEFORE: validated\n"
     ]
    },
    {
     "name": "stderr",
     "output_type": "stream",
     "text": [
      "\n",
      "\n",
      "\n",
      "\n",
      "\n",
      "\n",
      "\n",
      " 67%|██████▋   | 1773/2650 [00:59<01:11, 12.33it/s]\u001b[A\u001b[A\u001b[A\u001b[A\u001b[A\u001b[A\u001b[A\n",
      "\n",
      "\n",
      "\n",
      "\n",
      "\n",
      "\n",
      " 67%|██████▋   | 1776/2650 [00:59<01:04, 13.59it/s]\u001b[A\u001b[A\u001b[A\u001b[A\u001b[A\u001b[A\u001b[A"
     ]
    },
    {
     "name": "stdout",
     "output_type": "stream",
     "text": [
      "AFTER: graphicone_search 2020-02-18 14:35:04.922000 ['e-commerce', 'smartphone', 'android', 'computers', 'iphone', 'tablet', 'apple', 'ipad', 'shopping'] moderator tool passed VasiliiUshakov\n",
      "BEFORE: validated\n",
      "AFTER: graphicone_search 2020-02-18 14:35:05.007000 ['medicine', 'entertainment', 'facebook', 'sports', 'technology', 'science', 'crimes', 'government', 'health', 'politics', 'transportation', 'climate change', 'social media'] moderator tool passed VasiliiUshakov\n",
      "BEFORE: validated\n",
      "AFTER: graphicone_search 2020-02-18 14:35:05.091000 ['google', 'advertising', 'walmart', 'at&t', 'expedia', 'microsoft', 'iac', 'us', 'amazon', 'experian', 'apollo education group', 'sears'] moderator tool passed VasiliiUshakov\n",
      "BEFORE: validated\n"
     ]
    },
    {
     "name": "stderr",
     "output_type": "stream",
     "text": [
      "\n",
      "\n",
      "\n",
      "\n",
      "\n",
      "\n",
      "\n",
      " 67%|██████▋   | 1778/2650 [01:00<01:06, 13.02it/s]\u001b[A\u001b[A\u001b[A\u001b[A\u001b[A\u001b[A\u001b[A"
     ]
    },
    {
     "name": "stdout",
     "output_type": "stream",
     "text": [
      "AFTER: graphicone_search 2020-02-18 14:35:05.175000 ['burger king', \"mcdonald's\", 'restaurants'] moderator tool passed VasiliiUshakov\n",
      "BEFORE: validated\n",
      "AFTER: graphicone_search 2020-02-18 14:35:05.259000 ['google', 'asus', 'samsung', 'microsoft', 'barnes & noble', 'acer', 'amazon', 'tablet', 'ipad', 'north america'] moderator tool passed VasiliiUshakov\n",
      "BEFORE: validated\n",
      "AFTER: graphicone_search 2020-02-18 14:35:05.344000 ['google', 'mobile gaming', 'gaming'] moderator tool passed VasiliiUshakov\n",
      "BEFORE: validated\n"
     ]
    },
    {
     "name": "stderr",
     "output_type": "stream",
     "text": [
      "\n",
      "\n",
      "\n",
      "\n",
      "\n",
      "\n",
      "\n",
      " 67%|██████▋   | 1780/2650 [01:00<01:08, 12.65it/s]\u001b[A\u001b[A\u001b[A\u001b[A\u001b[A\u001b[A\u001b[A\n",
      "\n",
      "\n",
      "\n",
      "\n",
      "\n",
      "\n",
      " 67%|██████▋   | 1782/2650 [01:00<01:09, 12.41it/s]\u001b[A\u001b[A\u001b[A\u001b[A\u001b[A\u001b[A\u001b[A"
     ]
    },
    {
     "name": "stdout",
     "output_type": "stream",
     "text": [
      "AFTER: graphicone_search 2020-02-18 14:35:05.428000 ['symantec', 'microsoft', 'ca technologies', 'sap', 'vmware', 'ibm', 'software', 'global', 'emc', 'hp', 'oracle'] moderator tool passed VasiliiUshakov\n",
      "BEFORE: validated\n",
      "AFTER: graphicone_search 2020-02-18 14:35:05.512000 ['smart device', 'microsoft'] moderator tool passed VasiliiUshakov\n",
      "BEFORE: validated\n",
      "AFTER: graphicone_search 2020-02-18 14:35:05.596000 ['entertainment', 'books', 'music', 'app', 'apple', 'education', 'social media', 'gaming'] moderator tool passed VasiliiUshakov\n",
      "BEFORE: validated\n"
     ]
    },
    {
     "name": "stderr",
     "output_type": "stream",
     "text": [
      "\n",
      "\n",
      "\n",
      "\n",
      "\n",
      "\n",
      "\n",
      " 67%|██████▋   | 1784/2650 [01:00<01:10, 12.24it/s]\u001b[A\u001b[A\u001b[A\u001b[A\u001b[A\u001b[A\u001b[A"
     ]
    },
    {
     "name": "stdout",
     "output_type": "stream",
     "text": [
      "AFTER: graphicone_search 2020-02-18 14:35:05.681000 ['dividends', 'australia', 'bonds', 'index', 's&p'] moderator tool passed VasiliiUshakov\n",
      "BEFORE: validated\n",
      "AFTER: graphicone_search 2020-02-18 14:35:05.765000 ['deckers brands', 'the realreal', 'limited brands', 'burlington', 'ardmore shipping corporation', 'wells fargo'] moderator tool passed VasiliiUshakov\n",
      "BEFORE: validated\n",
      "AFTER: graphicone_search 2020-02-18 14:35:05.849000 ['labor'] moderator tool passed VasiliiUshakov\n",
      "BEFORE: validated\n"
     ]
    },
    {
     "name": "stderr",
     "output_type": "stream",
     "text": [
      "\n",
      "\n",
      "\n",
      "\n",
      "\n",
      "\n",
      "\n",
      " 67%|██████▋   | 1787/2650 [01:00<01:03, 13.51it/s]\u001b[A\u001b[A\u001b[A\u001b[A\u001b[A\u001b[A\u001b[A\n",
      "\n",
      "\n",
      "\n",
      "\n",
      "\n",
      "\n",
      " 68%|██████▊   | 1789/2650 [01:00<01:06, 12.97it/s]\u001b[A\u001b[A\u001b[A\u001b[A\u001b[A\u001b[A\u001b[A"
     ]
    },
    {
     "name": "stdout",
     "output_type": "stream",
     "text": [
      "AFTER: graphicone_search 2020-02-18 14:35:05.933000 ['household', 'us', 'funds', 'personal finance'] moderator tool passed VasiliiUshakov\n",
      "BEFORE: validated\n",
      "AFTER: graphicone_search 2020-02-18 14:35:06.018000 ['starz', 'hbo', 'fox', 'tv', 'telecom', 'showtime', 'nbc', 'cbs', 'cinemax', 'amc', 'disney', 'abc', 'media', 'tbs'] moderator tool passed VasiliiUshakov\n",
      "BEFORE: validated\n",
      "AFTER: graphicone_search 2020-02-18 14:35:06.102000 ['boeing', 'debt'] moderator tool passed VasiliiUshakov\n",
      "BEFORE: validated\n"
     ]
    },
    {
     "name": "stderr",
     "output_type": "stream",
     "text": [
      "\n",
      "\n",
      "\n",
      "\n",
      "\n",
      "\n",
      "\n",
      " 68%|██████▊   | 1791/2650 [01:01<01:08, 12.62it/s]\u001b[A\u001b[A\u001b[A\u001b[A\u001b[A\u001b[A\u001b[A"
     ]
    },
    {
     "name": "stdout",
     "output_type": "stream",
     "text": [
      "AFTER: graphicone_search 2020-02-18 14:35:06.186000 ['cryptocurrency', 'ethereum'] moderator tool passed VasiliiUshakov\n",
      "BEFORE: validated\n",
      "AFTER: graphicone_search 2020-02-18 14:35:06.270000 ['bull market', 'wall street', 'alphabet'] moderator tool passed VasiliiUshakov\n",
      "BEFORE: validated\n",
      "AFTER: graphicone_search 2020-02-18 14:35:06.354000 ['macro', 'inflation', 'cpi', 'consumer', 'index'] moderator tool passed VasiliiUshakov\n",
      "BEFORE: validated\n"
     ]
    },
    {
     "name": "stderr",
     "output_type": "stream",
     "text": [
      "\n",
      "\n",
      "\n",
      "\n",
      "\n",
      "\n",
      "\n",
      " 68%|██████▊   | 1793/2650 [01:01<01:09, 12.40it/s]\u001b[A\u001b[A\u001b[A\u001b[A\u001b[A\u001b[A\u001b[A\n",
      "\n",
      "\n",
      "\n",
      "\n",
      "\n",
      "\n",
      " 68%|██████▊   | 1796/2650 [01:01<01:02, 13.64it/s]\u001b[A\u001b[A\u001b[A\u001b[A\u001b[A\u001b[A\u001b[A"
     ]
    },
    {
     "name": "stdout",
     "output_type": "stream",
     "text": [
      "AFTER: graphicone_search 2020-02-18 14:35:06.438000 ['us', 'tesla', 'ev'] moderator tool passed VasiliiUshakov\n",
      "BEFORE: validated\n",
      "AFTER: graphicone_search 2020-02-18 14:35:06.523000 ['legal', 'goldman sachs'] moderator tool passed VasiliiUshakov\n",
      "BEFORE: validated\n",
      "AFTER: graphicone_search 2020-02-18 14:35:06.606000 ['employment', 'goldman sachs', 'jpmorgan', 'morgan stanley', 'us', 'bank of america', 'banking', 'wells fargo', 'citigroup'] moderator tool passed VasiliiUshakov\n",
      "BEFORE: validated\n"
     ]
    },
    {
     "name": "stderr",
     "output_type": "stream",
     "text": [
      "\n",
      "\n",
      "\n",
      "\n",
      "\n",
      "\n",
      "\n",
      " 68%|██████▊   | 1798/2650 [01:01<01:05, 13.06it/s]\u001b[A\u001b[A\u001b[A\u001b[A\u001b[A\u001b[A\u001b[A"
     ]
    },
    {
     "name": "stdout",
     "output_type": "stream",
     "text": [
      "AFTER: graphicone_search 2020-02-18 14:35:06.691000 ['large caps', 'index', 's&p'] moderator tool passed VasiliiUshakov\n",
      "BEFORE: validated\n",
      "AFTER: graphicone_search 2020-02-18 14:35:06.775000 ['eu', 'asia', 'venture', 'global', 'north america'] moderator tool passed VasiliiUshakov\n",
      "BEFORE: validated\n",
      "AFTER: graphicone_search 2020-02-18 14:35:06.860000 ['startups', 'venture'] moderator tool passed VasiliiUshakov\n",
      "BEFORE: validated\n"
     ]
    },
    {
     "name": "stderr",
     "output_type": "stream",
     "text": [
      "\n",
      "\n",
      "\n",
      "\n",
      "\n",
      "\n",
      "\n",
      " 68%|██████▊   | 1800/2650 [01:01<01:07, 12.68it/s]\u001b[A\u001b[A\u001b[A\u001b[A\u001b[A\u001b[A\u001b[A\n",
      "\n",
      "\n",
      "\n",
      "\n",
      "\n",
      "\n",
      " 68%|██████▊   | 1802/2650 [01:01<01:08, 12.42it/s]\u001b[A\u001b[A\u001b[A\u001b[A\u001b[A\u001b[A\u001b[A"
     ]
    },
    {
     "name": "stdout",
     "output_type": "stream",
     "text": [
      "AFTER: graphicone_search 2020-02-18 14:35:06.943000 ['silver', 'metals & mining', 'commodities'] moderator tool passed VasiliiUshakov\n",
      "BEFORE: validated\n",
      "AFTER: graphicone_search 2020-02-18 14:35:07.028000 ['ipo', 'us', 'bubble', 'technology'] moderator tool passed VasiliiUshakov\n",
      "BEFORE: validated\n",
      "AFTER: graphicone_search 2020-02-18 14:35:07.111000 ['japan', 'terrorism', 'bull market', 'ecb', 'syria', 'inflation', 'quantitative easing', 'france', 'scotland', 'greece', 'brazil', 'paris', 'msci', 'middle east', 'north korea', 'eu', 'oil', 'china', 'health', 'bankruptcy', 'interest rates', 'global', 'fed', 'credit', 'geopolitics', 'imf', 'africa', 'ukraine', 'disasters', 'default', 'tariffs', 'deflation', 'us', 'politics', 'government', 'spain', 'diseases', 'barcelona', 'sentiment', 'trade war', 'uk', 'crisis', 'italy', 'government debt', 'commodities', 'general motors', 'israel', 'russia', 'index', 'monetary policy', 'military'] moderator tool passed VasiliiUshakov\n",
      "BEFORE: validated\n"
     ]
    },
    {
     "name": "stderr",
     "output_type": "stream",
     "text": [
      "\n",
      "\n",
      "\n",
      "\n",
      "\n",
      "\n",
      "\n",
      " 68%|██████▊   | 1804/2650 [01:02<01:09, 12.24it/s]\u001b[A\u001b[A\u001b[A\u001b[A\u001b[A\u001b[A\u001b[A"
     ]
    },
    {
     "name": "stdout",
     "output_type": "stream",
     "text": [
      "AFTER: graphicone_search 2020-02-18 14:35:07.197000 ['lionsgate', 'amc', 'media', 'streaming', 'metro-goldwyn-mayer', 'comcast', 'entertainment', 'facebook', 'fox', 'at&t', 'apple', 'film industry', 'sony pictures', 'disney', 'google', 'telecom', 'viacomcbs', 'amazon', 'netflix'] moderator tool passed VasiliiUshakov\n",
      "BEFORE: validated\n",
      "AFTER: graphicone_search 2020-02-18 14:35:07.280000 ['sap', 'citrix', 'teradata', 'sabre', 'cloudera', 'vmware', 'oracle', 'adobe', 'dropbox', 'zoom', 'internet', 'autodesk', 'technology', 'microsoft', 'salesforce', 'splunk', 'software', 'workday inc.', 'servicenow'] moderator tool passed VasiliiUshakov\n",
      "BEFORE: validated\n",
      "AFTER: graphicone_search 2020-02-18 14:35:07.365000 ['ford', 'automotive', 'general motors', 'us', 'fiat', 'tesla'] moderator tool passed VasiliiUshakov\n",
      "BEFORE: validated\n"
     ]
    },
    {
     "name": "stderr",
     "output_type": "stream",
     "text": [
      "\n",
      "\n",
      "\n",
      "\n",
      "\n",
      "\n",
      "\n",
      " 68%|██████▊   | 1806/2650 [01:02<01:09, 12.13it/s]\u001b[A\u001b[A\u001b[A\u001b[A\u001b[A\u001b[A\u001b[A\n",
      "\n",
      "\n",
      "\n",
      "\n",
      "\n",
      "\n",
      " 68%|██████▊   | 1808/2650 [01:02<01:09, 12.04it/s]\u001b[A\u001b[A\u001b[A\u001b[A\u001b[A\u001b[A\u001b[A"
     ]
    },
    {
     "name": "stdout",
     "output_type": "stream",
     "text": [
      "AFTER: graphicone_search 2020-02-18 14:35:07.449000 ['tesla', 'vehicles', 'automotive', 'ev'] moderator tool passed VasiliiUshakov\n",
      "BEFORE: validated\n",
      "AFTER: graphicone_search 2020-02-18 14:35:07.534000 ['labor', 'rolls royce'] moderator tool passed VasiliiUshakov\n",
      "BEFORE: validated\n",
      "AFTER: graphicone_search 2020-02-18 14:35:07.618000 ['financials', 'us', 'computers'] moderator tool passed VasiliiUshakov\n",
      "BEFORE: validated\n"
     ]
    },
    {
     "name": "stderr",
     "output_type": "stream",
     "text": [
      "\n",
      "\n",
      "\n",
      "\n",
      "\n",
      "\n",
      "\n",
      " 68%|██████▊   | 1810/2650 [01:02<01:10, 11.99it/s]\u001b[A\u001b[A\u001b[A\u001b[A\u001b[A\u001b[A\u001b[A"
     ]
    },
    {
     "name": "stdout",
     "output_type": "stream",
     "text": [
      "AFTER: graphicone_search 2020-02-18 14:35:07.703000 ['medicine', 'us', 'florida', 'cannabis'] moderator tool passed VasiliiUshakov\n",
      "BEFORE: validated\n",
      "AFTER: graphicone_search 2020-02-18 14:35:07.787000 ['metals & mining', 'russia', 'commodities', 'gold'] moderator tool passed VasiliiUshakov\n",
      "BEFORE: validated\n",
      "AFTER: graphicone_search 2020-02-18 14:35:07.871000 ['social', 'labor', 'death', 'us'] moderator tool passed VasiliiUshakov\n",
      "BEFORE: validated\n"
     ]
    },
    {
     "name": "stderr",
     "output_type": "stream",
     "text": [
      "\n",
      "\n",
      "\n",
      "\n",
      "\n",
      "\n",
      "\n",
      " 68%|██████▊   | 1812/2650 [01:02<01:10, 11.96it/s]\u001b[A\u001b[A\u001b[A\u001b[A\u001b[A\u001b[A\u001b[A\n",
      "\n",
      "\n",
      "\n",
      "\n",
      "\n",
      "\n",
      " 68%|██████▊   | 1814/2650 [01:02<01:10, 11.91it/s]\u001b[A\u001b[A\u001b[A\u001b[A\u001b[A\u001b[A\u001b[A"
     ]
    },
    {
     "name": "stdout",
     "output_type": "stream",
     "text": [
      "AFTER: graphicone_search 2020-02-18 14:35:07.955000 ['macro', 'gdp', 'china', 'loan', 'debt'] moderator tool passed VasiliiUshakov\n",
      "BEFORE: validated\n",
      "AFTER: graphicone_search 2020-02-18 14:35:08.040000 ['japan', 'germany', 'belgium', 'indonesia', 'portugal', 'austria', 'france', 'taiwan', 'bonds', 'brazil', 'denmark', 'msci', 'fixed income', 'canada', 'korea', 'india', 'new zealand', 'china', 'interest rates', 'global', 'finland', 'sweden', 'government bonds', 'norway', 'thailand', 'dividends', 'switzerland', 'hong kong', 'us', 'australia', 'spain', 'uk', 'philippines', 'singapore', 'italy', 'israel', 'malaysia', 'russia', 'netherlands', 'index', 'ireland'] moderator tool passed VasiliiUshakov\n",
      "BEFORE: validated\n",
      "AFTER: graphicone_search 2020-02-18 14:35:08.124000 ['climate change', 'gdp', 'environment', 'emissions'] moderator tool passed VasiliiUshakov\n",
      "BEFORE: validated\n"
     ]
    },
    {
     "name": "stderr",
     "output_type": "stream",
     "text": [
      "\n",
      "\n",
      "\n",
      "\n",
      "\n",
      "\n",
      "\n",
      " 69%|██████▊   | 1818/2650 [01:03<00:59, 14.00it/s]\u001b[A\u001b[A\u001b[A\u001b[A\u001b[A\u001b[A\u001b[A"
     ]
    },
    {
     "name": "stdout",
     "output_type": "stream",
     "text": [
      "AFTER: graphicone_search 2020-02-18 14:35:08.209000 ['developed markets', 'fixed income', 'government bonds', 'high yield', 'real estate', 'commodities', 'us', 'emerging markets', 'bonds', 'index', 'reit'] moderator tool passed VasiliiUshakov\n",
      "BEFORE: validated\n",
      "AFTER: graphicone_search 2020-02-18 14:35:08.293000 ['recession'] moderator tool passed VasiliiUshakov\n",
      "BEFORE: validated\n",
      "AFTER: graphicone_search 2020-02-18 14:35:08.378000 ['kia', 'ev', 'ford', 'automotive', 'volkswagen', 'netherlands', 'tesla'] moderator tool passed VasiliiUshakov\n",
      "BEFORE: validated\n"
     ]
    },
    {
     "name": "stderr",
     "output_type": "stream",
     "text": [
      "\n",
      "\n",
      "\n",
      "\n",
      "\n",
      "\n",
      "\n",
      " 69%|██████▊   | 1820/2650 [01:03<01:02, 13.28it/s]\u001b[A\u001b[A\u001b[A\u001b[A\u001b[A\u001b[A\u001b[A\n",
      "\n",
      "\n",
      "\n",
      "\n",
      "\n",
      "\n",
      " 69%|██████▉   | 1823/2650 [01:03<00:57, 14.37it/s]\u001b[A\u001b[A\u001b[A\u001b[A\u001b[A\u001b[A\u001b[A"
     ]
    },
    {
     "name": "stdout",
     "output_type": "stream",
     "text": [
      "AFTER: graphicone_search 2020-02-18 14:35:08.461000 ['energy', 'diesel', 'fuel'] moderator tool passed VasiliiUshakov\n",
      "BEFORE: validated\n",
      "AFTER: graphicone_search 2020-02-18 14:35:08.547000 ['us', 'real estate'] moderator tool passed VasiliiUshakov\n",
      "BEFORE: validated\n",
      "AFTER: graphicone_search 2020-02-18 14:35:08.630000 ['lehman', 'household', 'bankruptcy', 'global', 'government', 'debt'] moderator tool passed VasiliiUshakov\n",
      "BEFORE: validated\n"
     ]
    },
    {
     "name": "stderr",
     "output_type": "stream",
     "text": [
      "\n",
      "\n",
      "\n",
      "\n",
      "\n",
      "\n",
      "\n",
      " 69%|██████▉   | 1825/2650 [01:03<01:00, 13.53it/s]\u001b[A\u001b[A\u001b[A\u001b[A\u001b[A\u001b[A\u001b[A"
     ]
    },
    {
     "name": "stdout",
     "output_type": "stream",
     "text": [
      "AFTER: graphicone_search 2020-02-18 14:35:08.715000 ['large caps', 'communications', 'index', 's&p'] moderator tool passed VasiliiUshakov\n",
      "BEFORE: validated\n",
      "AFTER: graphicone_search 2020-02-18 14:35:08.798000 ['health', 'gdp'] moderator tool passed VasiliiUshakov\n",
      "BEFORE: validated\n",
      "AFTER: graphicone_search 2020-02-18 14:35:08.883000 ['localglobe', 'target global', 'high-tech grunderfonds', 'global founders capital', 'picus capital', 'notion', 'parkwalk advisors', 'eu', 'speedinvest', 'bpifinance', 'earlybird venture capital', 'iq capital', 'balderton capital', 'idinvest partners', 'index ventures', 'project a ventures', 'northzone', 'downing ventures', 'venture', 'partech', 'creandum', 'btov partners', 'hv holtzbrinck ventures'] moderator tool passed VasiliiUshakov\n",
      "BEFORE: validated\n"
     ]
    },
    {
     "name": "stderr",
     "output_type": "stream",
     "text": [
      "\n",
      "\n",
      "\n",
      "\n",
      "\n",
      "\n",
      "\n",
      " 69%|██████▉   | 1827/2650 [01:03<01:03, 12.99it/s]\u001b[A\u001b[A\u001b[A\u001b[A\u001b[A\u001b[A\u001b[A\n",
      "\n",
      "\n",
      "\n",
      "\n",
      "\n",
      "\n",
      " 69%|██████▉   | 1829/2650 [01:03<01:04, 12.64it/s]\u001b[A\u001b[A\u001b[A\u001b[A\u001b[A\u001b[A\u001b[A"
     ]
    },
    {
     "name": "stdout",
     "output_type": "stream",
     "text": [
      "AFTER: graphicone_search 2020-02-18 14:35:08.967000 ['asia', 'china', 'commodities', 'trade', 'gas', 'energy'] moderator tool passed VasiliiUshakov\n",
      "BEFORE: validated\n",
      "AFTER: graphicone_search 2020-02-18 14:35:09.051000 ['electricity', 'clean energy', 'oil', 'commodities', 'gas', 'renewables', 'us', 'energy', 'nuclear power', 'coal'] moderator tool passed VasiliiUshakov\n",
      "BEFORE: validated\n",
      "AFTER: graphicone_search 2020-02-18 14:35:09.135000 ['emerging markets'] moderator tool passed VasiliiUshakov\n",
      "BEFORE: validated\n"
     ]
    },
    {
     "name": "stderr",
     "output_type": "stream",
     "text": [
      "\n",
      "\n",
      "\n",
      "\n",
      "\n",
      "\n",
      "\n",
      " 69%|██████▉   | 1832/2650 [01:04<00:59, 13.84it/s]\u001b[A\u001b[A\u001b[A\u001b[A\u001b[A\u001b[A\u001b[A"
     ]
    },
    {
     "name": "stdout",
     "output_type": "stream",
     "text": [
      "AFTER: graphicone_search 2020-02-18 14:35:09.219000 ['developed markets', 'macro', 'gdp', 'global', 'emerging markets'] moderator tool passed VasiliiUshakov\n",
      "BEFORE: validated\n",
      "AFTER: graphicone_search 2020-02-18 14:35:09.303000 ['japan', 'woman', 'south africa', 'germany', 'belgium', 'gender', 'mexico', 'france', 'brazil', 'saudi arabia', 'argentina', 'poland', 'canada', 'eu', 'india', 'latin america', 'social', 'turkey', 'global', 'sweden', 'hungary', 'us', 'demography', 'chile', 'australia', 'spain', 'uk', 'italy', 'israel', 'malaysia', 'south korea', 'russia', 'serbia', 'peru'] moderator tool passed VasiliiUshakov\n",
      "BEFORE: validated\n",
      "AFTER: graphicone_search 2020-02-18 14:35:09.389000 ['us', 'macro', 'gdp'] moderator tool passed VasiliiUshakov\n",
      "BEFORE: validated\n"
     ]
    },
    {
     "name": "stderr",
     "output_type": "stream",
     "text": [
      "\n",
      "\n",
      "\n",
      "\n",
      "\n",
      "\n",
      "\n",
      " 69%|██████▉   | 1834/2650 [01:04<01:01, 13.17it/s]\u001b[A\u001b[A\u001b[A\u001b[A\u001b[A\u001b[A\u001b[A\n",
      "\n",
      "\n",
      "\n",
      "\n",
      "\n",
      "\n",
      " 69%|██████▉   | 1836/2650 [01:04<01:03, 12.74it/s]\u001b[A\u001b[A\u001b[A\u001b[A\u001b[A\u001b[A\u001b[A"
     ]
    },
    {
     "name": "stdout",
     "output_type": "stream",
     "text": [
      "AFTER: graphicone_search 2020-02-18 14:35:09.472000 ['ceo', 'sentiment', 'asia', 'india', 'global'] moderator tool passed VasiliiUshakov\n",
      "BEFORE: validated\n",
      "AFTER: graphicone_search 2020-02-18 14:35:09.557000 ['ecb', 'monetary policy', 'quantitative tightening', 'bank of japan', 'quantitative easing', 'fed', 'index', 's&p'] moderator tool passed VasiliiUshakov\n",
      "BEFORE: validated\n",
      "AFTER: graphicone_search 2020-02-18 14:35:09.641000 ['trade', 'greece', 'export'] moderator tool passed VasiliiUshakov\n",
      "BEFORE: validated\n"
     ]
    },
    {
     "name": "stderr",
     "output_type": "stream",
     "text": [
      "\n",
      "\n",
      "\n",
      "\n",
      "\n",
      "\n",
      "\n",
      " 69%|██████▉   | 1838/2650 [01:04<01:05, 12.47it/s]\u001b[A\u001b[A\u001b[A\u001b[A\u001b[A\u001b[A\u001b[A"
     ]
    },
    {
     "name": "stdout",
     "output_type": "stream",
     "text": [
      "AFTER: graphicone_search 2020-02-18 14:35:09.726000 ['social', 'labor', 'migration', 'uk'] moderator tool passed VasiliiUshakov\n",
      "BEFORE: validated\n",
      "AFTER: graphicone_search 2020-02-18 14:35:09.810000 ['us', 'taxes'] moderator tool passed VasiliiUshakov\n",
      "BEFORE: validated\n",
      "AFTER: graphicone_search 2020-02-18 14:35:09.894000 ['pmi', 'ism', 'index', 's&p'] moderator tool passed VasiliiUshakov\n",
      "BEFORE: validated\n"
     ]
    },
    {
     "name": "stderr",
     "output_type": "stream",
     "text": [
      "\n",
      "\n",
      "\n",
      "\n",
      "\n",
      "\n",
      "\n",
      " 69%|██████▉   | 1840/2650 [01:04<01:05, 12.28it/s]\u001b[A\u001b[A\u001b[A\u001b[A\u001b[A\u001b[A\u001b[A\n",
      "\n",
      "\n",
      "\n",
      "\n",
      "\n",
      "\n",
      " 70%|██████▉   | 1842/2650 [01:05<01:06, 12.15it/s]\u001b[A\u001b[A\u001b[A\u001b[A\u001b[A\u001b[A\u001b[A"
     ]
    },
    {
     "name": "stdout",
     "output_type": "stream",
     "text": [
      "AFTER: graphicone_search 2020-02-18 14:35:09.978000 ['terrorism', 'labor', 'metals & mining', 'vix', 'cyprus', 'dow jones', 'nasdaq', 'eu', 'oil', 'china', 'bankruptcy', 'energy', 'global', 'fed', 'chrysler', 's&p', 'gold', 'iran', 'environment', 'bp', 'disasters', 'bear market', 'us', 'politics', 'government', 'debt', 'diseases', 'employment', 'sentiment', 'trade war', 'uk', 'crisis', 'wework', 'government debt', 'general motors', 'commodities', 'ipo', 'volatility', 'index', 'military'] moderator tool passed VasiliiUshakov\n",
      "BEFORE: validated\n",
      "AFTER: graphicone_search 2020-02-18 14:35:10.063000 ['us', 'real estate', 'population', 'construction & engineering'] moderator tool passed VasiliiUshakov\n",
      "BEFORE: validated\n",
      "AFTER: graphicone_search 2020-02-18 14:35:10.147000 ['macro', 'us', 'inflation', 'education', 'cpi', 'index'] moderator tool passed VasiliiUshakov\n",
      "BEFORE: validated\n"
     ]
    },
    {
     "name": "stderr",
     "output_type": "stream",
     "text": [
      "\n",
      "\n",
      "\n",
      "\n",
      "\n",
      "\n",
      "\n",
      " 70%|██████▉   | 1845/2650 [01:05<00:59, 13.44it/s]\u001b[A\u001b[A\u001b[A\u001b[A\u001b[A\u001b[A\u001b[A"
     ]
    },
    {
     "name": "stdout",
     "output_type": "stream",
     "text": [
      "AFTER: graphicone_search 2020-02-18 14:35:10.232000 ['real estate', 'australia'] moderator tool passed VasiliiUshakov\n",
      "BEFORE: validated\n",
      "AFTER: graphicone_search 2020-02-18 14:35:10.315000 ['children', 'environment', 'disasters', 'government', 'health', 'australia', 'charity'] moderator tool passed VasiliiUshakov\n",
      "BEFORE: validated\n",
      "AFTER: graphicone_search 2020-02-18 14:35:10.400000 ['bonds', 'government debt', 'fixed income'] moderator tool passed VasiliiUshakov\n",
      "BEFORE: validated\n"
     ]
    },
    {
     "name": "stderr",
     "output_type": "stream",
     "text": [
      "\n",
      "\n",
      "\n",
      "\n",
      "\n",
      "\n",
      "\n",
      " 70%|██████▉   | 1847/2650 [01:05<01:02, 12.91it/s]\u001b[A\u001b[A\u001b[A\u001b[A\u001b[A\u001b[A\u001b[A\n",
      "\n",
      "\n",
      "\n",
      "\n",
      "\n",
      "\n",
      " 70%|██████▉   | 1849/2650 [01:05<01:03, 12.56it/s]\u001b[A\u001b[A\u001b[A\u001b[A\u001b[A\u001b[A\u001b[A"
     ]
    },
    {
     "name": "stdout",
     "output_type": "stream",
     "text": [
      "AFTER: graphicone_search 2020-02-18 14:35:10.484000 ['wealth', 'russia'] moderator tool passed VasiliiUshakov\n",
      "BEFORE: validated\n",
      "AFTER: graphicone_search 2020-02-18 14:35:10.569000 ['luxembourg', 'japan', 'czech republic', 'ageing', 'south africa', 'labor', 'belgium', 'germany', 'mexico', 'indonesia', 'portugal', 'austria', 'lithuania', 'france', 'greece', 'brazil', 'denmark', 'argentina', 'saudi arabia', 'poland', 'canada', 'slovenia', 'india', 'new zealand', 'china', 'social', 'turkey', 'global', 'finland', 'sweden', 'hungary', 'norway', 'slovakia', 'latvia', 'switzerland', 'us', 'demography', 'chile', 'australia', 'spain', 'uk', 'estonia', 'oecd', 'italy', 'iceland', 'south korea', 'israel', 'russia', 'netherlands', 'population', 'ireland'] moderator tool passed VasiliiUshakov\n",
      "BEFORE: validated\n",
      "AFTER: graphicone_search 2020-02-18 14:35:10.653000 ['uk', 'democracy', 'eu', 'london', 'politics', 'scotland'] moderator tool passed VasiliiUshakov\n",
      "BEFORE: validated\n"
     ]
    },
    {
     "name": "stderr",
     "output_type": "stream",
     "text": [
      "\n",
      "\n",
      "\n",
      "\n",
      "\n",
      "\n",
      "\n",
      " 70%|██████▉   | 1851/2650 [01:05<01:04, 12.33it/s]\u001b[A\u001b[A\u001b[A\u001b[A\u001b[A\u001b[A\u001b[A"
     ]
    },
    {
     "name": "stdout",
     "output_type": "stream",
     "text": [
      "AFTER: graphicone_search 2020-02-18 14:35:10.739000 ['grab', 'kuaishou', 'ant financial', 'rocket internet', 'twitter', 'eu', 'square', 'lu.com', 'didi', 'toutiao', 'ola cabs', 'africa', 'bytedance', 'instacart', 'dropbox', 'zalando', 'go-jek', 'amazon', 'netflix', 'otto', 'baidu', 'w.w.grainger', 'asia', 'intuit', 'naver', 'tripadvisor', 'global', 'uber', 'sina', 'social finance', 'paypal', 'rakuten', 'the hut group', 'microsoft', 'ola', 'wirecard', 'pinduoduo', 'credit karma', 'facebook', 'coupang', 'tencent', 'ele.me', 'alphabet', 'flipkart', 'snap', 'weibo', 'houzz', 'adyen', 'twilio', 'stripe', 'netease', 'delivery', 'meituan', 'slack', 'booking', 'mail.ru', 'wework', 'salesforce', 'unicorns', 'huawei', 'large caps', 'scout24', 'airbnb', 'spotify', 'mercado libre', 'etsy', 'manbang', 'match group', 'alibaba', 'samsung', 'apple', 'jd.com', 'us', 'lyft', 'delivery hero', 'lufax', 'yandex', 'naspers'] moderator tool passed VasiliiUshakov\n",
      "BEFORE: validated\n",
      "AFTER: graphicone_search 2020-02-18 14:35:10.823000 ['large caps', 'index', 's&p', 'mid caps'] moderator tool passed VasiliiUshakov\n",
      "BEFORE: validated\n",
      "AFTER: graphicone_search 2020-02-18 14:35:10.907000 ['bush', 'clinton', 'government', 'ronald reagan', 'politics', 'obama', 'trump'] moderator tool passed VasiliiUshakov\n",
      "BEFORE: validated\n"
     ]
    },
    {
     "name": "stderr",
     "output_type": "stream",
     "text": [
      "\n",
      "\n",
      "\n",
      "\n",
      "\n",
      "\n",
      "\n",
      " 70%|██████▉   | 1853/2650 [01:05<01:05, 12.19it/s]\u001b[A\u001b[A\u001b[A\u001b[A\u001b[A\u001b[A\u001b[A\n",
      "\n",
      "\n",
      "\n",
      "\n",
      "\n",
      "\n",
      " 70%|███████   | 1855/2650 [01:06<01:05, 12.08it/s]\u001b[A\u001b[A\u001b[A\u001b[A\u001b[A\u001b[A\u001b[A"
     ]
    },
    {
     "name": "stdout",
     "output_type": "stream",
     "text": [
      "AFTER: graphicone_search 2020-02-18 14:35:10.991000 ['bankruptcy', 'blockbuster', 'streaming', 'netflix'] moderator tool passed VasiliiUshakov\n",
      "BEFORE: validated\n",
      "AFTER: graphicone_search 2020-02-18 14:35:11.076000 ['taxes', 'government'] moderator tool passed VasiliiUshakov\n",
      "BEFORE: validated\n",
      "AFTER: graphicone_search 2020-02-18 14:35:11.160000 ['macro', 'deficit'] moderator tool passed VasiliiUshakov\n",
      "BEFORE: validated\n"
     ]
    },
    {
     "name": "stderr",
     "output_type": "stream",
     "text": [
      "\n",
      "\n",
      "\n",
      "\n",
      "\n",
      "\n",
      "\n",
      " 70%|███████   | 1857/2650 [01:06<01:05, 12.03it/s]\u001b[A\u001b[A\u001b[A\u001b[A\u001b[A\u001b[A\u001b[A"
     ]
    },
    {
     "name": "stdout",
     "output_type": "stream",
     "text": [
      "AFTER: graphicone_search 2020-02-18 14:35:11.245000 ['index', 'manufacturing', 'utilities', 'metals & mining'] moderator tool passed VasiliiUshakov\n",
      "BEFORE: validated\n",
      "AFTER: graphicone_search 2020-02-18 14:35:11.328000 ['funds', 'bonds'] moderator tool passed VasiliiUshakov\n",
      "BEFORE: validated\n",
      "AFTER: graphicone_search 2020-02-18 14:35:11.413000 ['us', 'funds'] moderator tool passed VasiliiUshakov\n",
      "BEFORE: validated\n"
     ]
    },
    {
     "name": "stderr",
     "output_type": "stream",
     "text": [
      "\n",
      "\n",
      "\n",
      "\n",
      "\n",
      "\n",
      "\n",
      " 70%|███████   | 1859/2650 [01:06<01:06, 11.98it/s]\u001b[A\u001b[A\u001b[A\u001b[A\u001b[A\u001b[A\u001b[A\n",
      "\n",
      "\n",
      "\n",
      "\n",
      "\n",
      "\n",
      " 70%|███████   | 1862/2650 [01:06<00:59, 13.27it/s]\u001b[A\u001b[A\u001b[A\u001b[A\u001b[A\u001b[A\u001b[A"
     ]
    },
    {
     "name": "stdout",
     "output_type": "stream",
     "text": [
      "AFTER: graphicone_search 2020-02-18 14:35:11.497000 ['rub', 'oil', 'currency', 'commodities', 'trade', 'usd', 'energy'] moderator tool passed VasiliiUshakov\n",
      "BEFORE: validated\n",
      "AFTER: graphicone_search 2020-02-18 14:35:11.581000 ['us', 'logistics', 'transportation'] moderator tool passed VasiliiUshakov\n",
      "BEFORE: validated\n",
      "AFTER: graphicone_search 2020-02-18 14:35:11.666000 ['interactive brokers', 'robinhood', 'charles schwab', 'us', 'financials', 'td ameritrade', 'internet', 'etrade'] moderator tool passed VasiliiUshakov\n",
      "BEFORE: validated\n"
     ]
    },
    {
     "name": "stderr",
     "output_type": "stream",
     "text": [
      "\n",
      "\n",
      "\n",
      "\n",
      "\n",
      "\n",
      "\n",
      " 70%|███████   | 1864/2650 [01:06<01:01, 12.81it/s]\u001b[A\u001b[A\u001b[A\u001b[A\u001b[A\u001b[A\u001b[A"
     ]
    },
    {
     "name": "stdout",
     "output_type": "stream",
     "text": [
      "AFTER: graphicone_search 2020-02-18 14:35:11.751000 ['large caps', 'index', 's&p'] moderator tool passed VasiliiUshakov\n",
      "BEFORE: validated\n",
      "AFTER: graphicone_search 2020-02-18 14:35:11.835000 ['wealth', 'india', 'personal finance', 'china', 'us', 'population', 'debt'] moderator tool passed VasiliiUshakov\n",
      "BEFORE: validated\n",
      "AFTER: graphicone_search 2020-02-18 14:35:11.919000 ['google', 'docverse', 'waze', 'like.com', 'fitbit', 'android', 'htc', 'looker', 'youtube', 'doubleclick', 'm&a', 'nest', 'internet', 'postini', 'motorola', 'technology'] moderator tool passed VasiliiUshakov\n",
      "BEFORE: validated\n"
     ]
    },
    {
     "name": "stderr",
     "output_type": "stream",
     "text": [
      "\n",
      "\n",
      "\n",
      "\n",
      "\n",
      "\n",
      "\n",
      " 70%|███████   | 1867/2650 [01:06<00:56, 13.98it/s]\u001b[A\u001b[A\u001b[A\u001b[A\u001b[A\u001b[A\u001b[A\n",
      "\n",
      "\n",
      "\n",
      "\n",
      "\n",
      "\n",
      " 71%|███████   | 1870/2650 [01:07<00:52, 14.93it/s]\u001b[A\u001b[A\u001b[A\u001b[A\u001b[A\u001b[A\u001b[A"
     ]
    },
    {
     "name": "stdout",
     "output_type": "stream",
     "text": [
      "AFTER: graphicone_search 2020-02-18 14:35:12.003000 ['automotive', 'us', 'fico', 'credit', 'retail'] moderator tool passed VasiliiUshakov\n",
      "BEFORE: validated\n",
      "AFTER: graphicone_search 2020-02-18 14:35:12.089000 ['financials', 'utilities', 'industrials', 'consumer staples', 'real estate', 'dividends', 'health', 'materials', 'buyback', 'consumer discretionary', 'energy', 'information technology', 'bonds', 'communications', 'index', 's&p'] moderator tool passed VasiliiUshakov\n",
      "BEFORE: validated\n",
      "AFTER: graphicone_search 2020-02-18 14:35:12.172000 ['trade', 'global'] moderator tool passed VasiliiUshakov\n",
      "BEFORE: validated\n"
     ]
    },
    {
     "name": "stderr",
     "output_type": "stream",
     "text": [
      "\n",
      "\n",
      "\n",
      "\n",
      "\n",
      "\n",
      "\n",
      " 71%|███████   | 1872/2650 [01:07<00:56, 13.86it/s]\u001b[A\u001b[A\u001b[A\u001b[A\u001b[A\u001b[A\u001b[A"
     ]
    },
    {
     "name": "stdout",
     "output_type": "stream",
     "text": [
      "AFTER: graphicone_search 2020-02-18 14:35:12.257000 ['large caps', 'index', 's&p'] moderator tool passed VasiliiUshakov\n",
      "BEFORE: validated\n",
      "AFTER: graphicone_search 2020-02-18 14:35:12.341000 ['canada', 'eu', 'china', 'trade', 'mexico', 'us', 'tariffs', 'global'] moderator tool passed VasiliiUshakov\n",
      "BEFORE: validated\n",
      "AFTER: graphicone_search 2020-02-18 14:35:12.426000 ['employment', 'labor'] moderator tool passed VasiliiUshakov\n",
      "BEFORE: validated\n"
     ]
    },
    {
     "name": "stderr",
     "output_type": "stream",
     "text": [
      "\n",
      "\n",
      "\n",
      "\n",
      "\n",
      "\n",
      "\n",
      " 71%|███████   | 1875/2650 [01:07<00:52, 14.84it/s]\u001b[A\u001b[A\u001b[A\u001b[A\u001b[A\u001b[A\u001b[A\n",
      "\n",
      "\n",
      "\n",
      "\n",
      "\n",
      "\n",
      " 71%|███████   | 1877/2650 [01:07<00:56, 13.79it/s]\u001b[A\u001b[A\u001b[A\u001b[A\u001b[A\u001b[A\u001b[A"
     ]
    },
    {
     "name": "stdout",
     "output_type": "stream",
     "text": [
      "AFTER: graphicone_search 2020-02-18 14:35:12.509000 ['advertising', 'gender', 'instagram', 'woman'] moderator tool passed VasiliiUshakov\n",
      "BEFORE: validated\n",
      "AFTER: graphicone_search 2020-02-18 14:35:12.594000 ['oil', 'metals & mining', 'commodities', 'brent', 'gold'] moderator tool passed VasiliiUshakov\n",
      "BEFORE: validated\n",
      "AFTER: graphicone_search 2020-02-18 14:35:12.678000 ['financials', 'communications', 'utilities', 'industrials', 'consumer staples', 'real estate', 'dividends', 'materials', 'health', 'buyback', 'consumer discretionary', 'energy', 'information technology', 'large caps', 'index', 's&p'] moderator tool passed VasiliiUshakov\n",
      "BEFORE: validated\n"
     ]
    },
    {
     "name": "stderr",
     "output_type": "stream",
     "text": [
      "\n",
      "\n",
      "\n",
      "\n",
      "\n",
      "\n",
      "\n",
      " 71%|███████   | 1880/2650 [01:07<00:52, 14.78it/s]\u001b[A\u001b[A\u001b[A\u001b[A\u001b[A\u001b[A\u001b[A"
     ]
    },
    {
     "name": "stdout",
     "output_type": "stream",
     "text": [
      "AFTER: graphicone_search 2020-02-18 14:35:12.763000 ['google', 'smartphone', 'facebook', 'cryptocurrency', 'technology', 'ai', 'amazon', 'data', 'marketing', 'virtual assistant', 'mobile'] moderator tool passed VasiliiUshakov\n",
      "BEFORE: validated\n",
      "AFTER: graphicone_search 2020-02-18 14:35:12.847000 ['large caps', 'index', 's&p'] moderator tool passed VasiliiUshakov\n",
      "BEFORE: validated\n",
      "AFTER: graphicone_search 2020-02-18 14:35:12.932000 ['wealth', 'ford', 'carter', 'obama', 'labor', 'bush', 'clinton', 'us', 'ronald reagan', 'government', 'trump', 'richard nixon'] moderator tool passed VasiliiUshakov\n",
      "BEFORE: validated\n"
     ]
    },
    {
     "name": "stderr",
     "output_type": "stream",
     "text": [
      "\n",
      "\n",
      "\n",
      "\n",
      "\n",
      "\n",
      "\n",
      " 71%|███████   | 1882/2650 [01:07<00:55, 13.76it/s]\u001b[A\u001b[A\u001b[A\u001b[A\u001b[A\u001b[A\u001b[A\n",
      "\n",
      "\n",
      "\n",
      "\n",
      "\n",
      "\n",
      " 71%|███████   | 1884/2650 [01:08<00:58, 13.12it/s]\u001b[A\u001b[A\u001b[A\u001b[A\u001b[A\u001b[A\u001b[A"
     ]
    },
    {
     "name": "stdout",
     "output_type": "stream",
     "text": [
      "AFTER: graphicone_search 2020-02-18 14:35:13.016000 ['us', 'trump', 'politics'] moderator tool passed VasiliiUshakov\n",
      "BEFORE: validated\n",
      "AFTER: graphicone_search 2020-02-18 14:35:13.101000 ['gas', 'vivint solar', 'boralex', 'oil', 'nextera energy', 'energy', 'attern energy group', 's&p', 'clean energy', 'renewables', 'terraform power', 'canadian solar', 'innergex renewable energy', 'sunpower', 'first solar', 'brookfield renewable partners', 'transalta renewables', 'commodities', 'index', 'sunrun'] moderator tool passed VasiliiUshakov\n",
      "BEFORE: validated\n",
      "AFTER: graphicone_search 2020-02-18 14:35:13.185000 ['robotics', 'automotive', 'us', 'amazon', 'manufacturing', 'technology'] moderator tool passed VasiliiUshakov\n",
      "BEFORE: validated\n"
     ]
    },
    {
     "name": "stderr",
     "output_type": "stream",
     "text": [
      "\n",
      "\n",
      "\n",
      "\n",
      "\n",
      "\n",
      "\n",
      " 71%|███████   | 1887/2650 [01:08<00:53, 14.25it/s]\u001b[A\u001b[A\u001b[A\u001b[A\u001b[A\u001b[A\u001b[A"
     ]
    },
    {
     "name": "stdout",
     "output_type": "stream",
     "text": [
      "AFTER: graphicone_search 2020-02-18 14:35:13.270000 ['labor', 'personal finance'] moderator tool passed VasiliiUshakov\n",
      "BEFORE: validated\n",
      "AFTER: graphicone_search 2020-02-18 14:35:13.354000 ['employment', 'labor', 'germany'] moderator tool passed VasiliiUshakov\n",
      "BEFORE: validated\n",
      "AFTER: graphicone_search 2020-02-18 14:35:13.439000 ['macro', 'us', 'interest rates', 'fed', 'funds'] moderator tool passed VasiliiUshakov\n",
      "BEFORE: validated\n"
     ]
    },
    {
     "name": "stderr",
     "output_type": "stream",
     "text": [
      "\n",
      "\n",
      "\n",
      "\n",
      "\n",
      "\n",
      "\n",
      " 71%|███████▏  | 1891/2650 [01:08<00:46, 16.18it/s]\u001b[A\u001b[A\u001b[A\u001b[A\u001b[A\u001b[A\u001b[A\n",
      "\n",
      "\n",
      "\n",
      "\n",
      "\n",
      "\n",
      " 71%|███████▏  | 1894/2650 [01:08<00:45, 16.62it/s]\u001b[A\u001b[A\u001b[A\u001b[A\u001b[A\u001b[A\u001b[A"
     ]
    },
    {
     "name": "stdout",
     "output_type": "stream",
     "text": [
      "AFTER: graphicone_search 2020-02-18 14:35:13.523000 ['meat', 'commodities', 'chicken', 'pork', 'us', 'beef'] moderator tool passed VasiliiUshakov\n",
      "BEFORE: validated\n",
      "AFTER: graphicone_search 2020-02-18 14:35:13.608000 ['employment', 'fair', 'opendoor', 'wework', 'labor', 'katerra', 'softbank', 'ola', 'zume pizza', 'uber', 'wag', 'getaround', 'brandless'] moderator tool passed VasiliiUshakov\n",
      "BEFORE: validated\n",
      "AFTER: graphicone_search 2020-02-18 14:35:13.692000 ['alex and ani', 'indochino', 'kendra scott', 'untuckit', 'suitsupply', 'peloton', 'bonobos', 'digital', 'retail', 'walgreens', 'smiledirectclub', 'tesla', 'cvs health', 'warby parker'] moderator tool passed VasiliiUshakov\n",
      "BEFORE: validated\n"
     ]
    },
    {
     "name": "stderr",
     "output_type": "stream",
     "text": [
      "\n",
      "\n",
      "\n",
      "\n",
      "\n",
      "\n",
      "\n",
      " 72%|███████▏  | 1898/2650 [01:08<00:41, 18.25it/s]\u001b[A\u001b[A\u001b[A\u001b[A\u001b[A\u001b[A\u001b[A"
     ]
    },
    {
     "name": "stdout",
     "output_type": "stream",
     "text": [
      "AFTER: graphicone_search 2020-02-18 14:35:13.777000 ['large caps', 'index', 's&p'] moderator tool passed VasiliiUshakov\n",
      "BEFORE: validated\n",
      "AFTER: graphicone_search 2020-02-18 14:35:13.861000 ['infrastructure', 'us', 'taxes', 'transportation', 'bonds', 'new york'] moderator tool passed VasiliiUshakov\n",
      "BEFORE: validated\n",
      "AFTER: graphicone_search 2020-02-18 14:35:13.946000 ['merrill lynch', 'high yield', 'us', 'bank of america', 'bonds', 'index'] moderator tool passed VasiliiUshakov\n",
      "BEFORE: validated\n"
     ]
    },
    {
     "name": "stderr",
     "output_type": "stream",
     "text": [
      "\n",
      "\n",
      "\n",
      "\n",
      "\n",
      "\n",
      "\n",
      " 72%|███████▏  | 1900/2650 [01:08<00:47, 15.70it/s]\u001b[A\u001b[A\u001b[A\u001b[A\u001b[A\u001b[A\u001b[A\n",
      "\n",
      "\n",
      "\n",
      "\n",
      "\n",
      "\n",
      " 72%|███████▏  | 1903/2650 [01:09<00:45, 16.27it/s]\u001b[A\u001b[A\u001b[A\u001b[A\u001b[A\u001b[A\u001b[A"
     ]
    },
    {
     "name": "stdout",
     "output_type": "stream",
     "text": [
      "AFTER: graphicone_search 2020-02-18 14:35:14.029000 ['central fidelity national bank', 'm&a', 'european american bank', 'fleetboston financial', 'mbna', 'summit bancorp', 'first union corporation', 'bear stearns', 'bankboston', 'washington mutual', 'fleet financial group', 'chase', 'first commerce bancshares', 'continental bank', 'nationsbank', 'banking', 'first chicago bank', 'southtrust corporation', 'wells fargo', 'us trust', 'merrill lynch', 'bank one', 'us', 'bank of america', 'wachovia', 'h. f. ahmanson & co', 'the money store', 'citigroup', 'dime bancorp', 'norwest corporation', 'jpmorgan', 'the travelers companies', 'corestates financial', 'first interstate bancorp', 'security pacific bancorp', 'banamex', 'chemical bank', 'great western bank', 'ujb financial', 'countrywide financial'] moderator tool passed VasiliiUshakov\n",
      "BEFORE: validated\n",
      "AFTER: graphicone_search 2020-02-18 14:35:14.115000 ['luxury', 'mercedes benz', 'ev', 'automotive', 'us', 'consumer discretionary', 'tesla', 'bmw', 'vehicles', 'lexus'] moderator tool passed VasiliiUshakov\n",
      "BEFORE: validated\n",
      "AFTER: graphicone_search 2020-02-18 14:35:14.198000 ['us', 'politics', 'democracy'] moderator tool passed VasiliiUshakov\n",
      "BEFORE: validated\n"
     ]
    },
    {
     "name": "stderr",
     "output_type": "stream",
     "text": [
      "\n",
      "\n",
      "\n",
      "\n",
      "\n",
      "\n",
      "\n",
      " 72%|███████▏  | 1905/2650 [01:09<00:50, 14.64it/s]\u001b[A\u001b[A\u001b[A\u001b[A\u001b[A\u001b[A\u001b[A"
     ]
    },
    {
     "name": "stdout",
     "output_type": "stream",
     "text": [
      "AFTER: graphicone_search 2020-02-18 14:35:14.283000 ['medicine', 'ecology', 'democracy', 'woman', 'gender', 'trump', 'social', 'social justice', 'us', 'health', 'politics', 'obama', 'climate change', 'clinton', 'migration', 'military'] moderator tool passed VasiliiUshakov\n",
      "BEFORE: validated\n",
      "AFTER: graphicone_search 2020-02-18 14:35:14.367000 ['ev', 'automotive', 'global', 'tesla', 'vehicles'] moderator tool passed VasiliiUshakov\n",
      "BEFORE: validated\n",
      "AFTER: graphicone_search 2020-02-18 14:35:14.452000 ['wealth', 'personal finance', 'us', 'gdp'] moderator tool passed VasiliiUshakov\n",
      "BEFORE: validated\n"
     ]
    },
    {
     "name": "stderr",
     "output_type": "stream",
     "text": [
      "\n",
      "\n",
      "\n",
      "\n",
      "\n",
      "\n",
      "\n",
      " 72%|███████▏  | 1907/2650 [01:09<00:54, 13.67it/s]\u001b[A\u001b[A\u001b[A\u001b[A\u001b[A\u001b[A\u001b[A\n",
      "\n",
      "\n",
      "\n",
      "\n",
      "\n",
      "\n",
      " 72%|███████▏  | 1910/2650 [01:09<00:50, 14.68it/s]\u001b[A\u001b[A\u001b[A\u001b[A\u001b[A\u001b[A\u001b[A"
     ]
    },
    {
     "name": "stdout",
     "output_type": "stream",
     "text": [
      "AFTER: graphicone_search 2020-02-18 14:35:14.536000 ['government bonds', 'us', 'bonds'] moderator tool passed VasiliiUshakov\n",
      "BEFORE: validated\n",
      "AFTER: graphicone_search 2020-02-18 14:35:14.621000 ['social', 'us', 'demography', 'population', 'migration'] moderator tool passed VasiliiUshakov\n",
      "BEFORE: validated\n",
      "AFTER: graphicone_search 2020-02-18 14:35:14.705000 ['developed markets', 'gold', 'barclays', 'fixed income', 'msci', 'real estate', 'wti', 'oil', 'metals & mining', 'commodities', 'us', 'inflation', 'cpi', 'reit', 'index', 's&p', 'bonds'] moderator tool passed VasiliiUshakov\n",
      "BEFORE: validated\n"
     ]
    },
    {
     "name": "stderr",
     "output_type": "stream",
     "text": [
      "\n",
      "\n",
      "\n",
      "\n",
      "\n",
      "\n",
      "\n",
      " 72%|███████▏  | 1912/2650 [01:09<00:53, 13.68it/s]\u001b[A\u001b[A\u001b[A\u001b[A\u001b[A\u001b[A\u001b[A"
     ]
    },
    {
     "name": "stdout",
     "output_type": "stream",
     "text": [
      "AFTER: graphicone_search 2020-02-18 14:35:14.790000 ['japan', 'germany', 'mexico', 'indonesia', 'manufacturing', 'france', 'taiwan', 'greece', 'brazil', 'developed markets', 'canada', 'eu', 'india', 'china', 'global', 'pmi', 'us', 'spain', 'uk', 'italy', 'south korea', 'russia', 'emerging markets', 'index'] moderator tool passed VasiliiUshakov\n",
      "BEFORE: validated\n",
      "AFTER: graphicone_search 2020-02-18 14:35:14.874000 ['developed markets', 'chf', 'euro', 'cad', 'currency', 'pound', 'us', 'sek', 'usd', 'msci acwi', 'index', 'msci'] moderator tool passed VasiliiUshakov\n",
      "BEFORE: validated\n",
      "AFTER: graphicone_search 2020-02-18 14:35:14.959000 ['developed markets', 'jpmorgan', 'currency', 'us', 'usd', 'emerging markets', 'index', 'msci'] moderator tool passed VasiliiUshakov\n",
      "BEFORE: validated\n"
     ]
    },
    {
     "name": "stderr",
     "output_type": "stream",
     "text": [
      "\n",
      "\n",
      "\n",
      "\n",
      "\n",
      "\n",
      "\n",
      " 72%|███████▏  | 1914/2650 [01:09<00:56, 13.08it/s]\u001b[A\u001b[A\u001b[A\u001b[A\u001b[A\u001b[A\u001b[A\n",
      "\n",
      "\n",
      "\n",
      "\n",
      "\n",
      "\n",
      " 72%|███████▏  | 1916/2650 [01:10<00:57, 12.68it/s]\u001b[A\u001b[A\u001b[A\u001b[A\u001b[A\u001b[A\u001b[A"
     ]
    },
    {
     "name": "stdout",
     "output_type": "stream",
     "text": [
      "AFTER: graphicone_search 2020-02-18 14:35:15.043000 ['macro', \"moody's\", 'us', 'interest rates', 'mortgage', 'funds', 'bonds'] moderator tool passed VasiliiUshakov\n",
      "BEFORE: validated\n",
      "AFTER: graphicone_search 2020-02-18 14:35:15.128000 ['angola', 'south africa', 'oil', 'china', 'exxon', 'commodities', 'marine', 'shanghai', 'trinidad and tobago', 'transportation', 'water', 'ecology', 'logistics'] moderator tool passed VasiliiUshakov\n",
      "BEFORE: validated\n",
      "AFTER: graphicone_search 2020-02-18 14:35:15.212000 ['index', 'russell index'] moderator tool passed VasiliiUshakov\n",
      "BEFORE: validated\n"
     ]
    },
    {
     "name": "stderr",
     "output_type": "stream",
     "text": [
      "\n",
      "\n",
      "\n",
      "\n",
      "\n",
      "\n",
      "\n",
      " 72%|███████▏  | 1918/2650 [01:10<00:58, 12.43it/s]\u001b[A\u001b[A\u001b[A\u001b[A\u001b[A\u001b[A\u001b[A"
     ]
    },
    {
     "name": "stdout",
     "output_type": "stream",
     "text": [
      "AFTER: graphicone_search 2020-02-18 14:35:15.297000 ['uk', 'mid caps', 'ftse', 'vanguard', 'etf', 'index'] moderator tool passed VasiliiUshakov\n",
      "BEFORE: validated\n",
      "AFTER: graphicone_search 2020-02-18 14:35:15.380000 ['gdp', 'index', 'jpmorgan', 'global'] moderator tool passed VasiliiUshakov\n",
      "BEFORE: validated\n",
      "AFTER: graphicone_search 2020-02-18 14:35:15.465000 ['employment', 'amazon', 'labor'] moderator tool passed VasiliiUshakov\n",
      "BEFORE: validated\n"
     ]
    },
    {
     "name": "stderr",
     "output_type": "stream",
     "text": [
      "\n",
      "\n",
      "\n",
      "\n",
      "\n",
      "\n",
      "\n",
      " 72%|███████▏  | 1920/2650 [01:10<00:59, 12.25it/s]\u001b[A\u001b[A\u001b[A\u001b[A\u001b[A\u001b[A\u001b[A\n",
      "\n",
      "\n",
      "\n",
      "\n",
      "\n",
      "\n",
      " 73%|███████▎  | 1923/2650 [01:10<00:53, 13.51it/s]\u001b[A\u001b[A\u001b[A\u001b[A\u001b[A\u001b[A\u001b[A"
     ]
    },
    {
     "name": "stdout",
     "output_type": "stream",
     "text": [
      "AFTER: graphicone_search 2020-02-18 14:35:15.549000 ['volvo', 'automotive', 'land rover', 'jaguar', 'tesla', 'vehicles'] moderator tool passed VasiliiUshakov\n",
      "BEFORE: validated\n",
      "AFTER: graphicone_search 2020-02-18 14:35:15.634000 ['financials', 'markel corporation', 'cash', 'mastercard', 'industrials', 'carmax', 'sba communications corporation', 'real estate', 'roper industries', \"moody's\", 'health', 'consumer discretionary', 'american tower', 'information technology', 'dollar tree', 'visa', \"o'reilly\"] moderator tool passed VasiliiUshakov\n",
      "BEFORE: validated\n",
      "AFTER: graphicone_search 2020-02-18 14:35:15.718000 ['smartphone', 'global', 'technology'] moderator tool passed VasiliiUshakov\n",
      "BEFORE: validated\n"
     ]
    },
    {
     "name": "stderr",
     "output_type": "stream",
     "text": [
      "\n",
      "\n",
      "\n",
      "\n",
      "\n",
      "\n",
      "\n",
      " 73%|███████▎  | 1925/2650 [01:10<00:55, 12.97it/s]\u001b[A\u001b[A\u001b[A\u001b[A\u001b[A\u001b[A\u001b[A"
     ]
    },
    {
     "name": "stdout",
     "output_type": "stream",
     "text": [
      "AFTER: graphicone_search 2020-02-18 14:35:15.803000 ['asia', 'nzd', 'aud', 'currency'] moderator tool passed VasiliiUshakov\n",
      "BEFORE: validated\n",
      "AFTER: graphicone_search 2020-02-18 14:35:15.887000 ['trump', 'politics'] moderator tool passed VasiliiUshakov\n",
      "BEFORE: validated\n",
      "AFTER: graphicone_search 2020-02-18 14:35:15.971000 ['labor'] moderator tool passed VasiliiUshakov\n",
      "BEFORE: validated\n"
     ]
    },
    {
     "name": "stderr",
     "output_type": "stream",
     "text": [
      "\n",
      "\n",
      "\n",
      "\n",
      "\n",
      "\n",
      "\n",
      " 73%|███████▎  | 1927/2650 [01:10<00:57, 12.62it/s]\u001b[A\u001b[A\u001b[A\u001b[A\u001b[A\u001b[A\u001b[A\n",
      "\n",
      "\n",
      "\n",
      "\n",
      "\n",
      "\n",
      " 73%|███████▎  | 1929/2650 [01:11<00:58, 12.39it/s]\u001b[A\u001b[A\u001b[A\u001b[A\u001b[A\u001b[A\u001b[A"
     ]
    },
    {
     "name": "stdout",
     "output_type": "stream",
     "text": [
      "AFTER: graphicone_search 2020-02-18 14:35:16.055000 ['trump', 'politics', 'tom steyer'] moderator tool passed VasiliiUshakov\n",
      "BEFORE: validated\n",
      "AFTER: graphicone_search 2020-02-18 14:35:16.140000 ['amazon', 'microsoft', 'alphabet', 'apple'] moderator tool passed VasiliiUshakov\n",
      "BEFORE: validated\n",
      "AFTER: graphicone_search 2020-02-18 14:35:16.223000 ['google', 'amazon', \"domino's\", 'apple'] moderator tool passed VasiliiUshakov\n",
      "BEFORE: validated\n"
     ]
    },
    {
     "name": "stderr",
     "output_type": "stream",
     "text": [
      "\n",
      "\n",
      "\n",
      "\n",
      "\n",
      "\n",
      "\n",
      " 73%|███████▎  | 1932/2650 [01:11<00:52, 13.64it/s]\u001b[A\u001b[A\u001b[A\u001b[A\u001b[A\u001b[A\u001b[A"
     ]
    },
    {
     "name": "stdout",
     "output_type": "stream",
     "text": [
      "AFTER: graphicone_search 2020-02-18 14:35:16.308000 ['amazon', 'microsoft', 'alphabet', 'apple'] moderator tool passed VasiliiUshakov\n",
      "BEFORE: validated\n",
      "AFTER: graphicone_search 2020-02-18 14:35:16.391000 ['ev', 'ford', 'general motors', 'volkswagen', 'daimler', 'tesla', 'bmw'] moderator tool passed VasiliiUshakov\n",
      "BEFORE: validated\n",
      "AFTER: graphicone_search 2020-02-18 14:35:16.476000 ['government bonds', 'bonds', 'futures'] moderator tool passed VasiliiUshakov\n",
      "BEFORE: validated\n"
     ]
    },
    {
     "name": "stderr",
     "output_type": "stream",
     "text": [
      "\n",
      "\n",
      "\n",
      "\n",
      "\n",
      "\n",
      "\n",
      " 73%|███████▎  | 1934/2650 [01:11<00:54, 13.04it/s]\u001b[A\u001b[A\u001b[A\u001b[A\u001b[A\u001b[A\u001b[A\n",
      "\n",
      "\n",
      "\n",
      "\n",
      "\n",
      "\n",
      " 73%|███████▎  | 1936/2650 [01:11<00:56, 12.66it/s]\u001b[A\u001b[A\u001b[A\u001b[A\u001b[A\u001b[A\u001b[A"
     ]
    },
    {
     "name": "stdout",
     "output_type": "stream",
     "text": [
      "AFTER: graphicone_search 2020-02-18 14:35:16.560000 ['ford', 'tesla', 'general motors'] moderator tool passed VasiliiUshakov\n",
      "BEFORE: validated\n",
      "AFTER: graphicone_search 2020-02-18 14:35:16.645000 ['google', 'facebook', 'technology', 'amazon', 'netflix', 'apple', 'index', 's&p'] moderator tool passed VasiliiUshakov\n",
      "BEFORE: validated\n",
      "AFTER: graphicone_search 2020-02-18 14:35:16.729000 ['tesla', 'nio'] moderator tool passed VasiliiUshakov\n",
      "BEFORE: validated\n"
     ]
    },
    {
     "name": "stderr",
     "output_type": "stream",
     "text": [
      "\n",
      "\n",
      "\n",
      "\n",
      "\n",
      "\n",
      "\n",
      " 73%|███████▎  | 1938/2650 [01:11<00:57, 12.42it/s]\u001b[A\u001b[A\u001b[A\u001b[A\u001b[A\u001b[A\u001b[A"
     ]
    },
    {
     "name": "stdout",
     "output_type": "stream",
     "text": [
      "AFTER: graphicone_search 2020-02-18 14:35:16.814000 ['google', 'instagram', 'facebook', 'reddit', 'twitter', 'bebo', 'myspace', 'friendster', 'snap', 'internet', 'social media'] moderator tool passed VasiliiUshakov\n",
      "BEFORE: validated\n",
      "AFTER: graphicone_search 2020-02-18 14:35:16.898000 ['employment', 'bmw', 'ev', 'labor', 'taxes', 'nissan', 'tesla', 'mg motor', 'savings'] moderator tool passed VasiliiUshakov\n",
      "BEFORE: validated\n",
      "AFTER: graphicone_search 2020-02-18 14:35:16.982000 ['twitter', 'gender', 'advertising', 'woman'] moderator tool passed VasiliiUshakov\n",
      "BEFORE: validated\n"
     ]
    },
    {
     "name": "stderr",
     "output_type": "stream",
     "text": [
      "\n",
      "\n",
      "\n",
      "\n",
      "\n",
      "\n",
      "\n",
      " 73%|███████▎  | 1940/2650 [01:11<00:57, 12.25it/s]\u001b[A\u001b[A\u001b[A\u001b[A\u001b[A\u001b[A\u001b[A\n",
      "\n",
      "\n",
      "\n",
      "\n",
      "\n",
      "\n",
      " 73%|███████▎  | 1942/2650 [01:12<00:58, 12.12it/s]\u001b[A\u001b[A\u001b[A\u001b[A\u001b[A\u001b[A\u001b[A"
     ]
    },
    {
     "name": "stdout",
     "output_type": "stream",
     "text": [
      "AFTER: graphicone_search 2020-02-18 14:35:17.066000 ['the realreal', 'peloton', 'pinterest', 'lyft', 'zoom', 'uber', 'crowdstrike', 'beyond meat'] moderator tool passed VasiliiUshakov\n",
      "BEFORE: validated\n",
      "AFTER: graphicone_search 2020-02-18 14:35:17.151000 ['hyundai', 'porsche', 'kia', 'ev', 'batteries', 'audi', 'volkswagen', 'chevrolet', 'nissan', 'jaguar', 'tesla', 'bmw'] moderator tool passed VasiliiUshakov\n",
      "BEFORE: validated\n",
      "AFTER: graphicone_search 2020-02-18 14:35:17.235000 ['facebook', 'jpmorgan', 'microsoft', 'exxon', 'amazon', 'apple', 'johnson & johnson', 'index', 's&p'] moderator tool passed VasiliiUshakov\n",
      "BEFORE: validated\n"
     ]
    },
    {
     "name": "stderr",
     "output_type": "stream",
     "text": [
      "\n",
      "\n",
      "\n",
      "\n",
      "\n",
      "\n",
      "\n",
      " 73%|███████▎  | 1944/2650 [01:12<00:58, 12.05it/s]\u001b[A\u001b[A\u001b[A\u001b[A\u001b[A\u001b[A\u001b[A"
     ]
    },
    {
     "name": "stdout",
     "output_type": "stream",
     "text": [
      "AFTER: graphicone_search 2020-02-18 14:35:17.320000 ['ecology', 'microsoft', 'environment', 'emissions'] moderator tool passed VasiliiUshakov\n",
      "BEFORE: validated\n",
      "AFTER: graphicone_search 2020-02-18 14:35:17.403000 ['tiktok', 'instagram', 'facebook', 'whatsapp', 'pandora', 'spotify', 'walmart', 'app', 'youtube', 'us', 'amazon', 'netflix', 'snap', 'disney', 'hulu'] moderator tool passed VasiliiUshakov\n",
      "BEFORE: validated\n",
      "AFTER: graphicone_search 2020-02-18 14:35:17.488000 ['jpmorgan'] moderator tool passed VasiliiUshakov\n",
      "BEFORE: validated\n"
     ]
    },
    {
     "name": "stderr",
     "output_type": "stream",
     "text": [
      "\n",
      "\n",
      "\n",
      "\n",
      "\n",
      "\n",
      "\n",
      " 73%|███████▎  | 1947/2650 [01:12<00:52, 13.35it/s]\u001b[A\u001b[A\u001b[A\u001b[A\u001b[A\u001b[A\u001b[A\n",
      "\n",
      "\n",
      "\n",
      "\n",
      "\n",
      "\n",
      " 74%|███████▎  | 1949/2650 [01:12<00:54, 12.86it/s]\u001b[A\u001b[A\u001b[A\u001b[A\u001b[A\u001b[A\u001b[A"
     ]
    },
    {
     "name": "stdout",
     "output_type": "stream",
     "text": [
      "AFTER: graphicone_search 2020-02-18 14:35:17.571000 ['tesla', 'elon musk'] moderator tool passed VasiliiUshakov\n",
      "BEFORE: validated\n",
      "AFTER: graphicone_search 2020-02-18 14:35:17.656000 ['larry page', 'warren buffett', 'wealth', 'facebook', 'berkshire hathaway', 'larry ellison', 'michael bloomberg', 'telecom', 'lvmh', 'bill gates', 'microsoft', 'zara', 'billionaires', 'mark zuckerberg', 'alphabet', 'amazon', 'software', 'jeff bezos'] moderator tool passed VasiliiUshakov\n",
      "BEFORE: validated\n",
      "AFTER: graphicone_search 2020-02-18 14:35:17.740000 ['bubble', 'dow jones', 'index', 's&p'] moderator tool passed VasiliiUshakov\n",
      "BEFORE: validated\n"
     ]
    },
    {
     "name": "stderr",
     "output_type": "stream",
     "text": [
      "\n",
      "\n",
      "\n",
      "\n",
      "\n",
      "\n",
      "\n",
      " 74%|███████▎  | 1951/2650 [01:12<00:55, 12.54it/s]\u001b[A\u001b[A\u001b[A\u001b[A\u001b[A\u001b[A\u001b[A"
     ]
    },
    {
     "name": "stdout",
     "output_type": "stream",
     "text": [
      "AFTER: graphicone_search 2020-02-18 14:35:17.825000 ['tesla', 'retail'] moderator tool passed VasiliiUshakov\n",
      "BEFORE: validated\n",
      "AFTER: graphicone_search 2020-02-18 14:35:17.909000 ['labor', 'manufacturing', 'consumer', 'germany'] moderator tool passed VasiliiUshakov\n",
      "BEFORE: validated\n",
      "AFTER: graphicone_search 2020-02-18 14:35:17.995000 ['recession', 'us', 'credit'] moderator tool passed VasiliiUshakov\n",
      "BEFORE: validated\n"
     ]
    },
    {
     "name": "stderr",
     "output_type": "stream",
     "text": [
      "\n",
      "\n",
      "\n",
      "\n",
      "\n",
      "\n",
      "\n",
      " 74%|███████▎  | 1953/2650 [01:12<00:56, 12.31it/s]\u001b[A\u001b[A\u001b[A\u001b[A\u001b[A\u001b[A\u001b[A\n",
      "\n",
      "\n",
      "\n",
      "\n",
      "\n",
      "\n",
      " 74%|███████▍  | 1955/2650 [01:13<00:57, 12.18it/s]\u001b[A\u001b[A\u001b[A\u001b[A\u001b[A\u001b[A\u001b[A"
     ]
    },
    {
     "name": "stdout",
     "output_type": "stream",
     "text": [
      "AFTER: graphicone_search 2020-02-18 14:35:18.078000 ['facebook', 'alibaba', 'aia group', 'general motors', 'softbank', 'energy', 'enel', 'saudi aramco', 'ipo', 'icbc', 'visa'] moderator tool passed VasiliiUshakov\n",
      "BEFORE: validated\n",
      "AFTER: graphicone_search 2020-02-18 14:35:18.163000 ['mercedes benz', 'consumer products', 'ev', 'automotive', 'us', 'consumer discretionary', 'audi', 'jaguar', 'tesla', 'bmw', 'vehicles', 'lexus'] moderator tool passed VasiliiUshakov\n",
      "BEFORE: validated\n",
      "AFTER: graphicone_search 2020-02-18 14:35:18.247000 ['ford', 'automotive', 'general motors', 'us', 'fca', 'tesla'] moderator tool passed VasiliiUshakov\n",
      "BEFORE: validated\n"
     ]
    },
    {
     "name": "stderr",
     "output_type": "stream",
     "text": [
      "\n",
      "\n",
      "\n",
      "\n",
      "\n",
      "\n",
      "\n",
      " 74%|███████▍  | 1957/2650 [01:13<00:57, 12.07it/s]\u001b[A\u001b[A\u001b[A\u001b[A\u001b[A\u001b[A\u001b[A"
     ]
    },
    {
     "name": "stdout",
     "output_type": "stream",
     "text": [
      "AFTER: graphicone_search 2020-02-18 14:35:18.332000 ['equality', 'wealth', 'labor', 'personal finance', 'cities', 'social', 'us'] moderator tool passed VasiliiUshakov\n",
      "BEFORE: validated\n",
      "AFTER: graphicone_search 2020-02-18 14:35:18.416000 ['electronics', 'us', 'samsung', 'apple'] moderator tool passed VasiliiUshakov\n",
      "BEFORE: validated\n",
      "AFTER: graphicone_search 2020-02-18 14:35:18.501000 ['walmart', 'best buy', 'amazon', \"kohl's\", 'target', 'consumer', 'retail'] moderator tool passed VasiliiUshakov\n",
      "BEFORE: validated\n"
     ]
    },
    {
     "name": "stderr",
     "output_type": "stream",
     "text": [
      "\n",
      "\n",
      "\n",
      "\n",
      "\n",
      "\n",
      "\n",
      " 74%|███████▍  | 1959/2650 [01:13<00:57, 12.00it/s]\u001b[A\u001b[A\u001b[A\u001b[A\u001b[A\u001b[A\u001b[A\n",
      "\n",
      "\n",
      "\n",
      "\n",
      "\n",
      "\n",
      " 74%|███████▍  | 1961/2650 [01:13<00:57, 11.96it/s]\u001b[A\u001b[A\u001b[A\u001b[A\u001b[A\u001b[A\u001b[A"
     ]
    },
    {
     "name": "stdout",
     "output_type": "stream",
     "text": [
      "AFTER: graphicone_search 2020-02-18 14:35:18.584000 ['us', 'emerging markets', 'index', 'msci'] moderator tool passed VasiliiUshakov\n",
      "BEFORE: validated\n",
      "AFTER: graphicone_search 2020-02-18 14:35:18.669000 ['wealth', 'goldman sachs', 'jpmorgan', 'banking', 'financials'] moderator tool passed VasiliiUshakov\n",
      "BEFORE: validated\n",
      "AFTER: graphicone_search 2020-02-18 14:35:18.753000 ['funds', 'bonds', 'fixed income'] moderator tool passed VasiliiUshakov\n",
      "BEFORE: validated\n"
     ]
    },
    {
     "name": "stderr",
     "output_type": "stream",
     "text": [
      "\n",
      "\n",
      "\n",
      "\n",
      "\n",
      "\n",
      "\n",
      " 74%|███████▍  | 1963/2650 [01:13<00:57, 11.93it/s]\u001b[A\u001b[A\u001b[A\u001b[A\u001b[A\u001b[A\u001b[A"
     ]
    },
    {
     "name": "stdout",
     "output_type": "stream",
     "text": [
      "AFTER: graphicone_search 2020-02-18 14:35:18.838000 ['woman', 'gender', 'venture', 'us', 'demography'] moderator tool passed VasiliiUshakov\n",
      "BEFORE: validated\n",
      "AFTER: graphicone_search 2020-02-18 14:35:18.922000 ['advertising', 'spotify', 'social', 'us', 'politics'] moderator tool passed VasiliiUshakov\n",
      "BEFORE: validated\n",
      "AFTER: graphicone_search 2020-02-18 14:35:19.007000 ['larry page', 'google', 'ceo', 'ipo', 'eu', 'android', 'china', 'alphabet', 'autonomous vehicles', 'youtube', 'politics', 'sergey brin', 'legal', 'internet', 'large caps', 'technology'] moderator tool passed VasiliiUshakov\n",
      "BEFORE: validated\n"
     ]
    },
    {
     "name": "stderr",
     "output_type": "stream",
     "text": [
      "\n",
      "\n",
      "\n",
      "\n",
      "\n",
      "\n",
      "\n",
      " 74%|███████▍  | 1966/2650 [01:13<00:51, 13.24it/s]\u001b[A\u001b[A\u001b[A\u001b[A\u001b[A\u001b[A\u001b[A\n",
      "\n",
      "\n",
      "\n",
      "\n",
      "\n",
      "\n",
      " 74%|███████▍  | 1968/2650 [01:14<00:53, 12.80it/s]\u001b[A\u001b[A\u001b[A\u001b[A\u001b[A\u001b[A\u001b[A"
     ]
    },
    {
     "name": "stdout",
     "output_type": "stream",
     "text": [
      "AFTER: graphicone_search 2020-02-18 14:35:19.091000 ['ipo', 'technology'] moderator tool passed VasiliiUshakov\n",
      "BEFORE: validated\n",
      "AFTER: graphicone_search 2020-02-18 14:35:19.175000 ['porsche', 'luxury', 'mercedes benz', 'automotive', 'us', 'consumer discretionary', 'audi', 'infiniti', 'acura', 'bmw', 'vehicles', 'lexus'] moderator tool passed VasiliiUshakov\n",
      "BEFORE: validated\n",
      "AFTER: graphicone_search 2020-02-18 14:35:19.259000 ['first trust', 'jpmorgan', 'blackrock', 'charles schwab', 'lord abbett', 'baird', 'us', 'pgim', 'vanguard', 'financials', 'funds', 'fidelity investments'] moderator tool passed VasiliiUshakov\n",
      "BEFORE: validated\n"
     ]
    },
    {
     "name": "stderr",
     "output_type": "stream",
     "text": [
      "\n",
      "\n",
      "\n",
      "\n",
      "\n",
      "\n",
      "\n",
      " 74%|███████▍  | 1970/2650 [01:14<00:54, 12.50it/s]\u001b[A\u001b[A\u001b[A\u001b[A\u001b[A\u001b[A\u001b[A"
     ]
    },
    {
     "name": "stdout",
     "output_type": "stream",
     "text": [
      "AFTER: graphicone_search 2020-02-18 14:35:19.344000 ['petrochina', 'chevron', 'gazprom', 'bp', 'oil', 'exxon', 'commodities', 'gas', 'rosneft', 'sinopec', 'saudi aramco', 'energy', 'global', 'shell'] moderator tool passed VasiliiUshakov\n",
      "BEFORE: validated\n",
      "AFTER: graphicone_search 2020-02-18 14:35:19.427000 ['skype', 'google', 'instagram', 'github', 'facebook', 'whatsapp', 'microsoft', 'alphabet', 'nokia', 'm&a', 'amazon', 'linkedin', 'apple', 'oculus vr', 'nest', 'beats electronics', 'motorola', 'technology'] moderator tool passed VasiliiUshakov\n",
      "BEFORE: validated\n",
      "AFTER: graphicone_search 2020-02-18 14:35:19.512000 ['cloud', 'microsoft', 'workday inc.', 'salesforce', 'new relic', 'dropbox', 'okta', 'zoom', 'software', 'slack', 'information technology'] moderator tool passed VasiliiUshakov\n",
      "BEFORE: validated\n"
     ]
    },
    {
     "name": "stderr",
     "output_type": "stream",
     "text": [
      "\n",
      "\n",
      "\n",
      "\n",
      "\n",
      "\n",
      "\n",
      " 74%|███████▍  | 1972/2650 [01:14<00:55, 12.30it/s]\u001b[A\u001b[A\u001b[A\u001b[A\u001b[A\u001b[A\u001b[A\n",
      "\n",
      "\n",
      "\n",
      "\n",
      "\n",
      "\n",
      " 74%|███████▍  | 1974/2650 [01:14<00:55, 12.16it/s]\u001b[A\u001b[A\u001b[A\u001b[A\u001b[A\u001b[A\u001b[A"
     ]
    },
    {
     "name": "stdout",
     "output_type": "stream",
     "text": [
      "AFTER: graphicone_search 2020-02-18 14:35:19.596000 ['high yield', 'ipo', 'tesla', 'bonds', 'index'] moderator tool passed VasiliiUshakov\n",
      "BEFORE: validated\n",
      "AFTER: graphicone_search 2020-02-18 14:35:19.681000 ['google', 'cloud', 'azure', 'alibaba', 'microsoft', 'amazon', 'saas', 'information technology', 'internet'] moderator tool passed VasiliiUshakov\n",
      "BEFORE: validated\n",
      "AFTER: graphicone_search 2020-02-18 14:35:19.765000 ['amazon', 'cloud', 'internet', 'technology'] moderator tool passed VasiliiUshakov\n",
      "BEFORE: validated\n"
     ]
    },
    {
     "name": "stderr",
     "output_type": "stream",
     "text": [
      "\n",
      "\n",
      "\n",
      "\n",
      "\n",
      "\n",
      "\n",
      " 75%|███████▍  | 1976/2650 [01:14<00:55, 12.06it/s]\u001b[A\u001b[A\u001b[A\u001b[A\u001b[A\u001b[A\u001b[A"
     ]
    },
    {
     "name": "stdout",
     "output_type": "stream",
     "text": [
      "AFTER: graphicone_search 2020-02-18 14:35:19.850000 ['ftse', 'index', 'uk'] moderator tool passed VasiliiUshakov\n",
      "BEFORE: validated\n",
      "AFTER: graphicone_search 2020-02-18 14:35:19.933000 ['red hat', 'google', 'cloud', 'microsoft', 'salesforce', 'amazon', 'ibm', 'oracle'] moderator tool passed VasiliiUshakov\n",
      "BEFORE: validated\n",
      "AFTER: graphicone_search 2020-02-18 14:35:20.019000 ['ev', 'ford', 'automotive', 'general motors', 'us', 'tesla', 'vehicles'] moderator tool passed VasiliiUshakov\n",
      "BEFORE: validated\n"
     ]
    },
    {
     "name": "stderr",
     "output_type": "stream",
     "text": [
      "\n",
      "\n",
      "\n",
      "\n",
      "\n",
      "\n",
      "\n",
      " 75%|███████▍  | 1978/2650 [01:14<00:55, 12.00it/s]\u001b[A\u001b[A\u001b[A\u001b[A\u001b[A\u001b[A\u001b[A\n",
      "\n",
      "\n",
      "\n",
      "\n",
      "\n",
      "\n",
      " 75%|███████▍  | 1980/2650 [01:15<00:55, 11.97it/s]\u001b[A\u001b[A\u001b[A\u001b[A\u001b[A\u001b[A\u001b[A"
     ]
    },
    {
     "name": "stdout",
     "output_type": "stream",
     "text": [
      "AFTER: graphicone_search 2020-02-18 14:35:20.103000 ['google', 'facebook', 'amazon', 'uber', 'apple', 'data', 'technology'] moderator tool passed VasiliiUshakov\n",
      "BEFORE: validated\n",
      "AFTER: graphicone_search 2020-02-18 14:35:20.187000 ['teens', 'woman', 'advertising', 'gender', 'demography', 'snap', 'social media'] moderator tool passed VasiliiUshakov\n",
      "BEFORE: validated\n",
      "AFTER: graphicone_search 2020-02-18 14:35:20.271000 ['volvo', 'hyundai', 'ecology', 'environment', 'kia', 'ford', 'automotive', 'toyota', 'renault', 'nissan', 'volkswagen', 'emissions', 'daimler', 'legal', 'bmw', 'vehicles', 'groupe psa'] moderator tool passed VasiliiUshakov\n",
      "BEFORE: validated\n"
     ]
    },
    {
     "name": "stderr",
     "output_type": "stream",
     "text": [
      "\n",
      "\n",
      "\n",
      "\n",
      "\n",
      "\n",
      "\n",
      " 75%|███████▍  | 1982/2650 [01:15<00:55, 11.94it/s]\u001b[A\u001b[A\u001b[A\u001b[A\u001b[A\u001b[A\u001b[A"
     ]
    },
    {
     "name": "stdout",
     "output_type": "stream",
     "text": [
      "AFTER: graphicone_search 2020-02-18 14:35:20.355000 ['stoxx', 'facebook', 'eu', 'microsoft', 'alphabet', 'us', 'amazon', 'apple', 'large caps', 'index', 'technology'] moderator tool passed VasiliiUshakov\n",
      "BEFORE: validated\n",
      "AFTER: graphicone_search 2020-02-18 14:35:20.439000 ['facebook', 'tv', 'digital entertainment', 'services', 'youtube', 'us', 'netflix', 'snap', 'consumer', 'streaming'] moderator tool passed VasiliiUshakov\n",
      "BEFORE: validated\n",
      "AFTER: graphicone_search 2020-02-18 14:35:20.524000 ['bitcoin', 'paypal', 'amex', 'mastercard', 'digital', 'cryptocurrency', 'payments', 'cashless', 'discover', 'pulse', 'xoom', 'western union', 'financials', 'visa'] moderator tool passed VasiliiUshakov\n",
      "BEFORE: validated\n"
     ]
    },
    {
     "name": "stderr",
     "output_type": "stream",
     "text": [
      "\n",
      "\n",
      "\n",
      "\n",
      "\n",
      "\n",
      "\n",
      " 75%|███████▍  | 1984/2650 [01:15<00:55, 11.92it/s]\u001b[A\u001b[A\u001b[A\u001b[A\u001b[A\u001b[A\u001b[A\n",
      "\n",
      "\n",
      "\n",
      "\n",
      "\n",
      "\n",
      " 75%|███████▍  | 1986/2650 [01:15<00:55, 11.90it/s]\u001b[A\u001b[A\u001b[A\u001b[A\u001b[A\u001b[A\u001b[A"
     ]
    },
    {
     "name": "stdout",
     "output_type": "stream",
     "text": [
      "AFTER: graphicone_search 2020-02-18 14:35:20.608000 ['tesla', 'apple'] moderator tool passed VasiliiUshakov\n",
      "BEFORE: validated\n",
      "AFTER: graphicone_search 2020-02-18 14:35:20.693000 ['ev', 'us', 'consumer discretionary', 'audi', 'volkswagen', 'chevrolet', 'nissan', 'tesla', 'bmw', 'vehicles'] moderator tool passed VasiliiUshakov\n",
      "BEFORE: validated\n",
      "AFTER: graphicone_search 2020-02-18 14:35:20.776000 ['goldman sachs', 'jpmorgan', 'morgan stanley', 'us', 'taxes', 'bank of america', 'banking', 'wells fargo', 'trump', 'citigroup'] moderator tool passed VasiliiUshakov\n",
      "BEFORE: validated\n"
     ]
    },
    {
     "name": "stderr",
     "output_type": "stream",
     "text": [
      "\n",
      "\n",
      "\n",
      "\n",
      "\n",
      "\n",
      "\n",
      " 75%|███████▌  | 1988/2650 [01:15<00:55, 11.89it/s]\u001b[A\u001b[A\u001b[A\u001b[A\u001b[A\u001b[A\u001b[A"
     ]
    },
    {
     "name": "stdout",
     "output_type": "stream",
     "text": [
      "AFTER: graphicone_search 2020-02-18 14:35:20.861000 ['ford', 'automotive', 'general motors', 'volkswagen', 'daimler', 'tesla', 'bmw'] moderator tool passed VasiliiUshakov\n",
      "BEFORE: validated\n",
      "AFTER: graphicone_search 2020-02-18 14:35:20.945000 ['ford', 'automotive', 'general motors', 'toyota', 'volkswagen', 'daimler', 'tesla', 'bmw'] moderator tool passed VasiliiUshakov\n",
      "BEFORE: validated\n",
      "AFTER: graphicone_search 2020-02-18 14:35:21.030000 ['developed markets', 'macro', 'gdp', 'global', 'emerging markets'] moderator tool passed VasiliiUshakov\n",
      "BEFORE: validated\n"
     ]
    },
    {
     "name": "stderr",
     "output_type": "stream",
     "text": [
      "\n",
      "\n",
      "\n",
      "\n",
      "\n",
      "\n",
      "\n",
      " 75%|███████▌  | 1990/2650 [01:15<00:55, 11.88it/s]\u001b[A\u001b[A\u001b[A\u001b[A\u001b[A\u001b[A\u001b[A\n",
      "\n",
      "\n",
      "\n",
      "\n",
      "\n",
      "\n",
      " 75%|███████▌  | 1993/2650 [01:16<00:49, 13.19it/s]\u001b[A\u001b[A\u001b[A\u001b[A\u001b[A\u001b[A\u001b[A"
     ]
    },
    {
     "name": "stdout",
     "output_type": "stream",
     "text": [
      "AFTER: graphicone_search 2020-02-18 14:35:21.114000 ['sumitomo mitsui banking corporation', 'goldman sachs', 'credit suisse', 'morgan stanley', 'bank of america', 'saudi aramco', 'banking', 'hsbc', 'citigroup'] moderator tool passed VasiliiUshakov\n",
      "BEFORE: validated\n",
      "AFTER: graphicone_search 2020-02-18 14:35:21.198000 ['marketing', 'instagram', 'digital', 'twitter', 'internet', 'data', 'social media'] moderator tool passed VasiliiUshakov\n",
      "BEFORE: validated\n",
      "AFTER: graphicone_search 2020-02-18 14:35:21.282000 ['employment', 'macro', 'gdp', 'labor', 'inflation'] moderator tool passed VasiliiUshakov\n",
      "BEFORE: validated\n"
     ]
    },
    {
     "name": "stderr",
     "output_type": "stream",
     "text": [
      "\n",
      "\n",
      "\n",
      "\n",
      "\n",
      "\n",
      "\n",
      " 75%|███████▌  | 1995/2650 [01:16<00:51, 12.77it/s]\u001b[A\u001b[A\u001b[A\u001b[A\u001b[A\u001b[A\u001b[A"
     ]
    },
    {
     "name": "stdout",
     "output_type": "stream",
     "text": [
      "AFTER: graphicone_search 2020-02-18 14:35:21.367000 ['airbus', 'boeing', 'manufacturing', 'aviation'] moderator tool passed VasiliiUshakov\n",
      "BEFORE: validated\n",
      "AFTER: graphicone_search 2020-02-18 14:35:21.450000 ['medicine', 'google', 'warren buffett', 'religion', 'tv', 'science', 'education', 'us', 'amazon', 'health', 'social', 'government', 'legal', 'information technology', 'media', 'film industry', 'wall street', 'retail'] moderator tool passed VasiliiUshakov\n",
      "BEFORE: validated\n",
      "AFTER: graphicone_search 2020-02-18 14:35:21.535000 ['airbus', 'boeing', 'manufacturing', 'aviation'] moderator tool passed VasiliiUshakov\n",
      "BEFORE: validated\n"
     ]
    },
    {
     "name": "stderr",
     "output_type": "stream",
     "text": [
      "\n",
      "\n",
      "\n",
      "\n",
      "\n",
      "\n",
      "\n",
      " 75%|███████▌  | 1997/2650 [01:16<00:52, 12.49it/s]\u001b[A\u001b[A\u001b[A\u001b[A\u001b[A\u001b[A\u001b[A\n",
      "\n",
      "\n",
      "\n",
      "\n",
      "\n",
      "\n",
      " 75%|███████▌  | 1999/2650 [01:16<00:52, 12.29it/s]\u001b[A\u001b[A\u001b[A\u001b[A\u001b[A\u001b[A\u001b[A"
     ]
    },
    {
     "name": "stdout",
     "output_type": "stream",
     "text": [
      "AFTER: graphicone_search 2020-02-18 14:35:21.619000 ['google', 'facebook', 'technology', 'microsoft', 'amazon', 'apple', 'large caps', 'index', 's&p'] moderator tool passed VasiliiUshakov\n",
      "BEFORE: validated\n",
      "AFTER: graphicone_search 2020-02-18 14:35:21.704000 ['hungryhouse', 'smartphone', 'uk', 'just eat', 'services', 'app', 'delivery', 'deliveroo', 'uber eats', 'retail', 'mobile'] moderator tool passed VasiliiUshakov\n",
      "BEFORE: validated\n",
      "AFTER: graphicone_search 2020-02-18 14:35:21.788000 ['circle', 'clearscore', 'sofi', 'credit karma', 'chime', 'revolut', 'nubank', 'moneylion', 'stash financial', 'global', 'consumer', 'fintech', 'acorns', 'n26', 'toss', 'cash app', 'digital', 'mobile payments', 'mint company', 'venmo', 'financials', 'coinbase', 'transferwise', 'internet', 'technology', 'venture', 'cashless', 'monzo', 'rainist', 'etoro', 'unicorns', 'robinhood'] moderator tool passed VasiliiUshakov\n",
      "BEFORE: validated\n"
     ]
    },
    {
     "name": "stderr",
     "output_type": "stream",
     "text": [
      "\n",
      "\n",
      "\n",
      "\n",
      "\n",
      "\n",
      "\n",
      " 76%|███████▌  | 2001/2650 [01:16<00:53, 12.16it/s]\u001b[A\u001b[A\u001b[A\u001b[A\u001b[A\u001b[A\u001b[A"
     ]
    },
    {
     "name": "stdout",
     "output_type": "stream",
     "text": [
      "AFTER: graphicone_search 2020-02-18 14:35:21.873000 ['hyundai', 'ford', 'automotive', 'general motors', 'toyota', 'renault', 'us', 'fca', 'volkswagen', 'honda'] moderator tool passed VasiliiUshakov\n",
      "BEFORE: validated\n",
      "AFTER: graphicone_search 2020-02-18 14:35:21.956000 ['us', 'consumer discretionary', 'vehicles', 'bmw'] moderator tool passed VasiliiUshakov\n",
      "BEFORE: validated\n",
      "AFTER: graphicone_search 2020-02-18 14:35:22.041000 ['red hat', 'facebook', 'emc', 'whatsapp', 'technology', 'compaq', 'microsoft', 'softbank', 'm&a', 'linkedin', 'xerox', 'broadcom', 'hp', 'dell', 'ibm'] moderator tool passed VasiliiUshakov\n",
      "BEFORE: validated\n"
     ]
    },
    {
     "name": "stderr",
     "output_type": "stream",
     "text": [
      "\n",
      "\n",
      "\n",
      "\n",
      "\n",
      "\n",
      "\n",
      " 76%|███████▌  | 2003/2650 [01:16<00:53, 12.07it/s]\u001b[A\u001b[A\u001b[A\u001b[A\u001b[A\u001b[A\u001b[A\n",
      "\n",
      "\n",
      "\n",
      "\n",
      "\n",
      "\n",
      " 76%|███████▌  | 2006/2650 [01:17<00:48, 13.35it/s]\u001b[A\u001b[A\u001b[A\u001b[A\u001b[A\u001b[A\u001b[A"
     ]
    },
    {
     "name": "stdout",
     "output_type": "stream",
     "text": [
      "AFTER: graphicone_search 2020-02-18 14:35:22.125000 ['digital', 'music', 'mobile payments', 'cashless', 'app', 'apple', 'technology'] moderator tool passed VasiliiUshakov\n",
      "BEFORE: validated\n",
      "AFTER: graphicone_search 2020-02-18 14:35:22.210000 ['bbc', 'google', 'sticher', 'canada', 'uk', 'downcast', 'digital entertainment', 'wireless', 'music', 'spotify', 'us', 'australia', 'radio', 'apple', 'streaming'] moderator tool passed VasiliiUshakov\n",
      "BEFORE: validated\n",
      "AFTER: graphicone_search 2020-02-18 14:35:22.294000 ['exxon', 'materials', 'vanguard', 'communications', 'industrials', 'blackrock', 'health', 'energy', 'apple', 's&p', 'utilities', 'consumer staples', 'host hotels & resorts', 'us', 'consumer discretionary', 'financials', 'johnson & johnson', 'technology', 'jpmorgan', 'las vegas sands', 'lockheed martin', 'microsoft', 'amazon', 'large caps', 'index'] moderator tool passed VasiliiUshakov\n",
      "BEFORE: validated\n"
     ]
    },
    {
     "name": "stderr",
     "output_type": "stream",
     "text": [
      "\n",
      "\n",
      "\n",
      "\n",
      "\n",
      "\n",
      "\n",
      " 76%|███████▌  | 2009/2650 [01:17<00:44, 14.43it/s]\u001b[A\u001b[A\u001b[A\u001b[A\u001b[A\u001b[A\u001b[A"
     ]
    },
    {
     "name": "stdout",
     "output_type": "stream",
     "text": [
      "AFTER: graphicone_search 2020-02-18 14:35:22.379000 ['facebook', 'brazil', 'india', 'nigeria', 'indonesia', 'us', 'internet', 'social media'] moderator tool passed VasiliiUshakov\n",
      "BEFORE: validated\n",
      "AFTER: graphicone_search 2020-02-18 14:35:22.463000 ['mercedes benz', 'the travelers companies', 'nike', 'charles schwab', 'principal financial group', 'advertising', 'verizon', 'marketing'] moderator tool passed VasiliiUshakov\n",
      "BEFORE: validated\n",
      "AFTER: graphicone_search 2020-02-18 14:35:22.547000 ['berkshire hathaway', 'financials', 'large caps', 'index', 's&p'] moderator tool passed VasiliiUshakov\n",
      "BEFORE: validated\n"
     ]
    },
    {
     "name": "stderr",
     "output_type": "stream",
     "text": [
      "\n",
      "\n",
      "\n",
      "\n",
      "\n",
      "\n",
      "\n",
      " 76%|███████▌  | 2011/2650 [01:17<00:47, 13.55it/s]\u001b[A\u001b[A\u001b[A\u001b[A\u001b[A\u001b[A\u001b[A\n",
      "\n",
      "\n",
      "\n",
      "\n",
      "\n",
      "\n",
      " 76%|███████▌  | 2013/2650 [01:17<00:49, 12.99it/s]\u001b[A\u001b[A\u001b[A\u001b[A\u001b[A\u001b[A\u001b[A"
     ]
    },
    {
     "name": "stdout",
     "output_type": "stream",
     "text": [
      "AFTER: graphicone_search 2020-02-18 14:35:22.631000 ['environment', 'uk', 'aviation', 'disasters', 'trade', 'export', 'commodities', 'gas', 'amazon', 'emissions', 'australia', 'global', 'ecology', 'coal'] moderator tool passed VasiliiUshakov\n",
      "BEFORE: validated\n",
      "AFTER: graphicone_search 2020-02-18 14:35:22.716000 ['industrials', 'ford', 'automotive', 'general motors', 'tesla'] moderator tool passed VasiliiUshakov\n",
      "BEFORE: validated\n",
      "AFTER: graphicone_search 2020-02-18 14:35:22.800000 ['wealth', 'ceo', 'inditex', 'facebook', 'lvmh', 'personal finance', 'billionaires', 'mark zuckerberg', 'us', 'amazon', 'wipro', 'global', 'uber', 'zall smart commerce group', 'jeff bezos', 'reliance industries', 'essel group'] moderator tool passed VasiliiUshakov\n",
      "BEFORE: validated\n"
     ]
    },
    {
     "name": "stderr",
     "output_type": "stream",
     "text": [
      "\n",
      "\n",
      "\n",
      "\n",
      "\n",
      "\n",
      "\n",
      " 76%|███████▌  | 2016/2650 [01:17<00:44, 14.13it/s]\u001b[A\u001b[A\u001b[A\u001b[A\u001b[A\u001b[A\u001b[A"
     ]
    },
    {
     "name": "stdout",
     "output_type": "stream",
     "text": [
      "AFTER: graphicone_search 2020-02-18 14:35:22.885000 ['chevron', 'bp', 'advertising', 'oil', 'exxon', 'conocophillips', 'commodities', 'us', 'energy', 'shell'] moderator tool passed VasiliiUshakov\n",
      "BEFORE: validated\n",
      "AFTER: graphicone_search 2020-02-18 14:35:22.969000 ['apple', 'consumer products', 'amd', 'nvidia', 'twitter', 'wireless', 'square', 'spotify', 'shopify', 'adobe', 'netflix', 'snap', 'uber', 'tesla', 'hardware', 'electronics', 'technology'] moderator tool passed VasiliiUshakov\n",
      "BEFORE: validated\n",
      "AFTER: graphicone_search 2020-02-18 14:35:23.054000 ['ford', 'automotive', 'general motors', 'us', 'fca', 'tesla', 'vehicles'] moderator tool passed VasiliiUshakov\n",
      "BEFORE: validated\n"
     ]
    },
    {
     "name": "stderr",
     "output_type": "stream",
     "text": [
      "\n",
      "\n",
      "\n",
      "\n",
      "\n",
      "\n",
      "\n",
      " 76%|███████▌  | 2019/2650 [01:17<00:41, 15.06it/s]\u001b[A\u001b[A\u001b[A\u001b[A\u001b[A\u001b[A\u001b[A\n",
      "\n",
      "\n",
      "\n",
      "\n",
      "\n",
      "\n",
      " 76%|███████▋  | 2021/2650 [01:18<00:45, 13.94it/s]\u001b[A\u001b[A\u001b[A\u001b[A\u001b[A\u001b[A\u001b[A"
     ]
    },
    {
     "name": "stdout",
     "output_type": "stream",
     "text": [
      "AFTER: graphicone_search 2020-02-18 14:35:23.137000 ['jpmorgan', 'eu', 'societe generale', 'us', 'bank of america', 'bnp paribas', 'us bancorp', 'banking', 'lloyds', 'wells fargo', 'hsbc', 'ubs', 'santander'] moderator tool passed VasiliiUshakov\n",
      "BEFORE: validated\n",
      "AFTER: graphicone_search 2020-02-18 14:35:23.222000 ['jpmorgan', 'us', 'bank of america', 'banking', 'technology', 'citigroup'] moderator tool passed VasiliiUshakov\n",
      "BEFORE: validated\n",
      "AFTER: graphicone_search 2020-02-18 14:35:23.306000 ['instagram', 'facebook', 'reddit', 'whatsapp', 'woman', 'digital entertainment', 'digital', 'pinterest', 'youtube', 'social', 'us', 'demography', 'digital media', 'internet', 'social media'] moderator tool passed VasiliiUshakov\n",
      "BEFORE: validated\n"
     ]
    },
    {
     "name": "stderr",
     "output_type": "stream",
     "text": [
      "\n",
      "\n",
      "\n",
      "\n",
      "\n",
      "\n",
      "\n",
      " 76%|███████▋  | 2023/2650 [01:18<00:47, 13.26it/s]\u001b[A\u001b[A\u001b[A\u001b[A\u001b[A\u001b[A\u001b[A"
     ]
    },
    {
     "name": "stdout",
     "output_type": "stream",
     "text": [
      "AFTER: graphicone_search 2020-02-18 14:35:23.391000 ['ev', 'us', 'chevrolet', 'nissan', 'tesla', 'vehicles'] moderator tool passed VasiliiUshakov\n",
      "BEFORE: validated\n",
      "AFTER: graphicone_search 2020-02-18 14:35:23.474000 ['marketing'] moderator tool passed VasiliiUshakov\n",
      "BEFORE: validated\n",
      "AFTER: graphicone_search 2020-02-18 14:35:23.559000 ['barclays', 'blackrock', 'vanguard', 'financials', 'index'] moderator tool passed VasiliiUshakov\n",
      "BEFORE: validated\n"
     ]
    },
    {
     "name": "stderr",
     "output_type": "stream",
     "text": [
      "\n",
      "\n",
      "\n",
      "\n",
      "\n",
      "\n",
      "\n",
      " 76%|███████▋  | 2026/2650 [01:18<00:43, 14.37it/s]\u001b[A\u001b[A\u001b[A\u001b[A\u001b[A\u001b[A\u001b[A\n",
      "\n",
      "\n",
      "\n",
      "\n",
      "\n",
      "\n",
      " 77%|███████▋  | 2028/2650 [01:18<00:45, 13.52it/s]\u001b[A\u001b[A\u001b[A\u001b[A\u001b[A\u001b[A\u001b[A"
     ]
    },
    {
     "name": "stdout",
     "output_type": "stream",
     "text": [
      "AFTER: graphicone_search 2020-02-18 14:35:23.642000 ['us', 'fed'] moderator tool passed VasiliiUshakov\n",
      "BEFORE: validated\n",
      "AFTER: graphicone_search 2020-02-18 14:35:23.726000 ['tesla'] moderator tool passed VasiliiUshakov\n",
      "BEFORE: validated\n",
      "AFTER: graphicone_search 2020-02-18 14:35:23.810000 ['tesla', 'hardware', 'vehicles', 'ev'] moderator tool passed VasiliiUshakov\n",
      "BEFORE: validated\n"
     ]
    },
    {
     "name": "stderr",
     "output_type": "stream",
     "text": [
      "\n",
      "\n",
      "\n",
      "\n",
      "\n",
      "\n",
      "\n",
      " 77%|███████▋  | 2031/2650 [01:18<00:42, 14.58it/s]\u001b[A\u001b[A\u001b[A\u001b[A\u001b[A\u001b[A\u001b[A"
     ]
    },
    {
     "name": "stdout",
     "output_type": "stream",
     "text": [
      "AFTER: graphicone_search 2020-02-18 14:35:23.895000 ['tesla', 'consumer discretionary', 'vehicles', 'ev'] moderator tool passed VasiliiUshakov\n",
      "BEFORE: validated\n",
      "AFTER: graphicone_search 2020-02-18 14:35:23.978000 ['california', 'us', 'environment', 'australia'] moderator tool passed VasiliiUshakov\n",
      "BEFORE: validated\n",
      "AFTER: graphicone_search 2020-02-18 14:35:24.063000 ['sentiment', 'consumer', 'large caps', 'index', 's&p'] moderator tool passed VasiliiUshakov\n",
      "BEFORE: validated\n"
     ]
    },
    {
     "name": "stderr",
     "output_type": "stream",
     "text": [
      "\n",
      "\n",
      "\n",
      "\n",
      "\n",
      "\n",
      "\n",
      " 77%|███████▋  | 2033/2650 [01:19<00:45, 13.65it/s]\u001b[A\u001b[A\u001b[A\u001b[A\u001b[A\u001b[A\u001b[A\n",
      "\n",
      "\n",
      "\n",
      "\n",
      "\n",
      "\n",
      " 77%|███████▋  | 2035/2650 [01:19<00:47, 13.07it/s]\u001b[A\u001b[A\u001b[A\u001b[A\u001b[A\u001b[A\u001b[A"
     ]
    },
    {
     "name": "stdout",
     "output_type": "stream",
     "text": [
      "AFTER: graphicone_search 2020-02-18 14:35:24.146000 ['consumer products', 'ev', 'ford', 'automotive', 'general motors', 'consumer discretionary', 'fca', 'global', 'tesla', 'vehicles'] moderator tool passed VasiliiUshakov\n",
      "BEFORE: validated\n",
      "AFTER: graphicone_search 2020-02-18 14:35:24.231000 ['tesla', 'vehicles', 'automotive', 'ev'] moderator tool passed VasiliiUshakov\n",
      "BEFORE: validated\n",
      "AFTER: graphicone_search 2020-02-18 14:35:24.315000 ['woman', 'gender', 'social', 'demography', 'uber', 'car sharing'] moderator tool passed VasiliiUshakov\n",
      "BEFORE: validated\n"
     ]
    },
    {
     "name": "stderr",
     "output_type": "stream",
     "text": [
      "\n",
      "\n",
      "\n",
      "\n",
      "\n",
      "\n",
      "\n",
      " 77%|███████▋  | 2038/2650 [01:19<00:43, 14.19it/s]\u001b[A\u001b[A\u001b[A\u001b[A\u001b[A\u001b[A\u001b[A"
     ]
    },
    {
     "name": "stdout",
     "output_type": "stream",
     "text": [
      "AFTER: graphicone_search 2020-02-18 14:35:24.400000 ['gasoline', 'metals & mining', 'gas', 'titanium', 'platinum', 'sugar', 'retail', 'silver', 'wood', 'fuel', 'iron', 'oil', 'palladium', 'energy', 'lithium', 'gold', 'corn', 'uranium', 'soybean', 'wheat', 'zinc', 'copper', 'coal', 'coffee', 'cobalt', 'vanadium', 'commodities', 'nickel', 'agriculture', 'cotton'] moderator tool passed VasiliiUshakov\n",
      "BEFORE: validated\n",
      "AFTER: graphicone_search 2020-02-18 14:35:24.484000 ['japan', 'macro', 'cash', 'gdp', 'canada', 'eu', 'switzerland', 'us', 'russia', 'global'] moderator tool passed VasiliiUshakov\n",
      "BEFORE: validated\n",
      "AFTER: graphicone_search 2020-02-18 14:35:24.569000 ['instagram', 'facebook', 'global', 'internet', 'marketing', 'social media'] moderator tool passed VasiliiUshakov\n",
      "BEFORE: validated\n"
     ]
    },
    {
     "name": "stderr",
     "output_type": "stream",
     "text": [
      "\n",
      "\n",
      "\n",
      "\n",
      "\n",
      "\n",
      "\n",
      " 77%|███████▋  | 2040/2650 [01:19<00:45, 13.40it/s]\u001b[A\u001b[A\u001b[A\u001b[A\u001b[A\u001b[A\u001b[A\n",
      "\n",
      "\n",
      "\n",
      "\n",
      "\n",
      "\n",
      " 77%|███████▋  | 2042/2650 [01:19<00:47, 12.90it/s]\u001b[A\u001b[A\u001b[A\u001b[A\u001b[A\u001b[A\u001b[A"
     ]
    },
    {
     "name": "stdout",
     "output_type": "stream",
     "text": [
      "AFTER: graphicone_search 2020-02-18 14:35:24.652000 ['foreign investment', 'household', 'us', 'buyback', 'government', 'pension funds'] moderator tool passed VasiliiUshakov\n",
      "BEFORE: validated\n",
      "AFTER: graphicone_search 2020-02-18 14:35:24.737000 ['japan', 'environment', 'eu', 'india', 'china', 'us', 'energy', 'russia', 'emissions', 'global', 'ecology'] moderator tool passed VasiliiUshakov\n",
      "BEFORE: validated\n",
      "AFTER: graphicone_search 2020-02-18 14:35:24.821000 ['environment', 'south america', 'disasters', 'us', 'australia', 'california'] moderator tool passed VasiliiUshakov\n",
      "BEFORE: validated\n"
     ]
    },
    {
     "name": "stderr",
     "output_type": "stream",
     "text": [
      "\n",
      "\n",
      "\n",
      "\n",
      "\n",
      "\n",
      "\n",
      " 77%|███████▋  | 2044/2650 [01:19<00:48, 12.57it/s]\u001b[A\u001b[A\u001b[A\u001b[A\u001b[A\u001b[A\u001b[A"
     ]
    },
    {
     "name": "stdout",
     "output_type": "stream",
     "text": [
      "AFTER: graphicone_search 2020-02-18 14:35:24.906000 ['eu', 'asia', 'africa', 'us', 'global', 'internet'] moderator tool passed VasiliiUshakov\n",
      "BEFORE: validated\n",
      "AFTER: graphicone_search 2020-02-18 14:35:24.989000 ['porsche', 'luxury', 'cadillac', 'land rover', 'infiniti', 'tesla', 'volvo', 'mercedes benz', 'jaguar', 'us', 'consumer discretionary', 'audi', 'buick', 'automotive', 'lincoln', 'genesis', 'acura', 'vehicles', 'lexus', 'alfa romeo'] moderator tool passed VasiliiUshakov\n",
      "BEFORE: validated\n",
      "AFTER: graphicone_search 2020-02-18 14:35:25.074000 ['berkshire hathaway', 'dividends', 'us', 'index', 's&p'] moderator tool passed VasiliiUshakov\n",
      "BEFORE: validated\n"
     ]
    },
    {
     "name": "stderr",
     "output_type": "stream",
     "text": [
      "\n",
      "\n",
      "\n",
      "\n",
      "\n",
      "\n",
      "\n",
      " 77%|███████▋  | 2046/2650 [01:20<00:48, 12.35it/s]\u001b[A\u001b[A\u001b[A\u001b[A\u001b[A\u001b[A\u001b[A\n",
      "\n",
      "\n",
      "\n",
      "\n",
      "\n",
      "\n",
      " 77%|███████▋  | 2048/2650 [01:20<00:49, 12.20it/s]\u001b[A\u001b[A\u001b[A\u001b[A\u001b[A\u001b[A\u001b[A"
     ]
    },
    {
     "name": "stdout",
     "output_type": "stream",
     "text": [
      "AFTER: graphicone_search 2020-02-18 14:35:25.158000 ['delta airlines', 'emirates', 'american airlines', 'aviation', 'southwest airlines', 'british airways', 'united airlines', 'lufthansa', 'china eastern', 'global', 'transportation', 'air china'] moderator tool passed VasiliiUshakov\n",
      "BEFORE: validated\n",
      "AFTER: graphicone_search 2020-02-18 14:35:25.243000 ['google', 'cloud', 'alibaba', 'facebook', 'technology', 'microsoft', 'amazon', 'information technology', 'ibm'] moderator tool passed VasiliiUshakov\n",
      "BEFORE: validated\n",
      "AFTER: graphicone_search 2020-02-18 14:35:25.326000 ['travel', 'personal finance', 'alcohol', 'leisure', 'retail', 'savings'] moderator tool passed VasiliiUshakov\n",
      "BEFORE: validated\n"
     ]
    },
    {
     "name": "stderr",
     "output_type": "stream",
     "text": [
      "\n",
      "\n",
      "\n",
      "\n",
      "\n",
      "\n",
      "\n",
      " 77%|███████▋  | 2050/2650 [01:20<00:49, 12.10it/s]\u001b[A\u001b[A\u001b[A\u001b[A\u001b[A\u001b[A\u001b[A"
     ]
    },
    {
     "name": "stdout",
     "output_type": "stream",
     "text": [
      "AFTER: graphicone_search 2020-02-18 14:35:25.411000 ['bubble', 'gdp', 'nyse', 'real estate', 'us', 'information technology', 'internet', 'large caps', 'index', 's&p', 'debt'] moderator tool passed VasiliiUshakov\n",
      "BEFORE: validated\n",
      "AFTER: graphicone_search 2020-02-18 14:35:25.495000 ['twitter', 'china', 'politics', 'social media'] moderator tool passed VasiliiUshakov\n",
      "BEFORE: validated\n",
      "AFTER: graphicone_search 2020-02-18 14:35:25.580000 ['dividends', 'large caps', 'index', 's&p'] moderator tool passed VasiliiUshakov\n",
      "BEFORE: validated\n"
     ]
    },
    {
     "name": "stderr",
     "output_type": "stream",
     "text": [
      "\n",
      "\n",
      "\n",
      "\n",
      "\n",
      "\n",
      "\n",
      " 77%|███████▋  | 2052/2650 [01:20<00:49, 12.03it/s]\u001b[A\u001b[A\u001b[A\u001b[A\u001b[A\u001b[A\u001b[A\n",
      "\n",
      "\n",
      "\n",
      "\n",
      "\n",
      "\n",
      " 78%|███████▊  | 2054/2650 [01:20<00:49, 11.98it/s]\u001b[A\u001b[A\u001b[A\u001b[A\u001b[A\u001b[A\u001b[A"
     ]
    },
    {
     "name": "stdout",
     "output_type": "stream",
     "text": [
      "AFTER: graphicone_search 2020-02-18 14:35:25.664000 ['consumer products', 'ev', 'consumer discretionary', 'tesla', 'vehicles'] moderator tool passed VasiliiUshakov\n",
      "BEFORE: validated\n",
      "AFTER: graphicone_search 2020-02-18 14:35:25.748000 ['ism', 'pmi', 'large caps', 'index', 's&p'] moderator tool passed VasiliiUshakov\n",
      "BEFORE: validated\n",
      "AFTER: graphicone_search 2020-02-18 14:35:25.832000 ['disasters', 'australia'] moderator tool passed VasiliiUshakov\n",
      "BEFORE: validated\n"
     ]
    },
    {
     "name": "stderr",
     "output_type": "stream",
     "text": [
      "\n",
      "\n",
      "\n",
      "\n",
      "\n",
      "\n",
      "\n",
      " 78%|███████▊  | 2056/2650 [01:20<00:49, 11.94it/s]\u001b[A\u001b[A\u001b[A\u001b[A\u001b[A\u001b[A\u001b[A"
     ]
    },
    {
     "name": "stdout",
     "output_type": "stream",
     "text": [
      "AFTER: graphicone_search 2020-02-18 14:35:25.917000 ['advertising', 'instagram', 'internet', 'social media'] moderator tool passed VasiliiUshakov\n",
      "BEFORE: validated\n",
      "AFTER: graphicone_search 2020-02-18 14:35:26 ['chevron', 'berkshire hathaway', 'walmart', 'exxon', 'global', 'apple'] moderator tool passed VasiliiUshakov\n",
      "BEFORE: validated\n",
      "AFTER: graphicone_search 2020-02-18 14:35:26.086000 ['japan', 'uk', 'eu', 'dividends', 'currency', 'us', 'global', 'emerging markets', 'index', 's&p', 'msci'] moderator tool passed VasiliiUshakov\n",
      "BEFORE: validated\n"
     ]
    },
    {
     "name": "stderr",
     "output_type": "stream",
     "text": [
      "\n",
      "\n",
      "\n",
      "\n",
      "\n",
      "\n",
      "\n",
      " 78%|███████▊  | 2058/2650 [01:21<00:49, 11.92it/s]\u001b[A\u001b[A\u001b[A\u001b[A\u001b[A\u001b[A\u001b[A\n",
      "\n",
      "\n",
      "\n",
      "\n",
      "\n",
      "\n",
      " 78%|███████▊  | 2060/2650 [01:21<00:49, 11.90it/s]\u001b[A\u001b[A\u001b[A\u001b[A\u001b[A\u001b[A\u001b[A"
     ]
    },
    {
     "name": "stdout",
     "output_type": "stream",
     "text": [
      "AFTER: graphicone_search 2020-02-18 14:35:26.169000 ['warren buffett', 'berkshire hathaway', 'dividends', 'financials', 'large caps', 'index', 's&p'] moderator tool passed VasiliiUshakov\n",
      "BEFORE: validated\n",
      "AFTER: graphicone_search 2020-02-18 14:35:26.254000 ['climate change', 'ecology', 'environment', 'australia'] moderator tool passed VasiliiUshakov\n",
      "BEFORE: validated\n",
      "AFTER: graphicone_search 2020-02-18 14:35:26.338000 ['facebook', 'mastercard', 'jpmorgan', 'technology', 'home depot', 'at&t', 'alphabet', 'microsoft', 'bank of america', 'amazon', 'apple', 'procter&gamble', 'information technology', 'disney', 'large caps', 'index', 's&p', 'citigroup'] moderator tool passed VasiliiUshakov\n",
      "BEFORE: validated\n"
     ]
    },
    {
     "name": "stderr",
     "output_type": "stream",
     "text": [
      "\n",
      "\n",
      "\n",
      "\n",
      "\n",
      "\n",
      "\n",
      " 78%|███████▊  | 2062/2650 [01:21<00:49, 11.89it/s]\u001b[A\u001b[A\u001b[A\u001b[A\u001b[A\u001b[A\u001b[A"
     ]
    },
    {
     "name": "stdout",
     "output_type": "stream",
     "text": [
      "AFTER: graphicone_search 2020-02-18 14:35:26.423000 ['sartorius ag', 'consumer staples', 'magellan financial', 'constellation software', 'monataro', 'new zealand', 'asahi intecc', 'netflix', 'neurocrine biosciences', 'gmo payment', \"domino's\", 'index', 'retail', 'msci'] moderator tool passed VasiliiUshakov\n",
      "BEFORE: validated\n",
      "AFTER: graphicone_search 2020-02-18 14:35:26.506000 ['doubleclick', 'linkedin', 'oculus vr', 'skype', 'facebook', 'htc', 'looker', 'zappos', 'apple', 'nest', 'whole foods', 'motorola', 'github', 'instagram', 'mojang ab', 'aquantive', 'ring', 'technology', 'google', 'whatsapp', 'fitbit', 'yammer', 'intel', 'microsoft', 'youtube', 'nokia', 'amazon'] moderator tool passed VasiliiUshakov\n",
      "BEFORE: validated\n",
      "AFTER: graphicone_search 2020-02-18 14:35:26.592000 ['italy', 'index', 'dax'] moderator tool passed VasiliiUshakov\n",
      "BEFORE: validated\n"
     ]
    },
    {
     "name": "stderr",
     "output_type": "stream",
     "text": [
      "\n",
      "\n",
      "\n",
      "\n",
      "\n",
      "\n",
      "\n",
      " 78%|███████▊  | 2067/2650 [01:21<00:40, 14.49it/s]\u001b[A\u001b[A\u001b[A\u001b[A\u001b[A\u001b[A\u001b[A\n",
      "\n",
      "\n",
      "\n",
      "\n",
      "\n",
      "\n",
      " 78%|███████▊  | 2070/2650 [01:21<00:37, 15.34it/s]\u001b[A\u001b[A\u001b[A\u001b[A\u001b[A\u001b[A\u001b[A"
     ]
    },
    {
     "name": "stdout",
     "output_type": "stream",
     "text": [
      "AFTER: graphicone_search 2020-02-18 14:35:26.675000 ['equality', 'new york', 'chicago', 'cities', 'social justice', 'us', 'social', 'los angeles', 'philadelphia'] moderator tool passed VasiliiUshakov\n",
      "BEFORE: validated\n",
      "AFTER: graphicone_search 2020-02-18 14:35:26.760000 ['clean energy', 'oil', 'commodities', 'gas', 'renewables', 'us', 'energy', 'nuclear power', 'coal'] moderator tool passed VasiliiUshakov\n",
      "BEFORE: validated\n",
      "AFTER: graphicone_search 2020-02-18 14:35:26.844000 ['us', 'personal finance', 'savings'] moderator tool passed VasiliiUshakov\n",
      "BEFORE: validated\n"
     ]
    },
    {
     "name": "stderr",
     "output_type": "stream",
     "text": [
      "\n",
      "\n",
      "\n",
      "\n",
      "\n",
      "\n",
      "\n",
      " 78%|███████▊  | 2072/2650 [01:21<00:41, 14.08it/s]\u001b[A\u001b[A\u001b[A\u001b[A\u001b[A\u001b[A\u001b[A"
     ]
    },
    {
     "name": "stdout",
     "output_type": "stream",
     "text": [
      "AFTER: graphicone_search 2020-02-18 14:35:26.929000 ['social', 'uk', 'politics', 'democracy'] moderator tool passed VasiliiUshakov\n",
      "BEFORE: validated\n",
      "AFTER: graphicone_search 2020-02-18 14:35:27.013000 ['ecb', 'quantitative tightening', 'inflation', 'recession', 'bonds', 'macro', 'north korea', 'eu', 'china', 'global', 'fed', 'credit', 'geopolitics', 'default', 'us', 'politics', 'debt', 'trade war', 'uk', 'fms', 'crisis', 'government debt', 'monetary policy'] moderator tool passed VasiliiUshakov\n",
      "BEFORE: validated\n",
      "AFTER: graphicone_search 2020-02-18 14:35:27.098000 ['large caps', 'volatility', 'index', 's&p'] moderator tool passed VasiliiUshakov\n",
      "BEFORE: validated\n"
     ]
    },
    {
     "name": "stderr",
     "output_type": "stream",
     "text": [
      "\n",
      "\n",
      "\n",
      "\n",
      "\n",
      "\n",
      "\n",
      " 78%|███████▊  | 2074/2650 [01:22<00:43, 13.33it/s]\u001b[A\u001b[A\u001b[A\u001b[A\u001b[A\u001b[A\u001b[A\n",
      "\n",
      "\n",
      "\n",
      "\n",
      "\n",
      "\n",
      " 78%|███████▊  | 2076/2650 [01:22<00:44, 12.85it/s]\u001b[A\u001b[A\u001b[A\u001b[A\u001b[A\u001b[A\u001b[A"
     ]
    },
    {
     "name": "stdout",
     "output_type": "stream",
     "text": [
      "AFTER: graphicone_search 2020-02-18 14:35:27.182000 ['smartphone', 'blackberry', 'consumer products', 'technology', 'microsoft', 'consumer discretionary', 'ios', 'global', 'electronics', 'consumer', 'retail'] moderator tool passed VasiliiUshakov\n",
      "BEFORE: validated\n",
      "AFTER: graphicone_search 2020-02-18 14:35:27.267000 ['oil', 'commodities', 'nymex', 'energy', 'large caps', 'index', 's&p'] moderator tool passed VasiliiUshakov\n",
      "BEFORE: validated\n",
      "AFTER: graphicone_search 2020-02-18 14:35:27.351000 ['macro', 'sentiment', 'monetary policy', 'large caps', 'index', 's&p'] moderator tool passed VasiliiUshakov\n",
      "BEFORE: validated\n"
     ]
    },
    {
     "name": "stderr",
     "output_type": "stream",
     "text": [
      "\n",
      "\n",
      "\n",
      "\n",
      "\n",
      "\n",
      "\n",
      " 78%|███████▊  | 2078/2650 [01:22<00:45, 12.54it/s]\u001b[A\u001b[A\u001b[A\u001b[A\u001b[A\u001b[A\u001b[A"
     ]
    },
    {
     "name": "stdout",
     "output_type": "stream",
     "text": [
      "AFTER: graphicone_search 2020-02-18 14:35:27.436000 ['twitter', 'politics', 'deficit', 'internet', 'trump', 'social media', 'debt'] moderator tool passed VasiliiUshakov\n",
      "BEFORE: validated\n",
      "AFTER: graphicone_search 2020-02-18 14:35:27.519000 ['afghanistan', 'population', 'syria', 'myanmar', 'social', 'refugees', 'sudan', 'somalia', 'migration'] moderator tool passed VasiliiUshakov\n",
      "BEFORE: validated\n",
      "AFTER: graphicone_search 2020-02-18 14:35:27.604000 ['large caps', 'index', 's&p'] moderator tool passed VasiliiUshakov\n",
      "BEFORE: validated\n"
     ]
    },
    {
     "name": "stderr",
     "output_type": "stream",
     "text": [
      "\n",
      "\n",
      "\n",
      "\n",
      "\n",
      "\n",
      "\n",
      " 78%|███████▊  | 2080/2650 [01:22<00:46, 12.33it/s]\u001b[A\u001b[A\u001b[A\u001b[A\u001b[A\u001b[A\u001b[A\n",
      "\n",
      "\n",
      "\n",
      "\n",
      "\n",
      "\n",
      " 79%|███████▊  | 2082/2650 [01:22<00:46, 12.18it/s]\u001b[A\u001b[A\u001b[A\u001b[A\u001b[A\u001b[A\u001b[A"
     ]
    },
    {
     "name": "stdout",
     "output_type": "stream",
     "text": [
      "AFTER: graphicone_search 2020-02-18 14:35:27.688000 ['buyback', 'large caps', 'index', 's&p'] moderator tool passed VasiliiUshakov\n",
      "BEFORE: validated\n",
      "AFTER: graphicone_search 2020-02-18 14:35:27.773000 ['equality', 'sweden', 'germany', 'norway', 'gender', 'italy', 'nicaragua', 'rwanda', 'new zealand', 'social', 'iceland', 'finland', 'global', 'france', 'spain', 'index', 'ireland'] moderator tool passed VasiliiUshakov\n",
      "BEFORE: validated\n",
      "AFTER: graphicone_search 2020-02-18 14:35:27.857000 ['copper', 'metals & mining', 'commodities'] moderator tool passed VasiliiUshakov\n",
      "BEFORE: validated\n"
     ]
    },
    {
     "name": "stderr",
     "output_type": "stream",
     "text": [
      "\n",
      "\n",
      "\n",
      "\n",
      "\n",
      "\n",
      "\n",
      " 79%|███████▊  | 2085/2650 [01:22<00:42, 13.44it/s]\u001b[A\u001b[A\u001b[A\u001b[A\u001b[A\u001b[A\u001b[A"
     ]
    },
    {
     "name": "stdout",
     "output_type": "stream",
     "text": [
      "AFTER: graphicone_search 2020-02-18 14:35:27.942000 ['newmont goldcorp', 'pjsc polyus', 'barrick gold', 'metals & mining', 'randgold resources', 'nordgold', 'kinross gold corporation', 'agnico eagle mines limited', 'global', 'gold', 'goldcorp', 'polymetal international', 'harmony gold mining', 'shandong gold group', 'zijin mining', 'yamana gold', 'anglogold ashanti', 'freeport-mcmoran', 'commodities', 'sibanye-stillwater', 'avoi mining and metallurgy combinant', 'newcrest mining', 'gold fields'] moderator tool passed VasiliiUshakov\n",
      "BEFORE: validated\n",
      "AFTER: graphicone_search 2020-02-18 14:35:28.026000 ['macro', 'inflation', 'recession', 'cpi', 'index'] moderator tool passed VasiliiUshakov\n",
      "BEFORE: validated\n",
      "AFTER: graphicone_search 2020-02-18 14:35:28.111000 ['personal finance', 'microsoft', 'dividends', 'taxes'] moderator tool passed VasiliiUshakov\n",
      "BEFORE: validated\n"
     ]
    },
    {
     "name": "stderr",
     "output_type": "stream",
     "text": [
      "\n",
      "\n",
      "\n",
      "\n",
      "\n",
      "\n",
      "\n",
      " 79%|███████▉  | 2087/2650 [01:23<00:43, 12.92it/s]\u001b[A\u001b[A\u001b[A\u001b[A\u001b[A\u001b[A\u001b[A\n",
      "\n",
      "\n",
      "\n",
      "\n",
      "\n",
      "\n",
      " 79%|███████▉  | 2089/2650 [01:23<00:44, 12.60it/s]\u001b[A\u001b[A\u001b[A\u001b[A\u001b[A\u001b[A\u001b[A"
     ]
    },
    {
     "name": "stdout",
     "output_type": "stream",
     "text": [
      "AFTER: graphicone_search 2020-02-18 14:35:28.195000 ['beachside media', 'facebook', 'digital', 'advertising', 'social', 'politics', 'government', 'legal', 'internet', 'trump', 'social media'] moderator tool passed VasiliiUshakov\n",
      "BEFORE: validated\n",
      "AFTER: graphicone_search 2020-02-18 14:35:28.279000 ['buyback', 'large caps', 'index', 's&p'] moderator tool passed VasiliiUshakov\n",
      "BEFORE: validated\n",
      "AFTER: graphicone_search 2020-02-18 14:35:28.363000 ['index', 's&p'] moderator tool passed VasiliiUshakov\n",
      "BEFORE: validated\n"
     ]
    },
    {
     "name": "stderr",
     "output_type": "stream",
     "text": [
      "\n",
      "\n",
      "\n",
      "\n",
      "\n",
      "\n",
      "\n",
      " 79%|███████▉  | 2091/2650 [01:23<00:45, 12.37it/s]\u001b[A\u001b[A\u001b[A\u001b[A\u001b[A\u001b[A\u001b[A"
     ]
    },
    {
     "name": "stdout",
     "output_type": "stream",
     "text": [
      "AFTER: graphicone_search 2020-02-18 14:35:28.447000 ['jpmorgan', 'pmi', 'us', 'manufacturing', 'index'] moderator tool passed VasiliiUshakov\n",
      "BEFORE: validated\n",
      "AFTER: graphicone_search 2020-02-18 14:35:28.531000 ['us', 'banking', 'index', 'fed'] moderator tool passed VasiliiUshakov\n",
      "BEFORE: validated\n",
      "AFTER: graphicone_search 2020-02-18 14:35:28.616000 ['croatia', 'oil', 'china', 'commodities', 'romania', 'italy', 'israel', 'taiwan', 'greece', 'spain'] moderator tool passed VasiliiUshakov\n",
      "BEFORE: validated\n"
     ]
    },
    {
     "name": "stderr",
     "output_type": "stream",
     "text": [
      "\n",
      "\n",
      "\n",
      "\n",
      "\n",
      "\n",
      "\n",
      " 79%|███████▉  | 2093/2650 [01:23<00:45, 12.22it/s]\u001b[A\u001b[A\u001b[A\u001b[A\u001b[A\u001b[A\u001b[A\n",
      "\n",
      "\n",
      "\n",
      "\n",
      "\n",
      "\n",
      " 79%|███████▉  | 2095/2650 [01:23<00:45, 12.11it/s]\u001b[A\u001b[A\u001b[A\u001b[A\u001b[A\u001b[A\u001b[A"
     ]
    },
    {
     "name": "stdout",
     "output_type": "stream",
     "text": [
      "AFTER: graphicone_search 2020-02-18 14:35:28.700000 ['bbc', 'politics', 'uk'] moderator tool passed VasiliiUshakov\n",
      "BEFORE: validated\n",
      "AFTER: graphicone_search 2020-02-18 14:35:28.784000 ['film industry'] moderator tool passed VasiliiUshakov\n",
      "BEFORE: validated\n",
      "AFTER: graphicone_search 2020-02-18 14:35:28.868000 ['japan', 'germany', 'shanghai', 'metals & mining', 'ftse', 'yuan', 'bonds', 'pound', 'msci', 'facebook', 'high yield', 'eu', 'oil', 'global', 'nikkei', 's&p', 'gold', 'government bonds', 'euro', 'currency', 'us', 'jpy', 'debt', 'copper', 'google', 'stoxx', 'jpmorgan', 'italy', 'commodities', 'brent', 'usd', 'amazon', 'netflix', 'emerging markets', 'index'] moderator tool passed VasiliiUshakov\n",
      "BEFORE: validated\n"
     ]
    },
    {
     "name": "stderr",
     "output_type": "stream",
     "text": [
      "\n",
      "\n",
      "\n",
      "\n",
      "\n",
      "\n",
      "\n",
      " 79%|███████▉  | 2097/2650 [01:23<00:45, 12.03it/s]\u001b[A\u001b[A\u001b[A\u001b[A\u001b[A\u001b[A\u001b[A"
     ]
    },
    {
     "name": "stdout",
     "output_type": "stream",
     "text": [
      "AFTER: graphicone_search 2020-02-18 14:35:28.953000 ['us', 'banking', 'index', 'fed'] moderator tool passed VasiliiUshakov\n",
      "BEFORE: validated\n",
      "AFTER: graphicone_search 2020-02-18 14:35:29.037000 ['google', 'facebook', 'amazon', 'netflix', 'index'] moderator tool passed VasiliiUshakov\n",
      "BEFORE: validated\n",
      "AFTER: graphicone_search 2020-02-18 14:35:29.122000 ['terrorism', 'trump', 'mexico', 'syria', 'mark zuckerberg', 'recession', 'venezuela', 'north korea', 'china', 'iran', 'environment', 'ukraine', 'hong kong', 'us', 'politics', 'government', 'california', 'spacex', 'boeing', 'trade war', 'general motors', 'israel', 'ipo', 'huawei'] moderator tool passed VasiliiUshakov\n",
      "BEFORE: validated\n"
     ]
    },
    {
     "name": "stderr",
     "output_type": "stream",
     "text": [
      "\n",
      "\n",
      "\n",
      "\n",
      "\n",
      "\n",
      "\n",
      " 79%|███████▉  | 2100/2650 [01:24<00:41, 13.33it/s]\u001b[A\u001b[A\u001b[A\u001b[A\u001b[A\u001b[A\u001b[A\n",
      "\n",
      "\n",
      "\n",
      "\n",
      "\n",
      "\n",
      " 79%|███████▉  | 2102/2650 [01:24<00:42, 12.86it/s]\u001b[A\u001b[A\u001b[A\u001b[A\u001b[A\u001b[A\u001b[A"
     ]
    },
    {
     "name": "stdout",
     "output_type": "stream",
     "text": [
      "AFTER: graphicone_search 2020-02-18 14:35:29.205000 ['utilities', 'industrials', 'consumer staples', 'technology', 'real estate', 'health', 'materials', 'consumer discretionary', 'energy', 'financials', 'etf', 'communications', 'index', 's&p'] moderator tool passed VasiliiUshakov\n",
      "BEFORE: validated\n",
      "AFTER: graphicone_search 2020-02-18 14:35:29.290000 ['hyundai', 'kia', 'ford', 'automotive', 'general motors', 'toyota', 'renault', 'nissan', 'fca', 'volkswagen', 'groupe psa', 'honda', 'vehicles', 'mitsubishi'] moderator tool passed VasiliiUshakov\n",
      "BEFORE: validated\n",
      "AFTER: graphicone_search 2020-02-18 14:35:29.374000 [\"moody's\", 'fitch', 'brazil', 'index', 's&p'] moderator tool passed VasiliiUshakov\n",
      "BEFORE: validated\n"
     ]
    },
    {
     "name": "stderr",
     "output_type": "stream",
     "text": [
      "\n",
      "\n",
      "\n",
      "\n",
      "\n",
      "\n",
      "\n",
      " 79%|███████▉  | 2104/2650 [01:24<00:43, 12.54it/s]\u001b[A\u001b[A\u001b[A\u001b[A\u001b[A\u001b[A\u001b[A"
     ]
    },
    {
     "name": "stdout",
     "output_type": "stream",
     "text": [
      "AFTER: graphicone_search 2020-02-18 14:35:29.458000 ['terrorism', 'trump', 'mexico', 'syria', 'mark zuckerberg', 'recession', 'venezuela', 'north korea', 'china', 'turkey', 'iran', 'environment', 'ukraine', 'hong kong', 'us', 'politics', 'government', 'california', 'spacex', 'boeing', 'trade war', 'israel', 'ipo', 'huawei'] moderator tool passed VasiliiUshakov\n",
      "BEFORE: validated\n",
      "AFTER: graphicone_search 2020-02-18 14:35:29.542000 ['esg', 'index', 's&p'] moderator tool passed VasiliiUshakov\n",
      "BEFORE: validated\n",
      "AFTER: graphicone_search 2020-02-18 14:35:29.627000 ['government bonds', 'bonds', \"moody's\"] moderator tool passed VasiliiUshakov\n",
      "BEFORE: validated\n"
     ]
    },
    {
     "name": "stderr",
     "output_type": "stream",
     "text": [
      "\n",
      "\n",
      "\n",
      "\n",
      "\n",
      "\n",
      "\n",
      " 79%|███████▉  | 2106/2650 [01:24<00:44, 12.34it/s]\u001b[A\u001b[A\u001b[A\u001b[A\u001b[A\u001b[A\u001b[A\n",
      "\n",
      "\n",
      "\n",
      "\n",
      "\n",
      "\n",
      " 80%|███████▉  | 2108/2650 [01:24<00:44, 12.19it/s]\u001b[A\u001b[A\u001b[A\u001b[A\u001b[A\u001b[A\u001b[A"
     ]
    },
    {
     "name": "stdout",
     "output_type": "stream",
     "text": [
      "AFTER: graphicone_search 2020-02-18 14:35:29.710000 ['employment', 'amazon', 'labor'] moderator tool passed VasiliiUshakov\n",
      "BEFORE: validated\n",
      "AFTER: graphicone_search 2020-02-18 14:35:29.795000 ['pfizer', 'drugs', 'pharmaceutical industry', 'eli lilly'] moderator tool passed VasiliiUshakov\n",
      "BEFORE: validated\n",
      "AFTER: graphicone_search 2020-02-18 14:35:29.879000 ['morgan stanley', 'index'] moderator tool passed VasiliiUshakov\n",
      "BEFORE: validated\n"
     ]
    },
    {
     "name": "stderr",
     "output_type": "stream",
     "text": [
      "\n",
      "\n",
      "\n",
      "\n",
      "\n",
      "\n",
      "\n",
      " 80%|███████▉  | 2111/2650 [01:24<00:40, 13.46it/s]\u001b[A\u001b[A\u001b[A\u001b[A\u001b[A\u001b[A\u001b[A"
     ]
    },
    {
     "name": "stdout",
     "output_type": "stream",
     "text": [
      "AFTER: graphicone_search 2020-02-18 14:35:29.964000 ['trade war', 'imports', 'china', 'trade', 'us', 'tariffs', 'retail'] moderator tool passed VasiliiUshakov\n",
      "BEFORE: validated\n",
      "AFTER: graphicone_search 2020-02-18 14:35:30.048000 ['pinterest', 'lyft', 'zoom', 'slack', 'uber', 'index', 's&p'] moderator tool passed VasiliiUshakov\n",
      "BEFORE: validated\n",
      "AFTER: graphicone_search 2020-02-18 14:35:30.133000 ['fedex', 'dividends'] moderator tool passed VasiliiUshakov\n",
      "BEFORE: validated\n"
     ]
    },
    {
     "name": "stderr",
     "output_type": "stream",
     "text": [
      "\n",
      "\n",
      "\n",
      "\n",
      "\n",
      "\n",
      "\n",
      " 80%|███████▉  | 2113/2650 [01:25<00:41, 12.93it/s]\u001b[A\u001b[A\u001b[A\u001b[A\u001b[A\u001b[A\u001b[A\n",
      "\n",
      "\n",
      "\n",
      "\n",
      "\n",
      "\n",
      " 80%|███████▉  | 2115/2650 [01:25<00:42, 12.59it/s]\u001b[A\u001b[A\u001b[A\u001b[A\u001b[A\u001b[A\u001b[A"
     ]
    },
    {
     "name": "stdout",
     "output_type": "stream",
     "text": [
      "AFTER: graphicone_search 2020-02-18 14:35:30.216000 ['metals & mining', 'gas', 'lumber', 'canada', 'cad', 'iron', 'oil', 'gold', 'currency', 'soybean', 'wheat', 'coal', 'copper', 'zinc', 'commodities', 'aluminium', 'usd', 'nickel', 'index'] moderator tool passed VasiliiUshakov\n",
      "BEFORE: validated\n",
      "AFTER: graphicone_search 2020-02-18 14:35:30.301000 ['facebook', 'alphabet', 'amazon', 'netflix', 'apple'] moderator tool passed VasiliiUshakov\n",
      "BEFORE: validated\n",
      "AFTER: graphicone_search 2020-02-18 14:35:30.385000 ['manufacturing', 'pmi', 'index', 'global'] moderator tool passed VasiliiUshakov\n",
      "BEFORE: validated\n"
     ]
    },
    {
     "name": "stderr",
     "output_type": "stream",
     "text": [
      "\n",
      "\n",
      "\n",
      "\n",
      "\n",
      "\n",
      "\n",
      " 80%|███████▉  | 2118/2650 [01:25<00:38, 13.80it/s]\u001b[A\u001b[A\u001b[A\u001b[A\u001b[A\u001b[A\u001b[A"
     ]
    },
    {
     "name": "stdout",
     "output_type": "stream",
     "text": [
      "AFTER: graphicone_search 2020-02-18 14:35:30.470000 ['warren buffett', 'berkshire hathaway', 'cash'] moderator tool passed VasiliiUshakov\n",
      "BEFORE: validated\n",
      "AFTER: graphicone_search 2020-02-18 14:35:30.554000 ['berkshire hathaway'] moderator tool passed VasiliiUshakov\n",
      "BEFORE: validated\n",
      "AFTER: graphicone_search 2020-02-18 14:35:30.638000 ['ups', 'amazon', 'fedex'] moderator tool passed VasiliiUshakov\n",
      "BEFORE: validated\n"
     ]
    },
    {
     "name": "stderr",
     "output_type": "stream",
     "text": [
      "\n",
      "\n",
      "\n",
      "\n",
      "\n",
      "\n",
      "\n",
      " 80%|████████  | 2120/2650 [01:25<00:40, 13.15it/s]\u001b[A\u001b[A\u001b[A\u001b[A\u001b[A\u001b[A\u001b[A\n",
      "\n",
      "\n",
      "\n",
      "\n",
      "\n",
      "\n",
      " 80%|████████  | 2122/2650 [01:25<00:41, 12.74it/s]\u001b[A\u001b[A\u001b[A\u001b[A\u001b[A\u001b[A\u001b[A"
     ]
    },
    {
     "name": "stdout",
     "output_type": "stream",
     "text": [
      "AFTER: graphicone_search 2020-02-18 14:35:30.722000 ['nvidia', 'patrick industries', 'amazon', 'ross', 'lululemon', 'netflix', 'apple', \"domino's\", 'ulta beauty'] moderator tool passed VasiliiUshakov\n",
      "BEFORE: validated\n",
      "AFTER: graphicone_search 2020-02-18 14:35:30.807000 ['tesla'] moderator tool passed VasiliiUshakov\n",
      "BEFORE: validated\n",
      "AFTER: graphicone_search 2020-02-18 14:35:30.891000 ['apple', 'facebook', 'mastercard', 'jpmorgan', 'microsoft', 'alphabet', 'disney', 'procter&gamble', 'visa'] moderator tool passed VasiliiUshakov\n",
      "BEFORE: validated\n"
     ]
    },
    {
     "name": "stderr",
     "output_type": "stream",
     "text": [
      "\n",
      "\n",
      "\n",
      "\n",
      "\n",
      "\n",
      "\n",
      " 80%|████████  | 2124/2650 [01:25<00:42, 12.47it/s]\u001b[A\u001b[A\u001b[A\u001b[A\u001b[A\u001b[A\u001b[A"
     ]
    },
    {
     "name": "stdout",
     "output_type": "stream",
     "text": [
      "AFTER: graphicone_search 2020-02-18 14:35:30.976000 ['hydro', 'fuel', 'oil', 'commodities', 'gas', 'renewables', 'energy', 'global', 'nuclear power', 'coal'] moderator tool passed VasiliiUshakov\n",
      "BEFORE: validated\n",
      "AFTER: graphicone_search 2020-02-18 14:35:31.059000 ['us', 'oecd'] moderator tool passed VasiliiUshakov\n",
      "BEFORE: validated\n",
      "AFTER: graphicone_search 2020-02-18 14:35:31.144000 ['ford', 'vehicles', 'renault'] moderator tool passed VasiliiUshakov\n",
      "BEFORE: validated\n"
     ]
    },
    {
     "name": "stderr",
     "output_type": "stream",
     "text": [
      "\n",
      "\n",
      "\n",
      "\n",
      "\n",
      "\n",
      "\n",
      " 80%|████████  | 2126/2650 [01:26<00:42, 12.27it/s]\u001b[A\u001b[A\u001b[A\u001b[A\u001b[A\u001b[A\u001b[A\n",
      "\n",
      "\n",
      "\n",
      "\n",
      "\n",
      "\n",
      " 80%|████████  | 2128/2650 [01:26<00:42, 12.14it/s]\u001b[A\u001b[A\u001b[A\u001b[A\u001b[A\u001b[A\u001b[A"
     ]
    },
    {
     "name": "stdout",
     "output_type": "stream",
     "text": [
      "AFTER: graphicone_search 2020-02-18 14:35:31.228000 ['lyft', 'transportation'] moderator tool passed VasiliiUshakov\n",
      "BEFORE: validated\n",
      "AFTER: graphicone_search 2020-02-18 14:35:31.313000 ['japan', 'government bonds', 'germany', 'us', 'bonds'] moderator tool passed VasiliiUshakov\n",
      "BEFORE: validated\n",
      "AFTER: graphicone_search 2020-02-18 14:35:31.397000 ['new york', 'real estate', 'san francisco', 'us', 'seattle', 'los angeles'] moderator tool passed VasiliiUshakov\n",
      "BEFORE: validated\n"
     ]
    },
    {
     "name": "stderr",
     "output_type": "stream",
     "text": [
      "\n",
      "\n",
      "\n",
      "\n",
      "\n",
      "\n",
      "\n",
      " 80%|████████  | 2130/2650 [01:26<00:43, 12.07it/s]\u001b[A\u001b[A\u001b[A\u001b[A\u001b[A\u001b[A\u001b[A"
     ]
    },
    {
     "name": "stdout",
     "output_type": "stream",
     "text": [
      "AFTER: graphicone_search 2020-02-18 14:35:31.482000 ['index', 's&p'] moderator tool passed VasiliiUshakov\n",
      "BEFORE: validated\n",
      "AFTER: graphicone_search 2020-02-18 14:35:31.565000 ['index', 'vanguard'] moderator tool passed VasiliiUshakov\n",
      "BEFORE: validated\n",
      "AFTER: graphicone_search 2020-02-18 14:35:31.650000 ['gdp', 'us', 'cnbc', 'fed', 'new york'] moderator tool passed VasiliiUshakov\n",
      "BEFORE: validated\n"
     ]
    },
    {
     "name": "stderr",
     "output_type": "stream",
     "text": [
      "\n",
      "\n",
      "\n",
      "\n",
      "\n",
      "\n",
      "\n",
      " 80%|████████  | 2132/2650 [01:26<00:43, 12.01it/s]\u001b[A\u001b[A\u001b[A\u001b[A\u001b[A\u001b[A\u001b[A\n",
      "\n",
      "\n",
      "\n",
      "\n",
      "\n",
      "\n",
      " 81%|████████  | 2134/2650 [01:26<00:43, 11.85it/s]\u001b[A\u001b[A\u001b[A\u001b[A\u001b[A\u001b[A\u001b[A"
     ]
    },
    {
     "name": "stdout",
     "output_type": "stream",
     "text": [
      "AFTER: graphicone_search 2020-02-18 14:35:31.733000 ['india', 'china', 'metals & mining', 'commodities', 'banking', 'russia', 'turkey', 'gold'] moderator tool passed VasiliiUshakov\n",
      "BEFORE: validated\n",
      "AFTER: graphicone_search 2020-02-18 14:35:31.818000 ['consumer', 'technology', 'digital'] moderator tool passed VasiliiUshakov\n",
      "BEFORE: validated\n",
      "AFTER: graphicone_search 2020-02-18 14:35:31.907000 ['index', 'jpmorgan', 'msci'] moderator tool passed VasiliiUshakov\n"
     ]
    },
    {
     "name": "stderr",
     "output_type": "stream",
     "text": [
      "\n",
      "\n",
      "\n",
      "\n",
      "\n",
      "\n",
      "\n",
      " 81%|████████  | 2137/2650 [01:26<00:38, 13.17it/s]\u001b[A\u001b[A\u001b[A\u001b[A\u001b[A\u001b[A\u001b[A"
     ]
    },
    {
     "name": "stdout",
     "output_type": "stream",
     "text": [
      "BEFORE: validated\n",
      "AFTER: graphicone_search 2020-02-18 14:35:31.992000 ['luxembourg', 'czech republic', 'belgium', 'exxon', 'romania', 'portugal', 'colombia', 'austria', 'volkswagen', 'glencore', 'denmark', 'shell', 'samsung', 'new zealand', 'toyota', 'apple', 'berkshire hathaway', 'bp', 'hungary', 'hong kong', 'chile', 'gdp', 'walmart', 'singapore', 'malaysia', 'uae', 'ireland'] moderator tool passed VasiliiUshakov\n",
      "BEFORE: validated\n",
      "AFTER: graphicone_search 2020-02-18 14:35:32.076000 ['oil', 'metals & mining', 'commodities', 'nasdaq', 'nikkei', 'disney', 'index', 'wti', 'gold'] moderator tool passed VasiliiUshakov\n",
      "BEFORE: validated\n"
     ]
    },
    {
     "name": "stderr",
     "output_type": "stream",
     "text": [
      "\n",
      "\n",
      "\n",
      "\n",
      "\n",
      "\n",
      "\n",
      " 81%|████████  | 2139/2650 [01:27<00:40, 12.74it/s]\u001b[A\u001b[A\u001b[A\u001b[A\u001b[A\u001b[A\u001b[A"
     ]
    },
    {
     "name": "stdout",
     "output_type": "stream",
     "text": [
      "AFTER: graphicone_search 2020-02-18 14:35:32.161000 ['software', 'computers', 'digital'] moderator tool passed VasiliiUshakov\n",
      "BEFORE: validated\n",
      "AFTER: graphicone_search 2020-02-18 14:35:32.245000 ['nokia', 'internet', 'android', 'samsung'] moderator tool passed VasiliiUshakov\n",
      "BEFORE: validated\n",
      "AFTER: graphicone_search 2020-02-18 14:35:32.330000 ['middle east', 'eu', 'asia', 'africa', 'latin america', 'oecd', 'caribbean'] moderator tool passed VasiliiUshakov\n",
      "BEFORE: validated\n"
     ]
    },
    {
     "name": "stderr",
     "output_type": "stream",
     "text": [
      "\n",
      "\n",
      "\n",
      "\n",
      "\n",
      "\n",
      "\n",
      " 81%|████████  | 2141/2650 [01:27<00:40, 12.47it/s]\u001b[A\u001b[A\u001b[A\u001b[A\u001b[A\u001b[A\u001b[A\n",
      "\n",
      "\n",
      "\n",
      "\n",
      "\n",
      "\n",
      " 81%|████████  | 2143/2650 [01:27<00:41, 12.28it/s]\u001b[A\u001b[A\u001b[A\u001b[A\u001b[A\u001b[A\u001b[A"
     ]
    },
    {
     "name": "stdout",
     "output_type": "stream",
     "text": [
      "AFTER: graphicone_search 2020-02-18 14:35:32.414000 ['netflix'] moderator tool passed VasiliiUshakov\n",
      "BEFORE: validated\n",
      "AFTER: graphicone_search 2020-02-18 14:35:32.498000 ['us', 'manufacturing', 'samsung', 'apple'] moderator tool passed VasiliiUshakov\n",
      "BEFORE: validated\n",
      "AFTER: graphicone_search 2020-02-18 14:35:32.582000 ['industrials', 'sweden', 'telecom', 'real estate', 'ftse', 'materials', 'banking', 'index', 'construction & engineering'] moderator tool passed VasiliiUshakov\n",
      "BEFORE: validated\n"
     ]
    },
    {
     "name": "stderr",
     "output_type": "stream",
     "text": [
      "\n",
      "\n",
      "\n",
      "\n",
      "\n",
      "\n",
      "\n",
      " 81%|████████  | 2145/2650 [01:27<00:41, 12.15it/s]\u001b[A\u001b[A\u001b[A\u001b[A\u001b[A\u001b[A\u001b[A"
     ]
    },
    {
     "name": "stdout",
     "output_type": "stream",
     "text": [
      "AFTER: graphicone_search 2020-02-18 14:35:32.667000 ['vehicles', 'trading'] moderator tool passed VasiliiUshakov\n",
      "BEFORE: validated\n",
      "AFTER: graphicone_search 2020-02-18 14:35:32.751000 ['index', 's&p', 'apple'] moderator tool passed VasiliiUshakov\n",
      "BEFORE: validated\n",
      "AFTER: graphicone_search 2020-02-18 14:35:32.836000 ['tesla'] moderator tool passed VasiliiUshakov\n",
      "BEFORE: validated\n"
     ]
    },
    {
     "name": "stderr",
     "output_type": "stream",
     "text": [
      "\n",
      "\n",
      "\n",
      "\n",
      "\n",
      "\n",
      "\n",
      " 81%|████████  | 2147/2650 [01:27<00:41, 12.07it/s]\u001b[A\u001b[A\u001b[A\u001b[A\u001b[A\u001b[A\u001b[A\n",
      "\n",
      "\n",
      "\n",
      "\n",
      "\n",
      "\n",
      " 81%|████████  | 2149/2650 [01:27<00:41, 12.00it/s]\u001b[A\u001b[A\u001b[A\u001b[A\u001b[A\u001b[A\u001b[A"
     ]
    },
    {
     "name": "stdout",
     "output_type": "stream",
     "text": [
      "AFTER: graphicone_search 2020-02-18 14:35:32.919000 ['airbus', 'boeing', 'index', 's&p'] moderator tool passed VasiliiUshakov\n",
      "BEFORE: validated\n",
      "AFTER: graphicone_search 2020-02-18 14:35:33.004000 ['spotify', 'youtube', 'dropbox', 'netflix', 'robinhood', 'tinder'] moderator tool passed VasiliiUshakov\n",
      "BEFORE: validated\n",
      "AFTER: graphicone_search 2020-02-18 14:35:33.088000 ['wework', 'fidelity investments'] moderator tool passed VasiliiUshakov\n",
      "BEFORE: validated\n"
     ]
    },
    {
     "name": "stderr",
     "output_type": "stream",
     "text": [
      "\n",
      "\n",
      "\n",
      "\n",
      "\n",
      "\n",
      "\n",
      " 81%|████████  | 2151/2650 [01:28<00:41, 11.96it/s]\u001b[A\u001b[A\u001b[A\u001b[A\u001b[A\u001b[A\u001b[A"
     ]
    },
    {
     "name": "stdout",
     "output_type": "stream",
     "text": [
      "AFTER: graphicone_search 2020-02-18 14:35:33.173000 ['us', 'banking'] moderator tool passed VasiliiUshakov\n",
      "BEFORE: validated\n",
      "AFTER: graphicone_search 2020-02-18 14:35:33.256000 ['social', 'us', 'politics', 'richard nixon'] moderator tool passed VasiliiUshakov\n",
      "BEFORE: validated\n",
      "AFTER: graphicone_search 2020-02-18 14:35:33.341000 ['us', 'death', 'health', 'medicine'] moderator tool passed VasiliiUshakov\n",
      "BEFORE: validated\n"
     ]
    },
    {
     "name": "stderr",
     "output_type": "stream",
     "text": [
      "\n",
      "\n",
      "\n",
      "\n",
      "\n",
      "\n",
      "\n",
      " 81%|████████  | 2153/2650 [01:28<00:41, 11.94it/s]\u001b[A\u001b[A\u001b[A\u001b[A\u001b[A\u001b[A\u001b[A\n",
      "\n",
      "\n",
      "\n",
      "\n",
      "\n",
      "\n",
      " 81%|████████▏ | 2155/2650 [01:28<00:41, 11.92it/s]\u001b[A\u001b[A\u001b[A\u001b[A\u001b[A\u001b[A\u001b[A"
     ]
    },
    {
     "name": "stdout",
     "output_type": "stream",
     "text": [
      "AFTER: graphicone_search 2020-02-18 14:35:33.425000 ['japan', 'macro', 'euro', 'eu', 'currency', 'us', 'usd', 'jpy'] moderator tool passed VasiliiUshakov\n",
      "BEFORE: validated\n",
      "AFTER: graphicone_search 2020-02-18 14:35:33.509000 ['technology', 'software', 'saas'] moderator tool passed VasiliiUshakov\n",
      "BEFORE: validated\n",
      "AFTER: graphicone_search 2020-02-18 14:35:33.593000 ['meat', 'imports', 'china', 'commodities', 'trade', 'beef', 'agriculture', 'retail'] moderator tool passed VasiliiUshakov\n",
      "BEFORE: validated\n"
     ]
    },
    {
     "name": "stderr",
     "output_type": "stream",
     "text": [
      "\n",
      "\n",
      "\n",
      "\n",
      "\n",
      "\n",
      "\n",
      " 81%|████████▏ | 2157/2650 [01:28<00:41, 11.90it/s]\u001b[A\u001b[A\u001b[A\u001b[A\u001b[A\u001b[A\u001b[A"
     ]
    },
    {
     "name": "stdout",
     "output_type": "stream",
     "text": [
      "AFTER: graphicone_search 2020-02-18 14:35:33.678000 ['medicine', 'uk', 'south africa', 'insurance', 'new zealand', 'switzerland', 'us', 'health', 'australia', 'netherlands', 'uae'] moderator tool passed VasiliiUshakov\n",
      "BEFORE: validated\n",
      "AFTER: graphicone_search 2020-02-18 14:35:33.762000 ['social', 'us', 'politics', 'government', 'trump'] moderator tool passed VasiliiUshakov\n",
      "BEFORE: validated\n",
      "AFTER: graphicone_search 2020-02-18 14:35:33.847000 ['luxury', 'mercedes benz', 'consumer products', 'ev', 'automotive', 'cadillac', 'toyota', 'consumer discretionary', 'audi', 'acura', 'tesla', 'bmw', 'vehicles', 'lexus', 'retail'] moderator tool passed VasiliiUshakov\n",
      "BEFORE: validated\n"
     ]
    },
    {
     "name": "stderr",
     "output_type": "stream",
     "text": [
      "\n",
      "\n",
      "\n",
      "\n",
      "\n",
      "\n",
      "\n",
      " 81%|████████▏ | 2159/2650 [01:28<00:41, 11.89it/s]\u001b[A\u001b[A\u001b[A\u001b[A\u001b[A\u001b[A\u001b[A\n",
      "\n",
      "\n",
      "\n",
      "\n",
      "\n",
      "\n",
      " 82%|████████▏ | 2161/2650 [01:28<00:41, 11.87it/s]\u001b[A\u001b[A\u001b[A\u001b[A\u001b[A\u001b[A\u001b[A"
     ]
    },
    {
     "name": "stdout",
     "output_type": "stream",
     "text": [
      "AFTER: graphicone_search 2020-02-18 14:35:33.931000 ['medicine', 'uk', 'south africa', 'insurance', 'new zealand', 'switzerland', 'us', 'health', 'global', 'australia', 'netherlands', 'uae'] moderator tool passed VasiliiUshakov\n",
      "BEFORE: validated\n",
      "AFTER: graphicone_search 2020-02-18 14:35:34.015000 ['starz', 'lionsgate', 'm&a', 'media', 'streaming', 'comcast', 'entertainment', 'scripps', 'at&t', '21st century fox', 'dish', 'warner', 'us', 'disney', 'tv', 'telecom', 'viacomcbs', 'cbs', 'netflix'] moderator tool passed VasiliiUshakov\n",
      "BEFORE: validated\n",
      "AFTER: graphicone_search 2020-02-18 14:35:34.099000 ['japan', 'germany', 'mexico', 'france', 'social media', 'digital entertainment', 'india', 'china', 'nigeria', 'turkey', 'global', 'digital', 'us', 'digital media', 'internet', 'spain', 'uk', 'philippines', 'russia'] moderator tool passed VasiliiUshakov\n",
      "BEFORE: validated\n"
     ]
    },
    {
     "name": "stderr",
     "output_type": "stream",
     "text": [
      "\n",
      "\n",
      "\n",
      "\n",
      "\n",
      "\n",
      "\n",
      " 82%|████████▏ | 2164/2650 [01:29<00:36, 13.19it/s]\u001b[A\u001b[A\u001b[A\u001b[A\u001b[A\u001b[A\u001b[A"
     ]
    },
    {
     "name": "stdout",
     "output_type": "stream",
     "text": [
      "AFTER: graphicone_search 2020-02-18 14:35:34.184000 ['entertainment', 'facebook', 'digital entertainment', 'digital', 'youtube', 'twitch', 'internet', 'technology', 'gaming'] moderator tool passed VasiliiUshakov\n",
      "BEFORE: validated\n",
      "AFTER: graphicone_search 2020-02-18 14:35:34.268000 ['environment', 'india', 'china', 'us', 'russia', 'global', 'emissions', 'climate change', 'ecology'] moderator tool passed VasiliiUshakov\n",
      "BEFORE: validated\n",
      "AFTER: graphicone_search 2020-02-18 14:35:34.353000 ['smartphone', 'consumer products', 'wireless', 'innovation', '5g', 'consumer discretionary', 'global', 'electronics', 'technology', 'mobile'] moderator tool passed VasiliiUshakov\n",
      "BEFORE: validated\n"
     ]
    },
    {
     "name": "stderr",
     "output_type": "stream",
     "text": [
      "\n",
      "\n",
      "\n",
      "\n",
      "\n",
      "\n",
      "\n",
      " 82%|████████▏ | 2166/2650 [01:29<00:37, 12.75it/s]\u001b[A\u001b[A\u001b[A\u001b[A\u001b[A\u001b[A\u001b[A\n",
      "\n",
      "\n",
      "\n",
      "\n",
      "\n",
      "\n",
      " 82%|████████▏ | 2168/2650 [01:29<00:38, 12.46it/s]\u001b[A\u001b[A\u001b[A\u001b[A\u001b[A\u001b[A\u001b[A"
     ]
    },
    {
     "name": "stdout",
     "output_type": "stream",
     "text": [
      "AFTER: graphicone_search 2020-02-18 14:35:34.437000 ['barclays', 'macro', 'deutsche bank', 'gdp', 'merrill lynch', 'uk', 'jpmorgan', 'nomura', 'societe generale', 'natwest', 'santander', 'bank of america', 'commerzbank', 'hsbc', 'ubs', 'citigroup'] moderator tool passed VasiliiUshakov\n",
      "BEFORE: validated\n",
      "AFTER: graphicone_search 2020-02-18 14:35:34.522000 ['aviation', 'marine', 'global', 'transportation', 'logistics'] moderator tool passed VasiliiUshakov\n",
      "BEFORE: validated\n",
      "AFTER: graphicone_search 2020-02-18 14:35:34.606000 ['social', 'us', 'trump', 'politics'] moderator tool passed VasiliiUshakov\n",
      "BEFORE: validated\n"
     ]
    },
    {
     "name": "stderr",
     "output_type": "stream",
     "text": [
      "\n",
      "\n",
      "\n",
      "\n",
      "\n",
      "\n",
      "\n",
      " 82%|████████▏ | 2172/2650 [01:29<00:32, 14.52it/s]\u001b[A\u001b[A\u001b[A\u001b[A\u001b[A\u001b[A\u001b[A"
     ]
    },
    {
     "name": "stdout",
     "output_type": "stream",
     "text": [
      "AFTER: graphicone_search 2020-02-18 14:35:34.691000 ['streaming', 'entertainment', 'hbo', 'canada', 'digital entertainment', 'film industry', 'tcv', 'culture', 'spin-off', 'netflix', 'media', 'large caps', 'index', 's&p'] moderator tool passed VasiliiUshakov\n",
      "BEFORE: validated\n",
      "AFTER: graphicone_search 2020-02-18 14:35:34.775000 ['barclays', 'employment', 'goldman sachs', 'deutsche bank', 'credit suisse', 'jpmorgan', 'morgan stanley', 'societe generale', 'bank of america', 'bnp paribas', 'banking', 'global', 'financials', 'hsbc', 'ubs', 'citigroup'] moderator tool passed VasiliiUshakov\n",
      "BEFORE: validated\n",
      "AFTER: graphicone_search 2020-02-18 14:35:34.861000 ['canberra', 'hobart', 'real estate', 'perth', 'cities', 'consumer discretionary', 'adelaide', 'sydney', 'melbourne', 'index'] moderator tool passed VasiliiUshakov\n",
      "BEFORE: validated\n"
     ]
    },
    {
     "name": "stderr",
     "output_type": "stream",
     "text": [
      "\n",
      "\n",
      "\n",
      "\n",
      "\n",
      "\n",
      "\n",
      " 82%|████████▏ | 2174/2650 [01:29<00:34, 13.61it/s]\u001b[A\u001b[A\u001b[A\u001b[A\u001b[A\u001b[A\u001b[A\n",
      "\n",
      "\n",
      "\n",
      "\n",
      "\n",
      "\n",
      " 82%|████████▏ | 2176/2650 [01:29<00:36, 13.04it/s]\u001b[A\u001b[A\u001b[A\u001b[A\u001b[A\u001b[A\u001b[A"
     ]
    },
    {
     "name": "stdout",
     "output_type": "stream",
     "text": [
      "AFTER: graphicone_search 2020-02-18 14:35:34.944000 ['financials', 'employment', 'banking', 'labor'] moderator tool passed VasiliiUshakov\n",
      "BEFORE: validated\n",
      "AFTER: graphicone_search 2020-02-18 14:35:35.029000 ['technology', 'apple'] moderator tool passed VasiliiUshakov\n",
      "BEFORE: validated\n",
      "AFTER: graphicone_search 2020-02-18 14:35:35.112000 ['deutsche bank', 'us', 'banking', 'financials', 'commerzbank'] moderator tool passed VasiliiUshakov\n",
      "BEFORE: validated\n"
     ]
    },
    {
     "name": "stderr",
     "output_type": "stream",
     "text": [
      "\n",
      "\n",
      "\n",
      "\n",
      "\n",
      "\n",
      "\n",
      " 82%|████████▏ | 2178/2650 [01:30<00:37, 12.66it/s]\u001b[A\u001b[A\u001b[A\u001b[A\u001b[A\u001b[A\u001b[A"
     ]
    },
    {
     "name": "stdout",
     "output_type": "stream",
     "text": [
      "AFTER: graphicone_search 2020-02-18 14:35:35.197000 ['smartphone', 'computers', 'us', 'tablet', 'electronics', 'communications', 'technology'] moderator tool passed VasiliiUshakov\n",
      "BEFORE: validated\n",
      "AFTER: graphicone_search 2020-02-18 14:35:35.281000 ['loan', 'us', 'financials'] moderator tool passed VasiliiUshakov\n",
      "BEFORE: validated\n",
      "AFTER: graphicone_search 2020-02-18 14:35:35.366000 ['consumer products', 'kia', 'ford', 'volkswagen', 'tesla', 'honda', 'retail', 'toyota', 'ev', 'us', 'consumer discretionary', 'fca', 'nissan', 'hyundai', 'automotive', 'general motors', 'daimler', 'bmw', 'vehicles'] moderator tool passed VasiliiUshakov\n",
      "BEFORE: validated\n"
     ]
    },
    {
     "name": "stderr",
     "output_type": "stream",
     "text": [
      "\n",
      "\n",
      "\n",
      "\n",
      "\n",
      "\n",
      "\n",
      " 82%|████████▏ | 2180/2650 [01:30<00:37, 12.40it/s]\u001b[A\u001b[A\u001b[A\u001b[A\u001b[A\u001b[A\u001b[A\n",
      "\n",
      "\n",
      "\n",
      "\n",
      "\n",
      "\n",
      " 82%|████████▏ | 2182/2650 [01:30<00:38, 12.23it/s]\u001b[A\u001b[A\u001b[A\u001b[A\u001b[A\u001b[A\u001b[A"
     ]
    },
    {
     "name": "stdout",
     "output_type": "stream",
     "text": [
      "AFTER: graphicone_search 2020-02-18 14:35:35.450000 ['technology', 'innovation', 'internet', 'iot'] moderator tool passed VasiliiUshakov\n",
      "BEFORE: validated\n",
      "AFTER: graphicone_search 2020-02-18 14:35:35.535000 ['robotics', 'machine learning', 'innovation', 'biometrics', 'technology'] moderator tool passed VasiliiUshakov\n",
      "BEFORE: validated\n",
      "AFTER: graphicone_search 2020-02-18 14:35:35.618000 ['mali', 'netherlands', 'central african republic', 'sierra leone', 'sudan', 'children', 'slovenia', 'nigeria', 'social', 'global', 'finland', 'equality', 'sweden', 'norway', 'somalia', 'chad', 'congo', 'poverty', 'singapore', 'italy', 'iceland', 'south korea', 'niger', 'guinea', 'ireland'] moderator tool passed VasiliiUshakov\n",
      "BEFORE: validated\n"
     ]
    },
    {
     "name": "stderr",
     "output_type": "stream",
     "text": [
      "\n",
      "\n",
      "\n",
      "\n",
      "\n",
      "\n",
      "\n",
      " 82%|████████▏ | 2184/2650 [01:30<00:38, 12.11it/s]\u001b[A\u001b[A\u001b[A\u001b[A\u001b[A\u001b[A\u001b[A"
     ]
    },
    {
     "name": "stdout",
     "output_type": "stream",
     "text": [
      "AFTER: graphicone_search 2020-02-18 14:35:35.704000 ['boeing', 'macro', 'gdp', 'aviation', 'imports', 'trade', 'export', 'manufacturing'] moderator tool passed VasiliiUshakov\n",
      "BEFORE: validated\n",
      "AFTER: graphicone_search 2020-02-18 14:35:35.787000 ['luxembourg', 'czech republic', 'liechtenstein', 'germany', 'belgium', 'death', 'romania', 'portugal', 'macedonia', 'cyprus', 'austria', 'lithuania', 'france', 'greece', 'denmark', 'children', 'poland', 'montenegro', 'slovenia', 'eu', 'social', 'health', 'turkey', 'finland', 'bulgaria', 'sweden', 'hungary', 'norway', 'slovakia', 'latvia', 'switzerland', 'malta', 'albania', 'spain', 'uk', 'estonia', 'croatia', 'italy', 'iceland', 'serbia', 'netherlands', 'ireland'] moderator tool passed VasiliiUshakov\n",
      "BEFORE: validated\n",
      "AFTER: graphicone_search 2020-02-18 14:35:35.873000 ['services', 'toyota', 'renault', 'nissan', 'volkswagen', 'global', 'daimler', 'saic', 'bmw', 'vehicles', 'car sharing'] moderator tool passed VasiliiUshakov\n",
      "BEFORE: validated\n"
     ]
    },
    {
     "name": "stderr",
     "output_type": "stream",
     "text": [
      "\n",
      "\n",
      "\n",
      "\n",
      "\n",
      "\n",
      "\n",
      " 83%|████████▎ | 2187/2650 [01:30<00:34, 13.40it/s]\u001b[A\u001b[A\u001b[A\u001b[A\u001b[A\u001b[A\u001b[A\n",
      "\n",
      "\n",
      "\n",
      "\n",
      "\n",
      "\n",
      " 83%|████████▎ | 2189/2650 [01:30<00:35, 12.89it/s]\u001b[A\u001b[A\u001b[A\u001b[A\u001b[A\u001b[A\u001b[A"
     ]
    },
    {
     "name": "stdout",
     "output_type": "stream",
     "text": [
      "AFTER: graphicone_search 2020-02-18 14:35:35.956000 ['crisis', 'eu', 'banking'] moderator tool passed VasiliiUshakov\n",
      "BEFORE: validated\n",
      "AFTER: graphicone_search 2020-02-18 14:35:36.041000 ['boeing', 'manufacturing', 'gdp', 'aviation'] moderator tool passed VasiliiUshakov\n",
      "BEFORE: validated\n",
      "AFTER: graphicone_search 2020-02-18 14:35:36.125000 ['index', 's&p'] moderator tool passed VasiliiUshakov\n",
      "BEFORE: validated\n"
     ]
    },
    {
     "name": "stderr",
     "output_type": "stream",
     "text": [
      "\n",
      "\n",
      "\n",
      "\n",
      "\n",
      "\n",
      "\n",
      " 83%|████████▎ | 2191/2650 [01:31<00:36, 12.53it/s]\u001b[A\u001b[A\u001b[A\u001b[A\u001b[A\u001b[A\u001b[A"
     ]
    },
    {
     "name": "stdout",
     "output_type": "stream",
     "text": [
      "AFTER: graphicone_search 2020-02-18 14:35:36.210000 ['education', 'oecd', 'china'] moderator tool passed VasiliiUshakov\n",
      "BEFORE: validated\n",
      "AFTER: graphicone_search 2020-02-18 14:35:36.295000 ['czech republic', 'germany', 'belgium', 'romania', 'portugal', 'austria', 'france', 'greece', 'denmark', 'poland', 'eu', 'bulgaria', 'sweden', 'hungary', 'slovakia', 'politics', 'spain', 'uk', 'italy', 'netherlands'] moderator tool passed VasiliiUshakov\n",
      "BEFORE: validated\n",
      "AFTER: graphicone_search 2020-02-18 14:35:36.380000 ['s&p', 'index', 'global', 'msci'] moderator tool passed VasiliiUshakov\n",
      "BEFORE: validated\n"
     ]
    },
    {
     "name": "stderr",
     "output_type": "stream",
     "text": [
      "\n",
      "\n",
      "\n",
      "\n",
      "\n",
      "\n",
      "\n",
      " 83%|████████▎ | 2193/2650 [01:31<00:37, 12.31it/s]\u001b[A\u001b[A\u001b[A\u001b[A\u001b[A\u001b[A\u001b[A\n",
      "\n",
      "\n",
      "\n",
      "\n",
      "\n",
      "\n",
      " 83%|████████▎ | 2196/2650 [01:31<00:33, 13.55it/s]\u001b[A\u001b[A\u001b[A\u001b[A\u001b[A\u001b[A\u001b[A"
     ]
    },
    {
     "name": "stdout",
     "output_type": "stream",
     "text": [
      "AFTER: graphicone_search 2020-02-18 14:35:36.464000 ['uk', 'ireland'] moderator tool passed VasiliiUshakov\n",
      "BEFORE: validated\n",
      "AFTER: graphicone_search 2020-02-18 14:35:36.549000 ['commodities', 'oil', 'gas'] moderator tool passed VasiliiUshakov\n",
      "BEFORE: validated\n",
      "AFTER: graphicone_search 2020-02-18 14:35:36.633000 ['recession', 'index', 's&p'] moderator tool passed VasiliiUshakov\n",
      "BEFORE: validated\n"
     ]
    },
    {
     "name": "stderr",
     "output_type": "stream",
     "text": [
      "\n",
      "\n",
      "\n",
      "\n",
      "\n",
      "\n",
      "\n",
      " 83%|████████▎ | 2199/2650 [01:31<00:30, 14.60it/s]\u001b[A\u001b[A\u001b[A\u001b[A\u001b[A\u001b[A\u001b[A"
     ]
    },
    {
     "name": "stdout",
     "output_type": "stream",
     "text": [
      "AFTER: graphicone_search 2020-02-18 14:35:36.718000 ['medicine', 'uk', 'south africa', 'new zealand', 'switzerland', 'us', 'health', 'netherlands', 'uae'] moderator tool passed VasiliiUshakov\n",
      "BEFORE: validated\n",
      "AFTER: graphicone_search 2020-02-18 14:35:36.802000 ['instagram', 'digital', 'advertising', 'global', 'digital media', 'marketing', 'social media'] moderator tool passed VasiliiUshakov\n",
      "BEFORE: validated\n",
      "AFTER: graphicone_search 2020-02-18 14:35:36.887000 ['instagram', 'facebook', 'whatsapp', 'digital entertainment', 'digital', 'snap', 'digital media', 'communications', 'social media'] moderator tool passed VasiliiUshakov\n",
      "BEFORE: validated\n"
     ]
    },
    {
     "name": "stderr",
     "output_type": "stream",
     "text": [
      "\n",
      "\n",
      "\n",
      "\n",
      "\n",
      "\n",
      "\n",
      " 83%|████████▎ | 2201/2650 [01:31<00:32, 13.64it/s]\u001b[A\u001b[A\u001b[A\u001b[A\u001b[A\u001b[A\u001b[A\n",
      "\n",
      "\n",
      "\n",
      "\n",
      "\n",
      "\n",
      " 83%|████████▎ | 2204/2650 [01:32<00:30, 14.64it/s]\u001b[A\u001b[A\u001b[A\u001b[A\u001b[A\u001b[A\u001b[A"
     ]
    },
    {
     "name": "stdout",
     "output_type": "stream",
     "text": [
      "AFTER: graphicone_search 2020-02-18 14:35:36.971000 ['lincoln', 'trump', 'politics'] moderator tool passed VasiliiUshakov\n",
      "BEFORE: validated\n",
      "AFTER: graphicone_search 2020-02-18 14:35:37.056000 ['gdp', 'china'] moderator tool passed VasiliiUshakov\n",
      "BEFORE: validated\n",
      "AFTER: graphicone_search 2020-02-18 14:35:37.140000 ['wework', 'softbank', 'startups', 'funds'] moderator tool passed VasiliiUshakov\n",
      "BEFORE: validated\n"
     ]
    },
    {
     "name": "stderr",
     "output_type": "stream",
     "text": [
      "\n",
      "\n",
      "\n",
      "\n",
      "\n",
      "\n",
      "\n",
      " 83%|████████▎ | 2206/2650 [01:32<00:32, 13.64it/s]\u001b[A\u001b[A\u001b[A\u001b[A\u001b[A\u001b[A\u001b[A"
     ]
    },
    {
     "name": "stdout",
     "output_type": "stream",
     "text": [
      "AFTER: graphicone_search 2020-02-18 14:35:37.226000 ['us', 'fed'] moderator tool passed VasiliiUshakov\n",
      "BEFORE: validated\n",
      "AFTER: graphicone_search 2020-02-18 14:35:37.310000 ['consumer products', 'insurance', 'services', 'gas', 'manufacturing', 'materials', 'chemical', 'leisure', 'building materials', 'media', 'communications', 'retail', 'construction & engineering', 'entertainment', 'industrials', 'eu', 'real estate', 'oil', 'health', 'banking', 'energy', 'transportation', 'utilities', 'household', 'financials', 'technology', 'travel', 'stoxx', 'telecom', 'automotive', 'commodities', 'information technology', 'vehicles', 'index'] moderator tool passed VasiliiUshakov\n",
      "BEFORE: validated\n",
      "AFTER: graphicone_search 2020-02-18 14:35:37.396000 ['deficit', 'labor', 'health', 'terrorism'] moderator tool passed VasiliiUshakov\n",
      "BEFORE: validated\n"
     ]
    },
    {
     "name": "stderr",
     "output_type": "stream",
     "text": [
      "\n",
      "\n",
      "\n",
      "\n",
      "\n",
      "\n",
      "\n",
      " 83%|████████▎ | 2208/2650 [01:32<00:33, 13.04it/s]\u001b[A\u001b[A\u001b[A\u001b[A\u001b[A\u001b[A\u001b[A\n",
      "\n",
      "\n",
      "\n",
      "\n",
      "\n",
      "\n",
      " 83%|████████▎ | 2211/2650 [01:32<00:30, 14.17it/s]\u001b[A\u001b[A\u001b[A\u001b[A\u001b[A\u001b[A\u001b[A"
     ]
    },
    {
     "name": "stdout",
     "output_type": "stream",
     "text": [
      "AFTER: graphicone_search 2020-02-18 14:35:37.480000 ['environment', 'opec', 'ev', 'oil', 'commodities'] moderator tool passed VasiliiUshakov\n",
      "BEFORE: validated\n",
      "AFTER: graphicone_search 2020-02-18 14:35:37.565000 ['climate change', 'environment'] moderator tool passed VasiliiUshakov\n",
      "BEFORE: validated\n",
      "AFTER: graphicone_search 2020-02-18 14:35:37.649000 ['inflation', 'uk', 'citigroup'] moderator tool passed VasiliiUshakov\n",
      "BEFORE: validated\n"
     ]
    },
    {
     "name": "stderr",
     "output_type": "stream",
     "text": [
      "\n",
      "\n",
      "\n",
      "\n",
      "\n",
      "\n",
      "\n",
      " 84%|████████▎ | 2213/2650 [01:32<00:32, 13.40it/s]\u001b[A\u001b[A\u001b[A\u001b[A\u001b[A\u001b[A\u001b[A"
     ]
    },
    {
     "name": "stdout",
     "output_type": "stream",
     "text": [
      "AFTER: graphicone_search 2020-02-18 14:35:37.734000 ['entertainment', 'lionsgate', 'fox', 'universal', 'art', 'warner', 'paramount', 'amazon', 'sony', 'culture', 'netflix', 'disney', 'film industry'] moderator tool passed VasiliiUshakov\n",
      "BEFORE: validated\n",
      "AFTER: graphicone_search 2020-02-18 14:35:37.817000 ['bbc', 'media', 'politics', 'social'] moderator tool passed VasiliiUshakov\n",
      "BEFORE: validated\n",
      "AFTER: graphicone_search 2020-02-18 14:35:37.901000 ['electricity', 'wind power', 'geothermal', 'utilities', 'hydro', 'coal', 'clean energy', 'eu', 'oil', 'commodities', 'solar energy', 'renewables', 'gas', 'energy', 'nuclear power', 'biomass', 'biofuel'] moderator tool passed VasiliiUshakov\n",
      "BEFORE: validated\n"
     ]
    },
    {
     "name": "stderr",
     "output_type": "stream",
     "text": [
      "\n",
      "\n",
      "\n",
      "\n",
      "\n",
      "\n",
      "\n",
      " 84%|████████▎ | 2215/2650 [01:32<00:33, 12.91it/s]\u001b[A\u001b[A\u001b[A\u001b[A\u001b[A\u001b[A\u001b[A\n",
      "\n",
      "\n",
      "\n",
      "\n",
      "\n",
      "\n",
      " 84%|████████▎ | 2218/2650 [01:33<00:30, 14.07it/s]\u001b[A\u001b[A\u001b[A\u001b[A\u001b[A\u001b[A\u001b[A"
     ]
    },
    {
     "name": "stdout",
     "output_type": "stream",
     "text": [
      "AFTER: graphicone_search 2020-02-18 14:35:37.985000 ['barclays', 'high yield', 'credit', 'us', 'global', 'financials', 'bonds', 'index'] moderator tool passed VasiliiUshakov\n",
      "BEFORE: validated\n",
      "AFTER: graphicone_search 2020-02-18 14:35:38.070000 ['e-commerce', 'amazon', 'large caps', 'retail'] moderator tool passed VasiliiUshakov\n",
      "BEFORE: validated\n",
      "AFTER: graphicone_search 2020-02-18 14:35:38.153000 ['canada', 'services', 'automotive', 'trade', 'us', 'north america', 'vehicles'] moderator tool passed VasiliiUshakov\n",
      "BEFORE: validated\n"
     ]
    },
    {
     "name": "stderr",
     "output_type": "stream",
     "text": [
      "\n",
      "\n",
      "\n",
      "\n",
      "\n",
      "\n",
      "\n",
      " 84%|████████▍ | 2220/2650 [01:33<00:32, 13.34it/s]\u001b[A\u001b[A\u001b[A\u001b[A\u001b[A\u001b[A\u001b[A"
     ]
    },
    {
     "name": "stdout",
     "output_type": "stream",
     "text": [
      "AFTER: graphicone_search 2020-02-18 14:35:38.238000 ['financials', 'berkshire hathaway', 'industrials', 'consumer staples', 'telecom', 'consumer discretionary', 'energy', 'information technology', 'consumer', 'communications', 'technology'] moderator tool passed VasiliiUshakov\n",
      "BEFORE: validated\n",
      "AFTER: graphicone_search 2020-02-18 14:35:38.321000 ['cloud', 'software', 'information technology', 'hardware', 'data', 'technology'] moderator tool passed VasiliiUshakov\n",
      "BEFORE: validated\n",
      "AFTER: graphicone_search 2020-02-18 14:35:38.406000 ['loan', 'financials', 'internet'] moderator tool passed VasiliiUshakov\n",
      "BEFORE: validated\n"
     ]
    },
    {
     "name": "stderr",
     "output_type": "stream",
     "text": [
      "\n",
      "\n",
      "\n",
      "\n",
      "\n",
      "\n",
      "\n",
      " 84%|████████▍ | 2222/2650 [01:33<00:33, 12.86it/s]\u001b[A\u001b[A\u001b[A\u001b[A\u001b[A\u001b[A\u001b[A\n",
      "\n",
      "\n",
      "\n",
      "\n",
      "\n",
      "\n",
      " 84%|████████▍ | 2224/2650 [01:33<00:33, 12.55it/s]\u001b[A\u001b[A\u001b[A\u001b[A\u001b[A\u001b[A\u001b[A"
     ]
    },
    {
     "name": "stdout",
     "output_type": "stream",
     "text": [
      "AFTER: graphicone_search 2020-02-18 14:35:38.490000 ['wealth', 'czech republic', 'germany', 'belgium', 'mexico', 'portugal', 'france', 'lithuania', 'greece', 'denmark', 'poland', 'canada', 'slovenia', 'eu', 'personal finance', 'health', 'global', 'finland', 'medicine', 'sweden', 'hungary', 'norway', 'slovakia', 'latvia', 'us', 'australia', 'spain', 'uk', 'estonia', 'oecd', 'italy', 'netherlands', 'ireland'] moderator tool passed VasiliiUshakov\n",
      "BEFORE: validated\n",
      "AFTER: graphicone_search 2020-02-18 14:35:38.575000 ['new york', 'cities', 'austin', 'us', 'washington', 'social', 'demography', 'population', 'los angeles', 'philadelphia'] moderator tool passed VasiliiUshakov\n",
      "BEFORE: validated\n",
      "AFTER: graphicone_search 2020-02-18 14:35:38.658000 ['smartphone', 'entertainment', 'innovation', 'augmented reality', 'app', 'global', 'consumer', 'technology', 'mobile'] moderator tool passed VasiliiUshakov\n",
      "BEFORE: validated\n"
     ]
    },
    {
     "name": "stderr",
     "output_type": "stream",
     "text": [
      "\n",
      "\n",
      "\n",
      "\n",
      "\n",
      "\n",
      "\n",
      " 84%|████████▍ | 2226/2650 [01:33<00:34, 12.34it/s]\u001b[A\u001b[A\u001b[A\u001b[A\u001b[A\u001b[A\u001b[A"
     ]
    },
    {
     "name": "stdout",
     "output_type": "stream",
     "text": [
      "AFTER: graphicone_search 2020-02-18 14:35:38.743000 ['science', 'genetics'] moderator tool passed VasiliiUshakov\n",
      "BEFORE: validated\n",
      "AFTER: graphicone_search 2020-02-18 14:35:38.827000 ['government bonds', 'germany', 'bonds', 'fixed income'] moderator tool passed VasiliiUshakov\n",
      "BEFORE: validated\n",
      "AFTER: graphicone_search 2020-02-18 14:35:38.912000 ['wind power', 'clean energy', 'renewables', 'us', 'energy'] moderator tool passed VasiliiUshakov\n",
      "BEFORE: validated\n"
     ]
    },
    {
     "name": "stderr",
     "output_type": "stream",
     "text": [
      "\n",
      "\n",
      "\n",
      "\n",
      "\n",
      "\n",
      "\n",
      " 84%|████████▍ | 2228/2650 [01:33<00:34, 12.21it/s]\u001b[A\u001b[A\u001b[A\u001b[A\u001b[A\u001b[A\u001b[A\n",
      "\n",
      "\n",
      "\n",
      "\n",
      "\n",
      "\n",
      " 84%|████████▍ | 2230/2650 [01:34<00:34, 12.11it/s]\u001b[A\u001b[A\u001b[A\u001b[A\u001b[A\u001b[A\u001b[A"
     ]
    },
    {
     "name": "stdout",
     "output_type": "stream",
     "text": [
      "AFTER: graphicone_search 2020-02-18 14:35:38.995000 ['facebook', 'tv', 'digital', 'twitter', 'advertising', 'social', 'politics', 'digital media', 'media', 'internet', 'social media'] moderator tool passed VasiliiUshakov\n",
      "BEFORE: validated\n",
      "AFTER: graphicone_search 2020-02-18 14:35:39.079000 ['index', 's&p'] moderator tool passed VasiliiUshakov\n",
      "BEFORE: validated\n",
      "AFTER: graphicone_search 2020-02-18 14:35:39.163000 ['macro', 'swiss national bank', 'eu', 'ecb', 'interest rates', 'riksbank', 'bank of japan', 'global', 'monetary policy'] moderator tool passed VasiliiUshakov\n",
      "BEFORE: validated\n"
     ]
    },
    {
     "name": "stderr",
     "output_type": "stream",
     "text": [
      "\n",
      "\n",
      "\n",
      "\n",
      "\n",
      "\n",
      "\n",
      " 84%|████████▍ | 2232/2650 [01:34<00:34, 12.04it/s]\u001b[A\u001b[A\u001b[A\u001b[A\u001b[A\u001b[A\u001b[A"
     ]
    },
    {
     "name": "stdout",
     "output_type": "stream",
     "text": [
      "AFTER: graphicone_search 2020-02-18 14:35:39.248000 ['equality', 'woman', 'india', 'insurance', 'gender', 'social', 'demography'] moderator tool passed VasiliiUshakov\n",
      "BEFORE: validated\n",
      "AFTER: graphicone_search 2020-02-18 14:35:39.331000 ['smartphone', 'innovation', 'biometrics', 'technology'] moderator tool passed VasiliiUshakov\n",
      "BEFORE: validated\n",
      "AFTER: graphicone_search 2020-02-18 14:35:39.416000 ['biometrics', 'india', 'innovation'] moderator tool passed VasiliiUshakov\n",
      "BEFORE: validated\n"
     ]
    },
    {
     "name": "stderr",
     "output_type": "stream",
     "text": [
      "\n",
      "\n",
      "\n",
      "\n",
      "\n",
      "\n",
      "\n",
      " 84%|████████▍ | 2234/2650 [01:34<00:34, 11.99it/s]\u001b[A\u001b[A\u001b[A\u001b[A\u001b[A\u001b[A\u001b[A\n",
      "\n",
      "\n",
      "\n",
      "\n",
      "\n",
      "\n",
      " 84%|████████▍ | 2237/2650 [01:34<00:31, 13.29it/s]\u001b[A\u001b[A\u001b[A\u001b[A\u001b[A\u001b[A\u001b[A"
     ]
    },
    {
     "name": "stdout",
     "output_type": "stream",
     "text": [
      "AFTER: graphicone_search 2020-02-18 14:35:39.500000 ['loan', 'us', 'banking', 'financials'] moderator tool passed VasiliiUshakov\n",
      "BEFORE: validated\n",
      "AFTER: graphicone_search 2020-02-18 14:35:39.585000 ['google', 'digital entertainment', 'digital', 'spotify', 'internet', 'apple', 'digital media', 'media', 'consumer'] moderator tool passed VasiliiUshakov\n",
      "BEFORE: validated\n",
      "AFTER: graphicone_search 2020-02-18 14:35:39.668000 ['funds', 'bonds', 'cash'] moderator tool passed VasiliiUshakov\n",
      "BEFORE: validated\n"
     ]
    },
    {
     "name": "stderr",
     "output_type": "stream",
     "text": [
      "\n",
      "\n",
      "\n",
      "\n",
      "\n",
      "\n",
      "\n",
      " 84%|████████▍ | 2239/2650 [01:34<00:32, 12.84it/s]\u001b[A\u001b[A\u001b[A\u001b[A\u001b[A\u001b[A\u001b[A"
     ]
    },
    {
     "name": "stdout",
     "output_type": "stream",
     "text": [
      "AFTER: graphicone_search 2020-02-18 14:35:39.753000 ['funds'] moderator tool passed VasiliiUshakov\n",
      "BEFORE: validated\n",
      "AFTER: graphicone_search 2020-02-18 14:35:39.837000 ['alibaba', 'hong kong stock exchange', 'nyse', 'china', 'hong kong', 'us', 'ipo', 'new york', 'technology'] moderator tool passed VasiliiUshakov\n",
      "BEFORE: validated\n",
      "AFTER: graphicone_search 2020-02-18 14:35:39.921000 ['japan', 'gdp', 'bank of england', 'uk', 'eu', 'ecb', 'us', 'bank of japan', 'banking', 'global', 'fed'] moderator tool passed VasiliiUshakov\n",
      "BEFORE: validated\n"
     ]
    },
    {
     "name": "stderr",
     "output_type": "stream",
     "text": [
      "\n",
      "\n",
      "\n",
      "\n",
      "\n",
      "\n",
      "\n",
      " 85%|████████▍ | 2242/2650 [01:34<00:29, 14.01it/s]\u001b[A\u001b[A\u001b[A\u001b[A\u001b[A\u001b[A\u001b[A\n",
      "\n",
      "\n",
      "\n",
      "\n",
      "\n",
      "\n",
      " 85%|████████▍ | 2244/2650 [01:35<00:30, 13.28it/s]\u001b[A\u001b[A\u001b[A\u001b[A\u001b[A\u001b[A\u001b[A"
     ]
    },
    {
     "name": "stdout",
     "output_type": "stream",
     "text": [
      "AFTER: graphicone_search 2020-02-18 14:35:40.005000 ['medicine', 'drugs', 'consumer products', 'insurance', 'services', 'personal finance', 'us', 'health', 'consumer'] moderator tool passed VasiliiUshakov\n",
      "BEFORE: validated\n",
      "AFTER: graphicone_search 2020-02-18 14:35:40.090000 ['qatar', 'georgia', 'czech republic', 'south africa', 'asia', 'jordan', 'mexico', 'romania', 'indonesia', 'colombia', 'belarus', 'taiwan', 'brazil', 'morocco', 'middle east', 'macro', 'poland', 'eu', 'india', 'china', 'nigeria', 'interest rates', 'banking', 'ivory coast', 'namibia', 'turkey', 'global', 'bulgaria', 'iraq', 'south america', 'hungary', 'azerbaijan', 'africa', 'ukraine', 'thailand', 'chile', 'pakistan', 'philippines', 'egypt', 'malaysia', 'south korea', 'emerging markets', 'russia', 'serbia', 'peru', 'costa rica', 'monetary policy', 'sri lanka'] moderator tool passed VasiliiUshakov\n",
      "BEFORE: validated\n",
      "AFTER: graphicone_search 2020-02-18 14:35:40.174000 ['emirates', 'aviation', 'services', 'ryanair', 'lufthansa', 'united airlines', 'transportation'] moderator tool passed VasiliiUshakov\n",
      "BEFORE: validated\n"
     ]
    },
    {
     "name": "stderr",
     "output_type": "stream",
     "text": [
      "\n",
      "\n",
      "\n",
      "\n",
      "\n",
      "\n",
      "\n",
      " 85%|████████▍ | 2246/2650 [01:35<00:31, 12.83it/s]\u001b[A\u001b[A\u001b[A\u001b[A\u001b[A\u001b[A\u001b[A"
     ]
    },
    {
     "name": "stdout",
     "output_type": "stream",
     "text": [
      "AFTER: graphicone_search 2020-02-18 14:35:40.259000 ['monetary policy', 'dow jones', 'materials', 'nasdaq', 'bonds', 'communications', 'fixed income', 'industrials', 'real estate', 'china', 'health', 'interest rates', 'energy', 'fed', 's&p', 'utilities', 'consumer staples', 'government bonds', 'us', 'consumer discretionary', 'financials', 'technology', 'sentiment', 'trade war', 'nasdaq composite', 'trade', 'information technology', 'large caps', 'index'] moderator tool passed VasiliiUshakov\n",
      "BEFORE: validated\n",
      "AFTER: graphicone_search 2020-02-18 14:35:40.343000 ['smartphone', 'entertainment', 'tv', 'wireless', 'computers', 'social', 'us', 'internet', 'radio', 'leisure', 'media', 'consumer', 'mobile'] moderator tool passed VasiliiUshakov\n",
      "BEFORE: validated\n",
      "AFTER: graphicone_search 2020-02-18 14:35:40.427000 ['medicine', 'uk', 'south africa', 'insurance', 'new zealand', 'switzerland', 'us', 'health', 'global', 'australia', 'netherlands', 'uae'] moderator tool passed VasiliiUshakov\n",
      "BEFORE: validated\n"
     ]
    },
    {
     "name": "stderr",
     "output_type": "stream",
     "text": [
      "\n",
      "\n",
      "\n",
      "\n",
      "\n",
      "\n",
      "\n",
      " 85%|████████▍ | 2248/2650 [01:35<00:32, 12.52it/s]\u001b[A\u001b[A\u001b[A\u001b[A\u001b[A\u001b[A\u001b[A\n",
      "\n",
      "\n",
      "\n",
      "\n",
      "\n",
      "\n",
      " 85%|████████▍ | 2250/2650 [01:35<00:32, 12.31it/s]\u001b[A\u001b[A\u001b[A\u001b[A\u001b[A\u001b[A\u001b[A"
     ]
    },
    {
     "name": "stdout",
     "output_type": "stream",
     "text": [
      "AFTER: graphicone_search 2020-02-18 14:35:40.511000 ['us', 'streaming', 'tv'] moderator tool passed VasiliiUshakov\n",
      "BEFORE: validated\n",
      "AFTER: graphicone_search 2020-02-18 14:35:40.596000 ['employment', 'middle east', 'eu', 'asia', 'africa', 'latin america', 'labor', 'banking', 'north america'] moderator tool passed VasiliiUshakov\n",
      "BEFORE: validated\n",
      "AFTER: graphicone_search 2020-02-18 14:35:40.680000 ['abiomed', 's&p', 'index', 'netflix'] moderator tool passed VasiliiUshakov\n",
      "BEFORE: validated\n"
     ]
    },
    {
     "name": "stderr",
     "output_type": "stream",
     "text": [
      "\n",
      "\n",
      "\n",
      "\n",
      "\n",
      "\n",
      "\n",
      " 85%|████████▍ | 2252/2650 [01:35<00:32, 12.17it/s]\u001b[A\u001b[A\u001b[A\u001b[A\u001b[A\u001b[A\u001b[A"
     ]
    },
    {
     "name": "stdout",
     "output_type": "stream",
     "text": [
      "AFTER: graphicone_search 2020-02-18 14:35:40.765000 ['pfizer', 'abbvie', 'roche', 'pharmaceutical industry', 'sanofi', 'amgen', 'bristol-myers squibb', 'novartis', 'johnson & johnson', 'merck'] moderator tool passed VasiliiUshakov\n",
      "BEFORE: validated\n",
      "AFTER: graphicone_search 2020-02-18 14:35:40.848000 ['gdp', 'banking', 'china'] moderator tool passed VasiliiUshakov\n",
      "BEFORE: validated\n",
      "AFTER: graphicone_search 2020-02-18 14:35:40.933000 ['petrochina', 'facebook', 'mastercard', 'dutch east india company', 'alibaba', 'berkshire hathaway', 'jpmorgan', 'walmart', 'microsoft', 'alphabet', 'south sea company', 'bank of america', 'amazon', 'saudi aramco', 'apple', 'procter&gamble', 'johnson & johnson', 'visa'] moderator tool passed VasiliiUshakov\n",
      "BEFORE: validated\n"
     ]
    },
    {
     "name": "stderr",
     "output_type": "stream",
     "text": [
      "\n",
      "\n",
      "\n",
      "\n",
      "\n",
      "\n",
      "\n",
      " 85%|████████▌ | 2254/2650 [01:35<00:32, 12.09it/s]\u001b[A\u001b[A\u001b[A\u001b[A\u001b[A\u001b[A\u001b[A\n",
      "\n",
      "\n",
      "\n",
      "\n",
      "\n",
      "\n",
      " 85%|████████▌ | 2256/2650 [01:36<00:32, 12.02it/s]\u001b[A\u001b[A\u001b[A\u001b[A\u001b[A\u001b[A\u001b[A"
     ]
    },
    {
     "name": "stdout",
     "output_type": "stream",
     "text": [
      "AFTER: graphicone_search 2020-02-18 14:35:41.017000 ['woman', 'children', 'population', 'gender'] moderator tool passed VasiliiUshakov\n",
      "BEFORE: validated\n",
      "AFTER: graphicone_search 2020-02-18 14:35:41.101000 ['japan', 'canada', 'uk', 'germany', 'norway', 'oecd', 'switzerland', 'us', 'health', 'france', 'spain'] moderator tool passed VasiliiUshakov\n",
      "BEFORE: validated\n",
      "AFTER: graphicone_search 2020-02-18 14:35:41.185000 ['france', 'japan', 'czech republic', 'robotics', 'canada', 'korea', 'germany', 'india', 'thailand', 'china', 'italy', 'mexico', 'singapore', 'us', 'taiwan', 'technology', 'spain'] moderator tool passed VasiliiUshakov\n",
      "BEFORE: validated\n"
     ]
    },
    {
     "name": "stderr",
     "output_type": "stream",
     "text": [
      "\n",
      "\n",
      "\n",
      "\n",
      "\n",
      "\n",
      "\n",
      " 85%|████████▌ | 2258/2650 [01:36<00:32, 11.97it/s]\u001b[A\u001b[A\u001b[A\u001b[A\u001b[A\u001b[A\u001b[A"
     ]
    },
    {
     "name": "stdout",
     "output_type": "stream",
     "text": [
      "AFTER: graphicone_search 2020-02-18 14:35:41.270000 ['us', 'health', 'medicine'] moderator tool passed VasiliiUshakov\n",
      "BEFORE: validated\n",
      "AFTER: graphicone_search 2020-02-18 14:35:41.354000 ['boeing'] moderator tool passed VasiliiUshakov\n",
      "BEFORE: validated\n",
      "AFTER: graphicone_search 2020-02-18 14:35:41.438000 ['credit card', 'interest rates', 'banking', 'cashless'] moderator tool passed VasiliiUshakov\n",
      "BEFORE: validated\n"
     ]
    },
    {
     "name": "stderr",
     "output_type": "stream",
     "text": [
      "\n",
      "\n",
      "\n",
      "\n",
      "\n",
      "\n",
      "\n",
      " 85%|████████▌ | 2260/2650 [01:36<00:32, 11.94it/s]\u001b[A\u001b[A\u001b[A\u001b[A\u001b[A\u001b[A\u001b[A\n",
      "\n",
      "\n",
      "\n",
      "\n",
      "\n",
      "\n",
      " 85%|████████▌ | 2262/2650 [01:36<00:32, 11.93it/s]\u001b[A\u001b[A\u001b[A\u001b[A\u001b[A\u001b[A\u001b[A"
     ]
    },
    {
     "name": "stdout",
     "output_type": "stream",
     "text": [
      "AFTER: graphicone_search 2020-02-18 14:35:41.522000 ['us', 'health', 'medicine'] moderator tool passed VasiliiUshakov\n",
      "BEFORE: validated\n",
      "AFTER: graphicone_search 2020-02-18 14:35:41.607000 ['advertising', 'us', 'hulu'] moderator tool passed VasiliiUshakov\n",
      "BEFORE: validated\n",
      "AFTER: graphicone_search 2020-02-18 14:35:41.690000 ['entertainment', 'utilities', 'technology', 'real estate', 'insurance', 'metals & mining', 'trade', 'manufacturing', 'health', 'transportation', 'education', 'financials', 'agriculture', 'retail', 'construction & engineering'] moderator tool passed VasiliiUshakov\n",
      "BEFORE: validated\n"
     ]
    },
    {
     "name": "stderr",
     "output_type": "stream",
     "text": [
      "\n",
      "\n",
      "\n",
      "\n",
      "\n",
      "\n",
      "\n",
      " 85%|████████▌ | 2264/2650 [01:36<00:32, 11.92it/s]\u001b[A\u001b[A\u001b[A\u001b[A\u001b[A\u001b[A\u001b[A"
     ]
    },
    {
     "name": "stdout",
     "output_type": "stream",
     "text": [
      "AFTER: graphicone_search 2020-02-18 14:35:41.775000 ['diseases', 'uk', 'woman', 'gender', 'death', 'health'] moderator tool passed VasiliiUshakov\n",
      "BEFORE: validated\n",
      "AFTER: graphicone_search 2020-02-18 14:35:41.858000 ['tencent', 'internet', 'alibaba', 'baidu'] moderator tool passed VasiliiUshakov\n",
      "BEFORE: validated\n",
      "AFTER: graphicone_search 2020-02-18 14:35:41.943000 ['generations', 'social media'] moderator tool passed VasiliiUshakov\n",
      "BEFORE: validated\n"
     ]
    },
    {
     "name": "stderr",
     "output_type": "stream",
     "text": [
      "\n",
      "\n",
      "\n",
      "\n",
      "\n",
      "\n",
      "\n",
      " 86%|████████▌ | 2266/2650 [01:36<00:32, 11.91it/s]\u001b[A\u001b[A\u001b[A\u001b[A\u001b[A\u001b[A\u001b[A\n",
      "\n",
      "\n",
      "\n",
      "\n",
      "\n",
      "\n",
      " 86%|████████▌ | 2268/2650 [01:37<00:32, 11.91it/s]\u001b[A\u001b[A\u001b[A\u001b[A\u001b[A\u001b[A\u001b[A"
     ]
    },
    {
     "name": "stdout",
     "output_type": "stream",
     "text": [
      "AFTER: graphicone_search 2020-02-18 14:35:42.027000 ['banking'] moderator tool passed VasiliiUshakov\n",
      "BEFORE: validated\n",
      "AFTER: graphicone_search 2020-02-18 14:35:42.111000 ['ev', 'eu', 'automotive', 'toyota', 'fca', 'volkswagen', 'daimler', 'tesla'] moderator tool passed VasiliiUshakov\n",
      "BEFORE: validated\n",
      "AFTER: graphicone_search 2020-02-18 14:35:42.195000 ['vehicles', 'automotive', 'ev'] moderator tool passed VasiliiUshakov\n",
      "BEFORE: validated\n"
     ]
    },
    {
     "name": "stderr",
     "output_type": "stream",
     "text": [
      "\n",
      "\n",
      "\n",
      "\n",
      "\n",
      "\n",
      "\n",
      " 86%|████████▌ | 2270/2650 [01:37<00:31, 11.90it/s]\u001b[A\u001b[A\u001b[A\u001b[A\u001b[A\u001b[A\u001b[A"
     ]
    },
    {
     "name": "stdout",
     "output_type": "stream",
     "text": [
      "AFTER: graphicone_search 2020-02-18 14:35:42.279000 ['entertainment', 'sports', 'warner', 'viacomcbs', 'amazon', 'sony', 'netflix', 'apple', 'disney', 'comcast'] moderator tool passed VasiliiUshakov\n",
      "BEFORE: validated\n",
      "AFTER: graphicone_search 2020-02-18 14:35:42.363000 ['medicine', 'diseases', 'georgia', 'us', 'health', 'wisconsin', 'virginia'] moderator tool passed VasiliiUshakov\n",
      "BEFORE: validated\n",
      "AFTER: graphicone_search 2020-02-18 14:35:42.448000 ['google', 'facebook', 'usps', 'microsoft', 'us', 'amazon'] moderator tool passed VasiliiUshakov\n",
      "BEFORE: validated\n"
     ]
    },
    {
     "name": "stderr",
     "output_type": "stream",
     "text": [
      "\n",
      "\n",
      "\n",
      "\n",
      "\n",
      "\n",
      "\n",
      " 86%|████████▌ | 2272/2650 [01:37<00:31, 11.89it/s]\u001b[A\u001b[A\u001b[A\u001b[A\u001b[A\u001b[A\u001b[A\n",
      "\n",
      "\n",
      "\n",
      "\n",
      "\n",
      "\n",
      " 86%|████████▌ | 2274/2650 [01:37<00:31, 11.88it/s]\u001b[A\u001b[A\u001b[A\u001b[A\u001b[A\u001b[A\u001b[A"
     ]
    },
    {
     "name": "stdout",
     "output_type": "stream",
     "text": [
      "AFTER: graphicone_search 2020-02-18 14:35:42.532000 ['consumer'] moderator tool passed VasiliiUshakov\n",
      "BEFORE: validated\n",
      "AFTER: graphicone_search 2020-02-18 14:35:42.616000 ['ipo', 'etf', 'index', 's&p'] moderator tool passed VasiliiUshakov\n",
      "BEFORE: validated\n",
      "AFTER: graphicone_search 2020-02-18 14:35:42.700000 ['us', 'health', 'medicine', 'labor'] moderator tool passed VasiliiUshakov\n",
      "BEFORE: validated\n"
     ]
    },
    {
     "name": "stderr",
     "output_type": "stream",
     "text": [
      "\n",
      "\n",
      "\n",
      "\n",
      "\n",
      "\n",
      "\n",
      " 86%|████████▌ | 2276/2650 [01:37<00:31, 11.88it/s]\u001b[A\u001b[A\u001b[A\u001b[A\u001b[A\u001b[A\u001b[A"
     ]
    },
    {
     "name": "stdout",
     "output_type": "stream",
     "text": [
      "AFTER: graphicone_search 2020-02-18 14:35:42.785000 ['google', 'facebook', 'uk'] moderator tool passed VasiliiUshakov\n",
      "BEFORE: validated\n",
      "AFTER: graphicone_search 2020-02-18 14:35:42.869000 ['middle east', 'canada', 'eu', 'asia', 'africa', 'latin america', 'music', 'us', 'netflix', 'north america', 'streaming'] moderator tool passed VasiliiUshakov\n",
      "BEFORE: validated\n",
      "AFTER: graphicone_search 2020-02-18 14:35:42.954000 ['pfizer', 'nike', 'walmart', 'microsoft', 'alphabet', 'amazon', \"mcdonald's\", 'general electric', 'apple', 'ipo', 'disney', 'starbucks', 'coca-cola'] moderator tool passed VasiliiUshakov\n",
      "BEFORE: validated\n"
     ]
    },
    {
     "name": "stderr",
     "output_type": "stream",
     "text": [
      "\n",
      "\n",
      "\n",
      "\n",
      "\n",
      "\n",
      "\n",
      " 86%|████████▌ | 2278/2650 [01:37<00:31, 11.87it/s]\u001b[A\u001b[A\u001b[A\u001b[A\u001b[A\u001b[A\u001b[A\n",
      "\n",
      "\n",
      "\n",
      "\n",
      "\n",
      "\n",
      " 86%|████████▌ | 2280/2650 [01:38<00:31, 11.87it/s]\u001b[A\u001b[A\u001b[A\u001b[A\u001b[A\u001b[A\u001b[A"
     ]
    },
    {
     "name": "stdout",
     "output_type": "stream",
     "text": [
      "AFTER: graphicone_search 2020-02-18 14:35:43.037000 ['amazon'] moderator tool passed VasiliiUshakov\n",
      "BEFORE: validated\n",
      "AFTER: graphicone_search 2020-02-18 14:35:43.122000 ['health', 'government'] moderator tool passed VasiliiUshakov\n",
      "BEFORE: validated\n",
      "AFTER: graphicone_search 2020-02-18 14:35:43.206000 ['us', 'sentiment'] moderator tool passed VasiliiUshakov\n",
      "BEFORE: validated\n"
     ]
    },
    {
     "name": "stderr",
     "output_type": "stream",
     "text": [
      "\n",
      "\n",
      "\n",
      "\n",
      "\n",
      "\n",
      "\n",
      " 86%|████████▌ | 2282/2650 [01:38<00:30, 11.88it/s]\u001b[A\u001b[A\u001b[A\u001b[A\u001b[A\u001b[A\u001b[A"
     ]
    },
    {
     "name": "stdout",
     "output_type": "stream",
     "text": [
      "AFTER: graphicone_search 2020-02-18 14:35:43.291000 ['netflix', 'disney'] moderator tool passed VasiliiUshakov\n",
      "BEFORE: validated\n",
      "AFTER: graphicone_search 2020-02-18 14:35:43.374000 ['loan', 'us', 'credit', 'banking'] moderator tool passed VasiliiUshakov\n",
      "BEFORE: validated\n",
      "AFTER: graphicone_search 2020-02-18 14:35:43.459000 ['stoxx', 'eu', 'us', 'banking', 'index', 's&p'] moderator tool passed VasiliiUshakov\n",
      "BEFORE: validated\n"
     ]
    },
    {
     "name": "stderr",
     "output_type": "stream",
     "text": [
      "\n",
      "\n",
      "\n",
      "\n",
      "\n",
      "\n",
      "\n",
      " 86%|████████▌ | 2284/2650 [01:38<00:30, 11.88it/s]\u001b[A\u001b[A\u001b[A\u001b[A\u001b[A\u001b[A\u001b[A\n",
      "\n",
      "\n",
      "\n",
      "\n",
      "\n",
      "\n",
      " 86%|████████▋ | 2286/2650 [01:38<00:30, 11.88it/s]\u001b[A\u001b[A\u001b[A\u001b[A\u001b[A\u001b[A\u001b[A"
     ]
    },
    {
     "name": "stdout",
     "output_type": "stream",
     "text": [
      "AFTER: graphicone_search 2020-02-18 14:35:43.542000 ['advertising', 'marketing', 'social media', 'app'] moderator tool passed VasiliiUshakov\n",
      "BEFORE: validated\n",
      "AFTER: graphicone_search 2020-02-18 14:35:43.627000 ['eu', 'emerging markets', 'us', 'msci'] moderator tool passed VasiliiUshakov\n",
      "BEFORE: validated\n",
      "AFTER: graphicone_search 2020-02-18 14:35:43.711000 ['loan', 'credit', 'debt'] moderator tool passed VasiliiUshakov\n",
      "BEFORE: validated\n"
     ]
    },
    {
     "name": "stderr",
     "output_type": "stream",
     "text": [
      "\n",
      "\n",
      "\n",
      "\n",
      "\n",
      "\n",
      "\n",
      " 86%|████████▋ | 2288/2650 [01:38<00:30, 11.89it/s]\u001b[A\u001b[A\u001b[A\u001b[A\u001b[A\u001b[A\u001b[A"
     ]
    },
    {
     "name": "stdout",
     "output_type": "stream",
     "text": [
      "AFTER: graphicone_search 2020-02-18 14:35:43.795000 ['communications', 'labor', 'real estate', 'inflation', 'health', 'transportation', 'education', 'consumer', 'apparel', 'index', 'retail'] moderator tool passed VasiliiUshakov\n",
      "BEFORE: validated\n",
      "AFTER: graphicone_search 2020-02-18 14:35:43.879000 ['instagram'] moderator tool passed VasiliiUshakov\n",
      "BEFORE: validated\n",
      "AFTER: graphicone_search 2020-02-18 14:35:43.963000 ['boeing', 'home depot', 'unitedhealth', 'visa', 'dow jones', 'apple', 'index'] moderator tool passed VasiliiUshakov\n",
      "BEFORE: validated\n"
     ]
    },
    {
     "name": "stderr",
     "output_type": "stream",
     "text": [
      "\n",
      "\n",
      "\n",
      "\n",
      "\n",
      "\n",
      "\n",
      " 86%|████████▋ | 2290/2650 [01:38<00:30, 11.88it/s]\u001b[A\u001b[A\u001b[A\u001b[A\u001b[A\u001b[A\u001b[A\n",
      "\n",
      "\n",
      "\n",
      "\n",
      "\n",
      "\n",
      " 86%|████████▋ | 2292/2650 [01:39<00:30, 11.87it/s]\u001b[A\u001b[A\u001b[A\u001b[A\u001b[A\u001b[A\u001b[A"
     ]
    },
    {
     "name": "stdout",
     "output_type": "stream",
     "text": [
      "AFTER: graphicone_search 2020-02-18 14:35:44.047000 ['e-commerce', 'walmart', 'us', 'amazon', 'retail'] moderator tool passed VasiliiUshakov\n",
      "BEFORE: validated\n",
      "AFTER: graphicone_search 2020-02-18 14:35:44.132000 ['china', 'pork', 'inflation', 'ppi', 'cpi', 'index'] moderator tool passed VasiliiUshakov\n",
      "BEFORE: validated\n",
      "AFTER: graphicone_search 2020-02-18 14:35:44.216000 ['vehicles'] moderator tool passed VasiliiUshakov\n",
      "BEFORE: validated\n"
     ]
    },
    {
     "name": "stderr",
     "output_type": "stream",
     "text": [
      "\n",
      "\n",
      "\n",
      "\n",
      "\n",
      "\n",
      "\n",
      " 87%|████████▋ | 2295/2650 [01:39<00:26, 13.17it/s]\u001b[A\u001b[A\u001b[A\u001b[A\u001b[A\u001b[A\u001b[A"
     ]
    },
    {
     "name": "stdout",
     "output_type": "stream",
     "text": [
      "AFTER: graphicone_search 2020-02-18 14:35:44.301000 ['ipo', 'us', 'china'] moderator tool passed VasiliiUshakov\n",
      "BEFORE: validated\n",
      "AFTER: graphicone_search 2020-02-18 14:35:44.385000 ['developed markets', 'us', 'large caps', 'index', 's&p'] moderator tool passed VasiliiUshakov\n",
      "BEFORE: validated\n",
      "AFTER: graphicone_search 2020-02-18 14:35:44.470000 ['macro', 'government debt', 'us', 'interest rates', 'monetary policy', 'debt'] moderator tool passed VasiliiUshakov\n",
      "BEFORE: validated\n"
     ]
    },
    {
     "name": "stderr",
     "output_type": "stream",
     "text": [
      "\n",
      "\n",
      "\n",
      "\n",
      "\n",
      "\n",
      "\n",
      " 87%|████████▋ | 2298/2650 [01:39<00:24, 14.30it/s]\u001b[A\u001b[A\u001b[A\u001b[A\u001b[A\u001b[A\u001b[A\n",
      "\n",
      "\n",
      "\n",
      "\n",
      "\n",
      "\n",
      " 87%|████████▋ | 2302/2650 [01:39<00:21, 16.24it/s]\u001b[A\u001b[A\u001b[A\u001b[A\u001b[A\u001b[A\u001b[A"
     ]
    },
    {
     "name": "stdout",
     "output_type": "stream",
     "text": [
      "AFTER: graphicone_search 2020-02-18 14:35:44.554000 ['sentiment', 'bull market', 'bear market', 'insider activity'] moderator tool passed VasiliiUshakov\n",
      "BEFORE: validated\n",
      "AFTER: graphicone_search 2020-02-18 14:35:44.638000 ['japan', 'uk', 'digital', 'telecom', 'eu', 'asia', 'germany', 'india', 'china', 'italy', 'social', 'us', 'russia', 'france', 'information technology', 'internet', 'technology', 'spain'] moderator tool passed VasiliiUshakov\n",
      "BEFORE: validated\n",
      "AFTER: graphicone_search 2020-02-18 14:35:44.722000 ['japan', 'south africa', 'mexico', 'indonesia', 'brazil', 'saudi arabia', 'developed markets', 'macro', 'canada', 'eu', 'india', 'new zealand', 'interest rates', 'turkey', 'global', 'us', 'australia', 'chile', 'uk', 'south korea', 'russia', 'emerging markets', 'monetary policy'] moderator tool passed VasiliiUshakov\n",
      "BEFORE: validated\n"
     ]
    },
    {
     "name": "stderr",
     "output_type": "stream",
     "text": [
      "\n",
      "\n",
      "\n",
      "\n",
      "\n",
      "\n",
      "\n",
      " 87%|████████▋ | 2304/2650 [01:39<00:23, 14.64it/s]\u001b[A\u001b[A\u001b[A\u001b[A\u001b[A\u001b[A\u001b[A"
     ]
    },
    {
     "name": "stdout",
     "output_type": "stream",
     "text": [
      "AFTER: graphicone_search 2020-02-18 14:35:44.807000 ['index', 's&p'] moderator tool passed VasiliiUshakov\n",
      "BEFORE: validated\n",
      "AFTER: graphicone_search 2020-02-18 14:35:44.890000 ['loan', 'bonds', 'index', 'high yield'] moderator tool passed VasiliiUshakov\n",
      "BEFORE: validated\n",
      "AFTER: graphicone_search 2020-02-18 14:35:44.975000 ['high yield', 'us', 'bonds', 'index'] moderator tool passed VasiliiUshakov\n",
      "BEFORE: validated\n"
     ]
    },
    {
     "name": "stderr",
     "output_type": "stream",
     "text": [
      "\n",
      "\n",
      "\n",
      "\n",
      "\n",
      "\n",
      "\n",
      " 87%|████████▋ | 2306/2650 [01:39<00:25, 13.67it/s]\u001b[A\u001b[A\u001b[A\u001b[A\u001b[A\u001b[A\u001b[A\n",
      "\n",
      "\n",
      "\n",
      "\n",
      "\n",
      "\n",
      " 87%|████████▋ | 2308/2650 [01:40<00:26, 13.07it/s]\u001b[A\u001b[A\u001b[A\u001b[A\u001b[A\u001b[A\u001b[A"
     ]
    },
    {
     "name": "stdout",
     "output_type": "stream",
     "text": [
      "AFTER: graphicone_search 2020-02-18 14:35:45.058000 ['employment', 'labor', 'bush', 'us', 'obama', 'trump'] moderator tool passed VasiliiUshakov\n",
      "BEFORE: validated\n",
      "AFTER: graphicone_search 2020-02-18 14:35:45.143000 ['loan', 'bonds', 'esg', 'debt'] moderator tool passed VasiliiUshakov\n",
      "BEFORE: validated\n",
      "AFTER: graphicone_search 2020-02-18 14:35:45.227000 ['gdp', 'china', 'industrials'] moderator tool passed VasiliiUshakov\n",
      "BEFORE: validated\n"
     ]
    },
    {
     "name": "stderr",
     "output_type": "stream",
     "text": [
      "\n",
      "\n",
      "\n",
      "\n",
      "\n",
      "\n",
      "\n",
      " 87%|████████▋ | 2310/2650 [01:40<00:26, 12.69it/s]\u001b[A\u001b[A\u001b[A\u001b[A\u001b[A\u001b[A\u001b[A"
     ]
    },
    {
     "name": "stdout",
     "output_type": "stream",
     "text": [
      "AFTER: graphicone_search 2020-02-18 14:35:45.312000 ['gender', 'retail', 'apparel', 'woman'] moderator tool passed VasiliiUshakov\n",
      "BEFORE: validated\n",
      "AFTER: graphicone_search 2020-02-18 14:35:45.396000 ['palladium', 'metals & mining', 'commodities', 'gold'] moderator tool passed VasiliiUshakov\n",
      "BEFORE: validated\n",
      "AFTER: graphicone_search 2020-02-18 14:35:45.481000 ['index', 'gdp'] moderator tool passed VasiliiUshakov\n",
      "BEFORE: validated\n"
     ]
    },
    {
     "name": "stderr",
     "output_type": "stream",
     "text": [
      "\n",
      "\n",
      "\n",
      "\n",
      "\n",
      "\n",
      "\n",
      " 87%|████████▋ | 2312/2650 [01:40<00:27, 12.43it/s]\u001b[A\u001b[A\u001b[A\u001b[A\u001b[A\u001b[A\u001b[A\n",
      "\n",
      "\n",
      "\n",
      "\n",
      "\n",
      "\n",
      " 87%|████████▋ | 2314/2650 [01:40<00:27, 12.25it/s]\u001b[A\u001b[A\u001b[A\u001b[A\u001b[A\u001b[A\u001b[A"
     ]
    },
    {
     "name": "stdout",
     "output_type": "stream",
     "text": [
      "AFTER: graphicone_search 2020-02-18 14:35:45.564000 ['generation x', 'generations', 'millennials', 'boomers'] moderator tool passed VasiliiUshakov\n",
      "BEFORE: validated\n",
      "AFTER: graphicone_search 2020-02-18 14:35:45.649000 ['commodities', 'export', 'algeria', 'trade', 'gas'] moderator tool passed VasiliiUshakov\n",
      "BEFORE: validated\n",
      "AFTER: graphicone_search 2020-02-18 14:35:45.733000 ['utilities', 'industrials', 'consumer staples', 'real estate', 'health', 'materials', 'consumer discretionary', 'energy', 'financials', 'etf', 'index', 'technology'] moderator tool passed VasiliiUshakov\n",
      "BEFORE: validated\n"
     ]
    },
    {
     "name": "stderr",
     "output_type": "stream",
     "text": [
      "\n",
      "\n",
      "\n",
      "\n",
      "\n",
      "\n",
      "\n",
      " 87%|████████▋ | 2317/2650 [01:40<00:24, 13.50it/s]\u001b[A\u001b[A\u001b[A\u001b[A\u001b[A\u001b[A\u001b[A"
     ]
    },
    {
     "name": "stdout",
     "output_type": "stream",
     "text": [
      "AFTER: graphicone_search 2020-02-18 14:35:45.818000 ['us', 'imports', 'china', 'trade'] moderator tool passed VasiliiUshakov\n",
      "BEFORE: validated\n",
      "AFTER: graphicone_search 2020-02-18 14:35:45.902000 ['ipo', 'saudi aramco'] moderator tool passed VasiliiUshakov\n",
      "BEFORE: validated\n",
      "AFTER: graphicone_search 2020-02-18 14:35:45.987000 ['drugs', 'uk', 'sweden', 'death', 'us', 'spain'] moderator tool passed VasiliiUshakov\n",
      "BEFORE: validated\n"
     ]
    },
    {
     "name": "stderr",
     "output_type": "stream",
     "text": [
      "\n",
      "\n",
      "\n",
      "\n",
      "\n",
      "\n",
      "\n",
      " 88%|████████▊ | 2319/2650 [01:40<00:25, 12.97it/s]\u001b[A\u001b[A\u001b[A\u001b[A\u001b[A\u001b[A\u001b[A\n",
      "\n",
      "\n",
      "\n",
      "\n",
      "\n",
      "\n",
      " 88%|████████▊ | 2321/2650 [01:41<00:26, 12.62it/s]\u001b[A\u001b[A\u001b[A\u001b[A\u001b[A\u001b[A\u001b[A"
     ]
    },
    {
     "name": "stdout",
     "output_type": "stream",
     "text": [
      "AFTER: graphicone_search 2020-02-18 14:35:46.071000 ['real estate', 'cpi', 'inflation', 'index'] moderator tool passed VasiliiUshakov\n",
      "BEFORE: validated\n",
      "AFTER: graphicone_search 2020-02-18 14:35:46.155000 ['aphria', 'tilray', 'canada', 'canopy growth'] moderator tool passed VasiliiUshakov\n",
      "BEFORE: validated\n",
      "AFTER: graphicone_search 2020-02-18 14:35:46.239000 ['dividends'] moderator tool passed VasiliiUshakov\n",
      "BEFORE: validated\n"
     ]
    },
    {
     "name": "stderr",
     "output_type": "stream",
     "text": [
      "\n",
      "\n",
      "\n",
      "\n",
      "\n",
      "\n",
      "\n",
      " 88%|████████▊ | 2323/2650 [01:41<00:26, 12.38it/s]\u001b[A\u001b[A\u001b[A\u001b[A\u001b[A\u001b[A\u001b[A"
     ]
    },
    {
     "name": "stdout",
     "output_type": "stream",
     "text": [
      "AFTER: graphicone_search 2020-02-18 14:35:46.324000 ['wales', 'uk', 'london', 'scotland', 'charity', 'population', 'retail', 'ireland'] moderator tool passed VasiliiUshakov\n",
      "BEFORE: validated\n",
      "AFTER: graphicone_search 2020-02-18 14:35:46.408000 ['seattle', 'transportation'] moderator tool passed VasiliiUshakov\n",
      "BEFORE: validated\n",
      "AFTER: graphicone_search 2020-02-18 14:35:46.493000 ['loan', 'japan', 'interest rates', 'household'] moderator tool passed VasiliiUshakov\n",
      "BEFORE: validated\n"
     ]
    },
    {
     "name": "stderr",
     "output_type": "stream",
     "text": [
      "\n",
      "\n",
      "\n",
      "\n",
      "\n",
      "\n",
      "\n",
      " 88%|████████▊ | 2325/2650 [01:41<00:26, 12.21it/s]\u001b[A\u001b[A\u001b[A\u001b[A\u001b[A\u001b[A\u001b[A\n",
      "\n",
      "\n",
      "\n",
      "\n",
      "\n",
      "\n",
      " 88%|████████▊ | 2327/2650 [01:41<00:26, 12.10it/s]\u001b[A\u001b[A\u001b[A\u001b[A\u001b[A\u001b[A\u001b[A"
     ]
    },
    {
     "name": "stdout",
     "output_type": "stream",
     "text": [
      "AFTER: graphicone_search 2020-02-18 14:35:46.577000 ['electricity', 'wind power', 'geothermal', 'hydro', 'oil', 'commodities', 'solar energy', 'gas', 'us', 'california', 'consumer', 'nuclear power', 'biomass'] moderator tool passed VasiliiUshakov\n",
      "BEFORE: validated\n",
      "AFTER: graphicone_search 2020-02-18 14:35:46.662000 ['china', 'export', 'trade', 'us', 'agriculture'] moderator tool passed VasiliiUshakov\n",
      "BEFORE: validated\n",
      "AFTER: graphicone_search 2020-02-18 14:35:46.746000 ['gdp', 'government debt', 'china', 'global', 'emerging markets', 'debt'] moderator tool passed VasiliiUshakov\n",
      "BEFORE: validated\n"
     ]
    },
    {
     "name": "stderr",
     "output_type": "stream",
     "text": [
      "\n",
      "\n",
      "\n",
      "\n",
      "\n",
      "\n",
      "\n",
      " 88%|████████▊ | 2331/2650 [01:41<00:22, 14.17it/s]\u001b[A\u001b[A\u001b[A\u001b[A\u001b[A\u001b[A\u001b[A"
     ]
    },
    {
     "name": "stdout",
     "output_type": "stream",
     "text": [
      "AFTER: graphicone_search 2020-02-18 14:35:46.831000 ['employment', 'labor', 'social', 'us', 'jobless claims'] moderator tool passed VasiliiUshakov\n",
      "BEFORE: validated\n",
      "AFTER: graphicone_search 2020-02-18 14:35:46.915000 ['utilities', 'eu', 'germany', 'metals & mining', 'manufacturing'] moderator tool passed VasiliiUshakov\n",
      "BEFORE: validated\n",
      "AFTER: graphicone_search 2020-02-18 14:35:47 ['developed markets', 'nfib', 'labor', 'trade', 'us', 'taxes', 'government'] moderator tool passed VasiliiUshakov\n",
      "BEFORE: validated\n"
     ]
    },
    {
     "name": "stderr",
     "output_type": "stream",
     "text": [
      "\n",
      "\n",
      "\n",
      "\n",
      "\n",
      "\n",
      "\n",
      " 88%|████████▊ | 2334/2650 [01:41<00:20, 15.09it/s]\u001b[A\u001b[A\u001b[A\u001b[A\u001b[A\u001b[A\u001b[A\n",
      "\n",
      "\n",
      "\n",
      "\n",
      "\n",
      "\n",
      " 88%|████████▊ | 2336/2650 [01:42<00:22, 13.95it/s]\u001b[A\u001b[A\u001b[A\u001b[A\u001b[A\u001b[A\u001b[A"
     ]
    },
    {
     "name": "stdout",
     "output_type": "stream",
     "text": [
      "AFTER: graphicone_search 2020-02-18 14:35:47.084000 ['recession', 'us', 'sentiment', 'macro'] moderator tool passed VasiliiUshakov\n",
      "BEFORE: validated\n",
      "AFTER: graphicone_search 2020-02-18 14:35:47.169000 ['macro', 'gdp', 'export', 'trade', 'australia'] moderator tool passed VasiliiUshakov\n",
      "BEFORE: validated\n",
      "AFTER: graphicone_search 2020-02-18 14:35:47.252000 ['jkm', 'fuel', 'oil', 'gas', 'commodities'] moderator tool passed VasiliiUshakov\n",
      "BEFORE: validated\n"
     ]
    },
    {
     "name": "stderr",
     "output_type": "stream",
     "text": [
      "\n",
      "\n",
      "\n",
      "\n",
      "\n",
      "\n",
      "\n",
      " 88%|████████▊ | 2338/2650 [01:42<00:23, 13.24it/s]\u001b[A\u001b[A\u001b[A\u001b[A\u001b[A\u001b[A\u001b[A"
     ]
    },
    {
     "name": "stdout",
     "output_type": "stream",
     "text": [
      "AFTER: graphicone_search 2020-02-18 14:35:47.337000 ['bubble', 'bitcoin', 'cryptocurrency', 'metals & mining', 'commodities', 'south sea company', 'gold'] moderator tool passed VasiliiUshakov\n",
      "BEFORE: validated\n",
      "AFTER: graphicone_search 2020-02-18 14:35:47.421000 ['brent', 'futures', 'oil', 'commodities'] moderator tool passed VasiliiUshakov\n",
      "BEFORE: validated\n",
      "AFTER: graphicone_search 2020-02-18 14:35:47.507000 ['private equity', 'morgan stanley', 'global', 'index', 'msci'] moderator tool passed VasiliiUshakov\n",
      "BEFORE: validated\n"
     ]
    },
    {
     "name": "stderr",
     "output_type": "stream",
     "text": [
      "\n",
      "\n",
      "\n",
      "\n",
      "\n",
      "\n",
      "\n",
      " 88%|████████▊ | 2342/2650 [01:42<00:20, 15.26it/s]\u001b[A\u001b[A\u001b[A\u001b[A\u001b[A\u001b[A\u001b[A\n",
      "\n",
      "\n",
      "\n",
      "\n",
      "\n",
      "\n",
      " 88%|████████▊ | 2345/2650 [01:42<00:19, 15.93it/s]\u001b[A\u001b[A\u001b[A\u001b[A\u001b[A\u001b[A\u001b[A"
     ]
    },
    {
     "name": "stdout",
     "output_type": "stream",
     "text": [
      "AFTER: graphicone_search 2020-02-18 14:35:47.590000 ['sentiment', 'cboe', 'chicago', 'us', 'volatility', 'index'] moderator tool passed VasiliiUshakov\n",
      "BEFORE: validated\n",
      "AFTER: graphicone_search 2020-02-18 14:35:47.675000 ['developed markets', 'real estate', 'trade', 'us', 'consumer discretionary', 'consumer'] moderator tool passed VasiliiUshakov\n",
      "BEFORE: validated\n",
      "AFTER: graphicone_search 2020-02-18 14:35:47.759000 ['trade', 'index', 'trade war', 'global'] moderator tool passed VasiliiUshakov\n",
      "BEFORE: validated\n"
     ]
    },
    {
     "name": "stderr",
     "output_type": "stream",
     "text": [
      "\n",
      "\n",
      "\n",
      "\n",
      "\n",
      "\n",
      "\n",
      " 89%|████████▊ | 2348/2650 [01:42<00:18, 16.46it/s]\u001b[A\u001b[A\u001b[A\u001b[A\u001b[A\u001b[A\u001b[A"
     ]
    },
    {
     "name": "stdout",
     "output_type": "stream",
     "text": [
      "AFTER: graphicone_search 2020-02-18 14:35:47.844000 ['macro', 'consumer products', 'trade', 'inflation', 'consumer discretionary', 'cpi', 'vehicles', 'index', 'retail'] moderator tool passed VasiliiUshakov\n",
      "BEFORE: validated\n",
      "AFTER: graphicone_search 2020-02-18 14:35:47.928000 ['developed markets', 'china', 'export', 'trade', 'hong kong', 'us', 'emerging markets', 'agriculture', 'retail'] moderator tool passed VasiliiUshakov\n",
      "BEFORE: validated\n",
      "AFTER: graphicone_search 2020-02-18 14:35:48.012000 ['pmi', 'services', 'manufacturing', 'index', 'construction & engineering'] moderator tool passed VasiliiUshakov\n",
      "BEFORE: validated\n"
     ]
    },
    {
     "name": "stderr",
     "output_type": "stream",
     "text": [
      "\n",
      "\n",
      "\n",
      "\n",
      "\n",
      "\n",
      "\n",
      " 89%|████████▊ | 2350/2650 [01:42<00:20, 14.74it/s]\u001b[A\u001b[A\u001b[A\u001b[A\u001b[A\u001b[A\u001b[A\n",
      "\n",
      "\n",
      "\n",
      "\n",
      "\n",
      "\n",
      " 89%|████████▉ | 2352/2650 [01:43<00:21, 13.74it/s]\u001b[A\u001b[A\u001b[A\u001b[A\u001b[A\u001b[A\u001b[A"
     ]
    },
    {
     "name": "stdout",
     "output_type": "stream",
     "text": [
      "AFTER: graphicone_search 2020-02-18 14:35:48.096000 ['eu', 'gdp', 'construction & engineering'] moderator tool passed VasiliiUshakov\n",
      "BEFORE: validated\n",
      "AFTER: graphicone_search 2020-02-18 14:35:48.181000 ['fixed income', 'credit', 'banking', 'global', 'loan', 'financials', 'bonds'] moderator tool passed VasiliiUshakov\n",
      "BEFORE: validated\n",
      "AFTER: graphicone_search 2020-02-18 14:35:48.265000 ['hyundai', 'chrysler', 'ford', 'automotive', 'general motors', 'toyota', 'nissan', 'consumer discretionary', 'fiat', 'volkswagen', 'global', 'groupe psa', 'consumer', 'honda', 'vehicles', 'retail'] moderator tool passed VasiliiUshakov\n",
      "BEFORE: validated\n"
     ]
    },
    {
     "name": "stderr",
     "output_type": "stream",
     "text": [
      "\n",
      "\n",
      "\n",
      "\n",
      "\n",
      "\n",
      "\n",
      " 89%|████████▉ | 2354/2650 [01:43<00:22, 13.11it/s]\u001b[A\u001b[A\u001b[A\u001b[A\u001b[A\u001b[A\u001b[A"
     ]
    },
    {
     "name": "stdout",
     "output_type": "stream",
     "text": [
      "AFTER: graphicone_search 2020-02-18 14:35:48.350000 ['government bonds', 'usd', 'bonds', 'crisis'] moderator tool passed VasiliiUshakov\n",
      "BEFORE: validated\n",
      "AFTER: graphicone_search 2020-02-18 14:35:48.433000 ['loan', 'eu'] moderator tool passed VasiliiUshakov\n",
      "BEFORE: validated\n",
      "AFTER: graphicone_search 2020-02-18 14:35:48.519000 ['afghanistan', 'mali', 'libya', 'asia', 'syria', 'sudan', 'morocco', 'middle east', 'eritrea', 'nigeria', 'social', 'ivory coast', 'bangladesh', 'iran', 'iraq', 'cameroon', 'africa', 'algeria', 'refugees', 'senegal', 'somalia', 'pakistan', 'egypt', 'ghana', 'guinea', 'population', 'migration'] moderator tool passed VasiliiUshakov\n",
      "BEFORE: validated\n"
     ]
    },
    {
     "name": "stderr",
     "output_type": "stream",
     "text": [
      "\n",
      "\n",
      "\n",
      "\n",
      "\n",
      "\n",
      "\n",
      " 89%|████████▉ | 2356/2650 [01:43<00:23, 12.72it/s]\u001b[A\u001b[A\u001b[A\u001b[A\u001b[A\u001b[A\u001b[A\n",
      "\n",
      "\n",
      "\n",
      "\n",
      "\n",
      "\n",
      " 89%|████████▉ | 2358/2650 [01:43<00:23, 12.45it/s]\u001b[A\u001b[A\u001b[A\u001b[A\u001b[A\u001b[A\u001b[A"
     ]
    },
    {
     "name": "stdout",
     "output_type": "stream",
     "text": [
      "AFTER: graphicone_search 2020-02-18 14:35:48.602000 ['developed markets', 'japan', 'us', 'taxes', 'global', 'france'] moderator tool passed VasiliiUshakov\n",
      "BEFORE: validated\n",
      "AFTER: graphicone_search 2020-02-18 14:35:48.687000 ['government bonds', 'dividends', 'etf', 'us', 'bonds', 'index', 's&p'] moderator tool passed VasiliiUshakov\n",
      "BEFORE: validated\n",
      "AFTER: graphicone_search 2020-02-18 14:35:48.770000 ['dividends', 'buyback', 'index', 's&p'] moderator tool passed VasiliiUshakov\n",
      "BEFORE: validated\n"
     ]
    },
    {
     "name": "stderr",
     "output_type": "stream",
     "text": [
      "\n",
      "\n",
      "\n",
      "\n",
      "\n",
      "\n",
      "\n",
      " 89%|████████▉ | 2360/2650 [01:43<00:23, 12.27it/s]\u001b[A\u001b[A\u001b[A\u001b[A\u001b[A\u001b[A\u001b[A"
     ]
    },
    {
     "name": "stdout",
     "output_type": "stream",
     "text": [
      "AFTER: graphicone_search 2020-02-18 14:35:48.855000 ['developed markets', 'wealth', 'personal finance', 'us', 'consumer'] moderator tool passed VasiliiUshakov\n",
      "BEFORE: validated\n",
      "AFTER: graphicone_search 2020-02-18 14:35:48.939000 ['social', 'employment', 'labor', 'australia'] moderator tool passed VasiliiUshakov\n",
      "BEFORE: validated\n",
      "AFTER: graphicone_search 2020-02-18 14:35:49.024000 ['social', 'demography', 'australia', 'population', 'migration'] moderator tool passed VasiliiUshakov\n",
      "BEFORE: validated\n"
     ]
    },
    {
     "name": "stderr",
     "output_type": "stream",
     "text": [
      "\n",
      "\n",
      "\n",
      "\n",
      "\n",
      "\n",
      "\n",
      " 89%|████████▉ | 2362/2650 [01:43<00:23, 12.15it/s]\u001b[A\u001b[A\u001b[A\u001b[A\u001b[A\u001b[A\u001b[A\n",
      "\n",
      "\n",
      "\n",
      "\n",
      "\n",
      "\n",
      " 89%|████████▉ | 2366/2650 [01:44<00:19, 14.23it/s]\u001b[A\u001b[A\u001b[A\u001b[A\u001b[A\u001b[A\u001b[A"
     ]
    },
    {
     "name": "stdout",
     "output_type": "stream",
     "text": [
      "AFTER: graphicone_search 2020-02-18 14:35:49.107000 ['personal finance', 'household', 'interest rates', 'australia', 'loan', 'debt'] moderator tool passed VasiliiUshakov\n",
      "BEFORE: validated\n",
      "AFTER: graphicone_search 2020-02-18 14:35:49.192000 ['middle east', 'eu', 'asia', 'africa', 'demography', 'global', 'population'] moderator tool passed VasiliiUshakov\n",
      "BEFORE: validated\n",
      "AFTER: graphicone_search 2020-02-18 14:35:49.276000 ['nyse', 'index', 's&p'] moderator tool passed VasiliiUshakov\n",
      "BEFORE: validated\n"
     ]
    },
    {
     "name": "stderr",
     "output_type": "stream",
     "text": [
      "\n",
      "\n",
      "\n",
      "\n",
      "\n",
      "\n",
      "\n",
      " 89%|████████▉ | 2368/2650 [01:44<00:21, 13.43it/s]\u001b[A\u001b[A\u001b[A\u001b[A\u001b[A\u001b[A\u001b[A"
     ]
    },
    {
     "name": "stdout",
     "output_type": "stream",
     "text": [
      "AFTER: graphicone_search 2020-02-18 14:35:49.361000 ['bush', 'clinton', 'us', 'politics', 'obama', 'trump', 'debt'] moderator tool passed VasiliiUshakov\n",
      "BEFORE: validated\n",
      "AFTER: graphicone_search 2020-02-18 14:35:49.444000 ['us', 'mexico', 'trade'] moderator tool passed VasiliiUshakov\n",
      "BEFORE: validated\n",
      "AFTER: graphicone_search 2020-02-18 14:35:49.529000 ['electricity', 'wind power', 'hydro', 'india', 'commodities', 'solar energy', 'gas', 'nuclear power', 'biomass', 'coal'] moderator tool passed VasiliiUshakov\n",
      "BEFORE: validated\n"
     ]
    },
    {
     "name": "stderr",
     "output_type": "stream",
     "text": [
      "\n",
      "\n",
      "\n",
      "\n",
      "\n",
      "\n",
      "\n",
      " 89%|████████▉ | 2370/2650 [01:44<00:21, 12.93it/s]\u001b[A\u001b[A\u001b[A\u001b[A\u001b[A\u001b[A\u001b[A\n",
      "\n",
      "\n",
      "\n",
      "\n",
      "\n",
      "\n",
      " 90%|████████▉ | 2372/2650 [01:44<00:22, 12.59it/s]\u001b[A\u001b[A\u001b[A\u001b[A\u001b[A\u001b[A\u001b[A"
     ]
    },
    {
     "name": "stdout",
     "output_type": "stream",
     "text": [
      "AFTER: graphicone_search 2020-02-18 14:35:49.613000 ['us', 'index', 's&p'] moderator tool passed VasiliiUshakov\n",
      "BEFORE: validated\n",
      "AFTER: graphicone_search 2020-02-18 14:35:49.697000 ['religion', 'children', 'labor', 'generation z', 'generation x', 'generations', 'millennials', 'boomers'] moderator tool passed VasiliiUshakov\n",
      "BEFORE: validated\n",
      "AFTER: graphicone_search 2020-02-18 14:35:49.781000 ['e-commerce', 'us', 'retail'] moderator tool passed VasiliiUshakov\n",
      "BEFORE: validated\n"
     ]
    },
    {
     "name": "stderr",
     "output_type": "stream",
     "text": [
      "\n",
      "\n",
      "\n",
      "\n",
      "\n",
      "\n",
      "\n",
      " 90%|████████▉ | 2375/2650 [01:44<00:19, 13.80it/s]\u001b[A\u001b[A\u001b[A\u001b[A\u001b[A\u001b[A\u001b[A"
     ]
    },
    {
     "name": "stdout",
     "output_type": "stream",
     "text": [
      "AFTER: graphicone_search 2020-02-18 14:35:49.866000 ['oecd', 'emerging markets', 'gdp', 'trade'] moderator tool passed VasiliiUshakov\n",
      "BEFORE: validated\n",
      "AFTER: graphicone_search 2020-02-18 14:35:49.950000 ['global', 'cannabis'] moderator tool passed VasiliiUshakov\n",
      "BEFORE: validated\n",
      "AFTER: graphicone_search 2020-02-18 14:35:50.034000 ['infrastructure', 'oil', 'commodities', 'baker hughes', 'us', 'energy'] moderator tool passed VasiliiUshakov\n",
      "BEFORE: validated\n"
     ]
    },
    {
     "name": "stderr",
     "output_type": "stream",
     "text": [
      "\n",
      "\n",
      "\n",
      "\n",
      "\n",
      "\n",
      "\n",
      " 90%|████████▉ | 2377/2650 [01:44<00:20, 13.16it/s]\u001b[A\u001b[A\u001b[A\u001b[A\u001b[A\u001b[A\u001b[A\n",
      "\n",
      "\n",
      "\n",
      "\n",
      "\n",
      "\n",
      " 90%|████████▉ | 2380/2650 [01:45<00:18, 14.29it/s]\u001b[A\u001b[A\u001b[A\u001b[A\u001b[A\u001b[A\u001b[A"
     ]
    },
    {
     "name": "stdout",
     "output_type": "stream",
     "text": [
      "AFTER: graphicone_search 2020-02-18 14:35:50.118000 ['vietnam', 'philippines', 'asean', 'asia', 'thailand', 'singapore', 'indonesia', 'malaysia', 'financials', 'startups', 'fintech', 'technology'] moderator tool passed VasiliiUshakov\n",
      "BEFORE: validated\n",
      "AFTER: graphicone_search 2020-02-18 14:35:50.203000 ['kenya', 'social'] moderator tool passed VasiliiUshakov\n",
      "BEFORE: validated\n",
      "AFTER: graphicone_search 2020-02-18 14:35:50.286000 ['canada', 'death', 'social', 'demography', 'population'] moderator tool passed VasiliiUshakov\n",
      "BEFORE: validated\n"
     ]
    },
    {
     "name": "stderr",
     "output_type": "stream",
     "text": [
      "\n",
      "\n",
      "\n",
      "\n",
      "\n",
      "\n",
      "\n",
      " 90%|████████▉ | 2383/2650 [01:45<00:17, 15.19it/s]\u001b[A\u001b[A\u001b[A\u001b[A\u001b[A\u001b[A\u001b[A"
     ]
    },
    {
     "name": "stdout",
     "output_type": "stream",
     "text": [
      "AFTER: graphicone_search 2020-02-18 14:35:50.371000 ['loan', 'us', 'banking', 'financials'] moderator tool passed VasiliiUshakov\n",
      "BEFORE: validated\n",
      "AFTER: graphicone_search 2020-02-18 14:35:50.455000 ['large caps', 'index', 's&p'] moderator tool passed VasiliiUshakov\n",
      "BEFORE: validated\n",
      "AFTER: graphicone_search 2020-02-18 14:35:50.540000 ['ecology', 'democracy', 'terrorism', 'labor', 'social justice', 'social', 'health', 'deficit', 'transportation', 'environment', 'crimes', 'us', 'politics', 'government', 'climate change', 'employment', 'drugs', 'poverty', 'trade', 'education', 'trump', 'migration', 'military'] moderator tool passed VasiliiUshakov\n",
      "BEFORE: validated\n"
     ]
    },
    {
     "name": "stderr",
     "output_type": "stream",
     "text": [
      "\n",
      "\n",
      "\n",
      "\n",
      "\n",
      "\n",
      "\n",
      " 90%|█████████ | 2386/2650 [01:45<00:16, 15.88it/s]\u001b[A\u001b[A\u001b[A\u001b[A\u001b[A\u001b[A\u001b[A\n",
      "\n",
      "\n",
      "\n",
      "\n",
      "\n",
      "\n",
      " 90%|█████████ | 2388/2650 [01:45<00:18, 14.42it/s]\u001b[A\u001b[A\u001b[A\u001b[A\u001b[A\u001b[A\u001b[A"
     ]
    },
    {
     "name": "stdout",
     "output_type": "stream",
     "text": [
      "AFTER: graphicone_search 2020-02-18 14:35:50.623000 ['china', 'export', 'trade', 'us', 'agriculture', 'retail'] moderator tool passed VasiliiUshakov\n",
      "BEFORE: validated\n",
      "AFTER: graphicone_search 2020-02-18 14:35:50.708000 ['education', 'china', 'global'] moderator tool passed VasiliiUshakov\n",
      "BEFORE: validated\n",
      "AFTER: graphicone_search 2020-02-18 14:35:50.792000 ['geopolitics', 'china', 'social', 'us', 'politics'] moderator tool passed VasiliiUshakov\n",
      "BEFORE: validated\n"
     ]
    },
    {
     "name": "stderr",
     "output_type": "stream",
     "text": [
      "\n",
      "\n",
      "\n",
      "\n",
      "\n",
      "\n",
      "\n",
      " 90%|█████████ | 2390/2650 [01:45<00:19, 13.54it/s]\u001b[A\u001b[A\u001b[A\u001b[A\u001b[A\u001b[A\u001b[A"
     ]
    },
    {
     "name": "stdout",
     "output_type": "stream",
     "text": [
      "AFTER: graphicone_search 2020-02-18 14:35:50.877000 ['new york', 'cboe', 'oil', 'commodities', 'chicago', 'us', 'nymex', 'energy', 'volatility', 'index'] moderator tool passed VasiliiUshakov\n",
      "BEFORE: validated\n",
      "AFTER: graphicone_search 2020-02-18 14:35:50.961000 ['us', 'consumer', 'shopping', 'retail'] moderator tool passed VasiliiUshakov\n",
      "BEFORE: validated\n",
      "AFTER: graphicone_search 2020-02-18 14:35:51.045000 ['tv', 'democracy', 'uk', 'politics', 'media'] moderator tool passed VasiliiUshakov\n",
      "BEFORE: validated\n"
     ]
    },
    {
     "name": "stderr",
     "output_type": "stream",
     "text": [
      "\n",
      "\n",
      "\n",
      "\n",
      "\n",
      "\n",
      "\n",
      " 90%|█████████ | 2392/2650 [01:45<00:19, 12.99it/s]\u001b[A\u001b[A\u001b[A\u001b[A\u001b[A\u001b[A\u001b[A\n",
      "\n",
      "\n",
      "\n",
      "\n",
      "\n",
      "\n",
      " 90%|█████████ | 2394/2650 [01:46<00:20, 12.63it/s]\u001b[A\u001b[A\u001b[A\u001b[A\u001b[A\u001b[A\u001b[A"
     ]
    },
    {
     "name": "stdout",
     "output_type": "stream",
     "text": [
      "AFTER: graphicone_search 2020-02-18 14:35:51.129000 ['us', 'agriculture', 'disasters'] moderator tool passed VasiliiUshakov\n",
      "BEFORE: validated\n",
      "AFTER: graphicone_search 2020-02-18 14:35:51.214000 ['us', 'disasters'] moderator tool passed VasiliiUshakov\n",
      "BEFORE: validated\n",
      "AFTER: graphicone_search 2020-02-18 14:35:51.298000 ['bitcoin', 'cryptocurrency', 'blockchain'] moderator tool passed VasiliiUshakov\n",
      "BEFORE: validated\n"
     ]
    },
    {
     "name": "stderr",
     "output_type": "stream",
     "text": [
      "\n",
      "\n",
      "\n",
      "\n",
      "\n",
      "\n",
      "\n",
      " 90%|█████████ | 2397/2650 [01:46<00:18, 13.83it/s]\u001b[A\u001b[A\u001b[A\u001b[A\u001b[A\u001b[A\u001b[A"
     ]
    },
    {
     "name": "stdout",
     "output_type": "stream",
     "text": [
      "AFTER: graphicone_search 2020-02-18 14:35:51.383000 ['social', 'us', 'sentiment', 'macro'] moderator tool passed VasiliiUshakov\n",
      "BEFORE: validated\n",
      "AFTER: graphicone_search 2020-02-18 14:35:51.466000 ['developed markets', 'us', 'consumer discretionary', 'consumer products'] moderator tool passed VasiliiUshakov\n",
      "BEFORE: validated\n",
      "AFTER: graphicone_search 2020-02-18 14:35:51.552000 ['macro', 'sweden', 'inflation', 'interest rates', 'riksbank', 'cpi', 'consumer', 'index'] moderator tool passed VasiliiUshakov\n",
      "BEFORE: validated\n"
     ]
    },
    {
     "name": "stderr",
     "output_type": "stream",
     "text": [
      "\n",
      "\n",
      "\n",
      "\n",
      "\n",
      "\n",
      "\n",
      " 91%|█████████ | 2401/2650 [01:46<00:15, 15.81it/s]\u001b[A\u001b[A\u001b[A\u001b[A\u001b[A\u001b[A\u001b[A\n",
      "\n",
      "\n",
      "\n",
      "\n",
      "\n",
      "\n",
      " 91%|█████████ | 2404/2650 [01:46<00:15, 16.36it/s]\u001b[A\u001b[A\u001b[A\u001b[A\u001b[A\u001b[A\u001b[A"
     ]
    },
    {
     "name": "stdout",
     "output_type": "stream",
     "text": [
      "AFTER: graphicone_search 2020-02-18 14:35:51.635000 ['developed markets', 'macro', 'eu', 'ecb', 'inflation'] moderator tool passed VasiliiUshakov\n",
      "BEFORE: validated\n",
      "AFTER: graphicone_search 2020-02-18 14:35:51.720000 ['asia', 'emerging markets', 'macro', 'gdp'] moderator tool passed VasiliiUshakov\n",
      "BEFORE: validated\n",
      "AFTER: graphicone_search 2020-02-18 14:35:51.803000 ['bitcoin', 'cryptocurrency'] moderator tool passed VasiliiUshakov\n",
      "BEFORE: validated\n"
     ]
    },
    {
     "name": "stderr",
     "output_type": "stream",
     "text": [
      "\n",
      "\n",
      "\n",
      "\n",
      "\n",
      "\n",
      "\n",
      " 91%|█████████ | 2407/2650 [01:46<00:14, 16.78it/s]\u001b[A\u001b[A\u001b[A\u001b[A\u001b[A\u001b[A\u001b[A"
     ]
    },
    {
     "name": "stdout",
     "output_type": "stream",
     "text": [
      "AFTER: graphicone_search 2020-02-18 14:35:51.889000 ['deficit', 'macro', 'canada'] moderator tool passed VasiliiUshakov\n",
      "BEFORE: validated\n",
      "AFTER: graphicone_search 2020-02-18 14:35:51.972000 ['environment', 'us', 'energy', 'emissions', 'ecology'] moderator tool passed VasiliiUshakov\n",
      "BEFORE: validated\n",
      "AFTER: graphicone_search 2020-02-18 14:35:52.057000 ['hydro', 'oil', 'commodities', 'gas', 'renewables', 'us', 'energy', 'nuclear power', 'consumer', 'coal'] moderator tool passed VasiliiUshakov\n",
      "BEFORE: validated\n"
     ]
    },
    {
     "name": "stderr",
     "output_type": "stream",
     "text": [
      "\n",
      "\n",
      "\n",
      "\n",
      "\n",
      "\n",
      "\n",
      " 91%|█████████ | 2409/2650 [01:46<00:16, 14.94it/s]\u001b[A\u001b[A\u001b[A\u001b[A\u001b[A\u001b[A\u001b[A\n",
      "\n",
      "\n",
      "\n",
      "\n",
      "\n",
      "\n",
      " 91%|█████████ | 2411/2650 [01:47<00:17, 13.87it/s]\u001b[A\u001b[A\u001b[A\u001b[A\u001b[A\u001b[A\u001b[A"
     ]
    },
    {
     "name": "stdout",
     "output_type": "stream",
     "text": [
      "AFTER: graphicone_search 2020-02-18 14:35:52.140000 ['climate change', 'arctic', 'environment'] moderator tool passed VasiliiUshakov\n",
      "BEFORE: validated\n",
      "AFTER: graphicone_search 2020-02-18 14:35:52.225000 ['high yield', 'us', 'bonds', 'index', 's&p'] moderator tool passed VasiliiUshakov\n",
      "BEFORE: validated\n",
      "AFTER: graphicone_search 2020-02-18 14:35:52.308000 ['index', 's&p'] moderator tool passed VasiliiUshakov\n",
      "BEFORE: validated\n"
     ]
    },
    {
     "name": "stderr",
     "output_type": "stream",
     "text": [
      "\n",
      "\n",
      "\n",
      "\n",
      "\n",
      "\n",
      "\n",
      " 91%|█████████ | 2413/2650 [01:47<00:17, 13.20it/s]\u001b[A\u001b[A\u001b[A\u001b[A\u001b[A\u001b[A\u001b[A"
     ]
    },
    {
     "name": "stdout",
     "output_type": "stream",
     "text": [
      "AFTER: graphicone_search 2020-02-18 14:35:52.393000 ['trade', 'south korea', 'export'] moderator tool passed VasiliiUshakov\n",
      "BEFORE: validated\n",
      "AFTER: graphicone_search 2020-02-18 14:35:52.477000 ['recession', 'us', 'nonfarm payrolls'] moderator tool passed VasiliiUshakov\n",
      "BEFORE: validated\n",
      "AFTER: graphicone_search 2020-02-18 14:35:52.562000 ['us'] moderator tool passed VasiliiUshakov\n",
      "BEFORE: validated\n"
     ]
    },
    {
     "name": "stderr",
     "output_type": "stream",
     "text": [
      "\n",
      "\n",
      "\n",
      "\n",
      "\n",
      "\n",
      "\n",
      " 91%|█████████ | 2415/2650 [01:47<00:18, 12.77it/s]\u001b[A\u001b[A\u001b[A\u001b[A\u001b[A\u001b[A\u001b[A\n",
      "\n",
      "\n",
      "\n",
      "\n",
      "\n",
      "\n",
      " 91%|█████████ | 2417/2650 [01:47<00:18, 12.48it/s]\u001b[A\u001b[A\u001b[A\u001b[A\u001b[A\u001b[A\u001b[A"
     ]
    },
    {
     "name": "stdout",
     "output_type": "stream",
     "text": [
      "AFTER: graphicone_search 2020-02-18 14:35:52.646000 ['us', 'jobless claims'] moderator tool passed VasiliiUshakov\n",
      "BEFORE: validated\n",
      "AFTER: graphicone_search 2020-02-18 14:35:52.730000 ['czech republic', 'poland', 'bulgaria', 'woman', 'hungary', 'gender', 'slovakia', 'ukraine', 'russia', 'lithuania'] moderator tool passed VasiliiUshakov\n",
      "BEFORE: validated\n",
      "AFTER: graphicone_search 2020-02-18 14:35:52.814000 ['instagram', 'facebook', 'whatsapp', 'lebanon', 'twitter', 'snap', 'tinder'] moderator tool passed VasiliiUshakov\n",
      "BEFORE: validated\n"
     ]
    },
    {
     "name": "stderr",
     "output_type": "stream",
     "text": [
      "\n",
      "\n",
      "\n",
      "\n",
      "\n",
      "\n",
      "\n",
      " 91%|█████████▏| 2419/2650 [01:47<00:18, 12.30it/s]\u001b[A\u001b[A\u001b[A\u001b[A\u001b[A\u001b[A\u001b[A"
     ]
    },
    {
     "name": "stdout",
     "output_type": "stream",
     "text": [
      "AFTER: graphicone_search 2020-02-18 14:35:52.899000 ['india', 'gdp'] moderator tool passed VasiliiUshakov\n",
      "BEFORE: validated\n",
      "AFTER: graphicone_search 2020-02-18 14:35:52.982000 ['developed markets', 'emerging markets', 'msci'] moderator tool passed VasiliiUshakov\n",
      "BEFORE: validated\n",
      "AFTER: graphicone_search 2020-02-18 14:35:53.067000 ['imports', 'export', 'trade', 'global', 'index'] moderator tool passed VasiliiUshakov\n",
      "BEFORE: validated\n"
     ]
    },
    {
     "name": "stderr",
     "output_type": "stream",
     "text": [
      "\n",
      "\n",
      "\n",
      "\n",
      "\n",
      "\n",
      "\n",
      " 91%|█████████▏| 2421/2650 [01:48<00:18, 12.16it/s]\u001b[A\u001b[A\u001b[A\u001b[A\u001b[A\u001b[A\u001b[A\n",
      "\n",
      "\n",
      "\n",
      "\n",
      "\n",
      "\n",
      " 91%|█████████▏| 2423/2650 [01:48<00:18, 12.08it/s]\u001b[A\u001b[A\u001b[A\u001b[A\u001b[A\u001b[A\u001b[A"
     ]
    },
    {
     "name": "stdout",
     "output_type": "stream",
     "text": [
      "AFTER: graphicone_search 2020-02-18 14:35:53.151000 ['japan', 'asia', 'germany', 'mexico', 'ethiopia', 'indonesia', 'brazil', 'tanzania', 'eu', 'india', 'latin america', 'china', 'nigeria', 'global', 'bangladesh', 'africa', 'us', 'demography', 'north america', 'pakistan', 'congo', 'uk', 'egypt', 'italy', 'russia', 'population'] moderator tool passed VasiliiUshakov\n",
      "BEFORE: validated\n",
      "AFTER: graphicone_search 2020-02-18 14:35:53.236000 ['developed markets', 'macro', 'gdp', 'canada'] moderator tool passed VasiliiUshakov\n",
      "BEFORE: validated\n",
      "AFTER: graphicone_search 2020-02-18 14:35:53.319000 ['ferrari', 'chrysler', 'continental', 'automotive', 'siemens', 'general motors', 'm&a', 'manufacturing', 'fca', 'volkswagen', 'global', 'groupe psa', 'daimler', 'fiat', 'vehicles', 'spin-off'] moderator tool passed VasiliiUshakov\n",
      "BEFORE: validated\n"
     ]
    },
    {
     "name": "stderr",
     "output_type": "stream",
     "text": [
      "\n",
      "\n",
      "\n",
      "\n",
      "\n",
      "\n",
      "\n",
      " 92%|█████████▏| 2426/2650 [01:48<00:16, 13.37it/s]\u001b[A\u001b[A\u001b[A\u001b[A\u001b[A\u001b[A\u001b[A"
     ]
    },
    {
     "name": "stdout",
     "output_type": "stream",
     "text": [
      "AFTER: graphicone_search 2020-02-18 14:35:53.404000 ['wealth', 'ecology', 'democracy', 'terrorism', 'mexico', 'oil', 'gun', 'social', 'taxes', 'health', 'energy', 'legal', 'equality', 'geopolitics', 'environment', 'us', 'politics', 'government', 'climate change', 'commodities', 'trump', 'migration'] moderator tool passed VasiliiUshakov\n",
      "BEFORE: validated\n",
      "AFTER: graphicone_search 2020-02-18 14:35:53.487000 ['us', 'large caps', 'index', 's&p'] moderator tool passed VasiliiUshakov\n",
      "BEFORE: validated\n",
      "AFTER: graphicone_search 2020-02-18 14:35:53.572000 ['us', 'consumer', 'shopping'] moderator tool passed VasiliiUshakov\n",
      "BEFORE: validated\n"
     ]
    },
    {
     "name": "stderr",
     "output_type": "stream",
     "text": [
      "\n",
      "\n",
      "\n",
      "\n",
      "\n",
      "\n",
      "\n",
      " 92%|█████████▏| 2428/2650 [01:48<00:17, 12.89it/s]\u001b[A\u001b[A\u001b[A\u001b[A\u001b[A\u001b[A\u001b[A\n",
      "\n",
      "\n",
      "\n",
      "\n",
      "\n",
      "\n",
      " 92%|█████████▏| 2430/2650 [01:48<00:17, 12.57it/s]\u001b[A\u001b[A\u001b[A\u001b[A\u001b[A\u001b[A\u001b[A"
     ]
    },
    {
     "name": "stdout",
     "output_type": "stream",
     "text": [
      "AFTER: graphicone_search 2020-02-18 14:35:53.656000 ['developed markets', 'wealth', 'equality', 'uk', 'canada', 'personal finance', 'social', 'us', 'australia', 'ireland'] moderator tool passed VasiliiUshakov\n",
      "BEFORE: validated\n",
      "AFTER: graphicone_search 2020-02-18 14:35:53.741000 ['equality', 'wealth', 'personal finance', 'social', 'us', 'taxes'] moderator tool passed VasiliiUshakov\n",
      "BEFORE: validated\n",
      "AFTER: graphicone_search 2020-02-18 14:35:53.824000 ['equality', 'wealth', 'personal finance', 'social', 'social justice', 'us'] moderator tool passed VasiliiUshakov\n",
      "BEFORE: validated\n"
     ]
    },
    {
     "name": "stderr",
     "output_type": "stream",
     "text": [
      "\n",
      "\n",
      "\n",
      "\n",
      "\n",
      "\n",
      "\n",
      " 92%|█████████▏| 2434/2650 [01:48<00:14, 14.63it/s]\u001b[A\u001b[A\u001b[A\u001b[A\u001b[A\u001b[A\u001b[A"
     ]
    },
    {
     "name": "stdout",
     "output_type": "stream",
     "text": [
      "AFTER: graphicone_search 2020-02-18 14:35:53.909000 ['employment', 'us', 'gdp', 'labor'] moderator tool passed VasiliiUshakov\n",
      "BEFORE: validated\n",
      "AFTER: graphicone_search 2020-02-18 14:35:53.993000 ['macro', 'gdp', 'uk', 'deficit', 'government'] moderator tool passed VasiliiUshakov\n",
      "BEFORE: validated\n",
      "AFTER: graphicone_search 2020-02-18 14:35:54.077000 ['morgan stanley', 'global', 'msci acwi', 'large caps', 'index', 's&p', 'msci'] moderator tool passed VasiliiUshakov\n",
      "BEFORE: validated\n"
     ]
    },
    {
     "name": "stderr",
     "output_type": "stream",
     "text": [
      "\n",
      "\n",
      "\n",
      "\n",
      "\n",
      "\n",
      "\n",
      " 92%|█████████▏| 2437/2650 [01:49<00:13, 15.46it/s]\u001b[A\u001b[A\u001b[A\u001b[A\u001b[A\u001b[A\u001b[A\n",
      "\n",
      "\n",
      "\n",
      "\n",
      "\n",
      "\n",
      " 92%|█████████▏| 2439/2650 [01:49<00:14, 14.18it/s]\u001b[A\u001b[A\u001b[A\u001b[A\u001b[A\u001b[A\u001b[A"
     ]
    },
    {
     "name": "stdout",
     "output_type": "stream",
     "text": [
      "AFTER: graphicone_search 2020-02-18 14:35:54.161000 ['us', 'private equity'] moderator tool passed VasiliiUshakov\n",
      "BEFORE: validated\n",
      "AFTER: graphicone_search 2020-02-18 14:35:54.246000 ['technology', 'oil', 'metals & mining', 'commodities', 'dow jones', 'energy', 'nasdaq', 'information technology', 'large caps', 'index', 's&p', 'gold'] moderator tool passed VasiliiUshakov\n",
      "BEFORE: validated\n",
      "AFTER: graphicone_search 2020-02-18 14:35:54.330000 ['wealth', 'japan', 'consumer products', 'south africa', 'germany', 'mexico', 'france', 'brazil', 'retail', 'developed markets', 'poland', 'india', 'personal finance', 'china', 'social', 'turkey', 'global', 'consumer', 'consumer staples', 'thailand', 'us', 'australia', 'spain', 'uk', 'philippines', 'italy', 'alcohol', 'south korea', 'russia', 'emerging markets'] moderator tool passed VasiliiUshakov\n",
      "BEFORE: validated\n"
     ]
    },
    {
     "name": "stderr",
     "output_type": "stream",
     "text": [
      "\n",
      "\n",
      "\n",
      "\n",
      "\n",
      "\n",
      "\n",
      " 92%|█████████▏| 2441/2650 [01:49<00:15, 13.40it/s]\u001b[A\u001b[A\u001b[A\u001b[A\u001b[A\u001b[A\u001b[A"
     ]
    },
    {
     "name": "stdout",
     "output_type": "stream",
     "text": [
      "AFTER: graphicone_search 2020-02-18 14:35:54.414000 ['bitcoin', 'cryptocurrency', 'blockchain'] moderator tool passed VasiliiUshakov\n",
      "BEFORE: validated\n",
      "AFTER: graphicone_search 2020-02-18 14:35:54.498000 ['bull market', 'nasdaq', 'information technology', 'index', 'technology'] moderator tool passed VasiliiUshakov\n",
      "BEFORE: validated\n",
      "AFTER: graphicone_search 2020-02-18 14:35:54.583000 ['msci', 'morgan stanley', 'global', 'index', 'msci acwi'] moderator tool passed VasiliiUshakov\n",
      "BEFORE: validated\n"
     ]
    },
    {
     "name": "stderr",
     "output_type": "stream",
     "text": [
      "\n",
      "\n",
      "\n",
      "\n",
      "\n",
      "\n",
      "\n",
      " 92%|█████████▏| 2443/2650 [01:49<00:16, 12.91it/s]\u001b[A\u001b[A\u001b[A\u001b[A\u001b[A\u001b[A\u001b[A\n",
      "\n",
      "\n",
      "\n",
      "\n",
      "\n",
      "\n",
      " 92%|█████████▏| 2446/2650 [01:49<00:14, 14.08it/s]\u001b[A\u001b[A\u001b[A\u001b[A\u001b[A\u001b[A\u001b[A"
     ]
    },
    {
     "name": "stdout",
     "output_type": "stream",
     "text": [
      "AFTER: graphicone_search 2020-02-18 14:35:54.666000 ['metals & mining', 'trade', 'commodities', 'inflation', 'cpi', 'index', 'gold'] moderator tool passed VasiliiUshakov\n",
      "BEFORE: validated\n",
      "AFTER: graphicone_search 2020-02-18 14:35:54.751000 ['equality', 'wealth', 'personal finance', 'social', 'social justice', 'taxes', 'us'] moderator tool passed VasiliiUshakov\n",
      "BEFORE: validated\n",
      "AFTER: graphicone_search 2020-02-18 14:35:54.834000 ['digital', 'south africa', 'telecom', 'africa', 'global', 'information technology', 'emerging markets', 'internet', 'communications', 'data'] moderator tool passed VasiliiUshakov\n",
      "BEFORE: validated\n"
     ]
    },
    {
     "name": "stderr",
     "output_type": "stream",
     "text": [
      "\n",
      "\n",
      "\n",
      "\n",
      "\n",
      "\n",
      "\n",
      " 92%|█████████▏| 2448/2650 [01:49<00:15, 13.33it/s]\u001b[A\u001b[A\u001b[A\u001b[A\u001b[A\u001b[A\u001b[A"
     ]
    },
    {
     "name": "stdout",
     "output_type": "stream",
     "text": [
      "AFTER: graphicone_search 2020-02-18 14:35:54.919000 ['tesla', 'oil', 'commodities'] moderator tool passed VasiliiUshakov\n",
      "BEFORE: validated\n",
      "AFTER: graphicone_search 2020-02-18 14:35:55.003000 ['taxes', 'large caps', 'index', 's&p'] moderator tool passed VasiliiUshakov\n",
      "BEFORE: validated\n",
      "AFTER: graphicone_search 2020-02-18 14:35:55.088000 ['developed markets', 'macro', 'gdp', 'canada'] moderator tool passed VasiliiUshakov\n",
      "BEFORE: validated\n"
     ]
    },
    {
     "name": "stderr",
     "output_type": "stream",
     "text": [
      "\n",
      "\n",
      "\n",
      "\n",
      "\n",
      "\n",
      "\n",
      " 92%|█████████▏| 2451/2650 [01:50<00:13, 14.40it/s]\u001b[A\u001b[A\u001b[A\u001b[A\u001b[A\u001b[A\u001b[A\n",
      "\n",
      "\n",
      "\n",
      "\n",
      "\n",
      "\n",
      " 93%|█████████▎| 2453/2650 [01:50<00:14, 13.54it/s]\u001b[A\u001b[A\u001b[A\u001b[A\u001b[A\u001b[A\u001b[A"
     ]
    },
    {
     "name": "stdout",
     "output_type": "stream",
     "text": [
      "AFTER: graphicone_search 2020-02-18 14:35:55.172000 ['social', 'uk', 'politics', 'democracy'] moderator tool passed VasiliiUshakov\n",
      "BEFORE: validated\n",
      "AFTER: graphicone_search 2020-02-18 14:35:55.257000 ['developed markets', 'japan', 'stoxx', 'eu', 'asia', 'morgan stanley', 'us', 'topix', 'large caps', 'index', 's&p', 'msci'] moderator tool passed VasiliiUshakov\n",
      "BEFORE: validated\n",
      "AFTER: graphicone_search 2020-02-18 14:35:55.340000 ['developed markets', 'eu', 'loan', 'financials', 'credit'] moderator tool passed VasiliiUshakov\n",
      "BEFORE: validated\n"
     ]
    },
    {
     "name": "stderr",
     "output_type": "stream",
     "text": [
      "\n",
      "\n",
      "\n",
      "\n",
      "\n",
      "\n",
      "\n",
      " 93%|█████████▎| 2456/2650 [01:50<00:13, 14.58it/s]\u001b[A\u001b[A\u001b[A\u001b[A\u001b[A\u001b[A\u001b[A"
     ]
    },
    {
     "name": "stdout",
     "output_type": "stream",
     "text": [
      "AFTER: graphicone_search 2020-02-18 14:35:55.425000 ['default', 'emerging markets', 'china', 'government'] moderator tool passed VasiliiUshakov\n",
      "BEFORE: validated\n",
      "AFTER: graphicone_search 2020-02-18 14:35:55.509000 ['large caps', 'index', 's&p'] moderator tool passed VasiliiUshakov\n",
      "BEFORE: validated\n",
      "AFTER: graphicone_search 2020-02-18 14:35:55.594000 ['woman', 'germany', 'belgium', 'austria', 'france', 'denmark', 'developed markets', 'poland', 'eu', 'social', 'finland', 'equality', 'sweden', 'hungary', 'politics', 'government', 'spain', 'uk', 'italy', 'ireland'] moderator tool passed VasiliiUshakov\n",
      "BEFORE: validated\n"
     ]
    },
    {
     "name": "stderr",
     "output_type": "stream",
     "text": [
      "\n",
      "\n",
      "\n",
      "\n",
      "\n",
      "\n",
      "\n",
      " 93%|█████████▎| 2459/2650 [01:50<00:12, 15.42it/s]\u001b[A\u001b[A\u001b[A\u001b[A\u001b[A\u001b[A\u001b[A\n",
      "\n",
      "\n",
      "\n",
      "\n",
      "\n",
      "\n",
      " 93%|█████████▎| 2462/2650 [01:50<00:11, 16.07it/s]\u001b[A\u001b[A\u001b[A\u001b[A\u001b[A\u001b[A\u001b[A"
     ]
    },
    {
     "name": "stdout",
     "output_type": "stream",
     "text": [
      "AFTER: graphicone_search 2020-02-18 14:35:55.678000 ['developed markets', 'recycling', 'vietnam', 'asia', 'india', 'imports', 'china', 'trade', 'export', 'hong kong', 'us', 'malaysia', 'global', 'emerging markets', 'waste', 'plastic'] moderator tool passed VasiliiUshakov\n",
      "BEFORE: validated\n",
      "AFTER: graphicone_search 2020-02-18 14:35:55.762000 ['macro', 'gdp', 'interest rates', 'global', 'monetary policy'] moderator tool passed VasiliiUshakov\n",
      "BEFORE: validated\n",
      "AFTER: graphicone_search 2020-02-18 14:35:55.846000 ['developed markets', 'macro', 'canada', 'inflation', 'cpi', 'index'] moderator tool passed VasiliiUshakov\n",
      "BEFORE: validated\n"
     ]
    },
    {
     "name": "stderr",
     "output_type": "stream",
     "text": [
      "\n",
      "\n",
      "\n",
      "\n",
      "\n",
      "\n",
      "\n",
      " 93%|█████████▎| 2464/2650 [01:50<00:12, 14.53it/s]\u001b[A\u001b[A\u001b[A\u001b[A\u001b[A\u001b[A\u001b[A"
     ]
    },
    {
     "name": "stdout",
     "output_type": "stream",
     "text": [
      "AFTER: graphicone_search 2020-02-18 14:35:55.931000 ['agriculture', 'global'] moderator tool passed VasiliiUshakov\n",
      "BEFORE: validated\n",
      "AFTER: graphicone_search 2020-02-18 14:35:56.014000 ['smartphone', 'mobile payments', 'cashless', 'trade', 'leisure', 'consumer', 'shopping', 'retail', 'mobile'] moderator tool passed VasiliiUshakov\n",
      "BEFORE: validated\n",
      "AFTER: graphicone_search 2020-02-18 14:35:56.099000 ['large caps', 'index', 's&p'] moderator tool passed VasiliiUshakov\n",
      "BEFORE: validated\n"
     ]
    },
    {
     "name": "stderr",
     "output_type": "stream",
     "text": [
      "\n",
      "\n",
      "\n",
      "\n",
      "\n",
      "\n",
      "\n",
      " 93%|█████████▎| 2466/2650 [01:51<00:13, 13.61it/s]\u001b[A\u001b[A\u001b[A\u001b[A\u001b[A\u001b[A\u001b[A\n",
      "\n",
      "\n",
      "\n",
      "\n",
      "\n",
      "\n",
      " 93%|█████████▎| 2468/2650 [01:51<00:13, 13.03it/s]\u001b[A\u001b[A\u001b[A\u001b[A\u001b[A\u001b[A\u001b[A"
     ]
    },
    {
     "name": "stdout",
     "output_type": "stream",
     "text": [
      "AFTER: graphicone_search 2020-02-18 14:35:56.183000 ['wealth', 'ceo', 'travel', 'services', 'personal finance', 'billionaires', 'expedia', 'culture', 'hedge funds', 'leisure', 'financials', 'funds'] moderator tool passed VasiliiUshakov\n",
      "BEFORE: validated\n",
      "AFTER: graphicone_search 2020-02-18 14:35:56.268000 [\"moody's\", 'global', 'financials', 'data', 'index', 's&p'] moderator tool passed VasiliiUshakov\n",
      "BEFORE: validated\n",
      "AFTER: graphicone_search 2020-02-18 14:35:56.352000 ['south africa', 'africa', 'metals & mining', 'commodities', 'palladium', 'russia', 'global', 'emerging markets', 'zimbabwe'] moderator tool passed VasiliiUshakov\n",
      "BEFORE: validated\n"
     ]
    },
    {
     "name": "stderr",
     "output_type": "stream",
     "text": [
      "\n",
      "\n",
      "\n",
      "\n",
      "\n",
      "\n",
      "\n",
      " 93%|█████████▎| 2470/2650 [01:51<00:14, 12.65it/s]\u001b[A\u001b[A\u001b[A\u001b[A\u001b[A\u001b[A\u001b[A"
     ]
    },
    {
     "name": "stdout",
     "output_type": "stream",
     "text": [
      "AFTER: graphicone_search 2020-02-18 14:35:56.437000 ['sentiment', 'media', 'large caps', 'index', 's&p'] moderator tool passed VasiliiUshakov\n",
      "BEFORE: validated\n",
      "AFTER: graphicone_search 2020-02-18 14:35:56.520000 ['germany', 'belgium', 'death', 'austria', 'france', 'denmark', 'developed markets', 'canada', 'eu', 'new zealand', 'social', 'health', 'global', 'finland', 'medicine', 'sweden', 'norway', 'us', 'north america', 'spain', 'diseases', 'uk', 'obesity', 'italy', 'netherlands'] moderator tool passed VasiliiUshakov\n",
      "BEFORE: validated\n",
      "AFTER: graphicone_search 2020-02-18 14:35:56.605000 ['real estate', 'us', 'demography', 'population', 'construction & engineering'] moderator tool passed VasiliiUshakov\n",
      "BEFORE: validated\n"
     ]
    },
    {
     "name": "stderr",
     "output_type": "stream",
     "text": [
      "\n",
      "\n",
      "\n",
      "\n",
      "\n",
      "\n",
      "\n",
      " 93%|█████████▎| 2473/2650 [01:51<00:12, 13.84it/s]\u001b[A\u001b[A\u001b[A\u001b[A\u001b[A\u001b[A\u001b[A\n",
      "\n",
      "\n",
      "\n",
      "\n",
      "\n",
      "\n",
      " 93%|█████████▎| 2475/2650 [01:51<00:13, 13.18it/s]\u001b[A\u001b[A\u001b[A\u001b[A\u001b[A\u001b[A\u001b[A"
     ]
    },
    {
     "name": "stdout",
     "output_type": "stream",
     "text": [
      "AFTER: graphicone_search 2020-02-18 14:35:56.689000 ['czech republic', 'south africa', 'asia', 'mexico', 'indonesia', 'colombia', 'taiwan', 'brazil', 'developed markets', 'poland', 'eu', 'india', 'china', 'turkey', 'global', 'south america', 'hungary', 'thailand', 'currency', 'hong kong', 'singapore', 'malaysia', 'south korea', 'russia', 'peru', 'emerging markets'] moderator tool passed VasiliiUshakov\n",
      "BEFORE: validated\n",
      "AFTER: graphicone_search 2020-02-18 14:35:56.774000 ['meat', 'corn', 'china', 'commodities', 'trade', 'soybean', 'export', 'pork', 'us', 'wheat', 'agriculture', 'beef', 'retail', 'cotton'] moderator tool passed VasiliiUshakov\n",
      "BEFORE: validated\n",
      "AFTER: graphicone_search 2020-02-18 14:35:56.858000 ['real estate', 'retail', 'trade'] moderator tool passed VasiliiUshakov\n",
      "BEFORE: validated\n"
     ]
    },
    {
     "name": "stderr",
     "output_type": "stream",
     "text": [
      "\n",
      "\n",
      "\n",
      "\n",
      "\n",
      "\n",
      "\n",
      " 93%|█████████▎| 2477/2650 [01:51<00:13, 12.76it/s]\u001b[A\u001b[A\u001b[A\u001b[A\u001b[A\u001b[A\u001b[A"
     ]
    },
    {
     "name": "stdout",
     "output_type": "stream",
     "text": [
      "AFTER: graphicone_search 2020-02-18 14:35:56.943000 ['oil', 'commodities', 'gas', 'us', 'energy'] moderator tool passed VasiliiUshakov\n",
      "BEFORE: validated\n",
      "AFTER: graphicone_search 2020-02-18 14:35:57.026000 ['us', 'taxes', 'gdp'] moderator tool passed VasiliiUshakov\n",
      "BEFORE: validated\n",
      "AFTER: graphicone_search 2020-02-18 14:35:57.112000 ['developed markets', 'real estate', 'cities', 'us', 'inflation', 'cpi', 'consumer', 'index'] moderator tool passed VasiliiUshakov\n",
      "BEFORE: validated\n"
     ]
    },
    {
     "name": "stderr",
     "output_type": "stream",
     "text": [
      "\n",
      "\n",
      "\n",
      "\n",
      "\n",
      "\n",
      "\n",
      " 94%|█████████▎| 2479/2650 [01:52<00:13, 12.47it/s]\u001b[A\u001b[A\u001b[A\u001b[A\u001b[A\u001b[A\u001b[A\n",
      "\n",
      "\n",
      "\n",
      "\n",
      "\n",
      "\n",
      " 94%|█████████▎| 2482/2650 [01:52<00:12, 13.69it/s]\u001b[A\u001b[A\u001b[A\u001b[A\u001b[A\u001b[A\u001b[A"
     ]
    },
    {
     "name": "stdout",
     "output_type": "stream",
     "text": [
      "AFTER: graphicone_search 2020-02-18 14:35:57.196000 ['south america', 'commodities', 'soybean', 'climate change', 'agriculture', 'retail', 'argentina'] moderator tool passed VasiliiUshakov\n",
      "BEFORE: validated\n",
      "AFTER: graphicone_search 2020-02-18 14:35:57.281000 ['music', 'streaming', 'digital'] moderator tool passed VasiliiUshakov\n",
      "BEFORE: validated\n",
      "AFTER: graphicone_search 2020-02-18 14:35:57.365000 ['canada', 'uk', 'south africa', 'germany', 'india', 'ukraine', 'italy', 'us', 'russia', 'turkey', 'australia', 'france', 'uae', 'migration', 'saudi arabia', 'spain'] moderator tool passed VasiliiUshakov\n",
      "BEFORE: validated\n"
     ]
    },
    {
     "name": "stderr",
     "output_type": "stream",
     "text": [
      "\n",
      "\n",
      "\n",
      "\n",
      "\n",
      "\n",
      "\n",
      " 94%|█████████▍| 2485/2650 [01:52<00:11, 14.70it/s]\u001b[A\u001b[A\u001b[A\u001b[A\u001b[A\u001b[A\u001b[A"
     ]
    },
    {
     "name": "stdout",
     "output_type": "stream",
     "text": [
      "AFTER: graphicone_search 2020-02-18 14:35:57.450000 ['us', 'taxes', 'politics', 'government', 'trump', 'migration'] moderator tool passed VasiliiUshakov\n",
      "BEFORE: validated\n",
      "AFTER: graphicone_search 2020-02-18 14:35:57.533000 ['smartphone', 'digital', 'social', 'us', 'generations', 'information technology', 'internet', 'consumer', 'communications', 'mobile'] moderator tool passed VasiliiUshakov\n",
      "BEFORE: validated\n",
      "AFTER: graphicone_search 2020-02-18 14:35:57.618000 ['meat', 'consumer staples', 'commodities', 'us', 'beef', 'agriculture', 'retail'] moderator tool passed VasiliiUshakov\n",
      "BEFORE: validated\n"
     ]
    },
    {
     "name": "stderr",
     "output_type": "stream",
     "text": [
      "\n",
      "\n",
      "\n",
      "\n",
      "\n",
      "\n",
      "\n",
      " 94%|█████████▍| 2488/2650 [01:52<00:10, 15.51it/s]\u001b[A\u001b[A\u001b[A\u001b[A\u001b[A\u001b[A\u001b[A\n",
      "\n",
      "\n",
      "\n",
      "\n",
      "\n",
      "\n",
      " 94%|█████████▍| 2490/2650 [01:52<00:11, 14.21it/s]\u001b[A\u001b[A\u001b[A\u001b[A\u001b[A\u001b[A\u001b[A"
     ]
    },
    {
     "name": "stdout",
     "output_type": "stream",
     "text": [
      "AFTER: graphicone_search 2020-02-18 14:35:57.702000 ['us', 'oil', 'energy', 'commodities'] moderator tool passed VasiliiUshakov\n",
      "BEFORE: validated\n",
      "AFTER: graphicone_search 2020-02-18 14:35:57.787000 ['digital', 'trade', 'south korea', 'global', 'electronics', 'semiconductors', 'technology'] moderator tool passed VasiliiUshakov\n",
      "BEFORE: validated\n",
      "AFTER: graphicone_search 2020-02-18 14:35:57.870000 ['woman', 'gender', 'social', 'us', 'demography', 'population'] moderator tool passed VasiliiUshakov\n",
      "BEFORE: validated\n"
     ]
    },
    {
     "name": "stderr",
     "output_type": "stream",
     "text": [
      "\n",
      "\n",
      "\n",
      "\n",
      "\n",
      "\n",
      "\n",
      " 94%|█████████▍| 2495/2650 [01:52<00:09, 16.85it/s]\u001b[A\u001b[A\u001b[A\u001b[A\u001b[A\u001b[A\u001b[A"
     ]
    },
    {
     "name": "stdout",
     "output_type": "stream",
     "text": [
      "AFTER: graphicone_search 2020-02-18 14:35:57.955000 ['middle east', 'eu', 'asia', 'africa', 'trade', 'export', 'global', 'americas'] moderator tool passed VasiliiUshakov\n",
      "BEFORE: validated\n",
      "AFTER: graphicone_search 2020-02-18 14:35:58.039000 ['developed markets', 'japan', 'gdp', 'uk', 'germany', 'india', 'china', 'us', 'manufacturing', 'global', 'recession', 'emerging markets'] moderator tool passed VasiliiUshakov\n",
      "BEFORE: validated\n",
      "AFTER: graphicone_search 2020-02-18 14:35:58.123000 ['commodities', 'trade', 'gas', 'us', 'energy'] moderator tool passed VasiliiUshakov\n",
      "BEFORE: validated\n"
     ]
    },
    {
     "name": "stderr",
     "output_type": "stream",
     "text": [
      "\n",
      "\n",
      "\n",
      "\n",
      "\n",
      "\n",
      "\n",
      " 94%|█████████▍| 2499/2650 [01:53<00:08, 18.47it/s]\u001b[A\u001b[A\u001b[A\u001b[A\u001b[A\u001b[A\u001b[A"
     ]
    },
    {
     "name": "stdout",
     "output_type": "stream",
     "text": [
      "AFTER: graphicone_search 2020-02-18 14:35:58.207000 ['us', 'macro', 'gdp'] moderator tool passed VasiliiUshakov\n",
      "BEFORE: validated\n",
      "AFTER: graphicone_search 2020-02-18 14:35:58.291000 ['trade war', 'corn', 'china', 'commodities', 'trade', 'export', 'soybean', 'us', 'global', 'wheat', 'agriculture', 'retail', 'cotton'] moderator tool passed VasiliiUshakov\n",
      "BEFORE: validated\n",
      "AFTER: graphicone_search 2020-02-18 14:35:58.375000 ['developed markets', 'south america', 'corn', 'eu', 'ukraine', 'commodities', 'us', 'global', 'americas', 'emerging markets', 'brazil', 'agriculture', 'retail', 'argentina'] moderator tool passed VasiliiUshakov\n",
      "BEFORE: validated\n"
     ]
    },
    {
     "name": "stderr",
     "output_type": "stream",
     "text": [
      "\n",
      "\n",
      "\n",
      "\n",
      "\n",
      "\n",
      "\n",
      " 94%|█████████▍| 2502/2650 [01:53<00:09, 15.83it/s]\u001b[A\u001b[A\u001b[A\u001b[A\u001b[A\u001b[A\u001b[A\n",
      "\n",
      "\n",
      "\n",
      "\n",
      "\n",
      "\n",
      " 94%|█████████▍| 2504/2650 [01:53<00:10, 14.36it/s]\u001b[A\u001b[A\u001b[A\u001b[A\u001b[A\u001b[A\u001b[A"
     ]
    },
    {
     "name": "stdout",
     "output_type": "stream",
     "text": [
      "AFTER: graphicone_search 2020-02-18 14:35:58.459000 ['corn', 'commodities', 'alcohol', 'us', 'manufacturing', 'chemical', 'agriculture', 'retail'] moderator tool passed VasiliiUshakov\n",
      "BEFORE: validated\n",
      "AFTER: graphicone_search 2020-02-18 14:35:58.544000 ['brazil', 'canada', 'philippines', 'uk', 'india', 'china', 'trade', 'export', 'mexico', 'us', 'south korea', 'colombia', 'alcohol', 'global', 'chemical', 'netherlands', 'uae'] moderator tool passed VasiliiUshakov\n",
      "BEFORE: validated\n",
      "AFTER: graphicone_search 2020-02-18 14:35:58.628000 ['corn', 'commodities', 'us', 'agriculture', 'retail'] moderator tool passed VasiliiUshakov\n",
      "BEFORE: validated\n"
     ]
    },
    {
     "name": "stderr",
     "output_type": "stream",
     "text": [
      "\n",
      "\n",
      "\n",
      "\n",
      "\n",
      "\n",
      "\n",
      " 95%|█████████▍| 2506/2650 [01:53<00:10, 13.49it/s]\u001b[A\u001b[A\u001b[A\u001b[A\u001b[A\u001b[A\u001b[A"
     ]
    },
    {
     "name": "stdout",
     "output_type": "stream",
     "text": [
      "AFTER: graphicone_search 2020-02-18 14:35:58.714000 ['south america', 'commodities', 'soybean', 'us', 'brazil', 'agriculture', 'retail', 'argentina'] moderator tool passed VasiliiUshakov\n",
      "BEFORE: validated\n",
      "AFTER: graphicone_search 2020-02-18 14:35:58.798000 ['imports', 'china', 'commodities', 'trade', 'soybean', 'retail'] moderator tool passed VasiliiUshakov\n",
      "BEFORE: validated\n",
      "AFTER: graphicone_search 2020-02-18 14:35:58.883000 ['commodities', 'soybean', 'us', 'agriculture', 'retail'] moderator tool passed VasiliiUshakov\n",
      "BEFORE: validated\n"
     ]
    },
    {
     "name": "stderr",
     "output_type": "stream",
     "text": [
      "\n",
      "\n",
      "\n",
      "\n",
      "\n",
      "\n",
      "\n",
      " 95%|█████████▍| 2508/2650 [01:53<00:10, 12.96it/s]\u001b[A\u001b[A\u001b[A\u001b[A\u001b[A\u001b[A\u001b[A\n",
      "\n",
      "\n",
      "\n",
      "\n",
      "\n",
      "\n",
      " 95%|█████████▍| 2510/2650 [01:53<00:11, 12.61it/s]\u001b[A\u001b[A\u001b[A\u001b[A\u001b[A\u001b[A\u001b[A"
     ]
    },
    {
     "name": "stdout",
     "output_type": "stream",
     "text": [
      "AFTER: graphicone_search 2020-02-18 14:35:58.967000 ['commodities', 'soybean', 'us', 'agriculture', 'retail'] moderator tool passed VasiliiUshakov\n",
      "BEFORE: validated\n",
      "AFTER: graphicone_search 2020-02-18 14:35:59.051000 ['fuel', 'us', 'manufacturing', 'energy', 'chemical'] moderator tool passed VasiliiUshakov\n",
      "BEFORE: validated\n",
      "AFTER: graphicone_search 2020-02-18 14:35:59.135000 ['developed markets', 'corn', 'commodities', 'trade', 'us', 'retail'] moderator tool passed VasiliiUshakov\n",
      "BEFORE: validated\n"
     ]
    },
    {
     "name": "stderr",
     "output_type": "stream",
     "text": [
      "\n",
      "\n",
      "\n",
      "\n",
      "\n",
      "\n",
      "\n",
      " 95%|█████████▍| 2512/2650 [01:54<00:11, 12.38it/s]\u001b[A\u001b[A\u001b[A\u001b[A\u001b[A\u001b[A\u001b[A"
     ]
    },
    {
     "name": "stdout",
     "output_type": "stream",
     "text": [
      "AFTER: graphicone_search 2020-02-18 14:35:59.220000 ['corn', 'commodities', 'us', 'agriculture', 'retail'] moderator tool passed VasiliiUshakov\n",
      "BEFORE: validated\n",
      "AFTER: graphicone_search 2020-02-18 14:35:59.304000 ['commodities', 'soybean', 'us', 'agriculture', 'retail'] moderator tool passed VasiliiUshakov\n",
      "BEFORE: validated\n",
      "AFTER: graphicone_search 2020-02-18 14:35:59.388000 ['developed markets', 'commodities', 'soybean', 'us', 'agriculture', 'retail'] moderator tool passed VasiliiUshakov\n",
      "BEFORE: validated\n"
     ]
    },
    {
     "name": "stderr",
     "output_type": "stream",
     "text": [
      "\n",
      "\n",
      "\n",
      "\n",
      "\n",
      "\n",
      "\n",
      " 95%|█████████▍| 2514/2650 [01:54<00:11, 12.21it/s]\u001b[A\u001b[A\u001b[A\u001b[A\u001b[A\u001b[A\u001b[A\n",
      "\n",
      "\n",
      "\n",
      "\n",
      "\n",
      "\n",
      " 95%|█████████▍| 2516/2650 [01:54<00:11, 12.11it/s]\u001b[A\u001b[A\u001b[A\u001b[A\u001b[A\u001b[A\u001b[A"
     ]
    },
    {
     "name": "stdout",
     "output_type": "stream",
     "text": [
      "AFTER: graphicone_search 2020-02-18 14:35:59.472000 ['large caps', 'index', 's&p'] moderator tool passed VasiliiUshakov\n",
      "BEFORE: validated\n",
      "AFTER: graphicone_search 2020-02-18 14:35:59.557000 ['us', 'global'] moderator tool passed VasiliiUshakov\n",
      "BEFORE: validated\n",
      "AFTER: graphicone_search 2020-02-18 14:35:59.641000 ['japan', 'canada', 'uk', 'eu', 'india', 'china', 'household', 'us', 'global', 'government', 'consumer', 'brazil'] moderator tool passed VasiliiUshakov\n",
      "BEFORE: validated\n"
     ]
    },
    {
     "name": "stderr",
     "output_type": "stream",
     "text": [
      "\n",
      "\n",
      "\n",
      "\n",
      "\n",
      "\n",
      "\n",
      " 95%|█████████▌| 2519/2650 [01:54<00:09, 13.39it/s]\u001b[A\u001b[A\u001b[A\u001b[A\u001b[A\u001b[A\u001b[A"
     ]
    },
    {
     "name": "stdout",
     "output_type": "stream",
     "text": [
      "AFTER: graphicone_search 2020-02-18 14:35:59.726000 ['china', 'export', 'trade', 'us', 'agriculture'] moderator tool passed VasiliiUshakov\n",
      "BEFORE: validated\n",
      "AFTER: graphicone_search 2020-02-18 14:35:59.810000 ['developed markets', 'middle east', 'eu', 'asia', 'africa', 'trade', 'export', 'global', 'americas', 'emerging markets'] moderator tool passed VasiliiUshakov\n",
      "BEFORE: validated\n",
      "AFTER: graphicone_search 2020-02-18 14:35:59.895000 ['imports', 'china', 'commodities', 'trade', 'soybean', 'us', 'brazil', 'agriculture', 'retail'] moderator tool passed VasiliiUshakov\n",
      "BEFORE: validated\n"
     ]
    },
    {
     "name": "stderr",
     "output_type": "stream",
     "text": [
      "\n",
      "\n",
      "\n",
      "\n",
      "\n",
      "\n",
      "\n",
      " 95%|█████████▌| 2521/2650 [01:54<00:10, 12.89it/s]\u001b[A\u001b[A\u001b[A\u001b[A\u001b[A\u001b[A\u001b[A\n",
      "\n",
      "\n",
      "\n",
      "\n",
      "\n",
      "\n",
      " 95%|█████████▌| 2523/2650 [01:55<00:10, 12.57it/s]\u001b[A\u001b[A\u001b[A\u001b[A\u001b[A\u001b[A\u001b[A"
     ]
    },
    {
     "name": "stdout",
     "output_type": "stream",
     "text": [
      "AFTER: graphicone_search 2020-02-18 14:35:59.978000 ['developed markets', 'japan', 'macro', 'gdp', 'uk', 'eu', 'germany', 'oecd', 'new zealand', 'us', 'global', 'australia', 'france'] moderator tool passed VasiliiUshakov\n",
      "BEFORE: validated\n",
      "AFTER: graphicone_search 2020-02-18 14:36:00.063000 ['leisure', 'consumer discretionary', 'consumer products', 'retail'] moderator tool passed VasiliiUshakov\n",
      "BEFORE: validated\n",
      "AFTER: graphicone_search 2020-02-18 14:36:00.147000 ['bull market', 'bear market', 'insider activity'] moderator tool passed VasiliiUshakov\n",
      "BEFORE: validated\n"
     ]
    },
    {
     "name": "stderr",
     "output_type": "stream",
     "text": [
      "\n",
      "\n",
      "\n",
      "\n",
      "\n",
      "\n",
      "\n",
      " 95%|█████████▌| 2526/2650 [01:55<00:08, 13.78it/s]\u001b[A\u001b[A\u001b[A\u001b[A\u001b[A\u001b[A\u001b[A"
     ]
    },
    {
     "name": "stdout",
     "output_type": "stream",
     "text": [
      "AFTER: graphicone_search 2020-02-18 14:36:00.232000 ['bitcoin', 'large caps', 'cryptocurrency', 'wti', 'oil', 'metals & mining', 'commodities', 'energy', 'volatility', 'index', 's&p', 'gold'] moderator tool passed VasiliiUshakov\n",
      "BEFORE: validated\n",
      "AFTER: graphicone_search 2020-02-18 14:36:00.315000 ['bubble', 'developed markets', 'wilshire index', 'macro', 'gdp', 'real estate', 'us', 'unicorns', 'information technology', 'startups', 'index', 'technology'] moderator tool passed VasiliiUshakov\n",
      "BEFORE: validated\n",
      "AFTER: graphicone_search 2020-02-18 14:36:00.400000 ['democracy', 'social', 'us', 'politics', 'government'] moderator tool passed VasiliiUshakov\n",
      "BEFORE: validated\n"
     ]
    },
    {
     "name": "stderr",
     "output_type": "stream",
     "text": [
      "\n",
      "\n",
      "\n",
      "\n",
      "\n",
      "\n",
      "\n",
      " 95%|█████████▌| 2529/2650 [01:55<00:08, 14.77it/s]\u001b[A\u001b[A\u001b[A\u001b[A\u001b[A\u001b[A\u001b[A\n",
      "\n",
      "\n",
      "\n",
      "\n",
      "\n",
      "\n",
      " 96%|█████████▌| 2532/2650 [01:55<00:07, 15.56it/s]\u001b[A\u001b[A\u001b[A\u001b[A\u001b[A\u001b[A\u001b[A"
     ]
    },
    {
     "name": "stdout",
     "output_type": "stream",
     "text": [
      "AFTER: graphicone_search 2020-02-18 14:36:00.484000 ['cloud', 'digital', 'innovation', 'services', 'microsoft', 'information technology', 'technology'] moderator tool passed VasiliiUshakov\n",
      "BEFORE: validated\n",
      "AFTER: graphicone_search 2020-02-18 14:36:00.569000 ['social', 'us', 'personal finance', 'wealth'] moderator tool passed VasiliiUshakov\n",
      "BEFORE: validated\n",
      "AFTER: graphicone_search 2020-02-18 14:36:00.653000 ['developed markets', 'employment', 'wealth', 'labor', 'real estate', 'imports', 'payments', 'personal finance', 'trade', 'us', 'taxes', 'manufacturing', 'credit'] moderator tool passed VasiliiUshakov\n",
      "BEFORE: validated\n"
     ]
    },
    {
     "name": "stderr",
     "output_type": "stream",
     "text": [
      "\n",
      "\n",
      "\n",
      "\n",
      "\n",
      "\n",
      "\n",
      " 96%|█████████▌| 2534/2650 [01:55<00:08, 14.22it/s]\u001b[A\u001b[A\u001b[A\u001b[A\u001b[A\u001b[A\u001b[A"
     ]
    },
    {
     "name": "stdout",
     "output_type": "stream",
     "text": [
      "AFTER: graphicone_search 2020-02-18 14:36:00.738000 ['developed markets', 'macro', 'crisis', 'us', 'recession'] moderator tool passed VasiliiUshakov\n",
      "BEFORE: validated\n",
      "AFTER: graphicone_search 2020-02-18 14:36:00.822000 ['developed markets', 'small caps', 'fixed income', 'real estate', 'bull market', 'us', 'emerging markets', 'health', 'funds', 'large caps', 'bonds'] moderator tool passed VasiliiUshakov\n",
      "BEFORE: validated\n",
      "AFTER: graphicone_search 2020-02-18 14:36:00.907000 ['commodities', 'index', 'global'] moderator tool passed VasiliiUshakov\n",
      "BEFORE: validated\n"
     ]
    },
    {
     "name": "stderr",
     "output_type": "stream",
     "text": [
      "\n",
      "\n",
      "\n",
      "\n",
      "\n",
      "\n",
      "\n",
      " 96%|█████████▌| 2536/2650 [01:55<00:08, 13.42it/s]\u001b[A\u001b[A\u001b[A\u001b[A\u001b[A\u001b[A\u001b[A\n",
      "\n",
      "\n",
      "\n",
      "\n",
      "\n",
      "\n",
      " 96%|█████████▌| 2539/2650 [01:56<00:07, 14.48it/s]\u001b[A\u001b[A\u001b[A\u001b[A\u001b[A\u001b[A\u001b[A"
     ]
    },
    {
     "name": "stdout",
     "output_type": "stream",
     "text": [
      "AFTER: graphicone_search 2020-02-18 14:36:00.991000 ['florida', 'social', 'us', 'demography', 'california', 'population', 'new york'] moderator tool passed VasiliiUshakov\n",
      "BEFORE: validated\n",
      "AFTER: graphicone_search 2020-02-18 14:36:01.076000 ['developed markets', 'fuel', 'diesel', 'us', 'manufacturing', 'energy', 'biofuel'] moderator tool passed VasiliiUshakov\n",
      "BEFORE: validated\n",
      "AFTER: graphicone_search 2020-02-18 14:36:01.159000 ['digital', 'telecom', 'social', 'us', 'consumer', 'marketing', 'technology'] moderator tool passed VasiliiUshakov\n",
      "BEFORE: validated\n"
     ]
    },
    {
     "name": "stderr",
     "output_type": "stream",
     "text": [
      "\n",
      "\n",
      "\n",
      "\n",
      "\n",
      "\n",
      "\n",
      " 96%|█████████▌| 2541/2650 [01:56<00:08, 13.57it/s]\u001b[A\u001b[A\u001b[A\u001b[A\u001b[A\u001b[A\u001b[A"
     ]
    },
    {
     "name": "stdout",
     "output_type": "stream",
     "text": [
      "AFTER: graphicone_search 2020-02-18 14:36:01.244000 ['democracy', 'crisis', 'social', 'us', 'politics', 'government', 'financials'] moderator tool passed VasiliiUshakov\n",
      "BEFORE: validated\n",
      "AFTER: graphicone_search 2020-02-18 14:36:01.328000 ['geopolitics', 'eu', 'metals & mining', 'trade', 'commodities', 'us', 'banking', 'global', 'gold'] moderator tool passed VasiliiUshakov\n",
      "BEFORE: validated\n",
      "AFTER: graphicone_search 2020-02-18 14:36:01.413000 ['geopolitics', 'uk', 'democracy', 'eu', 'social', 'politics', 'government'] moderator tool passed VasiliiUshakov\n",
      "BEFORE: validated\n"
     ]
    },
    {
     "name": "stderr",
     "output_type": "stream",
     "text": [
      "\n",
      "\n",
      "\n",
      "\n",
      "\n",
      "\n",
      "\n",
      " 96%|█████████▌| 2543/2650 [01:56<00:08, 13.01it/s]\u001b[A\u001b[A\u001b[A\u001b[A\u001b[A\u001b[A\u001b[A\n",
      "\n",
      "\n",
      "\n",
      "\n",
      "\n",
      "\n",
      " 96%|█████████▌| 2546/2650 [01:56<00:07, 14.15it/s]\u001b[A\u001b[A\u001b[A\u001b[A\u001b[A\u001b[A\u001b[A"
     ]
    },
    {
     "name": "stdout",
     "output_type": "stream",
     "text": [
      "AFTER: graphicone_search 2020-02-18 14:36:01.497000 ['developed markets', 'real estate', 'trade', 'us', 'consumer discretionary', 'consumer'] moderator tool passed VasiliiUshakov\n",
      "BEFORE: validated\n",
      "AFTER: graphicone_search 2020-02-18 14:36:01.582000 ['funds', 'hedge funds'] moderator tool passed VasiliiUshakov\n",
      "BEFORE: validated\n",
      "AFTER: graphicone_search 2020-02-18 14:36:01.666000 ['developed markets', 'germany', 'macro', 'gdp'] moderator tool passed VasiliiUshakov\n",
      "BEFORE: validated\n"
     ]
    },
    {
     "name": "stderr",
     "output_type": "stream",
     "text": [
      "\n",
      "\n",
      "\n",
      "\n",
      "\n",
      "\n",
      "\n",
      " 96%|█████████▌| 2548/2650 [01:56<00:07, 13.38it/s]\u001b[A\u001b[A\u001b[A\u001b[A\u001b[A\u001b[A\u001b[A"
     ]
    },
    {
     "name": "stdout",
     "output_type": "stream",
     "text": [
      "AFTER: graphicone_search 2020-02-18 14:36:01.751000 ['developed markets', 'japan', 'macro', 'gdp', 'canada', 'uk', 'sweden', 'eu', 'oecd', 'government debt', 'us', 'government', 'australia', 'debt'] moderator tool passed VasiliiUshakov\n",
      "BEFORE: validated\n",
      "AFTER: graphicone_search 2020-02-18 14:36:01.834000 ['real estate', 'oecd'] moderator tool passed VasiliiUshakov\n",
      "BEFORE: validated\n",
      "AFTER: graphicone_search 2020-02-18 14:36:01.919000 ['fuel', 'oil', 'commodities', 'trade', 'gas', 'energy', 'global', 'coal'] moderator tool passed VasiliiUshakov\n",
      "BEFORE: validated\n"
     ]
    },
    {
     "name": "stderr",
     "output_type": "stream",
     "text": [
      "\n",
      "\n",
      "\n",
      "\n",
      "\n",
      "\n",
      "\n",
      " 96%|█████████▌| 2550/2650 [01:56<00:07, 12.89it/s]\u001b[A\u001b[A\u001b[A\u001b[A\u001b[A\u001b[A\u001b[A\n",
      "\n",
      "\n",
      "\n",
      "\n",
      "\n",
      "\n",
      " 96%|█████████▋| 2552/2650 [01:57<00:07, 12.56it/s]\u001b[A\u001b[A\u001b[A\u001b[A\u001b[A\u001b[A\u001b[A"
     ]
    },
    {
     "name": "stdout",
     "output_type": "stream",
     "text": [
      "AFTER: graphicone_search 2020-02-18 14:36:02.002000 ['developed markets', 'japan', 'gdp', 'uk', 'eu', 'oecd', 'government debt', 'personal finance', 'household', 'us', 'government', 'debt'] moderator tool passed VasiliiUshakov\n",
      "BEFORE: validated\n",
      "AFTER: graphicone_search 2020-02-18 14:36:02.087000 ['us', 'debt'] moderator tool passed VasiliiUshakov\n",
      "BEFORE: validated\n",
      "AFTER: graphicone_search 2020-02-18 14:36:02.171000 ['eu', 'consumer', 'energy'] moderator tool passed VasiliiUshakov\n",
      "BEFORE: validated\n"
     ]
    },
    {
     "name": "stderr",
     "output_type": "stream",
     "text": [
      "\n",
      "\n",
      "\n",
      "\n",
      "\n",
      "\n",
      "\n",
      " 96%|█████████▋| 2554/2650 [01:57<00:07, 12.34it/s]\u001b[A\u001b[A\u001b[A\u001b[A\u001b[A\u001b[A\u001b[A"
     ]
    },
    {
     "name": "stdout",
     "output_type": "stream",
     "text": [
      "AFTER: graphicone_search 2020-02-18 14:36:02.256000 ['eu', 'cpi', 'inflation', 'index'] moderator tool passed VasiliiUshakov\n",
      "BEFORE: validated\n",
      "AFTER: graphicone_search 2020-02-18 14:36:02.340000 ['developed markets', 'eu', 'labor', 'germany', 'manufacturing', 'france'] moderator tool passed VasiliiUshakov\n",
      "BEFORE: validated\n",
      "AFTER: graphicone_search 2020-02-18 14:36:02.425000 ['france', 'real estate', 'spain'] moderator tool passed VasiliiUshakov\n",
      "BEFORE: validated\n"
     ]
    },
    {
     "name": "stderr",
     "output_type": "stream",
     "text": [
      "\n",
      "\n",
      "\n",
      "\n",
      "\n",
      "\n",
      "\n",
      " 96%|█████████▋| 2556/2650 [01:57<00:07, 12.18it/s]\u001b[A\u001b[A\u001b[A\u001b[A\u001b[A\u001b[A\u001b[A\n",
      "\n",
      "\n",
      "\n",
      "\n",
      "\n",
      "\n",
      " 97%|█████████▋| 2558/2650 [01:57<00:07, 12.08it/s]\u001b[A\u001b[A\u001b[A\u001b[A\u001b[A\u001b[A\u001b[A"
     ]
    },
    {
     "name": "stdout",
     "output_type": "stream",
     "text": [
      "AFTER: graphicone_search 2020-02-18 14:36:02.509000 ['government bonds', 'eu', 'bonds', 'interest rates'] moderator tool passed VasiliiUshakov\n",
      "BEFORE: validated\n",
      "AFTER: graphicone_search 2020-02-18 14:36:02.594000 ['eu', 'germany', 'debt'] moderator tool passed VasiliiUshakov\n",
      "BEFORE: validated\n",
      "AFTER: graphicone_search 2020-02-18 14:36:02.678000 ['labor', 'us', 'gdp'] moderator tool passed VasiliiUshakov\n",
      "BEFORE: validated\n"
     ]
    },
    {
     "name": "stderr",
     "output_type": "stream",
     "text": [
      "\n",
      "\n",
      "\n",
      "\n",
      "\n",
      "\n",
      "\n",
      " 97%|█████████▋| 2560/2650 [01:57<00:07, 12.03it/s]\u001b[A\u001b[A\u001b[A\u001b[A\u001b[A\u001b[A\u001b[A"
     ]
    },
    {
     "name": "stdout",
     "output_type": "stream",
     "text": [
      "AFTER: graphicone_search 2020-02-18 14:36:02.763000 ['death', 'services', 'social', 'us', 'consumer'] moderator tool passed VasiliiUshakov\n",
      "BEFORE: validated\n",
      "AFTER: graphicone_search 2020-02-18 14:36:02.846000 ['vehicles', 'logistics'] moderator tool passed VasiliiUshakov\n",
      "BEFORE: validated\n",
      "AFTER: graphicone_search 2020-02-18 14:36:02.930000 ['silver', 'futures', 'metals & mining', 'commodities'] moderator tool passed VasiliiUshakov\n",
      "BEFORE: validated\n"
     ]
    },
    {
     "name": "stderr",
     "output_type": "stream",
     "text": [
      "\n",
      "\n",
      "\n",
      "\n",
      "\n",
      "\n",
      "\n",
      " 97%|█████████▋| 2562/2650 [01:57<00:07, 11.99it/s]\u001b[A\u001b[A\u001b[A\u001b[A\u001b[A\u001b[A\u001b[A\n",
      "\n",
      "\n",
      "\n",
      "\n",
      "\n",
      "\n",
      " 97%|█████████▋| 2564/2650 [01:58<00:07, 11.96it/s]\u001b[A\u001b[A\u001b[A\u001b[A\u001b[A\u001b[A\u001b[A"
     ]
    },
    {
     "name": "stdout",
     "output_type": "stream",
     "text": [
      "AFTER: graphicone_search 2020-02-18 14:36:03.014000 ['germany', 'commodities', 'alcohol', 'wine', 'wheat', 'agriculture', 'index', 'retail', 'military'] moderator tool passed VasiliiUshakov\n",
      "BEFORE: validated\n",
      "AFTER: graphicone_search 2020-02-18 14:36:03.099000 ['export', 'alcohol', 'trade', 'wine', 'retail', 'argentina'] moderator tool passed VasiliiUshakov\n",
      "BEFORE: validated\n",
      "AFTER: graphicone_search 2020-02-18 14:36:03.182000 ['gdp', 'uk', 'germany', 'india', 'france'] moderator tool passed VasiliiUshakov\n",
      "BEFORE: validated\n"
     ]
    },
    {
     "name": "stderr",
     "output_type": "stream",
     "text": [
      "\n",
      "\n",
      "\n",
      "\n",
      "\n",
      "\n",
      "\n",
      " 97%|█████████▋| 2566/2650 [01:58<00:07, 11.93it/s]\u001b[A\u001b[A\u001b[A\u001b[A\u001b[A\u001b[A\u001b[A"
     ]
    },
    {
     "name": "stdout",
     "output_type": "stream",
     "text": [
      "AFTER: graphicone_search 2020-02-18 14:36:03.267000 ['gdp', 'uk'] moderator tool passed VasiliiUshakov\n",
      "BEFORE: validated\n",
      "AFTER: graphicone_search 2020-02-18 14:36:03.351000 ['japan', 'canada', 'uk', 'germany', 'norway', 'oecd', 'switzerland', 'us', 'health', 'france', 'spain'] moderator tool passed VasiliiUshakov\n",
      "BEFORE: validated\n",
      "AFTER: graphicone_search 2020-02-18 14:36:03.436000 ['social', 'medicine', 'fed', 'military'] moderator tool passed VasiliiUshakov\n",
      "BEFORE: validated\n"
     ]
    },
    {
     "name": "stderr",
     "output_type": "stream",
     "text": [
      "\n",
      "\n",
      "\n",
      "\n",
      "\n",
      "\n",
      "\n",
      " 97%|█████████▋| 2568/2650 [01:58<00:06, 11.91it/s]\u001b[A\u001b[A\u001b[A\u001b[A\u001b[A\u001b[A\u001b[A\n",
      "\n",
      "\n",
      "\n",
      "\n",
      "\n",
      "\n",
      " 97%|█████████▋| 2570/2650 [01:58<00:06, 11.89it/s]\u001b[A\u001b[A\u001b[A\u001b[A\u001b[A\u001b[A\u001b[A"
     ]
    },
    {
     "name": "stdout",
     "output_type": "stream",
     "text": [
      "AFTER: graphicone_search 2020-02-18 14:36:03.519000 ['fed', 'military'] moderator tool passed VasiliiUshakov\n",
      "BEFORE: validated\n",
      "AFTER: graphicone_search 2020-02-18 14:36:03.604000 ['middle east', 'canada', 'eu', 'asia', 'africa', 'latin america', 'us', 'netflix'] moderator tool passed VasiliiUshakov\n",
      "BEFORE: validated\n",
      "AFTER: graphicone_search 2020-02-18 14:36:03.688000 ['environment'] moderator tool passed VasiliiUshakov\n",
      "BEFORE: validated\n"
     ]
    },
    {
     "name": "stderr",
     "output_type": "stream",
     "text": [
      "\n",
      "\n",
      "\n",
      "\n",
      "\n",
      "\n",
      "\n",
      " 97%|█████████▋| 2572/2650 [01:58<00:06, 11.87it/s]\u001b[A\u001b[A\u001b[A\u001b[A\u001b[A\u001b[A\u001b[A"
     ]
    },
    {
     "name": "stdout",
     "output_type": "stream",
     "text": [
      "AFTER: graphicone_search 2020-02-18 14:36:03.773000 ['luxembourg', 'uk', 'sweden', 'eu', 'germany', 'italy', 'finland', 'portugal', 'social justice', 'austria', 'malta', 'france', 'denmark', 'ireland'] moderator tool passed VasiliiUshakov\n",
      "BEFORE: validated\n",
      "AFTER: graphicone_search 2020-02-18 14:36:03.857000 ['household', 'religion'] moderator tool passed VasiliiUshakov\n",
      "BEFORE: validated\n",
      "AFTER: graphicone_search 2020-02-18 14:36:03.942000 ['ecb', 'us', 'bank of japan', 'banking', 'fed'] moderator tool passed VasiliiUshakov\n",
      "BEFORE: validated\n"
     ]
    },
    {
     "name": "stderr",
     "output_type": "stream",
     "text": [
      "\n",
      "\n",
      "\n",
      "\n",
      "\n",
      "\n",
      "\n",
      " 97%|█████████▋| 2574/2650 [01:58<00:06, 11.88it/s]\u001b[A\u001b[A\u001b[A\u001b[A\u001b[A\u001b[A\u001b[A\n",
      "\n",
      "\n",
      "\n",
      "\n",
      "\n",
      "\n",
      " 97%|█████████▋| 2576/2650 [01:59<00:06, 11.88it/s]\u001b[A\u001b[A\u001b[A\u001b[A\u001b[A\u001b[A\u001b[A"
     ]
    },
    {
     "name": "stdout",
     "output_type": "stream",
     "text": [
      "AFTER: graphicone_search 2020-02-18 14:36:04.026000 ['index', 'shanghai composite index', 'china'] moderator tool passed VasiliiUshakov\n",
      "BEFORE: validated\n",
      "AFTER: graphicone_search 2020-02-18 14:36:04.110000 ['netflix'] moderator tool passed VasiliiUshakov\n",
      "BEFORE: validated\n",
      "AFTER: graphicone_search 2020-02-18 14:36:04.194000 ['high yield', 'loan', 'bonds', 'index', 'debt'] moderator tool passed VasiliiUshakov\n",
      "BEFORE: validated\n"
     ]
    },
    {
     "name": "stderr",
     "output_type": "stream",
     "text": [
      "\n",
      "\n",
      "\n",
      "\n",
      "\n",
      "\n",
      "\n",
      " 97%|█████████▋| 2578/2650 [01:59<00:06, 11.88it/s]\u001b[A\u001b[A\u001b[A\u001b[A\u001b[A\u001b[A\u001b[A"
     ]
    },
    {
     "name": "stdout",
     "output_type": "stream",
     "text": [
      "AFTER: graphicone_search 2020-02-18 14:36:04.279000 ['retail', 'vehicles', 'automotive', 'canada'] moderator tool passed VasiliiUshakov\n",
      "BEFORE: validated\n",
      "AFTER: graphicone_search 2020-02-18 14:36:04.362000 ['bush', 'clinton', 'us', 'ronald reagan', 'politics', 'obama', 'trump'] moderator tool passed VasiliiUshakov\n",
      "BEFORE: validated\n",
      "AFTER: graphicone_search 2020-02-18 14:36:04.447000 ['index', 's&p'] moderator tool passed VasiliiUshakov\n",
      "BEFORE: validated\n"
     ]
    },
    {
     "name": "stderr",
     "output_type": "stream",
     "text": [
      "\n",
      "\n",
      "\n",
      "\n",
      "\n",
      "\n",
      "\n",
      " 97%|█████████▋| 2580/2650 [01:59<00:05, 11.89it/s]\u001b[A\u001b[A\u001b[A\u001b[A\u001b[A\u001b[A\u001b[A\n",
      "\n",
      "\n",
      "\n",
      "\n",
      "\n",
      "\n",
      " 97%|█████████▋| 2582/2650 [01:59<00:05, 11.89it/s]\u001b[A\u001b[A\u001b[A\u001b[A\u001b[A\u001b[A\u001b[A"
     ]
    },
    {
     "name": "stdout",
     "output_type": "stream",
     "text": [
      "AFTER: graphicone_search 2020-02-18 14:36:04.530000 ['greece', 'debt'] moderator tool passed VasiliiUshakov\n",
      "BEFORE: validated\n",
      "AFTER: graphicone_search 2020-02-18 14:36:04.614000 ['gdp', 'germany', 'croatia', 'italy', 'portugal', 'government', 'france', 'greece', 'spain', 'ireland'] moderator tool passed VasiliiUshakov\n",
      "BEFORE: validated\n",
      "AFTER: graphicone_search 2020-02-18 14:36:04.698000 ['debt', 'portugal', 'cyprus', 'global', 'greece', 'spain', 'ireland'] moderator tool passed VasiliiUshakov\n",
      "BEFORE: validated\n"
     ]
    },
    {
     "name": "stderr",
     "output_type": "stream",
     "text": [
      "\n",
      "\n",
      "\n",
      "\n",
      "\n",
      "\n",
      "\n",
      " 98%|█████████▊| 2585/2650 [01:59<00:04, 13.21it/s]\u001b[A\u001b[A\u001b[A\u001b[A\u001b[A\u001b[A\u001b[A"
     ]
    },
    {
     "name": "stdout",
     "output_type": "stream",
     "text": [
      "AFTER: graphicone_search 2020-02-18 14:36:04.783000 ['environment', 'us', 'energy', 'emissions', 'ecology'] moderator tool passed VasiliiUshakov\n",
      "BEFORE: validated\n",
      "AFTER: graphicone_search 2020-02-18 14:36:04.866000 ['employment', 'labor', 'personal finance', 'social', 'us'] moderator tool passed VasiliiUshakov\n",
      "BEFORE: validated\n",
      "AFTER: graphicone_search 2020-02-18 14:36:04.951000 ['financials', 'e-commerce', 'cash', 'digital', 'mobile payments', 'payments', 'cashless', 'trade', 'indonesia', 'banking', 'information technology', 'consumer', 'credit card', 'emerging markets', 'internet'] moderator tool passed VasiliiUshakov\n",
      "BEFORE: validated\n"
     ]
    },
    {
     "name": "stderr",
     "output_type": "stream",
     "text": [
      "\n",
      "\n",
      "\n",
      "\n",
      "\n",
      "\n",
      "\n",
      " 98%|█████████▊| 2588/2650 [01:59<00:04, 14.31it/s]\u001b[A\u001b[A\u001b[A\u001b[A\u001b[A\u001b[A\u001b[A\n",
      "\n",
      "\n",
      "\n",
      "\n",
      "\n",
      "\n",
      " 98%|█████████▊| 2590/2650 [02:00<00:04, 13.47it/s]\u001b[A\u001b[A\u001b[A\u001b[A\u001b[A\u001b[A\u001b[A"
     ]
    },
    {
     "name": "stdout",
     "output_type": "stream",
     "text": [
      "AFTER: graphicone_search 2020-02-18 14:36:05.035000 ['luxembourg', 'woman', 'labor', 'belgium', 'gender', 'social justice', 'denmark', 'poland', 'slovenia', 'new zealand', 'social', 'finland', 'equality', 'sweden', 'norway', 'us', 'employment', 'oecd', 'iceland'] moderator tool passed VasiliiUshakov\n",
      "BEFORE: validated\n",
      "AFTER: graphicone_search 2020-02-18 14:36:05.120000 ['large caps', 'index', 's&p'] moderator tool passed VasiliiUshakov\n",
      "BEFORE: validated\n",
      "AFTER: graphicone_search 2020-02-18 14:36:05.204000 ['equality', 'andorra', 'woman', 'sweden', 'south africa', 'gender', 'mexico', 'finland', 'rwanda', 'bolivia', 'social', 'politics', 'global', 'cuba', 'namibia', 'spain'] moderator tool passed VasiliiUshakov\n",
      "BEFORE: validated\n"
     ]
    },
    {
     "name": "stderr",
     "output_type": "stream",
     "text": [
      "\n",
      "\n",
      "\n",
      "\n",
      "\n",
      "\n",
      "\n",
      " 98%|█████████▊| 2594/2650 [02:00<00:03, 15.47it/s]\u001b[A\u001b[A\u001b[A\u001b[A\u001b[A\u001b[A\u001b[A"
     ]
    },
    {
     "name": "stdout",
     "output_type": "stream",
     "text": [
      "AFTER: graphicone_search 2020-02-18 14:36:05.289000 ['sentiment', 'large caps', 'index', 's&p'] moderator tool passed VasiliiUshakov\n",
      "BEFORE: validated\n",
      "AFTER: graphicone_search 2020-02-18 14:36:05.373000 ['us', 'government', 'financials', 'credit', 'consumer', 'debt'] moderator tool passed VasiliiUshakov\n",
      "BEFORE: validated\n",
      "AFTER: graphicone_search 2020-02-18 14:36:05.458000 ['geopolitics', 'gdp', 'imports', 'trade', 'us', 'global'] moderator tool passed VasiliiUshakov\n",
      "BEFORE: validated\n"
     ]
    },
    {
     "name": "stderr",
     "output_type": "stream",
     "text": [
      "\n",
      "\n",
      "\n",
      "\n",
      "\n",
      "\n",
      "\n",
      " 98%|█████████▊| 2598/2650 [02:00<00:03, 17.27it/s]\u001b[A\u001b[A\u001b[A\u001b[A\u001b[A\u001b[A\u001b[A\n",
      "\n",
      "\n",
      "\n",
      "\n",
      "\n",
      "\n",
      " 98%|█████████▊| 2600/2650 [02:00<00:03, 15.17it/s]\u001b[A\u001b[A\u001b[A\u001b[A\u001b[A\u001b[A\u001b[A"
     ]
    },
    {
     "name": "stdout",
     "output_type": "stream",
     "text": [
      "AFTER: graphicone_search 2020-02-18 14:36:05.542000 ['developed markets', 'us', 'large caps', 'index', 's&p'] moderator tool passed VasiliiUshakov\n",
      "BEFORE: validated\n",
      "AFTER: graphicone_search 2020-02-18 14:36:05.627000 ['foreign investment', 'asia', 'india', 'china', 'emerging markets', 'technology'] moderator tool passed VasiliiUshakov\n",
      "BEFORE: validated\n",
      "AFTER: graphicone_search 2020-02-18 14:36:05.711000 ['innovation', 'science', 'shanghai', 'china', 'ai', 'beijing', 'cities', 'information technology', 'technology'] moderator tool passed VasiliiUshakov\n",
      "BEFORE: validated\n"
     ]
    },
    {
     "name": "stderr",
     "output_type": "stream",
     "text": [
      "\n",
      "\n",
      "\n",
      "\n",
      "\n",
      "\n",
      "\n",
      " 98%|█████████▊| 2604/2650 [02:00<00:02, 17.01it/s]\u001b[A\u001b[A\u001b[A\u001b[A\u001b[A\u001b[A\u001b[A"
     ]
    },
    {
     "name": "stdout",
     "output_type": "stream",
     "text": [
      "AFTER: graphicone_search 2020-02-18 14:36:05.796000 ['environment', 'iea', 'global', 'emissions', 'climate change', 'ecology'] moderator tool passed VasiliiUshakov\n",
      "BEFORE: validated\n",
      "AFTER: graphicone_search 2020-02-18 14:36:05.880000 ['trade', 'consumer', 'us', 'retail'] moderator tool passed VasiliiUshakov\n",
      "BEFORE: validated\n",
      "AFTER: graphicone_search 2020-02-18 14:36:05.965000 ['macro', 'sentiment', 'gdp', 'real estate', 'us', 'construction & engineering'] moderator tool passed VasiliiUshakov\n",
      "BEFORE: validated\n"
     ]
    },
    {
     "name": "stderr",
     "output_type": "stream",
     "text": [
      "\n",
      "\n",
      "\n",
      "\n",
      "\n",
      "\n",
      "\n",
      " 98%|█████████▊| 2606/2650 [02:00<00:02, 15.03it/s]\u001b[A\u001b[A\u001b[A\u001b[A\u001b[A\u001b[A\u001b[A\n",
      "\n",
      "\n",
      "\n",
      "\n",
      "\n",
      "\n",
      " 98%|█████████▊| 2610/2650 [02:01<00:02, 16.88it/s]\u001b[A\u001b[A\u001b[A\u001b[A\u001b[A\u001b[A\u001b[A"
     ]
    },
    {
     "name": "stdout",
     "output_type": "stream",
     "text": [
      "AFTER: graphicone_search 2020-02-18 14:36:06.049000 ['developed markets', 'recession', 'manufacturing', 'us'] moderator tool passed VasiliiUshakov\n",
      "BEFORE: validated\n",
      "AFTER: graphicone_search 2020-02-18 14:36:06.134000 ['fixed income', 'high yield', 'eu', 'credit', 'us', 'banking', 'loan', 'financials', 'bonds', 'index'] moderator tool passed VasiliiUshakov\n",
      "BEFORE: validated\n",
      "AFTER: graphicone_search 2020-02-18 14:36:06.218000 ['japan', 'ageing', 'asia', 'eu', 'latin america', 'social', 'caribbean', 'us', 'demography', 'global', 'population'] moderator tool passed VasiliiUshakov\n",
      "BEFORE: validated\n"
     ]
    },
    {
     "name": "stderr",
     "output_type": "stream",
     "text": [
      "\n",
      "\n",
      "\n",
      "\n",
      "\n",
      "\n",
      "\n",
      " 99%|█████████▊| 2612/2650 [02:01<00:02, 14.97it/s]\u001b[A\u001b[A\u001b[A\u001b[A\u001b[A\u001b[A\u001b[A"
     ]
    },
    {
     "name": "stdout",
     "output_type": "stream",
     "text": [
      "AFTER: graphicone_search 2020-02-18 14:36:06.303000 ['iran', 'japan', 'macro', 'gdp', 'uk', 'egypt', 'germany', 'india', 'italy', 'china', 'us', 'russia', 'turkey', 'global', 'france', 'greece', 'spain'] moderator tool passed VasiliiUshakov\n",
      "BEFORE: validated\n",
      "AFTER: graphicone_search 2020-02-18 14:36:06.387000 ['developed markets', 'wealth', 'japan', 'canada', 'uk', 'germany', 'personal finance', 'china', 'household', 'us', 'south korea', 'australia', 'france', 'emerging markets', 'debt'] moderator tool passed VasiliiUshakov\n",
      "BEFORE: validated\n",
      "AFTER: graphicone_search 2020-02-18 14:36:06.472000 ['developed markets', 'high yield', 'credit', 'us', 'loan', 'financials', 'bonds', 'index', 'debt'] moderator tool passed VasiliiUshakov\n",
      "BEFORE: validated\n"
     ]
    },
    {
     "name": "stderr",
     "output_type": "stream",
     "text": [
      "\n",
      "\n",
      "\n",
      "\n",
      "\n",
      "\n",
      "\n",
      " 99%|█████████▊| 2614/2650 [02:01<00:02, 13.89it/s]\u001b[A\u001b[A\u001b[A\u001b[A\u001b[A\u001b[A\u001b[A\n",
      "\n",
      "\n",
      "\n",
      "\n",
      "\n",
      "\n",
      " 99%|█████████▉| 2617/2650 [02:01<00:02, 14.85it/s]\u001b[A\u001b[A\u001b[A\u001b[A\u001b[A\u001b[A\u001b[A"
     ]
    },
    {
     "name": "stdout",
     "output_type": "stream",
     "text": [
      "AFTER: graphicone_search 2020-02-18 14:36:06.555000 ['utilities', 'india', 'metals & mining', 'manufacturing', 'emerging markets'] moderator tool passed VasiliiUshakov\n",
      "BEFORE: validated\n",
      "AFTER: graphicone_search 2020-02-18 14:36:06.640000 ['developed markets', 'macro', 'china', 'interest rates', 'banking', 'emerging markets', 'monetary policy'] moderator tool passed VasiliiUshakov\n",
      "BEFORE: validated\n",
      "AFTER: graphicone_search 2020-02-18 14:36:06.724000 ['consumer products', 'ford', 'softbank', 'manufacturing', 'volkswagen', 'retail', 'comcast', 'at&t', 'toyota', 'banking', 'global', 'financials', 'debt', 'telecom', 'automotive', 'alcohol', 'daimler', 'verizon', 'vehicles'] moderator tool passed VasiliiUshakov\n",
      "BEFORE: validated\n"
     ]
    },
    {
     "name": "stderr",
     "output_type": "stream",
     "text": [
      "\n",
      "\n",
      "\n",
      "\n",
      "\n",
      "\n",
      "\n",
      " 99%|█████████▉| 2619/2650 [02:01<00:02, 13.77it/s]\u001b[A\u001b[A\u001b[A\u001b[A\u001b[A\u001b[A\u001b[A"
     ]
    },
    {
     "name": "stdout",
     "output_type": "stream",
     "text": [
      "AFTER: graphicone_search 2020-02-18 14:36:06.810000 ['morgan stanley', 'bull market', 'global', 'msci acwi', 'index', 'msci'] moderator tool passed VasiliiUshakov\n",
      "BEFORE: validated\n",
      "AFTER: graphicone_search 2020-02-18 14:36:06.894000 ['developed markets', 'macro', 'eu', 'ecb', 'inflation', 'monetary policy'] moderator tool passed VasiliiUshakov\n",
      "BEFORE: validated\n",
      "AFTER: graphicone_search 2020-02-18 14:36:06.979000 ['wealth', 'fixed income', 'russell index', 'us', 'bonds', 'index'] moderator tool passed VasiliiUshakov\n",
      "BEFORE: validated\n"
     ]
    },
    {
     "name": "stderr",
     "output_type": "stream",
     "text": [
      "\n",
      "\n",
      "\n",
      "\n",
      "\n",
      "\n",
      "\n",
      " 99%|█████████▉| 2621/2650 [02:01<00:02, 13.13it/s]\u001b[A\u001b[A\u001b[A\u001b[A\u001b[A\u001b[A\u001b[A\n",
      "\n",
      "\n",
      "\n",
      "\n",
      "\n",
      "\n",
      " 99%|█████████▉| 2624/2650 [02:02<00:01, 14.22it/s]\u001b[A\u001b[A\u001b[A\u001b[A\u001b[A\u001b[A\u001b[A"
     ]
    },
    {
     "name": "stdout",
     "output_type": "stream",
     "text": [
      "AFTER: graphicone_search 2020-02-18 14:36:07.063000 ['financials', 'communications', 'utilities', 'industrials', 'consumer staples', 'technology', 'etf', 'materials', 'health', 'consumer discretionary', 'energy', 'information technology', 'funds', 'large caps', 'index', 's&p'] moderator tool passed VasiliiUshakov\n",
      "BEFORE: validated\n",
      "AFTER: graphicone_search 2020-02-18 14:36:07.148000 ['middle east', 'japan', 'eu', 'asia', 'africa', 'latin america', 'china', 'etf', 'cis', 'us', 'russia', 'global', 'vanguard', 'funds', 'index'] moderator tool passed VasiliiUshakov\n",
      "BEFORE: validated\n",
      "AFTER: graphicone_search 2020-02-18 14:36:07.233000 ['eu', 'italy', 'commodities', 'portugal', 'greece', 'agriculture', 'retail', 'spain'] moderator tool passed VasiliiUshakov\n",
      "BEFORE: validated\n"
     ]
    },
    {
     "name": "stderr",
     "output_type": "stream",
     "text": [
      "\n",
      "\n",
      "\n",
      "\n",
      "\n",
      "\n",
      "\n",
      " 99%|█████████▉| 2627/2650 [02:02<00:01, 15.13it/s]\u001b[A\u001b[A\u001b[A\u001b[A\u001b[A\u001b[A\u001b[A"
     ]
    },
    {
     "name": "stdout",
     "output_type": "stream",
     "text": [
      "AFTER: graphicone_search 2020-02-18 14:36:07.318000 ['poland', 'gdp', 'uk', 'sweden', 'germany', 'italy', 'politics', 'france', 'netherlands', 'spain'] moderator tool passed VasiliiUshakov\n",
      "BEFORE: validated\n",
      "AFTER: graphicone_search 2020-02-18 14:36:07.402000 ['france', 'new york', 'uk', 'seoul', 'london', 'singapore', 'shanghai', 'toronto', 'hong kong', 'us', 'south korea', 'tokyo', 'moscow', 'education', 'melbourne', 'los angeles', 'paris'] moderator tool passed VasiliiUshakov\n",
      "BEFORE: validated\n",
      "AFTER: graphicone_search 2020-02-18 14:36:07.487000 ['information technology', 'ai'] moderator tool passed VasiliiUshakov\n",
      "BEFORE: validated\n"
     ]
    },
    {
     "name": "stderr",
     "output_type": "stream",
     "text": [
      "\n",
      "\n",
      "\n",
      "\n",
      "\n",
      "\n",
      "\n",
      " 99%|█████████▉| 2629/2650 [02:02<00:01, 13.98it/s]\u001b[A\u001b[A\u001b[A\u001b[A\u001b[A\u001b[A\u001b[A\n",
      "\n",
      "\n",
      "\n",
      "\n",
      "\n",
      "\n",
      " 99%|█████████▉| 2631/2650 [02:02<00:01, 13.26it/s]\u001b[A\u001b[A\u001b[A\u001b[A\u001b[A\u001b[A\u001b[A"
     ]
    },
    {
     "name": "stdout",
     "output_type": "stream",
     "text": [
      "AFTER: graphicone_search 2020-02-18 14:36:07.570000 ['diseases', 'children', 'woman', 'gender', 'death', 'health'] moderator tool passed VasiliiUshakov\n",
      "BEFORE: validated\n",
      "AFTER: graphicone_search 2020-02-18 14:36:07.655000 ['us', 'automotive', 'transportation'] moderator tool passed VasiliiUshakov\n",
      "BEFORE: validated\n",
      "AFTER: graphicone_search 2020-02-18 14:36:07.739000 ['germany', 'index'] moderator tool passed VasiliiUshakov\n",
      "BEFORE: validated\n"
     ]
    },
    {
     "name": "stderr",
     "output_type": "stream",
     "text": [
      "\n",
      "\n",
      "\n",
      "\n",
      "\n",
      "\n",
      "\n",
      " 99%|█████████▉| 2633/2650 [02:02<00:01, 12.79it/s]\u001b[A\u001b[A\u001b[A\u001b[A\u001b[A\u001b[A\u001b[A"
     ]
    },
    {
     "name": "stdout",
     "output_type": "stream",
     "text": [
      "AFTER: graphicone_search 2020-02-18 14:36:07.824000 ['us', 'index', 's&p'] moderator tool passed VasiliiUshakov\n",
      "BEFORE: validated\n",
      "AFTER: graphicone_search 2020-02-18 14:36:07.909000 ['recession', 'gdp', 'politics', 'uk'] moderator tool passed VasiliiUshakov\n",
      "BEFORE: validated\n",
      "AFTER: graphicone_search 2020-02-18 14:36:07.994000 ['funds', 'index', 'etf'] moderator tool passed VasiliiUshakov\n",
      "BEFORE: validated\n"
     ]
    },
    {
     "name": "stderr",
     "output_type": "stream",
     "text": [
      "\n",
      "\n",
      "\n",
      "\n",
      "\n",
      "\n",
      "\n",
      " 99%|█████████▉| 2635/2650 [02:02<00:01, 12.49it/s]\u001b[A\u001b[A\u001b[A\u001b[A\u001b[A\u001b[A\u001b[A\n",
      "\n",
      "\n",
      "\n",
      "\n",
      "\n",
      "\n",
      "100%|█████████▉| 2637/2650 [02:03<00:01, 12.31it/s]\u001b[A\u001b[A\u001b[A\u001b[A\u001b[A\u001b[A\u001b[A"
     ]
    },
    {
     "name": "stdout",
     "output_type": "stream",
     "text": [
      "AFTER: graphicone_search 2020-02-18 14:36:08.077000 ['financials', 'medicine', 'consumer products', 'real estate', 'venture', 'softbank', 'health', 'transportation', 'unicorns', 'information technology', 'startups', 'consumer', 'logistics', 'fintech', 'technology'] moderator tool passed VasiliiUshakov\n",
      "BEFORE: validated\n",
      "AFTER: graphicone_search 2020-02-18 14:36:08.162000 ['consumer products', 'trade', 'us', 'global', 'consumer', 'retail'] moderator tool passed VasiliiUshakov\n",
      "BEFORE: validated\n",
      "AFTER: graphicone_search 2020-02-18 14:36:08.245000 ['fuel', 'oil', 'commodities', 'trade', 'energy'] moderator tool passed VasiliiUshakov\n",
      "BEFORE: validated\n"
     ]
    },
    {
     "name": "stderr",
     "output_type": "stream",
     "text": [
      "\n",
      "\n",
      "\n",
      "\n",
      "\n",
      "\n",
      "\n",
      "100%|█████████▉| 2639/2650 [02:03<00:00, 12.17it/s]\u001b[A\u001b[A\u001b[A\u001b[A\u001b[A\u001b[A\u001b[A"
     ]
    },
    {
     "name": "stdout",
     "output_type": "stream",
     "text": [
      "AFTER: graphicone_search 2020-02-18 14:36:08.330000 ['legal', 'us', 'china'] moderator tool passed VasiliiUshakov\n",
      "BEFORE: validated\n",
      "AFTER: graphicone_search 2020-02-18 14:36:08.414000 ['luxembourg', 'czech republic', 'labor', 'belgium', 'germany', 'romania', 'portugal', 'cyprus', 'austria', 'france', 'lithuania', 'greece', 'denmark', 'developed markets', 'poland', 'slovenia', 'eu', 'social', 'finland', 'bulgaria', 'sweden', 'hungary', 'slovakia', 'latvia', 'malta', 'spain', 'employment', 'uk', 'estonia', 'croatia', 'italy', 'netherlands', 'ireland'] moderator tool passed VasiliiUshakov\n",
      "BEFORE: validated\n",
      "AFTER: graphicone_search 2020-02-18 14:36:08.499000 ['commodities', 'soybean', 'us', 'brazil', 'agriculture', 'retail'] moderator tool passed VasiliiUshakov\n",
      "BEFORE: validated\n"
     ]
    },
    {
     "name": "stderr",
     "output_type": "stream",
     "text": [
      "\n",
      "\n",
      "\n",
      "\n",
      "\n",
      "\n",
      "\n",
      "100%|█████████▉| 2641/2650 [02:03<00:00, 12.07it/s]\u001b[A\u001b[A\u001b[A\u001b[A\u001b[A\u001b[A\u001b[A\n",
      "\n",
      "\n",
      "\n",
      "\n",
      "\n",
      "\n",
      "100%|█████████▉| 2645/2650 [02:03<00:00, 14.16it/s]\u001b[A\u001b[A\u001b[A\u001b[A\u001b[A\u001b[A\u001b[A"
     ]
    },
    {
     "name": "stdout",
     "output_type": "stream",
     "text": [
      "AFTER: graphicone_search 2020-02-18 14:36:08.583000 ['vehicles', 'oil', 'commodities'] moderator tool passed VasiliiUshakov\n",
      "BEFORE: validated\n",
      "AFTER: graphicone_search 2020-02-18 14:36:08.668000 ['legal', 'us', 'banking', 'loan', 'financials', 'credit'] moderator tool passed VasiliiUshakov\n",
      "BEFORE: validated\n",
      "AFTER: graphicone_search 2020-02-18 14:36:08.751000 ['germany', 'pmi', 'metals & mining', 'manufacturing', 'index'] moderator tool passed VasiliiUshakov\n",
      "BEFORE: validated\n"
     ]
    },
    {
     "name": "stderr",
     "output_type": "stream",
     "text": [
      "\n",
      "\n",
      "\n",
      "\n",
      "\n",
      "\n",
      "\n",
      "100%|█████████▉| 2648/2650 [02:03<00:00, 15.08it/s]\u001b[A\u001b[A\u001b[A\u001b[A\u001b[A\u001b[A\u001b[A\n",
      "\n",
      "\n",
      "\n",
      "\n",
      "\n",
      "\n",
      "100%|██████████| 2650/2650 [02:03<00:00, 21.39it/s]\u001b[A\u001b[A\u001b[A\u001b[A\u001b[A\u001b[A\u001b[A"
     ]
    },
    {
     "name": "stdout",
     "output_type": "stream",
     "text": [
      "AFTER: graphicone_search 2020-02-18 14:36:08.836000 ['japan', 'asia', 'germany', 'indonesia', 'france', 'brazil', 'canada', 'eu', 'india', 'china', 'global', 'iran', 'environment', 'norway', 'us', 'emissions', 'americas', 'north america', 'climate change', 'russia', 'ecology'] moderator tool passed VasiliiUshakov\n",
      "BEFORE: validated\n",
      "AFTER: graphicone_search 2020-02-18 14:36:08.920000 ['sentiment', 'bull market', 'china', 'trade', 'commodities', 'oil', 'us', 'hedge funds', 'energy', 'global', 'funds', 'saudi arabia'] moderator tool passed VasiliiUshakov\n",
      "BEFORE: validated\n",
      "AFTER: graphicone_search 2020-02-18 14:36:09.005000 ['politics'] moderator tool passed VasiliiUshakov\n"
     ]
    }
   ],
   "source": [
    "db = db_client[\"tweets_pipeline_v2\"].find({\"$or\": [\n",
    "                                                    {\"status\":\"validated\"}, \n",
    "                                                    ],\n",
    "                                               }).sort('validated_timestamp',pymongo.DESCENDING)\n",
    "\n",
    "counter = 0\n",
    "for i in tqdm(db, total = db.count()):\n",
    "    _id = str(i[\"_id\"])\n",
    "    \n",
    "    if _id in data:\n",
    "        counter += 1\n",
    "        if counter >= 400:\n",
    "            tagsList = dictImplementation(i['confirmed_after_validate'])\n",
    "            if len(tagsList) != 0:\n",
    "#                 print(_id)\n",
    "#                 updateAPP(_id, tagsList)\n",
    "#                 break\n",
    "#                 print()\n",
    "    else:\n",
    "        pass"
   ]
  },
  {
   "cell_type": "code",
   "execution_count": 60,
   "metadata": {},
   "outputs": [
    {
     "name": "stdout",
     "output_type": "stream",
     "text": [
      "1466\n",
      "1466\n"
     ]
    }
   ],
   "source": [
    "print(db_client[\"tweets_pipeline_v2\"].find({\"$or\": [{\"status\":\"graphicone_search\"},{\"status\":\"graphicone_feed\"}],\n",
    "                                     \"grafeed_approver\": \"VasiliiUshakov\", \"s3_url\": {\"$exists\": True}}).count())\n",
    "\n",
    "print(db_client[\"tweets_pipeline_v2\"].find({\"$or\": [{\"status\":\"graphicone_search\"},{\"status\":\"graphicone_feed\"}],\n",
    "                                     \"grafeed_approver\": \"VasiliiUshakov\"}).count())"
   ]
  },
  {
   "cell_type": "code",
   "execution_count": 47,
   "metadata": {},
   "outputs": [
    {
     "name": "stdout",
     "output_type": "stream",
     "text": [
      "{'_id': ObjectId('5dc4c2565dcf6274b6a44809'), 'tweet_text': \"The World's 20 Most Profitable Companies 💵\\nhttps://t.co/fY7YXoAixd via @VisualCap #money #business #economy #wealth https://t.co/GPqtI7LVLY\", 'hashtags': ['money', 'business', 'economy', 'wealth'], 'tweet_timestamp': datetime.datetime(2019, 10, 27, 16, 2), 'username': 'tamaramccleary', 'user_id': 2307675307, 'user_counters': {'followers_count': 306374, 'friends_count': 215979, 'listed_count': 8590}, 'tweet_counters': {'retweet_count': 11, 'favorite_count': 11}, 'img_urls': 'http://pbs.twimg.com/media/EHz92SGVUAAXDDB.jpg', 'tweet_id': 1188486009236836358, 'downloaded': True, 'download_error': False, 'img_type': 'graphic', 'graph_type': 'other-chart', 'confirmed_after_validate': ['saudi aramco', 'apple', 'icbc', 'samsung', 'china construction bank', 'jpmorgan', 'alphabet', 'bank of america', 'shelll', 'shell', 'wells fargo', 'gazprom', 'facebook', 'intel', 'exxonmobil', 'at&t', 'citi', 'toyota'], 'status': 'graphicone_feed', 'validated_timestamp': datetime.datetime(2019, 11, 8, 16, 29, 25, 802000), 'validator_username': 'tagger5', 'grafeed_approver': 'share10', 'grafeed_confirmed': ['intel', 'citigroup', 'apple', 'bank of america', 'wells fargo', 'saudi aramco', 'at&t', 'toyota', 'alphabet', 'icbc', 'china construction bank', 'samsung', 'shell', 'exxon', 'jpmorgan', 'gazprom', 'facebook'], 'grafeed_industries': ['Energy sources', 'Cars clothes and other staff', 'Banks insurance and finance', 'Technology as you know it', 'Networks and communications'], 'grafeed_shifts': ['Connected world', 'Disruptive business models', 'Virtual consumption', 'Data owners', 'Growing threats', 'Digital commerce', 'Industry 4.0', 'Clean energy', 'Demographic challenges', 'Smart mobility'], 's3_url': 'https://tv-ml-pipeline.s3.us-east-2.amazonaws.com/graphics/EHz92SGVUAAXDDB.jpg', 'in_app': 'feed', 'imagehash': 'fffff301059dd9ff', 'dhash': '4e44874b2d2933d3', 'phash': 'aae5d51a3369c634', 'grafeed_confirmed_before': ['gazprom', 'alphabet', 'china construction bank', 'icbc', 'samsung', 'saudi aramco', 'intel', 'citigroup', 'at&t', 'toyota', 'facebook', 'shell', 'wells fargo', 'apple', 'exxon', 'bank of america', 'jpmorgan']}\n",
      "\n",
      "{'_id': ObjectId('5dc4e03c5dcf6274b6a450b3'), 'tweet_text': 'Indian NBFCs Show Mixed Resilience to Testing Conditions https://t.co/DZ0u5hpGxY https://t.co/bGmbBOYRyx', 'hashtags': [], 'tweet_timestamp': datetime.datetime(2019, 10, 4, 5, 5, 4), 'username': 'fitchratings', 'user_id': 60024268, 'user_counters': {'followers_count': 124996, 'friends_count': 3701, 'listed_count': 1340}, 'tweet_counters': {'retweet_count': 0, 'favorite_count': 2}, 'img_urls': 'http://pbs.twimg.com/media/EGAmzb4XoAAxH6D.png', 'tweet_id': 1179985768699383808, 'downloaded': True, 'download_error': False, 'img_type': 'graphic', 'graph_type': 'column-vertical', 'confirmed_after_validate': ['finance', 'assets'], 'status': 'graphicone_feed', 'validated_timestamp': datetime.datetime(2019, 11, 8, 14, 24, 31, 852000), 'validator_username': 'share10', 'grafeed_approver': 'share10', 'grafeed_confirmed': ['financials'], 'grafeed_industries': ['Banks insurance and finance'], 'grafeed_shifts': ['Growing threats'], 's3_url': 'https://tv-ml-pipeline.s3.us-east-2.amazonaws.com/graphics/EGAmzb4XoAAxH6D.png', 'in_app': 'feed', 'imagehash': 'e7fffefc800080ff', 'dhash': '0e4c54ac253161c0', 'phash': 'fe84a92fe0161d6c', 'grafeed_confirmed_before': ['financials']}\n",
      "\n",
      "{'_id': ObjectId('5dc4e40ac7312c96771c750f'), 'tweet_text': 'September delivery market share update. \\n\\nListen to the customer. https://t.co/wdh722tDC4', 'hashtags': [], 'tweet_timestamp': datetime.datetime(2019, 10, 28, 23, 29, 9), 'username': '_seandavid', 'user_id': 16841829, 'user_counters': {'followers_count': 11527, 'friends_count': 1177, 'listed_count': 299}, 'tweet_counters': {'retweet_count': 0, 'favorite_count': 3}, 'img_urls': 'http://pbs.twimg.com/media/EIAJqW8XUAcfwkG.jpg', 'tweet_id': 1188960927984574464, 'downloaded': True, 'download_error': False, 'img_type': 'graphic', 'graph_type': 'line-area', 'confirmed_after_validate': ['uber eats', 'grubhub', 'doordash', 'food delivery'], 'status': 'graphicone_feed', 'validated_timestamp': datetime.datetime(2019, 11, 8, 15, 37, 54, 836000), 'validator_username': 'share10', 'grafeed_approver': 'share10', 'grafeed_confirmed': ['doordash', 'delivery', 'grubhub', 'uber eats'], 'grafeed_industries': ['Cars clothes and other staff', 'Eat and drink'], 'grafeed_shifts': ['Disruptive business models', 'Digital commerce', 'Smart mobility'], 's3_url': 'https://tv-ml-pipeline.s3.us-east-2.amazonaws.com/graphics/EIAJqW8XUAcfwkG.jpg', 'in_app': 'feed', 'imagehash': '1ffdf9f1c38183ff', 'dhash': '9909b3c70f3727b0', 'phash': 'edc89a3fc00d3d91', 'grafeed_confirmed_before': ['delivery', 'grubhub', 'uber eats']}\n",
      "\n",
      "{'_id': ObjectId('5dc4e411c7312c96771c751b'), 'tweet_text': 'At current valuation: $NFLX\\n\\nYou are paying 7.3x the revenue each subscriber brings in. https://t.co/x3bAmS7kon', 'hashtags': [], 'tweet_timestamp': datetime.datetime(2019, 10, 16, 22, 59, 24), 'username': '_seandavid', 'user_id': 16841829, 'user_counters': {'followers_count': 11527, 'friends_count': 1177, 'listed_count': 299}, 'tweet_counters': {'retweet_count': 1, 'favorite_count': 8}, 'img_urls': 'http://pbs.twimg.com/media/EHCPxUdW4AESHXm.jpg', 'tweet_id': 1184604785653272577, 'downloaded': True, 'download_error': False, 'img_type': 'graphic', 'graph_type': 'column-vertical', 'confirmed_after_validate': ['netflix', 'value', 'revenue'], 'status': 'graphicone_feed', 'validated_timestamp': datetime.datetime(2019, 11, 8, 16, 40, 31, 510000), 'validator_username': 'tagger5', 'grafeed_approver': 'share10', 'grafeed_confirmed': ['netflix'], 'grafeed_industries': ['Networks and communications', 'Raw materials', 'Banks insurance and finance', 'Technology as you know it'], 'grafeed_shifts': [], 's3_url': 'https://tv-ml-pipeline.s3.us-east-2.amazonaws.com/graphics/EHCPxUdW4AESHXm.jpg', 'in_app': 'feed', 'imagehash': 'ffff3f07000000ff', 'dhash': '5b83787f455d45ee', 'phash': 'bf91c06ab13f87c0', 'grafeed_confirmed_before': ['netflix']}\n",
      "\n",
      "{'_id': ObjectId('5dc50faac7312c96771c80c8'), 'tweet_text': 'However, it is also the weakest (excluding the short expansion in the early 1980s) averaging only 2% GDP growth. https://t.co/yfReTZBfvs', 'hashtags': [], 'tweet_timestamp': datetime.datetime(2019, 10, 5, 12, 57, 55), 'username': 'tihobrkan', 'user_id': 3307881361, 'user_counters': {'followers_count': 16627, 'friends_count': 71, 'listed_count': 560}, 'tweet_counters': {'retweet_count': 4, 'favorite_count': 7}, 'img_urls': 'http://pbs.twimg.com/media/EGHcnMBU4AAWpz5.jpg', 'tweet_id': 1180467150818963456, 'downloaded': True, 'download_error': False, 'img_type': 'graphic', 'graph_type': 'column-vertical', 'confirmed_after_validate': ['us', 'gdp'], 'status': 'graphicone_feed', 'validated_timestamp': datetime.datetime(2019, 11, 10, 14, 43, 47, 522000), 'validator_username': 'share10', 'grafeed_approver': 'share10', 'grafeed_confirmed': ['gdp', 'us'], 'grafeed_industries': [], 'grafeed_shifts': [], 's3_url': 'https://tv-ml-pipeline.s3.us-east-2.amazonaws.com/graphics/EGHcnMBU4AAWpz5.jpg', 'in_app': 'feed', 'imagehash': '1fff8b0080ffef67', 'dhash': '36b01b5b61254bcf', 'phash': 'bb3984c43f3ba5a0', 'grafeed_confirmed_before': ['gdp', 'us']}\n",
      "\n",
      "{'_id': ObjectId('5dc50fb7c7312c96771c80da'), 'tweet_text': 'Just past an annual trillie now... https://t.co/D92mSMA23K', 'hashtags': [], 'tweet_timestamp': datetime.datetime(2019, 9, 14, 7, 35, 6), 'username': 'tihobrkan', 'user_id': 3307881361, 'user_counters': {'followers_count': 16627, 'friends_count': 71, 'listed_count': 560}, 'tweet_counters': {'retweet_count': 0, 'favorite_count': 1}, 'img_urls': 'http://pbs.twimg.com/media/EEaJVwoW4AE0QOR.jpg', 'tweet_id': 1172775767488499712, 'downloaded': True, 'download_error': False, 'img_type': 'graphic', 'graph_type': 'column-vertical', 'confirmed_after_validate': ['us', 'deficit'], 'status': 'graphicone_feed', 'validated_timestamp': datetime.datetime(2019, 11, 10, 14, 44, 35, 498000), 'validator_username': 'share10', 'grafeed_approver': 'share10', 'grafeed_confirmed': ['deficit', 'us'], 'grafeed_industries': [], 'grafeed_shifts': [], 's3_url': 'https://tv-ml-pipeline.s3.us-east-2.amazonaws.com/graphics/EEaJVwoW4AE0QOR.jpg', 'in_app': 'feed', 'imagehash': '3fff01001c3fffff', 'dhash': '6d5c4d513160d375', 'phash': '8a63f59e3a6186d8', 'grafeed_confirmed_before': ['deficit', 'us']}\n",
      "\n",
      "{'_id': ObjectId('5dc510a8c7312c96771c811f'), 'tweet_text': 'Whenever the majority says something is the #NewNormal you know what that means... https://t.co/HoEQbOR63y', 'hashtags': ['NewNormal'], 'tweet_timestamp': datetime.datetime(2019, 10, 15, 5, 25, 33), 'username': 'callum_thomas', 'user_id': 37065910, 'user_counters': {'followers_count': 35025, 'friends_count': 2204, 'listed_count': 1219}, 'tweet_counters': {'retweet_count': 17, 'favorite_count': 34}, 'img_urls': 'http://pbs.twimg.com/media/EG5U-MBVAAAwdgC.jpg', 'tweet_id': 1183977188111990784, 'downloaded': True, 'download_error': False, 'img_type': 'graphic', 'graph_type': 'bar-horizontal', 'confirmed_after_validate': ['trade war', 'us', 'china'], 'status': 'graphicone_feed', 'validated_timestamp': datetime.datetime(2019, 11, 10, 14, 49, 16, 857000), 'validator_username': 'share10', 'grafeed_approver': 'share10', 'grafeed_confirmed': ['china', 'trade war', 'us'], 'grafeed_industries': [], 'grafeed_shifts': ['Growing threats'], 's3_url': 'https://tv-ml-pipeline.s3.us-east-2.amazonaws.com/graphics/EG5U-MBVAAAwdgC.jpg', 'in_app': 'feed', 'imagehash': '078081e7e7e7ffff', 'dhash': 'cd27270c0d8d0132', 'phash': 'e66e099295b5b529', 'grafeed_confirmed_before': ['trade war', 'china', 'us']}\n",
      "\n",
      "{'_id': ObjectId('5dc517a35dcf6274b6a462b7'), 'tweet_text': 'A Brief History of Jewelry Through the Ages\\n(See full infographic: https://t.co/ffBKTPUxuo) https://t.co/Iu8KFXamOK', 'hashtags': [], 'tweet_timestamp': datetime.datetime(2019, 10, 9, 0, 0), 'username': 'visualcap', 'user_id': 352515718, 'user_counters': {'followers_count': 73218, 'friends_count': 3556, 'listed_count': 1878}, 'tweet_counters': {'retweet_count': 5, 'favorite_count': 11}, 'img_urls': 'http://pbs.twimg.com/media/EGZLahhVUAA6vHL.jpg', 'tweet_id': 1181720934467739648, 'downloaded': True, 'download_error': False, 'img_type': 'graphic', 'graph_type': 'pie-donut', 'confirmed_after_validate': ['jewelry', 'fashion', 'luxury'], 'status': 'graphicone_feed', 'validated_timestamp': datetime.datetime(2019, 11, 10, 14, 54, 29, 295000), 'validator_username': 'share10', 'grafeed_approver': 'share10', 'grafeed_confirmed': ['luxury', 'fashion', 'jewelry'], 'grafeed_industries': ['Cars clothes and other staff'], 'grafeed_shifts': ['Demographic challenges', 'Digital commerce'], 's3_url': 'https://tv-ml-pipeline.s3.us-east-2.amazonaws.com/graphics/EGZLahhVUAA6vHL.jpg', 'in_app': 'feed', 'imagehash': 'e781998d8fdbc3e7', 'dhash': '4d4d73393333170b', 'phash': 'bf1ee3e092199c61', 'grafeed_confirmed_before': ['fashion', 'jewelry', 'luxury']}\n",
      "\n",
      "{'_id': ObjectId('5dc51e5a9013cfbaf60912b7'), 'tweet_text': 'RT @valuewalk: IPO Lessons For Public Market Investors https://t.co/pyz1dzOgxk #BUSINESS #IPOLessons $$ $$ https://t.co/1gfVKlk3Fc', 'hashtags': ['BUSINESS', 'IPOLessons'], 'tweet_timestamp': datetime.datetime(2019, 10, 19, 18, 6, 32), 'username': 'jacobwolinsky', 'user_id': 560294989, 'user_counters': {'followers_count': 5767, 'friends_count': 560, 'listed_count': 289}, 'tweet_counters': {'retweet_count': 1, 'favorite_count': 0}, 'img_urls': 'http://pbs.twimg.com/media/EHQpZ9sUcAAWxxv.jpg', 'tweet_id': 1185618246298243072, 'downloaded': True, 'download_error': False, 'img_type': 'graphic', 'graph_type': 'line-area', 'confirmed_after_validate': ['Ipo', 's&p', 'Index'], 'status': 'graphicone_feed', 'validated_timestamp': datetime.datetime(2019, 11, 10, 14, 57, 8, 607000), 'validator_username': 'share10', 'grafeed_approver': 'share10', 'grafeed_confirmed': ['s&p', 'index', 'ipo'], 'grafeed_industries': [], 'grafeed_shifts': [], 's3_url': 'https://tv-ml-pipeline.s3.us-east-2.amazonaws.com/graphics/EHQpZ9sUcAAWxxv.jpg', 'in_app': 'feed', 'imagehash': 'fffb84a81170f0ff', 'dhash': '86932d52e1c5254d', 'phash': 'eab1a14e9576323a', 'grafeed_confirmed_before': ['s&p', 'index', 'ipo']}\n",
      "\n",
      "{'_id': ObjectId('5dc5226dc7312c96771c8767'), 'tweet_text': 'Coming to a CMBS servicer report near you:\\n\\nCredit stress in Permian area hotels\\nMF soon to follow\\n\\nh/t @liamdenning https://t.co/6CtBLQw77s', 'hashtags': [], 'tweet_timestamp': datetime.datetime(2019, 9, 26, 15, 24, 12), 'username': 'donutshorts', 'user_id': 2803822165, 'user_counters': {'followers_count': 20349, 'friends_count': 455, 'listed_count': 537}, 'tweet_counters': {'retweet_count': 1, 'favorite_count': 5}, 'img_urls': 'http://pbs.twimg.com/media/EFZnpKkXYAYZd-5.png', 'tweet_id': 1177242473027891207, 'downloaded': True, 'download_error': False, 'img_type': 'graphic', 'graph_type': 'line-area', 'confirmed_after_validate': ['travel'], 'status': 'graphicone_feed', 'validated_timestamp': datetime.datetime(2019, 11, 10, 15, 0, 44, 484000), 'validator_username': 'share10', 'grafeed_approver': 'share10', 'grafeed_confirmed': ['travel'], 'grafeed_industries': ['Cars clothes and other staff'], 'grafeed_shifts': [], 's3_url': 'https://tv-ml-pipeline.s3.us-east-2.amazonaws.com/graphics/EFZnpKkXYAYZd-5.png', 'in_app': 'feed', 'imagehash': 'fcf00008d620e0e6', 'dhash': '9c84b212a4c68884', 'phash': 'd0f8f2e6b01925f4', 'grafeed_confirmed_before': ['travel']}\n",
      "\n",
      "{'_id': ObjectId('5dc528b7c7312c96771c8a20'), 'tweet_text': '#Hongkong economy: This is how terrible sentiment looks according to our sentiment analysis @NatixisResearch https://t.co/RaJABssWMQ', 'hashtags': ['Hongkong'], 'tweet_timestamp': datetime.datetime(2019, 10, 8, 22, 15, 52), 'username': 'aligarciaherrer', 'user_id': 137255482, 'user_counters': {'followers_count': 7121, 'friends_count': 1658, 'listed_count': 374}, 'tweet_counters': {'retweet_count': 7, 'favorite_count': 12}, 'img_urls': 'http://pbs.twimg.com/media/EGY5FcKUUAAtCty.jpg', 'tweet_id': 1181694726375763969, 'downloaded': True, 'download_error': False, 'img_type': 'graphic', 'graph_type': 'line-area', 'confirmed_after_validate': ['hong kong'], 'status': 'graphicone_feed', 'validated_timestamp': datetime.datetime(2019, 11, 10, 15, 3, 16, 638000), 'validator_username': 'share10', 'grafeed_approver': 'share10', 'grafeed_confirmed': ['hong kong'], 'grafeed_industries': [], 'grafeed_shifts': [], 's3_url': 'https://tv-ml-pipeline.s3.us-east-2.amazonaws.com/graphics/EGY5FcKUUAAtCty.jpg', 'in_app': 'feed', 'imagehash': 'ffc1fe8180feab81', 'dhash': '132b481b25c04a37', 'phash': 'ffe0a5c02e91926e', 'grafeed_confirmed_before': ['hong kong']}\n",
      "\n",
      "{'_id': ObjectId('5dd12abfedee5484619cc1b4'), 'tweet_text': 'https://t.co/L0tl1DRb4I', 'hashtags': [], 'tweet_timestamp': datetime.datetime(2019, 10, 24, 15, 53, 29), 'username': 'ronloewen', 'user_id': 96794524, 'user_counters': {'followers_count': 7789, 'friends_count': 6862, 'listed_count': 135}, 'tweet_counters': {'retweet_count': 0, 'favorite_count': 0}, 'img_urls': 'http://pbs.twimg.com/media/EHp7AUbU8AA3kbc.jpg', 'tweet_id': 1187396704099659780, 'downloaded': True, 'download_error': False, 'img_type': 'graphic', 's3_url': 'https://tv-ml-pipeline.s3.us-east-2.amazonaws.com/graphics/EHp7AUbU8AA3kbc.jpg', 'extracted_text': 'Boeing Sees 51% Year-On-Year Drop In Earnings Boeings net earnings/losses by quarter (million U.S. dollars) +$4,673 BOEING +$3,424 +$3,320 +$2,363 +$2,279 +$2,196 +$1,749 +$1,810 +$1,631 +$1,579 +$1,219 +$1,167 -$234 -$793 -$2,942 Q2 Q1 Q3 Q4 Q1 Q2 Q3 Q4 Q1 Q2 Q3 Q4 Q1 Q2 Q3 2016 2017 2018 2019 statista @StatistaCharts Source: Boeing', 'graph_type': 'column-vertical', 'confirmed_after_validate': ['boeing', 'earnings'], 'status': 'graphicone_feed', 'validated_timestamp': datetime.datetime(2019, 11, 18, 5, 43, 9, 15000), 'validator_username': 'tagger5', 'grafeed_approver': 'bond', 'grafeed_confirmed': ['boeing', 'airbus', 'aviation'], 'grafeed_industries': ['Machinery and construction'], 'grafeed_shifts': ['Industry 4.0'], 'in_app': 'feed', 'imagehash': '03b7a10104fcfffe', 'confirmed': ['index'], 'rejected': [], 'bert_tags': ['index', 'boeing'], 'dhash': '5b646f0a15855dd4', 'phash': 'ee2d91da392dc2c2', 'grafeed_confirmed_before': ['boeing', 'aviation', 'airbus']}\n",
      "\n",
      "{'_id': ObjectId('5dd12acdedee5484619cc1c5'), 'tweet_text': 'Cobalt price boost as electric vehicle loadings surge. https://t.co/0qFypEMhMc', 'hashtags': [], 'tweet_timestamp': datetime.datetime(2019, 9, 23, 13, 12, 42), 'username': 'ronloewen', 'user_id': 96794524, 'user_counters': {'followers_count': 7789, 'friends_count': 6862, 'listed_count': 135}, 'tweet_counters': {'retweet_count': 3, 'favorite_count': 1}, 'img_urls': 'http://pbs.twimg.com/media/EFJs7AxU4AM0QfV.jpg', 'tweet_id': 1176122218528378882, 'downloaded': True, 'download_error': False, 'img_type': 'graphic', 's3_url': 'https://tv-ml-pipeline.s3.us-east-2.amazonaws.com/graphics/EFJs7AxU4AM0QfV.jpg', 'extracted_text': 'Cobalt prices have started to turn $100,000 CoSO4 (Min 20.5 % ) - EXW China -Co(OH)2 (Min 20 %) - CIF Asia $90,000 Co Metal (Min 99.8% ) - EXW Europe $80,000 $70,000 $60,000 BENCHMARK MINERAL INTELNGENCE $50,000 $40,000 $30,000 $20,000 $10,000 $0 Jan 2018 Mar 2018 May 2018 Jul 2018 Sep 2018 Nov 2018 Jan 2019 Mar 2019 May 2019 Jul 2019 Feb 2018 Apr 2018 Jun 2018 Aug 2018 Oct 2018 Dec 2018 Feb 2019 Apr 2019 Jun 2019 Aug 2019 USD/Tonne', 'graph_type': 'line-area', 'confirmed_after_validate': ['cobalt', 'price', 'metals & mining'], 'status': 'graphicone_feed', 'validated_timestamp': datetime.datetime(2019, 11, 18, 13, 36, 16, 128000), 'validator_username': 'tagger5', 'grafeed_approver': 'share10', 'grafeed_confirmed': ['commodities', 'metals & mining', 'cobalt'], 'grafeed_industries': ['Raw materials', 'Energy sources'], 'grafeed_shifts': ['Clean energy', 'Smart mobility', 'Industry 4.0'], 'imagehash': '809dfdff77ffff80', 'confirmed': ['ev'], 'rejected': [], 'bert_tags': ['ev', 'cobalt', 'commodities', 'eu', 'metals & mining'], 'dhash': '3331d9cec7f14121', 'phash': 'ea3a7e2524b5d8c2', 'in_app': 'feed', 'upload_timestamp': datetime.datetime(2020, 2, 5, 15, 59, 27, 320000), 'grafeed_confirmed_before': ['metals & mining', 'cobalt', 'commodities']}\n",
      "\n",
      "{'_id': ObjectId('5dd12aceedee5484619cc1c6'), 'tweet_text': 'https://t.co/rWZ1Y7AbHR', 'hashtags': [], 'tweet_timestamp': datetime.datetime(2019, 9, 20, 15, 18, 30), 'username': 'ronloewen', 'user_id': 96794524, 'user_counters': {'followers_count': 7789, 'friends_count': 6862, 'listed_count': 135}, 'tweet_counters': {'retweet_count': 0, 'favorite_count': 0}, 'img_urls': 'http://pbs.twimg.com/media/EE6s8CGUcAAnDpd.jpg', 'tweet_id': 1175066713223647232, 'downloaded': True, 'download_error': False, 'img_type': 'graphic', 's3_url': 'https://tv-ml-pipeline.s3.us-east-2.amazonaws.com/graphics/EE6s8CGUcAAnDpd.jpg', 'extracted_text': 'The Oceans Are Getting Warmer Annual divergence of global ocean temperature from 20th century average 1.0°C +0.66°C 0.8°C 0.6°C 0.4°C 0.2°C 0°C -0.2°C 0.04°C 0.4°C 0.6°C 1880 1890 1900 1910 1920 1930 1940 1950 1960 1970 1980 1990 2000 2010 18 CC Ocean surface temperatures Source: NOAA National Centers for Environmental Information (NCEI) statista @StatistaCharts', 'graph_type': 'line-area', 'confirmed_after_validate': ['environment', 'climate change'], 'status': 'graphicone_feed', 'validated_timestamp': datetime.datetime(2019, 11, 18, 5, 43, 47, 912000), 'validator_username': 'tagger5', 'grafeed_approver': 'share10', 'grafeed_confirmed': ['environment', 'climate change'], 'grafeed_industries': [], 'grafeed_shifts': ['Clean energy', 'Growing threats', 'Smart mobility'], 'in_app': 'feed', 'imagehash': '07fe9ebd231fff1c', 'confirmed': ['climate change', 'environment', 'us'], 'rejected': [], 'bert_tags': ['environment', 'climate change', 'us'], 'dhash': '5fc4242946fca3f4', 'phash': '9e3e502163aa1e7d', 'grafeed_confirmed_before': ['climate change', 'environment']}\n",
      "\n",
      "{'_id': ObjectId('5dd12ad0edee5484619cc1c9'), 'tweet_text': 'Why WeWork doesn’t work yet. https://t.co/D9EUlsNLTr', 'hashtags': [], 'tweet_timestamp': datetime.datetime(2019, 9, 18, 18, 27, 38), 'username': 'ronloewen', 'user_id': 96794524, 'user_counters': {'followers_count': 7789, 'friends_count': 6862, 'listed_count': 135}, 'tweet_counters': {'retweet_count': 0, 'favorite_count': 0}, 'img_urls': 'http://pbs.twimg.com/media/EExFDbmVAAAJLvD.png', 'tweet_id': 1174389531677560832, 'downloaded': True, 'download_error': False, 'img_type': 'graphic', 's3_url': 'https://tv-ml-pipeline.s3.us-east-2.amazonaws.com/graphics/EExFDbmVAAAJLvD.png', 'extracted_text': \"The office WeWork Shared workspace providers 2018, $bn Net loss $bn Workstations Free cashflow $bn Revenue '000 $bn WeWork WG 600 2.0 0 27 Total assets* 450 -0.5 -0.5 1.5 11.1 1.8 Revenue 300 1.0 -1.0 -1.0 3.4 Net profit/ -1.9 150 0.5 -1.5 -1.5 loss 0.1 Market 0 0 -2.0 -2.0 47+ capitalisationt 4.5 2016 2016 18 2016 18 2016 18 18 Sources: Bloomberg; company reports *End June 2019 tLatest Estimate The Economist\", 'graph_type': 'other-chart', 'confirmed_after_validate': ['wework', 'iwg', 'revenue', 'capitalization'], 'status': 'graphicone_feed', 'validated_timestamp': datetime.datetime(2019, 11, 19, 11, 52, 54, 976000), 'validator_username': 'tagger5', 'grafeed_approver': 'share10', 'grafeed_confirmed': ['iwg', 'wework'], 'grafeed_industries': [], 'grafeed_shifts': ['Demographic challenges', 'Disruptive business models'], 'in_app': 'feed', 'imagehash': '7ffffe18380207ff', 'confirmed': ['markets'], 'rejected': [], 'bert_tags': ['wework', 'markets'], 'dhash': 'f1dc6a626a6474e1', 'phash': '8fc1a036cf5ee0a3', 'grafeed_confirmed_before': ['wework', 'iwg']}\n",
      "\n",
      "{'_id': ObjectId('5dd12d00edee5484619cc25e'), 'tweet_text': 'Technology &amp; Materials: Do You Take the Over or the Under? https://t.co/Hc3apOFb1M https://t.co/tOuOhvE704', 'hashtags': [], 'tweet_timestamp': datetime.datetime(2019, 11, 8, 18, 49, 58), 'username': 'klcapital', 'user_id': 1935513416, 'user_counters': {'followers_count': 15565, 'friends_count': 1121, 'listed_count': 602}, 'tweet_counters': {'retweet_count': 0, 'favorite_count': 1}, 'img_urls': 'http://pbs.twimg.com/media/EI3zP6BUUAARIJq.jpg', 'tweet_id': 1192876936600510464, 'downloaded': True, 'download_error': False, 'img_type': 'graphic', 's3_url': 'https://tv-ml-pipeline.s3.us-east-2.amazonaws.com/graphics/EI3zP6BUUAARIJq.jpg', 'extracted_text': \"Median Price to Book Value Ratio DM AMERICAS MID/LARGE CAP INFORMATION TECHNOLOGY STOCKS 10 8.21 5 3 2 1 '00 '09 '18 '01 '02 '03 '05 '06 '11 12 '17 '19 '04 '07 '08 '10 '13 14 '15 '16 Knowledge Leaders Capital LLC Ratio 20\", 'graph_type': 'line-area', 'bert_tags': ['index', 'americas', 's&p', 'llc'], 'bert_ts': datetime.datetime(2019, 11, 17, 14, 31, 32, 473000), 'status': 'graphicone_feed', 'confirmed_after_validate': ['value', 'developed markets', 'americas', 'large caps', 'information technology', 'stocks'], 'validated_timestamp': datetime.datetime(2019, 11, 18, 14, 58, 16, 231000), 'validator_username': 'tagger5', 'grafeed_approver': 'share10', 'grafeed_confirmed': ['information technology', 'developed markets', 'large caps', 'americas'], 'grafeed_industries': ['Technology as you know it'], 'grafeed_shifts': ['Connected world', 'Data owners', 'Disruptive business models', 'Digital commerce', 'Growing threats', 'Healthcare transformation', 'Smart mobility', 'Virtual consumption', 'Industry 4.0'], 'in_app': 'feed', 'imagehash': '03ff7f7e0883ff8c', 'confirmed': ['index', 's&p'], 'rejected': [], 'dhash': 'b6c2c2c0716e8a28', 'phash': '97083c3f1c953f19', 'grafeed_confirmed_before': ['large caps', 'information technology', 'americas', 'developed markets']}\n",
      "\n",
      "{'_id': ObjectId('5dd14c13e008481920c2947e'), 'tweet_text': 'Mario Draghi marks last ECB policy meeting by saying ‘never give up’ \\nhttps://t.co/dPHVba94Jj https://t.co/Zu5ea0Oj4U', 'hashtags': [], 'tweet_timestamp': datetime.datetime(2019, 10, 24, 17, 35, 29), 'username': 'ftdata', 'user_id': 182828968, 'user_counters': {'followers_count': 16541, 'friends_count': 232, 'listed_count': 955}, 'tweet_counters': {'retweet_count': 0, 'favorite_count': 2}, 'img_urls': 'http://pbs.twimg.com/media/EHqSWvTX4AIy4yH.jpg', 'tweet_id': 1187422373298999303, 'downloaded': True, 'download_error': False, 'img_type': 'graphic', 's3_url': 'https://tv-ml-pipeline.s3.us-east-2.amazonaws.com/graphics/EHqSWvTX4AIy4yH.jpg', 'extracted_text': 'What ECB presidents talk about Mentions of selected countries in ECB policy speeches Mentioned 27 times European debt crisis 2008 crisis GREECE 20 1998 2008 2010 2016 2000 2002 2004 2006 2012 2014 2018 SPAIN 20 O 1998 2000 2002 2004 2006 2008 2010 2012 2014 2016 2018 ITALY 20 П 1998 2000 2002 2004 2006 2008 2010 2012 2014 2016 2018 Brexit referendum UNITED KINGDOM 20 1998 2000 2002 2004 2006 2008 2010 2012 2014 2016 2018 GERMANY 0 2008 2010 2012 2016 1998 2000 2002 2004 2006 2014 2018 JAPAN 20 0 1998 2006 2000 2002 2004 2008 2010 2012 2014 2016 2018 CHINA 20 П 1998 2000 2002 2004 2006 2008 2010 2012 2014 2016 2018 UNITED STATES 20 1998 2000 2002 2004 2006 2008 2010 2012 2014 2016 2018 Source: ECB Trichet Draghi Duisenberg OFT', 'graph_type': 'line-area', 'confirmed_after_validate': ['ecb', 'politics', 'greece', 'spain', 'italy', 'uk', 'germany', 'japan', 'china', 'us', 'debt', 'crisis', 'europe'], 'status': 'graphicone_feed', 'validated_timestamp': datetime.datetime(2019, 11, 18, 5, 53, 2, 603000), 'validator_username': 'tagger5', 'grafeed_approver': 'share10', 'grafeed_confirmed': ['greece', 'politics', 'china', 'germany', 'uk', 'spain', 'eu', 'japan', 'ecb', 'us', 'debt', 'crisis', 'italy'], 'grafeed_industries': [], 'grafeed_shifts': [], 'in_app': 'feed', 'imagehash': '0fe727353737b701', 'confirmed': ['debt', 'finance', 'financial crisis'], 'rejected': [], 'bert_tags': ['politics', 'us', 'debt', 'italy', 'finance', 'financial crisis', 'ecb'], 'dhash': 'dc456d4565652c45', 'phash': 'a6131998199b1dbf', 'grafeed_confirmed_before': ['japan', 'eu', 'china', 'germany', 'greece', 'politics', 'uk', 'debt', 'us', 'spain', 'crisis', 'ecb', 'italy']}\n",
      "\n",
      "{'_id': ObjectId('5dd14c16e008481920c29482'), 'tweet_text': 'Facing wealthy rivals and rising debt, Netflix is beginning to look vulnerable https://t.co/b28ExHCEZc https://t.co/WlyJ4ZtMYG', 'hashtags': [], 'tweet_timestamp': datetime.datetime(2019, 9, 19, 7, 1, 34), 'username': 'ftdata', 'user_id': 182828968, 'user_counters': {'followers_count': 16541, 'friends_count': 232, 'listed_count': 955}, 'tweet_counters': {'retweet_count': 4, 'favorite_count': 7}, 'img_urls': 'http://pbs.twimg.com/ext_tw_video_thumb/1174579234041470976/pu/img/QtYQY8PLcXkUELwL.jpg', 'tweet_id': 1174579265045782528, 'downloaded': True, 'download_error': False, 'img_type': 'graphic', 's3_url': 'https://tv-ml-pipeline.s3.us-east-2.amazonaws.com/graphics/QtYQY8PLcXkUELwL.jpg', 'extracted_text': 'How much do you think Netflix is worth? to make your estimates, current data Drag SUBSCRIBER GROWTH How will the number of subscribers grow in the next 10 years? Cin millions) 400 2029 300 tEsTERTERIERTER1ELIL 2024 200 100 2020 2015 2025 Next Sources: Aswath Damodaran; Netflix; Yahoo Finance O FT', 'graph_type': 'line-area', 'confirmed_after_validate': ['netflix'], 'status': 'graphicone_feed', 'validated_timestamp': datetime.datetime(2019, 11, 18, 5, 53, 25, 711000), 'validator_username': 'tagger5', 'grafeed_approver': 'bond', 'grafeed_confirmed': ['netflix'], 'grafeed_industries': ['Networks and communications', 'Technology as you know it'], 'grafeed_shifts': ['Disruptive business models', 'Virtual consumption', 'Data owners'], 'in_app': 'feed', 'imagehash': 'f8fcfe0104000800', 'confirmed': ['debt'], 'rejected': [], 'bert_tags': ['debt', 'netflix'], 'dhash': '0970324d48043000', 'phash': 'dbdbdd7362202415', 'grafeed_confirmed_before': ['netflix']}\n",
      "\n",
      "{'_id': ObjectId('5dd14c1de008481920c2948a'), 'tweet_text': 'Player loans reshape European football’s transfer market https://t.co/QKINQCaa2P https://t.co/PeudOtbr2s', 'hashtags': [], 'tweet_timestamp': datetime.datetime(2019, 9, 3, 12, 1, 16), 'username': 'ftdata', 'user_id': 182828968, 'user_counters': {'followers_count': 16541, 'friends_count': 232, 'listed_count': 955}, 'tweet_counters': {'retweet_count': 2, 'favorite_count': 7}, 'img_urls': 'http://pbs.twimg.com/media/EDicxqpXkAEsOpZ.jpg', 'tweet_id': 1168856482529591296, 'downloaded': True, 'download_error': False, 'img_type': 'graphic', 's3_url': 'https://tv-ml-pipeline.s3.us-east-2.amazonaws.com/graphics/EDicxqpXkAEsOpZ.jpg', 'extracted_text': \"Multi-million euro loan fees are becoming more common as the number of loan moves for elite players increases €45m Mbappé to PSG Fees paid to secure loan deals to clubs in Europe's big five leagues (€m) Lo Celso to Spurs 15 Zapata to Atalanta Tévez to Man Utd James Barella to Inter to Bayern Destro to Roma 10 Renato Sanches Higuaín to Chelsea to Swansea Coutinho to Bayern Falcao to Man Utd Zlatan to Milan 5 Average loan fee 1992-93 95-96 00-01 05-06 10-11 15-16 19-20 Source: FT analysis of Transfermarkt O FT LO\", 'graph_type': 'bubble-scatter', 'confirmed_after_validate': ['europe', 'loan', 'deals'], 'status': 'graphicone_feed', 'validated_timestamp': datetime.datetime(2019, 11, 21, 16, 25, 31, 216000), 'validator_username': 'tagger5', 'grafeed_approver': 'share10', 'grafeed_confirmed': ['eu', 'sports', 'football', 'loan'], 'grafeed_industries': ['Banks, insurance and finance'], 'grafeed_shifts': [], 'in_app': 'feed', 'imagehash': '03f7fffdf9fd003f', 'confirmed': ['germany'], 'rejected': [], 'bert_tags': ['bayern', 'milan', 'germany', 'chelsea', 'eu', 'cities'], 'dhash': 'c6060d0322c101af', 'phash': 'ea95252b956a966a', 'grafeed_confirmed_before': ['football', 'sports']}\n",
      "\n",
      "{'_id': ObjectId('5dd14c21e008481920c2948e'), 'tweet_text': 'Brexit weighs on Germany’s export-led manufacturers https://t.co/IFPPIeiu1r https://t.co/PeiAnD2RHO', 'hashtags': [], 'tweet_timestamp': datetime.datetime(2019, 9, 3, 6, 1, 2), 'username': 'ftdata', 'user_id': 182828968, 'user_counters': {'followers_count': 16541, 'friends_count': 232, 'listed_count': 955}, 'tweet_counters': {'retweet_count': 0, 'favorite_count': 1}, 'img_urls': 'http://pbs.twimg.com/media/EDhKU5JWwAEfxtc.jpg', 'tweet_id': 1168765827992182784, 'downloaded': True, 'download_error': False, 'img_type': 'graphic', 's3_url': 'https://tv-ml-pipeline.s3.us-east-2.amazonaws.com/graphics/EDhKU5JWwAEfxtc.jpg', 'extracted_text': 'German exports to the UK have contracted Annual % change in total value of exports (rolling three-month average) Netherlands -US China UK France 15 10 5 -5 -10 Jan 18 Jul 18 Jan 19 Aug 17 Apr 18 Oct 18 Apr 19 Sources: Refinitiv, Destatis O FT', 'graph_type': 'line-area', 'bert_tags': ['export', 'germany', 'politics', 'us', 'china', 'uk', 'france', 'netherlands', 'trade'], 'bert_ts': datetime.datetime(2019, 11, 17, 16, 35, 3, 13000), 'status': 'graphicone_feed', 'confirmed_after_validate': ['trade', 'germany', 'uk', 'exports', 'us', 'france', 'china', 'netherlands'], 'validated_timestamp': datetime.datetime(2019, 11, 18, 8, 13, 59, 114000), 'validator_username': 'tagger5', 'grafeed_approver': 'bond', 'grafeed_confirmed': ['china', 'netherlands', 'germany', 'uk', 'us', 'export', 'trade', 'france'], 'grafeed_industries': [], 'grafeed_shifts': [], 'in_app': 'feed', 'imagehash': '07178720c9ffff3f', 'confirmed': ['china', 'export', 'trade'], 'rejected': [], 'dhash': 'ce364c4d93a688e1', 'phash': 'a23795b80a07b7b9', 'grafeed_confirmed_before': ['china', 'uk', 'export', 'france', 'germany', 'us', 'trade', 'netherlands']}\n",
      "\n",
      "{'_id': ObjectId('5dd16c18e008481920c2a1ab'), 'tweet_text': 'RT @DrSimEvans: So I made this graph and thought it was amazing\\n\\nTHREAD\\n\\nhttps://t.co/36JhZkNNwU https://t.co/52wMQBhCbQ', 'hashtags': [], 'tweet_timestamp': datetime.datetime(2019, 10, 15, 0, 0, 20), 'username': 'willnicholsrisk', 'user_id': 192890534, 'user_counters': {'followers_count': 9733, 'friends_count': 1706, 'listed_count': 450}, 'tweet_counters': {'retweet_count': 556, 'favorite_count': 0}, 'img_urls': 'http://pbs.twimg.com/media/EG08BnQX4AAdvto.jpg', 'tweet_id': 1183895345991958528, 'downloaded': True, 'download_error': False, 'img_type': 'graphic', 's3_url': 'https://tv-ml-pipeline.s3.us-east-2.amazonaws.com/graphics/EG08BnQX4AAdvto.jpg', 'extracted_text': 'UK renewables generated more electricity than fossil fuels for the first time The third quarter of 2019 was the ever to see this switch Fossil fuels Renewables Mwww 90 80 70 60 50 40 30 10 0 2011 2014 2016 2018 2009 2010 2012 2013 2015 2017 2019 </>CB Terawatt hours 20', 'graph_type': 'line-area', 'bert_tags': ['wind power', 'commodities', 'us', 'energy', 'uk', 'oil', 'solar energy', 'coal'], 'bert_ts': datetime.datetime(2019, 11, 17, 18, 50, 16, 22000), 'status': 'graphicone_feed', 'confirmed_after_validate': ['uk', 'renewables', 'electricity', 'fuel'], 'validated_timestamp': datetime.datetime(2019, 11, 18, 20, 47, 12, 15000), 'validator_username': 'tagger5', 'grafeed_approver': 'share10', 'grafeed_confirmed': ['fuel', 'renewables', 'electricity', 'uk'], 'grafeed_industries': ['Energy sources'], 'grafeed_shifts': ['Clean energy', 'Demographic challenges', 'Smart mobility', 'Industry 4.0'], 'in_app': 'feed', 'imagehash': '03ff1f47f8f88ffe', 'confirmed': ['coal', 'commodities', 'energy', 'oil', 'solar energy', 'us', 'wind power'], 'rejected': [], 'dhash': '6e4d708f81815f40', 'phash': 'a7273762603d1d0f', 'grafeed_confirmed_before': ['electricity', 'fuel', 'uk', 'renewables']}\n",
      "\n",
      "{'_id': ObjectId('5dd197b6ff336ebb4bcdd13c'), 'tweet_text': 'China’s monthly economic activity data is steady at a lower level. https://t.co/Rhr17tF5JZ', 'hashtags': [], 'tweet_timestamp': datetime.datetime(2019, 11, 14, 16, 12, 2), 'username': 'nyfedresearch', 'user_id': 374672240, 'user_counters': {'followers_count': 44456, 'friends_count': 42, 'listed_count': 1108}, 'tweet_counters': {'retweet_count': 1, 'favorite_count': 6}, 'img_urls': 'http://pbs.twimg.com/media/EJWIpDGW4AEVm4D.png', 'tweet_id': 1195011518267633665, 'downloaded': True, 'download_error': False, 'img_type': 'graphic', 's3_url': 'https://tv-ml-pipeline.s3.us-east-2.amazonaws.com/graphics/EJWIpDGW4AEVm4D.png', 'extracted_text': 'China: Monthly Activity and Trade Percent Percent 50 14 13 40 12 11 30 Real Retail Sales (Left Axis) 10 9 Real Fixed Asset 8 10 Investment (Right Axis) 7 Industrial Production 6 (Left Axis) -10 5 2012 2013 2014 2015 2016 2017 2018 2019 Note: Industrial production is adjusted for Chinese INew Year and other seasonal factors Source: NBS via CEIC and staff estimates. 20', 'graph_type': 'line-area', 'confirmed_after_validate': ['china', 'trade', 'retail', 'sales', 'investing'], 'status': 'graphicone_feed', 'validated_timestamp': datetime.datetime(2019, 11, 18, 7, 26, 10, 899000), 'validator_username': 'tagger5', 'grafeed_approver': 'share10', 'grafeed_confirmed': ['china', 'retail', 'manufacturing', 'trade'], 'grafeed_industries': ['Cars, clothes and other staff', 'Eat and drink', 'Banks, insurance and finance'], 'grafeed_shifts': [], 'in_app': 'feed', 'imagehash': '0707ff1337fd01ff', 'bert_tags': ['china'], 'dhash': '2c6de02666190151', 'phash': 'be36323aa4e8c9c9', 'grafeed_confirmed_before': ['china', 'manufacturing', 'trade', 'retail']}\n",
      "\n",
      "{'_id': ObjectId('5dd1985fff336ebb4bcdd173'), 'tweet_text': 'RT @CNBC: Homeowners get the highest rates of return when selling in these 3 cities. https://t.co/jZtGUGDzX4 https://t.co/MvkQez9uoD', 'hashtags': [], 'tweet_timestamp': datetime.datetime(2019, 11, 14, 10, 33, 33), 'username': 'fundstrat', 'user_id': 2648357839, 'user_counters': {'followers_count': 83006, 'friends_count': 734, 'listed_count': 1526}, 'tweet_counters': {'retweet_count': 13, 'favorite_count': 0}, 'img_urls': 'http://pbs.twimg.com/media/EJU5wRKWkAAGdW8.png', 'tweet_id': 1194926334205517824, 'downloaded': True, 'download_error': False, 'img_type': 'graphic', 's3_url': 'https://tv-ml-pipeline.s3.us-east-2.amazonaws.com/graphics/EJU5wRKWkAAGdW8.png', 'extracted_text': 'Homeowner rates of return Medlan Value of Homes w/ a Mortgage City Las Vegas $251,300 13.3% $397,400 Denver 13.0% $222,400 Charlotte 12.1% 11.5% $249,800 Tampa $435,900 Portland 10.8% 10.0% US Average $250,000 9.8% $331,600 Mlaml San Dlego $603,900 9.4% Los Angeles $655,600 7.2% $271,600 5.7% Chicago $545,700 Boston $609,900 Washington DC 4.2% $1,138,400 San Franclsco 0.7% $610,000 New York SOURCE: Betterment CNBC LO Ln', 'graph_type': 'bar-horizontal', 'confirmed_after_validate': ['real estate', 'us', 'cities', 'mortgage', 'value'], 'status': 'graphicone_feed', 'validated_timestamp': datetime.datetime(2019, 11, 20, 16, 36, 47, 163000), 'validator_username': 'tagger5', 'grafeed_approver': 'share10', 'grafeed_confirmed': ['mortgage', 'cities', 'real estate', 'us'], 'grafeed_industries': ['Houses, offices, plants'], 'grafeed_shifts': ['Demographic challenges'], 'in_app': 'feed', 'imagehash': '0ff1e1e1e3e7e7ff', 'confirmed': ['cities', 'markets'], 'rejected': [], 'bert_tags': ['new york', 'washington', 'cities', 'san', 'tampa', 'las vegas', 'los angeles', 'us', 'markets', 'boston', 'chicago'], 'dhash': '3a898b8b8f8e8dda', 'phash': 'e24a99b49d32666b', 'grafeed_confirmed_before': ['mortgage', 'us', 'cities', 'real estate']}\n",
      "\n",
      "{'_id': ObjectId('5dd198fdff336ebb4bcdd1ac'), 'tweet_text': 'RT @markets: GDP and jobs hold clues to the Fed’s next phase after a likely third cut https://t.co/Uovair5BBa https://t.co/8rW8YxxbTJ', 'hashtags': [], 'tweet_timestamp': datetime.datetime(2019, 10, 29, 11, 21, 21), 'username': 'tcm3', 'user_id': 602878415, 'user_counters': {'followers_count': 157, 'friends_count': 326, 'listed_count': 20}, 'tweet_counters': {'retweet_count': 17, 'favorite_count': 0}, 'img_urls': 'http://pbs.twimg.com/media/EICpm2vWsAMc6oq.jpg', 'tweet_id': 1189140158848929797, 'downloaded': True, 'download_error': False, 'img_type': 'graphic', 's3_url': 'https://tv-ml-pipeline.s3.us-east-2.amazonaws.com/graphics/EICpm2vWsAMc6oq.jpg', 'extracted_text': 'Slowing Growth U.S. economic growth decelerates as consumers pull back U.S. gross domestic product (QoQ, SAAR) on 6/30/19 Median estimate in Bloomberg survey U.S. personal consumption (QoQ, SAAR) on 6/30/19 Median estimate in Bloomberg survey 5.0 4.0 3.0 2.0 1.0 0.0 04 Q1 Q2 Q3 04 Q1 Q2 Q3 2016 Q4 Q1 Q2 Q3 Q4 Q1 Q2 Q3 Q4 Q1 Q2 Q3 2015 2017 2018 2019 Bloomberg Source: Bureau of Economic Analysis Percent', 'graph_type': 'column-vertical', 'bert_tags': ['consumer', 'fed', 'us'], 'bert_ts': datetime.datetime(2019, 11, 17, 22, 2, 19, 555000), 'status': 'graphicone_feed', 'confirmed_after_validate': ['us', 'gdp', 'consumer', 'bloomberg'], 'validated_timestamp': datetime.datetime(2019, 11, 19, 20, 1, 56, 714000), 'validator_username': 'tagger5', 'grafeed_approver': 'bond', 'grafeed_confirmed': ['gdp', 'consumer', 'macro', 'us'], 'grafeed_industries': ['Banks, insurance and finance'], 'grafeed_shifts': [], 'in_app': 'feed', 'imagehash': 'c00000089efffe00', 'confirmed': ['consumer', 'us'], 'rejected': [], 'dhash': '98d10318386a6e93', 'phash': 'dd6860dd7a20e53c', 'grafeed_confirmed_before': ['gdp', 'macro', 'bloomberg', 'consumer', 'us']}\n",
      "\n",
      "{'_id': ObjectId('5dd198ffff336ebb4bcdd1af'), 'tweet_text': 'RT @economics: Slowing economy and deflation cause China’s company profits to drop https://t.co/TtEIEy3mbL https://t.co/CvYyRp176j', 'hashtags': [], 'tweet_timestamp': datetime.datetime(2019, 9, 27, 11, 36, 32), 'username': 'tcm3', 'user_id': 602878415, 'user_counters': {'followers_count': 157, 'friends_count': 326, 'listed_count': 20}, 'tweet_counters': {'retweet_count': 26, 'favorite_count': 0}, 'img_urls': 'http://pbs.twimg.com/media/EFcghq7U8AEEfBE.jpg', 'tweet_id': 1177547566248091649, 'downloaded': True, 'download_error': False, 'img_type': 'graphic', 's3_url': 'https://tv-ml-pipeline.s3.us-east-2.amazonaws.com/graphics/EFcghq7U8AEEfBE.jpg', 'extracted_text': \"Declines Return China's corporate profits shrank due to PPI deflation, other factors Endustrial profitsProducer price index 30 25 20 15 10 5 AW -2.00 -5 -10 2014 2015 2016 2017 2018 2019 Bloomberg Source: National Bureau of Statistics Percentage change y/y\", 'graph_type': 'line-area', 'bert_tags': ['china'], 'bert_ts': datetime.datetime(2019, 11, 17, 22, 2, 19, 285000), 'status': 'graphicone_feed', 'confirmed_after_validate': ['china', 'ppi'], 'validated_timestamp': datetime.datetime(2019, 11, 18, 20, 58, 8, 710000), 'validator_username': 'tagger5', 'grafeed_approver': 'share10', 'grafeed_confirmed': ['china', 'ppi'], 'grafeed_industries': [], 'grafeed_shifts': [], 'in_app': 'feed', 'imagehash': 'fcc00119156300e1', 'dhash': '1049193165c7c307', 'phash': 'ead4f1e4fc50a854', 'grafeed_confirmed_before': ['china', 'ppi']}\n",
      "\n",
      "{'_id': ObjectId('5dd337d9afd3a2104cea9441'), 'tweet_text': 'RT @adam_tooze: The cash hoardes of corporate America are being run down. @MoodysInvSvc via @SoberLook https://t.co/mvZobc2UAU', 'hashtags': [], 'tweet_timestamp': datetime.datetime(2019, 11, 18, 3, 44, 4), 'username': 'miroslavpitak', 'user_id': 332682421, 'user_counters': {'followers_count': 639, 'friends_count': 372, 'listed_count': 142}, 'tweet_counters': {'retweet_count': 19, 'favorite_count': 0}, 'img_urls': 'http://pbs.twimg.com/media/EJivdA7X0AAprr0.jpg', 'tweet_id': 1196272835288879104, 'downloaded': True, 'download_error': False, 'img_type': 'graphic', 's3_url': 'https://tv-ml-pipeline.s3.us-east-2.amazonaws.com/graphics/EJivdA7X0AAprr0.jpg', 'extracted_text': \"Total cash holdings to decline 7.5% in 2019 Year-end cash levels at US non-financial companies; in $US billions Posted on wsJ The Daily Shot $2,500 15-Nov-2019 SoberLook $2.000 $1.816 $1,685 $1,633 $1,632 $1,608 $1.558 $1.386 $1,500 $1,223 $1,134 968 $1,000 $500 2009 2012 2013 2015 2016 2018 2019 Pi 2010 2011 2014 2017 Source: Moody's Financial Metrics and Moody's estimates Top 7 cash holdings to decline 1% in 2019 following 14% decline in 2018 Total cash held by top 7 non-financial UuS companies; in $US billions Facebook Inc. Apple Inc. Microsoft Corporation Alphabet Inc. Amazon.com, Inc. $800 Cisco Systems, Inc. Oracle Corporation $700 s600 $500 $400 $300 $200 $100 2009 2010 2 2018 2019 Pro 2011 212 2013 2014 2016 2017 Source: Moody's Financial Metrics and Moody's estimates\", 'graph_type': 'column-vertical', 'confirmed_after_validate': ['us', 'apple', 'microsoft', 'alphabet', 'amazon', 'facebook', 'cisco', 'oracle'], 'status': 'graphicone_feed', 'validated_timestamp': datetime.datetime(2019, 11, 20, 13, 10, 18, 772000), 'validator_username': 'tagger5', 'grafeed_approver': 'share10', 'grafeed_confirmed': ['apple', 'oracle', 'microsoft', 'alphabet', 'us', 'cisco', 'amazon', 'facebook'], 'grafeed_industries': ['Cars, clothes and other staff', 'Technology as you know it', 'Networks and communications'], 'grafeed_shifts': ['Connected world', 'Disruptive business models', 'Virtual consumption', 'Data owners', 'Digital commerce', 'Industry 4.0', 'Demographic challenges', 'Growing threats'], 'in_app': 'feed', 'imagehash': 'fffd8081fff8c08f', 'confirmed': ['investing'], 'rejected': [], 'bert_tags': ['americas', 'investing', 'us'], 'dhash': '7f8301391ec30539', 'phash': 'ea959081957e9b36', 'duplicate_sort': '', 'grafeed_confirmed_before': ['amazon', 'microsoft', 'oracle', 'cisco', 'us', 'facebook', 'alphabet', 'apple']}\n",
      "\n",
      "{'_id': ObjectId('5dd33bfdafd3a2104cea9602'), 'tweet_text': 'RT @eliotwb: WeWork vs IWG (Regus) \\n\\nBasically the same size in terms of rented desks, different valuation. https://t.co/HwgOl0Dr0h', 'hashtags': [], 'tweet_timestamp': datetime.datetime(2019, 9, 11, 23, 21, 26), 'username': 'amir', 'user_id': 114602310, 'user_counters': {'followers_count': 29197, 'friends_count': 994, 'listed_count': 1180}, 'tweet_counters': {'retweet_count': 73, 'favorite_count': 0}, 'img_urls': 'http://pbs.twimg.com/media/EEMcZ3cVUAEINm6.jpg', 'tweet_id': 1171926756162326528, 'downloaded': True, 'download_error': False, 'img_type': 'graphic', 's3_url': 'https://tv-ml-pipeline.s3.us-east-2.amazonaws.com/graphics/EEMcZ3cVUAEINm6.jpg', 'extracted_text': 'We (WeWork) vs. IWG (Regus) Revenue growth rate (20 2019 vs 2Q 2018) Valuation Net income (loss) 12 months ending in June $47.0 billion $0.5 billion 100% $447.2 million* 91.4% 0 80 0.5 60 -1.0 $4.5 -1.5 12.3% billion* -2.0 ($1.7 billion) *Conversion from pounds as of Sept. 10 Source: the companies 40 20', 'graph_type': 'pie-donut', 'confirmed_after_validate': ['wework', 'iwg', 'revenue', 'valuation'], 'status': 'graphicone_feed', 'validated_timestamp': datetime.datetime(2019, 11, 19, 21, 23, 34, 535000), 'validator_username': 'tagger5', 'grafeed_approver': 'bond', 'grafeed_confirmed': ['iwg', 'wework'], 'grafeed_industries': ['Houses, offices, plants'], 'grafeed_shifts': ['Disruptive business models'], 'in_app': 'feed', 'imagehash': 'ff3de72425253fff', 'bert_tags': ['wework', 'iwg', 'we'], 'dhash': '6069cc4d494969e0', 'phash': '8bf4b40bd8b4f0e8', 'grafeed_confirmed_before': ['wework', 'iwg']}\n",
      "\n",
      "{'_id': ObjectId('5dd33ffcafd3a2104cea97af'), 'tweet_text': '10 years ago, 2% of US adults identified as atheist. Now 4% do so. https://t.co/ECpuNF5BDU', 'hashtags': [], 'tweet_timestamp': datetime.datetime(2019, 10, 17, 16, 12, 9), 'username': 'conradhackett', 'user_id': 71643224, 'user_counters': {'followers_count': 154166, 'friends_count': 913, 'listed_count': 4514}, 'tweet_counters': {'retweet_count': 8, 'favorite_count': 17}, 'img_urls': 'http://pbs.twimg.com/media/EHF8Jo8W4AE34g8.png', 'tweet_id': 1184864684664672257, 'downloaded': True, 'download_error': False, 'img_type': 'graphic', 's3_url': 'https://tv-ml-pipeline.s3.us-east-2.amazonaws.com/graphics/EHF8Jo8W4AE34g8.png', 'extracted_text': 'Protestants and Catholics shrinking as share of U.S. population; all subsets of \\'nones\\' are growing % of U.S. adults who identify as ... 51% Protestant (Aggregated Pew Research Center political surveys) 51%C Protestant (Religious Landscape Studies 47% 43% 40 24%C Catholic (RLS) 21% 23% Catholic (Aggregated 20 20% Pew Research Center political surveys) 16% O 17% 12% D 12% Nothing in Nothing in particular particular (RLS) (Aggregated Pew Research Center political surveys) 4% Agnostic (Aggregated political surveys) 3% 5% Agnostic (RLS) 4% 2% 2% .. Atheist (RLS) --.. 3% 2% Atheist (Aggregated political surveys) 2007 2009 2014 2018/19 Source: Pew Research Center Religious Landscape Studies (2007 and 2014). Aggregated Pew Research Center political surveys conducted 2009-July 2019 on the telephone. \"In U.S., Decline of Christianity Continues at Rapid Pace PEW RESEARCH CENTER', 'graph_type': 'line-area', 'bert_tags': ['pew research center', 'protestant', 'politics', 'us'], 'bert_ts': datetime.datetime(2019, 11, 19, 4, 7, 9, 354000), 'status': 'graphicone_feed', 'confirmed_after_validate': ['us', 'religion', 'population'], 'validated_timestamp': datetime.datetime(2019, 11, 21, 14, 51, 55, 726000), 'validator_username': 'tagger5', 'grafeed_approver': 'share10', 'grafeed_confirmed': ['us', 'religion', 'population'], 'grafeed_industries': [], 'grafeed_shifts': ['Demographic challenges'], 'in_app': 'feed', 'imagehash': '0167ffffdf1f071f', 'confirmed': ['politics', 'us'], 'rejected': [], 'dhash': '7b870090b6b5bcf5', 'phash': 'a86b0a3e0b3b0f7a', 'grafeed_confirmed_before': ['us', 'population', 'religion']}\n",
      "\n",
      "{'_id': ObjectId('5dd34a1bafd3a2104cea9c20'), 'tweet_text': 'Germany’s onshore wind crisis may begin to weaken defenses against blackouts. https://t.co/3Q8lCVg0tH https://t.co/yASVOqVkaQ', 'hashtags': [], 'tweet_timestamp': datetime.datetime(2019, 11, 15, 23, 0, 4), 'username': 'environment', 'user_id': 41847726, 'user_counters': {'followers_count': 12537, 'friends_count': 696, 'listed_count': 402}, 'tweet_counters': {'retweet_count': 1, 'favorite_count': 0}, 'img_urls': 'http://pbs.twimg.com/media/EJcvn3yWsAEuw07.jpg', 'tweet_id': 1195476589783461888, 'downloaded': True, 'download_error': False, 'img_type': 'graphic', 's3_url': 'https://tv-ml-pipeline.s3.us-east-2.amazonaws.com/graphics/EJcvn3yWsAEuw07.jpg', 'extracted_text': 'Winding Down German onshore wind installations are slumping Gigawatts 6K uul. 2 0 2019 2012 2013 2014 2015 2016 2017 2018 Deutsche Windguard 2019 2019 BNE German Wind Association estimate Bloomberg', 'graph_type': 'column-vertical', 'confirmed_after_validate': ['germany', 'wind power'], 'status': 'graphicone_feed', 'validated_timestamp': datetime.datetime(2019, 11, 19, 12, 14, 58, 106000), 'validator_username': 'tagger5', 'grafeed_approver': 'bond', 'grafeed_confirmed': ['renewables', 'germany', 'wind power', 'clean energy'], 'grafeed_industries': ['Energy sources'], 'grafeed_shifts': ['Clean energy'], 'in_app': 'feed', 'imagehash': 'c000002c7cfffe00', 'confirmed': ['us'], 'rejected': [], 'bert_tags': ['germany', 'us'], 'dhash': '80a20859f8849283', 'phash': 'd33b6cd44b33b40c', 'grafeed_confirmed_before': ['clean energy', 'germany', 'renewables', 'wind power']}\n",
      "\n",
      "{'_id': ObjectId('5dd34a1cafd3a2104cea9c21'), 'tweet_text': 'The world’s attempts to quit coal are failing. https://t.co/xFtC5YjhsH https://t.co/lX7bMtcxZC', 'hashtags': [], 'tweet_timestamp': datetime.datetime(2019, 11, 14, 2, 42, 5), 'username': 'environment', 'user_id': 41847726, 'user_counters': {'followers_count': 12537, 'friends_count': 696, 'listed_count': 402}, 'tweet_counters': {'retweet_count': 1, 'favorite_count': 2}, 'img_urls': 'http://pbs.twimg.com/media/EJTPQc3X0AAuLpG.jpg', 'tweet_id': 1194807684509421573, 'downloaded': True, 'download_error': False, 'img_type': 'graphic', 's3_url': 'https://tv-ml-pipeline.s3.us-east-2.amazonaws.com/graphics/EJTPQc3X0AAuLpG.jpg', 'extracted_text': \"The Global Picture Coal made up 38% of the world's energy mix in 2018 739TWH Other renewables 1,857TWh Wind and solar 2,718TWh Nuclear 10,123TWh Coal 4,203TWh Hydro 6,926TWh Natural Gas and oil Source: International Energy Agency, WEO 2019 Note: TWh terawatt hours Bloomberg\", 'graph_type': 'pie-donut', 'bert_tags': ['gas', 'commodities', 'nuclear power', 'energy', 'oil', 'coal', 'renewables'], 'bert_ts': datetime.datetime(2019, 11, 19, 4, 49, 34, 871000), 'status': 'graphicone_feed', 'confirmed_after_validate': ['coal', 'energy', 'gas', 'oil', 'hydro power', 'nuclear power', 'wind power', 'solar energy', 'renewables'], 'validated_timestamp': datetime.datetime(2019, 11, 19, 20, 13, 4, 540000), 'validator_username': 'tagger5', 'grafeed_approver': 'bond', 'grafeed_confirmed': ['coal', 'hydro', 'commodities', 'renewables', 'energy', 'gas', 'wind power', 'solar energy', 'oil', 'nuclear power'], 'grafeed_industries': ['Energy sources', 'Raw materials'], 'grafeed_shifts': ['Clean energy', 'Disruptive business models'], 'in_app': 'feed', 'imagehash': 'c020383c3c180000', 'confirmed': ['coal', 'commodities', 'energy', 'gas', 'nuclear power', 'oil', 'renewables'], 'rejected': [], 'dhash': '98e4f2f8f1326083', 'phash': 'c9f366d89333c941', 'grafeed_confirmed_before': ['hydro', 'wind power', 'coal', 'gas', 'renewables', 'energy', 'nuclear power', 'solar energy', 'commodities', 'oil']}\n",
      "\n",
      "{'_id': ObjectId('5dd34da3afd3a2104cea9de5'), 'tweet_text': 'McDermott leaves SAP with legacy in the balance https://t.co/MFazWM3Hvs @LiamWardProud https://t.co/9RhXhSzOvF', 'hashtags': [], 'tweet_timestamp': datetime.datetime(2019, 10, 11, 13, 34, 41), 'username': 'reutersflasseur', 'user_id': 274525432, 'user_counters': {'followers_count': 3799, 'friends_count': 1045, 'listed_count': 262}, 'tweet_counters': {'retweet_count': 0, 'favorite_count': 1}, 'img_urls': 'http://pbs.twimg.com/media/EGmejQKX0AEEbva.jpg', 'tweet_id': 1182650729892401153, 'downloaded': True, 'download_error': False, 'img_type': 'graphic', 's3_url': 'https://tv-ml-pipeline.s3.us-east-2.amazonaws.com/graphics/EGmejQKX0AEEbva.jpg', 'extracted_text': 'Cloudy returns Total shareholder return (in U.S. $, including reinvested dividends) since Bill McDermott took over as sole CEO in May 2014 400 Adobe: 346% 300 Microsoft: 294% 200 Salesforce: 177% Workday: 131% 100 SAP: 69% Oracle: 34% IBM: -7% 0 2019 2014 2015 2016 2017 2018 V. Flasseur | @Breakingviews Source: Refinitiv Datastream, data to 10/10/2019', 'graph_type': 'line-area', 'confirmed_after_validate': ['ceo', 'adobe', 'microsoft', 'salesforce.com', 'workday', 'sap', 'oracle', 'ibm'], 'status': 'graphicone_feed', 'validated_timestamp': datetime.datetime(2019, 11, 19, 12, 16, 14, 379000), 'validator_username': 'tagger5', 'grafeed_approver': 'share10', 'grafeed_confirmed': ['oracle', 'ibm', 'workday inc.', 'microsoft', 'adobe', 'ceo', 'us', 'salesforce', 'sap'], 'grafeed_industries': ['Technology as you know it'], 'grafeed_shifts': ['Data owners', 'Connected world', 'Disruptive business models', 'Industry 4.0'], 'in_app': 'feed', 'imagehash': '0307fcfcf8e0851f', 'confirmed': ['investing'], 'rejected': [], 'bert_tags': ['v. flasseur', 'investing', 'microsoft', 'us', 'ibm', 'oracle', 'adobe', 'sap'], 'dhash': '7fcf8181840d3573', 'phash': 'ca043f2e8d1adad5', 'grafeed_confirmed_before': ['ibm', 'oracle', 'salesforce', 'workday inc.', 'ceo', 'adobe', 'us', 'microsoft', 'sap']}\n",
      "\n",
      "{'_id': ObjectId('5dd3b0483e616f811716213c'), 'tweet_text': 'RT @Matt_Turnerr: Not a great time to be a Hong Kong business that relies on tourists...\\nhttps://t.co/jHBtWLE3C7 https://t.co/WO6An93luT', 'hashtags': [], 'tweet_timestamp': datetime.datetime(2019, 9, 9, 4, 8, 13), 'username': 'hannahdormido', 'user_id': 56612205, 'user_counters': {'followers_count': 1994, 'friends_count': 2466, 'listed_count': 112}, 'tweet_counters': {'retweet_count': 8, 'favorite_count': 0}, 'img_urls': 'http://pbs.twimg.com/media/ED_pDxCU4AEYrex.jpg', 'tweet_id': 1170911762595495938, 'downloaded': True, 'download_error': False, 'img_type': 'graphic', 's3_url': 'https://tv-ml-pipeline.s3.us-east-2.amazonaws.com/graphics/ED_pDxCU4AEYrex.jpg', 'extracted_text': 'Visitor Vacuum Tourist arrivals in Hong Kong declined by the most since 2003 Year-on-year gain in Hong Kong visitor arrivals Year-on-year decline in Hong Kong visitor arrivals 30% 10 יו ןויי -10 -20 -30 -40 I I Sep Jan May Sep Jan May Sep Jan May Sep Jan May Jan May 2015 2017 2016 2018 2019 Source: Hong Kong Tourism Board Bloomberg 20 이', 'graph_type': 'column-vertical', 'confirmed_after_validate': ['hong kong', 'travel and vacations'], 'status': 'graphicone_feed', 'validated_timestamp': datetime.datetime(2019, 11, 19, 21, 32, 26, 945000), 'validator_username': 'tagger5', 'grafeed_approver': 'bond', 'grafeed_confirmed': ['hong kong', 'travel'], 'grafeed_industries': ['Cars, clothes and other staff'], 'grafeed_shifts': ['Demographic challenges'], 'in_app': 'feed', 'imagehash': '03fff9019efeff1e', 'confirmed': ['travel'], 'rejected': [], 'bert_tags': ['travel', 'hong kong'], 'dhash': '572583433c204074', 'phash': 'ce2995960f6bc196', 'grafeed_confirmed_before': ['hong kong', 'travel']}\n",
      "\n",
      "{'_id': ObjectId('5dd3b6673e616f8117162364'), 'tweet_text': '#OOTT | 🇸🇦 #Aramco Seeks $1.6 Trillion to $1.71 Trillion #IPO Valuation - Bloomberg\\n*Link: https://t.co/iPNFdMBSon https://t.co/7mMpcYmFKg', 'hashtags': ['OOTT', 'Aramco', 'IPO'], 'tweet_timestamp': datetime.datetime(2019, 11, 17, 8, 57, 32), 'username': 'c_barraud', 'user_id': 537175623, 'user_counters': {'followers_count': 41575, 'friends_count': 243, 'listed_count': 1329}, 'tweet_counters': {'retweet_count': 17, 'favorite_count': 23}, 'img_urls': 'http://pbs.twimg.com/media/EJkB9XNW4AAiQn0.png', 'tweet_id': 1195989334148689921, 'downloaded': True, 'download_error': False, 'img_type': 'graphic', 's3_url': 'https://tv-ml-pipeline.s3.us-east-2.amazonaws.com/graphics/EJkB9XNW4AAiQn0.png', 'extracted_text': \"World's Biggest IPO? At the top end of range, Aramco's IPO would be bigger than Alibaba's Facebook (2012) NTT Docomo (1998) ICBC (2006) Enel SpA (1999) General Motors (2010) Visa (2008) AIA Group (2010) Softbank (2018) Saudi Aramco - low end of range Alibaba Group* (2014) Saudi Aramco - top end of range $30 billion 10 World record IPO; Source: Bloomberg; 20\", 'graph_type': 'bar-horizontal', 'confirmed_after_validate': ['ipo', 'saudi aramco', 'alibaba', 'facebook', 'ntt', 'icbc', 'enel', 'general motors', 'visa', 'aia group', 'softbank'], 'status': 'graphicone_feed', 'validated_timestamp': datetime.datetime(2019, 11, 19, 21, 33, 34, 756000), 'validator_username': 'tagger5', 'grafeed_approver': 'bond', 'grafeed_confirmed': ['visa', 'saudi aramco', 'softbank', 'ntt', 'icbc', 'alibaba', 'aia group', 'enel', 'ipo', 'general motors', 'facebook'], 'grafeed_industries': ['Energy sources', 'Technology as you know it', 'Networks and communications', 'Banks, insurance and finance', 'Cars, clothes and other staff'], 'grafeed_shifts': ['Disruptive business models', 'Digital commerce', 'Data owners', 'Demographic challenges', 'Growing threats', 'Virtual consumption', 'Clean energy', 'Smart mobility', 'Industry 4.0', 'Connected world'], 'in_app': 'feed', 'imagehash': 'ffe7e3e3e3e1e1ff', 'confirmed': ['global', 'technology'], 'rejected': [], 'bert_tags': ['visa', 'softbank', 'global', 'general motors', 'technology', 'facebook', 'saudi aramco', 'icbc', 'alibaba'], 'dhash': '730f0e06060f4b32', 'phash': 'e7969a499c6b9426', 'grafeed_confirmed_before': ['icbc', 'softbank', 'saudi aramco', 'general motors', 'ipo', 'enel', 'facebook', 'visa', 'alibaba']}\n",
      "\n",
      "{'_id': ObjectId('5dd3b6683e616f8117162365'), 'tweet_text': '🇮🇹 🇩🇪 #Italy’s Industrial Engine Sputters on German Economic Malaise - Bloomberg\\n*Link: https://t.co/JFf8LdwkB8 https://t.co/OGgdb0sNo4', 'hashtags': ['Italy'], 'tweet_timestamp': datetime.datetime(2019, 11, 16, 14, 23, 48), 'username': 'c_barraud', 'user_id': 537175623, 'user_counters': {'followers_count': 41575, 'friends_count': 243, 'listed_count': 1329}, 'tweet_counters': {'retweet_count': 6, 'favorite_count': 6}, 'img_urls': 'http://pbs.twimg.com/media/EJgDDBZW4AAsUYR.png', 'tweet_id': 1195709055404257281, 'downloaded': True, 'download_error': False, 'img_type': 'graphic', 's3_url': 'https://tv-ml-pipeline.s3.us-east-2.amazonaws.com/graphics/EJgDDBZW4AAsUYR.png', 'extracted_text': 'Italy Suffers Weakness in its main export market is the last thing Italy needs Italy (FY GDP) Germany 2.5% 2.0 1.5 1.0 0.5 0 2017 2018 2019 2020 Source: Istat, Federal Statistics Office, Bloomberg surveys', 'graph_type': 'column-vertical', 'bert_tags': ['export', 'germany', 'italy', 'trade', 'markets'], 'bert_ts': datetime.datetime(2019, 11, 19, 12, 32, 38, 225000), 'status': 'graphicone_feed', 'confirmed_after_validate': ['italy', 'exports', 'gdp', 'germany'], 'validated_timestamp': datetime.datetime(2019, 11, 20, 12, 39, 47, 381000), 'validator_username': 'tagger5', 'grafeed_approver': 'share10', 'grafeed_confirmed': ['germany', 'trade', 'export', 'gdp', 'italy'], 'grafeed_industries': [], 'grafeed_shifts': [], 'in_app': 'feed', 'imagehash': '3fffbf3f2f0c00ff', 'confirmed': ['export', 'markets', 'trade'], 'rejected': [], 'dhash': '6bb160505855552e', 'phash': '9bc7e819874e9585', 'grafeed_confirmed_before': ['export', 'germany', 'italy', 'gdp', 'trade']}\n",
      "\n",
      "{'_id': ObjectId('5dd3b66d3e616f811716236a'), 'tweet_text': '🇨🇳 #China’s Factories Are Exporting Lower Prices Around the World - Bloomberg\\n*Link: https://t.co/ybdMiYk8iS https://t.co/NM1lFEEE6t', 'hashtags': ['China'], 'tweet_timestamp': datetime.datetime(2019, 11, 9, 9, 55, 31), 'username': 'c_barraud', 'user_id': 537175623, 'user_counters': {'followers_count': 41575, 'friends_count': 243, 'listed_count': 1329}, 'tweet_counters': {'retweet_count': 10, 'favorite_count': 25}, 'img_urls': 'http://pbs.twimg.com/media/EI7Cg1ZWkAASXY5.png', 'tweet_id': 1193104824688087040, 'downloaded': True, 'download_error': False, 'img_type': 'graphic', 's3_url': 'https://tv-ml-pipeline.s3.us-east-2.amazonaws.com/graphics/EI7Cg1ZWkAASXY5.png', 'extracted_text': 'Cheaper Chinese Goods The price of exports from China is dropping along with producer prices Export price index /Producer price index 15% YoY 10 5 -5 -10 Mar 2012 2014 2016 2018 2010 Source: Customs General Administration, National Bureau of Statistics', 'graph_type': 'line-area', 'bert_tags': ['china', 'export', 'index', 'trade'], 'bert_ts': datetime.datetime(2019, 11, 19, 12, 32, 38, 70000), 'status': 'graphicone_feed', 'confirmed_after_validate': ['china', 'goods', 'exports', 'price', 'ppi'], 'validated_timestamp': datetime.datetime(2019, 11, 20, 12, 40, 12, 722000), 'validator_username': 'tagger5', 'grafeed_approver': 'share10', 'grafeed_confirmed': ['ppi', 'china', 'retail', 'export', 'trade'], 'grafeed_industries': ['Cars, clothes and other staff', 'Eat and drink'], 'grafeed_shifts': [], 'in_app': 'feed', 'imagehash': '1f0f3f3980d1ffff', 'confirmed': ['export', 'index', 'trade'], 'rejected': [], 'dhash': '335942610d27ba06', 'phash': 'af0f94786a8d9c26', 'grafeed_confirmed_before': ['china', 'export', 'retail', 'ppi', 'trade']}\n",
      "\n",
      "{'_id': ObjectId('5dd3b6703e616f811716236d'), 'tweet_text': '🇬🇧 #UK Election Campaigners Brace for Fiscal Reality Check - Bloomberg \\n*Link: https://t.co/ZAnGzhR81f https://t.co/YjTfoNPl06', 'hashtags': ['UK'], 'tweet_timestamp': datetime.datetime(2019, 11, 7, 6, 39, 59), 'username': 'c_barraud', 'user_id': 537175623, 'user_counters': {'followers_count': 41575, 'friends_count': 243, 'listed_count': 1329}, 'tweet_counters': {'retweet_count': 2, 'favorite_count': 2}, 'img_urls': 'http://pbs.twimg.com/media/EIwClBdXUAALEoI.png', 'tweet_id': 1192330839557836801, 'downloaded': True, 'download_error': False, 'img_type': 'graphic', 's3_url': 'https://tv-ml-pipeline.s3.us-east-2.amazonaws.com/graphics/EIwClBdXUAALEoI.png', 'extracted_text': 'Worsening Backdrop U.K. borrowing is set to breach the target of 2% of GDP next year Contributions to budget deficit in 2020-21 2% of GDP £45B 30 15 -15 Boost from Total March OBR forecast Corp. tax, pensions Replacing EU spending deficit extra spending Source: OBR, IFS, Bloomberg calculations Note: Forecasts based on smooth-Brexit scenario', 'graph_type': 'column-vertical', 'confirmed_after_validate': ['uk', 'gdp', 'deficit', 'taxes', 'eu'], 'status': 'graphicone_feed', 'validated_timestamp': datetime.datetime(2019, 11, 21, 7, 44, 54, 443000), 'validator_username': 'tagger5', 'grafeed_approver': 'share10', 'grafeed_confirmed': ['uk', 'eu', 'gdp', 'deficit', 'taxes'], 'grafeed_industries': [], 'grafeed_shifts': [], 'in_app': 'feed', 'imagehash': '1f01fc7c08ffff0f', 'confirmed': ['debt', 'gdp', 'government'], 'rejected': [], 'bert_tags': ['obr', 'eu', 'uk', 'debt', 'government', 'gdp'], 'dhash': '3b55215151a2ab5c', 'phash': '9a5ea52d1bc0e43b', 'grafeed_confirmed_before': ['uk', 'deficit', 'taxes', 'eu', 'gdp']}\n",
      "\n",
      "{'_id': ObjectId('5dd3b6c43e616f8117162377'), 'tweet_text': '@officialmcafee China Has Become the Global Leader in Patent Applications https://t.co/UzoRwvtaCc', 'hashtags': [], 'tweet_timestamp': datetime.datetime(2019, 11, 15, 15, 0, 11), 'username': 'm_d_underhill', 'user_id': 107914091, 'user_counters': {'followers_count': 1193, 'friends_count': 1483, 'listed_count': 44}, 'tweet_counters': {'retweet_count': 0, 'favorite_count': 1}, 'img_urls': 'http://pbs.twimg.com/media/EJbByQQXYAAX55Q.png', 'tweet_id': 1195355824165703684, 'downloaded': True, 'download_error': False, 'img_type': 'graphic', 's3_url': 'https://tv-ml-pipeline.s3.us-east-2.amazonaws.com/graphics/EJbByQQXYAAX55Q.png', 'extracted_text': 'U.S. as % of Global Patent Applications China as % of Global Patent Applications 50% 50% 45% 45% 40% 40% 40% 35% 35% 30% 30% 25% 25% 20% 20% 16% 15% 15% 10% 10% 5% 5% 0% 0% 1992 Source: WIPO statistics database. Last updated: December 2018 086L 1982 1984 1986 1988 066L 9661 0002 2002 8661 2004 2006 2008 2010 2012 2014 2016 1980 1982 1984 1986 1988 066 1992 1994 966 866 0002 2002 2004 900 2008 2010 2012 2014 2016', 'graph_type': 'other-chart', 'confirmed_after_validate': ['us', 'china'], 'status': 'graphicone_feed', 'validated_timestamp': datetime.datetime(2019, 11, 19, 21, 34, 42, 949000), 'validator_username': 'tagger5', 'grafeed_approver': 'bond', 'grafeed_confirmed': ['china', 'innovation', 'us'], 'grafeed_industries': [], 'grafeed_shifts': [], 'in_app': 'feed', 'imagehash': '99fffece0e00ffff', 'confirmed': ['canada', 'france', 'gdp', 'japan', 'population', 'us'], 'rejected': [], 'bert_tags': ['canada', 'us', 'china', 'population', 'japan', 'france', 'gdp'], 'dhash': '318c8cbc38711330', 'phash': '9ce0ea1b38ec0f93', 'grafeed_confirmed_before': ['us', 'innovation', 'china']}\n",
      "\n",
      "{'_id': ObjectId('5dd3b7403e616f811716239a'), 'tweet_text': 'RT @PlanMaestro: 13. Demographics of Social Media  (@facttank) https://t.co/7UZl7mp6gm', 'hashtags': [], 'tweet_timestamp': datetime.datetime(2019, 10, 21, 17, 39, 31), 'username': 'researchpuzzler', 'user_id': 19083264, 'user_counters': {'followers_count': 10863, 'friends_count': 137, 'listed_count': 551}, 'tweet_counters': {'retweet_count': 5, 'favorite_count': 0}, 'img_urls': 'http://pbs.twimg.com/media/EHa2DG3WwAA4U1U.jpg', 'tweet_id': 1186336224870649862, 'downloaded': True, 'download_error': False, 'img_type': 'graphic', 's3_url': 'https://tv-ml-pipeline.s3.us-east-2.amazonaws.com/graphics/EHa2DG3WwAA4U1U.jpg', 'extracted_text': 'Profiles of social media news consumers in the U.S. % of each social media site\\'s news consumers who are... Facebook Twitter LinkedIn Reddit YouTube Instagram Snapchat 35% 38% 70% Male 39% 57% 52% 54% 46 Female 61 43 48 62 65 23 40 Ages 18-29 30 32 20 69 54 37 41 30-49 39 42 50 26 36 5 21 50-64 24 18 14 24 7 15 16 2 15 65+ 12 8 1 High school or less Some college 38 28 40 36 16 44 26 33 34 31 36 23 41 35 27 40 College+ 28 41 28 61 15 65 White 48 34 61 58 39 58 38 40 51 60 41 65 34 Nonwhite Note: Tumblr, WhatsApp, TikTok and Twitch not shown. Nonwhite includes all racial and ethnic groups, except non-Hispanic white. Source: Survey of U.S. adults conducted July 8-21, 2019. \"Americans Are Wary of the Role Social Media Sites Play in Delivering the News\" PEW RESEARCH CENTER 30', 'graph_type': 'bar-horizontal', 'bert_tags': ['social media', 'instagram', 'us', 'facebook', 'linkedin', 'youtube', 'tumblr', 'reddit', 'twitch', 'twitter', 'tiktok'], 'bert_ts': datetime.datetime(2019, 11, 19, 12, 35, 28, 82000), 'status': 'graphicone_feed', 'confirmed_after_validate': ['us', 'consumer', 'social media', 'gender', 'women', 'education', 'facebook', 'youtube', 'twitter', 'instagram', 'linkedin', 'snapchat', 'reddit'], 'validated_timestamp': datetime.datetime(2019, 11, 20, 17, 6, 44, 448000), 'validator_username': 'tagger5', 'grafeed_approver': 'share10', 'grafeed_confirmed': ['youtube', 'linkedin', 'consumer', 'instagram', 'reddit', 'gender', 'us', 'social media', 'twitter', 'education', 'snap', 'woman', 'facebook'], 'grafeed_industries': ['Networks and communications', 'Cars, clothes and other staff'], 'grafeed_shifts': ['Data owners', 'Demographic challenges', 'Digital commerce', 'Growing threats', 'Virtual consumption', 'Connected world', 'Disruptive business models'], 'in_app': 'feed', 'imagehash': '0f8080839fc0ff7f', 'confirmed': ['facebook', 'social media', 'twitter', 'us'], 'rejected': [], 'dhash': 'dc3725372d2a35f8', 'phash': 'ba7e919585b2623a', 'grafeed_confirmed_before': ['instagram', 'reddit', 'education', 'woman', 'youtube', 'linkedin', 'twitter', 'snap', 'consumer', 'us', 'gender', 'facebook', 'social media']}\n",
      "\n",
      "{'_id': ObjectId('5dd3bb193e616f81171624b0'), 'tweet_text': 'RT @PlanMaestro: 18. Netflix  (@wolfejosh) https://t.co/jeX6GMPDJG', 'hashtags': [], 'tweet_timestamp': datetime.datetime(2019, 9, 22, 16, 31, 22), 'username': 'walt373', 'user_id': 193590927, 'user_counters': {'followers_count': 1845, 'friends_count': 2752, 'listed_count': 70}, 'tweet_counters': {'retweet_count': 5, 'favorite_count': 0}, 'img_urls': 'http://pbs.twimg.com/media/EFEy1m2W4AETta9.jpg', 'tweet_id': 1175809825751674882, 'downloaded': True, 'download_error': False, 'img_type': 'graphic', 's3_url': 'https://tv-ml-pipeline.s3.us-east-2.amazonaws.com/graphics/EFEy1m2W4AETta9.jpg', 'extracted_text': 'Netflix spent big to outbid competitors, with debt quickly stacking up Liabilities ($bn) Investors are nervous after contraction in US subscribers Friends Stranger Things Selected Netflix commissions/purchases One-year renewal Change in paid US customers from previous quarter (m) -Netflix share price 2002 03 04 2005 06 07 08 09 2010 11 12 13 14 2015 16 17 2018 I DVD rental era Red Notice film ($200m) Streaming video era -400 3.0 It would take six years before the By 2006, Netflix had over 6m 30 subscribers and made a small profit on nearly $1bn in annual revenue 25 Sense8 The Marco Polo company pushed into original content Current liabilities 2.5 Crown 300 Non-current liabilities House of Cards (first original content commission: $100m for first two seasons) 2.0 20 Long-term debt -200 1.5 Orange is the New Black 15 MY Marvel TV series 1.0 10 Includes debt 100 for content that will air in years Off-balance 0.5 First drop in subscribers in its core market since 2011 5 sheet liabilities to come 0 0 Q4 17 02 18 Q4 18| Q2 19 Q3 17 Q1 18 Q3 18 Q1 19 04 2005 2010 11 17 2018 2002 03 2015 06 07 08 09 13 14 16 Sources: Bloomberg; Moffett Nathanson Sources: CapitalIQ; FT research 12', 'graph_type': 'bubble-scatter', 'confirmed_after_validate': ['debt', 'netflix', 'streaming', 'us'], 'status': 'graphicone_feed', 'validated_timestamp': datetime.datetime(2019, 11, 21, 16, 10, 8, 273000), 'validator_username': 'tagger5', 'grafeed_approver': 'share10', 'grafeed_confirmed': ['netflix', 'streaming', 'us', 'debt'], 'grafeed_industries': ['Networks and communications'], 'grafeed_shifts': ['Virtual consumption'], 'in_app': 'feed', 'imagehash': '3cff17ffdbf0e0fc', 'confirmed': ['netflix'], 'rejected': [], 'bert_tags': ['netflix', 'us'], 'dhash': 'd9e5b65495e50c9d', 'phash': 'e699536699768c31', 'grafeed_confirmed_before': ['debt', 'us', 'streaming', 'netflix']}\n",
      "\n",
      "{'_id': ObjectId('5dd3c0e13e616f811716269a'), 'tweet_text': 'Cashless payments growing faster in #India than almost anywhere else 🇮🇳💸\\n\\nhttps://t.co/krBTGdmhdh  #fintech https://t.co/ZeuLE4tvHF', 'hashtags': ['India', 'fintech'], 'tweet_timestamp': datetime.datetime(2019, 11, 13, 7, 18, 22), 'username': 'cgledhill', 'user_id': 49311606, 'user_counters': {'followers_count': 72707, 'friends_count': 62035, 'listed_count': 2789}, 'tweet_counters': {'retweet_count': 15, 'favorite_count': 12}, 'img_urls': 'http://pbs.twimg.com/media/EJPE6AKXYAAXPrY.jpg', 'tweet_id': 1194514828293017600, 'downloaded': True, 'download_error': False, 'img_type': 'graphic', 's3_url': 'https://tv-ml-pipeline.s3.us-east-2.amazonaws.com/graphics/EJPE6AKXYAAXPrY.jpg', 'extracted_text': 'Annual cashless payment growth rates IIndia ChinaRussia Indonesia 90% 80 70 60 50 40 30 20 10 0 16 14 15 17 18 ATLAS Data: Bank for International Settlements', 'graph_type': 'line-area', 'confirmed_after_validate': ['cashless', 'india', 'china', 'russia', 'indonesia'], 'status': 'graphicone_feed', 'validated_timestamp': datetime.datetime(2019, 11, 19, 21, 36, 41, 856000), 'validator_username': 'tagger5', 'grafeed_approver': 'bond', 'grafeed_confirmed': ['visa', 'american express', 'china', 'russia', 'cashless', 'payments', 'indonesia', 'mastercard', 'india'], 'grafeed_industries': ['Banks, insurance and finance'], 'grafeed_shifts': ['Disruptive business models'], 'in_app': 'feed', 'imagehash': '0f0fffcf0101ffff', 'bert_tags': ['indonesia', 'india'], 'dhash': '38b8b29d4353a1ac', 'phash': 'a810952b7bd0edce', 'grafeed_confirmed_before': ['cashless', 'china', 'indonesia', 'india', 'visa', 'payments', 'american express', 'russia', 'mastercard']}\n",
      "\n",
      "{'_id': ObjectId('5dd3c2b63e616f811716276a'), 'tweet_text': 'RT @jessefelder: NEW POST: ‘You Better Be Careful And Keep Your Eyes Open,’ Part Deux https://t.co/SCEODriyXi https://t.co/MCpT3YrW8Q', 'hashtags': [], 'tweet_timestamp': datetime.datetime(2019, 11, 13, 21, 16, 58), 'username': 'steen_jakobsen', 'user_id': 337726021, 'user_counters': {'followers_count': 13181, 'friends_count': 1294, 'listed_count': 440}, 'tweet_counters': {'retweet_count': 26, 'favorite_count': 0}, 'img_urls': 'http://pbs.twimg.com/media/EJR4k04WsAI1Cbh.jpg', 'tweet_id': 1194725868259680256, 'downloaded': True, 'download_error': False, 'img_type': 'graphic', 's3_url': 'https://tv-ml-pipeline.s3.us-east-2.amazonaws.com/graphics/EJR4k04WsAI1Cbh.jpg', 'extracted_text': 'Stocks & IPOS S&P 500 Top 10 IPOS of 2019 3100 1450 3050 1350 3000 1250 2950 2900 1150 2850 1050 2800 950 2750 850 2700 2019-08-14 2019-06-18 2019-05-2O 2019-07-17 2019-04-22 2019-09-12 2019-10-10 2019-11-07 TheFelderReport.com', 'graph_type': 'line-area', 'bert_tags': ['index', 's&p', 'part'], 'bert_ts': datetime.datetime(2019, 11, 19, 13, 25, 35, 491000), 'status': 'graphicone_feed', 'confirmed_after_validate': ['s&p', 'stocks', 'ipo'], 'validated_timestamp': datetime.datetime(2019, 11, 20, 12, 44, 34, 969000), 'validator_username': 'tagger5', 'grafeed_approver': 'share10', 'grafeed_confirmed': ['s&p', 'index', 'ipo'], 'grafeed_industries': [], 'grafeed_shifts': [], 'in_app': 'feed', 'imagehash': 'e7fec941333dfee7', 'confirmed': ['index', 's&p'], 'rejected': [], 'dhash': '8e8c1ba7676930ce', 'phash': 'a670d18f26683b37', 'grafeed_confirmed_before': ['s&p', 'index', 'ipo']}\n",
      "\n",
      "{'_id': ObjectId('5dd3c6883e616f8117162895'), 'tweet_text': 'https://t.co/pEPjlN9ned https://t.co/gz7gyWtvEA', 'hashtags': [], 'tweet_timestamp': datetime.datetime(2019, 11, 7, 13, 49, 20), 'username': 'jorisluijendijk', 'user_id': 271080643, 'user_counters': {'followers_count': 40334, 'friends_count': 642, 'listed_count': 590}, 'tweet_counters': {'retweet_count': 5, 'favorite_count': 25}, 'img_urls': 'http://pbs.twimg.com/media/EIxgHi8WoAAt47L.jpg', 'tweet_id': 1192438888603762688, 'downloaded': True, 'download_error': False, 'img_type': 'graphic', 's3_url': 'https://tv-ml-pipeline.s3.us-east-2.amazonaws.com/graphics/EIxgHi8WoAAt47L.jpg', 'extracted_text': 'Share of people who reported being happy in the last 4 weeks (as %, 2018 data) 962% 76% 31%100 90 80 70 60 50 40 30 20 10 0 ec.europa.eu/eurostat Note: Data not available for Ireland, Slovakia and the United Kingdom. Belgium Netherlands Austria Finland uxembourg Spain Denmark Poland France Germany Sweden EU Malta Slovenia Hungary Portugal Cyprus Czechia Estonia Italy Greece Romania Lithuania Croatia Bulgaria Latvia', 'graph_type': 'column-vertical', 'bert_tags': ['cyprus', 'uk', 'norway', 'slovenia', 'estonia', 'spain', 'latvia', 'iceland', 'luxembourg', 'italy', 'france', 'switzerland', 'slovakia', 'belgium', 'austria', 'ireland', 'greece', 'eu', 'croatia', 'denmark', 'czech republic', 'malta', 'hungary', 'portugal', 'finland', 'germany', 'global', 'poland', 'lithuania', 'romania', 'sweden', 'netherlands', 'bulgaria'], 'bert_ts': datetime.datetime(2019, 11, 19, 13, 40, 30, 532000), 'status': 'graphicone_feed', 'confirmed_after_validate': ['belgium', 'netherlnads', 'austria', 'finland', 'luxembourg', 'spain', 'denmark', 'poland', 'france', 'germany', 'sweden', 'eu', 'malta', 'slovenia', 'hungary', 'portugal', 'cyprus', 'czech republic', 'estonia', 'italy', 'greece', 'romania', 'lithuania', 'croatia', 'bulgaria', 'latvia'], 'validated_timestamp': datetime.datetime(2019, 11, 20, 12, 47, 58, 430000), 'validator_username': 'tagger5', 'grafeed_approver': 'share10', 'grafeed_confirmed': ['czech republic', 'bulgaria', 'austria', 'malta', 'spain', 'italy', 'estonia', 'slovenia', 'latvia', 'lithuania', 'portugal', 'denmark', 'poland', 'germany', 'romania', 'finland', 'hungary', 'croatia', 'greece', 'cyprus', 'netherlands', 'luxembourg', 'sweden', 'eu', 'belgium', 'france'], 'grafeed_industries': [], 'grafeed_shifts': [], 'in_app': 'feed', 'imagehash': '000000e0feff00ff', 'confirmed': ['austria', 'belgium', 'czech republic', 'denmark', 'finland', 'france', 'germany', 'global', 'greece', 'hungary', 'iceland', 'ireland', 'luxembourg', 'netherlands', 'norway', 'poland', 'portugal', 'spain', 'sweden', 'switzerland', 'uk'], 'rejected': [], 'dhash': '80333781908e1a30', 'phash': 'd06a3f15d262b41f', 'grafeed_confirmed_before': ['belgium', 'sweden', 'poland', 'lithuania', 'france', 'slovenia', 'portugal', 'croatia', 'eu', 'italy', 'latvia', 'spain', 'denmark', 'hungary', 'netherlands', 'finland', 'austria', 'czech republic', 'romania', 'germany', 'greece', 'luxembourg', 'cyprus', 'malta', 'estonia', 'bulgaria']}\n",
      "\n",
      "{'_id': ObjectId('5dd3da5a3e616f8117162e33'), 'tweet_text': 'Level of Short Interest in Recent Tech IPOs via @theinformation https://t.co/NbmkhxyXcH', 'hashtags': [], 'tweet_timestamp': datetime.datetime(2019, 10, 18, 14, 39, 14), 'username': 'cheeseburgercap', 'user_id': 846397016741576704, 'user_counters': {'followers_count': 2188, 'friends_count': 644, 'listed_count': 63}, 'tweet_counters': {'retweet_count': 0, 'favorite_count': 3}, 'img_urls': 'http://pbs.twimg.com/media/EHKweR_XUAA7rCb.jpg', 'tweet_id': 1185203690178842625, 'downloaded': True, 'download_error': False, 'img_type': 'graphic', 's3_url': 'https://tv-ml-pipeline.s3.us-east-2.amazonaws.com/graphics/EHKweR_XUAA7rCb.jpg', 'extracted_text': 'Short Story How the level of short interest has evolved in newly public tech companies this year 80% 3 month 1 month Oct. 14, 2019 70 60 50 40 30 10 NA NA 0 Peloton Uber SmileDirectClub Slack Pinterest Lyft Zoom Source: S3 Partners 20', 'graph_type': 'column-vertical', 'confirmed_after_validate': ['tech', 'peloton', 'uber', 'zoom', 'smiledirectclub', 'slack', 'pinterest', 'lyft'], 'status': 'graphicone_feed', 'validated_timestamp': datetime.datetime(2019, 11, 20, 16, 49, 47, 215000), 'validator_username': 'tagger5', 'grafeed_approver': 'share10', 'grafeed_confirmed': ['peloton', 'technology', 'smiledirectclub', 'zoom', 'uber', 'slack', 'pinterest', 'lyft'], 'grafeed_industries': ['Machinery and construction', 'Networks and communications', 'Technology as you know it', 'Your health'], 'grafeed_shifts': ['Disruptive business models', 'Smart mobility', 'Connected world', 'Data owners', 'Healthcare transformation'], 'in_app': 'feed', 'imagehash': '3fff3f3e3e0e80ff', 'confirmed': ['ipo'], 'rejected': [], 'bert_tags': ['slack', 'ipo', 'smiledirectclub', 'uber', 'pinterest'], 'dhash': 'c641416454583140', 'phash': '9f866830c63f914f', 'grafeed_confirmed_before': ['technology', 'peloton', 'uber', 'pinterest', 'slack', 'lyft', 'smiledirectclub', 'zoom']}\n",
      "\n",
      "{'_id': ObjectId('5dd3dee33e616f8117162f55'), 'tweet_text': 'European car sales climbed in October, but the market remains dismal https://t.co/GcpslwGJuS https://t.co/FTU482zcCy', 'hashtags': [], 'tweet_timestamp': datetime.datetime(2019, 11, 19, 8, 8, 25), 'username': 'markets', 'user_id': 69620713, 'user_counters': {'followers_count': 537355, 'friends_count': 281, 'listed_count': 9091}, 'tweet_counters': {'retweet_count': 15, 'favorite_count': 11}, 'img_urls': 'http://pbs.twimg.com/media/EJuJ41UXkAE2dMw.png', 'tweet_id': 1196701750134218752, 'downloaded': True, 'download_error': False, 'img_type': 'graphic', 's3_url': 'https://tv-ml-pipeline.s3.us-east-2.amazonaws.com/graphics/EJuJ41UXkAE2dMw.png', 'extracted_text': 'Little Relief 2019 demand is dropping even with October jump INew Car Registrations Growth YoY (EU EFTA) 9% - 8 7 - 6 - 5 4 - 3 2 - 1 0 -1 -2 2019 ytd 2016 2013 2014 2015 2017 2018 Source: European Automobile Manufacturers Association', 'graph_type': 'column-vertical', 'confirmed_after_validate': ['vehicles', 'eu'], 'status': 'graphicone_feed', 'validated_timestamp': datetime.datetime(2019, 11, 19, 21, 43, 4, 877000), 'validator_username': 'tagger5', 'grafeed_approver': 'share10', 'grafeed_confirmed': ['vehicles', 'eu'], 'grafeed_industries': ['Cars, clothes and other staff'], 'grafeed_shifts': ['Smart mobility'], 'in_app': 'feed', 'imagehash': 'ffdfcf8f83077fff', 'confirmed': ['markets', 'vehicles'], 'rejected': [], 'bert_tags': ['markets', 'vehicles', 'eu'], 'dhash': 'cc3c9c1a3ea5c11d', 'phash': 'b8b9c1263fc160fc', 'grafeed_confirmed_before': ['vehicles', 'eu']}\n",
      "\n",
      "{'_id': ObjectId('5dd3ebd648e33bc613db7352'), 'tweet_text': '🤔 “Trend Set To Accelerate” - #Copper vs. #CrudeOil @bulldogholmes @mercenarygeo https://t.co/rlQmgnNLe6', 'hashtags': ['Copper', 'CrudeOil'], 'tweet_timestamp': datetime.datetime(2019, 10, 15, 14, 29, 52), 'username': 'giannikov', 'user_id': 3299696352, 'user_counters': {'followers_count': 2013, 'friends_count': 163, 'listed_count': 45}, 'tweet_counters': {'retweet_count': 2, 'favorite_count': 2}, 'img_urls': 'http://pbs.twimg.com/media/EG7Rj94UEAEbd7P.jpg', 'tweet_id': 1184114171203338240, 'downloaded': True, 'download_error': False, 'img_type': 'graphic', 's3_url': 'https://tv-ml-pipeline.s3.us-east-2.amazonaws.com/graphics/EG7Rj94UEAEbd7P.jpg', 'extracted_text': 'Trend Set to Accelerate Copper vs. Crude Oil 1.10 Copper future /WTI crude oil future (CME) on 10/31/19 (R1) SMAVG (60) (HG1 COMB) 9.0 1.03 1.00 US Crude Oil & Liquid Fuel Production Consumption (DOE) (L1) 8.0 0.90 7.0 0.80- 6.0 0.70 5.0 4.8 0.60 4.0 0.50- 3.0 0.40 2.0 0.30 1990-1994 1995-1999 2000-2004 2005-2009 2010-2014 2015-2019 Source: Bloomberg Intelligence', 'graph_type': 'line-area', 'bert_tags': ['commodities', 'oil', 'us'], 'bert_ts': datetime.datetime(2019, 11, 19, 16, 21, 8, 250000), 'status': 'graphicone_feed', 'confirmed_after_validate': ['commodities', 'oil', 'copper', 'wti', 'us', 'fuel'], 'validated_timestamp': datetime.datetime(2019, 11, 21, 16, 23, 43, 201000), 'validator_username': 'tagger5', 'grafeed_approver': 'share10', 'grafeed_confirmed': ['metals & mining', 'commodities', 'copper', 'wti', 'fuel', 'us', 'oil'], 'grafeed_industries': ['Energy sources', 'Raw materials'], 'grafeed_shifts': ['Clean energy', 'Smart mobility', 'Industry 4.0'], 'in_app': 'feed', 'imagehash': '7eb0c0e2ef3c1060', 'confirmed': ['commodities', 'oil'], 'rejected': [], 'dhash': 'e86103569a6022c8', 'phash': 'f5af4e9ee1245031', 'grafeed_confirmed_before': ['metals & mining', 'fuel', 'wti', 'us', 'copper', 'commodities', 'oil']}\n",
      "\n",
      "{'_id': ObjectId('5dd3ebdd48e33bc613db7357'), 'tweet_text': 'Jobs in US electricity generation by sector. https://t.co/kk6dpjd8FA', 'hashtags': [], 'tweet_timestamp': datetime.datetime(2019, 9, 29, 14, 47, 39), 'username': 'giannikov', 'user_id': 3299696352, 'user_counters': {'followers_count': 2013, 'friends_count': 163, 'listed_count': 45}, 'tweet_counters': {'retweet_count': 4, 'favorite_count': 4}, 'img_urls': 'http://pbs.twimg.com/media/EFo8MS7XkAEN79_.jpg', 'tweet_id': 1178320440441425921, 'downloaded': True, 'download_error': False, 'img_type': 'graphic', 's3_url': 'https://tv-ml-pipeline.s3.us-east-2.amazonaws.com/graphics/EFo8MS7XkAEN79_.jpg', 'extracted_text': 'Solar Leads Power Jobs US. electric power generation jobs Solar 242K Gas 113K Wind 112K Сoal |86K Hydroelectric |66K Other 38K Combined heat and power 29K Bioenergy 13K Oil and petroleum 12K Geothermal 9K Source: U.S. Energy and Employment Report 2019', 'graph_type': 'bar-horizontal', 'bert_tags': ['gas', 'commodities', 'us', 'energy', 'oil', 'electricity'], 'bert_ts': datetime.datetime(2019, 11, 19, 16, 21, 8, 545000), 'status': 'graphicone_feed', 'confirmed_after_validate': ['us', 'solar energy', 'electric power', 'gas', 'wind power', 'coal', 'hydro power', 'oil', 'petroleum', 'geothermal', 'labor'], 'validated_timestamp': datetime.datetime(2019, 11, 20, 15, 51, 39, 696000), 'validator_username': 'tagger5', 'grafeed_approver': 'share10', 'grafeed_confirmed': ['coal', 'electricity', 'hydro', 'commodities', 'geothermal', 'gas', 'wind power', 'us', 'solar energy', 'oil', 'labor'], 'grafeed_industries': ['Energy sources', 'Raw materials'], 'grafeed_shifts': ['Clean energy', 'Demographic challenges', 'Smart mobility', 'Industry 4.0', 'Disruptive business models'], 'in_app': 'feed', 'imagehash': '07031f1f3f3f3f27', 'confirmed': ['commodities', 'electricity', 'energy', 'gas', 'oil'], 'rejected': [], 'dhash': '4f77787478f8e0c6', 'phash': '8f3e60e3f69e1092', 'grafeed_confirmed_before': ['electricity', 'hydro', 'wind power', 'coal', 'geothermal', 'gas', 'us', 'solar energy', 'labor', 'commodities', 'oil']}\n",
      "\n",
      "{'_id': ObjectId('5dd792b61167352c5ccea554'), 'tweet_text': 'RT @dlacalle_IA: Global macro vs stocks.\\n\\nMarkets are reacting to one thing only: monetary policy https://t.co/tstFsC21FF', 'hashtags': [], 'tweet_timestamp': datetime.datetime(2019, 11, 21, 4, 34, 51), 'username': 'henrikzeberg', 'user_id': 351065125, 'user_counters': {'followers_count': 16275, 'friends_count': 1238, 'listed_count': 469}, 'tweet_counters': {'retweet_count': 93, 'favorite_count': 0}, 'img_urls': 'http://pbs.twimg.com/media/EJzOzy0WwAY_Y0T.jpg', 'tweet_id': 1197372780309831686, 'downloaded': True, 'download_error': False, 'img_type': 'graphic', 's3_url': 'https://tv-ml-pipeline.s3.us-east-2.amazonaws.com/graphics/EJzOzy0WwAY_Y0T.jpg', 'extracted_text': 'Break Away Global stock rally is diverging from weak economic data in 2019 MSCI All-Country World Index (R1) ISM Manufacturing PMI on 10/31/19 (L1) 550 60- 58- 500 T 56 54- 450 52 50 400 48- 2015 2016 2017 2018 2019 Source: Bloomberg Index level Index level', 'graph_type': 'line-area', 'bert_tags': ['msci', 'emerging markets', 'index', 'macroeconomics', 'pmi'], 'bert_ts': datetime.datetime(2019, 11, 22, 10, 49, 52, 808000), 'status': 'graphicone_feed', 'confirmed_after_validate': ['stocks', 'msci', 'ism', 'manufacturing', 'pmi', 'index'], 'validated_timestamp': datetime.datetime(2019, 11, 22, 15, 40, 22, 749000), 'validator_username': 'tagger5', 'grafeed_approver': 'bond', 'grafeed_confirmed': ['manufacturing', 'pmi', 'ism', 'bear market', 'index', 'global', 'macro', 'msci'], 'grafeed_industries': ['Machinery and construction', 'Banks, insurance and finance'], 'grafeed_shifts': ['Industry 4.0'], 'in_app': 'feed', 'imagehash': 'fc390b8383c303c0', 'confirmed': ['emerging markets', 'index', 'pmi'], 'rejected': [], 'dhash': '00631a27678aaa08', 'phash': 'add8d0e0fe90f131', 'grafeed_confirmed_before': ['bear market', 'macro', 'index', 'global', 'msci', 'pmi', 'manufacturing']}\n",
      "\n",
      "{'_id': ObjectId('5dd797451167352c5ccea717'), 'tweet_text': 'RT @SamanthaLaDuc: Recession triggers:\\n\\nMark Zandi, the chief economist at Moody’s Analytics https://t.co/tWHDk1K3Rh', 'hashtags': [], 'tweet_timestamp': datetime.datetime(2019, 11, 19, 20, 4), 'username': 'tywlis', 'user_id': 582315731, 'user_counters': {'followers_count': 151, 'friends_count': 176, 'listed_count': 5}, 'tweet_counters': {'retweet_count': 41, 'favorite_count': 0}, 'img_urls': 'http://pbs.twimg.com/media/EJvTCRHWkAAEut2.jpg', 'tweet_id': 1196881834002411523, 'downloaded': True, 'download_error': False, 'img_type': 'graphic', 's3_url': 'https://tv-ml-pipeline.s3.us-east-2.amazonaws.com/graphics/EJvTCRHWkAAEut2.jpg', 'extracted_text': \"Recession Triggers What Could Go Wrong? High Manufacturing recession Escalation in global trade war Equity market correction Trump Impeachment Central bank Oil price policy error Hong Kong boils over shock No Deal Brexit Shadow Banking disruption Chinese Swine Flu debt crisis epidemic Leveraged loan meltdown European debt crisis redux Interest rate spike Climate change Fed Chair fallout Powell removed Low High Economic Severity of Shock Low Source: Moody's Analytics Likelihood of Shock\", 'graph_type': 'line-area', 'bert_tags': ['loan', 'eu', 'politics', 'china', 'hong kong', 'trump', 'fed', 'debt', 'finance', 'markets', 'financial crisis', 'credit'], 'bert_ts': datetime.datetime(2019, 11, 22, 11, 9, 21, 518000), 'status': 'graphicone_feed', 'confirmed_after_validate': ['recession', 'manufacturing', 'markets', 'trade war', 'trump', 'oil', 'price', 'banking', 'hong kong', 'diseases', 'china', 'debt', 'crisis', 'shadow banking', 'brexit', 'europe', 'climate change', 'interest rates', 'loan'], 'validated_timestamp': datetime.datetime(2019, 11, 22, 15, 49, 0, 753000), 'validator_username': 'tagger5', 'grafeed_approver': 'bond', 'grafeed_confirmed': ['trump', 'hong kong', 'recession', 'loan', 'manufacturing', 'commodities', 'crisis', 'diseases', 'macro', 'china', 'interest rates', 'monetary policy', 'geopolitics', 'banking', 'oil', 'trade war', 'politics', 'brexit', 'eu', 'climate change', 'debt'], 'grafeed_industries': ['Energy sources', 'Raw materials', 'Banks, insurance and finance', 'Your health'], 'grafeed_shifts': ['Industry 4.0', 'Growing threats', 'Clean energy', 'Demographic challenges', 'Healthcare transformation', 'Smart mobility'], 'in_app': 'feed', 'imagehash': '1f9fedc1c3c1e901', 'confirmed': ['credit', 'debt', 'finance', 'financial crisis', 'loan', 'markets'], 'rejected': [], 'dhash': 'b430092f17071b03', 'phash': 'a8960d1c2df266f9', 'grafeed_confirmed_before': ['eu', 'loan', 'china', 'hong kong', 'trade war', 'politics', 'manufacturing', 'geopolitics', 'monetary policy', 'banking', 'macro', 'climate change', 'diseases', 'trump', 'interest rates', 'crisis', 'debt', 'recession', 'commodities', 'oil']}\n",
      "\n",
      "{'_id': ObjectId('5dd7a3a11167352c5cceab7e'), 'tweet_text': 'Did you know that the US stock market is 5x the size of the closest competitor?\\n#StockMarket https://t.co/PwWOiD22I4', 'hashtags': ['StockMarket'], 'tweet_timestamp': datetime.datetime(2019, 9, 23, 15, 0, 1), 'username': 'theglobalist', 'user_id': 18318098, 'user_counters': {'followers_count': 8215, 'friends_count': 494, 'listed_count': 356}, 'tweet_counters': {'retweet_count': 0, 'favorite_count': 2}, 'img_urls': 'http://pbs.twimg.com/media/EFGVApqWwAAuN1f.png', 'tweet_id': 1176149223919669254, 'downloaded': True, 'download_error': False, 'img_type': 'graphic', 's3_url': 'https://tv-ml-pipeline.s3.us-east-2.amazonaws.com/graphics/EFGVApqWwAAuN1f.png', 'extracted_text': \"All Stock's Capitalization Around the World Market Capitalization of Listed Domestic Companies ($) in 2018 MALAYSIA $04T 0.58% INDONESIA $O.49T 0.71% SWI TZERLAND $1.44T 21% THAILAND $O.5T 0.73% RUSSIA $0.58T 0.84% SPAIN $0.72T 1.05% CHINA SINGAPORE $0.69T 1% GERMANY $1.76T 2.56% $6.32T 9.21% SOUTH KOREA $1.41T 2.06% FRANCE $2.37T 3.45% BELGIUM $0.32T 0.47% JAPAN $5.3T 7.72% INDIA $2.08T 3.03% UNITED STATES $30.44T 44.33% OTHER $5.02T 7:32% HONG KONG $3.82T 5.56% CANADA $1.94T World's Region 2.82% AUSTRALIA REST OF THE WORLD BRAZIL LATIN AMERICA $0.92T 1.34% $41.6M HOLLAND AND CARRIBEAN 1.3% MEXICO $0.39T 0.56% MIDDLE EAST SAUDI ARABIA $0.5T 0.72% EUROPE AUSTRALIA $1.26T 1.84% ASIA NORTH AMERICA Note: The World Bank does not provide 2018 data for the following countries: Italy and U.K. Article and Sources: https://howmuch.net/articles/all-stocks-capitalization-around-the-world The World Bank - https://data.worldbank.org howMuch .net\", 'graph_type': 'pie-donut', 'bert_tags': ['carribean', 'world bank', 'uk', 'japan', 'south korea', 'malaysia', 'indonesia', 'italy', 'france', 'india', 'americas', 'australia', 'markets', 'germany', 'global', 'index', 'mexico', 'us', 'china'], 'bert_ts': datetime.datetime(2019, 11, 22, 12, 3, 1, 385000), 'status': 'graphicone_feed', 'confirmed_after_validate': ['stocks', 'capitalization', 'switzerland', 'germany', 'france', 'spain', 'belgium', 'malaysia', 'indonesia', 'thailand', 'russia', 'singapore', 'china', 'japan', 'south korea', 'india', 'hong kong', 'us', 'canada', 'brazil', 'mexico', 'australia', 'saudi arabia', 'latin america', 'caribbean', 'middle east', 'europe', 'asia', 'north america'], 'validated_timestamp': datetime.datetime(2019, 11, 22, 16, 43, 54, 605000), 'validator_username': 'tagger5', 'grafeed_approver': 'bond', 'grafeed_confirmed': ['russia', 'caribbean', 'spain', 'hong kong', 'us', 'latin america', 'india', 'south korea', 'switzerland', 'malaysia', 'singapore', 'asia', 'north america', 'indonesia', 'middle east', 'china', 'brazil', 'germany', 'japan', 'mexico', 'canada', 'thailand', 'eu', 'saudi arabia', 'belgium', 'australia', 'france'], 'grafeed_industries': [], 'grafeed_shifts': [], 'in_app': 'feed', 'imagehash': 'ffc38b83839384fd', 'confirmed': ['index', 'japan', 'markets'], 'rejected': [], 'dhash': '171f1b3b33330d59', 'phash': 'bdb1d26c89568d52', 'grafeed_confirmed_before': ['eu', 'asia', 'china', 'latin america', 'hong kong', 'malaysia', 'belgium', 'south korea', 'thailand', 'russia', 'mexico', 'middle east', 'spain', 'france', 'singapore', 'north america', 'indonesia', 'japan', 'caribbean', 'germany', 'india', 'us', 'australia', 'saudi arabia', 'canada', 'brazil', 'switzerland']}\n",
      "\n",
      "{'_id': ObjectId('5dd8090fbe5c3caff58b7fb5'), 'tweet_text': 'and macro update from @KKR_Co https://t.co/W3nE8zepi5', 'hashtags': [], 'tweet_timestamp': datetime.datetime(2019, 10, 25, 22, 55, 20), 'username': 'mebfaber', 'user_id': 19997064, 'user_counters': {'followers_count': 67639, 'friends_count': 795, 'listed_count': 1890}, 'tweet_counters': {'retweet_count': 1, 'favorite_count': 5}, 'img_urls': 'http://pbs.twimg.com/media/EHwlJEzWwAAlOW7.png', 'tweet_id': 1187865252106514438, 'downloaded': True, 'download_error': False, 'img_type': 'graphic', 's3_url': 'https://tv-ml-pipeline.s3.us-east-2.amazonaws.com/graphics/EHwlJEzWwAAlOW7.png', 'extracted_text': 'EXHIBIT 29 If Real Yields Fall Much Further, Valuations Too Are Likely to Contract Somewhat Median Trailing P/E for Various Real 10 Yr Yield Environments (1948 - Current) 17.7 17.7 Median 16.4 17 16.0 15.9 15.9 14.5 13.9 13 11.2 10.8 11 8.1 <-2% -1-2% -1-0 % 0-1 % 1-2% 2-3% 3-4% 4-5 % 5-6% >6% Real 10 Year Treasury Yield % Data at September 6, 2019. Source: Bloomberg. 19 7 Trailing Price-to-Ear nings Ratio', 'graph_type': 'other-chart', 'confirmed_after_validate': ['bonds', 'valuation', 'price', 'earnings', 'environment', 'government bonds'], 'status': 'graphicone_feed', 'validated_timestamp': datetime.datetime(2019, 11, 22, 17, 17, 13, 764000), 'validator_username': 'tagger5', 'grafeed_approver': 'bond', 'grafeed_confirmed': ['environment', 'bonds', 'government bonds'], 'grafeed_industries': [], 'grafeed_shifts': ['Clean energy'], 'in_app': 'feed', 'imagehash': 'ffffffe3c181c1ff', 'confirmed': ['index'], 'rejected': [], 'bert_tags': ['index'], 'dhash': '351b45478b11274c', 'phash': 'ea85967a67865a91', 'grafeed_confirmed_before': ['government bonds', 'environment', 'bonds']}\n",
      "\n",
      "{'_id': ObjectId('5dd9c774e321ac72a79fb521'), 'tweet_text': \"RT @JamesMarsh79: i think this proves Nassim's point about size. https://t.co/fCuYrzuXkv\", 'hashtags': [], 'tweet_timestamp': datetime.datetime(2019, 11, 20, 15, 43, 50), 'username': 'nntaleb', 'user_id': 381289719, 'user_counters': {'followers_count': 425898, 'friends_count': 988, 'listed_count': 6925}, 'tweet_counters': {'retweet_count': 74, 'favorite_count': 0}, 'img_urls': 'http://pbs.twimg.com/media/EJ05WP4XsAAr8Oa.png', 'tweet_id': 1197178746329075712, 'downloaded': True, 'download_error': False, 'img_type': 'graphic', 's3_url': 'https://tv-ml-pipeline.s3.us-east-2.amazonaws.com/graphics/EJ05WP4XsAAr8Oa.png', 'extracted_text': 'Companies To Have Reached A Four Percent Weight In The S&P 500, 1990 To Date (...and how long they were able to stay there) 12 months 2018 The Leuthold Group 12 months above 4% 2 mo. 10 months 5 % 1 mo. 15 months 2 mos. 1 month 4% Apple 3 % Cisco Systems 2% Exxon Mobil Microsoft General Electric 1% 0% -Courtesy Fher teathold Group', 'graph_type': 'line-area', 'confirmed_after_validate': ['spy', 'microsoft', 'general motors', 'cisco', 'exxonmobil', 'apple'], 'status': 'graphicone_feed', 'validated_timestamp': datetime.datetime(2019, 11, 24, 7, 12, 28, 704000), 'validator_username': 'tagger5', 'grafeed_approver': 'bond', 'grafeed_confirmed': ['apple', 'microsoft', 's&p', 'index', 'general electric', 'cisco', 'exxon', 'general motors'], 'grafeed_industries': ['Technology as you know it', 'Cars, clothes and other staff', 'Networks and communications', 'Energy sources'], 'grafeed_shifts': ['Connected world', 'Data owners', 'Disruptive business models', 'Clean energy', 'Smart mobility', 'Industry 4.0', 'Virtual consumption'], 'in_app': 'feed', 'imagehash': '0f1efede3d671bfc', 'confirmed': ['index', 's&p'], 'rejected': [], 'bert_tags': ['index', 'apple', 'the leuthold group', 'exxon mobil', 's&p', 'cisco systems'], 'dhash': '38f6a0b0a5ce2629', 'phash': '9c1939271a35e3ce', 'grafeed_confirmed_before': ['microsoft', 'general electric', 'cisco', 's&p', 'index', 'exxon', 'apple']}\n",
      "\n",
      "{'_id': ObjectId('5dd9d98c99093d6f05111e22'), 'tweet_text': '#Tech sector generates more than 50% of its revenue from non-U.S. regions. https://t.co/k2gaUJquk4', 'hashtags': ['Tech'], 'tweet_timestamp': datetime.datetime(2019, 10, 21, 15, 31, 40), 'username': 'mstarresearch', 'user_id': 16439117, 'user_counters': {'followers_count': 47914, 'friends_count': 1392, 'listed_count': 902}, 'tweet_counters': {'retweet_count': 2, 'favorite_count': 8}, 'img_urls': 'http://pbs.twimg.com/media/EHaZPelWsAA21dY.png', 'tweet_id': 1186304049328640000, 'downloaded': True, 'download_error': False, 'img_type': 'graphic', 's3_url': 'https://tv-ml-pipeline.s3.us-east-2.amazonaws.com/graphics/EHaZPelWsAA21dY.png', 'extracted_text': 'U.S. Sector Global Revenue Exposure % of Non-U.S. Revenue Technology 55.86 Basic Materials 48.77 Consumer Defensive 40.04 Energy 38.03 Healthcare 36.70 U.S. Market 35.90 Industrials 33.38 Consumer Cyclical 32.25 Financial Services 24.74 Commun Services 15.45 Real Estate 7.89 Utilities 3.10 0.00 10.00 20.00 30.00 40.00 50.00 60.00 Source: Morningstar Direct Cloud. Data as of Sept. 30, 2019', 'graph_type': 'bar-horizontal', 'bert_tags': ['us'], 'bert_ts': datetime.datetime(2019, 11, 24, 1, 16, 20, 821000), 'status': 'graphicone_feed', 'confirmed_after_validate': ['us', 'revenue', 'technology', 'materials', 'consumer', 'energy', 'healthcare', 'markets', 'industrials', 'consumer cyclicals', 'financial services', 'communications services', 'real estate', 'utilities'], 'validated_timestamp': datetime.datetime(2019, 11, 24, 7, 19, 11, 863000), 'validator_username': 'tagger5', 'grafeed_approver': 'bond', 'grafeed_confirmed': ['consumer', 'health', 'communications', 'materials', 'utilities', 'real estate', 'energy', 'financials', 'technology', 'consumer discretionary', 'us', 'global', 'industrials'], 'grafeed_industries': ['Raw materials', 'Energy sources', 'Your health', 'Machinery and construction', 'Cars, clothes and other staff', 'Banks, insurance and finance', 'Networks and communications', 'Eat and drink'], 'grafeed_shifts': ['Industry 4.0', 'Clean energy', 'Healthcare transformation', 'Demographic challenges', 'Digital commerce', 'Growing threats', 'Data owners'], 'in_app': 'feed', 'imagehash': '9f818387878f9fff', 'confirmed': ['us'], 'rejected': [], 'dhash': '3c0f170e0d3c3068', 'phash': 'be60cb9b969c1127', 'grafeed_confirmed_before': ['health', 'materials', 'global', 'utilities', 'real estate', 'industrials', 'communications', 'consumer discretionary', 'consumer', 'us', 'energy', 'financials', 'technology']}\n",
      "\n",
      "{'_id': ObjectId('5dd9e6b67f6b316ee02c0374'), 'tweet_text': 'Robot density across various markets. https://t.co/RKQr6JOL4V', 'hashtags': [], 'tweet_timestamp': datetime.datetime(2019, 9, 26, 7, 41, 20), 'username': 'tejus_sawjiani', 'user_id': 14697392, 'user_counters': {'followers_count': 3420, 'friends_count': 1445, 'listed_count': 158}, 'tweet_counters': {'retweet_count': 0, 'favorite_count': 2}, 'img_urls': 'http://pbs.twimg.com/media/EFX91iQUcAIBL_l.jpg', 'tweet_id': 1177125989928751104, 'downloaded': True, 'download_error': False, 'img_type': 'graphic', 's3_url': 'https://tv-ml-pipeline.s3.us-east-2.amazonaws.com/graphics/EFX91iQUcAIBL_l.jpg', 'extracted_text': 'Robot density in 2017 Robots per 10,000 employees 1,200 LLL 1,162 1,158 651 539 225 191 170 117 85 48 42 6 USA China Brazil India Japan Germany UK General Industry Automotive Source: IFR World Robotics 2017 (published October 2018)', 'graph_type': 'column-vertical', 'confirmed_after_validate': ['robotics', 'industrial', 'us', 'japan', 'germany', 'uk', 'china', 'brazil', 'india', 'robots', 'labor', 'production', 'automotive', 'industry'], 'status': 'graphicone_feed', 'validated_timestamp': datetime.datetime(2019, 11, 24, 9, 9, 17, 901000), 'validator_username': 'bond', 'grafeed_approver': 'bond', 'grafeed_confirmed': ['china', 'brazil', 'germany', 'uk', 'automotive', 'japan', 'us', 'industrials', 'robotics', 'india', 'labor'], 'grafeed_industries': ['Machinery and construction', 'Cars, clothes and other staff'], 'grafeed_shifts': ['Disruptive business models', 'Industry 4.0', 'Demographic challenges'], 'in_app': 'feed', 'imagehash': '7f3f1f0f070100ff', 'confirmed': ['employment', 'germany', 'japan', 'labor', 'technology', 'uk', 'us'], 'rejected': [], 'bert_tags': ['germany', 'technology', 'us', 'china', 'uk', 'japan', 'labor', 'employment', 'brazil', 'india'], 'dhash': 'e1e1b5352e3713e9', 'phash': 'bf81c33cc6593cc2', 'grafeed_confirmed_before': ['uk', 'brazil', 'china', 'robotics', 'india', 'germany', 'japan', 'us', 'labor', 'automotive', 'industrials']}\n",
      "\n",
      "{'_id': ObjectId('5dd9edde7f6b316ee02c06a5'), 'tweet_text': \"20 Years ago it was the dot-com bubble. Now it's the unicorn bubble. https://t.co/Efmvv9jZnQ #IPO https://t.co/USh2vN3UhY\", 'hashtags': ['IPO'], 'tweet_timestamp': datetime.datetime(2019, 11, 18, 22, 5, 7), 'username': 'ipotweet', 'user_id': 49637104, 'user_counters': {'followers_count': 15123, 'friends_count': 522, 'listed_count': 524}, 'tweet_counters': {'retweet_count': 7, 'favorite_count': 5}, 'img_urls': 'http://pbs.twimg.com/media/EJr_0IPXUAgtgen.png', 'tweet_id': 1196549925242310659, 'downloaded': True, 'download_error': False, 'img_type': 'graphic', 's3_url': 'https://tv-ml-pipeline.s3.us-east-2.amazonaws.com/graphics/EJr_0IPXUAgtgen.png', 'extracted_text': 'Unicorn Stampede Number of Private Billion-Dollar Us Companies 210 225 200 175 145 150 115 125 JOBS 100 105 100 Act 68 75 32 25 50 20 16 25 2011 2014 2016 2010 2012 2013 2015 2017 2018 2019 Source: Estimate-Renaissance Capital Unicorn Count', 'graph_type': 'line-area', 'confirmed_after_validate': ['unicorns', 'us', 'business', 'private equity'], 'status': 'graphicone_feed', 'validated_timestamp': datetime.datetime(2019, 11, 24, 9, 26, 45, 455000), 'validator_username': 'bond', 'grafeed_approver': 'bond', 'grafeed_confirmed': ['private equity', 'unicorns', 'us'], 'grafeed_industries': [], 'grafeed_shifts': [], 'in_app': 'feed', 'imagehash': 'c3c3fe79530f9f15', 'confirmed': ['ipo', 'us'], 'rejected': [], 'bert_tags': ['ipo', 'us'], 'dhash': '868ee9b1a6183169', 'phash': 'a0e037356cdb93c6', 'grafeed_confirmed_before': ['private equity', 'us', 'unicorns']}\n",
      "\n",
      "{'_id': ObjectId('5dd9ffd256421e7378e51693'), 'tweet_text': 'RT @FaithKn66953492: We need junior exploration companies! #juniormining #Gold #mining #Quebec #Windfall Lake https://t.co/djmsoATL62', 'hashtags': ['juniormining', 'Gold', 'mining', 'Quebec', 'Windfall'], 'tweet_timestamp': datetime.datetime(2019, 11, 15, 10, 33, 39), 'username': 'paola_rojas', 'user_id': 33749800, 'user_counters': {'followers_count': 3435, 'friends_count': 966, 'listed_count': 72}, 'tweet_counters': {'retweet_count': 2, 'favorite_count': 0}, 'img_urls': 'http://pbs.twimg.com/media/EJWRlZ5U4AAoF1B.jpg', 'tweet_id': 1195288746771353601, 'downloaded': True, 'download_error': False, 'img_type': 'graphic', 's3_url': 'https://tv-ml-pipeline.s3.us-east-2.amazonaws.com/graphics/EJWRlZ5U4AAoF1B.jpg', 'extracted_text': \"Peak Gold Output from the world's gold mines will top out in 2019 before declining 3,500 3,000 2,500 2,000 1,500 1,000 500 0 2021 2016 2019 2020 2024 2025 2015 2017 2018 2022 2023 Bloomberg Source: BMO Capital Markets Gold supply (Tons)\", 'graph_type': 'column-vertical', 'bert_tags': ['commodities', 'gold', 'metals & mining'], 'bert_ts': datetime.datetime(2019, 11, 24, 3, 58, 42, 62000), 'status': 'graphicone_feed', 'confirmed_after_validate': ['commodities', 'gold', 'metals & mining'], 'validated_timestamp': datetime.datetime(2019, 11, 24, 13, 23, 8, 845000), 'validator_username': 'tagger5', 'grafeed_approver': 'bond', 'grafeed_confirmed': ['commodities', 'metals & mining', 'gold'], 'grafeed_industries': ['Energy sources', 'Raw materials'], 'grafeed_shifts': ['Industry 4.0'], 'in_app': 'feed', 'imagehash': 'None', 'confirmed': ['commodities', 'gold', 'metals & mining'], 'rejected': [], 'dhash': '0824e0c8c6c2c201', 'phash': 'c07e7eb5b0c0c82f', 'grafeed_confirmed_before': ['metals & mining', 'gold', 'commodities']}\n",
      "\n",
      "{'_id': ObjectId('5dda023c56421e7378e517cd'), 'tweet_text': 'Amazon approaches $10 billion in US net digital ad revenues this year\\n\\nhttps://t.co/XBPGh7iOVh https://t.co/95TFEA140h', 'hashtags': [], 'tweet_timestamp': datetime.datetime(2019, 11, 4, 18, 23, 49), 'username': 'ivan_brussels', 'user_id': 310418698, 'user_counters': {'followers_count': 4690, 'friends_count': 117, 'listed_count': 143}, 'tweet_counters': {'retweet_count': 2, 'favorite_count': 19}, 'img_urls': 'http://pbs.twimg.com/media/EIjG5OaWwAEML8j.jpg', 'tweet_id': 1191420801003794432, 'downloaded': True, 'download_error': False, 'img_type': 'graphic', 's3_url': 'https://tv-ml-pipeline.s3.us-east-2.amazonaws.com/graphics/EIjG5OaWwAEML8j.jpg', 'extracted_text': 'US Net Digital Ad Revenues at Amazon, 2018-2021 billions, % change and % of total digital ad spending 122.6% $16.71 $13.06 $9.85 $7.41 32.5% 28.0% 33.1% 9.7% 8.6% 6.8% 7.6% 2019 2018 | Digital ad revenues % change 2020 2021 % of total digital ad spending Note: includes advertising that appears on desktop and laptop computers as well as mobile phones, tablets and other internet-connected devices, and includes all the various formats of advertising on those platforms; net ad revenues after companies pay traffic acquisition costs (TAC) to partner sites; *in 2018, Amazon changed how it accounted for advertising revenues to comply with ASC Topic 606 Source: eMarketer, Oct 2019 www.eMarketer.com 250082', 'graph_type': 'column-vertical', 'bert_tags': ['amazon', 'advertising', 'google', 'us', 'smartphone'], 'bert_ts': datetime.datetime(2019, 11, 24, 4, 11, 13, 839000), 'status': 'graphicone_feed', 'confirmed_after_validate': ['us', 'digital', 'revenue', 'amazon'], 'validated_timestamp': datetime.datetime(2019, 11, 24, 10, 13, 35, 656000), 'validator_username': 'tagger5', 'grafeed_approver': 'share10', 'grafeed_confirmed': ['amazon', 'digital', 'us'], 'grafeed_industries': ['Cars, clothes and other staff', 'Technology as you know it'], 'grafeed_shifts': ['Disruptive business models', 'Digital commerce'], 'in_app': 'feed', 'imagehash': 'fffcd00000ffffff', 'confirmed': ['advertising', 'google', 'smartphone'], 'rejected': [], 'dhash': 'db4514d4d4f41fb9', 'phash': 'd4569bab2129ec6c', 'grafeed_confirmed_before': ['us', 'amazon', 'digital']}\n",
      "\n",
      "{'_id': ObjectId('5dda1c2f56421e7378e521cd'), 'tweet_text': '#AI and #HedgeFunds: a natural marriage or failed vision? https://t.co/46Wr71P0b8 https://t.co/GIWcjT6GO2', 'hashtags': ['AI', 'HedgeFunds'], 'tweet_timestamp': datetime.datetime(2019, 10, 10, 11, 17, 1), 'username': 'michaelgofman', 'user_id': 54664802, 'user_counters': {'followers_count': 11232, 'friends_count': 12360, 'listed_count': 103}, 'tweet_counters': {'retweet_count': 1, 'favorite_count': 2}, 'img_urls': 'http://pbs.twimg.com/media/EGg1eBrWsAAlWYS.jpg', 'tweet_id': 1182253696341741570, 'downloaded': True, 'download_error': False, 'img_type': 'graphic', 's3_url': 'https://tv-ml-pipeline.s3.us-east-2.amazonaws.com/graphics/EGg1eBrWsAAlWYS.jpg', 'extracted_text': 'Robot Future Greenwich Associates surveyed market participants how they see Al affecting trading 4% Others 6% Generating trade 13%deas Risk management 41% Algorithmic trading 36% Facilitating analysis of news, content and data Source: Greenwich Associates 2019 Future of Bloomberg Trading study based on 107 respondents', 'graph_type': 'pie-donut', 'confirmed_after_validate': ['robots', 'investing', 'Risk', 'data', 'big data', 'trading'], 'status': 'graphicone_feed', 'validated_timestamp': datetime.datetime(2019, 11, 24, 10, 3, 28, 86000), 'validator_username': 'bond', 'grafeed_approver': 'bond', 'grafeed_confirmed': ['data', 'robotics', 'trading'], 'grafeed_industries': ['Banks, insurance and finance', 'Technology as you know it'], 'grafeed_shifts': ['Data owners', 'Growing threats', 'Disruptive business models'], 'in_app': 'feed', 'imagehash': '0fffff87c387ff27', 'confirmed': ['markets'], 'rejected': [], 'bert_tags': ['ai', 'markets'], 'dhash': 'ed0d102d4d0c20cc', 'phash': 'b689992666999be1', 'grafeed_confirmed_before': ['data', 'trading', 'robotics']}\n",
      "\n",
      "{'_id': ObjectId('5dda3142ecf2eeb7be92400b'), 'tweet_text': '1. Corporate Income Tax  (@taxfoundation) https://t.co/ykLjjVpKoN', 'hashtags': [], 'tweet_timestamp': datetime.datetime(2019, 11, 18, 18, 40, 16), 'username': 'planmaestro', 'user_id': 31186367, 'user_counters': {'followers_count': 15953, 'friends_count': 850, 'listed_count': 603}, 'tweet_counters': {'retweet_count': 1, 'favorite_count': 10}, 'img_urls': 'http://pbs.twimg.com/media/EJrQ7ESXkAUsMy8.jpg', 'tweet_id': 1196498370556256258, 'downloaded': True, 'download_error': False, 'img_type': 'graphic', 's3_url': 'https://tv-ml-pipeline.s3.us-east-2.amazonaws.com/graphics/EJrQ7ESXkAUsMy8.jpg', 'extracted_text': 'Average Top Corporate Income Tax Rate by Region and Decade 50 1990 2017 1980 2000 2010 45 40 35 30 25 20 15 10 5 Asia North South World Africa Europe Oceania America America Source: Tax Foundation. Data compiled from numerous sources including: PwC, KPMG, Deloitte, and the U.S. Department of Agriculture. TAX FOUNDATION @TaxFoundation Average Top Rate', 'graph_type': 'column-vertical', 'bert_tags': ['americas', 'africa', 'asia', 'eu', 'oceania'], 'bert_ts': datetime.datetime(2019, 11, 24, 7, 33, 54, 925000), 'status': 'graphicone_feed', 'confirmed_after_validate': ['us', 'taxes', 'Africa', 'Asia', 'europe', 'americas', 'oceania', 'income', 'world'], 'validated_timestamp': datetime.datetime(2019, 11, 24, 10, 21, 27, 916000), 'validator_username': 'bond', 'grafeed_approver': 'bond', 'grafeed_confirmed': ['americas', 'africa', 'asia', 'eu', 'us', 'oceania', 'global', 'taxes'], 'grafeed_industries': [], 'grafeed_shifts': [], 'in_app': 'feed', 'imagehash': 'ffffbf818080ff00', 'dhash': '25585171655d498b', 'phash': 'bf81917e6cca3984', 'grafeed_confirmed_before': ['global', 'taxes', 'oceania', 'eu', 'americas', 'us']}\n",
      "\n",
      "{'_id': ObjectId('5dda3147ecf2eeb7be924013'), 'tweet_text': '9. Housing, Healthcare, and Education  (@nytimes) https://t.co/g7IdYZXKi6', 'hashtags': [], 'tweet_timestamp': datetime.datetime(2019, 11, 18, 18, 13, 15), 'username': 'planmaestro', 'user_id': 31186367, 'user_counters': {'followers_count': 15953, 'friends_count': 850, 'listed_count': 603}, 'tweet_counters': {'retweet_count': 2, 'favorite_count': 7}, 'img_urls': 'http://pbs.twimg.com/media/EJrKuTLWkAAqbbd.jpg', 'tweet_id': 1196491573170716674, 'downloaded': True, 'download_error': False, 'img_type': 'graphic', 's3_url': 'https://tv-ml-pipeline.s3.us-east-2.amazonaws.com/graphics/EJrKuTLWkAAqbbd.jpg', 'extracted_text': \"Rising Costs 0utpace Income Growth 180% Education Costs 160 U.S. nominal prices and income, 1995 100 % Housing costs 140 Health care costs 120 . Median income 100 '00 '95 '05 '10 '15 '17 Notes: Median income is used as a proxy for the middle class. Both prices and income have been adjusted for Source: Organization for Economic Cooperation and Development report from May 2019. inflation. Michael Förster, a senior policy analyst at the O.E.C.D.'s jobs and income division.\", 'graph_type': 'line-area', 'bert_tags': ['household', 'health'], 'bert_ts': datetime.datetime(2019, 11, 24, 7, 33, 52, 900000), 'status': 'graphicone_feed', 'imagehash': 'c3ffbfecdc803f01', 'confirmed': ['health', 'household'], 'rejected': [], 'confirmed_after_validate': ['health', 'us', 'healthcare', 'education', 'real estate', 'wealth', 'personal finance', 'middle class', 'inflation', 'macroeconomics', 'social'], 'validated_timestamp': datetime.datetime(2019, 12, 8, 13, 13, 0, 540000), 'validator_username': 'tagger48', 'grafeed_approver': 'share10', 'grafeed_confirmed': ['health', 'wealth', 'real estate', 'personal finance', 'us', 'social', 'inflation', 'education', 'macro'], 'grafeed_industries': ['Your health', 'Cars, clothes and other staff', 'Banks, insurance and finance'], 'grafeed_shifts': ['Healthcare transformation', 'Demographic challenges'], 'dhash': '96802c0994244307', 'phash': 'fef0257070373e60', 'in_app': 'feed', 'upload_timestamp': datetime.datetime(2020, 1, 20, 19, 59, 20, 135000), 'grafeed_confirmed_before': ['health', 'macro', 'inflation', 'education', 'real estate', 'wealth', 'us', 'social', 'personal finance']}\n",
      "\n",
      "{'_id': ObjectId('5dda3160ecf2eeb7be92403b'), 'tweet_text': '4. WeWork  (@chartrdaily) https://t.co/7UrDjQ3Okg', 'hashtags': [], 'tweet_timestamp': datetime.datetime(2019, 11, 10, 15, 49, 46), 'username': 'planmaestro', 'user_id': 31186367, 'user_counters': {'followers_count': 15953, 'friends_count': 850, 'listed_count': 603}, 'tweet_counters': {'retweet_count': 5, 'favorite_count': 11}, 'img_urls': 'http://pbs.twimg.com/media/EJBdH6vX0AE1B2T.jpg', 'tweet_id': 1193556359922499585, 'downloaded': True, 'download_error': False, 'img_type': 'graphic', 's3_url': 'https://tv-ml-pipeline.s3.us-east-2.amazonaws.com/graphics/EJBdH6vX0AE1B2T.jpg', 'extracted_text': 'The wework Valuation: One Hell Of A Ride $104bn $100bn At the top of their estimate range Morgan Stanley suggested The We Company could be worth >$100bn $80bn $60bn $40bn VC Rounds G $20bn E $10bn C B A $0bn 2013 2018 2019 2012 2014 2015 2016 2017 Source: CB Insights, Wall Street Journal, chartr Crunchbase, Chartr Estimates Valuation Range L', 'graph_type': 'line-area', 'confirmed_after_validate': ['wework', 'venture capital', 'startups', 'unicorns', 'real estate'], 'status': 'graphicone_feed', 'validated_timestamp': datetime.datetime(2019, 11, 24, 10, 37, 15, 176000), 'validator_username': 'bond', 'grafeed_approver': 'bond', 'grafeed_confirmed': ['unicorns', 'real estate', 'startups', 'venture', 'wework'], 'grafeed_industries': ['Houses, offices, plants'], 'grafeed_shifts': ['Disruptive business models'], 'in_app': 'feed', 'imagehash': '81c9f2c2fee8851f', 'bert_tags': ['morgan stanley', 'wework'], 'dhash': '1b19a622ec91156d', 'phash': 'fa782b731535a096', 'grafeed_confirmed_before': ['unicorns', 'wework', 'venture', 'startups', 'real estate']}\n",
      "\n",
      "{'_id': ObjectId('5dda3296ecf2eeb7be924071'), 'tweet_text': 'Chart: Cost and loss of device are most cited reasons why people share phones. https://t.co/3nicATbTbD https://t.co/1sDN9pnlqU', 'hashtags': [], 'tweet_timestamp': datetime.datetime(2019, 11, 20, 19, 22, 1), 'username': 'pewresearch', 'user_id': 22642788, 'user_counters': {'followers_count': 405974, 'friends_count': 92, 'listed_count': 13568}, 'tweet_counters': {'retweet_count': 1, 'favorite_count': 3}, 'img_urls': 'http://pbs.twimg.com/media/EJ1tqksWwAAfSzR.jpg', 'tweet_id': 1197233656114356229, 'downloaded': True, 'download_error': False, 'img_type': 'graphic', 's3_url': 'https://tv-ml-pipeline.s3.us-east-2.amazonaws.com/graphics/EJ1tqksWwAAfSzR.jpg', 'extracted_text': 'Cost and loss of device are most-cited why people share phones reasons % of mobile sharers who say they share rather than own a mobile phone primarily because.. They cannot afford a mobile phone 34% Their mobile phone was 31 lost, broken or stolen They don\\'t need to use a mobile phone regularly 15 They think mobile phones 6 are too complicated to use They do not like using 5 mobile phones They are afraid that their 2 mobile phone will be stolen They are not allowed to 1 own a mobile phone Notes: Percentages are eight-country medians. Jordan, Lebanon and Vietnam are excluded due to low sample size. Source: Mobile Technology and Its Social Impact Survey 2018. Q6 \"Mobile Connectivity in Emerging Economies\" PEW RESEARCH CENTER', 'graph_type': 'bar-horizontal', 'confirmed_after_validate': ['mobile', 'equality'], 'status': 'graphicone_feed', 'validated_timestamp': datetime.datetime(2019, 11, 24, 12, 37, 26, 537000), 'validator_username': 'share10', 'grafeed_approver': 'share10', 'grafeed_confirmed': ['smartphone', 'mobile', 'equality'], 'grafeed_industries': ['Networks and communications'], 'grafeed_shifts': ['Connected world', 'Demographic challenges', 'Growing threats'], 'in_app': 'feed', 'imagehash': '01e1e187c78fffff', 'confirmed': ['smartphone', 'technology'], 'rejected': [], 'bert_tags': ['vietnam', 'jordan', 'technology', 'lebanon', 'smartphone'], 'dhash': 'db27276e28181fb7', 'phash': 'ae6e999197246a6a', 'grafeed_confirmed_before': ['mobile', 'equality', 'smartphone']}\n",
      "\n",
      "{'_id': ObjectId('5dda352fecf2eeb7be924198'), 'tweet_text': 'Only state owned oil companies have higher leases than WeWork. \\n\\nhttps://t.co/gNTWCAGsKm https://t.co/Thjmdp1sOE', 'hashtags': [], 'tweet_timestamp': datetime.datetime(2019, 9, 8, 20, 17, 5), 'username': 'jtepper2', 'user_id': 13153002, 'user_counters': {'followers_count': 30404, 'friends_count': 825, 'listed_count': 828}, 'tweet_counters': {'retweet_count': 8, 'favorite_count': 38}, 'img_urls': 'http://pbs.twimg.com/media/ED9-HrKW4AIIw-Q.jpg', 'tweet_id': 1170793200270880773, 'downloaded': True, 'download_error': False, 'img_type': 'graphic', 's3_url': 'https://tv-ml-pipeline.s3.us-east-2.amazonaws.com/graphics/ED9-HrKW4AIIw-Q.jpg', 'extracted_text': \"Hey, Big Renters WeWork's Lease Commitments are Among the World's Largest Petrobras Sinopec WeWork American Tower Petrochina Brookfield Properties Walgreens Boots China Mobile CVS Health AT&T I $100 Billion 20 40 60 80 Source: Bloomberg Shows future minimum operating lease obligations as of latest full year, except for WeWork where I've used the figure provided in the prospectus. That figure includes a small amount of finance leases. BloombergOpinion\", 'graph_type': 'bar-horizontal', 'bert_tags': ['china mobile', 'wework', 'saudi arabia', 'us'], 'bert_ts': datetime.datetime(2019, 11, 24, 7, 46, 45, 332000), 'status': 'graphicone_feed', 'confirmed_after_validate': ['wework', 'petrobras', 'sinopec', 'american tower', 'petrochina', 'brookfield properties', 'walgreens boots', 'china mobile', 'cvs health', 'at&t'], 'validated_timestamp': datetime.datetime(2019, 11, 24, 11, 11, 55, 817000), 'validator_username': 'tagger5', 'grafeed_approver': 'bond', 'grafeed_confirmed': ['sinopec', 'at&t', 'petrochina', 'china mobile', 'american tower', 'walgreens boots alliance', 'cvs health', 'brookfield properties', 'petrobras', 'wework'], 'grafeed_industries': ['Energy sources', 'Networks and communications', 'Your health', 'Cars, clothes and other staff'], 'grafeed_shifts': ['Clean energy', 'Connected world', 'Disruptive business models', 'Healthcare transformation', 'Digital commerce'], 'in_app': 'feed', 'imagehash': 'bfc1c7cfcfcfffbf', 'confirmed': ['saudi arabia'], 'rejected': [], 'dhash': '631f1c1a1a181575', 'phash': 'b823c6cc8f8730b7', 'grafeed_confirmed_before': ['china mobile', 'wework', 'brookfield properties', 'sinopec', 'walgreens boots alliance', 'at&t', 'petrobras', 'cvs health', 'petrochina']}\n",
      "\n",
      "{'_id': ObjectId('5dda3629ecf2eeb7be9241ff'), 'tweet_text': 'RT @RobPana: Africa stands by fossil fuel push to underpin growth\\nhttps://t.co/aJZYvuvnnf #OOTT, #Oil https://t.co/00zgifsQeX', 'hashtags': ['OOTT', 'Oil'], 'tweet_timestamp': datetime.datetime(2019, 11, 12, 12, 24, 31), 'username': 'baldersdale', 'user_id': 26498571, 'user_counters': {'followers_count': 5906, 'friends_count': 2005, 'listed_count': 276}, 'tweet_counters': {'retweet_count': 3, 'favorite_count': 0}, 'img_urls': 'http://pbs.twimg.com/media/EJLA_1RXsAAQcw7.jpg', 'tweet_id': 1194229483005497344, 'downloaded': True, 'download_error': False, 'img_type': 'graphic', 's3_url': 'https://tv-ml-pipeline.s3.us-east-2.amazonaws.com/graphics/EJLA_1RXsAAQcw7.jpg', 'extracted_text': \"AFRICA'S ENERGY DEMAND OUTLOOK (million mtoe) 1.50 Other renewables 1.25 Nuclear 1.00 Hydro 0.75 Coal Natural gas 0.50 Oil 0.25 Bioenergy 0.00 2018 2025 2030 2035 2040 Note: Shows IEA's Stated Policies Scenario Source: IEA\", 'graph_type': 'column-vertical', 'bert_tags': ['africa', 'gas', 'commodities', 'energy', 'oil', 'coal', 'iea'], 'bert_ts': datetime.datetime(2019, 11, 24, 7, 51, 17, 272000), 'status': 'graphicone_feed', 'confirmed_after_validate': ['commodities', 'oil', 'Africa', 'energy', 'iea', 'renewables', 'nuclear', 'hydro power', 'coal', 'gas', 'biofuel'], 'validated_timestamp': datetime.datetime(2019, 11, 24, 11, 10, 42, 240000), 'validator_username': 'bond', 'grafeed_approver': 'bond', 'grafeed_confirmed': ['coal', 'iea', 'hydro', 'commodities', 'renewables', 'biofuel', 'energy', 'africa', 'gas', 'oil', 'nuclear power'], 'grafeed_industries': ['Energy sources', 'Raw materials'], 'grafeed_shifts': ['Clean energy', 'Disruptive business models'], 'in_app': 'feed', 'imagehash': 'fffffb83030183ff', 'confirmed': ['coal', 'commodities', 'energy', 'gas', 'oil'], 'rejected': [], 'dhash': '7ec1820747474ed8', 'phash': 'adc0923f30652dd7', 'grafeed_confirmed_before': ['hydro', 'coal', 'iea', 'gas', 'renewables', 'energy', 'nuclear power', 'biofuel', 'commodities', 'oil']}\n",
      "\n",
      "{'_id': ObjectId('5dda3d121d1484b8f03e444b'), 'tweet_text': \"Are the Fed's rate cuts helping? Have a look https://t.co/HtsYW5oNq9 https://t.co/PDVCALEwzn\", 'hashtags': [], 'tweet_timestamp': datetime.datetime(2019, 10, 31, 10, 40), 'username': 'reuterscommods', 'user_id': 81075524, 'user_counters': {'followers_count': 32753, 'friends_count': 174, 'listed_count': 1061}, 'tweet_counters': {'retweet_count': 4, 'favorite_count': 2}, 'img_urls': 'http://pbs.twimg.com/media/EIM2YuxWoAUaG3z.jpg', 'tweet_id': 1189854529304629250, 'downloaded': True, 'download_error': False, 'img_type': 'graphic', 's3_url': 'https://tv-ml-pipeline.s3.us-east-2.amazonaws.com/graphics/EIM2YuxWoAUaG3z.jpg', 'extracted_text': 'Contributions to U.S. gross domestic product Business investment was a drag on growth for a second straight quarter 6 6 InMimiaio 4 2 0 0 -2 -2 2018 2015 2016 2017 2019 Consumer spending Government spending Net trade Business investment Change in inventories US. ĞDP growth (annualized rate) Reuters graphic/Dan Burns30/10/2019 @Dan Burns Source: Refinitiv Datastream/Commerce Department', 'graph_type': 'other-chart', 'bert_tags': ['fed', 'investing', 'gdp', 'us'], 'bert_ts': datetime.datetime(2019, 11, 24, 8, 24, 45, 883000), 'status': 'graphicone_feed', 'confirmed_after_validate': ['us', 'gdp', 'business', 'consumer', 'government', 'trade'], 'validated_timestamp': datetime.datetime(2019, 11, 24, 11, 14, 39, 583000), 'validator_username': 'tagger5', 'grafeed_approver': 'bond', 'grafeed_confirmed': ['consumer', 'government', 'us', 'gdp', 'trade'], 'grafeed_industries': [], 'grafeed_shifts': ['Growing threats'], 'in_app': 'feed', 'imagehash': 'fc008cfefe0000ce', 'confirmed': ['gdp', 'investing', 'us'], 'rejected': [], 'dhash': 'b05918a89425999c', 'phash': 'd0cd724cd4d43a3b', 'grafeed_confirmed_before': ['government', 'consumer', 'us', 'gdp', 'trade']}\n",
      "\n",
      "{'_id': ObjectId('5dda3dfeecf2eeb7be924575'), 'tweet_text': 'Boris Johnson is getting a free pass on Brexit: @ThereseRaphael1 https://t.co/SXHlhxxjSL via @bopinion #tictocnews https://t.co/7UXQXm4BSM', 'hashtags': ['tictocnews'], 'tweet_timestamp': datetime.datetime(2019, 11, 21, 11, 32, 24), 'username': 'zschneeweiss', 'user_id': 859306879, 'user_counters': {'followers_count': 11036, 'friends_count': 1950, 'listed_count': 534}, 'tweet_counters': {'retweet_count': 0, 'favorite_count': 0}, 'img_urls': 'http://pbs.twimg.com/media/EJ5Lw-9XsAALH9e.jpg', 'tweet_id': 1197477860040216576, 'downloaded': True, 'download_error': False, 'img_type': 'graphic', 's3_url': 'https://tv-ml-pipeline.s3.us-east-2.amazonaws.com/graphics/EJ5Lw-9XsAALH9e.jpg', 'extracted_text': \"The Faster the Deal, the Harder the Hit In terms of the effects on income, Johnson's deal is better than World Trade Organization terms, but not by a lot Effects on income per capita Effects with productivity adjustments -1.7% May's deal -4.9 -2.5 Johnson's deal -6.4 -3.3 WTO terms -8.1 Source: The U.K. in a Changing Europe; Center for European Performance trade model, based on 2018 data BloombergOpinion\", 'graph_type': 'bar-horizontal', 'confirmed_after_validate': ['brexit', 'uk'], 'status': 'graphicone_feed', 'validated_timestamp': datetime.datetime(2019, 11, 24, 12, 38, 51, 287000), 'validator_username': 'share10', 'grafeed_approver': 'share10', 'grafeed_confirmed': ['brexit', 'politics', 'uk'], 'grafeed_industries': [], 'grafeed_shifts': [], 'in_app': 'feed', 'imagehash': 'fffff3e1c18183ff', 'confirmed': ['gdp'], 'rejected': [], 'bert_tags': ['wto', 'gdp', 'politics', 'johnson & johnson'], 'dhash': '595c0343930727e0', 'phash': 'ed839238c36f6c91', 'grafeed_confirmed_before': ['politics', 'uk']}\n",
      "\n",
      "{'_id': ObjectId('5dda3e14ecf2eeb7be924597'), 'tweet_text': 'Arms race of election pledges comes too late for many in the UK https://t.co/EypFJRGXcO via @lucy_meakin #tictocnews https://t.co/gmtgvH6DmT', 'hashtags': ['tictocnews'], 'tweet_timestamp': datetime.datetime(2019, 11, 19, 7, 5, 3), 'username': 'zschneeweiss', 'user_id': 859306879, 'user_counters': {'followers_count': 11036, 'friends_count': 1950, 'listed_count': 534}, 'tweet_counters': {'retweet_count': 2, 'favorite_count': 0}, 'img_urls': 'http://pbs.twimg.com/media/EJt7ZZXXkAAycLS.png', 'tweet_id': 1196685803402997760, 'downloaded': True, 'download_error': False, 'img_type': 'graphic', 's3_url': 'https://tv-ml-pipeline.s3.us-east-2.amazonaws.com/graphics/EJt7ZZXXkAAycLS.png', 'extracted_text': \"Opening the Taps U.K. government spending is set to rise, whoever wins the election Total spending / Average of last 50 years 60% of GDP 50 Post-crash austerity begins Post-war slump and 1930s 1970s Depression crises Blair boom and crisis stimulus 30 Thatcher World War I cuts '30 '40 50 '60 70 '80 '00 10 2020 1920 06 Source: Office for Budget Responsibility, Resolution Foundation Note: Financial years starting April 40 20\", 'graph_type': 'line-area', 'bert_tags': ['thatcher', 'world war i', 'politics', 'uk', 'government', 'blair'], 'bert_ts': datetime.datetime(2019, 11, 24, 8, 25, 41, 188000), 'status': 'graphicone_feed', 'confirmed_after_validate': ['uk', 'government', 'politics', 'war', 'crisis'], 'validated_timestamp': datetime.datetime(2019, 11, 24, 11, 16, 54, 178000), 'validator_username': 'tagger5', 'grafeed_approver': 'share10', 'grafeed_confirmed': ['military', 'politics', 'uk', 'government', 'crisis'], 'grafeed_industries': [], 'grafeed_shifts': ['Growing threats'], 'in_app': 'feed', 'imagehash': '3f0fffb1013b051f', 'confirmed': ['government', 'politics'], 'rejected': [], 'dhash': '637b202b4f63693c', 'phash': 'af9d900f27c8ccf0', 'grafeed_confirmed_before': ['politics', 'uk', 'military', 'crisis', 'government']}\n",
      "\n",
      "{'_id': ObjectId('5dda41bbecf2eeb7be92470b'), 'tweet_text': 'ecommerce share\\nhttps://t.co/ZAKQ3oCQcD https://t.co/xetpWy6iCf', 'hashtags': [], 'tweet_timestamp': datetime.datetime(2019, 11, 18, 22, 6, 47), 'username': 'nickatfp', 'user_id': 473451684, 'user_counters': {'followers_count': 15894, 'friends_count': 755, 'listed_count': 664}, 'tweet_counters': {'retweet_count': 1, 'favorite_count': 8}, 'img_urls': 'http://pbs.twimg.com/media/EJsAMVtWkAUIW7p.png', 'tweet_id': 1196550343427014657, 'downloaded': True, 'download_error': False, 'img_type': 'graphic', 's3_url': 'https://tv-ml-pipeline.s3.us-east-2.amazonaws.com/graphics/EJsAMVtWkAUIW7p.png', 'extracted_text': 'Walmart\\'s ecommerce business has been growing strongly but lags behind Amazon by wide margin Walmart\\'s ecommerce sales (Yoy % change) Share of Internet shopping (%) 100 40 Other 80 30 60 Walmart еВay 10 20 Amazon Q3 20 Q1 19 Q3 19 Q1 20\" 2013 14 15 16 17 18 Current financlal year Is 2020, market share data valld as of Dec 2018 Sources: Euromonitor International; company flings @FT 40 20', 'graph_type': 'column-vertical', 'confirmed_after_validate': ['e-commerce', 'walmart', 'amazon', 'internet', 'ebay', 'shopping', 'consumer discretionary'], 'status': 'graphicone_feed', 'validated_timestamp': datetime.datetime(2019, 11, 24, 10, 46, 4, 522000), 'validator_username': 'bond', 'grafeed_approver': 'bond', 'grafeed_confirmed': ['e-commerce', 'shopping', 'walmart', 'internet', 'consumer discretionary', 'ebay', 'amazon'], 'grafeed_industries': ['Cars, clothes and other staff', 'Eat and drink', 'Technology as you know it', 'Networks and communications'], 'grafeed_shifts': ['Demographic challenges', 'Digital commerce', 'Disruptive business models', 'Connected world', 'Data owners', 'Healthcare transformation', 'Smart mobility', 'Virtual consumption', 'Industry 4.0'], 'in_app': 'feed', 'imagehash': 'ffff9f8d0808ffff', 'bert_tags': ['walmart', 'amazon'], 'dhash': 'd3e33331717131b8', 'phash': '9fe7e00813bd3cc2', 'grafeed_confirmed_before': ['amazon', 'walmart', 'e-commerce', 'ebay', 'consumer discretionary', 'shopping', 'internet']}\n",
      "\n",
      "{'_id': ObjectId('5dda41c4ecf2eeb7be92471c'), 'tweet_text': 'These sellside strategists are getting sassy af https://t.co/SBktWItryO', 'hashtags': [], 'tweet_timestamp': datetime.datetime(2019, 11, 17, 20, 33, 42), 'username': 'nickatfp', 'user_id': 473451684, 'user_counters': {'followers_count': 15894, 'friends_count': 755, 'listed_count': 664}, 'tweet_counters': {'retweet_count': 3, 'favorite_count': 20}, 'img_urls': 'http://pbs.twimg.com/media/EJmhTE7XUAI5y90.png', 'tweet_id': 1196164531929649154, 'downloaded': True, 'download_error': False, 'img_type': 'graphic', 's3_url': 'https://tv-ml-pipeline.s3.us-east-2.amazonaws.com/graphics/EJmhTE7XUAI5y90.png', 'extracted_text': 'Figure 5. Hooray! The worsening is no longer accelerating! Citi global economic data change indices by region 1000 EM 500 US G10 -500 EU -1000 -1500 03 04 05 06 07 08 09 10 11 12 13 14 15 16 17 18 19 Source: Citi Research', 'graph_type': 'line-area', 'imagehash': '00ffff80c6efff3f', 'confirmed': ['eu'], 'rejected': [], 'bert_tags': ['eu', 'emerging markets'], 'confirmed_after_validate': ['eu', 'emerging markets', 'us', 'global', 'cities', 'index', 'recession'], 'status': 'graphicone_feed', 'validated_timestamp': datetime.datetime(2019, 12, 6, 12, 10, 47, 505000), 'validator_username': 'tagger48', 'grafeed_approver': 'share10', 'grafeed_confirmed': ['emerging markets', 'developed markets', 'index', 'eu', 'us', 'data', 'global', 'recession', 'cities'], 'grafeed_industries': [], 'grafeed_shifts': ['Demographic challenges'], 'dhash': '13126d271cc85b79', 'phash': 'bb6c89317c6a8393', 'in_app': 'feed', 'upload_timestamp': datetime.datetime(2020, 1, 21, 12, 59, 18, 611000), 'grafeed_confirmed_before': ['global', 'index', 'developed markets', 'data', 'eu', 'us', 'emerging markets', 'recession']}\n",
      "\n",
      "{'_id': ObjectId('5dda45beecf2eeb7be9248d8'), 'tweet_text': 'RT @beursanalist: Aantal obligaties met negatieve rente loopt snel terug. https://t.co/cd1KbklUNU', 'hashtags': [], 'tweet_timestamp': datetime.datetime(2019, 11, 13, 7, 46, 12), 'username': 'eelcoubbels', 'user_id': 33866558, 'user_counters': {'followers_count': 972, 'friends_count': 806, 'listed_count': 48}, 'tweet_counters': {'retweet_count': 3, 'favorite_count': 0}, 'img_urls': 'http://pbs.twimg.com/media/EJPKCpxW4AAgLoW.jpg', 'tweet_id': 1194521829739827201, 'downloaded': True, 'download_error': False, 'img_type': 'graphic', 's3_url': 'https://tv-ml-pipeline.s3.us-east-2.amazonaws.com/graphics/EJPKCpxW4AAgLoW.jpg', 'extracted_text': \"Diminishing Pile World's negative - yielding debt has fallen below $12 trillion Bloomberg Barclays Global Aggregate Negative-Yielding Debt Index 16T 14T 12T 10T 8T 6T 2017 2018 2019 Bloomberg Source: Bloom berg U.S. dollars\", 'graph_type': 'line-area', 'confirmed_after_validate': ['debt', 'bonds', 'bloomberg', 'barclays', 'index'], 'status': 'graphicone_feed', 'validated_timestamp': datetime.datetime(2019, 11, 24, 10, 47, 25, 293000), 'validator_username': 'tagger5', 'grafeed_approver': 'bond', 'grafeed_confirmed': ['bonds', 'index', 'barclays', 'debt'], 'grafeed_industries': ['Banks, insurance and finance'], 'grafeed_shifts': [], 'in_app': 'feed', 'imagehash': 'fcf8020305f800c1', 'confirmed': ['bonds', 'debt'], 'rejected': [], 'bert_tags': ['bonds', 'debt'], 'dhash': '80a00636cd813297', 'phash': 'e0d1f8d2f03d7132', 'grafeed_confirmed_before': ['bloomberg', 'debt', 'barclays', 'bonds', 'index']}\n",
      "\n",
      "{'_id': ObjectId('5dda499b1d1484b8f03e4a1c'), 'tweet_text': 'The Cost Of Mobile Internet Around The World https://t.co/oP8TV5CIxo', 'hashtags': [], 'tweet_timestamp': datetime.datetime(2019, 9, 13, 16, 25, 4), 'username': 'kenradio', 'user_id': 5514192, 'user_counters': {'followers_count': 1005795, 'friends_count': 814162, 'listed_count': 3671}, 'tweet_counters': {'retweet_count': 25, 'favorite_count': 58}, 'img_urls': 'http://pbs.twimg.com/media/EEW5DnOW4AALvQ0.jpg', 'tweet_id': 1172546751158521857, 'downloaded': True, 'download_error': False, 'img_type': 'graphic', 's3_url': 'https://tv-ml-pipeline.s3.us-east-2.amazonaws.com/graphics/EEW5DnOW4AALvQ0.jpg', 'extracted_text': 'THE COST OF MOBILE INTERNET AROUND THE WORLD Average cost of 1GB of mobile data in selected countries in 2019* (U.S. dollars) India Russia Italy Nigeria Australia *6,313 mobile data plans in 230 countries were gathered and analyzed France Brazil Spain UK Germany China Canada Source: Cable.co.uk | Infographic: Oxana Zeitler USA South Korea Switzerland $0.26 $0.91 $1.73 $2.22 $ 2.47 66.9 $3.50 $ 3.79 99 9 $ $6.96 $ 9.89 $12.0 $12.37 $15.12 $ 20.22', 'graph_type': 'column-vertical', 'bert_tags': ['germany', 'australia', 'nigeria', 'technology', 'spain', 'canada', 'us', 'china', 'uk', 'italy', 'mobile', 'france', 'smartphone', 'russia', 'brazil', 'india'], 'bert_ts': datetime.datetime(2019, 11, 24, 9, 15, 23, 77000), 'status': 'graphicone_feed', 'confirmed_after_validate': ['us', 'internet', 'india', 'russia', 'italy', 'nigeria', 'australia', 'france', 'brazil', 'spain', 'uk', 'germany', 'china', 'canada', 'south korea', 'switzerland'], 'validated_timestamp': datetime.datetime(2019, 11, 25, 5, 36, 36, 70000), 'validator_username': 'tagger5', 'grafeed_approver': 'bond', 'grafeed_confirmed': ['russia', 'spain', 'us', 'nigeria', 'india', 'italy', 'smartphone', 'south korea', 'switzerland', 'mobile', 'china', 'brazil', 'germany', 'canada', 'uk', 'internet', 'telecom', 'australia', 'france'], 'grafeed_industries': ['Technology as you know it', 'Networks and communications'], 'grafeed_shifts': ['Connected world', 'Data owners', 'Disruptive business models', 'Digital commerce', 'Healthcare transformation', 'Smart mobility', 'Virtual consumption', 'Industry 4.0'], 'in_app': 'feed', 'imagehash': '0137fefcf000011f', 'confirmed': ['india', 'mobile', 'smartphone', 'technology', 'uk', 'us'], 'rejected': [], 'dhash': '6d4ce0e1c1073d7d', 'phash': 'cad6352a4adad4c9', 'grafeed_confirmed_before': ['china', 'brazil', 'telecom', 'south korea', 'internet', 'canada', 'russia', 'mobile', 'uk', 'france', 'us', 'italy', 'spain', 'india', 'germany', 'switzerland', 'australia', 'smartphone', 'nigeria']}\n",
      "\n",
      "{'_id': ObjectId('5dda5a971d1484b8f03e51d8'), 'tweet_text': 'Ode to joy. https://t.co/EJfPwQ1g1A https://t.co/Rf5k4YQGGl', 'hashtags': [], 'tweet_timestamp': datetime.datetime(2019, 10, 23, 20, 26, 36), 'username': 'johanknorberg', 'user_id': 312544868, 'user_counters': {'followers_count': 39831, 'friends_count': 427, 'listed_count': 416}, 'tweet_counters': {'retweet_count': 11, 'favorite_count': 36}, 'img_urls': 'http://pbs.twimg.com/media/EHlv7TFXYAQHUkB.jpg', 'tweet_id': 1187103047010398208, 'downloaded': True, 'download_error': False, 'img_type': 'graphic', 's3_url': 'https://tv-ml-pipeline.s3.us-east-2.amazonaws.com/graphics/EHlv7TFXYAQHUkB.jpg', 'extracted_text': 'Since 1991, life satisfaction has improved across Europe % who say 7, 8, 9 or 10 on a ladder of life where the top of the ladder (10) represents the best possible life Western Europe Central and Eastern Europe Russia and Ukraine Czech Rep. Poland Spain Germany UK Italy France 100% 64 West 57 57 56 54 52 53 59 45 41 36 East 31 23 12 15 2019 1991 2019 1991 1991 2019 1991 2019 1991 2019 1991 2019 1991 2019 Ukraine Slovakia Hungary Lithuania Bulgaria Russia 100% 49 47 44 29 28 25 7 8 13 13 8 1991 2019 1991 2019 1991 2019 1991 2019 1991 2019 1991 2019 East and West Germany respondents live in former German Democratic Republic and pre-1990 Federal Republic of Germany, respectively. Note: To measure respondents\\' well-being, we used the Cantril Ladder question that asks where respondents place themselves on the \"ladde of life\" with a scale from 0 to 10. The question wording is: \"Here is a ladder representing the \\'ladder of life.\\' Let\\'s suppose the top of the ladder represents the best possible life for you and the bottom, the worst possible life for you. On which step of the ladder do you feel you personally stand at the present time?\" 1991 data for the Czech Republic and Slovakia correspond to regions in the present-day Czech Republic and Slovakia. Source: Spring 2019 Global Attitudes Survey. Q1 PEW RESEARCH CENTER 52', 'graph_type': 'line-area', 'confirmed_after_validate': ['europe', 'russia', 'ukraine', 'germany', 'uk', 'czech republic', 'poland', 'italy', 'france', 'spain', 'slovakia', 'hungary', 'lithuania', 'bulgaria'], 'status': 'graphicone_feed', 'validated_timestamp': datetime.datetime(2019, 11, 24, 11, 2, 20, 510000), 'validator_username': 'tagger5', 'grafeed_approver': 'share10', 'grafeed_confirmed': ['hungary', 'poland', 'czech republic', 'russia', 'germany', 'bulgaria', 'ukraine', 'uk', 'france', 'spain', 'eu', 'lithuania', 'slovakia', 'italy'], 'grafeed_industries': [], 'grafeed_shifts': [], 'in_app': 'feed', 'imagehash': '07ff00ef0301ff3f', 'bert_tags': ['russia', 'ukraine', 'germany', 'poland', 'lithuania', 'spain', 'eu', 'uk', 'italy', 'czech republic', 'france', 'bulgaria', 'hungary', 'slovakia'], 'dhash': 'a7995c0d534303e5', 'phash': 'ab75842e84342f3f', 'grafeed_confirmed_before': ['czech republic', 'uk', 'slovakia', 'spain', 'france', 'lithuania', 'ukraine', 'germany', 'eu', 'italy', 'poland', 'hungary', 'russia', 'bulgaria']}\n",
      "\n",
      "{'_id': ObjectId('5dda62f0ecf2eeb7be925489'), 'tweet_text': 'RT @jessefelder: @htsfhickey https://t.co/6yNPC9SVuj', 'hashtags': [], 'tweet_timestamp': datetime.datetime(2019, 10, 23, 15, 50, 51), 'username': 'epomboy', 'user_id': 731834682, 'user_counters': {'followers_count': 7769, 'friends_count': 1530, 'listed_count': 203}, 'tweet_counters': {'retweet_count': 8, 'favorite_count': 0}, 'img_urls': 'http://pbs.twimg.com/media/EHkitSjXYAAHk7l.jpg', 'tweet_id': 1187033653366448129, 'downloaded': True, 'download_error': False, 'img_type': 'graphic', 's3_url': 'https://tv-ml-pipeline.s3.us-east-2.amazonaws.com/graphics/EHkitSjXYAAHk7l.jpg', 'extracted_text': 'Texas Instruments (TXN) ...Revenue (Quarterly YoY Growth) EV to Revenues (TTM) 70% 9 8 50% 7 6 30% 5 10% -10% 2 -30% 1 -50% 2006 2008 2018 2016 2015 2004 2005 2007 2009 2010 2011 2012 2013 2014 2017 2019 TheFelderReport.com', 'graph_type': 'line-area', 'confirmed_after_validate': ['texas instruments', 'valuation', 'revenue', 'us', 'industrial', 'semiconductors', 'manufacturing'], 'status': 'graphicone_feed', 'validated_timestamp': datetime.datetime(2019, 11, 25, 8, 52, 46, 424000), 'validator_username': 'bond', 'grafeed_approver': 'bond', 'grafeed_confirmed': ['manufacturing', 'texas instruments', 'semiconductors', 'us', 'industrials'], 'grafeed_industries': ['Machinery and construction'], 'grafeed_shifts': ['Industry 4.0'], 'in_app': 'feed', 'imagehash': 'c3ff7c793307dfe7', 'bert_tags': [], 'dhash': '0e9299d1c62c3048', 'phash': 'b2e0f62567f83246', 'grafeed_confirmed_before': ['semiconductors', 'us', 'manufacturing', 'industrials', 'texas instruments']}\n",
      "\n",
      "{'_id': ObjectId('5dda9e9997a2dbd5c9889d92'), 'tweet_text': 'When companies have a weighting of 4% in the S&amp;P500, it has always remained temporary. Fantastic graph! https://t.co/FVvRbEvWAI', 'hashtags': [], 'tweet_timestamp': datetime.datetime(2019, 11, 22, 16, 36, 2), 'username': 'karelmercx', 'user_id': 8038182, 'user_counters': {'followers_count': 7577, 'friends_count': 1605, 'listed_count': 139}, 'tweet_counters': {'retweet_count': 4, 'favorite_count': 9}, 'img_urls': 'http://pbs.twimg.com/media/EJ_a2coWoAEVllO.jpg', 'tweet_id': 1197916658872008704, 'downloaded': True, 'download_error': False, 'img_type': 'graphic', 's3_url': 'https://tv-ml-pipeline.s3.us-east-2.amazonaws.com/graphics/EJ_a2coWoAEVllO.jpg', 'extracted_text': 'Companies To Have Reached A Four Percent Weight In The S&P 500, 1990 To Date (...and how long they were able to stay there) 2019 The Leuthold Group 12 months 12 months above 4% 1 mo. (x3) -5% 3 mo 10 months 15 months 7 months 1 month -4% Apple -3% Cisco Systems -2% Exxon Mobil Microsoft General Electric -1% 0%', 'graph_type': 'line-area', 'bert_tags': ['index', 'apple', 'the leuthold group', 'exxon mobil', 's&p', 'cisco systems'], 'bert_ts': datetime.datetime(2019, 11, 24, 15, 18, 23, 40000), 'status': 'graphicone_feed', 'imagehash': '0f1ffe1a19270bdf', 'confirmed': ['index', 's&p'], 'rejected': [], 'confirmed_after_validate': ['index', 'apple', 'exxon mobil', 's&p', 'large caps', 'microsoft', 'general electric', 'energy', 'oil', 'gas', 'non-manufacturing', 'cisco', 'Information technology', 'computers', 'telecom', 'harware', 'software', 'electronics', 'us', 'Manufacturing', 'electricity', 'venture', 'digital', 'renewables', 'aviation', 'healthcare', 'gadgets', 'consumer discretionary', 'durables'], 'validated_timestamp': datetime.datetime(2019, 12, 6, 10, 16, 0, 102000), 'validator_username': 'tagger48', 'grafeed_approver': 'share1', 'grafeed_confirmed': ['electricity', 'health', 'aviation', 'microsoft', 'index', 'gas', 'software', 'us', 'apple', 'gadgets', 'manufacturing', 'commodities', 'electronics', 'cisco', 'non-manufacturing', 'large caps', 's&p', 'general electric', 'venture', 'digital', 'oil', 'information technology', 'renewables', 'energy', 'telecom', 'consumer discretionary', 'exxon', 'computers'], 'grafeed_industries': ['Cars, clothes and other staff', 'Technology as you know it', 'Machinery and construction', 'Energy sources', 'Raw materials', 'Networks and communications', 'Your health'], 'grafeed_shifts': ['Connected world', 'Disruptive business models', 'Virtual consumption', 'Data owners', 'Clean energy', 'Industry 4.0', 'Growing threats', 'Smart mobility', 'Demographic challenges', 'Healthcare transformation', 'Digital commerce'], 'dhash': 'b8b0e030a5cfa631', 'phash': '9c1939271833e3ee', 'in_app': 'feed', 'upload_timestamp': datetime.datetime(2020, 1, 18, 16, 59, 19, 202000), 'grafeed_confirmed_before': ['microsoft', 'general electric', 'cisco', 'large caps', 'index', 'exxon', 's&p', 'apple']}\n",
      "\n",
      "{'_id': ObjectId('5ddaa27097a2dbd5c9889ede'), 'tweet_text': 'Largest Decline In Consumer Comfort Index Since\\xa02008 https://t.co/juWkLj9bok https://t.co/7KQzhlhdlo', 'hashtags': [], 'tweet_timestamp': datetime.datetime(2019, 11, 16, 8, 4, 44), 'username': 'vintage_value', 'user_id': 3029451197, 'user_counters': {'followers_count': 10575, 'friends_count': 9746, 'listed_count': 129}, 'tweet_counters': {'retweet_count': 0, 'favorite_count': 1}, 'img_urls': 'http://pbs.twimg.com/media/EJesSZrXYAAzmCT.jpg', 'tweet_id': 1195613659780853762, 'downloaded': True, 'download_error': False, 'img_type': 'graphic', 's3_url': 'https://tv-ml-pipeline.s3.us-east-2.amazonaws.com/graphics/EJesSZrXYAAzmCT.jpg', 'extracted_text': 'U.S.: Household finances are in good shape Debt to net worth ratio for households versus Financial obligations ratio (FOR) 24 % 23 22 21 20. 19 Debt to net worth Financial obligations as a share of disposable income 18 17 16 15 14 13.9% ratio in 2019Q2 was the lowest since 1984 13 1985 2000 2005 1995 2010 1990 2015 2019 Q2 NBF Economics and Strategy (data via Federal Reserve)', 'graph_type': 'line-area', 'confirmed_after_validate': ['us', 'household', 'debt', 'finances'], 'status': 'graphicone_feed', 'validated_timestamp': datetime.datetime(2019, 11, 26, 12, 26, 17, 643000), 'validator_username': 'tagger5', 'grafeed_approver': 'bond', 'grafeed_confirmed': ['household', 'personal finance', 'us', 'financials', 'debt'], 'grafeed_industries': [], 'grafeed_shifts': [], 'in_app': 'feed', 'imagehash': '07fff9f99085208f', 'confirmed': ['household'], 'rejected': [], 'bert_tags': ['household', 'fed', 'us'], 'dhash': '2e42431325294c56', 'phash': 'bfa0b536ac433964', 'grafeed_confirmed_before': ['debt', 'household', 'us', 'personal finance']}\n",
      "\n",
      "{'_id': ObjectId('5ddab343b3580e6d5d3e0ab9'), 'tweet_text': 'RT @zerohedge: This chart never gets old; this is the latest version released today https://t.co/GDXR12zLfK', 'hashtags': [], 'tweet_timestamp': datetime.datetime(2019, 11, 21, 20, 3, 1), 'username': 'highendheli', 'user_id': 158054184, 'user_counters': {'followers_count': 239, 'friends_count': 374, 'listed_count': 76}, 'tweet_counters': {'retweet_count': 106, 'favorite_count': 0}, 'img_urls': 'http://pbs.twimg.com/media/EJ6_mSxWkAAdmfT.jpg', 'tweet_id': 1197606362114641921, 'downloaded': True, 'download_error': False, 'img_type': 'graphic', 's3_url': 'https://tv-ml-pipeline.s3.us-east-2.amazonaws.com/graphics/EJ6_mSxWkAAdmfT.jpg', 'extracted_text': 'Figure 47: The corporate sector has been the main buyer of equities since the market low 25% Cumulative buying/selling of US equities, % Market Cap -Non-financial corporates 20% Rest of world Households Institutions 15% 10% 5% 0% -5% -10% 2009 2010 2011 2012 2013 2014 2015 2016 2017 2018 2019 Source: Refinitiv, Credit Suisse research', 'graph_type': 'line-area', 'confirmed_after_validate': ['equity', 'markets', 'investing', 'bull markets', 'household', 'banks'], 'status': 'graphicone_feed', 'validated_timestamp': datetime.datetime(2019, 11, 25, 9, 40, 21, 52000), 'validator_username': 'bond', 'grafeed_approver': 'bond', 'grafeed_confirmed': ['banking', 'household', 'bull market'], 'grafeed_industries': ['Banks, insurance and finance'], 'grafeed_shifts': [], 'imagehash': '01c3cfffff81ff01', 'confirmed': ['global', 'markets'], 'rejected': [], 'bert_tags': ['markets', 'figure 47', 'global', 'us'], 'dhash': '5d9e9b946d39897b', 'phash': 'ba382b4f0f683b68', 'in_app': 'feed', 'upload_timestamp': datetime.datetime(2020, 1, 30, 19, 59, 21, 615000), 'grafeed_confirmed_before': ['household', 'bull market']}\n",
      "\n",
      "{'_id': ObjectId('5ddab616b3580e6d5d3e0b89'), 'tweet_text': 'One of these lines is not like the other ones. https://t.co/HOmBnBGEcz', 'hashtags': [], 'tweet_timestamp': datetime.datetime(2019, 11, 24, 0, 25, 18), 'username': 'erikbryn', 'user_id': 92116069, 'user_counters': {'followers_count': 179390, 'friends_count': 1995, 'listed_count': 2704}, 'tweet_counters': {'retweet_count': 60, 'favorite_count': 146}, 'img_urls': 'http://pbs.twimg.com/media/EKGP0WsW4AAYCCP.png', 'tweet_id': 1198397144107016192, 'downloaded': True, 'download_error': False, 'img_type': 'graphic', 's3_url': 'https://tv-ml-pipeline.s3.us-east-2.amazonaws.com/graphics/EKGP0WsW4AAYCCP.png', 'extracted_text': 'Current Health Expenditures as Percentage Share of GDP OECD Member Countries 2017 US Switzerland France Germany Sweden Jаpan Canada Belgium Netheriands United Kingdom Australia Finland Zealand Chile Spain gal Italy OECD Average Jceland Slovenia Greece Korea srael Czech Rep Ireland Slungary Lithuania Poland Estonia Latvia Mexico Luxembourg Source: OECD Health Data, 2019 Released July 2, 2019 Updated November 15, 2019 Turkey 4 6 7 8 9 10 11 12 13 14 15 16 17 18 Percentage of GDP', 'graph_type': 'bar-horizontal', 'confirmed_after_validate': ['health', 'gdp', 'oecd', 'us', 'switzerland', 'france', 'germany', 'sweden', 'japan', 'canada', 'austria', 'norway', 'belgium', 'denmark', 'netherlands', 'uk', 'australia', 'finland', 'new zealand', 'chile', 'portugal', 'spain', 'italy', 'iceland', 'slovenia', 'greece', 'korea', 'israel', 'czech republic', 'ireland', 'hungary', 'slovakia', 'lithuania', 'poland', 'estonia', 'latvia', 'mexico', 'luxembourg', 'turkey'], 'status': 'graphicone_feed', 'validated_timestamp': datetime.datetime(2019, 11, 27, 10, 21, 3, 881000), 'validator_username': 'tagger5', 'grafeed_approver': 'share10', 'grafeed_confirmed': ['health', 'czech republic', 'austria', 'spain', 'oecd', 'us', 'gdp', 'estonia', 'italy', 'switzerland', 'slovenia', 'latvia', 'lithuania', 'new zealand', 'chile', 'iceland', 'portugal', 'denmark', 'turkey', 'poland', 'germany', 'japan', 'finland', 'slovakia', 'mexico', 'canada', 'hungary', 'greece', 'israel', 'netherlands', 'uk', 'sweden', 'luxembourg', 'ireland', 'norway', 'korea', 'belgium', 'australia', 'france'], 'grafeed_industries': ['Your health'], 'grafeed_shifts': ['Healthcare transformation'], 'imagehash': 'ff07070f0f1f1fff', 'confirmed': ['us'], 'rejected': [], 'bert_tags': ['korea', 'uk', 'zealand', 'rep', 'slovenia', 'estonia', 'spain', 'canada', 'latvia', 'luxembourg', 'italy', 'france', 'switzerland', 'belgium', 'australia', 'ireland', 'greece', 'czech republic', 'chile', 'germany', 'finland', 'oecd', 'lithuania', 'poland', 'jаpan', 'mexico', 'us', 'sweden'], 'dhash': '174f5c5d5b39716f', 'phash': 'bf72c4d8e1caf012', 'in_app': 'feed', 'upload_timestamp': datetime.datetime(2020, 1, 17, 23, 59, 20, 538000), 'grafeed_confirmed_before': ['norway', 'mexico', 'belgium', 'sweden', 'oecd', 'turkey', 'poland', 'canada', 'uk', 'lithuania', 'israel', 'france', 'slovenia', 'new zealand', 'portugal', 'us', 'italy', 'iceland', 'gdp', 'latvia', 'korea', 'ireland', 'denmark', 'spain', 'slovakia', 'hungary', 'netherlands', 'finland', 'austria', 'czech republic', 'germany', 'greece', 'chile', 'switzerland', 'japan', 'luxembourg', 'australia', 'health', 'estonia']}\n",
      "\n",
      "{'_id': ObjectId('5ddab68786facb54ae6c5fbb'), 'tweet_text': 'RT @AlessioUrban: The Ponzi scheme is about to blow up https://t.co/356bZSmtAg', 'hashtags': [], 'tweet_timestamp': datetime.datetime(2019, 11, 11, 21, 17, 19), 'username': 'alexdgn', 'user_id': 50480074, 'user_counters': {'followers_count': 1612, 'friends_count': 1768, 'listed_count': 96}, 'tweet_counters': {'retweet_count': 9, 'favorite_count': 0}, 'img_urls': 'http://pbs.twimg.com/media/EJHC5g4XUAE73eD.jpg', 'tweet_id': 1194001179451305986, 'downloaded': True, 'download_error': False, 'img_type': 'graphic', 's3_url': 'https://tv-ml-pipeline.s3.us-east-2.amazonaws.com/graphics/EJHC5g4XUAE73eD.jpg', 'extracted_text': 'CLOS Surge Japanese banks buy more foreign credit products as low domestic rates hurt 15T (Yen) 10 5 0 March 2016 March 2017 March 2018 March 2019 Source: Bank of Japan Note: The figure covers major banks, Japan Post Bank, and a central organization of financial cooperatives, according to the BOJ. Bloomberg Grafico da Bloomberg.', 'graph_type': 'column-vertical', 'confirmed_after_validate': ['clo', 'credit', 'debt', 'interest rates', 'japan', 'boj'], 'status': 'graphicone_feed', 'validated_timestamp': datetime.datetime(2019, 11, 25, 9, 41, 51, 99000), 'validator_username': 'bond', 'grafeed_approver': 'bond', 'grafeed_confirmed': ['bank of japan', 'interest rates', 'credit', 'japan', 'debt', 'banking', 'loan'], 'grafeed_industries': ['Banks, insurance and finance'], 'grafeed_shifts': ['Data owners', 'Growing threats'], 'in_app': 'feed', 'imagehash': 'c1000203afff80ff', 'confirmed': ['china', 'credit'], 'rejected': [], 'bert_tags': ['china', 'japan', 'credit'], 'dhash': '050147167a2a0945', 'phash': 'bf2acad99524c44b', 'grafeed_confirmed_before': ['debt', 'interest rates', 'bank of japan', 'credit', 'japan', 'banking', 'loan']}\n",
      "\n",
      "{'_id': ObjectId('5ddac282b3580e6d5d3e113d'), 'tweet_text': 'The ECB resumes corporate bond purchases — here is what you have to know https://t.co/DxVNiyYn6r https://t.co/XVofjw8rBg', 'hashtags': [], 'tweet_timestamp': datetime.datetime(2019, 9, 23, 10, 57, 34), 'username': 'bondvigilantes', 'user_id': 22026851, 'user_counters': {'followers_count': 36378, 'friends_count': 545, 'listed_count': 1373}, 'tweet_counters': {'retweet_count': 16, 'favorite_count': 19}, 'img_urls': 'http://pbs.twimg.com/media/EFJN_n5XsAE7zlQ.jpg', 'tweet_id': 1176088210465841154, 'downloaded': True, 'download_error': False, 'img_type': 'graphic', 's3_url': 'https://tv-ml-pipeline.s3.us-east-2.amazonaws.com/graphics/EFJN_n5XsAE7zlQ.jpg', 'extracted_text': 'How much corporate debt will the ECB buy this time? As net purchase volumes dropped, the CSPP percentage went up Monthly net asset purchases (EUR billion, Ihs) and average CSPP share (%, rhs) 100 75 50 25 15 0 Jun-16 Sep-16 Dec-16 Jun-17 Sep-17 Other APP purchases (Ihs) Mar-17 Monthly APP target (Ihs) Jun-18 CSPP purchases (Ihs) BONDVIGILANTES.COM 0 y BONDVIGILANTES Average CSPP share (rhs) Dec-18 Source: M&G, ECB, September 2019 M&G INVESTMENTS 20 10 LO Sep-18 Mar-18 Dec-17', 'graph_type': 'other-chart', 'bert_tags': ['bonds', 'debt', 'bondvigilantes.com', 'ecb'], 'bert_ts': datetime.datetime(2019, 11, 24, 17, 50, 8, 339000), 'status': 'graphicone_feed', 'confirmed_after_validate': ['bonds', 'ecb', 'debt', 'quantitative easing', 'monetary policy', 'inflation'], 'validated_timestamp': datetime.datetime(2019, 11, 25, 11, 29, 0, 667000), 'validator_username': 'bond', 'grafeed_approver': 'bond', 'grafeed_confirmed': ['bonds', 'ecb', 'inflation', 'monetary policy', 'quantitative easing', 'debt'], 'grafeed_industries': [], 'grafeed_shifts': [], 'in_app': 'feed', 'imagehash': '7c7c60787c5c08ff', 'confirmed': ['bonds', 'debt'], 'rejected': [], 'dhash': 'd0b0cec3c0986903', 'phash': 'c040bf14ea4fb717', 'grafeed_confirmed_before': ['debt', 'quantitative easing', 'inflation', 'ecb', 'bonds', 'monetary policy']}\n",
      "\n",
      "{'_id': ObjectId('5ddad71486facb54ae6c6d9e'), 'tweet_text': 'RT @KeithMcCullough: Long Commodities? We are (after being short them) as of October #Quad3 https://t.co/PT7uIeA4wc', 'hashtags': ['Quad3'], 'tweet_timestamp': datetime.datetime(2019, 11, 24, 14, 2, 50), 'username': 'seventeen_mile', 'user_id': 1015965765940498434, 'user_counters': {'followers_count': 239, 'friends_count': 161, 'listed_count': 13}, 'tweet_counters': {'retweet_count': 72, 'favorite_count': 0}, 'img_urls': 'http://pbs.twimg.com/media/EKI_h3kXsAA7dLY.png', 'tweet_id': 1198602880485380096, 'downloaded': True, 'download_error': False, 'img_type': 'graphic', 's3_url': 'https://tv-ml-pipeline.s3.us-east-2.amazonaws.com/graphics/EKI_h3kXsAA7dLY.png', 'extracted_text': 'S&P Commodity Index vs S&P 500 Equities are Expensive, Commodities are Cheap 10 Gulf War 1990 Financial Crisis 2008 9 Oil Crisis 1973/1974 7 5 2 Tech Bubble 2000 1 KATUSA RESEARCH 0 1970 2000 2005 2010 1975 1980 1985 1990 1995 2015 Commodity Index :S&P 500 Ratio 00', 'graph_type': 'bubble-scatter', 'bert_tags': ['index', 'katusa', 's&p commodity', 'oil', 'gulf war 1990 financial crisis', 's&p', 'crisis'], 'bert_ts': datetime.datetime(2019, 11, 24, 19, 17, 14, 450000), 'status': 'graphicone_feed', 'imagehash': 'c3edbd8d8131f2ff', 'confirmed': ['index', 's&p'], 'rejected': [], 'confirmed_after_validate': ['index', 'oil', 's&p', 'financial crisis', 'bubble', 'assets', 'stocks', 'technology', 'expansion', 'recession'], 'validated_timestamp': datetime.datetime(2019, 12, 6, 11, 50, 51, 168000), 'validator_username': 'tagger48', 'grafeed_approver': 'share_sv', 'grafeed_confirmed': ['large caps', 'commodities', 'bubble', 'technology', 'index', 's&p', 'crisis', 'recession', 'oil'], 'grafeed_industries': ['Energy sources', 'Raw materials'], 'grafeed_shifts': ['Clean energy'], 'dhash': '968949ab3b55c642', 'phash': 'abb3f46c38840b6b', 'in_app': 'feed', 'upload_timestamp': datetime.datetime(2020, 1, 16, 21, 59, 19, 90000), 'duplicate_sort': '', 'grafeed_confirmed_before': ['large caps', 'bubble', 'index', 's&p', 'crisis', 'commodities', 'oil', 'technology']}\n",
      "\n",
      "{'_id': ObjectId('5ddad97186facb54ae6c6eb3'), 'tweet_text': '🦄Disney+ Hits 10 Million Subscribers Within 24 Hours https://t.co/p1lCr8BBeV', 'hashtags': [], 'tweet_timestamp': datetime.datetime(2019, 11, 20, 20, 25, 8), 'username': 'larrykim', 'user_id': 17850785, 'user_counters': {'followers_count': 791442, 'friends_count': 610143, 'listed_count': 10654}, 'tweet_counters': {'retweet_count': 34, 'favorite_count': 66}, 'img_urls': 'http://pbs.twimg.com/media/EJ18G9mWsAAVK9I.jpg', 'tweet_id': 1197249537611640832, 'downloaded': True, 'download_error': False, 'img_type': 'graphic', 's3_url': 'https://tv-ml-pipeline.s3.us-east-2.amazonaws.com/graphics/EJ18G9mWsAAVK9I.jpg', 'extracted_text': 'Disney+ Hits 10 Million Subscribers Within 24 Hours Number of paying subscribers in the U.S. for ad-free streaming services as of November 2019* 10m NETFLIX 62m hulu 28m 8m HBONOW *Including free trials Disney+ launched November 12, 2019 cC statista Sources: Disney, Netflix, Hulu, HBO, Bloomberg, BTIG @StatistaCharts', 'graph_type': 'bar-horizontal', 'bert_tags': ['amazon', 'us', 'hulu', 'disney', 'netflix'], 'bert_ts': datetime.datetime(2019, 11, 24, 19, 28, 5, 845000), 'status': 'graphicone_feed', 'imagehash': 'ffbf9f808f8fbfff', 'confirmed': ['amazon', 'netflix', 'us'], 'rejected': [], 'confirmed_after_validate': ['us', 'hulu', 'disney', 'netflix', 'streaming', 'hbo'], 'validated_timestamp': datetime.datetime(2019, 12, 6, 11, 48, 7, 358000), 'validator_username': 'tagger5', 'grafeed_approver': 'bond', 'grafeed_confirmed': ['netflix', 'hulu', 'hbo', 'streaming', 'us', 'disney'], 'grafeed_industries': ['Networks and communications'], 'grafeed_shifts': ['Virtual consumption', 'Connected world', 'Disruptive business models'], 'dhash': '976829251a78639c', 'phash': 'be6ec591706a1695', 'in_app': 'feed', 'upload_timestamp': datetime.datetime(2020, 1, 19, 19, 59, 16, 974000), 'grafeed_confirmed_before': ['netflix', 'streaming', 'disney', 'us', 'hulu', 'hbo']}\n",
      "\n",
      "{'_id': ObjectId('5ddaf0224ab838bbbf2e189b'), 'tweet_text': '@jimcramer China is Becoming a Global Innovator https://t.co/NjXn6qUipM', 'hashtags': [], 'tweet_timestamp': datetime.datetime(2019, 11, 20, 12, 12, 44), 'username': 'm_d_underhill', 'user_id': 107914091, 'user_counters': {'followers_count': 1196, 'friends_count': 1489, 'listed_count': 45}, 'tweet_counters': {'retweet_count': 0, 'favorite_count': 0}, 'img_urls': 'http://pbs.twimg.com/media/EJ0LaFyXUAA_6mt.jpg', 'tweet_id': 1197125622788739073, 'downloaded': True, 'download_error': False, 'img_type': 'graphic', 's3_url': 'https://tv-ml-pipeline.s3.us-east-2.amazonaws.com/graphics/EJ0LaFyXUAA_6mt.jpg', 'extracted_text': 'China is Becoming a Global Innovator In 2018, China sold more electric vehicles than the rest of the world combined and is projected to dominate global EV sales for years to come. China U.S. Rest of the World Europe Japan Korea Rest of World 5% Japan 3% 70,000 60,000 Europe 19% 50,000 2018 40,000 ELECTRIC VEHICLE China SALES 56% 30,000 20,000 U.S. 17% 10,000 0 2015 2017 2019 2021 2023 2025 2027 2029 2031 2033 2035 2037 2039 Left chart source: ev-volumes Right Bloomberg New Energy Finance', 'graph_type': 'other-chart', 'bert_tags': ['ev', 'korea', 'global', 'eu', 'us', 'china', 'japan'], 'bert_ts': datetime.datetime(2019, 11, 24, 21, 4, 11, 670000), 'status': 'graphicone_feed', 'imagehash': 'ffffbf9f0e1c98ff', 'confirmed': ['china', 'ev', 'global', 'us'], 'rejected': [], 'confirmed_after_validate': ['korea', 'global', 'us', 'china', 'japan', 'ev', 'eu'], 'validated_timestamp': datetime.datetime(2019, 12, 9, 7, 59, 54, 499000), 'validator_username': 'tagger5', 'grafeed_approver': 'share_sv', 'grafeed_confirmed': ['china', 'ev', 'eu', 'japan', 'us', 'korea', 'global'], 'grafeed_industries': ['Cars, clothes and other staff'], 'grafeed_shifts': ['Smart mobility'], 'dhash': '2c70213a58312190', 'phash': '9ea1e25bb12e1ae1', 'in_app': 'feed', 'upload_timestamp': datetime.datetime(2020, 1, 19, 22, 59, 18, 389000), 'grafeed_confirmed_before': ['china', 'global', 'ev', 'japan', 'us', 'eu', 'korea']}\n",
      "\n",
      "{'_id': ObjectId('5ddb125886facb54ae6c807f'), 'tweet_text': 'After Uber arrives, heavy drinking increases https://t.co/BphI9UkCsw https://t.co/GHu4R49R73', 'hashtags': [], 'tweet_timestamp': datetime.datetime(2019, 11, 24, 7, 17, 1), 'username': 'misstrade', 'user_id': 1467621, 'user_counters': {'followers_count': 18827, 'friends_count': 4746, 'listed_count': 603}, 'tweet_counters': {'retweet_count': 0, 'favorite_count': 2}, 'img_urls': 'http://pbs.twimg.com/media/EKHuFegWsAEG08I.png', 'tweet_id': 1198500755885441024, 'downloaded': True, 'download_error': False, 'img_type': 'graphic', 's3_url': 'https://tv-ml-pipeline.s3.us-east-2.amazonaws.com/graphics/EKHuFegWsAEG08I.png', 'extracted_text': 'One for the road United States, change in self-reported alcohol consumption compared with the year before Uber launches in a city, 2009-16, % Heavy drinkingt Average drinks per day Binge drinking* Uber introduced Uber introduced Uber introduced 30 30 95% confidence 10 10 0 T -4 -3 -2 -1 0 1 2 -4 -3 -2 -1 0 1 2 -4 -3 -2 -1 0 1 2 Years since Uber Years since Uber Years since Uber *Four drinks for women or five drinks for men in two hours Source: \"Do Ridesharing Services Increase Alcohol Consumption?\" by J.Burgdorf et. al. The Economist Binge drinking on five or more days in the past month 30 20 10 20', 'graph_type': 'line-area', 'imagehash': '070f6dffe4247f7c', 'bert_tags': ['uber', 'us'], 'confirmed_after_validate': ['uber', 'us', 'alcohol', 'consumption'], 'status': 'graphicone_feed', 'validated_timestamp': datetime.datetime(2019, 12, 6, 15, 9, 44, 651000), 'validator_username': 'tagger5', 'grafeed_approver': 'bond', 'grafeed_confirmed': ['uber', 'consumer', 'alcohol', 'us'], 'grafeed_industries': ['Machinery and construction', 'Eat and drink'], 'grafeed_shifts': ['Disruptive business models', 'Smart mobility', 'Demographic challenges'], 'dhash': 'ecd9d9144cc949d1', 'phash': '83b90d36f4cc4373', 'in_app': 'feed', 'upload_timestamp': datetime.datetime(2020, 1, 17, 21, 59, 17, 996000), 'grafeed_confirmed_before': ['consumer', 'us', 'uber', 'alcohol']}\n",
      "\n",
      "{'_id': ObjectId('5ddb24a2120fcc7581548bf4'), 'tweet_text': 'Share of total equity trading https://t.co/HamgEQT2yk https://t.co/dV9PMpnNSx', 'hashtags': [], 'tweet_timestamp': datetime.datetime(2019, 11, 22, 13, 7, 34), 'username': 'trevornoren', 'user_id': 2617926402, 'user_counters': {'followers_count': 13743, 'friends_count': 80, 'listed_count': 416}, 'tweet_counters': {'retweet_count': 28, 'favorite_count': 76}, 'img_urls': 'http://pbs.twimg.com/media/EJ-rIvKXUAAGmZv.jpg', 'tweet_id': 1197864197905883137, 'downloaded': True, 'download_error': False, 'img_type': 'graphic', 's3_url': 'https://tv-ml-pipeline.s3.us-east-2.amazonaws.com/graphics/EJ-rIvKXUAAGmZv.jpg', 'extracted_text': 'Stockpickers feel like an endangered species Share of total equity trading %) Option hedging Program trading 2 High-frequency trading Fundamental single stock volumes 9.9 Broad index derivatives 60 ETFS and ETF options Source: JPM estimate OFT 15', 'graph_type': 'pie-donut', 'bert_tags': ['markets'], 'bert_ts': datetime.datetime(2019, 11, 25, 0, 50, 32, 344000), 'status': 'graphicone_feed', 'confirmed_after_validate': ['stocks', 'trading', 'index', 'etf'], 'validated_timestamp': datetime.datetime(2019, 11, 25, 16, 18, 44, 320000), 'validator_username': 'tagger5', 'grafeed_approver': 'bond', 'grafeed_confirmed': ['etf', 'index', 'funds', 'trading'], 'grafeed_industries': [], 'grafeed_shifts': [], 'in_app': 'feed', 'imagehash': 'ffffe7c3c3c3e3ff', 'confirmed': ['markets'], 'rejected': [], 'dhash': 'cc284e1696964eed', 'phash': 'e59a9e69192761c6', 'grafeed_confirmed_before': ['funds', 'etf', 'trading', 'index']}\n",
      "\n",
      "{'_id': ObjectId('5ddb2a19530e205d76dea4ee'), 'tweet_text': \"Wall Street hasn't been this confused in 20 years.\\n\\nhttps://t.co/jHWoEKGeGm https://t.co/xCd9HXQXK4\", 'hashtags': [], 'tweet_timestamp': datetime.datetime(2019, 9, 5, 16, 5, 1), 'username': 'sentimentrader', 'user_id': 7557352, 'user_counters': {'followers_count': 71304, 'friends_count': 544, 'listed_count': 2244}, 'tweet_counters': {'retweet_count': 64, 'favorite_count': 134}, 'img_urls': 'http://pbs.twimg.com/media/EDtnvxQXsAYv5K4.png', 'tweet_id': 1169642601772986369, 'downloaded': True, 'download_error': False, 'img_type': 'graphic', 's3_url': 'https://tv-ml-pipeline.s3.us-east-2.amazonaws.com/graphics/EDtnvxQXsAYv5K4.png', 'extracted_text': \"200 There hasn't been this much confusion on Wall Street in at least 20 years 176 172 180 Standard Deviation Of Wall Street Strategists' Year-End S&P 500 Estimate As Of Early September 160 138 132 140 118 115 114 120 109 106 106 104 93 94 92 90 100 87 75 80 68 63 60 60 37 40 20 999 2000 2001 2002 2003 2004 2005 2006 2007 2008 2009 2010 2011 2012 2013 2014 2015 2016 2017 2018 2019 Source: Bloomberg SENTIMENTRADER\", 'graph_type': 'column-vertical', 'bert_tags': ['index', 's&p', 'wall street'], 'bert_ts': datetime.datetime(2019, 11, 25, 1, 13, 10, 379000), 'status': 'graphicone_feed', 'imagehash': 'ffe37f3c300000ff', 'confirmed': ['index', 's&p'], 'rejected': [], 'confirmed_after_validate': ['index', 's&p', 'wall street', 'large caps', 'stocks', 'us', 'financial services'], 'validated_timestamp': datetime.datetime(2019, 12, 11, 9, 57, 29, 686000), 'validator_username': 'tagger48', 'grafeed_approver': 'bond', 'grafeed_confirmed': ['wall street', 'index', 's&p', 'us', 'financials', 'large caps'], 'grafeed_industries': ['Banks, insurance and finance'], 'grafeed_shifts': ['Demographic challenges', 'Growing threats'], 'in_app': 'feed', 'dhash': '6b16d66165214969', 'phash': 'afb5b96a8e0a9461', 'grafeed_confirmed_before': ['large caps', 'wall street', 'index', 's&p', 'us', 'financials']}\n",
      "\n",
      "{'_id': ObjectId('5ddb42a6120fcc7581549323'), 'tweet_text': 'RT @jsblokland: ICYMI! The longest &amp; SLOWEST economic expansion in history... ht @ISABELNET_SA https://t.co/uKHfME2xG0', 'hashtags': [], 'tweet_timestamp': datetime.datetime(2019, 11, 21, 8, 45, 10), 'username': 'isabelnet_sa', 'user_id': 1098994585815171073, 'user_counters': {'followers_count': 3945, 'friends_count': 3000, 'listed_count': 83}, 'tweet_counters': {'retweet_count': 21, 'favorite_count': 0}, 'img_urls': 'http://pbs.twimg.com/media/EJ254wAWkAEkVsI.png', 'tweet_id': 1197435775475945473, 'downloaded': True, 'download_error': False, 'img_type': 'graphic', 's3_url': 'https://tv-ml-pipeline.s3.us-east-2.amazonaws.com/graphics/EJ254wAWkAEkVsI.png', 'extracted_text': 'Cumulative real GDP growth of US postwar expansions 160 1961-1970 1991-2001 1982-1990 140 1949-1953 UBS forecast 1975-1980 through year- end 2020 2001-2008 120 Current expans ion 100 0 30 60 90 120 Month of expansion source: UBS Cumulative real GDP growth', 'graph_type': 'line-area', 'confirmed_after_validate': ['gdp', 'macroeconomics', 'growth', 'us', 'economic expansion'], 'status': 'graphicone_feed', 'validated_timestamp': datetime.datetime(2019, 11, 25, 10, 12, 47, 651000), 'validator_username': 'bond', 'grafeed_approver': 'bond', 'grafeed_confirmed': ['gdp', 'macro', 'us'], 'grafeed_industries': [], 'grafeed_shifts': [], 'imagehash': '0fff797b44861c77', 'confirmed': ['gdp', 'us'], 'rejected': [], 'bert_tags': ['gdp', 'ubs', 'us'], 'dhash': 'd881c5978c3c7985', 'phash': '92c99f3f201f245b', 'in_app': 'feed', 'upload_timestamp': datetime.datetime(2020, 1, 30, 20, 59, 23, 480000), 'grafeed_confirmed_before': ['us', 'gdp', 'macro']}\n",
      "\n",
      "{'_id': ObjectId('5ddb65b4932aa35fe8a37b04'), 'tweet_text': '1/2 Wow. That’s a lot of spending on streaming video content. https://t.co/BnFQ7ieRYr', 'hashtags': [], 'tweet_timestamp': datetime.datetime(2019, 11, 19, 22, 40, 25), 'username': 'harvardwinters', 'user_id': 551316487, 'user_counters': {'followers_count': 556, 'friends_count': 245, 'listed_count': 32}, 'tweet_counters': {'retweet_count': 0, 'favorite_count': 0}, 'img_urls': 'http://pbs.twimg.com/media/EJxReT3WsAEalns.jpg', 'tweet_id': 1196921195742019584, 'downloaded': True, 'download_error': False, 'img_type': 'graphic', 's3_url': 'https://tv-ml-pipeline.s3.us-east-2.amazonaws.com/graphics/EJxReT3WsAEalns.jpg', 'extracted_text': '2 Bonanza Cumulative content spending*, $bn 250 Disney 200 Netflix WarnerMedia 150 100 50 18 19t 2010 12 14 16 Including sports Forecast Source: UBS', 'graph_type': 'line-area', 'confirmed_after_validate': ['disney', 'netflix', 'warner', 'streaming', 'film industry', 'entertainment', 'spending'], 'status': 'graphicone_feed', 'validated_timestamp': datetime.datetime(2019, 11, 25, 10, 44, 1, 403000), 'validator_username': 'bond', 'grafeed_approver': 'bond', 'grafeed_confirmed': ['netflix', 'film industry', 'entertainment', 'streaming', 'warner', 'disney'], 'grafeed_industries': ['Networks and communications', 'Cars, clothes and other staff'], 'grafeed_shifts': ['Virtual consumption', 'Data owners', 'Demographic challenges', 'Disruptive business models'], 'in_app': 'feed', 'imagehash': '3fbffdb9f1c181ff', 'bert_tags': ['disney', 'netflix'], 'dhash': '68644973430f3b65', 'phash': 'eb969665c91be0c4', 'grafeed_confirmed_before': ['netflix', 'entertainment', 'streaming', 'disney', 'warner', 'film industry']}\n",
      "\n",
      "{'_id': ObjectId('5ddb665c120fcc7581549bd7'), 'tweet_text': 'RT @MayfieldFund: Where do startups live the longest? @crunchbasenews reports: https://t.co/TvvB2z8tYu https://t.co/Ka8F06o0zQ', 'hashtags': [], 'tweet_timestamp': datetime.datetime(2019, 10, 1, 0, 11, 57), 'username': 'crunchbase', 'user_id': 14279577, 'user_counters': {'followers_count': 138576, 'friends_count': 31662, 'listed_count': 2603}, 'tweet_counters': {'retweet_count': 4, 'favorite_count': 0}, 'img_urls': 'http://pbs.twimg.com/media/EFvsMR4XoAAu_YD.png', 'tweet_id': 1178824837483024384, 'downloaded': True, 'download_error': False, 'img_type': 'graphic', 's3_url': 'https://tv-ml-pipeline.s3.us-east-2.amazonaws.com/graphics/EFvsMR4XoAAu_YD.png', 'extracted_text': 'Median & Average Time, In Years, Between Founding And Exit, By Continent Based on a Crunchbase dataset containing companies which had raised at least pre-Series A or Series A funding, had reasonably complete funding histories, and for which both founding date and exit date (IPO or M&A) are listed. Companies which exited prior to January 1, 2009 were excluded. Sample sizes are (in parentheses) Median Average 4.74 Oceania (42) 7.20 4.95 Europe (749) 5.88 4.60 N.America (2,750) 5.81 4.13 Asia (349) 5.16 3.90 Africa (18) 4.56 3.82 S. America (46) 4.08 crunchbase news', 'graph_type': 'bar-horizontal', 'confirmed_after_validate': ['private equity', 'startups', 'investing', 'south america', 'africa', 'asia', 'north america', 'europe', 'oceania', 'world', 'venture capital', 'venture', 'ipo'], 'status': 'graphicone_feed', 'validated_timestamp': datetime.datetime(2019, 11, 25, 10, 45, 6, 63000), 'validator_username': 'bond', 'grafeed_approver': 'bond', 'grafeed_confirmed': ['private equity', 'south america', 'africa', 'asia', 'north america', 'startups', 'venture', 'eu', 'oceania', 'global', 'ipo'], 'grafeed_industries': ['Banks, insurance and finance'], 'grafeed_shifts': ['Demographic challenges', 'Disruptive business models'], 'in_app': 'feed', 'imagehash': 'f060003e3c3c3800', 'confirmed': ['startups', 'technology'], 'rejected': [], 'bert_tags': ['americas', 'africa', 'asia', 'm&a', 'technology', 'eu', 'oceania', 'startups', 'n.america'], 'dhash': '888cc0e8e1e1e292', 'phash': 'cf3460cb928d397a', 'grafeed_confirmed_before': ['private equity', 'eu', 'startups', 'africa', 'oceania', 'asia', 'global', 'venture', 'south america', 'ipo', 'north america']}\n",
      "\n",
      "{'_id': ObjectId('5ddb6fb7120fcc7581549efb'), 'tweet_text': \"RT @Not_Jim_Cramer: Based purely on technicals, this is not a chart I'd wanna be short https://t.co/3cRpfeWf8m\", 'hashtags': [], 'tweet_timestamp': datetime.datetime(2019, 11, 23, 18, 42, 50), 'username': 'traderpburns', 'user_id': 843981393315139584, 'user_counters': {'followers_count': 5093, 'friends_count': 4665, 'listed_count': 57}, 'tweet_counters': {'retweet_count': 16, 'favorite_count': 0}, 'img_urls': 'http://pbs.twimg.com/media/EKEzVSFXkAkI1gT.jpg', 'tweet_id': 1198310955895214083, 'downloaded': True, 'download_error': False, 'img_type': 'graphic', 's3_url': 'https://tv-ml-pipeline.s3.us-east-2.amazonaws.com/graphics/EKEzVSFXkAkI1gT.jpg', 'extracted_text': 'Growing Gap Riskiest junk and energy index spreads widen to a three-year high CCC spread to Treasuries High-yield energy spread to Treasuries 10 9 8 7 6 5 3 2016 2017 2018 2019 Bloomberg Source: Bloomberg Barclays indices Percent', 'graph_type': 'line-area', 'bert_tags': ['bonds', 'index', 'government bonds'], 'bert_ts': datetime.datetime(2019, 11, 25, 6, 12, 36, 850000), 'status': 'graphicone_feed', 'imagehash': 'fcb08347390000e1', 'confirmed': ['bonds', 'government bonds', 'index'], 'rejected': [], 'confirmed_after_validate': ['index', 'government bonds', 'us', 'energy', 'bonds', 'high yield'], 'validated_timestamp': datetime.datetime(2019, 12, 12, 14, 8, 38, 581000), 'validator_username': 'tagger48', 'grafeed_approver': 'bond', 'grafeed_confirmed': ['government bonds', 'energy', 'bonds', 'index', 'us', 'high yield'], 'grafeed_industries': ['Energy sources'], 'grafeed_shifts': ['Clean energy'], 'dhash': '04610e8cf191a313', 'phash': 'f8d4f8d8e054f01d', 'in_app': 'feed', 'upload_timestamp': datetime.datetime(2020, 1, 18, 13, 59, 17, 443000), 'grafeed_confirmed_before': ['energy', 'us', 'bonds', 'government bonds', 'index', 'high yield']}\n",
      "\n",
      "{'_id': ObjectId('5ddb6fc6120fcc7581549f18'), 'tweet_text': 'RT @markets: Platinum catch-22 prevents miners tapping the world’s hottest metals https://t.co/so3RjgqhNN https://t.co/tDW8Z5RIhS', 'hashtags': [], 'tweet_timestamp': datetime.datetime(2019, 11, 22, 12, 43, 11), 'username': 'traderpburns', 'user_id': 843981393315139584, 'user_counters': {'followers_count': 5093, 'friends_count': 4665, 'listed_count': 57}, 'tweet_counters': {'retweet_count': 8, 'favorite_count': 0}, 'img_urls': 'http://pbs.twimg.com/media/EJ-WvoCXkAICRI9.jpg', 'tweet_id': 1197858061265883138, 'downloaded': True, 'download_error': False, 'img_type': 'graphic', 's3_url': 'https://tv-ml-pipeline.s3.us-east-2.amazonaws.com/graphics/EJ-WvoCXkAICRI9.jpg', 'extracted_text': 'Bull Run vs Laggard Palladium, rhodium surge as supplies trail demand Platinum Spot $/0z Normalized As Of 11/26/2008 Palladium Spot $/0z Johnson Matthey Rhodium Spot Price 809.10 600 500.00 400 200 5.79 2010 Source: Bloomberg 2009 2013 2014 2015 2011 2012 2016 2017 2018 2019 Percent', 'graph_type': 'line-area', 'bert_tags': ['commodities', 'metals & mining'], 'bert_ts': datetime.datetime(2019, 11, 25, 6, 12, 38, 616000), 'status': 'graphicone_feed', 'imagehash': '0706fcfc83177e7f', 'confirmed': ['commodities', 'metals & mining'], 'rejected': [], 'confirmed_after_validate': ['commodities', 'metals & mining', 'palladium', 'rhodium'], 'validated_timestamp': datetime.datetime(2019, 12, 11, 10, 36, 19, 384000), 'validator_username': 'tagger48', 'grafeed_approver': 'bond', 'grafeed_confirmed': ['metals & mining', 'rhodium', 'commodities', 'palladium', 'bull market'], 'grafeed_industries': ['Energy sources', 'Raw materials'], 'grafeed_shifts': ['Industry 4.0'], 'dhash': 'af0e01880a7482c5', 'phash': '961e023d2bd08efe', 'in_app': 'feed', 'upload_timestamp': datetime.datetime(2020, 1, 18, 19, 59, 16, 435000), 'grafeed_confirmed_before': ['rhodium', 'metals & mining', 'palladium', 'bull market', 'commodities']}\n",
      "\n",
      "{'_id': ObjectId('5ddb6fc9120fcc7581549f1e'), 'tweet_text': 'RT @markets: The steep decline in euro-area manufacturing is spreading\\xa0further into services https://t.co/kXgTzLecZ6 https://t.co/FBH6fSKW90', 'hashtags': [], 'tweet_timestamp': datetime.datetime(2019, 11, 22, 9, 55, 35), 'username': 'traderpburns', 'user_id': 843981393315139584, 'user_counters': {'followers_count': 5093, 'friends_count': 4665, 'listed_count': 57}, 'tweet_counters': {'retweet_count': 11, 'favorite_count': 0}, 'img_urls': 'http://pbs.twimg.com/media/EJ94QoYWkAETXXa.jpg', 'tweet_id': 1197815883470704641, 'downloaded': True, 'download_error': False, 'img_type': 'graphic', 's3_url': 'https://tv-ml-pipeline.s3.us-east-2.amazonaws.com/graphics/EJ94QoYWkAETXXa.jpg', 'extracted_text': 'Threat of Stagnation The euro-area economy came close to a halt in November Euro-area manufacturing PMI Services PMI Composite PMI 60 58 56 50 50 level separates expansion and contraction 48 46 2014 2015 2019 2016 2017 2018 Source: IHS Markit Index points 8', 'graph_type': 'line-area', 'bert_tags': ['index', 'manufacturing', 'eu', 'pmi', 'euro'], 'bert_ts': datetime.datetime(2019, 11, 25, 6, 12, 37, 666000), 'status': 'graphicone_feed', 'imagehash': '070ff7f20cf6fe3f', 'confirmed': ['eu', 'index', 'manufacturing', 'pmi'], 'rejected': [], 'confirmed_after_validate': ['index', 'manufacturing', 'eu', 'pmi', 'services', 'developed markets', 'recession'], 'validated_timestamp': datetime.datetime(2019, 12, 11, 19, 17, 47, 716000), 'validator_username': 'tagger48', 'grafeed_approver': 'bond', 'grafeed_confirmed': ['manufacturing', 'pmi', 'developed markets', 'services', 'index', 'eu', 'recession'], 'grafeed_industries': [], 'grafeed_shifts': ['Industry 4.0'], 'dhash': '369606aa584c04d3', 'phash': '942c2e1619ecaede', 'in_app': 'feed', 'upload_timestamp': datetime.datetime(2020, 1, 18, 21, 59, 17, 209000), 'grafeed_confirmed_before': ['developed markets', 'pmi', 'eu', 'manufacturing', 'recession', 'index']}\n",
      "\n",
      "{'_id': ObjectId('5ddb6fca120fcc7581549f20'), 'tweet_text': \"RT @markets: The U.K. economy's performance was the worst since July 2016 this month https://t.co/70NzcOIizL https://t.co/LbQetsgQ7j\", 'hashtags': [], 'tweet_timestamp': datetime.datetime(2019, 11, 22, 9, 55, 35), 'username': 'traderpburns', 'user_id': 843981393315139584, 'user_counters': {'followers_count': 5093, 'friends_count': 4665, 'listed_count': 57}, 'tweet_counters': {'retweet_count': 17, 'favorite_count': 0}, 'img_urls': 'http://pbs.twimg.com/media/EJ99eVgXUAEq9X4.jpg', 'tweet_id': 1197815881281265670, 'downloaded': True, 'download_error': False, 'img_type': 'graphic', 's3_url': 'https://tv-ml-pipeline.s3.us-east-2.amazonaws.com/graphics/EJ99eVgXUAEq9X4.jpg', 'extracted_text': 'Weakest Since July 2016 Data puts U.K. economy on course for a 0.2 % contraction in fourth quarter U.K. manufacturing PMI Services PMI Composite PMI 62 60 58 52 50 50 level separates expansion and contraction 48 2014 2015 2018 2019 2016 2017 Source: IHS Markit Index points', 'graph_type': 'line-area', 'bert_tags': ['index', 'retail', 'manufacturing', 'us', 'uk', 'pmi'], 'bert_ts': datetime.datetime(2019, 11, 25, 6, 12, 39, 568000), 'status': 'graphicone_feed', 'imagehash': '011fff36c1ccf67f', 'confirmed': ['index', 'manufacturing', 'pmi', 'retail', 'us'], 'rejected': [], 'confirmed_after_validate': ['index', 'manufacturing', 'uk', 'pmi', 'services', 'recession', 'developed markets'], 'validated_timestamp': datetime.datetime(2019, 12, 11, 10, 37, 33, 70000), 'validator_username': 'tagger48', 'grafeed_approver': 'bond', 'grafeed_confirmed': ['manufacturing', 'pmi', 'developed markets', 'services', 'uk', 'index', 'recession'], 'grafeed_industries': [], 'grafeed_shifts': ['Industry 4.0'], 'dhash': 'b794c0661a1904d3', 'phash': '950c0a7a2d169bfd', 'in_app': 'feed', 'upload_timestamp': datetime.datetime(2020, 1, 18, 20, 59, 19, 319000), 'grafeed_confirmed_before': ['uk', 'pmi', 'manufacturing', 'recession', 'index']}\n",
      "\n",
      "{'_id': ObjectId('5ddb82f2a2de3b015252fc8c'), 'tweet_text': \"Good illustration of the steep cost Trump's trade war is imposing on U.S. farmers (https://t.co/4vNsY1ATS3): https://t.co/2TBHqN116v\", 'hashtags': [], 'tweet_timestamp': datetime.datetime(2019, 9, 24, 13, 22, 54), 'username': 'joshuagreen', 'user_id': 17044233, 'user_counters': {'followers_count': 55051, 'friends_count': 589, 'listed_count': 1786}, 'tweet_counters': {'retweet_count': 5, 'favorite_count': 13}, 'img_urls': 'http://pbs.twimg.com/media/EFO42DYW4AAT0x0.jpg', 'tweet_id': 1176487172884615169, 'downloaded': True, 'download_error': False, 'img_type': 'graphic', 's3_url': 'https://tv-ml-pipeline.s3.us-east-2.amazonaws.com/graphics/EFO42DYW4AAT0x0.jpg', 'extracted_text': 'Hills of Beans American soybean sales to China are far behind pre-trade war levels Cummulative U.S. soybean exports to China in 2015 2016 2017 2018 2019 35MK metric tons 30 25 U.S. soybean 20 season starts in 15 September 5 May Jun Aug Sep Jan Feb Mar Apr Jul Oct Nov Dec Source: U.S. Department of Agriculture Bloomberg', 'graph_type': 'line-area', 'bert_tags': ['commodities', 'us', 'china', 'trump', 'trade'], 'bert_ts': datetime.datetime(2019, 11, 25, 7, 30, 20, 836000), 'status': 'graphicone_feed', 'confirmed_after_validate': ['us', 'soybean', 'sales', 'china', 'trade war', 'exports', 'food'], 'validated_timestamp': datetime.datetime(2019, 11, 26, 8, 37, 43, 410000), 'validator_username': 'tagger5', 'grafeed_approver': 'bond', 'grafeed_confirmed': ['trade war', 'china', 'commodities', 'soybean', 'us', 'export', 'trade', 'retail'], 'grafeed_industries': ['Eat and drink', 'Energy sources', 'Raw materials'], 'grafeed_shifts': ['Demographic challenges', 'Growing threats'], 'in_app': 'feed', 'imagehash': '3f01c603f0fbb39e', 'confirmed': ['china', 'commodities', 'trade', 'us'], 'rejected': [], 'dhash': '47610c6683027738', 'phash': 'ae2293c995a7d4ca', 'grafeed_confirmed_before': ['china', 'trade', 'soybean', 'trade war', 'export', 'us', 'commodities', 'retail']}\n",
      "\n",
      "{'_id': ObjectId('5ddb92c1ed18622ca1f2f4ea'), 'tweet_text': '3. Trade War America vs China (@theeconomist) https://t.co/fRDEEgeNMh', 'hashtags': [], 'tweet_timestamp': datetime.datetime(2019, 11, 24, 15, 25, 20), 'username': 'planmaestro', 'user_id': 31186367, 'user_counters': {'followers_count': 15950, 'friends_count': 849, 'listed_count': 603}, 'tweet_counters': {'retweet_count': 3, 'favorite_count': 11}, 'img_urls': 'http://pbs.twimg.com/media/EKJd13oXUAA6rUW.jpg', 'tweet_id': 1198623643296837633, 'downloaded': True, 'download_error': False, 'img_type': 'graphic', 's3_url': 'https://tv-ml-pipeline.s3.us-east-2.amazonaws.com/graphics/EKJd13oXUAA6rUW.jpg', 'extracted_text': \"China and America's average tariff rates, % US tariffs on Chinese goods Chinese tariffs on US goods Source: Peterson Institute for International Economics 25 20 5 Jan Feb Mar April May Jun Jul Dec Jul Aug Sep Aug Sep Oct Nov 2018 2019 15 10\", 'graph_type': 'line-area', 'bert_tags': ['americas', 'germany', 'canada', 'us', 'china', 'uk', 'italy', 'japan', 'france', 'tariffs', 'russia', 'brazil', 'india'], 'bert_ts': datetime.datetime(2019, 11, 25, 8, 39, 11, 160000), 'status': 'graphicone_feed', 'imagehash': '7e3c60027cc00005', 'confirmed': ['brazil', 'canada', 'china', 'france', 'germany', 'india', 'italy', 'japan', 'russia', 'tariffs', 'uk', 'us'], 'rejected': [], 'confirmed_after_validate': ['us', 'china', 'tariffs', 'trade', 'trade war', 'geopolitics', 'expansion', 'imports', 'macroeconomics'], 'validated_timestamp': datetime.datetime(2019, 12, 12, 14, 9, 47, 936000), 'validator_username': 'tagger48', 'grafeed_approver': 'bond', 'grafeed_confirmed': ['trade war', 'tariffs', 'china', 'us', 'imports', 'geopolitics', 'macro', 'trade'], 'grafeed_industries': [], 'grafeed_shifts': ['Growing threats'], 'dhash': 'f0f081e6d4810ad9', 'phash': 'c0d58ad5a73562d3', 'in_app': 'feed', 'upload_timestamp': datetime.datetime(2020, 1, 16, 19, 59, 19, 874000), 'grafeed_confirmed_before': ['imports', 'china', 'trade', 'macro', 'tariffs', 'trade war', 'us', 'geopolitics']}\n",
      "\n",
      "{'_id': ObjectId('5ddb92c2ed18622ca1f2f4ec'), 'tweet_text': '5. Coal in Europe  (@bloomberg) https://t.co/wzQfagOQw5', 'hashtags': [], 'tweet_timestamp': datetime.datetime(2019, 11, 24, 15, 18, 34), 'username': 'planmaestro', 'user_id': 31186367, 'user_counters': {'followers_count': 15950, 'friends_count': 849, 'listed_count': 603}, 'tweet_counters': {'retweet_count': 2, 'favorite_count': 4}, 'img_urls': 'http://pbs.twimg.com/media/EKJcSpbW4AAxS0_.jpg', 'tweet_id': 1198621939297914880, 'downloaded': True, 'download_error': False, 'img_type': 'graphic', 's3_url': 'https://tv-ml-pipeline.s3.us-east-2.amazonaws.com/graphics/EKJcSpbW4AAxS0_.jpg', 'extracted_text': 'EU member state coal consumption 2000-16 Mt coal per year 140 120 100 80 60 40 0 Germany Bulgaria Poland UK Czech Rep Spain Italy Romania Netherlands Greece Source: Bloomberg New Energy Finance, BP Statistical Review Bloomberg New Energy Finance 122 September 19, 2017 20', 'graph_type': 'column-vertical', 'bert_tags': ['germany', 'poland', 'romania', 'spain', 'eu', 'greece', 'china', 'us', 'uk', 'italy', 'czech republic', 'netherlands', 'coal', 'bulgaria', 'japan', 'rep'], 'bert_ts': datetime.datetime(2019, 11, 25, 8, 39, 11, 839000), 'status': 'graphicone_feed', 'imagehash': '0f0fff7f3f0f02fc', 'confirmed': ['china', 'coal', 'japan', 'us'], 'rejected': [], 'confirmed_after_validate': ['germany', 'poland', 'romania', 'spain', 'eu', 'greece', 'uk', 'italy', 'czech republic', 'netherlands', 'coal', 'bulgaria', 'consumption'], 'validated_timestamp': datetime.datetime(2019, 12, 13, 11, 32, 8, 55000), 'validator_username': 'tagger5', 'approved_timestamp': datetime.datetime(2019, 12, 16, 13, 5, 49, 989000), 'grafeed_approver': 'bond', 'grafeed_confirmed': ['coal', 'greece', 'consumer', 'poland', 'czech republic', 'bulgaria', 'germany', 'netherlands', 'emissions', 'uk', 'clean energy', 'spain', 'eu', 'romania', 'italy'], 'grafeed_industries': ['Energy sources'], 'grafeed_shifts': ['Clean energy'], 'dhash': '5a5880d8607c7e51', 'phash': '9fa1703fc361ccc4', 'in_app': 'feed', 'upload_timestamp': datetime.datetime(2020, 1, 16, 20, 59, 19, 382000), 'grafeed_confirmed_before': ['eu', 'germany', 'czech republic', 'emissions', 'greece', 'netherlands', 'romania', 'uk', 'italy', 'consumer', 'spain', 'clean energy', 'coal', 'poland', 'bulgaria']}\n",
      "\n",
      "{'_id': ObjectId('5ddb981ded18622ca1f2f717'), 'tweet_text': 'OIL TRADERS bet on cyclical upswing in 2020: https://t.co/nA2HWP8ai0 https://t.co/4YKYjNplVm', 'hashtags': [], 'tweet_timestamp': datetime.datetime(2019, 11, 22, 15, 27, 51), 'username': 'jkempenergy', 'user_id': 2349845856, 'user_counters': {'followers_count': 33180, 'friends_count': 320, 'listed_count': 1227}, 'tweet_counters': {'retweet_count': 9, 'favorite_count': 14}, 'img_urls': 'http://pbs.twimg.com/media/EJ_LPn3WkAAuB70.png', 'tweet_id': 1197899499659825152, 'downloaded': True, 'download_error': False, 'img_type': 'graphic', 's3_url': 'https://tv-ml-pipeline.s3.us-east-2.amazonaws.com/graphics/EJ_LPn3WkAAuB70.png', 'extracted_text': 'Oil production and consumption growth in 2020 million barrels per day, forecasts by major statistical agencies in Nov 2019 showing long-term trend consumption growth of 1.5% Production Consumption Production Consumption Production Consumption 0.60 0.00 0.20 0.40 0.80 1.00 1.20 1.40 1.60 1.80 2.00 2.20 2.40 2.60 OPEC IEA EIA', 'graph_type': 'bar-horizontal', 'bert_tags': ['commodities', 'consumer'], 'bert_ts': datetime.datetime(2019, 11, 25, 9, 2, 6, 310000), 'status': 'graphicone_feed', 'imagehash': '003e787e78787c70', 'confirmed': ['commodities', 'consumer'], 'rejected': [], 'confirmed_after_validate': ['commodities', 'oil', 'energy', 'opec', 'eia', 'iea', 'expansion', 'non-manufacturing'], 'validated_timestamp': datetime.datetime(2019, 12, 12, 14, 11, 6, 791000), 'validator_username': 'tagger48', 'grafeed_approver': 'bond', 'grafeed_confirmed': ['iea', 'commodities', 'energy', 'eia', 'opec', 'non-manufacturing', 'oil'], 'grafeed_industries': ['Energy sources', 'Raw materials'], 'grafeed_shifts': ['Clean energy'], 'dhash': 'd0ccd2d0c0c0c4e7', 'phash': 'c53932363ad349cd', 'in_app': 'feed', 'upload_timestamp': datetime.datetime(2020, 1, 18, 17, 59, 17, 563000), 'grafeed_confirmed_before': ['eia', 'iea', 'energy', 'opec', 'commodities', 'oil']}\n",
      "\n",
      "{'_id': ObjectId('5ddb9821ed18622ca1f2f71e'), 'tweet_text': 'U.S. ROAD FREIGHT volumes were up +3.8% in the three months Jun-Aug, the slowest growth for two years: https://t.co/9dm4LeOsfC', 'hashtags': [], 'tweet_timestamp': datetime.datetime(2019, 11, 14, 15, 11, 56), 'username': 'jkempenergy', 'user_id': 2349845856, 'user_counters': {'followers_count': 33180, 'friends_count': 320, 'listed_count': 1227}, 'tweet_counters': {'retweet_count': 2, 'favorite_count': 6}, 'img_urls': 'http://pbs.twimg.com/media/EJV64jDXUAADPZQ.png', 'tweet_id': 1194996393456406528, 'downloaded': True, 'download_error': False, 'img_type': 'graphic', 's3_url': 'https://tv-ml-pipeline.s3.us-east-2.amazonaws.com/graphics/EJV64jDXUAADPZQ.png', 'extracted_text': 'U.S. freight truck tonnage, 2001-2019 Percent change compared with prior year Individual months and 3-month running average 10 0 -5 -10 15 2009 2017 2001 2003 2005 2007 2011 2013 2015 2019 Source: American Trucking Associations via U.S. Bureau of Transportation Statistics @JKempEnergy 15', 'graph_type': 'line-area', 'bert_tags': ['vehicles', 'transportation', 'us'], 'bert_ts': datetime.datetime(2019, 11, 25, 9, 2, 5, 222000), 'status': 'graphicone_feed', 'imagehash': '3c0049ffb01000ff', 'confirmed': ['transportation', 'us', 'vehicles'], 'rejected': [], 'confirmed_after_validate': ['transportation', 'us', 'logistics', 'shipping', 'financial crisis'], 'validated_timestamp': datetime.datetime(2019, 12, 13, 11, 32, 58, 675000), 'validator_username': 'tagger48', 'approved_timestamp': datetime.datetime(2019, 12, 16, 13, 6, 56, 64000), 'grafeed_approver': 'bond', 'grafeed_confirmed': ['logistics', 'crisis', 'us', 'transportation'], 'grafeed_industries': ['Machinery and construction', 'Raw materials', 'Cars, clothes and other staff', 'Eat and drink'], 'grafeed_shifts': ['Smart mobility', 'Digital commerce'], 'dhash': '6960999862343489', 'phash': 'ce939b4ec690984f', 'in_app': 'feed', 'upload_timestamp': datetime.datetime(2020, 1, 21, 23, 59, 17, 717000), 'grafeed_confirmed_before': ['transportation', 'logistics', 'us']}\n",
      "\n",
      "{'_id': ObjectId('5ddba795ed18622ca1f2fab9'), 'tweet_text': \"RT @bcshaffer: @StatCan_eng Here's the year-on-year change (2018 vs 2017) in registrations by fuel type: https://t.co/uNlc0xa9S2\", 'hashtags': [], 'tweet_timestamp': datetime.datetime(2019, 11, 18, 16, 50, 49), 'username': 'joelwwood', 'user_id': 240760525, 'user_counters': {'followers_count': 2520, 'friends_count': 1885, 'listed_count': 152}, 'tweet_counters': {'retweet_count': 6, 'favorite_count': 0}, 'img_urls': 'http://pbs.twimg.com/media/EJqbaaAUUAEqQN9.png', 'tweet_id': 1196470829862645760, 'downloaded': True, 'download_error': False, 'img_type': 'graphic', 's3_url': 'https://tv-ml-pipeline.s3.us-east-2.amazonaws.com/graphics/EJqbaaAUUAEqQN9.png', 'extracted_text': 'Change in vehicle registrations across Canada 2018 vs 2017 153% 150% 100% 85% 50% 11% 8% -4% 0%- Battery electric Plug-in hybrid electric Hybrid electric Diesel Gasoline Source: Statistics Canada. Table 20-10-0021 Chart by Blake Shaffer', 'graph_type': 'column-vertical', 'bert_tags': ['commodities', 'ev', 'tesla', 'canada'], 'bert_ts': datetime.datetime(2019, 11, 25, 10, 6, 44, 837000), 'status': 'graphicone_feed', 'imagehash': 'ffbf9f9f9f97ffff', 'confirmed': ['commodities', 'ev', 'tesla'], 'rejected': [], 'confirmed_after_validate': ['ev', 'canada', 'vehicles', 'diesel', 'gasoline'], 'validated_timestamp': datetime.datetime(2019, 12, 9, 10, 5, 56, 326000), 'validator_username': 'tagger5', 'grafeed_approver': 'share_sv', 'grafeed_confirmed': ['gasoline', 'commodities', 'ev', 'diesel', 'vehicles', 'canada'], 'grafeed_industries': ['Cars, clothes and other staff', 'Energy sources', 'Raw materials'], 'grafeed_shifts': ['Smart mobility', 'Clean energy'], 'dhash': '5660687c786f6d10', 'phash': '9f8fe03191261f99', 'in_app': 'feed', 'upload_timestamp': datetime.datetime(2020, 1, 20, 21, 59, 18, 166000), 'grafeed_confirmed_before': ['ev', 'canada', 'gasoline', 'vehicles', 'diesel', 'commodities']}\n",
      "\n",
      "{'_id': ObjectId('5ddbafe7ed18622ca1f2fdfe'), 'tweet_text': 'The sizzling rally in Chinese pork prices topping out? Maybe. From Citi 🐖 https://t.co/Q5Y4soKJnS', 'hashtags': [], 'tweet_timestamp': datetime.datetime(2019, 11, 25, 9, 0, 32), 'username': 'scutty', 'user_id': 484663513, 'user_counters': {'followers_count': 15618, 'friends_count': 1248, 'listed_count': 518}, 'tweet_counters': {'retweet_count': 1, 'favorite_count': 7}, 'img_urls': 'http://pbs.twimg.com/media/EKNPXPzUwAIcYC6.jpg', 'tweet_id': 1198889194099077120, 'downloaded': True, 'download_error': False, 'img_type': 'graphic', 's3_url': 'https://tv-ml-pipeline.s3.us-east-2.amazonaws.com/graphics/EKNPXPzUwAIcYC6.jpg', 'extracted_text': 'Figure 13. China: Pork prices further moderated last week, third week in a row 60 RMB/kilogram 55 50 45 40 35 30 25 20 15 10 Oct-18 Apr-19 Jul-19 Oct-19 Jan-18 Аp-18 Jul-18 Jan-19 Average pork prices for 22 provinces Source: Wind, Citi Research', 'graph_type': 'line-area', 'confirmed_after_validate': ['china', 'pork', 'price', 'meat'], 'status': 'graphicone_feed', 'validated_timestamp': datetime.datetime(2019, 12, 2, 9, 22, 45, 527000), 'validator_username': 'tagger5', 'grafeed_approver': 'share_sv', 'grafeed_confirmed': ['china', 'pork', 'meat', 'commodities'], 'grafeed_industries': ['Eat and drink', 'Energy sources', 'Raw materials'], 'grafeed_shifts': ['Demographic challenges'], 'imagehash': '003ffffdfb87ff1f', 'confirmed': ['food & drink'], 'rejected': [], 'bert_tags': ['china', 'food & drink'], 'dhash': '85656081432f1737', 'phash': 'aa423c696a703e6f', 'in_app': 'feed', 'upload_timestamp': datetime.datetime(2020, 1, 16, 15, 59, 17, 275000), 'grafeed_confirmed_before': ['meat', 'pork', 'china', 'commodities']}\n",
      "\n",
      "{'_id': ObjectId('5ddbd677ecf474e943a140e6'), 'tweet_text': \"Here's why Americans will probably spend more than $2 billion on Christmas trees this year: https://t.co/DwUEBRsEtY https://t.co/eiy3rF5Cev\", 'hashtags': [], 'tweet_timestamp': datetime.datetime(2019, 11, 24, 0, 12, 58), 'username': 'marketwatch', 'user_id': 624413, 'user_counters': {'followers_count': 3654885, 'friends_count': 192, 'listed_count': 24699}, 'tweet_counters': {'retweet_count': 6, 'favorite_count': 15}, 'img_urls': 'http://pbs.twimg.com/media/EKGNBqrWwAAgPcr.jpg', 'tweet_id': 1198394037738360835, 'downloaded': True, 'download_error': False, 'img_type': 'graphic', 's3_url': 'https://tv-ml-pipeline.s3.us-east-2.amazonaws.com/graphics/EKGNBqrWwAAgPcr.jpg', 'extracted_text': \"Christmas trees grow more expensive $78.00 $74.70 $75.00 Shoppers will spend more than $2 billion on farm-grown holiday trees Average price per living tree $50.82 $41.30 $40.92 $39.50 $36.50 $36.12 $34.87 $35.30 2015 2017 2018 2016 2008 2009 2010 2011 2012 2013 2014 Where real Christmas trees were purchased In 2018 Online (Amazon & all others): 2% Other: 3% Non-profit group (Boy Scouts, churches, etc.): 6% Choose and Nursery/garden center: 10% cut farm: 28% Retail Lot: 23% Chain store (Walmart, Home Depot, Lowe's, etc.): 28% Source: National Christmas Tree Association\", 'graph_type': 'pie-donut', 'confirmed_after_validate': ['environment', 'walmart', 'home depot', 'lowes', 'retail', 'farming', 'amazon'], 'status': 'graphicone_feed', 'validated_timestamp': datetime.datetime(2019, 11, 28, 8, 54, 0, 750000), 'validator_username': 'tagger5', 'grafeed_approver': 'bond', 'grafeed_confirmed': ['e-commerce', 'environment', 'walmart', 'home depot', 'entertainment', 'agriculture', \"lowe's\", 'amazon', 'retail'], 'grafeed_industries': ['Eat and drink', 'Cars, clothes and other staff', 'Raw materials', 'Technology as you know it'], 'grafeed_shifts': ['Clean energy', 'Digital commerce', 'Demographic challenges', 'Smart mobility', 'Disruptive business models'], 'imagehash': 'fffc0000ffc3c3e7', 'confirmed': ['us'], 'rejected': [], 'bert_tags': [\"lowe's\", 'amazon', 'us', 'walmart', 'home depot'], 'dhash': '387151578d1f9e4f', 'phash': 'f3cab0b1863547e4', 'in_app': 'feed', 'upload_timestamp': datetime.datetime(2020, 1, 18, 11, 59, 19, 292000), 'grafeed_confirmed_before': ['home depot', 'walmart', 'e-commerce', 'amazon', 'environment', 'entertainment', 'retail', 'agriculture']}\n",
      "\n",
      "{'_id': ObjectId('5ddbdcdaecf474e943a14376'), 'tweet_text': 'Brexit is stressing out the civil service https://t.co/mpvKdE4odW https://t.co/HtCveOH2HF', 'hashtags': [], 'tweet_timestamp': datetime.datetime(2019, 11, 17, 18, 4, 10), 'username': 'jkaraian', 'user_id': 877305698, 'user_counters': {'followers_count': 3849, 'friends_count': 1553, 'listed_count': 222}, 'tweet_counters': {'retweet_count': 1, 'favorite_count': 1}, 'img_urls': 'http://pbs.twimg.com/media/EJl_Ec5W4AEfl_m.jpg', 'tweet_id': 1196126900269264896, 'downloaded': True, 'download_error': False, 'img_type': 'graphic', 's3_url': 'https://tv-ml-pipeline.s3.us-east-2.amazonaws.com/graphics/EJl_Ec5W4AEfl_m.jpg', 'extracted_text': 'Rate of work-related stress, depression, and anxiety in UK public administration Cases per 100,000 workers, fiscal years ending March 4,000 3,500 3,000 2,500 2,000 1,500 1,000 500 2010 2016 2002 2004 2006 2008 2012 2014 2018 Source: UK Health and Safety Executive', 'graph_type': 'line-area', 'confirmed_after_validate': ['UK', 'health'], 'status': 'graphicone_feed', 'validated_timestamp': datetime.datetime(2019, 12, 3, 10, 45, 59, 450000), 'validator_username': 'tagger48', 'grafeed_approver': 'share_sv', 'grafeed_confirmed': ['diseases', 'labor', 'health', 'uk'], 'grafeed_industries': ['Your health'], 'grafeed_shifts': ['Healthcare transformation'], 'imagehash': '0107ff7fffff9f9f', 'confirmed': ['employment', 'labor'], 'rejected': [], 'bert_tags': ['labor', 'employment', 'uk', 'politics'], 'dhash': '696d80d2adc05531', 'phash': 'af2f2f2a6849c0f8', 'in_app': 'feed', 'upload_timestamp': datetime.datetime(2020, 1, 21, 14, 59, 19, 169000), 'grafeed_confirmed_before': ['health', 'uk', 'diseases', 'labor']}\n",
      "\n",
      "{'_id': ObjectId('5ddbe4fbecf474e943a14675'), 'tweet_text': 'RT @wef: Why your next car is a bike #micromobility #transportation https://t.co/1zUJlaPuGa https://t.co/gGecah9uR1', 'hashtags': ['micromobility', 'transportation'], 'tweet_timestamp': datetime.datetime(2019, 11, 19, 5, 57), 'username': 'wefenergy', 'user_id': 932505001, 'user_counters': {'followers_count': 1699, 'friends_count': 683, 'listed_count': 50}, 'tweet_counters': {'retweet_count': 65, 'favorite_count': 0}, 'img_urls': 'http://pbs.twimg.com/media/EJVqeycXkAEWBu3.jpg', 'tweet_id': 1196668679284547584, 'downloaded': True, 'download_error': False, 'img_type': 'graphic', 's3_url': 'https://tv-ml-pipeline.s3.us-east-2.amazonaws.com/graphics/EJVqeycXkAEWBu3.jpg', 'extracted_text': 'The Global Rise of Bike-Sharing Number of public-use bicycles in the world Top 5 countries by number of public-use bicycle programs 2,294,600 China 430 Italy 147 1,270,000 United States 946,000 109 700,000 Germany 76 Spain 68 2013 2014 2015 2016 *year-end 2016 statista Source: Russel Meddin, Bike-sharing Blog @StatistaCharts', 'graph_type': 'other-chart', 'bert_tags': ['germany', 'spain', 'us', 'china', 'italy', 'vehicles', 'transportation'], 'bert_ts': datetime.datetime(2019, 11, 25, 14, 28, 56, 602000), 'status': 'graphicone_feed', 'imagehash': '0fe7e1e7870707fe', 'confirmed': ['transportation', 'vehicles'], 'rejected': [], 'confirmed_after_validate': ['germany', 'spain', 'us', 'china', 'italy', 'transportation'], 'validated_timestamp': datetime.datetime(2019, 12, 9, 11, 19, 0, 123000), 'validator_username': 'tagger5', 'grafeed_approver': 'share_sv', 'grafeed_confirmed': ['china', 'germany', 'transportation', 'spain', 'us', 'italy'], 'grafeed_industries': ['Machinery and construction'], 'grafeed_shifts': ['Smart mobility'], 'dhash': '7d454d5e1d5d5de4', 'phash': 'b3e3cc3cd0231be8', 'in_app': 'feed', 'upload_timestamp': datetime.datetime(2020, 1, 20, 18, 59, 19, 416000), 'grafeed_confirmed_before': ['china', 'spain', 'germany', 'transportation', 'us', 'italy']}\n",
      "\n"
     ]
    },
    {
     "name": "stderr",
     "output_type": "stream",
     "text": [
      "IOPub data rate exceeded.\n",
      "The notebook server will temporarily stop sending output\n",
      "to the client in order to avoid crashing it.\n",
      "To change this limit, set the config variable\n",
      "`--NotebookApp.iopub_data_rate_limit`.\n",
      "\n",
      "Current values:\n",
      "NotebookApp.iopub_data_rate_limit=1000000.0 (bytes/sec)\n",
      "NotebookApp.rate_limit_window=3.0 (secs)\n",
      "\n"
     ]
    }
   ],
   "source": [
    "for i in db_client[\"tweets_pipeline_v2\"].find({\"$or\": [{\"status\":\"graphicone_search\"},{\"status\":\"graphicone_feed\"}]}):\n",
    "    print(i)\n",
    "    print()\n",
    "#     break"
   ]
  },
  {
   "cell_type": "code",
   "execution_count": null,
   "metadata": {},
   "outputs": [],
   "source": []
  },
  {
   "cell_type": "code",
   "execution_count": null,
   "metadata": {},
   "outputs": [],
   "source": []
  }
 ],
 "metadata": {
  "kernelspec": {
   "display_name": "Python 3",
   "language": "python",
   "name": "python3"
  },
  "language_info": {
   "codemirror_mode": {
    "name": "ipython",
    "version": 3
   },
   "file_extension": ".py",
   "mimetype": "text/x-python",
   "name": "python",
   "nbconvert_exporter": "python",
   "pygments_lexer": "ipython3",
   "version": "3.7.3"
  }
 },
 "nbformat": 4,
 "nbformat_minor": 2
}
