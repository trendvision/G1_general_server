{
 "cells": [
  {
   "cell_type": "code",
   "execution_count": 1,
   "metadata": {},
   "outputs": [],
   "source": [
    "import pickle\n",
    "import pandas as pd\n",
    "import re\n",
    "import os\n",
    "from time import sleep"
   ]
  },
  {
   "cell_type": "code",
   "execution_count": 2,
   "metadata": {},
   "outputs": [],
   "source": [
    "import warnings\n",
    "import pandas as pd\n",
    "from tqdm import tqdm\n",
    "import csv\n",
    "import tweepy\n",
    "warnings.filterwarnings(\"ignore\")\n",
    "from IPython.display import Image \n",
    "from IPython.core.display import Image, display\n",
    "from collections import Counter\n",
    "import pandas as pd\n",
    "import pymongo\n",
    "import bson\n",
    "import matplotlib.pyplot as plt\n",
    "import matplotlib\n",
    "from tqdm import tqdm\n",
    "import pickle\n",
    "import re\n",
    "import time\n",
    "import random\n",
    "from itertools import permutations\n",
    "username = \"tagger-admin\"\n",
    "password = \"tvaiadmin\"\n",
    "db_client = pymongo.MongoClient('104.198.62.226', username=username,\n",
    "                                password=password,\n",
    "                                authSource='tags',\n",
    "                                authMechanism='SCRAM-SHA-256', port=27017).tags"
   ]
  },
  {
   "cell_type": "code",
   "execution_count": 3,
   "metadata": {},
   "outputs": [],
   "source": [
    "consumer_key=\"zFdhu7Y1CBLxcA8qLgOEIvf3L\"\n",
    "consumer_secret=\"RQL1BAtYeTlD8CaihYRVQulmOS7NWJgsQnG09M4Wvhm3AG4IYd\"\n",
    "access_key=\"897617177058004992-Xritg053y3gpwodIxGJyFh62JtC2uiw\"\n",
    "access_secret=\"4WERqw181TPnhzz1cAkAySlhJA87DLhgNxJZJaPB8gULx\"\n",
    "\n",
    "auth = tweepy.OAuthHandler(consumer_key, consumer_secret)\n",
    "auth.set_access_token(access_key, access_secret)\n",
    "api = tweepy.API(auth, wait_on_rate_limit=True)"
   ]
  },
  {
   "cell_type": "code",
   "execution_count": 6,
   "metadata": {},
   "outputs": [
    {
     "data": {
      "text/html": [
       "<div>\n",
       "<style scoped>\n",
       "    .dataframe tbody tr th:only-of-type {\n",
       "        vertical-align: middle;\n",
       "    }\n",
       "\n",
       "    .dataframe tbody tr th {\n",
       "        vertical-align: top;\n",
       "    }\n",
       "\n",
       "    .dataframe thead th {\n",
       "        text-align: right;\n",
       "    }\n",
       "</style>\n",
       "<table border=\"1\" class=\"dataframe\">\n",
       "  <thead>\n",
       "    <tr style=\"text-align: right;\">\n",
       "      <th></th>\n",
       "      <th>0</th>\n",
       "    </tr>\n",
       "  </thead>\n",
       "  <tbody>\n",
       "    <tr>\n",
       "      <th>0</th>\n",
       "      <td>004nino</td>\n",
       "    </tr>\n",
       "    <tr>\n",
       "      <th>1</th>\n",
       "      <td>007thirty</td>\n",
       "    </tr>\n",
       "    <tr>\n",
       "      <th>2</th>\n",
       "      <td>snippetfinance</td>\n",
       "    </tr>\n",
       "    <tr>\n",
       "      <th>3</th>\n",
       "      <td>00bb263079e14e7</td>\n",
       "    </tr>\n",
       "    <tr>\n",
       "      <th>4</th>\n",
       "      <td>020trader</td>\n",
       "    </tr>\n",
       "    <tr>\n",
       "      <th>...</th>\n",
       "      <td>...</td>\n",
       "    </tr>\n",
       "    <tr>\n",
       "      <th>21000</th>\n",
       "      <td>ztrk_muzaffer</td>\n",
       "    </tr>\n",
       "    <tr>\n",
       "      <th>21001</th>\n",
       "      <td>zuzuku</td>\n",
       "    </tr>\n",
       "    <tr>\n",
       "      <th>21002</th>\n",
       "      <td>zxc098xxx</td>\n",
       "    </tr>\n",
       "    <tr>\n",
       "      <th>21003</th>\n",
       "      <td>zz_zigurds</td>\n",
       "    </tr>\n",
       "    <tr>\n",
       "      <th>21004</th>\n",
       "      <td>zzeerrooaa</td>\n",
       "    </tr>\n",
       "  </tbody>\n",
       "</table>\n",
       "<p>21005 rows × 1 columns</p>\n",
       "</div>"
      ],
      "text/plain": [
       "                     0\n",
       "0              004nino\n",
       "1            007thirty\n",
       "2       snippetfinance\n",
       "3      00bb263079e14e7\n",
       "4            020trader\n",
       "...                ...\n",
       "21000    ztrk_muzaffer\n",
       "21001           zuzuku\n",
       "21002        zxc098xxx\n",
       "21003       zz_zigurds\n",
       "21004       zzeerrooaa\n",
       "\n",
       "[21005 rows x 1 columns]"
      ]
     },
     "execution_count": 6,
     "metadata": {},
     "output_type": "execute_result"
    }
   ],
   "source": [
    "twitter_accounts = pd.read_csv(\"twitter_accounts.csv\", header=None)\n",
    "twitter_accounts"
   ]
  },
  {
   "cell_type": "code",
   "execution_count": 22,
   "metadata": {},
   "outputs": [],
   "source": [
    "def load(screen_name):\n",
    "    ids = []\n",
    "    backoff_counter = 1\n",
    "    my_cusrsor = tweepy.Cursor(api.followers, count=200, screen_name=screen_name)\n",
    "    while True:\n",
    "        try:\n",
    "            for page in tqdm(my_cusrsor.pages()):\n",
    "                ids.extend(page)\n",
    "                time.sleep(5)\n",
    "            break\n",
    "        except Exception as err:\n",
    "            print(err)\n",
    "            sleep(60)\n",
    "            continue\n",
    "\n",
    "    pickle.dump( ids, open( screen_name + \".p\", \"wb\" ) )"
   ]
  },
  {
   "cell_type": "code",
   "execution_count": 15,
   "metadata": {},
   "outputs": [],
   "source": [
    "db = db_client[\"tweets_pipeline_v2\"].find({\n",
    "    \"$or\":[\n",
    "    {\"status\": 'graphicone_search'}, \n",
    "    {\"status\": 'graphicone_feed'},\n",
    "    ],\n",
    "    \"username\": {\"$exists\": True}})\n",
    "usernameCollector = []\n",
    "for i in db:\n",
    "    usernameCollector.append(i[\"username\"])"
   ]
  },
  {
   "cell_type": "code",
   "execution_count": 25,
   "metadata": {},
   "outputs": [],
   "source": [
    "def checkInDir(screen_name):    \n",
    "    listDir = [row[:-2] for row in os.listdir() if re.search(\"\\.p\", row)]\n",
    "    if screen_name in listDir:\n",
    "        return True\n",
    "    else:\n",
    "        return False"
   ]
  },
  {
   "cell_type": "code",
   "execution_count": null,
   "metadata": {},
   "outputs": [
    {
     "name": "stderr",
     "output_type": "stream",
     "text": [
      "\r",
      "0it [00:00, ?it/s]"
     ]
    },
    {
     "name": "stdout",
     "output_type": "stream",
     "text": [
      "rob_hager True\n",
      "patrickartus True\n",
      "luca_gualtieri1 True\n",
      "statistacharts True\n",
      "planmaestro True\n",
      "bbgvisualdata True\n",
      "wineecon True\n",
      "winfieldsmart True\n",
      "lizannsonders False\n"
     ]
    },
    {
     "name": "stderr",
     "output_type": "stream",
     "text": [
      "120it [2:04:01, 62.01s/it] \n"
     ]
    },
    {
     "name": "stdout",
     "output_type": "stream",
     "text": [
      "Failed to send request: ('Connection aborted.', OSError(\"(104, 'ECONNRESET')\"))\n"
     ]
    },
    {
     "name": "stderr",
     "output_type": "stream",
     "text": [
      "105it [1:32:07,  8.00s/it]"
     ]
    }
   ],
   "source": [
    "for i in Counter(usernameCollector).most_common():\n",
    "    print(i[0], checkInDir(i[0]))\n",
    "    if checkInDir(i[0]) == False:        \n",
    "        print(load(i[0]))\n",
    "        "
   ]
  },
  {
   "cell_type": "code",
   "execution_count": null,
   "metadata": {},
   "outputs": [],
   "source": []
  },
  {
   "cell_type": "code",
   "execution_count": null,
   "metadata": {},
   "outputs": [],
   "source": []
  },
  {
   "cell_type": "code",
   "execution_count": null,
   "metadata": {},
   "outputs": [],
   "source": []
  }
 ],
 "metadata": {
  "kernelspec": {
   "display_name": "Python 3",
   "language": "python",
   "name": "python3"
  }
 },
 "nbformat": 4,
 "nbformat_minor": 4
}
