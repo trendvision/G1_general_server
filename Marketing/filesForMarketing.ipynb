{
 "cells": [
  {
   "cell_type": "code",
   "execution_count": 10,
   "metadata": {},
   "outputs": [],
   "source": [
    "import os\n",
    "import re\n",
    "import pandas as pd\n",
    "import pickle"
   ]
  },
  {
   "cell_type": "code",
   "execution_count": 11,
   "metadata": {},
   "outputs": [],
   "source": [
    "def download(account_name):\n",
    "\n",
    "    account = pickle.load( open( account_name + \".p\", \"rb\" ) )\n",
    "    \n",
    "    accounts_for_download = []\n",
    "    for acc in account:\n",
    "        accounts_for_download.append(acc.screen_name)\n",
    "        \n",
    "    pd.DataFrame(accounts_for_download).to_csv(\"csv/\" + account_name +\".csv\", header=None, index=None)"
   ]
  },
  {
   "cell_type": "code",
   "execution_count": 12,
   "metadata": {},
   "outputs": [
    {
     "name": "stdout",
     "output_type": "stream",
     "text": [
      "wineecon\n",
      "WSJGraphics\n",
      "statistacharts\n",
      "winfieldsmart\n",
      "004nino\n",
      "planmaestro\n",
      "luca_gualtieri1\n",
      "rob_hager\n",
      "bbgvisualdata\n",
      "patrickartus\n"
     ]
    }
   ],
   "source": [
    "for row in os.listdir():\n",
    "    if re.search(\"\\.p\", row):\n",
    "        print(row[:-2])\n",
    "        if os.path.exists(\"csv/\" + row[:-2] +\".csv\") == False:\n",
    "            download(row[:-2])"
   ]
  },
  {
   "cell_type": "code",
   "execution_count": null,
   "metadata": {},
   "outputs": [],
   "source": []
  },
  {
   "cell_type": "code",
   "execution_count": 17,
   "metadata": {},
   "outputs": [
    {
     "name": "stdout",
     "output_type": "stream",
     "text": [
      "rob_hager.csv (1456, 1)\n",
      "patrickartus.csv (11931, 1)\n",
      "WSJGraphics.csv (67430, 1)\n",
      "004nino.csv (6139, 1)\n",
      "winfieldsmart.csv (11230, 1)\n",
      "luca_gualtieri1.csv (15602, 1)\n",
      "wineecon.csv (7141, 1)\n",
      "planmaestro.csv (19659, 1)\n",
      "statistacharts.csv (73034, 1)\n",
      "bbgvisualdata.csv (54034, 1)\n"
     ]
    },
    {
     "data": {
      "text/plain": [
       "267656"
      ]
     },
     "execution_count": 17,
     "metadata": {},
     "output_type": "execute_result"
    }
   ],
   "source": [
    "Acc_counter = 0\n",
    "for row in os.listdir(\"csv\"):\n",
    "    if re.search(\".csv\", row):\n",
    "        df = pd.read_csv(\"csv/\" + row)\n",
    "        Acc_counter += df.shape[0]\n",
    "        print(row, df.shape)\n",
    "Acc_counter        "
   ]
  },
  {
   "cell_type": "code",
   "execution_count": null,
   "metadata": {},
   "outputs": [],
   "source": []
  },
  {
   "cell_type": "code",
   "execution_count": null,
   "metadata": {},
   "outputs": [],
   "source": []
  },
  {
   "cell_type": "code",
   "execution_count": null,
   "metadata": {},
   "outputs": [],
   "source": []
  },
  {
   "cell_type": "code",
   "execution_count": null,
   "metadata": {},
   "outputs": [],
   "source": []
  },
  {
   "cell_type": "code",
   "execution_count": null,
   "metadata": {},
   "outputs": [],
   "source": []
  },
  {
   "cell_type": "code",
   "execution_count": null,
   "metadata": {},
   "outputs": [],
   "source": []
  },
  {
   "cell_type": "code",
   "execution_count": null,
   "metadata": {},
   "outputs": [],
   "source": []
  },
  {
   "cell_type": "code",
   "execution_count": null,
   "metadata": {},
   "outputs": [],
   "source": []
  }
 ],
 "metadata": {
  "kernelspec": {
   "display_name": "Python 3",
   "language": "python",
   "name": "python3"
  },
  "language_info": {
   "codemirror_mode": {
    "name": "ipython",
    "version": 3
   },
   "file_extension": ".py",
   "mimetype": "text/x-python",
   "name": "python",
   "nbconvert_exporter": "python",
   "pygments_lexer": "ipython3",
   "version": "3.7.3"
  }
 },
 "nbformat": 4,
 "nbformat_minor": 4
}
