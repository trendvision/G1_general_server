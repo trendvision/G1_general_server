{
 "cells": [
  {
   "cell_type": "code",
   "execution_count": 1,
   "metadata": {},
   "outputs": [
    {
     "data": {
      "text/plain": [
       "6484"
      ]
     },
     "execution_count": 1,
     "metadata": {},
     "output_type": "execute_result"
    }
   ],
   "source": [
    "import numpy as np\n",
    "import pandas as pd\n",
    "from datetime import datetime, timedelta\n",
    "import pymongo\n",
    "import warnings\n",
    "import re\n",
    "warnings.filterwarnings(\"ignore\")\n",
    "username = \"tagger-admin\"\n",
    "password = \"tvaiadmin\"\n",
    "db_client = pymongo.MongoClient('104.198.62.226', username=username,\n",
    "                                password=password,\n",
    "                                authSource='tags',\n",
    "                                authMechanism='SCRAM-SHA-256', port=27017).tags\n",
    "\n",
    "import aerospike\n",
    "config = {\n",
    "    'hosts': [('35.228.136.58', 3000)]\n",
    "}\n",
    "client = aerospike.client(config).connect()\n",
    "data_as_key = (\"ids_to_validate\", \"data\", \"data\")\n",
    "tags_dictionary = client.get(data_as_key)[-1]['tags']\n",
    "len(tags_dictionary)"
   ]
  },
  {
   "cell_type": "code",
   "execution_count": 2,
   "metadata": {},
   "outputs": [],
   "source": [
    "bert_data_key = (\"ids_to_validate\", \"data\", \"bert_tags\")\n",
    "guten_tag_labels = client.get(bert_data_key)[-1][\"gutenTag\"]    "
   ]
  },
  {
   "cell_type": "code",
   "execution_count": 5,
   "metadata": {},
   "outputs": [],
   "source": [
    "from collections import Counter"
   ]
  },
  {
   "cell_type": "code",
   "execution_count": 4,
   "metadata": {},
   "outputs": [],
   "source": [
    "#Исключить из предсказаний энтити фиксированные тэги"
   ]
  },
  {
   "cell_type": "code",
   "execution_count": 11,
   "metadata": {
    "scrolled": true
   },
   "outputs": [
    {
     "name": "stdout",
     "output_type": "stream",
     "text": [
      "\n",
      "bert_tags {'mining', 'commodities', 'disease', 'metals'}\n",
      "entity_prepared: {'metals', 'health', 'global', 'world health organization', 'mining', 'commodities', 'copper'}\n",
      "confirmed_after_validate: {'covid-19', 'disease', 'metals', 'health', 'coronavirus', 'pandemic', 'global', 'world health organization', 'mining', 'commodities', 'copper'}\n",
      "\n",
      "EntityBERT_collector_remove_1: set()\n",
      "EntityNoNBERT_collector_add_1 {'pandemic', 'covid-19', 'coronavirus'}\n",
      "EntityNoNBERT_collector_remove_1 set()\n",
      "BERT_collector_add_1 {'health', 'global'}\n",
      "BERT_collector_remove_1 set()\n",
      "\n",
      "\n",
      "bert_tags {'global', 'funds'}\n",
      "entity_prepared: {'global', 'funds', 'idm'}\n",
      "confirmed_after_validate: {'global', 'emerging markets', 'developed markets', 'funds'}\n",
      "\n",
      "EntityBERT_collector_remove_1: set()\n",
      "EntityNoNBERT_collector_add_1 set()\n",
      "EntityNoNBERT_collector_remove_1 {'idm'}\n",
      "BERT_collector_add_1 {'emerging markets', 'developed markets'}\n",
      "BERT_collector_remove_1 set()\n",
      "\n",
      "\n",
      "bert_tags {'macro'}\n",
      "entity_prepared: {'ism', 'index', 'pmi', 'fed'}\n",
      "confirmed_after_validate: {'macro', 'pmi', 'new york', 'fed', 'us', 'ism', 'index'}\n",
      "\n",
      "EntityBERT_collector_remove_1: set()\n",
      "EntityNoNBERT_collector_add_1 {'us', 'new york'}\n",
      "EntityNoNBERT_collector_remove_1 set()\n",
      "BERT_collector_add_1 set()\n",
      "BERT_collector_remove_1 set()\n",
      "\n",
      "\n",
      "bert_tags {'disease', 'labor', 'employment'}\n",
      "entity_prepared: {'labor', 'germany', 'spain', 'uk', 'poland', 'singapur', 'canada', 'us', 'france', 'italy', 'belgium', 'ireland'}\n",
      "confirmed_after_validate: {'covid-19', 'disease', 'labor', 'germany', 'singapore', 'employment', 'spain', 'uk', 'poland', 'canada', 'us', 'france', 'pandemic', 'netherlands', 'coronavirus', 'italy', 'belgium', 'ireland'}\n",
      "\n",
      "EntityBERT_collector_remove_1: set()\n",
      "EntityNoNBERT_collector_add_1 {'covid-19', 'singapore', 'pandemic', 'netherlands', 'coronavirus'}\n",
      "EntityNoNBERT_collector_remove_1 {'singapur'}\n",
      "BERT_collector_add_1 set()\n",
      "BERT_collector_remove_1 set()\n",
      "\n",
      "\n",
      "bert_tags {'macro', 'disease', 'manufacturing'}\n",
      "entity_prepared: {'philippines', 'pmi', 'china', 'manufacturing', 'virtu', 'asia', 'vietnam', 'italian', 'priceline', 'south korea', 'iindia', 'japan', 'markit', 'index'}\n",
      "confirmed_after_validate: {'macro', 'covid-19', 'disease', 'philippines', 'pmi', 'manufacturing', 'china', 'asia', 'pandemic', 'vietnam', 'south korea', 'taiwan', 'coronavirus', 'japan', 'index', 'indonesia'}\n",
      "\n",
      "EntityBERT_collector_remove_1: set()\n",
      "EntityNoNBERT_collector_add_1 {'covid-19', 'pandemic', 'taiwan', 'coronavirus', 'indonesia'}\n",
      "EntityNoNBERT_collector_remove_1 {'virtu', 'italian', 'priceline', 'iindia', 'markit'}\n",
      "BERT_collector_add_1 set()\n",
      "BERT_collector_remove_1 set()\n",
      "\n",
      "\n",
      "bert_tags {'media', 'tv', 'politics'}\n",
      "entity_prepared: {'covid-19', 'politics', 'cnn', 'msnbc', 'us', 'pandemic', 'coronavirus', 'media', 'fox'}\n",
      "confirmed_after_validate: {'covid-19', 'disease', 'tv', 'politics', 'cnn', 'msnbc', 'us', 'pandemic', 'coronavirus', 'media', 'fox'}\n",
      "\n",
      "EntityBERT_collector_remove_1: set()\n",
      "EntityNoNBERT_collector_add_1 set()\n",
      "EntityNoNBERT_collector_remove_1 set()\n",
      "BERT_collector_add_1 {'disease'}\n",
      "BERT_collector_remove_1 set()\n",
      "\n",
      "\n",
      "bert_tags {'bonds', 'debt', 'interest rates'}\n",
      "entity_prepared: {'debt', 'repo', 'japan', 'index', 'government'}\n",
      "confirmed_after_validate: {'interest rates', 'debt', 'repo', 'government debt', 'japan', 'index', 'fixed income'}\n",
      "\n",
      "EntityBERT_collector_remove_1: {'government'}\n",
      "EntityNoNBERT_collector_add_1 set()\n",
      "EntityNoNBERT_collector_remove_1 set()\n",
      "BERT_collector_add_1 {'government debt', 'repo', 'fixed income'}\n",
      "BERT_collector_remove_1 {'bonds'}\n",
      "\n",
      "\n",
      "bert_tags {'bonds', 'government bonds', 'banking'}\n",
      "entity_prepared: {'banking', 'fed'}\n",
      "confirmed_after_validate: {'fed', 'bonds', 'government bonds', 'fixed income', 'banking'}\n",
      "\n",
      "EntityBERT_collector_remove_1: set()\n",
      "EntityNoNBERT_collector_add_1 set()\n",
      "EntityNoNBERT_collector_remove_1 set()\n",
      "BERT_collector_add_1 {'fixed income'}\n",
      "BERT_collector_remove_1 set()\n",
      "\n"
     ]
    }
   ],
   "source": [
    "endDate = datetime(2020, 5, 20)\n",
    "startDate = datetime.today() \n",
    "excess_from_models_counter = 0\n",
    "excess_from_person_counter = 0\n",
    "excess_from_person_gutentag_counter = 0\n",
    "excess_from_person_entity_counter = 0\n",
    "total_number_of_tags = 0\n",
    "excess_from_models_gutentag_counter = 0\n",
    "excess_from_models_entity_counter = 0\n",
    "validator_remove_collector = []\n",
    "validator_add_collector = []\n",
    "\n",
    "validator_remove_BERT_collector = []\n",
    "validator_remove_ENTITY_collector = []\n",
    "\n",
    "\n",
    "\n",
    "\n",
    "EntityBERT_collector_add = []\n",
    "EntityNoNBERT_collector_add = []\n",
    "EntityBERT_collector_add = []\n",
    "BERT_collector_add = []\n",
    "BothModels_add = []\n",
    "\n",
    "EntityBERT_collector_remove = []\n",
    "EntityNoNBERT_collector_remove = []\n",
    "EntityBERT_collector_remove = []\n",
    "BERT_collector_remove = []\n",
    "BothModels_remove = []\n",
    "Proper_tags_collector = []\n",
    "\n",
    "totalProcessedValidator = db_client[\"tweets_pipeline_v2\"].find({\"$or\": [{\"status\":\"graphicone_search\"}, {\"status\":\"graphicone_feed\"},\n",
    "                                                                          {\"status\":\"validated\"}],\n",
    "                                                                \"entity_prepared\": {\"$exists\": True},\n",
    "                                                                \"entity_response_aws_2\": {\"$exists\": True},\n",
    "                                      'validated_timestamp': {'$gte': endDate, '$lte': startDate}\n",
    "                                     })\n",
    "\n",
    "for i in totalProcessedValidator:\n",
    "    bert_tags = set(i[\"bert_tags\"])\n",
    "    entity_prepared = set(i[\"entity_prepared\"])\n",
    "    confirmed_after_validate = set([row.lower() for row in i[\"grafeed_confirmed\"]])    \n",
    "    Proper_tags_collector += confirmed_after_validate\n",
    "    \n",
    "    EntityBERT_collector_remove_1 = (set(entity_prepared).intersection(set(guten_tag_labels))) - (set(confirmed_after_validate).intersection(set(guten_tag_labels)))        \n",
    "    \n",
    "    \n",
    "    EntityNoNBERT_collector_remove_1 = (set(entity_prepared) - set(guten_tag_labels)) - (set(confirmed_after_validate) - set(guten_tag_labels))\n",
    "    EntityNoNBERT_collector_add_1 = (set(confirmed_after_validate) - set(guten_tag_labels)) - (set(entity_prepared) - set(guten_tag_labels))\n",
    "    \n",
    "    BERT_collector_add_1 = (set(confirmed_after_validate).intersection(set(guten_tag_labels))) - set(bert_tags)\n",
    "    BERT_collector_remove_1 = set(bert_tags) - (set(confirmed_after_validate).intersection(set(guten_tag_labels)))\n",
    "    \n",
    "    EntityBERT_collector_remove += EntityBERT_collector_remove_1\n",
    "    EntityNoNBERT_collector_add += EntityNoNBERT_collector_add_1\n",
    "    EntityNoNBERT_collector_remove += EntityNoNBERT_collector_remove_1\n",
    "    BERT_collector_add += BERT_collector_add_1\n",
    "    BERT_collector_remove += BERT_collector_remove_1\n",
    "\n",
    "#     Both_Models_Collector_add = \n",
    "    \n",
    "    \n",
    "#     print(\"EntityBERT_collector_add_1:\",EntityBERT_collector_add_1)    \n",
    "    print()\n",
    "    print(\"bert_tags\", bert_tags)\n",
    "    print(\"entity_prepared:\",entity_prepared)\n",
    "    print(\"confirmed_after_validate:\",confirmed_after_validate)\n",
    "    print()\n",
    "\n",
    "\n",
    "    print(\"EntityBERT_collector_remove_1:\", EntityBERT_collector_remove_1)    \n",
    "    print(\"EntityNoNBERT_collector_add_1\", EntityNoNBERT_collector_add_1)\n",
    "    print(\"EntityNoNBERT_collector_remove_1\", EntityNoNBERT_collector_remove_1)\n",
    "    print(\"BERT_collector_add_1\", BERT_collector_add_1)\n",
    "    print(\"BERT_collector_remove_1\", BERT_collector_remove_1)\n",
    "#     validator_remove_BERT_collector += (set(bert_tags) - (set(confirmed_after_validate).intersection(set(guten_tag_labels))))\n",
    "#     validator_remove_ENTITY_collector += (set(entity_prepared) - set(confirmed_after_validate))\n",
    "#     print(i[\"entity_response_aws_2\"])\n",
    "#     print(i[\"validator_username\"])\n",
    "#     print(\"bert_tags:\",bert_tags)\n",
    "    print()\n",
    "    \n",
    "#     excess_from_models = ((bert_tags.union(entity_prepared))- confirmed_after_validate)\n",
    "#     excess_from_models_counter += len(excess_from_models)    \n",
    "#     print(\"validator_remove\",excess_from_models)\n",
    "#     validator_remove_collector += list(excess_from_models)\n",
    "    \n",
    "#     excess_from_models_gutentag = excess_from_models.intersection(set(guten_tag_labels))\n",
    "#     excess_from_models_gutentag_counter+= len(excess_from_models_gutentag)    \n",
    "#     excess_from_models_entity = excess_from_models - (set(guten_tag_labels))\n",
    "#     excess_from_models_entity_counter+= len(excess_from_models_entity)\n",
    "\n",
    "    \n",
    "    \n",
    "#     excess_from_person = (confirmed_after_validate - (bert_tags.union(entity_prepared)))\n",
    "#     excess_from_person_counter += len(excess_from_person)\n",
    "    \n",
    "#     print(\"validator_add\",excess_from_person)\n",
    "#     validator_add_collector += list(excess_from_person)\n",
    "    \n",
    "#     excess_from_person_gutentag = excess_from_person.intersection(set(guten_tag_labels))\n",
    "#     excess_from_person_gutentag_counter+= len(excess_from_person_gutentag)\n",
    "    \n",
    "#     excess_from_person_entity = excess_from_person - (set(guten_tag_labels))\n",
    "#     excess_from_person_entity_counter+= len(excess_from_person_entity)\n",
    "\n",
    "    \n",
    "#     print()\n",
    "#     print()\n",
    "#     print()\n",
    "#     print()"
   ]
  },
  {
   "cell_type": "code",
   "execution_count": 10,
   "metadata": {},
   "outputs": [
    {
     "name": "stdout",
     "output_type": "stream",
     "text": [
      "Proper_tags_collector 79\n",
      "-------------------------\n",
      "EntityBERT_collector_remove 1 0.013\n",
      "EntityNoNBERT_collector_add 15 0.19\n",
      "EntityNoNBERT_collector_remove 7 0.089\n",
      "BERT_collector_add 9 0.114\n",
      "BERT_collector_remove 1 0.013\n",
      "-------------------------\n"
     ]
    }
   ],
   "source": [
    "total_number_of_tags = sum(dict(Counter(Proper_tags_collector)).values())\n",
    "print(\"Proper_tags_collector\", total_number_of_tags)\n",
    "print(\"-------------------------\")\n",
    "print(\"EntityBERT_collector_remove\",sum(dict(Counter(EntityBERT_collector_remove)).values()), round(sum(dict(Counter(EntityBERT_collector_remove)).values())/total_number_of_tags,3)) \n",
    "print(\"EntityNoNBERT_collector_add\", sum(dict(Counter(EntityNoNBERT_collector_add)).values()), round(sum(dict(Counter(EntityNoNBERT_collector_add)).values())/total_number_of_tags,3)) \n",
    "print(\"EntityNoNBERT_collector_remove\", sum(dict(Counter(EntityNoNBERT_collector_remove)).values()),round(sum(dict(Counter(EntityNoNBERT_collector_remove)).values())/total_number_of_tags,3)) \n",
    "print(\"BERT_collector_add\", sum(dict(Counter(BERT_collector_add)).values()), round(sum(dict(Counter(BERT_collector_add)).values())/total_number_of_tags,3))\n",
    "print(\"BERT_collector_remove\", sum(dict(Counter(BERT_collector_remove)).values()),round(sum(dict(Counter(BERT_collector_remove)).values())/total_number_of_tags,3))\n",
    "print(\"-------------------------\")"
   ]
  },
  {
   "cell_type": "code",
   "execution_count": 9,
   "metadata": {},
   "outputs": [],
   "source": []
  },
  {
   "cell_type": "code",
   "execution_count": null,
   "metadata": {},
   "outputs": [],
   "source": []
  },
  {
   "cell_type": "code",
   "execution_count": null,
   "metadata": {},
   "outputs": [],
   "source": []
  },
  {
   "cell_type": "code",
   "execution_count": null,
   "metadata": {},
   "outputs": [],
   "source": []
  },
  {
   "cell_type": "code",
   "execution_count": null,
   "metadata": {},
   "outputs": [],
   "source": []
  },
  {
   "cell_type": "code",
   "execution_count": 129,
   "metadata": {},
   "outputs": [
    {
     "data": {
      "text/plain": [
       "0.493"
      ]
     },
     "execution_count": 129,
     "metadata": {},
     "output_type": "execute_result"
    }
   ],
   "source": [
    "0.029+0.126+0.114+(0.175+0.049)"
   ]
  },
  {
   "cell_type": "code",
   "execution_count": 137,
   "metadata": {},
   "outputs": [
    {
     "data": {
      "text/plain": [
       "0.238"
      ]
     },
     "execution_count": 137,
     "metadata": {},
     "output_type": "execute_result"
    }
   ],
   "source": [
    "(0.159 + 0.079)"
   ]
  },
  {
   "cell_type": "code",
   "execution_count": 138,
   "metadata": {},
   "outputs": [
    {
     "data": {
      "text/plain": [
       "0.247"
      ]
     },
     "execution_count": 138,
     "metadata": {},
     "output_type": "execute_result"
    }
   ],
   "source": [
    "0.124+0.123"
   ]
  },
  {
   "cell_type": "code",
   "execution_count": null,
   "metadata": {},
   "outputs": [],
   "source": [
    "# алгоритмы похожести прочекать"
   ]
  },
  {
   "cell_type": "code",
   "execution_count": 139,
   "metadata": {
    "scrolled": false
   },
   "outputs": [],
   "source": [
    "pd.DataFrame.from_dict(Counter(EntityNoNBERT_collector_add).most_common()).to_excel(\"ahaha2.xlsx\")"
   ]
  },
  {
   "cell_type": "code",
   "execution_count": null,
   "metadata": {},
   "outputs": [],
   "source": [
    "EntityBERT_collector_remove 152 0.032\n",
    "EntityNoNBERT_collector_add 580 0.124\n",
    "EntityNoNBERT_collector_remove 577 0.123\n",
    "BERT_collector_add 746 0.159\n",
    "BERT_collector_remove 369 0.079\n",
    "\n",
    "#23 процента ошибок берта\n",
    "#24 процента ошибок энтити"
   ]
  },
  {
   "cell_type": "code",
   "execution_count": null,
   "metadata": {},
   "outputs": [],
   "source": []
  },
  {
   "cell_type": "code",
   "execution_count": null,
   "metadata": {},
   "outputs": [],
   "source": []
  },
  {
   "cell_type": "code",
   "execution_count": null,
   "metadata": {},
   "outputs": [],
   "source": []
  },
  {
   "cell_type": "code",
   "execution_count": null,
   "metadata": {},
   "outputs": [],
   "source": []
  },
  {
   "cell_type": "code",
   "execution_count": null,
   "metadata": {},
   "outputs": [],
   "source": []
  },
  {
   "cell_type": "code",
   "execution_count": null,
   "metadata": {},
   "outputs": [],
   "source": []
  }
 ],
 "metadata": {
  "kernelspec": {
   "display_name": "Python 3",
   "language": "python",
   "name": "python3"
  },
  "language_info": {
   "codemirror_mode": {
    "name": "ipython",
    "version": 3
   },
   "file_extension": ".py",
   "mimetype": "text/x-python",
   "name": "python",
   "nbconvert_exporter": "python",
   "pygments_lexer": "ipython3",
   "version": "3.7.3"
  }
 },
 "nbformat": 4,
 "nbformat_minor": 2
}
