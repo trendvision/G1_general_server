{
 "cells": [
  {
   "cell_type": "code",
   "execution_count": 41,
   "metadata": {},
   "outputs": [],
   "source": [
    "import warnings\n",
    "warnings.filterwarnings(\"ignore\")\n",
    "from IPython.display import Image \n",
    "from IPython.core.display import Image, display\n",
    "from collections import Counter\n",
    "import pandas as pd\n",
    "import pymongo\n",
    "import bson\n",
    "import matplotlib.pyplot as plt\n",
    "import matplotlib\n",
    "from tqdm import tqdm\n",
    "import re\n",
    "import random\n",
    "from itertools import permutations\n",
    "username = \"tagger-admin\"\n",
    "password = \"tvaiadmin\"\n",
    "db_client = pymongo.MongoClient('104.198.62.226', username=username,\n",
    "                                password=password,\n",
    "                                authSource='tags',\n",
    "                                authMechanism='SCRAM-SHA-256', port=27017).tags\n",
    "\n",
    "\n",
    "import pickle\n",
    "from datetime import datetime\n",
    "from collections import Counter"
   ]
  },
  {
   "cell_type": "code",
   "execution_count": 42,
   "metadata": {},
   "outputs": [],
   "source": [
    "df_pred =  pd.read_excel(\"test.xlsx\")"
   ]
  },
  {
   "cell_type": "code",
   "execution_count": 43,
   "metadata": {},
   "outputs": [],
   "source": [
    "def returnURL(x):\n",
    "    return db_client[\"tweets_pipeline_v2\"].find_one({\"_id\":bson.ObjectId(x)})[\"img_urls\"]"
   ]
  },
  {
   "cell_type": "code",
   "execution_count": 44,
   "metadata": {},
   "outputs": [],
   "source": [
    "df_pred[\"url\"] = df_pred.id.apply(lambda x: returnURL(x))"
   ]
  },
  {
   "cell_type": "code",
   "execution_count": 45,
   "metadata": {},
   "outputs": [],
   "source": [
    "def returnDate(x):\n",
    "#     print(db_client[\"tweets_pipeline_v2\"].find_one({\"_id\":bson.ObjectId(x)}))\n",
    "    return db_client[\"tweets_pipeline_v2\"].find_one({\"_id\":bson.ObjectId(x)})['TIME_FIELD_FOR_SORTING']"
   ]
  },
  {
   "cell_type": "code",
   "execution_count": 46,
   "metadata": {},
   "outputs": [
    {
     "ename": "KeyError",
     "evalue": "'TIME_FIELD_FOR_SORTING'",
     "output_type": "error",
     "traceback": [
      "\u001b[0;31m---------------------------------------------------------------------------\u001b[0m",
      "\u001b[0;31mKeyError\u001b[0m                                  Traceback (most recent call last)",
      "\u001b[0;32m<ipython-input-46-217ab0cb9eea>\u001b[0m in \u001b[0;36m<module>\u001b[0;34m\u001b[0m\n\u001b[0;32m----> 1\u001b[0;31m \u001b[0mdf_pred\u001b[0m\u001b[0;34m[\u001b[0m\u001b[0;34m\"date\"\u001b[0m\u001b[0;34m]\u001b[0m \u001b[0;34m=\u001b[0m \u001b[0mdf_pred\u001b[0m\u001b[0;34m.\u001b[0m\u001b[0mid\u001b[0m\u001b[0;34m.\u001b[0m\u001b[0mapply\u001b[0m\u001b[0;34m(\u001b[0m\u001b[0;32mlambda\u001b[0m \u001b[0mx\u001b[0m\u001b[0;34m:\u001b[0m \u001b[0mreturnDate\u001b[0m\u001b[0;34m(\u001b[0m\u001b[0mx\u001b[0m\u001b[0;34m)\u001b[0m\u001b[0;34m)\u001b[0m\u001b[0;34m\u001b[0m\u001b[0;34m\u001b[0m\u001b[0m\n\u001b[0m",
      "\u001b[0;32m~/anaconda3/lib/python3.7/site-packages/pandas/core/series.py\u001b[0m in \u001b[0;36mapply\u001b[0;34m(self, func, convert_dtype, args, **kwds)\u001b[0m\n\u001b[1;32m   3846\u001b[0m             \u001b[0;32melse\u001b[0m\u001b[0;34m:\u001b[0m\u001b[0;34m\u001b[0m\u001b[0;34m\u001b[0m\u001b[0m\n\u001b[1;32m   3847\u001b[0m                 \u001b[0mvalues\u001b[0m \u001b[0;34m=\u001b[0m \u001b[0mself\u001b[0m\u001b[0;34m.\u001b[0m\u001b[0mastype\u001b[0m\u001b[0;34m(\u001b[0m\u001b[0mobject\u001b[0m\u001b[0;34m)\u001b[0m\u001b[0;34m.\u001b[0m\u001b[0mvalues\u001b[0m\u001b[0;34m\u001b[0m\u001b[0;34m\u001b[0m\u001b[0m\n\u001b[0;32m-> 3848\u001b[0;31m                 \u001b[0mmapped\u001b[0m \u001b[0;34m=\u001b[0m \u001b[0mlib\u001b[0m\u001b[0;34m.\u001b[0m\u001b[0mmap_infer\u001b[0m\u001b[0;34m(\u001b[0m\u001b[0mvalues\u001b[0m\u001b[0;34m,\u001b[0m \u001b[0mf\u001b[0m\u001b[0;34m,\u001b[0m \u001b[0mconvert\u001b[0m\u001b[0;34m=\u001b[0m\u001b[0mconvert_dtype\u001b[0m\u001b[0;34m)\u001b[0m\u001b[0;34m\u001b[0m\u001b[0;34m\u001b[0m\u001b[0m\n\u001b[0m\u001b[1;32m   3849\u001b[0m \u001b[0;34m\u001b[0m\u001b[0m\n\u001b[1;32m   3850\u001b[0m         \u001b[0;32mif\u001b[0m \u001b[0mlen\u001b[0m\u001b[0;34m(\u001b[0m\u001b[0mmapped\u001b[0m\u001b[0;34m)\u001b[0m \u001b[0;32mand\u001b[0m \u001b[0misinstance\u001b[0m\u001b[0;34m(\u001b[0m\u001b[0mmapped\u001b[0m\u001b[0;34m[\u001b[0m\u001b[0;36m0\u001b[0m\u001b[0;34m]\u001b[0m\u001b[0;34m,\u001b[0m \u001b[0mSeries\u001b[0m\u001b[0;34m)\u001b[0m\u001b[0;34m:\u001b[0m\u001b[0;34m\u001b[0m\u001b[0;34m\u001b[0m\u001b[0m\n",
      "\u001b[0;32mpandas/_libs/lib.pyx\u001b[0m in \u001b[0;36mpandas._libs.lib.map_infer\u001b[0;34m()\u001b[0m\n",
      "\u001b[0;32m<ipython-input-46-217ab0cb9eea>\u001b[0m in \u001b[0;36m<lambda>\u001b[0;34m(x)\u001b[0m\n\u001b[0;32m----> 1\u001b[0;31m \u001b[0mdf_pred\u001b[0m\u001b[0;34m[\u001b[0m\u001b[0;34m\"date\"\u001b[0m\u001b[0;34m]\u001b[0m \u001b[0;34m=\u001b[0m \u001b[0mdf_pred\u001b[0m\u001b[0;34m.\u001b[0m\u001b[0mid\u001b[0m\u001b[0;34m.\u001b[0m\u001b[0mapply\u001b[0m\u001b[0;34m(\u001b[0m\u001b[0;32mlambda\u001b[0m \u001b[0mx\u001b[0m\u001b[0;34m:\u001b[0m \u001b[0mreturnDate\u001b[0m\u001b[0;34m(\u001b[0m\u001b[0mx\u001b[0m\u001b[0;34m)\u001b[0m\u001b[0;34m)\u001b[0m\u001b[0;34m\u001b[0m\u001b[0;34m\u001b[0m\u001b[0m\n\u001b[0m",
      "\u001b[0;32m<ipython-input-45-be19304c20ab>\u001b[0m in \u001b[0;36mreturnDate\u001b[0;34m(x)\u001b[0m\n\u001b[1;32m      1\u001b[0m \u001b[0;32mdef\u001b[0m \u001b[0mreturnDate\u001b[0m\u001b[0;34m(\u001b[0m\u001b[0mx\u001b[0m\u001b[0;34m)\u001b[0m\u001b[0;34m:\u001b[0m\u001b[0;34m\u001b[0m\u001b[0;34m\u001b[0m\u001b[0m\n\u001b[1;32m      2\u001b[0m \u001b[0;31m#     print(db_client[\"tweets_pipeline_v2\"].find_one({\"_id\":bson.ObjectId(x)}))\u001b[0m\u001b[0;34m\u001b[0m\u001b[0;34m\u001b[0m\u001b[0;34m\u001b[0m\u001b[0m\n\u001b[0;32m----> 3\u001b[0;31m     \u001b[0;32mreturn\u001b[0m \u001b[0mdb_client\u001b[0m\u001b[0;34m[\u001b[0m\u001b[0;34m\"tweets_pipeline_v2\"\u001b[0m\u001b[0;34m]\u001b[0m\u001b[0;34m.\u001b[0m\u001b[0mfind_one\u001b[0m\u001b[0;34m(\u001b[0m\u001b[0;34m{\u001b[0m\u001b[0;34m\"_id\"\u001b[0m\u001b[0;34m:\u001b[0m\u001b[0mbson\u001b[0m\u001b[0;34m.\u001b[0m\u001b[0mObjectId\u001b[0m\u001b[0;34m(\u001b[0m\u001b[0mx\u001b[0m\u001b[0;34m)\u001b[0m\u001b[0;34m}\u001b[0m\u001b[0;34m)\u001b[0m\u001b[0;34m[\u001b[0m\u001b[0;34m'TIME_FIELD_FOR_SORTING'\u001b[0m\u001b[0;34m]\u001b[0m\u001b[0;34m\u001b[0m\u001b[0;34m\u001b[0m\u001b[0m\n\u001b[0m",
      "\u001b[0;31mKeyError\u001b[0m: 'TIME_FIELD_FOR_SORTING'"
     ]
    }
   ],
   "source": [
    "df_pred[\"date\"] = df_pred.id.apply(lambda x: returnDate(x))"
   ]
  },
  {
   "cell_type": "code",
   "execution_count": 47,
   "metadata": {},
   "outputs": [],
   "source": [
    "df_pred.to_excel(\"preds.xlsx\")"
   ]
  },
  {
   "cell_type": "code",
   "execution_count": null,
   "metadata": {},
   "outputs": [],
   "source": []
  },
  {
   "cell_type": "code",
   "execution_count": 12,
   "metadata": {},
   "outputs": [],
   "source": [
    "from tqdm import tqdm\n",
    "import os\n",
    "tqdm.pandas()\n",
    "import requests\n"
   ]
  },
  {
   "cell_type": "code",
   "execution_count": 13,
   "metadata": {},
   "outputs": [],
   "source": [
    "def download(folderName,_id, extension,r, MainDir):\n",
    "    if extension in [\".jpg\", \".png\"]:\n",
    "        if not os.path.exists(MainDir+\"/\"+folderName):\n",
    "            os.makedirs(MainDir+\"/\"+folderName)\n",
    "        path = MainDir+folderName+\"/\"+str(_id) + extension\n",
    "        with open(path, 'wb') as f:\n",
    "            f.write(r.content)"
   ]
  },
  {
   "cell_type": "code",
   "execution_count": 19,
   "metadata": {},
   "outputs": [],
   "source": [
    "def FolderPreparator(x, MainDir):\n",
    "    \n",
    "    if not os.path.exists(MainDir):\n",
    "        os.mkdir(MainDir)    \n",
    "        \n",
    "    try:\n",
    "        folders = x[x==True].index.values\n",
    "        _id, url = x[\"id\"], x[\"url\"]\n",
    "        extension = url[-4:]\n",
    "        r = requests.get(url)\n",
    "        reason_folder = \"\"\n",
    "        download(reason_folder,_id, extension, r, MainDir)\n",
    "    except Exception as err:\n",
    "        pass"
   ]
  },
  {
   "cell_type": "code",
   "execution_count": 20,
   "metadata": {},
   "outputs": [],
   "source": [
    "mainDir = \"predicts/\""
   ]
  },
  {
   "cell_type": "code",
   "execution_count": 21,
   "metadata": {
    "scrolled": true
   },
   "outputs": [
    {
     "name": "stderr",
     "output_type": "stream",
     "text": [
      "  2%|▏         | 3/196 [00:00<00:06, 27.88it/s]"
     ]
    },
    {
     "name": "stdout",
     "output_type": "stream",
     "text": [
      "predicts//5eac004cb23ffdc77614663e.jpg\n",
      "predicts//5ec8303f3ad936f62c626e2c.png\n"
     ]
    },
    {
     "name": "stderr",
     "output_type": "stream",
     "text": [
      "  3%|▎         | 6/196 [00:00<00:17, 10.65it/s]"
     ]
    },
    {
     "name": "stdout",
     "output_type": "stream",
     "text": [
      "predicts//5ec830b1c64ec3d1c084032d.png\n",
      "predicts//5ec836241c2398a2ad350e02.png\n"
     ]
    },
    {
     "name": "stderr",
     "output_type": "stream",
     "text": [
      "  5%|▍         | 9/196 [00:01<00:25,  7.46it/s]"
     ]
    },
    {
     "name": "stdout",
     "output_type": "stream",
     "text": [
      "predicts//5ec836fba550157c8e90ae57.png\n"
     ]
    },
    {
     "name": "stderr",
     "output_type": "stream",
     "text": [
      "\r",
      "  5%|▌         | 10/196 [00:01<00:32,  5.73it/s]"
     ]
    },
    {
     "name": "stdout",
     "output_type": "stream",
     "text": [
      "predicts//5ecf1bf26e71ddccc38f8f22.jpg\n"
     ]
    },
    {
     "name": "stderr",
     "output_type": "stream",
     "text": [
      "\r",
      "  6%|▌         | 11/196 [00:01<00:34,  5.41it/s]"
     ]
    },
    {
     "name": "stdout",
     "output_type": "stream",
     "text": [
      "predicts//5ecf1bfe02ebeeef99eb3fb2.png\n"
     ]
    },
    {
     "name": "stderr",
     "output_type": "stream",
     "text": [
      "\r",
      "  6%|▌         | 12/196 [00:01<00:40,  4.59it/s]"
     ]
    },
    {
     "name": "stdout",
     "output_type": "stream",
     "text": [
      "predicts//5ecf204fad1cf5d37447ff6a.jpg\n"
     ]
    },
    {
     "name": "stderr",
     "output_type": "stream",
     "text": [
      "\r",
      "  7%|▋         | 13/196 [00:02<00:42,  4.26it/s]"
     ]
    },
    {
     "name": "stdout",
     "output_type": "stream",
     "text": [
      "predicts//5ecf77623121c0b17fc1cac8.jpg\n"
     ]
    },
    {
     "name": "stderr",
     "output_type": "stream",
     "text": [
      "\r",
      "  7%|▋         | 14/196 [00:02<00:53,  3.41it/s]"
     ]
    },
    {
     "name": "stdout",
     "output_type": "stream",
     "text": [
      "predicts//5ecfbeec12266edaf925e219.jpg\n"
     ]
    },
    {
     "name": "stderr",
     "output_type": "stream",
     "text": [
      "\r",
      "  8%|▊         | 15/196 [00:02<00:57,  3.13it/s]"
     ]
    },
    {
     "name": "stdout",
     "output_type": "stream",
     "text": [
      "predicts//5ed0280305408ab6a9726f21.jpg\n"
     ]
    },
    {
     "name": "stderr",
     "output_type": "stream",
     "text": [
      "\r",
      "  8%|▊         | 16/196 [00:03<00:59,  3.02it/s]"
     ]
    },
    {
     "name": "stdout",
     "output_type": "stream",
     "text": [
      "predicts//5ed05139ad7cf743f68714bb.jpg\n"
     ]
    },
    {
     "name": "stderr",
     "output_type": "stream",
     "text": [
      "\r",
      "  9%|▊         | 17/196 [00:03<00:58,  3.09it/s]"
     ]
    },
    {
     "name": "stdout",
     "output_type": "stream",
     "text": [
      "predicts//5ed055737d6edac624599453.png\n"
     ]
    },
    {
     "name": "stderr",
     "output_type": "stream",
     "text": [
      "\r",
      "  9%|▉         | 18/196 [00:03<00:54,  3.26it/s]"
     ]
    },
    {
     "name": "stdout",
     "output_type": "stream",
     "text": [
      "predicts//5ed074a8518b32a32c917274.jpg\n"
     ]
    },
    {
     "name": "stderr",
     "output_type": "stream",
     "text": [
      "\r",
      " 10%|▉         | 19/196 [00:04<00:49,  3.60it/s]"
     ]
    },
    {
     "name": "stdout",
     "output_type": "stream",
     "text": [
      "predicts//5ed09ab459be4f7388948cff.jpg\n"
     ]
    },
    {
     "name": "stderr",
     "output_type": "stream",
     "text": [
      "\r",
      " 10%|█         | 20/196 [00:04<00:48,  3.60it/s]"
     ]
    },
    {
     "name": "stdout",
     "output_type": "stream",
     "text": [
      "predicts//5ed1fb312d943591ec906d03.png\n"
     ]
    },
    {
     "name": "stderr",
     "output_type": "stream",
     "text": [
      " 11%|█         | 22/196 [00:04<00:38,  4.53it/s]"
     ]
    },
    {
     "name": "stdout",
     "output_type": "stream",
     "text": [
      "predicts//5ed2f8addeeba1824f18a8af.jpg\n",
      "predicts//5ed33233875d5e8c4231d61c.jpg\n"
     ]
    },
    {
     "name": "stderr",
     "output_type": "stream",
     "text": [
      "\r",
      " 12%|█▏        | 23/196 [00:04<00:39,  4.37it/s]"
     ]
    },
    {
     "name": "stdout",
     "output_type": "stream",
     "text": [
      "predicts//5ed78fe677ec312b9235e1b2.png\n"
     ]
    },
    {
     "name": "stderr",
     "output_type": "stream",
     "text": [
      "\r",
      " 12%|█▏        | 24/196 [00:05<00:47,  3.66it/s]"
     ]
    },
    {
     "name": "stdout",
     "output_type": "stream",
     "text": [
      "predicts//5ed7eaedbe7e27ad05d1a76c.png\n"
     ]
    },
    {
     "name": "stderr",
     "output_type": "stream",
     "text": [
      "\r",
      " 13%|█▎        | 25/196 [00:05<00:51,  3.30it/s]"
     ]
    },
    {
     "name": "stdout",
     "output_type": "stream",
     "text": [
      "predicts//5ed873ecf9b1fb774519e55d.jpg\n"
     ]
    },
    {
     "name": "stderr",
     "output_type": "stream",
     "text": [
      "\r",
      " 13%|█▎        | 26/196 [00:06<00:50,  3.37it/s]"
     ]
    },
    {
     "name": "stdout",
     "output_type": "stream",
     "text": [
      "predicts//5ed9193c77c6888865de8cc9.png\n"
     ]
    },
    {
     "name": "stderr",
     "output_type": "stream",
     "text": [
      "\r",
      " 14%|█▍        | 27/196 [00:06<00:46,  3.61it/s]"
     ]
    },
    {
     "name": "stdout",
     "output_type": "stream",
     "text": [
      "predicts//5ed91af44674a2ea1a84a6c9.jpg\n"
     ]
    },
    {
     "name": "stderr",
     "output_type": "stream",
     "text": [
      "\r",
      " 14%|█▍        | 28/196 [00:06<00:49,  3.41it/s]"
     ]
    },
    {
     "name": "stdout",
     "output_type": "stream",
     "text": [
      "predicts//5ee4f9b19c23d2bf1ea3b7ad.jpg\n"
     ]
    },
    {
     "name": "stderr",
     "output_type": "stream",
     "text": [
      "\r",
      " 15%|█▍        | 29/196 [00:06<00:45,  3.68it/s]"
     ]
    },
    {
     "name": "stdout",
     "output_type": "stream",
     "text": [
      "predicts//5ee4fae995daaa1d4c84b2f0.jpg\n",
      "predicts//5ee50e7ce9e212e972a67b7c.jpg\n"
     ]
    },
    {
     "name": "stderr",
     "output_type": "stream",
     "text": [
      "\r",
      " 16%|█▌        | 31/196 [00:07<00:41,  4.02it/s]"
     ]
    },
    {
     "name": "stdout",
     "output_type": "stream",
     "text": [
      "predicts//5ee51848d7894de5fd5e5a22.jpg\n"
     ]
    },
    {
     "name": "stderr",
     "output_type": "stream",
     "text": [
      "\r",
      " 16%|█▋        | 32/196 [00:07<00:40,  4.08it/s]"
     ]
    },
    {
     "name": "stdout",
     "output_type": "stream",
     "text": [
      "predicts//5ee535f365940d1b65b9d196.png\n",
      "predicts//5ee54c79776dea5e4d4cb09c.png\n"
     ]
    },
    {
     "name": "stderr",
     "output_type": "stream",
     "text": [
      "\r",
      " 17%|█▋        | 34/196 [00:07<00:37,  4.30it/s]"
     ]
    },
    {
     "name": "stdout",
     "output_type": "stream",
     "text": [
      "predicts//5ee55605f0ce471a365170b0.png\n"
     ]
    },
    {
     "name": "stderr",
     "output_type": "stream",
     "text": [
      "\r",
      " 18%|█▊        | 35/196 [00:08<00:38,  4.23it/s]"
     ]
    },
    {
     "name": "stdout",
     "output_type": "stream",
     "text": [
      "predicts//5ee55ac7e04508db1201709b.jpg\n",
      "predicts//5ee57a37631e8542478f94d9.jpg\n"
     ]
    },
    {
     "name": "stderr",
     "output_type": "stream",
     "text": [
      " 19%|█▉        | 38/196 [00:08<00:28,  5.50it/s]"
     ]
    },
    {
     "name": "stdout",
     "output_type": "stream",
     "text": [
      "predicts//5ee593f2849bcdf45d502121.jpg\n",
      "predicts//5ef751b632b33c54b6fb87e5.png\n"
     ]
    },
    {
     "name": "stderr",
     "output_type": "stream",
     "text": [
      " 20%|██        | 40/196 [00:09<00:40,  3.83it/s]"
     ]
    },
    {
     "name": "stdout",
     "output_type": "stream",
     "text": [
      "predicts//5ef76a9c53fa28b1bb518fe4.jpg\n",
      "predicts//5ef76db1d422d14550762025.jpg\n"
     ]
    },
    {
     "name": "stderr",
     "output_type": "stream",
     "text": [
      " 21%|██▏       | 42/196 [00:09<00:34,  4.51it/s]"
     ]
    },
    {
     "name": "stdout",
     "output_type": "stream",
     "text": [
      "predicts//5ef76f17c8fea15d588b1ea2.jpg\n",
      "predicts//5ef77992fd06434373f7e56a.png\n"
     ]
    },
    {
     "name": "stderr",
     "output_type": "stream",
     "text": [
      "\r",
      " 22%|██▏       | 44/196 [00:09<00:27,  5.45it/s]"
     ]
    },
    {
     "name": "stdout",
     "output_type": "stream",
     "text": [
      "predicts//5ef779cdc8fea15d588b1ea5.jpg\n",
      "predicts//5ef782a65a55f02c78400120.jpg\n"
     ]
    },
    {
     "name": "stderr",
     "output_type": "stream",
     "text": [
      "\r",
      " 23%|██▎       | 45/196 [00:10<00:32,  4.59it/s]"
     ]
    },
    {
     "name": "stdout",
     "output_type": "stream",
     "text": [
      "predicts//5ef787cf834c2ea6c0ef04b3.png\n"
     ]
    },
    {
     "name": "stderr",
     "output_type": "stream",
     "text": [
      "\r",
      " 23%|██▎       | 46/196 [00:10<00:38,  3.90it/s]"
     ]
    },
    {
     "name": "stdout",
     "output_type": "stream",
     "text": [
      "predicts//5ef7a5bf9735b3f9594b0ba4.png\n"
     ]
    },
    {
     "name": "stderr",
     "output_type": "stream",
     "text": [
      "\r",
      " 24%|██▍       | 47/196 [00:10<00:43,  3.42it/s]"
     ]
    },
    {
     "name": "stdout",
     "output_type": "stream",
     "text": [
      "predicts//5ef7bf09eff71f84900bf592.jpg\n"
     ]
    },
    {
     "name": "stderr",
     "output_type": "stream",
     "text": [
      " 25%|██▌       | 49/196 [00:11<00:37,  3.95it/s]"
     ]
    },
    {
     "name": "stdout",
     "output_type": "stream",
     "text": [
      "predicts//5ef7c54febf9c99fed75bef0.jpg\n",
      "predicts//5ef7d1f010bf0bfc0d8979da.jpg\n"
     ]
    },
    {
     "name": "stderr",
     "output_type": "stream",
     "text": [
      " 26%|██▌       | 51/196 [00:17<03:33,  1.47s/it]"
     ]
    },
    {
     "name": "stdout",
     "output_type": "stream",
     "text": [
      "predicts//5f1f25f9fd6aca55f957af20.png\n",
      "predicts//5f1f4e15be6a0c9f7b66a5e9.png\n",
      "predicts//5f1fdebf1641982b2a3d93d3.png\n"
     ]
    },
    {
     "name": "stderr",
     "output_type": "stream",
     "text": [
      "\r",
      " 27%|██▋       | 53/196 [00:17<02:34,  1.08s/it]"
     ]
    },
    {
     "name": "stdout",
     "output_type": "stream",
     "text": [
      "predicts//5f20384ae8b1bbbc0a1846a7.png\n"
     ]
    },
    {
     "name": "stderr",
     "output_type": "stream",
     "text": [
      "\r",
      " 28%|██▊       | 54/196 [00:18<02:15,  1.05it/s]"
     ]
    },
    {
     "name": "stdout",
     "output_type": "stream",
     "text": [
      "predicts//5f209aaa61eff7735db6d6f5.jpg\n"
     ]
    },
    {
     "name": "stderr",
     "output_type": "stream",
     "text": [
      " 29%|██▊       | 56/196 [00:18<01:15,  1.85it/s]"
     ]
    },
    {
     "name": "stdout",
     "output_type": "stream",
     "text": [
      "predicts//5f209e9241937450aacc1346.png\n",
      "predicts//5f20ad02b924f46618bf8de0.jpg\n"
     ]
    },
    {
     "name": "stderr",
     "output_type": "stream",
     "text": [
      "\r",
      " 29%|██▉       | 57/196 [00:19<00:58,  2.38it/s]"
     ]
    },
    {
     "name": "stdout",
     "output_type": "stream",
     "text": [
      "predicts//5f20febea5ca2d9a3a012787.jpg\n"
     ]
    },
    {
     "name": "stderr",
     "output_type": "stream",
     "text": [
      " 30%|███       | 59/196 [00:20<01:13,  1.87it/s]"
     ]
    },
    {
     "name": "stdout",
     "output_type": "stream",
     "text": [
      "predicts//5f2131710cbd18ad85562ef0.png\n"
     ]
    },
    {
     "name": "stderr",
     "output_type": "stream",
     "text": [
      "\r",
      " 31%|███       | 60/196 [00:20<01:08,  1.99it/s]"
     ]
    },
    {
     "name": "stdout",
     "output_type": "stream",
     "text": [
      "predicts//5f21497c0d241190d0d73a97.jpg\n"
     ]
    },
    {
     "name": "stderr",
     "output_type": "stream",
     "text": [
      " 32%|███▏      | 62/196 [00:25<02:39,  1.19s/it]"
     ]
    },
    {
     "name": "stdout",
     "output_type": "stream",
     "text": [
      "predicts//5f21772f7eefb30587bfee68.png\n"
     ]
    },
    {
     "name": "stderr",
     "output_type": "stream",
     "text": [
      " 33%|███▎      | 64/196 [00:25<01:36,  1.36it/s]"
     ]
    },
    {
     "name": "stdout",
     "output_type": "stream",
     "text": [
      "predicts//5f21a207c0a57f1bd43fca2a.png\n"
     ]
    },
    {
     "name": "stderr",
     "output_type": "stream",
     "text": [
      " 34%|███▍      | 67/196 [00:26<00:55,  2.31it/s]"
     ]
    },
    {
     "name": "stdout",
     "output_type": "stream",
     "text": [
      "predicts//5f232318b1c3cae93522c6d0.png\n",
      "predicts//5f23be08ba57c27adb357f7d.png\n"
     ]
    },
    {
     "name": "stderr",
     "output_type": "stream",
     "text": [
      " 35%|███▌      | 69/196 [00:28<01:21,  1.55it/s]"
     ]
    },
    {
     "name": "stdout",
     "output_type": "stream",
     "text": [
      "predicts//5f24b8108b9ad3b97dc507c2.png\n"
     ]
    },
    {
     "name": "stderr",
     "output_type": "stream",
     "text": [
      "\r",
      " 36%|███▌      | 70/196 [00:28<01:09,  1.81it/s]"
     ]
    },
    {
     "name": "stdout",
     "output_type": "stream",
     "text": [
      "predicts//5f2d13b8f5a9ad6565d1e678.jpg\n"
     ]
    },
    {
     "name": "stderr",
     "output_type": "stream",
     "text": [
      "\r",
      " 36%|███▌      | 71/196 [00:28<00:56,  2.20it/s]"
     ]
    },
    {
     "name": "stdout",
     "output_type": "stream",
     "text": [
      "predicts//5f2d1d8b8ff30ebe1bd4734f.jpg\n"
     ]
    },
    {
     "name": "stderr",
     "output_type": "stream",
     "text": [
      "\r",
      " 37%|███▋      | 72/196 [00:28<00:47,  2.61it/s]"
     ]
    },
    {
     "name": "stdout",
     "output_type": "stream",
     "text": [
      "predicts//5f2d2a149bf33b75892c997e.png\n"
     ]
    },
    {
     "name": "stderr",
     "output_type": "stream",
     "text": [
      " 38%|███▊      | 74/196 [00:29<00:34,  3.56it/s]"
     ]
    },
    {
     "name": "stdout",
     "output_type": "stream",
     "text": [
      "predicts//5f2d2b96341df9ed0b645698.png\n",
      "predicts//5f2d31ee10d0c8dfab27ba37.png\n"
     ]
    },
    {
     "name": "stderr",
     "output_type": "stream",
     "text": [
      "\r",
      " 38%|███▊      | 75/196 [00:29<00:32,  3.74it/s]"
     ]
    },
    {
     "name": "stdout",
     "output_type": "stream",
     "text": [
      "predicts//5f2d35e9b71bfc03790fc967.jpg\n"
     ]
    },
    {
     "name": "stderr",
     "output_type": "stream",
     "text": [
      "\r",
      " 39%|███▉      | 76/196 [00:29<00:35,  3.38it/s]"
     ]
    },
    {
     "name": "stdout",
     "output_type": "stream",
     "text": [
      "predicts//5f2d393709c03b86540124f8.jpg\n"
     ]
    },
    {
     "name": "stderr",
     "output_type": "stream",
     "text": [
      "\r",
      " 39%|███▉      | 77/196 [00:30<00:33,  3.56it/s]"
     ]
    },
    {
     "name": "stdout",
     "output_type": "stream",
     "text": [
      "predicts//5f2d3be556f23b5da31ef6ec.png\n"
     ]
    },
    {
     "name": "stderr",
     "output_type": "stream",
     "text": [
      "\r",
      " 40%|███▉      | 78/196 [00:30<00:30,  3.81it/s]"
     ]
    },
    {
     "name": "stdout",
     "output_type": "stream",
     "text": [
      "predicts//5f2d3d508948b718986abf2f.jpg\n"
     ]
    },
    {
     "name": "stderr",
     "output_type": "stream",
     "text": [
      "\r",
      " 40%|████      | 79/196 [00:30<00:28,  4.10it/s]"
     ]
    },
    {
     "name": "stdout",
     "output_type": "stream",
     "text": [
      "predicts//5f2d3eaed41a6cac6c3f986e.png\n"
     ]
    },
    {
     "name": "stderr",
     "output_type": "stream",
     "text": [
      "\r",
      " 41%|████      | 80/196 [00:30<00:31,  3.66it/s]"
     ]
    },
    {
     "name": "stdout",
     "output_type": "stream",
     "text": [
      "predicts//5f2d4357cb2459fa7c53ab7d.jpg\n"
     ]
    },
    {
     "name": "stderr",
     "output_type": "stream",
     "text": [
      "\r",
      " 41%|████▏     | 81/196 [00:31<00:30,  3.79it/s]"
     ]
    },
    {
     "name": "stdout",
     "output_type": "stream",
     "text": [
      "predicts//5f2d43e056f23b5da31ef6f4.png\n"
     ]
    },
    {
     "name": "stderr",
     "output_type": "stream",
     "text": [
      "\r",
      " 42%|████▏     | 82/196 [00:31<00:27,  4.08it/s]"
     ]
    },
    {
     "name": "stdout",
     "output_type": "stream",
     "text": [
      "predicts//5f2d456b341df9ed0b6456b4.png\n"
     ]
    },
    {
     "name": "stderr",
     "output_type": "stream",
     "text": [
      "\r",
      " 42%|████▏     | 83/196 [00:31<00:27,  4.04it/s]"
     ]
    },
    {
     "name": "stdout",
     "output_type": "stream",
     "text": [
      "predicts//5f2d57f421829606a5bdd591.jpg\n"
     ]
    },
    {
     "name": "stderr",
     "output_type": "stream",
     "text": [
      "\r",
      " 43%|████▎     | 84/196 [00:31<00:26,  4.18it/s]"
     ]
    },
    {
     "name": "stdout",
     "output_type": "stream",
     "text": [
      "predicts//5f2d5bc21d59ed2e161a6a55.jpg\n"
     ]
    },
    {
     "name": "stderr",
     "output_type": "stream",
     "text": [
      " 44%|████▍     | 86/196 [00:32<00:22,  4.86it/s]"
     ]
    },
    {
     "name": "stdout",
     "output_type": "stream",
     "text": [
      "predicts//5f2d5cfacb2459fa7c53ab97.png\n",
      "predicts//5f2d67d65f6efda66366c96e.jpg\n"
     ]
    },
    {
     "name": "stderr",
     "output_type": "stream",
     "text": [
      "\r",
      " 44%|████▍     | 87/196 [00:32<00:33,  3.29it/s]"
     ]
    },
    {
     "name": "stdout",
     "output_type": "stream",
     "text": [
      "predicts//5f2d68e7341df9ed0b6456d0.png\n"
     ]
    },
    {
     "name": "stderr",
     "output_type": "stream",
     "text": [
      "\r",
      " 45%|████▍     | 88/196 [00:33<00:34,  3.11it/s]"
     ]
    },
    {
     "name": "stdout",
     "output_type": "stream",
     "text": [
      "predicts//5f2d71881d59ed2e161a6a62.jpg\n"
     ]
    },
    {
     "name": "stderr",
     "output_type": "stream",
     "text": [
      "\r",
      " 45%|████▌     | 89/196 [00:33<00:36,  2.92it/s]"
     ]
    },
    {
     "name": "stdout",
     "output_type": "stream",
     "text": [
      "predicts//5f2d724040f74e14cb951ba0.png\n"
     ]
    },
    {
     "name": "stderr",
     "output_type": "stream",
     "text": [
      "\r",
      " 46%|████▌     | 90/196 [00:33<00:33,  3.20it/s]"
     ]
    },
    {
     "name": "stdout",
     "output_type": "stream",
     "text": [
      "predicts//5f2d74c7034df4a840dec2db.jpg\n"
     ]
    },
    {
     "name": "stderr",
     "output_type": "stream",
     "text": [
      "\r",
      " 46%|████▋     | 91/196 [00:34<00:33,  3.11it/s]"
     ]
    },
    {
     "name": "stdout",
     "output_type": "stream",
     "text": [
      "predicts//5f2d7681efd50a739bc7817e.png\n"
     ]
    },
    {
     "name": "stderr",
     "output_type": "stream",
     "text": [
      "\r",
      " 47%|████▋     | 92/196 [00:34<00:30,  3.40it/s]"
     ]
    },
    {
     "name": "stdout",
     "output_type": "stream",
     "text": [
      "predicts//5f2d77d4c2d021753a25c3a0.jpg\n"
     ]
    },
    {
     "name": "stderr",
     "output_type": "stream",
     "text": [
      "\r",
      " 47%|████▋     | 93/196 [00:34<00:28,  3.62it/s]"
     ]
    },
    {
     "name": "stdout",
     "output_type": "stream",
     "text": [
      "predicts//5f2d7acc8640aa89c7a2f4bf.png\n"
     ]
    },
    {
     "name": "stderr",
     "output_type": "stream",
     "text": [
      "\r",
      " 48%|████▊     | 94/196 [00:34<00:29,  3.45it/s]"
     ]
    },
    {
     "name": "stdout",
     "output_type": "stream",
     "text": [
      "predicts//5f2d832bdbe0a39ecd238fdd.jpg\n"
     ]
    },
    {
     "name": "stderr",
     "output_type": "stream",
     "text": [
      "\r",
      " 48%|████▊     | 95/196 [00:35<00:34,  2.92it/s]"
     ]
    },
    {
     "name": "stdout",
     "output_type": "stream",
     "text": [
      "predicts//5f2d870c3c8a77fa033a5881.png\n"
     ]
    },
    {
     "name": "stderr",
     "output_type": "stream",
     "text": [
      "\r",
      " 49%|████▉     | 96/196 [00:35<00:31,  3.19it/s]"
     ]
    },
    {
     "name": "stdout",
     "output_type": "stream",
     "text": [
      "predicts//5f2d87f2d9b8fb6e56779184.png\n"
     ]
    },
    {
     "name": "stderr",
     "output_type": "stream",
     "text": [
      "\r",
      " 49%|████▉     | 97/196 [00:35<00:32,  3.04it/s]"
     ]
    },
    {
     "name": "stdout",
     "output_type": "stream",
     "text": [
      "predicts//5f2d8a86e9083f24983f78ee.jpg\n"
     ]
    },
    {
     "name": "stderr",
     "output_type": "stream",
     "text": [
      "\r",
      " 50%|█████     | 98/196 [00:36<00:29,  3.30it/s]"
     ]
    },
    {
     "name": "stdout",
     "output_type": "stream",
     "text": [
      "predicts//5f2d8d7e09c03b865401254f.png\n"
     ]
    },
    {
     "name": "stderr",
     "output_type": "stream",
     "text": [
      "\r",
      " 51%|█████     | 99/196 [00:36<00:27,  3.57it/s]"
     ]
    },
    {
     "name": "stdout",
     "output_type": "stream",
     "text": [
      "predicts//5f2d9aa809c03b865401255b.png\n"
     ]
    },
    {
     "name": "stderr",
     "output_type": "stream",
     "text": [
      "\r",
      " 51%|█████     | 100/196 [00:36<00:27,  3.50it/s]"
     ]
    },
    {
     "name": "stdout",
     "output_type": "stream",
     "text": [
      "predicts//5f2d9c7e1d59ed2e161a6a8d.jpg\n"
     ]
    },
    {
     "name": "stderr",
     "output_type": "stream",
     "text": [
      "\r",
      " 52%|█████▏    | 101/196 [00:36<00:25,  3.74it/s]"
     ]
    },
    {
     "name": "stdout",
     "output_type": "stream",
     "text": [
      "predicts//5f2da5df8762615898865fff.png\n"
     ]
    },
    {
     "name": "stderr",
     "output_type": "stream",
     "text": [
      "\r",
      " 52%|█████▏    | 102/196 [00:37<00:24,  3.86it/s]"
     ]
    },
    {
     "name": "stdout",
     "output_type": "stream",
     "text": [
      "predicts//5f2dad4a8fdd74219ddb3a4d.jpg\n"
     ]
    },
    {
     "name": "stderr",
     "output_type": "stream",
     "text": [
      "\r",
      " 53%|█████▎    | 103/196 [00:37<00:27,  3.41it/s]"
     ]
    },
    {
     "name": "stdout",
     "output_type": "stream",
     "text": [
      "predicts//5f2dae2872435768c60f2570.png\n"
     ]
    },
    {
     "name": "stderr",
     "output_type": "stream",
     "text": [
      "\r",
      " 53%|█████▎    | 104/196 [00:37<00:25,  3.67it/s]"
     ]
    },
    {
     "name": "stdout",
     "output_type": "stream",
     "text": [
      "predicts//5f3b850468dff8f3ca3363b6.jpg\n"
     ]
    },
    {
     "name": "stderr",
     "output_type": "stream",
     "text": [
      "\r",
      " 54%|█████▎    | 105/196 [00:38<00:32,  2.84it/s]"
     ]
    },
    {
     "name": "stdout",
     "output_type": "stream",
     "text": [
      "predicts//5f3b8f6466b541f916aaad38.png\n"
     ]
    },
    {
     "name": "stderr",
     "output_type": "stream",
     "text": [
      "\r",
      " 54%|█████▍    | 106/196 [00:38<00:36,  2.50it/s]"
     ]
    },
    {
     "name": "stdout",
     "output_type": "stream",
     "text": [
      "predicts//5f3b8f70df1c57bd9472dd07.png\n"
     ]
    },
    {
     "name": "stderr",
     "output_type": "stream",
     "text": [
      "\r",
      " 55%|█████▍    | 107/196 [00:39<00:35,  2.52it/s]"
     ]
    },
    {
     "name": "stdout",
     "output_type": "stream",
     "text": [
      "predicts//5f3b98875c946121241e66c9.jpg\n"
     ]
    },
    {
     "name": "stderr",
     "output_type": "stream",
     "text": [
      "\r",
      " 55%|█████▌    | 108/196 [00:39<00:30,  2.91it/s]"
     ]
    },
    {
     "name": "stdout",
     "output_type": "stream",
     "text": [
      "predicts//5f3b993b00cf3a6b939d0e78.png\n"
     ]
    },
    {
     "name": "stderr",
     "output_type": "stream",
     "text": [
      "\r",
      " 56%|█████▌    | 109/196 [00:39<00:26,  3.23it/s]"
     ]
    },
    {
     "name": "stdout",
     "output_type": "stream",
     "text": [
      "predicts//5f3b9b7317cc3f0ec7cac906.png\n"
     ]
    },
    {
     "name": "stderr",
     "output_type": "stream",
     "text": [
      "\r",
      " 56%|█████▌    | 110/196 [00:40<00:32,  2.63it/s]"
     ]
    },
    {
     "name": "stdout",
     "output_type": "stream",
     "text": [
      "predicts//5f3ba1f74271857938ac66b9.jpg\n"
     ]
    },
    {
     "name": "stderr",
     "output_type": "stream",
     "text": [
      "\r",
      " 57%|█████▋    | 111/196 [00:40<00:31,  2.70it/s]"
     ]
    },
    {
     "name": "stdout",
     "output_type": "stream",
     "text": [
      "predicts//5f3ba4792bb98a8d558d1a50.jpg\n"
     ]
    },
    {
     "name": "stderr",
     "output_type": "stream",
     "text": [
      "\r",
      " 57%|█████▋    | 112/196 [00:40<00:28,  2.98it/s]"
     ]
    },
    {
     "name": "stdout",
     "output_type": "stream",
     "text": [
      "predicts//5f3ba8b49755c6f76a1d939a.jpg\n"
     ]
    },
    {
     "name": "stderr",
     "output_type": "stream",
     "text": [
      "\r",
      " 58%|█████▊    | 113/196 [00:41<00:25,  3.21it/s]"
     ]
    },
    {
     "name": "stdout",
     "output_type": "stream",
     "text": [
      "predicts//5f3bb161b8291d3fd0a3ba3d.jpg\n"
     ]
    },
    {
     "name": "stderr",
     "output_type": "stream",
     "text": [
      "\r",
      " 58%|█████▊    | 114/196 [00:41<00:23,  3.50it/s]"
     ]
    },
    {
     "name": "stdout",
     "output_type": "stream",
     "text": [
      "predicts//5f3bb6f1fba1da23a15cbb64.jpg\n"
     ]
    },
    {
     "name": "stderr",
     "output_type": "stream",
     "text": [
      "\r",
      " 59%|█████▊    | 115/196 [00:41<00:21,  3.72it/s]"
     ]
    },
    {
     "name": "stdout",
     "output_type": "stream",
     "text": [
      "predicts//5f3bb968fee5444b433b348d.jpg\n"
     ]
    },
    {
     "name": "stderr",
     "output_type": "stream",
     "text": [
      "\r",
      " 59%|█████▉    | 116/196 [00:41<00:22,  3.56it/s]"
     ]
    },
    {
     "name": "stdout",
     "output_type": "stream",
     "text": [
      "predicts//5f3bc0b3ca3419ba6ff280ed.jpg\n"
     ]
    },
    {
     "name": "stderr",
     "output_type": "stream",
     "text": [
      "\r",
      " 60%|█████▉    | 117/196 [00:42<00:20,  3.78it/s]"
     ]
    },
    {
     "name": "stdout",
     "output_type": "stream",
     "text": [
      "predicts//5f3bc1657e9112a75ca83750.jpg\n"
     ]
    },
    {
     "name": "stderr",
     "output_type": "stream",
     "text": [
      "\r",
      " 60%|██████    | 118/196 [00:42<00:21,  3.56it/s]"
     ]
    },
    {
     "name": "stdout",
     "output_type": "stream",
     "text": [
      "predicts//5f3bce9c523c764f6abba901.jpg\n"
     ]
    },
    {
     "name": "stderr",
     "output_type": "stream",
     "text": [
      "\r",
      " 61%|██████    | 119/196 [00:42<00:21,  3.56it/s]"
     ]
    },
    {
     "name": "stdout",
     "output_type": "stream",
     "text": [
      "predicts//5f3bcf59a58070e0520b8028.png\n"
     ]
    },
    {
     "name": "stderr",
     "output_type": "stream",
     "text": [
      "\r",
      " 61%|██████    | 120/196 [00:43<00:23,  3.21it/s]"
     ]
    },
    {
     "name": "stdout",
     "output_type": "stream",
     "text": [
      "predicts//5f3bcff341b935885bbc7271.png\n"
     ]
    },
    {
     "name": "stderr",
     "output_type": "stream",
     "text": [
      " 62%|██████▏   | 122/196 [00:43<00:20,  3.65it/s]"
     ]
    },
    {
     "name": "stdout",
     "output_type": "stream",
     "text": [
      "predicts//5f3bde947a5d005d24a5164b.jpg\n",
      "predicts//5f3bdfa348a237adc71d456d.png\n"
     ]
    },
    {
     "name": "stderr",
     "output_type": "stream",
     "text": [
      "\r",
      " 63%|██████▎   | 123/196 [00:43<00:19,  3.68it/s]"
     ]
    },
    {
     "name": "stdout",
     "output_type": "stream",
     "text": [
      "predicts//5f3be57475855f8bdc5a6948.jpg\n"
     ]
    },
    {
     "name": "stderr",
     "output_type": "stream",
     "text": [
      "\r",
      " 63%|██████▎   | 124/196 [00:44<00:20,  3.43it/s]"
     ]
    },
    {
     "name": "stdout",
     "output_type": "stream",
     "text": [
      "predicts//5f3be6fef79e56a3486c166a.jpg\n"
     ]
    },
    {
     "name": "stderr",
     "output_type": "stream",
     "text": [
      "\r",
      " 64%|██████▍   | 125/196 [00:44<00:20,  3.45it/s]"
     ]
    },
    {
     "name": "stdout",
     "output_type": "stream",
     "text": [
      "predicts//5f3bee84ac621fae67d1be4a.jpg\n"
     ]
    },
    {
     "name": "stderr",
     "output_type": "stream",
     "text": [
      " 65%|██████▍   | 127/196 [00:44<00:16,  4.30it/s]"
     ]
    },
    {
     "name": "stdout",
     "output_type": "stream",
     "text": [
      "predicts//5f3bf254004ff1a629f53e35.png\n",
      "predicts//5f3c1f62f171510b04b6771e.png\n",
      "predicts//5f3c1fb11b2be63734982970.png\n"
     ]
    },
    {
     "name": "stderr",
     "output_type": "stream",
     "text": [
      "\r",
      " 66%|██████▌   | 129/196 [00:45<00:13,  4.82it/s]"
     ]
    },
    {
     "name": "stdout",
     "output_type": "stream",
     "text": [
      "predicts//5f3cf9f297e09b141363ede0.png\n"
     ]
    },
    {
     "name": "stderr",
     "output_type": "stream",
     "text": [
      "\r",
      " 66%|██████▋   | 130/196 [00:45<00:14,  4.61it/s]"
     ]
    },
    {
     "name": "stdout",
     "output_type": "stream",
     "text": [
      "predicts//5f3cfac7832cd4e5e8a46d9c.jpg\n"
     ]
    },
    {
     "name": "stderr",
     "output_type": "stream",
     "text": [
      "\r",
      " 67%|██████▋   | 131/196 [00:45<00:14,  4.44it/s]"
     ]
    },
    {
     "name": "stdout",
     "output_type": "stream",
     "text": [
      "predicts//5f3daee9344205e710084836.png\n"
     ]
    },
    {
     "name": "stderr",
     "output_type": "stream",
     "text": [
      "\r",
      " 68%|██████▊   | 133/196 [00:45<00:12,  4.92it/s]"
     ]
    },
    {
     "name": "stdout",
     "output_type": "stream",
     "text": [
      "predicts//5f3dbfd04bc0fc8be782bda9.png\n"
     ]
    },
    {
     "name": "stderr",
     "output_type": "stream",
     "text": [
      "\r",
      " 68%|██████▊   | 134/196 [00:46<00:16,  3.66it/s]"
     ]
    },
    {
     "name": "stdout",
     "output_type": "stream",
     "text": [
      "predicts//5f3dc04b9ccd16ead81cea9c.jpg\n",
      "predicts//5f3e21aaaa79ba3ce44210ab.png\n"
     ]
    },
    {
     "name": "stderr",
     "output_type": "stream",
     "text": [
      " 70%|███████   | 138/196 [00:46<00:11,  4.89it/s]"
     ]
    },
    {
     "name": "stdout",
     "output_type": "stream",
     "text": [
      "predicts//5f3e49c4d58668957f818938.png\n",
      "predicts//5f3ec49a464107c7580d54ec.png\n"
     ]
    },
    {
     "name": "stderr",
     "output_type": "stream",
     "text": [
      "\r",
      " 71%|███████▏  | 140/196 [00:47<00:10,  5.42it/s]"
     ]
    },
    {
     "name": "stdout",
     "output_type": "stream",
     "text": [
      "predicts//5f3f047df0b2c8a3da882d60.jpg\n"
     ]
    },
    {
     "name": "stderr",
     "output_type": "stream",
     "text": [
      " 72%|███████▏  | 142/196 [00:47<00:07,  7.00it/s]"
     ]
    },
    {
     "name": "stdout",
     "output_type": "stream",
     "text": [
      "predicts//5f3f0ccc786dcf7334c72372.png\n",
      "predicts//5f3f1532d5c32f982f6d62a9.png\n"
     ]
    },
    {
     "name": "stderr",
     "output_type": "stream",
     "text": [
      "\r",
      " 73%|███████▎  | 143/196 [00:48<00:14,  3.64it/s]"
     ]
    },
    {
     "name": "stdout",
     "output_type": "stream",
     "text": [
      "predicts//5f3f2831c9658b4bb2f7e838.png\n"
     ]
    },
    {
     "name": "stderr",
     "output_type": "stream",
     "text": [
      "\r",
      " 73%|███████▎  | 144/196 [00:48<00:15,  3.42it/s]"
     ]
    },
    {
     "name": "stdout",
     "output_type": "stream",
     "text": [
      "predicts//5f3f46340c63d0944ae1072b.jpg\n"
     ]
    },
    {
     "name": "stderr",
     "output_type": "stream",
     "text": [
      "\r",
      " 74%|███████▍  | 145/196 [00:48<00:13,  3.73it/s]"
     ]
    },
    {
     "name": "stdout",
     "output_type": "stream",
     "text": [
      "predicts//5f3f62baa4af67f33123cb61.png\n"
     ]
    },
    {
     "name": "stderr",
     "output_type": "stream",
     "text": [
      " 75%|███████▌  | 147/196 [00:49<00:12,  3.98it/s]"
     ]
    },
    {
     "name": "stdout",
     "output_type": "stream",
     "text": [
      "predicts//5f3f88a9819f0bf5929405b6.png\n"
     ]
    },
    {
     "name": "stderr",
     "output_type": "stream",
     "text": [
      "\r",
      " 76%|███████▌  | 148/196 [00:49<00:11,  4.28it/s]"
     ]
    },
    {
     "name": "stdout",
     "output_type": "stream",
     "text": [
      "predicts//5f3faa8c2253ad3e2e724b12.png\n"
     ]
    },
    {
     "name": "stderr",
     "output_type": "stream",
     "text": [
      " 77%|███████▋  | 150/196 [00:49<00:09,  5.08it/s]"
     ]
    },
    {
     "name": "stdout",
     "output_type": "stream",
     "text": [
      "predicts//5f3fd49d693d7ea4b807f2d0.png\n"
     ]
    },
    {
     "name": "stderr",
     "output_type": "stream",
     "text": [
      "\r",
      " 77%|███████▋  | 151/196 [00:49<00:09,  4.95it/s]"
     ]
    },
    {
     "name": "stdout",
     "output_type": "stream",
     "text": [
      "predicts//5f40399adeb5bc6afcd1e631.png\n"
     ]
    },
    {
     "name": "stderr",
     "output_type": "stream",
     "text": [
      "\r",
      " 78%|███████▊  | 152/196 [00:50<00:09,  4.55it/s]"
     ]
    },
    {
     "name": "stdout",
     "output_type": "stream",
     "text": [
      "predicts//5f404781d2ecd6734d86d921.jpg\n",
      "predicts//5f404b6f0bd6f1967632429b.png\n"
     ]
    },
    {
     "name": "stderr",
     "output_type": "stream",
     "text": [
      "\r",
      " 79%|███████▊  | 154/196 [00:50<00:10,  3.83it/s]"
     ]
    },
    {
     "name": "stdout",
     "output_type": "stream",
     "text": [
      "predicts//5f404f8614ab740e64532b44.png\n"
     ]
    },
    {
     "name": "stderr",
     "output_type": "stream",
     "text": [
      "\r",
      " 80%|███████▉  | 156/196 [00:51<00:11,  3.35it/s]"
     ]
    },
    {
     "name": "stdout",
     "output_type": "stream",
     "text": [
      "predicts//5f404ff57fe3319bfb58c973.jpg\n"
     ]
    },
    {
     "name": "stderr",
     "output_type": "stream",
     "text": [
      "\r",
      " 80%|████████  | 157/196 [00:52<00:19,  1.97it/s]"
     ]
    },
    {
     "name": "stdout",
     "output_type": "stream",
     "text": [
      "predicts//5f408bb2809cdfd8aceb76e2.png\n"
     ]
    },
    {
     "name": "stderr",
     "output_type": "stream",
     "text": [
      "\r",
      " 81%|████████  | 158/196 [00:52<00:16,  2.30it/s]"
     ]
    },
    {
     "name": "stdout",
     "output_type": "stream",
     "text": [
      "predicts//5f40e874081d67dc94e9dbb8.jpg\n"
     ]
    },
    {
     "name": "stderr",
     "output_type": "stream",
     "text": [
      "\r",
      " 81%|████████  | 159/196 [00:53<00:15,  2.35it/s]"
     ]
    },
    {
     "name": "stdout",
     "output_type": "stream",
     "text": [
      "predicts//5f4161058d83c7d3b294ed5a.jpg\n"
     ]
    },
    {
     "name": "stderr",
     "output_type": "stream",
     "text": [
      " 82%|████████▏ | 161/196 [00:53<00:10,  3.24it/s]"
     ]
    },
    {
     "name": "stdout",
     "output_type": "stream",
     "text": [
      "predicts//5f4164a60b5392625da221ad.png\n",
      "predicts//5f41bb28c9452c0e80ac715c.jpg\n"
     ]
    },
    {
     "name": "stderr",
     "output_type": "stream",
     "text": [
      "\r",
      " 83%|████████▎ | 162/196 [00:53<00:08,  3.89it/s]"
     ]
    },
    {
     "name": "stdout",
     "output_type": "stream",
     "text": [
      "predicts//5f41cb482830bb072c79b210.png\n"
     ]
    },
    {
     "name": "stderr",
     "output_type": "stream",
     "text": [
      " 84%|████████▎ | 164/196 [00:54<00:11,  2.71it/s]"
     ]
    },
    {
     "name": "stdout",
     "output_type": "stream",
     "text": [
      "predicts//5f42815270fc8cf5b3882691.png\n"
     ]
    },
    {
     "name": "stderr",
     "output_type": "stream",
     "text": [
      "\r",
      " 84%|████████▍ | 165/196 [00:55<00:10,  2.98it/s]"
     ]
    },
    {
     "name": "stdout",
     "output_type": "stream",
     "text": [
      "predicts//5f42a671aab9403f547cede0.jpg\n"
     ]
    },
    {
     "name": "stderr",
     "output_type": "stream",
     "text": [
      " 85%|████████▌ | 167/196 [00:55<00:07,  3.93it/s]"
     ]
    },
    {
     "name": "stdout",
     "output_type": "stream",
     "text": [
      "predicts//5f438cb77c123ab08d0e307e.png\n",
      "predicts//5f4395fffe886aaa9deb1e2c.png\n"
     ]
    },
    {
     "name": "stderr",
     "output_type": "stream",
     "text": [
      " 86%|████████▌ | 169/196 [00:55<00:06,  4.36it/s]"
     ]
    },
    {
     "name": "stdout",
     "output_type": "stream",
     "text": [
      "predicts//5f43c2bbb15c6d1f582ce4f4.png\n"
     ]
    },
    {
     "name": "stderr",
     "output_type": "stream",
     "text": [
      "\r",
      " 87%|████████▋ | 170/196 [00:58<00:22,  1.14it/s]"
     ]
    },
    {
     "name": "stdout",
     "output_type": "stream",
     "text": [
      "predicts//5f44023436311aa51a61b1d6.png\n"
     ]
    },
    {
     "name": "stderr",
     "output_type": "stream",
     "text": [
      " 88%|████████▊ | 172/196 [00:59<00:15,  1.50it/s]"
     ]
    },
    {
     "name": "stdout",
     "output_type": "stream",
     "text": [
      "predicts//5f44400b8742e2406ca94694.png\n",
      "predicts//5f44fa59bff294a772f677fb.png\n"
     ]
    },
    {
     "name": "stderr",
     "output_type": "stream",
     "text": [
      "\r",
      " 89%|████████▉ | 174/196 [01:00<00:13,  1.58it/s]"
     ]
    },
    {
     "name": "stdout",
     "output_type": "stream",
     "text": [
      "predicts//5f451511d99e46320dc79df2.jpg\n"
     ]
    },
    {
     "name": "stderr",
     "output_type": "stream",
     "text": [
      "\r",
      " 89%|████████▉ | 175/196 [01:01<00:15,  1.32it/s]"
     ]
    },
    {
     "name": "stdout",
     "output_type": "stream",
     "text": [
      "predicts//5f451542a859195b8741066d.jpg\n"
     ]
    },
    {
     "name": "stderr",
     "output_type": "stream",
     "text": [
      " 90%|█████████ | 177/196 [01:01<00:09,  2.10it/s]"
     ]
    },
    {
     "name": "stdout",
     "output_type": "stream",
     "text": [
      "predicts//5f5b3a208947cd410e00f69e.jpg\n",
      "predicts//5f5b3a3b45c9c01211f5351d.jpg\n"
     ]
    },
    {
     "name": "stderr",
     "output_type": "stream",
     "text": [
      "\r",
      " 91%|█████████ | 178/196 [01:02<00:06,  2.72it/s]"
     ]
    },
    {
     "name": "stdout",
     "output_type": "stream",
     "text": [
      "predicts//5f5b3a6c14ac20fe95b660d2.png\n",
      "predicts//5f5b3abcb8b26157ab6fb829.png\n"
     ]
    },
    {
     "name": "stderr",
     "output_type": "stream",
     "text": [
      "\r",
      " 92%|█████████▏| 180/196 [01:02<00:04,  3.42it/s]"
     ]
    },
    {
     "name": "stdout",
     "output_type": "stream",
     "text": [
      "predicts//5f5b3b029a70156e163b53bd.png\n",
      "predicts//5f5b3cbc38fa6ee6ad6e5649.jpg\n"
     ]
    },
    {
     "name": "stderr",
     "output_type": "stream",
     "text": [
      " 93%|█████████▎| 183/196 [01:02<00:02,  4.72it/s]"
     ]
    },
    {
     "name": "stdout",
     "output_type": "stream",
     "text": [
      "predicts//5f5b3ce09492c198e6d705fe.jpg\n",
      "predicts//5f5b3d8949330464f52d2678.jpg\n"
     ]
    },
    {
     "name": "stderr",
     "output_type": "stream",
     "text": [
      " 95%|█████████▍| 186/196 [01:02<00:01,  6.47it/s]"
     ]
    },
    {
     "name": "stdout",
     "output_type": "stream",
     "text": [
      "predicts//5f5b3fe3382ef1c3306522d5.jpg\n",
      "predicts//5f5b42bae600de5bed74b169.jpg\n",
      "predicts//5f5b43023aff3feca008cb1b.png\n"
     ]
    },
    {
     "name": "stderr",
     "output_type": "stream",
     "text": [
      " 96%|█████████▌| 188/196 [01:03<00:01,  6.90it/s]"
     ]
    },
    {
     "name": "stdout",
     "output_type": "stream",
     "text": [
      "predicts//5f5b451930df2174ea4a5d14.jpg\n",
      "predicts//5f5b45195290f0ce65fe6359.jpg\n"
     ]
    },
    {
     "name": "stderr",
     "output_type": "stream",
     "text": [
      "\r",
      " 96%|█████████▋| 189/196 [01:03<00:01,  6.96it/s]"
     ]
    },
    {
     "name": "stdout",
     "output_type": "stream",
     "text": [
      "predicts//5f5b452b5f94ab6978a79c6f.jpg\n"
     ]
    },
    {
     "name": "stderr",
     "output_type": "stream",
     "text": [
      " 98%|█████████▊| 192/196 [01:03<00:00,  6.97it/s]"
     ]
    },
    {
     "name": "stdout",
     "output_type": "stream",
     "text": [
      "predicts//5f5b48b330df2174ea4a5d16.jpg\n",
      "predicts//5f5b48c813ed9c4192d333d1.jpg\n",
      "predicts//5f5b49d1146f41d204748704.jpg\n",
      "predicts//5f5b4a804755ae058e247fe0.jpg\n"
     ]
    },
    {
     "name": "stderr",
     "output_type": "stream",
     "text": [
      "\r",
      " 99%|█████████▉| 194/196 [01:04<00:00,  6.92it/s]"
     ]
    },
    {
     "name": "stdout",
     "output_type": "stream",
     "text": [
      "predicts//5f5b4bc00dde60fc5d9dba0b.jpg\n",
      "predicts//5f5b4c0b9492c198e6d70606.png\n"
     ]
    },
    {
     "name": "stderr",
     "output_type": "stream",
     "text": [
      "100%|██████████| 196/196 [01:04<00:00,  3.04it/s]"
     ]
    },
    {
     "name": "stdout",
     "output_type": "stream",
     "text": [
      "predicts//5f5b4cf830f221fbc0ebe970.jpg\n",
      "predicts//5f5b4e8c30df2174ea4a5d1a.png\n"
     ]
    },
    {
     "name": "stderr",
     "output_type": "stream",
     "text": [
      "\n"
     ]
    }
   ],
   "source": [
    "df_pred = df_pred.progress_apply(lambda x: FolderPreparator(x, mainDir), axis=1)"
   ]
  },
  {
   "cell_type": "code",
   "execution_count": 22,
   "metadata": {},
   "outputs": [
    {
     "name": "stdout",
     "output_type": "stream",
     "text": [
      "  adding: predicts/ (stored 0%)\n",
      "  adding: predicts/5f21772f7eefb30587bfee68.png (deflated 5%)\n",
      "  adding: predicts/5f209aaa61eff7735db6d6f5.jpg (deflated 14%)\n",
      "  adding: predicts/5f3bee84ac621fae67d1be4a.jpg (deflated 3%)\n",
      "  adding: predicts/5f3f88a9819f0bf5929405b6.png (deflated 3%)\n",
      "  adding: predicts/5f3c1f62f171510b04b6771e.png (deflated 28%)\n",
      "  adding: predicts/5ed9193c77c6888865de8cc9.png (deflated 8%)\n",
      "  adding: predicts/5ec836241c2398a2ad350e02.png (deflated 8%)\n",
      "  adding: predicts/5ed09ab459be4f7388948cff.jpg (deflated 18%)\n",
      "  adding: predicts/5f3bcf59a58070e0520b8028.png (deflated 2%)\n",
      "  adding: predicts/5f404f8614ab740e64532b44.png (deflated 1%)\n",
      "  adding: predicts/5f2d35e9b71bfc03790fc967.jpg (deflated 8%)\n",
      "  adding: predicts/5f44fa59bff294a772f677fb.png (deflated 28%)\n",
      "  adding: predicts/5ee57a37631e8542478f94d9.jpg (deflated 19%)\n",
      "  adding: predicts/5f5b48c813ed9c4192d333d1.jpg (deflated 9%)\n",
      "  adding: predicts/5f3f46340c63d0944ae1072b.jpg (deflated 10%)\n",
      "  adding: predicts/5ecf1bf26e71ddccc38f8f22.jpg (deflated 25%)\n",
      "  adding: predicts/5f20ad02b924f46618bf8de0.jpg (deflated 16%)\n",
      "  adding: predicts/5f3b98875c946121241e66c9.jpg (deflated 6%)\n",
      "  adding: predicts/5ed78fe677ec312b9235e1b2.png (deflated 9%)\n",
      "  adding: predicts/5f2d5cfacb2459fa7c53ab97.png (deflated 9%)\n",
      "  adding: predicts/5f2d67d65f6efda66366c96e.jpg (deflated 3%)\n",
      "  adding: predicts/5f3f0ccc786dcf7334c72372.png (deflated 4%)\n",
      "  adding: predicts/5f404b6f0bd6f1967632429b.png (deflated 4%)\n",
      "  adding: predicts/5f2d71881d59ed2e161a6a62.jpg (deflated 23%)\n",
      "  adding: predicts/5f2d3d508948b718986abf2f.jpg (deflated 15%)\n",
      "  adding: predicts/5f4164a60b5392625da221ad.png (deflated 1%)\n",
      "  adding: predicts/5ee593f2849bcdf45d502121.jpg (deflated 10%)\n",
      "  adding: predicts/5f1fdebf1641982b2a3d93d3.png (deflated 3%)\n",
      "  adding: predicts/5ed05139ad7cf743f68714bb.jpg (deflated 10%)\n",
      "  adding: predicts/5f3b8f70df1c57bd9472dd07.png (deflated 4%)\n",
      "  adding: predicts/5f2d7acc8640aa89c7a2f4bf.png (deflated 21%)\n",
      "  adding: predicts/5f5b42bae600de5bed74b169.jpg (deflated 19%)\n",
      "  adding: predicts/5ed33233875d5e8c4231d61c.jpg (stored 0%)\n",
      "  adding: predicts/5f4161058d83c7d3b294ed5a.jpg (deflated 8%)\n",
      "  adding: predicts/5f5b3ce09492c198e6d705fe.jpg (deflated 9%)\n",
      "  adding: predicts/5f21a207c0a57f1bd43fca2a.png (deflated 2%)\n",
      "  adding: predicts/5ee535f365940d1b65b9d196.png (deflated 1%)\n",
      "  adding: predicts/5f20384ae8b1bbbc0a1846a7.png (deflated 1%)\n",
      "  adding: predicts/5ed7eaedbe7e27ad05d1a76c.png (deflated 12%)\n",
      "  adding: predicts/5ef782a65a55f02c78400120.jpg (deflated 16%)\n",
      "  adding: predicts/5f2d4357cb2459fa7c53ab7d.jpg (deflated 20%)\n",
      "  adding: predicts/5ee54c79776dea5e4d4cb09c.png (deflated 1%)\n",
      "  adding: predicts/5f44400b8742e2406ca94694.png (deflated 2%)\n",
      "  adding: predicts/5f5b4c0b9492c198e6d70606.png (deflated 7%)\n",
      "  adding: predicts/5f3b850468dff8f3ca3363b6.jpg (deflated 7%)\n",
      "  adding: predicts/5f404781d2ecd6734d86d921.jpg (deflated 25%)\n",
      "  adding: predicts/5f3f62baa4af67f33123cb61.png (deflated 8%)\n",
      "  adding: predicts/5f232318b1c3cae93522c6d0.png (deflated 5%)\n",
      "  adding: predicts/5ed0280305408ab6a9726f21.jpg (deflated 8%)\n",
      "  adding: predicts/5ec8303f3ad936f62c626e2c.png (deflated 3%)\n",
      "  adding: predicts/5f3cf9f297e09b141363ede0.png (deflated 4%)\n",
      "  adding: predicts/5f2d3be556f23b5da31ef6ec.png (deflated 2%)\n",
      "  adding: predicts/5f2d3eaed41a6cac6c3f986e.png (deflated 5%)\n",
      "  adding: predicts/5ef779cdc8fea15d588b1ea5.jpg (deflated 18%)\n",
      "  adding: predicts/5ef7bf09eff71f84900bf592.jpg (deflated 5%)\n",
      "  adding: predicts/5f2dae2872435768c60f2570.png (deflated 4%)\n",
      "  adding: predicts/5f3ba4792bb98a8d558d1a50.jpg (deflated 5%)\n",
      "  adding: predicts/5ee4f9b19c23d2bf1ea3b7ad.jpg (deflated 14%)\n",
      "  adding: predicts/5f438cb77c123ab08d0e307e.png (deflated 1%)\n",
      "  adding: predicts/5f3ba8b49755c6f76a1d939a.jpg (deflated 11%)\n",
      "  adding: predicts/5f41cb482830bb072c79b210.png (deflated 1%)\n",
      "  adding: predicts/5f3ec49a464107c7580d54ec.png (deflated 4%)\n",
      "  adding: predicts/5f40e874081d67dc94e9dbb8.jpg (deflated 10%)\n",
      "  adding: predicts/5f451511d99e46320dc79df2.jpg (deflated 11%)\n",
      "  adding: predicts/5ee4fae995daaa1d4c84b2f0.jpg (deflated 24%)\n",
      "  adding: predicts/5f5b3d8949330464f52d2678.jpg (deflated 4%)\n",
      "  adding: predicts/5f2131710cbd18ad85562ef0.png (deflated 5%)\n",
      "  adding: predicts/5f404ff57fe3319bfb58c973.jpg (deflated 32%)\n",
      "  adding: predicts/5f3dc04b9ccd16ead81cea9c.jpg (deflated 16%)\n",
      "  adding: predicts/5f3bde947a5d005d24a5164b.jpg (deflated 18%)\n",
      "  adding: predicts/5f3fd49d693d7ea4b807f2d0.png (deflated 4%)\n",
      "  adding: predicts/5f41bb28c9452c0e80ac715c.jpg (deflated 13%)\n",
      "  adding: predicts/5f3dbfd04bc0fc8be782bda9.png (deflated 0%)\n",
      "  adding: predicts/5ecfbeec12266edaf925e219.jpg (deflated 6%)\n",
      "  adding: predicts/5f2d31ee10d0c8dfab27ba37.png (deflated 6%)\n",
      "  adding: predicts/5f20febea5ca2d9a3a012787.jpg (deflated 19%)\n",
      "  adding: predicts/5f5b3abcb8b26157ab6fb829.png (deflated 4%)\n",
      "  adding: predicts/5ef76db1d422d14550762025.jpg (deflated 11%)\n",
      "  adding: predicts/5f3faa8c2253ad3e2e724b12.png (deflated 1%)\n",
      "  adding: predicts/5f3e21aaaa79ba3ce44210ab.png (deflated 3%)\n",
      "  adding: predicts/5ef787cf834c2ea6c0ef04b3.png (deflated 1%)\n",
      "  adding: predicts/5ee50e7ce9e212e972a67b7c.jpg (deflated 10%)\n",
      "  adding: predicts/5f2d68e7341df9ed0b6456d0.png (deflated 1%)\n",
      "  adding: predicts/5f3daee9344205e710084836.png (deflated 28%)\n",
      "  adding: predicts/5ed1fb312d943591ec906d03.png (deflated 6%)\n",
      "  adding: predicts/5f3cfac7832cd4e5e8a46d9c.jpg (deflated 40%)\n",
      "  adding: predicts/5f3be6fef79e56a3486c166a.jpg (deflated 14%)\n",
      "  adding: predicts/5f2d2b96341df9ed0b645698.png (deflated 5%)\n",
      "  adding: predicts/5f42a671aab9403f547cede0.jpg (deflated 18%)\n",
      "  adding: predicts/5f5b4e8c30df2174ea4a5d1a.png (deflated 7%)\n",
      "  adding: predicts/5f2d393709c03b86540124f8.jpg (deflated 11%)\n",
      "  adding: predicts/5f1f4e15be6a0c9f7b66a5e9.png (deflated 6%)\n",
      "  adding: predicts/5f2d74c7034df4a840dec2db.jpg (deflated 12%)\n",
      "  adding: predicts/5ed91af44674a2ea1a84a6c9.jpg (deflated 21%)\n",
      "  adding: predicts/5ed055737d6edac624599453.png (deflated 4%)\n",
      "  adding: predicts/5f3bc0b3ca3419ba6ff280ed.jpg (deflated 13%)\n",
      "  adding: predicts/5f5b3b029a70156e163b53bd.png (deflated 7%)\n",
      "  adding: predicts/5f3bb161b8291d3fd0a3ba3d.jpg (deflated 11%)\n",
      "  adding: predicts/5ee51848d7894de5fd5e5a22.jpg (deflated 4%)\n",
      "  adding: predicts/5ec836fba550157c8e90ae57.png (deflated 6%)\n",
      "  adding: predicts/5ecf204fad1cf5d37447ff6a.jpg (deflated 4%)\n",
      "  adding: predicts/5ef77992fd06434373f7e56a.png (deflated 3%)\n",
      "  adding: predicts/5f5b4a804755ae058e247fe0.jpg (deflated 19%)\n",
      "  adding: predicts/5f44023436311aa51a61b1d6.png (deflated 0%)\n",
      "  adding: predicts/5f5b3a6c14ac20fe95b660d2.png (deflated 4%)\n",
      "  adding: predicts/5f2d832bdbe0a39ecd238fdd.jpg (deflated 7%)\n",
      "  adding: predicts/5ef7c54febf9c99fed75bef0.jpg (deflated 8%)\n",
      "  adding: predicts/5f2d8d7e09c03b865401254f.png (deflated 3%)\n",
      "  adding: predicts/5f3ba1f74271857938ac66b9.jpg (deflated 7%)\n",
      "  adding: predicts/5f3f2831c9658b4bb2f7e838.png (deflated 1%)\n",
      "  adding: predicts/5ee55ac7e04508db1201709b.jpg (deflated 11%)\n",
      "  adding: predicts/5f3bb6f1fba1da23a15cbb64.jpg (deflated 7%)\n",
      "  adding: predicts/5f5b452b5f94ab6978a79c6f.jpg (deflated 1%)\n",
      "  adding: predicts/5ecf1bfe02ebeeef99eb3fb2.png (deflated 3%)\n",
      "  adding: predicts/5f2d43e056f23b5da31ef6f4.png (deflated 3%)\n",
      "  adding: predicts/5f5b3fe3382ef1c3306522d5.jpg (deflated 9%)\n",
      "  adding: predicts/5f5b48b330df2174ea4a5d16.jpg (deflated 31%)\n",
      "  adding: predicts/5f2d9aa809c03b865401255b.png (deflated 2%)\n",
      "  adding: predicts/5ed873ecf9b1fb774519e55d.jpg (deflated 7%)\n",
      "  adding: predicts/5f23be08ba57c27adb357f7d.png (deflated 40%)\n",
      "  adding: predicts/5ed2f8addeeba1824f18a8af.jpg (deflated 15%)\n",
      "  adding: predicts/5ed074a8518b32a32c917274.jpg (deflated 7%)\n",
      "  adding: predicts/5f3b8f6466b541f916aaad38.png (deflated 5%)\n",
      "  adding: predicts/5f5b3cbc38fa6ee6ad6e5649.jpg (deflated 19%)\n",
      "  adding: predicts/5f5b45195290f0ce65fe6359.jpg (deflated 1%)\n",
      "  adding: predicts/5f5b3a208947cd410e00f69e.jpg (deflated 1%)\n",
      "  adding: predicts/5ef7a5bf9735b3f9594b0ba4.png (deflated 1%)\n",
      "  adding: predicts/5f451542a859195b8741066d.jpg (deflated 15%)\n",
      "  adding: predicts/5f3bce9c523c764f6abba901.jpg (deflated 5%)\n",
      "  adding: predicts/5f3c1fb11b2be63734982970.png (deflated 29%)\n",
      "  adding: predicts/5ecf77623121c0b17fc1cac8.jpg (deflated 3%)\n",
      "  adding: predicts/5f2d2a149bf33b75892c997e.png (deflated 13%)\n",
      "  adding: predicts/5f3e49c4d58668957f818938.png (deflated 2%)\n",
      "  adding: predicts/5f42815270fc8cf5b3882691.png (deflated 17%)\n",
      "  adding: predicts/5f2d8a86e9083f24983f78ee.jpg (deflated 6%)\n",
      "  adding: predicts/5f5b3a3b45c9c01211f5351d.jpg (deflated 10%)\n",
      "  adding: predicts/5f5b49d1146f41d204748704.jpg (deflated 19%)\n",
      "  adding: predicts/5ef76f17c8fea15d588b1ea2.jpg (deflated 14%)\n",
      "  adding: predicts/5f2da5df8762615898865fff.png (deflated 22%)\n",
      "  adding: predicts/5ee55605f0ce471a365170b0.png (deflated 6%)\n",
      "  adding: predicts/5f3b9b7317cc3f0ec7cac906.png (deflated 5%)\n",
      "  adding: predicts/5ec830b1c64ec3d1c084032d.png (deflated 12%)\n",
      "  adding: predicts/5f209e9241937450aacc1346.png (deflated 3%)\n",
      "  adding: predicts/5f2d57f421829606a5bdd591.jpg (deflated 3%)\n"
     ]
    },
    {
     "name": "stdout",
     "output_type": "stream",
     "text": [
      "  adding: predicts/5f2d87f2d9b8fb6e56779184.png (deflated 4%)\n",
      "  adding: predicts/5f4395fffe886aaa9deb1e2c.png (deflated 10%)\n",
      "  adding: predicts/5f3bcff341b935885bbc7271.png (deflated 19%)\n",
      "  adding: predicts/5f21497c0d241190d0d73a97.jpg (deflated 52%)\n",
      "  adding: predicts/5f408bb2809cdfd8aceb76e2.png (deflated 20%)\n",
      "  adding: predicts/5f3bb968fee5444b433b348d.jpg (deflated 18%)\n",
      "  adding: predicts/5f24b8108b9ad3b97dc507c2.png (deflated 6%)\n",
      "  adding: predicts/5f2d870c3c8a77fa033a5881.png (deflated 2%)\n",
      "  adding: predicts/5ef76a9c53fa28b1bb518fe4.jpg (deflated 20%)\n",
      "  adding: predicts/5f2d724040f74e14cb951ba0.png (deflated 1%)\n",
      "  adding: predicts/5f5b451930df2174ea4a5d14.jpg (deflated 9%)\n",
      "  adding: predicts/5ef751b632b33c54b6fb87e5.png (deflated 6%)\n",
      "  adding: predicts/5f3b993b00cf3a6b939d0e78.png (deflated 4%)\n",
      "  adding: predicts/5f3bf254004ff1a629f53e35.png (deflated 3%)\n",
      "  adding: predicts/5f2d9c7e1d59ed2e161a6a8d.jpg (deflated 15%)\n",
      "  adding: predicts/5eac004cb23ffdc77614663e.jpg (deflated 9%)\n",
      "  adding: predicts/5f3bc1657e9112a75ca83750.jpg (deflated 8%)\n",
      "  adding: predicts/5f2d13b8f5a9ad6565d1e678.jpg (deflated 16%)\n",
      "  adding: predicts/5f1f25f9fd6aca55f957af20.png (deflated 1%)\n",
      "  adding: predicts/5f2d77d4c2d021753a25c3a0.jpg (deflated 17%)\n",
      "  adding: predicts/5f3f047df0b2c8a3da882d60.jpg (deflated 9%)\n",
      "  adding: predicts/5f2dad4a8fdd74219ddb3a4d.jpg (deflated 12%)\n",
      "  adding: predicts/5f5b4bc00dde60fc5d9dba0b.jpg (deflated 6%)\n",
      "  adding: predicts/5f2d5bc21d59ed2e161a6a55.jpg (deflated 2%)\n",
      "  adding: predicts/5ef7d1f010bf0bfc0d8979da.jpg (deflated 18%)\n",
      "  adding: predicts/5f3bdfa348a237adc71d456d.png (deflated 15%)\n",
      "  adding: predicts/5f2d1d8b8ff30ebe1bd4734f.jpg (deflated 13%)\n",
      "  adding: predicts/5f2d456b341df9ed0b6456b4.png (deflated 14%)\n",
      "  adding: predicts/5f5b4cf830f221fbc0ebe970.jpg (deflated 5%)\n",
      "  adding: predicts/5f2d7681efd50a739bc7817e.png (deflated 5%)\n",
      "  adding: predicts/5f43c2bbb15c6d1f582ce4f4.png (deflated 0%)\n",
      "  adding: predicts/5f5b43023aff3feca008cb1b.png (deflated 4%)\n",
      "  adding: predicts/5f3be57475855f8bdc5a6948.jpg (deflated 19%)\n",
      "  adding: predicts/5f40399adeb5bc6afcd1e631.png (deflated 2%)\n",
      "  adding: predicts/5f3f1532d5c32f982f6d62a9.png (deflated 5%)\n"
     ]
    }
   ],
   "source": [
    "!zip -r predicts.zip predicts"
   ]
  },
  {
   "cell_type": "code",
   "execution_count": null,
   "metadata": {},
   "outputs": [],
   "source": []
  },
  {
   "cell_type": "code",
   "execution_count": null,
   "metadata": {},
   "outputs": [],
   "source": []
  },
  {
   "cell_type": "code",
   "execution_count": null,
   "metadata": {},
   "outputs": [],
   "source": []
  },
  {
   "cell_type": "code",
   "execution_count": null,
   "metadata": {},
   "outputs": [],
   "source": []
  },
  {
   "cell_type": "code",
   "execution_count": null,
   "metadata": {},
   "outputs": [],
   "source": []
  },
  {
   "cell_type": "code",
   "execution_count": null,
   "metadata": {},
   "outputs": [],
   "source": []
  },
  {
   "cell_type": "code",
   "execution_count": null,
   "metadata": {},
   "outputs": [],
   "source": []
  },
  {
   "cell_type": "code",
   "execution_count": null,
   "metadata": {},
   "outputs": [],
   "source": []
  },
  {
   "cell_type": "code",
   "execution_count": null,
   "metadata": {},
   "outputs": [],
   "source": []
  },
  {
   "cell_type": "code",
   "execution_count": null,
   "metadata": {},
   "outputs": [],
   "source": []
  },
  {
   "cell_type": "code",
   "execution_count": null,
   "metadata": {},
   "outputs": [],
   "source": []
  }
 ],
 "metadata": {
  "kernelspec": {
   "display_name": "Python 3",
   "language": "python",
   "name": "python3"
  },
  "language_info": {
   "codemirror_mode": {
    "name": "ipython",
    "version": 3
   },
   "file_extension": ".py",
   "mimetype": "text/x-python",
   "name": "python",
   "nbconvert_exporter": "python",
   "pygments_lexer": "ipython3",
   "version": "3.7.3"
  }
 },
 "nbformat": 4,
 "nbformat_minor": 2
}
