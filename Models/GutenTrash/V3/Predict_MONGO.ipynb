{
 "cells": [
  {
   "cell_type": "code",
   "execution_count": 1,
   "metadata": {},
   "outputs": [
    {
     "name": "stderr",
     "output_type": "stream",
     "text": [
      "/home/ubuntu/anaconda3/lib/python3.7/importlib/_bootstrap.py:219: RuntimeWarning: thinc.extra.search.Beam size changed, may indicate binary incompatibility. Expected 112 from C header, got 120 from PyObject\n",
      "  return f(*args, **kwds)\n"
     ]
    }
   ],
   "source": [
    "import re\n",
    "import spacy\n",
    "from spacy_langdetect import LanguageDetector\n",
    "import en_core_web_sm\n",
    "nlp = en_core_web_sm.load()\n",
    "nlp.add_pipe(LanguageDetector(), name='language_detector', last=True)\n",
    "import pandas as pd\n",
    "import bson\n",
    "import pymongo\n",
    "from tqdm import tqdm\n",
    "username = \"tagger-admin\"\n",
    "password = \"tvaiadmin\"\n",
    "db_client = pymongo.MongoClient('104.198.62.226', username=username,\n",
    "                                password=password,\n",
    "                                authSource='tags',\n",
    "                                authMechanism='SCRAM-SHA-256', port=27017).tags"
   ]
  },
  {
   "cell_type": "code",
   "execution_count": 2,
   "metadata": {},
   "outputs": [
    {
     "data": {
      "text/html": [],
      "text/plain": [
       "<IPython.core.display.HTML object>"
      ]
     },
     "metadata": {},
     "output_type": "display_data"
    },
    {
     "data": {
      "text/html": [],
      "text/plain": [
       "<IPython.core.display.HTML object>"
      ]
     },
     "metadata": {},
     "output_type": "display_data"
    }
   ],
   "source": [
    "from fastai import *\n",
    "from fastai.vision import *\n",
    "from tagger import config, train_model, stringConverter\n",
    "from tagger import predict\n",
    "\n",
    "learner = load_learner(\"models\", \"guten_trash_P3_v1-server.pkl\")"
   ]
  },
  {
   "cell_type": "code",
   "execution_count": 3,
   "metadata": {},
   "outputs": [],
   "source": [
    "import aerospike\n",
    "config_aerospike = {'hosts': [('35.228.136.58', 3000)]}\n",
    "client = aerospike.client(config_aerospike).connect()\n",
    "bert_data_key = (\"ids_to_validate\", \"data\", \"bert_tags\")"
   ]
  },
  {
   "cell_type": "code",
   "execution_count": 4,
   "metadata": {},
   "outputs": [],
   "source": [
    "args_trash = {\n",
    "    \"labels\": client.get(bert_data_key)[-1][\"gutenTrash\"],\n",
    "    \"model\": learner,\n",
    "}"
   ]
  },
  {
   "cell_type": "code",
   "execution_count": 5,
   "metadata": {},
   "outputs": [],
   "source": [
    "def mongoRemover(bson_id, reason):        \n",
    "    db_client[\"tweets_pipeline_v2\"].update_one({\"_id\":bson.ObjectId(bson_id)},\n",
    "                                        {\"$set\":{\n",
    "                                                 \"status\":\"deleted\",\n",
    "                                                 \"GutenTagTrash\": reason,\n",
    "                                                }})"
   ]
  },
  {
   "cell_type": "code",
   "execution_count": 6,
   "metadata": {
    "scrolled": true
   },
   "outputs": [
    {
     "name": "stderr",
     "output_type": "stream",
     "text": [
      "/home/ubuntu/anaconda3/lib/python3.7/site-packages/ipykernel_launcher.py:11: DeprecationWarning: count is deprecated. Use Collection.count_documents instead.\n",
      "  # This is added back by InteractiveShellApp.init_path()\n",
      " 81%|████████  | 7911/9819 [08:13<02:04, 15.36it/s]"
     ]
    },
    {
     "name": "stdout",
     "output_type": "stream",
     "text": [
      "5f442f1325b9e6008db0a101 ['Trash']\n"
     ]
    },
    {
     "name": "stderr",
     "output_type": "stream",
     "text": [
      " 82%|████████▏ | 8084/9819 [08:23<01:52, 15.49it/s]"
     ]
    },
    {
     "name": "stdout",
     "output_type": "stream",
     "text": [
      "5f4504c9e806be263edf38b3 ['MarketDesk']\n"
     ]
    },
    {
     "name": "stderr",
     "output_type": "stream",
     "text": [
      " 83%|████████▎ | 8116/9819 [08:25<01:51, 15.25it/s]"
     ]
    },
    {
     "name": "stdout",
     "output_type": "stream",
     "text": [
      "5f450fe1b1b96dce58f90492 ['Trash']\n"
     ]
    },
    {
     "name": "stderr",
     "output_type": "stream",
     "text": [
      " 83%|████████▎ | 8120/9819 [08:26<01:52, 15.16it/s]"
     ]
    },
    {
     "name": "stdout",
     "output_type": "stream",
     "text": [
      "5f450ffde04d859be2e227fb ['Trash']\n"
     ]
    },
    {
     "name": "stderr",
     "output_type": "stream",
     "text": [
      " 85%|████████▍ | 8317/9819 [08:38<01:33, 16.14it/s]"
     ]
    },
    {
     "name": "stdout",
     "output_type": "stream",
     "text": [
      "5f451d725be9e1fbb2aadcc5 ['Trash']\n"
     ]
    },
    {
     "name": "stderr",
     "output_type": "stream",
     "text": [
      " 85%|████████▌ | 8384/9819 [08:42<01:36, 14.91it/s]"
     ]
    },
    {
     "name": "stdout",
     "output_type": "stream",
     "text": [
      "5f452384d02c3e23ac22f488 ['Trash']\n"
     ]
    },
    {
     "name": "stderr",
     "output_type": "stream",
     "text": [
      " 87%|████████▋ | 8536/9819 [08:52<01:34, 13.63it/s]"
     ]
    },
    {
     "name": "stdout",
     "output_type": "stream",
     "text": [
      "5f45470e716fc284d6bdefb2 ['Trash']\n",
      "5f45471a88a0340e7f8611f8 ['Trash']\n"
     ]
    },
    {
     "name": "stderr",
     "output_type": "stream",
     "text": [
      " 88%|████████▊ | 8626/9819 [08:58<01:17, 15.35it/s]"
     ]
    },
    {
     "name": "stdout",
     "output_type": "stream",
     "text": [
      "5f454cfad1a40ef55e66df7f ['Trash']\n"
     ]
    },
    {
     "name": "stderr",
     "output_type": "stream",
     "text": [
      " 88%|████████▊ | 8638/9819 [08:58<01:18, 15.00it/s]"
     ]
    },
    {
     "name": "stdout",
     "output_type": "stream",
     "text": [
      "5f455d260f0bf0e8332ad469 ['MarketDesk']\n"
     ]
    },
    {
     "name": "stderr",
     "output_type": "stream",
     "text": [
      " 89%|████████▊ | 8709/9819 [09:03<01:12, 15.25it/s]"
     ]
    },
    {
     "name": "stdout",
     "output_type": "stream",
     "text": [
      "5f45743de5d9414208c151fb ['Trash']\n"
     ]
    },
    {
     "name": "stderr",
     "output_type": "stream",
     "text": [
      " 90%|█████████ | 8873/9819 [09:13<00:56, 16.73it/s]"
     ]
    },
    {
     "name": "stdout",
     "output_type": "stream",
     "text": [
      "5f459e4c7fb840089452594b ['Trash']\n"
     ]
    },
    {
     "name": "stderr",
     "output_type": "stream",
     "text": [
      " 91%|█████████ | 8932/9819 [09:17<01:05, 13.56it/s]"
     ]
    },
    {
     "name": "stdout",
     "output_type": "stream",
     "text": [
      "5f45aee74baad656fadb9467 ['Trash']\n"
     ]
    },
    {
     "name": "stderr",
     "output_type": "stream",
     "text": [
      " 91%|█████████▏| 8979/9819 [09:20<00:50, 16.52it/s]"
     ]
    },
    {
     "name": "stdout",
     "output_type": "stream",
     "text": [
      "5f45cec8a00e039cfb069133 ['Trash']\n"
     ]
    },
    {
     "name": "stderr",
     "output_type": "stream",
     "text": [
      " 93%|█████████▎| 9127/9819 [09:29<00:47, 14.43it/s]"
     ]
    },
    {
     "name": "stdout",
     "output_type": "stream",
     "text": [
      "5f4655244567fcdc235b13fb ['Trash']\n"
     ]
    },
    {
     "name": "stderr",
     "output_type": "stream",
     "text": [
      " 94%|█████████▎| 9184/9819 [09:32<00:38, 16.32it/s]"
     ]
    },
    {
     "name": "stdout",
     "output_type": "stream",
     "text": [
      "5f46919a5ea787c9f28a7c5e ['Trash']\n"
     ]
    },
    {
     "name": "stderr",
     "output_type": "stream",
     "text": [
      " 95%|█████████▍| 9303/9819 [09:40<00:34, 15.09it/s]"
     ]
    },
    {
     "name": "stdout",
     "output_type": "stream",
     "text": [
      "5f46ed7c5f1e0067b161a616 ['ShortTerm']\n"
     ]
    },
    {
     "name": "stderr",
     "output_type": "stream",
     "text": [
      " 95%|█████████▌| 9341/9819 [09:42<00:32, 14.69it/s]"
     ]
    },
    {
     "name": "stdout",
     "output_type": "stream",
     "text": [
      "5f46eefae58e4a703b05c9d4 ['Trash']\n"
     ]
    },
    {
     "name": "stderr",
     "output_type": "stream",
     "text": [
      " 96%|█████████▋| 9452/9819 [09:49<00:24, 15.26it/s]"
     ]
    },
    {
     "name": "stdout",
     "output_type": "stream",
     "text": [
      "5f4763e69d398547c7d1efaf ['Trash']\n"
     ]
    },
    {
     "name": "stderr",
     "output_type": "stream",
     "text": [
      "100%|██████████| 9819/9819 [10:12<00:00, 16.03it/s]\n"
     ]
    }
   ],
   "source": [
    "db = db_client[\"tweets_pipeline_v2\"].find({\"$or\":[{\"status\": \"pipelined\"}, \n",
    "#                                                       {\"status\": \"reserved\"},                                                       \n",
    "#                                                       {\"status\": \"deleted\"}, \n",
    "#                                                       {\"status\": \"deleted_from_analytics\"}\n",
    "                                                 ],\n",
    "                                                   \"extracted_text\": {\"$exists\": True},                                               \n",
    "#                                                       \"GutenTagTrash\": {\"$exists\": False},\n",
    "\n",
    "#                                                'tweet_timestamp': {'$gte': datetime(2020,2,4)} #algoStarts                                              \n",
    "                                          }, no_cursor_timeout=True)\n",
    "for i in tqdm(db, total = db.count()):\n",
    "    text = i[\"extracted_text\"]\n",
    "    text = stringConverter(text, use_mister_proper=False)        \n",
    "    result = predict(text, args_trash)\n",
    "    _id = str(i[\"_id\"])\n",
    "    if result:\n",
    "        print(_id, result)\n",
    "        mongoRemover(_id, result)"
   ]
  },
  {
   "cell_type": "code",
   "execution_count": null,
   "metadata": {},
   "outputs": [],
   "source": [
    "                   "
   ]
  }
 ],
 "metadata": {
  "kernelspec": {
   "display_name": "Python 3",
   "language": "python",
   "name": "python3"
  },
  "language_info": {
   "codemirror_mode": {
    "name": "ipython",
    "version": 3
   },
   "file_extension": ".py",
   "mimetype": "text/x-python",
   "name": "python",
   "nbconvert_exporter": "python",
   "pygments_lexer": "ipython3",
   "version": "3.7.3"
  }
 },
 "nbformat": 4,
 "nbformat_minor": 2
}
