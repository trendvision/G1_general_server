{
 "cells": [
  {
   "cell_type": "code",
   "execution_count": 1,
   "metadata": {},
   "outputs": [],
   "source": [
    "import dropbox\n",
    "import UploadDropbox"
   ]
  },
  {
   "cell_type": "code",
   "execution_count": 57,
   "metadata": {},
   "outputs": [],
   "source": [
    "def getImages(folder):\n",
    "    processedData = []\n",
    "    for image in folder:\n",
    "        processedData.append(image.name)\n",
    "    return processedData\n",
    "\n",
    "def getMoreThanCan(folder, dbx):\n",
    "    images = getImages(folder.entries)\n",
    "    while True:\n",
    "        folder = dbx.files_list_folder_continue(folder.cursor)\n",
    "        images += getImages(folder.entries)\n",
    "        if not folder.has_more:\n",
    "            break\n",
    "    return images\n",
    "\n",
    "def getFilesLists(categories, dbx, subpath_exists):\n",
    "    files = []\n",
    "    if subpath_exists:\n",
    "        categories = categories.path_lower\n",
    "        folder = dbx.files_list_folder(path=categories)\n",
    "    else:\n",
    "        folder = dbx.files_list_folder(path=categories)\n",
    "    if folder.has_more:\n",
    "        data = getMoreThanCan(folder, dbx)\n",
    "        files += data\n",
    "        print(categories, len(data))\n",
    "    else:\n",
    "        data = getImages(folder.entries)\n",
    "        files += data\n",
    "        print(categories, len(data))\n",
    "    return files\n",
    "\n",
    "def get1dList(data): return list(itertools.chain.from_iterable(data))\n",
    "    \n",
    "\n",
    "def getProccessedData(path, subpath_exists=False):\n",
    "    \n",
    "    access_token = '7wYL8EDqrSAAAAAAAAAjFKIa8fjneyf3Z6xIHPeK6N09ZyGZrVjY4RZGQPSajNY-'\n",
    "    timeout = 10.0\n",
    "    \n",
    "    dbx = dropbox.Dropbox(access_token, timeout=timeout)\n",
    "    \n",
    "    TrashFilesID = []\n",
    "    \n",
    "    if subpath_exists == True:\n",
    "        for sub_path in dbx.files_list_folder(path=path).entries:\n",
    "            TrashFilesID += getFilesLists(sub_path, dbx, subpath_exists)\n",
    "    else:\n",
    "        TrashFilesID += getFilesLists(path, dbx, subpath_exists)            \n",
    "    \n",
    "    return TrashFilesID"
   ]
  },
  {
   "cell_type": "code",
   "execution_count": 59,
   "metadata": {
    "scrolled": true
   },
   "outputs": [
    {
     "name": "stdout",
     "output_type": "stream",
     "text": [
      "/graphic.one/Conveoyr/ 8\n"
     ]
    }
   ],
   "source": [
    "TrashFiles = getProccessedData(\"/graphic.one/Conveoyr/\", subpath_exists=False)"
   ]
  },
  {
   "cell_type": "code",
   "execution_count": null,
   "metadata": {},
   "outputs": [],
   "source": []
  },
  {
   "cell_type": "code",
   "execution_count": null,
   "metadata": {},
   "outputs": [],
   "source": []
  },
  {
   "cell_type": "code",
   "execution_count": null,
   "metadata": {},
   "outputs": [],
   "source": []
  }
 ],
 "metadata": {
  "kernelspec": {
   "display_name": "Python 3",
   "language": "python",
   "name": "python3"
  },
  "language_info": {
   "codemirror_mode": {
    "name": "ipython",
    "version": 3
   },
   "file_extension": ".py",
   "mimetype": "text/x-python",
   "name": "python",
   "nbconvert_exporter": "python",
   "pygments_lexer": "ipython3",
   "version": "3.7.3"
  }
 },
 "nbformat": 4,
 "nbformat_minor": 2
}
