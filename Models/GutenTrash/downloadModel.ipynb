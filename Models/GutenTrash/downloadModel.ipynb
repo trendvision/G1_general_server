{
 "cells": [
  {
   "cell_type": "code",
   "execution_count": 1,
   "metadata": {
    "scrolled": true
   },
   "outputs": [
    {
     "name": "stdout",
     "output_type": "stream",
     "text": [
      "--2020-03-13 14:51:19--  http://download/\n",
      "Resolving download (download)... failed: Temporary failure in name resolution.\n",
      "wget: unable to resolve host address ‘download’\n",
      "--2020-03-13 14:51:19--  https://www.dropbox.com/s/11cw80icmiltlz0/guten_trash_v2.zip?dl=1\n",
      "Resolving www.dropbox.com (www.dropbox.com)... 162.125.3.1, 2620:100:6018:1::a27d:301\n",
      "Connecting to www.dropbox.com (www.dropbox.com)|162.125.3.1|:443... connected.\n",
      "HTTP request sent, awaiting response... 301 Moved Permanently\n",
      "Location: /s/dl/11cw80icmiltlz0/guten_trash_v2.zip [following]\n",
      "--2020-03-13 14:51:19--  https://www.dropbox.com/s/dl/11cw80icmiltlz0/guten_trash_v2.zip\n",
      "Reusing existing connection to www.dropbox.com:443.\n",
      "HTTP request sent, awaiting response... 302 Found\n",
      "Location: https://uc627583ceca75b07778364e0270.dl.dropboxusercontent.com/cd/0/get/Az35lnGYsshEcnIqrJvc-EgLaP74Jl_uktp97qXLT1k3B8RzJwEEKm2mwhgcu8kQB9NwhS5lKVQJ0ijzbKms0p5Xg2BnLJaEYjb20CWeGfE7HPjbaFjwn-wuNPuLvlZzFTk/file?dl=1# [following]\n",
      "--2020-03-13 14:51:19--  https://uc627583ceca75b07778364e0270.dl.dropboxusercontent.com/cd/0/get/Az35lnGYsshEcnIqrJvc-EgLaP74Jl_uktp97qXLT1k3B8RzJwEEKm2mwhgcu8kQB9NwhS5lKVQJ0ijzbKms0p5Xg2BnLJaEYjb20CWeGfE7HPjbaFjwn-wuNPuLvlZzFTk/file?dl=1\n",
      "Resolving uc627583ceca75b07778364e0270.dl.dropboxusercontent.com (uc627583ceca75b07778364e0270.dl.dropboxusercontent.com)... 162.125.3.6, 2620:100:6018:6::a27d:306\n",
      "Connecting to uc627583ceca75b07778364e0270.dl.dropboxusercontent.com (uc627583ceca75b07778364e0270.dl.dropboxusercontent.com)|162.125.3.6|:443... connected.\n",
      "HTTP request sent, awaiting response... 200 OK\n",
      "Length: 455263242 (434M) [application/binary]\n",
      "Saving to: ‘guten_trash_v2.zip?dl=1’\n",
      "\n",
      "guten_trash_v2.zip? 100%[===================>] 434.17M  55.9MB/s    in 8.2s    \n",
      "\n",
      "2020-03-13 14:51:28 (53.0 MB/s) - ‘guten_trash_v2.zip?dl=1’ saved [455263242/455263242]\n",
      "\n",
      "FINISHED --2020-03-13 14:51:28--\n",
      "Total wall clock time: 9.5s\n",
      "Downloaded: 1 files, 434M in 8.2s (53.0 MB/s)\n"
     ]
    }
   ],
   "source": [
    "!wget download https://www.dropbox.com/s/11cw80icmiltlz0/guten_trash_v2.zip?dl=1"
   ]
  },
  {
   "cell_type": "code",
   "execution_count": 2,
   "metadata": {},
   "outputs": [
    {
     "name": "stdout",
     "output_type": "stream",
     "text": [
      "Archive:  guten_trash_v2.zip\n",
      "  inflating: models/guten_trash_v2.pkl  \n"
     ]
    }
   ],
   "source": [
    "!unzip guten_trash_v2.zip"
   ]
  },
  {
   "cell_type": "code",
   "execution_count": null,
   "metadata": {},
   "outputs": [],
   "source": []
  }
 ],
 "metadata": {
  "kernelspec": {
   "display_name": "Python 3",
   "language": "python",
   "name": "python3"
  },
  "language_info": {
   "codemirror_mode": {
    "name": "ipython",
    "version": 3
   },
   "file_extension": ".py",
   "mimetype": "text/x-python",
   "name": "python",
   "nbconvert_exporter": "python",
   "pygments_lexer": "ipython3",
   "version": "3.7.3"
  }
 },
 "nbformat": 4,
 "nbformat_minor": 2
}
