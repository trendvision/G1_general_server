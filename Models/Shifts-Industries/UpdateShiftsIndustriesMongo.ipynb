{
 "cells": [
  {
   "cell_type": "code",
   "execution_count": 4,
   "metadata": {},
   "outputs": [
    {
     "name": "stdout",
     "output_type": "stream",
     "text": [
      "Collecting package metadata (repodata.json): done\n",
      "Solving environment: done\n",
      "\n",
      "## Package Plan ##\n",
      "\n",
      "  environment location: /home/ubuntu/anaconda3\n",
      "\n",
      "  added / updated specs:\n",
      "    - fastai\n",
      "\n",
      "\n",
      "The following packages will be downloaded:\n",
      "\n",
      "    package                    |            build\n",
      "    ---------------------------|-----------------\n",
      "    fastai-1.0.61              |                1         177 KB  fastai\n",
      "    ------------------------------------------------------------\n",
      "                                           Total:         177 KB\n",
      "\n",
      "The following NEW packages will be INSTALLED:\n",
      "\n",
      "  fastai             fastai/noarch::fastai-1.0.61-1\n",
      "\n",
      "\n",
      "\n",
      "Downloading and Extracting Packages\n",
      "fastai-1.0.61        | 177 KB    | ##################################### | 100% \n",
      "Preparing transaction: done\n",
      "Verifying transaction: done\n",
      "Executing transaction: done\n",
      "\n",
      "Note: you may need to restart the kernel to use updated packages.\n"
     ]
    }
   ],
   "source": [
    "conda install --no-deps -c fastai fastai"
   ]
  },
  {
   "cell_type": "code",
   "execution_count": 1,
   "metadata": {},
   "outputs": [],
   "source": [
    "import aerospike\n",
    "config_aerospike = {'hosts': [('35.228.136.58', 3000)]}\n",
    "client = aerospike.client(config_aerospike).connect()\n",
    "bert_data_key = (\"ids_to_validate\", \"data\", \"bert_tags\")"
   ]
  },
  {
   "cell_type": "code",
   "execution_count": null,
   "metadata": {
    "scrolled": true
   },
   "outputs": [],
   "source": []
  },
  {
   "cell_type": "code",
   "execution_count": 2,
   "metadata": {},
   "outputs": [],
   "source": [
    "from fastai import *\n",
    "from fastai.vision import *"
   ]
  },
  {
   "cell_type": "code",
   "execution_count": 3,
   "metadata": {},
   "outputs": [
    {
     "name": "stderr",
     "output_type": "stream",
     "text": [
      "/home/ubuntu/anaconda3/lib/python3.7/importlib/_bootstrap.py:219: RuntimeWarning: thinc.extra.search.Beam size changed, may indicate binary incompatibility. Expected 112 from C header, got 120 from PyObject\n",
      "  return f(*args, **kwds)\n"
     ]
    }
   ],
   "source": [
    "from tagger import config, train_model, stringConverter\n",
    "from tagger import predict"
   ]
  },
  {
   "cell_type": "code",
   "execution_count": 4,
   "metadata": {},
   "outputs": [
    {
     "data": {
      "text/html": [],
      "text/plain": [
       "<IPython.core.display.HTML object>"
      ]
     },
     "metadata": {},
     "output_type": "display_data"
    },
    {
     "data": {
      "text/html": [],
      "text/plain": [
       "<IPython.core.display.HTML object>"
      ]
     },
     "metadata": {},
     "output_type": "display_data"
    }
   ],
   "source": [
    "argsIndustries = {\n",
    "    \"labels\": client.get(bert_data_key)[-1][\"gutenIndustries\"],\n",
    "    \"model\": load_learner(\"models\", \"guten_industries_P3_v1.pkl\"),\n",
    "}"
   ]
  },
  {
   "cell_type": "code",
   "execution_count": 5,
   "metadata": {},
   "outputs": [
    {
     "data": {
      "text/html": [],
      "text/plain": [
       "<IPython.core.display.HTML object>"
      ]
     },
     "metadata": {},
     "output_type": "display_data"
    },
    {
     "data": {
      "text/html": [],
      "text/plain": [
       "<IPython.core.display.HTML object>"
      ]
     },
     "metadata": {},
     "output_type": "display_data"
    }
   ],
   "source": [
    "argsShifts = {\n",
    "    \"labels\": client.get(bert_data_key)[-1][\"gutenShifts\"],\n",
    "    \"model\": load_learner(\"models\", \"guten_shifts_P3_v1.pkl\"),\n",
    "}"
   ]
  },
  {
   "cell_type": "code",
   "execution_count": null,
   "metadata": {},
   "outputs": [],
   "source": []
  },
  {
   "cell_type": "code",
   "execution_count": 6,
   "metadata": {},
   "outputs": [],
   "source": [
    "import bson\n",
    "import pymongo\n",
    "username = \"tagger-admin\"\n",
    "password = \"tvaiadmin\"\n",
    "db_client = pymongo.MongoClient('104.198.62.226', username=username,\n",
    "                                password=password,\n",
    "                                authSource='tags',\n",
    "                                authMechanism='SCRAM-SHA-256', port=27017).tags\n",
    "\n"
   ]
  },
  {
   "cell_type": "code",
   "execution_count": 7,
   "metadata": {},
   "outputs": [],
   "source": [
    "from datetime import datetime"
   ]
  },
  {
   "cell_type": "code",
   "execution_count": 8,
   "metadata": {},
   "outputs": [],
   "source": [
    "from tqdm import tqdm"
   ]
  },
  {
   "cell_type": "code",
   "execution_count": 9,
   "metadata": {},
   "outputs": [],
   "source": [
    "def updateDB(_id, shiftsPredict, industriesPredict, shifts, industries):\n",
    "    try:\n",
    "    db_client[\"tweets_pipeline_v2\"].update_one({\"_id\":bson.ObjectId(_id)},\n",
    "                                        {\"$set\":{\n",
    "                                                 \"industries_from_bert\": industriesPredict,\n",
    "                                                 \"shifts_from_bert\": shiftsPredict,\n",
    "                                                 \"before_shifts_industries\":{\n",
    "                                                     \"update_date\": datetime.now(),\n",
    "                                                    \"industries_from_bert\": industries,\n",
    "                                                     \"shifts_from_bert\":shifts,\n",
    "                                                 }\n",
    "                                        }})    \n",
    "    "
   ]
  },
  {
   "cell_type": "code",
   "execution_count": 12,
   "metadata": {},
   "outputs": [
    {
     "name": "stderr",
     "output_type": "stream",
     "text": [
      "/home/ubuntu/anaconda3/lib/python3.7/site-packages/ipykernel_launcher.py:5: DeprecationWarning: count is deprecated. Use Collection.count_documents instead.\n",
      "  \"\"\"\n",
      "100%|██████████| 13931/13931 [30:20<00:00,  7.65it/s] \n"
     ]
    }
   ],
   "source": [
    "db = db_client[\"tweets_pipeline_v2\"].find({\"$or\":[{\"status\": \"reserved\"},\n",
    "#                                                {\"status\": \"validated\"}\n",
    "                                                 ],\n",
    "                                          }, no_cursor_timeout=True)\n",
    "for i in tqdm(db, total = db.count()):\n",
    "    try:\n",
    "        industriesPredict = predict(stringConverter(i[\"extracted_text\"], use_mister_proper=True), argsIndustries)\n",
    "        shiftsPredict = predict(stringConverter(i[\"extracted_text\"], use_mister_proper=True), argsShifts)\n",
    "        industries = []\n",
    "        shifts = []\n",
    "        if \"industries_from_bert\" in i:\n",
    "            industries = i[\"industries_from_bert\"]\n",
    "        if \"shifts_from_bert\" in i:\n",
    "            shifts = i['shifts_from_bert']\n",
    "        _id = str(i[\"_id\"])\n",
    "        updateDB(_id, shiftsPredict=shiftsPredict, industriesPredict=industriesPredict, shifts = shifts, industries = industries)\n",
    "    except Exception:\n",
    "        pass\n",
    "db.close()    "
   ]
  },
  {
   "cell_type": "code",
   "execution_count": null,
   "metadata": {},
   "outputs": [],
   "source": []
  },
  {
   "cell_type": "code",
   "execution_count": null,
   "metadata": {},
   "outputs": [],
   "source": []
  },
  {
   "cell_type": "code",
   "execution_count": null,
   "metadata": {},
   "outputs": [],
   "source": []
  },
  {
   "cell_type": "code",
   "execution_count": null,
   "metadata": {},
   "outputs": [],
   "source": []
  },
  {
   "cell_type": "code",
   "execution_count": null,
   "metadata": {},
   "outputs": [],
   "source": []
  },
  {
   "cell_type": "code",
   "execution_count": null,
   "metadata": {},
   "outputs": [],
   "source": []
  }
 ],
 "metadata": {
  "kernelspec": {
   "display_name": "Python 3",
   "language": "python",
   "name": "python3"
  },
  "language_info": {
   "codemirror_mode": {
    "name": "ipython",
    "version": 3
   },
   "file_extension": ".py",
   "mimetype": "text/x-python",
   "name": "python",
   "nbconvert_exporter": "python",
   "pygments_lexer": "ipython3",
   "version": "3.7.3"
  }
 },
 "nbformat": 4,
 "nbformat_minor": 2
}
