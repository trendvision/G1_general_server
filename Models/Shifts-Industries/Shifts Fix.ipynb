{
 "cells": [
  {
   "cell_type": "code",
   "execution_count": 1,
   "metadata": {},
   "outputs": [],
   "source": [
    "import numpy as np\n",
    "import pandas as pd\n",
    "from datetime import datetime, timedelta\n",
    "import pymongo\n",
    "from tqdm import tqdm\n",
    "import warnings\n",
    "from IPython.display import Image \n",
    "from IPython.core.display import Image, display\n",
    "warnings.filterwarnings(\"ignore\")\n",
    "username = \"tagger-admin\"\n",
    "password = \"tvaiadmin\"\n",
    "db_client = pymongo.MongoClient('104.198.62.226', username=username,\n",
    "                                password=password,\n",
    "                                authSource='tags',\n",
    "                                authMechanism='SCRAM-SHA-256', port=27017).tags"
   ]
  },
  {
   "cell_type": "code",
   "execution_count": 2,
   "metadata": {},
   "outputs": [],
   "source": [
    "data = db_client[\"tweets_pipeline_v2\"].find({\"$or\": [{\"status\":\"graphicone_search\"}, {\"status\":\"graphicone_feed\"}],\n",
    "                                            \"grafeed_industries\": {\"$exists\": True},\n",
    "                                            \"s3_url\": {\"$exists\": True}})\n",
    "shifts = []\n",
    "for i in tqdm(data, total = data.count()):\n",
    "    shifts.append([str(i[\"_id\"]), i[\"grafeed_shifts\"]])\n",
    "df = pd.DataFrame(shifts, columns=[\"ID\", \"Shifts\"])\n",
    "print(df.shape)\n",
    "df.to_csv(\"shifts-check.csv\", index = None)\n",
    "df.head(10)"
   ]
  },
  {
   "cell_type": "code",
   "execution_count": 3,
   "metadata": {},
   "outputs": [],
   "source": [
    "# setShifts = []\n",
    "# for row in df.Shifts:\n",
    "#     setShifts += row\n",
    "# set([i for i in set(setShifts) if i is not None])"
   ]
  },
  {
   "cell_type": "code",
   "execution_count": 4,
   "metadata": {
    "scrolled": false
   },
   "outputs": [],
   "source": [
    "data = db_client[\"tweets_pipeline_v2\"].find({\"$or\": [{\"status\":\"graphicone_search\"}, {\"status\":\"graphicone_feed\"}],\n",
    "                                            \"grafeed_industries\": {\"$exists\": True},\n",
    "                                            \"s3_url\": {\"$exists\": True}})\n",
    "\n",
    "# counter = 0\n",
    "# minV = 4000\n",
    "# maxV = 4300\n",
    "# for i in data:\n",
    "#     if counter >= minV and counter <= maxV:\n",
    "#         print(counter)\n",
    "#         print(i[\"_id\"])\n",
    "#         print()\n",
    "#         print(i[\"grafeed_shifts\"])\n",
    "#         print()\n",
    "#         display(Image(i['s3_url'], unconfined=True))\n",
    "#         print()\n",
    "#         print()\n",
    "#         print()\n",
    "#         print(\"-----------------------------/----------------------------------------------------------------------\")\n",
    "#         print()\n",
    "#     counter += 1"
   ]
  },
  {
   "cell_type": "code",
   "execution_count": null,
   "metadata": {},
   "outputs": [],
   "source": [
    "\"shifts-check-predict-1.csv\""
   ]
  }
 ],
 "metadata": {
  "kernelspec": {
   "display_name": "Python 3",
   "language": "python",
   "name": "python3"
  },
  "language_info": {
   "codemirror_mode": {
    "name": "ipython",
    "version": 3
   },
   "file_extension": ".py",
   "mimetype": "text/x-python",
   "name": "python",
   "nbconvert_exporter": "python",
   "pygments_lexer": "ipython3",
   "version": "3.7.3"
  }
 },
 "nbformat": 4,
 "nbformat_minor": 2
}
