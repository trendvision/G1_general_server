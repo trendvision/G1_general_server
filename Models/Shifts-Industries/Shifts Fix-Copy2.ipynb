{
 "cells": [
  {
   "cell_type": "code",
   "execution_count": 3,
   "metadata": {},
   "outputs": [],
   "source": [
    "import numpy as np\n",
    "import pandas as pd\n",
    "from datetime import datetime, timedelta\n",
    "import pymongo\n",
    "from tqdm import tqdm\n",
    "import warnings\n",
    "from IPython.display import Image \n",
    "from IPython.core.display import Image, display\n",
    "warnings.filterwarnings(\"ignore\")\n",
    "username = \"tagger-admin\"\n",
    "password = \"tvaiadmin\"\n",
    "db_client = pymongo.MongoClient('104.198.62.226', username=username,\n",
    "                                password=password,\n",
    "                                authSource='tags',\n",
    "                                authMechanism='SCRAM-SHA-256', port=27017).tags\n",
    "\n",
    "import pymongo\n",
    "import bson"
   ]
  },
  {
   "cell_type": "code",
   "execution_count": 10,
   "metadata": {
    "scrolled": false
   },
   "outputs": [],
   "source": [
    "minV = 0\n",
    "maxV = 800\n",
    "for index, row in pd.read_csv(\"shifts-check-predict-1-v2.csv\").iterrows():\n",
    "    if index >= minV and index <= maxV:\n",
    "        try:\n",
    "            ID, Shifts = row[\"ID\"], row[\"Shifts\"]     \n",
    "            image = Image(db_client[\"tweets_pipeline_v2\"].find_one({\"_id\":bson.ObjectId(ID)})['s3_url'], unconfined=True)\n",
    "            \n",
    "            print(index)\n",
    "            print(ID)\n",
    "            print()\n",
    "            print(Shifts)\n",
    "            print()        \n",
    "            display(image)\n",
    "            print()\n",
    "            print()\n",
    "            print()\n",
    "            print(\"-----------------------------/----------------------------------------------------------------------\")\n",
    "            print()\n",
    "        except Exception as err:\n",
    "            pass\n",
    "#             print(err)"
   ]
  },
  {
   "cell_type": "code",
   "execution_count": null,
   "metadata": {},
   "outputs": [],
   "source": []
  }
 ],
 "metadata": {
  "kernelspec": {
   "display_name": "Python 3",
   "language": "python",
   "name": "python3"
  },
  "language_info": {
   "codemirror_mode": {
    "name": "ipython",
    "version": 3
   },
   "file_extension": ".py",
   "mimetype": "text/x-python",
   "name": "python",
   "nbconvert_exporter": "python",
   "pygments_lexer": "ipython3",
   "version": "3.7.3"
  }
 },
 "nbformat": 4,
 "nbformat_minor": 2
}
