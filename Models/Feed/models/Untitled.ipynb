{
 "cells": [
  {
   "cell_type": "code",
   "execution_count": 2,
   "metadata": {},
   "outputs": [
    {
     "name": "stdout",
     "output_type": "stream",
     "text": [
      "--2020-07-01 14:51:53--  http://download/\n",
      "Resolving download (download)... failed: Temporary failure in name resolution.\n",
      "wget: unable to resolve host address ‘download’\n",
      "--2020-07-01 14:51:53--  https://www.dropbox.com/s/rhhetuxjslyvbl2/guten_feed.pkl?dl=0\n",
      "Resolving www.dropbox.com (www.dropbox.com)... 162.125.6.1, 2620:100:601b:1::a27d:801\n",
      "Connecting to www.dropbox.com (www.dropbox.com)|162.125.6.1|:443... connected.\n",
      "HTTP request sent, awaiting response... 301 Moved Permanently\n",
      "Location: /s/raw/rhhetuxjslyvbl2/guten_feed.pkl [following]\n",
      "--2020-07-01 14:51:53--  https://www.dropbox.com/s/raw/rhhetuxjslyvbl2/guten_feed.pkl\n",
      "Reusing existing connection to www.dropbox.com:443.\n",
      "HTTP request sent, awaiting response... 302 Found\n",
      "Location: https://uc54db5b8fc330ec790c5fddbd86.dl.dropboxusercontent.com/cd/0/inline/A6uczZJmsm-iWeP74_20Y3S8Y_-m8LwCGVN9NAmX0OeLBTRZ72G8PuYqwPWX_e4pZ5S4kV2mPmmCN81FL37gvcvk89UQvBqLSUgYMOzqHj3m66YWzx_Pefjzov20j3Ryyr8/file# [following]\n",
      "--2020-07-01 14:51:54--  https://uc54db5b8fc330ec790c5fddbd86.dl.dropboxusercontent.com/cd/0/inline/A6uczZJmsm-iWeP74_20Y3S8Y_-m8LwCGVN9NAmX0OeLBTRZ72G8PuYqwPWX_e4pZ5S4kV2mPmmCN81FL37gvcvk89UQvBqLSUgYMOzqHj3m66YWzx_Pefjzov20j3Ryyr8/file\n",
      "Resolving uc54db5b8fc330ec790c5fddbd86.dl.dropboxusercontent.com (uc54db5b8fc330ec790c5fddbd86.dl.dropboxusercontent.com)... 162.125.8.15, 2620:100:601c:15::a27d:60f\n",
      "Connecting to uc54db5b8fc330ec790c5fddbd86.dl.dropboxusercontent.com (uc54db5b8fc330ec790c5fddbd86.dl.dropboxusercontent.com)|162.125.8.15|:443... connected.\n",
      "HTTP request sent, awaiting response... 302 Found\n",
      "Location: /cd/0/inline2/A6tMZ6kqbLyBnTQjQDmz05l0gTkZQ3cUR9tikyYW-c8n3p_cMqZwCyxm_DV5PfIo8jNfgkcxmdB57SbCWwZiq-qEwuIusZDGSrEwdIOqKe20ZIMgqIjJbmILVEG06WOPs5g8Q9W4E_VxxLB1radGDn0Ng_JZtOEsiyAnY9skdDaWNpOzwXb5lBiHHIvb6rir11t0oYK_5zBE3UelsLvGujJpjagU31RQ_sAnT7xs5ZZfUXqgVfAA92OeE6_e4ReN-NNdNRiDonPKBPyoXofS4ZDQt2XZkaITQ4gFJFmQlFNLwJsCJdOGNTR8Dwi6joWe4ivroOkqdNdlk7zHPZyaSNMJdPqCqbJYTKGLJhXSUa850g/file [following]\n",
      "--2020-07-01 14:51:54--  https://uc54db5b8fc330ec790c5fddbd86.dl.dropboxusercontent.com/cd/0/inline2/A6tMZ6kqbLyBnTQjQDmz05l0gTkZQ3cUR9tikyYW-c8n3p_cMqZwCyxm_DV5PfIo8jNfgkcxmdB57SbCWwZiq-qEwuIusZDGSrEwdIOqKe20ZIMgqIjJbmILVEG06WOPs5g8Q9W4E_VxxLB1radGDn0Ng_JZtOEsiyAnY9skdDaWNpOzwXb5lBiHHIvb6rir11t0oYK_5zBE3UelsLvGujJpjagU31RQ_sAnT7xs5ZZfUXqgVfAA92OeE6_e4ReN-NNdNRiDonPKBPyoXofS4ZDQt2XZkaITQ4gFJFmQlFNLwJsCJdOGNTR8Dwi6joWe4ivroOkqdNdlk7zHPZyaSNMJdPqCqbJYTKGLJhXSUa850g/file\n",
      "Reusing existing connection to uc54db5b8fc330ec790c5fddbd86.dl.dropboxusercontent.com:443.\n",
      "HTTP request sent, awaiting response... 200 OK\n",
      "Length: 504196824 (481M) [application/octet-stream]\n",
      "Saving to: ‘guten_feed.pkl?dl=0’\n",
      "\n",
      "guten_feed.pkl?dl=0 100%[===================>] 480.84M  19.0MB/s    in 3m 49s  \n",
      "\n",
      "2020-07-01 14:55:43 (2.10 MB/s) - ‘guten_feed.pkl?dl=0’ saved [504196824/504196824]\n",
      "\n",
      "FINISHED --2020-07-01 14:55:43--\n",
      "Total wall clock time: 3m 51s\n",
      "Downloaded: 1 files, 481M in 3m 49s (2.10 MB/s)\n"
     ]
    }
   ],
   "source": [
    "!wget download https://www.dropbox.com/s/rhhetuxjslyvbl2/guten_feed.pkl?dl=0"
   ]
  }
 ],
 "metadata": {
  "kernelspec": {
   "display_name": "Python 3",
   "language": "python",
   "name": "python3"
  },
  "language_info": {
   "codemirror_mode": {
    "name": "ipython",
    "version": 3
   },
   "file_extension": ".py",
   "mimetype": "text/x-python",
   "name": "python",
   "nbconvert_exporter": "python",
   "pygments_lexer": "ipython3",
   "version": "3.7.3"
  }
 },
 "nbformat": 4,
 "nbformat_minor": 4
}
