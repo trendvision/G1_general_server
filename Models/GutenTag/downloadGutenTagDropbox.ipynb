{
 "cells": [
  {
   "cell_type": "code",
   "execution_count": 5,
   "metadata": {},
   "outputs": [
    {
     "name": "stdout",
     "output_type": "stream",
     "text": [
      "Archive:  Gutentag_2.zip\n",
      "  inflating: models/GutenTag.pkl     \n",
      "  inflating: tagger.py               \n"
     ]
    }
   ],
   "source": [
    "# !wget download https://www.dropbox.com/s/g5i50j0hwknjr4z/Gutentag_2.zip?dl=1\n",
    "!unzip Gutentag_2.zip"
   ]
  },
  {
   "cell_type": "code",
   "execution_count": null,
   "metadata": {},
   "outputs": [],
   "source": []
  }
 ],
 "metadata": {
  "kernelspec": {
   "display_name": "Python 3",
   "language": "python",
   "name": "python3"
  },
  "language_info": {
   "codemirror_mode": {
    "name": "ipython",
    "version": 3
   },
   "file_extension": ".py",
   "mimetype": "text/x-python",
   "name": "python",
   "nbconvert_exporter": "python",
   "pygments_lexer": "ipython3",
   "version": "3.7.3"
  }
 },
 "nbformat": 4,
 "nbformat_minor": 2
}
