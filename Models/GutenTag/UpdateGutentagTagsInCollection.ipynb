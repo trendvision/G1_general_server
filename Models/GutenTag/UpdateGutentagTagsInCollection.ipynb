{
 "cells": [
  {
   "cell_type": "code",
   "execution_count": 1,
   "metadata": {},
   "outputs": [],
   "source": [
    "import aerospike\n",
    "config = {\n",
    "    'hosts': [('35.228.136.58', 3000)]\n",
    "}\n",
    "client = aerospike.client(config).connect()\n",
    "# data_as_key = (\"ids_to_validate\", \"data\", \"data\")\n",
    "\n",
    "bert_data_key = (\"ids_to_validate\", \"data\", \"bert_tags\")\n",
    "# tags_data = client.get(bert_data_key)[-1]\n",
    "# labels_for_train = tags_data[\"gutenTag\"]\n",
    "# print(len(labels_for_train))"
   ]
  },
  {
   "cell_type": "code",
   "execution_count": null,
   "metadata": {},
   "outputs": [],
   "source": []
  },
  {
   "cell_type": "code",
   "execution_count": 2,
   "metadata": {},
   "outputs": [
    {
     "name": "stderr",
     "output_type": "stream",
     "text": [
      "/home/ubuntu/anaconda3/lib/python3.7/site-packages/tqdm/std.py:668: FutureWarning: The Panel class is removed from pandas. Accessing it from the top-level namespace will also be removed in the next version\n",
      "  from pandas import Panel\n"
     ]
    }
   ],
   "source": [
    "import pandas as pd\n",
    "import bson\n",
    "import pymongo\n",
    "from tqdm import tqdm\n",
    "tqdm.pandas()\n",
    "username = \"tagger-admin\"\n",
    "password = \"tvaiadmin\"\n",
    "db_client = pymongo.MongoClient('104.198.62.226', username=username,\n",
    "                                password=password,\n",
    "                                authSource='tags',\n",
    "                                authMechanism='SCRAM-SHA-256', port=27017).tags"
   ]
  },
  {
   "cell_type": "code",
   "execution_count": 3,
   "metadata": {},
   "outputs": [],
   "source": [
    "from fastai import *\n",
    "from fastai.vision import *"
   ]
  },
  {
   "cell_type": "code",
   "execution_count": 4,
   "metadata": {},
   "outputs": [
    {
     "name": "stderr",
     "output_type": "stream",
     "text": [
      "/home/ubuntu/anaconda3/lib/python3.7/importlib/_bootstrap.py:219: RuntimeWarning: thinc.extra.search.Beam size changed, may indicate binary incompatibility. Expected 112 from C header, got 120 from PyObject\n",
      "  return f(*args, **kwds)\n"
     ]
    }
   ],
   "source": [
    "from tagger import config, train_model, stringConverter\n",
    "from tagger import predict"
   ]
  },
  {
   "cell_type": "code",
   "execution_count": 5,
   "metadata": {},
   "outputs": [],
   "source": [
    "import transformers"
   ]
  },
  {
   "cell_type": "code",
   "execution_count": 6,
   "metadata": {},
   "outputs": [
    {
     "data": {
      "text/plain": [
       "'2.5.1'"
      ]
     },
     "execution_count": 6,
     "metadata": {},
     "output_type": "execute_result"
    }
   ],
   "source": [
    "transformers.__version__"
   ]
  },
  {
   "cell_type": "code",
   "execution_count": 7,
   "metadata": {},
   "outputs": [
    {
     "data": {
      "text/html": [],
      "text/plain": [
       "<IPython.core.display.HTML object>"
      ]
     },
     "metadata": {},
     "output_type": "display_data"
    },
    {
     "data": {
      "text/html": [],
      "text/plain": [
       "<IPython.core.display.HTML object>"
      ]
     },
     "metadata": {},
     "output_type": "display_data"
    }
   ],
   "source": [
    "argsTags = {\n",
    "    \"labels\": client.get(bert_data_key)[-1][\"gutenTag\"],\n",
    "    \"model\": load_learner(\"models\", \"guten_tag.pkl\"),\n",
    "}"
   ]
  },
  {
   "cell_type": "code",
   "execution_count": 8,
   "metadata": {},
   "outputs": [],
   "source": [
    "def changeTags(bson_id, new_tags):\n",
    "     \n",
    "    info = db_client[\"tweets_pipeline_v2\"].find_one({\"_id\":bson.ObjectId(bson_id)})\n",
    "#     if \"bert_tags\" in info:\n",
    "#         print(\"BEFORE:\", info[\"bert_tags\"])\n",
    "        \n",
    "    db_client[\"tweets_pipeline_v2\"].update_one({\"_id\":bson.ObjectId(bson_id)},\n",
    "                                               {\"$set\":{\"bert_tags\": new_tags}})\n",
    "\n",
    "    info = db_client[\"tweets_pipeline_v2\"].find_one({\"_id\":bson.ObjectId(bson_id)})\n",
    "#     print(\"AFTER:\", info[\"bert_tags\"])"
   ]
  },
  {
   "cell_type": "code",
   "execution_count": 9,
   "metadata": {
    "scrolled": true
   },
   "outputs": [
    {
     "name": "stderr",
     "output_type": "stream",
     "text": [
      "/home/ubuntu/anaconda3/lib/python3.7/site-packages/ipykernel_launcher.py:15: DeprecationWarning: count is deprecated. Use Collection.count_documents instead.\n",
      "  from ipykernel import kernelapp as app\n",
      "9503it [22:12,  7.13it/s]                           \n"
     ]
    }
   ],
   "source": [
    "db = db_client[\"tweets_pipeline_v2\"].find({\"$or\":[\n",
    "                                                    {\"status\": \"pipelined\"},                                                                                                                        \n",
    "#                                                     {\"status\": \"reserved\"},                                                       \n",
    "#                                                       {\"status\": \"deleted\"}, \n",
    "#                                                       {\"status\": \"deleted_from_analytics\"}\n",
    "                                                 ],\n",
    "                                                   \"extracted_text\": {\"$exists\": True},                                               \n",
    "#                                                       \"GutenTagTrash\": {\"$exists\": False},\n",
    "\n",
    "#                                                'tweet_timestamp': {'$gte': datetime(2020,2,4)} #algoStarts                                              \n",
    "                                          }, no_cursor_timeout=True)\n",
    "\n",
    "\n",
    "\n",
    "for i in tqdm(db, total = db.count()):\n",
    "    _id = str(i[\"_id\"])\n",
    "    text = i[\"extracted_text\"]\n",
    "    if len(text) > 0:\n",
    "        tagsPredict = predict(stringConverter(i[\"extracted_text\"], use_mister_proper=True), argsTags)\n",
    "        changeTags(_id, tagsPredict)\n",
    "        \n",
    "db.close()        "
   ]
  },
  {
   "cell_type": "code",
   "execution_count": null,
   "metadata": {},
   "outputs": [],
   "source": []
  },
  {
   "cell_type": "code",
   "execution_count": 12,
   "metadata": {
    "scrolled": true
   },
   "outputs": [
    {
     "data": {
      "text/html": [
       "<div>\n",
       "<style scoped>\n",
       "    .dataframe tbody tr th:only-of-type {\n",
       "        vertical-align: middle;\n",
       "    }\n",
       "\n",
       "    .dataframe tbody tr th {\n",
       "        vertical-align: top;\n",
       "    }\n",
       "\n",
       "    .dataframe thead th {\n",
       "        text-align: right;\n",
       "    }\n",
       "</style>\n",
       "<table border=\"1\" class=\"dataframe\">\n",
       "  <thead>\n",
       "    <tr style=\"text-align: right;\">\n",
       "      <th></th>\n",
       "      <th>ticker</th>\n",
       "      <th>name</th>\n",
       "      <th>cik</th>\n",
       "      <th>legal_name</th>\n",
       "      <th>short_description</th>\n",
       "      <th>long_description</th>\n",
       "    </tr>\n",
       "  </thead>\n",
       "  <tbody>\n",
       "    <tr>\n",
       "      <th>0</th>\n",
       "      <td>EPR</td>\n",
       "      <td>EPR Properties</td>\n",
       "      <td>1045450</td>\n",
       "      <td>EPR PROPERTIES</td>\n",
       "      <td>EPR Properties is a real estate investment tru...</td>\n",
       "      <td>EPR Properties is a real estate investment tru...</td>\n",
       "    </tr>\n",
       "    <tr>\n",
       "      <th>1</th>\n",
       "      <td>SAVE</td>\n",
       "      <td>Spirit Airlines Inc</td>\n",
       "      <td>1498710</td>\n",
       "      <td>Spirit Airlines, Inc.</td>\n",
       "      <td>Spirit Airlines, Inc. is an ultra low-cost, lo...</td>\n",
       "      <td>Spirit Airlines, Inc. provides low-fare airlin...</td>\n",
       "    </tr>\n",
       "    <tr>\n",
       "      <th>2</th>\n",
       "      <td>CPTA</td>\n",
       "      <td>Capitala Finance Corp</td>\n",
       "      <td>1571329</td>\n",
       "      <td>Capitala Finance Corp.</td>\n",
       "      <td>NaN</td>\n",
       "      <td>NaN</td>\n",
       "    </tr>\n",
       "    <tr>\n",
       "      <th>3</th>\n",
       "      <td>OII</td>\n",
       "      <td>Oceaneering International, Inc.</td>\n",
       "      <td>73756</td>\n",
       "      <td>OCEANEERING INTERNATIONAL INC</td>\n",
       "      <td>Oceaneering International, Inc. provides engin...</td>\n",
       "      <td>Oceaneering International, Inc. provides engin...</td>\n",
       "    </tr>\n",
       "    <tr>\n",
       "      <th>4</th>\n",
       "      <td>CVI</td>\n",
       "      <td>CVR Energy Inc</td>\n",
       "      <td>1376139</td>\n",
       "      <td>CVR ENERGY INC</td>\n",
       "      <td>CVR Energy, Inc. engages in the provision of e...</td>\n",
       "      <td>CVR Energy, Inc., through its subsidiaries, en...</td>\n",
       "    </tr>\n",
       "    <tr>\n",
       "      <th>...</th>\n",
       "      <td>...</td>\n",
       "      <td>...</td>\n",
       "      <td>...</td>\n",
       "      <td>...</td>\n",
       "      <td>...</td>\n",
       "      <td>...</td>\n",
       "    </tr>\n",
       "    <tr>\n",
       "      <th>5847</th>\n",
       "      <td>ADNT</td>\n",
       "      <td>Adient plc</td>\n",
       "      <td>1670541</td>\n",
       "      <td>Adient plc</td>\n",
       "      <td>Adient plc is an automotive seating supplier t...</td>\n",
       "      <td>Adient plc designs, manufactures, and markets ...</td>\n",
       "    </tr>\n",
       "    <tr>\n",
       "      <th>5848</th>\n",
       "      <td>INSW</td>\n",
       "      <td>International Seaways Inc</td>\n",
       "      <td>1679049</td>\n",
       "      <td>International Seaways, Inc.</td>\n",
       "      <td>International Seaways, Inc. operates a fleet o...</td>\n",
       "      <td>International Seaways, Inc. owns and operates ...</td>\n",
       "    </tr>\n",
       "    <tr>\n",
       "      <th>5849</th>\n",
       "      <td>WSRC</td>\n",
       "      <td>Western Sierra Resource Corp</td>\n",
       "      <td>42050</td>\n",
       "      <td>WESTERN SIERRA MINING CORP</td>\n",
       "      <td>Western Sierra Resource Corporation engages in...</td>\n",
       "      <td>Western Sierra Resource Corporation engages in...</td>\n",
       "    </tr>\n",
       "    <tr>\n",
       "      <th>5850</th>\n",
       "      <td>ATRX</td>\n",
       "      <td>Adhera Therapeutics Inc</td>\n",
       "      <td>737207</td>\n",
       "      <td>Marina Biotech, Inc.</td>\n",
       "      <td>Adhera Therapeutics, Inc., a biopharmaceutical...</td>\n",
       "      <td>Adhera Therapeutics, Inc., a biopharmaceutical...</td>\n",
       "    </tr>\n",
       "    <tr>\n",
       "      <th>5851</th>\n",
       "      <td>WSCRF</td>\n",
       "      <td>North American Nickel Inc</td>\n",
       "      <td>795800</td>\n",
       "      <td>North American Nickel Inc.</td>\n",
       "      <td>NaN</td>\n",
       "      <td>Nuveen New York Quality Municipal Income Fund ...</td>\n",
       "    </tr>\n",
       "  </tbody>\n",
       "</table>\n",
       "<p>5852 rows × 6 columns</p>\n",
       "</div>"
      ],
      "text/plain": [
       "     ticker                             name      cik  \\\n",
       "0       EPR                   EPR Properties  1045450   \n",
       "1      SAVE              Spirit Airlines Inc  1498710   \n",
       "2      CPTA            Capitala Finance Corp  1571329   \n",
       "3       OII  Oceaneering International, Inc.    73756   \n",
       "4       CVI                   CVR Energy Inc  1376139   \n",
       "...     ...                              ...      ...   \n",
       "5847   ADNT                       Adient plc  1670541   \n",
       "5848   INSW        International Seaways Inc  1679049   \n",
       "5849   WSRC     Western Sierra Resource Corp    42050   \n",
       "5850   ATRX          Adhera Therapeutics Inc   737207   \n",
       "5851  WSCRF        North American Nickel Inc   795800   \n",
       "\n",
       "                         legal_name  \\\n",
       "0                    EPR PROPERTIES   \n",
       "1             Spirit Airlines, Inc.   \n",
       "2            Capitala Finance Corp.   \n",
       "3     OCEANEERING INTERNATIONAL INC   \n",
       "4                    CVR ENERGY INC   \n",
       "...                             ...   \n",
       "5847                     Adient plc   \n",
       "5848    International Seaways, Inc.   \n",
       "5849     WESTERN SIERRA MINING CORP   \n",
       "5850           Marina Biotech, Inc.   \n",
       "5851     North American Nickel Inc.   \n",
       "\n",
       "                                      short_description  \\\n",
       "0     EPR Properties is a real estate investment tru...   \n",
       "1     Spirit Airlines, Inc. is an ultra low-cost, lo...   \n",
       "2                                                   NaN   \n",
       "3     Oceaneering International, Inc. provides engin...   \n",
       "4     CVR Energy, Inc. engages in the provision of e...   \n",
       "...                                                 ...   \n",
       "5847  Adient plc is an automotive seating supplier t...   \n",
       "5848  International Seaways, Inc. operates a fleet o...   \n",
       "5849  Western Sierra Resource Corporation engages in...   \n",
       "5850  Adhera Therapeutics, Inc., a biopharmaceutical...   \n",
       "5851                                                NaN   \n",
       "\n",
       "                                       long_description  \n",
       "0     EPR Properties is a real estate investment tru...  \n",
       "1     Spirit Airlines, Inc. provides low-fare airlin...  \n",
       "2                                                   NaN  \n",
       "3     Oceaneering International, Inc. provides engin...  \n",
       "4     CVR Energy, Inc., through its subsidiaries, en...  \n",
       "...                                                 ...  \n",
       "5847  Adient plc designs, manufactures, and markets ...  \n",
       "5848  International Seaways, Inc. owns and operates ...  \n",
       "5849  Western Sierra Resource Corporation engages in...  \n",
       "5850  Adhera Therapeutics, Inc., a biopharmaceutical...  \n",
       "5851  Nuveen New York Quality Municipal Income Fund ...  \n",
       "\n",
       "[5852 rows x 6 columns]"
      ]
     },
     "execution_count": 12,
     "metadata": {},
     "output_type": "execute_result"
    }
   ],
   "source": [
    "df = pd.read_csv(\"data-1596200464136.csv\")\n",
    "df"
   ]
  },
  {
   "cell_type": "code",
   "execution_count": 13,
   "metadata": {},
   "outputs": [],
   "source": [
    "def tags_pred(x):\n",
    "    if type(x) == str:\n",
    "        return predict(stringConverter(x, use_mister_proper=True), argsTags)"
   ]
  },
  {
   "cell_type": "code",
   "execution_count": 14,
   "metadata": {},
   "outputs": [
    {
     "name": "stderr",
     "output_type": "stream",
     "text": [
      "100%|██████████| 5852/5852 [05:36<00:00, 17.38it/s] \n"
     ]
    }
   ],
   "source": [
    "df[\"categories\"] = df[\"long_description\"].progress_apply(lambda x: tags_pred(x))"
   ]
  },
  {
   "cell_type": "code",
   "execution_count": 15,
   "metadata": {},
   "outputs": [],
   "source": [
    "import pickle\n",
    "pickle.dump( df, open( \"comps-categories.p\", \"wb\" ) )"
   ]
  },
  {
   "cell_type": "code",
   "execution_count": 41,
   "metadata": {},
   "outputs": [],
   "source": [
    "df.to_excel(\"comps-categories.xlsx\")"
   ]
  },
  {
   "cell_type": "code",
   "execution_count": null,
   "metadata": {},
   "outputs": [],
   "source": []
  },
  {
   "cell_type": "code",
   "execution_count": null,
   "metadata": {},
   "outputs": [],
   "source": []
  },
  {
   "cell_type": "code",
   "execution_count": null,
   "metadata": {},
   "outputs": [],
   "source": []
  },
  {
   "cell_type": "code",
   "execution_count": 10,
   "metadata": {},
   "outputs": [
    {
     "name": "stderr",
     "output_type": "stream",
     "text": [
      "/home/ubuntu/anaconda3/lib/python3.7/site-packages/ipykernel_launcher.py:4: DeprecationWarning: count is deprecated. Use Collection.count_documents instead.\n",
      "  after removing the cwd from sys.path.\n"
     ]
    },
    {
     "data": {
      "text/plain": [
       "2529"
      ]
     },
     "execution_count": 10,
     "metadata": {},
     "output_type": "execute_result"
    }
   ],
   "source": [
    "db_client[\"tweets_pipeline_v2\"].find({\n",
    "                                    \"status\": \"graphicone_feed\",\n",
    "                                    \"extracted_text\": {\"$exists\": True},                                               \n",
    "                                      }, no_cursor_timeout=True).count()"
   ]
  },
  {
   "cell_type": "code",
   "execution_count": null,
   "metadata": {},
   "outputs": [],
   "source": []
  }
 ],
 "metadata": {
  "kernelspec": {
   "display_name": "Python 3",
   "language": "python",
   "name": "python3"
  },
  "language_info": {
   "codemirror_mode": {
    "name": "ipython",
    "version": 3
   },
   "file_extension": ".py",
   "mimetype": "text/x-python",
   "name": "python",
   "nbconvert_exporter": "python",
   "pygments_lexer": "ipython3",
   "version": "3.7.3"
  }
 },
 "nbformat": 4,
 "nbformat_minor": 2
}
