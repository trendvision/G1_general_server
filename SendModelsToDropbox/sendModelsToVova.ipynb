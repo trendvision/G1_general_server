{
 "cells": [
  {
   "cell_type": "code",
   "execution_count": 1,
   "metadata": {},
   "outputs": [
    {
     "name": "stdout",
     "output_type": "stream",
     "text": [
      "  adding: GutenTag/ (stored 0%)\n",
      "  adding: GutenTag/models/ (stored 0%)\n",
      "  adding: GutenTag/models/GutenTag.pkl (deflated 8%)\n",
      "  adding: GutenTag/models/labels.csv (deflated 51%)\n",
      "  adding: GutenTag/.ipynb_checkpoints/ (stored 0%)\n",
      "  adding: GutenTag/.ipynb_checkpoints/ChangeDBTags-checkpoint.ipynb (deflated 76%)\n",
      "  adding: GutenTag/.ipynb_checkpoints/downloadGutenTagDropbox-checkpoint.ipynb (deflated 21%)\n",
      "  adding: GutenTag/tagger.py (deflated 63%)\n",
      "  adding: GutenTag/__pycache__/ (stored 0%)\n",
      "  adding: GutenTag/__pycache__/tagger.cpython-37.pyc (deflated 43%)\n",
      "  adding: GutenTag/downloadGutenTagDropbox.ipynb (deflated 53%)\n",
      "  adding: GutenTag/ChangeDBTags.ipynb (deflated 76%)\n",
      "  adding: GutenTrash/ (stored 0%)\n",
      "  adding: GutenTrash/models/ (stored 0%)\n",
      "  adding: GutenTrash/models/GutenTrash.pkl (deflated 8%)\n",
      "  adding: GutenTrash/models/labels.csv (stored 0%)\n",
      "  adding: GutenTrash/.ipynb_checkpoints/ (stored 0%)\n",
      "  adding: GutenTrash/.ipynb_checkpoints/PredictFullMongoDB-checkpoint.ipynb (deflated 78%)\n",
      "  adding: GutenTrash/.ipynb_checkpoints/downloadModel-checkpoint.ipynb (deflated 53%)\n",
      "  adding: GutenTrash/tagger.py (deflated 65%)\n",
      "  adding: GutenTrash/__pycache__/ (stored 0%)\n",
      "  adding: GutenTrash/__pycache__/tagger.cpython-37.pyc (deflated 43%)\n",
      "  adding: GutenTrash/PredictFullMongoDB.ipynb (deflated 91%)\n",
      "  adding: GutenTrash/downloadModel.ipynb (deflated 66%)\n"
     ]
    }
   ],
   "source": [
    "!zip -r GutenTag.zip GutenTag\n",
    "!zip -r GutenTrash.zip GutenTrash"
   ]
  },
  {
   "cell_type": "code",
   "execution_count": 6,
   "metadata": {},
   "outputs": [],
   "source": [
    "import dropbox\n",
    "access_token = '7wYL8EDqrSAAAAAAAAAjFKIa8fjneyf3Z6xIHPeK6N09ZyGZrVjY4RZGQPSajNY-'"
   ]
  },
  {
   "cell_type": "code",
   "execution_count": 7,
   "metadata": {},
   "outputs": [],
   "source": [
    "def upload(\n",
    "    file_path,\n",
    "    target_path):\n",
    "    chunk_size=4 * 1024 * 1024\n",
    "    timeout=900\n",
    "    access_token = '7wYL8EDqrSAAAAAAAAAjFKIa8fjneyf3Z6xIHPeK6N09ZyGZrVjY4RZGQPSajNY-'\n",
    "    dbx = dropbox.Dropbox(access_token, timeout=timeout)\n",
    "    with open(file_path, \"rb\") as f:\n",
    "        file_size = os.path.getsize(file_path)\n",
    "        chunk_size = 4 * 1024 * 1024\n",
    "        if file_size <= chunk_size:\n",
    "            print(dbx.files_upload(f, target_path))\n",
    "        else:\n",
    "            with tqdm(total=file_size, desc=\"Uploaded\") as pbar:\n",
    "                upload_session_start_result = dbx.files_upload_session_start(\n",
    "                    f.read(chunk_size)\n",
    "                )\n",
    "                pbar.update(chunk_size)\n",
    "                cursor = dropbox.files.UploadSessionCursor(\n",
    "                    session_id=upload_session_start_result.session_id,\n",
    "                    offset=f.tell(),\n",
    "                )\n",
    "                commit = dropbox.files.CommitInfo(path=target_path)\n",
    "                while f.tell() < file_size:\n",
    "                    if (file_size - f.tell()) <= chunk_size:\n",
    "                        print(\n",
    "                            dbx.files_upload_session_finish(\n",
    "                                f.read(chunk_size), cursor, commit\n",
    "                            )\n",
    "                        )\n",
    "                    else:\n",
    "                        dbx.files_upload_session_append(\n",
    "                            f.read(chunk_size),\n",
    "                            cursor.session_id,\n",
    "                            cursor.offset,\n",
    "                        )\n",
    "                        cursor.offset = f.tell()\n",
    "                    pbar.update(chunk_size)"
   ]
  },
  {
   "cell_type": "code",
   "execution_count": 9,
   "metadata": {},
   "outputs": [],
   "source": [
    "import os\n",
    "from tqdm import tqdm"
   ]
  },
  {
   "cell_type": "code",
   "execution_count": 12,
   "metadata": {},
   "outputs": [
    {
     "name": "stderr",
     "output_type": "stream",
     "text": [
      "Uploaded: 406847488it [01:43, 3719450.27it/s]                               "
     ]
    },
    {
     "name": "stdout",
     "output_type": "stream",
     "text": [
      "FileMetadata(name='GutenTag.zip', id='id:-Y4ePi3oiZAAAAAAAAN_mg', client_modified=datetime.datetime(2020, 2, 14, 14, 43, 39), server_modified=datetime.datetime(2020, 2, 14, 14, 43, 39), rev='0159e8a3b3561ea00000001965752c0', size=406415345, path_lower='/graphic.one/conveoyr/models/v2/gutentag.zip', path_display='/Graphic.one/Conveoyr/models/v2/GutenTag.zip', parent_shared_folder_id='6817272512', media_info=None, symlink_info=None, sharing_info=FileSharingInfo(read_only=False, parent_shared_folder_id='6817272512', modified_by='dbid:AABmCuXAyItIx-2z4P3ETEKOHjI7RrF84HM'), is_downloadable=True, export_info=None, property_groups=None, has_explicit_shared_members=None, content_hash='63c15de6d2e1df23cedb4c1499b715d8e91aa3338bfc6b6295016594c53a9bc3')\n"
     ]
    },
    {
     "name": "stderr",
     "output_type": "stream",
     "text": [
      "\n"
     ]
    }
   ],
   "source": [
    "file_name = \"GutenTag.zip\"\n",
    "\n",
    "file_path = \"\" + file_name\n",
    "target_path = \"/graphic.one/Conveoyr/models/v2/\"+file_name\n",
    "\n",
    "upload(file_path, target_path)"
   ]
  },
  {
   "cell_type": "code",
   "execution_count": 13,
   "metadata": {},
   "outputs": [
    {
     "name": "stderr",
     "output_type": "stream",
     "text": [
      "Uploaded: 406847488it [01:42, 3409905.17it/s]                               "
     ]
    },
    {
     "name": "stdout",
     "output_type": "stream",
     "text": [
      "FileMetadata(name='GutenTrash.zip', id='id:-Y4ePi3oiZAAAAAAAAN_nA', client_modified=datetime.datetime(2020, 2, 14, 14, 45, 22), server_modified=datetime.datetime(2020, 2, 14, 14, 45, 22), rev='0159e8a4153e25e00000001965752c0', size=406063236, path_lower='/graphic.one/conveoyr/models/v2/gutentrash.zip', path_display='/Graphic.one/Conveoyr/models/v2/GutenTrash.zip', parent_shared_folder_id='6817272512', media_info=None, symlink_info=None, sharing_info=FileSharingInfo(read_only=False, parent_shared_folder_id='6817272512', modified_by='dbid:AABmCuXAyItIx-2z4P3ETEKOHjI7RrF84HM'), is_downloadable=True, export_info=None, property_groups=None, has_explicit_shared_members=None, content_hash='7d70d498ab98f78c466183511414f79eb3f34538391b5b69e5bec98d061464be')\n"
     ]
    },
    {
     "name": "stderr",
     "output_type": "stream",
     "text": [
      "\n"
     ]
    }
   ],
   "source": [
    "file_name = \"GutenTrash.zip\"\n",
    "\n",
    "file_path = \"\" + file_name\n",
    "target_path = \"/graphic.one/Conveoyr/models/v2/\"+file_name\n",
    "\n",
    "\n",
    "\n",
    "\n",
    "UploadDropbox.upload(file_path, target_path)"
   ]
  },
  {
   "cell_type": "code",
   "execution_count": null,
   "metadata": {},
   "outputs": [],
   "source": []
  }
 ],
 "metadata": {
  "kernelspec": {
   "display_name": "Python 3",
   "language": "python",
   "name": "python3"
  },
  "language_info": {
   "codemirror_mode": {
    "name": "ipython",
    "version": 3
   },
   "file_extension": ".py",
   "mimetype": "text/x-python",
   "name": "python",
   "nbconvert_exporter": "python",
   "pygments_lexer": "ipython3",
   "version": "3.7.3"
  }
 },
 "nbformat": 4,
 "nbformat_minor": 2
}
