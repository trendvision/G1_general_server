{
 "cells": [
  {
   "cell_type": "code",
   "execution_count": 1,
   "metadata": {},
   "outputs": [],
   "source": [
    "import nltk\n",
    "import warnings\n",
    "warnings.filterwarnings(\"ignore\")\n",
    "from IPython.display import Image \n",
    "from IPython.core.display import Image, display\n",
    "from collections import Counter\n",
    "import pandas as pd\n",
    "from sklearn.model_selection import train_test_split\n",
    "from sklearn.preprocessing import MultiLabelBinarizer\n",
    "import pymongo\n",
    "import bson\n",
    "import matplotlib.pyplot as plt\n",
    "import matplotlib\n",
    "from tqdm import tqdm\n",
    "import re\n",
    "import os\n",
    "import random\n",
    "from itertools import permutations\n",
    "from nltk.tokenize import sent_tokenize, word_tokenize\n",
    "username = \"tagger-admin\"\n",
    "password = \"tvaiadmin\"\n",
    "db_client = pymongo.MongoClient('104.198.62.226', username=username,\n",
    "                                password=password,\n",
    "                                authSource='tags',\n",
    "                                authMechanism='SCRAM-SHA-256', port=27017).tags\n",
    "import itertools\n",
    "import aerospike\n",
    "import pickle\n",
    "from datetime import datetime\n",
    "from collections import Counter\n",
    "config = {\n",
    "    'hosts': [('35.228.136.58', 3000)]\n",
    "}\n",
    "import requests\n",
    "client = aerospike.client(config).connect()\n",
    "data_as_key = (\"ids_to_validate\", \"data\", \"data\")"
   ]
  },
  {
   "cell_type": "code",
   "execution_count": 2,
   "metadata": {},
   "outputs": [],
   "source": [
    "def deleted(bson_id):\n",
    "#     print(bson_id)\n",
    "    print(\"BEFORE:\", db_client[\"tweets_pipeline_v2\"].find_one({\"_id\":bson.ObjectId(bson_id)})[\"status\"])\n",
    "    db_client[\"tweets_pipeline_v2\"].update_one({\"_id\":bson.ObjectId(bson_id)},\n",
    "                                        {\"$set\":{\"status\":\"deleted\"}})\n",
    "    print(\"AFTER:\", db_client[\"tweets_pipeline_v2\"].find_one({\"_id\":bson.ObjectId(bson_id)})[\"status\"])"
   ]
  },
  {
   "cell_type": "code",
   "execution_count": 3,
   "metadata": {},
   "outputs": [
    {
     "name": "stdout",
     "output_type": "stream",
     "text": [
      "BEFORE: graphicone_search\n",
      "AFTER: deleted\n"
     ]
    }
   ],
   "source": [
    "deleted(\"5f00e9e7dead80141997b1bc\")"
   ]
  },
  {
   "cell_type": "code",
   "execution_count": null,
   "metadata": {},
   "outputs": [],
   "source": []
  },
  {
   "cell_type": "code",
   "execution_count": null,
   "metadata": {},
   "outputs": [],
   "source": []
  },
  {
   "cell_type": "code",
   "execution_count": null,
   "metadata": {},
   "outputs": [],
   "source": []
  },
  {
   "cell_type": "code",
   "execution_count": null,
   "metadata": {},
   "outputs": [],
   "source": []
  },
  {
   "cell_type": "code",
   "execution_count": null,
   "metadata": {},
   "outputs": [],
   "source": []
  },
  {
   "cell_type": "code",
   "execution_count": null,
   "metadata": {},
   "outputs": [],
   "source": []
  },
  {
   "cell_type": "code",
   "execution_count": null,
   "metadata": {},
   "outputs": [],
   "source": []
  },
  {
   "cell_type": "code",
   "execution_count": null,
   "metadata": {},
   "outputs": [],
   "source": []
  },
  {
   "cell_type": "code",
   "execution_count": null,
   "metadata": {},
   "outputs": [],
   "source": []
  },
  {
   "cell_type": "code",
   "execution_count": null,
   "metadata": {},
   "outputs": [],
   "source": []
  },
  {
   "cell_type": "code",
   "execution_count": null,
   "metadata": {},
   "outputs": [],
   "source": []
  },
  {
   "cell_type": "code",
   "execution_count": null,
   "metadata": {},
   "outputs": [],
   "source": []
  },
  {
   "cell_type": "code",
   "execution_count": null,
   "metadata": {},
   "outputs": [],
   "source": []
  },
  {
   "cell_type": "code",
   "execution_count": null,
   "metadata": {},
   "outputs": [],
   "source": []
  },
  {
   "cell_type": "code",
   "execution_count": null,
   "metadata": {},
   "outputs": [],
   "source": []
  }
 ],
 "metadata": {
  "kernelspec": {
   "display_name": "Python 3",
   "language": "python",
   "name": "python3"
  },
  "language_info": {
   "codemirror_mode": {
    "name": "ipython",
    "version": 3
   },
   "file_extension": ".py",
   "mimetype": "text/x-python",
   "name": "python",
   "nbconvert_exporter": "python",
   "pygments_lexer": "ipython3",
   "version": "3.7.3"
  }
 },
 "nbformat": 4,
 "nbformat_minor": 2
}
