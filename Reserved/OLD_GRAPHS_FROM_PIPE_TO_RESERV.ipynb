{
 "cells": [
  {
   "cell_type": "code",
   "execution_count": 5,
   "metadata": {},
   "outputs": [],
   "source": [
    "import warnings\n",
    "warnings.filterwarnings(\"ignore\")\n",
    "\n",
    "\n",
    "import pandas as pd\n",
    "from datetime import datetime\n",
    "from collections import Counter\n",
    "from itertools import permutations\n",
    "\n",
    "from tqdm import tqdm\n",
    "\n",
    "import time\n",
    "import pymongo\n",
    "import bson\n",
    "username = \"tagger-admin\"\n",
    "password = \"tvaiadmin\"\n",
    "db_client = pymongo.MongoClient('104.198.62.226', username=username,\n",
    "                                password=password,\n",
    "                                authSource='tags',\n",
    "                                authMechanism='SCRAM-SHA-256', port=27017).tags"
   ]
  },
  {
   "cell_type": "code",
   "execution_count": 8,
   "metadata": {},
   "outputs": [
    {
     "data": {
      "text/plain": [
       "Counter({2020: 2506,\n",
       "         2016: 196,\n",
       "         2017: 231,\n",
       "         2019: 224,\n",
       "         2018: 238,\n",
       "         2015: 169,\n",
       "         2014: 94,\n",
       "         2012: 4,\n",
       "         2013: 15})"
      ]
     },
     "execution_count": 8,
     "metadata": {},
     "output_type": "execute_result"
    }
   ],
   "source": [
    "year_collector = []\n",
    "for i in db_client[\"tweets_pipeline_v2\"].find({\"status\": \"pipelined\"}):\n",
    "    if \"tweet_timestamp\" in i:\n",
    "        year_collector.append(i[\"tweet_timestamp\"].year)\n",
    "Counter(year_collector)"
   ]
  },
  {
   "cell_type": "code",
   "execution_count": 7,
   "metadata": {},
   "outputs": [],
   "source": [
    "def to_reserved(_id):    \n",
    "    db_client[\"tweets_pipeline_v2\"].update_one({\"_id\":bson.ObjectId(_id)},\n",
    "                                    {\"$set\":{\"status\":\"reserved\"},\n",
    "                                    })"
   ]
  },
  {
   "cell_type": "code",
   "execution_count": null,
   "metadata": {},
   "outputs": [],
   "source": []
  },
  {
   "cell_type": "code",
   "execution_count": 8,
   "metadata": {
    "scrolled": true
   },
   "outputs": [
    {
     "name": "stdout",
     "output_type": "stream",
     "text": [
      "TOTAL: 5048\n",
      "SEND TO RESERVE: 2084\n",
      "\n"
     ]
    },
    {
     "ename": "KeyboardInterrupt",
     "evalue": "",
     "output_type": "error",
     "traceback": [
      "\u001b[0;31m---------------------------------------------------------------------------\u001b[0m",
      "\u001b[0;31mKeyboardInterrupt\u001b[0m                         Traceback (most recent call last)",
      "\u001b[0;32m<ipython-input-8-bfcd782af06c>\u001b[0m in \u001b[0;36m<module>\u001b[0;34m\u001b[0m\n\u001b[1;32m     10\u001b[0m     \u001b[0mprint\u001b[0m\u001b[0;34m(\u001b[0m\u001b[0;34m\"SEND TO RESERVE:\"\u001b[0m\u001b[0;34m,\u001b[0m \u001b[0mcounter\u001b[0m\u001b[0;34m)\u001b[0m\u001b[0;34m\u001b[0m\u001b[0;34m\u001b[0m\u001b[0m\n\u001b[1;32m     11\u001b[0m     \u001b[0mprint\u001b[0m\u001b[0;34m(\u001b[0m\u001b[0;34m)\u001b[0m\u001b[0;34m\u001b[0m\u001b[0;34m\u001b[0m\u001b[0m\n\u001b[0;32m---> 12\u001b[0;31m     \u001b[0mtime\u001b[0m\u001b[0;34m.\u001b[0m\u001b[0msleep\u001b[0m\u001b[0;34m(\u001b[0m\u001b[0;36m120\u001b[0m\u001b[0;34m)\u001b[0m\u001b[0;34m\u001b[0m\u001b[0;34m\u001b[0m\u001b[0m\n\u001b[0m",
      "\u001b[0;31mKeyboardInterrupt\u001b[0m: "
     ]
    }
   ],
   "source": [
    "while True:\n",
    "    db = db_client[\"tweets_pipeline_v2\"].find({\"status\": \"pipelined\"})\n",
    "    print(\"TOTAL:\",db.count())\n",
    "    counter = 0\n",
    "    for i in db:\n",
    "        if \"tweet_timestamp\" in i and i[\"tweet_timestamp\"].year < 2020:\n",
    "            _id = str(i[\"_id\"])\n",
    "            to_reserved(_id)\n",
    "            counter+=1\n",
    "    print(\"SEND TO RESERVE:\", counter)        \n",
    "    print()\n",
    "    time.sleep(120)    "
   ]
  },
  {
   "cell_type": "code",
   "execution_count": 10,
   "metadata": {},
   "outputs": [],
   "source": [
    "from collections import Counter"
   ]
  },
  {
   "cell_type": "code",
   "execution_count": null,
   "metadata": {},
   "outputs": [],
   "source": []
  },
  {
   "cell_type": "code",
   "execution_count": 20,
   "metadata": {
    "scrolled": false
   },
   "outputs": [],
   "source": [
    "results_dict = {}\n",
    "statuses = [\"pipelined\", 'deleted', \"validated\", 'graphicone_search', 'graphicone_feed', 'deleted_from_analytics']\n",
    "for status in statuses:\n",
    "    souce_counter = []\n",
    "    for i in db_client[\"tweets_pipeline_v2\"].find({\"status\": status, \"source\": {\"$exists\": True}}):\n",
    "        souce_counter.append(i[\"source\"])\n",
    "    results_dict[status] = dict(Counter(souce_counter))"
   ]
  },
  {
   "cell_type": "code",
   "execution_count": 21,
   "metadata": {},
   "outputs": [
    {
     "data": {
      "text/plain": [
       "{'pipelined': {'twitter': 936, 'instagram': 18, 'bing': 985},\n",
       " 'deleted': {'twitter': 18389, 'google': 687, 'pdf': 1, 'instagram': 13},\n",
       " 'validated': {'twitter': 422},\n",
       " 'graphicone_search': {'google': 16, 'twitter': 2581, 'instagram': 18},\n",
       " 'graphicone_feed': {'twitter': 548, 'instagram': 12},\n",
       " 'deleted_from_analytics': {'twitter': 334, 'pdf': 1, 'instagram': 3}}"
      ]
     },
     "execution_count": 21,
     "metadata": {},
     "output_type": "execute_result"
    }
   ],
   "source": [
    "results_dict"
   ]
  },
  {
   "cell_type": "code",
   "execution_count": null,
   "metadata": {},
   "outputs": [],
   "source": []
  },
  {
   "cell_type": "code",
   "execution_count": null,
   "metadata": {},
   "outputs": [],
   "source": []
  },
  {
   "cell_type": "code",
   "execution_count": null,
   "metadata": {},
   "outputs": [],
   "source": []
  },
  {
   "cell_type": "code",
   "execution_count": null,
   "metadata": {},
   "outputs": [],
   "source": []
  },
  {
   "cell_type": "code",
   "execution_count": 1,
   "metadata": {},
   "outputs": [],
   "source": [
    "def to_pipelined(_id):    \n",
    "    db_client[\"tweets_pipeline_v2\"].update_one({\"_id\":bson.ObjectId(_id)},\n",
    "                                    {\"$set\":{\"status\":\"pipelined\"},\n",
    "                                    })"
   ]
  },
  {
   "cell_type": "code",
   "execution_count": 13,
   "metadata": {},
   "outputs": [
    {
     "name": "stdout",
     "output_type": "stream",
     "text": [
      "TOTAL: 10966\n",
      "5dd1225502b5db85cf30ce70\n"
     ]
    }
   ],
   "source": [
    "while True:\n",
    "    db = db_client[\"tweets_pipeline_v2\"].find({\"status\": \"reserved\"})\n",
    "    print(\"TOTAL:\",db.count())\n",
    "    counter = 0\n",
    "    for i in db:\n",
    "        if \"tweet_timestamp\" in i and i[\"tweet_timestamp\"].year < 2020:\n",
    "            _id = str(i[\"_id\"])\n",
    "            print(_id)\n",
    "            break\n",
    "    break\n",
    "#             to_reserved(_id)\n",
    "#             counter+=1\n",
    "#     print(\"SEND TO RESERVE:\", counter)        \n",
    "#     print()\n",
    "#     time.sleep(120)"
   ]
  },
  {
   "cell_type": "code",
   "execution_count": null,
   "metadata": {},
   "outputs": [],
   "source": []
  },
  {
   "cell_type": "code",
   "execution_count": 20,
   "metadata": {},
   "outputs": [
    {
     "name": "stdout",
     "output_type": "stream",
     "text": [
      "TOTAL: 10881\n"
     ]
    }
   ],
   "source": [
    "db = db_client[\"tweets_pipeline_v2\"].find({\"status\": \"reserved\"})\n",
    "print(\"TOTAL:\",db.count())\n",
    "counter = 0\n",
    "for i in db:\n",
    "    if \"tweet_timestamp\" in i and i[\"tweet_timestamp\"].year == 2019 and i[\"tweet_timestamp\"].month == 10:\n",
    "        _id = str(i[\"_id\"])\n",
    "        to_pipelined(_id)"
   ]
  },
  {
   "cell_type": "code",
   "execution_count": null,
   "metadata": {},
   "outputs": [],
   "source": []
  },
  {
   "cell_type": "code",
   "execution_count": 90,
   "metadata": {},
   "outputs": [
    {
     "name": "stdout",
     "output_type": "stream",
     "text": [
      "0\n"
     ]
    }
   ],
   "source": [
    "counter = 0\n",
    "for i in db_client[\"tweets_pipeline_v2\"].find({\"status\": \"url-clone\", \n",
    "                                               \"grafeed_approver\":{\"$exists\": True},\n",
    "                                               \"validator_username\":{\"$exists\": True}\n",
    "                                              }):\n",
    "    counter +=1\n",
    "#     if i[\"validator_username\"] and i[\"grafeed_approver\"]:\n",
    "        \n",
    "#         print(i)\n",
    "#         break\n",
    "print(counter)"
   ]
  },
  {
   "cell_type": "code",
   "execution_count": 89,
   "metadata": {},
   "outputs": [
    {
     "name": "stdout",
     "output_type": "stream",
     "text": [
      "0\n"
     ]
    }
   ],
   "source": [
    "counter = 0\n",
    "for i in db_client[\"tweets_pipeline_v2\"].find({\"status\": \"url-clone\", \n",
    "                                               \"grafeed_approver\": {\"$exists\": True},\n",
    "                                               \"validator_username\":{\"$exists\": True},\n",
    "                                               'grafeed_confirmed': {\"$exists\": True},\n",
    "                                              }):\n",
    "    counter +=1\n",
    "#     if i[\"validator_username\"] and i[\"grafeed_approver\"]:\n",
    "        \n",
    "#         print(i)\n",
    "#         break\n",
    "print(counter)"
   ]
  },
  {
   "cell_type": "code",
   "execution_count": 56,
   "metadata": {
    "scrolled": true
   },
   "outputs": [
    {
     "name": "stdout",
     "output_type": "stream",
     "text": [
      "0\n"
     ]
    }
   ],
   "source": [
    "counter = 0\n",
    "for i in db_client[\"tweets_pipeline_v2\"].find({\"status\": \"url-clone\", \n",
    "                                               \"grafeed_approver\": {\"$exists\": True},\n",
    "                                               \"validator_username\":{\"$exists\": True},\n",
    "                                               'grafeed_confirmed': {\"$exists\": True},\n",
    "                                               \"in_app\":  {\"$exists\": True},\n",
    "                                              }):\n",
    "    counter +=1\n",
    "#     if i[\"validator_username\"] and i[\"grafeed_approver\"]:\n",
    "        \n",
    "#     print(i)\n",
    "#     break\n",
    "print(counter)"
   ]
  },
  {
   "cell_type": "code",
   "execution_count": null,
   "metadata": {},
   "outputs": [],
   "source": []
  },
  {
   "cell_type": "code",
   "execution_count": 87,
   "metadata": {
    "scrolled": true
   },
   "outputs": [
    {
     "data": {
      "text/plain": [
       "0"
      ]
     },
     "execution_count": 87,
     "metadata": {},
     "output_type": "execute_result"
    }
   ],
   "source": [
    "counter = 0\n",
    "for i in db_client[\"tweets_pipeline_v2\"].find({\"status\": \"url-clone\",\n",
    "                                               \"grafeed_approver\": {\"$exists\": True},\n",
    "                                               'grafeed_confirmed': {\"$exists\": True},\n",
    "#                                                \"$or\": [{\"grafeed_approver\": {\"$exists\": True}}, \n",
    "# #                                                        {\"validator_username\": {\"$exists\": True}},\n",
    "#                                                        {'grafeed_confirmed': {\"$exists\": True}},            \n",
    "#                                                        ]\n",
    "                                              }):\n",
    "    counter += 1\n",
    "#     to_search(i[\"_id\"])\n",
    "#     print(i)\n",
    "#     print()\n",
    "counter"
   ]
  },
  {
   "cell_type": "code",
   "execution_count": 88,
   "metadata": {},
   "outputs": [
    {
     "data": {
      "text/plain": [
       "0"
      ]
     },
     "execution_count": 88,
     "metadata": {},
     "output_type": "execute_result"
    }
   ],
   "source": [
    "counter = 0\n",
    "for i in db_client[\"tweets_pipeline_v2\"].find({\"status\": \"url-clone\",\n",
    "                                               \"grafeed_approver\": {\"$exists\": True},\n",
    "                                               'grafeed_confirmed': {\"$exists\": False},\n",
    "#                                                'grafeed_confirmed': {\"$exists\": True},\n",
    "#                                                \"$or\": [{\"grafeed_approver\": {\"$exists\": True}}, \n",
    "# #                                                        {\"validator_username\": {\"$exists\": True}},\n",
    "#                                                        {'grafeed_confirmed': {\"$exists\": True}},            \n",
    "#                                                        ]\n",
    "                                              }):\n",
    "    counter += 1\n",
    "#     to_deleted_analytics(i[\"_id\"])\n",
    "#     print(i)\n",
    "#     print()\n",
    "counter"
   ]
  },
  {
   "cell_type": "code",
   "execution_count": null,
   "metadata": {},
   "outputs": [],
   "source": []
  },
  {
   "cell_type": "code",
   "execution_count": 77,
   "metadata": {},
   "outputs": [],
   "source": [
    "def to_deleted_analytics(_id):    \n",
    "    db_client[\"tweets_pipeline_v2\"].update_one({\"_id\":bson.ObjectId(_id)},\n",
    "                                    {\"$set\":{\"status\":\"deleted_from_analytics\",\n",
    "                                            \"recovering\": True},\n",
    "                                    })"
   ]
  },
  {
   "cell_type": "code",
   "execution_count": 83,
   "metadata": {},
   "outputs": [],
   "source": [
    "def to_search(_id):    \n",
    "    db_client[\"tweets_pipeline_v2\"].update_one({\"_id\":bson.ObjectId(_id)},\n",
    "                                    {\"$set\":{\"status\":\"graphicone_search\",\n",
    "                                            \"recovering\": True},\n",
    "                                    })"
   ]
  },
  {
   "cell_type": "code",
   "execution_count": 45,
   "metadata": {},
   "outputs": [],
   "source": [
    "def to_feed(_id):    \n",
    "    db_client[\"tweets_pipeline_v2\"].update_one({\"_id\":bson.ObjectId(_id)},\n",
    "                                    {\"$set\":{\"status\":\"graphicone_feed\"},\n",
    "                                    })"
   ]
  },
  {
   "cell_type": "code",
   "execution_count": 47,
   "metadata": {},
   "outputs": [
    {
     "data": {
      "text/plain": [
       "0"
      ]
     },
     "execution_count": 47,
     "metadata": {},
     "output_type": "execute_result"
    }
   ],
   "source": [
    "counter = 0\n",
    "for i in db_client[\"tweets_pipeline_v2\"].find({\"status\": \"url-clone\",\n",
    "                                               \"in_app\":  {\"$exists\": True},\n",
    "                                               \"$or\": [{\"grafeed_approver\": {\"$exists\": True}}, \n",
    "#                                                        {\"validator_username\": {\"$exists\": True}},\n",
    "                                                       {'grafeed_confirmed': {\"$exists\": True}},\n",
    "                                                       {\"in_app\":  {\"$exists\": True},}\n",
    "                                                       ]}):\n",
    "    counter += 1\n",
    "#     if i[\"in_app\"] == \"search\":\n",
    "#         to_search(i[\"_id\"])\n",
    "# #         print(i[\"in_app\"])\n",
    "#     if i[\"in_app\"] == \"feed\":        \n",
    "#         to_feed(i[\"_id\"])\n",
    "        \n",
    "#         print(i[\"in_app\"])        \n",
    "#     print()\n",
    "counter"
   ]
  },
  {
   "cell_type": "code",
   "execution_count": null,
   "metadata": {},
   "outputs": [],
   "source": []
  },
  {
   "cell_type": "code",
   "execution_count": null,
   "metadata": {},
   "outputs": [],
   "source": []
  },
  {
   "cell_type": "code",
   "execution_count": null,
   "metadata": {},
   "outputs": [],
   "source": []
  },
  {
   "cell_type": "code",
   "execution_count": null,
   "metadata": {},
   "outputs": [],
   "source": []
  },
  {
   "cell_type": "code",
   "execution_count": null,
   "metadata": {},
   "outputs": [],
   "source": []
  },
  {
   "cell_type": "code",
   "execution_count": 112,
   "metadata": {},
   "outputs": [],
   "source": [
    "def to_deleted(_id):    \n",
    "    db_client[\"tweets_pipeline_v2\"].update_one({\"_id\":bson.ObjectId(_id)},\n",
    "                                    {\"$set\":{\"status\":\"deleted\",\n",
    "                                            \"recovering\": True},\n",
    "                                    })"
   ]
  },
  {
   "cell_type": "code",
   "execution_count": 106,
   "metadata": {},
   "outputs": [],
   "source": [
    "def to_validated(_id):    \n",
    "    db_client[\"tweets_pipeline_v2\"].update_one({\"_id\":bson.ObjectId(_id)},\n",
    "                                    {\"$set\":{\"status\":\"validated\",\n",
    "                                            \"recovering\": True},\n",
    "                                    })"
   ]
  },
  {
   "cell_type": "code",
   "execution_count": 120,
   "metadata": {},
   "outputs": [
    {
     "data": {
      "text/plain": [
       "0"
      ]
     },
     "execution_count": 120,
     "metadata": {},
     "output_type": "execute_result"
    }
   ],
   "source": [
    "counter = 0\n",
    "collector = []\n",
    "for i in db_client[\"tweets_pipeline_v2\"].find({\"status\": \"url-clone\",\n",
    "                                               \"validated_timestamp\": {\"$exists\": True},\n",
    "                                               \"validator_username\": {\"$exists\": True},\n",
    "                                               \"confirmed_after_validate\":{\"$exists\": False},\n",
    "#                                                \"$or\": [\n",
    "# #                                                       {\"grafeed_approver\": {\"$exists\": True}}, \n",
    "#                                                        {\"validator_username\": {\"$exists\": True}},\n",
    "# #                                                        {'grafeed_confirmed': {\"$exists\": True}},\n",
    "# #                                                        {\"in_app\":  {\"$exists\": True},}\n",
    "#                                                        ]\n",
    "                                              }):\n",
    "    counter += 1\n",
    "    to_deleted(i[\"_id\"])\n",
    "#     to_validated(i[\"_id\"])\n",
    "#     print(i)\n",
    "#     if \"validated_timestamp\" in i:\n",
    "#         print(i[\"validated_timestamp\"])\n",
    "#     print()\n",
    "counter"
   ]
  },
  {
   "cell_type": "code",
   "execution_count": 118,
   "metadata": {},
   "outputs": [
    {
     "data": {
      "text/plain": [
       "Counter({'_id': 1157,\n",
       "         'tweet_text': 1156,\n",
       "         'hashtags': 1156,\n",
       "         'tweet_timestamp': 1156,\n",
       "         'username': 1156,\n",
       "         'user_id': 85,\n",
       "         'user_counters': 85,\n",
       "         'tweet_counters': 85,\n",
       "         'img_urls': 1157,\n",
       "         'tweet_id': 1156,\n",
       "         'downloaded': 85,\n",
       "         'download_error': 85,\n",
       "         'img_type': 1157,\n",
       "         'graph_type': 85,\n",
       "         'status': 1157,\n",
       "         'validated_timestamp': 1157,\n",
       "         'validator_username': 1157,\n",
       "         'imagehash': 61,\n",
       "         'technical': 6,\n",
       "         'dhash': 1155,\n",
       "         'phash': 68,\n",
       "         'duplicate_sort': 634,\n",
       "         'extracted_text': 1152,\n",
       "         'trasher_validated_labels': 16,\n",
       "         'validated_for_trasher': 16,\n",
       "         's3_url': 79,\n",
       "         'confirmed': 7,\n",
       "         'rejected': 7,\n",
       "         'bert_tags': 1139,\n",
       "         'bert_ts': 4,\n",
       "         'pipelined_ts': 1139,\n",
       "         'aws_answer': 134,\n",
       "         'entity_prepared': 443,\n",
       "         'GutenTagTrash': 63,\n",
       "         'reason': 3,\n",
       "         'source': 1072,\n",
       "         'tech_type': 1072,\n",
       "         'TIME_FIELD_FOR_SORTING': 1072,\n",
       "         'additional_info': 21,\n",
       "         'industries_from_bert': 994,\n",
       "         'shifts_from_bert': 994,\n",
       "         'trasher': 994,\n",
       "         'pipelined_issued': 981,\n",
       "         'entity_response_aws_2': 309,\n",
       "         'post_ts': 1,\n",
       "         'media_id': 1,\n",
       "         'caption': 1,\n",
       "         'caption_hashtags': 1})"
      ]
     },
     "execution_count": 118,
     "metadata": {},
     "output_type": "execute_result"
    }
   ],
   "source": [
    "Counter(collector)"
   ]
  },
  {
   "cell_type": "code",
   "execution_count": null,
   "metadata": {},
   "outputs": [],
   "source": []
  },
  {
   "cell_type": "code",
   "execution_count": null,
   "metadata": {},
   "outputs": [],
   "source": []
  },
  {
   "cell_type": "code",
   "execution_count": null,
   "metadata": {},
   "outputs": [],
   "source": []
  },
  {
   "cell_type": "code",
   "execution_count": null,
   "metadata": {},
   "outputs": [],
   "source": []
  },
  {
   "cell_type": "code",
   "execution_count": null,
   "metadata": {},
   "outputs": [],
   "source": []
  },
  {
   "cell_type": "code",
   "execution_count": null,
   "metadata": {},
   "outputs": [],
   "source": []
  },
  {
   "cell_type": "code",
   "execution_count": null,
   "metadata": {},
   "outputs": [],
   "source": []
  },
  {
   "cell_type": "code",
   "execution_count": null,
   "metadata": {},
   "outputs": [],
   "source": []
  }
 ],
 "metadata": {
  "kernelspec": {
   "display_name": "Python 3",
   "language": "python",
   "name": "python3"
  },
  "language_info": {
   "codemirror_mode": {
    "name": "ipython",
    "version": 3
   },
   "file_extension": ".py",
   "mimetype": "text/x-python",
   "name": "python",
   "nbconvert_exporter": "python",
   "pygments_lexer": "ipython3",
   "version": "3.7.3"
  }
 },
 "nbformat": 4,
 "nbformat_minor": 2
}
