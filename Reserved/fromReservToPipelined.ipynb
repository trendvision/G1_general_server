{
 "cells": [
  {
   "cell_type": "code",
   "execution_count": 1,
   "metadata": {},
   "outputs": [],
   "source": [
    "import pandas as pd\n",
    "import bson\n",
    "import pymongo\n",
    "from tqdm import tqdm\n",
    "username = \"tagger-admin\"\n",
    "password = \"tvaiadmin\"\n",
    "db_client = pymongo.MongoClient('104.198.62.226', username=username,\n",
    "                                password=password,\n",
    "                                authSource='tags',\n",
    "                                authMechanism='SCRAM-SHA-256', port=27017).tags"
   ]
  },
  {
   "cell_type": "code",
   "execution_count": 2,
   "metadata": {},
   "outputs": [],
   "source": [
    "def to_pipeline(bson_id):\n",
    "#     print(bson_id)\n",
    "#     print(\"BEFORE:\", db_client[\"tweets_pipeline_v2\"].find_one({\"_id\":bson.ObjectId(bson_id)})[\"status\"])\n",
    "    db_client[\"tweets_pipeline_v2\"].update_one({\"_id\":bson.ObjectId(bson_id)},\n",
    "                                        {\"$set\":{\"status\":\"pipelined\"}})\n",
    "#     print(\"AFTER:\", db_client[\"tweets_pipeline_v2\"].find_one({\"_id\":bson.ObjectId(bson_id)})[\"status\"])"
   ]
  },
  {
   "cell_type": "code",
   "execution_count": 3,
   "metadata": {},
   "outputs": [
    {
     "name": "stderr",
     "output_type": "stream",
     "text": [
      "/home/ubuntu/anaconda3/lib/python3.7/site-packages/ipykernel_launcher.py:3: DeprecationWarning: count is deprecated. Use Collection.count_documents instead.\n",
      "  This is separate from the ipykernel package so we can avoid doing imports until\n",
      "100%|██████████| 22981/22981 [10:53<00:00, 35.23it/s]\n"
     ]
    }
   ],
   "source": [
    "db = db_client[\"tweets_pipeline_v2\"].find({\"$or\":[{\"status\": \"reserved\"}]}, no_cursor_timeout=True)\n",
    "\n",
    "for i in tqdm(db, total = db.count()):\n",
    "    _id = str(i[\"_id\"])\n",
    "    to_pipeline(_id)\n",
    "    \n",
    "db.close()"
   ]
  },
  {
   "cell_type": "code",
   "execution_count": null,
   "metadata": {},
   "outputs": [],
   "source": []
  }
 ],
 "metadata": {
  "kernelspec": {
   "display_name": "Python 3",
   "language": "python",
   "name": "python3"
  },
  "language_info": {
   "codemirror_mode": {
    "name": "ipython",
    "version": 3
   },
   "file_extension": ".py",
   "mimetype": "text/x-python",
   "name": "python",
   "nbconvert_exporter": "python",
   "pygments_lexer": "ipython3",
   "version": "3.7.3"
  }
 },
 "nbformat": 4,
 "nbformat_minor": 2
}
