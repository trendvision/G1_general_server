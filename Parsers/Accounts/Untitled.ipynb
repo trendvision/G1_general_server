{
 "cells": [
  {
   "cell_type": "code",
   "execution_count": 1,
   "metadata": {},
   "outputs": [],
   "source": [
    "import warnings\n",
    "import pandas as pd\n",
    "from tqdm import tqdm\n",
    "import csv\n",
    "import tweepy\n",
    "warnings.filterwarnings(\"ignore\")\n",
    "from IPython.display import Image \n",
    "from IPython.core.display import Image, display\n",
    "from collections import Counter\n",
    "import pandas as pd\n",
    "import pymongo\n",
    "import bson\n",
    "import matplotlib.pyplot as plt\n",
    "import matplotlib\n",
    "from tqdm import tqdm\n",
    "import re\n",
    "import time\n",
    "import random\n",
    "from itertools import permutations\n",
    "username = \"tagger-admin\"\n",
    "password = \"tvaiadmin\"\n",
    "db_client = pymongo.MongoClient('104.198.62.226', username=username,\n",
    "                                password=password,\n",
    "                                authSource='tags',\n",
    "                                authMechanism='SCRAM-SHA-256', port=27017).tags"
   ]
  },
  {
   "cell_type": "code",
   "execution_count": 3,
   "metadata": {},
   "outputs": [],
   "source": [
    "\n",
    "db = db_client[\"tweets_pipeline_v2\"].find({\n",
    "    \"$or\":[\n",
    "    {\"status\": 'graphicone_search'}, \n",
    "    {\"status\": 'graphicone_feed'},\n",
    "    ],\n",
    "    \"username\": {\"$exists\": True}})\n",
    "usernameCollector = []\n",
    "for i in db:\n",
    "    usernameCollector.append(i[\"username\"])"
   ]
  },
  {
   "cell_type": "code",
   "execution_count": 5,
   "metadata": {},
   "outputs": [
    {
     "data": {
      "text/plain": [
       "4972"
      ]
     },
     "execution_count": 5,
     "metadata": {},
     "output_type": "execute_result"
    }
   ],
   "source": [
    "len(Counter(usernameCollector).most_common())"
   ]
  },
  {
   "cell_type": "code",
   "execution_count": null,
   "metadata": {},
   "outputs": [],
   "source": []
  }
 ],
 "metadata": {
  "kernelspec": {
   "display_name": "Python 3",
   "language": "python",
   "name": "python3"
  },
  "language_info": {
   "codemirror_mode": {
    "name": "ipython",
    "version": 3
   },
   "file_extension": ".py",
   "mimetype": "text/x-python",
   "name": "python",
   "nbconvert_exporter": "python",
   "pygments_lexer": "ipython3",
   "version": "3.7.3"
  }
 },
 "nbformat": 4,
 "nbformat_minor": 4
}
