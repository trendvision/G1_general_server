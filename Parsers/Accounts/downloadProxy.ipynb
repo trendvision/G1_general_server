{
 "cells": [
  {
   "cell_type": "code",
   "execution_count": null,
   "metadata": {},
   "outputs": [],
   "source": [
    "import asyncio\n",
    "from proxybroker import Broker\n",
    "\n",
    "\n",
    "async def save(proxies, filename):\n",
    "    \"\"\"Save proxies to a file.\"\"\"\n",
    "    with open(filename, 'w') as f:\n",
    "        while True:\n",
    "            proxy = await proxies.get()\n",
    "            if proxy is None:\n",
    "                break\n",
    "            proto = 'https' if 'HTTPS' in proxy.types else 'http'\n",
    "            row = '%s://%s:%d\\n' % (proto, proxy.host, proxy.port)\n",
    "            f.write(row)\n",
    "\n",
    "\n",
    "def main():\n",
    "    proxies = asyncio.Queue()\n",
    "    broker = Broker(proxies)\n",
    "    tasks = asyncio.gather(broker.find(types=['HTTP', 'HTTPS'], limit=10),\n",
    "                           save(proxies, filename='proxies.txt'))\n",
    "    loop = asyncio.get_event_loop()\n",
    "    loop.run_until_complete(tasks)\n",
    "\n",
    "\n",
    "if __name__ == '__main__':\n",
    "    main()"
   ]
  }
 ],
 "metadata": {
  "kernelspec": {
   "display_name": "Python 3",
   "language": "python",
   "name": "python3"
  },
  "language_info": {
   "codemirror_mode": {
    "name": "ipython",
    "version": 3
   },
   "file_extension": ".py",
   "mimetype": "text/x-python",
   "name": "python",
   "nbconvert_exporter": "python",
   "pygments_lexer": "ipython3",
   "version": "3.7.3"
  }
 },
 "nbformat": 4,
 "nbformat_minor": 4
}
