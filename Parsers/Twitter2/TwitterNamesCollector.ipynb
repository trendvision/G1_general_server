{
 "cells": [
  {
   "cell_type": "code",
   "execution_count": null,
   "metadata": {},
   "outputs": [],
   "source": [
    "import csv\n",
    "import pandas as pd\n",
    "from tqdm import tqdm\n",
    "import tweepy\n",
    "\n",
    "consumer_key=\"WtkaMM3Noar9SBgb61gYVMugt\"\n",
    "consumer_secret=\"c0NpOJzakO10TmkSPYxoGIpKIg7hR96vTkZAdI3SmQSJ4Sb55L\"\n",
    "access_key=\"908690023804997632-x02y0HId6Gcufc7nWjh1w8m3MoWvdlV\"\n",
    "access_secret=\"q7mjRiOB7mzJtykbhklHe12sewTuHa5umESwjuaYZ1QAi\"\n",
    "auth = tweepy.OAuthHandler(consumer_key, consumer_secret)\n",
    "auth.set_access_token(access_key, access_secret)\n",
    "api = tweepy.API(auth, wait_on_rate_limit=True)\n",
    "\n",
    "\n",
    "IDs = list(set(list(pd.read_csv(\"TwitterAccountsIDsCollector.csv\",header=None)[0].values)))\n",
    "\n",
    "\n",
    "with open(r'TwitterNamesCollector.csv', 'a') as f:\n",
    "    writer = csv.writer(f)\n",
    "    for InterestingTwitt in tqdm(IDs):\n",
    "        while True:\n",
    "            try:\n",
    "                writer.writerow([api.get_user(InterestingTwitt).screen_name])    \n",
    "                break\n",
    "            except Exception as err:\n",
    "                print(err)\n",
    "            "
   ]
  }
 ],
 "metadata": {
  "kernelspec": {
   "display_name": "Python 3",
   "language": "python",
   "name": "python3"
  },
  "language_info": {
   "codemirror_mode": {
    "name": "ipython",
    "version": 3
   },
   "file_extension": ".py",
   "mimetype": "text/x-python",
   "name": "python",
   "nbconvert_exporter": "python",
   "pygments_lexer": "ipython3",
   "version": "3.7.3"
  }
 },
 "nbformat": 4,
 "nbformat_minor": 2
}
