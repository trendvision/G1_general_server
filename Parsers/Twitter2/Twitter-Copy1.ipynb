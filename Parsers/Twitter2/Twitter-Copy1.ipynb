{
 "cells": [
  {
   "cell_type": "code",
   "execution_count": 1,
   "metadata": {},
   "outputs": [],
   "source": [
    "import pandas as pd\n",
    "from tqdm import tqdm\n",
    "import csv\n",
    "import tweepy"
   ]
  },
  {
   "cell_type": "code",
   "execution_count": 2,
   "metadata": {},
   "outputs": [],
   "source": [
    "consumer_key=\"X6a3LXR3OwERo7E1DdIKKC0Tk\"\n",
    "consumer_secret=\"1xckS1lOEcj8SyLcMTRnib582iXwigmqZYrBHDusVgObttejCV\"\n",
    "access_key=\"908690023804997632-HPW3dM7KgzMh0it81mA9hLulz03BjRo\"\n",
    "access_secret=\"bMROmcs5mKQBtvopW8QIgAr7KGF0IvpJeZhoWK9UtOuzK\"\n",
    "\n",
    "auth = tweepy.OAuthHandler(consumer_key, consumer_secret)\n",
    "auth.set_access_token(access_key, access_secret)\n",
    "api = tweepy.API(auth, wait_on_rate_limit=True)"
   ]
  },
  {
   "cell_type": "code",
   "execution_count": 7,
   "metadata": {
    "scrolled": true
   },
   "outputs": [
    {
     "data": {
      "text/plain": [
       "User(_api=<tweepy.api.API object at 0x7fe4a1dfc9e8>, _json={'id': 908690023804997632, 'id_str': '908690023804997632', 'name': 'Barbacane Research', 'screen_name': 'BRB_Research', 'location': 'Moscow, Russia', 'description': 'Investment Research', 'url': None, 'entities': {'description': {'urls': []}}, 'protected': False, 'followers_count': 3, 'friends_count': 35, 'listed_count': 0, 'created_at': 'Fri Sep 15 13:52:39 +0000 2017', 'favourites_count': 0, 'utc_offset': None, 'time_zone': None, 'geo_enabled': False, 'verified': False, 'statuses_count': 8, 'lang': None, 'status': {'created_at': 'Wed Mar 28 12:43:10 +0000 2018', 'id': 978975787159257088, 'id_str': '978975787159257088', 'text': 'RT @v_senko: Sentieo Announces $6M in First Institutional Round of Funding Led by Clocktower Ventures and Long Focus Capital | Technology S…', 'truncated': False, 'entities': {'hashtags': [], 'symbols': [], 'user_mentions': [{'screen_name': 'v_senko', 'name': '_VS_', 'id': 737730821323362304, 'id_str': '737730821323362304', 'indices': [3, 11]}], 'urls': []}, 'source': '<a href=\"https://www.barbacane.xyz\" rel=\"nofollow\">Twitter Streaming NEWS App</a>', 'in_reply_to_status_id': None, 'in_reply_to_status_id_str': None, 'in_reply_to_user_id': None, 'in_reply_to_user_id_str': None, 'in_reply_to_screen_name': None, 'geo': None, 'coordinates': None, 'place': None, 'contributors': None, 'retweeted_status': {'created_at': 'Tue Mar 27 19:07:50 +0000 2018', 'id': 978710202861092864, 'id_str': '978710202861092864', 'text': 'Sentieo Announces $6M in First Institutional Round of Funding Led by Clocktower Ventures and Long Focus Capital | T… https://t.co/SbOrjbi4rd', 'truncated': True, 'entities': {'hashtags': [], 'symbols': [], 'user_mentions': [], 'urls': [{'url': 'https://t.co/SbOrjbi4rd', 'expanded_url': 'https://twitter.com/i/web/status/978710202861092864', 'display_url': 'twitter.com/i/web/status/9…', 'indices': [117, 140]}]}, 'source': '<a href=\"http://twitter.com/download/iphone\" rel=\"nofollow\">Twitter for iPhone</a>', 'in_reply_to_status_id': None, 'in_reply_to_status_id_str': None, 'in_reply_to_user_id': None, 'in_reply_to_user_id_str': None, 'in_reply_to_screen_name': None, 'geo': None, 'coordinates': None, 'place': None, 'contributors': None, 'is_quote_status': False, 'retweet_count': 1, 'favorite_count': 0, 'favorited': False, 'retweeted': True, 'possibly_sensitive': False, 'lang': 'en'}, 'is_quote_status': False, 'retweet_count': 1, 'favorite_count': 0, 'favorited': False, 'retweeted': True, 'lang': 'en'}, 'contributors_enabled': False, 'is_translator': False, 'is_translation_enabled': False, 'profile_background_color': 'F5F8FA', 'profile_background_image_url': None, 'profile_background_image_url_https': None, 'profile_background_tile': False, 'profile_image_url': 'http://pbs.twimg.com/profile_images/915962823322275840/OtoUqOrI_normal.jpg', 'profile_image_url_https': 'https://pbs.twimg.com/profile_images/915962823322275840/OtoUqOrI_normal.jpg', 'profile_link_color': '1DA1F2', 'profile_sidebar_border_color': 'C0DEED', 'profile_sidebar_fill_color': 'DDEEF6', 'profile_text_color': '333333', 'profile_use_background_image': True, 'has_extended_profile': False, 'default_profile': True, 'default_profile_image': False, 'following': False, 'follow_request_sent': False, 'notifications': False, 'translator_type': 'none', 'suspended': False, 'needs_phone_verification': False}, id=908690023804997632, id_str='908690023804997632', name='Barbacane Research', screen_name='BRB_Research', location='Moscow, Russia', description='Investment Research', url=None, entities={'description': {'urls': []}}, protected=False, followers_count=3, friends_count=35, listed_count=0, created_at=datetime.datetime(2017, 9, 15, 13, 52, 39), favourites_count=0, utc_offset=None, time_zone=None, geo_enabled=False, verified=False, statuses_count=8, lang=None, status=Status(_api=<tweepy.api.API object at 0x7fe4a1dfc9e8>, _json={'created_at': 'Wed Mar 28 12:43:10 +0000 2018', 'id': 978975787159257088, 'id_str': '978975787159257088', 'text': 'RT @v_senko: Sentieo Announces $6M in First Institutional Round of Funding Led by Clocktower Ventures and Long Focus Capital | Technology S…', 'truncated': False, 'entities': {'hashtags': [], 'symbols': [], 'user_mentions': [{'screen_name': 'v_senko', 'name': '_VS_', 'id': 737730821323362304, 'id_str': '737730821323362304', 'indices': [3, 11]}], 'urls': []}, 'source': '<a href=\"https://www.barbacane.xyz\" rel=\"nofollow\">Twitter Streaming NEWS App</a>', 'in_reply_to_status_id': None, 'in_reply_to_status_id_str': None, 'in_reply_to_user_id': None, 'in_reply_to_user_id_str': None, 'in_reply_to_screen_name': None, 'geo': None, 'coordinates': None, 'place': None, 'contributors': None, 'retweeted_status': {'created_at': 'Tue Mar 27 19:07:50 +0000 2018', 'id': 978710202861092864, 'id_str': '978710202861092864', 'text': 'Sentieo Announces $6M in First Institutional Round of Funding Led by Clocktower Ventures and Long Focus Capital | T… https://t.co/SbOrjbi4rd', 'truncated': True, 'entities': {'hashtags': [], 'symbols': [], 'user_mentions': [], 'urls': [{'url': 'https://t.co/SbOrjbi4rd', 'expanded_url': 'https://twitter.com/i/web/status/978710202861092864', 'display_url': 'twitter.com/i/web/status/9…', 'indices': [117, 140]}]}, 'source': '<a href=\"http://twitter.com/download/iphone\" rel=\"nofollow\">Twitter for iPhone</a>', 'in_reply_to_status_id': None, 'in_reply_to_status_id_str': None, 'in_reply_to_user_id': None, 'in_reply_to_user_id_str': None, 'in_reply_to_screen_name': None, 'geo': None, 'coordinates': None, 'place': None, 'contributors': None, 'is_quote_status': False, 'retweet_count': 1, 'favorite_count': 0, 'favorited': False, 'retweeted': True, 'possibly_sensitive': False, 'lang': 'en'}, 'is_quote_status': False, 'retweet_count': 1, 'favorite_count': 0, 'favorited': False, 'retweeted': True, 'lang': 'en'}, created_at=datetime.datetime(2018, 3, 28, 12, 43, 10), id=978975787159257088, id_str='978975787159257088', text='RT @v_senko: Sentieo Announces $6M in First Institutional Round of Funding Led by Clocktower Ventures and Long Focus Capital | Technology S…', truncated=False, entities={'hashtags': [], 'symbols': [], 'user_mentions': [{'screen_name': 'v_senko', 'name': '_VS_', 'id': 737730821323362304, 'id_str': '737730821323362304', 'indices': [3, 11]}], 'urls': []}, source='Twitter Streaming NEWS App', source_url='https://www.barbacane.xyz', in_reply_to_status_id=None, in_reply_to_status_id_str=None, in_reply_to_user_id=None, in_reply_to_user_id_str=None, in_reply_to_screen_name=None, geo=None, coordinates=None, place=None, contributors=None, retweeted_status=Status(_api=<tweepy.api.API object at 0x7fe4a1dfc9e8>, _json={'created_at': 'Tue Mar 27 19:07:50 +0000 2018', 'id': 978710202861092864, 'id_str': '978710202861092864', 'text': 'Sentieo Announces $6M in First Institutional Round of Funding Led by Clocktower Ventures and Long Focus Capital | T… https://t.co/SbOrjbi4rd', 'truncated': True, 'entities': {'hashtags': [], 'symbols': [], 'user_mentions': [], 'urls': [{'url': 'https://t.co/SbOrjbi4rd', 'expanded_url': 'https://twitter.com/i/web/status/978710202861092864', 'display_url': 'twitter.com/i/web/status/9…', 'indices': [117, 140]}]}, 'source': '<a href=\"http://twitter.com/download/iphone\" rel=\"nofollow\">Twitter for iPhone</a>', 'in_reply_to_status_id': None, 'in_reply_to_status_id_str': None, 'in_reply_to_user_id': None, 'in_reply_to_user_id_str': None, 'in_reply_to_screen_name': None, 'geo': None, 'coordinates': None, 'place': None, 'contributors': None, 'is_quote_status': False, 'retweet_count': 1, 'favorite_count': 0, 'favorited': False, 'retweeted': True, 'possibly_sensitive': False, 'lang': 'en'}, created_at=datetime.datetime(2018, 3, 27, 19, 7, 50), id=978710202861092864, id_str='978710202861092864', text='Sentieo Announces $6M in First Institutional Round of Funding Led by Clocktower Ventures and Long Focus Capital | T… https://t.co/SbOrjbi4rd', truncated=True, entities={'hashtags': [], 'symbols': [], 'user_mentions': [], 'urls': [{'url': 'https://t.co/SbOrjbi4rd', 'expanded_url': 'https://twitter.com/i/web/status/978710202861092864', 'display_url': 'twitter.com/i/web/status/9…', 'indices': [117, 140]}]}, source='Twitter for iPhone', source_url='http://twitter.com/download/iphone', in_reply_to_status_id=None, in_reply_to_status_id_str=None, in_reply_to_user_id=None, in_reply_to_user_id_str=None, in_reply_to_screen_name=None, geo=None, coordinates=None, place=None, contributors=None, is_quote_status=False, retweet_count=1, favorite_count=0, favorited=False, retweeted=True, possibly_sensitive=False, lang='en'), is_quote_status=False, retweet_count=1, favorite_count=0, favorited=False, retweeted=True, lang='en'), contributors_enabled=False, is_translator=False, is_translation_enabled=False, profile_background_color='F5F8FA', profile_background_image_url=None, profile_background_image_url_https=None, profile_background_tile=False, profile_image_url='http://pbs.twimg.com/profile_images/915962823322275840/OtoUqOrI_normal.jpg', profile_image_url_https='https://pbs.twimg.com/profile_images/915962823322275840/OtoUqOrI_normal.jpg', profile_link_color='1DA1F2', profile_sidebar_border_color='C0DEED', profile_sidebar_fill_color='DDEEF6', profile_text_color='333333', profile_use_background_image=True, has_extended_profile=False, default_profile=True, default_profile_image=False, following=False, follow_request_sent=False, notifications=False, translator_type='none', suspended=False, needs_phone_verification=False)"
      ]
     },
     "execution_count": 7,
     "metadata": {},
     "output_type": "execute_result"
    }
   ],
   "source": [
    "# api.verify_credentials(include_email=True)"
   ]
  },
  {
   "cell_type": "code",
   "execution_count": 5,
   "metadata": {},
   "outputs": [
    {
     "name": "stdout",
     "output_type": "stream",
     "text": [
      "<tweepy.cursor.CursorIterator object at 0x7f21bf0856a0>\n"
     ]
    }
   ],
   "source": [
    "print(tweepy.Cursor(api.followers, screen_name=\"bbgvisualdata\").pages())"
   ]
  },
  {
   "cell_type": "code",
   "execution_count": null,
   "metadata": {},
   "outputs": [],
   "source": []
  },
  {
   "cell_type": "code",
   "execution_count": 8,
   "metadata": {
    "scrolled": false
   },
   "outputs": [
    {
     "data": {
      "text/plain": [
       "User(_api=<tweepy.api.API object at 0x7fe4a1dfc9e8>, _json={'id': 908690023804997632, 'id_str': '908690023804997632', 'name': 'Barbacane Research', 'screen_name': 'BRB_Research', 'location': 'Moscow, Russia', 'profile_location': {'id': '4303d1afc1e98c37', 'url': 'https://api.twitter.com/1.1/geo/id/4303d1afc1e98c37.json', 'place_type': 'unknown', 'name': 'Moscow, Russia', 'full_name': 'Moscow, Russia', 'country_code': '', 'country': '', 'contained_within': [], 'bounding_box': None, 'attributes': {}}, 'description': 'Investment Research', 'url': None, 'entities': {'description': {'urls': []}}, 'protected': False, 'followers_count': 3, 'friends_count': 35, 'listed_count': 0, 'created_at': 'Fri Sep 15 13:52:39 +0000 2017', 'favourites_count': 0, 'utc_offset': None, 'time_zone': None, 'geo_enabled': False, 'verified': False, 'statuses_count': 8, 'lang': None, 'status': {'created_at': 'Wed Mar 28 12:43:10 +0000 2018', 'id': 978975787159257088, 'id_str': '978975787159257088', 'text': 'RT @v_senko: Sentieo Announces $6M in First Institutional Round of Funding Led by Clocktower Ventures and Long Focus Capital | Technology S…', 'truncated': False, 'entities': {'hashtags': [], 'symbols': [], 'user_mentions': [{'screen_name': 'v_senko', 'name': '_VS_', 'id': 737730821323362304, 'id_str': '737730821323362304', 'indices': [3, 11]}], 'urls': []}, 'source': '<a href=\"https://www.barbacane.xyz\" rel=\"nofollow\">Twitter Streaming NEWS App</a>', 'in_reply_to_status_id': None, 'in_reply_to_status_id_str': None, 'in_reply_to_user_id': None, 'in_reply_to_user_id_str': None, 'in_reply_to_screen_name': None, 'geo': None, 'coordinates': None, 'place': None, 'contributors': None, 'retweeted_status': {'created_at': 'Tue Mar 27 19:07:50 +0000 2018', 'id': 978710202861092864, 'id_str': '978710202861092864', 'text': 'Sentieo Announces $6M in First Institutional Round of Funding Led by Clocktower Ventures and Long Focus Capital | T… https://t.co/SbOrjbi4rd', 'truncated': True, 'entities': {'hashtags': [], 'symbols': [], 'user_mentions': [], 'urls': [{'url': 'https://t.co/SbOrjbi4rd', 'expanded_url': 'https://twitter.com/i/web/status/978710202861092864', 'display_url': 'twitter.com/i/web/status/9…', 'indices': [117, 140]}]}, 'source': '<a href=\"http://twitter.com/download/iphone\" rel=\"nofollow\">Twitter for iPhone</a>', 'in_reply_to_status_id': None, 'in_reply_to_status_id_str': None, 'in_reply_to_user_id': None, 'in_reply_to_user_id_str': None, 'in_reply_to_screen_name': None, 'geo': None, 'coordinates': None, 'place': None, 'contributors': None, 'is_quote_status': False, 'retweet_count': 1, 'favorite_count': 0, 'favorited': False, 'retweeted': True, 'possibly_sensitive': False, 'lang': 'en'}, 'is_quote_status': False, 'retweet_count': 1, 'favorite_count': 0, 'favorited': False, 'retweeted': True, 'lang': 'en'}, 'contributors_enabled': False, 'is_translator': False, 'is_translation_enabled': False, 'profile_background_color': 'F5F8FA', 'profile_background_image_url': None, 'profile_background_image_url_https': None, 'profile_background_tile': False, 'profile_image_url': 'http://pbs.twimg.com/profile_images/915962823322275840/OtoUqOrI_normal.jpg', 'profile_image_url_https': 'https://pbs.twimg.com/profile_images/915962823322275840/OtoUqOrI_normal.jpg', 'profile_link_color': '1DA1F2', 'profile_sidebar_border_color': 'C0DEED', 'profile_sidebar_fill_color': 'DDEEF6', 'profile_text_color': '333333', 'profile_use_background_image': True, 'has_extended_profile': False, 'default_profile': True, 'default_profile_image': False, 'following': False, 'follow_request_sent': False, 'notifications': False, 'translator_type': 'none', 'suspended': False, 'needs_phone_verification': False}, id=908690023804997632, id_str='908690023804997632', name='Barbacane Research', screen_name='BRB_Research', location='Moscow, Russia', profile_location={'id': '4303d1afc1e98c37', 'url': 'https://api.twitter.com/1.1/geo/id/4303d1afc1e98c37.json', 'place_type': 'unknown', 'name': 'Moscow, Russia', 'full_name': 'Moscow, Russia', 'country_code': '', 'country': '', 'contained_within': [], 'bounding_box': None, 'attributes': {}}, description='Investment Research', url=None, entities={'description': {'urls': []}}, protected=False, followers_count=3, friends_count=35, listed_count=0, created_at=datetime.datetime(2017, 9, 15, 13, 52, 39), favourites_count=0, utc_offset=None, time_zone=None, geo_enabled=False, verified=False, statuses_count=8, lang=None, status=Status(_api=<tweepy.api.API object at 0x7fe4a1dfc9e8>, _json={'created_at': 'Wed Mar 28 12:43:10 +0000 2018', 'id': 978975787159257088, 'id_str': '978975787159257088', 'text': 'RT @v_senko: Sentieo Announces $6M in First Institutional Round of Funding Led by Clocktower Ventures and Long Focus Capital | Technology S…', 'truncated': False, 'entities': {'hashtags': [], 'symbols': [], 'user_mentions': [{'screen_name': 'v_senko', 'name': '_VS_', 'id': 737730821323362304, 'id_str': '737730821323362304', 'indices': [3, 11]}], 'urls': []}, 'source': '<a href=\"https://www.barbacane.xyz\" rel=\"nofollow\">Twitter Streaming NEWS App</a>', 'in_reply_to_status_id': None, 'in_reply_to_status_id_str': None, 'in_reply_to_user_id': None, 'in_reply_to_user_id_str': None, 'in_reply_to_screen_name': None, 'geo': None, 'coordinates': None, 'place': None, 'contributors': None, 'retweeted_status': {'created_at': 'Tue Mar 27 19:07:50 +0000 2018', 'id': 978710202861092864, 'id_str': '978710202861092864', 'text': 'Sentieo Announces $6M in First Institutional Round of Funding Led by Clocktower Ventures and Long Focus Capital | T… https://t.co/SbOrjbi4rd', 'truncated': True, 'entities': {'hashtags': [], 'symbols': [], 'user_mentions': [], 'urls': [{'url': 'https://t.co/SbOrjbi4rd', 'expanded_url': 'https://twitter.com/i/web/status/978710202861092864', 'display_url': 'twitter.com/i/web/status/9…', 'indices': [117, 140]}]}, 'source': '<a href=\"http://twitter.com/download/iphone\" rel=\"nofollow\">Twitter for iPhone</a>', 'in_reply_to_status_id': None, 'in_reply_to_status_id_str': None, 'in_reply_to_user_id': None, 'in_reply_to_user_id_str': None, 'in_reply_to_screen_name': None, 'geo': None, 'coordinates': None, 'place': None, 'contributors': None, 'is_quote_status': False, 'retweet_count': 1, 'favorite_count': 0, 'favorited': False, 'retweeted': True, 'possibly_sensitive': False, 'lang': 'en'}, 'is_quote_status': False, 'retweet_count': 1, 'favorite_count': 0, 'favorited': False, 'retweeted': True, 'lang': 'en'}, created_at=datetime.datetime(2018, 3, 28, 12, 43, 10), id=978975787159257088, id_str='978975787159257088', text='RT @v_senko: Sentieo Announces $6M in First Institutional Round of Funding Led by Clocktower Ventures and Long Focus Capital | Technology S…', truncated=False, entities={'hashtags': [], 'symbols': [], 'user_mentions': [{'screen_name': 'v_senko', 'name': '_VS_', 'id': 737730821323362304, 'id_str': '737730821323362304', 'indices': [3, 11]}], 'urls': []}, source='Twitter Streaming NEWS App', source_url='https://www.barbacane.xyz', in_reply_to_status_id=None, in_reply_to_status_id_str=None, in_reply_to_user_id=None, in_reply_to_user_id_str=None, in_reply_to_screen_name=None, geo=None, coordinates=None, place=None, contributors=None, retweeted_status=Status(_api=<tweepy.api.API object at 0x7fe4a1dfc9e8>, _json={'created_at': 'Tue Mar 27 19:07:50 +0000 2018', 'id': 978710202861092864, 'id_str': '978710202861092864', 'text': 'Sentieo Announces $6M in First Institutional Round of Funding Led by Clocktower Ventures and Long Focus Capital | T… https://t.co/SbOrjbi4rd', 'truncated': True, 'entities': {'hashtags': [], 'symbols': [], 'user_mentions': [], 'urls': [{'url': 'https://t.co/SbOrjbi4rd', 'expanded_url': 'https://twitter.com/i/web/status/978710202861092864', 'display_url': 'twitter.com/i/web/status/9…', 'indices': [117, 140]}]}, 'source': '<a href=\"http://twitter.com/download/iphone\" rel=\"nofollow\">Twitter for iPhone</a>', 'in_reply_to_status_id': None, 'in_reply_to_status_id_str': None, 'in_reply_to_user_id': None, 'in_reply_to_user_id_str': None, 'in_reply_to_screen_name': None, 'geo': None, 'coordinates': None, 'place': None, 'contributors': None, 'is_quote_status': False, 'retweet_count': 1, 'favorite_count': 0, 'favorited': False, 'retweeted': True, 'possibly_sensitive': False, 'lang': 'en'}, created_at=datetime.datetime(2018, 3, 27, 19, 7, 50), id=978710202861092864, id_str='978710202861092864', text='Sentieo Announces $6M in First Institutional Round of Funding Led by Clocktower Ventures and Long Focus Capital | T… https://t.co/SbOrjbi4rd', truncated=True, entities={'hashtags': [], 'symbols': [], 'user_mentions': [], 'urls': [{'url': 'https://t.co/SbOrjbi4rd', 'expanded_url': 'https://twitter.com/i/web/status/978710202861092864', 'display_url': 'twitter.com/i/web/status/9…', 'indices': [117, 140]}]}, source='Twitter for iPhone', source_url='http://twitter.com/download/iphone', in_reply_to_status_id=None, in_reply_to_status_id_str=None, in_reply_to_user_id=None, in_reply_to_user_id_str=None, in_reply_to_screen_name=None, geo=None, coordinates=None, place=None, contributors=None, is_quote_status=False, retweet_count=1, favorite_count=0, favorited=False, retweeted=True, possibly_sensitive=False, lang='en'), is_quote_status=False, retweet_count=1, favorite_count=0, favorited=False, retweeted=True, lang='en'), contributors_enabled=False, is_translator=False, is_translation_enabled=False, profile_background_color='F5F8FA', profile_background_image_url=None, profile_background_image_url_https=None, profile_background_tile=False, profile_image_url='http://pbs.twimg.com/profile_images/915962823322275840/OtoUqOrI_normal.jpg', profile_image_url_https='https://pbs.twimg.com/profile_images/915962823322275840/OtoUqOrI_normal.jpg', profile_link_color='1DA1F2', profile_sidebar_border_color='C0DEED', profile_sidebar_fill_color='DDEEF6', profile_text_color='333333', profile_use_background_image=True, has_extended_profile=False, default_profile=True, default_profile_image=False, following=False, follow_request_sent=False, notifications=False, translator_type='none', suspended=False, needs_phone_verification=False)"
      ]
     },
     "execution_count": 8,
     "metadata": {},
     "output_type": "execute_result"
    }
   ],
   "source": [
    "result = api.get_user(\"BRB_Research\")\n",
    "result"
   ]
  },
  {
   "cell_type": "code",
   "execution_count": null,
   "metadata": {},
   "outputs": [],
   "source": []
  },
  {
   "cell_type": "code",
   "execution_count": null,
   "metadata": {},
   "outputs": [],
   "source": []
  },
  {
   "cell_type": "code",
   "execution_count": null,
   "metadata": {},
   "outputs": [],
   "source": []
  },
  {
   "cell_type": "code",
   "execution_count": null,
   "metadata": {},
   "outputs": [],
   "source": []
  }
 ],
 "metadata": {
  "kernelspec": {
   "display_name": "Python 3",
   "language": "python",
   "name": "python3"
  },
  "language_info": {
   "codemirror_mode": {
    "name": "ipython",
    "version": 3
   },
   "file_extension": ".py",
   "mimetype": "text/x-python",
   "name": "python",
   "nbconvert_exporter": "python",
   "pygments_lexer": "ipython3",
   "version": "3.7.3"
  }
 },
 "nbformat": 4,
 "nbformat_minor": 2
}
