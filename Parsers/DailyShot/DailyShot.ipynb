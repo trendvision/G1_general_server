{
 "cells": [
  {
   "cell_type": "code",
   "execution_count": 2,
   "metadata": {},
   "outputs": [],
   "source": [
    "import requests\n",
    "from fake_useragent import UserAgent\n",
    "import bs4 as bs"
   ]
  },
  {
   "cell_type": "code",
   "execution_count": 3,
   "metadata": {},
   "outputs": [],
   "source": [
    "ua = UserAgent()"
   ]
  },
  {
   "cell_type": "code",
   "execution_count": 4,
   "metadata": {},
   "outputs": [
    {
     "data": {
      "text/plain": [
       "<Response [200]>"
      ]
     },
     "execution_count": 4,
     "metadata": {},
     "output_type": "execute_result"
    }
   ],
   "source": [
    "r = requests.get(\"https://dailyshotbrief.com/2020/04/\", headers={'User-Agent': ua.random})\n",
    "r"
   ]
  },
  {
   "cell_type": "code",
   "execution_count": 5,
   "metadata": {},
   "outputs": [
    {
     "name": "stdout",
     "output_type": "stream",
     "text": [
      "range(1, 13)\n"
     ]
    }
   ],
   "source": [
    "months = range(1,13)\n",
    "print(months)"
   ]
  },
  {
   "cell_type": "code",
   "execution_count": 6,
   "metadata": {},
   "outputs": [
    {
     "name": "stdout",
     "output_type": "stream",
     "text": [
      "1\n",
      "2\n",
      "3\n",
      "4\n",
      "5\n",
      "6\n",
      "7\n",
      "8\n",
      "9\n",
      "10\n",
      "11\n",
      "12\n"
     ]
    }
   ],
   "source": [
    "for month in months:\n",
    "    print(month)"
   ]
  },
  {
   "cell_type": "code",
   "execution_count": 7,
   "metadata": {},
   "outputs": [],
   "source": [
    "def get_first_request(year, month):\n",
    "    r = requests.get(\"https://dailyshotbrief.com/\"+str(year)+\"/\"+str(month).zfill(2)+\"/\", headers={'User-Agent': ua.random})\n",
    "    return r    "
   ]
  },
  {
   "cell_type": "code",
   "execution_count": 8,
   "metadata": {},
   "outputs": [],
   "source": [
    "def get_page_all_articles_info(request):\n",
    "    soup = bs.BeautifulSoup(request.text,'lxml')\n",
    "    data = []\n",
    "    for article in soup.find_all('article'):\n",
    "        article_id = article.get('id')\n",
    "        aticle_post = article.find('div', attrs={'class':\"entry-content\"})\n",
    "        article_link = aticle_post.find('a').get('href')\n",
    "        data.append([article_id, article_link])\n",
    "    return data"
   ]
  },
  {
   "cell_type": "code",
   "execution_count": 9,
   "metadata": {},
   "outputs": [],
   "source": [
    "def get_images_data(request):\n",
    "    soup = bs.BeautifulSoup(request.text,'lxml')\n",
    "    data = []\n",
    "    for image in soup.find_all('img'):\n",
    "        data.append(image.get(\"src\"))\n",
    "    return data"
   ]
  },
  {
   "cell_type": "code",
   "execution_count": 10,
   "metadata": {
    "scrolled": true
   },
   "outputs": [
    {
     "name": "stdout",
     "output_type": "stream",
     "text": [
      "['post-2407', 'https://dailyshotbrief.com/the-daily-shot-brief-january-31st-2020/']\n",
      "['https://dailyshotbrief.com/wp-content/uploads/2017/06/dsb-hero-img.jpg', 'https://dailyshotbrief.com/wp-content/themes/thedailyshotbrief/images/global-macro-currents.png', 'https://si.wsj.net/public/resources/images/B3-GA234_Dshot_NS_20200131050017.png', 'https://si.wsj.net/public/resources/images/B3-GA236_Dshot_NS_20200131050018.png', 'https://si.wsj.net/public/resources/images/B3-GA212_Dshot_NS_20200131050008.png', 'https://si.wsj.net/public/resources/images/B3-GA137_Dshot_NS_20200131045936.png', 'https://si.wsj.net/public/resources/images/B3-GA145_Dshot_NS_20200131045940.png', 'https://si.wsj.net/public/resources/images/B3-GA203_Dshot_NS_20200131050004.png', 'https://si.wsj.net/public/resources/images/B3-GA205_Dshot_NS_20200131050005.png', 'https://si.wsj.net/public/resources/images/B3-GA244_Dshot_NS_20200131050021.png', 'https://dailyshotbrief.com/wp-content/plugins/wpfront-scroll-top/images/icons/35.png']\n",
      "\n",
      "\n",
      "['post-2404', 'https://dailyshotbrief.com/the-daily-shot-brief-january-30th-2020/']\n",
      "['https://dailyshotbrief.com/wp-content/uploads/2017/06/dsb-hero-img.jpg', 'https://dailyshotbrief.com/wp-content/themes/thedailyshotbrief/images/global-macro-currents.png', 'https://si.wsj.net/public/resources/images/B3-FZ919_Dshot_NS_20200130042948.png', 'https://si.wsj.net/public/resources/images/B3-FZ912_Dshot_NS_20200130042946.png', 'https://si.wsj.net/public/resources/images/B3-FZ852_Dshot_NS_20200130042920.png', 'https://si.wsj.net/public/resources/images/B3-FZ867_Dshot_NS_20200130042926.png', 'https://si.wsj.net/public/resources/images/B3-FZ870_Dshot_NS_20200130042928.png', 'https://si.wsj.net/public/resources/images/B3-FZ902_Dshot_NS_20200130042941.png', 'https://si.wsj.net/public/resources/images/B3-FZ901_Dshot_NS_20200130042941.png', 'https://si.wsj.net/public/resources/images/B3-FZ900_Dshot_NS_20200130042940.png', 'https://si.wsj.net/public/resources/images/B3-FZ939_Dshot_NS_20200130042957.png', 'https://dailyshotbrief.com/wp-content/plugins/wpfront-scroll-top/images/icons/35.png']\n",
      "\n",
      "\n",
      "['post-2401', 'https://dailyshotbrief.com/the-daily-shot-brief-january-29th-2020/']\n",
      "['https://dailyshotbrief.com/wp-content/uploads/2017/06/dsb-hero-img.jpg', 'https://dailyshotbrief.com/wp-content/themes/thedailyshotbrief/images/global-macro-currents.png', 'https://si.wsj.net/public/resources/images/B3-FZ541_Dshot_NS_20200129024542.png', 'https://si.wsj.net/public/resources/images/B3-FZ540_Dshot_NS_20200129024542.png', 'https://si.wsj.net/public/resources/images/B3-FZ498_Dshot_NS_20200129024524.png', 'https://si.wsj.net/public/resources/images/B3-FZ530_Dshot_NS_20200129024538.png', 'https://si.wsj.net/public/resources/images/B3-FZ551_Dshot_NS_20200129024546.png', 'https://si.wsj.net/public/resources/images/B3-FZ514_Dshot_NS_20200129024531.png', 'https://si.wsj.net/public/resources/images/B3-FZ575_Dshot_NS_20200129024556.png', 'https://dailyshotbrief.com/wp-content/plugins/wpfront-scroll-top/images/icons/35.png']\n",
      "\n",
      "\n",
      "['post-2395', 'https://dailyshotbrief.com/the-daily-shot-brief-january-28th-2020/']\n",
      "['https://dailyshotbrief.com/wp-content/uploads/2017/06/dsb-hero-img.jpg', 'https://dailyshotbrief.com/wp-content/themes/thedailyshotbrief/images/global-macro-currents.png', 'https://si.wsj.net/public/resources/images/B3-FZ135_Dshot_NS_20200128040233.png', 'https://si.wsj.net/public/resources/images/B3-FZ163_Dshot_NS_20200128040244.png', 'https://si.wsj.net/public/resources/images/B3-FZ189_Dshot_NS_20200128040255.png', 'https://si.wsj.net/public/resources/images/B3-FZ183_Dshot_NS_20200128040253.png', 'https://si.wsj.net/public/resources/images/B3-FZ184_Dshot_NS_20200128040253.png', 'https://si.wsj.net/public/resources/images/B3-FZ171_Dshot_NS_20200128040248.png', 'https://si.wsj.net/public/resources/images/B3-FZ196_Dshot_NS_20200128040258.png', 'https://si.wsj.net/public/resources/images/B3-FZ216_Dshot_NS_20200128040306.png', 'https://dailyshotbrief.com/wp-content/plugins/wpfront-scroll-top/images/icons/35.png']\n",
      "\n",
      "\n",
      "['post-2392', 'https://dailyshotbrief.com/the-daily-shot-brief-january-24th-2020-2/']\n",
      "['https://dailyshotbrief.com/wp-content/uploads/2017/06/dsb-hero-img.jpg', 'https://dailyshotbrief.com/wp-content/themes/thedailyshotbrief/images/global-macro-currents.png', 'https://si.wsj.net/public/resources/images/B3-FY871_Dshot_NS_20200127040212.png', 'https://si.wsj.net/public/resources/images/B3-FY874_Dshot_NS_20200127040213.png', 'https://si.wsj.net/public/resources/images/B3-FY872_Dshot_NS_20200127040212.png', 'https://si.wsj.net/public/resources/images/B3-FY920_Dshot_NS_20200127040232.png', 'https://si.wsj.net/public/resources/images/B3-FY932_Dshot_NS_20200127040237.png', 'https://si.wsj.net/public/resources/images/B3-FY894_Dshot_NS_20200127040221.png', 'https://si.wsj.net/public/resources/images/B3-FY888_Dshot_NS_20200127040219.png', 'https://si.wsj.net/public/resources/images/B3-FY960_Dshot_NS_20200127040249.png', 'https://dailyshotbrief.com/wp-content/plugins/wpfront-scroll-top/images/icons/35.png']\n",
      "\n",
      "\n",
      "['post-2389', 'https://dailyshotbrief.com/the-daily-shot-brief-january-24th-2020/']\n",
      "['https://dailyshotbrief.com/wp-content/uploads/2017/06/dsb-hero-img.jpg', 'https://dailyshotbrief.com/wp-content/themes/thedailyshotbrief/images/global-macro-currents.png', 'https://si.wsj.net/public/resources/images/B3-FY535_Dshot_NS_20200124035920.png', 'https://si.wsj.net/public/resources/images/B3-FY474_Dshot_NS_20200124035855.png', 'https://si.wsj.net/public/resources/images/B3-FY492_Dshot_NS_20200124035903.png', 'https://si.wsj.net/public/resources/images/B3-FY499_Dshot_NS_20200124035906.png', 'https://si.wsj.net/public/resources/images/B3-FY501_Dshot_NS_20200124035906.png', 'https://si.wsj.net/public/resources/images/B3-FY528_Dshot_NS_20200124035918.png', 'https://si.wsj.net/public/resources/images/B3-FY551_Dshot_NS_20200124035927.png', 'https://dailyshotbrief.com/wp-content/plugins/wpfront-scroll-top/images/icons/35.png']\n",
      "\n",
      "\n",
      "['post-2385', 'https://dailyshotbrief.com/the-daily-shot-brief-january-23rd-2020/']\n",
      "['https://dailyshotbrief.com/wp-content/uploads/2017/06/dsb-hero-img.jpg', 'https://dailyshotbrief.com/wp-content/themes/thedailyshotbrief/images/global-macro-currents.png', 'https://si.wsj.net/public/resources/images/B3-FY166_Dshot_NS_20200123022457.png', 'https://si.wsj.net/public/resources/images/B3-FY150_Dshot_NS_20200123022450.png', 'https://si.wsj.net/public/resources/images/B3-FY135_Dshot_NS_20200123022444.png', 'https://si.wsj.net/public/resources/images/B3-FY112_Dshot_NS_20200123022435.png', 'https://si.wsj.net/public/resources/images/B3-FY111_Dshot_NS_20200123022434.png', 'https://si.wsj.net/public/resources/images/B3-FY130_Dshot_NS_20200123022442.png', 'https://si.wsj.net/public/resources/images/B3-FY172_Dshot_NS_20200123022459.png', 'https://dailyshotbrief.com/wp-content/plugins/wpfront-scroll-top/images/icons/35.png']\n",
      "\n",
      "\n",
      "['post-2381', 'https://dailyshotbrief.com/the-daily-shot-brief-january-22nd-2020/']\n",
      "['https://dailyshotbrief.com/wp-content/uploads/2017/06/dsb-hero-img.jpg', 'https://dailyshotbrief.com/wp-content/themes/thedailyshotbrief/images/global-macro-currents.png', 'https://si.wsj.net/public/resources/images/B3-FX922_Dshot_NS_20200122020745.png', 'https://si.wsj.net/public/resources/images/B3-FX845_Dshot_NS_20200122020714.png', 'https://si.wsj.net/public/resources/images/B3-FX849_Dshot_NS_20200122020716.png', 'https://si.wsj.net/public/resources/images/B3-FX851_Dshot_NS_20200122020717.png', 'https://si.wsj.net/public/resources/images/B3-FX865_Dshot_NS_20200122020722.png', 'https://si.wsj.net/public/resources/images/B3-FX859_Dshot_NS_20200122020720.png', 'https://si.wsj.net/public/resources/images/B3-FX902_Dshot_NS_20200122020737.png', 'https://si.wsj.net/public/resources/images/B3-FX934_Dshot_NS_20200122020750.png', 'https://dailyshotbrief.com/wp-content/plugins/wpfront-scroll-top/images/icons/35.png']\n",
      "\n",
      "\n",
      "['post-2378', 'https://dailyshotbrief.com/the-daily-shot-brief-january-21st-2020/']\n",
      "['https://dailyshotbrief.com/wp-content/uploads/2017/06/dsb-hero-img.jpg', 'https://dailyshotbrief.com/wp-content/themes/thedailyshotbrief/images/global-macro-currents.png', 'https://si.wsj.net/public/resources/images/B3-FX621_Dshot_NS_20200121031757.png', 'https://si.wsj.net/public/resources/images/B3-FX605_Dshot_NS_20200121031750.png', 'https://si.wsj.net/public/resources/images/B3-FX663_Dshot_NS_20200121031814.png', 'https://si.wsj.net/public/resources/images/B3-FX688_Dshot_NS_20200121031825.png', 'https://si.wsj.net/public/resources/images/B3-FX655_Dshot_NS_20200121031811.png', 'https://si.wsj.net/public/resources/images/B3-FX692_Dshot_NS_20200121031826.png', 'https://dailyshotbrief.com/wp-content/plugins/wpfront-scroll-top/images/icons/35.png']\n",
      "\n",
      "\n",
      "['post-2375', 'https://dailyshotbrief.com/the-daily-shot-brief-january-20th-2020/']\n"
     ]
    },
    {
     "name": "stdout",
     "output_type": "stream",
     "text": [
      "['https://dailyshotbrief.com/wp-content/uploads/2017/06/dsb-hero-img.jpg', 'https://dailyshotbrief.com/wp-content/themes/thedailyshotbrief/images/global-macro-currents.png', 'https://si.wsj.net/public/resources/images/B3-FX553_Dshot_NS_20200120022110.png', 'https://si.wsj.net/public/resources/images/B3-FX550_Dshot_NS_20200120022109.png', 'https://si.wsj.net/public/resources/images/B3-FX529_Dshot_NS_20200120022100.png', 'https://si.wsj.net/public/resources/images/B3-FX515_Dshot_NS_20200120022054.png', 'https://si.wsj.net/public/resources/images/B3-FX463_Dshot_NS_20200120022032.png', 'https://si.wsj.net/public/resources/images/B3-FX503_Dshot_NS_20200120022049.png', 'https://si.wsj.net/public/resources/images/B3-FX562_Dshot_NS_20200120022114.png', 'https://dailyshotbrief.com/wp-content/plugins/wpfront-scroll-top/images/icons/35.png']\n",
      "\n",
      "\n"
     ]
    }
   ],
   "source": [
    "r = get_first_request(2020, 1)\n",
    "response_results = get_page_all_articles_info(r)\n",
    "for article in response_results:\n",
    "    print(article)\n",
    "    article_request = requests.get(article[1], headers={'User-Agent': ua.random})\n",
    "    images_data = get_images_data(article_request)    \n",
    "    print(images_data)\n",
    "    print()\n",
    "    print()"
   ]
  },
  {
   "cell_type": "code",
   "execution_count": 11,
   "metadata": {},
   "outputs": [
    {
     "name": "stdout",
     "output_type": "stream",
     "text": [
      "['post-2472', 'https://dailyshotbrief.com/the-daily-shot-brief-february-27th-2020-2/']\n",
      "['https://dailyshotbrief.com/wp-content/uploads/2017/06/dsb-hero-img.jpg', 'https://dailyshotbrief.com/wp-content/themes/thedailyshotbrief/images/global-macro-currents.png', 'https://si.wsj.net/public/resources/images/B3-GF363_Dshot_NS_20200228050712.png', 'https://si.wsj.net/public/resources/images/B3-GF368_Dshot_NS_20200228050714.png', 'https://si.wsj.net/public/resources/images/B3-GF334_Dshot_NS_20200228050700.png', 'https://si.wsj.net/public/resources/images/B3-GF338_Dshot_NS_20200228050701.png', 'https://si.wsj.net/public/resources/images/B3-GF385_Dshot_NS_20200228050721.png', 'https://si.wsj.net/public/resources/images/B3-GF329_Dshot_NS_20200228050658.png', 'https://si.wsj.net/public/resources/images/B3-GF319_Dshot_NS_20200228050653.png', 'https://si.wsj.net/public/resources/images/B3-GF412_Dshot_NS_20200228050732.png', 'https://dailyshotbrief.com/wp-content/plugins/wpfront-scroll-top/images/icons/35.png']\n",
      "\n",
      "\n",
      "['post-2469', 'https://dailyshotbrief.com/the-daily-shot-brief-february-27th-2020/']\n",
      "['https://dailyshotbrief.com/wp-content/uploads/2017/06/dsb-hero-img.jpg', 'https://dailyshotbrief.com/wp-content/themes/thedailyshotbrief/images/global-macro-currents.png', 'https://si.wsj.net/public/resources/images/B3-GF068_Dshot_NS_20200227042731.png', 'https://si.wsj.net/public/resources/images/B3-GF043_Dshot_NS_20200227042721.png', 'https://si.wsj.net/public/resources/images/B3-GF097_Dshot_NS_20200227042743.png', 'https://si.wsj.net/public/resources/images/B3-GF095_Dshot_NS_20200227042743.png', 'https://si.wsj.net/public/resources/images/B3-GF038_Dshot_NS_20200227042719.png', 'https://si.wsj.net/public/resources/images/B3-GF103_Dshot_NS_20200227042746.png', 'https://si.wsj.net/public/resources/images/B3-GF119_Dshot_NS_20200227042753.png', 'https://dailyshotbrief.com/wp-content/plugins/wpfront-scroll-top/images/icons/35.png']\n",
      "\n",
      "\n",
      "['post-2466', 'https://dailyshotbrief.com/the-daily-shot-brief-february-26th-2020/']\n",
      "['https://dailyshotbrief.com/wp-content/uploads/2017/06/dsb-hero-img.jpg', 'https://dailyshotbrief.com/wp-content/themes/thedailyshotbrief/images/global-macro-currents.png', 'https://si.wsj.net/public/resources/images/B3-GE856_Dshot_NS_20200226044336.png', 'https://si.wsj.net/public/resources/images/B3-GE854_Dshot_NS_20200226044335.png', 'https://si.wsj.net/public/resources/images/B3-GE853_Dshot_NS_20200226044334.png', 'https://si.wsj.net/public/resources/images/B3-GE838_Dshot_NS_20200226044328.png', 'https://si.wsj.net/public/resources/images/B3-GE808_Dshot_NS_20200226044316.png', 'https://si.wsj.net/public/resources/images/B3-GE845_Dshot_NS_20200226044331.png', 'https://si.wsj.net/public/resources/images/B3-GE811_Dshot_NS_20200226044317.png', 'https://si.wsj.net/public/resources/images/B3-GE876_Dshot_NS_20200226044344.png', 'https://dailyshotbrief.com/wp-content/plugins/wpfront-scroll-top/images/icons/35.png']\n",
      "\n",
      "\n",
      "['post-2462', 'https://dailyshotbrief.com/the-daily-shot-brief-february-25th-2020/']\n",
      "['https://dailyshotbrief.com/wp-content/uploads/2017/06/dsb-hero-img.jpg', 'https://dailyshotbrief.com/wp-content/themes/thedailyshotbrief/images/global-macro-currents.png', 'https://si.wsj.net/public/resources/images/B3-GE504_Dshot_NS_20200225044556.png', 'https://si.wsj.net/public/resources/images/B3-GE567_Dshot_NS_20200225044622.png', 'https://si.wsj.net/public/resources/images/B3-GE521_Dshot_NS_20200225044603.png', 'https://si.wsj.net/public/resources/images/B3-GE516_Dshot_NS_20200225044601.png', 'https://si.wsj.net/public/resources/images/B3-GE581_Dshot_NS_20200225044628.png', 'https://si.wsj.net/public/resources/images/B3-GE585_Dshot_NS_20200225044630.png', 'https://dailyshotbrief.com/wp-content/plugins/wpfront-scroll-top/images/icons/35.png']\n",
      "\n",
      "\n",
      "['post-2459', 'https://dailyshotbrief.com/the-daily-shot-brief-february-24th-2020/']\n",
      "['https://dailyshotbrief.com/wp-content/uploads/2017/06/dsb-hero-img.jpg', 'https://dailyshotbrief.com/wp-content/themes/thedailyshotbrief/images/global-macro-currents.png', 'https://si.wsj.net/public/resources/images/B3-GE191_Dshot_NS_20200224043059.png', 'https://si.wsj.net/public/resources/images/B3-GE223_Dshot_NS_20200224043112.png', 'https://si.wsj.net/public/resources/images/B3-GE232_Dshot_NS_20200224043116.png', 'https://si.wsj.net/public/resources/images/B3-GE187_Dshot_NS_20200224043057.png', 'https://si.wsj.net/public/resources/images/B3-GE183_Dshot_NS_20200224043056.png', 'https://si.wsj.net/public/resources/images/B3-GE243_Dshot_NS_20200224043120.png', 'https://si.wsj.net/public/resources/images/B3-GE247_Dshot_NS_20200224043122.png', 'https://dailyshotbrief.com/wp-content/plugins/wpfront-scroll-top/images/icons/35.png']\n",
      "\n",
      "\n",
      "['post-2455', 'https://dailyshotbrief.com/the-daily-shot-brief-february-21st-2020/']\n",
      "['https://dailyshotbrief.com/wp-content/uploads/2017/06/dsb-hero-img.jpg', 'https://dailyshotbrief.com/wp-content/themes/thedailyshotbrief/images/global-macro-currents.png', 'https://si.wsj.net/public/resources/images/B3-GD957_Dshot_NS_20200221044835.png', 'https://si.wsj.net/public/resources/images/B3-GE018_Dshot_NS_20200221044901.png', 'https://si.wsj.net/public/resources/images/B3-GE036_Dshot_NS_20200221044908.png', 'https://si.wsj.net/public/resources/images/B3-GE032_Dshot_NS_20200221044906.png', 'https://si.wsj.net/public/resources/images/B3-GD988_Dshot_NS_20200221044848.png', 'https://si.wsj.net/public/resources/images/B3-GD965_Dshot_NS_20200221044839.png', 'https://si.wsj.net/public/resources/images/B3-GE039_Dshot_NS_20200221044909.png', 'https://dailyshotbrief.com/wp-content/plugins/wpfront-scroll-top/images/icons/35.png']\n",
      "\n",
      "\n",
      "['post-2452', 'https://dailyshotbrief.com/the-daily-shot-brief-february-20th-2020-2/']\n",
      "['https://dailyshotbrief.com/wp-content/uploads/2017/06/dsb-hero-img.jpg', 'https://dailyshotbrief.com/wp-content/themes/thedailyshotbrief/images/global-macro-currents.png', 'https://si.wsj.net/public/resources/images/B3-GD696_Dshot_NS_20200220044800.png', 'https://si.wsj.net/public/resources/images/B3-GD694_Dshot_NS_20200220044759.png', 'https://si.wsj.net/public/resources/images/B3-GD686_Dshot_NS_20200220044755.png', 'https://si.wsj.net/public/resources/images/B3-GD640_Dshot_NS_20200220044736.png', 'https://si.wsj.net/public/resources/images/B3-GD660_Dshot_NS_20200220044745.png', 'https://si.wsj.net/public/resources/images/B3-GD674_Dshot_NS_20200220044751.png', 'https://si.wsj.net/public/resources/images/B3-GD710_Dshot_NS_20200220044805.png', 'https://dailyshotbrief.com/wp-content/plugins/wpfront-scroll-top/images/icons/35.png']\n",
      "\n",
      "\n",
      "['post-2449', 'https://dailyshotbrief.com/the-daily-shot-brief-february-19th-2020/']\n",
      "['https://dailyshotbrief.com/wp-content/uploads/2017/06/dsb-hero-img.jpg', 'https://dailyshotbrief.com/wp-content/themes/thedailyshotbrief/images/global-macro-currents.png', 'https://si.wsj.net/public/resources/images/B3-GD496_Dshot_NS_20200219041902.png', 'https://si.wsj.net/public/resources/images/B3-GD476_Dshot_NS_20200219041854.png', 'https://si.wsj.net/public/resources/images/B3-GD462_Dshot_NS_20200219041848.png', 'https://si.wsj.net/public/resources/images/B3-GD464_Dshot_NS_20200219041849.png', 'https://si.wsj.net/public/resources/images/B3-GD437_Dshot_NS_20200219041838.png', 'https://si.wsj.net/public/resources/images/B3-GD452_Dshot_NS_20200219041844.png', 'https://si.wsj.net/public/resources/images/B3-GD497_Dshot_NS_20200219041902.png', 'https://dailyshotbrief.com/wp-content/plugins/wpfront-scroll-top/images/icons/35.png']\n",
      "\n",
      "\n",
      "['post-2446', 'https://dailyshotbrief.com/the-daily-shot-brief-february-18th-2020/']\n",
      "['https://dailyshotbrief.com/wp-content/uploads/2017/06/dsb-hero-img.jpg', 'https://dailyshotbrief.com/wp-content/themes/thedailyshotbrief/images/global-macro-currents.png', 'https://si.wsj.net/public/resources/images/B3-GD293_Dshot_NS_20200218043222.png', 'https://si.wsj.net/public/resources/images/B3-GD288_Dshot_NS_20200218043220.png', 'https://si.wsj.net/public/resources/images/B3-GD279_Dshot_NS_20200218043216.png', 'https://si.wsj.net/public/resources/images/B3-GD235_Dshot_NS_20200218043158.png', 'https://si.wsj.net/public/resources/images/B3-GD238_Dshot_NS_20200218043200.png', 'https://si.wsj.net/public/resources/images/B3-GD249_Dshot_NS_20200218043204.png', 'https://si.wsj.net/public/resources/images/B3-GD258_Dshot_NS_20200218043208.png', 'https://si.wsj.net/public/resources/images/B3-GD302_Dshot_NS_20200218043226.png', 'https://dailyshotbrief.com/wp-content/plugins/wpfront-scroll-top/images/icons/35.png']\n",
      "\n",
      "\n",
      "['post-2443', 'https://dailyshotbrief.com/the-daily-shot-brief-february-17th-2020/']\n"
     ]
    },
    {
     "name": "stdout",
     "output_type": "stream",
     "text": [
      "['https://dailyshotbrief.com/wp-content/uploads/2017/06/dsb-hero-img.jpg', 'https://dailyshotbrief.com/wp-content/themes/thedailyshotbrief/images/global-macro-currents.png', 'https://si.wsj.net/public/resources/images/B3-GD191_Dshot_NS_20200217040323.png', 'https://si.wsj.net/public/resources/images/B3-GD188_Dshot_NS_20200217040322.png', 'https://si.wsj.net/public/resources/images/B3-GD161_Dshot_NS_20200217040310.png', 'https://si.wsj.net/public/resources/images/B3-GD122_Dshot_NS_20200217040254.png', 'https://si.wsj.net/public/resources/images/B3-GD148_Dshot_NS_20200217040305.png', 'https://si.wsj.net/public/resources/images/B3-GD130_Dshot_NS_20200217040257.png', 'https://si.wsj.net/public/resources/images/B3-GD201_Dshot_NS_20200217040327.png', 'https://dailyshotbrief.com/wp-content/plugins/wpfront-scroll-top/images/icons/35.png']\n",
      "\n",
      "\n"
     ]
    }
   ],
   "source": [
    "r = get_first_request(2020, 2)\n",
    "response_results = get_page_all_articles_info(r)\n",
    "for article in response_results:\n",
    "    print(article)\n",
    "    article_request = requests.get(article[1], headers={'User-Agent': ua.random})\n",
    "    images_data = get_images_data(article_request)    \n",
    "    print(images_data)\n",
    "    print()\n",
    "    print()"
   ]
  },
  {
   "cell_type": "code",
   "execution_count": 38,
   "metadata": {},
   "outputs": [],
   "source": []
  },
  {
   "cell_type": "code",
   "execution_count": null,
   "metadata": {},
   "outputs": [],
   "source": []
  },
  {
   "cell_type": "code",
   "execution_count": null,
   "metadata": {},
   "outputs": [],
   "source": []
  },
  {
   "cell_type": "code",
   "execution_count": null,
   "metadata": {},
   "outputs": [],
   "source": []
  },
  {
   "cell_type": "code",
   "execution_count": null,
   "metadata": {},
   "outputs": [],
   "source": []
  }
 ],
 "metadata": {
  "kernelspec": {
   "display_name": "Python 3",
   "language": "python",
   "name": "python3"
  },
  "language_info": {
   "codemirror_mode": {
    "name": "ipython",
    "version": 3
   },
   "file_extension": ".py",
   "mimetype": "text/x-python",
   "name": "python",
   "nbconvert_exporter": "python",
   "pygments_lexer": "ipython3",
   "version": "3.7.3"
  }
 },
 "nbformat": 4,
 "nbformat_minor": 4
}
