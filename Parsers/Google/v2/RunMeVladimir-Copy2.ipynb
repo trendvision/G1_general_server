{
 "cells": [
  {
   "cell_type": "code",
   "execution_count": 1,
   "metadata": {},
   "outputs": [],
   "source": [
    "import pandas as pd"
   ]
  },
  {
   "cell_type": "code",
   "execution_count": 2,
   "metadata": {
    "scrolled": true
   },
   "outputs": [],
   "source": [
    "pathTags = \"companies_new.csv\"\n",
    "tags = [tag[0] for tag in pd.read_csv(pathTags, header=None).values]\n",
    "# tags = tags[23:]"
   ]
  },
  {
   "cell_type": "code",
   "execution_count": 6,
   "metadata": {},
   "outputs": [],
   "source": [
    "import Googlerv2 as Googler"
   ]
  },
  {
   "cell_type": "code",
   "execution_count": 3,
   "metadata": {},
   "outputs": [],
   "source": [
    "postFixes = ['\"Market share\"',\"Revenue\", \"Ebitda\", \"M&A\",'\"Users growth\"','\"Orders growth\"',\"Breakdown\", \"Segments\"]\n",
    "\n",
    "startDate = (20, 12, 2019) # startDay, startMonth, startYear\n",
    "endDate = (21, 12, 2019) # endDay, endMonth, endYear"
   ]
  },
  {
   "cell_type": "code",
   "execution_count": 4,
   "metadata": {},
   "outputs": [],
   "source": [
    "# Links = Googler.getLinks(startDate, endDate, tags, postFixes)"
   ]
  },
  {
   "cell_type": "code",
   "execution_count": null,
   "metadata": {},
   "outputs": [],
   "source": []
  },
  {
   "cell_type": "code",
   "execution_count": null,
   "metadata": {},
   "outputs": [],
   "source": []
  },
  {
   "cell_type": "code",
   "execution_count": null,
   "metadata": {},
   "outputs": [],
   "source": []
  },
  {
   "cell_type": "code",
   "execution_count": null,
   "metadata": {},
   "outputs": [],
   "source": []
  },
  {
   "cell_type": "code",
   "execution_count": 5,
   "metadata": {},
   "outputs": [],
   "source": []
  },
  {
   "cell_type": "code",
   "execution_count": 6,
   "metadata": {},
   "outputs": [
    {
     "name": "stderr",
     "output_type": "stream",
     "text": [
      "\r",
      "  0%|          | 0/8 [00:00<?, ?it/s, Apple]"
     ]
    },
    {
     "name": "stdout",
     "output_type": "stream",
     "text": [
      "https://www.google.co.in/search?q=Apple+\"Market+share\"&tbas=0&tbs=cdr:1,cd_min:12/20/2019,cd_max:12/21/2019&source=lnms&tbm=isch\n",
      "0\n",
      "1\n",
      "2\n",
      "3\n",
      "4\n",
      "5\n",
      "6\n",
      "7\n",
      "8\n",
      "9\n",
      "10\n",
      "11\n",
      "12\n",
      "13\n",
      "14\n",
      "15\n",
      "16\n",
      "17\n",
      "18\n",
      "19\n",
      "20\n",
      "21\n",
      "22\n",
      "23\n",
      "24\n",
      "25\n",
      "26\n",
      "27\n",
      "28\n",
      "29\n",
      "30\n",
      "31\n",
      "32\n",
      "33\n",
      "34\n",
      "35\n",
      "36\n",
      "37\n",
      "38\n",
      "39\n",
      "40\n",
      "41\n",
      "42\n",
      "43\n",
      "44\n",
      "45\n",
      "46\n",
      "47\n",
      "48\n",
      "49\n"
     ]
    },
    {
     "name": "stderr",
     "output_type": "stream",
     "text": [
      "\r",
      " 12%|█▎        | 1/8 [02:15<15:45, 135.12s/it, Apple]"
     ]
    },
    {
     "name": "stdout",
     "output_type": "stream",
     "text": [
      "0\n",
      "https://www.google.co.in/search?q=Apple+Revenue&tbas=0&tbs=cdr:1,cd_min:12/20/2019,cd_max:12/21/2019&source=lnms&tbm=isch\n",
      "0\n",
      "1\n",
      "2\n",
      "3\n",
      "4\n",
      "5\n",
      "6\n",
      "7\n",
      "8\n",
      "9\n",
      "10\n",
      "11\n",
      "12\n",
      "13\n",
      "14\n",
      "15\n",
      "16\n",
      "17\n",
      "18\n",
      "19\n",
      "20\n",
      "21\n",
      "22\n",
      "23\n",
      "24\n",
      "25\n",
      "26\n",
      "27\n",
      "28\n",
      "29\n",
      "30\n",
      "31\n",
      "32\n",
      "33\n",
      "34\n",
      "35\n",
      "36\n",
      "37\n",
      "38\n",
      "39\n",
      "40\n",
      "41\n",
      "42\n",
      "43\n",
      "44\n",
      "45\n",
      "46\n",
      "47\n",
      "48\n",
      "49\n"
     ]
    },
    {
     "name": "stderr",
     "output_type": "stream",
     "text": [
      "\r",
      " 25%|██▌       | 2/8 [04:35<13:40, 136.79s/it, Apple]"
     ]
    },
    {
     "name": "stdout",
     "output_type": "stream",
     "text": [
      "0\n",
      "https://www.google.co.in/search?q=Apple+Ebitda&tbas=0&tbs=cdr:1,cd_min:12/20/2019,cd_max:12/21/2019&source=lnms&tbm=isch\n",
      "0\n",
      "1\n",
      "2\n",
      "3\n",
      "4\n",
      "5\n",
      "6\n",
      "7\n",
      "8\n",
      "9\n",
      "10\n",
      "11\n",
      "12\n",
      "13\n",
      "14\n",
      "15\n",
      "16\n",
      "17\n",
      "18\n",
      "19\n",
      "20\n",
      "21\n",
      "22\n",
      "23\n",
      "24\n",
      "25\n",
      "26\n",
      "27\n",
      "28\n",
      "29\n",
      "30\n",
      "31\n",
      "32\n",
      "33\n",
      "34\n",
      "35\n",
      "36\n",
      "37\n",
      "38\n",
      "39\n",
      "40\n",
      "41\n",
      "42\n",
      "43\n",
      "44\n",
      "45\n",
      "46\n",
      "47\n",
      "48\n",
      "49\n"
     ]
    },
    {
     "name": "stderr",
     "output_type": "stream",
     "text": [
      "\r",
      " 38%|███▊      | 3/8 [08:57<14:31, 174.24s/it, Apple]"
     ]
    },
    {
     "name": "stdout",
     "output_type": "stream",
     "text": [
      "0\n",
      "https://www.google.co.in/search?q=Apple+M%26A&tbas=0&tbs=cdr:1,cd_min:12/20/2019,cd_max:12/21/2019&source=lnms&tbm=isch\n",
      "0\n",
      "1\n",
      "2\n",
      "3\n",
      "4\n",
      "5\n",
      "6\n",
      "7\n",
      "8\n",
      "9\n",
      "10\n"
     ]
    },
    {
     "name": "stderr",
     "output_type": "stream",
     "text": [
      "\r",
      " 50%|█████     | 4/8 [09:24<08:40, 130.02s/it, Apple]"
     ]
    },
    {
     "name": "stdout",
     "output_type": "stream",
     "text": [
      "80\n",
      "https://www.google.co.in/search?q=Apple+\"Users+growth\"&tbas=0&tbs=cdr:1,cd_min:12/20/2019,cd_max:12/21/2019&source=lnms&tbm=isch\n",
      "0\n",
      "1\n",
      "2\n",
      "3\n",
      "4\n",
      "5\n",
      "6\n",
      "7\n",
      "8\n",
      "9\n",
      "10\n",
      "11\n",
      "12\n",
      "13\n",
      "14\n",
      "15\n",
      "16\n",
      "17\n",
      "18\n",
      "19\n",
      "20\n",
      "21\n",
      "22\n",
      "23\n"
     ]
    },
    {
     "ename": "KeyboardInterrupt",
     "evalue": "",
     "output_type": "error",
     "traceback": [
      "\u001b[0;31m---------------------------------------------------------------------------\u001b[0m",
      "\u001b[0;31mKeyboardInterrupt\u001b[0m                         Traceback (most recent call last)",
      "\u001b[0;32m<ipython-input-6-77a130086b7c>\u001b[0m in \u001b[0;36m<module>\u001b[0;34m\u001b[0m\n\u001b[0;32m----> 1\u001b[0;31m \u001b[0mgetLinks\u001b[0m\u001b[0;34m(\u001b[0m\u001b[0mstartDate\u001b[0m\u001b[0;34m,\u001b[0m \u001b[0mendDate\u001b[0m\u001b[0;34m,\u001b[0m \u001b[0mtags\u001b[0m\u001b[0;34m,\u001b[0m \u001b[0mpostFixes\u001b[0m\u001b[0;34m)\u001b[0m\u001b[0;34m\u001b[0m\u001b[0;34m\u001b[0m\u001b[0m\n\u001b[0m",
      "\u001b[0;32m<ipython-input-5-ca192b049eb4>\u001b[0m in \u001b[0;36mgetLinks\u001b[0;34m(startDate, endDate, tagSet, postFixes)\u001b[0m\n\u001b[1;32m     69\u001b[0m \u001b[0;32mdef\u001b[0m \u001b[0mgetLinks\u001b[0m\u001b[0;34m(\u001b[0m\u001b[0mstartDate\u001b[0m\u001b[0;34m,\u001b[0m \u001b[0mendDate\u001b[0m\u001b[0;34m,\u001b[0m \u001b[0mtagSet\u001b[0m\u001b[0;34m,\u001b[0m \u001b[0mpostFixes\u001b[0m\u001b[0;34m)\u001b[0m\u001b[0;34m:\u001b[0m\u001b[0;34m\u001b[0m\u001b[0;34m\u001b[0m\u001b[0m\n\u001b[1;32m     70\u001b[0m     \u001b[0mqueryLinkResults\u001b[0m \u001b[0;34m=\u001b[0m \u001b[0;34m{\u001b[0m\u001b[0;34m}\u001b[0m\u001b[0;34m\u001b[0m\u001b[0;34m\u001b[0m\u001b[0m\n\u001b[0;32m---> 71\u001b[0;31m     \u001b[0;32mfor\u001b[0m \u001b[0mtag\u001b[0m \u001b[0;32min\u001b[0m \u001b[0mtagSet\u001b[0m\u001b[0;34m:\u001b[0m \u001b[0mqueryLinkResults\u001b[0m\u001b[0;34m[\u001b[0m\u001b[0mtag\u001b[0m\u001b[0;34m]\u001b[0m \u001b[0;34m=\u001b[0m \u001b[0mqueryGenerator\u001b[0m\u001b[0;34m(\u001b[0m\u001b[0mtag\u001b[0m\u001b[0;34m,\u001b[0m \u001b[0mstartDate\u001b[0m\u001b[0;34m,\u001b[0m \u001b[0mendDate\u001b[0m\u001b[0;34m,\u001b[0m \u001b[0mpostFixes\u001b[0m\u001b[0;34m)\u001b[0m\u001b[0;34m\u001b[0m\u001b[0;34m\u001b[0m\u001b[0m\n\u001b[0m\u001b[1;32m     72\u001b[0m     \u001b[0;32mreturn\u001b[0m \u001b[0mqueryLinkResults\u001b[0m\u001b[0;34m\u001b[0m\u001b[0;34m\u001b[0m\u001b[0m\n\u001b[1;32m     73\u001b[0m \u001b[0;34m\u001b[0m\u001b[0m\n",
      "\u001b[0;32m<ipython-input-5-ca192b049eb4>\u001b[0m in \u001b[0;36mqueryGenerator\u001b[0;34m(tag, startDate, endDate, postFixes)\u001b[0m\n\u001b[1;32m     64\u001b[0m \u001b[0;34m\u001b[0m\u001b[0m\n\u001b[1;32m     65\u001b[0m \u001b[0;34m\u001b[0m\u001b[0m\n\u001b[0;32m---> 66\u001b[0;31m \u001b[0;32mdef\u001b[0m \u001b[0mqueryGenerator\u001b[0m\u001b[0;34m(\u001b[0m\u001b[0mtag\u001b[0m\u001b[0;34m,\u001b[0m \u001b[0mstartDate\u001b[0m\u001b[0;34m,\u001b[0m \u001b[0mendDate\u001b[0m\u001b[0;34m,\u001b[0m \u001b[0mpostFixes\u001b[0m\u001b[0;34m)\u001b[0m\u001b[0;34m:\u001b[0m \u001b[0;32mreturn\u001b[0m \u001b[0;34m[\u001b[0m\u001b[0mrow\u001b[0m \u001b[0;32mfor\u001b[0m \u001b[0mrow\u001b[0m \u001b[0;32min\u001b[0m \u001b[0mtqdm\u001b[0m\u001b[0;34m(\u001b[0m\u001b[0mset\u001b[0m\u001b[0;34m(\u001b[0m\u001b[0mlist\u001b[0m\u001b[0;34m(\u001b[0m\u001b[0mchain\u001b[0m\u001b[0;34m.\u001b[0m\u001b[0mfrom_iterable\u001b[0m\u001b[0;34m(\u001b[0m\u001b[0;34m[\u001b[0m\u001b[0mGoogleImageLinksExtractor\u001b[0m\u001b[0;34m(\u001b[0m\u001b[0mquery\u001b[0m\u001b[0;34m,\u001b[0m \u001b[0mstartDate\u001b[0m\u001b[0;34m,\u001b[0m \u001b[0mendDate\u001b[0m\u001b[0;34m)\u001b[0m \u001b[0;32mfor\u001b[0m \u001b[0mquery\u001b[0m \u001b[0;32min\u001b[0m \u001b[0mtqdm\u001b[0m\u001b[0;34m(\u001b[0m\u001b[0mcreateQueryWords\u001b[0m\u001b[0;34m(\u001b[0m\u001b[0mtag\u001b[0m\u001b[0;34m,\u001b[0m \u001b[0mpostFixes\u001b[0m\u001b[0;34m)\u001b[0m\u001b[0;34m,\u001b[0m \u001b[0mpostfix\u001b[0m\u001b[0;34m=\u001b[0m\u001b[0mtag\u001b[0m\u001b[0;34m)\u001b[0m\u001b[0;34m]\u001b[0m\u001b[0;34m)\u001b[0m\u001b[0;34m)\u001b[0m\u001b[0;34m)\u001b[0m\u001b[0;34m)\u001b[0m\u001b[0;34m]\u001b[0m\u001b[0;34m\u001b[0m\u001b[0;34m\u001b[0m\u001b[0m\n\u001b[0m\u001b[1;32m     67\u001b[0m \u001b[0;34m\u001b[0m\u001b[0m\n\u001b[1;32m     68\u001b[0m \u001b[0;34m\u001b[0m\u001b[0m\n",
      "\u001b[0;32m<ipython-input-5-ca192b049eb4>\u001b[0m in \u001b[0;36m<listcomp>\u001b[0;34m(.0)\u001b[0m\n\u001b[1;32m     64\u001b[0m \u001b[0;34m\u001b[0m\u001b[0m\n\u001b[1;32m     65\u001b[0m \u001b[0;34m\u001b[0m\u001b[0m\n\u001b[0;32m---> 66\u001b[0;31m \u001b[0;32mdef\u001b[0m \u001b[0mqueryGenerator\u001b[0m\u001b[0;34m(\u001b[0m\u001b[0mtag\u001b[0m\u001b[0;34m,\u001b[0m \u001b[0mstartDate\u001b[0m\u001b[0;34m,\u001b[0m \u001b[0mendDate\u001b[0m\u001b[0;34m,\u001b[0m \u001b[0mpostFixes\u001b[0m\u001b[0;34m)\u001b[0m\u001b[0;34m:\u001b[0m \u001b[0;32mreturn\u001b[0m \u001b[0;34m[\u001b[0m\u001b[0mrow\u001b[0m \u001b[0;32mfor\u001b[0m \u001b[0mrow\u001b[0m \u001b[0;32min\u001b[0m \u001b[0mtqdm\u001b[0m\u001b[0;34m(\u001b[0m\u001b[0mset\u001b[0m\u001b[0;34m(\u001b[0m\u001b[0mlist\u001b[0m\u001b[0;34m(\u001b[0m\u001b[0mchain\u001b[0m\u001b[0;34m.\u001b[0m\u001b[0mfrom_iterable\u001b[0m\u001b[0;34m(\u001b[0m\u001b[0;34m[\u001b[0m\u001b[0mGoogleImageLinksExtractor\u001b[0m\u001b[0;34m(\u001b[0m\u001b[0mquery\u001b[0m\u001b[0;34m,\u001b[0m \u001b[0mstartDate\u001b[0m\u001b[0;34m,\u001b[0m \u001b[0mendDate\u001b[0m\u001b[0;34m)\u001b[0m \u001b[0;32mfor\u001b[0m \u001b[0mquery\u001b[0m \u001b[0;32min\u001b[0m \u001b[0mtqdm\u001b[0m\u001b[0;34m(\u001b[0m\u001b[0mcreateQueryWords\u001b[0m\u001b[0;34m(\u001b[0m\u001b[0mtag\u001b[0m\u001b[0;34m,\u001b[0m \u001b[0mpostFixes\u001b[0m\u001b[0;34m)\u001b[0m\u001b[0;34m,\u001b[0m \u001b[0mpostfix\u001b[0m\u001b[0;34m=\u001b[0m\u001b[0mtag\u001b[0m\u001b[0;34m)\u001b[0m\u001b[0;34m]\u001b[0m\u001b[0;34m)\u001b[0m\u001b[0;34m)\u001b[0m\u001b[0;34m)\u001b[0m\u001b[0;34m)\u001b[0m\u001b[0;34m]\u001b[0m\u001b[0;34m\u001b[0m\u001b[0;34m\u001b[0m\u001b[0m\n\u001b[0m\u001b[1;32m     67\u001b[0m \u001b[0;34m\u001b[0m\u001b[0m\n\u001b[1;32m     68\u001b[0m \u001b[0;34m\u001b[0m\u001b[0m\n",
      "\u001b[0;32m<ipython-input-5-ca192b049eb4>\u001b[0m in \u001b[0;36mGoogleImageLinksExtractor\u001b[0;34m(QueryWord, startDate, endDate)\u001b[0m\n\u001b[1;32m     47\u001b[0m     \u001b[0mprint\u001b[0m\u001b[0;34m(\u001b[0m\u001b[0mquery\u001b[0m\u001b[0;34m)\u001b[0m\u001b[0;34m\u001b[0m\u001b[0;34m\u001b[0m\u001b[0m\n\u001b[1;32m     48\u001b[0m     \u001b[0mlinkCollector\u001b[0m \u001b[0;34m=\u001b[0m \u001b[0;34m[\u001b[0m\u001b[0;34m]\u001b[0m\u001b[0;34m\u001b[0m\u001b[0;34m\u001b[0m\u001b[0m\n\u001b[0;32m---> 49\u001b[0;31m     \u001b[0mresult\u001b[0m \u001b[0;34m=\u001b[0m \u001b[0mrequestLinkSession\u001b[0m\u001b[0;34m(\u001b[0m\u001b[0mquery\u001b[0m\u001b[0;34m,\u001b[0m \u001b[0mattempts\u001b[0m\u001b[0;34m)\u001b[0m\u001b[0;34m\u001b[0m\u001b[0;34m\u001b[0m\u001b[0m\n\u001b[0m\u001b[1;32m     50\u001b[0m     \u001b[0;32mif\u001b[0m \u001b[0mresult\u001b[0m \u001b[0;32mis\u001b[0m \u001b[0;32mnot\u001b[0m \u001b[0;32mNone\u001b[0m\u001b[0;34m:\u001b[0m\u001b[0;34m\u001b[0m\u001b[0;34m\u001b[0m\u001b[0m\n\u001b[1;32m     51\u001b[0m         \u001b[0;32mfor\u001b[0m \u001b[0ma\u001b[0m \u001b[0;32min\u001b[0m \u001b[0mresult\u001b[0m\u001b[0;34m:\u001b[0m\u001b[0;34m\u001b[0m\u001b[0;34m\u001b[0m\u001b[0m\n",
      "\u001b[0;32m<ipython-input-5-ca192b049eb4>\u001b[0m in \u001b[0;36mrequestLinkSession\u001b[0;34m(url, attempts)\u001b[0m\n\u001b[1;32m     31\u001b[0m                         'Accept-Language': \"en-US,en;q=0.8\"}\n\u001b[1;32m     32\u001b[0m             \u001b[0mpage\u001b[0m \u001b[0;34m=\u001b[0m \u001b[0msession\u001b[0m\u001b[0;34m.\u001b[0m\u001b[0mget\u001b[0m\u001b[0;34m(\u001b[0m\u001b[0murl\u001b[0m\u001b[0;34m,\u001b[0m \u001b[0mheaders\u001b[0m\u001b[0;34m=\u001b[0m\u001b[0mheaders\u001b[0m\u001b[0;34m,\u001b[0m \u001b[0mtimeout\u001b[0m \u001b[0;34m=\u001b[0m \u001b[0;36m6\u001b[0m\u001b[0;34m)\u001b[0m\u001b[0;34m\u001b[0m\u001b[0;34m\u001b[0m\u001b[0m\n\u001b[0;32m---> 33\u001b[0;31m             \u001b[0mcontent\u001b[0m \u001b[0;34m=\u001b[0m \u001b[0mbs\u001b[0m\u001b[0;34m(\u001b[0m\u001b[0mpage\u001b[0m\u001b[0;34m.\u001b[0m\u001b[0mcontent\u001b[0m\u001b[0;34m,\u001b[0m \u001b[0mfeatures\u001b[0m\u001b[0;34m=\u001b[0m\u001b[0;34m\"lxml\"\u001b[0m\u001b[0;34m)\u001b[0m\u001b[0;34m\u001b[0m\u001b[0;34m\u001b[0m\u001b[0m\n\u001b[0m\u001b[1;32m     34\u001b[0m             \u001b[0mmeta\u001b[0m \u001b[0;34m=\u001b[0m \u001b[0mcontent\u001b[0m\u001b[0;34m.\u001b[0m\u001b[0mfind_all\u001b[0m\u001b[0;34m(\u001b[0m\u001b[0;34m\"div\"\u001b[0m\u001b[0;34m,\u001b[0m\u001b[0;34m{\u001b[0m\u001b[0;34m\"class\"\u001b[0m\u001b[0;34m:\u001b[0m\u001b[0;34m\"rg_meta\"\u001b[0m\u001b[0;34m}\u001b[0m\u001b[0;34m)\u001b[0m\u001b[0;34m\u001b[0m\u001b[0;34m\u001b[0m\u001b[0m\n\u001b[1;32m     35\u001b[0m             \u001b[0;32mif\u001b[0m \u001b[0mpage\u001b[0m\u001b[0;34m.\u001b[0m\u001b[0mstatus_code\u001b[0m \u001b[0;32mnot\u001b[0m \u001b[0;32min\u001b[0m \u001b[0;34m[\u001b[0m\u001b[0;36m403\u001b[0m\u001b[0;34m,\u001b[0m \u001b[0;36m404\u001b[0m\u001b[0;34m]\u001b[0m \u001b[0;32mand\u001b[0m \u001b[0mlen\u001b[0m\u001b[0;34m(\u001b[0m\u001b[0mmeta\u001b[0m\u001b[0;34m)\u001b[0m \u001b[0;34m>\u001b[0m \u001b[0;36m0\u001b[0m\u001b[0;34m:\u001b[0m\u001b[0;34m\u001b[0m\u001b[0;34m\u001b[0m\u001b[0m\n",
      "\u001b[0;32m~/anaconda3/lib/python3.7/site-packages/bs4/__init__.py\u001b[0m in \u001b[0;36m__init__\u001b[0;34m(self, markup, features, builder, parse_only, from_encoding, exclude_encodings, **kwargs)\u001b[0m\n\u001b[1;32m    276\u001b[0m          \u001b[0mself\u001b[0m\u001b[0;34m.\u001b[0m\u001b[0mcontains_replacement_characters\u001b[0m\u001b[0;34m)\u001b[0m \u001b[0;32min\u001b[0m \u001b[0;34m(\u001b[0m\u001b[0;34m\u001b[0m\u001b[0;34m\u001b[0m\u001b[0m\n\u001b[1;32m    277\u001b[0m              self.builder.prepare_markup(\n\u001b[0;32m--> 278\u001b[0;31m                  markup, from_encoding, exclude_encodings=exclude_encodings)):\n\u001b[0m\u001b[1;32m    279\u001b[0m             \u001b[0mself\u001b[0m\u001b[0;34m.\u001b[0m\u001b[0mreset\u001b[0m\u001b[0;34m(\u001b[0m\u001b[0;34m)\u001b[0m\u001b[0;34m\u001b[0m\u001b[0;34m\u001b[0m\u001b[0m\n\u001b[1;32m    280\u001b[0m             \u001b[0;32mtry\u001b[0m\u001b[0;34m:\u001b[0m\u001b[0;34m\u001b[0m\u001b[0;34m\u001b[0m\u001b[0m\n",
      "\u001b[0;32m~/anaconda3/lib/python3.7/site-packages/bs4/builder/_lxml.py\u001b[0m in \u001b[0;36mprepare_markup\u001b[0;34m(self, markup, user_specified_encoding, exclude_encodings, document_declared_encoding)\u001b[0m\n\u001b[1;32m    147\u001b[0m         detector = EncodingDetector(\n\u001b[1;32m    148\u001b[0m             markup, try_encodings, is_html, exclude_encodings)\n\u001b[0;32m--> 149\u001b[0;31m         \u001b[0;32mfor\u001b[0m \u001b[0mencoding\u001b[0m \u001b[0;32min\u001b[0m \u001b[0mdetector\u001b[0m\u001b[0;34m.\u001b[0m\u001b[0mencodings\u001b[0m\u001b[0;34m:\u001b[0m\u001b[0;34m\u001b[0m\u001b[0;34m\u001b[0m\u001b[0m\n\u001b[0m\u001b[1;32m    150\u001b[0m             \u001b[0;32myield\u001b[0m \u001b[0;34m(\u001b[0m\u001b[0mdetector\u001b[0m\u001b[0;34m.\u001b[0m\u001b[0mmarkup\u001b[0m\u001b[0;34m,\u001b[0m \u001b[0mencoding\u001b[0m\u001b[0;34m,\u001b[0m \u001b[0mdocument_declared_encoding\u001b[0m\u001b[0;34m,\u001b[0m \u001b[0;32mFalse\u001b[0m\u001b[0;34m)\u001b[0m\u001b[0;34m\u001b[0m\u001b[0;34m\u001b[0m\u001b[0m\n\u001b[1;32m    151\u001b[0m \u001b[0;34m\u001b[0m\u001b[0m\n",
      "\u001b[0;32m~/anaconda3/lib/python3.7/site-packages/bs4/dammit.py\u001b[0m in \u001b[0;36mencodings\u001b[0;34m(self)\u001b[0m\n\u001b[1;32m    261\u001b[0m         \u001b[0;31m# encoding.\u001b[0m\u001b[0;34m\u001b[0m\u001b[0;34m\u001b[0m\u001b[0;34m\u001b[0m\u001b[0m\n\u001b[1;32m    262\u001b[0m         \u001b[0;32mif\u001b[0m \u001b[0mself\u001b[0m\u001b[0;34m.\u001b[0m\u001b[0mchardet_encoding\u001b[0m \u001b[0;32mis\u001b[0m \u001b[0;32mNone\u001b[0m\u001b[0;34m:\u001b[0m\u001b[0;34m\u001b[0m\u001b[0;34m\u001b[0m\u001b[0m\n\u001b[0;32m--> 263\u001b[0;31m             \u001b[0mself\u001b[0m\u001b[0;34m.\u001b[0m\u001b[0mchardet_encoding\u001b[0m \u001b[0;34m=\u001b[0m \u001b[0mchardet_dammit\u001b[0m\u001b[0;34m(\u001b[0m\u001b[0mself\u001b[0m\u001b[0;34m.\u001b[0m\u001b[0mmarkup\u001b[0m\u001b[0;34m)\u001b[0m\u001b[0;34m\u001b[0m\u001b[0;34m\u001b[0m\u001b[0m\n\u001b[0m\u001b[1;32m    264\u001b[0m         \u001b[0;32mif\u001b[0m \u001b[0mself\u001b[0m\u001b[0;34m.\u001b[0m\u001b[0m_usable\u001b[0m\u001b[0;34m(\u001b[0m\u001b[0mself\u001b[0m\u001b[0;34m.\u001b[0m\u001b[0mchardet_encoding\u001b[0m\u001b[0;34m,\u001b[0m \u001b[0mtried\u001b[0m\u001b[0;34m)\u001b[0m\u001b[0;34m:\u001b[0m\u001b[0;34m\u001b[0m\u001b[0;34m\u001b[0m\u001b[0m\n\u001b[1;32m    265\u001b[0m             \u001b[0;32myield\u001b[0m \u001b[0mself\u001b[0m\u001b[0;34m.\u001b[0m\u001b[0mchardet_encoding\u001b[0m\u001b[0;34m\u001b[0m\u001b[0;34m\u001b[0m\u001b[0m\n",
      "\u001b[0;32m~/anaconda3/lib/python3.7/site-packages/bs4/dammit.py\u001b[0m in \u001b[0;36mchardet_dammit\u001b[0;34m(s)\u001b[0m\n\u001b[1;32m     31\u001b[0m         \u001b[0;32mimport\u001b[0m \u001b[0mchardet\u001b[0m\u001b[0;34m\u001b[0m\u001b[0;34m\u001b[0m\u001b[0m\n\u001b[1;32m     32\u001b[0m         \u001b[0;32mdef\u001b[0m \u001b[0mchardet_dammit\u001b[0m\u001b[0;34m(\u001b[0m\u001b[0ms\u001b[0m\u001b[0;34m)\u001b[0m\u001b[0;34m:\u001b[0m\u001b[0;34m\u001b[0m\u001b[0;34m\u001b[0m\u001b[0m\n\u001b[0;32m---> 33\u001b[0;31m             \u001b[0;32mreturn\u001b[0m \u001b[0mchardet\u001b[0m\u001b[0;34m.\u001b[0m\u001b[0mdetect\u001b[0m\u001b[0;34m(\u001b[0m\u001b[0ms\u001b[0m\u001b[0;34m)\u001b[0m\u001b[0;34m[\u001b[0m\u001b[0;34m'encoding'\u001b[0m\u001b[0;34m]\u001b[0m\u001b[0;34m\u001b[0m\u001b[0;34m\u001b[0m\u001b[0m\n\u001b[0m\u001b[1;32m     34\u001b[0m         \u001b[0;31m#import chardet.constants\u001b[0m\u001b[0;34m\u001b[0m\u001b[0;34m\u001b[0m\u001b[0;34m\u001b[0m\u001b[0m\n\u001b[1;32m     35\u001b[0m         \u001b[0;31m#chardet.constants._debug = 1\u001b[0m\u001b[0;34m\u001b[0m\u001b[0;34m\u001b[0m\u001b[0;34m\u001b[0m\u001b[0m\n",
      "\u001b[0;32m~/anaconda3/lib/python3.7/site-packages/chardet/__init__.py\u001b[0m in \u001b[0;36mdetect\u001b[0;34m(byte_str)\u001b[0m\n\u001b[1;32m     36\u001b[0m             \u001b[0mbyte_str\u001b[0m \u001b[0;34m=\u001b[0m \u001b[0mbytearray\u001b[0m\u001b[0;34m(\u001b[0m\u001b[0mbyte_str\u001b[0m\u001b[0;34m)\u001b[0m\u001b[0;34m\u001b[0m\u001b[0;34m\u001b[0m\u001b[0m\n\u001b[1;32m     37\u001b[0m     \u001b[0mdetector\u001b[0m \u001b[0;34m=\u001b[0m \u001b[0mUniversalDetector\u001b[0m\u001b[0;34m(\u001b[0m\u001b[0;34m)\u001b[0m\u001b[0;34m\u001b[0m\u001b[0;34m\u001b[0m\u001b[0m\n\u001b[0;32m---> 38\u001b[0;31m     \u001b[0mdetector\u001b[0m\u001b[0;34m.\u001b[0m\u001b[0mfeed\u001b[0m\u001b[0;34m(\u001b[0m\u001b[0mbyte_str\u001b[0m\u001b[0;34m)\u001b[0m\u001b[0;34m\u001b[0m\u001b[0;34m\u001b[0m\u001b[0m\n\u001b[0m\u001b[1;32m     39\u001b[0m     \u001b[0;32mreturn\u001b[0m \u001b[0mdetector\u001b[0m\u001b[0;34m.\u001b[0m\u001b[0mclose\u001b[0m\u001b[0;34m(\u001b[0m\u001b[0;34m)\u001b[0m\u001b[0;34m\u001b[0m\u001b[0;34m\u001b[0m\u001b[0m\n",
      "\u001b[0;32m~/anaconda3/lib/python3.7/site-packages/chardet/universaldetector.py\u001b[0m in \u001b[0;36mfeed\u001b[0;34m(self, byte_str)\u001b[0m\n\u001b[1;32m    209\u001b[0m                 \u001b[0mself\u001b[0m\u001b[0;34m.\u001b[0m\u001b[0m_charset_probers\u001b[0m\u001b[0;34m.\u001b[0m\u001b[0mappend\u001b[0m\u001b[0;34m(\u001b[0m\u001b[0mLatin1Prober\u001b[0m\u001b[0;34m(\u001b[0m\u001b[0;34m)\u001b[0m\u001b[0;34m)\u001b[0m\u001b[0;34m\u001b[0m\u001b[0;34m\u001b[0m\u001b[0m\n\u001b[1;32m    210\u001b[0m             \u001b[0;32mfor\u001b[0m \u001b[0mprober\u001b[0m \u001b[0;32min\u001b[0m \u001b[0mself\u001b[0m\u001b[0;34m.\u001b[0m\u001b[0m_charset_probers\u001b[0m\u001b[0;34m:\u001b[0m\u001b[0;34m\u001b[0m\u001b[0;34m\u001b[0m\u001b[0m\n\u001b[0;32m--> 211\u001b[0;31m                 \u001b[0;32mif\u001b[0m \u001b[0mprober\u001b[0m\u001b[0;34m.\u001b[0m\u001b[0mfeed\u001b[0m\u001b[0;34m(\u001b[0m\u001b[0mbyte_str\u001b[0m\u001b[0;34m)\u001b[0m \u001b[0;34m==\u001b[0m \u001b[0mProbingState\u001b[0m\u001b[0;34m.\u001b[0m\u001b[0mFOUND_IT\u001b[0m\u001b[0;34m:\u001b[0m\u001b[0;34m\u001b[0m\u001b[0;34m\u001b[0m\u001b[0m\n\u001b[0m\u001b[1;32m    212\u001b[0m                     self.result = {'encoding': prober.charset_name,\n\u001b[1;32m    213\u001b[0m                                    \u001b[0;34m'confidence'\u001b[0m\u001b[0;34m:\u001b[0m \u001b[0mprober\u001b[0m\u001b[0;34m.\u001b[0m\u001b[0mget_confidence\u001b[0m\u001b[0;34m(\u001b[0m\u001b[0;34m)\u001b[0m\u001b[0;34m,\u001b[0m\u001b[0;34m\u001b[0m\u001b[0;34m\u001b[0m\u001b[0m\n",
      "\u001b[0;32m~/anaconda3/lib/python3.7/site-packages/chardet/latin1prober.py\u001b[0m in \u001b[0;36mfeed\u001b[0;34m(self, byte_str)\u001b[0m\n\u001b[1;32m    118\u001b[0m         \u001b[0;32mfor\u001b[0m \u001b[0mc\u001b[0m \u001b[0;32min\u001b[0m \u001b[0mbyte_str\u001b[0m\u001b[0;34m:\u001b[0m\u001b[0;34m\u001b[0m\u001b[0;34m\u001b[0m\u001b[0m\n\u001b[1;32m    119\u001b[0m             \u001b[0mchar_class\u001b[0m \u001b[0;34m=\u001b[0m \u001b[0mLatin1_CharToClass\u001b[0m\u001b[0;34m[\u001b[0m\u001b[0mc\u001b[0m\u001b[0;34m]\u001b[0m\u001b[0;34m\u001b[0m\u001b[0;34m\u001b[0m\u001b[0m\n\u001b[0;32m--> 120\u001b[0;31m             freq = Latin1ClassModel[(self._last_char_class * CLASS_NUM)\n\u001b[0m\u001b[1;32m    121\u001b[0m                                     + char_class]\n\u001b[1;32m    122\u001b[0m             \u001b[0;32mif\u001b[0m \u001b[0mfreq\u001b[0m \u001b[0;34m==\u001b[0m \u001b[0;36m0\u001b[0m\u001b[0;34m:\u001b[0m\u001b[0;34m\u001b[0m\u001b[0;34m\u001b[0m\u001b[0m\n",
      "\u001b[0;31mKeyboardInterrupt\u001b[0m: "
     ]
    }
   ],
   "source": [
    "getLinks(startDate, endDate, tags, postFixes)"
   ]
  },
  {
   "cell_type": "code",
   "execution_count": null,
   "metadata": {},
   "outputs": [],
   "source": []
  },
  {
   "cell_type": "code",
   "execution_count": null,
   "metadata": {},
   "outputs": [],
   "source": []
  },
  {
   "cell_type": "code",
   "execution_count": 20,
   "metadata": {},
   "outputs": [],
   "source": []
  },
  {
   "cell_type": "code",
   "execution_count": 66,
   "metadata": {},
   "outputs": [],
   "source": [
    "def requestLinkSession(url, attempts):\n",
    "    for _ in range(0, attempts):\n",
    "        try:\n",
    "            session = requests.Session()\n",
    "            headers =  {'Accept': 'text/html,application/xhtml+xml,application/xml;q=0.9,*/*;q=0.8',\n",
    "                        'User-Agent': str(generate_user_agent(device_type='desktop', os=('mac', 'linux'))),\n",
    "                        'Connection': 'Keep-Alive',\n",
    "                        'Accept-Encoding': 'gzip, deflate',\n",
    "                        'Accept-Language': \"en-US,en;q=0.8\"}\n",
    "            page = session.get(url, headers=headers, timeout = 6)\n",
    "            content = bs(page.content, features=\"lxml\")\n",
    "            meta = content.find_all(\"div\",{\"class\":\"rg_meta\"})\n",
    "            if page.status_code not in [403, 404] and len(meta) > 0:\n",
    "                return meta\n",
    "        except Exception as err:\n",
    "            print(err)\n",
    "            pass"
   ]
  },
  {
   "cell_type": "code",
   "execution_count": 67,
   "metadata": {
    "scrolled": true
   },
   "outputs": [
    {
     "data": {
      "text/plain": [
       "[<div class=\"rg_meta notranslate\">{\"cb\":3,\"id\":\"H9MLdqSrLbWcuM:\",\"isu\":\"businessinsider.com\",\"itg\":0,\"ity\":\"\",\"oh\":707,\"ou\":\"https://i.insider.com/51a6234decad04fa61000005\",\"ow\":915,\"pt\":\"Samsung Smartphone Market Share - Business Insider\",\"rh\":\"businessinsider.com\",\"rid\":\"8NTA7MhUirFz3M\",\"rmt\":0,\"rt\":0,\"ru\":\"https://www.businessinsider.com/samsung-smartphone-market-share-2013-5\",\"sc\":1,\"st\":\"Business Insider\",\"th\":197,\"tu\":\"https://encrypted-tbn0.gstatic.com/images?q\\u003dtbn:ANd9GcRuQaUltF_OEC5OpI2_mCIZeewCuaPML7EF5CjAl9nrI3uNxGYfaQ\\u0026s\",\"tw\":255}</div>,\n",
       " <div class=\"rg_meta notranslate\">{\"cb\":3,\"id\":\"CUvswzkzrFRx7M:\",\"isu\":\"washingtonpost.com\",\"itg\":0,\"ity\":\"php\",\"oh\":403,\"ou\":\"https://www.washingtonpost.com/wp-apps/imrs.php?src\\u003dhttps://arc-anglerfish-washpost-prod-washpost.s3.amazonaws.com/public/ZHWV626V3A6HFEAFW5RQ4GLQM4.png\\u0026w\\u003d767\",\"ow\":767,\"pt\":\"This chart shows how far behind Apple is in the global phone ...\",\"rh\":\"washingtonpost.com\",\"rid\":\"4WX6LjuL2Mn5CM\",\"rmt\":0,\"rt\":0,\"ru\":\"https://www.washingtonpost.com/news/the-switch/wp/2013/08/20/this-chart-shows-how-far-behind-apple-is-in-the-global-phone-market/\",\"sc\":1,\"st\":\"Washington Post\",\"th\":163,\"tu\":\"https://encrypted-tbn0.gstatic.com/images?q\\u003dtbn:ANd9GcT1je0_Pr0MzIxS5BZmFR4esn6NubiL3VrgKC8dFcieERfke4ouaQ\\u0026s\",\"tw\":310}</div>,\n",
       " <div class=\"rg_meta notranslate\">{\"cb\":3,\"ct\":3,\"id\":\"ns7LUPXGwbRg7M:\",\"isu\":\"phonearena.com\",\"itg\":0,\"ity\":\"jpg\",\"oh\":627,\"ou\":\"https://i-cdn.phonearena.com/images/article/116937-two/The-Apple-App-Store-continues-to-outperform-the-Google-Play-Store.jpg\",\"ow\":940,\"pt\":\"The Apple App Store continues to outperform the Google Play ...\",\"rh\":\"phonearena.com\",\"rid\":\"qnNqtK69cYYe_M\",\"rmt\":0,\"rt\":0,\"ru\":\"https://www.phonearena.com/news/App-Store-continues-to-generate-more-revenue-than-Google-Play-Store_id116937\",\"sc\":1,\"st\":\"PhoneArena\",\"th\":183,\"tu\":\"https://encrypted-tbn0.gstatic.com/images?q\\u003dtbn:ANd9GcTFB7T8bHi_83inz_YozkXdR5mD6aoK0JvHWTS9vsUkXYRaiG4DRQ\\u0026s\",\"tw\":275}</div>,\n",
       " <div class=\"rg_meta notranslate\">{\"id\":\"J32M-AqRjEIsVM:\",\"isu\":\"businessinsider.com\",\"itg\":0,\"ity\":\"\",\"oh\":445,\"ou\":\"https://i.insider.com/5b05878947ac592a008b53e3?width\\u003d600\\u0026format\\u003djpeg\\u0026auto\\u003dwebp\",\"ow\":600,\"pt\":\"Apple shines despite Q1 smartphone dip - Business Insider\",\"rh\":\"businessinsider.com\",\"rid\":\"zZzb-eflGarpKM\",\"rmt\":0,\"rt\":0,\"ru\":\"https://www.businessinsider.com/apple-q1-smartphone-dip-2018-5\",\"sc\":1,\"st\":\"Business Insider\",\"th\":193,\"tu\":\"https://encrypted-tbn0.gstatic.com/images?q\\u003dtbn:ANd9GcTjiBMd5nc9cPgzEW4JszduUXYfEx0wasZivHxm1Lbsw7GLkCu3\\u0026s\",\"tw\":261}</div>,\n",
       " <div class=\"rg_meta notranslate\">{\"cl\":3,\"cr\":3,\"ct\":3,\"id\":\"ppM_7bZyCzElPM:\",\"isu\":\"statista.com\",\"itg\":0,\"ity\":\"png\",\"oh\":253,\"ou\":\"https://cdn.statcdn.com/Statistic/545000/545520-blank-355.png\",\"ow\":355,\"pt\":\"U.S. internet browser market share 2015-2019 | Statista\",\"rh\":\"statista.com\",\"rid\":\"Qltmdy1ap1WvIM\",\"rmt\":0,\"rt\":0,\"ru\":\"https://www.statista.com/statistics/545520/market-share-of-internet-browsers-usa/\",\"sc\":1,\"st\":\"Statista\",\"th\":189,\"tu\":\"https://encrypted-tbn0.gstatic.com/images?q\\u003dtbn:ANd9GcQd2Znudp9ulMKg9emOJmWcGs5SjyZlmJaEJ3w520O82TI7V37y8w\\u0026s\",\"tw\":266}</div>,\n",
       " <div class=\"rg_meta notranslate\">{\"cl\":3,\"cr\":3,\"ct\":3,\"id\":\"wZt5BHdN2W0XvM:\",\"isu\":\"statista.com\",\"itg\":0,\"ity\":\"png\",\"oh\":253,\"ou\":\"https://cdn.statcdn.com/Statistic/500000/500235-blank-355.png\",\"ow\":355,\"pt\":\"Global tablet market share by vendor 2014-2019 | Statista\",\"rh\":\"statista.com\",\"rid\":\"mijVBnQsdAdOBM\",\"rmt\":0,\"rt\":0,\"ru\":\"https://www.statista.com/statistics/500235/tablet-market-share-by-vendor-worldwide/\",\"sc\":1,\"st\":\"Statista\",\"th\":189,\"tu\":\"https://encrypted-tbn0.gstatic.com/images?q\\u003dtbn:ANd9GcRPtk-XxqeZXX4PBAp07ifRJh-7j835kc9unWxkTGFM2Q69d5DSrQ\\u0026s\",\"tw\":266}</div>,\n",
       " <div class=\"rg_meta notranslate\">{\"cl\":3,\"ct\":3,\"id\":\"9FUprsiKd2ljGM:\",\"isu\":\"revu.com.ph\",\"itg\":0,\"ity\":\"jpg\",\"oh\":480,\"ou\":\"https://secureservercdn.net/166.62.108.43/7x3.214.myftpupload.com/wp-content/uploads/2019/12/Top-6-smartphone-companies-revenue-profit-market-share-Q3-2019-Revu-Philippines.jpg\",\"ow\":888,\"pt\":\"Apple dominates with 66% share of phone profits in Q3 2019 ...\",\"rh\":\"revu.com.ph\",\"rid\":\"Nj17Zinv8B-VqM\",\"rmt\":0,\"rt\":0,\"ru\":\"https://www.revu.com.ph/2019/12/apple-dominates-smartphone-profit-share/\",\"sc\":1,\"st\":\"revü\",\"th\":165,\"tu\":\"https://encrypted-tbn0.gstatic.com/images?q\\u003dtbn:ANd9GcSib1d0rLiYtt2aCHEHVmroz_S4vU5KucyHedyexNkDMo8XBVcA\\u0026s\",\"tw\":306}</div>,\n",
       " <div class=\"rg_meta notranslate\">{\"cl\":3,\"cr\":3,\"ct\":3,\"id\":\"oo_BziG-BitF1M:\",\"isu\":\"businessinsider.com\",\"itg\":0,\"ity\":\"\",\"oh\":563,\"ou\":\"https://i.insider.com/5bd9bf410d7c672f416e02eb?width\\u003d750\\u0026format\\u003djpeg\\u0026auto\\u003dwebp\",\"ow\":750,\"pt\":\"Google, Apple, and Microsoft are competing to dominate ...\",\"rh\":\"businessinsider.com\",\"rid\":\"OLzgQ9a9UeNeoM\",\"rmt\":0,\"rt\":0,\"ru\":\"https://www.businessinsider.com/google-apple-microsoft-competing-dominate-education-technology-market-2018-11\",\"sc\":1,\"st\":\"Business Insider\",\"th\":194,\"tu\":\"https://encrypted-tbn0.gstatic.com/images?q\\u003dtbn:ANd9GcTwEwVchPVm-t0bXlpqtcQCZCfbPe_J2kz3KBLWDJacE8AqGZIv\\u0026s\",\"tw\":259}</div>,\n",
       " <div class=\"rg_meta notranslate\">{\"cb\":3,\"cl\":3,\"cr\":3,\"ct\":3,\"id\":\"IXpUK58ZR3CsOM:\",\"isu\":\"nasdaq.com\",\"itg\":1,\"ity\":\"jpg\",\"oh\":400,\"ou\":\"https://www.nasdaq.com/sites/acquia.prod/files/styles/720x400/public/image/2dabcdf1cdc18504e49b2484b890090199fea4a0_image3_large.jpg?itok\\u003dGWuQ4IMg\",\"ow\":720,\"pt\":\"A Foolish Take: Apple Dominates the Wearables Market Again ...\",\"rh\":\"nasdaq.com\",\"rid\":\"R_nSp2r9LfTTVM\",\"rmt\":0,\"rt\":0,\"ru\":\"https://www.nasdaq.com/articles/foolish-take-apple-dominates-wearables-market-again-2018-09-10\",\"sc\":1,\"st\":\"Nasdaq\",\"th\":167,\"tu\":\"https://encrypted-tbn0.gstatic.com/images?q\\u003dtbn:ANd9GcQM-V5gCyjmdexDj88sF-d2vja6lPMINIspi0z-0lwmrstq_Wqy\\u0026s\",\"tw\":301}</div>,\n",
       " <div class=\"rg_meta notranslate\">{\"cl\":3,\"cr\":3,\"ct\":3,\"id\":\"1_TC1NDx-UI9kM:\",\"isu\":\"statista.com\",\"itg\":0,\"ity\":\"png\",\"oh\":253,\"ou\":\"https://cdn.statcdn.com/Statistic/920000/921413-blank-355.png\",\"ow\":355,\"pt\":\"Smartphone market share by model in France 2019 | Statista\",\"rh\":\"statista.com\",\"rid\":\"RhQ9myw0nhDIqM\",\"rmt\":0,\"rt\":0,\"ru\":\"https://www.statista.com/statistics/921413/smartphone-market-share-in-france-by-model/\",\"sc\":1,\"st\":\"Statista\",\"th\":189,\"tu\":\"https://encrypted-tbn0.gstatic.com/images?q\\u003dtbn:ANd9GcRWLnKWXAxfyMITWC6YOR8xyqs_GJ5VS4da6DQWJDnqSmgddirz\\u0026s\",\"tw\":266}</div>,\n",
       " <div class=\"rg_meta notranslate\">{\"cr\":3,\"ct\":3,\"id\":\"8bCW3XXe4zPwgM:\",\"isu\":\"androidcentral.com\",\"itg\":0,\"ity\":\"png\",\"oh\":483,\"ou\":\"https://www.androidcentral.com/sites/androidcentral.com/files/styles/mediumplus/public/article_images/2017/09/global-market-share-huawei.png?itok\\u003d0-sRsev0\",\"ow\":600,\"pt\":\"Huawei leaps past Apple to become the second-largest ...\",\"rh\":\"androidcentral.com\",\"rid\":\"cvGFmij3p9V5SM\",\"rmt\":0,\"rt\":0,\"ru\":\"https://www.androidcentral.com/huawei-leaps-past-apple-become-second-largest-smartphone-company-world-now\",\"sc\":1,\"st\":\"Android Central\",\"th\":201,\"tu\":\"https://encrypted-tbn0.gstatic.com/images?q\\u003dtbn:ANd9GcRX0ZMC5DkMknZryZqdt6sEa0JQMfYSC_XUJ7oLbaTY28HqBmaX\\u0026s\",\"tw\":250}</div>,\n",
       " <div class=\"rg_meta notranslate\">{\"id\":\"XCxIv4MAo0U11M:\",\"isu\":\"businessinsider.com\",\"itg\":0,\"ity\":\"\",\"oh\":422,\"ou\":\"https://image.businessinsider.com/5b5ae3328ea82f1c008b4728?width\\u003d750\\u0026format\\u003djpeg\\u0026auto\\u003dwebp\",\"ow\":750,\"pt\":\"Apple Watch dominance is under threat, analysts warn ...\",\"rh\":\"businessinsider.com\",\"rid\":\"Cb_T8uIdRNB9gM\",\"rmt\":0,\"rt\":0,\"ru\":\"https://www.businessinsider.com/apple-watch-dominance-is-under-threat-analysts-warn-2018-7\",\"sc\":1,\"st\":\"Business Insider\",\"th\":168,\"tu\":\"https://encrypted-tbn0.gstatic.com/images?q\\u003dtbn:ANd9GcSVjEQE1oPs7r5q6WrPFgWJs6_iw_PPrJI9HxYQK9W49E-Y4VPg3Q\\u0026s\",\"tw\":299}</div>,\n",
       " <div class=\"rg_meta notranslate\">{\"ct\":3,\"id\":\"LeiaNAYxGwyr4M:\",\"isu\":\"mattward.io\",\"itg\":0,\"ity\":\"jpeg\",\"oh\":421,\"ou\":\"https://i1.wp.com/cdn-images-1.medium.com/max/1280/1*2k8SPa9lTkjlGdxnSgqB_w.jpeg?w\\u003d592\\u0026ssl\\u003d1\",\"ow\":592,\"pt\":\"Apple: The Fading Star? - Matt Ward\",\"rh\":\"mattward.io\",\"rid\":\"4NxxBaIgUsxgNM\",\"rmt\":0,\"rt\":0,\"ru\":\"https://mattward.io/apple-the-fading-star/\",\"sc\":1,\"st\":\"Matt Ward\",\"th\":189,\"tu\":\"https://encrypted-tbn0.gstatic.com/images?q\\u003dtbn:ANd9GcS72QQlgxIG-58VsSFKL7vKqq6g2OPZ9pxaNZoyQYcLV_OYic7_\\u0026s\",\"tw\":266}</div>,\n",
       " <div class=\"rg_meta notranslate\">{\"cb\":6,\"cl\":6,\"cr\":9,\"ct\":6,\"id\":\"OHzWxPTWqZay-M:\",\"isu\":\"ibtimes.co.uk\",\"itg\":0,\"ity\":\"png\",\"oh\":386,\"ou\":\"https://d.ibtimes.co.uk/en/full/296747/q2-2012-global-tablet-shipments.png?w\\u003d600\\u0026e\\u003d40655017048ad58cfd6c01651786cd08\",\"ow\":600,\"pt\":\"Apple iPad Regains 70% Tablet Market Share\",\"rh\":\"ibtimes.co.uk\",\"rid\":\"F845pifUPjU2iM\",\"rmt\":0,\"rt\":0,\"ru\":\"https://www.ibtimes.co.uk/apple-ipad-tablet-market-domination-samsung-amazon-373830\",\"sc\":1,\"st\":\"IBTimes UK\",\"th\":180,\"tu\":\"https://encrypted-tbn0.gstatic.com/images?q\\u003dtbn:ANd9GcSXwWj7uPaquG0HJj2l1yL8ypQFjYuJAGN-So6CFPVEaID1gPK4MQ\\u0026s\",\"tw\":280}</div>,\n",
       " <div class=\"rg_meta notranslate\">{\"cl\":3,\"cr\":3,\"id\":\"mIO-bhUyq1qZhM:\",\"isu\":\"mattward.io\",\"itg\":0,\"ity\":\"jpeg\",\"oh\":443,\"ou\":\"https://i0.wp.com/cdn-images-1.medium.com/max/1280/1*Vmr1Ek1-B4Yb3gHV6MXopg.jpeg?w\\u003d592\\u0026ssl\\u003d1\",\"ow\":592,\"pt\":\"Apple: The Fading Star? - Matt Ward\",\"rh\":\"mattward.io\",\"rid\":\"4NxxBaIgUsxgNM\",\"rmt\":0,\"rt\":0,\"ru\":\"https://mattward.io/apple-the-fading-star/\",\"sc\":1,\"st\":\"Matt Ward\",\"th\":194,\"tu\":\"https://encrypted-tbn0.gstatic.com/images?q\\u003dtbn:ANd9GcQSiiOfq0Ss2k8BIJhgKaYUw3f_9B_49xMuA40O4BsbUqQFfqsa\\u0026s\",\"tw\":260}</div>,\n",
       " <div class=\"rg_meta notranslate\">{\"id\":\"NrDfLrp53m-MiM:\",\"isu\":\"marketrealist.com\",\"itg\":1,\"ity\":\"png\",\"oh\":214,\"ou\":\"https://marketrealist.imgix.net/uploads/2015/04/Smartphone-OS-market-share_Feb-20151.png?auto\\u003dcompress%2Cformat\\u0026ixlib\\u003dphp-1.2.1\",\"ow\":300,\"pt\":\"Android to iPhone 6 Migration Isn\\u0027t Panning Out as Apple ...\",\"rh\":\"marketrealist.com\",\"rid\":\"3OoXJ3Kgh34_EM\",\"rmt\":0,\"rt\":0,\"ru\":\"https://marketrealist.com/2015/04/android-iphone-6-migration-not-happening-apple-expected/\",\"sc\":1,\"st\":\"Market Realist\",\"th\":190,\"tu\":\"https://encrypted-tbn0.gstatic.com/images?q\\u003dtbn:ANd9GcSCyUGMBmuYFAnTYjeIBHehUUJDrY-OREZnQRrQrEySgSPW-OT1SA\\u0026s\",\"tw\":266}</div>,\n",
       " <div class=\"rg_meta notranslate\">{\"crea\":\"Jack Percher\",\"id\":\"U2czl4NmvqVcMM:\",\"isu\":\"patentlyapple.com\",\"itg\":0,\"ity\":\"\",\"oh\":788,\"ou\":\"https://www.patentlyapple.com/.a/6a0120a5580826970c0240a4a70db8200c-pi\",\"ow\":897,\"pt\":\"Apple Continued their lead in the Premium Smartphone Segment ...\",\"rh\":\"patentlyapple.com\",\"rid\":\"hDp_0ItZVX0kzM\",\"rmt\":0,\"rt\":0,\"ru\":\"https://www.patentlyapple.com/patently-apple/2019/12/apple-continued-their-lead-in-the-premium-smartphone-segment-in-q3-by-capturing-52-without-a-5g-model.html\",\"sc\":1,\"st\":\"Patently Apple\",\"th\":210,\"tu\":\"https://encrypted-tbn0.gstatic.com/images?q\\u003dtbn:ANd9GcQneuSJ_59H_CDAxmfhvGo6-VgEitXTg0sfPSupkZxJeq5EcPw0hQ\\u0026s\",\"tw\":240}</div>,\n",
       " <div class=\"rg_meta notranslate\">{\"id\":\"gdMbu0P-ijxSqM:\",\"isu\":\"fool.com\",\"itg\":0,\"ity\":\"png\",\"oh\":400,\"ou\":\"https://g.fool.com/img/editorial/total.png\",\"ow\":500,\"pt\":\"Battle Royale of the Stats: Google vs. Apple vs. Facebook vs ...\",\"rh\":\"fool.com\",\"rid\":\"ZycKncT12E5wAM\",\"rmt\":0,\"rt\":0,\"ru\":\"https://www.fool.com/investing/general/2012/06/28/battle-royale-of-the-stats-google-vs-apple-vs-face.aspx\",\"sc\":1,\"st\":\"The Motley Fool\",\"th\":201,\"tu\":\"https://encrypted-tbn0.gstatic.com/images?q\\u003dtbn:ANd9GcR1BFu1-iBbrxhqFI-YRTgDDNDkXP2CbzkxdUvteWUavw3TupLTJw\\u0026s\",\"tw\":251}</div>,\n",
       " <div class=\"rg_meta notranslate\">{\"id\":\"XsI_rpT5kjFmpM:\",\"isu\":\"digital.hbs.edu\",\"itg\":0,\"ity\":\"png\",\"oh\":716,\"ou\":\"https://digital.hbs.edu/platform-digit/wp-content/uploads/sites/2/2018/01/1-BB-Market-Share.png\",\"ow\":1000,\"pt\":\"The Rise and Fall (and Rise Again?) of BlackBerry \\u2013 Digital ...\",\"rh\":\"digital.hbs.edu\",\"rid\":\"7jqyJNXTKdChHM\",\"rmt\":0,\"rt\":0,\"ru\":\"https://digital.hbs.edu/platform-digit/submission/the-rise-and-fall-and-rise-again-of-blackberry/\",\"sc\":1,\"st\":\"HBS Digital Initiative - Harvard Business School\",\"th\":190,\"tu\":\"https://encrypted-tbn0.gstatic.com/images?q\\u003dtbn:ANd9GcTBVGoG7EiZidx44eP4SX7tD_wrziRSPto8X4DRZGZSPv4bpPF3Fg\\u0026s\",\"tw\":265}</div>,\n",
       " <div class=\"rg_meta notranslate\">{\"cr\":3,\"ct\":15,\"id\":\"pfBNT_tVp4u1YM:\",\"isu\":\"zdnet.com\",\"itg\":0,\"ity\":\"png\",\"oh\":411,\"ou\":\"https://zdnet2.cbsistatic.com/hub/i/2015/06/03/00e549c9-a8c7-44f5-8b24-3cf4ad08dfc5/idc-wearable-q115a.png\",\"ow\":495,\"pt\":\"Fitbit, Xiaomi lead wearable charge in Q1 | ZDNet\",\"rh\":\"zdnet.com\",\"rid\":\"Dksos1TNBX92SM\",\"rmt\":0,\"rt\":0,\"ru\":\"https://www.zdnet.com/article/fitbit-xiaomi-lead-wearable-charge-in-q1/\",\"sc\":1,\"st\":\"ZDNet\",\"th\":205,\"tu\":\"https://encrypted-tbn0.gstatic.com/images?q\\u003dtbn:ANd9GcTNR7HnL-5POUHh728Akp8Rn6uxpH3s_YHY6wUQhvBSZnggXHqu8g\\u0026s\",\"tw\":246}</div>,\n",
       " <div class=\"rg_meta notranslate\">{\"cl\":3,\"cr\":3,\"id\":\"oD7qgGmMkFKyYM:\",\"isu\":\"businessinsider.com\",\"itg\":0,\"ity\":\"\",\"oh\":852,\"ou\":\"https://image.businessinsider.com/58d17b49112f707e0c8b5acf?width\\u003d1136\\u0026format\\u003djpeg\",\"ow\":1136,\"pt\":\"Apple\\u0027s iPad revenue decline: CHART - Business Insider\",\"rh\":\"businessinsider.com\",\"rid\":\"vwMi4-E1vSHA9M\",\"rmt\":0,\"rt\":0,\"ru\":\"https://www.businessinsider.com/apple-new-ipad-revenue-decline-chart-2017-3\",\"sc\":1,\"st\":\"Business Insider\",\"th\":194,\"tu\":\"https://encrypted-tbn0.gstatic.com/images?q\\u003dtbn:ANd9GcSPC8N0Q4QuoSHltyIGpxVHU8rYxbrQvqXEesrN8xMjyPPtXy3ScA\\u0026s\",\"tw\":259}</div>,\n",
       " <div class=\"rg_meta notranslate\">{\"cl\":6,\"cr\":12,\"id\":\"yCjhM1TGMQJN3M:\",\"isu\":\"scmp.com\",\"itg\":0,\"ity\":\"jpg\",\"oh\":630,\"ou\":\"https://cdn.i-scmp.com/sites/default/files/styles/og_twitter_scmp_generic/public/d8/images/methode/2019/12/20/02ec9ddc-22e2-11ea-acfb-1fd6c5cf20a4_image_hires_130333.JPG?itok\\u003dEaijhJIa\\u0026v\\u003d1576818218\",\"ow\":1200,\"pt\":\"Apple takes two thirds of the pie in global smartphone ...\",\"rh\":\"scmp.com\",\"rid\":\"nAYLmVJjrf9pAM\",\"rmt\":0,\"rt\":0,\"ru\":\"https://www.scmp.com/tech/enterprises/article/3042934/apple-takes-two-thirds-pie-global-smartphone-profits-only-12-cent\",\"st\":\"South China Morning Post\",\"th\":163,\"tu\":\"https://encrypted-tbn0.gstatic.com/images?q\\u003dtbn:ANd9GcS1_p8UTcoDIIAoni50peHMOlIHyt8LFuiN5U6eg2KdfW5EFxaOtQ\\u0026s\",\"tw\":310}</div>,\n",
       " <div class=\"rg_meta notranslate\">{\"id\":\"aQ3vErUZlnOkdM:\",\"isu\":\"zdnet.com\",\"itg\":0,\"ity\":\"jpg\",\"oh\":466,\"ou\":\"https://zdnet2.cbsistatic.com/hub/i/2014/10/05/98ea5e87-4ca3-11e4-b6a0-d4ae52e95e57/meeker620.jpg\",\"ow\":620,\"pt\":\"Mobile is eating the world | ZDNet\",\"rh\":\"zdnet.com\",\"rid\":\"QmKVdLTn9sCUMM\",\"rmt\":0,\"rt\":0,\"ru\":\"https://www.zdnet.com/article/mobile-is-eating-the-world/\",\"sc\":1,\"st\":\"ZDNet\",\"th\":195,\"tu\":\"https://encrypted-tbn0.gstatic.com/images?q\\u003dtbn:ANd9GcSRz14fSRUZDeboEXkC3Y65JNLcdxVV6haK5KrSYi42EA9Q2ig9uA\\u0026s\",\"tw\":259}</div>,\n",
       " <div class=\"rg_meta notranslate\">{\"cb\":3,\"cl\":3,\"cr\":6,\"id\":\"i5-m7dcWhgZ9YM:\",\"isu\":\"marketrealist.com\",\"itg\":1,\"ity\":\"png\",\"oh\":214,\"ou\":\"https://marketrealist.imgix.net/uploads/2018/08/Mobile-operating-system-market-share-1.png?auto\\u003dcompress%2Cformat\\u0026ixlib\\u003dphp-1.2.1\",\"ow\":300,\"pt\":\"Why Netflix Is Testing to Bypass Apple and Google - Market ...\",\"rh\":\"marketrealist.com\",\"rid\":\"4zUrvxwN7QA4hM\",\"rmt\":0,\"rt\":0,\"ru\":\"https://marketrealist.com/2018/08/why-netflix-is-testing-to-bypass-apple-and-google/\",\"sc\":1,\"st\":\"Market Realist\",\"th\":190,\"tu\":\"https://encrypted-tbn0.gstatic.com/images?q\\u003dtbn:ANd9GcTwv29GBK8xVnYQBbNv0VXTMFeiRrz-fLPUvrDZf4-LJ0euFWcb\\u0026s\",\"tw\":266}</div>,\n",
       " <div class=\"rg_meta notranslate\">{\"cl\":12,\"cr\":12,\"ct\":3,\"id\":\"BPH4IvMiVbFbQM:\",\"isu\":\"readwrite.com\",\"itg\":0,\"ity\":\"jpg\",\"oh\":271,\"ou\":\"https://images.readwrite.com/wp-content/uploads/2016/02/MTIyMzAzMjc0Nzc3ODcwOTUw.jpg\",\"ow\":500,\"pt\":\"Forrester CEO Thinks Apple Needs To Build A Foldable iPhone ...\",\"rh\":\"readwrite.com\",\"rid\":\"gIwfBt3VA2dAOM\",\"rmt\":0,\"rt\":0,\"ru\":\"https://readwrite.com/2013/04/02/forrester-ceo-thinks-apple-needs-to-build-a-foldable-iphone/\",\"sc\":1,\"st\":\"ReadWrite\",\"th\":165,\"tu\":\"https://encrypted-tbn0.gstatic.com/images?q\\u003dtbn:ANd9GcQ8RDC-eMzaWaDmpL97F7l55Y5VC_XPiw_RlR_zTIbAebjHebjx\\u0026s\",\"tw\":305}</div>,\n",
       " <div class=\"rg_meta notranslate\">{\"id\":\"DprV568FKbBcyM:\",\"isu\":\"mattward.io\",\"itg\":0,\"ity\":\"png\",\"oh\":439,\"ou\":\"https://i2.wp.com/cdn-images-1.medium.com/max/1280/1*u1DVb8H1CRBbi5_oimQHeQ.png?w\\u003d592\\u0026ssl\\u003d1\",\"ow\":592,\"pt\":\"Apple: The Fading Star? - Matt Ward\",\"rh\":\"mattward.io\",\"rid\":\"4NxxBaIgUsxgNM\",\"rmt\":0,\"rt\":0,\"ru\":\"https://mattward.io/apple-the-fading-star/\",\"sc\":1,\"st\":\"Matt Ward\",\"th\":193,\"tu\":\"https://encrypted-tbn0.gstatic.com/images?q\\u003dtbn:ANd9GcQ2hzsc5t2mjqcjqmzMxoaBRA4-GgDZeWW2m9CQNGVst4M6v5-b\\u0026s\",\"tw\":261}</div>,\n",
       " <div class=\"rg_meta notranslate\">{\"cl\":12,\"cr\":3,\"id\":\"Ph_lXayuLn1YkM:\",\"isu\":\"techgaming.pk\",\"itg\":0,\"ity\":\"jpeg\",\"oh\":398,\"ou\":\"https://i0.wp.com/techworm.page/wp-content/uploads/2019/06/e538573c6abb63953bf8acbb8bb256cb.jpeg?w\\u003d708\",\"ow\":707,\"pt\":\"Premium\\u201d smartphones sell worse, but Apple has half the ...\",\"rh\":\"techgaming.pk\",\"rid\":\"zhDNtXfBnDrpXM\",\"rmt\":0,\"rt\":0,\"ru\":\"https://techgaming.pk/2019/06/20/premium-smartphones-sell-worse-but-apple-has-half-the-market/\",\"sc\":1,\"st\":\"Techgaming\",\"th\":168,\"tu\":\"https://encrypted-tbn0.gstatic.com/images?q\\u003dtbn:ANd9GcRJmWR0PNjqaH8dS0peRqXOSn4S55hnqrG_uqDGNHBWE2tMUUmXDw\\u0026s\",\"tw\":299}</div>,\n",
       " <div class=\"rg_meta notranslate\">{\"cb\":3,\"cl\":3,\"cr\":6,\"ct\":3,\"fpu\":\"https://lh5.googleusercontent.com/proxy/RqOrC18o9qC70ZSkfSm-bxlEYZErnNbxKr2QaOH2yCzQl6p0IJBYaMd46K5vs2WXw-rzLnwpMzIZvvMOAm7UrXM6eiQFCjG56vM\",\"id\":\"AFeNUPyv5x-XtM:\",\"isu\":\"jqknews.com\",\"itg\":0,\"ity\":\"jpeg\",\"oh\":265,\"ou\":\"http://149.28.76.153/upload/20191215/1576409828.47.jpeg\",\"ow\":484,\"pt\":\"Chinas mobile phone market: 5gs future in 2020 based on ...\",\"rh\":\"jqknews.com\",\"rid\":\"xie2AJ94XZCzzM\",\"rmt\":0,\"rt\":0,\"ru\":\"https://www.jqknews.com/news/337115-Chinas_mobile_phone_market_5gs_future_in_2020_based_on_counter_point_data.html\",\"sc\":1,\"st\":\"jqknews\",\"th\":166,\"tu\":\"https://encrypted-tbn0.gstatic.com/images?q\\u003dtbn:ANd9GcR2ibRyE6wDVz0Ham1P9r0Y5q8WAdqqysxd4XItM0Nlso_2U3I3tg\\u0026s\",\"tw\":304}</div>,\n",
       " <div class=\"rg_meta notranslate\">{\"id\":\"faFJGIiMKO-V2M:\",\"isu\":\"finance.yahoo.com\",\"itg\":0,\"ity\":\"jpg\",\"oh\":447,\"ou\":\"https://s.yimg.com/ny/api/res/1.2/3F5kZq8X.QcbZexvIzP.Pw--/YXBwaWQ9aGlnaGxhbmRlcjt3PTY0MDtoPTQ0Ny4wODU3MTQyODU3MTQz/https://img.huffingtonpost.com/asset/5c2d4dab1f0000cc0826b8cb.jpg\",\"ow\":639,\"pt\":\"What Tim Cook left out about China in Apple\\u0027s revenue guidance\",\"rh\":\"finance.yahoo.com\",\"rid\":\"z9i2BfVreA_1uM\",\"rmt\":0,\"rt\":0,\"ru\":\"https://finance.yahoo.com/news/tim-cook-left-china-apples-002757749.html\",\"sc\":1,\"st\":\"Yahoo Finance\",\"th\":188,\"tu\":\"https://encrypted-tbn0.gstatic.com/images?q\\u003dtbn:ANd9GcROZKLvbXbnZNjdROgJ7x-rAZ_CEzzitCTFZgOuuTL4JcCcTm-E\\u0026s\",\"tw\":269}</div>,\n",
       " <div class=\"rg_meta notranslate\">{\"cb\":12,\"cl\":3,\"cr\":6,\"ct\":15,\"id\":\"s2M9_UMIwNEMRM:\",\"isu\":\"baseread.com\",\"itg\":0,\"ity\":\"png\",\"oh\":527,\"ou\":\"https://baseread.com/wp-content/uploads/2019/12/Apple-Siri.png\",\"ow\":782,\"pt\":\"Apple Siri most Popular Virtual Assistant with 35% Market ...\",\"rh\":\"baseread.com\",\"rid\":\"_1F80V_vD8LSrM\",\"rmt\":0,\"rt\":0,\"ru\":\"https://baseread.com/apple-siri-most-popular-virtual-assistant-with-35-market-share/\",\"st\":\"Base Read\",\"th\":184,\"tu\":\"https://encrypted-tbn0.gstatic.com/images?q\\u003dtbn:ANd9GcSpYI8LgUSPp4NxwZujUXe9QbhHaPzr1wWlPLBqxWeaz60f0Y_a\\u0026s\",\"tw\":274}</div>,\n",
       " <div class=\"rg_meta notranslate\">{\"cb\":6,\"cl\":3,\"cr\":3,\"ct\":12,\"id\":\"wup4xIIPefdA1M:\",\"isu\":\"teckflock.com\",\"itg\":0,\"ity\":\"png\",\"oh\":656,\"ou\":\"https://teckflock.com/wp-content/uploads/2019/02/LG-Smartphone-Market-Share-1024x656.png\",\"ow\":1024,\"pt\":\"Brian Kwon from LG says, It\\u0027s Too Early for a Foldable ...\",\"rh\":\"teckflock.com\",\"rid\":\"PkwrilksZzQq3M\",\"rmt\":0,\"rt\":0,\"ru\":\"https://teckflock.com/news/lg-says-its-too-early-for-foldable-smartphone/\",\"sc\":1,\"st\":\"TeckFlock\",\"th\":180,\"tu\":\"https://encrypted-tbn0.gstatic.com/images?q\\u003dtbn:ANd9GcRmKnm3Zn1g2UM0mWRnH_rKKP3Y7se3ymhTXHEOg64Cz9HhZHKtKA\\u0026s\",\"tw\":281}</div>,\n",
       " <div class=\"rg_meta notranslate\">{\"id\":\"96qMrv7IZPbgOM:\",\"isu\":\"businessinsider.com\",\"itg\":0,\"ity\":\"\",\"oh\":240,\"ou\":\"https://image.businessinsider.com/529ca7ba69bedd2d62851f39?width\\u003d320\\u0026format\\u003djpeg\",\"ow\":320,\"pt\":\"Apple\\u0027s iPhone Market Share In Spain Has Been All But Wiped ...\",\"rh\":\"businessinsider.com\",\"rid\":\"ADZIw4F1J4rvCM\",\"rmt\":0,\"rt\":0,\"ru\":\"https://www.businessinsider.com/apples-iphone-market-share-in-spain-has-been-all-but-wiped-out-2013-12\",\"sc\":1,\"st\":\"Business Insider\",\"th\":194,\"tu\":\"https://encrypted-tbn0.gstatic.com/images?q\\u003dtbn:ANd9GcS_3rVOjMyYWXNGjJHdsvSTbw-jgURlaHTeg4L2TiWsT_0Zv31d\\u0026s\",\"tw\":259}</div>,\n",
       " <div class=\"rg_meta notranslate\">{\"cb\":9,\"cl\":3,\"cr\":3,\"ct\":6,\"id\":\"OKjSArhsWSwK6M:\",\"isu\":\"itvoice.in\",\"itg\":0,\"ity\":\"png\",\"oh\":1000,\"ou\":\"https://www.itvoice.in/wp-content/uploads/2019/12/Smartphone-EMA.png\",\"ow\":1000,\"pt\":\"ItVoice | Online IT Magazine India » Xiaomi and Apple top ...\",\"rh\":\"itvoice.in\",\"rid\":\"hFIVVELT9igk_M\",\"rmt\":0,\"rt\":0,\"ru\":\"https://www.itvoice.in/xiaomi-and-apple-top-the-smartphone-newsmakers-of-2019\",\"sc\":1,\"st\":\"ItVoice\",\"th\":225,\"tu\":\"https://encrypted-tbn0.gstatic.com/images?q\\u003dtbn:ANd9GcT1GwAf3Qnwp8QLAs_v6Y_hJzn5dtfalv8T7wqJvpudOnKKAbJV\\u0026s\",\"tw\":225}</div>,\n",
       " <div class=\"rg_meta notranslate\">{\"id\":\"Hke5df8ZJhZ_PM:\",\"isu\":\"amazon.com\",\"itg\":0,\"ity\":\"jpg\",\"oh\":289,\"ou\":\"https://images-na.ssl-images-amazon.com/images/I/41MNaiWNIvL._SX218_BO1,204,203,200_QL40_ML2_.jpg\",\"ow\":220,\"pt\":\"Market Share Reporter: 2 volume set: Gale Research Inc ...\",\"rh\":\"amazon.com\",\"rid\":\"f-HH94cBiFS2QM\",\"rmt\":0,\"rt\":0,\"ru\":\"https://www.amazon.com/Market-Share-Reporter-2-set/dp/1410364496\",\"sc\":1,\"st\":\"Amazon.com\",\"th\":257,\"tu\":\"https://encrypted-tbn0.gstatic.com/images?q\\u003dtbn:ANd9GcR5c8o5icN9HAEsiO2xY2NWgIQUZpzNr-txahpY4jilTs2tNAQl\\u0026s\",\"tw\":196}</div>,\n",
       " <div class=\"rg_meta notranslate\">{\"cb\":12,\"cl\":3,\"cr\":15,\"id\":\"p94Vj538AgAsrM:\",\"isu\":\"statista.com\",\"itg\":0,\"ity\":\"png\",\"oh\":560,\"ou\":\"https://cdn.statcdn.com/Statistic/465000/466082-blank-754.png\",\"ow\":754,\"pt\":\"Market share of voice call service providers by age 2019 ...\",\"rh\":\"statista.com\",\"rid\":\"cogsurFOLWvDFM\",\"rmt\":0,\"rt\":0,\"ru\":\"https://www.statista.com/statistics/466082/market-share-of-voice-calls-over-the-internet-providers-in-the-uk/\",\"sc\":1,\"st\":\"Statista\",\"th\":193,\"tu\":\"https://encrypted-tbn0.gstatic.com/images?q\\u003dtbn:ANd9GcSyyyaCfabW-TDn67frkuyXWjp7nuHQp9ov8NcOGNahOtC9WnmO\\u0026s\",\"tw\":261}</div>,\n",
       " <div class=\"rg_meta notranslate\">{\"id\":\"QqOS59RV28Te1M:\",\"isu\":\"piunikaweb.com\",\"itg\":0,\"ity\":\"jpg\",\"oh\":309,\"ou\":\"https://piunikaweb.com/wp-content/uploads/2019/12/Wearable-Band-Market.jpg\",\"ow\":643,\"pt\":\"Xiaomi dominates worldwide wearable band market which ...\",\"rh\":\"piunikaweb.com\",\"rid\":\"P0YAp6xiwI9SDM\",\"rmt\":0,\"rt\":0,\"ru\":\"https://piunikaweb.com/2019/12/14/worldwide-wearable-band-market-grew-65-in-q3/\",\"sc\":1,\"st\":\"PiunikaWeb\",\"th\":155,\"tu\":\"https://encrypted-tbn0.gstatic.com/images?q\\u003dtbn:ANd9GcSVTIgoaycaJ_v2OEDAnrq9zbz4Co6u1KwbSnzXVs6TmDcO8Uxk7A\\u0026s\",\"tw\":324}</div>,\n",
       " <div class=\"rg_meta notranslate\">{\"id\":\"vyuozrvDzDphHM:\",\"isu\":\"youtube.com\",\"itg\":0,\"ity\":\"jpg\",\"oh\":720,\"ou\":\"https://i.ytimg.com/vi/BOh_yvNKRuA/maxresdefault.jpg\",\"ow\":1280,\"pt\":\"Top 5 Mobile Phone Operating System Market Share\",\"rh\":\"youtube.com\",\"rid\":\"2rM8bFR2ZT3WlM\",\"rmt\":3,\"rt\":0,\"ru\":\"https://www.youtube.com/watch?v\\u003dBOh_yvNKRuA\",\"sc\":1,\"st\":\"YouTube\",\"th\":168,\"tu\":\"https://encrypted-tbn0.gstatic.com/images?q\\u003dtbn:ANd9GcRcUVbN33pHh5e8XNdT1VKBtFI2CKkwvlzyuiV5i7s5fe0XIb_9\\u0026s\",\"tw\":300}</div>,\n",
       " <div class=\"rg_meta notranslate\">{\"id\":\"XUMym76dHJ7M2M:\",\"isu\":\"ped30.com\",\"itg\":0,\"ity\":\"png\",\"oh\":504,\"ou\":\"https://i2.wp.com/ped30.com/wp-content/uploads/2017/03/Screen-Shot-2017-03-06-at-8.32.35-AM.png?ssl\\u003d1\",\"ow\":1069,\"pt\":\"Apple: A deep dive into the iPhone installed base | Philip ...\",\"rh\":\"ped30.com\",\"rid\":\"px70Hl0BKKMnoM\",\"rmt\":0,\"rt\":0,\"ru\":\"https://www.ped30.com/2017/03/06/apple-deep-dive-installed-base/\",\"sc\":1,\"st\":\"Philip Elmer\\u2011DeWitt\",\"th\":154,\"tu\":\"https://encrypted-tbn0.gstatic.com/images?q\\u003dtbn:ANd9GcSGHbLW1Cm84KOwuUpdXc0aTwIg4odKfA6i6BMIJdvWDglzCnl2Yg\\u0026s\",\"tw\":327}</div>,\n",
       " <div class=\"rg_meta notranslate\">{\"id\":\"keKxJFh0VXMswM:\",\"isu\":\"digital.hbs.edu\",\"itg\":0,\"ity\":\"png\",\"oh\":506,\"ou\":\"https://digital.hbs.edu/platform-digit/wp-content/uploads/sites/2/2015/10/fitbit.png\",\"ow\":894,\"pt\":\"The Fitbit Fad? \\u2013 Digital Innovation and Transformation\",\"rh\":\"digital.hbs.edu\",\"rid\":\"w8i8fX-e13PWWM\",\"rmt\":0,\"rt\":0,\"ru\":\"https://digital.hbs.edu/platform-digit/submission/the-fitbit-fad/\",\"sc\":1,\"st\":\"HBS Digital Initiative - Harvard Business School\",\"th\":169,\"tu\":\"https://encrypted-tbn0.gstatic.com/images?q\\u003dtbn:ANd9GcSzVx5QYj4fUbpfro0qrXYO7uYLs2731NT9S6xGYPT4SW4pfw8olw\\u0026s\",\"tw\":299}</div>,\n",
       " <div class=\"rg_meta notranslate\">{\"cb\":3,\"crea\":\"Scholia\",\"id\":\"KnqVrfG7PaxywM:\",\"isu\":\"zdnet.com\",\"itg\":0,\"ity\":\"jpg\",\"oh\":467,\"ou\":\"https://zdnet1.cbsistatic.com/hub/i/2014/11/28/28b51f2b-76c3-11e4-b569-d4ae52e95e57/ziff-junipernfc.jpg\",\"ow\":982,\"pt\":\"Following the launch of Apple Pay, Juniper Research thinks ...\",\"rh\":\"zdnet.com\",\"rid\":\"Nm8VA5Hqw6RwIM\",\"rmt\":0,\"rt\":0,\"ru\":\"https://www.zdnet.com/article/following-the-launch-of-apple-pay-juniper-research-thinks-nfc-will-finally-be-a-success/\",\"sc\":1,\"st\":\"ZDNet\",\"th\":155,\"tu\":\"https://encrypted-tbn0.gstatic.com/images?q\\u003dtbn:ANd9GcR8Ca3m1HguMXEdt5vWmX4JrQ7tPqL9YT21mbjh_EiaD_JlPG3c\\u0026s\",\"tw\":326}</div>,\n",
       " <div class=\"rg_meta notranslate\">{\"cr\":3,\"id\":\"ZiaVGhiRjZZnOM:\",\"isu\":\"seekingalpha.com\",\"itg\":0,\"ity\":\"png\",\"oh\":326,\"ou\":\"https://static.seekingalpha.com/uploads/2019/12/19/47444632-1576795214196412.png\",\"ow\":636,\"pt\":\"Data Center Market Share Drives Intel And Nvidia\\u0027s Stock ...\",\"rh\":\"seekingalpha.com\",\"rid\":\"mrwy6QL8ISuKgM\",\"rmt\":0,\"rt\":0,\"ru\":\"https://seekingalpha.com/article/4313636-data-center-market-share-drives-intel-and-nvidias-stock-prices\",\"sc\":1,\"st\":\"Seeking Alpha\",\"th\":161,\"tu\":\"https://encrypted-tbn0.gstatic.com/images?q\\u003dtbn:ANd9GcRlW-0xClOLHT7Pmxgtl8AfFVwi2ZJ4Vk1nZczlOTc_r9LYsODk\\u0026s\",\"tw\":314}</div>,\n",
       " <div class=\"rg_meta notranslate\">{\"id\":\"l38PFTj2PEqd1M:\",\"isu\":\"techgrapple.com\",\"itg\":0,\"ity\":\"jpg\",\"oh\":200,\"ou\":\"https://i1.wp.com/www.techgrapple.com/wp-content/uploads/2016/11/Mobile-Market.jpg?fit\\u003d1200%2C619\\u0026ssl\\u003d1\\u0026resize\\u003d350%2C200\",\"ow\":350,\"pt\":\"Smartphone market: Samsung vs Apple vs Xiaomi vs Huawei\",\"rh\":\"techgrapple.com\",\"rid\":\"NsyzbflDxZG4cM\",\"rmt\":0,\"rt\":0,\"ru\":\"https://www.techgrapple.com/smartphone-market-samsung-vs-apple-vs-xiaomi-vs-huawei-vs-lenovomotorola/\",\"sc\":1,\"st\":\"Tech Grapple\",\"th\":170,\"tu\":\"https://encrypted-tbn0.gstatic.com/images?q\\u003dtbn:ANd9GcQ3c5K1SfU2PBbnQRSY0DZqYWdCoz28F2knLTLDHzD8vxkVUygUWA\\u0026s\",\"tw\":297}</div>,\n",
       " <div class=\"rg_meta notranslate\">{\"id\":\"X5b-uD4If97h-M:\",\"isu\":\"ft.com\",\"itg\":0,\"ity\":\"\",\"oh\":436,\"ou\":\"https://www.ft.com/__origami/service/image/v2/images/raw/http%3A%2F%2Fcom.ft.imagepublish.prod.s3.amazonaws.com%2Fa1d7bebc-153f-11e7-80f4-13e067d5072c?fit\\u003dscale-down\\u0026source\\u003dnext\\u0026width\\u003d601\",\"ow\":601,\"pt\":\"Samsung seeks fresh start with Galaxy S8 | Financial Times\",\"rh\":\"ft.com\",\"rid\":\"VAjoTbxYgiSDOM\",\"rmt\":0,\"rt\":0,\"ru\":\"https://www.ft.com/content/3ffeeeb2-151d-11e7-80f4-13e067d5072c\",\"sc\":1,\"st\":\"Financial Times\",\"th\":191,\"tu\":\"https://encrypted-tbn0.gstatic.com/images?q\\u003dtbn:ANd9GcSWvxDv79VP2aRh91AxGjkCgA-kWpJDUsSRGe5eHkwXHux7MXyk\\u0026s\",\"tw\":264}</div>,\n",
       " <div class=\"rg_meta notranslate\">{\"cb\":12,\"cl\":12,\"cr\":6,\"ct\":6,\"fpu\":\"https://lh3.googleusercontent.com/proxy/aJ9SSjMAM5uPTD7eka3hhFjkxgt83O1oPotNO5d-Au-96_plfXY2iVAs_OjBN3vjXYWXj7I2ey1mFd_7locT2PESxulAGQMdbz_dSn4nX6B3UyD3zxUNABUogilf5KTnO18Y\",\"id\":\"WRYPQwNUTRUZFM:\",\"isu\":\"mspoweruser.com\",\"itg\":0,\"ity\":\"png\",\"oh\":419,\"ou\":\"http://mspoweruser.com/wp-content/uploads/2016/03/chrome_2016-03-01_16-50-58.png\",\"ow\":813,\"pt\":\"Windows 10 now claims almost 13% of market share - MSPoweruser\",\"rh\":\"mspoweruser.com\",\"rid\":\"giSmm9qrYtedwM\",\"rmt\":0,\"rt\":0,\"ru\":\"https://mspoweruser.com/windows-10-now-claims-almost-13-market-share/\",\"sc\":1,\"st\":\"MSPoweruser\",\"th\":161,\"tu\":\"https://encrypted-tbn0.gstatic.com/images?q\\u003dtbn:ANd9GcTcE2IZBfBUKxnyU1ZfAfEYpE7FBKtJ0dguF1iqzI5KrGSrkfV7Zw\\u0026s\",\"tw\":313}</div>,\n",
       " <div class=\"rg_meta notranslate\">{\"cb\":3,\"cl\":3,\"cr\":3,\"ct\":6,\"id\":\"i1orqc6yiVzmHM:\",\"isu\":\"91mobiles.com\",\"itg\":0,\"ity\":\"jpg\",\"oh\":404,\"ou\":\"https://static.hub.91mobiles.com/wp-content/uploads/2019/12/Counterpoint-5G-shipment-graph.jpg\",\"ow\":687,\"pt\":\"Huawei, Apple to lead 5G phone shipments in 2020, Xiaomi won ...\",\"rh\":\"91mobiles.com\",\"rid\":\"jnKy7VA7c18e-M\",\"rmt\":0,\"rt\":0,\"ru\":\"https://www.91mobiles.com/hub/huawei-apple-to-lead-5g-phone-shipments-in-2020-xiaomi-wont-be-in-top-5-counterpoint/\",\"sc\":1,\"st\":\"91mobiles.com\",\"th\":172,\"tu\":\"https://encrypted-tbn0.gstatic.com/images?q\\u003dtbn:ANd9GcQkmWM-W9068lG5-iyx_8SsIBzSW2MLLJOpKzzmZMcIatni4E7M\\u0026s\",\"tw\":293}</div>,\n",
       " <div class=\"rg_meta notranslate\">{\"cb\":6,\"cl\":6,\"cr\":6,\"ct\":3,\"id\":\"W_QM-v-cW8nyWM:\",\"isu\":\"theguardian.com\",\"itg\":0,\"ity\":\"png\",\"oh\":259,\"ou\":\"https://i.guim.co.uk/img/static/sys-images/Technology/Pix/pictures/2013/1/25/1359138087631/Screen_Shot_2013-01-25_at_18.07.33.png?width\\u003d300\\u0026quality\\u003d85\\u0026auto\\u003dformat\\u0026fit\\u003dmax\\u0026s\\u003d8a143685c02c5706dd79f3215610b7e0\",\"ow\":300,\"pt\":\"Apple and Samsung have won the smartphone wars. What\\u0027s next ...\",\"rh\":\"theguardian.com\",\"rid\":\"eq55Jo6XO3y3YM\",\"rmt\":0,\"rt\":0,\"ru\":\"https://www.theguardian.com/technology/2013/jan/25/apple-samsung-won-smartphone-wars\",\"sc\":1,\"st\":\"The Guardian\",\"th\":209,\"tu\":\"https://encrypted-tbn0.gstatic.com/images?q\\u003dtbn:ANd9GcSSXLkupuyneXfQtQ5NL5IoO3W3qHa1laIWpYq5Ml4NNqC5xmLQrg\\u0026s\",\"tw\":242}</div>,\n",
       " <div class=\"rg_meta notranslate\">{\"id\":\"e1yiADWFPHXRrM:\",\"isu\":\"businessinsider.com\",\"itg\":0,\"ity\":\"\",\"oh\":852,\"ou\":\"https://image.businessinsider.com/57fbd5ba8109eea2408b4581?width\\u003d1136\\u0026format\\u003djpeg\",\"ow\":1136,\"pt\":\"Here\\u0027s how Apple and Google can benefit from Samsung\\u0027s ...\",\"rh\":\"businessinsider.com\",\"rid\":\"FLOD1Ucx8F4hCM\",\"rmt\":0,\"rt\":0,\"ru\":\"https://www.businessinsider.com/heres-how-apple-and-google-can-benefit-from-samsungs-galaxy-note-7-disaster-2016-10\",\"sc\":1,\"st\":\"Business Insider\",\"th\":194,\"tu\":\"https://encrypted-tbn0.gstatic.com/images?q\\u003dtbn:ANd9GcSSLqpdWLn5rPj48F0cXohUIgbtZJmjDWIl1Pd2LktHEdGNqttnHw\\u0026s\",\"tw\":259}</div>,\n",
       " <div class=\"rg_meta notranslate\">{\"id\":\"iz84fxSvkzE13M:\",\"isu\":\"macrumors.com\",\"itg\":0,\"ity\":\"jpg\",\"oh\":281,\"ou\":\"https://images.macrumors.com/article/2011/01/26/093158-canalys_4q2010_pc_share.jpg\",\"ow\":500,\"pt\":\"Apple Ranks Third in Global PC Sales With iPad Included ...\",\"rh\":\"macrumors.com\",\"rid\":\"iPOAt4YzhQgKfM\",\"rmt\":0,\"rt\":0,\"ru\":\"https://www.macrumors.com/2011/01/26/apple-ranks-third-in-global-pc-sales-with-ipad-included/\",\"sc\":1,\"st\":\"MacRumors\",\"th\":168,\"tu\":\"https://encrypted-tbn0.gstatic.com/images?q\\u003dtbn:ANd9GcQtEizIbN8L4S3RYAm6_Q4RL-uqvRFg69Lz4j6aL7AAd5tckZZFxA\\u0026s\",\"tw\":300}</div>,\n",
       " <div class=\"rg_meta notranslate\">{\"cl\":12,\"cr\":15,\"ct\":12,\"id\":\"7erVpjf7XMNSdM:\",\"isu\":\"audioxpress.com\",\"itg\":0,\"ity\":\"jpg\",\"oh\":900,\"ou\":\"https://audioxpress.com/assets/upload/images/1/20190220102140_SmartSpeakersGenericBlueWeb.jpg\",\"ow\":1200,\"pt\":\"Strategy Analytics: 2018 Global Smart Speaker Sales Reached ...\",\"rh\":\"audioxpress.com\",\"rid\":\"XIpl2ydLlR2KBM\",\"rmt\":0,\"rt\":0,\"ru\":\"https://audioxpress.com/news/strategy-analytics-2018-global-smart-speaker-sales-reached-86-2-million-units-on-back-of-record-q4\",\"sc\":1,\"st\":\"audioXpress\",\"th\":194,\"tu\":\"https://encrypted-tbn0.gstatic.com/images?q\\u003dtbn:ANd9GcQ1Qt1mY0jAMEeeCtAGmOJ1dCXR7rWW6uyolrFpd0eMNxF3l8eOyA\\u0026s\",\"tw\":259}</div>,\n",
       " <div class=\"rg_meta notranslate\">{\"cb\":9,\"cl\":9,\"cr\":12,\"ct\":9,\"id\":\"SzbSekcNPSbiZM:\",\"isu\":\"slideshare.net\",\"itg\":0,\"ity\":\"jpg\",\"oh\":994,\"ou\":\"https://cdn.slidesharecdn.com/ss_thumbnails/digitalwritinginstrumentsmarket-191115103136-thumbnail-4.jpg?cb\\u003d1573813928\",\"ow\":768,\"pt\":\"Digital Writing Instruments Market - Growth, Size, Share ...\",\"rh\":\"slideshare.net\",\"rid\":\"TCx9TO0H5Lw52M\",\"rmt\":0,\"rt\":0,\"ru\":\"https://www.slideshare.net/CharlieGefen/digital-writing-instruments-market-growth-size-share-forecast-industry-analysis-2019-2027\",\"sc\":1,\"st\":\"SlideShare\",\"th\":255,\"tu\":\"https://encrypted-tbn0.gstatic.com/images?q\\u003dtbn:ANd9GcQUmkgwTjkkSvLKsHLvpVqxlMOQwJQ4ETZcnnwdmeYNzLaw0-R5qg\\u0026s\",\"tw\":197}</div>,\n",
       " <div class=\"rg_meta notranslate\">{\"cl\":9,\"cr\":15,\"id\":\"1MbSImbfvnvfQM:\",\"isu\":\"medium.com\",\"itg\":0,\"ity\":\"png\",\"oh\":720,\"ou\":\"https://miro.medium.com/max/2560/1*6TL2WxcgKnb5duoygl_x_g.png\",\"ow\":1280,\"pt\":\"How Samsung became the biggest smartphone brand with Android?\",\"rh\":\"medium.com\",\"rid\":\"C_R94kAzxxXwMM\",\"rmt\":0,\"rt\":0,\"ru\":\"https://medium.com/@karansinghreen/how-samsung-became-the-biggest-smartphone-brand-with-android-172103af3d0d\",\"st\":\"Medium\",\"th\":168,\"tu\":\"https://encrypted-tbn0.gstatic.com/images?q\\u003dtbn:ANd9GcRxMaEUzam_S3icKqgy_10M32ZLRgufdCiKyUtJAOT9q6zjQ0zR\\u0026s\",\"tw\":300}</div>,\n",
       " <div class=\"rg_meta notranslate\">{\"cl\":15,\"cr\":9,\"ct\":3,\"id\":\"lpnnOhlkhTDs9M:\",\"isu\":\"valuewalk.com\",\"itg\":1,\"ity\":\"png\",\"oh\":563,\"ou\":\"https://d2wsh2n0xua73e.cloudfront.net/wp-content/uploads/2018/05/Huawei-P20-Pro.png\",\"ow\":880,\"pt\":\"Huawei Surpassed Apple In Smartphone Shipments And Climbs To ...\",\"rh\":\"valuewalk.com\",\"rid\":\"y_P1GMPZ2s8m_M\",\"rmt\":0,\"rt\":0,\"ru\":\"https://www.valuewalk.com/2018/08/huawei-surpassed-apple-shipments/\",\"sc\":1,\"st\":\"ValueWalk\",\"th\":179,\"tu\":\"https://encrypted-tbn0.gstatic.com/images?q\\u003dtbn:ANd9GcQDh8aBTNJ6f5QBLV8PFNjK975HQfRkOQIn9Vmwfnr6RlQ7UjL7\\u0026s\",\"tw\":281}</div>,\n",
       " <div class=\"rg_meta notranslate\">{\"cl\":3,\"cr\":3,\"crea\":\"Picasa\",\"id\":\"vsGwYSNCgbKtUM:\",\"isu\":\"freshplaza.com\",\"itg\":0,\"ity\":\"jpg\",\"oh\":311,\"ou\":\"https://agfstorage.blob.core.windows.net/misc/FP_cn/2019/12/20/1219_venetie01.jpg\",\"ow\":468,\"pt\":\"Price of Chinese Venus apples remains stable\\\"\",\"rh\":\"freshplaza.com\",\"rid\":\"G_Eyk_cwcCuveM\",\"rmt\":0,\"rt\":0,\"ru\":\"https://www.freshplaza.com/article/9175526/price-of-chinese-venus-apples-remains-stable/\",\"st\":\"FreshPlaza\",\"th\":183,\"tu\":\"https://encrypted-tbn0.gstatic.com/images?q\\u003dtbn:ANd9GcS4l0MLm0rryPltwpocIHT065ToR7VF8X3lnKaXW8eDbGoW7oo5Qg\\u0026s\",\"tw\":276}</div>,\n",
       " <div class=\"rg_meta notranslate\">{\"cl\":12,\"cr\":3,\"ct\":3,\"id\":\"RearS9IAD2MyzM:\",\"isu\":\"quora.com\",\"itg\":0,\"ity\":\"\",\"oh\":900,\"ou\":\"https://qph.fs.quoracdn.net/main-qimg-a2c0c9b5f8e12f9d0d93232af391d32f\",\"ow\":1600,\"pt\":\"Is Apple Inc. iPhone going to loose market in India? - Quora\",\"rh\":\"quora.com\",\"rid\":\"4L2f18GpCaq2aM\",\"rmt\":0,\"rt\":0,\"ru\":\"https://www.quora.com/Is-Apple-Inc-iPhone-going-to-loose-market-in-India\",\"sc\":1,\"st\":\"Quora\",\"th\":168,\"tu\":\"https://encrypted-tbn0.gstatic.com/images?q\\u003dtbn:ANd9GcT7zvFfUD51kvocAsvrbZDvNJgPWtzikdXZm1P0qWUjEh9fmCC_9A\\u0026s\",\"tw\":300}</div>,\n",
       " <div class=\"rg_meta notranslate\">{\"id\":\"JoSchVz2-lodrM:\",\"isu\":\"seekingalpha.com\",\"itg\":0,\"ity\":\"png\",\"oh\":380,\"ou\":\"https://static.seekingalpha.com/uploads/2019/12/19/47444632-1576795214074698.png\",\"ow\":633,\"pt\":\"Data Center Market Share Drives Intel And Nvidia\\u0027s Stock ...\",\"rh\":\"seekingalpha.com\",\"rid\":\"mrwy6QL8ISuKgM\",\"rmt\":0,\"rt\":0,\"ru\":\"https://seekingalpha.com/article/4313636-data-center-market-share-drives-intel-and-nvidias-stock-prices\",\"sc\":1,\"st\":\"Seeking Alpha\",\"th\":174,\"tu\":\"https://encrypted-tbn0.gstatic.com/images?q\\u003dtbn:ANd9GcR5_VTSXa4UQQa28AkQgf6qz7NEDenJlAT2r8pzt7CX7kJXOhL4\\u0026s\",\"tw\":290}</div>,\n",
       " <div class=\"rg_meta notranslate\">{\"id\":\"tDNzFJnu47G8eM:\",\"isu\":\"247wallst.com\",\"itg\":0,\"ity\":\"png\",\"oh\":342,\"ou\":\"https://i2.wp.com/www.ped30.com/wp-content/uploads/2018/11/Screen-Shot-2018-11-07-at-7.13.13-AM.png?w\\u003d645\",\"ow\":644,\"pt\":\"Canalys: U.S. is now No. 3 smartphone market after China and ...\",\"rh\":\"247wallst.com\",\"rid\":\"ZC91V2tE5kiddM\",\"rmt\":0,\"rt\":0,\"ru\":\"https://247wallst.com/technology-3/2018/11/07/canalys-india-apple/\",\"sc\":1,\"st\":\"24/7 Wall St.\",\"th\":163,\"tu\":\"https://encrypted-tbn0.gstatic.com/images?q\\u003dtbn:ANd9GcSdDHszhw_fQF20O7nJ1dTKFoh-uS1K2FsQZRZfIchhS790cjToyg\\u0026s\",\"tw\":308}</div>,\n",
       " <div class=\"rg_meta notranslate\">{\"crea\":\"Hand-out\",\"cred\":\"Fortune Business Insights\",\"id\":\"VznswETDasWU_M:\",\"isu\":\"prnewswire.com\",\"itg\":0,\"ity\":\"jpg\",\"oh\":390,\"ou\":\"https://mma.prnewswire.com/media/1058266/Location_Based_Services_Market.jpg?w\\u003d650\",\"ow\":650,\"pt\":\"Location-based Services Market to Rise at 20% CAGR Till 2026 ...\",\"rh\":\"prnewswire.com\",\"rid\":\"KDa0zd3D1JeUrM\",\"rmt\":0,\"rt\":0,\"ru\":\"https://www.prnewswire.com/in/news-releases/location-based-services-market-to-rise-at-20-cagr-till-2026-uses-in-navigation-systems-to-open-up-a-huge-potential-for-market-growth-says-fortune-business-insights-tm--866492062.html\",\"sc\":1,\"st\":\"PR Newswire\",\"th\":174,\"tu\":\"https://encrypted-tbn0.gstatic.com/images?q\\u003dtbn:ANd9GcR-WWQVSuWl5G_VRux3h6dbxK1NVRd-8At3UPjVCwRK3uSOH9Zjkw\\u0026s\",\"tw\":290}</div>,\n",
       " <div class=\"rg_meta notranslate\">{\"id\":\"MuPELRRqXuK9RM:\",\"isu\":\"thestreet.com\",\"itg\":1,\"ity\":\"png\",\"oh\":747,\"ou\":\"https://www.thestreet.com/.image/t_share/MTY4NjQ3OTg1MTY3NjA3NzAz/image-placeholder-title.png\",\"ow\":1200,\"pt\":\"Apple Stock Is Still a Bargain, Even After This Week\\u0027s Rally ...\",\"rh\":\"thestreet.com\",\"rid\":\"hnAep_m6EoVy6M\",\"rmt\":0,\"rt\":0,\"ru\":\"https://www.thestreet.com/investing/stocks/apple-stock-is-still-a-bargain-even-after-this-week-s-rally-here-s-why-13742651\",\"sc\":1,\"st\":\"TheStreet\",\"th\":177,\"tu\":\"https://encrypted-tbn0.gstatic.com/images?q\\u003dtbn:ANd9GcRxkUoJrTO5KRZCZXPoal5IpIvFw777_wdy4pMNWAtzAcdll5z0\\u0026s\",\"tw\":285}</div>,\n",
       " <div class=\"rg_meta notranslate\">{\"id\":\"sc-B6oVc-ixOVM:\",\"isu\":\"ped30.com\",\"itg\":1,\"ity\":\"png\",\"oh\":475,\"ou\":\"https://i0.wp.com/ped30.com/wp-content/uploads/2016/12/Screen-Shot-2016-12-06-at-4.11.23-PM.png\",\"ow\":816,\"pt\":\"Chart of the day: Apple\\u0027s share of holiday wearable revenue ...\",\"rh\":\"ped30.com\",\"rid\":\"kBT2aFoYFxcqcM\",\"rmt\":0,\"rt\":0,\"ru\":\"https://www.ped30.com/2016/12/06/apple-wearable-revenue-holiday/\",\"sc\":1,\"st\":\"Philip Elmer\\u2011DeWitt\",\"th\":171,\"tu\":\"https://encrypted-tbn0.gstatic.com/images?q\\u003dtbn:ANd9GcQ-_ZCWHOPoZhh7eJVKqtk3JQFNlh9CFyR3NuQojvZ-uOR4lgmh\\u0026s\",\"tw\":294}</div>,\n",
       " <div class=\"rg_meta notranslate\">{\"id\":\"AaiijXH3rJZ_RM:\",\"isu\":\"cloud-google-drive.blogspot.com\",\"itg\":1,\"ity\":\"\",\"oh\":288,\"ou\":\"https://lh6.googleusercontent.com/proxy/tn7lK1lzN9JtcBwJoNIUMuvxXcKCicd5BdTDyQT4ScqGqT2KRLG5VKYCHdhkiOvynpy7mTVsnGNFg9ZcZBp6jAnbcSeNX1dVjE2_-L6ipbiOHw\",\"ow\":512,\"pt\":\"MyCRM announces launch of new geospatial cloud platform ...\",\"rh\":\"cloud-google-drive.blogspot.com\",\"rid\":\"0P_0UubaE1jQLM\",\"rmt\":0,\"rt\":0,\"ru\":\"https://cloud-google-drive.blogspot.com/2019/08/mycrm-announces-launch-of-new.html\",\"sc\":1,\"st\":\"Google Cloud\",\"th\":168,\"tu\":\"https://encrypted-tbn0.gstatic.com/images?q\\u003dtbn:ANd9GcSbbyIkFkZrt8AMViQvXUegmQOTlKe6rp2FafPTspjIM0bDwiej\\u0026s\",\"tw\":300}</div>,\n",
       " <div class=\"rg_meta notranslate\">{\"cb\":3,\"cr\":3,\"id\":\"IPa7MsrrmpDKvM:\",\"isu\":\"cnbc.com\",\"itg\":0,\"ity\":\"jpeg\",\"oh\":405,\"ou\":\"https://image.cnbcfm.com/api/v1/image/106307314-1576851069901aapl_chart.jpeg?v\\u003d1576851107?w\\u003d720\\u0026h\\u003d405\",\"ow\":603,\"pt\":\"AirPods, a $6 billion business for Apple, will be bigger ...\",\"rh\":\"cnbc.com\",\"rid\":\"uB_tKw-B3MKHdM\",\"rmt\":0,\"rt\":0,\"ru\":\"https://www.cnbc.com/2019/12/20/airpods-a-6-billion-business-for-apple-will-be-bigger-next-year.html\",\"sc\":1,\"st\":\"CNBC.com\",\"th\":184,\"tu\":\"https://encrypted-tbn0.gstatic.com/images?q\\u003dtbn:ANd9GcQskR_4UMYN3qThc1P-tGfA3rjkzR5dDipKMhE9zsCRMPFw5P6Gag\\u0026s\",\"tw\":274}</div>,\n",
       " <div class=\"rg_meta notranslate\">{\"fpu\":\"https://lh3.googleusercontent.com/proxy/SQh3kqWljgP9bo1RSQmLyv6q5WrTDHWijyr1VamZpcrfGa2oPhPVQrz4i7Tv157hhuOfquc4gaqR18PUMbX0JucdJa92EK8CTFy5qU08l36s_UI\",\"id\":\"ivO2LJRVvxgWkM:\",\"isu\":\"gs.statcounter.com\",\"itg\":1,\"ity\":\"png\",\"oh\":535,\"ou\":\"http://statcounter.com/gs_snapshots/vendor-06-2018-mobile-LY.png\",\"ow\":1200,\"pt\":\"Mobile Vendor Market Share Libya | StatCounter Global Stats\",\"rh\":\"gs.statcounter.com\",\"rid\":\"uy3P9fKecAL3RM\",\"rmt\":0,\"rt\":0,\"ru\":\"http://gs.statcounter.com/vendor-market-share/mobile/libya/2011\",\"sc\":1,\"st\":\"Mobile Vendor Market Share Libya | StatCounter Global Stats\",\"th\":150,\"tu\":\"https://encrypted-tbn0.gstatic.com/images?q\\u003dtbn:ANd9GcTpq7xdnW-dqeOUSGnBKvAxbkZGxHXk1z5Ra5-fYOx3FMG_Y2KZ\\u0026s\",\"tw\":336}</div>,\n",
       " <div class=\"rg_meta notranslate\">{\"cb\":12,\"cl\":3,\"cr\":9,\"ct\":3,\"id\":\"ck4I0VK5bvNH1M:\",\"isu\":\"yumpu.com\",\"itg\":1,\"ity\":\"jpg\",\"oh\":245,\"ou\":\"https://img.yumpu.com/38090209/1/190x245/specialty-polymers-market-share-analysis-trends-to-2020-by-grand-view-research-inc.jpg?quality\\u003d85\",\"ow\":189,\"pt\":\"Speech Analytics Market To 2020 \\u2013 Market Share, Growth ...\",\"rh\":\"yumpu.com\",\"rid\":\"rVxs5KEXmPr5VM\",\"rmt\":0,\"rt\":0,\"ru\":\"https://www.yumpu.com/en/document/view/38071956/speech-analytics-market-to-2020-market-share-growth-trends-grand-view-research-inc\",\"sc\":1,\"st\":\"Yumpu\",\"th\":245,\"tu\":\"https://encrypted-tbn0.gstatic.com/images?q\\u003dtbn:ANd9GcSCMuJ2XRUsaUUeaWDUxk7-d1dLpkGmKZl_X8xt3Ukj68JhQQCh\\u0026s\",\"tw\":189}</div>,\n",
       " <div class=\"rg_meta notranslate\">{\"cr\":3,\"id\":\"wYV9weM487OtzM:\",\"isu\":\"marketrealist.com\",\"itg\":0,\"ity\":\"png\",\"oh\":214,\"ou\":\"https://marketrealist.imgix.net/uploads/2018/04/global-smart-speaker-market-2-1.png?auto\\u003dcompress%2Cformat\\u0026ixlib\\u003dphp-1.2.1\",\"ow\":300,\"pt\":\"How Are Google and Amazon Placed in Home Automation Space ...\",\"rh\":\"marketrealist.com\",\"rid\":\"YIGBxVtUhvQ95M\",\"rmt\":0,\"rt\":0,\"ru\":\"https://marketrealist.com/2018/04/how-are-google-and-amazon-placed-in-home-automation-space/\",\"sc\":1,\"st\":\"Market Realist\",\"th\":190,\"tu\":\"https://encrypted-tbn0.gstatic.com/images?q\\u003dtbn:ANd9GcQKYl7F3wpAaL5FVfdt-vBp_SPYDXauJMOkSVywSAvJrqxYp_eSbQ\\u0026s\",\"tw\":266}</div>,\n",
       " <div class=\"rg_meta notranslate\">{\"cb\":9,\"cl\":3,\"cr\":3,\"ct\":6,\"id\":\"YSumOhzZEOfKLM:\",\"isu\":\"theguardian.com\",\"itg\":0,\"ity\":\"png\",\"oh\":175,\"ou\":\"https://i.guim.co.uk/img/static/sys-images/Technology/Pix/pictures/2013/9/3/1378206865077/phones-sm.png?width\\u003d300\\u0026quality\\u003d85\\u0026auto\\u003dformat\\u0026fit\\u003dmax\\u0026s\\u003d77318800132c434083c6f484284bcc29\",\"ow\":300,\"pt\":\"Microsoft and Nokia\\u0027s problems - explained in three graphs ...\",\"rh\":\"theguardian.com\",\"rid\":\"faUHaSMOosr6CM\",\"rmt\":0,\"rt\":0,\"ru\":\"https://www.theguardian.com/technology/2013/sep/03/nokia-microsoft-deal-explained-graphs\",\"sc\":1,\"st\":\"The Guardian\",\"th\":171,\"tu\":\"https://encrypted-tbn0.gstatic.com/images?q\\u003dtbn:ANd9GcQB6CJa38MAgsquI_EMwijSbmvnVnelwTJmKJbwMmHzdfliyfmQxg\\u0026s\",\"tw\":294}</div>,\n",
       " <div class=\"rg_meta notranslate\">{\"cb\":3,\"cl\":6,\"cr\":3,\"id\":\"68xP5djRv_fCDM:\",\"isu\":\"marketjournal.co.uk\",\"itg\":0,\"ity\":\"jpeg\",\"oh\":400,\"ou\":\"https://www.marketjournal.co.uk/wp-content/uploads/2019/12/Point-to-Point-Bike-Sharing-Market.jpeg\",\"ow\":600,\"pt\":\"Point-to-Point Bike Sharing Market Aims to Expand at Double ...\",\"rh\":\"marketjournal.co.uk\",\"rid\":\"-kwQsuTF64zktM\",\"rmt\":0,\"rt\":0,\"ru\":\"https://www.marketjournal.co.uk/point-to-point-bike-sharing-market-aims-to-expand-at-double-digit-growth-rate/65952/\",\"sc\":1,\"st\":\"The Market Journal\",\"th\":183,\"tu\":\"https://encrypted-tbn0.gstatic.com/images?q\\u003dtbn:ANd9GcQ8QtN778be-8dqRgqE1O8vvlBQ4mR_ntKQUhwUk0fN6UrpmNk80A\\u0026s\",\"tw\":275}</div>,\n",
       " <div class=\"rg_meta notranslate\">{\"id\":\"gT9lafz2hlef9M:\",\"isu\":\"time24.news\",\"itg\":0,\"ity\":\"jpg\",\"oh\":443,\"ou\":\"https://i2.wp.com/cache.olhardigital.com.br/uploads/acervo_imagens/2019/12/20191217073341.jpg?resize\\u003d696%2C443\\u0026ssl\\u003d1\",\"ow\":696,\"pt\":\"Smart wearable device sales up 65% worldwide | Time24 News\",\"rh\":\"time24.news\",\"rid\":\"lpdZov5Fbq5e3M\",\"rmt\":0,\"rt\":0,\"ru\":\"https://www.time24.news/2019/12/smart-wearable-device-sales-up-65-worldwide.html\",\"sc\":1,\"st\":\"Time24 News\",\"th\":179,\"tu\":\"https://encrypted-tbn0.gstatic.com/images?q\\u003dtbn:ANd9GcT4YlfGjmnGeR5yzezEe8pGbMwIb4qXoV9XT16DFRlwPPuMG2wYiA\\u0026s\",\"tw\":282}</div>,\n",
       " <div class=\"rg_meta notranslate\">{\"cb\":3,\"cr\":3,\"ct\":3,\"id\":\"qDFwnNKMXpxVvM:\",\"isu\":\"tech-news.websawa.com\",\"itg\":1,\"ity\":\"png\",\"oh\":463,\"ou\":\"https://tech-news.websawa.com/wp-content/uploads/2020/01/apple-controls-the-first-positions-in-the-sales-of-smart-watches-wireless-headsets-phones-leading.png\",\"ow\":590,\"pt\":\"Apple controls the first positions in the sales of smart ...\",\"rh\":\"tech-news.websawa.com\",\"rid\":\"PgoVSvDxHWXH1M\",\"rmt\":0,\"rt\":0,\"ru\":\"https://www.tech-news.websawa.com/apple-controls-the-first-positions-in-the-sales-of-smart-watches-wireless-headsets-phones-leading/\",\"sc\":1,\"st\":\"Technology News World\",\"th\":199,\"tu\":\"https://encrypted-tbn0.gstatic.com/images?q\\u003dtbn:ANd9GcTRz544BqQ3wGeHkdfCp-_byNYM0lG_GL7YRhc84sSzEfFFEF0i\\u0026s\",\"tw\":253}</div>,\n",
       " <div class=\"rg_meta notranslate\">{\"cl\":3,\"cr\":3,\"ct\":3,\"id\":\"7ouIq3KM5ovzJM:\",\"isu\":\"statista.com\",\"itg\":0,\"ity\":\"png\",\"oh\":253,\"ou\":\"https://cdn.statcdn.com/Statistic/865000/867948-blank-355.png\",\"ow\":355,\"pt\":\"Smartphone market share by brand in Mexico 2019 | Statista\",\"rh\":\"statista.com\",\"rid\":\"zcpEmcaKtS_79M\",\"rmt\":0,\"rt\":0,\"ru\":\"https://www.statista.com/statistics/867948/market-share-smartphone-brands-monthly-mexico/\",\"sc\":1,\"st\":\"Statista\",\"th\":189,\"tu\":\"https://encrypted-tbn0.gstatic.com/images?q\\u003dtbn:ANd9GcQpraH-aulAjMyQG6DMtoQh4x2kHHCoc0BRh27ZfzeQFC_li8rO\\u0026s\",\"tw\":266}</div>,\n",
       " <div class=\"rg_meta notranslate\">{\"id\":\"rVOf1QDdxsv1kM:\",\"isu\":\"zdnet.com\",\"itg\":0,\"ity\":\"png\",\"oh\":1154,\"ou\":\"https://zdnet4.cbsistatic.com/hub/i/2016/12/28/d7e5519c-e49a-4fcc-adcc-fdefd64b0dfe/phone-activations.png\",\"ow\":1536,\"pt\":\"Apple device activations double Samsung\\u0027s during holiday ...\",\"rh\":\"zdnet.com\",\"rid\":\"H7xBAJr0IV7kFM\",\"rmt\":0,\"rt\":0,\"ru\":\"https://www.zdnet.com/article/apple-device-activations-double-samsungs-during-holiday-season/\",\"sc\":1,\"st\":\"ZDNet\",\"th\":195,\"tu\":\"https://encrypted-tbn0.gstatic.com/images?q\\u003dtbn:ANd9GcTtpH9URYPkVA3ih_SJjs9YnPs2Nz-FFIAK6BAOPa7buXbKxAwtSA\\u0026s\",\"tw\":259}</div>,\n",
       " <div class=\"rg_meta notranslate\">{\"id\":\"kR0A4jO-8gVRRM:\",\"isu\":\"businessinsider.com\",\"itg\":0,\"ity\":\"\",\"oh\":160,\"ou\":\"https://image.businessinsider.com/53d6a78d6bb3f72649523a5f?width\\u003d320\\u0026format\\u003djpeg\",\"ow\":320,\"pt\":\"CHART OF THE DAY: Apple\\u0027s iPad Market Share Of Tablets Falls ...\",\"rh\":\"businessinsider.com\",\"rid\":\"yASptteGCi69GM\",\"rmt\":0,\"rt\":0,\"ru\":\"https://www.businessinsider.com/chart-of-the-day-apple-ipad-tablet-market-share-falls-2014-7\",\"sc\":1,\"st\":\"Business Insider\",\"th\":159,\"tu\":\"https://encrypted-tbn0.gstatic.com/images?q\\u003dtbn:ANd9GcTAvwnaiWyctkVn_ohSMeGpbJMos6bI6BGnXWzJi7aWD3tw0fV0\\u0026s\",\"tw\":318}</div>,\n",
       " <div class=\"rg_meta notranslate\">{\"cb\":3,\"cr\":3,\"fpu\":\"https://lh3.googleusercontent.com/proxy/8CkN9f5W_VYMBZZ8QSzxD6F7yUK0M_5f57LsZkWYSdxNpCBprLNp5ak6Zx9JEwtqDrSaVzYHLrpEluI_gNrO1pt6lNwr7iYDWE5ydtGXIEhT5MM93ZzRnffuLlhc48u2Z05Wo2rS2gmTHkp80Gfbs-dzsIj7RYUv\",\"id\":\"O3yM90ZUpXFVrM:\",\"isu\":\"marketjournal.co.uk\",\"itg\":0,\"ity\":\"jpeg\",\"oh\":400,\"ou\":\"http://www.marketjournal.co.uk/wp-content/uploads/2019/12/Smart-Connected-Air-Conditioner-Market.jpeg\",\"ow\":600,\"pt\":\"Smart Connected Air Conditioner Market Study: An Emerging ...\",\"rh\":\"marketjournal.co.uk\",\"rid\":\"WR8NNuoFHMOj7M\",\"rmt\":0,\"rt\":0,\"ru\":\"https://www.marketjournal.co.uk/smart-connected-air-conditioner-market-study-an-emerging-hint-of-opportunity/65494/\",\"sc\":1,\"st\":\"The Market Journal\",\"th\":183,\"tu\":\"https://encrypted-tbn0.gstatic.com/images?q\\u003dtbn:ANd9GcSjLx7ncL6J_6e_8dOQTyybQlYISwBVcQCdUEXr2nYPVpU_0YYn\\u0026s\",\"tw\":275}</div>,\n",
       " <div class=\"rg_meta notranslate\">{\"id\":\"L9x9ZQ83LBRwmM:\",\"isu\":\"digital.hbs.edu\",\"itg\":0,\"ity\":\"png\",\"oh\":289,\"ou\":\"https://digital.hbs.edu/platform-digit/wp-content/uploads/sites/2/2018/01/1-BB-Domestic-Share-2.png\",\"ow\":686,\"pt\":\"The Rise and Fall (and Rise Again?) of BlackBerry \\u2013 Digital ...\",\"rh\":\"digital.hbs.edu\",\"rid\":\"7jqyJNXTKdChHM\",\"rmt\":0,\"rt\":0,\"ru\":\"https://digital.hbs.edu/platform-digit/submission/the-rise-and-fall-and-rise-again-of-blackberry/\",\"sc\":1,\"st\":\"HBS Digital Initiative - Harvard Business School\",\"th\":146,\"tu\":\"https://encrypted-tbn0.gstatic.com/images?q\\u003dtbn:ANd9GcTzUjcsTn_TYKaDO5wGFqotDEzRsnkuAZxMz7iSkk0BdWOlRELK\\u0026s\",\"tw\":346}</div>,\n",
       " <div class=\"rg_meta notranslate\">{\"id\":\"kMKUPywFFHQ9jM:\",\"isu\":\"mattward.io\",\"itg\":0,\"ity\":\"png\",\"oh\":366,\"ou\":\"https://i0.wp.com/cdn-images-1.medium.com/max/960/1*IjjZKCjT9mK-pkFxIHNPZQ.png?w\\u003d592\\u0026ssl\\u003d1\",\"ow\":592,\"pt\":\"Apple: The Fading Star? - Matt Ward\",\"rh\":\"mattward.io\",\"rid\":\"4NxxBaIgUsxgNM\",\"rmt\":0,\"rt\":0,\"ru\":\"https://mattward.io/apple-the-fading-star/\",\"sc\":1,\"st\":\"Matt Ward\",\"th\":176,\"tu\":\"https://encrypted-tbn0.gstatic.com/images?q\\u003dtbn:ANd9GcR3K2sRNcJOqA0Ia5KT_4BMHilPxUSf_BSIqfLz_iFgwoRZ6FyO\\u0026s\",\"tw\":286}</div>,\n",
       " <div class=\"rg_meta notranslate\">{\"id\":\"ylH6QC4G6pb1gM:\",\"isu\":\"fool.com\",\"itg\":0,\"ity\":\"png\",\"oh\":545,\"ou\":\"https://g.foolcdn.com/editorial/images/169194/captura-de-pantalla-2015-05-31-a-las-114427.png\",\"ow\":857,\"pt\":\"1 Chart Showing Apple Inc.\\u0027s Massive Opportunity in China ...\",\"rh\":\"fool.com\",\"rid\":\"i54EZU2Tw6gAwM\",\"rmt\":0,\"rt\":0,\"ru\":\"https://www.fool.com/investing/general/2015/06/01/1-chart-showing-apple-incs-massive-opportunity-in.aspx\",\"sc\":1,\"st\":\"The Motley Fool\",\"th\":179,\"tu\":\"https://encrypted-tbn0.gstatic.com/images?q\\u003dtbn:ANd9GcREAMKMJBiIkKyMCzH1xznWn4BjBQ2M347HmLFEAcv_2_zCZdYl3w\\u0026s\",\"tw\":282}</div>,\n",
       " <div class=\"rg_meta notranslate\">{\"cl\":18,\"cr\":21,\"id\":\"k4uH-kO93A6KwM:\",\"isu\":\"telecom.economictimes.indiatimes.com\",\"itg\":1,\"ity\":\"cms\",\"oh\":231,\"ou\":\"https://etimg.etb2bimg.com/thumb/apple-tv-creators-asked-to-avoid-portraying-china-critically/71573761.cms?width\\u003d348\\u0026height\\u003d231\",\"ow\":348,\"pt\":\"Apple tv News - Latest apple tv News, Information \\u0026 Updates ...\",\"rh\":\"telecom.economictimes.indiatimes.com\",\"rid\":\"gtoFNBmEyZFW-M\",\"rmt\":0,\"rt\":0,\"ru\":\"https://telecom.economictimes.indiatimes.com/tag/apple+tv\",\"st\":\"ET Telecom\",\"th\":183,\"tu\":\"https://encrypted-tbn0.gstatic.com/images?q\\u003dtbn:ANd9GcRmNGQk42rxn5nmDGWxz65JijgfxhKKFoSBLo9KAK9eDbqMhacOqQ\\u0026s\",\"tw\":276}</div>,\n",
       " <div class=\"rg_meta notranslate\">{\"cl\":21,\"cr\":21,\"ct\":3,\"id\":\"RBPfCOduS_82iM:\",\"isu\":\"igamesnews.com\",\"itg\":1,\"ity\":\"jpg\",\"oh\":450,\"ou\":\"https://www.igamesnews.com/wp-content/uploads/2019/12/mejores-libros-electronicos_apple-books_thumb800.jpg\",\"ow\":800,\"pt\":\"The best e-books or eBooks in the Apple Book - iGamesNews\",\"rh\":\"igamesnews.com\",\"rid\":\"H7pWNAkYtDr1rM\",\"rmt\":0,\"rt\":0,\"ru\":\"https://www.igamesnews.com/mobile/the-best-e-books-or-ebooks-in-the-apple-book/\",\"sc\":1,\"st\":\"iGamesNews\",\"th\":168,\"tu\":\"https://encrypted-tbn0.gstatic.com/images?q\\u003dtbn:ANd9GcT-mOSdf4s18wK7_XcnXUjX_LI4amNYqTcT4_OqQ3uiFA8Z6DW-TQ\\u0026s\",\"tw\":300}</div>,\n",
       " <div class=\"rg_meta notranslate\">{\"id\":\"bvvNBWpRZhKuvM:\",\"isu\":\"applemagazine.com\",\"itg\":0,\"ity\":\"jpg\",\"oh\":470,\"ou\":\"https://applemagazine.com/wp-content/uploads/2019/12/jealous-weekends-YmhM-bORzOs-unsplash-780x470.jpg\",\"ow\":780,\"pt\":\"Why Apple needs a cheap iPhone in 2020 - AppleMagazine\",\"rh\":\"applemagazine.com\",\"rid\":\"VRkWTNdRf4jqjM\",\"rmt\":0,\"rt\":0,\"ru\":\"https://applemagazine.com/why-apple-needs-a-cheap-iphone-in-2020/41084\",\"sc\":1,\"st\":\"AppleMagazine.com\",\"th\":174,\"tu\":\"https://encrypted-tbn0.gstatic.com/images?q\\u003dtbn:ANd9GcTLxOvPfOzqvRULiRuHdKs1vR6QD5si5Q7xecDFCnGKuXOxElu2Lw\\u0026s\",\"tw\":289}</div>,\n",
       " <div class=\"rg_meta notranslate\">{\"cl\":15,\"cr\":21,\"id\":\"h4hh44v-SZ4lCM:\",\"isu\":\"timesnownews.com\",\"itg\":0,\"ity\":\"jpg\",\"oh\":450,\"ou\":\"https://imgk.timesnownews.com/story/appleapnew_0.jpg?tr\\u003dw-600,h-450\",\"ow\":600,\"pt\":\"Apple grabs 66% of industry profits, 32 per cent handset ...\",\"rh\":\"timesnownews.com\",\"rid\":\"rPQ5s2JJgAF2DM\",\"rmt\":0,\"rt\":0,\"ru\":\"https://www.timesnownews.com/technology-science/article/apple-grabs-66-of-industry-profits-32-per-cent-handset-revenue/529752\",\"st\":\"Times Now\",\"th\":194,\"tu\":\"https://encrypted-tbn0.gstatic.com/images?q\\u003dtbn:ANd9GcThgj2ssExwEdyszMXUQf2Qm-jltURgkrSjY6y5tzEZ9i-tEdNi\\u0026s\",\"tw\":259}</div>,\n",
       " <div class=\"rg_meta notranslate\">{\"cb\":6,\"cl\":18,\"cr\":21,\"ct\":18,\"id\":\"on9HlSiwOA30VM:\",\"isu\":\"washingtonpost.com\",\"itg\":0,\"ity\":\"php\",\"oh\":519,\"ou\":\"https://www.washingtonpost.com/wp-apps/imrs.php?src\\u003dhttps://arc-anglerfish-washpost-prod-washpost.s3.amazonaws.com/public/YA2FGK5AF44Q3GQVOJRRUMX7RE.jpg\\u0026w\\u003d767\",\"ow\":767,\"pt\":\"The apple that never browns wants to change your mind about ...\",\"rh\":\"washingtonpost.com\",\"rid\":\"xgq-4HtMirCIFM\",\"rmt\":0,\"rt\":0,\"ru\":\"https://www.washingtonpost.com/news/wonk/wp/2017/01/23/the-apple-that-never-browns-wants-to-change-your-mind-about-genetically-modified-foods/\",\"st\":\"Washington Post\",\"th\":185,\"tu\":\"https://encrypted-tbn0.gstatic.com/images?q\\u003dtbn:ANd9GcRKqklo08k-KpAEQvr28KHlMTWGxiAMEVNLl37bv05AYeCBA3am\\u0026s\",\"tw\":273}</div>,\n",
       " <div class=\"rg_meta notranslate\">{\"cl\":3,\"id\":\"jNvmhzJjVggPNM:\",\"isu\":\"enlyft.com\",\"itg\":0,\"ity\":\"png\",\"oh\":450,\"ou\":\"https://enlyft.com/tech/static/images/static_charts/yext.png\",\"ow\":450,\"pt\":\"Companies using Yext and its marketshare\",\"rh\":\"enlyft.com\",\"rid\":\"2_lw5ez2eRA_-M\",\"rmt\":0,\"rt\":0,\"ru\":\"https://enlyft.com/tech/products/yext\",\"sc\":1,\"st\":\"Enlyft\",\"th\":225,\"tu\":\"https://encrypted-tbn0.gstatic.com/images?q\\u003dtbn:ANd9GcTGt56Yh5BVjfQ7I4nKCtAZrCS0j3rn5THmAAl5PbsB2Npfgv9irQ\\u0026s\",\"tw\":225}</div>,\n",
       " <div class=\"rg_meta notranslate\">{\"id\":\"swV6N_hOSxB7bM:\",\"isu\":\"ausdroid.net\",\"itg\":1,\"ity\":\"png\",\"oh\":296,\"ou\":\"https://i1.wp.com/ausdroid.net/wp-content/uploads/2016/01/Kantar-World-Panel-Dec-2015-730x350.png?resize\\u003d618%2C296\",\"ow\":618,\"pt\":\"Android market share in Australia climbs back above 50% in ...\",\"rh\":\"ausdroid.net\",\"rid\":\"rL9FdhKxubJDyM\",\"rmt\":0,\"rt\":0,\"ru\":\"https://ausdroid.net/2016/01/28/android-market-share-in-australia-now-back-above-50/\",\"sc\":1,\"st\":\"Ausdroid\",\"th\":155,\"tu\":\"https://encrypted-tbn0.gstatic.com/images?q\\u003dtbn:ANd9GcRXbsloAZBzd4HL9t5osvz0wxH1fhAAzZWLd6iNn3xwAyVbQcoa\\u0026s\",\"tw\":325}</div>,\n",
       " <div class=\"rg_meta notranslate\">{\"cb\":6,\"id\":\"UYuLpcrDUO9BAM:\",\"isu\":\"theaseanpost.com\",\"itg\":0,\"ity\":\"jpg\",\"oh\":999,\"ou\":\"https://theaseanpost.com/sites/default/files/inline-images/27082019-SUBSRIPTION-ON-DEMAND-2018_0.jpg\",\"ow\":900,\"pt\":\"Video streaming on the rise in Southeast Asia | The ASEAN Post\",\"rh\":\"theaseanpost.com\",\"rid\":\"2CDVTG9zlZH2jM\",\"rmt\":0,\"rt\":0,\"ru\":\"https://theaseanpost.com/article/video-streaming-rise-southeast-asia\",\"sc\":1,\"st\":\"The ASEAN Post\",\"th\":237,\"tu\":\"https://encrypted-tbn0.gstatic.com/images?q\\u003dtbn:ANd9GcRW0DnV4mbvh2p6HXc7EVx0LFq2qUcuiXAdsHJp3K1MSRRb5uxCEA\\u0026s\",\"tw\":213}</div>,\n",
       " <div class=\"rg_meta notranslate\">{\"id\":\"2c4xtoXDhffpTM:\",\"isu\":\"marketwatch.com\",\"itg\":0,\"ity\":\"png\",\"oh\":407,\"ou\":\"https://mw1.wsj.net/chart-cache/marketwatch/front-page-retina/e79d91d67fdf46d499eaa0d302670b88_600x407.png\",\"ow\":600,\"pt\":\"Android projected to top Apple in app revenue for first time ...\",\"rh\":\"marketwatch.com\",\"rid\":\"guH2eP4035tUNM\",\"rmt\":0,\"rt\":0,\"ru\":\"https://www.marketwatch.com/story/android-projected-to-top-apple-in-app-revenue-this-year-2017-03-29\",\"sc\":1,\"st\":\"MarketWatch\",\"th\":185,\"tu\":\"https://encrypted-tbn0.gstatic.com/images?q\\u003dtbn:ANd9GcTBVJe2t_OM3JfepZy4D0Mqf3b4E2fsYO5o2G6Ef-v9D5VPbfeumA\\u0026s\",\"tw\":273}</div>,\n",
       " <div class=\"rg_meta notranslate\">{\"cb\":3,\"id\":\"mGun4fTCCfjDsM:\",\"isu\":\"blog.logrocket.com\",\"itg\":0,\"ity\":\"png\",\"oh\":1263,\"ou\":\"https://i0.wp.com/storage.googleapis.com/blog-images-backup/0*CJ2o8JHI0Sy_YxgJ.png?ssl\\u003d1\",\"ow\":2400,\"pt\":\"Making the business case for React in 2019 - LogRocket Blog\",\"rh\":\"blog.logrocket.com\",\"rid\":\"e8c4mDFWvFvPUM\",\"rmt\":0,\"rt\":0,\"ru\":\"https://blog.logrocket.com/making-the-business-case-for-react-in-2019-74463bbb22de/\",\"sc\":1,\"st\":\"LogRocket Blog\",\"th\":163,\"tu\":\"https://encrypted-tbn0.gstatic.com/images?q\\u003dtbn:ANd9GcQ9GWHWvG6ZQeLInqP_e037poqeOgDioPrAW7GPFvn_xH9SNvWa\\u0026s\",\"tw\":310}</div>,\n",
       " <div class=\"rg_meta notranslate\">{\"id\":\"Ks2dbBUs7wNMjM:\",\"isu\":\"eetimes.com\",\"itg\":0,\"ity\":\"jpg\",\"oh\":414,\"ou\":\"https://www.eetimes.com/wp-content/uploads/2019/12/Chinas-smartphone-market-share-Q3-2019-1.jpg?w\\u003d640\\u0026resize\\u003d640%2C414\",\"ow\":640,\"pt\":\"Qualcomm Rides on China\\u0027s Belt \\u0026 Road Initiative | EE Times\",\"rh\":\"eetimes.com\",\"rid\":\"XbOhxVjfgmknwM\",\"rmt\":0,\"rt\":0,\"ru\":\"https://www.eetimes.com/qualcomm-rides-on-chinas-belt-road-initiative/\",\"sc\":1,\"st\":\"EE Times\",\"th\":180,\"tu\":\"https://encrypted-tbn0.gstatic.com/images?q\\u003dtbn:ANd9GcS6ki2ImirNy5PoTRkCe48AFCMg-Pvpgi5Qq4Afkt0KlXN7axm9\\u0026s\",\"tw\":279}</div>,\n",
       " <div class=\"rg_meta notranslate\">{\"ct\":3,\"id\":\"9AxXFG0cyBAHFM:\",\"isu\":\"xiaomi.dailyhunt.in\",\"itg\":1,\"ity\":\"jpg\",\"oh\":646,\"ou\":\"https://assets-news-bcdn.dailyhunt.in/cmd/resize/670x660_60/fetchdata15/images/dc/86/10/dc86103de3dbe97c3c7487f773cbe4d4.jpg\",\"ow\":600,\"pt\":\"Apple iPhone 11 launch LIVE: 7th-gen iPad announced with ...\",\"rh\":\"xiaomi.dailyhunt.in\",\"rid\":\"glToyGy3Pus5wM\",\"rmt\":0,\"rt\":0,\"ru\":\"https://xiaomi.dailyhunt.in/news/india/punjabi/first+post-epaper-fposteng/apple+iphone+11+launch+live+7th+gen+ipad+announced+with+10+2+inch+retina+display-newsid-135720622?mode\\u003dwap\",\"sc\":1,\"st\":\"Dailyhunt\",\"th\":233,\"tu\":\"https://encrypted-tbn0.gstatic.com/images?q\\u003dtbn:ANd9GcRdYtVEMaqN7Gl3yrYdaDU6oUVxmzrJQnWWKARlbwNQPB0eO0KxsQ\\u0026s\",\"tw\":216}</div>,\n",
       " <div class=\"rg_meta notranslate\">{\"cb\":3,\"cl\":3,\"cr\":3,\"ct\":12,\"id\":\"8FYxlSd3qk5N-M:\",\"isu\":\"wikicase.fandom.com\",\"itg\":0,\"ity\":\"\",\"oh\":239,\"ou\":\"https://vignette.wikia.nocookie.net/wikicase/images/3/35/Industry_Life_Cycle.jpg/revision/latest/scale-to-width-down/340?cb\\u003d20160507220518\",\"ow\":340,\"pt\":\"Industry Life Cycle | Wiki Case Presentation Wikia | Fandom\",\"rh\":\"wikicase.fandom.com\",\"rid\":\"qWIcAQaKjyg9wM\",\"rmt\":0,\"rt\":0,\"ru\":\"https://wikicase.fandom.com/wiki/Industry_Life_Cycle\",\"sc\":1,\"st\":\"Wiki Case Presentation Wikia - Fandom\",\"th\":188,\"tu\":\"https://encrypted-tbn0.gstatic.com/images?q\\u003dtbn:ANd9GcRMeBUFSf9q1UIwUxyDFTMbqXaD30psiidac-7IhsZSziaUgwPa\\u0026s\",\"tw\":268}</div>,\n",
       " <div class=\"rg_meta notranslate\">{\"cb\":3,\"crea\":\"sthakur\",\"id\":\"b38khc08fbX6cM:\",\"isu\":\"itvarnews.com\",\"itg\":0,\"ity\":\"jpg\",\"oh\":232,\"ou\":\"https://www.itvarnews.com/wp-content/uploads/2018/02/idc-report.jpg\",\"ow\":300,\"pt\":\"Indian Tablet Market Slows Down as Annual Shipments Dip by ...\",\"rh\":\"itvarnews.com\",\"rid\":\"dseKnzBHRoeLmM\",\"rmt\":0,\"rt\":0,\"ru\":\"https://www.itvarnews.com/2018/02/28/indian-tablet-market-slows-down-as-annual-shipments-dip-by-11-percent-in-2017-idc-india/\",\"sc\":1,\"st\":\"itVARnews\",\"th\":197,\"tu\":\"https://encrypted-tbn0.gstatic.com/images?q\\u003dtbn:ANd9GcRJvbtTD1mrCSQ18EnZlwo5Fc9H50HZsLUFMQ0YaSBw51BpYsUQ\\u0026s\",\"tw\":255}</div>,\n",
       " <div class=\"rg_meta notranslate\">{\"id\":\"hMM-vmbZ5mQ7wM:\",\"isu\":\"startupandroid.com\",\"itg\":0,\"ity\":\"jpg\",\"oh\":388,\"ou\":\"https://i1.wp.com/startupandroid.com/wp-content/uploads/2019/12/Apple-Holds-The-Highest-Profit-In-The-Smartphone-Industry.jpg?resize\\u003d600%2C388\\u0026ssl\\u003d1\",\"ow\":600,\"pt\":\"Apple Holds The Highest Profit In The Smartphone Industry -\",\"rh\":\"startupandroid.com\",\"rid\":\"yR8IpRl0Ajrb9M\",\"rmt\":0,\"rt\":0,\"ru\":\"https://startupandroid.com/apple-holds-the-highest-profit-in-the-smartphone-industry/\",\"sc\":1,\"st\":\"Startup Android\",\"th\":180,\"tu\":\"https://encrypted-tbn0.gstatic.com/images?q\\u003dtbn:ANd9GcSkcaI85vK-1hvIAO1bMjBYqSg1s0vCJO6SdDmZC5QkvhAuuYTP5Q\\u0026s\",\"tw\":279}</div>,\n",
       " <div class=\"rg_meta notranslate\">{\"cb\":12,\"cl\":3,\"cr\":3,\"ct\":9,\"id\":\"UxRNrkIRxj-blM:\",\"isu\":\"statista.com\",\"itg\":0,\"ity\":\"png\",\"oh\":560,\"ou\":\"https://cdn.statcdn.com/Statistic/1080000/1084435-blank-754.png\",\"ow\":754,\"pt\":\"Working days needed to buy an iPhone 11 Pro in Latin America ...\",\"rh\":\"statista.com\",\"rid\":\"c6tZrYMo0SZ5CM\",\"rmt\":0,\"rt\":0,\"ru\":\"https://www.statista.com/statistics/1084435/working-days-required-buy-iphone-11-pro-latin-america-country/\",\"sc\":1,\"st\":\"Statista\",\"th\":193,\"tu\":\"https://encrypted-tbn0.gstatic.com/images?q\\u003dtbn:ANd9GcSGxxV09kutR7euipbGhrRHTV6TKry16pzElhgPobZ473VyV52O\\u0026s\",\"tw\":261}</div>,\n",
       " <div class=\"rg_meta notranslate\">{\"cb\":3,\"cl\":3,\"cr\":3,\"id\":\"AT1B-P0TYOzcOM:\",\"isu\":\"themarketear.com\",\"itg\":1,\"ity\":\"\",\"oh\":965,\"ou\":\"https://themarketear.com/images/a6c45d81f9843102a4036af57e4793e9\",\"ow\":1494,\"pt\":\"Goldman´s Current Activity Indicator continues to be weak ...\",\"rh\":\"themarketear.com\",\"rid\":\"wZl5f-cF7RWz9M\",\"rmt\":0,\"rt\":0,\"ru\":\"https://themarketear.com/posts/c59ABlCGps\",\"sc\":1,\"st\":\"The Market Ear\",\"th\":180,\"tu\":\"https://encrypted-tbn0.gstatic.com/images?q\\u003dtbn:ANd9GcSEWi_MhZXrlFPbpYzTh1E5ROWnHHJK1jE7ETDhBJB22Zr8DMkT\\u0026s\",\"tw\":279}</div>,\n",
       " <div class=\"rg_meta notranslate\">{\"cb\":9,\"cl\":6,\"cr\":6,\"ct\":9,\"id\":\"coabuR6Jw3I1xM:\",\"isu\":\"t3.com\",\"itg\":0,\"ity\":\"jpg\",\"oh\":432,\"ou\":\"https://cdn.mos.cms.futurecdn.net/PnV5toCHNseKQ3oFHLb5q5-768-80.jpg\",\"ow\":768,\"pt\":\"The best iPad: every iPad Apple currently sells, ranked | T3\",\"rh\":\"t3.com\",\"rid\":\"PbMHOkftxjK6VM\",\"rmt\":0,\"rt\":0,\"ru\":\"https://www.t3.com/features/the-best-ipad-apple-ipads-ranked\",\"sc\":1,\"st\":\"T3.com\",\"th\":168,\"tu\":\"https://encrypted-tbn0.gstatic.com/images?q\\u003dtbn:ANd9GcRM1OVfcFkmLo8F1nPHS6nYvi2hPpps1yh3oU7hrUSrICc1czC4VA\\u0026s\",\"tw\":300}</div>,\n",
       " <div class=\"rg_meta notranslate\">{\"id\":\"tLimP6nQqdUTgM:\",\"isu\":\"seekingalpha.com\",\"itg\":0,\"ity\":\"png\",\"oh\":315,\"ou\":\"https://static.seekingalpha.com/uploads/2019/12/19/47444632-15767952141732135.png\",\"ow\":618,\"pt\":\"Data Center Market Share Drives Intel And Nvidia\\u0027s Stock ...\",\"rh\":\"seekingalpha.com\",\"rid\":\"mrwy6QL8ISuKgM\",\"rmt\":0,\"rt\":0,\"ru\":\"https://seekingalpha.com/article/4313636-data-center-market-share-drives-intel-and-nvidias-stock-prices\",\"sc\":1,\"st\":\"Seeking Alpha\",\"th\":160,\"tu\":\"https://encrypted-tbn0.gstatic.com/images?q\\u003dtbn:ANd9GcTytjBmhcShNQFtLjmhjp9-OuPq8WbSho6s0aELKuMOBWRfYnqk\\u0026s\",\"tw\":315}</div>,\n",
       " <div class=\"rg_meta notranslate\">{\"cl\":3,\"cr\":3,\"id\":\"j6fvpy-eo8ftWM:\",\"isu\":\"apptweak.com\",\"itg\":0,\"ity\":\"jpg\",\"oh\":375,\"ou\":\"https://www.apptweak.com/blog/images/2019/12/19/ASO2020_750.jpg\",\"ow\":750,\"pt\":\"5 ASO Trends for 2020 You Need To Know About - ASO Blog\",\"rh\":\"apptweak.com\",\"rid\":\"6J6Dsbas6ic2pM\",\"rmt\":0,\"rt\":0,\"ru\":\"https://www.apptweak.com/aso-blog/5-aso-trends-for-2020-you-need-to-know-about\",\"st\":\"AppTweak\",\"th\":159,\"tu\":\"https://encrypted-tbn0.gstatic.com/images?q\\u003dtbn:ANd9GcTZiWuPBVXICMdWtZUaJ359t0OSkxiswn-ZmlLSexCK6kz2N9zXqg\\u0026s\",\"tw\":318}</div>,\n",
       " <div class=\"rg_meta notranslate\">{\"cb\":21,\"cl\":6,\"cr\":9,\"id\":\"H9QXV9jJ3PsNsM:\",\"isu\":\"phonearena.com\",\"itg\":0,\"ity\":\"jpg\",\"oh\":800,\"ou\":\"https://i-cdn.phonearena.com/images/article/115709-two/Global-Q1-2019-market-reports-highlight-Samsung-and-Apples-struggles-Huaweis-incredible-growth.jpg\",\"ow\":1200,\"pt\":\"Global Q1 2019 market reports highlight Samsung and Apple\\u0027s ...\",\"rh\":\"phonearena.com\",\"rid\":\"q1VbfAmjiCxwpM\",\"rmt\":0,\"rt\":0,\"ru\":\"https://www.phonearena.com/news/global-q1-2019-smartphone-market-reports-samsung-apple-huawei-shipments_id115709\",\"st\":\"PhoneArena\",\"th\":183,\"tu\":\"https://encrypted-tbn0.gstatic.com/images?q\\u003dtbn:ANd9GcTAacPskQwwK51amEwlwcEFmG1kJmb_pbKgHLY2m-Y4EOu-hqJvmg\\u0026s\",\"tw\":275}</div>,\n",
       " <div class=\"rg_meta notranslate\">{\"id\":\"R4vU-Fx6ARjPEM:\",\"isu\":\"forbes.com\",\"itg\":0,\"ity\":\"jpg\",\"oh\":400,\"ou\":\"https://thumbor.forbes.com/thumbor/711x400/https://blogs-images.forbes.com/sarwantsingh/files/2014/03/Chart-Apple-CarPlay.jpg?width\\u003d960\",\"ow\":711,\"pt\":\"Apple In Cars--What Does It Mean For The Auto Industry And ...\",\"rh\":\"forbes.com\",\"rid\":\"q3e4MmT_e_oNQM\",\"rmt\":0,\"rt\":0,\"ru\":\"https://www.forbes.com/sites/sarwantsingh/2014/03/19/apple-in-cars-what-does-it-mean-for-the-car-industry-and-google/\",\"sc\":1,\"st\":\"Forbes\",\"th\":168,\"tu\":\"https://encrypted-tbn0.gstatic.com/images?q\\u003dtbn:ANd9GcTsRCne4-0Hg2zT0f5K1hfg3HOGTJqbNqPyJfVIuPJbQMm1GxAl-Q\\u0026s\",\"tw\":299}</div>,\n",
       " <div class=\"rg_meta notranslate\">{\"cb\":3,\"cl\":3,\"cr\":3,\"ct\":9,\"id\":\"R-XXa5eYaVNvRM:\",\"isu\":\"apple.fandom.com\",\"itg\":0,\"ity\":\"\",\"oh\":340,\"ou\":\"https://vignette.wikia.nocookie.net/ipod/images/a/a1/MacOSMojaveCircle.png/revision/latest/scale-to-width-down/340?cb\\u003d20181016204542\",\"ow\":340,\"pt\":\"OS X | Apple Wiki | Fandom\",\"rh\":\"apple.fandom.com\",\"rid\":\"yiKXLx53sIvy8M\",\"rmt\":0,\"rt\":0,\"ru\":\"https://apple.fandom.com/wiki/OS_X\",\"sc\":1,\"st\":\"Apple Wiki | Fandom\",\"th\":225,\"tu\":\"https://encrypted-tbn0.gstatic.com/images?q\\u003dtbn:ANd9GcSxHKih5uGpqO2OVqgBVTxNqNdph_n_Ii9WoTNASscoydf9tSHDhw\\u0026s\",\"tw\":225}</div>,\n",
       " <div class=\"rg_meta notranslate\">{\"cl\":6,\"cr\":15,\"id\":\"CxWGpk5gkutQOM:\",\"isu\":\"theguardian.com\",\"itg\":0,\"ity\":\"jpeg\",\"oh\":180,\"ou\":\"https://i.guim.co.uk/img/static/sys-images/Guardian/Pix/pictures/2014/1/30/1391091561124/0ba8c8f0-325c-4e02-bcb6-e7909a36d151-2060x1236.jpeg?width\\u003d300\\u0026quality\\u003d85\\u0026auto\\u003dformat\\u0026fit\\u003dmax\\u0026s\\u003d11af8ef307dfcd6e082213f92a386740\",\"ow\":300,\"pt\":\"Tablet market grows more slowly than expected as Apple ...\",\"rh\":\"theguardian.com\",\"rid\":\"YRUwOLvBoPhLFM\",\"rmt\":0,\"rt\":0,\"ru\":\"https://www.theguardian.com/technology/2014/jan/30/tablet-market-grows-slowly-apple-regains-share\",\"st\":\"The Guardian\",\"th\":174,\"tu\":\"https://encrypted-tbn0.gstatic.com/images?q\\u003dtbn:ANd9GcTg5mvakyBrUjmzCLuluNvqKwlphZG4ZwITZJ5Uhx1yefSBjyil\\u0026s\",\"tw\":290}</div>,\n",
       " <div class=\"rg_meta notranslate\">{\"id\":\"1aN5_sdwydOj_M:\",\"isu\":\"businessinsider.com\",\"itg\":0,\"ity\":\"\",\"oh\":583,\"ou\":\"https://i.insider.com/50c244bdecad04fd4c000014?width\\u003d750\\u0026format\\u003djpeg\\u0026auto\\u003dwebp\",\"ow\":750,\"pt\":\"How Apple Really Lost Its Lead In The 80s - Business Insider\",\"rh\":\"businessinsider.com\",\"rid\":\"0PCr51ezZr9LGM\",\"rmt\":0,\"rt\":0,\"ru\":\"https://www.businessinsider.com/how-apple-really-lost-its-lead-in-the-80s-2012-12\",\"sc\":1,\"st\":\"Business Insider\",\"th\":198,\"tu\":\"https://encrypted-tbn0.gstatic.com/images?q\\u003dtbn:ANd9GcQpN2bq72fSkupcIzaQgkCgWWTZ1fCzbmUijaDvxKDKaRKI0k5NDw\\u0026s\",\"tw\":255}</div>]"
      ]
     },
     "execution_count": 67,
     "metadata": {},
     "output_type": "execute_result"
    }
   ],
   "source": [
    "link = 'https://www.google.co.in/search?q=Apple+\"Market+share\"&tbas=0&tbs=cdr:1,cd_min:12/20/2019,cd_max:12/21/2019&source=lnms&tbm=isch'\n",
    "\n",
    "requestLinkSession(link, 100)"
   ]
  },
  {
   "cell_type": "code",
   "execution_count": null,
   "metadata": {},
   "outputs": [],
   "source": []
  },
  {
   "cell_type": "code",
   "execution_count": null,
   "metadata": {},
   "outputs": [],
   "source": []
  },
  {
   "cell_type": "code",
   "execution_count": null,
   "metadata": {},
   "outputs": [],
   "source": []
  },
  {
   "cell_type": "code",
   "execution_count": null,
   "metadata": {},
   "outputs": [],
   "source": []
  },
  {
   "cell_type": "code",
   "execution_count": null,
   "metadata": {},
   "outputs": [],
   "source": []
  },
  {
   "cell_type": "code",
   "execution_count": null,
   "metadata": {},
   "outputs": [],
   "source": []
  },
  {
   "cell_type": "code",
   "execution_count": null,
   "metadata": {},
   "outputs": [],
   "source": []
  },
  {
   "cell_type": "code",
   "execution_count": null,
   "metadata": {},
   "outputs": [],
   "source": []
  },
  {
   "cell_type": "code",
   "execution_count": null,
   "metadata": {},
   "outputs": [],
   "source": []
  },
  {
   "cell_type": "code",
   "execution_count": null,
   "metadata": {},
   "outputs": [],
   "source": []
  }
 ],
 "metadata": {
  "kernelspec": {
   "display_name": "Python 3",
   "language": "python",
   "name": "python3"
  },
  "language_info": {
   "codemirror_mode": {
    "name": "ipython",
    "version": 3
   },
   "file_extension": ".py",
   "mimetype": "text/x-python",
   "name": "python",
   "nbconvert_exporter": "python",
   "pygments_lexer": "ipython3",
   "version": "3.7.3"
  }
 },
 "nbformat": 4,
 "nbformat_minor": 2
}
