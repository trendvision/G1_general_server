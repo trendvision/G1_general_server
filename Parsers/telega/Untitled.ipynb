{
 "cells": [
  {
   "cell_type": "code",
   "execution_count": 3,
   "metadata": {},
   "outputs": [
    {
     "name": "stdout",
     "output_type": "stream",
     "text": [
      "Collecting telethon\n",
      "  Using cached https://files.pythonhosted.org/packages/c1/ae/2263217210f88e65e274c66437be6aa7d9e4fe29802ac1f52b304c1391d2/Telethon-1.13.0-py3-none-any.whl\n",
      "Collecting pyaes (from telethon)\n",
      "  Using cached https://files.pythonhosted.org/packages/44/66/2c17bae31c906613795711fc78045c285048168919ace2220daa372c7d72/pyaes-1.6.1.tar.gz\n",
      "Requirement already satisfied: rsa in /home/ubuntu/anaconda3/lib/python3.7/site-packages (from telethon) (3.4.2)\n",
      "Requirement already satisfied: pyasn1>=0.1.3 in /home/ubuntu/anaconda3/lib/python3.7/site-packages (from rsa->telethon) (0.4.8)\n",
      "Building wheels for collected packages: pyaes\n",
      "  Building wheel for pyaes (setup.py) ... \u001b[?25ldone\n",
      "\u001b[?25h  Stored in directory: /home/ubuntu/.cache/pip/wheels/bd/cf/7b/ced9e8f28c50ed666728e8ab178ffedeb9d06f6a10f85d6432\n",
      "Successfully built pyaes\n",
      "Installing collected packages: pyaes, telethon\n",
      "Successfully installed pyaes-1.6.1 telethon-1.13.0\n"
     ]
    }
   ],
   "source": [
    "!pip install telethon"
   ]
  },
  {
   "cell_type": "code",
   "execution_count": 1,
   "metadata": {},
   "outputs": [],
   "source": [
    "import configparser\n",
    "import json\n",
    "\n",
    "from telethon import TelegramClient\n",
    "from telethon.errors import SessionPasswordNeededError"
   ]
  },
  {
   "cell_type": "code",
   "execution_count": 2,
   "metadata": {},
   "outputs": [],
   "source": [
    "# api_id = \"1109457\"\n",
    "# api_hash = \"b16b52d6fa7e3d272949f39c514e74ee\"\n",
    "\n",
    "# # use full phone number including + and country code\n",
    "# phone = \"+79264552109\"\n",
    "# username = \"nem0oo7\""
   ]
  },
  {
   "cell_type": "code",
   "execution_count": 3,
   "metadata": {},
   "outputs": [],
   "source": [
    "# Reading Configs\n",
    "config = configparser.ConfigParser()\n",
    "config.read(\"config.ini\")\n",
    "\n",
    "# Setting configuration values\n",
    "api_id = config['Telegram']['api_id']\n",
    "api_hash = config['Telegram']['api_hash']\n",
    "\n",
    "api_hash = str(api_hash)\n",
    "\n",
    "phone = config['Telegram']['phone']\n",
    "username = config['Telegram']['username']\n",
    "# view raw"
   ]
  },
  {
   "cell_type": "code",
   "execution_count": 4,
   "metadata": {},
   "outputs": [
    {
     "name": "stdout",
     "output_type": "stream",
     "text": [
      "Client Created\n"
     ]
    },
    {
     "name": "stderr",
     "output_type": "stream",
     "text": [
      "/home/ubuntu/anaconda3/lib/python3.7/site-packages/ipykernel_launcher.py:3: RuntimeWarning: coroutine 'AuthMethods._start' was never awaited\n",
      "  This is separate from the ipykernel package so we can avoid doing imports until\n",
      "RuntimeWarning: Enable tracemalloc to get the object allocation traceback\n",
      "/home/ubuntu/anaconda3/lib/python3.7/site-packages/ipykernel_launcher.py:6: RuntimeWarning: coroutine 'UserMethods.is_user_authorized' was never awaited\n",
      "  \n",
      "RuntimeWarning: Enable tracemalloc to get the object allocation traceback\n"
     ]
    }
   ],
   "source": [
    "# Create the client and connect\n",
    "client = TelegramClient(username, api_id, api_hash)\n",
    "client.start()\n",
    "print(\"Client Created\")\n",
    "# Ensure you're authorized\n",
    "if not client.is_user_authorized():\n",
    "    client.send_code_request(phone)\n",
    "    try:\n",
    "        client.sign_in(phone, input('Enter the code: '))\n",
    "    except SessionPasswordNeededError:\n",
    "        client.sign_in(password=input('Password: '))"
   ]
  },
  {
   "cell_type": "code",
   "execution_count": 7,
   "metadata": {},
   "outputs": [
    {
     "name": "stderr",
     "output_type": "stream",
     "text": [
      "/home/ubuntu/anaconda3/lib/python3.7/site-packages/ipykernel_launcher.py:4: RuntimeWarning: coroutine 'AuthMethods._start' was never awaited\n",
      "  after removing the cwd from sys.path.\n",
      "RuntimeWarning: Enable tracemalloc to get the object allocation traceback\n"
     ]
    }
   ],
   "source": [
    "from telethon import TelegramClient, sync\n",
    "import pandas as pd\n",
    "# group_username = ‘your group name’ # Group name can be found in group link (Example group link : https://t.me/c0ban_global, group name = 'c0ban_global')\n",
    "client = TelegramClient(username, api_id, api_hash).start()\n",
    "\n",
    "# You will be asked to enter your mobile number- Enter mobile number with country code\n",
    "# Enter OTP (For OTP check Telegram inbox)"
   ]
  },
  {
   "cell_type": "code",
   "execution_count": 8,
   "metadata": {},
   "outputs": [
    {
     "ename": "AttributeError",
     "evalue": "'coroutine' object has no attribute 'get_participants'",
     "output_type": "error",
     "traceback": [
      "\u001b[0;31m---------------------------------------------------------------------------\u001b[0m",
      "\u001b[0;31mAttributeError\u001b[0m                            Traceback (most recent call last)",
      "\u001b[0;32m<ipython-input-8-44f40b4a10bc>\u001b[0m in \u001b[0;36m<module>\u001b[0;34m\u001b[0m\n\u001b[0;32m----> 1\u001b[0;31m \u001b[0mparticipants\u001b[0m \u001b[0;34m=\u001b[0m \u001b[0mclient\u001b[0m\u001b[0;34m.\u001b[0m\u001b[0mget_participants\u001b[0m\u001b[0;34m(\u001b[0m\u001b[0;34m\"https://t.me/Infographicru\"\u001b[0m\u001b[0;34m)\u001b[0m\u001b[0;34m\u001b[0m\u001b[0;34m\u001b[0m\u001b[0m\n\u001b[0m",
      "\u001b[0;31mAttributeError\u001b[0m: 'coroutine' object has no attribute 'get_participants'"
     ]
    }
   ],
   "source": [
    "participants = client.get_participants(\"https://t.me/Infographicru\")"
   ]
  },
  {
   "cell_type": "code",
   "execution_count": null,
   "metadata": {},
   "outputs": [],
   "source": [
    "# api_id = \"1109457\"\n",
    "# api_hash = \"b16b52d6fa7e3d272949f39c514e74ee\"\n",
    "\n",
    "# # use full phone number including + and country code\n",
    "# phone = \"+79264552109\"\n",
    "# username = \"nem0oo7\""
   ]
  },
  {
   "cell_type": "code",
   "execution_count": 1,
   "metadata": {},
   "outputs": [
    {
     "ename": "RuntimeError",
     "evalue": "You must use \"async with\" if the event loop is running (i.e. you are inside an \"async def\")",
     "output_type": "error",
     "traceback": [
      "\u001b[0;31m---------------------------------------------------------------------------\u001b[0m",
      "\u001b[0;31mRuntimeError\u001b[0m                              Traceback (most recent call last)",
      "\u001b[0;32m<ipython-input-1-753442f67025>\u001b[0m in \u001b[0;36m<module>\u001b[0;34m\u001b[0m\n\u001b[1;32m     61\u001b[0m             \u001b[0mprint\u001b[0m\u001b[0;34m(\u001b[0m\u001b[0;34m'File saved to'\u001b[0m\u001b[0;34m,\u001b[0m \u001b[0mpath\u001b[0m\u001b[0;34m)\u001b[0m  \u001b[0;31m# printed after download is done\u001b[0m\u001b[0;34m\u001b[0m\u001b[0;34m\u001b[0m\u001b[0m\n\u001b[1;32m     62\u001b[0m \u001b[0;34m\u001b[0m\u001b[0m\n\u001b[0;32m---> 63\u001b[0;31m \u001b[0;32mwith\u001b[0m \u001b[0mclient\u001b[0m\u001b[0;34m:\u001b[0m\u001b[0;34m\u001b[0m\u001b[0;34m\u001b[0m\u001b[0m\n\u001b[0m\u001b[1;32m     64\u001b[0m     \u001b[0mclient\u001b[0m\u001b[0;34m.\u001b[0m\u001b[0mloop\u001b[0m\u001b[0;34m.\u001b[0m\u001b[0mrun_until_complete\u001b[0m\u001b[0;34m(\u001b[0m\u001b[0mmain\u001b[0m\u001b[0;34m(\u001b[0m\u001b[0;34m)\u001b[0m\u001b[0;34m)\u001b[0m\u001b[0;34m\u001b[0m\u001b[0;34m\u001b[0m\u001b[0m\n",
      "\u001b[0;32m~/anaconda3/lib/python3.7/site-packages/telethon/helpers.py\u001b[0m in \u001b[0;36m_sync_enter\u001b[0;34m(self)\u001b[0m\n\u001b[1;32m    149\u001b[0m     \u001b[0;32mif\u001b[0m \u001b[0mloop\u001b[0m\u001b[0;34m.\u001b[0m\u001b[0mis_running\u001b[0m\u001b[0;34m(\u001b[0m\u001b[0;34m)\u001b[0m\u001b[0;34m:\u001b[0m\u001b[0;34m\u001b[0m\u001b[0;34m\u001b[0m\u001b[0m\n\u001b[1;32m    150\u001b[0m         raise RuntimeError(\n\u001b[0;32m--> 151\u001b[0;31m             \u001b[0;34m'You must use \"async with\" if the event loop '\u001b[0m\u001b[0;34m\u001b[0m\u001b[0;34m\u001b[0m\u001b[0m\n\u001b[0m\u001b[1;32m    152\u001b[0m             \u001b[0;34m'is running (i.e. you are inside an \"async def\")'\u001b[0m\u001b[0;34m\u001b[0m\u001b[0;34m\u001b[0m\u001b[0m\n\u001b[1;32m    153\u001b[0m         )\n",
      "\u001b[0;31mRuntimeError\u001b[0m: You must use \"async with\" if the event loop is running (i.e. you are inside an \"async def\")"
     ]
    }
   ],
   "source": [
    "from telethon import TelegramClient\n",
    "\n",
    "\n",
    "api_id = 1109457\n",
    "api_hash = 'b16b52d6fa7e3d272949f39c514e74ee'\n",
    "client = TelegramClient('nem0oo7', api_id, api_hash)\n",
    "\n",
    "async def main():\n",
    "    # Getting information about yourself\n",
    "    me = await client.get_me()\n",
    "\n",
    "    # \"me\" is an User object. You can pretty-print\n",
    "    # any Telegram object with the \"stringify\" method:\n",
    "    print(me.stringify())\n",
    "\n",
    "    # When you print something, you see a representation of it.\n",
    "    # You can access all attributes of Telegram objects with\n",
    "    # the dot operator. For example, to get the username:\n",
    "    username = me.username\n",
    "    print(username)\n",
    "    print(me.phone)\n",
    "\n",
    "    # You can print all the dialogs/conversations that you are part of:\n",
    "    async for dialog in client.iter_dialogs():\n",
    "        print(dialog.name, 'has ID', dialog.id)\n",
    "\n",
    "    # You can send messages to yourself...\n",
    "    await client.send_message('me', 'Hello, myself!')\n",
    "    # ...to some chat ID\n",
    "    await client.send_message(-100123456, 'Hello, group!')\n",
    "    # ...to your contacts\n",
    "    await client.send_message('+34600123123', 'Hello, friend!')\n",
    "    # ...or even to any username\n",
    "    await client.send_message('TelethonChat', 'Hello, Telethon!')\n",
    "\n",
    "    # You can, of course, use markdown in your messages:\n",
    "    message = await client.send_message(\n",
    "        'me',\n",
    "        'This message has **bold**, `code`, __italics__ and '\n",
    "        'a [nice website](https://example.com)!',\n",
    "        link_preview=False\n",
    "    )\n",
    "\n",
    "    # Sending a message returns the sent message object, which you can use\n",
    "    print(message.raw_text)\n",
    "\n",
    "    # You can reply to messages directly if you have a message object\n",
    "    await message.reply('Cool!')\n",
    "\n",
    "    # Or send files, songs, documents, albums...\n",
    "    await client.send_file('me', '/home/me/Pictures/holidays.jpg')\n",
    "\n",
    "    # You can print the message history of any chat:\n",
    "    async for message in client.iter_messages('me'):\n",
    "        print(message.id, message.text)\n",
    "\n",
    "        # You can download media from messages, too!\n",
    "        # The method will return the path where the file was saved.\n",
    "        if message.photo:\n",
    "            path = await message.download_media()\n",
    "            print('File saved to', path)  # printed after download is done\n",
    "\n",
    "with client:\n",
    "    client.loop.run_until_complete(main())"
   ]
  },
  {
   "cell_type": "code",
   "execution_count": null,
   "metadata": {},
   "outputs": [],
   "source": []
  },
  {
   "cell_type": "code",
   "execution_count": null,
   "metadata": {},
   "outputs": [],
   "source": [
    "width:800px;background-image:url('https://cdn4.telesco.pe/file/AGnruuz9RSOwH-CGdl30FJOhOJxrZCMwcxueppj0PyhjDvVqPfpCC4zDOtZYNsxEkCIhaVY6T-rk140M756_KutOr7bC2uEXsu32Y-o0_gzXeEDoZHhMhdzYEWe7AgGlLr2TDgeSCtKL1E8D7FQcqAwLL2kF7zIjBwD0lbbpAw1NnlFoxp3ZsXzhLglC_2tR6rHhtCqBGXLaq9Lozc0aGPnKmTuSfqX-LuHSxolH4U1ky5x6XFv3T6q2Teyo8i23gpQcUFd9DTkt-EbMYPoC3UDaBnttIs4WJOeybP98ktFi0XynJPArKMqyoZ31yw9_tMHmnS5HuoKRmdMmxpzF-Q.jpg')"
   ]
  },
  {
   "cell_type": "code",
   "execution_count": 3,
   "metadata": {},
   "outputs": [],
   "source": [
    "import requests\n",
    "\n",
    "r = requests.get(\"https://t.me/rationalnumbers/251\")"
   ]
  },
  {
   "cell_type": "code",
   "execution_count": 7,
   "metadata": {},
   "outputs": [],
   "source": [
    "from bs4 import BeautifulSoup"
   ]
  },
  {
   "cell_type": "code",
   "execution_count": 9,
   "metadata": {},
   "outputs": [],
   "source": [
    "soup = BeautifulSoup(r.text, 'lxml')"
   ]
  },
  {
   "cell_type": "code",
   "execution_count": 10,
   "metadata": {
    "scrolled": true
   },
   "outputs": [
    {
     "data": {
      "text/plain": [
       "<!DOCTYPE html>\n",
       "<html>\n",
       "<head>\n",
       "<meta charset=\"utf-8\"/>\n",
       "<title>Telegram: Contact @rationalnumbers</title>\n",
       "<meta content=\"width=device-width, initial-scale=1.0\" name=\"viewport\"/>\n",
       "<meta content=\"Рациональные числа\" property=\"og:title\"/>\n",
       "<meta content=\"https://cdn4.telesco.pe/file/K4E2de9TTui-rk2dhH-Pk6rdNMwKHwd3Zp4DgfxruQkZs2hIjJ7Et3z546VaYosnTbcrsAntqkfgugw2VmzGy_ftKsyaMhGbde-nKj_O9rq71V5ieZnoAXnPlc04QD-4C9wllLsmqVy8M1RNmtEwPw0eI7xoX24wfMC7BMyAIjwOEAhCq6uzlng4Q5GIUavF89iEXj9TQp-Ju_Sey-kzvgH7zAh7glPGskAq-eu29mE7gDJUPjrVKpLC8gWkfqzR3PPmT039WNyqS0anXa2a2sJ3jUayzRBczNRLjbaPqfjhnHron0gv3YAR6BYd-OyTJINCIbpT47VuuR8jd4n81Q.jpg\" property=\"og:image\"/>\n",
       "<meta content=\"Telegram\" property=\"og:site_name\"/>\n",
       "<meta content=\"Визуализация расходов на науку в разных странах. Источник: Фонд «ЦСР» по данным Battelle, R&amp;D Magazine, International Monetary Fund, World Bank, OECD\" property=\"og:description\"/>\n",
       "<meta content=\"Рациональные числа\" property=\"twitter:title\"/>\n",
       "<meta content=\"https://cdn4.telesco.pe/file/K4E2de9TTui-rk2dhH-Pk6rdNMwKHwd3Zp4DgfxruQkZs2hIjJ7Et3z546VaYosnTbcrsAntqkfgugw2VmzGy_ftKsyaMhGbde-nKj_O9rq71V5ieZnoAXnPlc04QD-4C9wllLsmqVy8M1RNmtEwPw0eI7xoX24wfMC7BMyAIjwOEAhCq6uzlng4Q5GIUavF89iEXj9TQp-Ju_Sey-kzvgH7zAh7glPGskAq-eu29mE7gDJUPjrVKpLC8gWkfqzR3PPmT039WNyqS0anXa2a2sJ3jUayzRBczNRLjbaPqfjhnHron0gv3YAR6BYd-OyTJINCIbpT47VuuR8jd4n81Q.jpg\" property=\"twitter:image\"/>\n",
       "<meta content=\"@Telegram\" property=\"twitter:site\"/>\n",
       "<meta content=\"686449807\" property=\"al:ios:app_store_id\"/>\n",
       "<meta content=\"Telegram Messenger\" property=\"al:ios:app_name\"/>\n",
       "<meta content=\"tg://resolve?domain=rationalnumbers&amp;post=251\" property=\"al:ios:url\"/>\n",
       "<meta content=\"tg://resolve?domain=rationalnumbers&amp;post=251\" property=\"al:android:url\"/>\n",
       "<meta content=\"Telegram\" property=\"al:android:app_name\"/>\n",
       "<meta content=\"org.telegram.messenger\" property=\"al:android:package\"/>\n",
       "<meta content=\"summary\" name=\"twitter:card\"/>\n",
       "<meta content=\"@Telegram\" name=\"twitter:site\"/>\n",
       "<meta content=\"Визуализация расходов на науку в разных странах. Источник: Фонд «ЦСР» по данным Battelle, R&amp;D Magazine, International Monetary Fund, World Bank, OECD\n",
       "\" name=\"twitter:description\"/>\n",
       "<meta content=\"Telegram Messenger\" name=\"twitter:app:name:iphone\"/>\n",
       "<meta content=\"686449807\" name=\"twitter:app:id:iphone\"/>\n",
       "<meta content=\"tg://resolve?domain=rationalnumbers&amp;post=251\" name=\"twitter:app:url:iphone\"/>\n",
       "<meta content=\"Telegram Messenger\" name=\"twitter:app:name:ipad\"/>\n",
       "<meta content=\"686449807\" name=\"twitter:app:id:ipad\"/>\n",
       "<meta content=\"tg://resolve?domain=rationalnumbers&amp;post=251\" name=\"twitter:app:url:ipad\"/>\n",
       "<meta content=\"Telegram\" name=\"twitter:app:name:googleplay\"/>\n",
       "<meta content=\"org.telegram.messenger\" name=\"twitter:app:id:googleplay\"/>\n",
       "<meta content=\"https://t.me/rationalnumbers/251\" name=\"twitter:app:url:googleplay\"/>\n",
       "<meta content=\"app-id=686449807, app-argument: tg://resolve?domain=rationalnumbers&amp;post=251\" name=\"apple-itunes-app\"/>\n",
       "<link href=\"//telegram.org/favicon.ico?3\" rel=\"shortcut icon\" type=\"image/x-icon\"/>\n",
       "<link href=\"https://fonts.googleapis.com/css?family=Roboto:400,700\" rel=\"stylesheet\" type=\"text/css\"/>\n",
       "<!--link href=\"/css/myriad.css\" rel=\"stylesheet\"-->\n",
       "<link href=\"//telegram.org/css/bootstrap.min.css?3\" rel=\"stylesheet\"/>\n",
       "<link href=\"//telegram.org/css/telegram.css?193\" media=\"screen\" rel=\"stylesheet\"/>\n",
       "</head>\n",
       "<body>\n",
       "<div class=\"tgme_page_wrap\">\n",
       "<div class=\"tgme_head_wrap\">\n",
       "<div class=\"tgme_head\">\n",
       "<a class=\"tgme_head_brand\" href=\"//telegram.org/\">\n",
       "<i class=\"tgme_logo\"></i>\n",
       "</a>\n",
       "</div>\n",
       "</div>\n",
       "<a class=\"tgme_head_dl_button\" href=\"//telegram.org/dl?tme=c612ca020dbee8fc8d_17168036986085014712\">\n",
       "        Don't have <strong>Telegram</strong> yet? Try it now!<i class=\"tgme_icon_arrow\"></i>\n",
       "</a>\n",
       "<div class=\"tgme_page tgme_page_post\">\n",
       "<div class=\"tgme_page_widget\" id=\"widget\">\n",
       "<script async=\"\" data-telegram-post=\"rationalnumbers/251\" data-width=\"100%\" src=\"https://telegram.org/js/telegram-widget.js?8\"></script>\n",
       "</div>\n",
       "<div class=\"tgme_page_widget_actions\" id=\"widget_actions\">\n",
       "<div class=\"tgme_page_widget_actions_cont\">\n",
       "<div class=\"tgme_page_widget_action_right\">\n",
       "<div class=\"tgme_page_context_btn\"><a class=\"tgme_action_button_new\" href=\"/s/rationalnumbers/251\"><span class=\"tgme_action_button_label\">Context</span></a></div>\n",
       "</div>\n",
       "<div class=\"tgme_page_widget_action_left\">\n",
       "<div class=\"tgme_page_embed_btn\">\n",
       "<a class=\"tgme_action_button_new\" onclick=\"return toggleEmbed();\"><span class=\"tgme_action_button_label\">Embed</span></a>\n",
       "</div>\n",
       "</div>\n",
       "<div class=\"tgme_page_widget_action\">\n",
       "<a class=\"tgme_action_button_new\" href=\"tg://resolve?domain=rationalnumbers&amp;post=251\">View In Channel</a>\n",
       "</div>\n",
       "<div class=\"tgme_page_embed_action\">\n",
       "<textarea class=\"tgme_page_embed_code\" id=\"embed_code_field\" readonly=\"\" rows=\"3\">&lt;script async src=\"https://telegram.org/js/telegram-widget.js?8\" data-telegram-post=\"rationalnumbers/251\" data-width=\"100%\"&gt;&lt;/script&gt;</textarea>\n",
       "<div class=\"tgme_page_copy_action\">\n",
       "<a class=\"tgme_action_button_new\" onclick=\"return copyEmbedCode();\">Copy</a>\n",
       "</div>\n",
       "</div>\n",
       "</div>\n",
       "</div>\n",
       "</div>\n",
       "</div>\n",
       "<div id=\"tgme_frame_cont\"></div>\n",
       "<script type=\"text/javascript\">\n",
       "\n",
       "var protoUrl = \"tg:\\/\\/resolve?domain=rationalnumbers&post=251\";\n",
       "if (false) {\n",
       "  var iframeContEl = document.getElementById('tgme_frame_cont') || document.body;\n",
       "  var iframeEl = document.createElement('iframe');\n",
       "  iframeContEl.appendChild(iframeEl);\n",
       "  var pageHidden = false;\n",
       "  window.addEventListener('pagehide', function () {\n",
       "    pageHidden = true;\n",
       "  }, false);\n",
       "  window.addEventListener('blur', function () {\n",
       "    pageHidden = true;\n",
       "  }, false);\n",
       "  if (iframeEl !== null) {\n",
       "    iframeEl.src = protoUrl;\n",
       "  }\n",
       "  !false && setTimeout(function() {\n",
       "    if (!pageHidden) {\n",
       "      window.location = protoUrl;\n",
       "    }\n",
       "  }, 2000);\n",
       "}\n",
       "else if (protoUrl) {\n",
       "  setTimeout(function() {\n",
       "    window.location = protoUrl;\n",
       "  }, 100);\n",
       "}\n",
       "\n",
       "\n",
       "    </script>\n",
       "<script>(function(i,s,o,g,r,a,m){i['GoogleAnalyticsObject']=r;i[r]=i[r]||function(){\n",
       "(i[r].q=i[r].q||[]).push(arguments)},i[r].l=1*new Date();a=s.createElement(o),\n",
       "m=s.getElementsByTagName(o)[0];a.async=1;a.src=g;m.parentNode.insertBefore(a,m)\n",
       "})(window,document,'script','//www.google-analytics.com/analytics.js','ga');\n",
       "\n",
       "ga('create', 'UA-45099287-3', 'auto', {'sampleRate': 5});\n",
       "ga('set', 'anonymizeIp', true);\n",
       "ga('send', 'pageview');function toggleEmbed() {\n",
       "  var widget_actions = document.getElementById('widget_actions');\n",
       "  if (widget_actions.classList.contains('embed_opened')) {\n",
       "    widget_actions.classList.remove('embed_opened');\n",
       "  } else {\n",
       "    widget_actions.classList.add('embed_opened');\n",
       "    if (!document.body.classList.contains('fixed_actions')) {\n",
       "      window.scrollTo(0, document.body.offsetHeight);\n",
       "    }\n",
       "    selectEmbedCode();\n",
       "  }\n",
       "  checkActionsPosition();\n",
       "  return false;\n",
       "}\n",
       "function selectEmbedCode() {\n",
       "  var field = document.getElementById('embed_code_field');\n",
       "  field.focus();\n",
       "  field.setSelectionRange(0, field.value.length);\n",
       "}\n",
       "function copyEmbedCode() {\n",
       "  selectEmbedCode();\n",
       "  document.execCommand('copy');\n",
       "  return false;\n",
       "}\n",
       "function checkActionsPosition() {\n",
       "  var widget = document.getElementById('widget');\n",
       "  var widget_actions = document.getElementById('widget_actions');\n",
       "  var widget_rect = widget.getBoundingClientRect();\n",
       "  var actions_bottom = widget_rect.bottom + widget_actions.offsetHeight - 1;\n",
       "  var client_bottom = window.innerHeight || html.clientHeight;\n",
       "  if (actions_bottom > client_bottom) {\n",
       "    widget.style.marginBottom = widget_actions.offsetHeight + 'px';\n",
       "    document.body.classList.add('fixed_actions');\n",
       "  } else {\n",
       "    widget.style.marginBottom = '';\n",
       "    document.body.classList.remove('fixed_actions');\n",
       "  }\n",
       "}\n",
       "function postMessageHandler(event) {\n",
       "  try { var data = JSON.parse(event.data); }\n",
       "  catch(e) { var data = {}; }\n",
       "  if (data.event == 'resize') {\n",
       "    setTimeout(checkActionsPosition, 50);\n",
       "  }\n",
       "}\n",
       "window.addEventListener('resize', checkActionsPosition);\n",
       "window.addEventListener('scroll', checkActionsPosition);\n",
       "window.addEventListener('message', postMessageHandler);\n",
       "</script>\n",
       "</body>\n",
       "</html>\n",
       "<!-- page generated in 29.36ms -->"
      ]
     },
     "execution_count": 10,
     "metadata": {},
     "output_type": "execute_result"
    }
   ],
   "source": [
    "soup"
   ]
  },
  {
   "cell_type": "code",
   "execution_count": 14,
   "metadata": {},
   "outputs": [
    {
     "ename": "KeyError",
     "evalue": "'style'",
     "output_type": "error",
     "traceback": [
      "\u001b[0;31m---------------------------------------------------------------------------\u001b[0m",
      "\u001b[0;31mKeyError\u001b[0m                                  Traceback (most recent call last)",
      "\u001b[0;32m<ipython-input-14-ed676b25e563>\u001b[0m in \u001b[0;36m<module>\u001b[0;34m\u001b[0m\n\u001b[0;32m----> 1\u001b[0;31m \u001b[0mdiv_style\u001b[0m \u001b[0;34m=\u001b[0m \u001b[0msoup\u001b[0m\u001b[0;34m.\u001b[0m\u001b[0mfind\u001b[0m\u001b[0;34m(\u001b[0m\u001b[0;34m'div'\u001b[0m\u001b[0;34m)\u001b[0m\u001b[0;34m[\u001b[0m\u001b[0;34m'style'\u001b[0m\u001b[0;34m]\u001b[0m\u001b[0;34m\u001b[0m\u001b[0;34m\u001b[0m\u001b[0m\n\u001b[0m\u001b[1;32m      2\u001b[0m \u001b[0mstyle\u001b[0m \u001b[0;34m=\u001b[0m \u001b[0mcssutils\u001b[0m\u001b[0;34m.\u001b[0m\u001b[0mparseStyle\u001b[0m\u001b[0;34m(\u001b[0m\u001b[0mdiv_style\u001b[0m\u001b[0;34m)\u001b[0m\u001b[0;34m\u001b[0m\u001b[0;34m\u001b[0m\u001b[0m\n\u001b[1;32m      3\u001b[0m \u001b[0murl\u001b[0m \u001b[0;34m=\u001b[0m \u001b[0mstyle\u001b[0m\u001b[0;34m[\u001b[0m\u001b[0;34m'background-image'\u001b[0m\u001b[0;34m]\u001b[0m\u001b[0;34m\u001b[0m\u001b[0;34m\u001b[0m\u001b[0m\n",
      "\u001b[0;32m~/anaconda3/lib/python3.7/site-packages/bs4/element.py\u001b[0m in \u001b[0;36m__getitem__\u001b[0;34m(self, key)\u001b[0m\n\u001b[1;32m   1014\u001b[0m         \"\"\"tag[key] returns the value of the 'key' attribute for the tag,\n\u001b[1;32m   1015\u001b[0m         and throws an exception if it's not there.\"\"\"\n\u001b[0;32m-> 1016\u001b[0;31m         \u001b[0;32mreturn\u001b[0m \u001b[0mself\u001b[0m\u001b[0;34m.\u001b[0m\u001b[0mattrs\u001b[0m\u001b[0;34m[\u001b[0m\u001b[0mkey\u001b[0m\u001b[0;34m]\u001b[0m\u001b[0;34m\u001b[0m\u001b[0;34m\u001b[0m\u001b[0m\n\u001b[0m\u001b[1;32m   1017\u001b[0m \u001b[0;34m\u001b[0m\u001b[0m\n\u001b[1;32m   1018\u001b[0m     \u001b[0;32mdef\u001b[0m \u001b[0m__iter__\u001b[0m\u001b[0;34m(\u001b[0m\u001b[0mself\u001b[0m\u001b[0;34m)\u001b[0m\u001b[0;34m:\u001b[0m\u001b[0;34m\u001b[0m\u001b[0;34m\u001b[0m\u001b[0m\n",
      "\u001b[0;31mKeyError\u001b[0m: 'style'"
     ]
    }
   ],
   "source": [
    "div_style = soup.find('div')['style']\n",
    "style = cssutils.parseStyle(div_style)\n",
    "url = style['background-image']"
   ]
  },
  {
   "cell_type": "code",
   "execution_count": null,
   "metadata": {},
   "outputs": [],
   "source": [
    "<a class=\"tgme_widget_message_photo_wrap\" href=\"https://t.me/rationalnumbers/251\" style=\"width:800px;background-image:url('https://cdn4.telesco.pe/file/AGnruuz9RSOwH-CGdl30FJOhOJxrZCMwcxueppj0PyhjDvVqPfpCC4zDOtZYNsxEkCIhaVY6T-rk140M756_KutOr7bC2uEXsu32Y-o0_gzXeEDoZHhMhdzYEWe7AgGlLr2TDgeSCtKL1E8D7FQcqAwLL2kF7zIjBwD0lbbpAw1NnlFoxp3ZsXzhLglC_2tR6rHhtCqBGXLaq9Lozc0aGPnKmTuSfqX-LuHSxolH4U1ky5x6XFv3T6q2Teyo8i23gpQcUFd9DTkt-EbMYPoC3UDaBnttIs4WJOeybP98ktFi0XynJPArKMqyoZ31yw9_tMHmnS5HuoKRmdMmxpzF-Q.jpg')\">\n",
    "  <div class=\"tgme_widget_message_photo\" style=\"padding-top:78%\"></div>\n",
    "</a>"
   ]
  },
  {
   "cell_type": "code",
   "execution_count": 16,
   "metadata": {
    "scrolled": false
   },
   "outputs": [
    {
     "data": {
      "text/plain": [
       "<!DOCTYPE html>\n",
       "<html>\n",
       "<head>\n",
       "<meta charset=\"utf-8\"/>\n",
       "<title>Telegram: Contact @rationalnumbers</title>\n",
       "<meta content=\"width=device-width, initial-scale=1.0\" name=\"viewport\"/>\n",
       "<meta content=\"Рациональные числа\" property=\"og:title\"/>\n",
       "<meta content=\"https://cdn4.telesco.pe/file/K4E2de9TTui-rk2dhH-Pk6rdNMwKHwd3Zp4DgfxruQkZs2hIjJ7Et3z546VaYosnTbcrsAntqkfgugw2VmzGy_ftKsyaMhGbde-nKj_O9rq71V5ieZnoAXnPlc04QD-4C9wllLsmqVy8M1RNmtEwPw0eI7xoX24wfMC7BMyAIjwOEAhCq6uzlng4Q5GIUavF89iEXj9TQp-Ju_Sey-kzvgH7zAh7glPGskAq-eu29mE7gDJUPjrVKpLC8gWkfqzR3PPmT039WNyqS0anXa2a2sJ3jUayzRBczNRLjbaPqfjhnHron0gv3YAR6BYd-OyTJINCIbpT47VuuR8jd4n81Q.jpg\" property=\"og:image\"/>\n",
       "<meta content=\"Telegram\" property=\"og:site_name\"/>\n",
       "<meta content=\"Визуализация расходов на науку в разных странах. Источник: Фонд «ЦСР» по данным Battelle, R&amp;D Magazine, International Monetary Fund, World Bank, OECD\" property=\"og:description\"/>\n",
       "<meta content=\"Рациональные числа\" property=\"twitter:title\"/>\n",
       "<meta content=\"https://cdn4.telesco.pe/file/K4E2de9TTui-rk2dhH-Pk6rdNMwKHwd3Zp4DgfxruQkZs2hIjJ7Et3z546VaYosnTbcrsAntqkfgugw2VmzGy_ftKsyaMhGbde-nKj_O9rq71V5ieZnoAXnPlc04QD-4C9wllLsmqVy8M1RNmtEwPw0eI7xoX24wfMC7BMyAIjwOEAhCq6uzlng4Q5GIUavF89iEXj9TQp-Ju_Sey-kzvgH7zAh7glPGskAq-eu29mE7gDJUPjrVKpLC8gWkfqzR3PPmT039WNyqS0anXa2a2sJ3jUayzRBczNRLjbaPqfjhnHron0gv3YAR6BYd-OyTJINCIbpT47VuuR8jd4n81Q.jpg\" property=\"twitter:image\"/>\n",
       "<meta content=\"@Telegram\" property=\"twitter:site\"/>\n",
       "<meta content=\"686449807\" property=\"al:ios:app_store_id\"/>\n",
       "<meta content=\"Telegram Messenger\" property=\"al:ios:app_name\"/>\n",
       "<meta content=\"tg://resolve?domain=rationalnumbers&amp;post=251\" property=\"al:ios:url\"/>\n",
       "<meta content=\"tg://resolve?domain=rationalnumbers&amp;post=251\" property=\"al:android:url\"/>\n",
       "<meta content=\"Telegram\" property=\"al:android:app_name\"/>\n",
       "<meta content=\"org.telegram.messenger\" property=\"al:android:package\"/>\n",
       "<meta content=\"summary\" name=\"twitter:card\"/>\n",
       "<meta content=\"@Telegram\" name=\"twitter:site\"/>\n",
       "<meta content=\"Визуализация расходов на науку в разных странах. Источник: Фонд «ЦСР» по данным Battelle, R&amp;D Magazine, International Monetary Fund, World Bank, OECD\n",
       "\" name=\"twitter:description\"/>\n",
       "<meta content=\"Telegram Messenger\" name=\"twitter:app:name:iphone\"/>\n",
       "<meta content=\"686449807\" name=\"twitter:app:id:iphone\"/>\n",
       "<meta content=\"tg://resolve?domain=rationalnumbers&amp;post=251\" name=\"twitter:app:url:iphone\"/>\n",
       "<meta content=\"Telegram Messenger\" name=\"twitter:app:name:ipad\"/>\n",
       "<meta content=\"686449807\" name=\"twitter:app:id:ipad\"/>\n",
       "<meta content=\"tg://resolve?domain=rationalnumbers&amp;post=251\" name=\"twitter:app:url:ipad\"/>\n",
       "<meta content=\"Telegram\" name=\"twitter:app:name:googleplay\"/>\n",
       "<meta content=\"org.telegram.messenger\" name=\"twitter:app:id:googleplay\"/>\n",
       "<meta content=\"https://t.me/rationalnumbers/251\" name=\"twitter:app:url:googleplay\"/>\n",
       "<meta content=\"app-id=686449807, app-argument: tg://resolve?domain=rationalnumbers&amp;post=251\" name=\"apple-itunes-app\"/>\n",
       "<link href=\"//telegram.org/favicon.ico?3\" rel=\"shortcut icon\" type=\"image/x-icon\"/>\n",
       "<link href=\"https://fonts.googleapis.com/css?family=Roboto:400,700\" rel=\"stylesheet\" type=\"text/css\"/>\n",
       "<!--link href=\"/css/myriad.css\" rel=\"stylesheet\"-->\n",
       "<link href=\"//telegram.org/css/bootstrap.min.css?3\" rel=\"stylesheet\"/>\n",
       "<link href=\"//telegram.org/css/telegram.css?193\" media=\"screen\" rel=\"stylesheet\"/>\n",
       "</head>\n",
       "<body>\n",
       "<div class=\"tgme_page_wrap\">\n",
       "<div class=\"tgme_head_wrap\">\n",
       "<div class=\"tgme_head\">\n",
       "<a class=\"tgme_head_brand\" href=\"//telegram.org/\">\n",
       "<i class=\"tgme_logo\"></i>\n",
       "</a>\n",
       "</div>\n",
       "</div>\n",
       "<a class=\"tgme_head_dl_button\" href=\"//telegram.org/dl?tme=c612ca020dbee8fc8d_17168036986085014712\">\n",
       "        Don't have <strong>Telegram</strong> yet? Try it now!<i class=\"tgme_icon_arrow\"></i>\n",
       "</a>\n",
       "<div class=\"tgme_page tgme_page_post\">\n",
       "<div class=\"tgme_page_widget\" id=\"widget\">\n",
       "<script async=\"\" data-telegram-post=\"rationalnumbers/251\" data-width=\"100%\" src=\"https://telegram.org/js/telegram-widget.js?8\"></script>\n",
       "</div>\n",
       "<div class=\"tgme_page_widget_actions\" id=\"widget_actions\">\n",
       "<div class=\"tgme_page_widget_actions_cont\">\n",
       "<div class=\"tgme_page_widget_action_right\">\n",
       "<div class=\"tgme_page_context_btn\"><a class=\"tgme_action_button_new\" href=\"/s/rationalnumbers/251\"><span class=\"tgme_action_button_label\">Context</span></a></div>\n",
       "</div>\n",
       "<div class=\"tgme_page_widget_action_left\">\n",
       "<div class=\"tgme_page_embed_btn\">\n",
       "<a class=\"tgme_action_button_new\" onclick=\"return toggleEmbed();\"><span class=\"tgme_action_button_label\">Embed</span></a>\n",
       "</div>\n",
       "</div>\n",
       "<div class=\"tgme_page_widget_action\">\n",
       "<a class=\"tgme_action_button_new\" href=\"tg://resolve?domain=rationalnumbers&amp;post=251\">View In Channel</a>\n",
       "</div>\n",
       "<div class=\"tgme_page_embed_action\">\n",
       "<textarea class=\"tgme_page_embed_code\" id=\"embed_code_field\" readonly=\"\" rows=\"3\">&lt;script async src=\"https://telegram.org/js/telegram-widget.js?8\" data-telegram-post=\"rationalnumbers/251\" data-width=\"100%\"&gt;&lt;/script&gt;</textarea>\n",
       "<div class=\"tgme_page_copy_action\">\n",
       "<a class=\"tgme_action_button_new\" onclick=\"return copyEmbedCode();\">Copy</a>\n",
       "</div>\n",
       "</div>\n",
       "</div>\n",
       "</div>\n",
       "</div>\n",
       "</div>\n",
       "<div id=\"tgme_frame_cont\"></div>\n",
       "<script type=\"text/javascript\">\n",
       "\n",
       "var protoUrl = \"tg:\\/\\/resolve?domain=rationalnumbers&post=251\";\n",
       "if (false) {\n",
       "  var iframeContEl = document.getElementById('tgme_frame_cont') || document.body;\n",
       "  var iframeEl = document.createElement('iframe');\n",
       "  iframeContEl.appendChild(iframeEl);\n",
       "  var pageHidden = false;\n",
       "  window.addEventListener('pagehide', function () {\n",
       "    pageHidden = true;\n",
       "  }, false);\n",
       "  window.addEventListener('blur', function () {\n",
       "    pageHidden = true;\n",
       "  }, false);\n",
       "  if (iframeEl !== null) {\n",
       "    iframeEl.src = protoUrl;\n",
       "  }\n",
       "  !false && setTimeout(function() {\n",
       "    if (!pageHidden) {\n",
       "      window.location = protoUrl;\n",
       "    }\n",
       "  }, 2000);\n",
       "}\n",
       "else if (protoUrl) {\n",
       "  setTimeout(function() {\n",
       "    window.location = protoUrl;\n",
       "  }, 100);\n",
       "}\n",
       "\n",
       "\n",
       "    </script>\n",
       "<script>(function(i,s,o,g,r,a,m){i['GoogleAnalyticsObject']=r;i[r]=i[r]||function(){\n",
       "(i[r].q=i[r].q||[]).push(arguments)},i[r].l=1*new Date();a=s.createElement(o),\n",
       "m=s.getElementsByTagName(o)[0];a.async=1;a.src=g;m.parentNode.insertBefore(a,m)\n",
       "})(window,document,'script','//www.google-analytics.com/analytics.js','ga');\n",
       "\n",
       "ga('create', 'UA-45099287-3', 'auto', {'sampleRate': 5});\n",
       "ga('set', 'anonymizeIp', true);\n",
       "ga('send', 'pageview');function toggleEmbed() {\n",
       "  var widget_actions = document.getElementById('widget_actions');\n",
       "  if (widget_actions.classList.contains('embed_opened')) {\n",
       "    widget_actions.classList.remove('embed_opened');\n",
       "  } else {\n",
       "    widget_actions.classList.add('embed_opened');\n",
       "    if (!document.body.classList.contains('fixed_actions')) {\n",
       "      window.scrollTo(0, document.body.offsetHeight);\n",
       "    }\n",
       "    selectEmbedCode();\n",
       "  }\n",
       "  checkActionsPosition();\n",
       "  return false;\n",
       "}\n",
       "function selectEmbedCode() {\n",
       "  var field = document.getElementById('embed_code_field');\n",
       "  field.focus();\n",
       "  field.setSelectionRange(0, field.value.length);\n",
       "}\n",
       "function copyEmbedCode() {\n",
       "  selectEmbedCode();\n",
       "  document.execCommand('copy');\n",
       "  return false;\n",
       "}\n",
       "function checkActionsPosition() {\n",
       "  var widget = document.getElementById('widget');\n",
       "  var widget_actions = document.getElementById('widget_actions');\n",
       "  var widget_rect = widget.getBoundingClientRect();\n",
       "  var actions_bottom = widget_rect.bottom + widget_actions.offsetHeight - 1;\n",
       "  var client_bottom = window.innerHeight || html.clientHeight;\n",
       "  if (actions_bottom > client_bottom) {\n",
       "    widget.style.marginBottom = widget_actions.offsetHeight + 'px';\n",
       "    document.body.classList.add('fixed_actions');\n",
       "  } else {\n",
       "    widget.style.marginBottom = '';\n",
       "    document.body.classList.remove('fixed_actions');\n",
       "  }\n",
       "}\n",
       "function postMessageHandler(event) {\n",
       "  try { var data = JSON.parse(event.data); }\n",
       "  catch(e) { var data = {}; }\n",
       "  if (data.event == 'resize') {\n",
       "    setTimeout(checkActionsPosition, 50);\n",
       "  }\n",
       "}\n",
       "window.addEventListener('resize', checkActionsPosition);\n",
       "window.addEventListener('scroll', checkActionsPosition);\n",
       "window.addEventListener('message', postMessageHandler);\n",
       "</script>\n",
       "</body>\n",
       "</html>\n",
       "<!-- page generated in 29.36ms -->"
      ]
     },
     "execution_count": 16,
     "metadata": {},
     "output_type": "execute_result"
    }
   ],
   "source": [
    "soup"
   ]
  },
  {
   "cell_type": "code",
   "execution_count": 13,
   "metadata": {},
   "outputs": [
    {
     "name": "stdout",
     "output_type": "stream",
     "text": [
      "<a class=\"tgme_head_brand\" href=\"//telegram.org/\">\n",
      "<i class=\"tgme_logo\"></i>\n",
      "</a>\n",
      "<a class=\"tgme_head_dl_button\" href=\"//telegram.org/dl?tme=c612ca020dbee8fc8d_17168036986085014712\">\n",
      "        Don't have <strong>Telegram</strong> yet? Try it now!<i class=\"tgme_icon_arrow\"></i>\n",
      "</a>\n",
      "<a class=\"tgme_action_button_new\" href=\"/s/rationalnumbers/251\"><span class=\"tgme_action_button_label\">Context</span></a>\n",
      "<a class=\"tgme_action_button_new\" href=\"tg://resolve?domain=rationalnumbers&amp;post=251\">View In Channel</a>\n"
     ]
    }
   ],
   "source": [
    "for a in soup.find_all('a', href=True):\n",
    "    print (a)"
   ]
  },
  {
   "cell_type": "code",
   "execution_count": null,
   "metadata": {},
   "outputs": [],
   "source": []
  },
  {
   "cell_type": "code",
   "execution_count": null,
   "metadata": {},
   "outputs": [],
   "source": []
  },
  {
   "cell_type": "code",
   "execution_count": null,
   "metadata": {},
   "outputs": [],
   "source": []
  },
  {
   "cell_type": "code",
   "execution_count": 11,
   "metadata": {},
   "outputs": [
    {
     "ename": "OperationalError",
     "evalue": "database is locked",
     "output_type": "error",
     "traceback": [
      "\u001b[0;31m---------------------------------------------------------------------------\u001b[0m",
      "\u001b[0;31mOperationalError\u001b[0m                          Traceback (most recent call last)",
      "\u001b[0;32m<ipython-input-11-4727d10cc67c>\u001b[0m in \u001b[0;36m<module>\u001b[0;34m\u001b[0m\n\u001b[1;32m     10\u001b[0m \u001b[0;34m\u001b[0m\u001b[0m\n\u001b[1;32m     11\u001b[0m \u001b[0;31m# (2) Create the client and connect\u001b[0m\u001b[0;34m\u001b[0m\u001b[0;34m\u001b[0m\u001b[0;34m\u001b[0m\u001b[0m\n\u001b[0;32m---> 12\u001b[0;31m \u001b[0mclient\u001b[0m \u001b[0;34m=\u001b[0m \u001b[0mTelegramClient\u001b[0m\u001b[0;34m(\u001b[0m\u001b[0musername\u001b[0m\u001b[0;34m,\u001b[0m \u001b[0mapi_id\u001b[0m\u001b[0;34m,\u001b[0m \u001b[0mapi_hash\u001b[0m\u001b[0;34m)\u001b[0m\u001b[0;34m\u001b[0m\u001b[0;34m\u001b[0m\u001b[0m\n\u001b[0m\u001b[1;32m     13\u001b[0m \u001b[0mclient\u001b[0m\u001b[0;34m.\u001b[0m\u001b[0mconnect\u001b[0m\u001b[0;34m(\u001b[0m\u001b[0;34m)\u001b[0m\u001b[0;34m\u001b[0m\u001b[0;34m\u001b[0m\u001b[0m\n\u001b[1;32m     14\u001b[0m \u001b[0;34m\u001b[0m\u001b[0m\n",
      "\u001b[0;32m~/anaconda3/lib/python3.7/site-packages/telethon/client/telegrambaseclient.py\u001b[0m in \u001b[0;36m__init__\u001b[0;34m(self, session, api_id, api_hash, connection, use_ipv6, proxy, timeout, request_retries, connection_retries, retry_delay, auto_reconnect, sequential_updates, flood_sleep_threshold, device_model, system_version, app_version, lang_code, system_lang_code, loop, base_logger)\u001b[0m\n\u001b[1;32m    270\u001b[0m                 \u001b[0mDEFAULT_DC_ID\u001b[0m\u001b[0;34m,\u001b[0m\u001b[0;34m\u001b[0m\u001b[0;34m\u001b[0m\u001b[0m\n\u001b[1;32m    271\u001b[0m                 \u001b[0mDEFAULT_IPV6_IP\u001b[0m \u001b[0;32mif\u001b[0m \u001b[0mself\u001b[0m\u001b[0;34m.\u001b[0m\u001b[0m_use_ipv6\u001b[0m \u001b[0;32melse\u001b[0m \u001b[0mDEFAULT_IPV4_IP\u001b[0m\u001b[0;34m,\u001b[0m\u001b[0;34m\u001b[0m\u001b[0;34m\u001b[0m\u001b[0m\n\u001b[0;32m--> 272\u001b[0;31m                 \u001b[0mDEFAULT_PORT\u001b[0m\u001b[0;34m\u001b[0m\u001b[0;34m\u001b[0m\u001b[0m\n\u001b[0m\u001b[1;32m    273\u001b[0m             )\n\u001b[1;32m    274\u001b[0m \u001b[0;34m\u001b[0m\u001b[0m\n",
      "\u001b[0;32m~/anaconda3/lib/python3.7/site-packages/telethon/sessions/sqlite.py\u001b[0m in \u001b[0;36mset_dc\u001b[0;34m(self, dc_id, server_address, port)\u001b[0m\n\u001b[1;32m    161\u001b[0m     \u001b[0;32mdef\u001b[0m \u001b[0mset_dc\u001b[0m\u001b[0;34m(\u001b[0m\u001b[0mself\u001b[0m\u001b[0;34m,\u001b[0m \u001b[0mdc_id\u001b[0m\u001b[0;34m,\u001b[0m \u001b[0mserver_address\u001b[0m\u001b[0;34m,\u001b[0m \u001b[0mport\u001b[0m\u001b[0;34m)\u001b[0m\u001b[0;34m:\u001b[0m\u001b[0;34m\u001b[0m\u001b[0;34m\u001b[0m\u001b[0m\n\u001b[1;32m    162\u001b[0m         \u001b[0msuper\u001b[0m\u001b[0;34m(\u001b[0m\u001b[0;34m)\u001b[0m\u001b[0;34m.\u001b[0m\u001b[0mset_dc\u001b[0m\u001b[0;34m(\u001b[0m\u001b[0mdc_id\u001b[0m\u001b[0;34m,\u001b[0m \u001b[0mserver_address\u001b[0m\u001b[0;34m,\u001b[0m \u001b[0mport\u001b[0m\u001b[0;34m)\u001b[0m\u001b[0;34m\u001b[0m\u001b[0;34m\u001b[0m\u001b[0m\n\u001b[0;32m--> 163\u001b[0;31m         \u001b[0mself\u001b[0m\u001b[0;34m.\u001b[0m\u001b[0m_update_session_table\u001b[0m\u001b[0;34m(\u001b[0m\u001b[0;34m)\u001b[0m\u001b[0;34m\u001b[0m\u001b[0;34m\u001b[0m\u001b[0m\n\u001b[0m\u001b[1;32m    164\u001b[0m \u001b[0;34m\u001b[0m\u001b[0m\n\u001b[1;32m    165\u001b[0m         \u001b[0;31m# Fetch the auth_key corresponding to this data center\u001b[0m\u001b[0;34m\u001b[0m\u001b[0;34m\u001b[0m\u001b[0;34m\u001b[0m\u001b[0m\n",
      "\u001b[0;32m~/anaconda3/lib/python3.7/site-packages/telethon/sessions/sqlite.py\u001b[0m in \u001b[0;36m_update_session_table\u001b[0;34m(self)\u001b[0m\n\u001b[1;32m    187\u001b[0m         \u001b[0;31m# some more work before being able to save auth_key's for\u001b[0m\u001b[0;34m\u001b[0m\u001b[0;34m\u001b[0m\u001b[0;34m\u001b[0m\u001b[0m\n\u001b[1;32m    188\u001b[0m         \u001b[0;31m# multiple DCs. Probably done differently.\u001b[0m\u001b[0;34m\u001b[0m\u001b[0;34m\u001b[0m\u001b[0;34m\u001b[0m\u001b[0m\n\u001b[0;32m--> 189\u001b[0;31m         \u001b[0mc\u001b[0m\u001b[0;34m.\u001b[0m\u001b[0mexecute\u001b[0m\u001b[0;34m(\u001b[0m\u001b[0;34m'delete from sessions'\u001b[0m\u001b[0;34m)\u001b[0m\u001b[0;34m\u001b[0m\u001b[0;34m\u001b[0m\u001b[0m\n\u001b[0m\u001b[1;32m    190\u001b[0m         c.execute('insert or replace into sessions values (?,?,?,?,?)', (\n\u001b[1;32m    191\u001b[0m             \u001b[0mself\u001b[0m\u001b[0;34m.\u001b[0m\u001b[0m_dc_id\u001b[0m\u001b[0;34m,\u001b[0m\u001b[0;34m\u001b[0m\u001b[0;34m\u001b[0m\u001b[0m\n",
      "\u001b[0;31mOperationalError\u001b[0m: database is locked"
     ]
    }
   ],
   "source": [
    "from telethon import TelegramClient\n",
    "# from telethon.errors.rpc_errors_401 import SessionPasswordNeededError\n",
    "\n",
    "# (1) Use your own values here\n",
    "api_id = \"1109457\"\n",
    "api_hash = 'b16b52d6fa7e3d272949f39c514e74ee'\n",
    "\n",
    "phone = '+79264552109'\n",
    "username = 'nem0oo7'\n",
    "\n",
    "# (2) Create the client and connect\n",
    "client = TelegramClient(username, api_id, api_hash)\n",
    "client.connect()\n",
    "\n",
    "# Ensure you're authorized\n",
    "if not client.is_user_authorized():\n",
    "    client.send_code_request(phone)\n",
    "    try:\n",
    "        client.sign_in(phone, input('Enter the code: '))\n",
    "    except SessionPasswordNeededError:\n",
    "        client.sign_in(password=input('Password: '))\n",
    "\n",
    "me = client.get_me()\n",
    "print(me)"
   ]
  },
  {
   "cell_type": "code",
   "execution_count": null,
   "metadata": {},
   "outputs": [],
   "source": []
  },
  {
   "cell_type": "code",
   "execution_count": null,
   "metadata": {},
   "outputs": [],
   "source": [
    "Message(id=16, \n",
    "to_id=PeerChannel(channel_id=1014119500), \n",
    "date=datetime.datetime(2016, 1, 18, 18, 57, \n",
    "tzinfo=datetime.timezone.utc), \n",
    "message='', out=False, mentioned=False, media_unread=False, silent=False,\n",
    "post=True, from_scheduled=False, legacy=False, edit_hide=False, from_id=None, \n",
    "fwd_from=None, via_bot_id=None, reply_to_msg_id=None, \n",
    "        \n",
    "media=MessageMediaPhoto(photo=Photo(id=3711870107232828, \n",
    "                                    access_hash=-8227496661188735682, \n",
    "                                    file_reference=b'\\x02<r<L\\x00\\x00\\x00\\x10^\\xba\\xbd)1\\x1f\\x1cf\\x1bu\\x0e81\\xab\\xb1\\x01\\xfc\\xba}T',\n",
    "                                    \n",
    "date=datetime.datetime(2016, 1, 18, 18, 57, 3, tzinfo=datetime.timezone.utc), \n",
    "sizes=[PhotoSize(type='s', location=FileLocationToBeDeprecated(volume_id=713235245, local_id=69480), w=37, h=90, size=898), PhotoSize(type='m', location=FileLocationToBeDeprecated(volume_id=713235245, local_id=69479),\n",
    "\n",
    "\n",
    "w=131, h=320, size=15798), PhotoSize(type='x', location=FileLocationToBeDeprecated(volume_id=713235245, local_id=69478), w=327, h=800, size=73204), PhotoSize(type='y', location=FileLocationToBeDeprecated(volume_id=713235245, local_id=69477), w=523, h=1280, size=116059)], dc_id=2, has_stickers=False), ttl_seconds=None), reply_markup=None, entities=[], views=403, edit_date=None, post_author=None, grouped_id=None, restriction_reason=[])"
   ]
  },
  {
   "cell_type": "code",
   "execution_count": null,
   "metadata": {},
   "outputs": [],
   "source": [
    "\"3711870107232828\""
   ]
  },
  {
   "cell_type": "code",
   "execution_count": null,
   "metadata": {},
   "outputs": [],
   "source": [
    "https://t.me/rationalnumbers/251"
   ]
  },
  {
   "cell_type": "code",
   "execution_count": 17,
   "metadata": {},
   "outputs": [
    {
     "data": {
      "text/plain": [
       "b'\\x02<r<L\\x00\\x00\\x00\\x10^\\xba\\xbd)1\\x1f\\x1cf\\x1bu\\x0e81\\xab\\xb1\\x01\\xfc\\xba}T'"
      ]
     },
     "execution_count": 17,
     "metadata": {},
     "output_type": "execute_result"
    }
   ],
   "source": [
    "b'\\x02<r<L\\x00\\x00\\x00\\x10^\\xba\\xbd)1\\x1f\\x1cf\\x1bu\\x0e81\\xab\\xb1\\x01\\xfc\\xba}T'"
   ]
  },
  {
   "cell_type": "code",
   "execution_count": null,
   "metadata": {},
   "outputs": [],
   "source": []
  },
  {
   "cell_type": "code",
   "execution_count": null,
   "metadata": {},
   "outputs": [],
   "source": []
  },
  {
   "cell_type": "code",
   "execution_count": null,
   "metadata": {},
   "outputs": [],
   "source": [
    "Message(id=17, to_id=PeerChannel(channel_id=1014119500), date=datetime.datetime(2016, 1, 18, 21, 27, 24, tzinfo=datetime.timezone.utc), message='Лидер мировой роботизации труда — Япония. На японских автозаводах работают 1520 роботов на каждые 10 000 сотрудников — это в 23 раза больше среднемирового показателя. \\n\\nhttp://apparat.cc/world/automation-of-work', out=False, mentioned=False, media_unread=False, silent=False, post=True, from_scheduled=False, legacy=False, edit_hide=False, from_id=None, fwd_from=None, via_bot_id=None, reply_to_msg_id=None, media=MessageMediaWebPage(webpage=WebPage(id=5901748317088491438, url='https://apparat.cc/world/automation-of-work/', display_url='apparat.cc/world/automation-of-work', hash=615507417, type='article', site_name='Apparat', title='Какие профессии исчезнут через 10 лет', description='Развитие искусственного интеллекта в ближайшие 10 лет грозит ряду профессий вымиранием, пишет CNN Money. По данным отчета Банка Америки, к 2025 году роботы будут выполнять 45% производственных задач в США. Сейчас этот показатель составляет 10%. Иллюстрация: CNN Money В зоне риска — административные должности, производственные профессии и специальности, связанные с обработкой данных. Высокий риск роботизации (80-100%) у следующих специальностей: экскурсоводы, таксисты, пекари, мясники, модели, фармацевты, страховые агенты, продавцы, сборщики налогов и чиновники. Иллюстрация: CNN Money Востребованными останутся профессии, требующие интуиции, сопереживания и социального взаимодействия. Среди них — врачи, психологи, пожарные, полицейские и детективы, артисты, фотографы, социальные работники и священнослужители. Иллюстрация: CNN Money Одна из причин стремительной автоматизации труда — удешевление робототехники. За прошлое десятилетие стоимость роботов упала на 27%, а в ближайшие 10 лет Банк', photo=Photo(id=532584526505553999, access_hash=-946498079877434737, file_reference=b'\\x00^\\xba\\xbd)\\xbd\\x02\\xb8\\x04\\xd1x{J/\\xeaO\\x0b\\xfeT\\xd6.', date=datetime.datetime(2017, 12, 26, 17, 57, 42, tzinfo=datetime.timezone.utc), sizes=[PhotoSize(type='s', location=FileLocationToBeDeprecated(volume_id=438312523, local_id=192488), w=90, h=51, size=1229), PhotoSize(type='m', location=FileLocationToBeDeprecated(volume_id=438312523, local_id=192489), w=320, h=180, size=16964), PhotoSize(type='x', location=FileLocationToBeDeprecated(volume_id=438312523, local_id=192490), w=800, h=449, size=65227), PhotoSize(type='y', location=FileLocationToBeDeprecated(volume_id=438312523, local_id=192491), w=1280, h=719, size=128298), PhotoSize(type='w', location=FileLocationToBeDeprecated(volume_id=438312523, local_id=192492), w=1920, h=1079, size=190667)], dc_id=4, has_stickers=False), embed_url=None, embed_type=None, embed_width=None, embed_height=None, duration=None, author='Андрей\\xa0Бродецкий', document=None, cached_page=Page(url='https://apparat.cc/world/automation-of-work/', blocks=[PageBlockCover(cover=PageBlockPhoto(photo_id=532584526505553999, caption=PageCaption(text=TextEmpty(), credit=TextEmpty()), url=None, webpage_id=None)), PageBlockChannel(channel=Channel(id=1001738793, title='Apparat', photo=ChatPhoto(photo_small=FileLocationToBeDeprecated(volume_id=713230363, local_id=100473), photo_big=FileLocationToBeDeprecated(volume_id=713230363, local_id=100475), dc_id=2), date=datetime.datetime(2015, 9, 23, 15, 44, 16, tzinfo=datetime.timezone.utc), version=0, creator=False, left=False, broadcast=True, verified=False, megagroup=False, restricted=False, signatures=False, min=True, scam=False, has_link=False, has_geo=False, slowmode_enabled=False, access_hash=-1629248407672741637, username='apparatmag', restriction_reason=[], admin_rights=None, banned_rights=None, default_banned_rights=None, participants_count=None)), PageBlockTitle(text=TextPlain(text='Какие профессии исчезнут через 10 лет')), PageBlockAuthorDate(author=TextPlain(text='Андрей\\xa0Бродецкий'), published_date=datetime.datetime(2016, 1, 18, 20, 5, 49, tzinfo=datetime.timezone.utc)), PageBlockParagraph(text=TextConcat(texts=[TextPlain(text='Развитие искусственного интеллекта в ближайшие 10 лет грозит ряду профессий вымиранием, пишет '), TextUrl(text=TextPlain(text='CNN Money'), url='http://money.cnn.com/2016/01/15/news/economy/smart-robots-stealing-jobs-davos/index.html', webpage_id=0), TextPlain(text='. По данным '), TextUrl(text=TextPlain(text='отчета'), url='http://www.bofaml.com/content/dam/boamlimages/documents/articles/D3_006/11511357.pdf', webpage_id=0), TextPlain(text=' Банка Америки, к 2025 году роботы будут выполнять 45% производственных задач в США. Сейчас этот показатель составляет 10%.')])), PageBlockPhoto(photo_id=532577895076047610, caption=PageCaption(text=TextPlain(text='Иллюстрация: CNN Money'), credit=TextEmpty()), url=None, webpage_id=None), PageBlockParagraph(text=TextPlain(text='В зоне риска — административные должности, производственные профессии и специальности, связанные с обработкой данных. Высокий риск роботизации (80-100%) у следующих специальностей: экскурсоводы, таксисты, пекари, мясники, модели, фармацевты, страховые агенты, продавцы, сборщики налогов и чиновники.')), PageBlockPhoto(photo_id=532583388339218710, caption=PageCaption(text=TextPlain(text='Иллюстрация: CNN Money'), credit=TextEmpty()), url=None, webpage_id=None), PageBlockParagraph(text=TextPlain(text='Востребованными останутся профессии, требующие интуиции, сопереживания и социального взаимодействия. Среди них — врачи, психологи, пожарные, полицейские и детективы, артисты, фотографы, социальные работники и священнослужители.')), PageBlockPhoto(photo_id=532584509325491445, caption=PageCaption(text=TextPlain(text='Иллюстрация: CNN Money'), credit=TextEmpty()), url=None, webpage_id=None), PageBlockParagraph(text=TextPlain(text='Одна из причин стремительной автоматизации труда — удешевление робототехники. За прошлое десятилетие стоимость роботов упала на 27%, а в ближайшие 10 лет Банк Америки прогнозирует снижение цен ещё на 22%.')), PageBlockParagraph(text=TextPlain(text='Совершенствование технологий машинного обучения и распознавания голоса и лиц приводит к тому, что роботы начинают заменять людей даже в профессиях, требующих взаимодействия с клиентами.')), PageBlockParagraph(text=TextConcat(texts=[TextPlain(text='Лидер мировой роботизации труда — Япония. На японских автозаводах работают 1520 роботов на каждые 10 000 сотрудников — это в 23 раза больше среднемирового показателя. По оценкам японских аналитиков, в следующие 20 лет роботы займут '), TextUrl(text=TextPlain(text='половину'), url='https://motherboard.vice.com/read/robots-could-take-over-nearly-50-percent-of-jobs-in-japan-in-the-next-20-years', webpage_id=0), TextPlain(text=' рабочих мест в стране.')])), PageBlockParagraph(text=TextPlain(text='Еще один лидер в этой сфере — Китай, который в последние два года является главным покупателем роботов на мировом рынке и создает четверть мирового спроса на них.')), PageBlockParagraph(text=TextPlain(text='Экономисты предупреждают: роботизация может радикально изменить глобальную экономику и увеличить неравенство доходов. В первую очередь от автоматизации труда страдают низкоквалифицированные и низкооплачиваемые работники.')), PageBlockParagraph(text=TextConcat(texts=[TextPlain(text='Главный экономист Банка Англии Энди Хэлдейн считает, что роботизация труда не приведет к взрывному росту безработицы. Вместо этого люди будут приспосабливаться к задачам, в которых по-прежнему превосходят роботов. '), TextUrl(text=TextPlain(text='Исследование'), url='https://www.theguardian.com/business/2015/aug/17/technology-created-more-jobs-than-destroyed-140-years-data-census', webpage_id=0), TextPlain(text=' Deloitte показывает, что технологии создали за последние 140 лет в Великобритании больше рабочих мест, чем заняли.')])), PageBlockParagraph(text=TextConcat(texts=[TextPlain(text='Ранее BBC разработал '), TextUrl(text=TextPlain(text='тест'), url='http://www.bbc.com/news/technology-34066941', webpage_id=0), TextPlain(text=', который позволяет проверить, отберет ли робот вашу работу в ближайшие годы.')])), PageBlockParagraph(text=TextConcat(texts=[TextPlain(text='Фото: '), TextUrl(text=TextPlain(text='Nithin Mathews'), url='http://iridia.ulb.ac.be/~mathews/', webpage_id=0)])), PageBlockParagraph(text=TextConcat(texts=[TextPlain(text='Источник: '), TextUrl(text=TextPlain(text='http://zheltaya.ru/'), url='http://zheltaya.ru/', webpage_id=0)]))], photos=[Photo(id=532577895076047610, access_hash=930554939253414926, file_reference=b'\\x00^\\xba\\xbd)\\x91T\\xe5\\xc3)\\xa44<\\xa0\\x1fQ(j0\\xcb^', date=datetime.datetime(2017, 12, 26, 17, 57, 42, tzinfo=datetime.timezone.utc), sizes=[PhotoSize(type='s', location=FileLocationToBeDeprecated(volume_id=445306295, local_id=13645), w=90, h=51, size=1107), PhotoSize(type='m', location=FileLocationToBeDeprecated(volume_id=445306295, local_id=13646), w=320, h=180, size=12550), PhotoSize(type='x', location=FileLocationToBeDeprecated(volume_id=445306295, local_id=13647), w=780, h=439, size=48136)], dc_id=4, has_stickers=False), Photo(id=532583388339218710, access_hash=5028416543681995449, file_reference=b'\\x00^\\xba\\xbd)]\\x19\\xd0\\xa5\\x96r[\\xd0\\xfeW\\xdfce\\x88\\x8e\\xcb', date=datetime.datetime(2017, 12, 26, 17, 57, 42, tzinfo=datetime.timezone.utc), sizes=[PhotoSize(type='s', location=FileLocationToBeDeprecated(volume_id=438810420, local_id=136894), w=90, h=51, size=1144), PhotoSize(type='m', location=FileLocationToBeDeprecated(volume_id=438810420, local_id=136896), w=320, h=180, size=13308), PhotoSize(type='x', location=FileLocationToBeDeprecated(volume_id=438810420, local_id=136895), w=780, h=439, size=50380)], dc_id=4, has_stickers=False), Photo(id=532584509325491445, access_hash=-6848223876125362698, file_reference=b'\\x00^\\xba\\xbd)jy\\x99\\xde\\x91V\\x19\\x1b/\\x93\\xe7\\xde\\x02\\n4|', date=datetime.datetime(2017, 8, 9, 8, 19, 45, tzinfo=datetime.timezone.utc), sizes=[PhotoSize(type='s', location=FileLocationToBeDeprecated(volume_id=431840387, local_id=287803), w=90, h=51, size=1127), PhotoSize(type='m', location=FileLocationToBeDeprecated(volume_id=431840387, local_id=287804), w=320, h=180, size=12430), PhotoSize(type='x', location=FileLocationToBeDeprecated(volume_id=431840387, local_id=287805), w=780, h=439, size=47500)], dc_id=4, has_stickers=False)], documents=[], part=False, rtl=False, v2=False, views=None), attributes=[])), reply_markup=None, entities=[MessageEntityUrl(offset=169, length=42)], views=433, edit_date=None, post_author=None, grouped_id=None, restriction_reason=[])\n",
    "16\n",
    "Message(id=16, to_id=PeerChannel(channel_id=1014119500), date=datetime.datetime(2016, 1, 18, 18, 57, tzinfo=datetime.timezone.utc), message='', out=False, mentioned=False, media_unread=False, silent=False, post=True, from_scheduled=False, legacy=False, edit_hide=False, from_id=None, fwd_from=None, via_bot_id=None, reply_to_msg_id=None, media=MessageMediaPhoto(photo=Photo(id=3711870107232828, access_hash=-8227496661188735682, file_reference=b'\\x02<r<L\\x00\\x00\\x00\\x10^\\xba\\xbd)1\\x1f\\x1cf\\x1bu\\x0e81\\xab\\xb1\\x01\\xfc\\xba}T', date=datetime.datetime(2016, 1, 18, 18, 57, 3, tzinfo=datetime.timezone.utc), sizes=[PhotoSize(type='s', location=FileLocationToBeDeprecated(volume_id=713235245, local_id=69480), w=37, h=90, size=898), PhotoSize(type='m', location=FileLocationToBeDeprecated(volume_id=713235245, local_id=69479), w=131, h=320, size=15798), PhotoSize(type='x', location=FileLocationToBeDeprecated(volume_id=713235245, local_id=69478), w=327, h=800, size=73204), PhotoSize(type='y', location=FileLocationToBeDeprecated(volume_id=713235245, local_id=69477), w=523, h=1280, size=116059)], dc_id=2, has_stickers=False), ttl_seconds=None), reply_markup=None, entities=[], views=403, edit_date=None, post_author=None, grouped_id=None, restriction_reason=[])\n",
    "14\n",
    "Message(id=14, to_id=PeerChannel(channel_id=1014119500), date=datetime.datetime(2016, 1, 18, 9, 8, 16, tzinfo=datetime.timezone.utc), message='За последние 37 лет в США доход среднего гендиректора вырос в 10 раз, а работника — на 10%', out=False, mentioned=False, media_unread=False, silent=False, post=True, from_scheduled=False, legacy=False, edit_hide=False, from_id=None, fwd_from=None, via_bot_id=None, reply_to_msg_id=None, media=MessageMediaPhoto(photo=Photo(id=3711870107232817, access_hash=3485915266234514920, file_reference=b'\\x02<r<L\\x00\\x00\\x00\\x0e^\\xba\\xbd)\\x84-\\x16\\x15\\xeaw\\x9fTe\\x08S\\xd9g\"\\\\\\xc3', date=datetime.datetime(2016, 1, 18, 9, 8, 15, tzinfo=datetime.timezone.utc), sizes=[PhotoSize(type='s', location=FileLocationToBeDeprecated(volume_id=713228418, local_id=92225), w=90, h=70, size=1502), PhotoSize(type='m', location=FileLocationToBeDeprecated(volume_id=713228418, local_id=92224), w=320, h=249, size=20802), PhotoSize(type='x', location=FileLocationToBeDeprecated(volume_id=713228418, local_id=92223), w=546, h=425, size=40130)], dc_id=2, has_stickers=False), ttl_seconds=None), reply_markup=None, entities=[], views=392, edit_date=None, post_author=None, grouped_id=None, restriction_reason=[])\n",
    "8\n",
    "Message(id=8, to_id=PeerChannel(channel_id=1014119500), date=datetime.datetime(2016, 1, 17, 17, 19, 40, tzinfo=datetime.timezone.utc), message='Существует корреляция между ВВП страны и религиозностью её населения. Религиозные страны, обычно, беднее.', out=False, mentioned=False, media_unread=False, silent=False, post=True, from_scheduled=False, legacy=False, edit_hide=False, from_id=None, fwd_from=None, via_bot_id=None, reply_to_msg_id=None, media=MessageMediaPhoto(photo=Photo(id=3711870107232815, access_hash=-1720685610998519750, file_reference=b'\\x02<r<L\\x00\\x00\\x00\\x08^\\xba\\xbd)\\x9f\\xa2,\\xeeTK\\x96\\xbe\\xbbH\\x91@\\xf5\\xbe\\xc37', date=datetime.datetime(2016, 1, 17, 17, 19, 41, tzinfo=datetime.timezone.utc), sizes=[PhotoSize(type='s', location=FileLocationToBeDeprecated(volume_id=713233105, local_id=67774), w=83, h=90, size=1301), PhotoSize(type='m', location=FileLocationToBeDeprecated(volume_id=713233105, local_id=67773), w=294, h=320, size=19318), PhotoSize(type='x', location=FileLocationToBeDeprecated(volume_id=713233105, local_id=67772), w=600, h=653, size=52811)], dc_id=2, has_stickers=False), ttl_seconds=None), reply_markup=None, entities=[], views=364, edit_date=None, post_author=None, grouped_id=None, restriction_reason=[])\n",
    "7\n",
    "MessageService(id=7, to_id=PeerChannel(channel_id=1014119500), date=datetime.datetime(2016, 1, 17, 17, 18, 20, tzinfo=datetime.timezone.utc), action=MessageActionChatEditPhoto(photo=Photo(id=3711870107232814, access_hash=-7595564591015072043, file_reference=b'\\x02<r<L\\x00\\x00\\x00\\x07^\\xba\\xbd)s\\x8c\\x12\\x83\\xc12\\xedk\\xb8R8\\xf2\\xe0;@\\xd6', date=datetime.datetime(2016, 1, 17, 17, 18, 21, tzinfo=datetime.timezone.utc), sizes=[PhotoSize(type='a', location=FileLocationToBeDeprecated(volume_id=713230492, local_id=75669), w=160, h=160, size=4206), PhotoSize(type='b', location=FileLocationToBeDeprecated(volume_id=713230492, local_id=75670), w=320, h=320, size=8996), PhotoSize(type='c', location=FileLocationToBeDeprecated(volume_id=713230492, local_id=75671), w=640, h=640, size=20729)], dc_id=2, has_stickers=False)), out=False, mentioned=False, media_unread=False, silent=False, post=True, legacy=False, from_id=None, reply_to_msg_id=None)\n",
    "2\n",
    "Message(id=2, to_id=PeerChannel(channel_id=1014119500), date=datetime.datetime(2016, 1, 17, 13, 28, 28, tzinfo=datetime.timezone.utc), message='71% населения планеты живет менее, чем на 10$ в день \\n\\nhttp://money.cnn.com/2015/07/08/news/economy/global-low-income/index.html', out=False, mentioned=False, media_unread=False, silent=False, post=True, from_scheduled=False, legacy=False, edit_hide=False, from_id=None, fwd_from=None, via_bot_id=None, reply_to_msg_id=None, media=MessageMediaWebPage(webpage=WebPage(id=2601865011510467279, url='https://money.cnn.com/2015/07/08/news/economy/global-low-income/index.html', display_url='money.cnn.com/2015/07/08/news/economy/global-low-income/index.html', hash=0, type='photo', site_name='CNNMoney', title=\"71% of the world's population lives on less than $10 a day\", description=\"Though the world's population is climbing the economic ladder, 56% are still considered low-income and another 15% are poor, according to the Pew Research Center. Only 13% are middle class.\", photo=Photo(id=532581666057201064, access_hash=7919952057613915518, file_reference=b'\\x00^\\xba\\xbd)\\xda\\r?.8\\xa4\\xfe\\x1d\\xa4A\\xe9D\\x17y:T', date=datetime.datetime(2017, 9, 20, 19, 31, 45, tzinfo=datetime.timezone.utc), sizes=[PhotoSize(type='s', location=FileLocationToBeDeprecated(volume_id=434223254, local_id=154058), w=90, h=51, size=1239), PhotoSize(type='m', location=FileLocationToBeDeprecated(volume_id=434223254, local_id=154059), w=320, h=180, size=18108), PhotoSize(type='x', location=FileLocationToBeDeprecated(volume_id=434223254, local_id=154060), w=540, h=304, size=42887)], dc_id=4, has_stickers=False), embed_url=None, embed_type=None, embed_width=None, embed_height=None, duration=None, author='Tami Luhby', document=None, cached_page=None, attributes=[])), reply_markup=None, entities=[MessageEntityUrl(offset=55, length=73)], views=298, edit_date=None, post_author=None, grouped_id=None, restriction_reason=[])\n",
    "\n",
    "Process finished with exit code 0\n"
   ]
  },
  {
   "cell_type": "code",
   "execution_count": 19,
   "metadata": {},
   "outputs": [],
   "source": [
    "from telethon.tl.functions.channels import GetParticipantsRequest\n",
    "from telethon.tl.types import ChannelParticipantsSearch\n",
    "from telethon.tl.types import (\n",
    "PeerChannel\n",
    ")"
   ]
  },
  {
   "cell_type": "code",
   "execution_count": 20,
   "metadata": {},
   "outputs": [
    {
     "name": "stdout",
     "output_type": "stream",
     "text": [
      "https://t.me/Infographicru\n"
     ]
    }
   ],
   "source": [
    "user_input_channel = input(\"https://t.me/Infographicru\")\n",
    "\n",
    "if user_input_channel.isdigit():\n",
    "    entity = PeerChannel(int(user_input_channel))\n",
    "else:\n",
    "    entity = user_input_channel\n",
    "\n",
    "my_channel = client.get_entity(entity)"
   ]
  },
  {
   "cell_type": "code",
   "execution_count": 22,
   "metadata": {},
   "outputs": [
    {
     "data": {
      "text/plain": [
       "<coroutine object UserMethods.get_entity at 0x7ff1f8a5f7c8>"
      ]
     },
     "execution_count": 22,
     "metadata": {},
     "output_type": "execute_result"
    }
   ],
   "source": [
    "my_channel"
   ]
  },
  {
   "cell_type": "code",
   "execution_count": 24,
   "metadata": {},
   "outputs": [],
   "source": [
    "from telethon import *"
   ]
  },
  {
   "cell_type": "code",
   "execution_count": 42,
   "metadata": {},
   "outputs": [],
   "source": [
    "from telethon.tl.functions.messages import GetHistoryRequest"
   ]
  },
  {
   "cell_type": "code",
   "execution_count": 44,
   "metadata": {},
   "outputs": [],
   "source": [
    "import telethon.sync"
   ]
  },
  {
   "cell_type": "code",
   "execution_count": 48,
   "metadata": {},
   "outputs": [
    {
     "ename": "TypeError",
     "evalue": "__init__() got an unexpected keyword argument 'update_workers'",
     "output_type": "error",
     "traceback": [
      "\u001b[0;31m---------------------------------------------------------------------------\u001b[0m",
      "\u001b[0;31mTypeError\u001b[0m                                 Traceback (most recent call last)",
      "\u001b[0;32m<ipython-input-48-f8113544ebb1>\u001b[0m in \u001b[0;36m<module>\u001b[0;34m\u001b[0m\n\u001b[1;32m      3\u001b[0m                     \u001b[0mapi_hash\u001b[0m\u001b[0;34m,\u001b[0m\u001b[0;34m\u001b[0m\u001b[0;34m\u001b[0m\u001b[0m\n\u001b[1;32m      4\u001b[0m                     \u001b[0mupdate_workers\u001b[0m\u001b[0;34m=\u001b[0m\u001b[0;36m1\u001b[0m\u001b[0;34m,\u001b[0m\u001b[0;34m\u001b[0m\u001b[0;34m\u001b[0m\u001b[0m\n\u001b[0;32m----> 5\u001b[0;31m                     spawn_read_thread=False)\n\u001b[0m\u001b[1;32m      6\u001b[0m \u001b[0;32massert\u001b[0m \u001b[0mclient\u001b[0m\u001b[0;34m.\u001b[0m\u001b[0mconnect\u001b[0m\u001b[0;34m(\u001b[0m\u001b[0;34m)\u001b[0m\u001b[0;34m\u001b[0m\u001b[0;34m\u001b[0m\u001b[0m\n\u001b[1;32m      7\u001b[0m \u001b[0;32mif\u001b[0m \u001b[0;32mnot\u001b[0m \u001b[0mclient\u001b[0m\u001b[0;34m.\u001b[0m\u001b[0mis_user_authorized\u001b[0m\u001b[0;34m(\u001b[0m\u001b[0;34m)\u001b[0m\u001b[0;34m:\u001b[0m\u001b[0;34m\u001b[0m\u001b[0;34m\u001b[0m\u001b[0m\n",
      "\u001b[0;31mTypeError\u001b[0m: __init__() got an unexpected keyword argument 'update_workers'"
     ]
    }
   ],
   "source": [
    "client = TelegramClient('session_name',\n",
    "                    api_id,\n",
    "                    api_hash,\n",
    "                    update_workers=1,\n",
    "                    spawn_read_thread=False)\n",
    "assert client.connect()\n",
    "if not client.is_user_authorized():\n",
    "    client.send_code_request(phone_number)\n",
    "    me = client.sign_in(phone_number, input('Enter code: '))\n",
    "\n",
    "channel_username='tehrandb' # your channel\n",
    "channel_entity=client.get_entity(channel_username)\n",
    "posts = client(GetHistoryRequest(\n",
    "    peer=channel_entity,\n",
    "    limit=100,\n",
    "    offset_date=None,\n",
    "    offset_id=0,\n",
    "    max_id=0,\n",
    "    min_id=0,\n",
    "    add_offset=0,\n",
    "    hash=0))\n",
    "# messages stored in `posts.messages`"
   ]
  },
  {
   "cell_type": "code",
   "execution_count": 53,
   "metadata": {},
   "outputs": [
    {
     "ename": "NameError",
     "evalue": "name 'messages' is not defined",
     "output_type": "error",
     "traceback": [
      "\u001b[0;31m---------------------------------------------------------------------------\u001b[0m",
      "\u001b[0;31mNameError\u001b[0m                                 Traceback (most recent call last)",
      "\u001b[0;32m<ipython-input-53-56cb0f81853e>\u001b[0m in \u001b[0;36m<module>\u001b[0;34m\u001b[0m\n\u001b[1;32m      1\u001b[0m client.forward_messages(\n\u001b[1;32m      2\u001b[0m     \u001b[0mentity\u001b[0m\u001b[0;34m,\u001b[0m  \u001b[0;31m# to which entity you are forwarding the messages\u001b[0m\u001b[0;34m\u001b[0m\u001b[0;34m\u001b[0m\u001b[0m\n\u001b[0;32m----> 3\u001b[0;31m     \u001b[0mmessages\u001b[0m  \u001b[0;31m# the messages (or message) to forward\u001b[0m\u001b[0;34m\u001b[0m\u001b[0;34m\u001b[0m\u001b[0m\n\u001b[0m\u001b[1;32m      4\u001b[0m )\n",
      "\u001b[0;31mNameError\u001b[0m: name 'messages' is not defined"
     ]
    }
   ],
   "source": []
  },
  {
   "cell_type": "code",
   "execution_count": 58,
   "metadata": {},
   "outputs": [],
   "source": [
    "from telethon import TelegramClient\n",
    "# Remember to use your own values from my.telegram.org!\n",
    "\n",
    "client = TelegramClient('anon', api_id, api_hash)"
   ]
  },
  {
   "cell_type": "code",
   "execution_count": 62,
   "metadata": {},
   "outputs": [],
   "source": [
    "api_id = \"1109457\"\n",
    "api_hash = \"b16b52d6fa7e3d272949f39c514e74ee\"\n",
    "\n",
    "# use full phone number including + and country code\n",
    "phone = \"+79264552109\"\n",
    "username = \"nem0oo7\""
   ]
  },
  {
   "cell_type": "code",
   "execution_count": null,
   "metadata": {},
   "outputs": [],
   "source": []
  },
  {
   "cell_type": "code",
   "execution_count": 7,
   "metadata": {},
   "outputs": [],
   "source": [
    "from telethon import TelegramClient, sync\n",
    "import pandas as pd\n",
    "group_username = \"economica\"\n",
    "# client = TelegramClient('session_name', api_id, api_hash).start()\n",
    "\n",
    "# You will be asked to enter your mobile number- Enter mobile number with country code\n",
    "# Enter OTP (For OTP check Telegram inbox)"
   ]
  },
  {
   "cell_type": "code",
   "execution_count": 8,
   "metadata": {},
   "outputs": [
    {
     "ename": "TypeError",
     "evalue": "object of type 'coroutine' has no len()",
     "output_type": "error",
     "traceback": [
      "\u001b[0;31m---------------------------------------------------------------------------\u001b[0m",
      "\u001b[0;31mTypeError\u001b[0m                                 Traceback (most recent call last)",
      "\u001b[0;32m<ipython-input-8-a377939b4fba>\u001b[0m in \u001b[0;36m<module>\u001b[0;34m\u001b[0m\n\u001b[1;32m      7\u001b[0m \u001b[0mlastname\u001b[0m \u001b[0;34m=\u001b[0m \u001b[0;34m[\u001b[0m\u001b[0;34m]\u001b[0m\u001b[0;34m\u001b[0m\u001b[0;34m\u001b[0m\u001b[0m\n\u001b[1;32m      8\u001b[0m \u001b[0musername\u001b[0m \u001b[0;34m=\u001b[0m \u001b[0;34m[\u001b[0m\u001b[0;34m]\u001b[0m\u001b[0;34m\u001b[0m\u001b[0;34m\u001b[0m\u001b[0m\n\u001b[0;32m----> 9\u001b[0;31m \u001b[0;32mif\u001b[0m \u001b[0mlen\u001b[0m\u001b[0;34m(\u001b[0m\u001b[0mparticipants\u001b[0m\u001b[0;34m)\u001b[0m\u001b[0;34m:\u001b[0m\u001b[0;34m\u001b[0m\u001b[0;34m\u001b[0m\u001b[0m\n\u001b[0m\u001b[1;32m     10\u001b[0m     \u001b[0;32mfor\u001b[0m \u001b[0mx\u001b[0m \u001b[0;32min\u001b[0m \u001b[0mparticipants\u001b[0m\u001b[0;34m:\u001b[0m\u001b[0;34m\u001b[0m\u001b[0;34m\u001b[0m\u001b[0m\n\u001b[1;32m     11\u001b[0m         \u001b[0mfirstname\u001b[0m\u001b[0;34m.\u001b[0m\u001b[0mappend\u001b[0m\u001b[0;34m(\u001b[0m\u001b[0mx\u001b[0m\u001b[0;34m.\u001b[0m\u001b[0mfirst_name\u001b[0m\u001b[0;34m)\u001b[0m\u001b[0;34m\u001b[0m\u001b[0;34m\u001b[0m\u001b[0m\n",
      "\u001b[0;31mTypeError\u001b[0m: object of type 'coroutine' has no len()"
     ]
    }
   ],
   "source": [
    "participants = client.get_participants(group_username)\n",
    "\n",
    "# This code can be used to extracted upto 10k user's details\n",
    "# Let's get first name, last name and username\n",
    "\n",
    "firstname =[]\n",
    "lastname = []\n",
    "username = []\n",
    "if len(participants):\n",
    "    for x in participants:\n",
    "        firstname.append(x.first_name)\n",
    "        lastname.append(x.last_name)\n",
    "        username.append(x.username)\n",
    "\n",
    "# list to data frame conversion\n",
    "\n",
    "data ={'first_name' :firstname, 'last_name':lastname, 'user_name':username}\n",
    "\n",
    "userdetails = pd.DataFrame(data)"
   ]
  },
  {
   "cell_type": "code",
   "execution_count": 9,
   "metadata": {},
   "outputs": [
    {
     "name": "stderr",
     "output_type": "stream",
     "text": [
      "/home/ubuntu/anaconda3/lib/python3.7/site-packages/ipykernel_launcher.py:1: RuntimeWarning: coroutine 'MessageMethods.get_messages' was never awaited\n",
      "  \"\"\"Entry point for launching an IPython kernel.\n",
      "RuntimeWarning: Enable tracemalloc to get the object allocation traceback\n"
     ]
    },
    {
     "ename": "TypeError",
     "evalue": "object of type 'coroutine' has no len()",
     "output_type": "error",
     "traceback": [
      "\u001b[0;31m---------------------------------------------------------------------------\u001b[0m",
      "\u001b[0;31mTypeError\u001b[0m                                 Traceback (most recent call last)",
      "\u001b[0;32m<ipython-input-9-e2ec71fb1ba9>\u001b[0m in \u001b[0;36m<module>\u001b[0;34m\u001b[0m\n\u001b[1;32m      6\u001b[0m \u001b[0mreply_to\u001b[0m \u001b[0;34m=\u001b[0m\u001b[0;34m[\u001b[0m\u001b[0;34m]\u001b[0m\u001b[0;34m\u001b[0m\u001b[0;34m\u001b[0m\u001b[0m\n\u001b[1;32m      7\u001b[0m \u001b[0mtime\u001b[0m \u001b[0;34m=\u001b[0m \u001b[0;34m[\u001b[0m\u001b[0;34m]\u001b[0m\u001b[0;34m\u001b[0m\u001b[0;34m\u001b[0m\u001b[0m\n\u001b[0;32m----> 8\u001b[0;31m \u001b[0;32mif\u001b[0m \u001b[0mlen\u001b[0m\u001b[0;34m(\u001b[0m\u001b[0mchats\u001b[0m\u001b[0;34m)\u001b[0m\u001b[0;34m:\u001b[0m\u001b[0;34m\u001b[0m\u001b[0;34m\u001b[0m\u001b[0m\n\u001b[0m\u001b[1;32m      9\u001b[0m     \u001b[0;32mfor\u001b[0m \u001b[0mchat\u001b[0m \u001b[0;32min\u001b[0m \u001b[0mchats\u001b[0m\u001b[0;34m:\u001b[0m\u001b[0;34m\u001b[0m\u001b[0;34m\u001b[0m\u001b[0m\n\u001b[1;32m     10\u001b[0m         \u001b[0mmessage_id\u001b[0m\u001b[0;34m.\u001b[0m\u001b[0mappend\u001b[0m\u001b[0;34m(\u001b[0m\u001b[0mchat\u001b[0m\u001b[0;34m.\u001b[0m\u001b[0mid\u001b[0m\u001b[0;34m)\u001b[0m\u001b[0;34m\u001b[0m\u001b[0;34m\u001b[0m\u001b[0m\n",
      "\u001b[0;31mTypeError\u001b[0m: object of type 'coroutine' has no len()"
     ]
    }
   ],
   "source": [
    "chats =client.get_messages(\"economica\", 10) # n number of messages to be extracted\n",
    "# Get message id, message, sender id, reply to message id, and timestamp\n",
    "message_id =[]\n",
    "message =[]\n",
    "sender =[]\n",
    "reply_to =[]\n",
    "time = []\n",
    "if len(chats):\n",
    "    for chat in chats:\n",
    "        message_id.append(chat.id)\n",
    "        message.append(chat.message)\n",
    "        sender.append(chat.from_id)\n",
    "        reply_to.append(chat.reply_to_msg_id)\n",
    "        time.append(chat.date)\n",
    "data ={'message_id':message_id, 'message': message, 'sender_ID':sender, 'reply_to_msg_id':reply_to, 'time':time}\n",
    "df = pd.DataFrame(data)"
   ]
  },
  {
   "cell_type": "code",
   "execution_count": null,
   "metadata": {},
   "outputs": [],
   "source": []
  },
  {
   "cell_type": "code",
   "execution_count": null,
   "metadata": {},
   "outputs": [],
   "source": []
  },
  {
   "cell_type": "code",
   "execution_count": null,
   "metadata": {},
   "outputs": [],
   "source": []
  },
  {
   "cell_type": "code",
   "execution_count": null,
   "metadata": {},
   "outputs": [],
   "source": []
  },
  {
   "cell_type": "code",
   "execution_count": null,
   "metadata": {},
   "outputs": [],
   "source": []
  },
  {
   "cell_type": "code",
   "execution_count": null,
   "metadata": {},
   "outputs": [],
   "source": []
  },
  {
   "cell_type": "code",
   "execution_count": null,
   "metadata": {},
   "outputs": [],
   "source": []
  },
  {
   "cell_type": "code",
   "execution_count": 77,
   "metadata": {},
   "outputs": [
    {
     "ename": "OperationalError",
     "evalue": "database is locked",
     "output_type": "error",
     "traceback": [
      "\u001b[0;31m---------------------------------------------------------------------------\u001b[0m",
      "\u001b[0;31mOperationalError\u001b[0m                          Traceback (most recent call last)",
      "\u001b[0;32m<ipython-input-77-751995e7fb23>\u001b[0m in \u001b[0;36m<module>\u001b[0;34m\u001b[0m\n\u001b[0;32m----> 1\u001b[0;31m \u001b[0mclient\u001b[0m \u001b[0;34m=\u001b[0m \u001b[0mTelegramClient\u001b[0m\u001b[0;34m(\u001b[0m\u001b[0;34m'anon'\u001b[0m\u001b[0;34m,\u001b[0m \u001b[0mapi_id\u001b[0m\u001b[0;34m,\u001b[0m \u001b[0mapi_hash\u001b[0m\u001b[0;34m)\u001b[0m\u001b[0;34m\u001b[0m\u001b[0;34m\u001b[0m\u001b[0m\n\u001b[0m\u001b[1;32m      2\u001b[0m \u001b[0;32masync\u001b[0m \u001b[0;32mdef\u001b[0m \u001b[0mdo_something\u001b[0m\u001b[0;34m(\u001b[0m\u001b[0mme\u001b[0m\u001b[0;34m)\u001b[0m\u001b[0;34m:\u001b[0m\u001b[0;34m\u001b[0m\u001b[0;34m\u001b[0m\u001b[0m\n\u001b[1;32m      3\u001b[0m \u001b[0;31m#     async for message in client.iter_messages('economika'):\u001b[0m\u001b[0;34m\u001b[0m\u001b[0;34m\u001b[0m\u001b[0;34m\u001b[0m\u001b[0m\n\u001b[1;32m      4\u001b[0m \u001b[0;31m#         print(message.id, message.text)\u001b[0m\u001b[0;34m\u001b[0m\u001b[0;34m\u001b[0m\u001b[0;34m\u001b[0m\u001b[0m\n\u001b[1;32m      5\u001b[0m     photos = await client.get_messages(\"economica\", 0,\n",
      "\u001b[0;32m~/anaconda3/lib/python3.7/site-packages/telethon/client/telegrambaseclient.py\u001b[0m in \u001b[0;36m__init__\u001b[0;34m(self, session, api_id, api_hash, connection, use_ipv6, proxy, timeout, request_retries, connection_retries, retry_delay, auto_reconnect, sequential_updates, flood_sleep_threshold, device_model, system_version, app_version, lang_code, system_lang_code, loop, base_logger)\u001b[0m\n\u001b[1;32m    270\u001b[0m                 \u001b[0mDEFAULT_DC_ID\u001b[0m\u001b[0;34m,\u001b[0m\u001b[0;34m\u001b[0m\u001b[0;34m\u001b[0m\u001b[0m\n\u001b[1;32m    271\u001b[0m                 \u001b[0mDEFAULT_IPV6_IP\u001b[0m \u001b[0;32mif\u001b[0m \u001b[0mself\u001b[0m\u001b[0;34m.\u001b[0m\u001b[0m_use_ipv6\u001b[0m \u001b[0;32melse\u001b[0m \u001b[0mDEFAULT_IPV4_IP\u001b[0m\u001b[0;34m,\u001b[0m\u001b[0;34m\u001b[0m\u001b[0;34m\u001b[0m\u001b[0m\n\u001b[0;32m--> 272\u001b[0;31m                 \u001b[0mDEFAULT_PORT\u001b[0m\u001b[0;34m\u001b[0m\u001b[0;34m\u001b[0m\u001b[0m\n\u001b[0m\u001b[1;32m    273\u001b[0m             )\n\u001b[1;32m    274\u001b[0m \u001b[0;34m\u001b[0m\u001b[0m\n",
      "\u001b[0;32m~/anaconda3/lib/python3.7/site-packages/telethon/sessions/sqlite.py\u001b[0m in \u001b[0;36mset_dc\u001b[0;34m(self, dc_id, server_address, port)\u001b[0m\n\u001b[1;32m    161\u001b[0m     \u001b[0;32mdef\u001b[0m \u001b[0mset_dc\u001b[0m\u001b[0;34m(\u001b[0m\u001b[0mself\u001b[0m\u001b[0;34m,\u001b[0m \u001b[0mdc_id\u001b[0m\u001b[0;34m,\u001b[0m \u001b[0mserver_address\u001b[0m\u001b[0;34m,\u001b[0m \u001b[0mport\u001b[0m\u001b[0;34m)\u001b[0m\u001b[0;34m:\u001b[0m\u001b[0;34m\u001b[0m\u001b[0;34m\u001b[0m\u001b[0m\n\u001b[1;32m    162\u001b[0m         \u001b[0msuper\u001b[0m\u001b[0;34m(\u001b[0m\u001b[0;34m)\u001b[0m\u001b[0;34m.\u001b[0m\u001b[0mset_dc\u001b[0m\u001b[0;34m(\u001b[0m\u001b[0mdc_id\u001b[0m\u001b[0;34m,\u001b[0m \u001b[0mserver_address\u001b[0m\u001b[0;34m,\u001b[0m \u001b[0mport\u001b[0m\u001b[0;34m)\u001b[0m\u001b[0;34m\u001b[0m\u001b[0;34m\u001b[0m\u001b[0m\n\u001b[0;32m--> 163\u001b[0;31m         \u001b[0mself\u001b[0m\u001b[0;34m.\u001b[0m\u001b[0m_update_session_table\u001b[0m\u001b[0;34m(\u001b[0m\u001b[0;34m)\u001b[0m\u001b[0;34m\u001b[0m\u001b[0;34m\u001b[0m\u001b[0m\n\u001b[0m\u001b[1;32m    164\u001b[0m \u001b[0;34m\u001b[0m\u001b[0m\n\u001b[1;32m    165\u001b[0m         \u001b[0;31m# Fetch the auth_key corresponding to this data center\u001b[0m\u001b[0;34m\u001b[0m\u001b[0;34m\u001b[0m\u001b[0;34m\u001b[0m\u001b[0m\n",
      "\u001b[0;32m~/anaconda3/lib/python3.7/site-packages/telethon/sessions/sqlite.py\u001b[0m in \u001b[0;36m_update_session_table\u001b[0;34m(self)\u001b[0m\n\u001b[1;32m    187\u001b[0m         \u001b[0;31m# some more work before being able to save auth_key's for\u001b[0m\u001b[0;34m\u001b[0m\u001b[0;34m\u001b[0m\u001b[0;34m\u001b[0m\u001b[0m\n\u001b[1;32m    188\u001b[0m         \u001b[0;31m# multiple DCs. Probably done differently.\u001b[0m\u001b[0;34m\u001b[0m\u001b[0;34m\u001b[0m\u001b[0;34m\u001b[0m\u001b[0m\n\u001b[0;32m--> 189\u001b[0;31m         \u001b[0mc\u001b[0m\u001b[0;34m.\u001b[0m\u001b[0mexecute\u001b[0m\u001b[0;34m(\u001b[0m\u001b[0;34m'delete from sessions'\u001b[0m\u001b[0;34m)\u001b[0m\u001b[0;34m\u001b[0m\u001b[0;34m\u001b[0m\u001b[0m\n\u001b[0m\u001b[1;32m    190\u001b[0m         c.execute('insert or replace into sessions values (?,?,?,?,?)', (\n\u001b[1;32m    191\u001b[0m             \u001b[0mself\u001b[0m\u001b[0;34m.\u001b[0m\u001b[0m_dc_id\u001b[0m\u001b[0;34m,\u001b[0m\u001b[0;34m\u001b[0m\u001b[0;34m\u001b[0m\u001b[0m\n",
      "\u001b[0;31mOperationalError\u001b[0m: database is locked"
     ]
    }
   ],
   "source": [
    "client = TelegramClient('anon', api_id, api_hash)\n",
    "async def do_something(me):\n",
    "#     async for message in client.iter_messages('economika'): \n",
    "#         print(message.id, message.text)\n",
    "#     photos = await client.get_messages(\"economica\", 0,\n",
    "#                                    filter=InputMessagesFilterPhotos) \n",
    "    print(photos.total)\n",
    "    \n",
    "async def main():\n",
    "    me = await client.get_me()\n",
    "    await do_something(me)\n",
    "    \n",
    "with client: \n",
    "    client.loop.run_until_complete(main())"
   ]
  },
  {
   "cell_type": "code",
   "execution_count": null,
   "metadata": {},
   "outputs": [],
   "source": [
    "from telethon.tl.types import InputMessagesFilterPhotos \n",
    "photos = await client.get_messages(\"economica\", 0,\n",
    "                                   filter=InputMessagesFilterPhotos) \n",
    "print(photos.total)"
   ]
  },
  {
   "cell_type": "code",
   "execution_count": null,
   "metadata": {},
   "outputs": [],
   "source": []
  },
  {
   "cell_type": "code",
   "execution_count": null,
   "metadata": {},
   "outputs": [],
   "source": []
  },
  {
   "cell_type": "code",
   "execution_count": 10,
   "metadata": {},
   "outputs": [
    {
     "ename": "ConnectionError",
     "evalue": "Cannot send requests while disconnected",
     "output_type": "error",
     "traceback": [
      "\u001b[0;31m---------------------------------------------------------------------------\u001b[0m",
      "\u001b[0;31mConnectionError\u001b[0m                           Traceback (most recent call last)",
      "\u001b[0;32m<ipython-input-10-f5b72fdaf4ca>\u001b[0m in \u001b[0;36masync-def-wrapper\u001b[0;34m()\u001b[0m\n\u001b[1;32m      2\u001b[0m     \u001b[0mprint\u001b[0m\u001b[0;34m(\u001b[0m\u001b[0mmessage\u001b[0m\u001b[0;34m.\u001b[0m\u001b[0mid\u001b[0m\u001b[0;34m,\u001b[0m \u001b[0mmessage\u001b[0m\u001b[0;34m.\u001b[0m\u001b[0mtext\u001b[0m\u001b[0;34m)\u001b[0m\u001b[0;34m\u001b[0m\u001b[0;34m\u001b[0m\u001b[0m\n",
      "\u001b[0;32m~/anaconda3/lib/python3.7/site-packages/telethon/requestiter.py\u001b[0m in \u001b[0;36m__anext__\u001b[0;34m(self)\u001b[0m\n\u001b[1;32m     73\u001b[0m             \u001b[0mself\u001b[0m\u001b[0;34m.\u001b[0m\u001b[0mindex\u001b[0m \u001b[0;34m=\u001b[0m \u001b[0;36m0\u001b[0m\u001b[0;34m\u001b[0m\u001b[0;34m\u001b[0m\u001b[0m\n\u001b[1;32m     74\u001b[0m             \u001b[0mself\u001b[0m\u001b[0;34m.\u001b[0m\u001b[0mbuffer\u001b[0m \u001b[0;34m=\u001b[0m \u001b[0;34m[\u001b[0m\u001b[0;34m]\u001b[0m\u001b[0;34m\u001b[0m\u001b[0;34m\u001b[0m\u001b[0m\n\u001b[0;32m---> 75\u001b[0;31m             \u001b[0;32mif\u001b[0m \u001b[0;32mawait\u001b[0m \u001b[0mself\u001b[0m\u001b[0;34m.\u001b[0m\u001b[0m_load_next_chunk\u001b[0m\u001b[0;34m(\u001b[0m\u001b[0;34m)\u001b[0m\u001b[0;34m:\u001b[0m\u001b[0;34m\u001b[0m\u001b[0;34m\u001b[0m\u001b[0m\n\u001b[0m\u001b[1;32m     76\u001b[0m                 \u001b[0mself\u001b[0m\u001b[0;34m.\u001b[0m\u001b[0mleft\u001b[0m \u001b[0;34m=\u001b[0m \u001b[0mlen\u001b[0m\u001b[0;34m(\u001b[0m\u001b[0mself\u001b[0m\u001b[0;34m.\u001b[0m\u001b[0mbuffer\u001b[0m\u001b[0;34m)\u001b[0m\u001b[0;34m\u001b[0m\u001b[0;34m\u001b[0m\u001b[0m\n\u001b[1;32m     77\u001b[0m \u001b[0;34m\u001b[0m\u001b[0m\n",
      "\u001b[0;32m~/anaconda3/lib/python3.7/site-packages/telethon/client/messages.py\u001b[0m in \u001b[0;36m_load_next_chunk\u001b[0;34m(self)\u001b[0m\n\u001b[1;32m    163\u001b[0m             \u001b[0mself\u001b[0m\u001b[0;34m.\u001b[0m\u001b[0mrequest\u001b[0m\u001b[0;34m.\u001b[0m\u001b[0madd_offset\u001b[0m \u001b[0;34m=\u001b[0m \u001b[0mself\u001b[0m\u001b[0;34m.\u001b[0m\u001b[0madd_offset\u001b[0m \u001b[0;34m-\u001b[0m \u001b[0mself\u001b[0m\u001b[0;34m.\u001b[0m\u001b[0mrequest\u001b[0m\u001b[0;34m.\u001b[0m\u001b[0mlimit\u001b[0m\u001b[0;34m\u001b[0m\u001b[0;34m\u001b[0m\u001b[0m\n\u001b[1;32m    164\u001b[0m \u001b[0;34m\u001b[0m\u001b[0m\n\u001b[0;32m--> 165\u001b[0;31m         \u001b[0mr\u001b[0m \u001b[0;34m=\u001b[0m \u001b[0;32mawait\u001b[0m \u001b[0mself\u001b[0m\u001b[0;34m.\u001b[0m\u001b[0mclient\u001b[0m\u001b[0;34m(\u001b[0m\u001b[0mself\u001b[0m\u001b[0;34m.\u001b[0m\u001b[0mrequest\u001b[0m\u001b[0;34m)\u001b[0m\u001b[0;34m\u001b[0m\u001b[0;34m\u001b[0m\u001b[0m\n\u001b[0m\u001b[1;32m    166\u001b[0m         \u001b[0mself\u001b[0m\u001b[0;34m.\u001b[0m\u001b[0mtotal\u001b[0m \u001b[0;34m=\u001b[0m \u001b[0mgetattr\u001b[0m\u001b[0;34m(\u001b[0m\u001b[0mr\u001b[0m\u001b[0;34m,\u001b[0m \u001b[0;34m'count'\u001b[0m\u001b[0;34m,\u001b[0m \u001b[0mlen\u001b[0m\u001b[0;34m(\u001b[0m\u001b[0mr\u001b[0m\u001b[0;34m.\u001b[0m\u001b[0mmessages\u001b[0m\u001b[0;34m)\u001b[0m\u001b[0;34m)\u001b[0m\u001b[0;34m\u001b[0m\u001b[0;34m\u001b[0m\u001b[0m\n\u001b[1;32m    167\u001b[0m \u001b[0;34m\u001b[0m\u001b[0m\n",
      "\u001b[0;32m~/anaconda3/lib/python3.7/site-packages/telethon/client/users.py\u001b[0m in \u001b[0;36m__call__\u001b[0;34m(self, request, ordered)\u001b[0m\n\u001b[1;32m     51\u001b[0m         \u001b[0;32mfor\u001b[0m \u001b[0mattempt\u001b[0m \u001b[0;32min\u001b[0m \u001b[0mretry_range\u001b[0m\u001b[0;34m(\u001b[0m\u001b[0mself\u001b[0m\u001b[0;34m.\u001b[0m\u001b[0m_request_retries\u001b[0m\u001b[0;34m)\u001b[0m\u001b[0;34m:\u001b[0m\u001b[0;34m\u001b[0m\u001b[0;34m\u001b[0m\u001b[0m\n\u001b[1;32m     52\u001b[0m             \u001b[0;32mtry\u001b[0m\u001b[0;34m:\u001b[0m\u001b[0;34m\u001b[0m\u001b[0;34m\u001b[0m\u001b[0m\n\u001b[0;32m---> 53\u001b[0;31m                 \u001b[0mfuture\u001b[0m \u001b[0;34m=\u001b[0m \u001b[0mself\u001b[0m\u001b[0;34m.\u001b[0m\u001b[0m_sender\u001b[0m\u001b[0;34m.\u001b[0m\u001b[0msend\u001b[0m\u001b[0;34m(\u001b[0m\u001b[0mrequest\u001b[0m\u001b[0;34m,\u001b[0m \u001b[0mordered\u001b[0m\u001b[0;34m=\u001b[0m\u001b[0mordered\u001b[0m\u001b[0;34m)\u001b[0m\u001b[0;34m\u001b[0m\u001b[0;34m\u001b[0m\u001b[0m\n\u001b[0m\u001b[1;32m     54\u001b[0m                 \u001b[0;32mif\u001b[0m \u001b[0misinstance\u001b[0m\u001b[0;34m(\u001b[0m\u001b[0mfuture\u001b[0m\u001b[0;34m,\u001b[0m \u001b[0mlist\u001b[0m\u001b[0;34m)\u001b[0m\u001b[0;34m:\u001b[0m\u001b[0;34m\u001b[0m\u001b[0;34m\u001b[0m\u001b[0m\n\u001b[1;32m     55\u001b[0m                     \u001b[0mresults\u001b[0m \u001b[0;34m=\u001b[0m \u001b[0;34m[\u001b[0m\u001b[0;34m]\u001b[0m\u001b[0;34m\u001b[0m\u001b[0;34m\u001b[0m\u001b[0m\n",
      "\u001b[0;32m~/anaconda3/lib/python3.7/site-packages/telethon/network/mtprotosender.py\u001b[0m in \u001b[0;36msend\u001b[0;34m(self, request, ordered)\u001b[0m\n\u001b[1;32m    168\u001b[0m         \"\"\"\n\u001b[1;32m    169\u001b[0m         \u001b[0;32mif\u001b[0m \u001b[0;32mnot\u001b[0m \u001b[0mself\u001b[0m\u001b[0;34m.\u001b[0m\u001b[0m_user_connected\u001b[0m\u001b[0;34m:\u001b[0m\u001b[0;34m\u001b[0m\u001b[0;34m\u001b[0m\u001b[0m\n\u001b[0;32m--> 170\u001b[0;31m             \u001b[0;32mraise\u001b[0m \u001b[0mConnectionError\u001b[0m\u001b[0;34m(\u001b[0m\u001b[0;34m'Cannot send requests while disconnected'\u001b[0m\u001b[0;34m)\u001b[0m\u001b[0;34m\u001b[0m\u001b[0;34m\u001b[0m\u001b[0m\n\u001b[0m\u001b[1;32m    171\u001b[0m \u001b[0;34m\u001b[0m\u001b[0m\n\u001b[1;32m    172\u001b[0m         \u001b[0;32mif\u001b[0m \u001b[0;32mnot\u001b[0m \u001b[0mutils\u001b[0m\u001b[0;34m.\u001b[0m\u001b[0mis_list_like\u001b[0m\u001b[0;34m(\u001b[0m\u001b[0mrequest\u001b[0m\u001b[0;34m)\u001b[0m\u001b[0;34m:\u001b[0m\u001b[0;34m\u001b[0m\u001b[0;34m\u001b[0m\u001b[0m\n",
      "\u001b[0;31mConnectionError\u001b[0m: Cannot send requests while disconnected"
     ]
    }
   ],
   "source": [
    "async for message in client.iter_messages('me'): \n",
    "    print(message.id, message.text)"
   ]
  },
  {
   "cell_type": "code",
   "execution_count": null,
   "metadata": {},
   "outputs": [],
   "source": []
  },
  {
   "cell_type": "code",
   "execution_count": null,
   "metadata": {},
   "outputs": [],
   "source": []
  },
  {
   "cell_type": "code",
   "execution_count": 57,
   "metadata": {},
   "outputs": [
    {
     "ename": "TypeError",
     "evalue": "__init__() got an unexpected keyword argument 'update_workers'",
     "output_type": "error",
     "traceback": [
      "\u001b[0;31m---------------------------------------------------------------------------\u001b[0m",
      "\u001b[0;31mTypeError\u001b[0m                                 Traceback (most recent call last)",
      "\u001b[0;32m<ipython-input-57-9d319f4b8f27>\u001b[0m in \u001b[0;36masync-def-wrapper\u001b[0;34m()\u001b[0m\n\u001b[1;32m      6\u001b[0m \u001b[0;32massert\u001b[0m \u001b[0mclient\u001b[0m\u001b[0;34m.\u001b[0m\u001b[0mconnect\u001b[0m\u001b[0;34m(\u001b[0m\u001b[0;34m)\u001b[0m\u001b[0;34m\u001b[0m\u001b[0;34m\u001b[0m\u001b[0m\n\u001b[1;32m      7\u001b[0m \u001b[0;32mif\u001b[0m \u001b[0;32mnot\u001b[0m \u001b[0mclient\u001b[0m\u001b[0;34m.\u001b[0m\u001b[0mis_user_authorized\u001b[0m\u001b[0;34m(\u001b[0m\u001b[0;34m)\u001b[0m\u001b[0;34m:\u001b[0m\u001b[0;34m\u001b[0m\u001b[0;34m\u001b[0m\u001b[0m\n\u001b[0;32m----> 8\u001b[0;31m     \u001b[0mclient\u001b[0m\u001b[0;34m.\u001b[0m\u001b[0msend_code_request\u001b[0m\u001b[0;34m(\u001b[0m\u001b[0mphone_number\u001b[0m\u001b[0;34m)\u001b[0m\u001b[0;34m\u001b[0m\u001b[0;34m\u001b[0m\u001b[0m\n\u001b[0m\u001b[1;32m      9\u001b[0m     \u001b[0mme\u001b[0m \u001b[0;34m=\u001b[0m \u001b[0mclient\u001b[0m\u001b[0;34m.\u001b[0m\u001b[0msign_in\u001b[0m\u001b[0;34m(\u001b[0m\u001b[0mphone_number\u001b[0m\u001b[0;34m,\u001b[0m \u001b[0minput\u001b[0m\u001b[0;34m(\u001b[0m\u001b[0;34m'Enter code: '\u001b[0m\u001b[0;34m)\u001b[0m\u001b[0;34m)\u001b[0m\u001b[0;34m\u001b[0m\u001b[0;34m\u001b[0m\u001b[0m\n\u001b[1;32m     10\u001b[0m \u001b[0;34m\u001b[0m\u001b[0m\n",
      "\u001b[0;31mTypeError\u001b[0m: __init__() got an unexpected keyword argument 'update_workers'"
     ]
    }
   ],
   "source": [
    "client = TelegramClient('session_name',\n",
    "                    api_id,\n",
    "                    api_hash,\n",
    "                    update_workers=1,\n",
    "                    spawn_read_thread=False)\n",
    "assert client.connect()\n",
    "if not client.is_user_authorized():\n",
    "    client.send_code_request(phone_number)\n",
    "    me = client.sign_in(phone_number, input('Enter code: '))\n",
    "    \n",
    "async for message in client.iter_messages('economika'):\n",
    "    print(message)"
   ]
  },
  {
   "cell_type": "code",
   "execution_count": 51,
   "metadata": {},
   "outputs": [
    {
     "ename": "OperationalError",
     "evalue": "database is locked",
     "output_type": "error",
     "traceback": [
      "\u001b[0;31m---------------------------------------------------------------------------\u001b[0m",
      "\u001b[0;31mOperationalError\u001b[0m                          Traceback (most recent call last)",
      "\u001b[0;32m<ipython-input-51-50a212f1b101>\u001b[0m in \u001b[0;36m<module>\u001b[0;34m\u001b[0m\n\u001b[1;32m      1\u001b[0m \u001b[0;32mfrom\u001b[0m \u001b[0mtelethon\u001b[0m\u001b[0;34m.\u001b[0m\u001b[0msync\u001b[0m \u001b[0;32mimport\u001b[0m \u001b[0mTelegramClient\u001b[0m\u001b[0;34m\u001b[0m\u001b[0;34m\u001b[0m\u001b[0m\n\u001b[1;32m      2\u001b[0m \u001b[0;34m\u001b[0m\u001b[0m\n\u001b[0;32m----> 3\u001b[0;31m \u001b[0;32mwith\u001b[0m \u001b[0mTelegramClient\u001b[0m\u001b[0;34m(\u001b[0m\u001b[0musername\u001b[0m\u001b[0;34m,\u001b[0m \u001b[0mapi_id\u001b[0m\u001b[0;34m,\u001b[0m \u001b[0mapi_hash\u001b[0m\u001b[0;34m)\u001b[0m \u001b[0;32mas\u001b[0m \u001b[0mclient\u001b[0m\u001b[0;34m:\u001b[0m\u001b[0;34m\u001b[0m\u001b[0;34m\u001b[0m\u001b[0m\n\u001b[0m\u001b[1;32m      4\u001b[0m     \u001b[0;32mfor\u001b[0m \u001b[0mmessage\u001b[0m \u001b[0;32min\u001b[0m \u001b[0mclient\u001b[0m\u001b[0;34m.\u001b[0m\u001b[0miter_messages\u001b[0m\u001b[0;34m(\u001b[0m\u001b[0;34m\"https://t.me/economika\"\u001b[0m\u001b[0;34m)\u001b[0m\u001b[0;34m:\u001b[0m\u001b[0;34m\u001b[0m\u001b[0;34m\u001b[0m\u001b[0m\n\u001b[1;32m      5\u001b[0m         \u001b[0mprint\u001b[0m\u001b[0;34m(\u001b[0m\u001b[0mmessage\u001b[0m\u001b[0;34m.\u001b[0m\u001b[0msender_id\u001b[0m\u001b[0;34m,\u001b[0m \u001b[0;34m':'\u001b[0m\u001b[0;34m,\u001b[0m \u001b[0mmessage\u001b[0m\u001b[0;34m.\u001b[0m\u001b[0mtext\u001b[0m\u001b[0;34m)\u001b[0m\u001b[0;34m\u001b[0m\u001b[0;34m\u001b[0m\u001b[0m\n",
      "\u001b[0;32m~/anaconda3/lib/python3.7/site-packages/telethon/client/telegrambaseclient.py\u001b[0m in \u001b[0;36m__init__\u001b[0;34m(self, session, api_id, api_hash, connection, use_ipv6, proxy, timeout, request_retries, connection_retries, retry_delay, auto_reconnect, sequential_updates, flood_sleep_threshold, device_model, system_version, app_version, lang_code, system_lang_code, loop, base_logger)\u001b[0m\n\u001b[1;32m    270\u001b[0m                 \u001b[0mDEFAULT_DC_ID\u001b[0m\u001b[0;34m,\u001b[0m\u001b[0;34m\u001b[0m\u001b[0;34m\u001b[0m\u001b[0m\n\u001b[1;32m    271\u001b[0m                 \u001b[0mDEFAULT_IPV6_IP\u001b[0m \u001b[0;32mif\u001b[0m \u001b[0mself\u001b[0m\u001b[0;34m.\u001b[0m\u001b[0m_use_ipv6\u001b[0m \u001b[0;32melse\u001b[0m \u001b[0mDEFAULT_IPV4_IP\u001b[0m\u001b[0;34m,\u001b[0m\u001b[0;34m\u001b[0m\u001b[0;34m\u001b[0m\u001b[0m\n\u001b[0;32m--> 272\u001b[0;31m                 \u001b[0mDEFAULT_PORT\u001b[0m\u001b[0;34m\u001b[0m\u001b[0;34m\u001b[0m\u001b[0m\n\u001b[0m\u001b[1;32m    273\u001b[0m             )\n\u001b[1;32m    274\u001b[0m \u001b[0;34m\u001b[0m\u001b[0m\n",
      "\u001b[0;32m~/anaconda3/lib/python3.7/site-packages/telethon/sessions/sqlite.py\u001b[0m in \u001b[0;36mset_dc\u001b[0;34m(self, dc_id, server_address, port)\u001b[0m\n\u001b[1;32m    161\u001b[0m     \u001b[0;32mdef\u001b[0m \u001b[0mset_dc\u001b[0m\u001b[0;34m(\u001b[0m\u001b[0mself\u001b[0m\u001b[0;34m,\u001b[0m \u001b[0mdc_id\u001b[0m\u001b[0;34m,\u001b[0m \u001b[0mserver_address\u001b[0m\u001b[0;34m,\u001b[0m \u001b[0mport\u001b[0m\u001b[0;34m)\u001b[0m\u001b[0;34m:\u001b[0m\u001b[0;34m\u001b[0m\u001b[0;34m\u001b[0m\u001b[0m\n\u001b[1;32m    162\u001b[0m         \u001b[0msuper\u001b[0m\u001b[0;34m(\u001b[0m\u001b[0;34m)\u001b[0m\u001b[0;34m.\u001b[0m\u001b[0mset_dc\u001b[0m\u001b[0;34m(\u001b[0m\u001b[0mdc_id\u001b[0m\u001b[0;34m,\u001b[0m \u001b[0mserver_address\u001b[0m\u001b[0;34m,\u001b[0m \u001b[0mport\u001b[0m\u001b[0;34m)\u001b[0m\u001b[0;34m\u001b[0m\u001b[0;34m\u001b[0m\u001b[0m\n\u001b[0;32m--> 163\u001b[0;31m         \u001b[0mself\u001b[0m\u001b[0;34m.\u001b[0m\u001b[0m_update_session_table\u001b[0m\u001b[0;34m(\u001b[0m\u001b[0;34m)\u001b[0m\u001b[0;34m\u001b[0m\u001b[0;34m\u001b[0m\u001b[0m\n\u001b[0m\u001b[1;32m    164\u001b[0m \u001b[0;34m\u001b[0m\u001b[0m\n\u001b[1;32m    165\u001b[0m         \u001b[0;31m# Fetch the auth_key corresponding to this data center\u001b[0m\u001b[0;34m\u001b[0m\u001b[0;34m\u001b[0m\u001b[0;34m\u001b[0m\u001b[0m\n",
      "\u001b[0;32m~/anaconda3/lib/python3.7/site-packages/telethon/sessions/sqlite.py\u001b[0m in \u001b[0;36m_update_session_table\u001b[0;34m(self)\u001b[0m\n\u001b[1;32m    187\u001b[0m         \u001b[0;31m# some more work before being able to save auth_key's for\u001b[0m\u001b[0;34m\u001b[0m\u001b[0;34m\u001b[0m\u001b[0;34m\u001b[0m\u001b[0m\n\u001b[1;32m    188\u001b[0m         \u001b[0;31m# multiple DCs. Probably done differently.\u001b[0m\u001b[0;34m\u001b[0m\u001b[0;34m\u001b[0m\u001b[0;34m\u001b[0m\u001b[0m\n\u001b[0;32m--> 189\u001b[0;31m         \u001b[0mc\u001b[0m\u001b[0;34m.\u001b[0m\u001b[0mexecute\u001b[0m\u001b[0;34m(\u001b[0m\u001b[0;34m'delete from sessions'\u001b[0m\u001b[0;34m)\u001b[0m\u001b[0;34m\u001b[0m\u001b[0;34m\u001b[0m\u001b[0m\n\u001b[0m\u001b[1;32m    190\u001b[0m         c.execute('insert or replace into sessions values (?,?,?,?,?)', (\n\u001b[1;32m    191\u001b[0m             \u001b[0mself\u001b[0m\u001b[0;34m.\u001b[0m\u001b[0m_dc_id\u001b[0m\u001b[0;34m,\u001b[0m\u001b[0;34m\u001b[0m\u001b[0;34m\u001b[0m\u001b[0m\n",
      "\u001b[0;31mOperationalError\u001b[0m: database is locked"
     ]
    }
   ],
   "source": [
    "from telethon.sync import TelegramClient\n",
    "\n",
    "with TelegramClient(username, api_id, api_hash) as client:\n",
    "    for message in client.iter_messages(\"https://t.me/economika\"):\n",
    "        print(message.sender_id, ':', message.text)"
   ]
  },
  {
   "cell_type": "code",
   "execution_count": null,
   "metadata": {},
   "outputs": [],
   "source": []
  },
  {
   "cell_type": "code",
   "execution_count": null,
   "metadata": {},
   "outputs": [],
   "source": []
  },
  {
   "cell_type": "code",
   "execution_count": null,
   "metadata": {},
   "outputs": [],
   "source": []
  },
  {
   "cell_type": "code",
   "execution_count": null,
   "metadata": {},
   "outputs": [],
   "source": []
  },
  {
   "cell_type": "code",
   "execution_count": 45,
   "metadata": {},
   "outputs": [
    {
     "name": "stderr",
     "output_type": "stream",
     "text": [
      "/home/ubuntu/anaconda3/lib/python3.7/site-packages/ipykernel_launcher.py:11: RuntimeWarning: coroutine 'UserMethods.__call__' was never awaited\n",
      "  # This is added back by InteractiveShellApp.init_path()\n",
      "RuntimeWarning: Enable tracemalloc to get the object allocation traceback\n",
      "/home/ubuntu/anaconda3/lib/python3.7/site-packages/ipykernel_launcher.py:11: RuntimeWarning: coroutine 'UserMethods.get_entity' was never awaited\n",
      "  # This is added back by InteractiveShellApp.init_path()\n",
      "RuntimeWarning: Enable tracemalloc to get the object allocation traceback\n"
     ]
    }
   ],
   "source": [
    "channel_username='Infographicru' # your channel\n",
    "channel_entity=client.get_entity(channel_username)\n",
    "posts = client(GetHistoryRequest(\n",
    "    peer=channel_entity,\n",
    "    limit=100,\n",
    "    offset_date=None,\n",
    "    offset_id=0,\n",
    "    max_id=0,\n",
    "    min_id=0,\n",
    "    add_offset=0,\n",
    "    hash=0))\n",
    "\n",
    "# for post in posts.messages:\n",
    "#     print(post)"
   ]
  },
  {
   "cell_type": "code",
   "execution_count": 47,
   "metadata": {},
   "outputs": [
    {
     "ename": "AttributeError",
     "evalue": "'coroutine' object has no attribute 'messages'",
     "output_type": "error",
     "traceback": [
      "\u001b[0;31m---------------------------------------------------------------------------\u001b[0m",
      "\u001b[0;31mAttributeError\u001b[0m                            Traceback (most recent call last)",
      "\u001b[0;32m<ipython-input-47-858fdd189ebe>\u001b[0m in \u001b[0;36m<module>\u001b[0;34m\u001b[0m\n\u001b[0;32m----> 1\u001b[0;31m \u001b[0;32mfor\u001b[0m \u001b[0mmessage\u001b[0m \u001b[0;32min\u001b[0m \u001b[0mposts\u001b[0m\u001b[0;34m.\u001b[0m\u001b[0mmessages\u001b[0m\u001b[0;34m:\u001b[0m \u001b[0mprint\u001b[0m\u001b[0;34m(\u001b[0m\u001b[0mmessage\u001b[0m\u001b[0;34m.\u001b[0m\u001b[0mmessage\u001b[0m\u001b[0;34m)\u001b[0m\u001b[0;34m\u001b[0m\u001b[0;34m\u001b[0m\u001b[0m\n\u001b[0m",
      "\u001b[0;31mAttributeError\u001b[0m: 'coroutine' object has no attribute 'messages'"
     ]
    }
   ],
   "source": [
    "for message in posts.messages: print(message.message)"
   ]
  },
  {
   "cell_type": "code",
   "execution_count": 46,
   "metadata": {},
   "outputs": [
    {
     "ename": "AttributeError",
     "evalue": "'coroutine' object has no attribute 'messages'",
     "output_type": "error",
     "traceback": [
      "\u001b[0;31m---------------------------------------------------------------------------\u001b[0m",
      "\u001b[0;31mAttributeError\u001b[0m                            Traceback (most recent call last)",
      "\u001b[0;32m<ipython-input-46-01e3a5fc23a1>\u001b[0m in \u001b[0;36m<module>\u001b[0;34m\u001b[0m\n\u001b[0;32m----> 1\u001b[0;31m \u001b[0mposts\u001b[0m\u001b[0;34m.\u001b[0m\u001b[0mmessages\u001b[0m\u001b[0;34m\u001b[0m\u001b[0;34m\u001b[0m\u001b[0m\n\u001b[0m",
      "\u001b[0;31mAttributeError\u001b[0m: 'coroutine' object has no attribute 'messages'"
     ]
    }
   ],
   "source": [
    "posts.messages"
   ]
  },
  {
   "cell_type": "code",
   "execution_count": null,
   "metadata": {},
   "outputs": [],
   "source": []
  },
  {
   "cell_type": "code",
   "execution_count": null,
   "metadata": {},
   "outputs": [],
   "source": []
  },
  {
   "cell_type": "code",
   "execution_count": null,
   "metadata": {},
   "outputs": [],
   "source": []
  },
  {
   "cell_type": "code",
   "execution_count": null,
   "metadata": {},
   "outputs": [],
   "source": [
    "api_id = \"1109457\"\n",
    "api_hash = \"b16b52d6fa7e3d272949f39c514e74ee\"\n",
    "\n",
    "# use full phone number including + and country code\n",
    "phone = \"+79264552109\"\n",
    "username = \"nem0oo7\""
   ]
  },
  {
   "cell_type": "code",
   "execution_count": null,
   "metadata": {},
   "outputs": [],
   "source": [
    "\"https://t.me/barbacane\""
   ]
  },
  {
   "cell_type": "code",
   "execution_count": 40,
   "metadata": {},
   "outputs": [
    {
     "ename": "OperationalError",
     "evalue": "database is locked",
     "output_type": "error",
     "traceback": [
      "\u001b[0;31m---------------------------------------------------------------------------\u001b[0m",
      "\u001b[0;31mOperationalError\u001b[0m                          Traceback (most recent call last)",
      "\u001b[0;32m<ipython-input-40-f204e5205229>\u001b[0m in \u001b[0;36m<module>\u001b[0;34m\u001b[0m\n\u001b[1;32m      1\u001b[0m \u001b[0;32mfrom\u001b[0m \u001b[0mtelethon\u001b[0m\u001b[0;34m.\u001b[0m\u001b[0msync\u001b[0m \u001b[0;32mimport\u001b[0m \u001b[0mTelegramClient\u001b[0m\u001b[0;34m\u001b[0m\u001b[0;34m\u001b[0m\u001b[0m\n\u001b[1;32m      2\u001b[0m \u001b[0;34m\u001b[0m\u001b[0m\n\u001b[0;32m----> 3\u001b[0;31m \u001b[0;32mwith\u001b[0m \u001b[0mTelegramClient\u001b[0m\u001b[0;34m(\u001b[0m\u001b[0musername\u001b[0m\u001b[0;34m,\u001b[0m \u001b[0mapi_id\u001b[0m\u001b[0;34m,\u001b[0m \u001b[0mapi_hash\u001b[0m\u001b[0;34m)\u001b[0m \u001b[0;32mas\u001b[0m \u001b[0mclient\u001b[0m\u001b[0;34m:\u001b[0m\u001b[0;34m\u001b[0m\u001b[0;34m\u001b[0m\u001b[0m\n\u001b[0m\u001b[1;32m      4\u001b[0m     \u001b[0;32mfor\u001b[0m \u001b[0mmessage\u001b[0m \u001b[0;32min\u001b[0m \u001b[0mclient\u001b[0m\u001b[0;34m.\u001b[0m\u001b[0miter_messages\u001b[0m\u001b[0;34m(\u001b[0m\u001b[0;34m\"barbacane\"\u001b[0m\u001b[0;34m)\u001b[0m\u001b[0;34m:\u001b[0m\u001b[0;34m\u001b[0m\u001b[0;34m\u001b[0m\u001b[0m\n\u001b[1;32m      5\u001b[0m         \u001b[0mprint\u001b[0m\u001b[0;34m(\u001b[0m\u001b[0mmessage\u001b[0m\u001b[0;34m.\u001b[0m\u001b[0msender_id\u001b[0m\u001b[0;34m,\u001b[0m \u001b[0;34m':'\u001b[0m\u001b[0;34m,\u001b[0m \u001b[0mmessage\u001b[0m\u001b[0;34m.\u001b[0m\u001b[0mtext\u001b[0m\u001b[0;34m)\u001b[0m\u001b[0;34m\u001b[0m\u001b[0;34m\u001b[0m\u001b[0m\n",
      "\u001b[0;32m~/anaconda3/lib/python3.7/site-packages/telethon/client/telegrambaseclient.py\u001b[0m in \u001b[0;36m__init__\u001b[0;34m(self, session, api_id, api_hash, connection, use_ipv6, proxy, timeout, request_retries, connection_retries, retry_delay, auto_reconnect, sequential_updates, flood_sleep_threshold, device_model, system_version, app_version, lang_code, system_lang_code, loop, base_logger)\u001b[0m\n\u001b[1;32m    270\u001b[0m                 \u001b[0mDEFAULT_DC_ID\u001b[0m\u001b[0;34m,\u001b[0m\u001b[0;34m\u001b[0m\u001b[0;34m\u001b[0m\u001b[0m\n\u001b[1;32m    271\u001b[0m                 \u001b[0mDEFAULT_IPV6_IP\u001b[0m \u001b[0;32mif\u001b[0m \u001b[0mself\u001b[0m\u001b[0;34m.\u001b[0m\u001b[0m_use_ipv6\u001b[0m \u001b[0;32melse\u001b[0m \u001b[0mDEFAULT_IPV4_IP\u001b[0m\u001b[0;34m,\u001b[0m\u001b[0;34m\u001b[0m\u001b[0;34m\u001b[0m\u001b[0m\n\u001b[0;32m--> 272\u001b[0;31m                 \u001b[0mDEFAULT_PORT\u001b[0m\u001b[0;34m\u001b[0m\u001b[0;34m\u001b[0m\u001b[0m\n\u001b[0m\u001b[1;32m    273\u001b[0m             )\n\u001b[1;32m    274\u001b[0m \u001b[0;34m\u001b[0m\u001b[0m\n",
      "\u001b[0;32m~/anaconda3/lib/python3.7/site-packages/telethon/sessions/sqlite.py\u001b[0m in \u001b[0;36mset_dc\u001b[0;34m(self, dc_id, server_address, port)\u001b[0m\n\u001b[1;32m    161\u001b[0m     \u001b[0;32mdef\u001b[0m \u001b[0mset_dc\u001b[0m\u001b[0;34m(\u001b[0m\u001b[0mself\u001b[0m\u001b[0;34m,\u001b[0m \u001b[0mdc_id\u001b[0m\u001b[0;34m,\u001b[0m \u001b[0mserver_address\u001b[0m\u001b[0;34m,\u001b[0m \u001b[0mport\u001b[0m\u001b[0;34m)\u001b[0m\u001b[0;34m:\u001b[0m\u001b[0;34m\u001b[0m\u001b[0;34m\u001b[0m\u001b[0m\n\u001b[1;32m    162\u001b[0m         \u001b[0msuper\u001b[0m\u001b[0;34m(\u001b[0m\u001b[0;34m)\u001b[0m\u001b[0;34m.\u001b[0m\u001b[0mset_dc\u001b[0m\u001b[0;34m(\u001b[0m\u001b[0mdc_id\u001b[0m\u001b[0;34m,\u001b[0m \u001b[0mserver_address\u001b[0m\u001b[0;34m,\u001b[0m \u001b[0mport\u001b[0m\u001b[0;34m)\u001b[0m\u001b[0;34m\u001b[0m\u001b[0;34m\u001b[0m\u001b[0m\n\u001b[0;32m--> 163\u001b[0;31m         \u001b[0mself\u001b[0m\u001b[0;34m.\u001b[0m\u001b[0m_update_session_table\u001b[0m\u001b[0;34m(\u001b[0m\u001b[0;34m)\u001b[0m\u001b[0;34m\u001b[0m\u001b[0;34m\u001b[0m\u001b[0m\n\u001b[0m\u001b[1;32m    164\u001b[0m \u001b[0;34m\u001b[0m\u001b[0m\n\u001b[1;32m    165\u001b[0m         \u001b[0;31m# Fetch the auth_key corresponding to this data center\u001b[0m\u001b[0;34m\u001b[0m\u001b[0;34m\u001b[0m\u001b[0;34m\u001b[0m\u001b[0m\n",
      "\u001b[0;32m~/anaconda3/lib/python3.7/site-packages/telethon/sessions/sqlite.py\u001b[0m in \u001b[0;36m_update_session_table\u001b[0;34m(self)\u001b[0m\n\u001b[1;32m    187\u001b[0m         \u001b[0;31m# some more work before being able to save auth_key's for\u001b[0m\u001b[0;34m\u001b[0m\u001b[0;34m\u001b[0m\u001b[0;34m\u001b[0m\u001b[0m\n\u001b[1;32m    188\u001b[0m         \u001b[0;31m# multiple DCs. Probably done differently.\u001b[0m\u001b[0;34m\u001b[0m\u001b[0;34m\u001b[0m\u001b[0;34m\u001b[0m\u001b[0m\n\u001b[0;32m--> 189\u001b[0;31m         \u001b[0mc\u001b[0m\u001b[0;34m.\u001b[0m\u001b[0mexecute\u001b[0m\u001b[0;34m(\u001b[0m\u001b[0;34m'delete from sessions'\u001b[0m\u001b[0;34m)\u001b[0m\u001b[0;34m\u001b[0m\u001b[0;34m\u001b[0m\u001b[0m\n\u001b[0m\u001b[1;32m    190\u001b[0m         c.execute('insert or replace into sessions values (?,?,?,?,?)', (\n\u001b[1;32m    191\u001b[0m             \u001b[0mself\u001b[0m\u001b[0;34m.\u001b[0m\u001b[0m_dc_id\u001b[0m\u001b[0;34m,\u001b[0m\u001b[0;34m\u001b[0m\u001b[0;34m\u001b[0m\u001b[0m\n",
      "\u001b[0;31mOperationalError\u001b[0m: database is locked"
     ]
    }
   ],
   "source": [
    "from telethon.sync import TelegramClient\n",
    "\n",
    "with TelegramClient(username, api_id, api_hash) as client:\n",
    "    for message in client.iter_messages(\"barbacane\"):\n",
    "        print(message.sender_id, ':', message.text)"
   ]
  },
  {
   "cell_type": "code",
   "execution_count": null,
   "metadata": {},
   "outputs": [],
   "source": []
  },
  {
   "cell_type": "code",
   "execution_count": 34,
   "metadata": {},
   "outputs": [
    {
     "ename": "AttributeError",
     "evalue": "'coroutine' object has no attribute 'messages'",
     "output_type": "error",
     "traceback": [
      "\u001b[0;31m---------------------------------------------------------------------------\u001b[0m",
      "\u001b[0;31mAttributeError\u001b[0m                            Traceback (most recent call last)",
      "\u001b[0;32m<ipython-input-34-1b0611311349>\u001b[0m in \u001b[0;36m<module>\u001b[0;34m\u001b[0m\n\u001b[0;32m----> 1\u001b[0;31m \u001b[0;32mfor\u001b[0m \u001b[0mmessage\u001b[0m \u001b[0;32min\u001b[0m \u001b[0mposts\u001b[0m\u001b[0;34m.\u001b[0m\u001b[0mmessages\u001b[0m\u001b[0;34m:\u001b[0m\u001b[0;34m\u001b[0m\u001b[0;34m\u001b[0m\u001b[0m\n\u001b[0m\u001b[1;32m      2\u001b[0m     \u001b[0mprint\u001b[0m\u001b[0;34m(\u001b[0m\u001b[0mmessage\u001b[0m\u001b[0;34m.\u001b[0m\u001b[0mmessage\u001b[0m\u001b[0;34m)\u001b[0m\u001b[0;34m\u001b[0m\u001b[0;34m\u001b[0m\u001b[0m\n",
      "\u001b[0;31mAttributeError\u001b[0m: 'coroutine' object has no attribute 'messages'"
     ]
    }
   ],
   "source": [
    "for message in posts.messages: \n",
    "    print(message.message) "
   ]
  },
  {
   "cell_type": "code",
   "execution_count": null,
   "metadata": {},
   "outputs": [],
   "source": []
  }
 ],
 "metadata": {
  "kernelspec": {
   "display_name": "Python 3",
   "language": "python",
   "name": "python3"
  },
  "language_info": {
   "codemirror_mode": {
    "name": "ipython",
    "version": 3
   },
   "file_extension": ".py",
   "mimetype": "text/x-python",
   "name": "python",
   "nbconvert_exporter": "python",
   "pygments_lexer": "ipython3",
   "version": "3.7.3"
  }
 },
 "nbformat": 4,
 "nbformat_minor": 2
}
