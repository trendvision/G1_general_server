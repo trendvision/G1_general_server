{
 "cells": [
  {
   "cell_type": "code",
   "execution_count": 4,
   "metadata": {},
   "outputs": [],
   "source": [
    "from collections import Counter"
   ]
  },
  {
   "cell_type": "code",
   "execution_count": 2,
   "metadata": {},
   "outputs": [
    {
     "ename": "TimeoutError",
     "evalue": "(9, 'Client timeout: socket=30000 total=1000 iterations=1 lastNode=35.228.136.58:3000', 'src/main/client/get.c', 113, False)",
     "output_type": "error",
     "traceback": [
      "\u001b[0;31m---------------------------------------------------------------------------\u001b[0m",
      "\u001b[0;31mTimeoutError\u001b[0m                              Traceback (most recent call last)",
      "\u001b[0;32m<ipython-input-2-47d97b99dca1>\u001b[0m in \u001b[0;36m<module>\u001b[0;34m\u001b[0m\n\u001b[1;32m     12\u001b[0m \u001b[0mbert_data_key\u001b[0m \u001b[0;34m=\u001b[0m \u001b[0;34m(\u001b[0m\u001b[0;34m\"ids_to_validate\"\u001b[0m\u001b[0;34m,\u001b[0m \u001b[0;34m\"data\"\u001b[0m\u001b[0;34m,\u001b[0m \u001b[0;34m\"bert_tags\"\u001b[0m\u001b[0;34m)\u001b[0m\u001b[0;34m\u001b[0m\u001b[0;34m\u001b[0m\u001b[0m\n\u001b[1;32m     13\u001b[0m \u001b[0;34m\u001b[0m\u001b[0m\n\u001b[0;32m---> 14\u001b[0;31m \u001b[0mtags_dictionary\u001b[0m \u001b[0;34m=\u001b[0m \u001b[0mclient\u001b[0m\u001b[0;34m.\u001b[0m\u001b[0mget\u001b[0m\u001b[0;34m(\u001b[0m\u001b[0mdata_as_key\u001b[0m\u001b[0;34m)\u001b[0m\u001b[0;34m[\u001b[0m\u001b[0;34m-\u001b[0m\u001b[0;36m1\u001b[0m\u001b[0;34m]\u001b[0m\u001b[0;34m[\u001b[0m\u001b[0;34m'tags'\u001b[0m\u001b[0;34m]\u001b[0m\u001b[0;34m\u001b[0m\u001b[0;34m\u001b[0m\u001b[0m\n\u001b[0m\u001b[1;32m     15\u001b[0m \u001b[0mguten_tag_labels\u001b[0m \u001b[0;34m=\u001b[0m \u001b[0mclient\u001b[0m\u001b[0;34m.\u001b[0m\u001b[0mget\u001b[0m\u001b[0;34m(\u001b[0m\u001b[0mbert_data_key\u001b[0m\u001b[0;34m)\u001b[0m\u001b[0;34m[\u001b[0m\u001b[0;34m-\u001b[0m\u001b[0;36m1\u001b[0m\u001b[0;34m]\u001b[0m\u001b[0;34m[\u001b[0m\u001b[0;34m\"gutenTag\"\u001b[0m\u001b[0;34m]\u001b[0m\u001b[0;34m\u001b[0m\u001b[0;34m\u001b[0m\u001b[0m\n\u001b[1;32m     16\u001b[0m \u001b[0mcategories_tag_labels\u001b[0m \u001b[0;34m=\u001b[0m \u001b[0mclient\u001b[0m\u001b[0;34m.\u001b[0m\u001b[0mget\u001b[0m\u001b[0;34m(\u001b[0m\u001b[0mbert_data_key\u001b[0m\u001b[0;34m)\u001b[0m\u001b[0;34m[\u001b[0m\u001b[0;34m-\u001b[0m\u001b[0;36m1\u001b[0m\u001b[0;34m]\u001b[0m\u001b[0;34m[\u001b[0m\u001b[0;34m\"categories_tags\"\u001b[0m\u001b[0;34m]\u001b[0m\u001b[0;34m\u001b[0m\u001b[0;34m\u001b[0m\u001b[0m\n",
      "\u001b[0;31mTimeoutError\u001b[0m: (9, 'Client timeout: socket=30000 total=1000 iterations=1 lastNode=35.228.136.58:3000', 'src/main/client/get.c', 113, False)"
     ]
    }
   ],
   "source": [
    "import aerospike\n",
    "config = {\n",
    "    'hosts': [('35.228.136.58', 3000)]\n",
    "}\n",
    "client = aerospike.client(config).connect()\n",
    "data_as_key = (\"ids_to_validate\", \"data\", \"data\")\n",
    "\n",
    "\n",
    "# tags_data = client.get(bert_data_key)[-1]\n",
    "# labels_for_train = tags_data[\"gutenTag\"]\n",
    "# print(len(labels_for_train))\n",
    "bert_data_key = (\"ids_to_validate\", \"data\", \"bert_tags\")\n",
    "\n",
    "tags_dictionary = client.get(data_as_key)[-1]['tags']\n",
    "guten_tag_labels = client.get(bert_data_key)[-1][\"gutenTag\"]\n",
    "categories_tag_labels = client.get(bert_data_key)[-1][\"categories_tags\"]"
   ]
  },
  {
   "cell_type": "code",
   "execution_count": 5,
   "metadata": {},
   "outputs": [],
   "source": [
    "import pandas as pd\n",
    "import bson\n",
    "import pymongo\n",
    "from tqdm import tqdm\n",
    "username = \"tagger-admin\"\n",
    "password = \"tvaiadmin\"\n",
    "db_client = pymongo.MongoClient('104.198.62.226', username=username,\n",
    "                                password=password,\n",
    "                                authSource='tags',\n",
    "                                authMechanism='SCRAM-SHA-256', port=27017).tags"
   ]
  },
  {
   "cell_type": "code",
   "execution_count": 45,
   "metadata": {},
   "outputs": [
    {
     "ename": "NameError",
     "evalue": "name 'data_as_key' is not defined",
     "output_type": "error",
     "traceback": [
      "\u001b[0;31m---------------------------------------------------------------------------\u001b[0m",
      "\u001b[0;31mNameError\u001b[0m                                 Traceback (most recent call last)",
      "\u001b[0;32m<ipython-input-45-34824c78146b>\u001b[0m in \u001b[0;36m<module>\u001b[0;34m\u001b[0m\n\u001b[1;32m      1\u001b[0m \u001b[0mbert_data_key\u001b[0m \u001b[0;34m=\u001b[0m \u001b[0;34m(\u001b[0m\u001b[0;34m\"ids_to_validate\"\u001b[0m\u001b[0;34m,\u001b[0m \u001b[0;34m\"data\"\u001b[0m\u001b[0;34m,\u001b[0m \u001b[0;34m\"bert_tags\"\u001b[0m\u001b[0;34m)\u001b[0m\u001b[0;34m\u001b[0m\u001b[0;34m\u001b[0m\u001b[0m\n\u001b[1;32m      2\u001b[0m \u001b[0;34m\u001b[0m\u001b[0m\n\u001b[0;32m----> 3\u001b[0;31m \u001b[0mtags_dictionary\u001b[0m \u001b[0;34m=\u001b[0m \u001b[0mclient\u001b[0m\u001b[0;34m.\u001b[0m\u001b[0mget\u001b[0m\u001b[0;34m(\u001b[0m\u001b[0mdata_as_key\u001b[0m\u001b[0;34m)\u001b[0m\u001b[0;34m[\u001b[0m\u001b[0;34m-\u001b[0m\u001b[0;36m1\u001b[0m\u001b[0;34m]\u001b[0m\u001b[0;34m[\u001b[0m\u001b[0;34m'tags'\u001b[0m\u001b[0;34m]\u001b[0m\u001b[0;34m\u001b[0m\u001b[0;34m\u001b[0m\u001b[0m\n\u001b[0m\u001b[1;32m      4\u001b[0m \u001b[0mguten_tag_labels\u001b[0m \u001b[0;34m=\u001b[0m \u001b[0mclient\u001b[0m\u001b[0;34m.\u001b[0m\u001b[0mget\u001b[0m\u001b[0;34m(\u001b[0m\u001b[0mbert_data_key\u001b[0m\u001b[0;34m)\u001b[0m\u001b[0;34m[\u001b[0m\u001b[0;34m-\u001b[0m\u001b[0;36m1\u001b[0m\u001b[0;34m]\u001b[0m\u001b[0;34m[\u001b[0m\u001b[0;34m\"gutenTag\"\u001b[0m\u001b[0;34m]\u001b[0m\u001b[0;34m\u001b[0m\u001b[0;34m\u001b[0m\u001b[0m\n\u001b[1;32m      5\u001b[0m \u001b[0mcategories_tag_labels\u001b[0m \u001b[0;34m=\u001b[0m \u001b[0mclient\u001b[0m\u001b[0;34m.\u001b[0m\u001b[0mget\u001b[0m\u001b[0;34m(\u001b[0m\u001b[0mbert_data_key\u001b[0m\u001b[0;34m)\u001b[0m\u001b[0;34m[\u001b[0m\u001b[0;34m-\u001b[0m\u001b[0;36m1\u001b[0m\u001b[0;34m]\u001b[0m\u001b[0;34m[\u001b[0m\u001b[0;34m\"categories_tags\"\u001b[0m\u001b[0;34m]\u001b[0m\u001b[0;34m\u001b[0m\u001b[0;34m\u001b[0m\u001b[0m\n",
      "\u001b[0;31mNameError\u001b[0m: name 'data_as_key' is not defined"
     ]
    }
   ],
   "source": []
  },
  {
   "cell_type": "code",
   "execution_count": 5,
   "metadata": {},
   "outputs": [
    {
     "data": {
      "text/html": [
       "<div>\n",
       "<style scoped>\n",
       "    .dataframe tbody tr th:only-of-type {\n",
       "        vertical-align: middle;\n",
       "    }\n",
       "\n",
       "    .dataframe tbody tr th {\n",
       "        vertical-align: top;\n",
       "    }\n",
       "\n",
       "    .dataframe thead th {\n",
       "        text-align: right;\n",
       "    }\n",
       "</style>\n",
       "<table border=\"1\" class=\"dataframe\">\n",
       "  <thead>\n",
       "    <tr style=\"text-align: right;\">\n",
       "      <th></th>\n",
       "      <th>0</th>\n",
       "      <th>1</th>\n",
       "    </tr>\n",
       "  </thead>\n",
       "  <tbody>\n",
       "    <tr>\n",
       "      <th>265</th>\n",
       "      <td>blue economy</td>\n",
       "      <td>1</td>\n",
       "    </tr>\n",
       "    <tr>\n",
       "      <th>262</th>\n",
       "      <td>esports</td>\n",
       "      <td>1</td>\n",
       "    </tr>\n",
       "    <tr>\n",
       "      <th>264</th>\n",
       "      <td>nanotechnology</td>\n",
       "      <td>1</td>\n",
       "    </tr>\n",
       "    <tr>\n",
       "      <th>263</th>\n",
       "      <td>spin-off</td>\n",
       "      <td>1</td>\n",
       "    </tr>\n",
       "    <tr>\n",
       "      <th>261</th>\n",
       "      <td>neuroscience</td>\n",
       "      <td>2</td>\n",
       "    </tr>\n",
       "    <tr>\n",
       "      <th>...</th>\n",
       "      <td>...</td>\n",
       "      <td>...</td>\n",
       "    </tr>\n",
       "    <tr>\n",
       "      <th>115</th>\n",
       "      <td>pharmaceutical industry</td>\n",
       "      <td>94</td>\n",
       "    </tr>\n",
       "    <tr>\n",
       "      <th>114</th>\n",
       "      <td>legal</td>\n",
       "      <td>94</td>\n",
       "    </tr>\n",
       "    <tr>\n",
       "      <th>113</th>\n",
       "      <td>innovation</td>\n",
       "      <td>95</td>\n",
       "    </tr>\n",
       "    <tr>\n",
       "      <th>112</th>\n",
       "      <td>app</td>\n",
       "      <td>96</td>\n",
       "    </tr>\n",
       "    <tr>\n",
       "      <th>111</th>\n",
       "      <td>logistics</td>\n",
       "      <td>99</td>\n",
       "    </tr>\n",
       "  </tbody>\n",
       "</table>\n",
       "<p>155 rows × 2 columns</p>\n",
       "</div>"
      ],
      "text/plain": [
       "                           0   1\n",
       "265             blue economy   1\n",
       "262                  esports   1\n",
       "264           nanotechnology   1\n",
       "263                 spin-off   1\n",
       "261             neuroscience   2\n",
       "..                       ...  ..\n",
       "115  pharmaceutical industry  94\n",
       "114                    legal  94\n",
       "113               innovation  95\n",
       "112                      app  96\n",
       "111                logistics  99\n",
       "\n",
       "[155 rows x 2 columns]"
      ]
     },
     "execution_count": 5,
     "metadata": {},
     "output_type": "execute_result"
    }
   ],
   "source": [
    "weak_tags = cat_tags[cat_tags[1]<=100].sort_values(by=[1])\n",
    "weak_tags"
   ]
  },
  {
   "cell_type": "code",
   "execution_count": null,
   "metadata": {},
   "outputs": [],
   "source": []
  },
  {
   "cell_type": "code",
   "execution_count": 6,
   "metadata": {},
   "outputs": [
    {
     "data": {
      "text/plain": [
       "array(['blue economy', 'esports', 'nanotechnology', 'spin-off',\n",
       "       'neuroscience', 'sharing economy', 'sheep', 'biometrics',\n",
       "       'digital health', 'quantum computing', 'insider activity',\n",
       "       'packaging', 'smart home', 'mobile gaming', 'saas',\n",
       "       'augmented reality', 'refugees', 'vegetarianism', 'recycling',\n",
       "       'autonomous vehicles', '3d printing', 'drones', 'tuberculosis',\n",
       "       'obesity', 'iot', 'urbanization', 'telemedicine', 'sustainability',\n",
       "       'crowdfunding', 'aids', 'deflation', 'sanctions',\n",
       "       'quantitative tightening', 'diabetes', 'teens', 'machine learning',\n",
       "       'football', 'charity', 'virtual reality', 'genetics',\n",
       "       'car sharing', 'jewelry', 'psychology', 'plastics', '5g',\n",
       "       'biofuel', 'building materials', 'smart speaker', 'unicorns',\n",
       "       'fmcg', 'pension funds', 'home & decor', 'mid caps', 'guns',\n",
       "       'virtual assistant', 'wearables', 'blockchain',\n",
       "       'intellectual property', 'books', 'esg', 'student loan',\n",
       "       'auto loan', 'geothermal', 'waste', 'lifestyle', 'biomass',\n",
       "       'robotics', 'religion', 'fashion', 'repo', 'cancer', 'water',\n",
       "       'generation z', 'radio', 'ageing', 'tobacco', 'mobile payments',\n",
       "       'semiconductors', 'aerospace', 'brexit', 'culture',\n",
       "       'life expectancy', 'private equity', 'art', 'default',\n",
       "       'cyber security', 'retirement', 'biotech', 'luxury', 'terrorism',\n",
       "       'credit card', 'digital media', 'disasters', 'film industry',\n",
       "       'delivery', 'bankruptcy', 'generation x', 'ipo',\n",
       "       'quantitative easing', 'buyback', 'small caps', 'hardware', 'm&a',\n",
       "       'batteries', 'poverty', 'tariffs', 'foreign investment',\n",
       "       'trade war', 'subscriptions', 'artificial intelligence',\n",
       "       'nonfarm payrolls', 'boomers', 'infrastructure', 'startups',\n",
       "       'bear market', 'fintech', 'bull market', 'war', 'venture',\n",
       "       'hedge funds', 'marine', 'savings', 'wireless', 'volatility',\n",
       "       'hydro', 'music', 'millennials', 'bubble', 'payments',\n",
       "       'geopolitics', 'chemical', 'migration', 'crimes', 'social justice',\n",
       "       'apparel', 'software', 'shopping', 'dividends', 'cloud', 'meat',\n",
       "       'deficit', 'children', 'materials', 'high yield', 'cryptocurrency',\n",
       "       'data', 'restaurants', 'futures', 'wind power', 'nuclear power',\n",
       "       'pharmaceutical industry', 'legal', 'innovation', 'app',\n",
       "       'logistics'], dtype=object)"
      ]
     },
     "execution_count": 6,
     "metadata": {},
     "output_type": "execute_result"
    }
   ],
   "source": [
    "weak_tags[0].values"
   ]
  },
  {
   "cell_type": "code",
   "execution_count": 7,
   "metadata": {},
   "outputs": [],
   "source": [
    "import re"
   ]
  },
  {
   "cell_type": "code",
   "execution_count": 8,
   "metadata": {},
   "outputs": [],
   "source": [
    "def find_by_word(text):\n",
    "    tags_found = []\n",
    "    for row in weak_tags[0].values:\n",
    "        if re.search(\" \"+ row + \" \", text):\n",
    "            tags_found.append(row)\n",
    "    return tags_found"
   ]
  },
  {
   "cell_type": "code",
   "execution_count": 9,
   "metadata": {},
   "outputs": [],
   "source": [
    "def find_by_model(model):\n",
    "    return list(set(weak_tags[0].values).intersection(set(model)))"
   ]
  },
  {
   "cell_type": "code",
   "execution_count": 10,
   "metadata": {},
   "outputs": [
    {
     "name": "stderr",
     "output_type": "stream",
     "text": [
      "/home/ubuntu/anaconda3/lib/python3.7/site-packages/ipykernel_launcher.py:11: DeprecationWarning: count is deprecated. Use Collection.count_documents instead.\n",
      "  # This is added back by InteractiveShellApp.init_path()\n",
      "100%|██████████| 13882/13882 [00:04<00:00, 3070.90it/s]\n"
     ]
    }
   ],
   "source": [
    "data_for_check = []\n",
    "db = db_client[\"tweets_pipeline_v2\"].find({\"$or\":[\n",
    "#                                                     {\"status\": \"pipelined\"},                                                                                                                        \n",
    "                                                      {\"status\": \"reserved\"},                                                       \n",
    "                                                 ],\n",
    "                                                   \"extracted_text\": {\"$exists\": True},                                               \n",
    "#                                                'tweet_timestamp': {'$gte': datetime(2020,2,4)} #algoStarts                                              \n",
    "                                          }, no_cursor_timeout=True)\n",
    "\n",
    "\n",
    "for i in tqdm(db, total = db.count()):\n",
    "    _id = str(i[\"_id\"])\n",
    "    text = i[\"extracted_text\"].lower()    \n",
    "    if len(text) > 0:\n",
    "        tags_found = []\n",
    "        tags_found += find_by_word(text)\n",
    "        tags_found += find_by_model(i[\"bert_tags\"])\n",
    "        tags_found = list(set(tags_found))\n",
    "        if tags_found:\n",
    "            data_for_check.append([_id, tags_found])"
   ]
  },
  {
   "cell_type": "code",
   "execution_count": 11,
   "metadata": {},
   "outputs": [],
   "source": [
    "data_for_check = pd.DataFrame(data_for_check)"
   ]
  },
  {
   "cell_type": "code",
   "execution_count": 12,
   "metadata": {},
   "outputs": [
    {
     "data": {
      "text/html": [
       "<div>\n",
       "<style scoped>\n",
       "    .dataframe tbody tr th:only-of-type {\n",
       "        vertical-align: middle;\n",
       "    }\n",
       "\n",
       "    .dataframe tbody tr th {\n",
       "        vertical-align: top;\n",
       "    }\n",
       "\n",
       "    .dataframe thead th {\n",
       "        text-align: right;\n",
       "    }\n",
       "</style>\n",
       "<table border=\"1\" class=\"dataframe\">\n",
       "  <thead>\n",
       "    <tr style=\"text-align: right;\">\n",
       "      <th></th>\n",
       "      <th>0</th>\n",
       "      <th>1</th>\n",
       "    </tr>\n",
       "  </thead>\n",
       "  <tbody>\n",
       "    <tr>\n",
       "      <th>0</th>\n",
       "      <td>5dd12d5eedee5484619cc2bc</td>\n",
       "      <td>[data]</td>\n",
       "    </tr>\n",
       "    <tr>\n",
       "      <th>1</th>\n",
       "      <td>5dd12d8dedee5484619cc2ea</td>\n",
       "      <td>[futures]</td>\n",
       "    </tr>\n",
       "    <tr>\n",
       "      <th>2</th>\n",
       "      <td>5dd1320bedee5484619cc42e</td>\n",
       "      <td>[futures]</td>\n",
       "    </tr>\n",
       "    <tr>\n",
       "      <th>3</th>\n",
       "      <td>5dd163f6e008481920c29ea1</td>\n",
       "      <td>[life expectancy, data]</td>\n",
       "    </tr>\n",
       "    <tr>\n",
       "      <th>4</th>\n",
       "      <td>5dd1a081ff336ebb4bcdd4ed</td>\n",
       "      <td>[data]</td>\n",
       "    </tr>\n",
       "    <tr>\n",
       "      <th>...</th>\n",
       "      <td>...</td>\n",
       "      <td>...</td>\n",
       "    </tr>\n",
       "    <tr>\n",
       "      <th>3855</th>\n",
       "      <td>5ed9355537768501d68044e5</td>\n",
       "      <td>[venture]</td>\n",
       "    </tr>\n",
       "    <tr>\n",
       "      <th>3856</th>\n",
       "      <td>5ed935ad17e2d04e95d95663</td>\n",
       "      <td>[data]</td>\n",
       "    </tr>\n",
       "    <tr>\n",
       "      <th>3857</th>\n",
       "      <td>5ed93686ecd46cf6e2b98666</td>\n",
       "      <td>[high yield]</td>\n",
       "    </tr>\n",
       "    <tr>\n",
       "      <th>3858</th>\n",
       "      <td>5ed939abb8da5454053954c3</td>\n",
       "      <td>[batteries]</td>\n",
       "    </tr>\n",
       "    <tr>\n",
       "      <th>3859</th>\n",
       "      <td>5ed93f81c7b1cc3f48e18e17</td>\n",
       "      <td>[data]</td>\n",
       "    </tr>\n",
       "  </tbody>\n",
       "</table>\n",
       "<p>3860 rows × 2 columns</p>\n",
       "</div>"
      ],
      "text/plain": [
       "                             0                        1\n",
       "0     5dd12d5eedee5484619cc2bc                   [data]\n",
       "1     5dd12d8dedee5484619cc2ea                [futures]\n",
       "2     5dd1320bedee5484619cc42e                [futures]\n",
       "3     5dd163f6e008481920c29ea1  [life expectancy, data]\n",
       "4     5dd1a081ff336ebb4bcdd4ed                   [data]\n",
       "...                        ...                      ...\n",
       "3855  5ed9355537768501d68044e5                [venture]\n",
       "3856  5ed935ad17e2d04e95d95663                   [data]\n",
       "3857  5ed93686ecd46cf6e2b98666             [high yield]\n",
       "3858  5ed939abb8da5454053954c3              [batteries]\n",
       "3859  5ed93f81c7b1cc3f48e18e17                   [data]\n",
       "\n",
       "[3860 rows x 2 columns]"
      ]
     },
     "execution_count": 12,
     "metadata": {},
     "output_type": "execute_result"
    }
   ],
   "source": [
    "data_for_check"
   ]
  },
  {
   "cell_type": "code",
   "execution_count": 13,
   "metadata": {},
   "outputs": [],
   "source": [
    "collector = []\n",
    "for row in data_for_check[1].values:\n",
    "    collector += row"
   ]
  },
  {
   "cell_type": "code",
   "execution_count": 14,
   "metadata": {},
   "outputs": [
    {
     "data": {
      "text/plain": [
       "{'data': 1139,\n",
       " 'volatility': 139,\n",
       " 'futures': 137,\n",
       " 'high yield': 133,\n",
       " 'cryptocurrency': 128,\n",
       " 'migration': 127,\n",
       " 'payments': 108,\n",
       " 'bubble': 107,\n",
       " 'venture': 107,\n",
       " 'wind power': 104,\n",
       " 'deficit': 88,\n",
       " 'fintech': 85,\n",
       " 'bull market': 82,\n",
       " 'nuclear power': 78,\n",
       " 'startups': 76,\n",
       " 'dividends': 75,\n",
       " 'children': 74,\n",
       " 'app': 72,\n",
       " 'innovation': 71,\n",
       " 'crimes': 69,\n",
       " 'brexit': 66,\n",
       " 'hedge funds': 66,\n",
       " 'savings': 66,\n",
       " 'hydro': 65,\n",
       " 'bear market': 63,\n",
       " 'materials': 61,\n",
       " 'war': 56,\n",
       " 'poverty': 53,\n",
       " 'legal': 51,\n",
       " 'credit card': 49,\n",
       " 'software': 48,\n",
       " 'ipo': 47,\n",
       " 'millennials': 46,\n",
       " 'logistics': 42,\n",
       " 'infrastructure': 41,\n",
       " 'batteries': 39,\n",
       " 'tariffs': 39,\n",
       " 'apparel': 39,\n",
       " 'default': 38,\n",
       " 'nonfarm payrolls': 38,\n",
       " 'm&a': 38,\n",
       " 'mobile payments': 37,\n",
       " 'water': 34,\n",
       " 'small caps': 34,\n",
       " 'buyback': 34,\n",
       " 'wireless': 33,\n",
       " 'student loan': 33,\n",
       " 'retirement': 33,\n",
       " 'blockchain': 33,\n",
       " 'meat': 32,\n",
       " 'restaurants': 31,\n",
       " 'boomers': 30,\n",
       " 'quantitative easing': 30,\n",
       " 'music': 28,\n",
       " 'social justice': 28,\n",
       " 'delivery': 26,\n",
       " 'radio': 26,\n",
       " 'chemical': 26,\n",
       " 'cloud': 26,\n",
       " 'trade war': 24,\n",
       " 'foreign investment': 22,\n",
       " 'generation x': 22,\n",
       " 'shopping': 22,\n",
       " 'artificial intelligence': 22,\n",
       " 'luxury': 20,\n",
       " 'private equity': 20,\n",
       " 'auto loan': 20,\n",
       " 'terrorism': 19,\n",
       " 'tobacco': 18,\n",
       " 'pharmaceutical industry': 18,\n",
       " 'life expectancy': 17,\n",
       " 'robotics': 16,\n",
       " 'marine': 16,\n",
       " 'hardware': 15,\n",
       " 'intellectual property': 14,\n",
       " 'biotech': 14,\n",
       " 'semiconductors': 14,\n",
       " 'deflation': 14,\n",
       " 'books': 14,\n",
       " 'geothermal': 13,\n",
       " 'pension funds': 13,\n",
       " 'waste': 13,\n",
       " 'repo': 13,\n",
       " 'art': 12,\n",
       " 'bankruptcy': 12,\n",
       " 'refugees': 12,\n",
       " 'subscriptions': 12,\n",
       " 'biomass': 11,\n",
       " 'culture': 11,\n",
       " 'unicorns': 10,\n",
       " 'guns': 10,\n",
       " 'cancer': 10,\n",
       " 'crowdfunding': 9,\n",
       " 'disasters': 8,\n",
       " 'saas': 8,\n",
       " 'digital media': 7,\n",
       " 'cyber security': 7,\n",
       " '5g': 7,\n",
       " 'fashion': 7,\n",
       " 'lifestyle': 6,\n",
       " 'plastics': 6,\n",
       " 'iot': 6,\n",
       " 'football': 6,\n",
       " 'esg': 6,\n",
       " 'aerospace': 5,\n",
       " 'teens': 5,\n",
       " 'smart home': 5,\n",
       " 'film industry': 5,\n",
       " 'sustainability': 5,\n",
       " 'mid caps': 5,\n",
       " 'geopolitics': 5,\n",
       " 'jewelry': 5,\n",
       " 'building materials': 4,\n",
       " 'obesity': 4,\n",
       " 'recycling': 4,\n",
       " 'sanctions': 4,\n",
       " 'ageing': 4,\n",
       " 'packaging': 4,\n",
       " 'virtual reality': 3,\n",
       " 'religion': 3,\n",
       " 'diabetes': 3,\n",
       " 'wearables': 3,\n",
       " 'urbanization': 3,\n",
       " 'augmented reality': 3,\n",
       " 'machine learning': 3,\n",
       " 'spin-off': 2,\n",
       " 'fmcg': 2,\n",
       " 'generation z': 2,\n",
       " '3d printing': 2,\n",
       " 'virtual assistant': 2,\n",
       " 'drones': 2,\n",
       " 'psychology': 2,\n",
       " 'autonomous vehicles': 2,\n",
       " 'quantum computing': 2,\n",
       " 'charity': 1,\n",
       " 'genetics': 1,\n",
       " 'esports': 1,\n",
       " 'aids': 1,\n",
       " 'sharing economy': 1,\n",
       " 'biometrics': 1,\n",
       " 'insider activity': 1,\n",
       " 'tuberculosis': 1,\n",
       " 'smart speaker': 1}"
      ]
     },
     "execution_count": 14,
     "metadata": {},
     "output_type": "execute_result"
    }
   ],
   "source": [
    "counterDict = dict(Counter(collector).most_common())\n",
    "counterDict"
   ]
  },
  {
   "cell_type": "code",
   "execution_count": 15,
   "metadata": {},
   "outputs": [],
   "source": [
    "def apply_tag_summator(tags):\n",
    "    summator = 0\n",
    "    for tag in tags:\n",
    "        summator += counterDict[tag]\n",
    "    return summator"
   ]
  },
  {
   "cell_type": "code",
   "execution_count": 16,
   "metadata": {},
   "outputs": [],
   "source": [
    "data_for_check[\"summator\"] = data_for_check[1].apply(lambda x: apply_tag_summator(x))"
   ]
  },
  {
   "cell_type": "code",
   "execution_count": 17,
   "metadata": {},
   "outputs": [
    {
     "data": {
      "text/html": [
       "<div>\n",
       "<style scoped>\n",
       "    .dataframe tbody tr th:only-of-type {\n",
       "        vertical-align: middle;\n",
       "    }\n",
       "\n",
       "    .dataframe tbody tr th {\n",
       "        vertical-align: top;\n",
       "    }\n",
       "\n",
       "    .dataframe thead th {\n",
       "        text-align: right;\n",
       "    }\n",
       "</style>\n",
       "<table border=\"1\" class=\"dataframe\">\n",
       "  <thead>\n",
       "    <tr style=\"text-align: right;\">\n",
       "      <th></th>\n",
       "      <th>0</th>\n",
       "      <th>1</th>\n",
       "      <th>summator</th>\n",
       "    </tr>\n",
       "  </thead>\n",
       "  <tbody>\n",
       "    <tr>\n",
       "      <th>0</th>\n",
       "      <td>5e5e6be53ac6919839ea7c5f</td>\n",
       "      <td>[esports]</td>\n",
       "      <td>1</td>\n",
       "    </tr>\n",
       "    <tr>\n",
       "      <th>1</th>\n",
       "      <td>5ed8a5cf173ed06538360f59</td>\n",
       "      <td>[tuberculosis]</td>\n",
       "      <td>1</td>\n",
       "    </tr>\n",
       "    <tr>\n",
       "      <th>2</th>\n",
       "      <td>5ed0b20158ccd446da68c5a1</td>\n",
       "      <td>[insider activity]</td>\n",
       "      <td>1</td>\n",
       "    </tr>\n",
       "    <tr>\n",
       "      <th>3</th>\n",
       "      <td>5e047ad093eef01521fe8bc0</td>\n",
       "      <td>[fmcg]</td>\n",
       "      <td>2</td>\n",
       "    </tr>\n",
       "    <tr>\n",
       "      <th>4</th>\n",
       "      <td>5ed2738edc12488afcde2db8</td>\n",
       "      <td>[drones]</td>\n",
       "      <td>2</td>\n",
       "    </tr>\n",
       "    <tr>\n",
       "      <th>...</th>\n",
       "      <td>...</td>\n",
       "      <td>...</td>\n",
       "      <td>...</td>\n",
       "    </tr>\n",
       "    <tr>\n",
       "      <th>3855</th>\n",
       "      <td>5ed1eace84351bc0048edfda</td>\n",
       "      <td>[bear market, bull market, data, futures]</td>\n",
       "      <td>1421</td>\n",
       "    </tr>\n",
       "    <tr>\n",
       "      <th>3856</th>\n",
       "      <td>5df009188e6f3b7ab270a9ca</td>\n",
       "      <td>[futures, bull market, data, hedge funds]</td>\n",
       "      <td>1424</td>\n",
       "    </tr>\n",
       "    <tr>\n",
       "      <th>3857</th>\n",
       "      <td>5ed0bcd205408ab6a9726f52</td>\n",
       "      <td>[m&amp;a, venture, startups, data, fintech]</td>\n",
       "      <td>1445</td>\n",
       "    </tr>\n",
       "    <tr>\n",
       "      <th>3858</th>\n",
       "      <td>5ecf6ef9b66676166af63249</td>\n",
       "      <td>[bankruptcy, war, savings, bubble, brexit, data]</td>\n",
       "      <td>1446</td>\n",
       "    </tr>\n",
       "    <tr>\n",
       "      <th>3859</th>\n",
       "      <td>5e5fb9ef5c0bb42421d47133</td>\n",
       "      <td>[crowdfunding, futures, blockchain, payments, ...</td>\n",
       "      <td>1675</td>\n",
       "    </tr>\n",
       "  </tbody>\n",
       "</table>\n",
       "<p>3860 rows × 3 columns</p>\n",
       "</div>"
      ],
      "text/plain": [
       "                             0  \\\n",
       "0     5e5e6be53ac6919839ea7c5f   \n",
       "1     5ed8a5cf173ed06538360f59   \n",
       "2     5ed0b20158ccd446da68c5a1   \n",
       "3     5e047ad093eef01521fe8bc0   \n",
       "4     5ed2738edc12488afcde2db8   \n",
       "...                        ...   \n",
       "3855  5ed1eace84351bc0048edfda   \n",
       "3856  5df009188e6f3b7ab270a9ca   \n",
       "3857  5ed0bcd205408ab6a9726f52   \n",
       "3858  5ecf6ef9b66676166af63249   \n",
       "3859  5e5fb9ef5c0bb42421d47133   \n",
       "\n",
       "                                                      1  summator  \n",
       "0                                             [esports]         1  \n",
       "1                                        [tuberculosis]         1  \n",
       "2                                    [insider activity]         1  \n",
       "3                                                [fmcg]         2  \n",
       "4                                              [drones]         2  \n",
       "...                                                 ...       ...  \n",
       "3855          [bear market, bull market, data, futures]      1421  \n",
       "3856          [futures, bull market, data, hedge funds]      1424  \n",
       "3857            [m&a, venture, startups, data, fintech]      1445  \n",
       "3858   [bankruptcy, war, savings, bubble, brexit, data]      1446  \n",
       "3859  [crowdfunding, futures, blockchain, payments, ...      1675  \n",
       "\n",
       "[3860 rows x 3 columns]"
      ]
     },
     "execution_count": 17,
     "metadata": {},
     "output_type": "execute_result"
    }
   ],
   "source": [
    "data_for_check = data_for_check.sort_values(by=[\"summator\"])\n",
    "data_for_check = data_for_check.reset_index(drop=True)\n",
    "data_for_check"
   ]
  },
  {
   "cell_type": "code",
   "execution_count": 18,
   "metadata": {},
   "outputs": [
    {
     "data": {
      "text/plain": [
       "<matplotlib.axes._subplots.AxesSubplot at 0x7f6ca10f0a20>"
      ]
     },
     "execution_count": 18,
     "metadata": {},
     "output_type": "execute_result"
    },
    {
     "data": {
      "image/png": "[encoded data removed]",
      "text/plain": [
       "<Figure size 432x288 with 1 Axes>"
      ]
     },
     "metadata": {
      "needs_background": "light"
     },
     "output_type": "display_data"
    }
   ],
   "source": [
    "data_for_check[\"summator\"].plot.hist(bins=12, alpha=0.5)"
   ]
  },
  {
   "cell_type": "code",
   "execution_count": 19,
   "metadata": {},
   "outputs": [
    {
     "data": {
      "text/html": [
       "<div>\n",
       "<style scoped>\n",
       "    .dataframe tbody tr th:only-of-type {\n",
       "        vertical-align: middle;\n",
       "    }\n",
       "\n",
       "    .dataframe tbody tr th {\n",
       "        vertical-align: top;\n",
       "    }\n",
       "\n",
       "    .dataframe thead th {\n",
       "        text-align: right;\n",
       "    }\n",
       "</style>\n",
       "<table border=\"1\" class=\"dataframe\">\n",
       "  <thead>\n",
       "    <tr style=\"text-align: right;\">\n",
       "      <th></th>\n",
       "      <th>0</th>\n",
       "      <th>1</th>\n",
       "      <th>summator</th>\n",
       "    </tr>\n",
       "  </thead>\n",
       "  <tbody>\n",
       "    <tr>\n",
       "      <th>0</th>\n",
       "      <td>5e5e6be53ac6919839ea7c5f</td>\n",
       "      <td>[esports]</td>\n",
       "      <td>1</td>\n",
       "    </tr>\n",
       "    <tr>\n",
       "      <th>1</th>\n",
       "      <td>5ed8a5cf173ed06538360f59</td>\n",
       "      <td>[tuberculosis]</td>\n",
       "      <td>1</td>\n",
       "    </tr>\n",
       "    <tr>\n",
       "      <th>2</th>\n",
       "      <td>5ed0b20158ccd446da68c5a1</td>\n",
       "      <td>[insider activity]</td>\n",
       "      <td>1</td>\n",
       "    </tr>\n",
       "    <tr>\n",
       "      <th>3</th>\n",
       "      <td>5e047ad093eef01521fe8bc0</td>\n",
       "      <td>[fmcg]</td>\n",
       "      <td>2</td>\n",
       "    </tr>\n",
       "    <tr>\n",
       "      <th>4</th>\n",
       "      <td>5ed2738edc12488afcde2db8</td>\n",
       "      <td>[drones]</td>\n",
       "      <td>2</td>\n",
       "    </tr>\n",
       "    <tr>\n",
       "      <th>...</th>\n",
       "      <td>...</td>\n",
       "      <td>...</td>\n",
       "      <td>...</td>\n",
       "    </tr>\n",
       "    <tr>\n",
       "      <th>1592</th>\n",
       "      <td>5ed8081d977dad7d1a7ea2fd</td>\n",
       "      <td>[boomers, generation x, millennials, generatio...</td>\n",
       "      <td>100</td>\n",
       "    </tr>\n",
       "    <tr>\n",
       "      <th>1593</th>\n",
       "      <td>5ed82b27977dad7d1a7ea306</td>\n",
       "      <td>[app, shopping, lifestyle]</td>\n",
       "      <td>100</td>\n",
       "    </tr>\n",
       "    <tr>\n",
       "      <th>1594</th>\n",
       "      <td>5ed325ab325e55cffb3c7448</td>\n",
       "      <td>[small caps, hedge funds]</td>\n",
       "      <td>100</td>\n",
       "    </tr>\n",
       "    <tr>\n",
       "      <th>1595</th>\n",
       "      <td>5ecf0a474b10365c8882c9a0</td>\n",
       "      <td>[app, music]</td>\n",
       "      <td>100</td>\n",
       "    </tr>\n",
       "    <tr>\n",
       "      <th>1596</th>\n",
       "      <td>5e03d7103598ec378ea49975</td>\n",
       "      <td>[materials, batteries]</td>\n",
       "      <td>100</td>\n",
       "    </tr>\n",
       "  </tbody>\n",
       "</table>\n",
       "<p>1597 rows × 3 columns</p>\n",
       "</div>"
      ],
      "text/plain": [
       "                             0  \\\n",
       "0     5e5e6be53ac6919839ea7c5f   \n",
       "1     5ed8a5cf173ed06538360f59   \n",
       "2     5ed0b20158ccd446da68c5a1   \n",
       "3     5e047ad093eef01521fe8bc0   \n",
       "4     5ed2738edc12488afcde2db8   \n",
       "...                        ...   \n",
       "1592  5ed8081d977dad7d1a7ea2fd   \n",
       "1593  5ed82b27977dad7d1a7ea306   \n",
       "1594  5ed325ab325e55cffb3c7448   \n",
       "1595  5ecf0a474b10365c8882c9a0   \n",
       "1596  5e03d7103598ec378ea49975   \n",
       "\n",
       "                                                      1  summator  \n",
       "0                                             [esports]         1  \n",
       "1                                        [tuberculosis]         1  \n",
       "2                                    [insider activity]         1  \n",
       "3                                                [fmcg]         2  \n",
       "4                                              [drones]         2  \n",
       "...                                                 ...       ...  \n",
       "1592  [boomers, generation x, millennials, generatio...       100  \n",
       "1593                         [app, shopping, lifestyle]       100  \n",
       "1594                          [small caps, hedge funds]       100  \n",
       "1595                                       [app, music]       100  \n",
       "1596                             [materials, batteries]       100  \n",
       "\n",
       "[1597 rows x 3 columns]"
      ]
     },
     "execution_count": 19,
     "metadata": {},
     "output_type": "execute_result"
    }
   ],
   "source": [
    "data_for_check_weak = data_for_check[data_for_check[\"summator\"] <= 100]\n",
    "data_for_check_weak"
   ]
  },
  {
   "cell_type": "code",
   "execution_count": null,
   "metadata": {},
   "outputs": [],
   "source": []
  },
  {
   "cell_type": "code",
   "execution_count": null,
   "metadata": {},
   "outputs": [],
   "source": []
  },
  {
   "cell_type": "code",
   "execution_count": null,
   "metadata": {},
   "outputs": [],
   "source": []
  },
  {
   "cell_type": "code",
   "execution_count": null,
   "metadata": {},
   "outputs": [],
   "source": []
  },
  {
   "cell_type": "code",
   "execution_count": 20,
   "metadata": {},
   "outputs": [],
   "source": [
    "def weakTag(bson_id):\n",
    "#     print(bson_id)\n",
    "#     print(\"BEFORE:\", db_client[\"tweets_pipeline_v2\"].find_one({\"_id\":bson.ObjectId(bson_id)})[\"status\"])\n",
    "    db_client[\"tweets_pipeline_v2\"].update_one({\"_id\":bson.ObjectId(bson_id)},\n",
    "                                        {\"$set\":{\"weakTag\":True}})\n",
    "#     print(\"AFTER:\", db_client[\"tweets_pipeline_v2\"].find_one({\"_id\":bson.ObjectId(bson_id)})[\"status\"])"
   ]
  },
  {
   "cell_type": "code",
   "execution_count": 21,
   "metadata": {
    "scrolled": true
   },
   "outputs": [
    {
     "ename": "KeyboardInterrupt",
     "evalue": "",
     "output_type": "error",
     "traceback": [
      "\u001b[0;31m---------------------------------------------------------------------------\u001b[0m",
      "\u001b[0;31mKeyboardInterrupt\u001b[0m                         Traceback (most recent call last)",
      "\u001b[0;32m<ipython-input-21-d3890c90ae67>\u001b[0m in \u001b[0;36m<module>\u001b[0;34m\u001b[0m\n\u001b[1;32m      1\u001b[0m \u001b[0;32mfor\u001b[0m \u001b[0mindex\u001b[0m\u001b[0;34m,\u001b[0m \u001b[0mrow\u001b[0m \u001b[0;32min\u001b[0m \u001b[0mdata_for_check_weak\u001b[0m\u001b[0;34m.\u001b[0m\u001b[0miterrows\u001b[0m\u001b[0;34m(\u001b[0m\u001b[0;34m)\u001b[0m\u001b[0;34m:\u001b[0m\u001b[0;34m\u001b[0m\u001b[0;34m\u001b[0m\u001b[0m\n\u001b[1;32m      2\u001b[0m     \u001b[0m_id\u001b[0m \u001b[0;34m=\u001b[0m \u001b[0mrow\u001b[0m\u001b[0;34m[\u001b[0m\u001b[0;36m0\u001b[0m\u001b[0;34m]\u001b[0m\u001b[0;34m\u001b[0m\u001b[0;34m\u001b[0m\u001b[0m\n\u001b[0;32m----> 3\u001b[0;31m     \u001b[0mweakTag\u001b[0m\u001b[0;34m(\u001b[0m\u001b[0m_id\u001b[0m\u001b[0;34m)\u001b[0m\u001b[0;34m\u001b[0m\u001b[0;34m\u001b[0m\u001b[0m\n\u001b[0m",
      "\u001b[0;32m<ipython-input-20-4368961b5eef>\u001b[0m in \u001b[0;36mweakTag\u001b[0;34m(bson_id)\u001b[0m\n\u001b[1;32m      4\u001b[0m     db_client[\"tweets_pipeline_v2\"].update_one({\"_id\":bson.ObjectId(bson_id)},\n\u001b[1;32m      5\u001b[0m                                         {\"$set\":{\"weakTag\":True,\n\u001b[0;32m----> 6\u001b[0;31m                                                 \"source\": 'def'}})\n\u001b[0m\u001b[1;32m      7\u001b[0m \u001b[0;31m#     print(\"AFTER:\", db_client[\"tweets_pipeline_v2\"].find_one({\"_id\":bson.ObjectId(bson_id)})[\"status\"])\u001b[0m\u001b[0;34m\u001b[0m\u001b[0;34m\u001b[0m\u001b[0;34m\u001b[0m\u001b[0m\n",
      "\u001b[0;32m~/anaconda3/lib/python3.7/site-packages/pymongo/collection.py\u001b[0m in \u001b[0;36mupdate_one\u001b[0;34m(self, filter, update, upsert, bypass_document_validation, collation, array_filters, session)\u001b[0m\n\u001b[1;32m   1001\u001b[0m                 \u001b[0mbypass_doc_val\u001b[0m\u001b[0;34m=\u001b[0m\u001b[0mbypass_document_validation\u001b[0m\u001b[0;34m,\u001b[0m\u001b[0;34m\u001b[0m\u001b[0;34m\u001b[0m\u001b[0m\n\u001b[1;32m   1002\u001b[0m                 \u001b[0mcollation\u001b[0m\u001b[0;34m=\u001b[0m\u001b[0mcollation\u001b[0m\u001b[0;34m,\u001b[0m \u001b[0marray_filters\u001b[0m\u001b[0;34m=\u001b[0m\u001b[0marray_filters\u001b[0m\u001b[0;34m,\u001b[0m\u001b[0;34m\u001b[0m\u001b[0;34m\u001b[0m\u001b[0m\n\u001b[0;32m-> 1003\u001b[0;31m                 session=session),\n\u001b[0m\u001b[1;32m   1004\u001b[0m             write_concern.acknowledged)\n\u001b[1;32m   1005\u001b[0m \u001b[0;34m\u001b[0m\u001b[0m\n",
      "\u001b[0;32m~/anaconda3/lib/python3.7/site-packages/pymongo/collection.py\u001b[0m in \u001b[0;36m_update_retryable\u001b[0;34m(self, criteria, document, upsert, check_keys, multi, manipulate, write_concern, op_id, ordered, bypass_doc_val, collation, array_filters, session)\u001b[0m\n\u001b[1;32m    854\u001b[0m         return self.__database.client._retryable_write(\n\u001b[1;32m    855\u001b[0m             \u001b[0;34m(\u001b[0m\u001b[0mwrite_concern\u001b[0m \u001b[0;32mor\u001b[0m \u001b[0mself\u001b[0m\u001b[0;34m.\u001b[0m\u001b[0mwrite_concern\u001b[0m\u001b[0;34m)\u001b[0m\u001b[0;34m.\u001b[0m\u001b[0macknowledged\u001b[0m \u001b[0;32mand\u001b[0m \u001b[0;32mnot\u001b[0m \u001b[0mmulti\u001b[0m\u001b[0;34m,\u001b[0m\u001b[0;34m\u001b[0m\u001b[0;34m\u001b[0m\u001b[0m\n\u001b[0;32m--> 856\u001b[0;31m             _update, session)\n\u001b[0m\u001b[1;32m    857\u001b[0m \u001b[0;34m\u001b[0m\u001b[0m\n\u001b[1;32m    858\u001b[0m     def replace_one(self, filter, replacement, upsert=False,\n",
      "\u001b[0;32m~/anaconda3/lib/python3.7/site-packages/pymongo/mongo_client.py\u001b[0m in \u001b[0;36m_retryable_write\u001b[0;34m(self, retryable, func, session)\u001b[0m\n\u001b[1;32m   1490\u001b[0m         \u001b[0;34m\"\"\"Internal retryable write helper.\"\"\"\u001b[0m\u001b[0;34m\u001b[0m\u001b[0;34m\u001b[0m\u001b[0m\n\u001b[1;32m   1491\u001b[0m         \u001b[0;32mwith\u001b[0m \u001b[0mself\u001b[0m\u001b[0;34m.\u001b[0m\u001b[0m_tmp_session\u001b[0m\u001b[0;34m(\u001b[0m\u001b[0msession\u001b[0m\u001b[0;34m)\u001b[0m \u001b[0;32mas\u001b[0m \u001b[0ms\u001b[0m\u001b[0;34m:\u001b[0m\u001b[0;34m\u001b[0m\u001b[0;34m\u001b[0m\u001b[0m\n\u001b[0;32m-> 1492\u001b[0;31m             \u001b[0;32mreturn\u001b[0m \u001b[0mself\u001b[0m\u001b[0;34m.\u001b[0m\u001b[0m_retry_with_session\u001b[0m\u001b[0;34m(\u001b[0m\u001b[0mretryable\u001b[0m\u001b[0;34m,\u001b[0m \u001b[0mfunc\u001b[0m\u001b[0;34m,\u001b[0m \u001b[0ms\u001b[0m\u001b[0;34m,\u001b[0m \u001b[0;32mNone\u001b[0m\u001b[0;34m)\u001b[0m\u001b[0;34m\u001b[0m\u001b[0;34m\u001b[0m\u001b[0m\n\u001b[0m\u001b[1;32m   1493\u001b[0m \u001b[0;34m\u001b[0m\u001b[0m\n\u001b[1;32m   1494\u001b[0m     \u001b[0;32mdef\u001b[0m \u001b[0m_reset_server\u001b[0m\u001b[0;34m(\u001b[0m\u001b[0mself\u001b[0m\u001b[0;34m,\u001b[0m \u001b[0maddress\u001b[0m\u001b[0;34m)\u001b[0m\u001b[0;34m:\u001b[0m\u001b[0;34m\u001b[0m\u001b[0;34m\u001b[0m\u001b[0m\n",
      "\u001b[0;32m~/anaconda3/lib/python3.7/site-packages/pymongo/mongo_client.py\u001b[0m in \u001b[0;36m_retry_with_session\u001b[0;34m(self, retryable, func, session, bulk)\u001b[0m\n\u001b[1;32m   1383\u001b[0m                             \u001b[0;32mraise\u001b[0m \u001b[0mlast_error\u001b[0m\u001b[0;34m\u001b[0m\u001b[0;34m\u001b[0m\u001b[0m\n\u001b[1;32m   1384\u001b[0m                         \u001b[0mretryable\u001b[0m \u001b[0;34m=\u001b[0m \u001b[0;32mFalse\u001b[0m\u001b[0;34m\u001b[0m\u001b[0;34m\u001b[0m\u001b[0m\n\u001b[0;32m-> 1385\u001b[0;31m                     \u001b[0;32mreturn\u001b[0m \u001b[0mfunc\u001b[0m\u001b[0;34m(\u001b[0m\u001b[0msession\u001b[0m\u001b[0;34m,\u001b[0m \u001b[0msock_info\u001b[0m\u001b[0;34m,\u001b[0m \u001b[0mretryable\u001b[0m\u001b[0;34m)\u001b[0m\u001b[0;34m\u001b[0m\u001b[0;34m\u001b[0m\u001b[0m\n\u001b[0m\u001b[1;32m   1386\u001b[0m             \u001b[0;32mexcept\u001b[0m \u001b[0mServerSelectionTimeoutError\u001b[0m\u001b[0;34m:\u001b[0m\u001b[0;34m\u001b[0m\u001b[0;34m\u001b[0m\u001b[0m\n\u001b[1;32m   1387\u001b[0m                 \u001b[0;32mif\u001b[0m \u001b[0mis_retrying\u001b[0m\u001b[0;34m(\u001b[0m\u001b[0;34m)\u001b[0m\u001b[0;34m:\u001b[0m\u001b[0;34m\u001b[0m\u001b[0;34m\u001b[0m\u001b[0m\n",
      "\u001b[0;32m~/anaconda3/lib/python3.7/site-packages/pymongo/collection.py\u001b[0m in \u001b[0;36m_update\u001b[0;34m(session, sock_info, retryable_write)\u001b[0m\n\u001b[1;32m    850\u001b[0m                 \u001b[0mbypass_doc_val\u001b[0m\u001b[0;34m=\u001b[0m\u001b[0mbypass_doc_val\u001b[0m\u001b[0;34m,\u001b[0m \u001b[0mcollation\u001b[0m\u001b[0;34m=\u001b[0m\u001b[0mcollation\u001b[0m\u001b[0;34m,\u001b[0m\u001b[0;34m\u001b[0m\u001b[0;34m\u001b[0m\u001b[0m\n\u001b[1;32m    851\u001b[0m                 \u001b[0marray_filters\u001b[0m\u001b[0;34m=\u001b[0m\u001b[0marray_filters\u001b[0m\u001b[0;34m,\u001b[0m \u001b[0msession\u001b[0m\u001b[0;34m=\u001b[0m\u001b[0msession\u001b[0m\u001b[0;34m,\u001b[0m\u001b[0;34m\u001b[0m\u001b[0;34m\u001b[0m\u001b[0m\n\u001b[0;32m--> 852\u001b[0;31m                 retryable_write=retryable_write)\n\u001b[0m\u001b[1;32m    853\u001b[0m \u001b[0;34m\u001b[0m\u001b[0m\n\u001b[1;32m    854\u001b[0m         return self.__database.client._retryable_write(\n",
      "\u001b[0;32m~/anaconda3/lib/python3.7/site-packages/pymongo/collection.py\u001b[0m in \u001b[0;36m_update\u001b[0;34m(self, sock_info, criteria, document, upsert, check_keys, multi, manipulate, write_concern, op_id, ordered, bypass_doc_val, collation, array_filters, session, retryable_write)\u001b[0m\n\u001b[1;32m    820\u001b[0m             \u001b[0msession\u001b[0m\u001b[0;34m=\u001b[0m\u001b[0msession\u001b[0m\u001b[0;34m,\u001b[0m\u001b[0;34m\u001b[0m\u001b[0;34m\u001b[0m\u001b[0m\n\u001b[1;32m    821\u001b[0m             \u001b[0mclient\u001b[0m\u001b[0;34m=\u001b[0m\u001b[0mself\u001b[0m\u001b[0;34m.\u001b[0m\u001b[0m__database\u001b[0m\u001b[0;34m.\u001b[0m\u001b[0mclient\u001b[0m\u001b[0;34m,\u001b[0m\u001b[0;34m\u001b[0m\u001b[0;34m\u001b[0m\u001b[0m\n\u001b[0;32m--> 822\u001b[0;31m             retryable_write=retryable_write).copy()\n\u001b[0m\u001b[1;32m    823\u001b[0m         \u001b[0m_check_write_command_response\u001b[0m\u001b[0;34m(\u001b[0m\u001b[0mresult\u001b[0m\u001b[0;34m)\u001b[0m\u001b[0;34m\u001b[0m\u001b[0;34m\u001b[0m\u001b[0m\n\u001b[1;32m    824\u001b[0m         \u001b[0;31m# Add the updatedExisting field for compatibility.\u001b[0m\u001b[0;34m\u001b[0m\u001b[0;34m\u001b[0m\u001b[0;34m\u001b[0m\u001b[0m\n",
      "\u001b[0;32m~/anaconda3/lib/python3.7/site-packages/pymongo/pool.py\u001b[0m in \u001b[0;36mcommand\u001b[0;34m(self, dbname, spec, slave_ok, read_preference, codec_options, check, allowable_errors, check_keys, read_concern, write_concern, parse_write_concern_error, collation, session, client, retryable_write, publish_events, user_fields)\u001b[0m\n\u001b[1;32m    616\u001b[0m         \u001b[0;31m# Catch socket.error, KeyboardInterrupt, etc. and close ourselves.\u001b[0m\u001b[0;34m\u001b[0m\u001b[0;34m\u001b[0m\u001b[0;34m\u001b[0m\u001b[0m\n\u001b[1;32m    617\u001b[0m         \u001b[0;32mexcept\u001b[0m \u001b[0mBaseException\u001b[0m \u001b[0;32mas\u001b[0m \u001b[0merror\u001b[0m\u001b[0;34m:\u001b[0m\u001b[0;34m\u001b[0m\u001b[0;34m\u001b[0m\u001b[0m\n\u001b[0;32m--> 618\u001b[0;31m             \u001b[0mself\u001b[0m\u001b[0;34m.\u001b[0m\u001b[0m_raise_connection_failure\u001b[0m\u001b[0;34m(\u001b[0m\u001b[0merror\u001b[0m\u001b[0;34m)\u001b[0m\u001b[0;34m\u001b[0m\u001b[0;34m\u001b[0m\u001b[0m\n\u001b[0m\u001b[1;32m    619\u001b[0m \u001b[0;34m\u001b[0m\u001b[0m\n\u001b[1;32m    620\u001b[0m     \u001b[0;32mdef\u001b[0m \u001b[0msend_message\u001b[0m\u001b[0;34m(\u001b[0m\u001b[0mself\u001b[0m\u001b[0;34m,\u001b[0m \u001b[0mmessage\u001b[0m\u001b[0;34m,\u001b[0m \u001b[0mmax_doc_size\u001b[0m\u001b[0;34m)\u001b[0m\u001b[0;34m:\u001b[0m\u001b[0;34m\u001b[0m\u001b[0;34m\u001b[0m\u001b[0m\n",
      "\u001b[0;32m~/anaconda3/lib/python3.7/site-packages/pymongo/pool.py\u001b[0m in \u001b[0;36mcommand\u001b[0;34m(self, dbname, spec, slave_ok, read_preference, codec_options, check, allowable_errors, check_keys, read_concern, write_concern, parse_write_concern_error, collation, session, client, retryable_write, publish_events, user_fields)\u001b[0m\n\u001b[1;32m    611\u001b[0m                            \u001b[0muse_op_msg\u001b[0m\u001b[0;34m=\u001b[0m\u001b[0mself\u001b[0m\u001b[0;34m.\u001b[0m\u001b[0mop_msg_enabled\u001b[0m\u001b[0;34m,\u001b[0m\u001b[0;34m\u001b[0m\u001b[0;34m\u001b[0m\u001b[0m\n\u001b[1;32m    612\u001b[0m                            \u001b[0munacknowledged\u001b[0m\u001b[0;34m=\u001b[0m\u001b[0munacknowledged\u001b[0m\u001b[0;34m,\u001b[0m\u001b[0;34m\u001b[0m\u001b[0;34m\u001b[0m\u001b[0m\n\u001b[0;32m--> 613\u001b[0;31m                            user_fields=user_fields)\n\u001b[0m\u001b[1;32m    614\u001b[0m         \u001b[0;32mexcept\u001b[0m \u001b[0mOperationFailure\u001b[0m\u001b[0;34m:\u001b[0m\u001b[0;34m\u001b[0m\u001b[0;34m\u001b[0m\u001b[0m\n\u001b[1;32m    615\u001b[0m             \u001b[0;32mraise\u001b[0m\u001b[0;34m\u001b[0m\u001b[0;34m\u001b[0m\u001b[0m\n",
      "\u001b[0;32m~/anaconda3/lib/python3.7/site-packages/pymongo/network.py\u001b[0m in \u001b[0;36mcommand\u001b[0;34m(sock, dbname, spec, slave_ok, is_mongos, read_preference, codec_options, session, client, check, allowable_errors, address, check_keys, listeners, max_bson_size, read_concern, parse_write_concern_error, collation, compression_ctx, use_op_msg, unacknowledged, user_fields)\u001b[0m\n\u001b[1;32m    155\u001b[0m             \u001b[0mresponse_doc\u001b[0m \u001b[0;34m=\u001b[0m \u001b[0;34m{\u001b[0m\u001b[0;34m\"ok\"\u001b[0m\u001b[0;34m:\u001b[0m \u001b[0;36m1\u001b[0m\u001b[0;34m}\u001b[0m\u001b[0;34m\u001b[0m\u001b[0;34m\u001b[0m\u001b[0m\n\u001b[1;32m    156\u001b[0m         \u001b[0;32melse\u001b[0m\u001b[0;34m:\u001b[0m\u001b[0;34m\u001b[0m\u001b[0;34m\u001b[0m\u001b[0m\n\u001b[0;32m--> 157\u001b[0;31m             \u001b[0mreply\u001b[0m \u001b[0;34m=\u001b[0m \u001b[0mreceive_message\u001b[0m\u001b[0;34m(\u001b[0m\u001b[0msock\u001b[0m\u001b[0;34m,\u001b[0m \u001b[0mrequest_id\u001b[0m\u001b[0;34m)\u001b[0m\u001b[0;34m\u001b[0m\u001b[0;34m\u001b[0m\u001b[0m\n\u001b[0m\u001b[1;32m    158\u001b[0m             unpacked_docs = reply.unpack_response(\n\u001b[1;32m    159\u001b[0m                 codec_options=codec_options, user_fields=user_fields)\n",
      "\u001b[0;32m~/anaconda3/lib/python3.7/site-packages/pymongo/network.py\u001b[0m in \u001b[0;36mreceive_message\u001b[0;34m(sock, request_id, max_message_size)\u001b[0m\n\u001b[1;32m    194\u001b[0m     \u001b[0;31m# Ignore the response's request id.\u001b[0m\u001b[0;34m\u001b[0m\u001b[0;34m\u001b[0m\u001b[0;34m\u001b[0m\u001b[0m\n\u001b[1;32m    195\u001b[0m     length, _, response_to, op_code = _UNPACK_HEADER(\n\u001b[0;32m--> 196\u001b[0;31m         _receive_data_on_socket(sock, 16))\n\u001b[0m\u001b[1;32m    197\u001b[0m     \u001b[0;31m# No request_id for exhaust cursor \"getMore\".\u001b[0m\u001b[0;34m\u001b[0m\u001b[0;34m\u001b[0m\u001b[0;34m\u001b[0m\u001b[0m\n\u001b[1;32m    198\u001b[0m     \u001b[0;32mif\u001b[0m \u001b[0mrequest_id\u001b[0m \u001b[0;32mis\u001b[0m \u001b[0;32mnot\u001b[0m \u001b[0;32mNone\u001b[0m\u001b[0;34m:\u001b[0m\u001b[0;34m\u001b[0m\u001b[0;34m\u001b[0m\u001b[0m\n",
      "\u001b[0;32m~/anaconda3/lib/python3.7/site-packages/pymongo/network.py\u001b[0m in \u001b[0;36m_receive_data_on_socket\u001b[0;34m(sock, length)\u001b[0m\n\u001b[1;32m    253\u001b[0m         \u001b[0;32mwhile\u001b[0m \u001b[0mbytes_read\u001b[0m \u001b[0;34m<\u001b[0m \u001b[0mlength\u001b[0m\u001b[0;34m:\u001b[0m\u001b[0;34m\u001b[0m\u001b[0;34m\u001b[0m\u001b[0m\n\u001b[1;32m    254\u001b[0m             \u001b[0;32mtry\u001b[0m\u001b[0;34m:\u001b[0m\u001b[0;34m\u001b[0m\u001b[0;34m\u001b[0m\u001b[0m\n\u001b[0;32m--> 255\u001b[0;31m                 \u001b[0mchunk_length\u001b[0m \u001b[0;34m=\u001b[0m \u001b[0msock\u001b[0m\u001b[0;34m.\u001b[0m\u001b[0mrecv_into\u001b[0m\u001b[0;34m(\u001b[0m\u001b[0mmv\u001b[0m\u001b[0;34m[\u001b[0m\u001b[0mbytes_read\u001b[0m\u001b[0;34m:\u001b[0m\u001b[0;34m]\u001b[0m\u001b[0;34m)\u001b[0m\u001b[0;34m\u001b[0m\u001b[0;34m\u001b[0m\u001b[0m\n\u001b[0m\u001b[1;32m    256\u001b[0m             \u001b[0;32mexcept\u001b[0m \u001b[0;34m(\u001b[0m\u001b[0mIOError\u001b[0m\u001b[0;34m,\u001b[0m \u001b[0mOSError\u001b[0m\u001b[0;34m)\u001b[0m \u001b[0;32mas\u001b[0m \u001b[0mexc\u001b[0m\u001b[0;34m:\u001b[0m\u001b[0;34m\u001b[0m\u001b[0;34m\u001b[0m\u001b[0m\n\u001b[1;32m    257\u001b[0m                 \u001b[0;32mif\u001b[0m \u001b[0m_errno_from_exception\u001b[0m\u001b[0;34m(\u001b[0m\u001b[0mexc\u001b[0m\u001b[0;34m)\u001b[0m \u001b[0;34m==\u001b[0m \u001b[0merrno\u001b[0m\u001b[0;34m.\u001b[0m\u001b[0mEINTR\u001b[0m\u001b[0;34m:\u001b[0m\u001b[0;34m\u001b[0m\u001b[0;34m\u001b[0m\u001b[0m\n",
      "\u001b[0;31mKeyboardInterrupt\u001b[0m: "
     ]
    }
   ],
   "source": [
    "for index, row in data_for_check_weak.iterrows():\n",
    "    _id = row[0]\n",
    "    weakTag(_id)"
   ]
  },
  {
   "cell_type": "code",
   "execution_count": null,
   "metadata": {},
   "outputs": [],
   "source": []
  },
  {
   "cell_type": "code",
   "execution_count": null,
   "metadata": {},
   "outputs": [],
   "source": []
  },
  {
   "cell_type": "code",
   "execution_count": null,
   "metadata": {},
   "outputs": [],
   "source": []
  },
  {
   "cell_type": "code",
   "execution_count": 20,
   "metadata": {},
   "outputs": [],
   "source": [
    "from datetime import datetime"
   ]
  },
  {
   "cell_type": "code",
   "execution_count": 2,
   "metadata": {},
   "outputs": [],
   "source": [
    "# def weak_tag_to_validated(bson_id, new_list):\n",
    "#     db_client[\"tweets_pipeline_v2\"].update_one({\"_id\":bson.ObjectId(bson_id)},\n",
    "#                                     {\"$set\":{\"status\": \"validated\",\n",
    "#                                              \"validated_timestamp\": datetime.now(),\n",
    "#                                              \"confirmed_after_validate\": new_list,\n",
    "#                                              'source': 'def',\n",
    "#                                     }})    "
   ]
  },
  {
   "cell_type": "code",
   "execution_count": null,
   "metadata": {},
   "outputs": [],
   "source": []
  },
  {
   "cell_type": "code",
   "execution_count": 3,
   "metadata": {},
   "outputs": [],
   "source": [
    "def weak_tag_to_pipelined(bson_id, new_list):\n",
    "    db_client[\"tweets_pipeline_v2\"].update_one({\"_id\":bson.ObjectId(bson_id)},\n",
    "                                    {\"$set\":{\"status\": \"pipelined\",\n",
    "#                                              \"validated_timestamp\": datetime.now(),\n",
    "#                                              \"confirmed_after_validate\": new_list,\n",
    "#                                              'source': 'def',\n",
    "                                    }})    "
   ]
  },
  {
   "cell_type": "code",
   "execution_count": 7,
   "metadata": {
    "scrolled": true
   },
   "outputs": [
    {
     "name": "stderr",
     "output_type": "stream",
     "text": [
      "/home/ubuntu/anaconda3/lib/python3.7/site-packages/ipykernel_launcher.py:13: DeprecationWarning: count is deprecated. Use Collection.count_documents instead.\n",
      "  del sys.path[0]\n",
      "  0%|          | 5/3101 [00:00<06:42,  7.69it/s]"
     ]
    },
    {
     "name": "stdout",
     "output_type": "stream",
     "text": [
      "5df01da52d2eb8974ede6a8f\n",
      "5df01da72d2eb8974ede6a93\n",
      "5df022212d2eb8974ede6c3f\n",
      "5df022212d2eb8974ede6c40\n",
      "5df022262d2eb8974ede6c4d\n",
      "5df022f8b2403dd4d9d24328\n",
      "5df02423b2403dd4d9d243ac\n"
     ]
    },
    {
     "name": "stderr",
     "output_type": "stream",
     "text": [
      "  0%|          | 13/3101 [00:00<04:01, 12.79it/s]"
     ]
    },
    {
     "name": "stdout",
     "output_type": "stream",
     "text": [
      "5df0260f2f0683e9162f85be\n",
      "5df0263617c61caa874e9e7c\n",
      "5df027a617c61caa874e9f2a\n",
      "5df02873b2403dd4d9d2456c\n",
      "5df02f6d7d0fd77eaaabc72d\n",
      "5df02fea2d2eb8974ede71b9\n",
      "5df035fe8e6f3b7ab270ba65\n",
      "5df037ba1f5e287ece660b36\n"
     ]
    },
    {
     "name": "stderr",
     "output_type": "stream",
     "text": [
      "  1%|          | 21/3101 [00:00<02:42, 18.94it/s]"
     ]
    },
    {
     "name": "stdout",
     "output_type": "stream",
     "text": [
      "5df0bc4a9bf94c6da08b43d5\n",
      "5df0bc4b9bf94c6da08b43d9\n",
      "5df0bc4c9bf94c6da08b43e5\n",
      "5df0bc93a6d54c33cd160468\n",
      "5df0bd201efb3102bc8c74da\n",
      "5df0bdc81efb3102bc8c7500\n",
      "5df0bdd39bf94c6da08b4427\n",
      "5df0bdfd60f02242ecdd18ef\n"
     ]
    },
    {
     "name": "stderr",
     "output_type": "stream",
     "text": [
      "  1%|          | 29/3101 [00:00<02:03, 24.77it/s]"
     ]
    },
    {
     "name": "stdout",
     "output_type": "stream",
     "text": [
      "5df0c17fa6d54c33cd16060b\n",
      "5df0c182a6d54c33cd160617\n",
      "5df0c25bd421762a4e3cbf9c\n",
      "5df0c2ecee8a497fd4052e46\n",
      "5df0c5a442d51d76a8ed270e\n",
      "5df0c91adf4bdadbb19d83be\n",
      "5df0cfa5ef062c35d2ee1004\n",
      "5dfa1ed099d15cdf69000d65\n"
     ]
    },
    {
     "name": "stderr",
     "output_type": "stream",
     "text": [
      "  1%|          | 37/3101 [00:01<01:45, 29.15it/s]"
     ]
    },
    {
     "name": "stdout",
     "output_type": "stream",
     "text": [
      "5dfa1ed099d15cdf69000d68\n",
      "5dfa22f699d15cdf69000eeb\n",
      "5dfa22f799d15cdf69000eef\n",
      "5dfa23ca99d15cdf69000f4e\n",
      "5dfa251d6e41ede2e7af71cd\n",
      "5dfa270327f66a4abf0f0ad9\n",
      "5dfa27dd6e41ede2e7af72ba\n",
      "5dfa2c10739a8a8cf046d65f\n"
     ]
    },
    {
     "name": "stderr",
     "output_type": "stream",
     "text": [
      "  1%|▏         | 45/3101 [00:01<01:35, 31.99it/s]"
     ]
    },
    {
     "name": "stdout",
     "output_type": "stream",
     "text": [
      "5dfb64e5131cdf9d830ab683\n",
      "5dfb653ba70263da31b2387d\n",
      "5dfb65dae75f75b47f5fec2e\n",
      "5dfb67e7a1a70d622e2195a1\n",
      "5dfb68b926947026f2298bb0\n",
      "5dfb6969131cdf9d830ab840\n",
      "5dfb6ab0bd945e14a493a829\n",
      "5dfb6ca2e37cc217ac91df81\n"
     ]
    },
    {
     "name": "stderr",
     "output_type": "stream",
     "text": [
      "  2%|▏         | 53/3101 [00:01<01:30, 33.57it/s]"
     ]
    },
    {
     "name": "stdout",
     "output_type": "stream",
     "text": [
      "5dfb6eb951e9d21cd70ec5b6\n",
      "5dfb6eba51e9d21cd70ec5bc\n",
      "5dfb6f8a20afaad67ff24b49\n",
      "5dfb7036e8875662eea802b5\n",
      "5dfb70e726947026f2298e41\n",
      "5dfb70ed26947026f2298e58\n",
      "5dfb722bdb2ba2d27aa21279\n",
      "5dfb724d890c58587407c6c0\n"
     ]
    },
    {
     "name": "stderr",
     "output_type": "stream",
     "text": [
      "  2%|▏         | 61/3101 [00:01<01:28, 34.38it/s]"
     ]
    },
    {
     "name": "stdout",
     "output_type": "stream",
     "text": [
      "5dfb72fb26947026f2298ef8\n",
      "5dfb731e549d26153cd66e5c\n",
      "5dfb7321549d26153cd66e64\n",
      "5dfb73f2521d05797e7f5bb3\n",
      "5dfb73fc521d05797e7f5bd9\n",
      "5dfb74e03299e003822b3267\n",
      "5dfb7545d5b8219a13e7a195\n",
      "5dfb7595a1a70d622e2199c1\n"
     ]
    },
    {
     "name": "stderr",
     "output_type": "stream",
     "text": [
      "  2%|▏         | 69/3101 [00:02<01:27, 34.81it/s]"
     ]
    },
    {
     "name": "stdout",
     "output_type": "stream",
     "text": [
      "5dfb75b03ddc87421667723d\n",
      "5dfb762590b37c797d481e4d\n",
      "5dfb762590b37c797d481e4e\n",
      "5dfb7809131cdf9d830abdc5\n",
      "5dfb7d9aeefb05db161d5263\n",
      "5dfb7e206c1655c6f3d5060e\n",
      "5dfb7e4cb1fdc496a209b56e\n",
      "5dfb7e4cb1fdc496a209b571\n"
     ]
    },
    {
     "name": "stderr",
     "output_type": "stream",
     "text": [
      "  2%|▏         | 77/3101 [00:02<01:26, 34.86it/s]"
     ]
    },
    {
     "name": "stdout",
     "output_type": "stream",
     "text": [
      "5dfb7f7d513ea04cb5817ff1\n",
      "5dfb7f99a58cebdca72914c5\n",
      "5dfb828600057b115ae1a857\n",
      "5dfb8336db2ba2d27aa2179e\n",
      "5dfb836eb1fdc496a209b6f5\n",
      "5dfb8498a58cebdca72915b6\n",
      "5dfb84a3fc3996c4ce94eb12\n",
      "5dfb85016c1655c6f3d507f2\n"
     ]
    },
    {
     "name": "stderr",
     "output_type": "stream",
     "text": [
      "  3%|▎         | 85/3101 [00:02<01:26, 35.04it/s]"
     ]
    },
    {
     "name": "stdout",
     "output_type": "stream",
     "text": [
      "5dfb85036c1655c6f3d507f7\n",
      "5dfb85b8a1a70d622e219f0b\n",
      "5dfb85d820afaad67ff2524c\n",
      "5dfb85e290b37c797d4823b6\n",
      "5dfb8873d5b8219a13e7a7f7\n",
      "5dfb888ebd945e14a493b204\n",
      "5dfb8b10131cdf9d830ac318\n"
     ]
    },
    {
     "name": "stderr",
     "output_type": "stream",
     "text": [
      "  3%|▎         | 93/3101 [00:02<01:25, 35.12it/s]"
     ]
    },
    {
     "name": "stdout",
     "output_type": "stream",
     "text": [
      "5dfb8b7e6c1655c6f3d509e7\n",
      "5dfb8be9bd945e14a493b317\n",
      "5dfb8cbdb601c13c48eeda39\n",
      "5dfb8cf9521d05797e7f62a6\n",
      "5dfb8ddee75f75b47f5ffb38\n",
      "5dfb8de3d5b8219a13e7a9b5\n",
      "5dfb8e60b1fdc496a209bbc0\n",
      "5dfb8e63b1fdc496a209bbcb\n"
     ]
    },
    {
     "name": "stderr",
     "output_type": "stream",
     "text": [
      "  3%|▎         | 101/3101 [00:03<01:25, 35.14it/s]"
     ]
    },
    {
     "name": "stdout",
     "output_type": "stream",
     "text": [
      "5dfb9049a58cebdca72919de\n",
      "5dfb906e20afaad67ff2567b\n",
      "5dfb91d851e9d21cd70ed1a1\n",
      "5dfb91db51e9d21cd70ed1a9\n",
      "5dfb91e53ddc874216677be5\n",
      "5dfb92b731f3fbd328869c37\n",
      "5dfb982326947026f2299a30\n"
     ]
    },
    {
     "name": "stderr",
     "output_type": "stream",
     "text": [
      "\r",
      "  3%|▎         | 105/3101 [00:03<02:54, 17.21it/s]"
     ]
    },
    {
     "name": "stdout",
     "output_type": "stream",
     "text": [
      "5dfb9867b1fdc496a209be25\n",
      "5dfb9a03e75f75b47f5fff49\n",
      "5dfb9c63e37cc217ac91eed4\n",
      "5dfb9c88e8875662eea81139\n",
      "5dfba0bd00057b115ae1b31c\n",
      "5dfba0e4eefb05db161d5ca4\n",
      "5dfba124b601c13c48eedfd0\n",
      "5dfba16e20afaad67ff25b50\n"
     ]
    },
    {
     "name": "stderr",
     "output_type": "stream",
     "text": [
      "  4%|▎         | 113/3101 [00:03<02:08, 23.28it/s]"
     ]
    },
    {
     "name": "stdout",
     "output_type": "stream",
     "text": [
      "5dfba19f890c58587407d604\n",
      "5dfba2cf6c1655c6f3d51230\n",
      "5dfba2f400057b115ae1b3e5\n",
      "5dfba3bc6c1655c6f3d512b1\n",
      "5dfba4a3bf2e0b3cf6aeb354\n",
      "5dfba7b031f3fbd32886a223\n",
      "5dfba7b1e37cc217ac91f15a\n",
      "5dfba7e5e37cc217ac91f16a\n"
     ]
    },
    {
     "name": "stderr",
     "output_type": "stream",
     "text": [
      "  4%|▍         | 121/3101 [00:03<01:45, 28.13it/s]"
     ]
    },
    {
     "name": "stdout",
     "output_type": "stream",
     "text": [
      "5dfba828d5b8219a13e7b0df\n",
      "5dfba8d07ce0ff01df13b42f\n",
      "5dfba97820afaad67ff25e95\n",
      "5dfbaa256c1655c6f3d51535\n",
      "5dfbab5020afaad67ff25f2f\n",
      "5dfbac0a3299e003822b42bf\n",
      "5dfbac60d5b8219a13e7b245\n",
      "5dfbadb6db2ba2d27aa2253b\n"
     ]
    },
    {
     "name": "stderr",
     "output_type": "stream",
     "text": [
      "  4%|▍         | 129/3101 [00:04<01:35, 31.28it/s]"
     ]
    },
    {
     "name": "stdout",
     "output_type": "stream",
     "text": [
      "5dfbafd51ca7a5db7fbe76cb\n",
      "5dfbafe2a70263da31b24fcf\n",
      "5dfbb37726947026f229a1fa\n",
      "5dfbb5197ce0ff01df13b846\n",
      "5dfbb705890c58587407dd0f\n",
      "5dfbb83f7ce0ff01df13b950\n",
      "5dfbb8b6bd9d69169e7dbd81\n",
      "5dfbb959e37cc217ac91f888\n"
     ]
    },
    {
     "name": "stderr",
     "output_type": "stream",
     "text": [
      "  4%|▍         | 137/3101 [00:04<01:29, 33.15it/s]"
     ]
    },
    {
     "name": "stdout",
     "output_type": "stream",
     "text": [
      "5dfbba87eeece5cb78ecbe91\n",
      "5dfbbdcde75f75b47f600ab1\n",
      "5dfbbf06e37cc217ac91fa39\n",
      "5dfbc06bcab13136285020fb\n",
      "5dfbc093eeece5cb78ecc06a\n",
      "5dfbc413db2ba2d27aa22bf0\n",
      "5dfbc42d6c1655c6f3d51dbd\n",
      "5dfbc9ab31f3fbd32886ac6a\n"
     ]
    },
    {
     "name": "stderr",
     "output_type": "stream",
     "text": [
      "  5%|▍         | 145/3101 [00:04<01:26, 34.18it/s]"
     ]
    },
    {
     "name": "stdout",
     "output_type": "stream",
     "text": [
      "5dfbcabc51e9d21cd70ee1ed\n",
      "5dfbcac051e9d21cd70ee1fa\n",
      "5dfbcad0a70263da31b258ed\n",
      "5dfbcb0e9f007b135dc2988d\n",
      "5dfbcb173ddc874216678ce6\n",
      "5dfbcbfeeeece5cb78ecc419\n",
      "5dfbcc00eeece5cb78ecc41b\n",
      "5dfbcc467931d329d8fedf61\n"
     ]
    },
    {
     "name": "stderr",
     "output_type": "stream",
     "text": [
      "  5%|▍         | 153/3101 [00:04<01:24, 34.71it/s]"
     ]
    },
    {
     "name": "stdout",
     "output_type": "stream",
     "text": [
      "5dfbcda273157c57b827c250\n",
      "5dfbd05f26947026f229ab03\n",
      "5dfbd7202c7ba0b8a0d41ffb\n",
      "5dfbd79a73157c57b827c3e7\n",
      "5dfbd9ff3ddc874216678fef\n",
      "5dfbdd5c20afaad67ff26eb1\n",
      "5dfbddcceeece5cb78ecc8ea\n",
      "5dfbde9aaaa9751df2224479\n"
     ]
    },
    {
     "name": "stderr",
     "output_type": "stream",
     "text": [
      "  5%|▌         | 161/3101 [00:05<01:24, 34.95it/s]"
     ]
    },
    {
     "name": "stdout",
     "output_type": "stream",
     "text": [
      "5dfbdf567ce0ff01df13c391\n",
      "5dfbdf8ca70263da31b25e69\n",
      "5dfbe6547ce0ff01df13c50b\n",
      "5dfbe6557ce0ff01df13c50d\n",
      "5dfbe6577ce0ff01df13c514\n",
      "5dfbe807a58cebdca729322c\n",
      "5dfbe807a58cebdca729322d\n",
      "5dfbe80ba58cebdca729323c\n"
     ]
    },
    {
     "name": "stderr",
     "output_type": "stream",
     "text": [
      "  5%|▌         | 169/3101 [00:05<01:23, 35.02it/s]"
     ]
    },
    {
     "name": "stdout",
     "output_type": "stream",
     "text": [
      "5dfbea49b601c13c48eef660\n",
      "5dfbeab8a70263da31b260db\n",
      "5dfbeb0fe8875662eea82847\n",
      "5dfbee6b26b6c18e8998aae2\n",
      "5dfbef162c7ba0b8a0d4255d\n",
      "5dfbf0a06e02145be6273a0a\n",
      "5dfbf12dd5b8219a13e7c6fd\n",
      "5dfbf12fd5b8219a13e7c703\n"
     ]
    },
    {
     "name": "stderr",
     "output_type": "stream",
     "text": [
      "  6%|▌         | 177/3101 [00:05<01:23, 35.15it/s]"
     ]
    },
    {
     "name": "stdout",
     "output_type": "stream",
     "text": [
      "5dfbf1be3299e003822b5727\n",
      "5dfbf3ff549d26153cd69628\n",
      "5dfbf4a620afaad67ff27545\n",
      "5dfbf4b2eeece5cb78eccf8f\n",
      "5dfbf7762e744897c1e65036\n",
      "5dfbf8c3513ea04cb581a3cf\n",
      "5dfbf8eebd9d69169e7dd0ba\n",
      "5dfbf93f2c7ba0b8a0d4285b\n"
     ]
    },
    {
     "name": "stderr",
     "output_type": "stream",
     "text": [
      "  6%|▌         | 185/3101 [00:05<01:23, 35.03it/s]"
     ]
    },
    {
     "name": "stdout",
     "output_type": "stream",
     "text": [
      "5dfbf9a3db818e4cd3867b0d\n",
      "5dfbf9f9bd9d69169e7dd137\n",
      "5dfbfa67bf2e0b3cf6aeca56\n",
      "5dfbfa6bbf2e0b3cf6aeca62\n",
      "5dfbfad8aaa9751df2224b4a\n",
      "5dfbfadd540e13036dd1aac6\n",
      "5dfbfade540e13036dd1aacc\n"
     ]
    },
    {
     "name": "stderr",
     "output_type": "stream",
     "text": [
      "  6%|▌         | 193/3101 [00:06<01:22, 35.06it/s]"
     ]
    },
    {
     "name": "stdout",
     "output_type": "stream",
     "text": [
      "5dfbfb5c7931d329d8feecba\n",
      "5dfbfb8e9f007b135dc2a4bd\n",
      "5dfbfb8f9f007b135dc2a4c1\n",
      "5dfbfbd4aaa9751df2224b9e\n",
      "5dfbfbd5aaa9751df2224b9f\n",
      "5dfbfca9549d26153cd69815\n",
      "5dfbfd3daaa9751df2224c37\n",
      "5dfbffbf31f3fbd32886bb8e\n"
     ]
    },
    {
     "name": "stderr",
     "output_type": "stream",
     "text": [
      "  6%|▋         | 201/3101 [00:06<01:22, 35.12it/s]"
     ]
    },
    {
     "name": "stdout",
     "output_type": "stream",
     "text": [
      "5dfbfff626b6c18e8998afbc\n",
      "5dfc02fa513ea04cb581a679\n",
      "5dfc02fc513ea04cb581a67e\n",
      "5dfc02fd513ea04cb581a685\n",
      "5dfc0300513ea04cb581a68c\n",
      "5dfc0301513ea04cb581a68f\n",
      "5dfc0302513ea04cb581a692\n",
      "5dfc0303513ea04cb581a696\n"
     ]
    },
    {
     "name": "stderr",
     "output_type": "stream",
     "text": [
      "  7%|▋         | 209/3101 [00:06<01:22, 35.16it/s]"
     ]
    },
    {
     "name": "stdout",
     "output_type": "stream",
     "text": [
      "5dfc03947931d329d8feef36\n",
      "5dfc03afbf2e0b3cf6aeccc5\n",
      "5dfc03eb26b6c18e8998b0ba\n",
      "5dfc056d521d05797e7f84d9\n",
      "5dfc0571521d05797e7f84e5\n",
      "5dfc0620db2ba2d27aa23c80\n",
      "5dfc0622540e13036dd1ae1f\n",
      "5dfc065ea70263da31b268ce\n"
     ]
    },
    {
     "name": "stderr",
     "output_type": "stream",
     "text": [
      "  7%|▋         | 217/3101 [00:06<01:21, 35.19it/s]"
     ]
    },
    {
     "name": "stdout",
     "output_type": "stream",
     "text": [
      "5dfc074373157c57b827cf30\n",
      "5dfc0789521d05797e7f855d\n",
      "5dfc0893890c58587407f503\n",
      "5dfc0aaa7931d329d8fef126\n",
      "5dfc0b8bb601c13c48ef0074\n",
      "5dfc0b9aa58cebdca7293c47\n",
      "5dfc0c2731f3fbd32886bf68\n",
      "5dfc0d33521d05797e7f8710\n"
     ]
    },
    {
     "name": "stderr",
     "output_type": "stream",
     "text": [
      "  7%|▋         | 225/3101 [00:06<01:21, 35.22it/s]"
     ]
    },
    {
     "name": "stdout",
     "output_type": "stream",
     "text": [
      "5dfc0d5de8875662eea8311e\n",
      "5dfc0ec42e744897c1e6583d\n",
      "5dfc0f28b601c13c48ef0187\n",
      "5dfc0f2ab601c13c48ef018e\n",
      "5dfc0f3bcab13136285035c2\n",
      "5dfc0f7ab601c13c48ef01ad\n",
      "5dfc0f89bd9d69169e7dd70d\n",
      "5dfc0f8abd9d69169e7dd710\n"
     ]
    },
    {
     "name": "stderr",
     "output_type": "stream",
     "text": [
      "  8%|▊         | 233/3101 [00:07<01:21, 35.23it/s]"
     ]
    },
    {
     "name": "stdout",
     "output_type": "stream",
     "text": [
      "5dfc10af890c58587407f6e5\n",
      "5dfc11576a59b16da355488f\n",
      "5dfc11f9c68b4dfe7d1f0ec8\n",
      "5dfc11f9c68b4dfe7d1f0eca\n",
      "5dfc11fac68b4dfe7d1f0ecc\n",
      "5dfc1200c68b4dfe7d1f0ee9\n",
      "5dfc1603db818e4cd3868486\n",
      "5dfc168420afaad67ff27e31\n"
     ]
    },
    {
     "name": "stderr",
     "output_type": "stream",
     "text": [
      "  8%|▊         | 241/3101 [00:07<01:21, 35.25it/s]"
     ]
    },
    {
     "name": "stdout",
     "output_type": "stream",
     "text": [
      "5dfc187826b6c18e8998b6f5\n",
      "5dfc187826b6c18e8998b6f6\n",
      "5dfc187a26b6c18e8998b6fe\n",
      "5dfc187e26b6c18e8998b70e\n",
      "5dfc1993e75f75b47f602267\n",
      "5dfc1b42a70263da31b26f10\n",
      "5dfc1bf63ddc87421667a281\n",
      "5dfc1c7bdb2ba2d27aa24282\n"
     ]
    },
    {
     "name": "stderr",
     "output_type": "stream",
     "text": [
      "  8%|▊         | 249/3101 [00:07<01:20, 35.23it/s]"
     ]
    },
    {
     "name": "stdout",
     "output_type": "stream",
     "text": [
      "5dfc1d9acab1313628503a54\n",
      "5dfc1e69bf2e0b3cf6aed3b8\n",
      "5dfc1f6b890c58587407fb4b\n",
      "5dfc2007e8875662eea8362f\n",
      "5dfc206c31f3fbd32886c5b9\n",
      "5dfc20a97ce0ff01df13d714\n",
      "5dfc20a97ce0ff01df13d717\n",
      "5dfc20c9549d26153cd6a28a\n"
     ]
    },
    {
     "name": "stderr",
     "output_type": "stream",
     "text": [
      "  8%|▊         | 257/3101 [00:07<01:20, 35.24it/s]"
     ]
    },
    {
     "name": "stdout",
     "output_type": "stream",
     "text": [
      "5dfc20d76e02145be62746db\n",
      "5dfc20e127e154cdda6e0aa8\n",
      "5dfc21146e02145be62746f9\n",
      "5dfc23b7c68b4dfe7d1f1386\n",
      "5dfc28f56e02145be627482f\n",
      "5dfc2a0b20afaad67ff2846c\n",
      "5dfc2a48540e13036dd1b951\n",
      "5dfc2a82b601c13c48ef098d\n"
     ]
    },
    {
     "name": "stderr",
     "output_type": "stream",
     "text": [
      "  9%|▊         | 265/3101 [00:08<01:20, 35.23it/s]"
     ]
    },
    {
     "name": "stdout",
     "output_type": "stream",
     "text": [
      "5dfc2edbcab1313628503e7f\n",
      "5dfc2f3bc68b4dfe7d1f165e\n",
      "5dfc2f3ebbbce6c379d51e04\n",
      "5dfc2f47c68b4dfe7d1f1689\n",
      "5dfc3129bf2e0b3cf6aed7e1\n",
      "5dfc337f20afaad67ff286bc\n",
      "5dfc3502aaa9751df2225a98\n",
      "5dfc3504aaa9751df2225a9f\n"
     ]
    },
    {
     "name": "stderr",
     "output_type": "stream",
     "text": [
      "  9%|▉         | 273/3101 [00:08<01:20, 35.18it/s]"
     ]
    },
    {
     "name": "stdout",
     "output_type": "stream",
     "text": [
      "5dfc350aeeece5cb78ece1ca\n",
      "5dfc35f0540e13036dd1bcc4\n",
      "5dfc360d27e154cdda6e103a\n",
      "5dfc3637bf2e0b3cf6aed97c\n",
      "5dfc374427e154cdda6e1084\n",
      "5dfc37dadb2ba2d27aa248c1\n",
      "5dfc3882cab1313628504110\n",
      "5dfc3883cab1313628504114\n"
     ]
    },
    {
     "name": "stderr",
     "output_type": "stream",
     "text": [
      "  9%|▉         | 281/3101 [00:08<01:20, 35.12it/s]"
     ]
    },
    {
     "name": "stdout",
     "output_type": "stream",
     "text": [
      "5dfc3982a2a676bfe2c4de3a\n",
      "5dfc3984a2a676bfe2c4de40\n",
      "5dfc39d66e02145be6274cb2\n",
      "5dfc3a27cab1313628504137\n",
      "5dfc3aaf27e154cdda6e112a\n",
      "5dfc3b7cdb818e4cd3868d46\n",
      "5dfc3bd33299e003822b6a69\n",
      "5dfc3efe53f6a1b230abb371\n"
     ]
    },
    {
     "name": "stderr",
     "output_type": "stream",
     "text": [
      "  9%|▉         | 289/3101 [00:08<01:19, 35.21it/s]"
     ]
    },
    {
     "name": "stdout",
     "output_type": "stream",
     "text": [
      "5dfc406092fa9127f9c4852a\n",
      "5dfc40a926b6c18e8998c1e7\n",
      "5dfc413b51e9d21cd70f013c\n",
      "5dfc4179a70263da31b2787f\n",
      "5dfc42c5549d26153cd6ab66\n",
      "5dfc43a0db2ba2d27aa24bb9\n",
      "5dfc468526b6c18e8998c324\n",
      "5dfc4887cd6add290761c7c0\n"
     ]
    },
    {
     "name": "stderr",
     "output_type": "stream",
     "text": [
      " 10%|▉         | 297/3101 [00:08<01:19, 35.21it/s]"
     ]
    },
    {
     "name": "stdout",
     "output_type": "stream",
     "text": [
      "5dfc490d53f6a1b230abb60e\n",
      "5dfc4945a2a676bfe2c4e2dd\n",
      "5dfc4949a2a676bfe2c4e2ea\n",
      "5dfc497bb601c13c48ef119f\n",
      "5dfc497cb601c13c48ef11a0\n",
      "5dfc49b273157c57b827e0d8\n",
      "5dfc49cee75f75b47f602ddc\n",
      "5dfc4a2627e154cdda6e1583\n"
     ]
    },
    {
     "name": "stderr",
     "output_type": "stream",
     "text": [
      " 10%|▉         | 305/3101 [00:09<01:19, 35.17it/s]"
     ]
    },
    {
     "name": "stdout",
     "output_type": "stream",
     "text": [
      "5dfc4a2aeeece5cb78ece6b1\n",
      "5dfc4a7bcab131362850467a\n",
      "5dfc4a7fcab1313628504685\n",
      "5dfc4aef92fa9127f9c487cc\n",
      "5dfc4b972e744897c1e66800\n",
      "5dfc4bb0db2ba2d27aa24d4f\n",
      "5dfc4bb5a70263da31b27c11\n",
      "5dfc4bf4d5b8219a13e7dff1\n"
     ]
    },
    {
     "name": "stderr",
     "output_type": "stream",
     "text": [
      " 10%|█         | 313/3101 [00:09<01:19, 35.27it/s]"
     ]
    },
    {
     "name": "stdout",
     "output_type": "stream",
     "text": [
      "5dfc4c7fc68b4dfe7d1f1ed1\n",
      "5dfc4c83c68b4dfe7d1f1ede\n",
      "5dfc4d5353f6a1b230abb70c\n",
      "5dfc4e4751e9d21cd70f0475\n",
      "5dfc4e5f521d05797e7f986e\n",
      "5dfc4eafdb818e4cd38692d9\n",
      "5dfc4eb2db818e4cd38692ed\n",
      "5dfc50813299e003822b7143\n"
     ]
    },
    {
     "name": "stderr",
     "output_type": "stream",
     "text": [
      " 10%|█         | 321/3101 [00:09<01:19, 35.13it/s]"
     ]
    },
    {
     "name": "stdout",
     "output_type": "stream",
     "text": [
      "5dfc509cbbbce6c379d526f8\n",
      "5dfc50bbcab131362850486a\n",
      "5dfc50becab131362850487e\n",
      "5dfc51e23ddc87421667b042\n",
      "5dfc51e23ddc87421667b043\n",
      "5dfc524992fa9127f9c48a1d\n",
      "5dfc52733299e003822b71b0\n"
     ]
    },
    {
     "name": "stderr",
     "output_type": "stream",
     "text": [
      " 11%|█         | 329/3101 [00:09<01:18, 35.18it/s]"
     ]
    },
    {
     "name": "stdout",
     "output_type": "stream",
     "text": [
      "5dfc527fbf2e0b3cf6aee2ee\n",
      "5dfc53459f007b135dc2bc6a\n",
      "5dfc53cd6e02145be6275236\n",
      "5dfc55f631f3fbd32886d347\n",
      "5dfc55f831f3fbd32886d351\n",
      "5dfc55f931f3fbd32886d354\n",
      "5dfc56de92fa9127f9c48b59\n",
      "5dfc57ad6e02145be627535b\n"
     ]
    },
    {
     "name": "stderr",
     "output_type": "stream",
     "text": [
      " 11%|█         | 337/3101 [00:10<01:18, 35.17it/s]"
     ]
    },
    {
     "name": "stdout",
     "output_type": "stream",
     "text": [
      "5dfc59636e02145be6275423\n",
      "5dfc59aa513ea04cb581bdcf\n",
      "5dfc59b692fa9127f9c48bc1\n",
      "5dfc62413299e003822b7425\n",
      "5dfc6277513ea04cb581bee7\n",
      "5dfc627ddb2ba2d27aa251e9\n",
      "5dfc628bc68b4dfe7d1f2321\n",
      "5dfc63daedfb487f94b261a0\n"
     ]
    },
    {
     "name": "stderr",
     "output_type": "stream",
     "text": [
      " 11%|█         | 345/3101 [00:10<01:18, 35.20it/s]"
     ]
    },
    {
     "name": "stdout",
     "output_type": "stream",
     "text": [
      "5dfc658e549d26153cd6b36d\n",
      "5dfc65a49f007b135dc2bf5b\n",
      "5dfc65af9f007b135dc2bf80\n",
      "5dfc6613540e13036dd1c802\n",
      "5dfc679420afaad67ff292fe\n",
      "5dfc6803b601c13c48ef18d1\n",
      "5dfc68102e744897c1e66ecb\n",
      "5dfc68b0d5b8219a13e7e6f7\n"
     ]
    },
    {
     "name": "stderr",
     "output_type": "stream",
     "text": [
      " 11%|█▏        | 353/3101 [00:10<01:18, 35.12it/s]"
     ]
    },
    {
     "name": "stdout",
     "output_type": "stream",
     "text": [
      "5dfc697bb601c13c48ef193b\n",
      "5dfc69c051e9d21cd70f0a81\n",
      "5dfc69f8b601c13c48ef194e\n",
      "5dfc6a9192fa9127f9c48dbf\n",
      "5dfc6ae526b6c18e8998cadb\n",
      "5dfc6b22cd6add290761cf1f\n",
      "5dfc6b23cd6add290761cf20\n",
      "5dfc6b23cd6add290761cf21\n"
     ]
    },
    {
     "name": "stderr",
     "output_type": "stream",
     "text": [
      " 12%|█▏        | 361/3101 [00:10<01:17, 35.15it/s]"
     ]
    },
    {
     "name": "stdout",
     "output_type": "stream",
     "text": [
      "5dfc6b24cd6add290761cf25\n",
      "5dfc6b24cd6add290761cf26\n",
      "5dfc6b25cd6add290761cf29\n",
      "5dfc6bdb51e9d21cd70f0ae2\n",
      "5dfc6ca831f3fbd32886d7b2\n",
      "5dfc6d60aaa9751df22267f5\n",
      "5dfc6d60aaa9751df22267f7\n",
      "5dfc6e0acab1313628504e7b\n"
     ]
    },
    {
     "name": "stderr",
     "output_type": "stream",
     "text": [
      " 12%|█▏        | 369/3101 [00:11<01:17, 35.18it/s]"
     ]
    },
    {
     "name": "stdout",
     "output_type": "stream",
     "text": [
      "5dfc6e28a70263da31b28472\n",
      "5dfc6e81db2ba2d27aa25578\n",
      "5dfc6edce75f75b47f60359a\n",
      "5dfc6edde75f75b47f60359e\n",
      "5dfc6f7127e154cdda6e2099\n",
      "5dfc72969f007b135dc2c361\n",
      "5dfc729a9f007b135dc2c36f\n",
      "5dfc72cc513ea04cb581c399\n"
     ]
    },
    {
     "name": "stderr",
     "output_type": "stream",
     "text": [
      " 12%|█▏        | 377/3101 [00:11<01:17, 35.06it/s]"
     ]
    },
    {
     "name": "stdout",
     "output_type": "stream",
     "text": [
      "5dfc739953f6a1b230abbf8b\n",
      "5dfc75532e744897c1e672e1\n",
      "5dfc75f3a2a676bfe2c4ed31\n",
      "5dfc762fe75f75b47f603734\n",
      "5dfc76bacab1313628505042\n",
      "5dfc7780bf2e0b3cf6aeeb0a\n",
      "5dfc78c02e744897c1e67392\n",
      "5dfc78c82e744897c1e673af\n"
     ]
    },
    {
     "name": "stderr",
     "output_type": "stream",
     "text": [
      " 12%|█▏        | 385/3101 [00:11<01:17, 35.14it/s]"
     ]
    },
    {
     "name": "stdout",
     "output_type": "stream",
     "text": [
      "5dfc79dc3299e003822b7aaf\n",
      "5dfc7a9e9f007b135dc2c50c\n",
      "5dfc7b63549d26153cd6b963\n",
      "5dfc7c5253f6a1b230abc146\n",
      "5dfc7c743299e003822b7b31\n",
      "5dfc7cdb92fa9127f9c4918f\n",
      "5dfc7ce4cab13136285051d9\n",
      "5dfc7d72e75f75b47f6038bf\n"
     ]
    },
    {
     "name": "stderr",
     "output_type": "stream",
     "text": [
      " 13%|█▎        | 393/3101 [00:11<01:17, 35.13it/s]"
     ]
    },
    {
     "name": "stdout",
     "output_type": "stream",
     "text": [
      "5dfc7eff890c585874081193\n",
      "5dfc7f68549d26153cd6b9fe\n",
      "5dfc7fe231f3fbd32886dc70\n",
      "5dfc7fff6e02145be6275b6b\n",
      "5dfc8034521d05797e7fa579\n",
      "5dfc80b127e154cdda6e24f7\n",
      "5dfc80b327e154cdda6e2500\n",
      "5dfc80b6b601c13c48ef1de2\n"
     ]
    },
    {
     "name": "stderr",
     "output_type": "stream",
     "text": [
      " 13%|█▎        | 401/3101 [00:11<01:16, 35.15it/s]"
     ]
    },
    {
     "name": "stdout",
     "output_type": "stream",
     "text": [
      "5dfc80b9eeece5cb78ecf285\n",
      "5dfc80baeeece5cb78ecf287\n",
      "5dfc834f7ce0ff01df13efd0\n",
      "5dfc8394edfb487f94b26889\n",
      "5dfc8570eeece5cb78ecf41d\n",
      "5dfc85dbedfb487f94b2691f\n",
      "5dfc868441da3f509db99065\n",
      "5dfc87163ddc87421667bc7b\n"
     ]
    },
    {
     "name": "stderr",
     "output_type": "stream",
     "text": [
      " 13%|█▎        | 409/3101 [00:12<01:16, 35.24it/s]"
     ]
    },
    {
     "name": "stdout",
     "output_type": "stream",
     "text": [
      "5dfc87539f007b135dc2c755\n",
      "5dfc88393299e003822b7da8\n",
      "5dfc8a2153f6a1b230abc4de\n",
      "5dfc8ade7ce0ff01df13f166\n",
      "5dfc8ae9eeece5cb78ecf534\n",
      "5dfc8b3926b6c18e8998d373\n",
      "5dfc8cab7931d329d8ff106d\n",
      "5dfc8dbd6e02145be6275f01\n"
     ]
    },
    {
     "name": "stderr",
     "output_type": "stream",
     "text": [
      " 13%|█▎        | 417/3101 [00:12<01:16, 35.22it/s]"
     ]
    },
    {
     "name": "stdout",
     "output_type": "stream",
     "text": [
      "5dfc8e15a70263da31b28bf4\n",
      "5dfc8e1951e9d21cd70f12ad\n",
      "5dfc8e1b51e9d21cd70f12b1\n",
      "5dfc8e3ed5b8219a13e7ef17\n",
      "5dfc902bb601c13c48ef21b9\n",
      "5dfc902bb601c13c48ef21be\n",
      "5dfc90f9a2a676bfe2c4f2eb\n",
      "5dfc913d92fa9127f9c495fb\n"
     ]
    },
    {
     "name": "stderr",
     "output_type": "stream",
     "text": [
      " 14%|█▎        | 425/3101 [00:12<01:16, 35.18it/s]"
     ]
    },
    {
     "name": "stdout",
     "output_type": "stream",
     "text": [
      "5dfc92af51e9d21cd70f137e\n",
      "5dfc92fc3299e003822b8140\n",
      "5dfc93326e02145be627604c\n",
      "5dfc944c31f3fbd32886e10c\n",
      "5dfc9541bf2e0b3cf6aef272\n",
      "5dfc9566d5b8219a13e7f190\n",
      "5dfc9803549d26153cd6c01b\n",
      "5dfc98b2aaa9751df22272d7\n"
     ]
    },
    {
     "name": "stderr",
     "output_type": "stream",
     "text": [
      " 14%|█▍        | 433/3101 [00:12<01:15, 35.20it/s]"
     ]
    },
    {
     "name": "stdout",
     "output_type": "stream",
     "text": [
      "5dfc98f6540e13036dd1d573\n",
      "5dfc99a72e744897c1e67af9\n",
      "5dfc99dbe75f75b47f603fb5\n",
      "5dfc99dce75f75b47f603fb8\n",
      "5dfc9a4bcab13136285058d8\n",
      "5dfc9a7a549d26153cd6c0f5\n",
      "5dfc9a8e7ce0ff01df13f50e\n",
      "5dfc9b8573157c57b827f472\n"
     ]
    },
    {
     "name": "stderr",
     "output_type": "stream",
     "text": [
      " 14%|█▍        | 441/3101 [00:13<01:15, 35.29it/s]"
     ]
    },
    {
     "name": "stdout",
     "output_type": "stream",
     "text": [
      "5e01f75f1d2c59b3cc3c3546\n",
      "5e01f7fe7d7b40bdc70e68f1\n",
      "5e01f8017d7b40bdc70e68fc\n",
      "5e01f8047d7b40bdc70e690a\n",
      "5e01f8057d7b40bdc70e690e\n",
      "5e01f80d7d7b40bdc70e6933\n",
      "5e01f8759a4a601708614769\n",
      "5e01f95730ac50bea26df6ce\n"
     ]
    },
    {
     "name": "stderr",
     "output_type": "stream",
     "text": [
      " 14%|█▍        | 449/3101 [00:13<01:15, 35.26it/s]"
     ]
    },
    {
     "name": "stdout",
     "output_type": "stream",
     "text": [
      "5e01f9f8bbca78fe9ccde188\n",
      "5e01fa7265c864d5a78046b5\n",
      "5e01fb1637871d70d55c9667\n",
      "5e01fc37d7cadb7e1a7eab5f\n",
      "5e01fccb5bdcefce371880ba\n",
      "5e01fccc5bdcefce371880bb\n",
      "5e01fccc5bdcefce371880bc\n",
      "5e01fccc5bdcefce371880bd\n"
     ]
    },
    {
     "name": "stderr",
     "output_type": "stream",
     "text": [
      " 15%|█▍        | 457/3101 [00:13<01:14, 35.27it/s]"
     ]
    },
    {
     "name": "stdout",
     "output_type": "stream",
     "text": [
      "5e01fccd5bdcefce371880be\n",
      "5e01fccf5bdcefce371880c3\n",
      "5e01fcd15bdcefce371880ca\n",
      "5e01fcd35bdcefce371880cc\n",
      "5e01fcd35bdcefce371880cd\n",
      "5e01fcd35bdcefce371880ce\n",
      "5e01fcd45bdcefce371880cf\n",
      "5e01fcd55bdcefce371880d3\n"
     ]
    },
    {
     "name": "stderr",
     "output_type": "stream",
     "text": [
      " 15%|█▍        | 465/3101 [00:13<01:14, 35.28it/s]"
     ]
    },
    {
     "name": "stdout",
     "output_type": "stream",
     "text": [
      "5e01fcd65bdcefce371880d6\n",
      "5e01fcd75bdcefce371880d7\n",
      "5e01fcd85bdcefce371880d9\n",
      "5e01fcda5bdcefce371880df\n",
      "5e01fcdc5bdcefce371880e4\n",
      "5e01fd116991b8506da07fa8\n",
      "5e01fee1606f1ebb7cc4fe3d\n",
      "5e0204b6becbd4a19d35b2c5\n"
     ]
    },
    {
     "name": "stderr",
     "output_type": "stream",
     "text": [
      " 15%|█▌        | 473/3101 [00:13<01:14, 35.24it/s]"
     ]
    },
    {
     "name": "stdout",
     "output_type": "stream",
     "text": [
      "5e0204b8becbd4a19d35b2ce\n",
      "5e020581353818a97d69152b\n",
      "5e02058f96887f334cf97dee\n",
      "5e0205c47267f881f0aea7d1\n",
      "5e0207160046dfbf0228a510\n",
      "5e0207bca980f0d39326021b\n",
      "5e020966f9cdacd1ddcd3f64\n",
      "5e020d65353818a97d691638\n"
     ]
    },
    {
     "name": "stderr",
     "output_type": "stream",
     "text": [
      " 16%|█▌        | 481/3101 [00:14<01:14, 35.25it/s]"
     ]
    },
    {
     "name": "stdout",
     "output_type": "stream",
     "text": [
      "5e020deb79c4ece63bce755f\n",
      "5e020dff96887f334cf97ee6\n",
      "5e020ead85dcc9f5e4cc41fe\n",
      "5e0210246991b8506da0823e\n",
      "5e0210b66eb4cb61d782954a\n",
      "5e0210b76eb4cb61d7829550\n",
      "5e0210bb6eb4cb61d7829561\n",
      "5e0210be6eb4cb61d782956d\n"
     ]
    },
    {
     "name": "stderr",
     "output_type": "stream",
     "text": [
      " 16%|█▌        | 489/3101 [00:14<01:14, 35.19it/s]"
     ]
    },
    {
     "name": "stdout",
     "output_type": "stream",
     "text": [
      "5e0210c16eb4cb61d7829576\n",
      "5e0210c26eb4cb61d782957a\n",
      "5e0210c56eb4cb61d782957d\n",
      "5e02116fbbdbb53c75516872\n",
      "5e021201a980f0d393260397\n",
      "5e021202a980f0d39326039c\n",
      "5e021bd830ac50bea26dfa52\n",
      "5e021dce0046dfbf0228a790\n"
     ]
    },
    {
     "name": "stderr",
     "output_type": "stream",
     "text": [
      " 16%|█▌        | 497/3101 [00:14<01:13, 35.20it/s]"
     ]
    },
    {
     "name": "stdout",
     "output_type": "stream",
     "text": [
      "5e02218f8e38314b1023349e\n",
      "5e0221b0606f1ebb7cc5018b\n",
      "5e0221ba37871d70d55c9ad2\n",
      "5e0221c437871d70d55c9ad6\n",
      "5e0221c437871d70d55c9ad9\n",
      "5e0221c837871d70d55c9ae1\n",
      "5e0221c937871d70d55c9ae3\n",
      "5e0221cd37871d70d55c9af3\n"
     ]
    },
    {
     "name": "stderr",
     "output_type": "stream",
     "text": [
      " 16%|█▋        | 505/3101 [00:14<01:13, 35.20it/s]"
     ]
    },
    {
     "name": "stdout",
     "output_type": "stream",
     "text": [
      "5e02222f353818a97d6917f1\n",
      "5e022264a48a19baff44c637\n",
      "5e0222ab6991b8506da08485\n",
      "5e0222d069ee4e1dce8f35ce\n",
      "5e0222d369ee4e1dce8f35d6\n",
      "5e0222d469ee4e1dce8f35d9\n",
      "5e0222d969ee4e1dce8f35ed\n",
      "5e0222d969ee4e1dce8f35f1\n"
     ]
    },
    {
     "name": "stderr",
     "output_type": "stream",
     "text": [
      " 17%|█▋        | 513/3101 [00:15<01:13, 35.21it/s]"
     ]
    },
    {
     "name": "stdout",
     "output_type": "stream",
     "text": [
      "5e02238aa48a19baff44c645\n",
      "5e02253c7d7b40bdc70e6c63\n",
      "5e0225b385dcc9f5e4cc43cf\n",
      "5e0228e40725f638f8326517\n",
      "5e022a1e9a4a601708614e09\n",
      "5e022af91dec0efca9d28bd2\n",
      "5e022b086ec81916385909a0\n",
      "5e022b086ec81916385909a1\n"
     ]
    },
    {
     "name": "stderr",
     "output_type": "stream",
     "text": [
      " 17%|█▋        | 521/3101 [00:15<01:13, 35.16it/s]"
     ]
    },
    {
     "name": "stdout",
     "output_type": "stream",
     "text": [
      "5e022b096ec81916385909a6\n",
      "5e022d9169ee4e1dce8f3797\n",
      "5e022d9e7267f881f0aead12\n",
      "5e022da07267f881f0aead1e\n",
      "5e022da27267f881f0aead26\n",
      "5e022da37267f881f0aead29\n",
      "5e022daa7267f881f0aead42\n",
      "5e022daa7267f881f0aead44\n"
     ]
    },
    {
     "name": "stderr",
     "output_type": "stream",
     "text": [
      " 17%|█▋        | 529/3101 [00:15<01:13, 35.17it/s]"
     ]
    },
    {
     "name": "stdout",
     "output_type": "stream",
     "text": [
      "5e022e5e85dcc9f5e4cc4460\n",
      "5e022e6185dcc9f5e4cc446b\n",
      "5e0230e4a3c1a6a847401f2c\n",
      "5e02313a5ce6ff0dca1a7a38\n",
      "5e02313a5ce6ff0dca1a7a3a\n",
      "5e0231a4e170dad5a3019034\n",
      "5e0231db7d7b40bdc70e6e00\n",
      "5e0233db69ee4e1dce8f3863\n"
     ]
    },
    {
     "name": "stderr",
     "output_type": "stream",
     "text": [
      " 17%|█▋        | 537/3101 [00:15<01:12, 35.17it/s]"
     ]
    },
    {
     "name": "stdout",
     "output_type": "stream",
     "text": [
      "5e02345c649688e71d564e89\n",
      "5e0235bbd483815cfe522a08\n",
      "5e023706becbd4a19d35b913\n",
      "5e02377982025fabebe3b0dd\n",
      "5e0237f49a4a601708614fab\n",
      "5e0239b5b2e3bf3a4ea75499\n",
      "5e023a5c65c864d5a7804e9b\n",
      "5e023a6065c864d5a7804eac\n"
     ]
    },
    {
     "name": "stderr",
     "output_type": "stream",
     "text": [
      " 18%|█▊        | 545/3101 [00:16<01:12, 35.19it/s]"
     ]
    },
    {
     "name": "stdout",
     "output_type": "stream",
     "text": [
      "5e023a6065c864d5a7804eae\n",
      "5e023adb5ce6ff0dca1a7bc5\n",
      "5e023c5c6991b8506da0880b\n",
      "5e023e1379bd3e0313c4ce47\n",
      "5e0249ef9a4a6017086150de\n",
      "5e024a10649688e71d565054\n",
      "5e024c5085dcc9f5e4cc48a8\n",
      "5e024c5385dcc9f5e4cc48b4\n"
     ]
    },
    {
     "name": "stderr",
     "output_type": "stream",
     "text": [
      " 18%|█▊        | 553/3101 [00:16<01:12, 35.12it/s]"
     ]
    },
    {
     "name": "stdout",
     "output_type": "stream",
     "text": [
      "5e024c5485dcc9f5e4cc48b7\n",
      "5e024d5253d8049a4a95f16f\n",
      "5e024d806eb4cb61d7829cdd\n",
      "5e024d816eb4cb61d7829cdf\n",
      "5e024d846eb4cb61d7829ce9\n",
      "5e024da3f9cdacd1ddcd46bf\n",
      "5e024dab30ac50bea26e0011\n",
      "5e024f2dd98eab58fb063bdc\n"
     ]
    },
    {
     "name": "stderr",
     "output_type": "stream",
     "text": [
      " 18%|█▊        | 561/3101 [00:16<01:12, 35.12it/s]"
     ]
    },
    {
     "name": "stdout",
     "output_type": "stream",
     "text": [
      "5e024f7105e10908b7ae639c\n",
      "5e025164ce3bb8be4ca7fc78\n",
      "5e02518385dcc9f5e4cc4933\n",
      "5e02522f649688e71d5651d5\n",
      "5e02522f649688e71d5651d8\n",
      "5e02531185dcc9f5e4cc4995\n",
      "5e02531385dcc9f5e4cc499b\n",
      "5e02535e37871d70d55c9fad\n"
     ]
    },
    {
     "name": "stderr",
     "output_type": "stream",
     "text": [
      " 18%|█▊        | 569/3101 [00:16<01:11, 35.19it/s]"
     ]
    },
    {
     "name": "stdout",
     "output_type": "stream",
     "text": [
      "5e02543f5ce6ff0dca1a7e25\n",
      "5e0254445ce6ff0dca1a7e39\n",
      "5e0255286080842660098e8a\n",
      "5e0255dcd98eab58fb063d02\n",
      "5e0258e26080842660098ed0\n",
      "5e0259a8ce3bb8be4ca7fd59\n",
      "5e0259aace3bb8be4ca7fd62\n",
      "5e0259aace3bb8be4ca7fd63\n"
     ]
    },
    {
     "name": "stderr",
     "output_type": "stream",
     "text": [
      " 19%|█▊        | 577/3101 [00:16<01:11, 35.20it/s]"
     ]
    },
    {
     "name": "stdout",
     "output_type": "stream",
     "text": [
      "5e0259abce3bb8be4ca7fd64\n",
      "5e0259aece3bb8be4ca7fd6c\n",
      "5e025a5dd98eab58fb063da8\n",
      "5e025aa48e38314b10233d90\n",
      "5e025ab97f75a4c94dbf2ed9\n",
      "5e025addea78a89595085b0a\n",
      "5e025adfea78a89595085b13\n",
      "5e025adfea78a89595085b15\n"
     ]
    },
    {
     "name": "stderr",
     "output_type": "stream",
     "text": [
      " 19%|█▉        | 585/3101 [00:17<01:11, 35.13it/s]"
     ]
    },
    {
     "name": "stdout",
     "output_type": "stream",
     "text": [
      "5e025ae3ea78a89595085b23\n",
      "5e025ae3ea78a89595085b25\n",
      "5e025aebea78a89595085b40\n",
      "5e025aecea78a89595085b44\n",
      "5e025aee7267f881f0aeb290\n",
      "5e025af37267f881f0aeb2a0\n",
      "5e025af47267f881f0aeb2a3\n",
      "5e025af5ea78a89595085b65\n"
     ]
    },
    {
     "name": "stderr",
     "output_type": "stream",
     "text": [
      " 19%|█▉        | 593/3101 [00:17<01:11, 35.17it/s]"
     ]
    },
    {
     "name": "stdout",
     "output_type": "stream",
     "text": [
      "5e025af6ea78a89595085b6a\n",
      "5e025e707c419d1a3d8bd2e1\n",
      "5e025f85f9cdacd1ddcd499a\n",
      "5e026065275a25100faaec4f\n",
      "5e02608e69ee4e1dce8f3e31\n",
      "5e026678d9d28ecba7113c70\n",
      "5e026678d9d28ecba7113c71\n",
      "5e02678505e10908b7ae6718\n"
     ]
    },
    {
     "name": "stderr",
     "output_type": "stream",
     "text": [
      " 19%|█▉        | 601/3101 [00:17<01:11, 35.17it/s]"
     ]
    },
    {
     "name": "stdout",
     "output_type": "stream",
     "text": [
      "5e0267e66eb4cb61d782a0c9\n",
      "5e0267e76eb4cb61d782a0ca\n",
      "5e02698b8e38314b10233f56\n",
      "5e026a006eb4cb61d782a111\n",
      "5e026b05d695155b6fb42f6e\n",
      "5e026b6879c4ece63bce808f\n",
      "5e026e87d98eab58fb063fff\n",
      "5e026e87d98eab58fb064001\n"
     ]
    },
    {
     "name": "stderr",
     "output_type": "stream",
     "text": [
      " 20%|█▉        | 609/3101 [00:17<01:10, 35.18it/s]"
     ]
    },
    {
     "name": "stdout",
     "output_type": "stream",
     "text": [
      "5e026f8fa3c1a6a847402621\n",
      "5e02716a9a4a6017086155de\n",
      "5e02717696887f334cf98b87\n",
      "5e02720005e10908b7ae686a\n",
      "5e0272cd7dec2c26b25fc7ac\n",
      "5e0273dea3c1a6a847402715\n",
      "5e027499becbd4a19d35c2a1\n",
      "5e0274b6ea78a89595085dc1\n"
     ]
    },
    {
     "name": "stderr",
     "output_type": "stream",
     "text": [
      "\r",
      " 20%|█▉        | 613/3101 [00:17<01:10, 35.20it/s]"
     ]
    },
    {
     "name": "stdout",
     "output_type": "stream",
     "text": [
      "5e0276007dec2c26b25fc841\n",
      "5e027635ea78a89595085df0\n",
      "5e027671606f1ebb7cc50cb0\n",
      "5e027840275a25100faaee98\n",
      "5e027841275a25100faaee9d\n",
      "5e027841275a25100faaeea4\n"
     ]
    },
    {
     "name": "stderr",
     "output_type": "stream",
     "text": [
      " 20%|██        | 621/3101 [00:19<03:16, 12.60it/s]"
     ]
    },
    {
     "name": "stdout",
     "output_type": "stream",
     "text": [
      "5e027842275a25100faaeeac\n",
      "5e027844275a25100faaeeb5\n",
      "5e027844275a25100faaeeb6\n",
      "5e027844275a25100faaeeb7\n",
      "5e027845275a25100faaeeb8\n",
      "5e027845275a25100faaeeb9\n",
      "5e027845275a25100faaeeba\n",
      "5e0278f56eb4cb61d782a2de\n"
     ]
    },
    {
     "name": "stderr",
     "output_type": "stream",
     "text": [
      " 20%|██        | 629/3101 [00:19<02:12, 18.72it/s]"
     ]
    },
    {
     "name": "stdout",
     "output_type": "stream",
     "text": [
      "5e0279330046dfbf0228b35a\n",
      "5e027ed2275a25100faaef06\n",
      "5e029276b2e3bf3a4ea75e1e\n",
      "5e02927cb2e3bf3a4ea75e32\n",
      "5e0292e0e170dad5a3019ce0\n",
      "5e0292f7d9d28ecba7114173\n",
      "5e02964d6ec8191638591598\n",
      "5e02975469ee4e1dce8f4267\n"
     ]
    },
    {
     "name": "stderr",
     "output_type": "stream",
     "text": [
      " 21%|██        | 637/3101 [00:19<01:40, 24.62it/s]"
     ]
    },
    {
     "name": "stdout",
     "output_type": "stream",
     "text": [
      "5e02975669ee4e1dce8f426d\n",
      "5e0298798e38314b102343bd\n",
      "5e02987a8e38314b102343be\n",
      "5e0299a0a48a19baff44d255\n",
      "5e0299d79ac2235ce37d9dd3\n",
      "5e0299db9ac2235ce37d9de5\n",
      "5e0299dc9ac2235ce37d9de8\n",
      "5e0299dd9ac2235ce37d9dea\n"
     ]
    },
    {
     "name": "stderr",
     "output_type": "stream",
     "text": [
      " 21%|██        | 645/3101 [00:19<01:24, 29.10it/s]"
     ]
    },
    {
     "name": "stdout",
     "output_type": "stream",
     "text": [
      "5e0299de9ac2235ce37d9deb\n",
      "5e029a8c5ce6ff0dca1a85b3\n",
      "5e029a8e5ce6ff0dca1a85b9\n",
      "5e029a9c7f75a4c94dbf3440\n",
      "5e029cf2606f1ebb7cc5102c\n",
      "5e029e23d98eab58fb064444\n",
      "5e029e25d98eab58fb06444f\n",
      "5e029e2d7f75a4c94dbf34f4\n"
     ]
    },
    {
     "name": "stderr",
     "output_type": "stream",
     "text": [
      " 21%|██        | 653/3101 [00:20<01:16, 31.96it/s]"
     ]
    },
    {
     "name": "stdout",
     "output_type": "stream",
     "text": [
      "5e029ef9a48a19baff44d318\n",
      "5e029efba48a19baff44d31f\n",
      "5e029efba48a19baff44d321\n",
      "5e029efea48a19baff44d32a\n",
      "5e029f01a48a19baff44d333\n",
      "5e029f5ad483815cfe523513\n",
      "5e029f5b69ee4e1dce8f43a0\n",
      "5e029fc19a4a6017086159b7\n"
     ]
    },
    {
     "name": "stderr",
     "output_type": "stream",
     "text": [
      " 21%|██▏       | 661/3101 [00:20<01:12, 33.59it/s]"
     ]
    },
    {
     "name": "stdout",
     "output_type": "stream",
     "text": [
      "5e02a041e170dad5a3019e6c\n",
      "5e02a041e170dad5a3019e70\n",
      "5e02a045e170dad5a3019e7f\n",
      "5e02a35c6eb4cb61d782a696\n",
      "5e02a55a37871d70d55ca728\n",
      "5e02a5916080842660099632\n",
      "5e02a6636b7d31397869d478\n",
      "5e02a88e8a10368c20cdd067\n"
     ]
    },
    {
     "name": "stderr",
     "output_type": "stream",
     "text": [
      " 22%|██▏       | 669/3101 [00:20<01:10, 34.42it/s]"
     ]
    },
    {
     "name": "stdout",
     "output_type": "stream",
     "text": [
      "5e02a8c385dcc9f5e4cc5237\n",
      "5e02b09da3c1a6a847402c09\n",
      "5e02b1368f7111d26dd3b49a\n",
      "5e02b20596887f334cf9931c\n",
      "5e02b22c8a10368c20cdd1e4\n",
      "5e02b2c9597262b5f1bdab70\n",
      "5e02b35dce3bb8be4ca805f9\n",
      "5e02b35e30ac50bea26e0c31\n"
     ]
    },
    {
     "name": "stderr",
     "output_type": "stream",
     "text": [
      " 22%|██▏       | 677/3101 [00:20<01:09, 34.86it/s]"
     ]
    },
    {
     "name": "stdout",
     "output_type": "stream",
     "text": [
      "5e02b35ece3bb8be4ca805fc\n",
      "5e02b35fce3bb8be4ca805fe\n",
      "5e02b45a6b7d31397869d647\n",
      "5e02b4fc69ee4e1dce8f4619\n",
      "5e02b6ae7267f881f0aebc67\n",
      "5e02b6af7267f881f0aebc6b\n",
      "5e02b78b143863a19c1c1ee7\n",
      "5e02b97653d8049a4a95ff02\n"
     ]
    },
    {
     "name": "stderr",
     "output_type": "stream",
     "text": [
      " 22%|██▏       | 685/3101 [00:20<01:08, 35.04it/s]"
     ]
    },
    {
     "name": "stdout",
     "output_type": "stream",
     "text": [
      "5e02b9cc8e38314b10234732\n",
      "5e02bac4a980f0d3932616c1\n",
      "5e02bb6d60808426600997c8\n",
      "5e02bbe3a48a19baff44d691\n",
      "5e02bd305ce6ff0dca1a8a9d\n",
      "5e02be3e5bdcefce37189613\n",
      "5e02be415bdcefce3718961f\n",
      "5e02be8c85dcc9f5e4cc5408\n"
     ]
    },
    {
     "name": "stderr",
     "output_type": "stream",
     "text": [
      " 22%|██▏       | 693/3101 [00:21<01:08, 35.10it/s]"
     ]
    },
    {
     "name": "stdout",
     "output_type": "stream",
     "text": [
      "5e02cb0353d8049a4a960053\n",
      "5e02ccc5bdc0cfdae6511976\n",
      "5e02cd180046dfbf0228bbbc\n",
      "5e02cf55ce3bb8be4ca808a2\n",
      "5e02cf7ed98eab58fb0649cb\n",
      "5e02cfe0bdc0cfdae6511a09\n",
      "5e02e478bbdbb53c75517ca6\n",
      "5e02e4ee143863a19c1c2348\n"
     ]
    },
    {
     "name": "stderr",
     "output_type": "stream",
     "text": [
      " 23%|██▎       | 701/3101 [00:21<01:08, 35.14it/s]"
     ]
    },
    {
     "name": "stdout",
     "output_type": "stream",
     "text": [
      "5e02e4f1143863a19c1c2351\n",
      "5e02e4f4143863a19c1c2359\n",
      "5e02e4f5143863a19c1c235e\n",
      "5e02e4f6143863a19c1c2360\n",
      "5e02e61f37871d70d55cac0a\n",
      "5e02e63a6ec8191638591d0c\n",
      "5e02ed3079bd3e0313c4df37\n",
      "5e02ed59bdc0cfdae6511b43\n"
     ]
    },
    {
     "name": "stderr",
     "output_type": "stream",
     "text": [
      " 23%|██▎       | 709/3101 [00:21<01:07, 35.18it/s]"
     ]
    },
    {
     "name": "stdout",
     "output_type": "stream",
     "text": [
      "5e02ed5abdc0cfdae6511b47\n",
      "5e02ede06b7d31397869db3b\n",
      "5e02f060d695155b6fb43b04\n",
      "5e02fb84d695155b6fb43b76\n",
      "5e02fc99d9d28ecba7114e3a\n",
      "5e02fd81a48a19baff44da9c\n",
      "5e02ff4f5bdcefce37189b1f\n",
      "5e02ff505bdcefce37189b20\n"
     ]
    },
    {
     "name": "stderr",
     "output_type": "stream",
     "text": [
      " 23%|██▎       | 717/3101 [00:21<01:07, 35.17it/s]"
     ]
    },
    {
     "name": "stdout",
     "output_type": "stream",
     "text": [
      "5e030c3921a958e7ab49b117\n",
      "5e0310898f7111d26dd3bbd9\n",
      "5e0312c3b2e3bf3a4ea76adc\n",
      "5e0312c3b2e3bf3a4ea76ade\n",
      "5e0312c5b2e3bf3a4ea76ae6\n",
      "5e0312c7b2e3bf3a4ea76aec\n",
      "5e0312c8b2e3bf3a4ea76aef\n",
      "5e0312c9b2e3bf3a4ea76af4\n"
     ]
    },
    {
     "name": "stderr",
     "output_type": "stream",
     "text": [
      " 23%|██▎       | 725/3101 [00:22<01:07, 35.23it/s]"
     ]
    },
    {
     "name": "stdout",
     "output_type": "stream",
     "text": [
      "5e0312cdb2e3bf3a4ea76b04\n",
      "5e0312cfb2e3bf3a4ea76b0c\n",
      "5e0312d2b2e3bf3a4ea76b18\n",
      "5e0312d2b2e3bf3a4ea76b1a\n",
      "5e0312d3b2e3bf3a4ea76b22\n",
      "5e0312d4b2e3bf3a4ea76b23\n",
      "5e0312d5b2e3bf3a4ea76b29\n",
      "5e0313037f75a4c94dbf4228\n"
     ]
    },
    {
     "name": "stderr",
     "output_type": "stream",
     "text": [
      " 24%|██▎       | 733/3101 [00:22<01:07, 35.23it/s]"
     ]
    },
    {
     "name": "stdout",
     "output_type": "stream",
     "text": [
      "5e0313056991b8506da09ba4\n",
      "5e0313276b7d31397869de7e\n",
      "5e031a0f79bd3e0313c4e335\n",
      "5e031a140046dfbf0228c169\n",
      "5e031aea0725f638f8327d0b\n",
      "5e031becd7142ed897cefc70\n",
      "5e031ee8d695155b6fb43f05\n",
      "5e032b80884a582cd0477bab\n"
     ]
    },
    {
     "name": "stderr",
     "output_type": "stream",
     "text": [
      " 24%|██▍       | 741/3101 [00:22<01:06, 35.25it/s]"
     ]
    },
    {
     "name": "stdout",
     "output_type": "stream",
     "text": [
      "5e032edd31b0280b4b539f87\n",
      "5e032f532c97090e7c3c3c18\n",
      "5e033141e12fd0cea232cfb3\n",
      "5e0331649163142ed6bc749e\n",
      "5e03329fe04e40d2104ca7a2\n",
      "5e0332ba701cae5d0606cda9\n",
      "5e0332bc701cae5d0606cdaf\n",
      "5e033bb6b47eca2633661f21\n"
     ]
    },
    {
     "name": "stderr",
     "output_type": "stream",
     "text": [
      " 24%|██▍       | 749/3101 [00:22<01:06, 35.26it/s]"
     ]
    },
    {
     "name": "stdout",
     "output_type": "stream",
     "text": [
      "5e033e936bca9b005c3744ea\n",
      "5e033f3df623fcf2264b0ec3\n",
      "5e03402943fd4ce35d03a39f\n",
      "5e03418bc13277d8fa4fb97a\n",
      "5e03418cc13277d8fa4fb983\n",
      "5e0341dd3598ec378ea49164\n",
      "5e03430a33867039e4955dfb\n",
      "5e03430a33867039e4955dfc\n"
     ]
    },
    {
     "name": "stderr",
     "output_type": "stream",
     "text": [
      " 24%|██▍       | 757/3101 [00:23<01:06, 35.14it/s]"
     ]
    },
    {
     "name": "stdout",
     "output_type": "stream",
     "text": [
      "5e03430b33867039e4955e00\n",
      "5e0344e6897f8f461b3de100\n",
      "5e03454889e3234dced57219\n",
      "5e0346116c57e0457cf6f89d\n",
      "5e03462abc1d8277dc79b5ec\n",
      "5e03513e897f8f461b3de169\n",
      "5e035144897f8f461b3de180\n",
      "5e035146897f8f461b3de188\n"
     ]
    },
    {
     "name": "stderr",
     "output_type": "stream",
     "text": [
      " 25%|██▍       | 765/3101 [00:23<01:06, 35.03it/s]"
     ]
    },
    {
     "name": "stdout",
     "output_type": "stream",
     "text": [
      "5e035147897f8f461b3de18c\n",
      "5e035149897f8f461b3de192\n",
      "5e03514c897f8f461b3de19c\n",
      "5e035356484257f22990b378\n",
      "5e03538b1a7be17cbdd3c5a9\n",
      "5e0353901a7be17cbdd3c5cb\n",
      "5e0353931a7be17cbdd3c5df\n",
      "5e0353aaed98641788e0cfed\n"
     ]
    },
    {
     "name": "stderr",
     "output_type": "stream",
     "text": [
      " 25%|██▍       | 773/3101 [00:23<01:06, 34.95it/s]"
     ]
    },
    {
     "name": "stdout",
     "output_type": "stream",
     "text": [
      "5e03541973a22d8fef56c447\n",
      "5e0367e9524de8afda2d249e\n",
      "5e03696c3062aa0d2f8800f2\n",
      "5e036ac22239b6b346e6a4d7\n",
      "5e036b0d3062aa0d2f880116\n",
      "5e036b0e3062aa0d2f880117\n",
      "5e036b123062aa0d2f880128\n",
      "5e036b31b8a4f909bcb266a0\n"
     ]
    },
    {
     "name": "stderr",
     "output_type": "stream",
     "text": [
      " 25%|██▌       | 781/3101 [00:23<01:06, 34.97it/s]"
     ]
    },
    {
     "name": "stdout",
     "output_type": "stream",
     "text": [
      "5e036c2dab431aaaeaaaae4f\n",
      "5e036c53897f8f461b3de2c7\n",
      "5e036c58897f8f461b3de2d7\n",
      "5e036c58897f8f461b3de2d8\n",
      "5e036db267f28c56a5102bb4\n",
      "5e036db267f28c56a5102bb6\n",
      "5e036de343fd4ce35d03a669\n",
      "5e03700ed9c860524a2c2f40\n"
     ]
    },
    {
     "name": "stderr",
     "output_type": "stream",
     "text": [
      " 25%|██▌       | 789/3101 [00:23<01:06, 34.95it/s]"
     ]
    },
    {
     "name": "stdout",
     "output_type": "stream",
     "text": [
      "5e0371403062aa0d2f88016e\n",
      "5e03719b73a22d8fef56c63f\n",
      "5e0372bc6958f95286239a96\n",
      "5e0372be6958f95286239a9e\n",
      "5e0372bf6958f95286239aa1\n",
      "5e0372c06958f95286239aa5\n",
      "5e0372c06958f95286239aa7\n",
      "5e0372c16958f95286239aaa\n"
     ]
    },
    {
     "name": "stderr",
     "output_type": "stream",
     "text": [
      " 26%|██▌       | 797/3101 [00:24<01:05, 35.00it/s]"
     ]
    },
    {
     "name": "stdout",
     "output_type": "stream",
     "text": [
      "5e0372c66958f95286239abd\n",
      "5e0372c86958f95286239ac2\n",
      "5e0372cd6958f95286239ad4\n",
      "5e0372d36958f95286239aed\n",
      "5e0392f373a22d8fef56c6f1\n",
      "5e0392f773a22d8fef56c700\n",
      "5e03950b895cde87c98bd236\n",
      "5e039511895cde87c98bd249\n"
     ]
    },
    {
     "name": "stderr",
     "output_type": "stream",
     "text": [
      " 26%|██▌       | 805/3101 [00:24<01:05, 35.00it/s]"
     ]
    },
    {
     "name": "stdout",
     "output_type": "stream",
     "text": [
      "5e039512895cde87c98bd24e\n",
      "5e039512895cde87c98bd24f\n",
      "5e039515895cde87c98bd25d\n",
      "5e039516895cde87c98bd25f\n",
      "5e039586ebc02109584dc21e\n",
      "5e039772c6758f29938fc15a\n",
      "5e0397c71010d8bea1e68423\n",
      "5e039a9f895cde87c98bd2a3\n"
     ]
    },
    {
     "name": "stderr",
     "output_type": "stream",
     "text": [
      " 26%|██▌       | 813/3101 [00:24<01:05, 35.00it/s]"
     ]
    },
    {
     "name": "stdout",
     "output_type": "stream",
     "text": [
      "5e039b30b0646dbaae2ab9ec\n",
      "5e039b4e6958f95286239c72\n",
      "5e039ce8c9367884324ac15a\n",
      "5e039dd042d5e38bb6727b20\n",
      "5e03a95e57fef25f2d1ca2c4\n",
      "5e03aeecc9367884324ac24d\n",
      "5e03bfb96c552c5b47104231\n",
      "5e03c008b0646dbaae2abbd3\n"
     ]
    },
    {
     "name": "stderr",
     "output_type": "stream",
     "text": [
      " 26%|██▋       | 821/3101 [00:24<01:05, 34.97it/s]"
     ]
    },
    {
     "name": "stdout",
     "output_type": "stream",
     "text": [
      "5e03c06ae4224dd0e1d295cb\n",
      "5e03c38c0742bb7579f82316\n",
      "5e03c485897f8f461b3de6ea\n",
      "5e03c4c8893e9849d6f91cc9\n",
      "5e03ca85a687ab91f9220a29\n",
      "5e03ca87a687ab91f9220a2e\n",
      "5e03cb79bc1d8277dc79bb65\n",
      "5e03cc3e9a879e780f85187b\n"
     ]
    },
    {
     "name": "stderr",
     "output_type": "stream",
     "text": [
      " 27%|██▋       | 829/3101 [00:25<01:04, 34.99it/s]"
     ]
    },
    {
     "name": "stdout",
     "output_type": "stream",
     "text": [
      "5e03ccf5f68a4ae804fad87d\n",
      "5e03d06643fd4ce35d03ab8c\n",
      "5e03d11b93eef01521fe820d\n",
      "5e03d23b524de8afda2d2b16\n",
      "5e03d400c9367884324ac3ec\n",
      "5e03d7103598ec378ea49975\n",
      "5e03d7e1493743b85c1ede1a\n",
      "5e03daba592717e9c368c651\n"
     ]
    },
    {
     "name": "stderr",
     "output_type": "stream",
     "text": [
      " 27%|██▋       | 837/3101 [00:25<01:04, 34.96it/s]"
     ]
    },
    {
     "name": "stdout",
     "output_type": "stream",
     "text": [
      "5e03dac8592717e9c368c68b\n",
      "5e03daca592717e9c368c695\n",
      "5e03db30893e9849d6f91da5\n",
      "5e03db31893e9849d6f91daa\n",
      "5e03db31893e9849d6f91dac\n",
      "5e03db31893e9849d6f91dad\n",
      "5e03db32893e9849d6f91dae\n",
      "5e03db3242d5e38bb6727e22\n"
     ]
    },
    {
     "name": "stderr",
     "output_type": "stream",
     "text": [
      " 27%|██▋       | 845/3101 [00:25<01:04, 34.90it/s]"
     ]
    },
    {
     "name": "stdout",
     "output_type": "stream",
     "text": [
      "5e03db3342d5e38bb6727e23\n",
      "5e03dc19ab431aaaeaaab393\n",
      "5e03de2342d5e38bb6727e5e\n",
      "5e03e00a895cde87c98bd715\n",
      "5e03e136895cde87c98bd72b\n",
      "5e03e19c42d5e38bb6727e9d\n",
      "5e03f7c570d4f14196817eae\n",
      "5e03f9f9e71baf0cbe108ac8\n"
     ]
    },
    {
     "name": "stderr",
     "output_type": "stream",
     "text": [
      " 28%|██▊       | 853/3101 [00:25<01:04, 34.94it/s]"
     ]
    },
    {
     "name": "stdout",
     "output_type": "stream",
     "text": [
      "5e03ff27915d872d72f10940\n",
      "5e03ffb103953269fc253220\n",
      "5e04001673a22d8fef56cd5f\n",
      "5e04006fc9367884324ac767\n",
      "5e0400b1de11ad1fef88216d\n",
      "5e0400b6de11ad1fef882192\n",
      "5e0402dd57fef25f2d1ca70e\n",
      "5e0403a65b41d65afecfcf79\n"
     ]
    },
    {
     "name": "stderr",
     "output_type": "stream",
     "text": [
      " 28%|██▊       | 861/3101 [00:25<01:04, 34.93it/s]"
     ]
    },
    {
     "name": "stdout",
     "output_type": "stream",
     "text": [
      "5e04040cf68a4ae804fadc55\n",
      "5e04040ff68a4ae804fadc5f\n",
      "5e04041557fef25f2d1ca721\n",
      "5e04041657fef25f2d1ca726\n",
      "5e0405745b41d65afecfcfb1\n",
      "5e0408d570d4f14196817fcb\n",
      "5e040c192239b6b346e6ad5a\n",
      "5e040c34b0af6d64769cc875\n"
     ]
    },
    {
     "name": "stderr",
     "output_type": "stream",
     "text": [
      " 28%|██▊       | 869/3101 [00:26<01:03, 34.92it/s]"
     ]
    },
    {
     "name": "stdout",
     "output_type": "stream",
     "text": [
      "5e040c906c57e0457cf702ba\n",
      "5e040e8693eef01521fe8611\n",
      "5e040f8293eef01521fe861c\n",
      "5e04116e5b41d65afecfd07b\n",
      "5e041185b0646dbaae2ac0e9\n",
      "5e04129dbc1d8277dc79c11e\n",
      "5e04199c5b41d65afecfd106\n",
      "5e041c2e893e9849d6f922a0\n"
     ]
    },
    {
     "name": "stderr",
     "output_type": "stream",
     "text": [
      " 28%|██▊       | 877/3101 [00:26<01:03, 34.91it/s]"
     ]
    },
    {
     "name": "stdout",
     "output_type": "stream",
     "text": [
      "5e041c42893e9849d6f922e9\n",
      "5e041cd273a22d8fef56cf6d\n",
      "5e041da7897f8f461b3dece5\n",
      "5e041e1668d52c430502fc7a\n",
      "5e041f16915d872d72f10bbe\n",
      "5e04207d3598ec378ea49ef6\n",
      "5e0420823598ec378ea49f07\n",
      "5e0432a657fef25f2d1caa69\n"
     ]
    },
    {
     "name": "stderr",
     "output_type": "stream",
     "text": [
      " 29%|██▊       | 885/3101 [00:26<01:03, 34.98it/s]"
     ]
    },
    {
     "name": "stdout",
     "output_type": "stream",
     "text": [
      "5e0432a657fef25f2d1caa6b\n",
      "5e0432a757fef25f2d1caa6d\n",
      "5e0432a857fef25f2d1caa73\n",
      "5e0432ac57fef25f2d1caa7e\n",
      "5e0434c7524de8afda2d3228\n",
      "5e04357d5b41d65afecfd20f\n",
      "5e04444d68d52c430502fd75\n",
      "5e04455fde11ad1fef8825c7\n"
     ]
    },
    {
     "name": "stderr",
     "output_type": "stream",
     "text": [
      " 29%|██▉       | 893/3101 [00:26<01:03, 34.95it/s]"
     ]
    },
    {
     "name": "stdout",
     "output_type": "stream",
     "text": [
      "5e044762484257f22990c08b\n",
      "5e044763484257f22990c08c\n",
      "5e044c3e0b6e71900cfd5fea\n",
      "5e044c8cd9c860524a2c3aed\n",
      "5e044dc2493743b85c1ee596\n",
      "5e044dc3493743b85c1ee59a\n",
      "5e044dc4493743b85c1ee5a1\n",
      "5e044dc5493743b85c1ee5a5\n"
     ]
    },
    {
     "name": "stderr",
     "output_type": "stream",
     "text": [
      " 29%|██▉       | 901/3101 [00:27<01:02, 34.94it/s]"
     ]
    },
    {
     "name": "stdout",
     "output_type": "stream",
     "text": [
      "5e044dc6493743b85c1ee5a6\n",
      "5e044dc6493743b85c1ee5a8\n",
      "5e044fc9592717e9c368cce3\n",
      "5e0450a9d9c860524a2c3b4b\n",
      "5e0451d8b0646dbaae2ac3ca\n",
      "5e045217c929f6f278e5d15d\n",
      "5e0452bb5c4421afdcf58493\n",
      "5e046e0973a22d8fef56d32b\n"
     ]
    },
    {
     "name": "stderr",
     "output_type": "stream",
     "text": [
      " 29%|██▉       | 909/3101 [00:27<01:02, 34.96it/s]"
     ]
    },
    {
     "name": "stdout",
     "output_type": "stream",
     "text": [
      "5e046ff157fef25f2d1cace6\n",
      "5e046ff693eef01521fe8ac2\n",
      "5e0470725c4421afdcf5861a\n",
      "5e0474886958f9528623a84c\n",
      "5e047540f68a4ae804fae10b\n",
      "5e04760867f28c56a5103b73\n",
      "5e04760857fef25f2d1cad5d\n",
      "5e0476bb169a51e1754f4a34\n"
     ]
    },
    {
     "name": "stderr",
     "output_type": "stream",
     "text": [
      " 30%|██▉       | 917/3101 [00:27<01:02, 35.00it/s]"
     ]
    },
    {
     "name": "stdout",
     "output_type": "stream",
     "text": [
      "5e0476bfab59a57565007847\n",
      "5e0477019a879e780f852264\n",
      "5e0477049a879e780f85226b\n",
      "5e04772668d52c4305030032\n",
      "5e04772cbc1d8277dc79c5e0\n",
      "5e0478cd6c552c5b47104d45\n",
      "5e047a3a5c4421afdcf58727\n",
      "5e047ad093eef01521fe8bc0\n"
     ]
    },
    {
     "name": "stderr",
     "output_type": "stream",
     "text": [
      " 30%|██▉       | 925/3101 [00:27<01:02, 35.04it/s]"
     ]
    },
    {
     "name": "stdout",
     "output_type": "stream",
     "text": [
      "5e047b5b895cde87c98bdf5b\n",
      "5e047b5b895cde87c98bdf5c\n",
      "5e047bf05b41d65afecfd58b\n",
      "5e047fb4f68a4ae804fae1e5\n",
      "5e047fb4f68a4ae804fae1e6\n",
      "5e0482a603953269fc253952\n",
      "5e048302592717e9c368cf8b\n",
      "5e048333b0646dbaae2ac5fb\n"
     ]
    },
    {
     "name": "stderr",
     "output_type": "stream",
     "text": [
      " 30%|███       | 933/3101 [00:28<01:01, 34.99it/s]"
     ]
    },
    {
     "name": "stdout",
     "output_type": "stream",
     "text": [
      "5e0483c967f28c56a5103cdc\n",
      "5e0486526c552c5b47104e6f\n",
      "5e048832e71baf0cbe1093ee\n",
      "5e048a346ed49a4975bb3c92\n",
      "5e048ad79b3da5fd9ec79949\n",
      "5e048adc9b3da5fd9ec79970\n",
      "5e0491b1dcf5fea931bf2d42\n",
      "5e0491f605fc18d76cc97649\n"
     ]
    },
    {
     "name": "stderr",
     "output_type": "stream",
     "text": [
      " 30%|███       | 941/3101 [00:28<01:01, 34.93it/s]"
     ]
    },
    {
     "name": "stdout",
     "output_type": "stream",
     "text": [
      "5e04928503953269fc253bbb\n",
      "5e0492bceb2a63370fd1601a\n",
      "5e0493559956e68d1bbb730f\n",
      "5e049a03cc27e48fbf71fcb2\n",
      "5e049a7c8abeb3192dbfbb6c\n",
      "5e049be062451c5dcee091eb\n",
      "5e049ca82d962414437b1466\n",
      "5e049f5c8b2725ac5b230470\n"
     ]
    },
    {
     "name": "stderr",
     "output_type": "stream",
     "text": [
      " 31%|███       | 949/3101 [00:28<01:01, 35.09it/s]"
     ]
    },
    {
     "name": "stdout",
     "output_type": "stream",
     "text": [
      "5e049fcb91dcf5d973e0c228\n",
      "5e049ff591dcf5d973e0c22f\n",
      "5e04a17b9ff8bbd9ecf5553b\n",
      "5e04a18fb5b3f842f90a647e\n",
      "5e04a198b5b3f842f90a6481\n",
      "5e04a24d5e8db8b0db3981ac\n",
      "5e04a2515e8db8b0db3981ba\n",
      "5e04a40e49d9a1060f782e62\n"
     ]
    },
    {
     "name": "stderr",
     "output_type": "stream",
     "text": [
      " 31%|███       | 957/3101 [00:28<01:00, 35.17it/s]"
     ]
    },
    {
     "name": "stdout",
     "output_type": "stream",
     "text": [
      "5e04a41349d9a1060f782e6f\n",
      "5e04a6f1a5497eadc06006fc\n",
      "5e04a6fba5497eadc060071a\n",
      "5e04ba84809a75ffebd22412\n",
      "5e04bcd2af4c97c37c3b708f\n",
      "5e04c184462a31ca125963ce\n",
      "5e04c249e7e8172012241a46\n",
      "5e04c2e6f75a6733358c2be3\n"
     ]
    },
    {
     "name": "stderr",
     "output_type": "stream",
     "text": [
      " 31%|███       | 965/3101 [00:28<01:00, 35.20it/s]"
     ]
    },
    {
     "name": "stdout",
     "output_type": "stream",
     "text": [
      "5e04c2e7f75a6733358c2be5\n",
      "5e04c3295a641cdec484e85f\n",
      "5e04c42de0182881f3ec00d3\n",
      "5e04c5718f5d9d201e78b9ae\n",
      "5e04c7153d0ca2aa8b297351\n",
      "5e04c95de0182881f3ec012b\n",
      "5e04caf7b78dec48356f6e2e\n",
      "5e04cb289a8e70fa4b636092\n"
     ]
    },
    {
     "name": "stderr",
     "output_type": "stream",
     "text": [
      " 31%|███▏      | 973/3101 [00:29<01:00, 35.20it/s]"
     ]
    },
    {
     "name": "stdout",
     "output_type": "stream",
     "text": [
      "5e04cb2a9a8e70fa4b6360a0\n",
      "5e04ce2deb2a63370fd1653d\n",
      "5e04cfaf5a641cdec484e90b\n",
      "5e04cfb35a641cdec484e918\n",
      "5e04cfb45a641cdec484e91c\n",
      "5e04cff786f598194d7340c7\n",
      "5e04d0262d962414437b1856\n",
      "5e04d027e0182881f3ec0176\n"
     ]
    },
    {
     "name": "stderr",
     "output_type": "stream",
     "text": [
      " 32%|███▏      | 981/3101 [00:29<01:00, 35.23it/s]"
     ]
    },
    {
     "name": "stdout",
     "output_type": "stream",
     "text": [
      "5e04d1272d962414437b1875\n",
      "5e04d14ea5497eadc0600911\n",
      "5e04d1b9809a75ffebd2261b\n",
      "5e04d2a46382f002534508bf\n",
      "5e04d355cc27e48fbf72017b\n",
      "5e04da438ce9f05a46ff732f\n",
      "5e04da7adcfe911eeeb4c611\n",
      "5e04dc236b931e47c78ca892\n"
     ]
    },
    {
     "name": "stderr",
     "output_type": "stream",
     "text": [
      " 32%|███▏      | 989/3101 [00:29<00:59, 35.25it/s]"
     ]
    },
    {
     "name": "stdout",
     "output_type": "stream",
     "text": [
      "5e04dc640181d3a7537a6c77\n",
      "5e04dc6b0181d3a7537a6c8a\n",
      "5e04dc6b0181d3a7537a6c8b\n",
      "5e04dc6d0181d3a7537a6c90\n",
      "5e04dcb4809a75ffebd2269e\n",
      "5e04dcc484d74f5b5cae7389\n",
      "5e04dcd7e7e8172012241bbe\n",
      "5e04ddec49d9a1060f78319f\n"
     ]
    },
    {
     "name": "stderr",
     "output_type": "stream",
     "text": [
      " 32%|███▏      | 997/3101 [00:29<00:59, 35.26it/s]"
     ]
    },
    {
     "name": "stdout",
     "output_type": "stream",
     "text": [
      "5e04ddf96382f00253450977\n",
      "5e04dfa1e95a17d6dbd92ac1\n",
      "5e04dfa1e95a17d6dbd92ac2\n",
      "5e04dfe3feee0fbc388ae1f3\n",
      "5e04dfe4feee0fbc388ae1f6\n",
      "5e04dfe7feee0fbc388ae201\n",
      "5e04e017c39873c017cdc2b4\n",
      "5e04e1479a8e70fa4b63627b\n"
     ]
    },
    {
     "name": "stderr",
     "output_type": "stream",
     "text": [
      " 32%|███▏      | 1005/3101 [00:30<00:59, 35.17it/s]"
     ]
    },
    {
     "name": "stdout",
     "output_type": "stream",
     "text": [
      "5e04e14a9a8e70fa4b636285\n",
      "5e04e415b78dec48356f7027\n",
      "5e04e417b78dec48356f7033\n",
      "5e04e474c8cef14aba78705c\n",
      "5e04e475c8cef14aba78705f\n",
      "5e04e4e6feee0fbc388ae258\n",
      "5e04e5373d0ca2aa8b2975d6\n",
      "5e04e5badcfe911eeeb4c6e6\n"
     ]
    },
    {
     "name": "stderr",
     "output_type": "stream",
     "text": [
      " 33%|███▎      | 1013/3101 [00:30<00:59, 35.08it/s]"
     ]
    },
    {
     "name": "stdout",
     "output_type": "stream",
     "text": [
      "5e04e74a00b832c6fdfe0380\n",
      "5e04e80f0accfc635fa728a1\n",
      "5e04f1a09a8e70fa4b63635d\n",
      "5e04f2ba91dcf5d973e0c75b\n",
      "5e04f2bd91dcf5d973e0c763\n",
      "5e04f35ee0182881f3ec0377\n",
      "5e04f5483d0ca2aa8b297734\n",
      "5e04f5483f121b5824869ddc\n"
     ]
    },
    {
     "name": "stderr",
     "output_type": "stream",
     "text": [
      " 33%|███▎      | 1021/3101 [00:30<00:59, 35.04it/s]"
     ]
    },
    {
     "name": "stdout",
     "output_type": "stream",
     "text": [
      "5e04f5483d0ca2aa8b297735\n",
      "5e04f730462a31ca12596866\n",
      "5e04fb92feee0fbc388ae377\n",
      "5e0500e78ce9f05a46ff76ee\n",
      "5e0501bd9a8e70fa4b636574\n",
      "5e0503208ce9f05a46ff76fa\n",
      "5e050386c8cef14aba787229\n",
      "5e0504e613c3c0b38f081f44\n"
     ]
    },
    {
     "name": "stderr",
     "output_type": "stream",
     "text": [
      " 33%|███▎      | 1029/3101 [00:30<00:59, 35.06it/s]"
     ]
    },
    {
     "name": "stdout",
     "output_type": "stream",
     "text": [
      "5e050bbd88826dd034b93f84\n",
      "5e050bbd88826dd034b93f85\n",
      "5e050d258a9c0dfbb3bebc25\n",
      "5e050d288a9c0dfbb3bebc30\n",
      "5e050d288a9c0dfbb3bebc32\n",
      "5e050fe9a9f45f03d05f8361\n",
      "5e050fe9a9f45f03d05f8362\n",
      "5e050feaa9f45f03d05f8365\n"
     ]
    },
    {
     "name": "stderr",
     "output_type": "stream",
     "text": [
      " 33%|███▎      | 1037/3101 [00:31<00:58, 35.01it/s]"
     ]
    },
    {
     "name": "stdout",
     "output_type": "stream",
     "text": [
      "5e050ff88bb6a8e369195a4c\n",
      "5e05104849d9a1060f78353d\n",
      "5e051315ba16d9d23822014c\n",
      "5e0513342d962414437b1d73\n",
      "5e0513442d962414437b1dae\n",
      "5e05148f5e8db8b0db398afa\n",
      "5e0515925e8db8b0db398b24\n",
      "5e05178900b832c6fdfe072a\n"
     ]
    },
    {
     "name": "stderr",
     "output_type": "stream",
     "text": [
      " 34%|███▎      | 1045/3101 [00:31<00:58, 34.99it/s]"
     ]
    },
    {
     "name": "stdout",
     "output_type": "stream",
     "text": [
      "5e051fc7e0182881f3ec0638\n",
      "5e051fc7e0182881f3ec0639\n",
      "5e05201313c3c0b38f082099\n",
      "5e05203fb7cb59130793f7b7\n",
      "5e05203fb7cb59130793f7b9\n",
      "5e052040b7cb59130793f7bc\n",
      "5e0520d66b931e47c78cac07\n",
      "5e0521765e8db8b0db398bbb\n"
     ]
    },
    {
     "name": "stderr",
     "output_type": "stream",
     "text": [
      " 34%|███▍      | 1053/3101 [00:31<00:58, 35.04it/s]"
     ]
    },
    {
     "name": "stdout",
     "output_type": "stream",
     "text": [
      "5e0521795e8db8b0db398bc8\n",
      "5e0521c2be7472f1e811e41c\n",
      "5e05238aa9f45f03d05f84a6\n",
      "5e05247450d9ca67f1d3c35a\n",
      "5e052b93b399ac7efd49251a\n",
      "5e052b95b399ac7efd492523\n",
      "5e052dd1a9f45f03d05f85f5\n",
      "5e052e5ab7cb59130793f8c7\n"
     ]
    },
    {
     "name": "stderr",
     "output_type": "stream",
     "text": [
      " 34%|███▍      | 1061/3101 [00:31<00:58, 35.08it/s]"
     ]
    },
    {
     "name": "stdout",
     "output_type": "stream",
     "text": [
      "5e052f5c5e8db8b0db398caf\n",
      "5e052f5c5e8db8b0db398cb0\n",
      "5e053170cd11e3894ee1b1fa\n",
      "5e0535120181d3a7537a7327\n",
      "5e053550eb2a63370fd16d12\n",
      "5e05382ac8cef14aba7874ac\n",
      "5e0539e25f3e09c998df1b69\n",
      "5e053abdb4072c35aaef78bc\n"
     ]
    },
    {
     "name": "stderr",
     "output_type": "stream",
     "text": [
      " 34%|███▍      | 1069/3101 [00:31<00:57, 35.06it/s]"
     ]
    },
    {
     "name": "stdout",
     "output_type": "stream",
     "text": [
      "5e053ac6b4072c35aaef78dd\n",
      "5e053ac9b4072c35aaef78e8\n",
      "5e053aceb4072c35aaef78fb\n",
      "5e053ad0b4072c35aaef7904\n",
      "5e053b2daf4c97c37c3b78b8\n",
      "5e0571e788826dd034b944d2\n",
      "5e0574113d0ca2aa8b297d10\n",
      "5e057664af4c97c37c3b7989\n"
     ]
    },
    {
     "name": "stderr",
     "output_type": "stream",
     "text": [
      " 35%|███▍      | 1077/3101 [00:32<00:57, 35.01it/s]"
     ]
    },
    {
     "name": "stdout",
     "output_type": "stream",
     "text": [
      "5e057791b399ac7efd4929f6\n",
      "5e0578011f1bd8e45372a34a\n",
      "5e05781cba16d9d238220630\n",
      "5e057b3362451c5dcee09d75\n",
      "5e059a88feee0fbc388aeb31\n",
      "5e059dae946a09279a4129ea\n",
      "5e059dae946a09279a4129ec\n",
      "5e059db0946a09279a4129f2\n"
     ]
    },
    {
     "name": "stderr",
     "output_type": "stream",
     "text": [
      " 35%|███▍      | 1085/3101 [00:32<00:57, 34.97it/s]"
     ]
    },
    {
     "name": "stdout",
     "output_type": "stream",
     "text": [
      "5e059db0946a09279a4129f4\n",
      "5e059db2946a09279a412a00\n",
      "5e059db3946a09279a412a04\n",
      "5e059dee3cc262ec3d5aa021\n",
      "5e059f6462451c5dcee09e76\n",
      "5e05a051191f3a78ef96f59f\n",
      "5e05a06fb4072c35aaef7c1a\n",
      "5e05a070b4072c35aaef7c20\n"
     ]
    },
    {
     "name": "stderr",
     "output_type": "stream",
     "text": [
      " 35%|███▌      | 1093/3101 [00:32<00:57, 35.10it/s]"
     ]
    },
    {
     "name": "stdout",
     "output_type": "stream",
     "text": [
      "5e05a273ff261bdec17c5068\n",
      "5e05a274ff261bdec17c506f\n",
      "5e05a275ff261bdec17c5075\n",
      "5e05a3a75e8db8b0db399159\n",
      "5e05a67150d9ca67f1d3c6d4\n",
      "5e05a67250d9ca67f1d3c6dc\n",
      "5e05a6f69a8e70fa4b636d11\n",
      "5e05a6f89a8e70fa4b636d1a\n"
     ]
    },
    {
     "name": "stderr",
     "output_type": "stream",
     "text": [
      " 36%|███▌      | 1101/3101 [00:32<00:57, 35.08it/s]"
     ]
    },
    {
     "name": "stdout",
     "output_type": "stream",
     "text": [
      "5e05aa18d9872b4ae546a756\n",
      "5e05ab16ff261bdec17c50fe\n",
      "5e05ab2e62451c5dcee09f89\n",
      "5e05ac788ce9f05a46ff7eb4\n",
      "5e05b1a39a8e70fa4b636e14\n",
      "5e05b1a4af4c97c37c3b7be0\n",
      "5e05b1acaf4c97c37c3b7bfc\n",
      "5e05b286d9872b4ae546a81e\n"
     ]
    },
    {
     "name": "stderr",
     "output_type": "stream",
     "text": [
      " 36%|███▌      | 1109/3101 [00:33<00:56, 35.00it/s]"
     ]
    },
    {
     "name": "stdout",
     "output_type": "stream",
     "text": [
      "5e05b6e6b4813eba5d2a2cfa\n",
      "5e05b70a5e8db8b0db39931d\n",
      "5e05b9e549d9a1060f783e0b\n",
      "5e05b9e849d9a1060f783e14\n",
      "5e05b9eb49d9a1060f783e1d\n",
      "5e05bc571f1bd8e45372a6f3\n",
      "5e05bc581f1bd8e45372a6f6\n",
      "5e05c270cc27e48fbf720d37\n"
     ]
    },
    {
     "name": "stderr",
     "output_type": "stream",
     "text": [
      " 36%|███▌      | 1117/3101 [00:33<00:56, 34.95it/s]"
     ]
    },
    {
     "name": "stdout",
     "output_type": "stream",
     "text": [
      "5e05c27b2c6cb781f8cb492d\n",
      "5e05c2a6946a09279a412cda\n",
      "5e05c2d08abeb3192dbfcb2a\n",
      "5e05c390578196c0868b1a98\n",
      "5e05c7da7b5376143ab56c07\n",
      "5e05c7db7b5376143ab56c0b\n",
      "5e05c7dd7b5376143ab56c12\n",
      "5e05c7de7b5376143ab56c18\n"
     ]
    },
    {
     "name": "stderr",
     "output_type": "stream",
     "text": [
      " 36%|███▋      | 1125/3101 [00:33<00:56, 35.06it/s]"
     ]
    },
    {
     "name": "stdout",
     "output_type": "stream",
     "text": [
      "5e05c8843f121b582486a996\n",
      "5e05cd6bfeee0fbc388aeeab\n",
      "5e05cdcdff261bdec17c5362\n",
      "5e05ce33af4c97c37c3b7dcc\n",
      "5e05ce35af4c97c37c3b7dd2\n",
      "5e05ce36af4c97c37c3b7dd5\n",
      "5e05ce3baf4c97c37c3b7de8\n",
      "5e05d1d4dcfe911eeeb4d151\n"
     ]
    },
    {
     "name": "stderr",
     "output_type": "stream",
     "text": [
      " 37%|███▋      | 1133/3101 [00:33<00:56, 35.08it/s]"
     ]
    },
    {
     "name": "stdout",
     "output_type": "stream",
     "text": [
      "5e05d20ba5497eadc0601772\n",
      "5e05d2145a641cdec484f75e\n",
      "5e05d343a5497eadc0601795\n",
      "5e05d3d00181d3a7537a7ddf\n",
      "5e05d44688826dd034b94ac9\n",
      "5e05d6363f121b582486aa2b\n",
      "5e05d6383f121b582486aa37\n",
      "5e05d63d3f121b582486aa40\n"
     ]
    },
    {
     "name": "stderr",
     "output_type": "stream",
     "text": [
      " 37%|███▋      | 1141/3101 [00:33<00:55, 35.13it/s]"
     ]
    },
    {
     "name": "stdout",
     "output_type": "stream",
     "text": [
      "5e05d6d5b399ac7efd492f7e\n",
      "5e05d6d5b399ac7efd492f80\n",
      "5e05d6d8b399ac7efd492f95\n",
      "5e05d6d9b399ac7efd492f97\n",
      "5e05d6d9b399ac7efd492f98\n",
      "5e05d6dab399ac7efd492f9c\n",
      "5e05d6dbb399ac7efd492fa1\n",
      "5e05da0e8ce9f05a46ff82b7\n"
     ]
    },
    {
     "name": "stderr",
     "output_type": "stream",
     "text": [
      " 37%|███▋      | 1149/3101 [00:34<00:55, 35.15it/s]"
     ]
    },
    {
     "name": "stdout",
     "output_type": "stream",
     "text": [
      "5e05da19be7472f1e811ee64\n",
      "5e05e58526ac5f885693fb89\n",
      "5e05e92bc5530f17ed01103c\n",
      "5e05eaebf592f3e0aa803acb\n",
      "5e05eb7d1bf5248e8b4857ec\n",
      "5e05efeaf6df1b8e6622d224\n",
      "5e05efebf6df1b8e6622d226\n",
      "5e05efecf6df1b8e6622d229\n"
     ]
    },
    {
     "name": "stderr",
     "output_type": "stream",
     "text": [
      " 37%|███▋      | 1157/3101 [00:34<00:55, 35.11it/s]"
     ]
    },
    {
     "name": "stdout",
     "output_type": "stream",
     "text": [
      "5e05eff1f6df1b8e6622d239\n",
      "5e05faf2e04c8c1bf8d2326f\n",
      "5e05fbe70affcba54f8aeb56\n",
      "5e05fc7ad9872b4ae546ac8f\n",
      "5e05fc7dd9872b4ae546ac9d\n",
      "5e05fc7ed9872b4ae546ac9f\n",
      "5e05fdd51bf5248e8b48590a\n",
      "5e05fe99af4c97c37c3b809d\n"
     ]
    },
    {
     "name": "stderr",
     "output_type": "stream",
     "text": [
      " 38%|███▊      | 1165/3101 [00:34<00:55, 35.03it/s]"
     ]
    },
    {
     "name": "stdout",
     "output_type": "stream",
     "text": [
      "5e05fea1a0d90f54ec19a5f7\n",
      "5e05ff7ebe7472f1e811efec\n",
      "5e05ff987fd6fe468157b0ac\n",
      "5e0602ef6f6784395081a141\n",
      "5e06050dd48314138115d767\n",
      "5e06050ed48314138115d769\n",
      "5e06050fd48314138115d76d\n",
      "5e060711cd11e3894ee1bd0b\n"
     ]
    },
    {
     "name": "stderr",
     "output_type": "stream",
     "text": [
      " 38%|███▊      | 1173/3101 [00:34<00:55, 35.04it/s]"
     ]
    },
    {
     "name": "stdout",
     "output_type": "stream",
     "text": [
      "5e060712d48314138115d7af\n",
      "5e0607c5266d84b333e3d37e\n",
      "5e0607d2a0d90f54ec19a6b4\n",
      "5e06099ac5530f17ed011211\n",
      "5e0609b7e04c8c1bf8d23377\n",
      "5e0610061bf5248e8b485aba\n",
      "5e061104f929b4d94a4ab030\n",
      "5e061335578196c0868b1ec8\n"
     ]
    },
    {
     "name": "stderr",
     "output_type": "stream",
     "text": [
      " 38%|███▊      | 1181/3101 [00:35<00:54, 35.05it/s]"
     ]
    },
    {
     "name": "stdout",
     "output_type": "stream",
     "text": [
      "5e06144d1da3832fdf75e3e0\n",
      "5e061463f592f3e0aa803d5b\n",
      "5e0614fc277bc5db4c44360f\n",
      "5e061504277bc5db4c44362c\n",
      "5e061509277bc5db4c44363c\n",
      "5e062a0126ac5f885693ffde\n",
      "5e062a561bf5248e8b485c1f\n",
      "5e062a581bf5248e8b485c24\n"
     ]
    },
    {
     "name": "stderr",
     "output_type": "stream",
     "text": [
      " 38%|███▊      | 1189/3101 [00:35<00:54, 35.09it/s]"
     ]
    },
    {
     "name": "stdout",
     "output_type": "stream",
     "text": [
      "5e0632161d9672b9e003ccf8\n",
      "5e065589e3935fbdc9ecc99b\n",
      "5e06558ee3935fbdc9ecc9b2\n",
      "5e06558fe3935fbdc9ecc9b6\n",
      "5e0657fd3e47c68c4df1f3aa\n",
      "5e065ce2d48314138115dad3\n",
      "5e065d85cc7b7ad64ea6f53a\n",
      "5e065f64b4813eba5d2a3503\n"
     ]
    },
    {
     "name": "stderr",
     "output_type": "stream",
     "text": [
      " 39%|███▊      | 1197/3101 [00:35<00:54, 35.20it/s]"
     ]
    },
    {
     "name": "stdout",
     "output_type": "stream",
     "text": [
      "5e06601200abb90cf07dd6ac\n",
      "5e0660fef6df1b8e6622d825\n",
      "5e0661adc5530f17ed01157d\n",
      "5e066326128789d95d32400a\n",
      "5e066326128789d95d32400c\n",
      "5e066328128789d95d324013\n",
      "5e066329128789d95d324017\n",
      "5e06632a128789d95d32401b\n"
     ]
    },
    {
     "name": "stderr",
     "output_type": "stream",
     "text": [
      " 39%|███▉      | 1205/3101 [00:35<00:53, 35.23it/s]"
     ]
    },
    {
     "name": "stdout",
     "output_type": "stream",
     "text": [
      "5e06632f128789d95d32402b\n",
      "5e066330128789d95d32402f\n",
      "5e066331128789d95d324032\n",
      "5e066334128789d95d32403c\n",
      "5e066334128789d95d32403d\n",
      "5e066335128789d95d324040\n",
      "5e066336128789d95d324042\n",
      "5e0666d9578196c0868b21bf\n"
     ]
    },
    {
     "name": "stderr",
     "output_type": "stream",
     "text": [
      " 39%|███▉      | 1213/3101 [00:36<00:53, 35.22it/s]"
     ]
    },
    {
     "name": "stdout",
     "output_type": "stream",
     "text": [
      "5e06730d277bc5db4c4439d4\n",
      "5e06742a6fc9fddca7ff9726\n",
      "5e0675886fc9fddca7ff972f\n",
      "5e0676991abfce458323a0ac\n",
      "5e0676be31705c355f17e04c\n",
      "5e0677a5b4a07df1bc6e60e8\n",
      "5e067825d292a465bf557def\n",
      "5e067829d292a465bf557e00\n"
     ]
    },
    {
     "name": "stderr",
     "output_type": "stream",
     "text": [
      " 39%|███▉      | 1221/3101 [00:36<00:53, 35.24it/s]"
     ]
    },
    {
     "name": "stdout",
     "output_type": "stream",
     "text": [
      "5e06787fa3618ab7fc41bdbc\n",
      "5e067ae8de5db79623931a11\n",
      "5e067beab4a07df1bc6e612c\n",
      "5e067bedb4a07df1bc6e6134\n",
      "5e067caed48314138115dc84\n",
      "5e067d4eb4a07df1bc6e6147\n",
      "5e067db2878fa1320ca7cae8\n",
      "5e067db7878fa1320ca7caf7\n"
     ]
    },
    {
     "name": "stderr",
     "output_type": "stream",
     "text": [
      " 40%|███▉      | 1229/3101 [00:36<00:53, 35.26it/s]"
     ]
    },
    {
     "name": "stdout",
     "output_type": "stream",
     "text": [
      "5e067db7878fa1320ca7caf8\n",
      "5e067db9878fa1320ca7cafd\n",
      "5e067dbf878fa1320ca7cb0f\n",
      "5e067dbf878fa1320ca7cb12\n",
      "5e067dc1878fa1320ca7cb16\n",
      "5e067dc9878fa1320ca7cb30\n",
      "5e068c5f9c7aef8ddcff0917\n",
      "5e068ed91362eab908d3bf91\n"
     ]
    },
    {
     "name": "stderr",
     "output_type": "stream",
     "text": [
      " 40%|███▉      | 1237/3101 [00:36<00:52, 35.22it/s]"
     ]
    },
    {
     "name": "stdout",
     "output_type": "stream",
     "text": [
      "5e068ef9334159fab694a99c\n",
      "5e068eff334159fab694a9b2\n",
      "5e068f592d4b00df94377c82\n",
      "5e068fe9128789d95d324185\n",
      "5e06905a1298d320538f5e13\n",
      "5e06945a266d84b333e3db4a\n",
      "5e06945f266d84b333e3db5e\n",
      "5e0696dea6da9a7ebc0189de\n"
     ]
    },
    {
     "name": "stderr",
     "output_type": "stream",
     "text": [
      " 40%|████      | 1245/3101 [00:36<00:52, 35.20it/s]"
     ]
    },
    {
     "name": "stdout",
     "output_type": "stream",
     "text": [
      "5e069a30a0d90f54ec19ad80\n",
      "5e069aca0b764a9f992be3fa\n",
      "5e069b472d4b00df94377d71\n",
      "5e069fbe0affcba54f8af2e2\n",
      "5e069fc11362eab908d3c05d\n",
      "5e06a0adc26373f083b35362\n",
      "5e06a0ce1d9672b9e003d1e8\n",
      "5e06a1f87fd6fe468157b7ed\n"
     ]
    },
    {
     "name": "stderr",
     "output_type": "stream",
     "text": [
      " 40%|████      | 1253/3101 [00:37<00:52, 35.24it/s]"
     ]
    },
    {
     "name": "stdout",
     "output_type": "stream",
     "text": [
      "5e06a43dde5db79623931bf3\n",
      "5e06ac50a3618ab7fc41c13e\n",
      "5e06acd80b764a9f992be5e1\n",
      "5e06af823e47c68c4df1f92a\n",
      "5e06af853e47c68c4df1f930\n",
      "5e06af8d3e47c68c4df1f93d\n",
      "5e06af903e47c68c4df1f944\n",
      "5e06af913e47c68c4df1f945\n"
     ]
    },
    {
     "name": "stderr",
     "output_type": "stream",
     "text": [
      " 41%|████      | 1261/3101 [00:37<00:52, 35.29it/s]"
     ]
    },
    {
     "name": "stdout",
     "output_type": "stream",
     "text": [
      "5e06af923e47c68c4df1f949\n",
      "5e06af943e47c68c4df1f94d\n",
      "5e06af953e47c68c4df1f94f\n",
      "5e06b2833e47c68c4df1f974\n",
      "5e06b4350affcba54f8af3c4\n",
      "5e06b4400affcba54f8af3d6\n",
      "5e06b4d80b764a9f992be675\n",
      "5e06b4fd277bc5db4c443dbf\n"
     ]
    },
    {
     "name": "stderr",
     "output_type": "stream",
     "text": [
      " 41%|████      | 1269/3101 [00:37<00:51, 35.28it/s]"
     ]
    },
    {
     "name": "stdout",
     "output_type": "stream",
     "text": [
      "5e06b4fdf592f3e0aa804323\n",
      "5e06b5372e009d948e37cda1\n",
      "5e06b5509c7aef8ddcff0be2\n",
      "5e06b570d48314138115df43\n",
      "5e06bf96798eb3c2e675d757\n",
      "5e06c0fe3e47c68c4df1fab4\n",
      "5e06c0ff3e47c68c4df1fab7\n",
      "5e06c2caa3b1b59cc323877f\n"
     ]
    },
    {
     "name": "stderr",
     "output_type": "stream",
     "text": [
      " 41%|████      | 1277/3101 [00:37<00:51, 35.21it/s]"
     ]
    },
    {
     "name": "stdout",
     "output_type": "stream",
     "text": [
      "5e06c3410099650c825884f0\n",
      "5e06c346de5db79623931d50\n",
      "5e06c84c6fc9fddca7ff9c3f\n",
      "5e06ca6a2a54d1f991da945d\n",
      "5e06cb872e009d948e37ce3c\n",
      "5e06cc191298d320538f6115\n",
      "5e06cc291298d320538f6131\n",
      "5e06cc2b1298d320538f6137\n"
     ]
    },
    {
     "name": "stderr",
     "output_type": "stream",
     "text": [
      " 41%|████▏     | 1285/3101 [00:38<00:51, 35.29it/s]"
     ]
    },
    {
     "name": "stdout",
     "output_type": "stream",
     "text": [
      "5e06cc67432f320c49525da4\n",
      "5e06cc68432f320c49525da6\n",
      "5e06daba2a54d1f991da950f\n",
      "5e06dac62a54d1f991da9526\n",
      "5e06dac72a54d1f991da9529\n",
      "5e06dcf1dc86b4cb119a25bf\n",
      "5e06dcf6dc86b4cb119a25ca\n",
      "5e06dcf80b764a9f992be874\n"
     ]
    },
    {
     "name": "stderr",
     "output_type": "stream",
     "text": [
      " 42%|████▏     | 1293/3101 [00:38<00:51, 35.31it/s]"
     ]
    },
    {
     "name": "stdout",
     "output_type": "stream",
     "text": [
      "5e06e4b52a54d1f991da95f2\n",
      "5e06e4c32a54d1f991da9607\n",
      "5e06e4c72a54d1f991da960d\n",
      "5e06e4cd2a54d1f991da9617\n",
      "5e06e6f1544b7468fda42be2\n",
      "5e06e7eafe0fc9b23766fe51\n",
      "5e06e838b4a07df1bc6e674c\n",
      "5e06f2761362eab908d3c592\n"
     ]
    },
    {
     "name": "stderr",
     "output_type": "stream",
     "text": [
      " 42%|████▏     | 1301/3101 [00:38<00:51, 35.27it/s]"
     ]
    },
    {
     "name": "stdout",
     "output_type": "stream",
     "text": [
      "5e06f403fe0fc9b23766ff59\n",
      "5e06f44d31705c355f17e920\n",
      "5e06f45731705c355f17e933\n",
      "5e06f45931705c355f17e936\n",
      "5e06f45e31705c355f17e93f\n",
      "5e06f584e3935fbdc9ecd202\n",
      "5e06fd3026ac5f8856940a49\n",
      "5e18001afdcc764070eeef49\n"
     ]
    },
    {
     "name": "stderr",
     "output_type": "stream",
     "text": [
      " 42%|████▏     | 1309/3101 [00:38<00:50, 35.28it/s]"
     ]
    },
    {
     "name": "stdout",
     "output_type": "stream",
     "text": [
      "5e1800e5f42166dd2f50772d\n",
      "5e196c85d1b2e6282baabe46\n",
      "5e196c8bd1b2e6282baabe5a\n",
      "5e19f748d7966eec35382d83\n",
      "5e1a33aac11f071b61c8ab8c\n",
      "5e2498fcb0cd4551aa3cdf54\n",
      "5e2589c3fa7a3f4237b486fc\n",
      "5e2afa241f06da123ff03d01\n"
     ]
    },
    {
     "name": "stderr",
     "output_type": "stream",
     "text": [
      " 42%|████▏     | 1317/3101 [00:38<00:50, 35.28it/s]"
     ]
    },
    {
     "name": "stdout",
     "output_type": "stream",
     "text": [
      "5e412d67236cd951f58c1065\n",
      "5e412d7168cb301a62dcef4d\n",
      "5e412d89eb8f57d996223f38\n",
      "5e412ff58d98474fbe953974\n",
      "5e413363e188f348a5309eb6\n",
      "5e41358db581df01d0d605ce\n",
      "5e4135eae88c54dbe67f7744\n",
      "5e413937aece36af6b6a198c\n"
     ]
    },
    {
     "name": "stderr",
     "output_type": "stream",
     "text": [
      " 43%|████▎     | 1325/3101 [00:39<00:50, 35.27it/s]"
     ]
    },
    {
     "name": "stdout",
     "output_type": "stream",
     "text": [
      "5e41394fbe4f4a40043d9c46\n",
      "5e41399c0520e07a588f626e\n",
      "5e41399c0520e07a588f6271\n",
      "5e41399c0520e07a588f6276\n",
      "5e413bd0bc8f8b0d73d97f10\n",
      "5e413c4668e511551d1ef2fa\n",
      "5e413e49b3ffba0acaf7c02b\n",
      "5e413ed5ce3eb687f260eccf\n"
     ]
    },
    {
     "name": "stderr",
     "output_type": "stream",
     "text": [
      " 43%|████▎     | 1333/3101 [00:39<00:50, 35.35it/s]"
     ]
    },
    {
     "name": "stdout",
     "output_type": "stream",
     "text": [
      "5e413eeb22e4430f53ef1b2a\n",
      "5e413eeb22e4430f53ef1b32\n",
      "5e413fb322e4430f53ef1b3e\n",
      "5e414014b518bd8eb23692ec\n",
      "5e4140838d98474fbe95398a\n",
      "5e414087236cd951f58c107f\n",
      "5e4142797769992dcbca8501\n",
      "5e41442a17924e76e58edbdd\n"
     ]
    },
    {
     "name": "stderr",
     "output_type": "stream",
     "text": [
      " 43%|████▎     | 1341/3101 [00:39<00:49, 35.28it/s]"
     ]
    },
    {
     "name": "stdout",
     "output_type": "stream",
     "text": [
      "5e41469e66377924c8dd9f19\n",
      "5e414f45d31aac3fbe137d6c\n",
      "5e4152a5788464fd507f472c\n",
      "5e4153d99884ef77881c9302\n",
      "5e4157527769992dcbca8513\n",
      "5e4158e37a607a7cea895151\n",
      "5e4159c7b3ffba0acaf7c041\n",
      "5e415a6d236cd951f58c109e\n"
     ]
    },
    {
     "name": "stderr",
     "output_type": "stream",
     "text": [
      " 44%|████▎     | 1349/3101 [00:39<00:49, 35.20it/s]"
     ]
    },
    {
     "name": "stdout",
     "output_type": "stream",
     "text": [
      "5e415aaf32c80488010974af\n",
      "5e415f4f1ce524ba77e17bc7\n",
      "5e416397b518bd8eb2369314\n",
      "5e41640e788464fd507f473f\n",
      "5e4165159c46392036296b0c\n",
      "5e5e64a13ac6919839ea7c0c\n",
      "5e5e65b53ac6919839ea7c1b\n",
      "5e5e65b53ac6919839ea7c22\n"
     ]
    },
    {
     "name": "stderr",
     "output_type": "stream",
     "text": [
      " 44%|████▍     | 1357/3101 [00:40<00:49, 35.24it/s]"
     ]
    },
    {
     "name": "stdout",
     "output_type": "stream",
     "text": [
      "5e5e6a12c7132a7d9ed4640b\n",
      "5e5e6be53ac6919839ea7c5f\n",
      "5e5e6df83ac6919839ea7c62\n",
      "5e5e73e2e38a2581c95906d8\n",
      "5e5e760fe38a2581c9590714\n",
      "5e5e760fe38a2581c959071f\n",
      "5e5e760fe38a2581c9590721\n",
      "5e5e79a8e38a2581c959073e\n"
     ]
    },
    {
     "name": "stderr",
     "output_type": "stream",
     "text": [
      " 44%|████▍     | 1365/3101 [00:40<00:49, 35.19it/s]"
     ]
    },
    {
     "name": "stdout",
     "output_type": "stream",
     "text": [
      "5e5e79a8e38a2581c9590745\n",
      "5e5fa27c91c696f3e7a86846\n",
      "5e5fab4ec483fc10295ccb82\n",
      "5e5fac5197b5069cfa245843\n",
      "5e5fac8d141d205432d336f1\n",
      "5e5fad5f164d0f3e5107f7af\n",
      "5e5fae43ffd223b1475cf6f4\n",
      "5e5fb0bb403ef317c0a51d16\n"
     ]
    },
    {
     "name": "stderr",
     "output_type": "stream",
     "text": [
      " 44%|████▍     | 1373/3101 [00:40<00:49, 35.03it/s]"
     ]
    },
    {
     "name": "stdout",
     "output_type": "stream",
     "text": [
      "5e5fb0df270c3f447c8ce03c\n",
      "5e5fb1e46a8ec72f0aebbe49\n",
      "5e5fb4b4141d205432d336f4\n",
      "5e5fb57f66a0b3aa760a474f\n",
      "5e5fb768650de12706be71a3\n",
      "5e5fb9ef5c0bb42421d47133\n",
      "5e5fba2a7edd29c17dd6cc3d\n"
     ]
    },
    {
     "name": "stderr",
     "output_type": "stream",
     "text": [
      " 45%|████▍     | 1381/3101 [00:40<00:49, 34.94it/s]"
     ]
    },
    {
     "name": "stdout",
     "output_type": "stream",
     "text": [
      "5e5fba6aac37fdcdb592b694\n",
      "5e5fbc2d10e2c22658433d5d\n",
      "5e5fbe17fc975cc2962db4a4\n",
      "5e5fc1f4f846b8a699a13c2c\n",
      "5e5fc511c42a3cbfc9cf609a\n",
      "5e5fc5c434f1956d224716bb\n",
      "5e5fc60cdc93660e10d4cdeb\n"
     ]
    },
    {
     "name": "stderr",
     "output_type": "stream",
     "text": [
      " 45%|████▍     | 1389/3101 [00:41<00:48, 34.97it/s]"
     ]
    },
    {
     "name": "stdout",
     "output_type": "stream",
     "text": [
      "5e5fc7723626fafca6746adf\n",
      "5e5fc77d3a0aa3105f7b90b2\n",
      "5e5fc78b0f633bfccfe4f4ec\n",
      "5e5fc78c141d205432d33705\n",
      "5e5fc7936821d13606f89aa7\n",
      "5e5fcf37b007a1bb166ab7d1\n",
      "5e5fd2384af4bf61640f28db\n",
      "5e5fd4656a8ec72f0aebbe60\n"
     ]
    },
    {
     "name": "stderr",
     "output_type": "stream",
     "text": [
      " 45%|████▌     | 1397/3101 [00:41<00:48, 34.97it/s]"
     ]
    },
    {
     "name": "stdout",
     "output_type": "stream",
     "text": [
      "5e5fd46f495db23f79dd5ad3\n",
      "5e5fd966e954d15c58856358\n",
      "5e5fdcf2bd4aa899b0de3a10\n",
      "5e5fdf8c54c966d16908a1da\n",
      "5e5fdfc26a8ec72f0aebbe70\n",
      "5e5fe058bd4aa899b0de3a12\n",
      "5e5fe0f31708bf34f074b2c6\n",
      "5e5fe53e46ad262ea16a5f47\n"
     ]
    },
    {
     "name": "stderr",
     "output_type": "stream",
     "text": [
      " 45%|████▌     | 1405/3101 [00:41<00:48, 34.97it/s]"
     ]
    },
    {
     "name": "stdout",
     "output_type": "stream",
     "text": [
      "5e5fe58faec3d422a3701701\n",
      "5e5fe74211287b670c6e9ddf\n",
      "5e5fe7864eeeb6a1adf39773\n",
      "5e5ff00e4c9d90131c740442\n",
      "5e5ff3d1dbf7142656708048\n",
      "5e5ff6e4bee7d8cdaffc8097\n",
      "5e5ff95025dbc29ffc9c42a7\n",
      "5e5ff96e4af4bf61640f28f5\n"
     ]
    },
    {
     "name": "stderr",
     "output_type": "stream",
     "text": [
      " 46%|████▌     | 1413/3101 [00:41<00:48, 34.92it/s]"
     ]
    },
    {
     "name": "stdout",
     "output_type": "stream",
     "text": [
      "5e5ff97225dbc29ffc9c42a8\n",
      "5e5ff978b786e7c8f9790108\n",
      "5e6001d49916fcc02a57d142\n",
      "5e60086d7accdfcfe887e7c7\n",
      "5e6009cba94f2b0b2e43c426\n",
      "5e600b58b786e7c8f9790118\n",
      "5e600ccf4eeeb6a1adf39797\n"
     ]
    },
    {
     "name": "stderr",
     "output_type": "stream",
     "text": [
      " 46%|████▌     | 1421/3101 [00:41<00:48, 34.99it/s]"
     ]
    },
    {
     "name": "stdout",
     "output_type": "stream",
     "text": [
      "5e600d9272bbc3f5beb960dd\n",
      "5e600e899684826dd74fa20c\n",
      "5e6010780eaf10230fa6b697\n",
      "5e6012990d4426e03ead725e\n",
      "5e601443582543a9d64339ca\n",
      "5e6017db1708bf34f074b2f7\n",
      "5e6019ce315087d49fb8efe9\n",
      "5e601d18bee7d8cdaffc80b8\n"
     ]
    },
    {
     "name": "stderr",
     "output_type": "stream",
     "text": [
      " 46%|████▌     | 1429/3101 [00:42<00:47, 34.99it/s]"
     ]
    },
    {
     "name": "stdout",
     "output_type": "stream",
     "text": [
      "5e6020dec1147ffd8d8166f4\n",
      "5e602598ca7d7fb28f1cc57e\n",
      "5e60265e7accdfcfe887e7e5\n",
      "5e6028729916fcc02a57d162\n",
      "5e602ba12a68f65223d5bf31\n",
      "5e602ea7aec3d422a370173e\n",
      "5e6036f7a0e804932628d55b\n"
     ]
    },
    {
     "name": "stderr",
     "output_type": "stream",
     "text": [
      " 46%|████▋     | 1437/3101 [00:42<00:47, 35.01it/s]"
     ]
    },
    {
     "name": "stdout",
     "output_type": "stream",
     "text": [
      "5e603a97ca7d7fb28f1cc58f\n",
      "5e603b6c6e6d2fb1ddb1e928\n",
      "5e603d1838e5602425160caf\n",
      "5e603d5925dbc29ffc9c42e9\n",
      "5e603d5d0eaf10230fa6b6c9\n",
      "5e603db6dbf714265670808c\n",
      "5e603e9b86fb577d0be17b7e\n",
      "5e603ffe0f633bfccfe4f554\n",
      "5e60404a1016c16eb8e6108e\n"
     ]
    },
    {
     "name": "stderr",
     "output_type": "stream",
     "text": [
      " 47%|████▋     | 1445/3101 [00:42<00:47, 35.01it/s]"
     ]
    },
    {
     "name": "stdout",
     "output_type": "stream",
     "text": [
      "5e6044daa0e804932628d56b\n",
      "5e60472b1708bf34f074b31d\n",
      "5e6047787accdfcfe887e805\n",
      "5e60477db9cf53eee40fa611\n",
      "5e604b87315087d49fb8f014\n",
      "5e6052f8bee7d8cdaffc80de\n",
      "5e605474422ebc190f19ccd5\n",
      "5e60567f0eaf10230fa6b6dc\n"
     ]
    },
    {
     "name": "stderr",
     "output_type": "stream",
     "text": [
      " 47%|████▋     | 1453/3101 [00:42<00:47, 35.01it/s]"
     ]
    },
    {
     "name": "stdout",
     "output_type": "stream",
     "text": [
      "5e60568fdbf71426567080a0\n",
      "5e60569f1016c16eb8e610a2\n",
      "5e605726bee7d8cdaffc80e4\n",
      "5e60572921770aca93d834d9\n",
      "5e60572e422ebc190f19ccda\n",
      "5e60573c9f2e113cc9172837\n",
      "5e6059e3d1c29b0a34be6a1f\n",
      "5e605ed68456220c9b63285d\n"
     ]
    },
    {
     "name": "stderr",
     "output_type": "stream",
     "text": [
      " 47%|████▋     | 1461/3101 [00:43<00:46, 35.10it/s]"
     ]
    },
    {
     "name": "stdout",
     "output_type": "stream",
     "text": [
      "5e60650dae4af7b8ac582d10\n",
      "5e60665c1708bf34f074b33d\n",
      "5e60681d4702469312452075\n",
      "5e606b1fa0e804932628d58d\n",
      "5e606bb1ca7d7fb28f1cc5b3\n",
      "5e606eb789a7f7e2363bdb7c\n",
      "5e606eb80d4426e03ead72c0\n",
      "5e6079930eaf10230fa6b6fb\n"
     ]
    },
    {
     "name": "stderr",
     "output_type": "stream",
     "text": [
      " 47%|████▋     | 1469/3101 [00:43<00:46, 35.20it/s]"
     ]
    },
    {
     "name": "stdout",
     "output_type": "stream",
     "text": [
      "5e607a35cc9a6a8e93f67553\n",
      "5e607cbe0d4426e03ead72cc\n",
      "5e607cc22a68f65223d5bf7d\n",
      "5e607e0ecc9a6a8e93f67556\n",
      "5e607f83315087d49fb8f04a\n",
      "5e6088e4d1c29b0a34be6a3f\n",
      "5e608a6107d2c98edaf0cfe6\n",
      "5e608f798456220c9b632881\n"
     ]
    },
    {
     "name": "stderr",
     "output_type": "stream",
     "text": [
      " 48%|████▊     | 1477/3101 [00:43<00:46, 35.14it/s]"
     ]
    },
    {
     "name": "stdout",
     "output_type": "stream",
     "text": [
      "5e609053a0e804932628d5b0\n",
      "5e6096ee4346cb02ebbfb3a9\n",
      "5e60982e702f0b9285706752\n",
      "5e609907cc9a6a8e93f67574\n",
      "5e60990b0cdae60610b86b27\n",
      "5e609a6e86d3ac144a43b7a1\n",
      "5e609d684c9d90131c7404e8\n",
      "5e609f53a0e804932628d5bc\n"
     ]
    },
    {
     "name": "stderr",
     "output_type": "stream",
     "text": [
      " 48%|████▊     | 1485/3101 [00:43<00:46, 35.01it/s]"
     ]
    },
    {
     "name": "stdout",
     "output_type": "stream",
     "text": [
      "5e60a062da71720165232b0c\n",
      "5e60a0de0cdae60610b86b2e\n",
      "5e60a2d4d1c29b0a34be6a55\n",
      "5e60a5f94c9d90131c7404ee\n",
      "5e60aa9d0d4426e03ead72fd\n",
      "5e60abdfd06a3e7d68423523\n",
      "5e60ad9bd535ca254e5c9b19\n"
     ]
    },
    {
     "name": "stderr",
     "output_type": "stream",
     "text": [
      "\r",
      " 48%|████▊     | 1489/3101 [00:43<00:46, 34.94it/s]"
     ]
    },
    {
     "name": "stdout",
     "output_type": "stream",
     "text": [
      "5e60af140f633bfccfe4f5cd\n",
      "5e60af704eeeb6a1adf3982b\n",
      "5e60b65d5e4bce42261a7952\n",
      "5e60b95b54c966d16908a2ad\n",
      "5e60bbb2315087d49fb8f082\n",
      "5e615af3b9ec7a22b7994d63\n",
      "5e6161f3f22a2ed17d6feef3\n"
     ]
    },
    {
     "name": "stderr",
     "output_type": "stream",
     "text": [
      " 48%|████▊     | 1497/3101 [00:44<00:45, 34.88it/s]"
     ]
    },
    {
     "name": "stdout",
     "output_type": "stream",
     "text": [
      "5e616a9fba3666421f7418bf\n",
      "5e616abd04258b3209df496e\n",
      "5e61717863c0acb5282f271c\n",
      "5e61727995be719cc7143d8b\n",
      "5e61735b1bc525df70237be8\n",
      "5e617596f694a1edcd88a399\n",
      "5e6177dd12569a08bd5c4643\n",
      "5e617b779dcd475896e42b81\n"
     ]
    },
    {
     "name": "stderr",
     "output_type": "stream",
     "text": [
      " 49%|████▊     | 1505/3101 [00:44<00:45, 34.96it/s]"
     ]
    },
    {
     "name": "stdout",
     "output_type": "stream",
     "text": [
      "5e6180ae90fc6e61eaada323\n",
      "5e6187781b2dfe2d4a58cc21\n",
      "5e618c3112569a08bd5c4658\n",
      "5e618e9eb9ec7a22b7994d99\n",
      "5e618ee034f721568586036f\n",
      "5e6190f1fa5531f02d5c8d40\n",
      "5e6191451bc525df70237c0d\n",
      "5e6191d21bc525df70237c0f\n"
     ]
    },
    {
     "name": "stderr",
     "output_type": "stream",
     "text": [
      " 49%|████▉     | 1513/3101 [00:44<00:45, 34.94it/s]"
     ]
    },
    {
     "name": "stdout",
     "output_type": "stream",
     "text": [
      "5e6194d3c96192e65cc1e543\n",
      "5e6194d30edd046a7a8e5abc\n",
      "5e61959e63fe765b14407366\n",
      "5e6196ab35359dc8b9a6a19c\n",
      "5e61980cd95e9e4c7af3b80b\n",
      "5e6198da9da36e9023d65f3b\n",
      "5e619a78907458afe50dc28b\n",
      "5e619b393b76d8742b760579\n"
     ]
    },
    {
     "name": "stderr",
     "output_type": "stream",
     "text": [
      " 49%|████▉     | 1521/3101 [00:44<00:45, 34.94it/s]"
     ]
    },
    {
     "name": "stdout",
     "output_type": "stream",
     "text": [
      "5e619b3b8f7fa9f2eae669db\n",
      "5e619b52d95e9e4c7af3b80e\n",
      "5e619b58ba3666421f7418f0\n",
      "5e619babd5329cea85e34df5\n",
      "5e619bba355aa59bb1a6995c\n",
      "5e619ea5804ddab015a15f15\n",
      "5e61a036907458afe50dc292\n"
     ]
    },
    {
     "name": "stderr",
     "output_type": "stream",
     "text": [
      " 49%|████▉     | 1529/3101 [00:45<00:44, 34.99it/s]"
     ]
    },
    {
     "name": "stdout",
     "output_type": "stream",
     "text": [
      "5e61a48256823b8cdc29781f\n",
      "5e61a516d5329cea85e34e00\n",
      "5e61a51712569a08bd5c4676\n",
      "5e61a6c52043fb2bc9cd2d2d\n",
      "5e61a9a8bea2c75b68e05bee\n",
      "5e61aa95907458afe50dc2a4\n",
      "5e61aa9a81438cd29f5b5bd3\n",
      "5e61ae4e9dcd475896e42bb5\n"
     ]
    },
    {
     "name": "stderr",
     "output_type": "stream",
     "text": [
      " 50%|████▉     | 1537/3101 [00:45<00:44, 34.94it/s]"
     ]
    },
    {
     "name": "stdout",
     "output_type": "stream",
     "text": [
      "5e61ae54c0dc44eed8129141\n",
      "5e61ae6c12569a08bd5c467c\n",
      "5e61b462d950a4d6029aba2e\n",
      "5e61b5a881438cd29f5b5bdb\n",
      "5e61b66bcb70b8628d8bf367\n",
      "5e61b690f694a1edcd88a3d2\n",
      "5e61be2ed62df3aeb3558dbe\n",
      "5e61c002cbc8205c6ba13cd2\n"
     ]
    },
    {
     "name": "stderr",
     "output_type": "stream",
     "text": [
      " 50%|████▉     | 1545/3101 [00:45<00:44, 34.94it/s]"
     ]
    },
    {
     "name": "stdout",
     "output_type": "stream",
     "text": [
      "5e61c4030edd046a7a8e5af7\n",
      "5e61c5c1f0abf4b4e3848434\n",
      "5e61c866d5329cea85e34e23\n",
      "5e61c870b62c6c67a1788496\n",
      "5e61ca25b1b9b150f1b157db\n",
      "5e61ca26ba3666421f741920\n",
      "5e61d2814ae2e55b32e65d08\n",
      "5e61d3b556823b8cdc29784d\n"
     ]
    },
    {
     "name": "stderr",
     "output_type": "stream",
     "text": [
      " 50%|█████     | 1553/3101 [00:45<00:44, 34.91it/s]"
     ]
    },
    {
     "name": "stdout",
     "output_type": "stream",
     "text": [
      "5e61d57e1bc525df70237c5a\n",
      "5e61d6b6cba14a43c01c6a51\n",
      "5e61d7b734f72156858603c1\n",
      "5e61dd7f7ea51b6b4b014640\n",
      "5e61df6cbea2c75b68e05c2c\n",
      "5e61dfbecb70b8628d8bf399\n",
      "5e61e46dc0dc44eed8129179\n",
      "5e61e8a71abb15638d1a79f2\n"
     ]
    },
    {
     "name": "stderr",
     "output_type": "stream",
     "text": [
      " 50%|█████     | 1561/3101 [00:45<00:44, 34.91it/s]"
     ]
    },
    {
     "name": "stdout",
     "output_type": "stream",
     "text": [
      "5e61e8b45ed60f98568677b1\n",
      "5e61eae7d5329cea85e34e42\n",
      "5e61eaf5da68d87fc079f595\n",
      "5e61ec5d3ad5c5e6c8a0ec9d\n",
      "5e61ecd73b76d8742b7605d4\n",
      "5e61ed01adfbe2d58e249726\n",
      "5e61edaad7bb604493e7eba8\n"
     ]
    },
    {
     "name": "stderr",
     "output_type": "stream",
     "text": [
      " 51%|█████     | 1569/3101 [00:46<00:43, 34.89it/s]"
     ]
    },
    {
     "name": "stdout",
     "output_type": "stream",
     "text": [
      "5e61f1bb466505ea0610356e\n",
      "5e61f1de9da36e9023d65f90\n",
      "5e61f281da68d87fc079f59c\n",
      "5e61f427adfbe2d58e24972b\n",
      "5e61f65dcba14a43c01c6a6d\n",
      "5e61f8f9ba3666421f74194d\n",
      "5e61fcd2cba14a43c01c6a70\n",
      "5e61fd2d0edd046a7a8e5b2f\n"
     ]
    },
    {
     "name": "stderr",
     "output_type": "stream",
     "text": [
      " 51%|█████     | 1577/3101 [00:46<00:43, 34.94it/s]"
     ]
    },
    {
     "name": "stdout",
     "output_type": "stream",
     "text": [
      "5e61fd7e1bc525df70237c7d\n",
      "5e6201770edd046a7a8e5b33\n",
      "5e62038dd62df3aeb3558df6\n",
      "5e620464d33bd4227f947e6d\n",
      "5e6204c4b62c6c67a17884c8\n",
      "5e620a2df22a2ed17d6fefa8\n",
      "5e620b72b171b4b443e151c6\n",
      "5e620cab3ad5c5e6c8a0ecbd\n"
     ]
    },
    {
     "name": "stderr",
     "output_type": "stream",
     "text": [
      " 51%|█████     | 1585/3101 [00:46<00:43, 35.01it/s]"
     ]
    },
    {
     "name": "stdout",
     "output_type": "stream",
     "text": [
      "5e620e89d33bd4227f947e79\n",
      "5e8cd0e6af0df3438a6d741c\n",
      "5e8d3a47f4c56b04cfdae3e8\n",
      "5e8d74c1cdebdc20b2c8b71e\n",
      "5e8d86548187ddf57abe4089\n",
      "5e8e725320ffb979231832f7\n",
      "5e8ed385d2fa10fc14c813ca\n",
      "5e8ed3864162671b9b9d4691\n"
     ]
    },
    {
     "name": "stderr",
     "output_type": "stream",
     "text": [
      " 51%|█████▏    | 1593/3101 [00:46<00:42, 35.10it/s]"
     ]
    },
    {
     "name": "stdout",
     "output_type": "stream",
     "text": [
      "5e8f6b68245baf88bed3afba\n",
      "5e8f866c245baf88bed3afc6\n",
      "5e8f867994a9d6bd748a1d12\n",
      "5e8fbd507eb32e485f15d624\n",
      "5e8fc9e3f5de7189738d5b74\n",
      "5e8fc9e851b0da5c30dff61b\n",
      "5e8fcadb3bd98a8b5d8caace\n",
      "5e90063d4a9dfeaf91a05413\n"
     ]
    },
    {
     "name": "stderr",
     "output_type": "stream",
     "text": [
      " 52%|█████▏    | 1601/3101 [00:47<00:42, 35.15it/s]"
     ]
    },
    {
     "name": "stdout",
     "output_type": "stream",
     "text": [
      "5e9052abfc465748d7e6fd44\n",
      "5e90cf254a9dfeaf91a05463\n",
      "5e90eeab0771bf169dd66ea7\n",
      "5e91700a6aa0535ea4c11805\n",
      "5e9182960e2c03198cb1fe3b\n",
      "5e918651b4f2263c606d5456\n",
      "5eaad0c84b729fb61ad85c3c\n",
      "5eaae48c25234e95b393905d\n"
     ]
    },
    {
     "name": "stderr",
     "output_type": "stream",
     "text": [
      " 52%|█████▏    | 1609/3101 [00:47<00:42, 35.18it/s]"
     ]
    },
    {
     "name": "stdout",
     "output_type": "stream",
     "text": [
      "5eaae4ac9e2ef53f3cdabbae\n",
      "5eab233c2ca0c69e80d7ef75\n",
      "5eab2f1281b79ecb747e13b4\n",
      "5eab31b0e6bd4afae1fd3359\n",
      "5eab347203448d958482a942\n",
      "5eab383bced33c9ecc76d69d\n",
      "5eab384c55d86c7617f95010\n",
      "5eab3ee8d44b5b1294759198\n"
     ]
    },
    {
     "name": "stderr",
     "output_type": "stream",
     "text": [
      " 52%|█████▏    | 1617/3101 [00:47<00:42, 35.24it/s]"
     ]
    },
    {
     "name": "stdout",
     "output_type": "stream",
     "text": [
      "5eab3ee962a64c8ca02be02c\n",
      "5eab3ef27fe88cd1b983c91c\n",
      "5eab3ef6220536d89d9e61e3\n",
      "5eab43fa2ca0c69e80d7ef84\n",
      "5eab43ffa338993edf05c83f\n",
      "5eab4404d050fa92c9af1571\n",
      "5eab440562a64c8ca02be030\n",
      "5eab440954aac36fb497b0a5\n"
     ]
    },
    {
     "name": "stderr",
     "output_type": "stream",
     "text": [
      " 52%|█████▏    | 1625/3101 [00:47<00:41, 35.23it/s]"
     ]
    },
    {
     "name": "stdout",
     "output_type": "stream",
     "text": [
      "5eab440b36aa775c48beb159\n",
      "5eab440f3858a1e9e50a070e\n",
      "5eab4b5a54aac36fb497b0a9\n",
      "5eab4b5bed1f7de580ac6913\n",
      "5eab68a155d86c7617f95024\n",
      "5eab6dc5684281d51dabf60e\n",
      "5eab94e79099a0abe4d00aab\n",
      "5eabcf8555d86c7617f95040\n"
     ]
    },
    {
     "name": "stderr",
     "output_type": "stream",
     "text": [
      " 53%|█████▎    | 1633/3101 [00:47<00:41, 35.28it/s]"
     ]
    },
    {
     "name": "stdout",
     "output_type": "stream",
     "text": [
      "5eabd18b82c935c6f7ff1a1b\n",
      "5eabf31323288dee3ede1184\n",
      "5eac25de5c91dfcc97ad6705\n",
      "5eac2af31ca4abf3f0f9f406\n",
      "5eac5bde252baaecab1b35f8\n",
      "5eac5beaee39b0f31f0ae20e\n",
      "5eac6278252baaecab1b35f9\n",
      "5eac7b922926cf9b3c4cfc2a\n",
      "5eac96265230468de3cf5ce1\n",
      "5eacb52c23288dee3ede11c7\n"
     ]
    },
    {
     "name": "stderr",
     "output_type": "stream",
     "text": [
      " 53%|█████▎    | 1641/3101 [00:49<01:51, 13.11it/s]"
     ]
    },
    {
     "name": "stdout",
     "output_type": "stream",
     "text": [
      "5eacb5315d51a31720c116cb\n",
      "5eacfb4c9420b3cec7681764\n",
      "5ead404a12d54a2af797f1c1\n",
      "5ead4b8f0482a4b751d415c3\n",
      "5eada94c062aab48498d0567\n",
      "5eadb23115ae4377555b33df\n",
      "5eae1997cf45e95ff8aa5bb3\n",
      "5eae2416330906471b1b385d\n"
     ]
    },
    {
     "name": "stderr",
     "output_type": "stream",
     "text": [
      " 53%|█████▎    | 1649/3101 [00:49<01:15, 19.28it/s]"
     ]
    },
    {
     "name": "stdout",
     "output_type": "stream",
     "text": [
      "5eae241f1d9f730b95d4db2e\n",
      "5eae363e207f56321bae8842\n",
      "5eae382915ae4377555b3415\n",
      "5eae420e202090a5be088c83\n",
      "5eae5a5dd5f80fb00cbfba9c\n",
      "5eae6bcc99d506607e7ba833\n",
      "5eae9616197cb6ec9631a69d\n",
      "5eae9b423d40c355f66865a7\n"
     ]
    },
    {
     "name": "stderr",
     "output_type": "stream",
     "text": [
      " 53%|█████▎    | 1657/3101 [00:49<00:57, 25.02it/s]"
     ]
    },
    {
     "name": "stdout",
     "output_type": "stream",
     "text": [
      "5eae9b52375dc0cd3b6b268d\n",
      "5eaedfe399d506607e7ba85b\n",
      "5eaee1be35ff9f5e3fa2aeeb\n",
      "5eaef8d68a88ebe965bb84a4\n",
      "5eaf17283c9291f3cb67315d\n",
      "5eaf192d55579cc4260758d5\n",
      "5eaf1a77ca99e7aee29ba7bc\n",
      "5eaf21e7117e60e77418f424\n"
     ]
    },
    {
     "name": "stderr",
     "output_type": "stream",
     "text": [
      " 54%|█████▎    | 1665/3101 [00:49<00:49, 29.28it/s]"
     ]
    },
    {
     "name": "stdout",
     "output_type": "stream",
     "text": [
      "5eaf22d43c9291f3cb673162\n",
      "5eaf394818b42b489caa0929\n",
      "5eaf3a9f8a88ebe965bb84be\n",
      "5eaf4fd099b654ad338abb1f\n",
      "5eaf52eab89787759e41dea2\n",
      "5eaf53d999b654ad338abb22\n",
      "5eaf55257b1bd376f3596000\n",
      "5eaf5526bdbf3732976ce6f5\n"
     ]
    },
    {
     "name": "stderr",
     "output_type": "stream",
     "text": [
      " 54%|█████▍    | 1673/3101 [00:50<00:44, 31.92it/s]"
     ]
    },
    {
     "name": "stdout",
     "output_type": "stream",
     "text": [
      "5eaf72885deff32c588b9e39\n",
      "5eaf9707659ee5ccfc887d8e\n",
      "5eaf971368c79391323a0f62\n",
      "5eaf971cfc38414f922325af\n",
      "5eaf9729d68d6fe904c5eed6\n",
      "5eafb5f1659ee5ccfc887d9e\n",
      "5eafb5f9edf4ac37364153d9\n",
      "5eafb5faad23f48b8c95ea88\n"
     ]
    },
    {
     "name": "stderr",
     "output_type": "stream",
     "text": [
      " 54%|█████▍    | 1681/3101 [00:50<00:42, 33.40it/s]"
     ]
    },
    {
     "name": "stdout",
     "output_type": "stream",
     "text": [
      "5eafcb62659ee5ccfc887da8\n",
      "5ece4a1ce5e60763ce43f6c2\n",
      "5ece4a2e799abea5a10f6308\n",
      "5ece4d9fad1cf5d37447ff0d\n",
      "5ece4e112384fbd69521f873\n",
      "5ece4e18d180dc952f29400c\n",
      "5ece4fba5fce238b7061d0dd\n"
     ]
    },
    {
     "name": "stderr",
     "output_type": "stream",
     "text": [
      " 54%|█████▍    | 1689/3101 [00:50<00:41, 34.21it/s]"
     ]
    },
    {
     "name": "stdout",
     "output_type": "stream",
     "text": [
      "5ece4fc60870d0ee81233d81\n",
      "5ece54d2381a5d49c115176c\n",
      "5ece556b4b9b77b74ec9ab36\n",
      "5ece563cb66676166af631cc\n",
      "5ece5c3ae345db02f70dd93c\n",
      "5ece5d47d180dc952f294012\n",
      "5ece5d482384fbd69521f879\n",
      "5ece5da257bda5e06ab567fa\n"
     ]
    },
    {
     "name": "stderr",
     "output_type": "stream",
     "text": [
      " 55%|█████▍    | 1697/3101 [00:50<00:40, 34.64it/s]"
     ]
    },
    {
     "name": "stdout",
     "output_type": "stream",
     "text": [
      "5ece5efbad1cf5d37447ff19\n",
      "5ece5fc38a7a1a942015293a\n",
      "5ece5fd0500988b1c3a3ebe8\n",
      "5ece61c76e71ddccc38f8eea\n",
      "5ece63664c152bf1ea1b369b\n",
      "5ece6367ede17844d9d47338\n",
      "5ece636e0870d0ee81233d84\n",
      "5ece639ee345db02f70dd940\n"
     ]
    },
    {
     "name": "stderr",
     "output_type": "stream",
     "text": [
      " 55%|█████▍    | 1705/3101 [00:50<00:40, 34.81it/s]"
     ]
    },
    {
     "name": "stdout",
     "output_type": "stream",
     "text": [
      "5ece671d69a08613df647481\n",
      "5ece6c5cd180dc952f294016\n",
      "5ece6c6157bda5e06ab567fd\n",
      "5ece6c63b7aadf26566ce9bb\n",
      "5ece6c676b6db7fa1fe13a47\n",
      "5ece6e686b6db7fa1fe13a49\n",
      "5ece6e6eb66676166af631d5\n",
      "5ece6fc54d0f0ecda55f39fc\n"
     ]
    },
    {
     "name": "stderr",
     "output_type": "stream",
     "text": [
      " 55%|█████▌    | 1713/3101 [00:51<00:39, 34.87it/s]"
     ]
    },
    {
     "name": "stdout",
     "output_type": "stream",
     "text": [
      "5ece6fd11cf8a1719cd0841f\n",
      "5ece726edef9d67d3a624699\n",
      "5ece73e4def9d67d3a62469a\n",
      "5ece73e9ff336acd77858f23\n",
      "5ece74874765876b237b19ca\n",
      "5ece7bab4d0f0ecda55f3a01\n",
      "5ece7ca2e9f5b42f6026f9f6\n"
     ]
    },
    {
     "name": "stderr",
     "output_type": "stream",
     "text": [
      " 55%|█████▌    | 1721/3101 [00:51<00:39, 34.92it/s]"
     ]
    },
    {
     "name": "stdout",
     "output_type": "stream",
     "text": [
      "5ece7ca98b24b7abed411db8\n",
      "5ece7d135f265ee5ac848a22\n",
      "5ece8153381a5d49c115177d\n",
      "5ece815ad180dc952f294023\n",
      "5ece815b1cf8a1719cd08425\n",
      "5ece825bede17844d9d47343\n",
      "5ece82f2799abea5a10f631d\n",
      "5ece839069a08613df647489\n"
     ]
    },
    {
     "name": "stderr",
     "output_type": "stream",
     "text": [
      " 56%|█████▌    | 1729/3101 [00:51<00:39, 34.95it/s]"
     ]
    },
    {
     "name": "stdout",
     "output_type": "stream",
     "text": [
      "5ece886d500988b1c3a3ebf3\n",
      "5ece9134107b60dc4c41ae5e\n",
      "5ece9138e9f5b42f6026f9fe\n",
      "5ece9452d407bdd615f9a07c\n",
      "5ece985cff336acd77858f33\n",
      "5ece98b36e40741bd7f28b9e\n",
      "5ece9952ff336acd77858f34\n",
      "5ece9af26e71ddccc38f8efc\n"
     ]
    },
    {
     "name": "stderr",
     "output_type": "stream",
     "text": [
      " 56%|█████▌    | 1737/3101 [00:51<00:38, 34.99it/s]"
     ]
    },
    {
     "name": "stdout",
     "output_type": "stream",
     "text": [
      "5ece9b03e8895b32944cb9b2\n",
      "5ece9d04e345db02f70dd94c\n",
      "5ecea4a73121c0b17fc1ca7f\n",
      "5ecea4a7500988b1c3a3ec03\n",
      "5ecea4b852e9d696421a3900\n",
      "5ecea9895dcd536d4b5be6e3\n",
      "5ecea9966e40741bd7f28ba2\n",
      "5eceacfcda1c03cfc4371dea\n"
     ]
    },
    {
     "name": "stderr",
     "output_type": "stream",
     "text": [
      " 56%|█████▋    | 1745/3101 [00:52<00:38, 35.01it/s]"
     ]
    },
    {
     "name": "stdout",
     "output_type": "stream",
     "text": [
      "5ecead0cad1cf5d37447ff38\n",
      "5eceadcdf5cb3e39d9364cbd\n",
      "5eceadd3bb35246dd6df3b3c\n",
      "5eceadd4a3ad1dc44e27869a\n",
      "5eceaf6b2384fbd69521f89d\n",
      "5eceaf77793986eaeb811072\n",
      "5eceafba5f4afcd7e0f8b653\n",
      "5eceb15eda1c03cfc4371dee\n"
     ]
    },
    {
     "name": "stderr",
     "output_type": "stream",
     "text": [
      " 57%|█████▋    | 1753/3101 [00:52<00:38, 35.00it/s]"
     ]
    },
    {
     "name": "stdout",
     "output_type": "stream",
     "text": [
      "5eceb165def9d67d3a6246ad\n",
      "5eceb1671b70471c2fc3bcb4\n",
      "5eceb205e8895b32944cb9be\n",
      "5eceb20a1b70471c2fc3bcb5\n",
      "5eceb5355f4afcd7e0f8b656\n",
      "5eceb6ab2bedf1769636e9fe\n",
      "5eceb6ad186906ae00726442\n"
     ]
    },
    {
     "name": "stderr",
     "output_type": "stream",
     "text": [
      " 57%|█████▋    | 1761/3101 [00:52<00:38, 35.07it/s]"
     ]
    },
    {
     "name": "stdout",
     "output_type": "stream",
     "text": [
      "5eceb6afd1c1ea96c510b864\n",
      "5eceb6b25f4afcd7e0f8b657\n",
      "5eceb6b8d407bdd615f9a08b\n",
      "5eceb6baaf37583678f1b94c\n",
      "5eceb6be4b10365c8882c985\n",
      "5eceb6c5e5a890d8ecaeb381\n",
      "5eceb82cbfa638a4592eee4f\n",
      "5eceb885bb35246dd6df3b40\n",
      "5eceb9d7186906ae00726443\n"
     ]
    },
    {
     "name": "stderr",
     "output_type": "stream",
     "text": [
      " 57%|█████▋    | 1769/3101 [00:52<00:37, 35.07it/s]"
     ]
    },
    {
     "name": "stdout",
     "output_type": "stream",
     "text": [
      "5eceb9dbbfa638a4592eee50\n",
      "5ecebe568aabf1b8a7599fa7\n",
      "5ecebe5952e9d696421a390b\n",
      "5ecebe6557bda5e06ab56819\n",
      "5ecebfd6ede17844d9d47354\n",
      "5ecec05ae3aa125542417360\n",
      "5ecec19d24ac792e73296374\n",
      "5ecec1a4b7aadf26566ce9d8\n"
     ]
    },
    {
     "name": "stderr",
     "output_type": "stream",
     "text": [
      " 57%|█████▋    | 1777/3101 [00:53<00:37, 35.02it/s]"
     ]
    },
    {
     "name": "stdout",
     "output_type": "stream",
     "text": [
      "5ecec2beb66676166af631f1\n",
      "5ecec3ba24ac792e73296375\n",
      "5ecec4b61b70471c2fc3bcbe\n",
      "5ecec4bc6e71ddccc38f8f05\n",
      "5ecec6748aabf1b8a7599faa\n",
      "5ecec68847d415009ebe4f1e\n",
      "5ececa0a69a08613df6474a0\n",
      "5ececa0ed1c1ea96c510b86b\n"
     ]
    },
    {
     "name": "stderr",
     "output_type": "stream",
     "text": [
      " 58%|█████▊    | 1785/3101 [00:53<00:37, 34.96it/s]"
     ]
    },
    {
     "name": "stdout",
     "output_type": "stream",
     "text": [
      "5ececcd0bfa638a4592eee55\n",
      "5ececcdc4b9b77b74ec9ab61\n",
      "5ececcffcfe6966d2e56d296\n",
      "5ececd53cfe6966d2e56d297\n",
      "5eced75bc01926a068a49021\n",
      "5eced75d24ac792e7329637d\n",
      "5eced760def9d67d3a6246bc\n"
     ]
    },
    {
     "name": "stderr",
     "output_type": "stream",
     "text": [
      " 58%|█████▊    | 1793/3101 [00:53<00:37, 34.99it/s]"
     ]
    },
    {
     "name": "stdout",
     "output_type": "stream",
     "text": [
      "5eced7734765876b237b19eb\n",
      "5eced7fcb7aadf26566ce9e2\n",
      "5ecee08b05ff6b0ea5e9fdf7\n",
      "5ecee1866b6db7fa1fe13a66\n",
      "5ecee1acfcdb31f371e7f407\n",
      "5ecee89e6e40741bd7f28bb7\n",
      "5eceebb141070846e082112e\n",
      "5eceebc0e345db02f70dd970\n",
      "5eceebc0e835e3ab27da7130\n"
     ]
    },
    {
     "name": "stderr",
     "output_type": "stream",
     "text": [
      " 58%|█████▊    | 1801/3101 [00:53<00:37, 34.96it/s]"
     ]
    },
    {
     "name": "stdout",
     "output_type": "stream",
     "text": [
      "5eceef6b6458b4885aa2880c\n",
      "5eceef76824e4f51f4a16f2b\n",
      "5eceef78c01926a068a49027\n",
      "5eceefc257bda5e06ab5682a\n",
      "5eceefcf6a34bd84b5ce2059\n",
      "5ecef4bfd75af8aa3a7bcebf\n",
      "5ecef4c624ac792e7329638c\n"
     ]
    },
    {
     "name": "stderr",
     "output_type": "stream",
     "text": [
      " 58%|█████▊    | 1809/3101 [00:53<00:37, 34.90it/s]"
     ]
    },
    {
     "name": "stdout",
     "output_type": "stream",
     "text": [
      "5ecef4c83121c0b17fc1caa2\n",
      "5ecef4cf2384fbd69521f8bc\n",
      "5ecef5da500988b1c3a3ec25\n",
      "5ecef5e7a5de53e72eb859bf\n",
      "5ecef790e8895b32944cb9d9\n",
      "5ecef7b0824e4f51f4a16f32\n",
      "5ecefac06458b4885aa28811\n",
      "5ecefb1bda1c03cfc4371e06\n"
     ]
    },
    {
     "name": "stderr",
     "output_type": "stream",
     "text": [
      "\r",
      " 58%|█████▊    | 1813/3101 [00:54<00:36, 34.93it/s]"
     ]
    },
    {
     "name": "stdout",
     "output_type": "stream",
     "text": [
      "5ecefb278a7a1a942015297e\n",
      "5ecefc64733607be27295497\n",
      "5ecefc64bb35246dd6df3b54\n",
      "5ecf007657bda5e06ab5682f\n",
      "5ecf00e4186906ae0072645d\n",
      "5ecf0128a5de53e72eb859c4\n",
      "5ecf05698aabf1b8a7599fc6\n",
      "5ecf057186961f1336705441\n"
     ]
    },
    {
     "name": "stderr",
     "output_type": "stream",
     "text": [
      " 59%|█████▊    | 1821/3101 [00:54<00:36, 34.92it/s]"
     ]
    },
    {
     "name": "stdout",
     "output_type": "stream",
     "text": [
      "5ecf06b9c01926a068a4902f\n",
      "5ecf074c5f4afcd7e0f8b679\n",
      "5ecf08f2824e4f51f4a16f3d\n",
      "5ecf09ce25bad4af7a5dede5\n",
      "5ecf09d8b7aadf26566ce9ff\n",
      "5ecf0a474b10365c8882c9a0\n",
      "5ecf0dd1fb3c09aed7c8b02b\n",
      "5ecf100302ebeeef99eb3fad\n"
     ]
    },
    {
     "name": "stderr",
     "output_type": "stream",
     "text": [
      " 59%|█████▉    | 1829/3101 [00:54<00:36, 34.99it/s]"
     ]
    },
    {
     "name": "stdout",
     "output_type": "stream",
     "text": [
      "5ecf108069a08613df6474bf\n",
      "5ecf116d733607be2729549f\n",
      "5ecf1170e8895b32944cb9e2\n",
      "5ecf117f5dcd536d4b5be70f\n",
      "5ecf131dcc180eb73bd4a460\n",
      "5ecf13e6f3e3047a47004087\n",
      "5ecf1546c01926a068a49038\n",
      "5ecf162bb7aadf26566cea02\n"
     ]
    },
    {
     "name": "stderr",
     "output_type": "stream",
     "text": [
      " 59%|█████▉    | 1837/3101 [00:54<00:36, 35.00it/s]"
     ]
    },
    {
     "name": "stdout",
     "output_type": "stream",
     "text": [
      "5ecf16304b9b77b74ec9ab79\n",
      "5ecf1636186906ae00726465\n",
      "5ecf17c32378dfd66f3c4a83\n",
      "5ecf18182378dfd66f3c4a84\n",
      "5ecf181b6ad5c1579d191f5f\n",
      "5ecf19204b10365c8882c9a9\n",
      "5ecf192c824e4f51f4a16f45\n",
      "5ecf1b81c01926a068a4903d\n"
     ]
    },
    {
     "name": "stderr",
     "output_type": "stream",
     "text": [
      " 59%|█████▉    | 1845/3101 [00:54<00:35, 34.92it/s]"
     ]
    },
    {
     "name": "stdout",
     "output_type": "stream",
     "text": [
      "5ecf1bfad75af8aa3a7bced3\n",
      "5ecf1c0bb66676166af63222\n",
      "5ecf1c0bd1c1ea96c510b893\n",
      "5ecf1c0c47d415009ebe4f3e\n",
      "5ecf1c19824e4f51f4a16f46\n",
      "5ecf214f5f4afcd7e0f8b688\n",
      "5ecf216205ff6b0ea5e9fe0e\n",
      "5ecf227a4765876b237b1a01\n"
     ]
    },
    {
     "name": "stderr",
     "output_type": "stream",
     "text": [
      " 60%|█████▉    | 1853/3101 [00:55<00:35, 34.95it/s]"
     ]
    },
    {
     "name": "stdout",
     "output_type": "stream",
     "text": [
      "5ecf22f3b7aadf26566cea0a\n",
      "5ecf26b8bb35246dd6df3b68\n",
      "5ecf26bb41070846e0821143\n",
      "5ecf2978b66676166af63227\n",
      "5ecf29d1f5cd35e0932ba45e\n",
      "5ecf2beff3e3047a4700408f\n",
      "5ecf2d20d75af8aa3a7bceda\n",
      "5ecf2da5f5cd35e0932ba461\n"
     ]
    },
    {
     "name": "stderr",
     "output_type": "stream",
     "text": [
      " 60%|██████    | 1861/3101 [00:55<00:35, 34.98it/s]"
     ]
    },
    {
     "name": "stdout",
     "output_type": "stream",
     "text": [
      "5ecf2db524ac792e732963ac\n",
      "5ecf2dbbf3e3047a47004090\n",
      "5ecf2ea2ad1cf5d37447ff6e\n",
      "5ecf31d24765876b237b1a08\n",
      "5ecf34451b70471c2fc3bcee\n",
      "5ecf3918f6eb880ccae40747\n",
      "5ecf391b4b9b77b74ec9ab82\n",
      "5ecf3b866b6db7fa1fe13a8a\n"
     ]
    },
    {
     "name": "stderr",
     "output_type": "stream",
     "text": [
      " 60%|██████    | 1869/3101 [00:55<00:35, 34.97it/s]"
     ]
    },
    {
     "name": "stdout",
     "output_type": "stream",
     "text": [
      "5ecf3b9d186906ae00726473\n",
      "5ecf3c5949260c006eaec075\n",
      "5ecf3c6286961f1336705459\n",
      "5ecf406a3121c0b17fc1cab9\n",
      "5ecf44375dcd536d4b5be71d\n",
      "5ecf44388a7a1a942015299b\n",
      "5ecf455c7602290aa25923c2\n",
      "5ecf4563b66676166af63235\n"
     ]
    },
    {
     "name": "stderr",
     "output_type": "stream",
     "text": [
      " 61%|██████    | 1877/3101 [00:55<00:34, 35.02it/s]"
     ]
    },
    {
     "name": "stdout",
     "output_type": "stream",
     "text": [
      "5ecf46846a34bd84b5ce206d\n",
      "5ecf4688da1c03cfc4371e1e\n",
      "5ecf469257bda5e06ab5684d\n",
      "5ecf46924b9b77b74ec9ab89\n",
      "5ecf469625bad4af7a5dedf9\n",
      "5ecf469b41070846e0821152\n",
      "5ecf469c49260c006eaec079\n",
      "5ecf4ccccc180eb73bd4a476\n"
     ]
    },
    {
     "name": "stderr",
     "output_type": "stream",
     "text": [
      " 61%|██████    | 1885/3101 [00:56<00:34, 35.08it/s]"
     ]
    },
    {
     "name": "stdout",
     "output_type": "stream",
     "text": [
      "5ecf4d14f5cd35e0932ba474\n",
      "5ecf5335ad1cf5d37447ff7d\n",
      "5ecf53355dcd536d4b5be71f\n",
      "5ecf5416824e4f51f4a16f64\n",
      "5ecf54191cf8a1719cd0846a\n",
      "5ecf5441b7aadf26566cea1b\n",
      "5ecf5619fb3c09aed7c8b04f\n",
      "5ecf5a6405ff6b0ea5e9fe26\n"
     ]
    },
    {
     "name": "stderr",
     "output_type": "stream",
     "text": [
      " 61%|██████    | 1893/3101 [00:56<00:34, 35.10it/s]"
     ]
    },
    {
     "name": "stdout",
     "output_type": "stream",
     "text": [
      "5ecf5eed6a34bd84b5ce2077\n",
      "5ecf5efde345db02f70dd9a1\n",
      "5ecf5efd5dcd536d4b5be726\n",
      "5ecf5efecc180eb73bd4a47f\n",
      "5ecf5f05cfe6966d2e56d2c9\n",
      "5ecf5f056e40741bd7f28bde\n",
      "5ecf5f06a9859379d47e5a23\n",
      "5ecf6205bb35246dd6df3b80\n"
     ]
    },
    {
     "name": "stderr",
     "output_type": "stream",
     "text": [
      " 61%|██████▏   | 1901/3101 [00:56<00:34, 35.10it/s]"
     ]
    },
    {
     "name": "stdout",
     "output_type": "stream",
     "text": [
      "5ecf654d2378dfd66f3c4aa2\n",
      "5ecf681b02ebeeef99eb3fc9\n",
      "5ecf6941b66676166af63244\n",
      "5ecf6b59f3e3047a470040a1\n",
      "5ecf6e481cf8a1719cd08473\n",
      "5ecf6eea4b10365c8882c9cd\n",
      "5ecf6ef9b66676166af63249\n",
      "5ecf6f1ff14261082c4bfb18\n"
     ]
    },
    {
     "name": "stderr",
     "output_type": "stream",
     "text": [
      " 62%|██████▏   | 1909/3101 [00:56<00:34, 34.97it/s]"
     ]
    },
    {
     "name": "stdout",
     "output_type": "stream",
     "text": [
      "5ecf76b11cf8a1719cd08474\n",
      "5ecf76b2f14261082c4bfb1b\n",
      "5ecf77b025bad4af7a5dee0c\n",
      "5ecf7c9fd75af8aa3a7bcefc\n",
      "5ecf8029ad1cf5d37447ff88\n",
      "5ecf803c2378dfd66f3c4aaf\n",
      "5ecf81285f4afcd7e0f8b6a9\n",
      "5ecf815f5f4afcd7e0f8b6aa\n"
     ]
    },
    {
     "name": "stderr",
     "output_type": "stream",
     "text": [
      " 62%|██████▏   | 1917/3101 [00:57<00:33, 34.99it/s]"
     ]
    },
    {
     "name": "stdout",
     "output_type": "stream",
     "text": [
      "5ecf831df14261082c4bfb20\n",
      "5ecf835ffcdb31f371e7f446\n",
      "5ecf8360ede17844d9d473a1\n",
      "5ecf8550a9859379d47e5a35\n",
      "5ecf8552f3e3047a470040ac\n",
      "5ecf87f63121c0b17fc1cacd\n",
      "5ecf8803e3aa1255424173a5\n",
      "5ecf8af25f4afcd7e0f8b6ae\n"
     ]
    },
    {
     "name": "stderr",
     "output_type": "stream",
     "text": [
      " 62%|██████▏   | 1925/3101 [00:57<00:33, 34.96it/s]"
     ]
    },
    {
     "name": "stdout",
     "output_type": "stream",
     "text": [
      "5ecf8d614b10365c8882c9d3\n",
      "5ecf8e4805ff6b0ea5e9fe37\n",
      "5ecf8e4d500988b1c3a3ec62\n",
      "5ecf8e5125bad4af7a5dee16\n",
      "5ecf8e52def9d67d3a6246fd\n",
      "5ecf9102a3ad1dc44e2786f3\n",
      "5ecf9195a9859379d47e5a37\n",
      "5ecf924b52e9d696421a3960\n"
     ]
    },
    {
     "name": "stderr",
     "output_type": "stream",
     "text": [
      " 62%|██████▏   | 1933/3101 [00:57<00:33, 34.99it/s]"
     ]
    },
    {
     "name": "stdout",
     "output_type": "stream",
     "text": [
      "5ecf9255d1c1ea96c510b8c1\n",
      "5ecf9790ede17844d9d473ab\n",
      "5ecf98b32378dfd66f3c4ab6\n",
      "5ecf98b4a3ad1dc44e2786f9\n",
      "5ecf98c82384fbd69521f8f3\n",
      "5ecf9bd52384fbd69521f8f4\n",
      "5ecf9cc747d415009ebe4f6a\n",
      "5ecfa26f349f268ad7252d6e\n"
     ]
    },
    {
     "name": "stderr",
     "output_type": "stream",
     "text": [
      " 63%|██████▎   | 1941/3101 [00:57<00:33, 34.90it/s]"
     ]
    },
    {
     "name": "stdout",
     "output_type": "stream",
     "text": [
      "5ecfa5d6395f2172e95aa267\n",
      "5ecfa619868f827c4590e825\n",
      "5ecfa62293617ad1872b22b0\n",
      "5ecfa6261c07dd6ca3fa38aa\n",
      "5ecfa6296b56ad004fa5c5f4\n",
      "5ecfa75e05ff6b0ea5e9fe3d\n",
      "5ecfa76693617ad1872b22b1\n"
     ]
    },
    {
     "name": "stderr",
     "output_type": "stream",
     "text": [
      " 63%|██████▎   | 1949/3101 [00:57<00:32, 35.05it/s]"
     ]
    },
    {
     "name": "stdout",
     "output_type": "stream",
     "text": [
      "5ecfa76e7bf8386cd3a59320\n",
      "5ecfa76e6b56ad004fa5c5f5\n",
      "5ecfa80f7af6d2915ad7c77d\n",
      "5ecfa8861ba6647e345fa23b\n",
      "5ecfa88ba3ad1dc44e278700\n",
      "5ecfaa59e8895b32944cba12\n",
      "5ecfaa5fcc180eb73bd4a49a\n",
      "5ecfab4d60699cf4b7982b1e\n"
     ]
    },
    {
     "name": "stderr",
     "output_type": "stream",
     "text": [
      " 63%|██████▎   | 1957/3101 [00:58<00:32, 35.05it/s]"
     ]
    },
    {
     "name": "stdout",
     "output_type": "stream",
     "text": [
      "5ecfab5186961f1336705489\n",
      "5ecfae2d28557e60afa6d3ce\n",
      "5ecfaf5f217431f5f3f9a6d4\n",
      "5ecfb0b1a5de53e72eb85a04\n",
      "5ecfb0b5a61d713a25d4762a\n",
      "5ecfb54386961f133670548c\n",
      "5ecfb6c81c07dd6ca3fa38af\n",
      "5ecfb73f87c44676907cd22b\n"
     ]
    },
    {
     "name": "stderr",
     "output_type": "stream",
     "text": [
      " 63%|██████▎   | 1965/3101 [00:58<00:32, 35.10it/s]"
     ]
    },
    {
     "name": "stdout",
     "output_type": "stream",
     "text": [
      "5ecfb78c6ad5c1579d191f95\n",
      "5ecfb8a74582235f639be7fe\n",
      "5ecfbafa87c44676907cd22e\n",
      "5ecfbb541c07dd6ca3fa38b2\n",
      "5ecfbb5e7bf8386cd3a59327\n",
      "5ecfbd0eb7bcbead3908a19e\n",
      "5ecfbd817656ef78e27561d7\n",
      "5ecfbd98a5de53e72eb85a08\n"
     ]
    },
    {
     "name": "stderr",
     "output_type": "stream",
     "text": [
      " 64%|██████▎   | 1973/3101 [00:58<00:32, 35.11it/s]"
     ]
    },
    {
     "name": "stdout",
     "output_type": "stream",
     "text": [
      "5ecfc30eb8058893ea7337d8\n",
      "5ecfc73fa9859379d47e5a4a\n",
      "5ecfc7eccfe6966d2e56d2e7\n",
      "5ecfc7f6b8058893ea7337dc\n",
      "5ecfcc32e586279a87003de6\n",
      "5ecfcf4b6ad5c1579d191fa4\n",
      "5ecfcf4f6458b4885aa2885e\n",
      "5ecfcf5449260c006eaec0a5\n"
     ]
    },
    {
     "name": "stderr",
     "output_type": "stream",
     "text": [
      " 64%|██████▍   | 1981/3101 [00:58<00:32, 34.99it/s]"
     ]
    },
    {
     "name": "stdout",
     "output_type": "stream",
     "text": [
      "5ecfcf56cc180eb73bd4a4a9\n",
      "5ecfcf567656ef78e27561da\n",
      "5ecfcf57da1c03cfc4371e55\n",
      "5ecfcf57f40f004e0072f62e\n",
      "5ecfcf5e60699cf4b7982b24\n",
      "5ecfcf5f1c07dd6ca3fa38ba\n",
      "5ecfcf6018dac7b9d0fb6007\n"
     ]
    },
    {
     "name": "stderr",
     "output_type": "stream",
     "text": [
      " 64%|██████▍   | 1989/3101 [00:59<00:31, 34.95it/s]"
     ]
    },
    {
     "name": "stdout",
     "output_type": "stream",
     "text": [
      "5ecfcf611ba6647e345fa245\n",
      "5ecfcf61b45451aa7bd0b42e\n",
      "5ecfcf6486961f1336705493\n",
      "5ecfcf70217431f5f3f9a6e3\n",
      "5ecfd06549260c006eaec0a6\n",
      "5ecfd1cde51a9952eea20181\n",
      "5ecfd2406ad5c1579d191fa9\n",
      "5ecfd244d75af8aa3a7bcf1a\n"
     ]
    },
    {
     "name": "stderr",
     "output_type": "stream",
     "text": [
      " 64%|██████▍   | 1997/3101 [00:59<00:31, 34.94it/s]"
     ]
    },
    {
     "name": "stdout",
     "output_type": "stream",
     "text": [
      "5ecfd244f14261082c4bfb38\n",
      "5ecfd247c9028b7c37626f11\n",
      "5ecfd24a1ebd4067a7894e0a\n",
      "5ecfd24b8ac044f49119b562\n",
      "5ecfd24df791a2ce9b259da0\n",
      "5ecfd24fdb8ad633fdafa0cb\n",
      "5ecfd251c367ba3aaf1a419b\n",
      "5ecfd95cdb8ad633fdafa0cd\n"
     ]
    },
    {
     "name": "stderr",
     "output_type": "stream",
     "text": [
      " 65%|██████▍   | 2005/3101 [00:59<00:31, 34.98it/s]"
     ]
    },
    {
     "name": "stdout",
     "output_type": "stream",
     "text": [
      "5ecfd9be6458b4885aa28863\n",
      "5ecfdd2387c44676907cd236\n",
      "5ecfdf68f6b608831cfd2dea\n",
      "5ecfdf69a5de53e72eb85a15\n",
      "5ecfdf6bb8058893ea7337e6\n",
      "5ecfdf718ac044f49119b567\n",
      "5ecfdf72c367ba3aaf1a419f\n",
      "5ecfdf75d3fc18122f5f95e7\n"
     ]
    },
    {
     "name": "stderr",
     "output_type": "stream",
     "text": [
      " 65%|██████▍   | 2013/3101 [00:59<00:31, 35.00it/s]"
     ]
    },
    {
     "name": "stdout",
     "output_type": "stream",
     "text": [
      "5ecfdf7744d2b388e9699550\n",
      "5ecfdf831c07dd6ca3fa38bf\n",
      "5ecfdf847656ef78e27561df\n",
      "5ecfdf87b8058893ea7337e7\n",
      "5ecfdf8aa5de53e72eb85a17\n",
      "5ecfdf8bf791a2ce9b259da7\n",
      "5ecfdf8fdc98a809eaa64bf7\n",
      "5ecfdf90cc180eb73bd4a4b4\n"
     ]
    },
    {
     "name": "stderr",
     "output_type": "stream",
     "text": [
      " 65%|██████▌   | 2021/3101 [00:59<00:30, 34.99it/s]"
     ]
    },
    {
     "name": "stdout",
     "output_type": "stream",
     "text": [
      "5ecfdf938ac044f49119b569\n",
      "5ecfdf9344d2b388e9699551\n",
      "5ecfdf9787c44676907cd239\n",
      "5ecfdf9f7bf8386cd3a59338\n",
      "5ecfdfa2f3e3047a470040c8\n",
      "5ecfdfae7af6d2915ad7c797\n",
      "5ecfe060b3c3fbee07b69226\n"
     ]
    },
    {
     "name": "stderr",
     "output_type": "stream",
     "text": [
      " 65%|██████▌   | 2029/3101 [01:00<00:30, 35.08it/s]"
     ]
    },
    {
     "name": "stdout",
     "output_type": "stream",
     "text": [
      "5ecfe10af40f004e0072f633\n",
      "5ecfe18db63f2cc696c578ef\n",
      "5ecfe18f05408ab6a9726f04\n",
      "5ecfe1da18dac7b9d0fb600b\n",
      "5ecfe1ed8be96a0bdddf41b3\n",
      "5ecfe329a11e2ec72c7cdf84\n",
      "5ecfe332b45451aa7bd0b434\n",
      "5ecfe406d3fc18122f5f95e8\n"
     ]
    },
    {
     "name": "stderr",
     "output_type": "stream",
     "text": [
      " 66%|██████▌   | 2037/3101 [01:00<00:30, 34.90it/s]"
     ]
    },
    {
     "name": "stdout",
     "output_type": "stream",
     "text": [
      "5ecfe4cc18dac7b9d0fb600c\n",
      "5ecfe7c5f40f004e0072f635\n",
      "5ecfef6758ccd446da68c553\n",
      "5ecff43958ccd446da68c554\n",
      "5ecff88ee3aa1255424173d0\n",
      "5ecff920a088a88767e4fcda\n",
      "5ecffb4b8ac044f49119b575\n"
     ]
    },
    {
     "name": "stderr",
     "output_type": "stream",
     "text": [
      "\r",
      " 66%|██████▌   | 2041/3101 [01:00<00:30, 34.88it/s]"
     ]
    },
    {
     "name": "stdout",
     "output_type": "stream",
     "text": [
      "5ecffc97cfe6966d2e56d2fd\n",
      "5ecffefb7bf8386cd3a59347\n",
      "5ed00364868f827c4590e844\n",
      "5ed003731ebd4067a7894e17\n",
      "5ed0039b05408ab6a9726f0f\n",
      "5ed0039db7bcbead3908a1b3\n",
      "5ed0074bd3fc18122f5f95f6\n",
      "5ed0125f4c31ecef2a48fef6\n"
     ]
    },
    {
     "name": "stderr",
     "output_type": "stream",
     "text": [
      " 66%|██████▌   | 2049/3101 [01:00<00:30, 34.96it/s]"
     ]
    },
    {
     "name": "stdout",
     "output_type": "stream",
     "text": [
      "5ed01261868f827c4590e84c\n",
      "5ed01262395f2172e95aa290\n",
      "5ed01266543acfc6d09eaebe\n",
      "5ed0126e28557e60afa6d3ee\n",
      "5ed012704582235f639be825\n",
      "5ed01270f791a2ce9b259dbc\n",
      "5ed01271b7bcbead3908a1bb\n",
      "5ed0127105408ab6a9726f1a\n"
     ]
    },
    {
     "name": "stderr",
     "output_type": "stream",
     "text": [
      " 66%|██████▋   | 2057/3101 [01:01<00:29, 34.93it/s]"
     ]
    },
    {
     "name": "stdout",
     "output_type": "stream",
     "text": [
      "5ed0127244d2b388e9699568\n",
      "5ed0127318dac7b9d0fb6020\n",
      "5ed01274b4ab42d9d15ff7f6\n",
      "5ed012767656ef78e27561ee\n",
      "5ed012886b56ad004fa5c617\n",
      "5ed0149da61d713a25d4764d\n",
      "5ed01a6adb8ad633fdafa0ea\n",
      "5ed01a6db63f2cc696c57905\n"
     ]
    },
    {
     "name": "stderr",
     "output_type": "stream",
     "text": [
      " 67%|██████▋   | 2065/3101 [01:01<00:29, 34.96it/s]"
     ]
    },
    {
     "name": "stdout",
     "output_type": "stream",
     "text": [
      "5ed01b65217431f5f3f9a6fb\n",
      "5ed01ff71c07dd6ca3fa38d8\n",
      "5ed01fff8e2483f30964289c\n",
      "5ed01fff952570f82e93bd6c\n",
      "5ed02000a61d713a25d4764e\n",
      "5ed020094582235f639be827\n",
      "5ed0200a7d6edac62459943e\n",
      "5ed0200bf7290c110a2f7b89\n"
     ]
    },
    {
     "name": "stderr",
     "output_type": "stream",
     "text": [
      " 67%|██████▋   | 2073/3101 [01:01<00:29, 34.96it/s]"
     ]
    },
    {
     "name": "stdout",
     "output_type": "stream",
     "text": [
      "5ed02011f6b608831cfd2e02\n",
      "5ed0201325b756178fed1003\n",
      "5ed02018b63f2cc696c57908\n",
      "5ed0201818dac7b9d0fb6023\n",
      "5ed02019f3e3047a470040dd\n",
      "5ed020f28be96a0bdddf41cf\n",
      "5ed020f31c07dd6ca3fa38da\n",
      "5ed024b6aca66ed98a4432a0\n"
     ]
    },
    {
     "name": "stderr",
     "output_type": "stream",
     "text": [
      " 67%|██████▋   | 2081/3101 [01:01<00:29, 34.89it/s]"
     ]
    },
    {
     "name": "stdout",
     "output_type": "stream",
     "text": [
      "5ed027dbf3e3047a470040e3\n",
      "5ed027dd6c55e531a55d1c10\n",
      "5ed027def6b608831cfd2e06\n",
      "5ed027e5f791a2ce9b259dc4\n",
      "5ed02adc28557e60afa6d3f6\n",
      "5ed02b407bf8386cd3a5935c\n",
      "5ed02ddc4c31ecef2a48ff03\n"
     ]
    },
    {
     "name": "stderr",
     "output_type": "stream",
     "text": [
      " 67%|██████▋   | 2089/3101 [01:01<00:28, 35.00it/s]"
     ]
    },
    {
     "name": "stdout",
     "output_type": "stream",
     "text": [
      "5ed033631ebd4067a7894e2a\n",
      "5ed03aa27b46966f095d286d\n",
      "5ed03d1edc98a809eaa64c17\n",
      "5ed03d2d18efe9a8d119012a\n",
      "5ed03d4349e7b30f8250b875\n",
      "5ed03d8987c44676907cd25c\n",
      "5ed03ece4c31ecef2a48ff09\n",
      "5ed03ece5ba5c8adc4f59c8d\n"
     ]
    },
    {
     "name": "stderr",
     "output_type": "stream",
     "text": [
      " 68%|██████▊   | 2097/3101 [01:02<00:28, 35.00it/s]"
     ]
    },
    {
     "name": "stdout",
     "output_type": "stream",
     "text": [
      "5ed03f8d9578b654108e8a1f\n",
      "5ed041488e2483f3096428a9\n",
      "5ed0427edc98a809eaa64c19\n",
      "5ed0459d7d6edac624599445\n",
      "5ed045a859be4f7388948ce2\n",
      "5ed046bb44d2b388e969957d\n",
      "5ed04ab1c9028b7c37626f45\n"
     ]
    },
    {
     "name": "stderr",
     "output_type": "stream",
     "text": [
      " 68%|██████▊   | 2105/3101 [01:02<00:28, 34.94it/s]"
     ]
    },
    {
     "name": "stdout",
     "output_type": "stream",
     "text": [
      "5ed04ab67af6d2915ad7c7bc\n",
      "5ed04ab87656ef78e275620b\n",
      "5ed04aba25b756178fed100e\n",
      "5ed04abeb7bcbead3908a1d5\n",
      "5ed04abed3fc18122f5f9611\n",
      "5ed04ac68ac044f49119b593\n",
      "5ed04b977d6edac62459944c\n",
      "5ed04c13c9028b7c37626f46\n"
     ]
    },
    {
     "name": "stderr",
     "output_type": "stream",
     "text": [
      " 68%|██████▊   | 2113/3101 [01:02<00:28, 34.98it/s]"
     ]
    },
    {
     "name": "stdout",
     "output_type": "stream",
     "text": [
      "5ed04c62395f2172e95aa2ad\n",
      "5ed04fdc8e3d56e22e40e51d\n",
      "5ed050496b56ad004fa5c632\n",
      "5ed051bd543acfc6d09eaed4\n",
      "5ed055b1b1eaaf28424e230e\n",
      "5ed056c1395f2172e95aa2b3\n",
      "5ed056c34c31ecef2a48ff15\n",
      "5ed056c6543acfc6d09eaed9\n"
     ]
    },
    {
     "name": "stderr",
     "output_type": "stream",
     "text": [
      " 68%|██████▊   | 2121/3101 [01:02<00:28, 34.96it/s]"
     ]
    },
    {
     "name": "stdout",
     "output_type": "stream",
     "text": [
      "5ed0572db63f2cc696c5791a\n",
      "5ed057318e3d56e22e40e51e\n",
      "5ed0573818dac7b9d0fb603d\n",
      "5ed05738c9028b7c37626f49\n",
      "5ed059c4952570f82e93bd7c\n",
      "5ed05c43543acfc6d09eaede\n",
      "5ed05d4e05408ab6a9726f33\n",
      "5ed05e8359be4f7388948ce8\n"
     ]
    },
    {
     "name": "stderr",
     "output_type": "stream",
     "text": [
      " 69%|██████▊   | 2129/3101 [01:03<00:27, 35.00it/s]"
     ]
    },
    {
     "name": "stdout",
     "output_type": "stream",
     "text": [
      "5ed05f494ab3356a53d2bfa0\n",
      "5ed06015db8ad633fdafa0fe\n",
      "5ed0607e9150d044a974ee9c\n",
      "5ed0621c7d6edac624599459\n",
      "5ed062481ba6647e345fa27b\n",
      "5ed062c728557e60afa6d40c\n",
      "5ed062ca9150d044a974ee9d\n",
      "5ed062cadc98a809eaa64c2b\n"
     ]
    },
    {
     "name": "stderr",
     "output_type": "stream",
     "text": [
      " 69%|██████▉   | 2137/3101 [01:03<00:27, 35.02it/s]"
     ]
    },
    {
     "name": "stdout",
     "output_type": "stream",
     "text": [
      "5ed062d14c31ecef2a48ff1c\n",
      "5ed062d56c55e531a55d1c28\n",
      "5ed062d68be96a0bdddf41e4\n",
      "5ed062d887c44676907cd26f\n",
      "5ed062e2a11e2ec72c7cdfb4\n",
      "5ed062e48e3d56e22e40e524\n",
      "5ed062e7dc98a809eaa64c2c\n",
      "5ed062ea217431f5f3f9a71c\n"
     ]
    },
    {
     "name": "stderr",
     "output_type": "stream",
     "text": [
      " 69%|██████▉   | 2145/3101 [01:03<00:27, 35.06it/s]"
     ]
    },
    {
     "name": "stdout",
     "output_type": "stream",
     "text": [
      "5ed062f57656ef78e2756217\n",
      "5ed06420a61d713a25d4766f\n",
      "5ed064274ab3356a53d2bfa5\n",
      "5ed0683c8ac044f49119b5a3\n",
      "5ed0693128557e60afa6d410\n",
      "5ed06f48b4ab42d9d15ff813\n",
      "5ed073cdb8058893ea73382a\n",
      "5ed077bfb4ab42d9d15ff816\n"
     ]
    },
    {
     "name": "stderr",
     "output_type": "stream",
     "text": [
      " 69%|██████▉   | 2153/3101 [01:03<00:27, 35.02it/s]"
     ]
    },
    {
     "name": "stdout",
     "output_type": "stream",
     "text": [
      "5ed077cc7656ef78e2756220\n",
      "5ed0780e58ccd446da68c58e\n",
      "5ed07a7328557e60afa6d419\n",
      "5ed07a8ab7bcbead3908a1e6\n",
      "5ed07bae868f827c4590e876\n",
      "5ed07de5c9028b7c37626f58\n",
      "5ed07e3987c44676907cd27c\n"
     ]
    },
    {
     "name": "stderr",
     "output_type": "stream",
     "text": [
      " 70%|██████▉   | 2161/3101 [01:04<00:26, 34.93it/s]"
     ]
    },
    {
     "name": "stdout",
     "output_type": "stream",
     "text": [
      "5ed07fed4ab3356a53d2bfb1\n",
      "5ed0807f952570f82e93bd8c\n",
      "5ed0810926ecdffc316cfd92\n",
      "5ed08637217431f5f3f9a72c\n",
      "5ed08ad08e3d56e22e40e531\n",
      "5ed08d0caca66ed98a4432c7\n",
      "5ed08d9e543acfc6d09eaef2\n"
     ]
    },
    {
     "name": "stderr",
     "output_type": "stream",
     "text": [
      "\r",
      " 70%|██████▉   | 2165/3101 [01:04<00:26, 34.86it/s]"
     ]
    },
    {
     "name": "stdout",
     "output_type": "stream",
     "text": [
      "5ed091ad9578b654108e8a3f\n",
      "5ed09286c9028b7c37626f5d\n",
      "5ed09287b8058893ea733835\n",
      "5ed0931e18dac7b9d0fb6052\n",
      "5ed09595d3fc18122f5f962d\n",
      "5ed0979b7d6edac624599474\n",
      "5ed098df7b46966f095d2899\n",
      "5ed0996a58ccd446da68c59a\n"
     ]
    },
    {
     "name": "stderr",
     "output_type": "stream",
     "text": [
      " 70%|███████   | 2173/3101 [01:04<00:26, 34.93it/s]"
     ]
    },
    {
     "name": "stdout",
     "output_type": "stream",
     "text": [
      "5ed0996d7b46966f095d289a\n",
      "5ed09970f791a2ce9b259de8\n",
      "5ed099737656ef78e2756226\n",
      "5ed0997400ff3a9c2c9ea843\n",
      "5ed0997793617ad1872b230d\n",
      "5ed0997a6b56ad004fa5c65c\n",
      "5ed0997b8e2483f3096428cc\n",
      "5ed0997ef70c86b44e006d75\n"
     ]
    },
    {
     "name": "stderr",
     "output_type": "stream",
     "text": [
      " 70%|███████   | 2181/3101 [01:04<00:26, 34.97it/s]"
     ]
    },
    {
     "name": "stdout",
     "output_type": "stream",
     "text": [
      "5ed09a2859be4f7388948cfe\n",
      "5ed09a2e18b726e429517f93\n",
      "5ed09c6ef40f004e0072f67c\n",
      "5ed09fb26b56ad004fa5c65f\n",
      "5ed0a0a09150d044a974eeb8\n",
      "5ed0a74b58ccd446da68c59f\n",
      "5ed0a753f70c86b44e006d7e\n",
      "5ed0a9a67d6edac624599481\n"
     ]
    },
    {
     "name": "stderr",
     "output_type": "stream",
     "text": [
      " 71%|███████   | 2189/3101 [01:04<00:26, 35.03it/s]"
     ]
    },
    {
     "name": "stdout",
     "output_type": "stream",
     "text": [
      "5ed0aa22f6b608831cfd2e32\n",
      "5ed0ac7158ccd446da68c5a0\n",
      "5ed0ae62f791a2ce9b259dee\n",
      "5ed0b20158ccd446da68c5a1\n",
      "5ed0b3a7f7290c110a2f7bbe\n",
      "5ed0b487f40f004e0072f688\n",
      "5ed0b730aca66ed98a4432d9\n",
      "5ed0b74df791a2ce9b259df2\n"
     ]
    },
    {
     "name": "stderr",
     "output_type": "stream",
     "text": [
      " 71%|███████   | 2197/3101 [01:05<00:25, 35.05it/s]"
     ]
    },
    {
     "name": "stdout",
     "output_type": "stream",
     "text": [
      "5ed0b80518b726e429517f9e\n",
      "5ed0b8067d6edac624599485\n",
      "5ed0b8108e2483f3096428d7\n",
      "5ed0b817952570f82e93bdab\n",
      "5ed0b8962ca39e9268e168ee\n",
      "5ed0b8c3b4ab42d9d15ff82b\n",
      "5ed0bb2b7af6d2915ad7c7e4\n",
      "5ed0bbc418efe9a8d1190165\n"
     ]
    },
    {
     "name": "stderr",
     "output_type": "stream",
     "text": [
      " 71%|███████   | 2205/3101 [01:05<00:25, 35.02it/s]"
     ]
    },
    {
     "name": "stdout",
     "output_type": "stream",
     "text": [
      "5ed0bcd205408ab6a9726f52\n",
      "5ed0bcea1c07dd6ca3fa3917\n",
      "5ed0bd7cc9028b7c37626f69\n",
      "5ed0bfc912266edaf925e267\n",
      "5ed0c254a61d713a25d4769c\n",
      "5ed0c269ef42a8e0f6aebb94\n",
      "5ed0c5439150d044a974eec4\n",
      "5ed0c59487c44676907cd296\n"
     ]
    },
    {
     "name": "stderr",
     "output_type": "stream",
     "text": [
      " 71%|███████▏  | 2213/3101 [01:05<00:25, 34.95it/s]"
     ]
    },
    {
     "name": "stdout",
     "output_type": "stream",
     "text": [
      "5ed0c7b3b3c3fbee07b6927b\n",
      "5ed0c7beb8058893ea733842\n",
      "5ed0cda64c31ecef2a48ff46\n",
      "5ed0cdacb8058893ea733846\n",
      "5ed0cdb2aca66ed98a4432e3\n",
      "5ed0d1512ca39e9268e168f6\n",
      "5ed0d154b7bcbead3908a204\n",
      "5ed0d569f40f004e0072f693\n"
     ]
    },
    {
     "name": "stderr",
     "output_type": "stream",
     "text": [
      " 72%|███████▏  | 2221/3101 [01:05<00:25, 34.97it/s]"
     ]
    },
    {
     "name": "stdout",
     "output_type": "stream",
     "text": [
      "5ed0da66868f827c4590e89a\n",
      "5ed0dcc71ba6647e345fa2b0\n",
      "5ed0dcd56c55e531a55d1c60\n",
      "5ed0ddd3f40f004e0072f696\n",
      "5ed0dfb944d2b388e96995c2\n",
      "5ed0dfe6217431f5f3f9a74d\n",
      "5ed0dfeef40f004e0072f697\n",
      "5ed0e000f7290c110a2f7bd1\n"
     ]
    },
    {
     "name": "stderr",
     "output_type": "stream",
     "text": [
      " 72%|███████▏  | 2229/3101 [01:05<00:24, 34.94it/s]"
     ]
    },
    {
     "name": "stdout",
     "output_type": "stream",
     "text": [
      "5ed0e01905408ab6a9726f5e\n",
      "5ed0e0564ab3356a53d2bfd1\n",
      "5ed0e0f6b4ab42d9d15ff836\n",
      "5ed0e2dfa088a88767e4fd31\n",
      "5ed0e2e08e3d56e22e40e54a\n",
      "5ed0e2e9db8ad633fdafa131\n",
      "5ed0e5e505408ab6a9726f60\n",
      "5ed0e8a37bf8386cd3a593b3\n"
     ]
    },
    {
     "name": "stderr",
     "output_type": "stream",
     "text": [
      " 72%|███████▏  | 2237/3101 [01:06<00:24, 34.97it/s]"
     ]
    },
    {
     "name": "stdout",
     "output_type": "stream",
     "text": [
      "5ed0ea1659be4f7388948d20\n",
      "5ed0ea1d1ba6647e345fa2b5\n",
      "5ed0f033c9028b7c37626f7d\n",
      "5ed0f0b6b4ab42d9d15ff839\n",
      "5ed0f0c4aca66ed98a4432ed\n",
      "5ed0f1568e2483f3096428eb\n",
      "5ed0f28518dac7b9d0fb6072\n",
      "5ed0f289b8058893ea733852\n"
     ]
    },
    {
     "name": "stderr",
     "output_type": "stream",
     "text": [
      " 72%|███████▏  | 2245/3101 [01:06<00:24, 34.98it/s]"
     ]
    },
    {
     "name": "stdout",
     "output_type": "stream",
     "text": [
      "5ed0f297f70c86b44e006d9e\n",
      "5ed0f9ae18efe9a8d119017a\n",
      "5ed0fc51876d30d6cb0ef9c2\n",
      "5ed1033e44d2b388e96995cb\n",
      "5ed1050084351bc0048edf86\n",
      "5ed10651269c5e4847164d5e\n",
      "5ed106fc5246f5dcad715e68\n",
      "5ed1074b2ca39e9268e1690d\n"
     ]
    },
    {
     "name": "stderr",
     "output_type": "stream",
     "text": [
      " 73%|███████▎  | 2253/3101 [01:06<00:24, 35.03it/s]"
     ]
    },
    {
     "name": "stdout",
     "output_type": "stream",
     "text": [
      "5ed10cd844d2b388e96995cc\n",
      "5ed10cda58ccd446da68c5c5\n",
      "5ed10cdd84351bc0048edf8a\n",
      "5ed10d6f37a5b77742dd94fc\n",
      "5ed10d7ab1eaaf28424e2355\n",
      "5ed10d7c84351bc0048edf8b\n",
      "5ed10d7e0020308e8660834e\n",
      "5ed10d7e8e3d56e22e40e55b\n"
     ]
    },
    {
     "name": "stderr",
     "output_type": "stream",
     "text": [
      " 73%|███████▎  | 2261/3101 [01:06<00:24, 34.93it/s]"
     ]
    },
    {
     "name": "stdout",
     "output_type": "stream",
     "text": [
      "5ed10d8058ccd446da68c5c7\n",
      "5ed10d823d5a9b1d397babc5\n",
      "5ed10d8b876d30d6cb0ef9c6\n",
      "5ed10d8d3921ebc8b2cea143\n",
      "5ed10de4876d30d6cb0ef9c8\n",
      "5ed1114b6c55e531a55d1c70\n",
      "5ed118865246f5dcad715e72\n",
      "5ed1189c2ca39e9268e16916\n"
     ]
    },
    {
     "name": "stderr",
     "output_type": "stream",
     "text": [
      " 73%|███████▎  | 2269/3101 [01:07<00:23, 35.08it/s]"
     ]
    },
    {
     "name": "stdout",
     "output_type": "stream",
     "text": [
      "5ed11ac4ef42a8e0f6aebbb9\n",
      "5ed11cca18efe9a8d119018f\n",
      "5ed11d7bd795d25dc9298ec1\n",
      "5ed11d957a7237de415f6c3a\n",
      "5ed11f1325b756178fed1057\n",
      "5ed122970020308e86608358\n",
      "5ed1254f3921ebc8b2cea14b\n",
      "5ed125553d5a9b1d397babd4\n"
     ]
    },
    {
     "name": "stderr",
     "output_type": "stream",
     "text": [
      " 73%|███████▎  | 2277/3101 [01:07<00:23, 35.12it/s]"
     ]
    },
    {
     "name": "stdout",
     "output_type": "stream",
     "text": [
      "5ed1255d7a7237de415f6c3d\n",
      "5ed1257bb4ab42d9d15ff84c\n",
      "5ed12764952570f82e93bddb\n",
      "5ed1277a5246f5dcad715e73\n",
      "5ed1277e4c31ecef2a48ff66\n",
      "5ed12857020159e122edfc01\n",
      "5ed1299e3d5a9b1d397babd9\n",
      "5ed129c9f70c86b44e006dbb\n"
     ]
    },
    {
     "name": "stderr",
     "output_type": "stream",
     "text": [
      " 74%|███████▎  | 2285/3101 [01:07<00:23, 35.13it/s]"
     ]
    },
    {
     "name": "stdout",
     "output_type": "stream",
     "text": [
      "5ed129cbad7cf743f687150b\n",
      "5ed129f8edbe7a9df8a94f5d\n",
      "5ed12a01345544c2f1d695f7\n",
      "5ed13109d245b650ac47a5ed\n",
      "5ed138f4bbc21b09c8ff7d24\n",
      "5ed138f642ff7b963c9dc64f\n",
      "5ed139027b46966f095d28d6\n",
      "5ed13a04edbe7a9df8a94f61\n"
     ]
    },
    {
     "name": "stderr",
     "output_type": "stream",
     "text": [
      " 74%|███████▍  | 2293/3101 [01:07<00:23, 34.99it/s]"
     ]
    },
    {
     "name": "stdout",
     "output_type": "stream",
     "text": [
      "5ed13c1a8d8a4594f7f33158\n",
      "5ed13d1f859f314e4a8b318a\n",
      "5ed13e4e84351bc0048edf9a\n",
      "5ed13e5c5d99899ff24b3953\n",
      "5ed14071850b2f5820d3c67c\n",
      "5ed14079782f6ae0a4ea55e1\n",
      "5ed140828d8a4594f7f33159\n"
     ]
    },
    {
     "name": "stderr",
     "output_type": "stream",
     "text": [
      " 74%|███████▍  | 2301/3101 [01:08<00:22, 34.95it/s]"
     ]
    },
    {
     "name": "stdout",
     "output_type": "stream",
     "text": [
      "5ed146723c11b9067b51076c\n",
      "5ed14679782f6ae0a4ea55e5\n",
      "5ed1467a37a5b77742dd9514\n",
      "5ed14687edbe7a9df8a94f65\n",
      "5ed14a96fe62c8d38f32cfc2\n",
      "5ed14bb7d0a082e76243eef8\n",
      "5ed14e09345544c2f1d69602\n",
      "5ed15030b73fbaa376744fe8\n"
     ]
    },
    {
     "name": "stderr",
     "output_type": "stream",
     "text": [
      " 74%|███████▍  | 2309/3101 [01:08<00:22, 35.00it/s]"
     ]
    },
    {
     "name": "stdout",
     "output_type": "stream",
     "text": [
      "5ed153897a5407aac3a757e5\n",
      "5ed1553728368a559f1dccf7\n",
      "5ed155f25a7a8f89f12d6e11\n",
      "5ed156293463591df8c3c61b\n",
      "5ed1564f3921ebc8b2cea15c\n",
      "5ed1566dedcf8c29820f2742\n",
      "5ed1580e7a7237de415f6c4e\n",
      "5ed15af3b127c5d791d40d35\n"
     ]
    },
    {
     "name": "stderr",
     "output_type": "stream",
     "text": [
      " 75%|███████▍  | 2317/3101 [01:08<00:22, 34.96it/s]"
     ]
    },
    {
     "name": "stdout",
     "output_type": "stream",
     "text": [
      "5ed15e0f41905dc9556ab068\n",
      "5ed15fbc42ff7b963c9dc65a\n",
      "5ed160118e3d56e22e40e57c\n",
      "5ed160177a5407aac3a757eb\n",
      "5ed16017921a3da9e7f18c9b\n",
      "5ed162cf8e3d56e22e40e57d\n",
      "5ed1650cf7290c110a2f7c08\n",
      "5ed16ad9f20ab6a8c3417b48\n"
     ]
    },
    {
     "name": "stderr",
     "output_type": "stream",
     "text": [
      " 75%|███████▍  | 2325/3101 [01:08<00:22, 35.04it/s]"
     ]
    },
    {
     "name": "stdout",
     "output_type": "stream",
     "text": [
      "5ed16c06fe62c8d38f32cfd7\n",
      "5ed16f777a5407aac3a757ef\n",
      "5ed170c55246f5dcad715e90\n",
      "5ed171ca0020308e86608377\n",
      "5ed171cbb420f41b50820c30\n",
      "5ed171cc8e8e4fe2aa287023\n",
      "5ed171ce782f6ae0a4ea55f4\n",
      "5ed171d0e03760f7ab9d7b13\n"
     ]
    },
    {
     "name": "stderr",
     "output_type": "stream",
     "text": [
      " 75%|███████▌  | 2333/3101 [01:08<00:21, 35.11it/s]"
     ]
    },
    {
     "name": "stdout",
     "output_type": "stream",
     "text": [
      "5ed172ec3463591df8c3c62c\n",
      "5ed172f090b3f589904e7950\n",
      "5ed174b23921ebc8b2cea169\n",
      "5ed178959150d044a974ef11\n",
      "5ed1789d2ca39e9268e16931\n",
      "5ed17ab2d795d25dc9298edf\n",
      "5ed17ab6e03760f7ab9d7b18\n",
      "5ed17c4c37a5b77742dd9527\n"
     ]
    },
    {
     "name": "stderr",
     "output_type": "stream",
     "text": [
      " 75%|███████▌  | 2341/3101 [01:09<00:21, 35.13it/s]"
     ]
    },
    {
     "name": "stdout",
     "output_type": "stream",
     "text": [
      "5ed17c4eac9153abcc4f4b08\n",
      "5ed17c59b420f41b50820c39\n",
      "5ed17c5c9150d044a974ef12\n",
      "5ed17c603d5a9b1d397babf2\n",
      "5ed17c630020308e8660837e\n",
      "5ed17c74506cc69133e889d3\n",
      "5ed17e3bd245b650ac47a612\n",
      "5ed18382427d9d6bab2e22bd\n"
     ]
    },
    {
     "name": "stderr",
     "output_type": "stream",
     "text": [
      " 76%|███████▌  | 2349/3101 [01:09<00:21, 35.13it/s]"
     ]
    },
    {
     "name": "stdout",
     "output_type": "stream",
     "text": [
      "5ed183e090b3f589904e7958\n",
      "5ed187a646c38d76d360c885\n",
      "5ed18dc3ac9153abcc4f4b0d\n",
      "5ed18dc3020159e122edfc2a\n",
      "5ed18fe8cd252395c36002d5\n",
      "5ed18fe83c11b9067b510784\n",
      "5ed1927b5246f5dcad715e9c\n",
      "5ed19285ac9153abcc4f4b10\n"
     ]
    },
    {
     "name": "stderr",
     "output_type": "stream",
     "text": [
      " 76%|███████▌  | 2357/3101 [01:09<00:21, 35.09it/s]"
     ]
    },
    {
     "name": "stdout",
     "output_type": "stream",
     "text": [
      "5ed1928bef09b6d4a695c7c5\n",
      "5ed19292859f314e4a8b31aa\n",
      "5ed19292bbc21b09c8ff7d46\n",
      "5ed19293f02de5d760da87df\n",
      "5ed1929a44bc42fb421f899b\n",
      "5ed19594d795d25dc9298eeb\n",
      "5ed19649e0d8075d37a0b586\n",
      "5ed19a173c11b9067b510789\n"
     ]
    },
    {
     "name": "stderr",
     "output_type": "stream",
     "text": [
      " 76%|███████▋  | 2365/3101 [01:09<00:21, 35.04it/s]"
     ]
    },
    {
     "name": "stdout",
     "output_type": "stream",
     "text": [
      "5ed19c838e8e4fe2aa287036\n",
      "5ed19e93b73fbaa376745011\n",
      "5ed1a09db73fbaa376745014\n",
      "5ed1a0abec1e55a3a08a86b6\n",
      "5ed1a56f59f18ada68fd9761\n",
      "5ed1a58e427d9d6bab2e22c3\n",
      "5ed1a58eb73fbaa376745016\n",
      "5ed1a70b5a72bf97dcef1592\n"
     ]
    },
    {
     "name": "stderr",
     "output_type": "stream",
     "text": [
      " 77%|███████▋  | 2373/3101 [01:10<00:20, 35.01it/s]"
     ]
    },
    {
     "name": "stdout",
     "output_type": "stream",
     "text": [
      "5ed1a872edbe7a9df8a94f8e\n",
      "5ed1a97a7a5407aac3a7580a\n",
      "5ed1aa690020308e8660838b\n",
      "5ed1aae17a5407aac3a7580c\n",
      "5ed1b8ab5246f5dcad715ea9\n",
      "5ed1b90e44bc42fb421f89ae\n",
      "5ed1bd695d99899ff24b398a\n",
      "5ed1bd7161f67d01a75e6b12\n"
     ]
    },
    {
     "name": "stderr",
     "output_type": "stream",
     "text": [
      " 77%|███████▋  | 2381/3101 [01:10<00:21, 33.75it/s]"
     ]
    },
    {
     "name": "stdout",
     "output_type": "stream",
     "text": [
      "5ed1bd7418b726e429518000\n",
      "5ed1bd7b506cc69133e889e7\n",
      "5ed1bd84f02de5d760da87f0\n",
      "5ed1bd8ad2c3eec8713ab2fd\n",
      "5ed1be64d0a082e76243ef23\n",
      "5ed1c1fb90b3f589904e7975\n",
      "5ed1c70d2e8ef4c6fc485961\n"
     ]
    },
    {
     "name": "stderr",
     "output_type": "stream",
     "text": [
      " 77%|███████▋  | 2389/3101 [01:10<00:20, 34.31it/s]"
     ]
    },
    {
     "name": "stdout",
     "output_type": "stream",
     "text": [
      "5ed1c7cff20ab6a8c3417b6c\n",
      "5ed1ca84427d9d6bab2e22d0\n",
      "5ed1cc5d3d5a9b1d397bac13\n",
      "5ed1cc5dbbc21b09c8ff7d5f\n",
      "5ed1cca327cf08b4e586f471\n",
      "5ed1ccf58e8e4fe2aa287048\n",
      "5ed1cd2a59f18ada68fd9771\n"
     ]
    },
    {
     "name": "stderr",
     "output_type": "stream",
     "text": [
      " 77%|███████▋  | 2397/3101 [01:10<00:20, 34.63it/s]"
     ]
    },
    {
     "name": "stdout",
     "output_type": "stream",
     "text": [
      "5ed1cd6827cf08b4e586f473\n",
      "5ed1cd6f3d5a9b1d397bac14\n",
      "5ed1ce7b37a5b77742dd9544\n",
      "5ed1cec061f67d01a75e6b1f\n",
      "5ed1ceccedcf8c29820f277b\n",
      "5ed1cece3d5a9b1d397bac16\n",
      "5ed1ced72d943591ec906cf5\n",
      "5ed1d0f77a5407aac3a7581f\n"
     ]
    },
    {
     "name": "stderr",
     "output_type": "stream",
     "text": [
      " 78%|███████▊  | 2405/3101 [01:10<00:19, 34.94it/s]"
     ]
    },
    {
     "name": "stdout",
     "output_type": "stream",
     "text": [
      "5ed1d0fdd245b650ac47a633\n",
      "5ed1d28b140f6edcfae19fae\n",
      "5ed1d2964da0c1c580b4a1fc\n",
      "5ed1d31f5dacc18b870b9dff\n",
      "5ed1d9e390b3f589904e797e\n",
      "5ed1db793c11b9067b5107a6\n",
      "5ed1db7a84351bc0048edfd3\n",
      "5ed1db8b0020308e8660839a\n"
     ]
    },
    {
     "name": "stderr",
     "output_type": "stream",
     "text": [
      " 78%|███████▊  | 2413/3101 [01:11<00:19, 35.06it/s]"
     ]
    },
    {
     "name": "stdout",
     "output_type": "stream",
     "text": [
      "5ed1dc20140f6edcfae19fb1\n",
      "5ed1dcf2d2c3eec8713ab309\n",
      "5ed1dcf4bbc21b09c8ff7d65\n",
      "5ed1de3059f18ada68fd9779\n",
      "5ed1de3244bc42fb421f89c2\n",
      "5ed1de3f2d943591ec906cfa\n",
      "5ed1de44ef09b6d4a695c7e1\n",
      "5ed1dee1fe62c8d38f32d012\n"
     ]
    },
    {
     "name": "stderr",
     "output_type": "stream",
     "text": [
      " 78%|███████▊  | 2421/3101 [01:11<00:19, 35.07it/s]"
     ]
    },
    {
     "name": "stdout",
     "output_type": "stream",
     "text": [
      "5ed1dee5d245b650ac47a639\n",
      "5ed1deeb8e8e4fe2aa287053\n",
      "5ed1deeed795d25dc9298f05\n",
      "5ed1def4345544c2f1d69638\n",
      "5ed1def83c11b9067b5107a8\n",
      "5ed1defefe62c8d38f32d013\n",
      "5ed1df19f20ab6a8c3417b77\n",
      "5ed1df8eb73fbaa376745037\n"
     ]
    },
    {
     "name": "stderr",
     "output_type": "stream",
     "text": [
      " 78%|███████▊  | 2429/3101 [01:11<00:19, 35.06it/s]"
     ]
    },
    {
     "name": "stdout",
     "output_type": "stream",
     "text": [
      "5ed1df8ee0d8075d37a0b5a8\n",
      "5ed1df9437a5b77742dd954b\n",
      "5ed1e07fd2c3eec8713ab30e\n",
      "5ed1e15846c38d76d360c8b0\n",
      "5ed1e1da44bc42fb421f89c5\n",
      "5ed1e1e3e03760f7ab9d7b48\n",
      "5ed1e1f6d934364e33daf989\n",
      "5ed1e3495a72bf97dcef15aa\n"
     ]
    },
    {
     "name": "stderr",
     "output_type": "stream",
     "text": [
      " 79%|███████▊  | 2437/3101 [01:11<00:18, 35.14it/s]"
     ]
    },
    {
     "name": "stdout",
     "output_type": "stream",
     "text": [
      "5ed1e738127f82fa3af17e4e\n",
      "5ed1e911d245b650ac47a63f\n",
      "5ed1e91b427d9d6bab2e22df\n",
      "5ed1eace84351bc0048edfda\n",
      "5ed1ead2d0a082e76243ef32\n",
      "5ed1ead7e0d8075d37a0b5ae\n",
      "5ed1ead9ef09b6d4a695c7e7\n",
      "5ed1ead961f67d01a75e6b2f\n"
     ]
    },
    {
     "name": "stderr",
     "output_type": "stream",
     "text": [
      " 79%|███████▉  | 2445/3101 [01:12<00:18, 35.19it/s]"
     ]
    },
    {
     "name": "stdout",
     "output_type": "stream",
     "text": [
      "5ed1eadb4f1921b33d3f55b8\n",
      "5ed1eadbfe62c8d38f32d01b\n",
      "5ed1eadcd245b650ac47a642\n",
      "5ed1ee5dedcf8c29820f278d\n",
      "5ed1ef1c859f314e4a8b31c8\n",
      "5ed1f16f5a72bf97dcef15ad\n",
      "5ed1f32b140f6edcfae19fbe\n",
      "5ed1f32d5dacc18b870b9e0a\n"
     ]
    },
    {
     "name": "stderr",
     "output_type": "stream",
     "text": [
      " 79%|███████▉  | 2453/3101 [01:12<00:18, 35.16it/s]"
     ]
    },
    {
     "name": "stdout",
     "output_type": "stream",
     "text": [
      "5ed1f380d45f3c70bdd70ecb\n",
      "5ed1faa3d0a082e76243ef3a\n",
      "5ed1fc6544bc42fb421f89ce\n",
      "5ed1fd60d934364e33daf993\n",
      "5ed1ff1c5d99899ff24b39a3\n",
      "5ed201829ecf227bd0c5df0b\n",
      "5ed202d737a5b77742dd955e\n",
      "5ed2062490b3f589904e7988\n"
     ]
    },
    {
     "name": "stderr",
     "output_type": "stream",
     "text": [
      " 79%|███████▉  | 2461/3101 [01:12<00:18, 35.16it/s]"
     ]
    },
    {
     "name": "stdout",
     "output_type": "stream",
     "text": [
      "5ed20637c4e88c42d953b7ff\n",
      "5ed206bb46c38d76d360c8c0\n",
      "5ed206bcd245b650ac47a64e\n",
      "5ed206cb345544c2f1d69645\n",
      "5ed206d4506cc69133e88a09\n",
      "5ed206d627cf08b4e586f48c\n",
      "5ed2072b127f82fa3af17e5a\n",
      "5ed208e2438c6ddc3a8b449e\n"
     ]
    },
    {
     "name": "stderr",
     "output_type": "stream",
     "text": [
      " 80%|███████▉  | 2469/3101 [01:12<00:17, 35.13it/s]"
     ]
    },
    {
     "name": "stdout",
     "output_type": "stream",
     "text": [
      "5ed208f5b420f41b50820c72\n",
      "5ed20a01edcf8c29820f279f\n",
      "5ed20b914da0c1c580b4a20d\n",
      "5ed20b93d8f9882174da3392\n",
      "5ed20c73ef09b6d4a695c7fa\n",
      "5ed20c785dacc18b870b9e18\n",
      "5ed20cb9e03760f7ab9d7b52\n",
      "5ed20d27d2c3eec8713ab31b\n"
     ]
    },
    {
     "name": "stderr",
     "output_type": "stream",
     "text": [
      " 80%|███████▉  | 2477/3101 [01:13<00:17, 35.16it/s]"
     ]
    },
    {
     "name": "stdout",
     "output_type": "stream",
     "text": [
      "5ed21157c4e88c42d953b801\n",
      "5ed214e784351bc0048edfee\n",
      "5ed2182a506cc69133e88a14\n",
      "5ed2182c3c11b9067b5107c2\n",
      "5ed2183a4da0c1c580b4a214\n",
      "5ed2187b61f67d01a75e6b48\n",
      "5ed22185b73fbaa37674505a\n",
      "5ed221c42d943591ec906d0d\n"
     ]
    },
    {
     "name": "stderr",
     "output_type": "stream",
     "text": [
      " 80%|████████  | 2485/3101 [01:13<00:17, 35.13it/s]"
     ]
    },
    {
     "name": "stdout",
     "output_type": "stream",
     "text": [
      "5ed22418d245b650ac47a65e\n",
      "5ed224c1269c5e4847164dce\n",
      "5ed224cecd252395c360030b\n",
      "5ed224d3127f82fa3af17e67\n",
      "5ed224d99ecf227bd0c5df1b\n",
      "5ed22596e0d8075d37a0b5cd\n",
      "5ed22b16d795d25dc9298f23\n",
      "5ed22b7790b3f589904e7994\n"
     ]
    },
    {
     "name": "stderr",
     "output_type": "stream",
     "text": [
      " 80%|████████  | 2493/3101 [01:13<00:17, 35.15it/s]"
     ]
    },
    {
     "name": "stdout",
     "output_type": "stream",
     "text": [
      "5ed22e0c27cf08b4e586f49a\n",
      "5ed231178e8e4fe2aa28706d\n",
      "5ed23287140f6edcfae19fd7\n",
      "5ed232915246f5dcad715ee0\n",
      "5ed23433850b2f5820d3c6cc\n",
      "5ed234740020308e866083c2\n",
      "5ed237eab420f41b50820c84\n",
      "5ed2383b7a5407aac3a7584e\n"
     ]
    },
    {
     "name": "stderr",
     "output_type": "stream",
     "text": [
      " 81%|████████  | 2501/3101 [01:13<00:17, 35.14it/s]"
     ]
    },
    {
     "name": "stdout",
     "output_type": "stream",
     "text": [
      "5ed238a8d54b9f46b5bd524c\n",
      "5ed238ad0020308e866083c4\n",
      "5ed238aed8f9882174da33a0\n",
      "5ed238b9859f314e4a8b31e6\n",
      "5ed238c05a72bf97dcef15ca\n",
      "5ed238e1c4e88c42d953b816\n",
      "5ed23d8d859f314e4a8b31e7\n",
      "5ed23d98345544c2f1d69657\n"
     ]
    },
    {
     "name": "stderr",
     "output_type": "stream",
     "text": [
      " 81%|████████  | 2509/3101 [01:13<00:16, 35.13it/s]"
     ]
    },
    {
     "name": "stdout",
     "output_type": "stream",
     "text": [
      "5ed23e518e8e4fe2aa287070\n",
      "5ed23fb6d45f3c70bdd70ee4\n",
      "5ed2438cd0a082e76243ef5b\n",
      "5ed244c0fe62c8d38f32d041\n",
      "5ed249164f1921b33d3f55e3\n",
      "5ed24eaf50627695cd36c83a\n",
      "5ed24f9e43a3334fb686ac51\n",
      "5ed25768ba585a3dcf970c65\n"
     ]
    },
    {
     "name": "stderr",
     "output_type": "stream",
     "text": [
      " 81%|████████  | 2517/3101 [01:14<00:16, 35.13it/s]"
     ]
    },
    {
     "name": "stdout",
     "output_type": "stream",
     "text": [
      "5ed25781f20ab6a8c3417ba4\n",
      "5ed25b487a5407aac3a75860\n",
      "5ed261de7a5407aac3a75862\n",
      "5ed2649c55e09aa3ff7f9193\n",
      "5ed266c5c4e88c42d953b826\n",
      "5ed26713b342e755acb268d9\n",
      "5ed26830964532b67e0776b2\n",
      "5ed2683e140f6edcfae19fe5\n"
     ]
    },
    {
     "name": "stderr",
     "output_type": "stream",
     "text": [
      " 81%|████████▏ | 2525/3101 [01:14<00:16, 35.05it/s]"
     ]
    },
    {
     "name": "stdout",
     "output_type": "stream",
     "text": [
      "5ed2683fd6acc523044b0a5d\n",
      "5ed26c29ad0204b65b4b9ce4\n",
      "5ed26d11b1ef1774fb196fe9\n",
      "5ed26d1661f67d01a75e6b6e\n",
      "5ed26d17875d5e8c4231d5d1\n",
      "5ed26e3d47a5b4ac582e3f37\n",
      "5ed26e952d943591ec906d27\n",
      "5ed26ee447a5b4ac582e3f39\n"
     ]
    },
    {
     "name": "stderr",
     "output_type": "stream",
     "text": [
      " 82%|████████▏ | 2533/3101 [01:14<00:16, 35.08it/s]"
     ]
    },
    {
     "name": "stdout",
     "output_type": "stream",
     "text": [
      "5ed27138ffef1a2aeb6eb8ae\n",
      "5ed2738edc12488afcde2db8\n",
      "5ed2743224141984ed98255c\n",
      "5ed275faef09b6d4a695c81c\n",
      "5ed277525a72bf97dcef15e7\n",
      "5ed279efbe41b64e756010a1\n",
      "5ed27a1eb1ef1774fb196ff2\n",
      "5ed27ab38e8e4fe2aa28708a\n"
     ]
    },
    {
     "name": "stderr",
     "output_type": "stream",
     "text": [
      " 82%|████████▏ | 2541/3101 [01:14<00:15, 35.07it/s]"
     ]
    },
    {
     "name": "stdout",
     "output_type": "stream",
     "text": [
      "5ed27b00d934364e33daf9bd\n",
      "5ed2808c921a3da9e7f18d18\n",
      "5ed2828ce0d8075d37a0b5ee\n",
      "5ed2829aba585a3dcf970c71\n",
      "5ed2829dd45f3c70bdd70efc\n",
      "5ed2829e4da0c1c580b4a23b\n",
      "5ed282a5d54b9f46b5bd525c\n",
      "5ed2852e47a5b4ac582e3f43\n"
     ]
    },
    {
     "name": "stderr",
     "output_type": "stream",
     "text": [
      " 82%|████████▏ | 2549/3101 [01:15<00:15, 35.12it/s]"
     ]
    },
    {
     "name": "stdout",
     "output_type": "stream",
     "text": [
      "5ed2872cb1ef1774fb196ff8\n",
      "5ed28733d8f9882174da33c4\n",
      "5ed28739c320b38a6961f14d\n",
      "5ed2873e558dbc1fb4704e64\n",
      "5ed28752be41b64e756010a3\n",
      "5ed28873b1ef1774fb196ff9\n",
      "5ed28a4027cf08b4e586f4b8\n",
      "5ed290ffdeeba1824f18a887\n"
     ]
    },
    {
     "name": "stderr",
     "output_type": "stream",
     "text": [
      " 82%|████████▏ | 2557/3101 [01:15<00:15, 35.10it/s]"
     ]
    },
    {
     "name": "stdout",
     "output_type": "stream",
     "text": [
      "5ed2910dd8f9882174da33c6\n",
      "5ed292a7127f82fa3af17ea3\n",
      "5ed292b29ecf227bd0c5df3c\n",
      "5ed29690d54b9f46b5bd5268\n",
      "5ed2969f921a3da9e7f18d24\n",
      "5ed296a6b1ef1774fb197002\n",
      "5ed2980ae0d8075d37a0b5f1\n",
      "5ed29a4de03760f7ab9d7b79\n"
     ]
    },
    {
     "name": "stderr",
     "output_type": "stream",
     "text": [
      " 83%|████████▎ | 2565/3101 [01:15<00:15, 35.03it/s]"
     ]
    },
    {
     "name": "stdout",
     "output_type": "stream",
     "text": [
      "5ed29a4dabe33a729f2e82a3\n",
      "5ed29a5000a14215adce1f48\n",
      "5ed29a512e561d7ccd62b82f\n",
      "5ed29bf79ecf227bd0c5df3f\n",
      "5ed2a03243a3334fb686ac6d\n",
      "5ed2a0329ecf227bd0c5df41\n",
      "5ed2a5ded6acc523044b0a6d\n"
     ]
    },
    {
     "name": "stderr",
     "output_type": "stream",
     "text": [
      " 83%|████████▎ | 2573/3101 [01:15<00:15, 34.88it/s]"
     ]
    },
    {
     "name": "stdout",
     "output_type": "stream",
     "text": [
      "5ed2aa3324141984ed982571\n",
      "5ed2ab5edaad0562e50eee6b\n",
      "5ed2ac276882b15a2e3689ae\n",
      "5ed2ac93b9547bf88fccc4f7\n",
      "5ed2ad38ef09b6d4a695c82e\n",
      "5ed2af1943a3334fb686ac72\n",
      "5ed2b86cdc12488afcde2dd4\n",
      "5ed2bf47c320b38a6961f15e\n"
     ]
    },
    {
     "name": "stderr",
     "output_type": "stream",
     "text": [
      "\r",
      " 83%|████████▎ | 2577/3101 [01:15<00:15, 34.90it/s]"
     ]
    },
    {
     "name": "stdout",
     "output_type": "stream",
     "text": [
      "5ed2c0259ecf227bd0c5df4c\n",
      "5ed2c0269389e8515b34d156\n",
      "5ed2c3ebc320b38a6961f162\n",
      "5ed2c3ec75ed6b4088151390\n",
      "5ed2c3f08c1ade1db262d581\n",
      "5ed2c92edc12488afcde2dd8\n",
      "5ed2c935d54b9f46b5bd5278\n",
      "5ed2c9e92e561d7ccd62b846\n"
     ]
    },
    {
     "name": "stderr",
     "output_type": "stream",
     "text": [
      " 83%|████████▎ | 2585/3101 [01:16<00:14, 34.96it/s]"
     ]
    },
    {
     "name": "stdout",
     "output_type": "stream",
     "text": [
      "5ed2c9f6875d5e8c4231d5f2\n",
      "5ed2d1440c8282f1345fbbef\n",
      "5ed2da4cabdf79849b08f6e3\n",
      "5ed2daa40c8282f1345fbbf2\n",
      "5ed2dbfcabdf79849b08f6e4\n",
      "5ed2dc03c320b38a6961f16b\n",
      "5ed2dc06875d5e8c4231d5fc\n",
      "5ed2dd67526d4b5f7fa63ad7\n"
     ]
    },
    {
     "name": "stderr",
     "output_type": "stream",
     "text": [
      " 84%|████████▎ | 2593/3101 [01:16<00:14, 34.91it/s]"
     ]
    },
    {
     "name": "stdout",
     "output_type": "stream",
     "text": [
      "5ed2dd6c5a72bf97dcef1600\n",
      "5ed2ddbd526d4b5f7fa63ad8\n",
      "5ed2ddbee65ad6e581720300\n",
      "5ed2dea943a3334fb686ac80\n",
      "5ed2dfe1e65ad6e581720302\n",
      "5ed2e439ef09b6d4a695c840\n",
      "5ed2e43e362c25a4ddd6c103\n",
      "5ed2e43f2e561d7ccd62b855\n"
     ]
    },
    {
     "name": "stderr",
     "output_type": "stream",
     "text": [
      " 84%|████████▍ | 2601/3101 [01:16<00:14, 34.90it/s]"
     ]
    },
    {
     "name": "stdout",
     "output_type": "stream",
     "text": [
      "5ed2e441577821a5c7b4f7f2\n",
      "5ed2e443964532b67e0776d7\n",
      "5ed2e44ba7ee914ed67ba626\n",
      "5ed2e5b4b342e755acb26908\n",
      "5ed2e6a155e09aa3ff7f91d2\n",
      "5ed2e95755e09aa3ff7f91d3\n",
      "5ed2e9d4043bdf51a77e0b54\n",
      "5ed2ea6dabdf79849b08f6eb\n"
     ]
    },
    {
     "name": "stderr",
     "output_type": "stream",
     "text": [
      " 84%|████████▍ | 2609/3101 [01:16<00:14, 34.93it/s]"
     ]
    },
    {
     "name": "stdout",
     "output_type": "stream",
     "text": [
      "5ed2ea70f2783f1cd3aed915\n",
      "5ed2ea7724141984ed982588\n",
      "5ed2ea79d8f9882174da33e3\n",
      "5ed2ea7cafc6fef2abff2903\n",
      "5ed2ea7e45e11a5a76402c0d\n",
      "5ed2ea805a72bf97dcef1606\n",
      "5ed2ea8447a5b4ac582e3f6e\n",
      "5ed2ea889389e8515b34d16e\n"
     ]
    },
    {
     "name": "stderr",
     "output_type": "stream",
     "text": [
      " 84%|████████▍ | 2617/3101 [01:17<00:13, 34.92it/s]"
     ]
    },
    {
     "name": "stdout",
     "output_type": "stream",
     "text": [
      "5ed2ec1c50627695cd36c87b\n",
      "5ed2eee724141984ed982589\n",
      "5ed2f436bfaea65510305a1f\n",
      "5ed2f6352e561d7ccd62b85f\n",
      "5ed2f7c1d8f9882174da33ea\n",
      "5ed2f7c47c61f26fcbd68d01\n",
      "5ed2f7c9deeba1824f18a8ae\n"
     ]
    },
    {
     "name": "stderr",
     "output_type": "stream",
     "text": [
      " 85%|████████▍ | 2625/3101 [01:17<00:13, 34.99it/s]"
     ]
    },
    {
     "name": "stdout",
     "output_type": "stream",
     "text": [
      "5ed2f7c9c320b38a6961f17b\n",
      "5ed2f893abdf79849b08f6f3\n",
      "5ed2fbbb9389e8515b34d174\n",
      "5ed2fc0ff36039d615e263e8\n",
      "5ed2fc12d6acc523044b0a88\n",
      "5ed2fc1a9ecf227bd0c5df68\n",
      "5ed2fc4f719d8eea44819b85\n",
      "5ed2fc598c1ade1db262d596\n"
     ]
    },
    {
     "name": "stderr",
     "output_type": "stream",
     "text": [
      " 85%|████████▍ | 2633/3101 [01:17<00:13, 35.03it/s]"
     ]
    },
    {
     "name": "stdout",
     "output_type": "stream",
     "text": [
      "5ed2fc596d87a41c3062fb2c\n",
      "5ed2fc5f251ea13546534fd6\n",
      "5ed2fc61b1ef1774fb197026\n",
      "5ed2fc65ec05a9b7acdd0de0\n",
      "5ed2fc6b0c8282f1345fbbff\n",
      "5ed2fd31558dbc1fb4704e90\n",
      "5ed2fd8c251ea13546534fd7\n",
      "5ed2ff83125fc12302824700\n"
     ]
    },
    {
     "name": "stderr",
     "output_type": "stream",
     "text": [
      " 85%|████████▌ | 2641/3101 [01:17<00:13, 35.00it/s]"
     ]
    },
    {
     "name": "stdout",
     "output_type": "stream",
     "text": [
      "5ed2fffd6882b15a2e3689c4\n",
      "5ed3025c9fe4c7697255b8cc\n",
      "5ed302606d57852008e37030\n",
      "5ed30313f2783f1cd3aed91f\n",
      "5ed30317558dbc1fb4704e93\n",
      "5ed30318526d4b5f7fa63aeb\n",
      "5ed3031b964532b67e0776ec\n",
      "5ed3031d9389e8515b34d176\n"
     ]
    },
    {
     "name": "stderr",
     "output_type": "stream",
     "text": [
      " 85%|████████▌ | 2649/3101 [01:17<00:12, 34.99it/s]"
     ]
    },
    {
     "name": "stdout",
     "output_type": "stream",
     "text": [
      "5ed303a187ade16b25a4961e\n",
      "5ed303a99656070055fe444c\n",
      "5ed303b26d57852008e37034\n",
      "5ed30826558dbc1fb4704e95\n",
      "5ed3085bb1ef1774fb197029\n",
      "5ed30bcf043bdf51a77e0b5f\n",
      "5ed31199dc12488afcde2df5\n",
      "5ed312f1043bdf51a77e0b62\n"
     ]
    },
    {
     "name": "stderr",
     "output_type": "stream",
     "text": [
      "\r",
      " 86%|████████▌ | 2653/3101 [01:18<00:12, 34.99it/s]"
     ]
    },
    {
     "name": "stdout",
     "output_type": "stream",
     "text": [
      "5ed312f9afc6fef2abff2912\n",
      "5ed3145aafc6fef2abff2913\n"
     ]
    },
    {
     "name": "stderr",
     "output_type": "stream",
     "text": [
      " 86%|████████▌ | 2661/3101 [01:19<00:32, 13.62it/s]"
     ]
    },
    {
     "name": "stdout",
     "output_type": "stream",
     "text": [
      "5ed3194a7c61f26fcbd68d0a\n",
      "5ed31950f43e70bcca92260f\n",
      "5ed319528c1ade1db262d59e\n",
      "5ed319526d87a41c3062fb36\n",
      "5ed31953875d5e8c4231d60f\n",
      "5ed31953abe33a729f2e82d7\n",
      "5ed31958325e55cffb3c7440\n"
     ]
    },
    {
     "name": "stderr",
     "output_type": "stream",
     "text": [
      "\r",
      " 86%|████████▌ | 2665/3101 [01:19<00:26, 16.67it/s]"
     ]
    },
    {
     "name": "stdout",
     "output_type": "stream",
     "text": [
      "5ed3195909fbe82ec39ad359\n",
      "5ed31cb1964532b67e0776f4\n",
      "5ed32229b342e755acb26922\n",
      "5ed3222db9547bf88fccc523\n",
      "5ed323c2f2783f1cd3aed92b\n",
      "5ed324d6abe33a729f2e82de\n",
      "5ed325ab875d5e8c4231d616\n",
      "5ed325ab325e55cffb3c7448\n"
     ]
    },
    {
     "name": "stderr",
     "output_type": "stream",
     "text": [
      " 86%|████████▌ | 2673/3101 [01:19<00:18, 22.73it/s]"
     ]
    },
    {
     "name": "stdout",
     "output_type": "stream",
     "text": [
      "5ed328e4abdf79849b08f70c\n",
      "5ed32a1db9547bf88fccc528\n",
      "5ed32a68abdf79849b08f70f\n",
      "5ed32ae2a38551b1928ab773\n",
      "5ed32beeb9547bf88fccc52a\n",
      "5ed330b687ade16b25a4962b\n",
      "5ed331d1a82d7b3e226f7dbc\n",
      "5ed33335489f40409d4020b1\n"
     ]
    },
    {
     "name": "stderr",
     "output_type": "stream",
     "text": [
      " 86%|████████▋ | 2681/3101 [01:19<00:15, 27.61it/s]"
     ]
    },
    {
     "name": "stdout",
     "output_type": "stream",
     "text": [
      "5ed333892e561d7ccd62b872\n",
      "5ed3338edc12488afcde2e03\n",
      "5ed3338e55e09aa3ff7f91ec\n",
      "5ed3339d558dbc1fb4704ea6\n",
      "5ed336160c8282f1345fbc15\n",
      "5ed33625bfaea65510305a40\n",
      "5ed3394e0b900e439d3de114\n",
      "5ed33b28daad0562e50eeea4\n"
     ]
    },
    {
     "name": "stderr",
     "output_type": "stream",
     "text": [
      " 87%|████████▋ | 2689/3101 [01:19<00:13, 30.94it/s]"
     ]
    },
    {
     "name": "stdout",
     "output_type": "stream",
     "text": [
      "5ed33e99325e55cffb3c7452\n",
      "5ed33f35274edda062437c23\n",
      "5ed34337325e55cffb3c7454\n",
      "5ed343387c61f26fcbd68d18\n",
      "5ed34339a9f36c3331836ac4\n",
      "5ed3434000a14215adce1f84\n",
      "5ed34347bfaea65510305a45\n",
      "5ed34350526d4b5f7fa63af7\n"
     ]
    },
    {
     "name": "stderr",
     "output_type": "stream",
     "text": [
      " 87%|████████▋ | 2697/3101 [01:20<00:12, 32.84it/s]"
     ]
    },
    {
     "name": "stdout",
     "output_type": "stream",
     "text": [
      "5ed34afa75ed6b40881513c7\n",
      "5ed34afb7c61f26fcbd68d1b\n",
      "5ed34afda38551b1928ab77f\n",
      "5ed34afef36039d615e263ff\n",
      "5ed34b09659eabef1adf2421\n",
      "5ed34b37362c25a4ddd6c128\n",
      "5ed34cabb9547bf88fccc538\n",
      "5ed34d2c526d4b5f7fa63afa\n"
     ]
    },
    {
     "name": "stderr",
     "output_type": "stream",
     "text": [
      " 87%|████████▋ | 2705/3101 [01:20<00:11, 33.83it/s]"
     ]
    },
    {
     "name": "stdout",
     "output_type": "stream",
     "text": [
      "5ed34d349b60d678b3cd8bf2\n",
      "5ed350d6e233a2a53004596e\n",
      "5ed3511b0ff87fa1b72bab97\n",
      "5ed35343489f40409d4020bd\n",
      "5ed35543a82d7b3e226f7dc7\n",
      "5ed355cd87ade16b25a49636\n",
      "5ed356218c1ade1db262d5b8\n",
      "5ed35f3209fbe82ec39ad372\n"
     ]
    },
    {
     "name": "stderr",
     "output_type": "stream",
     "text": [
      " 87%|████████▋ | 2713/3101 [01:20<00:11, 34.37it/s]"
     ]
    },
    {
     "name": "stdout",
     "output_type": "stream",
     "text": [
      "5ed361ef9541777a000d7fda\n",
      "5ed362da09fbe82ec39ad373\n",
      "5ed3694ba38551b1928ab787\n",
      "5ed36974325e55cffb3c7462\n",
      "5ed36bc987ade16b25a49639\n",
      "5ed36bd1362c25a4ddd6c130\n",
      "5ed37582325e55cffb3c7464\n",
      "5ed378c6a38551b1928ab78d\n"
     ]
    },
    {
     "name": "stderr",
     "output_type": "stream",
     "text": [
      " 88%|████████▊ | 2721/3101 [01:20<00:10, 34.67it/s]"
     ]
    },
    {
     "name": "stdout",
     "output_type": "stream",
     "text": [
      "5ed37a09bfaea65510305a57\n",
      "5ed37a16daad0562e50eeebf\n",
      "5ed37ac243a3334fb686acbb\n",
      "5ed37c5f87ade16b25a49641\n",
      "5ed37c679541777a000d7fe8\n",
      "5ed37c79526d4b5f7fa63b0c\n",
      "5ed3802a964532b67e077710\n",
      "5ed38340e3af85f2778da9b5\n"
     ]
    },
    {
     "name": "stderr",
     "output_type": "stream",
     "text": [
      " 88%|████████▊ | 2729/3101 [01:21<00:10, 34.79it/s]"
     ]
    },
    {
     "name": "stdout",
     "output_type": "stream",
     "text": [
      "5ed78c410443f44b8d25426a\n",
      "5ed78eb7780632fa6d4787c9\n",
      "5ed790d90391c391dcd417c6\n",
      "5ed7942f282a36682c0fbcd6\n",
      "5ed798c998ad3bb80807f783\n",
      "5ed79b8fc699e47fb00291cc\n",
      "5ed79de72061c3c1e24211b1\n",
      "5ed79ee0e58a76bc6390a6a3\n"
     ]
    },
    {
     "name": "stderr",
     "output_type": "stream",
     "text": [
      " 88%|████████▊ | 2737/3101 [01:21<00:10, 34.84it/s]"
     ]
    },
    {
     "name": "stdout",
     "output_type": "stream",
     "text": [
      "5ed7a02ebff1360056f4821c\n",
      "5ed7a1b098ad3bb80807f787\n",
      "5ed7a1bd839d5de3ca8973d8\n",
      "5ed7a232ec46a705e2e86a44\n",
      "5ed7a3a3d0b259e9e2dca363\n",
      "5ed7a3e704c57a85573cf5cd\n",
      "5ed7a64ac31e303913676388\n",
      "5ed7a717977dad7d1a7ea2e6\n"
     ]
    },
    {
     "name": "stderr",
     "output_type": "stream",
     "text": [
      " 89%|████████▊ | 2745/3101 [01:21<00:10, 34.96it/s]"
     ]
    },
    {
     "name": "stdout",
     "output_type": "stream",
     "text": [
      "5ed7a74604c57a85573cf5ce\n",
      "5ed7a8339bb1dc4fb35773ae\n",
      "5ed7a8a86e2dbf166087a3ce\n",
      "5ed7a8ac30798743f8d8418c\n",
      "5ed7aa4598dd2480d6709e99\n",
      "5ed7abe9d0b259e9e2dca365\n",
      "5ed7ad170391c391dcd417cf\n",
      "5ed7ada48a7dfc94d3b45251\n"
     ]
    },
    {
     "name": "stderr",
     "output_type": "stream",
     "text": [
      " 89%|████████▉ | 2753/3101 [01:21<00:09, 35.00it/s]"
     ]
    },
    {
     "name": "stdout",
     "output_type": "stream",
     "text": [
      "5ed7add096ce0f64d9b7b532\n",
      "5ed7aec6789a0c6f2bb8066e\n",
      "5ed7af9d885fe457c20b37fb\n",
      "5ed7b15ed0b259e9e2dca368\n",
      "5ed7b265513fc99baf0b127e\n",
      "5ed7b27298dd2480d6709e9b\n",
      "5ed7b324dcb51cc310347ac8\n",
      "5ed7b331be7e27ad05d1a75e\n"
     ]
    },
    {
     "name": "stderr",
     "output_type": "stream",
     "text": [
      " 89%|████████▉ | 2761/3101 [01:22<00:09, 35.01it/s]"
     ]
    },
    {
     "name": "stdout",
     "output_type": "stream",
     "text": [
      "5ed7b46f977dad7d1a7ea2ea\n",
      "5ed7b491a7500e1905e8461b\n",
      "5ed7b5a630798743f8d84192\n",
      "5ed7b5b4ad0ceaec1fcf39b8\n",
      "5ed7b65177cff36c5d4ed01d\n",
      "5ed7b81fbe7e27ad05d1a75f\n",
      "5ed7ba6d282a36682c0fbcdc\n",
      "5ed7ba6e0fd52687eb50469a\n"
     ]
    },
    {
     "name": "stderr",
     "output_type": "stream",
     "text": [
      " 89%|████████▉ | 2769/3101 [01:22<00:09, 34.91it/s]"
     ]
    },
    {
     "name": "stdout",
     "output_type": "stream",
     "text": [
      "5ed7bb3998737e2322b78445\n",
      "5ed7bb3b464e35d593b2a712\n",
      "5ed7bc8bc64a8ba103d6f957\n",
      "5ed7be41bff1360056f48222\n",
      "5ed7be4998ad3bb80807f78e\n",
      "5ed7bfa4c31e30391367638e\n",
      "5ed7c10b2544278a2fc744c6\n",
      "5ed7c3b60e6649a82453a8f3\n"
     ]
    },
    {
     "name": "stderr",
     "output_type": "stream",
     "text": [
      " 90%|████████▉ | 2777/3101 [01:22<00:09, 34.99it/s]"
     ]
    },
    {
     "name": "stdout",
     "output_type": "stream",
     "text": [
      "5ed7c4107a0b6c968bb5864f\n",
      "5ed7ca8f852e272673d7ee90\n",
      "5ed7cab4be7e27ad05d1a763\n",
      "5ed7ccbd5c3840d612dc577b\n",
      "5ed7cf65bc496b738bbbd39a\n",
      "5ed7cf7800a17cab6b9d6eae\n",
      "5ed7d2395c3840d612dc577d\n",
      "5ed7d2f196ce0f64d9b7b539\n"
     ]
    },
    {
     "name": "stderr",
     "output_type": "stream",
     "text": [
      " 90%|████████▉ | 2785/3101 [01:22<00:09, 34.95it/s]"
     ]
    },
    {
     "name": "stdout",
     "output_type": "stream",
     "text": [
      "5ed7d3c4e58a76bc6390a6b0\n",
      "5ed7d3c7c1483b8c3f6a31ae\n",
      "5ed7d3ce96ce0f64d9b7b53b\n",
      "5ed7d52e464e35d593b2a716\n",
      "5ed7d59d464e35d593b2a717\n",
      "5ed7d5ca885fe457c20b3804\n",
      "5ed7d5d4173ed06538360f26\n",
      "5ed7d8019ed50ac9de658779"
     ]
    },
    {
     "name": "stderr",
     "output_type": "stream",
     "text": [
      " 90%|█████████ | 2793/3101 [01:22<00:08, 34.97it/s]"
     ]
    },
    {
     "name": "stdout",
     "output_type": "stream",
     "text": [
      "\n",
      "5ed7d94296ce0f64d9b7b53c\n",
      "5ed7d965852e272673d7ee94\n",
      "5ed7da5ffbb2ddc619da4f79\n",
      "5ed7dbb7f19e3cd95f9df71f\n",
      "5ed7dbd7ec46a705e2e86a56\n",
      "5ed7dc840676ec722a1a28d1\n",
      "5ed7def67e6df20d942e1726\n"
     ]
    },
    {
     "name": "stderr",
     "output_type": "stream",
     "text": [
      " 90%|█████████ | 2801/3101 [01:23<00:08, 35.00it/s]"
     ]
    },
    {
     "name": "stdout",
     "output_type": "stream",
     "text": [
      "5ed7df13789a0c6f2bb80678\n",
      "5ed7dfd92544278a2fc744cb\n",
      "5ed7e0f36e2dbf166087a3db\n",
      "5ed7e235977dad7d1a7ea2f2\n",
      "5ed7e3f7ad0ceaec1fcf39c7\n",
      "5ed7e5c9bff1360056f4822a\n",
      "5ed7e5cf173ed06538360f2a\n"
     ]
    },
    {
     "name": "stderr",
     "output_type": "stream",
     "text": [
      " 91%|█████████ | 2809/3101 [01:23<00:08, 34.97it/s]"
     ]
    },
    {
     "name": "stdout",
     "output_type": "stream",
     "text": [
      "5ed7e5d48a7dfc94d3b4525a\n",
      "5ed7e67698737e2322b7844d\n",
      "5ed7e7a400a17cab6b9d6eb6\n",
      "5ed7e84946119fd757b9df7c\n",
      "5ed7e84f6e2dbf166087a3dd\n",
      "5ed7e863a5fee5be6429b251\n",
      "5ed7e8c35c3840d612dc5781\n",
      "5ed7e9235d07b7142311a2d1\n"
     ]
    },
    {
     "name": "stderr",
     "output_type": "stream",
     "text": [
      " 91%|█████████ | 2817/3101 [01:23<00:08, 34.97it/s]"
     ]
    },
    {
     "name": "stdout",
     "output_type": "stream",
     "text": [
      "5ed7eacb51e36375a6545127\n",
      "5ed7eb22e58a76bc6390a6b3\n",
      "5ed7ebf104c57a85573cf5e3\n",
      "5ed7ebf7940a792db2477cba\n",
      "5ed7ed13d0b259e9e2dca37a\n",
      "5ed7f3866fee8b854e8a2fa0\n",
      "5ed7f3dd464e35d593b2a71b\n",
      "5ed7f3f4c64a8ba103d6f967\n"
     ]
    },
    {
     "name": "stderr",
     "output_type": "stream",
     "text": [
      " 91%|█████████ | 2825/3101 [01:23<00:07, 34.93it/s]"
     ]
    },
    {
     "name": "stdout",
     "output_type": "stream",
     "text": [
      "5ed7f4ef30798743f8d841a0\n",
      "5ed7f54b4538b4d2a9dee00e\n",
      "5ed7f75ce7e5b6a51bed4806\n",
      "5ed7f8436fee8b854e8a2fa3\n",
      "5ed7fad6895b7034845588d3\n",
      "5ed7fce7c1ebdce05e5a3897\n",
      "5ed7fcebe7e5b6a51bed4807\n"
     ]
    },
    {
     "name": "stderr",
     "output_type": "stream",
     "text": [
      " 91%|█████████▏| 2833/3101 [01:24<00:07, 34.94it/s]"
     ]
    },
    {
     "name": "stdout",
     "output_type": "stream",
     "text": [
      "5ed7ffa2789a0c6f2bb8067e\n",
      "5ed800712061c3c1e24211d0\n",
      "5ed80075ad0ceaec1fcf39cb\n",
      "5ed801b5513fc99baf0b1298\n",
      "5ed8060cbc496b738bbbd3ac\n",
      "5ed8067e6e2dbf166087a3e6\n",
      "5ed806e9940a792db2477cc0\n",
      "5ed807274ec2b4468c679b4d\n",
      "5ed8081d977dad7d1a7ea2fd\n"
     ]
    },
    {
     "name": "stderr",
     "output_type": "stream",
     "text": [
      " 92%|█████████▏| 2841/3101 [01:24<00:07, 34.92it/s]"
     ]
    },
    {
     "name": "stdout",
     "output_type": "stream",
     "text": [
      "5ed80954d0b259e9e2dca381\n",
      "5ed8097b885fe457c20b3811\n",
      "5ed80a5cf9b1fb774519e542\n",
      "5ed80e95c699e47fb00291ee\n",
      "5ed80eeee58a76bc6390a6bc\n",
      "5ed80f6fec46a705e2e86a69\n",
      "5ed80fa3586c71c6419d0a6a\n"
     ]
    },
    {
     "name": "stderr",
     "output_type": "stream",
     "text": [
      " 92%|█████████▏| 2849/3101 [01:24<00:07, 34.96it/s]"
     ]
    },
    {
     "name": "stdout",
     "output_type": "stream",
     "text": [
      "5ed80ff77a0b6c968bb58664\n",
      "5ed8106a940a792db2477cc4\n",
      "5ed813ac2544278a2fc744da\n",
      "5ed81688852e272673d7eea3\n",
      "5ed81688885fe457c20b3815\n",
      "5ed816f8e7e5b6a51bed480e\n",
      "5ed8187bc699e47fb00291f2\n",
      "5ed81b34586c71c6419d0a6d\n",
      "5ed81c3896ce0f64d9b7b553\n"
     ]
    },
    {
     "name": "stderr",
     "output_type": "stream",
     "text": [
      " 92%|█████████▏| 2857/3101 [01:24<00:06, 34.94it/s]"
     ]
    },
    {
     "name": "stdout",
     "output_type": "stream",
     "text": [
      "5ed81c44d8cb56e638930336\n",
      "5ed81ebd173ed06538360f38\n",
      "5ed81ff577ec312b9235e1d7\n",
      "5ed8224796ce0f64d9b7b555\n",
      "5ed822c1977dad7d1a7ea304\n",
      "5ed82338789a0c6f2bb80686\n",
      "5ed825fe7e6df20d942e1734\n",
      "5ed828425c3840d612dc5796\n"
     ]
    },
    {
     "name": "stderr",
     "output_type": "stream",
     "text": [
      " 92%|█████████▏| 2865/3101 [01:24<00:06, 34.97it/s]"
     ]
    },
    {
     "name": "stdout",
     "output_type": "stream",
     "text": [
      "5ed8289dc64a8ba103d6f976\n",
      "5ed8290698ad3bb80807f7a2\n",
      "5ed829960391c391dcd417f9\n",
      "5ed82b27977dad7d1a7ea306\n",
      "5ed82d1ef19e3cd95f9df72e\n",
      "5ed82ea0bff1360056f4823a\n",
      "5ed82efaefda8cb24127fd8d\n",
      "5ed82feee58a76bc6390a6c4\n"
     ]
    },
    {
     "name": "stderr",
     "output_type": "stream",
     "text": [
      " 93%|█████████▎| 2873/3101 [01:25<00:06, 34.95it/s]"
     ]
    },
    {
     "name": "stdout",
     "output_type": "stream",
     "text": [
      "5ed8344abff1360056f4823c\n",
      "5ed834f7780632fa6d4787ee\n",
      "5ed834ff0676ec722a1a28e9\n",
      "5ed83566c1483b8c3f6a31c5\n",
      "5ed8363d7a0b6c968bb5866f\n",
      "5ed8373ac1483b8c3f6a31c7\n",
      "5ed8379f5d07b7142311a2e4\n",
      "5ed837ab04c57a85573cf5f9\n"
     ]
    },
    {
     "name": "stderr",
     "output_type": "stream",
     "text": [
      " 93%|█████████▎| 2881/3101 [01:25<00:06, 35.03it/s]"
     ]
    },
    {
     "name": "stdout",
     "output_type": "stream",
     "text": [
      "5ed838154e09badeb7b635d6\n",
      "5ed838ab586c71c6419d0a74\n",
      "5ed83c4746119fd757b9df90\n",
      "5ed83c577a0b6c968bb58671\n",
      "5ed83e379ed50ac9de65878e\n",
      "5ed84041c1ebdce05e5a38aa\n",
      "5ed8411a83abccc5edbab48f\n",
      "5ed841205c3840d612dc579f\n"
     ]
    },
    {
     "name": "stderr",
     "output_type": "stream",
     "text": [
      " 93%|█████████▎| 2889/3101 [01:25<00:06, 35.02it/s]"
     ]
    },
    {
     "name": "stdout",
     "output_type": "stream",
     "text": [
      "5ed8413f464e35d593b2a733\n",
      "5ed842bc98ad3bb80807f7a9\n",
      "5ed84310513fc99baf0b12ad\n",
      "5ed844be789a0c6f2bb8068b\n",
      "5ed844df789a0c6f2bb8068c\n",
      "5ed84ba6586c71c6419d0a78\n",
      "5ed8528f2544278a2fc744ef\n",
      "5ed85392bff1360056f48243\n"
     ]
    },
    {
     "name": "stderr",
     "output_type": "stream",
     "text": [
      " 93%|█████████▎| 2897/3101 [01:25<00:05, 34.99it/s]"
     ]
    },
    {
     "name": "stdout",
     "output_type": "stream",
     "text": [
      "5ed8550ee58a76bc6390a6d1\n",
      "5ed855435c3840d612dc57a5\n",
      "5ed8559aa5fee5be6429b26b\n",
      "5ed85acc8a7dfc94d3b45275\n",
      "5ed85c430e6649a82453a911\n",
      "5ed85c460058c4bf9a144053\n",
      "5ed85c84a5fee5be6429b26c\n"
     ]
    },
    {
     "name": "stderr",
     "output_type": "stream",
     "text": [
      " 94%|█████████▎| 2905/3101 [01:26<00:05, 34.93it/s]"
     ]
    },
    {
     "name": "stdout",
     "output_type": "stream",
     "text": [
      "5ed85de277ec312b9235e1e7\n",
      "5ed86055bc496b738bbbd3c8\n",
      "5ed8618600a17cab6b9d6ed0\n",
      "5ed8691298dd2480d6709ed6\n",
      "5ed86a05282a36682c0fbd0f\n",
      "5ed86a08f19e3cd95f9df73a\n",
      "5ed86a42852e272673d7eebe\n",
      "5ed86bc983abccc5edbab49a\n"
     ]
    },
    {
     "name": "stderr",
     "output_type": "stream",
     "text": [
      " 94%|█████████▍| 2913/3101 [01:26<00:05, 35.00it/s]"
     ]
    },
    {
     "name": "stdout",
     "output_type": "stream",
     "text": [
      "5ed86c65173ed06538360f4e\n",
      "5ed86d5fec46a705e2e86a82\n",
      "5ed86f8a96ce0f64d9b7b56a\n",
      "5ed86fbf96ce0f64d9b7b56b\n",
      "5ed87111a5fee5be6429b272\n",
      "5ed87202895b7034845588f9\n",
      "5ed8739ac64a8ba103d6f98a\n",
      "5ed873eb0676ec722a1a28f3\n"
     ]
    },
    {
     "name": "stderr",
     "output_type": "stream",
     "text": [
      " 94%|█████████▍| 2921/3101 [01:26<00:05, 34.99it/s]"
     ]
    },
    {
     "name": "stdout",
     "output_type": "stream",
     "text": [
      "5ed874a3513fc99baf0b12c1\n",
      "5ed87520c1ebdce05e5a38ba\n",
      "5ed8759ac699e47fb002920d\n",
      "5ed876826fee8b854e8a2fca\n",
      "5ed876c7da34aad09a453235\n",
      "5ed87796a7500e1905e8464e\n",
      "5ed8779dd0b259e9e2dca39a\n",
      "5ed877a95d07b7142311a2f7\n"
     ]
    },
    {
     "name": "stderr",
     "output_type": "stream",
     "text": [
      " 94%|█████████▍| 2929/3101 [01:26<00:04, 35.01it/s]"
     ]
    },
    {
     "name": "stdout",
     "output_type": "stream",
     "text": [
      "5ed87826789a0c6f2bb80697\n",
      "5ed87ba9d8cb56e63893034e\n",
      "5ed87c79a5fee5be6429b273\n",
      "5ed87d39171fbbcdea56a922\n",
      "5ed87f22895b7034845588fc\n",
      "5ed87f70171fbbcdea56a923\n",
      "5ed88231bc496b738bbbd3d5\n",
      "5ed882dc282a36682c0fbd14\n"
     ]
    },
    {
     "name": "stderr",
     "output_type": "stream",
     "text": [
      " 95%|█████████▍| 2937/3101 [01:27<00:04, 35.08it/s]"
     ]
    },
    {
     "name": "stdout",
     "output_type": "stream",
     "text": [
      "5ed8836730798743f8d841c6\n",
      "5ed8849ec699e47fb0029213\n",
      "5ed8896ac1ebdce05e5a38c1\n",
      "5ed88c3ea7500e1905e84653\n",
      "5ed88c4a7a0b6c968bb58686\n",
      "5ed88f82852e272673d7eed0\n",
      "5ed88f885c3840d612dc57ba\n",
      "5ed890fa46119fd757b9dfa6\n"
     ]
    },
    {
     "name": "stderr",
     "output_type": "stream",
     "text": [
      " 95%|█████████▍| 2945/3101 [01:27<00:04, 35.06it/s]"
     ]
    },
    {
     "name": "stdout",
     "output_type": "stream",
     "text": [
      "5ed895445d07b7142311a303\n",
      "5ed895c7c64a8ba103d6f996\n",
      "5ed8978830798743f8d841cc\n",
      "5ed898f0be7e27ad05d1a79d\n",
      "5ed89944ec46a705e2e86a8a\n",
      "5ed89aac6fee8b854e8a2fd6\n",
      "5ed89ab900a17cab6b9d6ee0\n",
      "5ed89ad898737e2322b7847b\n"
     ]
    },
    {
     "name": "stderr",
     "output_type": "stream",
     "text": [
      " 95%|█████████▌| 2953/3101 [01:27<00:04, 35.06it/s]"
     ]
    },
    {
     "name": "stdout",
     "output_type": "stream",
     "text": [
      "5ed89b10171fbbcdea56a92b\n",
      "5ed89b1346119fd757b9dfa9\n",
      "5ed89b1498737e2322b7847c\n",
      "5ed89bbd98ad3bb80807f7c4\n",
      "5ed89c368a7dfc94d3b45282\n",
      "5ed89c862544278a2fc74501\n",
      "5ed89c88d8cb56e63893035a\n",
      "5ed89c99be7e27ad05d1a79e\n"
     ]
    },
    {
     "name": "stderr",
     "output_type": "stream",
     "text": [
      " 95%|█████████▌| 2961/3101 [01:27<00:03, 35.06it/s]"
     ]
    },
    {
     "name": "stdout",
     "output_type": "stream",
     "text": [
      "5ed89e697a0b6c968bb5868e\n",
      "5ed8a103be7e27ad05d1a7a0\n",
      "5ed8a104895b703484558909\n",
      "5ed8a41e839d5de3ca897428\n",
      "5ed8a50dfbb2ddc619da4fa5\n",
      "5ed8a521a5fee5be6429b27c\n",
      "5ed8a5cf173ed06538360f59\n",
      "5ed8a60b9bb1dc4fb35773f5\n"
     ]
    },
    {
     "name": "stderr",
     "output_type": "stream",
     "text": [
      " 96%|█████████▌| 2969/3101 [01:27<00:03, 35.14it/s]"
     ]
    },
    {
     "name": "stdout",
     "output_type": "stream",
     "text": [
      "5ed8a63e46119fd757b9dfae\n",
      "5ed8a7a54ec2b4468c679b6d\n",
      "5ed8a83098737e2322b7847e\n",
      "5ed8a8e4895b70348455890c\n",
      "5ed8a8e72061c3c1e24211f7\n",
      "5ed8a9ee0fd52687eb5046d2\n",
      "5ed8aa476fee8b854e8a2fdc\n",
      "5ed8ab0f780632fa6d47880b\n"
     ]
    },
    {
     "name": "stderr",
     "output_type": "stream",
     "text": [
      " 96%|█████████▌| 2977/3101 [01:28<00:03, 35.11it/s]"
     ]
    },
    {
     "name": "stdout",
     "output_type": "stream",
     "text": [
      "5ed8af0e9bb1dc4fb35773f7\n",
      "5ed8b09a00a17cab6b9d6ee4\n",
      "5ed8b0c5a5fee5be6429b27e\n",
      "5ed8b107f497e85b2d9c9865\n",
      "5ed8b24ee8067fcad802eba2\n",
      "5ed8b4fa586c71c6419d0a93\n",
      "5ed8b8505c3840d612dc57cd\n",
      "5ed8b9c20fd52687eb5046d4\n"
     ]
    },
    {
     "name": "stderr",
     "output_type": "stream",
     "text": [
      " 96%|█████████▋| 2985/3101 [01:28<00:03, 35.04it/s]"
     ]
    },
    {
     "name": "stdout",
     "output_type": "stream",
     "text": [
      "5ed8bc05513fc99baf0b12d7\n",
      "5ed8bc355c3840d612dc57ce\n",
      "5ed8c238895b703484558913\n",
      "5ed8c330895b703484558914\n",
      "5ed8c5c19cb2a9a9591c37eb\n",
      "5ed8c95a6fee8b854e8a2fe3\n",
      "5ed8cb53780632fa6d478816\n"
     ]
    },
    {
     "name": "stderr",
     "output_type": "stream",
     "text": [
      " 97%|█████████▋| 2993/3101 [01:28<00:03, 35.01it/s]"
     ]
    },
    {
     "name": "stdout",
     "output_type": "stream",
     "text": [
      "5ed8cd81c699e47fb002922d\n",
      "5ed8ce11e58a76bc6390a6e8\n",
      "5ed8ce8930798743f8d841d6\n",
      "5ed8d0f0dcb51cc310347b08\n",
      "5ed8d1325d07b7142311a30a\n",
      "5ed8d25a852e272673d7eedd\n",
      "5ed8d38aa7500e1905e84661\n",
      "5ed8d413f9b1fb774519e572\n",
      "5ed8d4e3789a0c6f2bb806aa\n"
     ]
    },
    {
     "name": "stderr",
     "output_type": "stream",
     "text": [
      "\r",
      " 97%|█████████▋| 2997/3101 [01:28<00:02, 34.95it/s]"
     ]
    },
    {
     "name": "stdout",
     "output_type": "stream",
     "text": [
      "5ed8d5dc77ec312b9235e205\n",
      "5ed8d714c1ebdce05e5a38d7\n",
      "5ed8d9070e6649a82453a929\n",
      "5ed8d9aae7e5b6a51bed483d\n",
      "5ed8da12f9b1fb774519e574\n",
      "5ed8dac4c699e47fb0029231\n",
      "5ed8db70bc496b738bbbd3eb\n"
     ]
    },
    {
     "name": "stderr",
     "output_type": "stream",
     "text": [
      " 97%|█████████▋| 3005/3101 [01:28<00:02, 34.89it/s]"
     ]
    },
    {
     "name": "stdout",
     "output_type": "stream",
     "text": [
      "5ed8db7c0e6649a82453a92b\n",
      "5ed8db7fad0ceaec1fcf3a04\n",
      "5ed8db8246119fd757b9dfbe\n",
      "5ed8dbc383abccc5edbab4bf\n",
      "5ed8dbd9e58a76bc6390a6ef\n",
      "5ed8e37f2a0f47091996a84f\n",
      "5ed8e45800a17cab6b9d6ef5\n",
      "5ed8e94a0058c4bf9a14407f\n"
     ]
    },
    {
     "name": "stderr",
     "output_type": "stream",
     "text": [
      " 97%|█████████▋| 3013/3101 [01:29<00:02, 34.94it/s]"
     ]
    },
    {
     "name": "stdout",
     "output_type": "stream",
     "text": [
      "5ed8ea7c88eecf4fdda7bfbe\n",
      "5ed8eb59c6deb2744098dc47\n",
      "5ed8ebef85c9239ec848990f\n",
      "5ed8ee0a0676ec722a1a2915\n",
      "5ed8ee265a0423549a8d9698\n",
      "5ed8ee3534172dd979a49b38\n",
      "5ed8ef1dc53f4f7b1ef63ff3\n",
      "5ed8f229895b703484558924\n"
     ]
    },
    {
     "name": "stderr",
     "output_type": "stream",
     "text": [
      " 97%|█████████▋| 3021/3101 [01:29<00:02, 34.87it/s]"
     ]
    },
    {
     "name": "stdout",
     "output_type": "stream",
     "text": [
      "5ed8f3788e7d7fdd7d651894\n",
      "5ed8f3a3b52006cfd2d0af52\n",
      "5ed8f3cb8713d8e86e542568\n",
      "5ed8f482c8d35c6699d9bc88\n",
      "5ed8f9ab1481a5d502dc337e\n",
      "5ed8faaecdef35325770d168\n",
      "5ed8fbbab52006cfd2d0af54\n",
      "5ed8fc2f4674a2ea1a84a6bd\n"
     ]
    },
    {
     "name": "stderr",
     "output_type": "stream",
     "text": [
      " 98%|█████████▊| 3029/3101 [01:29<00:02, 34.94it/s]"
     ]
    },
    {
     "name": "stdout",
     "output_type": "stream",
     "text": [
      "5ed8fdc172eb7d4c5e65e7c3\n",
      "5ed8fedb0fa63149bc376d62\n",
      "5ed8ff515f8a4a5c887f6b2a\n",
      "5ed903f0d57084171a5de6b7\n",
      "5ed90471cdef35325770d16a\n",
      "5ed905d2d57084171a5de6b8\n",
      "5ed905dec6deb2744098dc53\n",
      "5ed9062d0676ec722a1a291d\n"
     ]
    },
    {
     "name": "stderr",
     "output_type": "stream",
     "text": [
      " 98%|█████████▊| 3037/3101 [01:29<00:01, 35.05it/s]"
     ]
    },
    {
     "name": "stdout",
     "output_type": "stream",
     "text": [
      "5ed9087d78fd14ece2c9ba19\n",
      "5ed909050676ec722a1a291f\n",
      "5ed90a39ba30517a1518d24a\n",
      "5ed90ac517e2d04e95d95659\n",
      "5ed90ac978fd14ece2c9ba1a\n",
      "5ed90ae1e083d5c692f24f92\n",
      "5ed90b1ee083d5c692f24f93\n",
      "5ed90b2f66276b23ed065f94\n"
     ]
    },
    {
     "name": "stderr",
     "output_type": "stream",
     "text": [
      " 98%|█████████▊| 3045/3101 [01:30<00:01, 35.13it/s]"
     ]
    },
    {
     "name": "stdout",
     "output_type": "stream",
     "text": [
      "5ed90b78cdef35325770d16c\n",
      "5ed90c254674a2ea1a84a6c1\n",
      "5ed90cc3ee124d8e3bdb0f72\n",
      "5ed90e0dc8d35c6699d9bc91\n",
      "5ed90e0d0058c4bf9a14408e\n",
      "5ed90ec8f940743547106fac\n",
      "5ed90efb548b7097c3c9b2bb\n",
      "5ed90f070fa63149bc376d68\n"
     ]
    },
    {
     "name": "stderr",
     "output_type": "stream",
     "text": [
      " 98%|█████████▊| 3053/3101 [01:30<00:01, 35.11it/s]"
     ]
    },
    {
     "name": "stdout",
     "output_type": "stream",
     "text": [
      "5ed9103847438537dd4948e9\n",
      "5ed91243e083d5c692f24f96\n",
      "5ed912f22e7052c035f7db8a\n",
      "5ed913be75d4ddbdfdcae991\n",
      "5ed913dd66276b23ed065f95\n",
      "5ed915cb5a0423549a8d96a3\n",
      "5ed915d785c9239ec8489917\n",
      "5ed915eb47438537dd4948eb\n"
     ]
    },
    {
     "name": "stderr",
     "output_type": "stream",
     "text": [
      " 99%|█████████▊| 3061/3101 [01:30<00:01, 35.14it/s]"
     ]
    },
    {
     "name": "stdout",
     "output_type": "stream",
     "text": [
      "5ed91861e8067fcad802ebb8\n",
      "5ed9193237768501d68044dc\n",
      "5ed919f305680b93f1ef02a8\n",
      "5ed91a4747438537dd4948ee\n",
      "5ed91a48e8067fcad802ebba\n",
      "5ed91b6637768501d68044dd\n",
      "5ed91c839ab8d7c7eeb50a3b\n",
      "5ed91c8a5f8a4a5c887f6b2f\n"
     ]
    },
    {
     "name": "stderr",
     "output_type": "stream",
     "text": [
      " 99%|█████████▉| 3069/3101 [01:30<00:00, 35.11it/s]"
     ]
    },
    {
     "name": "stdout",
     "output_type": "stream",
     "text": [
      "5ed91c8d63c3fdb5d4b9dd20\n",
      "5ed91db0532e71103c27bc78\n",
      "5ed91e58df4c3e346c31bc4b\n",
      "5ed91edb9cb2a9a9591c3803\n",
      "5ed92046fdbd363c79b88ef5\n",
      "5ed9207699e18730cf2f42f5\n",
      "5ed920ed4c33f6646f9284b5\n",
      "5ed9224a5a0423549a8d96a6\n"
     ]
    },
    {
     "name": "stderr",
     "output_type": "stream",
     "text": [
      " 99%|█████████▉| 3077/3101 [01:31<00:00, 35.06it/s]"
     ]
    },
    {
     "name": "stdout",
     "output_type": "stream",
     "text": [
      "5ed92254b8da5454053954ba\n",
      "5ed9246d99e18730cf2f42f6\n",
      "5ed925f58713d8e86e542575\n",
      "5ed9260872eb7d4c5e65e7d1\n",
      "5ed926a299dcdf8fcb589d46\n",
      "5ed926a988eecf4fdda7bfc8\n",
      "5ed926b08cdf887e54d8192f\n",
      "5ed927593395c95cf6b46dfa\n"
     ]
    },
    {
     "name": "stderr",
     "output_type": "stream",
     "text": [
      " 99%|█████████▉| 3085/3101 [01:31<00:00, 35.09it/s]"
     ]
    },
    {
     "name": "stdout",
     "output_type": "stream",
     "text": [
      "5ed928885a0423549a8d96a9\n",
      "5ed928bcc53f4f7b1ef64002\n",
      "5ed928c0b8da5454053954bd\n",
      "5ed929f94c33f6646f9284b8\n",
      "5ed92a44cdef35325770d177\n",
      "5ed92b35d4f763b0fa9d8482\n",
      "5ed92e9917aa14b6773e262a\n",
      "5ed92f0e0058c4bf9a14409c\n"
     ]
    },
    {
     "name": "stderr",
     "output_type": "stream",
     "text": [
      "100%|█████████▉| 3093/3101 [01:31<00:00, 35.12it/s]"
     ]
    },
    {
     "name": "stdout",
     "output_type": "stream",
     "text": [
      "5ed92f2b72eb7d4c5e65e7d3\n",
      "5ed933802a936394508d1c0c\n",
      "5ed9338383abccc5edbab4d4\n",
      "5ed9338afdbd363c79b88efb\n",
      "5ed93393c6deb2744098dc60\n",
      "5ed934170058c4bf9a1440a0\n",
      "5ed9355537768501d68044e5\n",
      "5ed935ad17e2d04e95d95663\n"
     ]
    },
    {
     "name": "stderr",
     "output_type": "stream",
     "text": [
      "100%|██████████| 3101/3101 [01:31<00:00, 33.81it/s]"
     ]
    },
    {
     "name": "stdout",
     "output_type": "stream",
     "text": [
      "5ed93686ecd46cf6e2b98666\n",
      "5ed939abb8da5454053954c3\n",
      "5ed939d5b52006cfd2d0af66\n",
      "5ed93f81c7b1cc3f48e18e17\n"
     ]
    },
    {
     "name": "stderr",
     "output_type": "stream",
     "text": [
      "\n"
     ]
    }
   ],
   "source": [
    "data_for_check = []\n",
    "db = db_client[\"tweets_pipeline_v2\"].find({\"$or\":[\n",
    "#                                                     {\"status\": \"pipelined\"},                                                                                                                        \n",
    "                                                      {\"status\": \"reserved\"},                                                       \n",
    "                                                 ],\n",
    "                                                   \"weakTag\": True,\n",
    "                                                   \"source\": \"def\",\n",
    "                                                   \"extracted_text\": {\"$exists\": True},                                               \n",
    "#                                                'tweet_timestamp': {'$gte': datetime(2020,2,4)} #algoStarts                                              \n",
    "                                          }, no_cursor_timeout=True)\n",
    "\n",
    "\n",
    "for i in tqdm(db, total = db.count()):\n",
    "    _id = str(i[\"_id\"])\n",
    "    print(_id)\n",
    "    new_list = i[\"bert_tags\"]\n",
    "    if \"entity_prepared\" in i:\n",
    "        new_list += i[\"entity_prepared\"]\n",
    "#     weak_tag_to_validated(_id, new_list)\n",
    "    weak_tag_to_pipelined(_id, new_list)\n",
    "#     break"
   ]
  },
  {
   "cell_type": "code",
   "execution_count": null,
   "metadata": {},
   "outputs": [],
   "source": []
  },
  {
   "cell_type": "code",
   "execution_count": null,
   "metadata": {},
   "outputs": [],
   "source": []
  },
  {
   "cell_type": "code",
   "execution_count": null,
   "metadata": {},
   "outputs": [],
   "source": []
  },
  {
   "cell_type": "code",
   "execution_count": null,
   "metadata": {},
   "outputs": [],
   "source": []
  },
  {
   "cell_type": "code",
   "execution_count": null,
   "metadata": {},
   "outputs": [],
   "source": []
  },
  {
   "cell_type": "code",
   "execution_count": null,
   "metadata": {},
   "outputs": [],
   "source": []
  },
  {
   "cell_type": "code",
   "execution_count": null,
   "metadata": {},
   "outputs": [],
   "source": []
  },
  {
   "cell_type": "code",
   "execution_count": 14,
   "metadata": {},
   "outputs": [
    {
     "name": "stderr",
     "output_type": "stream",
     "text": [
      "/home/ubuntu/anaconda3/lib/python3.7/site-packages/ipykernel_launcher.py:9: DeprecationWarning: count is deprecated. Use Collection.count_documents instead.\n",
      "  if __name__ == '__main__':\n"
     ]
    },
    {
     "data": {
      "text/plain": [
       "8"
      ]
     },
     "execution_count": 14,
     "metadata": {},
     "output_type": "execute_result"
    }
   ],
   "source": [
    "db_client[\"tweets_pipeline_v2\"].find({\"$or\":[\n",
    "#                                                     {\"status\": \"pipelined\"},                                                                                                                        \n",
    "                                                      {\"status\": \"validated\"},                                                       \n",
    "                                                 ],\n",
    "                                                   \"weakTag\": True,\n",
    "                                      \"source\": \"def\",\n",
    "                                                   \"extracted_text\": {\"$exists\": True},                                               \n",
    "#                                                'tweet_timestamp': {'$gte': datetime(2020,2,4)} #algoStarts                                              \n",
    "                                          }, no_cursor_timeout=True).count()"
   ]
  },
  {
   "cell_type": "code",
   "execution_count": null,
   "metadata": {},
   "outputs": [],
   "source": []
  },
  {
   "cell_type": "code",
   "execution_count": null,
   "metadata": {},
   "outputs": [],
   "source": []
  },
  {
   "cell_type": "code",
   "execution_count": null,
   "metadata": {},
   "outputs": [],
   "source": []
  },
  {
   "cell_type": "code",
   "execution_count": null,
   "metadata": {},
   "outputs": [],
   "source": []
  },
  {
   "cell_type": "code",
   "execution_count": null,
   "metadata": {},
   "outputs": [],
   "source": []
  },
  {
   "cell_type": "code",
   "execution_count": null,
   "metadata": {},
   "outputs": [],
   "source": []
  },
  {
   "cell_type": "code",
   "execution_count": null,
   "metadata": {},
   "outputs": [],
   "source": []
  },
  {
   "cell_type": "code",
   "execution_count": null,
   "metadata": {},
   "outputs": [],
   "source": []
  },
  {
   "cell_type": "code",
   "execution_count": null,
   "metadata": {},
   "outputs": [],
   "source": [
    "\"5ee4fb37339829b88d33c882\""
   ]
  },
  {
   "cell_type": "code",
   "execution_count": null,
   "metadata": {},
   "outputs": [],
   "source": [
    "5ee53cd1ca584e13db28b07a"
   ]
  },
  {
   "cell_type": "code",
   "execution_count": null,
   "metadata": {},
   "outputs": [],
   "source": []
  },
  {
   "cell_type": "code",
   "execution_count": 39,
   "metadata": {},
   "outputs": [
    {
     "name": "stderr",
     "output_type": "stream",
     "text": [
      "/home/ubuntu/anaconda3/lib/python3.7/site-packages/ipykernel_launcher.py:11: DeprecationWarning: count is deprecated. Use Collection.count_documents instead.\n",
      "  # This is added back by InteractiveShellApp.init_path()\n",
      "100%|██████████| 151/151 [00:00<00:00, 727.31it/s]"
     ]
    },
    {
     "name": "stdout",
     "output_type": "stream",
     "text": [
      "5df0032b28c250bc5ec492aa\n",
      "5dfb64d353a0ab58e3d8604c\n",
      "5dfb64e6131cdf9d830ab685\n",
      "5dfb64f7fd1ff25d9a8f51f3\n",
      "5dfb661f31f3fbd328868cdb\n",
      "5dfb67eba1a70d622e2195b4\n",
      "5dfb696a131cdf9d830ab843\n",
      "5dfb6a78bf2e0b3cf6ae9fa2\n",
      "5dfb6d481ca7a5db7fbe6308\n",
      "5dfb6eb951e9d21cd70ec5b7\n",
      "5dfb6ecbfc3996c4ce94e47f\n",
      "5dfb6f61fc3996c4ce94e496\n",
      "5dfb7006eefb05db161d4d43\n",
      "5dfb7009eefb05db161d4d4b\n",
      "5dfb70ed26947026f2298e57\n",
      "5dfb714453a0ab58e3d8645f\n",
      "5dfb73fd521d05797e7f5bda\n",
      "5dfb7405e37cc217ac91e26d\n",
      "5dfb744d26b6c18e8998868d\n",
      "5dfb7553d5b8219a13e7a1b6\n",
      "5dfb7596a1a70d622e2199c2\n",
      "5dfb78c9bf2e0b3cf6aea4cc\n",
      "5dfb7a8fb1fdc496a209b397\n",
      "5dfb7c12cab1313628500896\n",
      "5dfb7c6e26947026f22992c7\n",
      "5dfb7e9253a0ab58e3d868d8\n",
      "5dfb7ed453a0ab58e3d8690e\n",
      "5dfb7ee9a58cebdca7291493\n",
      "5dfb7f5990b37c797d4821cf\n",
      "5dfb7f5b90b37c797d4821d9\n",
      "5dfb7f8320afaad67ff250dd\n",
      "5dfb838e51e9d21cd70ecd25\n",
      "5dfb848e51e9d21cd70ecd88\n",
      "5dfb850ae8875662eea8099a\n",
      "5dfb85d820afaad67ff2524c\n",
      "5dfb8619e75f75b47f5ff810\n",
      "5dfb872ee75f75b47f5ff86a\n",
      "5dfb8935890c58587407cdf6\n",
      "5dfb8c00e37cc217ac91e9c2\n",
      "5dfb8c9426b6c18e89988e6d\n",
      "5dfb8e75bbbce6c379d4f15f\n",
      "5dfb8ee320afaad67ff25608\n",
      "5dfb8eff26947026f2299833\n",
      "5dfb91daeefb05db161d58a9\n",
      "5dfb91db51e9d21cd70ed1a9\n",
      "5dfb92ab31f3fbd328869c14\n",
      "5dfb975cbf2e0b3cf6aeb021\n",
      "5dfb97e553a0ab58e3d87056\n",
      "5dfb991a890c58587407d354\n",
      "5dfb9a3020afaad67ff2594c\n",
      "5dfb9c61e37cc217ac91eecf\n",
      "5dfb9c65e37cc217ac91eedc\n",
      "5dfba1256c1655c6f3d511e4\n",
      "5dfba16e20afaad67ff25b4e\n",
      "5dfba2d3b1fdc496a209c135\n",
      "5dfba3bc6c1655c6f3d512b1\n",
      "5dfba40ce8875662eea812bf\n",
      "5dfba40de8875662eea812c0\n",
      "5dfba459513ea04cb5818ac0\n",
      "5dfba49b521d05797e7f691f\n",
      "5dfba666b1fdc496a209c20b\n",
      "5dfba686890c58587407d780\n",
      "5dfba7b331f3fbd32886a22d\n",
      "5dfba9b951e9d21cd70ed7f4\n",
      "5dfbac5ed5b8219a13e7b236\n",
      "5dfbac62d5b8219a13e7b24c\n",
      "5dfbacc7fd1ff25d9a8f67da\n",
      "5dfbae70890c58587407da6b\n",
      "5dfbae72890c58587407da72\n",
      "5dfbb01c890c58587407dae5\n",
      "5dfbb37726947026f229a1fa\n",
      "5dfbb4f33299e003822b4619\n",
      "5dfbb6badb2ba2d27aa227b8\n",
      "5dfbb7e4e8875662eea8194b\n",
      "5dfbb82aeeece5cb78ecbe12\n",
      "5dfbb8ad7ce0ff01df13b971\n",
      "5dfbb95ae37cc217ac91f889\n",
      "5dfbba34e8875662eea81a43\n",
      "5dfbbdcea70263da31b25494\n",
      "5dfbbf873ddc87421667898e\n",
      "5dfbbff9b1fdc496a209c9bf\n",
      "5dfbc0fb31f3fbd32886aa83\n",
      "5dfbc218db2ba2d27aa22b4c\n",
      "5dfbc35fbbbce6c379d502ce\n",
      "5dfbc360bbbce6c379d502d1\n",
      "5dfbc36dbbbce6c379d50300\n",
      "5dfbc404e8570b19e80b5fb2\n",
      "5dfbc40b521d05797e7f73b2\n",
      "5dfbc418db2ba2d27aa22c01\n",
      "5dfbc718eeece5cb78ecc265\n",
      "5dfbc718eeece5cb78ecc266\n",
      "5dfbc886a70263da31b25834\n",
      "5dfbcb86db2ba2d27aa22df0\n",
      "5dfbcbfeeeece5cb78ecc419\n",
      "5dfbccaadb818e4cd3866e8c\n",
      "5dfbcf70a58cebdca7292cb6\n",
      "5dfbd05f26947026f229ab03\n",
      "5dfbd6a73299e003822b500b\n",
      "5dfbd79a73157c57b827c3e7\n",
      "5dfbe5dd521d05797e7f7b60\n",
      "5dfbe6547ce0ff01df13c50b\n",
      "5dfbe807a58cebdca729322d\n",
      "5dfbe80ba58cebdca729323b\n",
      "5dfbe80ba58cebdca729323c\n",
      "5dfbea4bb601c13c48eef667\n",
      "5dfbeb0fe8875662eea82847\n",
      "5dfbebeb3299e003822b55d9\n",
      "5dfbec53c68b4dfe7d1f04a8\n",
      "5dfbefebbf2e0b3cf6aec754\n",
      "5dfbeff0bf2e0b3cf6aec766\n",
      "5dfbf030e75f75b47f6016da\n",
      "5dfbf0a06e02145be6273a0a\n",
      "5dfbf164890c58587407edcc\n",
      "5dfbf4a620afaad67ff27545\n",
      "5dfbf7aed5b8219a13e7c8b2\n",
      "5dfbf8c3513ea04cb581a3cf\n",
      "5dfbf93f2c7ba0b8a0d4285b\n",
      "5dfbf9a3db818e4cd3867b0d\n",
      "5dfbf9f9bd9d69169e7dd137\n",
      "5dfbfa67bf2e0b3cf6aeca56\n",
      "5dfbfade540e13036dd1aacc\n",
      "5dfbfb8e9f007b135dc2a4bd\n",
      "5dfbfb8f9f007b135dc2a4c1\n",
      "5dfbfbd5aaa9751df2224b9f\n",
      "5dfbfd3daaa9751df2224c37\n",
      "5dfbfff626b6c18e8998afbc\n",
      "5dfc02fa513ea04cb581a679\n",
      "5dfc02fc513ea04cb581a67e\n",
      "5dfc02fd513ea04cb581a685\n",
      "5dfc0303513ea04cb581a696\n",
      "5dfc03afbf2e0b3cf6aeccc5\n",
      "5dfc0620db2ba2d27aa23c80\n",
      "5dfc0789521d05797e7f855d\n",
      "5dfc0893890c58587407f503\n",
      "5dfc0b8bb601c13c48ef0074\n",
      "5dfc0b9aa58cebdca7293c47\n",
      "5dfc0d5de8875662eea8311e\n",
      "5dfc0f28b601c13c48ef0187\n",
      "5dfc0f2ab601c13c48ef018e\n",
      "5dfc0f3bcab13136285035c2\n",
      "5dfc0f7ab601c13c48ef01ad\n",
      "5dfc0f89bd9d69169e7dd70d\n",
      "5dfc0f8abd9d69169e7dd710\n",
      "5dfc11f9c68b4dfe7d1f0ec8\n",
      "5dfc11f9c68b4dfe7d1f0eca\n",
      "5dfc11fac68b4dfe7d1f0ecc\n",
      "5dfc1bf63ddc87421667a281\n",
      "5dfc1c7bdb2ba2d27aa24282\n",
      "5dfc1d9acab1313628503a54\n",
      "5dfc3129bf2e0b3cf6aed7e1\n",
      "5dfc39d66e02145be6274cb2\n"
     ]
    },
    {
     "name": "stderr",
     "output_type": "stream",
     "text": [
      "\n"
     ]
    }
   ],
   "source": [
    "db = db_client[\"tweets_pipeline_v2\"].find({\"$or\":[\n",
    "#                                                     {\"status\": \"pipelined\"},                                                                                                                        \n",
    "                                                      {\"status\": \"validated\"},                                                       \n",
    "                                                 ],\n",
    "                                                   \"weakTag\": True,\n",
    "                                                   \"extracted_text\": {\"$exists\": True},                                               \n",
    "#                                                'tweet_timestamp': {'$gte': datetime(2020,2,4)} #algoStarts                                              \n",
    "                                          }, no_cursor_timeout=True)\n",
    "\n",
    "\n",
    "for i in tqdm(db, total = db.count()):\n",
    "    _id = str(i[\"_id\"])\n",
    "    print(_id)\n",
    "    db_client[\"tweets_pipeline_v2\"].update_one({\"_id\":bson.ObjectId(bson_id)},\n",
    "                                        {\"$set\":{\"status\": \"validated\",\n",
    "                                                 \"validated_timestamp\": datetime.now(),\n",
    "                                                 \"confirmed_after_validate\": new_list,\n",
    "                                                 'source': 'def',\n",
    "                                        }})"
   ]
  },
  {
   "cell_type": "code",
   "execution_count": null,
   "metadata": {},
   "outputs": [],
   "source": []
  },
  {
   "cell_type": "code",
   "execution_count": null,
   "metadata": {},
   "outputs": [],
   "source": []
  },
  {
   "cell_type": "code",
   "execution_count": null,
   "metadata": {},
   "outputs": [],
   "source": []
  },
  {
   "cell_type": "code",
   "execution_count": 43,
   "metadata": {},
   "outputs": [
    {
     "name": "stderr",
     "output_type": "stream",
     "text": [
      "/home/ubuntu/anaconda3/lib/python3.7/site-packages/ipykernel_launcher.py:9: DeprecationWarning: count is deprecated. Use Collection.count_documents instead.\n",
      "  if __name__ == '__main__':\n"
     ]
    },
    {
     "data": {
      "text/plain": [
       "0"
      ]
     },
     "execution_count": 43,
     "metadata": {},
     "output_type": "execute_result"
    }
   ],
   "source": [
    "db = db_client[\"tweets_pipeline_v2\"].find({\"$or\":[\n",
    "#                                                     {\"status\": \"pipelined\"},                                                                                                                        \n",
    "                                                      {\"status\": \"temporaly_reserved\"},                                                       \n",
    "                                                 ],\n",
    "                                                   \"weakTag\": True,\n",
    "                                                   \"extracted_text\": {\"$exists\": True},                                               \n",
    "#                                                'tweet_timestamp': {'$gte': datetime(2020,2,4)} #algoStarts                                              \n",
    "                                          }, no_cursor_timeout=True)\n",
    "db.count()"
   ]
  },
  {
   "cell_type": "code",
   "execution_count": null,
   "metadata": {},
   "outputs": [],
   "source": []
  },
  {
   "cell_type": "code",
   "execution_count": 22,
   "metadata": {},
   "outputs": [],
   "source": [
    "def to_temporaly_reserved(_id):\n",
    "    status_before = db_client[\"tweets_pipeline_v2\"].find_one({\"_id\":bson.ObjectId(_id)})[\"status\"]\n",
    "    \n",
    "    db_client[\"tweets_pipeline_v2\"].update_one({\"_id\":bson.ObjectId(_id)},\n",
    "                                    {\"$set\":{\"status\":\"temporaly_reserved\",\n",
    "                                            \"status_before\": status_before},\n",
    "                                    })"
   ]
  },
  {
   "cell_type": "code",
   "execution_count": 23,
   "metadata": {},
   "outputs": [
    {
     "name": "stderr",
     "output_type": "stream",
     "text": [
      "/home/ubuntu/anaconda3/lib/python3.7/site-packages/ipykernel_launcher.py:8: DeprecationWarning: count is deprecated. Use Collection.count_documents instead.\n",
      "  \n",
      "100%|██████████| 3127/3127 [02:59<00:00, 17.40it/s]\n"
     ]
    }
   ],
   "source": [
    "db = db_client[\"tweets_pipeline_v2\"].find({\"$or\": [{\"status\":\"pipelined\"},                                                        \n",
    "                                                      ],\n",
    "                                               },\n",
    "                                          \n",
    "                                         )\n",
    "\n",
    "# db.count()\n",
    "for i in tqdm(db, total = db.count()):\n",
    "    _id = str(i[\"_id\"])\n",
    "    to_temporaly_reserved(_id)"
   ]
  },
  {
   "cell_type": "code",
   "execution_count": null,
   "metadata": {},
   "outputs": [],
   "source": []
  },
  {
   "cell_type": "code",
   "execution_count": 11,
   "metadata": {},
   "outputs": [],
   "source": [
    "def to_reserved(_id):\n",
    "#     status_before = db_client[\"tweets_pipeline_v2\"].find_one({\"_id\":bson.ObjectId(_id)})[\"status\"]\n",
    "    \n",
    "    db_client[\"tweets_pipeline_v2\"].update_one({\"_id\":bson.ObjectId(_id)},\n",
    "                                    {\"$set\":{\"status\":\"reserved\"},\n",
    "                                    })"
   ]
  },
  {
   "cell_type": "code",
   "execution_count": 9,
   "metadata": {},
   "outputs": [],
   "source": [
    "def to_pipelined(_id):\n",
    "#     status_before = db_client[\"tweets_pipeline_v2\"].find_one({\"_id\":bson.ObjectId(_id)})[\"status\"]\n",
    "    \n",
    "    db_client[\"tweets_pipeline_v2\"].update_one({\"_id\":bson.ObjectId(_id)},\n",
    "                                    {\"$set\":{\"status\":\"pipelined\"},\n",
    "                                    })"
   ]
  },
  {
   "cell_type": "code",
   "execution_count": 13,
   "metadata": {},
   "outputs": [
    {
     "name": "stderr",
     "output_type": "stream",
     "text": [
      "/home/ubuntu/anaconda3/lib/python3.7/site-packages/ipykernel_launcher.py:8: DeprecationWarning: count is deprecated. Use Collection.count_documents instead.\n",
      "  \n",
      "100%|██████████| 3127/3127 [01:33<00:00, 33.47it/s]\n"
     ]
    }
   ],
   "source": [
    "db = db_client[\"tweets_pipeline_v2\"].find({\"$or\": [{\"status\":\"temporaly_reserved\"},                                                        \n",
    "                                                      ],\n",
    "                                               },\n",
    "                                          \n",
    "                                         )\n",
    "\n",
    "# db.count()\n",
    "for i in tqdm(db, total = db.count()):\n",
    "    _id = str(i[\"_id\"])\n",
    "    to_pipelined(_id)\n",
    "#     to_reserved(_id)"
   ]
  },
  {
   "cell_type": "code",
   "execution_count": null,
   "metadata": {},
   "outputs": [],
   "source": []
  },
  {
   "cell_type": "code",
   "execution_count": null,
   "metadata": {},
   "outputs": [],
   "source": []
  },
  {
   "cell_type": "code",
   "execution_count": null,
   "metadata": {},
   "outputs": [],
   "source": []
  },
  {
   "cell_type": "code",
   "execution_count": null,
   "metadata": {},
   "outputs": [],
   "source": []
  },
  {
   "cell_type": "code",
   "execution_count": 32,
   "metadata": {},
   "outputs": [
    {
     "data": {
      "text/plain": [
       "{'3d printing',\n",
       " '5g',\n",
       " 'advertising',\n",
       " 'ageing',\n",
       " 'agriculture',\n",
       " 'alcohol',\n",
       " 'app',\n",
       " 'apparel',\n",
       " 'art',\n",
       " 'artificial intelligence',\n",
       " 'augmented reality',\n",
       " 'auto loan',\n",
       " 'automotive',\n",
       " 'autonomous vehicles',\n",
       " 'aviation',\n",
       " 'banking',\n",
       " 'bankruptcy',\n",
       " 'batteries',\n",
       " 'bear market',\n",
       " 'billionaires',\n",
       " 'biofuel',\n",
       " 'biomass',\n",
       " 'biometrics',\n",
       " 'biotech',\n",
       " 'blockchain',\n",
       " 'bonds',\n",
       " 'books',\n",
       " 'boomers',\n",
       " 'bubble',\n",
       " 'building materials',\n",
       " 'bull market',\n",
       " 'buyback',\n",
       " 'cannabis',\n",
       " 'car sharing',\n",
       " 'cash',\n",
       " 'cashless',\n",
       " 'charity',\n",
       " 'chemical',\n",
       " 'children',\n",
       " 'cities',\n",
       " 'climate change',\n",
       " 'cloud',\n",
       " 'commodities',\n",
       " 'computers',\n",
       " 'construction & engineering',\n",
       " 'consumer',\n",
       " 'consumer discretionary',\n",
       " 'consumer products',\n",
       " 'consumer staples',\n",
       " 'cpi',\n",
       " 'credit',\n",
       " 'credit card',\n",
       " 'crimes',\n",
       " 'crisis',\n",
       " 'cryptocurrency',\n",
       " 'culture',\n",
       " 'currency',\n",
       " 'cyber security',\n",
       " 'death',\n",
       " 'debt',\n",
       " 'default',\n",
       " 'deficit',\n",
       " 'delivery',\n",
       " 'demography',\n",
       " 'developed markets',\n",
       " 'diabetes',\n",
       " 'digital',\n",
       " 'digital entertainment',\n",
       " 'digital health',\n",
       " 'digital media',\n",
       " 'disasters',\n",
       " 'disease',\n",
       " 'diseases',\n",
       " 'drugs',\n",
       " 'e-commerce',\n",
       " 'electric vehicles',\n",
       " 'electricity',\n",
       " 'electronics',\n",
       " 'emerging markets',\n",
       " 'emissions',\n",
       " 'employment',\n",
       " 'energy',\n",
       " 'entertainment',\n",
       " 'environment',\n",
       " 'equality',\n",
       " 'esg',\n",
       " 'export',\n",
       " 'fashion',\n",
       " 'film industry',\n",
       " 'financials',\n",
       " 'fish',\n",
       " 'fitness',\n",
       " 'fixed income',\n",
       " 'fmcg',\n",
       " 'football',\n",
       " 'foreign investment',\n",
       " 'fuel',\n",
       " 'funds',\n",
       " 'gaming',\n",
       " 'gasoline',\n",
       " 'gdp',\n",
       " 'gender',\n",
       " 'generation z',\n",
       " 'generations',\n",
       " 'genetics',\n",
       " 'geopolitics',\n",
       " 'geothermal',\n",
       " 'global',\n",
       " 'government',\n",
       " 'government bonds',\n",
       " 'government debt',\n",
       " 'guns',\n",
       " 'hardware',\n",
       " 'health',\n",
       " 'hedge funds',\n",
       " 'high yield',\n",
       " 'home & decor',\n",
       " 'hydro',\n",
       " 'import',\n",
       " 'imports',\n",
       " 'industrials',\n",
       " 'information technology',\n",
       " 'infrastructure',\n",
       " 'innovation',\n",
       " 'insider activity',\n",
       " 'insurance',\n",
       " 'intellectual property',\n",
       " 'interest rates',\n",
       " 'internet',\n",
       " 'iot',\n",
       " 'ipo',\n",
       " 'jewelry',\n",
       " 'jobless claims',\n",
       " 'labor',\n",
       " 'large caps',\n",
       " 'leisure',\n",
       " 'life expectancy',\n",
       " 'lifestyle',\n",
       " 'loan',\n",
       " 'logistics',\n",
       " 'luxury',\n",
       " 'm&a',\n",
       " 'machine learning',\n",
       " 'macro',\n",
       " 'manufacturing',\n",
       " 'marine',\n",
       " 'marketing',\n",
       " 'materials',\n",
       " 'meat',\n",
       " 'media',\n",
       " 'medicine',\n",
       " 'metals',\n",
       " 'mid caps',\n",
       " 'migration',\n",
       " 'military',\n",
       " 'millennials',\n",
       " 'mobile',\n",
       " 'mobile gaming',\n",
       " 'mobile payments',\n",
       " 'monetary policy',\n",
       " 'mortgage',\n",
       " 'music',\n",
       " 'non-manufacturing',\n",
       " 'nonfarm payrolls',\n",
       " 'nuclear power',\n",
       " 'obesity',\n",
       " 'oil',\n",
       " 'pandemic',\n",
       " 'pandemics',\n",
       " 'payments',\n",
       " 'personal finance',\n",
       " 'pharmaceutical industry',\n",
       " 'plastics',\n",
       " 'pmi',\n",
       " 'politics',\n",
       " 'population',\n",
       " 'poverty',\n",
       " 'ppi',\n",
       " 'private equity',\n",
       " 'psychology',\n",
       " 'quantitative easing',\n",
       " 'quantitative tightening',\n",
       " 'quantum computing',\n",
       " 'radio',\n",
       " 'real estate',\n",
       " 'recession',\n",
       " 'recycling',\n",
       " 'refugees',\n",
       " 'religion',\n",
       " 'renewables',\n",
       " 'restaurants',\n",
       " 'retail',\n",
       " 'retirement',\n",
       " 'robotics',\n",
       " 'savings',\n",
       " 'science',\n",
       " 'semiconductors',\n",
       " 'sentiment',\n",
       " 'services',\n",
       " 'sharing economy',\n",
       " 'shopping',\n",
       " 'small caps',\n",
       " 'smart speaker',\n",
       " 'smartphone',\n",
       " 'smartwatch',\n",
       " 'social',\n",
       " 'social justice',\n",
       " 'social media',\n",
       " 'software',\n",
       " 'solar energy',\n",
       " 'soybean',\n",
       " 'sports',\n",
       " 'startups',\n",
       " 'streaming',\n",
       " 'subscriptions',\n",
       " 'sustainability',\n",
       " 'tariffs',\n",
       " 'taxes',\n",
       " 'technology',\n",
       " 'teens',\n",
       " 'telecom',\n",
       " 'telemedicine',\n",
       " 'terrorism',\n",
       " 'tobacco',\n",
       " 'toys',\n",
       " 'trade',\n",
       " 'trade war',\n",
       " 'transportation',\n",
       " 'travel',\n",
       " 'tv',\n",
       " 'urbanization',\n",
       " 'utilities',\n",
       " 'vehicles',\n",
       " 'venture',\n",
       " 'virtual assistant',\n",
       " 'virtual reality',\n",
       " 'volatility',\n",
       " 'war',\n",
       " 'waste',\n",
       " 'water',\n",
       " 'wealth',\n",
       " 'wearables',\n",
       " 'wind power',\n",
       " 'wireless',\n",
       " 'woman'}"
      ]
     },
     "execution_count": 32,
     "metadata": {},
     "output_type": "execute_result"
    }
   ],
   "source": [
    "newTagSet = set(pd.read_excel(\"tags_check_fromentit.xlsx\", header=None)[0].values)\n",
    "newTagSet"
   ]
  },
  {
   "cell_type": "code",
   "execution_count": 40,
   "metadata": {},
   "outputs": [
    {
     "data": {
      "text/plain": [
       "{'3d printing',\n",
       " '5g',\n",
       " 'advertising',\n",
       " 'aerospace',\n",
       " 'ageing',\n",
       " 'agriculture',\n",
       " 'alcohol',\n",
       " 'app',\n",
       " 'apparel',\n",
       " 'art',\n",
       " 'artificial intelligence',\n",
       " 'augmented reality',\n",
       " 'auto loan',\n",
       " 'automotive',\n",
       " 'autonomous vehicles',\n",
       " 'aviation',\n",
       " 'banking',\n",
       " 'bankruptcy',\n",
       " 'batteries',\n",
       " 'bear market',\n",
       " 'biofuel',\n",
       " 'biomass',\n",
       " 'biometrics',\n",
       " 'biotech',\n",
       " 'blockchain',\n",
       " 'blue economy',\n",
       " 'bonds',\n",
       " 'books',\n",
       " 'boomers',\n",
       " 'brexit',\n",
       " 'bubble',\n",
       " 'building materials',\n",
       " 'bull market',\n",
       " 'buyback',\n",
       " 'cancer',\n",
       " 'car sharing',\n",
       " 'cash',\n",
       " 'cashless',\n",
       " 'charity',\n",
       " 'chemical',\n",
       " 'children',\n",
       " 'cities',\n",
       " 'climate change',\n",
       " 'cloud',\n",
       " 'commodities',\n",
       " 'computers',\n",
       " 'construction & engineering',\n",
       " 'consumer',\n",
       " 'consumer discretionary',\n",
       " 'consumer products',\n",
       " 'consumer staples',\n",
       " 'credit',\n",
       " 'credit card',\n",
       " 'crimes',\n",
       " 'crisis',\n",
       " 'crowdfunding',\n",
       " 'cryptocurrency',\n",
       " 'culture',\n",
       " 'currency',\n",
       " 'cyber security',\n",
       " 'data',\n",
       " 'death',\n",
       " 'debt',\n",
       " 'default',\n",
       " 'deficit',\n",
       " 'deflation',\n",
       " 'delivery',\n",
       " 'demography',\n",
       " 'developed markets',\n",
       " 'diabetes',\n",
       " 'digital',\n",
       " 'digital entertainment',\n",
       " 'digital health',\n",
       " 'digital media',\n",
       " 'disasters',\n",
       " 'disease',\n",
       " 'dividends',\n",
       " 'drones',\n",
       " 'drugs',\n",
       " 'e-commerce',\n",
       " 'ecology',\n",
       " 'education',\n",
       " 'electric vehicles',\n",
       " 'electricity',\n",
       " 'electronics',\n",
       " 'emerging markets',\n",
       " 'emissions',\n",
       " 'employment',\n",
       " 'energy',\n",
       " 'entertainment',\n",
       " 'environment',\n",
       " 'equality',\n",
       " 'esg',\n",
       " 'esports',\n",
       " 'etf',\n",
       " 'export',\n",
       " 'fashion',\n",
       " 'film industry',\n",
       " 'financials',\n",
       " 'fintech',\n",
       " 'fixed income',\n",
       " 'fmcg',\n",
       " 'football',\n",
       " 'foreign investment',\n",
       " 'fuel',\n",
       " 'funds',\n",
       " 'futures',\n",
       " 'gaming',\n",
       " 'gas',\n",
       " 'gdp',\n",
       " 'gender',\n",
       " 'generation x',\n",
       " 'generation z',\n",
       " 'generations',\n",
       " 'genetics',\n",
       " 'geopolitics',\n",
       " 'geothermal',\n",
       " 'global',\n",
       " 'government',\n",
       " 'government bonds',\n",
       " 'government debt',\n",
       " 'guns',\n",
       " 'hardware',\n",
       " 'health',\n",
       " 'hedge funds',\n",
       " 'high yield',\n",
       " 'home & decor',\n",
       " 'household',\n",
       " 'hydro',\n",
       " 'import',\n",
       " 'industrials',\n",
       " 'inflation',\n",
       " 'information technology',\n",
       " 'infrastructure',\n",
       " 'innovation',\n",
       " 'insider activity',\n",
       " 'insurance',\n",
       " 'intellectual property',\n",
       " 'interest rates',\n",
       " 'internet',\n",
       " 'iot',\n",
       " 'ipo',\n",
       " 'jewelry',\n",
       " 'labor',\n",
       " 'large caps',\n",
       " 'legal',\n",
       " 'leisure',\n",
       " 'life expectancy',\n",
       " 'lifestyle',\n",
       " 'loan',\n",
       " 'logistics',\n",
       " 'luxury',\n",
       " 'm&a',\n",
       " 'machine learning',\n",
       " 'macro',\n",
       " 'manufacturing',\n",
       " 'marine',\n",
       " 'marketing',\n",
       " 'materials',\n",
       " 'meat',\n",
       " 'media',\n",
       " 'medicine',\n",
       " 'metals',\n",
       " 'mid caps',\n",
       " 'migration',\n",
       " 'military',\n",
       " 'millennials',\n",
       " 'mining',\n",
       " 'mobile',\n",
       " 'mobile gaming',\n",
       " 'mobile payments',\n",
       " 'monetary policy',\n",
       " 'mortgage',\n",
       " 'music',\n",
       " 'nanotechnology',\n",
       " 'neuroscience',\n",
       " 'non-manufacturing',\n",
       " 'nonfarm payrolls',\n",
       " 'nuclear power',\n",
       " 'obesity',\n",
       " 'oil',\n",
       " 'packaging',\n",
       " 'pandemic',\n",
       " 'payments',\n",
       " 'pension funds',\n",
       " 'personal finance',\n",
       " 'pharmaceutical industry',\n",
       " 'plastics',\n",
       " 'politics',\n",
       " 'population',\n",
       " 'poverty',\n",
       " 'private equity',\n",
       " 'psychology',\n",
       " 'quantitative easing',\n",
       " 'quantitative tightening',\n",
       " 'quantum computing',\n",
       " 'radio',\n",
       " 'real estate',\n",
       " 'recession',\n",
       " 'recycling',\n",
       " 'refugees',\n",
       " 'religion',\n",
       " 'renewables',\n",
       " 'repo',\n",
       " 'restaurants',\n",
       " 'retail',\n",
       " 'retirement',\n",
       " 'robotics',\n",
       " 'saas',\n",
       " 'sanctions',\n",
       " 'savings',\n",
       " 'science',\n",
       " 'semiconductors',\n",
       " 'sentiment',\n",
       " 'services',\n",
       " 'sharing economy',\n",
       " 'shopping',\n",
       " 'small caps',\n",
       " 'smart home',\n",
       " 'smart speaker',\n",
       " 'smartphone',\n",
       " 'social',\n",
       " 'social justice',\n",
       " 'social media',\n",
       " 'software',\n",
       " 'solar energy',\n",
       " 'spin-off',\n",
       " 'sports',\n",
       " 'startups',\n",
       " 'streaming',\n",
       " 'student loan',\n",
       " 'subscriptions',\n",
       " 'sustainability',\n",
       " 'tariffs',\n",
       " 'taxes',\n",
       " 'technology',\n",
       " 'teens',\n",
       " 'telecom',\n",
       " 'telemedicine',\n",
       " 'terrorism',\n",
       " 'tobacco',\n",
       " 'trade',\n",
       " 'trade war',\n",
       " 'transportation',\n",
       " 'travel',\n",
       " 'tv',\n",
       " 'unicorns',\n",
       " 'urbanization',\n",
       " 'utilities',\n",
       " 'vegetarianism',\n",
       " 'vehicles',\n",
       " 'venture',\n",
       " 'virtual assistant',\n",
       " 'virtual reality',\n",
       " 'volatility',\n",
       " 'war',\n",
       " 'waste',\n",
       " 'water',\n",
       " 'wealth',\n",
       " 'wearables',\n",
       " 'wind power',\n",
       " 'wireless',\n",
       " 'woman'}"
      ]
     },
     "execution_count": 40,
     "metadata": {},
     "output_type": "execute_result"
    }
   ],
   "source": [
    "tags_categ = set(pd.read_excel(\"cat_tags_2.xlsx\")[0].values)\n",
    "tags_categ"
   ]
  },
  {
   "cell_type": "code",
   "execution_count": null,
   "metadata": {},
   "outputs": [],
   "source": []
  },
  {
   "cell_type": "code",
   "execution_count": null,
   "metadata": {},
   "outputs": [],
   "source": []
  },
  {
   "cell_type": "code",
   "execution_count": null,
   "metadata": {},
   "outputs": [],
   "source": []
  },
  {
   "cell_type": "code",
   "execution_count": null,
   "metadata": {},
   "outputs": [],
   "source": []
  },
  {
   "cell_type": "code",
   "execution_count": null,
   "metadata": {},
   "outputs": [],
   "source": []
  },
  {
   "cell_type": "code",
   "execution_count": null,
   "metadata": {},
   "outputs": [],
   "source": []
  },
  {
   "cell_type": "code",
   "execution_count": null,
   "metadata": {},
   "outputs": [],
   "source": []
  },
  {
   "cell_type": "code",
   "execution_count": null,
   "metadata": {},
   "outputs": [],
   "source": []
  },
  {
   "cell_type": "code",
   "execution_count": null,
   "metadata": {},
   "outputs": [],
   "source": []
  },
  {
   "cell_type": "code",
   "execution_count": null,
   "metadata": {},
   "outputs": [],
   "source": []
  },
  {
   "cell_type": "code",
   "execution_count": null,
   "metadata": {},
   "outputs": [],
   "source": []
  }
 ],
 "metadata": {
  "kernelspec": {
   "display_name": "Python 3",
   "language": "python",
   "name": "python3"
  },
  "language_info": {
   "codemirror_mode": {
    "name": "ipython",
    "version": 3
   },
   "file_extension": ".py",
   "mimetype": "text/x-python",
   "name": "python",
   "nbconvert_exporter": "python",
   "pygments_lexer": "ipython3",
   "version": "3.7.3"
  }
 },
 "nbformat": 4,
 "nbformat_minor": 4
}
